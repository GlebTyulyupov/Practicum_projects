{
 "cells": [
  {
   "cell_type": "markdown",
   "id": "e06910dd",
   "metadata": {
    "id": "e06910dd"
   },
   "source": [
    "# Анализ развития игровой индустрии с 2000 по 2013 год\n",
    "\n",
    "- Автор: Тюлюпов Глеб Игоревич\n",
    "- Дата: 28.03.2024"
   ]
  },
  {
   "cell_type": "markdown",
   "id": "4149134c",
   "metadata": {
    "id": "4149134c"
   },
   "source": [
    "### Цели и задачи проекта\n",
    "\n",
    "<font color='#777778'> Основной целью проекта является изучение развития игровой индустрии на основе датасета /datasets/new_games.csv, содержащего информацию о продажах игр разных жанров и платформ, а также пользовательские и экспертные оценки игр. Результаты исследования послужат основой для статьи-исследования о развитии индустрии игр в начале XXI века, при этом акцент в статье будет сделан на играх жанра RPG. \n",
    "    \n",
    "    В качестве задач проекта выступают:\n",
    "   * Ознакомление с данными;\n",
    "   * Проверка корреткности данных;\n",
    "   * Проведение предобработки данных;\n",
    "   * Получение необходимого среза данных, в том числе категоризация данных.\n",
    "      </font>"
   ]
  },
  {
   "cell_type": "markdown",
   "id": "4fecaf95",
   "metadata": {
    "id": "4fecaf95"
   },
   "source": [
    "### Содержимое проекта\n",
    "\n",
    "<font color='#777778'>Проект содержит следующие основные шаги:\n",
    "1. Загрузка и знакомство с данными\n",
    "2. Проверка ошибок в данных и их предобработка\n",
    "3. Фильтрация данных\n",
    "4. Категоризация данных </font>\n",
    "\n",
    "---"
   ]
  },
  {
   "cell_type": "markdown",
   "id": "6f7d21d6",
   "metadata": {
    "id": "6f7d21d6"
   },
   "source": [
    "## 1. Загрузка данных и знакомство с ними\n",
    "\n",
    "**Проведём загрузку и знакомоство с данными**\n",
    "\n",
    "Загружаем необходимые библиотеки Python и данные датасета.\n"
   ]
  },
  {
   "cell_type": "code",
   "execution_count": 1,
   "id": "11ad1032",
   "metadata": {
    "id": "ebb66dc5"
   },
   "outputs": [],
   "source": [
    "# Импортируем библиотеку pandas\n",
    "import pandas as pd"
   ]
  },
  {
   "cell_type": "code",
   "execution_count": 2,
   "id": "ce87c1db",
   "metadata": {
    "id": "ce87c1db"
   },
   "outputs": [],
   "source": [
    "# Выгружаем данные из датасета /datasets/new_games.csv в датафрейм games\n",
    "games=pd.read_csv('/datasets/new_games.csv')"
   ]
  },
  {
   "cell_type": "markdown",
   "id": "e0a8705f",
   "metadata": {
    "id": "e0a8705f"
   },
   "source": [
    "Проведём знакомство с данными: выведем первые строки и результат метода `info()`.\n"
   ]
  },
  {
   "cell_type": "code",
   "execution_count": 3,
   "id": "d7c8eb4b",
   "metadata": {
    "id": "d7c8eb4b",
    "scrolled": true
   },
   "outputs": [
    {
     "name": "stdout",
     "output_type": "stream",
     "text": [
      "<class 'pandas.core.frame.DataFrame'>\n",
      "RangeIndex: 16956 entries, 0 to 16955\n",
      "Data columns (total 11 columns):\n",
      " #   Column           Non-Null Count  Dtype  \n",
      "---  ------           --------------  -----  \n",
      " 0   Name             16954 non-null  object \n",
      " 1   Platform         16956 non-null  object \n",
      " 2   Year of Release  16681 non-null  float64\n",
      " 3   Genre            16954 non-null  object \n",
      " 4   NA sales         16956 non-null  float64\n",
      " 5   EU sales         16956 non-null  object \n",
      " 6   JP sales         16956 non-null  object \n",
      " 7   Other sales      16956 non-null  float64\n",
      " 8   Critic Score     8242 non-null   float64\n",
      " 9   User Score       10152 non-null  object \n",
      " 10  Rating           10085 non-null  object \n",
      "dtypes: float64(4), object(7)\n",
      "memory usage: 1.4+ MB\n"
     ]
    }
   ],
   "source": [
    "# Выведем информацию о датафрейме\n",
    "games.info()"
   ]
  },
  {
   "cell_type": "code",
   "execution_count": 4,
   "id": "fc561cac",
   "metadata": {
    "id": "fc561cac"
   },
   "outputs": [
    {
     "data": {
      "text/html": [
       "<div>\n",
       "<style scoped>\n",
       "    .dataframe tbody tr th:only-of-type {\n",
       "        vertical-align: middle;\n",
       "    }\n",
       "\n",
       "    .dataframe tbody tr th {\n",
       "        vertical-align: top;\n",
       "    }\n",
       "\n",
       "    .dataframe thead th {\n",
       "        text-align: right;\n",
       "    }\n",
       "</style>\n",
       "<table border=\"1\" class=\"dataframe\">\n",
       "  <thead>\n",
       "    <tr style=\"text-align: right;\">\n",
       "      <th></th>\n",
       "      <th>Name</th>\n",
       "      <th>Platform</th>\n",
       "      <th>Year of Release</th>\n",
       "      <th>Genre</th>\n",
       "      <th>NA sales</th>\n",
       "      <th>EU sales</th>\n",
       "      <th>JP sales</th>\n",
       "      <th>Other sales</th>\n",
       "      <th>Critic Score</th>\n",
       "      <th>User Score</th>\n",
       "      <th>Rating</th>\n",
       "    </tr>\n",
       "  </thead>\n",
       "  <tbody>\n",
       "    <tr>\n",
       "      <th>0</th>\n",
       "      <td>Wii Sports</td>\n",
       "      <td>Wii</td>\n",
       "      <td>2006.0</td>\n",
       "      <td>Sports</td>\n",
       "      <td>41.36</td>\n",
       "      <td>28.96</td>\n",
       "      <td>3.77</td>\n",
       "      <td>8.45</td>\n",
       "      <td>76.0</td>\n",
       "      <td>8</td>\n",
       "      <td>E</td>\n",
       "    </tr>\n",
       "    <tr>\n",
       "      <th>1</th>\n",
       "      <td>Super Mario Bros.</td>\n",
       "      <td>NES</td>\n",
       "      <td>1985.0</td>\n",
       "      <td>Platform</td>\n",
       "      <td>29.08</td>\n",
       "      <td>3.58</td>\n",
       "      <td>6.81</td>\n",
       "      <td>0.77</td>\n",
       "      <td>NaN</td>\n",
       "      <td>NaN</td>\n",
       "      <td>NaN</td>\n",
       "    </tr>\n",
       "    <tr>\n",
       "      <th>2</th>\n",
       "      <td>Mario Kart Wii</td>\n",
       "      <td>Wii</td>\n",
       "      <td>2008.0</td>\n",
       "      <td>Racing</td>\n",
       "      <td>15.68</td>\n",
       "      <td>12.76</td>\n",
       "      <td>3.79</td>\n",
       "      <td>3.29</td>\n",
       "      <td>82.0</td>\n",
       "      <td>8.3</td>\n",
       "      <td>E</td>\n",
       "    </tr>\n",
       "    <tr>\n",
       "      <th>3</th>\n",
       "      <td>Wii Sports Resort</td>\n",
       "      <td>Wii</td>\n",
       "      <td>2009.0</td>\n",
       "      <td>Sports</td>\n",
       "      <td>15.61</td>\n",
       "      <td>10.93</td>\n",
       "      <td>3.28</td>\n",
       "      <td>2.95</td>\n",
       "      <td>80.0</td>\n",
       "      <td>8</td>\n",
       "      <td>E</td>\n",
       "    </tr>\n",
       "    <tr>\n",
       "      <th>4</th>\n",
       "      <td>Pokemon Red/Pokemon Blue</td>\n",
       "      <td>GB</td>\n",
       "      <td>1996.0</td>\n",
       "      <td>Role-Playing</td>\n",
       "      <td>11.27</td>\n",
       "      <td>8.89</td>\n",
       "      <td>10.22</td>\n",
       "      <td>1.00</td>\n",
       "      <td>NaN</td>\n",
       "      <td>NaN</td>\n",
       "      <td>NaN</td>\n",
       "    </tr>\n",
       "  </tbody>\n",
       "</table>\n",
       "</div>"
      ],
      "text/plain": [
       "                       Name Platform  Year of Release         Genre  NA sales  \\\n",
       "0                Wii Sports      Wii           2006.0        Sports     41.36   \n",
       "1         Super Mario Bros.      NES           1985.0      Platform     29.08   \n",
       "2            Mario Kart Wii      Wii           2008.0        Racing     15.68   \n",
       "3         Wii Sports Resort      Wii           2009.0        Sports     15.61   \n",
       "4  Pokemon Red/Pokemon Blue       GB           1996.0  Role-Playing     11.27   \n",
       "\n",
       "  EU sales JP sales  Other sales  Critic Score User Score Rating  \n",
       "0    28.96     3.77         8.45          76.0          8      E  \n",
       "1     3.58     6.81         0.77           NaN        NaN    NaN  \n",
       "2    12.76     3.79         3.29          82.0        8.3      E  \n",
       "3    10.93     3.28         2.95          80.0          8      E  \n",
       "4     8.89    10.22         1.00           NaN        NaN    NaN  "
      ]
     },
     "execution_count": 4,
     "metadata": {},
     "output_type": "execute_result"
    }
   ],
   "source": [
    "#Выведем первые 5 строк датафрейма games\n",
    "games.head() "
   ]
  },
  {
   "cell_type": "markdown",
   "id": "61da1470",
   "metadata": {},
   "source": [
    "Проверим, содержит ли столбец Critic Score значения с дробной частью, для определения возможности перевода формата столбца к int64:"
   ]
  },
  {
   "cell_type": "code",
   "execution_count": 5,
   "id": "51ceb541",
   "metadata": {},
   "outputs": [
    {
     "data": {
      "text/plain": [
       "0.0"
      ]
     },
     "execution_count": 5,
     "metadata": {},
     "output_type": "execute_result"
    }
   ],
   "source": [
    "games['Critic Score'].sum().astype('int64')-games['Critic Score'].sum()"
   ]
  },
  {
   "cell_type": "markdown",
   "id": "fb967748",
   "metadata": {},
   "source": [
    "Выведем количество пропусков в датасете в каждом столбце с помощью метода isna():"
   ]
  },
  {
   "cell_type": "code",
   "execution_count": 6,
   "id": "268acc1e",
   "metadata": {},
   "outputs": [
    {
     "data": {
      "text/plain": [
       "Name                  2\n",
       "Platform              0\n",
       "Year of Release     275\n",
       "Genre                 2\n",
       "NA sales              0\n",
       "EU sales              0\n",
       "JP sales              0\n",
       "Other sales           0\n",
       "Critic Score       8714\n",
       "User Score         6804\n",
       "Rating             6871\n",
       "dtype: int64"
      ]
     },
     "execution_count": 6,
     "metadata": {},
     "output_type": "execute_result"
    }
   ],
   "source": [
    "#Выведем количество пропусков в каждом столбце\n",
    "games.isna().sum()"
   ]
  },
  {
   "cell_type": "markdown",
   "id": "c2e8dea7",
   "metadata": {
    "id": "81651b8d"
   },
   "source": [
    "Датасет new_games.csv содержит 11 столбцов и 16956 строк, в которых представлена информация о продажах игр разных жанров и платформ, а также пользовательские и экспертные оценки игр.\n",
    "Изучим типы данных и их корректность:\n",
    "* Числовые значения с плавающей запятой (float64). Четыре столбца имеют тип данных float64. Среди них: Year of Release, NA sales, Other sales, Critic Score.\n",
    "Для столбцов NA sales, Other sales данный формат является корректным, т.к. данные о продажах представлены в миллионах копий и, следовательно, могут содержать дробные значения. Столбец Critic Score можно перевести в тип int64, т.к. значения в столбцах не содержат дробную часть. Столбец Year of Release лучше привести к формату int64, т.к. значения в столбце также не содержат дробной части. \n",
    "* Строковые данные (object). Семь столбцов имеют тип данных object:\n",
    "    - Name, Platform и Genre содержат строковую информацию (название игры, название платформы, жанр игры), что логично для текстовых данных. Здесь тип данных object подходит.\n",
    "    - EU sales, JP sales и User Score хранят о продаже игр в Европе и Японии, а также оценки пользователей. Для таких данных рекомендуется использовать тип float64, поскольку данные в этих столбцах содержат дробную часть. Замена формата позволит проводить агрегацию с данными, упростит категоризацию и фильтрацию данных. Также для данных столбцов можно уменьшить разрядность до float32.\n",
    "    - Rating содержит сведения о возрастной категории игры в соответствии с рейтингом организации ESRB. Столбец также хранит текстовые данные, но их можно рассматривать как категориальные признаки. В этом случае можно использовать тип category, чтобы улучшить производительность и оптимизировать память, если набор значений ограничен и заведомо известен.\n",
    "    \n",
    "Всего в датасете содержится 16956 строк. Пропуски не содержатся в столбцах:\n",
    "   - Platform;\n",
    "   - NA sales;\n",
    "   - EU sales;\n",
    "   - JP sales;\n",
    "   - Other sales.\n",
    "    \n",
    "   Название игры Name и название жанра не указано в двух записях. Год выпуска игры не указан в 275 записях, оценки критиков отсутствуют почти в половине всех строк. Оценки пользователей не указаны в 6804 случаях, возрастной рейтинг - в 6871."
   ]
  },
  {
   "cell_type": "markdown",
   "id": "774bf76e",
   "metadata": {
    "id": "774bf76e"
   },
   "source": [
    "---\n",
    "\n",
    "## 2.  Проверка ошибок в данных и их предобработка\n",
    "\n",
    "\n",
    "### 2.1. Названия, или метки, столбцов датафрейма\n",
    "\n",
    "**Провёдм анализ и коректировку формата названий столбцов датафрейма**"
   ]
  },
  {
   "cell_type": "markdown",
   "id": "2ee0c70a",
   "metadata": {},
   "source": [
    "Выведем на экран названия всех столбцов: "
   ]
  },
  {
   "cell_type": "code",
   "execution_count": 7,
   "id": "b9276a2b",
   "metadata": {
    "id": "b9276a2b"
   },
   "outputs": [
    {
     "data": {
      "text/plain": [
       "Index(['Name', 'Platform', 'Year of Release', 'Genre', 'NA sales', 'EU sales',\n",
       "       'JP sales', 'Other sales', 'Critic Score', 'User Score', 'Rating'],\n",
       "      dtype='object')"
      ]
     },
     "execution_count": 7,
     "metadata": {},
     "output_type": "execute_result"
    }
   ],
   "source": [
    "#Выведем названия столбцов датафрейма\n",
    "games.columns"
   ]
  },
  {
   "cell_type": "markdown",
   "id": "c44bb98e",
   "metadata": {},
   "source": [
    "Приведём все столбцы к стилю snake case:"
   ]
  },
  {
   "cell_type": "code",
   "execution_count": 8,
   "id": "d554563c",
   "metadata": {
    "id": "d554563c"
   },
   "outputs": [],
   "source": [
    "#Приведём названия столбцов к нижнему регистру\n",
    "games.columns=games.columns.str.lower()\n",
    "#Заменим пробелы в названиях на '_'\n",
    "games.columns=games.columns.str.replace(' ', '_')"
   ]
  },
  {
   "cell_type": "markdown",
   "id": "d6fdb042",
   "metadata": {},
   "source": [
    "Выведем результат выполненных преобразований:"
   ]
  },
  {
   "cell_type": "code",
   "execution_count": 9,
   "id": "87b573dd",
   "metadata": {
    "id": "87b573dd"
   },
   "outputs": [
    {
     "data": {
      "text/plain": [
       "Index(['name', 'platform', 'year_of_release', 'genre', 'na_sales', 'eu_sales',\n",
       "       'jp_sales', 'other_sales', 'critic_score', 'user_score', 'rating'],\n",
       "      dtype='object')"
      ]
     },
     "execution_count": 9,
     "metadata": {},
     "output_type": "execute_result"
    }
   ],
   "source": [
    "#Выведем скорректированные названия столбцов\n",
    "games.columns"
   ]
  },
  {
   "cell_type": "markdown",
   "id": "41bc6bf8",
   "metadata": {
    "id": "41bc6bf8"
   },
   "source": [
    "### 2.2. Типы данных\n",
    "\n",
    "**Проведём анализ и преобразование типов данных**"
   ]
  },
  {
   "cell_type": "markdown",
   "id": "530998a3",
   "metadata": {
    "id": "e8412c01"
   },
   "source": [
    "Столбцы eu_sales, jp_sales и user_score в данный момент имеют тип данных object, что может быть связано с тем, что часть строк содержит строковые значения 'unknown' и 'tbd'. Имеет смысл привести данные столбцы к формату float64 с дальнейшим уменьшением разрядности до float32, т.к. данные столбцы содержат числовые значения с дробной частью. Перед этим необходимо заменить строки, содержащие строковые значения, (такие как 'unknown') на пропуски."
   ]
  },
  {
   "cell_type": "code",
   "execution_count": 10,
   "id": "34d38fea",
   "metadata": {},
   "outputs": [
    {
     "data": {
      "text/plain": [
       "name                object\n",
       "platform            object\n",
       "year_of_release    float64\n",
       "genre               object\n",
       "na_sales           float64\n",
       "eu_sales            object\n",
       "jp_sales            object\n",
       "other_sales        float64\n",
       "critic_score       float64\n",
       "user_score          object\n",
       "rating              object\n",
       "dtype: object"
      ]
     },
     "execution_count": 10,
     "metadata": {},
     "output_type": "execute_result"
    }
   ],
   "source": [
    "#Выведем типы данных для столбцов датасета\n",
    "games.dtypes"
   ]
  },
  {
   "cell_type": "code",
   "execution_count": 11,
   "id": "273dcfcc",
   "metadata": {},
   "outputs": [],
   "source": [
    "#Заменим значение 'unknown' на пропуски для столбцов eu_sales и jp_sales\n",
    "games[['eu_sales','jp_sales']]=games[['eu_sales','jp_sales']].replace('unknown', 'Nan')"
   ]
  },
  {
   "cell_type": "code",
   "execution_count": 12,
   "id": "5033ee32",
   "metadata": {
    "id": "5033ee32"
   },
   "outputs": [],
   "source": [
    "#Скорректируем тип данных на float 64 для столбцов eu_sales и jp_sales\n",
    "games[['eu_sales','jp_sales']]=games[['eu_sales','jp_sales']].astype('float64')"
   ]
  },
  {
   "cell_type": "code",
   "execution_count": 13,
   "id": "3a26fb26",
   "metadata": {
    "id": "3a26fb26"
   },
   "outputs": [
    {
     "data": {
      "text/plain": [
       "tbd    2464\n",
       "7.8     329\n",
       "8       292\n",
       "8.2     282\n",
       "8.3     257\n",
       "       ... \n",
       "1.5       2\n",
       "9.6       2\n",
       "1         2\n",
       "0         1\n",
       "9.7       1\n",
       "Name: user_score, Length: 96, dtype: int64"
      ]
     },
     "execution_count": 13,
     "metadata": {},
     "output_type": "execute_result"
    }
   ],
   "source": [
    "#Выведем уникальные значения для столбца user_score для поиска строковых значений\n",
    "games['user_score'].value_counts()"
   ]
  },
  {
   "cell_type": "code",
   "execution_count": 14,
   "id": "11003d69",
   "metadata": {
    "id": "11003d69"
   },
   "outputs": [],
   "source": [
    "#Заменим строковое значение 'tbd' на пропуски\n",
    "games['user_score']=games['user_score'].replace('tbd', 'Nan')"
   ]
  },
  {
   "cell_type": "code",
   "execution_count": 15,
   "id": "b6bff8e2",
   "metadata": {},
   "outputs": [],
   "source": [
    "#Преобразуем данные столбца user_score к формату 'float64'\n",
    "games['user_score']=games['user_score'].astype('float64')"
   ]
  },
  {
   "cell_type": "code",
   "execution_count": 16,
   "id": "4c0a4e43",
   "metadata": {},
   "outputs": [],
   "source": [
    "#Понизим разрядноть для столбцов eu_sales, jp_sales и user_score\n",
    "games['eu_sales'] = pd.to_numeric(games['eu_sales'], downcast='float')\n",
    "games['jp_sales'] = pd.to_numeric(games['jp_sales'], downcast='float')\n",
    "games['user_score'] = pd.to_numeric(games['user_score'], downcast='float')"
   ]
  },
  {
   "cell_type": "markdown",
   "id": "acd7494b",
   "metadata": {},
   "source": [
    "Столбец year_of_release лучше привести к формату int64, т.к. значения в столбце также не содержат дробной части. Кроме этого можно уменьшить разрядность для данного столбца. Поскольку столбец содержит пустые значения, для изменения формата на int64 необходимо заменить пустые значения. В данном случае заменим пустые значения на 0. Данный индикатор является подходящим т.к. в дальнейшем предстоит анализ игр, код выпуска которых находится в интервале с 2000 по 2013 год, в свяи с чем индикатор 0 не повлияет выгрузку данных."
   ]
  },
  {
   "cell_type": "code",
   "execution_count": 17,
   "id": "495ae9cc",
   "metadata": {},
   "outputs": [],
   "source": [
    "#Заменим пропуски в столбце year_of_release на 0\n",
    "games['year_of_release']=games['year_of_release'].fillna(0)"
   ]
  },
  {
   "cell_type": "code",
   "execution_count": 18,
   "id": "4bea0571",
   "metadata": {},
   "outputs": [],
   "source": [
    "#Преобразуем данные столбца year_of_release к формату 'int64'\n",
    "games['year_of_release']=games['year_of_release'].astype('int64')"
   ]
  },
  {
   "cell_type": "code",
   "execution_count": 19,
   "id": "70174077",
   "metadata": {},
   "outputs": [],
   "source": [
    "#Понизим разрядноть для столбца year_of_release\n",
    "games['year_of_release'] = pd.to_numeric(games['year_of_release'], downcast='integer')"
   ]
  },
  {
   "cell_type": "markdown",
   "id": "b4e36f76",
   "metadata": {},
   "source": [
    "Столбец critic_score можно перевести в тип int64, т.к. значения в столбцах не содержат дробную часть. Также для данного столбца можно уменьшить разрядность. Заменим пустые значения на -1. Данный индикатор является оптимальным т.к. в дальнейшем предстоит категоризация игр в зависимости от оценок, значение которых не может быть отрицательным."
   ]
  },
  {
   "cell_type": "code",
   "execution_count": 20,
   "id": "7cbf25d5",
   "metadata": {},
   "outputs": [],
   "source": [
    "#Заменим пропуски в столбце critic_score на -1\n",
    "games['critic_score']=games['critic_score'].fillna(-1)"
   ]
  },
  {
   "cell_type": "code",
   "execution_count": 21,
   "id": "5732aa2f",
   "metadata": {},
   "outputs": [],
   "source": [
    "#Преобразуем данные столбца critic_score к формату 'int64'\n",
    "games['critic_score']=games['critic_score'].astype('int64')"
   ]
  },
  {
   "cell_type": "code",
   "execution_count": 22,
   "id": "28e62fca",
   "metadata": {},
   "outputs": [],
   "source": [
    "#Понизим разрядноть для столбца year_of_release\n",
    "games['critic_score'] = pd.to_numeric(games['critic_score'], downcast='integer')"
   ]
  },
  {
   "cell_type": "markdown",
   "id": "d0b168cf",
   "metadata": {},
   "source": [
    "Столбец rating хранит текстовые данные, но их можно рассматривать как категориальные признаки. Для этого  можно использовать тип category, чтобы улучшить производительность и оптимизировать память:"
   ]
  },
  {
   "cell_type": "code",
   "execution_count": 23,
   "id": "aa274703",
   "metadata": {},
   "outputs": [],
   "source": [
    "#Преобразуем данные столбца rating к формату 'category'\n",
    "games['rating']=games['rating'].astype('category')"
   ]
  },
  {
   "cell_type": "markdown",
   "id": "765665a2",
   "metadata": {},
   "source": [
    "Для столбцов na_sales, other_sales можно понизить разрядность для экономии памяти и повышения скорости работы:"
   ]
  },
  {
   "cell_type": "code",
   "execution_count": 24,
   "id": "a227934d",
   "metadata": {},
   "outputs": [],
   "source": [
    "#Понизим разрядность для столбцов na_sales и other_sales\n",
    "games['na_sales'] = pd.to_numeric(games['na_sales'], downcast='float')\n",
    "games['other_sales'] = pd.to_numeric(games['other_sales'], downcast='float')"
   ]
  },
  {
   "cell_type": "markdown",
   "id": "893c79c2",
   "metadata": {},
   "source": [
    "Выведем информацию о датасете с учётом изменений:"
   ]
  },
  {
   "cell_type": "code",
   "execution_count": 25,
   "id": "ad723665",
   "metadata": {},
   "outputs": [
    {
     "name": "stdout",
     "output_type": "stream",
     "text": [
      "<class 'pandas.core.frame.DataFrame'>\n",
      "RangeIndex: 16956 entries, 0 to 16955\n",
      "Data columns (total 11 columns):\n",
      " #   Column           Non-Null Count  Dtype   \n",
      "---  ------           --------------  -----   \n",
      " 0   name             16954 non-null  object  \n",
      " 1   platform         16956 non-null  object  \n",
      " 2   year_of_release  16956 non-null  int16   \n",
      " 3   genre            16954 non-null  object  \n",
      " 4   na_sales         16956 non-null  float32 \n",
      " 5   eu_sales         16950 non-null  float32 \n",
      " 6   jp_sales         16952 non-null  float32 \n",
      " 7   other_sales      16956 non-null  float32 \n",
      " 8   critic_score     16956 non-null  int8    \n",
      " 9   user_score       7688 non-null   float32 \n",
      " 10  rating           10085 non-null  category\n",
      "dtypes: category(1), float32(5), int16(1), int8(1), object(3)\n",
      "memory usage: 795.3+ KB\n"
     ]
    }
   ],
   "source": [
    "games.info()"
   ]
  },
  {
   "cell_type": "markdown",
   "id": "c88a06ee",
   "metadata": {},
   "source": [
    "В результате изменений в обновлённой версии датасета 5 столбцов имеют формат float32, в том числе:\n",
    " * na_sales;\n",
    " * eu_sales;\n",
    " * jp_sales;\n",
    " * other_sales;\n",
    " * user_score.\n",
    " \n",
    "Данные столбцы содержит дробную часть, поэтому формат float32 является для них оптимальным.\n",
    "\n",
    "Столбец year_of_release имеет формат int16, что является оптимальным, т.к. значения в столбце не выходят за границы диапазона -32 768...32 767.\n",
    "\n",
    "Столбец critic_score имеет формат int8, что также является оптимальным, т.к. значения оценок находятся в диапазоне от 0 до 100.\n",
    "\n",
    "Для столбцов name, platform, genre формат остался неизменным.\n",
    "\n",
    "Столбец rating стал содержать информацию в формате category, т.к. в данном столбце хранится ограниченный список значений-категорий.\n"
   ]
  },
  {
   "cell_type": "markdown",
   "id": "b39893cb",
   "metadata": {
    "id": "b39893cb"
   },
   "source": [
    "### 2.3. Наличие пропусков в данных\n",
    "\n",
    "**Посчитаем количество пропусков в каждом столбце в абсолютных и относительных значениях.**\n"
   ]
  },
  {
   "cell_type": "markdown",
   "id": "4732f4bd",
   "metadata": {},
   "source": [
    "Для столбцов year_of_release и critic_score пропуски были заменены на индикаторы в предыдущем подразделе."
   ]
  },
  {
   "cell_type": "markdown",
   "id": "1a7ea695",
   "metadata": {},
   "source": [
    "Рассчитаем количество пропусков абсолютном значении:"
   ]
  },
  {
   "cell_type": "code",
   "execution_count": 26,
   "id": "0f1c91a8",
   "metadata": {
    "id": "0f1c91a8"
   },
   "outputs": [
    {
     "data": {
      "text/plain": [
       "name                  2\n",
       "platform              0\n",
       "year_of_release       0\n",
       "genre                 2\n",
       "na_sales              0\n",
       "eu_sales              6\n",
       "jp_sales              4\n",
       "other_sales           0\n",
       "critic_score          0\n",
       "user_score         9268\n",
       "rating             6871\n",
       "dtype: int64"
      ]
     },
     "execution_count": 26,
     "metadata": {},
     "output_type": "execute_result"
    }
   ],
   "source": [
    "#Выведем количество пропусков\n",
    "games.isna().sum()"
   ]
  },
  {
   "cell_type": "markdown",
   "id": "3403a60d",
   "metadata": {},
   "source": [
    "Рассчитаем количество пропусков относительном значении:"
   ]
  },
  {
   "cell_type": "code",
   "execution_count": 27,
   "id": "86cd1cc1",
   "metadata": {
    "id": "86cd1cc1"
   },
   "outputs": [
    {
     "data": {
      "text/plain": [
       "name                0.011795\n",
       "platform            0.000000\n",
       "year_of_release     0.000000\n",
       "genre               0.011795\n",
       "na_sales            0.000000\n",
       "eu_sales            0.035386\n",
       "jp_sales            0.023590\n",
       "other_sales         0.000000\n",
       "critic_score        0.000000\n",
       "user_score         54.659118\n",
       "rating             40.522529\n",
       "dtype: float64"
      ]
     },
     "execution_count": 27,
     "metadata": {},
     "output_type": "execute_result"
    }
   ],
   "source": [
    "#Выведем количество пропусков в относительном значении\n",
    "games.isna().sum() / len(games) * 100 "
   ]
  },
  {
   "cell_type": "markdown",
   "id": "212312b8",
   "metadata": {
    "id": "bd69e642"
   },
   "source": [
    "Пропуски отсутствуют для столбцов:\n",
    "* platform;\n",
    "* na_sales;\n",
    "* other_sales.\n",
    "\n",
    "Для столбца name выявлено два пропуска. Отсутствие названия игры может быть связано с технической ошибкой. Поскольку в столбце содержится строковая информация, пропуски можно заменить пустой строкой.\n",
    "\n",
    "Для столбца genre также выявлено два пропуска, что также может быть связано с технической ошибкой или невозможностью определить жанр игры. Поскольку в столбце  также содержится строковая информация, пропуски можно заменить пустой строкой.\n",
    "\n",
    "Для столбцов eu_sales и jp_sales выявлено 6 и 4 пропуска, что может быть связано с отсутствием информации о продажах в данных регионах. Пропуски в данных столбцах можно заменить с помощью функции apply исходя из платформы и года выпуска игры.\n",
    "\n",
    "Для столбца user_score выявлено 54,66% пропусков, что может быть связано с отсутствием подсчёта пользовательского рейтинга до определённого года или низкой популярности игры. Пропуски можно заменить с помощью функции apply исходя из платформы и объёма продаж в  разных регионах.\n",
    "\n",
    "Высокий процент пропусков в столбце rating с высокой долей вероятности связан с тем, что рейтинг организации ESRB быд принят только в 1994 году. Для данного столбца будет оптимальным заменить пропуски на пустые строки.\n",
    "\n",
    "Выявленные в предыдущем разделе пропуски для столбца year_of_release могут быть связаны с отсутствием информации о годе выпуска игры. Для данного столбца в предыдущем подразделе был выбран индикатор 0.\n",
    "\n",
    "Пропуски в столбце critic_score, как и в случае с оценками пользователей, могут быть связаны с отсутствием подсчёта  рейтинга критиков до определённого года или низкой популярностью игры. Пропуски можно заменить с помощью функции apply исходя из платформы и объёма продаж в  разных регионах."
   ]
  },
  {
   "cell_type": "markdown",
   "id": "67223f7b",
   "metadata": {
    "id": "154be65d"
   },
   "source": [
    "Заменим пропуски в столбцах с помощью метода fillna()."
   ]
  },
  {
   "cell_type": "code",
   "execution_count": 28,
   "id": "3f42817b",
   "metadata": {
    "id": "3f42817b"
   },
   "outputs": [],
   "source": [
    "#Для столбцов name и genre заменим пропуски на пустую строку\n",
    "games['name'] = games['name'].fillna('')\n",
    "games['genre'] = games['genre'].fillna('')"
   ]
  },
  {
   "cell_type": "markdown",
   "id": "c4e40b9c",
   "metadata": {},
   "source": [
    "Для столбцов eu_sales и jp_sales заменим пропуски с помощью метода apply() исходя из средних значений в зависимости от названия платформы и года выхода игры."
   ]
  },
  {
   "cell_type": "code",
   "execution_count": 29,
   "id": "b6d887b3",
   "metadata": {},
   "outputs": [],
   "source": [
    "#Для столбца eu_sales заменим пропуски исходя из средних значений в зависимости от названия платформы и года выхода игры\n",
    "def mean_eu_sales(row):\n",
    "    if pd.isna(row['eu_sales']):\n",
    "        group = games[(games['platform'] == row['platform']) & \n",
    "                   (games['year_of_release'] == row['year_of_release'])]\n",
    "        return group['eu_sales'].mean()\n",
    "    else:\n",
    "        return row['eu_sales']\n",
    "\n",
    "games['eu_sales'] = games.apply(mean_eu_sales, axis=1)"
   ]
  },
  {
   "cell_type": "code",
   "execution_count": 30,
   "id": "868f5b69",
   "metadata": {},
   "outputs": [],
   "source": [
    "#Аналогично заполним пропуски в столбце jp_sales:\n",
    "def mean_jp_sales(row):\n",
    "    if pd.isna(row['jp_sales']):\n",
    "        group = games[(games['platform'] == row['platform']) & \n",
    "                   (games['year_of_release'] == row['year_of_release'])]\n",
    "        return group['jp_sales'].mean()\n",
    "    else:\n",
    "        return row['jp_sales']\n",
    "\n",
    "games['jp_sales'] = games.apply(mean_jp_sales, axis=1)"
   ]
  },
  {
   "cell_type": "markdown",
   "id": "951d2003",
   "metadata": {},
   "source": [
    "Заменим пропуски в столбцах critic_score и user_score с помощью метода apply(), исходя из платформы, а также средних значений продаж в различных регионах."
   ]
  },
  {
   "cell_type": "code",
   "execution_count": 31,
   "id": "15e0b634",
   "metadata": {},
   "outputs": [],
   "source": [
    "#Заменим пропуски в столбце user_score с помощью метода apply исходя из значений в столбцах platform, na_sales, eu_sales, jp_sales, other_sales\n",
    "def mean_user_score(row):\n",
    "    if pd.isna(row['user_score']):\n",
    "        group = games[(games['platform'] == row['platform']) & \n",
    "                   (games['na_sales'] == row['na_sales']) & \n",
    "                   (games['eu_sales'] == row['eu_sales']) &\n",
    "                   (games['jp_sales'] == row['jp_sales']) &\n",
    "                   (games['other_sales'] == row['other_sales'])]\n",
    "        return group['user_score'].mean()\n",
    "    else:\n",
    "        return row['user_score']\n",
    "\n",
    "games['user_score'] = games.apply(mean_user_score, axis=1)"
   ]
  },
  {
   "cell_type": "markdown",
   "id": "badfd791",
   "metadata": {},
   "source": [
    "Заменим пропуски в столбце critic_score с помощью метода apply(), исходя из средних значений значений"
   ]
  },
  {
   "cell_type": "code",
   "execution_count": 32,
   "id": "e382a695",
   "metadata": {},
   "outputs": [],
   "source": [
    "#Заменим пропуски в столбце critic_score с помощью метода apply() исходя из значений в столбцах platform, na_sales, eu_sales, jp_sales, other_sales\n",
    "#Замена осуществляется для строк со значением -1.\n",
    "def mean_critic_score(row):\n",
    "    if row['critic_score']==-1:\n",
    "        group = games[(games['platform'] == row['platform']) & \n",
    "                   (games['na_sales'] == row['na_sales']) & \n",
    "                   (games['eu_sales'] == row['eu_sales']) &\n",
    "                   (games['jp_sales'] == row['jp_sales']) &\n",
    "                   (games['other_sales'] == row['other_sales'])]\n",
    "        return group['critic_score'].mean()\n",
    "    else:\n",
    "        return row['critic_score']\n",
    "\n",
    "games['critic_score'] = games.apply(mean_critic_score, axis=1)"
   ]
  },
  {
   "cell_type": "markdown",
   "id": "cf050d62",
   "metadata": {},
   "source": [
    "Чтобы оценить замену пропусков по столбцы critic_score, выведем уникальные значения по столбцу. Пустые строки будут иметь значение -1:"
   ]
  },
  {
   "cell_type": "code",
   "execution_count": 33,
   "id": "f78b30c2",
   "metadata": {},
   "outputs": [
    {
     "data": {
      "text/plain": [
       "-1.000000     4731\n",
       " 70.000000     257\n",
       " 71.000000     256\n",
       " 75.000000     248\n",
       " 73.000000     245\n",
       "              ... \n",
       " 47.333333       1\n",
       " 54.250000       1\n",
       " 65.500000       1\n",
       " 50.333333       1\n",
       " 53.250000       1\n",
       "Name: critic_score, Length: 498, dtype: int64"
      ]
     },
     "execution_count": 33,
     "metadata": {},
     "output_type": "execute_result"
    }
   ],
   "source": [
    "#Выведем уникальные значения для столбца critic_score\n",
    "games['critic_score'].value_counts()"
   ]
  },
  {
   "cell_type": "markdown",
   "id": "fca5a992",
   "metadata": {},
   "source": [
    "Таким образом количество пропусков снизилось с 8714 до 4731."
   ]
  },
  {
   "cell_type": "markdown",
   "id": "9cccb507",
   "metadata": {},
   "source": [
    "Заменим пропуски в столбце rating на пустые строки."
   ]
  },
  {
   "cell_type": "code",
   "execution_count": 34,
   "id": "c2add431",
   "metadata": {},
   "outputs": [],
   "source": [
    "def rating_blank(row):\n",
    "    if pd.isna(row['rating']):\n",
    "        return ''\n",
    "    else:\n",
    "        return row['rating']\n",
    "\n",
    "games['rating'] = games.apply(rating_blank, axis=1)"
   ]
  },
  {
   "cell_type": "markdown",
   "id": "2ce4114f",
   "metadata": {},
   "source": [
    "Выведем обновлённое количество пропусков по столбцам:"
   ]
  },
  {
   "cell_type": "code",
   "execution_count": 35,
   "id": "5fc888c6",
   "metadata": {},
   "outputs": [
    {
     "data": {
      "text/plain": [
       "name                  0\n",
       "platform              0\n",
       "year_of_release       0\n",
       "genre                 0\n",
       "na_sales              0\n",
       "eu_sales              0\n",
       "jp_sales              0\n",
       "other_sales           0\n",
       "critic_score          0\n",
       "user_score         4758\n",
       "rating                0\n",
       "dtype: int64"
      ]
     },
     "execution_count": 35,
     "metadata": {},
     "output_type": "execute_result"
    }
   ],
   "source": [
    "games.isna().sum()"
   ]
  },
  {
   "cell_type": "code",
   "execution_count": 36,
   "id": "190d037e",
   "metadata": {},
   "outputs": [
    {
     "data": {
      "text/plain": [
       "name                0.000000\n",
       "platform            0.000000\n",
       "year_of_release     0.000000\n",
       "genre               0.000000\n",
       "na_sales            0.000000\n",
       "eu_sales            0.000000\n",
       "jp_sales            0.000000\n",
       "other_sales         0.000000\n",
       "critic_score        0.000000\n",
       "user_score         28.060863\n",
       "rating              0.000000\n",
       "dtype: float64"
      ]
     },
     "execution_count": 36,
     "metadata": {},
     "output_type": "execute_result"
    }
   ],
   "source": [
    "games.isna().sum() / len(games) * 100 "
   ]
  },
  {
   "cell_type": "markdown",
   "id": "107c48b8",
   "metadata": {},
   "source": [
    "Таким образом, процент пропущенных значений для столбца user_score снизился с отметки 54,7% до 28,1%.\n",
    "\n",
    "Количество пропусков в столбце critic_score снизилось с 8714 до 4731. "
   ]
  },
  {
   "cell_type": "markdown",
   "id": "a63363fd",
   "metadata": {
    "id": "a63363fd"
   },
   "source": [
    "### 2.4. Явные и неявные дубликаты в данных"
   ]
  },
  {
   "cell_type": "markdown",
   "id": "0b21a62a",
   "metadata": {},
   "source": [
    "**Изучим уникальные значения данных, а также проверим, встречаются ли среди данных неявные дубликаты, связанные с опечатками или разным способом написания**"
   ]
  },
  {
   "cell_type": "code",
   "execution_count": 37,
   "id": "491c9c39",
   "metadata": {
    "id": "491c9c39"
   },
   "outputs": [
    {
     "data": {
      "text/plain": [
       "name               11560\n",
       "platform              31\n",
       "year_of_release       38\n",
       "genre                 25\n",
       "na_sales             402\n",
       "eu_sales             313\n",
       "jp_sales             248\n",
       "other_sales          155\n",
       "critic_score         498\n",
       "user_score           342\n",
       "rating                 9\n",
       "dtype: int64"
      ]
     },
     "execution_count": 37,
     "metadata": {},
     "output_type": "execute_result"
    }
   ],
   "source": [
    "#Выведим общее количество уникальных значений для всех столбцов:\n",
    "games.nunique()"
   ]
  },
  {
   "cell_type": "code",
   "execution_count": 38,
   "id": "fb23c6d9",
   "metadata": {},
   "outputs": [
    {
     "name": "stdout",
     "output_type": "stream",
     "text": [
      "['2600', '3DO', '3DS', 'DC', 'DS', 'GB', 'GBA', 'GC', 'GEN', 'GG', 'N64', 'NES', 'NG', 'PC', 'PCFX', 'PS', 'PS2', 'PS3', 'PS4', 'PSP', 'PSV', 'SAT', 'SCD', 'SNES', 'TG16', 'WS', 'Wii', 'WiiU', 'X360', 'XB', 'XOne']\n"
     ]
    }
   ],
   "source": [
    "#Выведем уникальные значения для столбца platform\n",
    "platform_unique=games['platform'].unique()\n",
    "print(sorted(platform_unique))"
   ]
  },
  {
   "cell_type": "code",
   "execution_count": 39,
   "id": "8ffee722",
   "metadata": {},
   "outputs": [
    {
     "name": "stdout",
     "output_type": "stream",
     "text": [
      "[0, 1980, 1981, 1982, 1983, 1984, 1985, 1986, 1987, 1988, 1989, 1990, 1991, 1992, 1993, 1994, 1995, 1996, 1997, 1998, 1999, 2000, 2001, 2002, 2003, 2004, 2005, 2006, 2007, 2008, 2009, 2010, 2011, 2012, 2013, 2014, 2015, 2016]\n"
     ]
    }
   ],
   "source": [
    "#Выведем уникальные значения для столбца year_of_release\n",
    "year_of_release_unique=games['year_of_release'].unique()\n",
    "print(sorted(year_of_release_unique))"
   ]
  },
  {
   "cell_type": "code",
   "execution_count": 40,
   "id": "64bac5a4",
   "metadata": {},
   "outputs": [
    {
     "name": "stdout",
     "output_type": "stream",
     "text": [
      "['', 'ACTION', 'ADVENTURE', 'Action', 'Adventure', 'FIGHTING', 'Fighting', 'MISC', 'Misc', 'PLATFORM', 'PUZZLE', 'Platform', 'Puzzle', 'RACING', 'ROLE-PLAYING', 'Racing', 'Role-Playing', 'SHOOTER', 'SIMULATION', 'SPORTS', 'STRATEGY', 'Shooter', 'Simulation', 'Sports', 'Strategy']\n"
     ]
    }
   ],
   "source": [
    "#Выведем уникальные значения для столбца genre\n",
    "genre_unique=games['genre'].unique()\n",
    "print(sorted(genre_unique))"
   ]
  },
  {
   "cell_type": "code",
   "execution_count": 41,
   "id": "6f01bc46",
   "metadata": {},
   "outputs": [
    {
     "name": "stdout",
     "output_type": "stream",
     "text": [
      "['', 'AO', 'E', 'E10+', 'EC', 'K-A', 'M', 'RP', 'T']\n"
     ]
    }
   ],
   "source": [
    "#Выведем уникальные значения для столбца rating\n",
    "rating_unique=games['rating'].unique()\n",
    "print(sorted(rating_unique))"
   ]
  },
  {
   "cell_type": "code",
   "execution_count": 42,
   "id": "876b04a6",
   "metadata": {},
   "outputs": [],
   "source": [
    "#Приведём название игр, название платформы и жанра к нижнему регистру, наименование рейтинга к верхнему:\n",
    "games['name']=games['name'].str.lower()\n",
    "games['platform']=games['platform'].str.lower()\n",
    "games['genre']=games['genre'].str.lower()\n",
    "games['rating']=games['rating'].str.upper()"
   ]
  },
  {
   "cell_type": "markdown",
   "id": "4cd9120d",
   "metadata": {},
   "source": [
    "Выведим общее количество уникальных значений для всех столбцов после проведённых изменений."
   ]
  },
  {
   "cell_type": "code",
   "execution_count": 43,
   "id": "9f6d1507",
   "metadata": {},
   "outputs": [
    {
     "name": "stdout",
     "output_type": "stream",
     "text": [
      "name               11560\n",
      "platform              31\n",
      "year_of_release       38\n",
      "genre                 13\n",
      "na_sales             402\n",
      "eu_sales             313\n",
      "jp_sales             248\n",
      "other_sales          155\n",
      "critic_score         498\n",
      "user_score           342\n",
      "rating                 9\n",
      "dtype: int64\n",
      "16956\n"
     ]
    }
   ],
   "source": [
    "#Выведим общее количество уникальных значений для всех столбцов после проведённых изменений:\n",
    "print(games.nunique())\n",
    "print(len(games))"
   ]
  },
  {
   "cell_type": "markdown",
   "id": "79774e34",
   "metadata": {},
   "source": [
    "В результате приведения к нижнему регистру количество уникальных значений для столбца genre сократилось с 25 до 13. Дубликатов, связанных с опечатками не выявлено"
   ]
  },
  {
   "cell_type": "markdown",
   "id": "fc3d3db4",
   "metadata": {
    "id": "fc3d3db4"
   },
   "source": [
    "**Проверим наличие явных дубликатов в данных**:"
   ]
  },
  {
   "cell_type": "code",
   "execution_count": 44,
   "id": "fc5c91b5",
   "metadata": {
    "id": "fc5c91b5"
   },
   "outputs": [
    {
     "name": "stdout",
     "output_type": "stream",
     "text": [
      "                                                name platform  \\\n",
      "268                            batman: arkham asylum      ps3   \n",
      "368                 james bond 007: agent under fire      ps2   \n",
      "717                            god of war: ascension      ps3   \n",
      "823                                wipeout: the game      wii   \n",
      "848                  rayman raving rabbids: tv party      wii   \n",
      "...                                              ...      ...   \n",
      "16671        fullmetal alchemist: prince of the dawn      wii   \n",
      "16753                                      routes pe      ps2   \n",
      "16799                            transformers: prime      wii   \n",
      "16912  metal gear solid v: the definitive experience     xone   \n",
      "16940                          the longest 5 minutes      psv   \n",
      "\n",
      "       year_of_release      genre  na_sales  eu_sales  jp_sales  other_sales  \\\n",
      "268               2009     action      2.24      1.31      0.07         0.61   \n",
      "368               2001    shooter      1.90      1.13      0.10         0.41   \n",
      "717               2013     action      1.23      0.63      0.04         0.35   \n",
      "823               2009       misc      1.94      0.00      0.00         0.12   \n",
      "848               2008       misc      0.72      1.08      0.00         0.23   \n",
      "...                ...        ...       ...       ...       ...          ...   \n",
      "16671             2009  adventure      0.00      0.00      0.01         0.00   \n",
      "16753             2007  adventure      0.00      0.00      0.01         0.00   \n",
      "16799             2012     action      0.00      0.01      0.00         0.00   \n",
      "16912             2016     action      0.01      0.00      0.00         0.00   \n",
      "16940             2016     action      0.00      0.00      0.01         0.00   \n",
      "\n",
      "       critic_score  user_score rating  \n",
      "268       91.000000       8.900      T  \n",
      "368       72.000000       7.900      T  \n",
      "717       80.000000       7.500      M  \n",
      "823       -1.000000         NaN         \n",
      "848       73.000000       7.700   E10+  \n",
      "...             ...         ...    ...  \n",
      "16671     -1.000000         NaN         \n",
      "16753      1.250000       8.100         \n",
      "16799      1.894737         NaN         \n",
      "16912     24.428571       6.875      M  \n",
      "16940      1.893617       7.850         \n",
      "\n",
      "[241 rows x 11 columns]\n"
     ]
    }
   ],
   "source": [
    "#Выведем дублирующиеся строки\n",
    "duplicates = games[games.duplicated()]\n",
    "print(duplicates)"
   ]
  },
  {
   "cell_type": "code",
   "execution_count": 45,
   "id": "2f61e076",
   "metadata": {
    "id": "2f61e076"
   },
   "outputs": [],
   "source": [
    "#Удалим дублирующееся строки\n",
    "games_cleaned = games.drop_duplicates()"
   ]
  },
  {
   "cell_type": "markdown",
   "id": "55e7c688",
   "metadata": {
    "id": "8548f894"
   },
   "source": [
    "Всего с помощью метода duplicated() было обнаржужено 241 дубликат.\n",
    "\n",
    "Дублирующиеся строки были удалены с помощью метода drop_duplicates()."
   ]
  },
  {
   "cell_type": "markdown",
   "id": "43e98810",
   "metadata": {
    "id": "f9d8ee19"
   },
   "source": [
    "**Посчитаем общее количество удалённых строк в абсолютном и относительном значении:**"
   ]
  },
  {
   "cell_type": "code",
   "execution_count": 46,
   "id": "3d7a9d8e",
   "metadata": {
    "id": "3d7a9d8e"
   },
   "outputs": [
    {
     "name": "stdout",
     "output_type": "stream",
     "text": [
      "Количество удалённых строк: 241\n",
      "Процент удалённых строк: 1.421325784383109\n",
      "Объём изначального датафрейма:16956\n",
      "Объём скорректированного датафрейма: 16715\n"
     ]
    }
   ],
   "source": [
    "print(f'Количество удалённых строк: {len(duplicates)}')\n",
    "print(f'Процент удалённых строк: {len(duplicates)/len(games)*100}')\n",
    "print(f'Объём изначального датафрейма:{len(games)}')\n",
    "print(f'Объём скорректированного датафрейма: {len(games_cleaned)}')"
   ]
  },
  {
   "cell_type": "markdown",
   "id": "1431273a",
   "metadata": {
    "id": "1e48a7ce"
   },
   "source": [
    "Таким образом, изначальный датафрейм содержал 16956 строк. Всего было удалено 241 дубликатов или 1,42% данных от первоначального датасета. После удаления дубликатов датафрейм стал содержать 16715 записей."
   ]
  },
  {
   "cell_type": "markdown",
   "id": "dff68005",
   "metadata": {
    "id": "5166fdf8"
   },
   "source": [
    "**Общий вывод по разделу**\n",
    "\n",
    "Таким образом, в ходе проверки ошибок в данных и их предобработки на первом этапе названия столбцов датафрейма были приведены к формату snake case.\n",
    "\n",
    "На следующем этапе был проведён анализ типов данных датафрейма, в том числе были изменены форматы для столбцов eu_sales,jp_sales и user_score с формата object на формат float32. Столбец year_of_release c формата object был приведён к формату int 16. Столбец critic_score с формата object был приведён к формату int8. Столбцу rating был присвоен формат category.\n",
    "\n",
    "На следующем этапе была проведена работа с пропусками. Пропуски столбце year_of_release были заменены на индикатор 0. Пропущенные значения в столбцах name, genre и rating были заменены на пустые строки. Пропуски в столбцах eu_sales и eu_sales были заполнены с помощью метода apply, исходя из средних значений в зависимости от названия платформы и года выхода игры. Пропуски в столбцах user_score и critic_score были заполнены с помощью метода apply исходя из значений в столбцах platform, na_sales, eu_sales, jp_sales, other_sales.\n",
    "\n",
    "В результате процент пропущенных значений для столбца user_score снизился с отметки 54,7% до 28,1%. Количество пропусков в столбце critic_score снизилось с 8714 до 4731. В остальных столбцах все пропуски были заменены.\n",
    "\n",
    "В дальнейшем была осуществлена работа с явными и неявными дубликатами. В результате приведения значений столбцов  к нижнему регистру, количество уникальных значений в столбце genre сократилось с отметки с 25 до 13. Неявных дубликатов, образовавшихся вследствие опечаток, не выявлено. С помощью метода duplicated() было выявлено 241 явных дубликатов, что составило 1,42% от первоначальных данных. Дублирующеися строки были удалены с помощью метода drop_duplicates().\n"
   ]
  },
  {
   "cell_type": "markdown",
   "id": "613f0eb0",
   "metadata": {
    "id": "613f0eb0"
   },
   "source": [
    "---\n",
    "\n",
    "## 3. Фильтрация данных\n",
    "\n",
    "Коллеги хотят изучить историю продаж игр в начале XXI века, и их интересует период с 2000 по 2013 год включительно. Отберём данные по этому показателю. Сохраним новый срез данных в отдельном датафрейме `games_actual`."
   ]
  },
  {
   "cell_type": "code",
   "execution_count": 47,
   "id": "2344916d",
   "metadata": {
    "id": "2344916d"
   },
   "outputs": [],
   "source": [
    "#Проведём фильтрацию по столбцу year_of_release\n",
    "games_actual=games[(games['year_of_release']>=2000) & (games['year_of_release']<=2013)]"
   ]
  },
  {
   "cell_type": "code",
   "execution_count": 48,
   "id": "44d7529f",
   "metadata": {
    "id": "44d7529f"
   },
   "outputs": [
    {
     "data": {
      "text/html": [
       "<div>\n",
       "<style scoped>\n",
       "    .dataframe tbody tr th:only-of-type {\n",
       "        vertical-align: middle;\n",
       "    }\n",
       "\n",
       "    .dataframe tbody tr th {\n",
       "        vertical-align: top;\n",
       "    }\n",
       "\n",
       "    .dataframe thead th {\n",
       "        text-align: right;\n",
       "    }\n",
       "</style>\n",
       "<table border=\"1\" class=\"dataframe\">\n",
       "  <thead>\n",
       "    <tr style=\"text-align: right;\">\n",
       "      <th></th>\n",
       "      <th>name</th>\n",
       "      <th>platform</th>\n",
       "      <th>year_of_release</th>\n",
       "      <th>genre</th>\n",
       "      <th>na_sales</th>\n",
       "      <th>eu_sales</th>\n",
       "      <th>jp_sales</th>\n",
       "      <th>other_sales</th>\n",
       "      <th>critic_score</th>\n",
       "      <th>user_score</th>\n",
       "      <th>rating</th>\n",
       "    </tr>\n",
       "  </thead>\n",
       "  <tbody>\n",
       "    <tr>\n",
       "      <th>0</th>\n",
       "      <td>wii sports</td>\n",
       "      <td>wii</td>\n",
       "      <td>2006</td>\n",
       "      <td>sports</td>\n",
       "      <td>41.360001</td>\n",
       "      <td>28.959999</td>\n",
       "      <td>3.77</td>\n",
       "      <td>8.45</td>\n",
       "      <td>76.0</td>\n",
       "      <td>8.0</td>\n",
       "      <td>E</td>\n",
       "    </tr>\n",
       "    <tr>\n",
       "      <th>2</th>\n",
       "      <td>mario kart wii</td>\n",
       "      <td>wii</td>\n",
       "      <td>2008</td>\n",
       "      <td>racing</td>\n",
       "      <td>15.680000</td>\n",
       "      <td>12.760000</td>\n",
       "      <td>3.79</td>\n",
       "      <td>3.29</td>\n",
       "      <td>82.0</td>\n",
       "      <td>8.3</td>\n",
       "      <td>E</td>\n",
       "    </tr>\n",
       "    <tr>\n",
       "      <th>3</th>\n",
       "      <td>wii sports resort</td>\n",
       "      <td>wii</td>\n",
       "      <td>2009</td>\n",
       "      <td>sports</td>\n",
       "      <td>15.610000</td>\n",
       "      <td>10.930000</td>\n",
       "      <td>3.28</td>\n",
       "      <td>2.95</td>\n",
       "      <td>80.0</td>\n",
       "      <td>8.0</td>\n",
       "      <td>E</td>\n",
       "    </tr>\n",
       "    <tr>\n",
       "      <th>6</th>\n",
       "      <td>new super mario bros.</td>\n",
       "      <td>ds</td>\n",
       "      <td>2006</td>\n",
       "      <td>platform</td>\n",
       "      <td>11.280000</td>\n",
       "      <td>9.140000</td>\n",
       "      <td>6.50</td>\n",
       "      <td>2.88</td>\n",
       "      <td>89.0</td>\n",
       "      <td>8.5</td>\n",
       "      <td>E</td>\n",
       "    </tr>\n",
       "    <tr>\n",
       "      <th>7</th>\n",
       "      <td>wii play</td>\n",
       "      <td>wii</td>\n",
       "      <td>2006</td>\n",
       "      <td>misc</td>\n",
       "      <td>13.960000</td>\n",
       "      <td>9.180000</td>\n",
       "      <td>2.93</td>\n",
       "      <td>2.84</td>\n",
       "      <td>58.0</td>\n",
       "      <td>6.6</td>\n",
       "      <td>E</td>\n",
       "    </tr>\n",
       "  </tbody>\n",
       "</table>\n",
       "</div>"
      ],
      "text/plain": [
       "                    name platform  year_of_release     genre   na_sales  \\\n",
       "0             wii sports      wii             2006    sports  41.360001   \n",
       "2         mario kart wii      wii             2008    racing  15.680000   \n",
       "3      wii sports resort      wii             2009    sports  15.610000   \n",
       "6  new super mario bros.       ds             2006  platform  11.280000   \n",
       "7               wii play      wii             2006      misc  13.960000   \n",
       "\n",
       "    eu_sales  jp_sales  other_sales  critic_score  user_score rating  \n",
       "0  28.959999      3.77         8.45          76.0         8.0      E  \n",
       "2  12.760000      3.79         3.29          82.0         8.3      E  \n",
       "3  10.930000      3.28         2.95          80.0         8.0      E  \n",
       "6   9.140000      6.50         2.88          89.0         8.5      E  \n",
       "7   9.180000      2.93         2.84          58.0         6.6      E  "
      ]
     },
     "execution_count": 48,
     "metadata": {},
     "output_type": "execute_result"
    }
   ],
   "source": [
    "#Выведем полученный датафрейм\n",
    "games_actual.head()"
   ]
  },
  {
   "cell_type": "code",
   "execution_count": 49,
   "id": "906577e8",
   "metadata": {
    "id": "906577e8"
   },
   "outputs": [
    {
     "name": "stdout",
     "output_type": "stream",
     "text": [
      "<class 'pandas.core.frame.DataFrame'>\n",
      "Int64Index: 12980 entries, 0 to 16954\n",
      "Data columns (total 11 columns):\n",
      " #   Column           Non-Null Count  Dtype  \n",
      "---  ------           --------------  -----  \n",
      " 0   name             12980 non-null  object \n",
      " 1   platform         12980 non-null  object \n",
      " 2   year_of_release  12980 non-null  int16  \n",
      " 3   genre            12980 non-null  object \n",
      " 4   na_sales         12980 non-null  float32\n",
      " 5   eu_sales         12980 non-null  float64\n",
      " 6   jp_sales         12980 non-null  float64\n",
      " 7   other_sales      12980 non-null  float32\n",
      " 8   critic_score     12980 non-null  float64\n",
      " 9   user_score       10186 non-null  float64\n",
      " 10  rating           12980 non-null  object \n",
      "dtypes: float32(2), float64(4), int16(1), object(4)\n",
      "memory usage: 1.0+ MB\n"
     ]
    }
   ],
   "source": [
    "#Выведем информацию о полученном датафрейме\n",
    "games_actual.info()"
   ]
  },
  {
   "cell_type": "markdown",
   "id": "9542593b",
   "metadata": {},
   "source": [
    "Таким образом, в срезе данных по играм за 2000 и 2013 год содержится 12 980 записей, что свидетельствует о том, что значительный объём игр рассматриваемого датасета был выпущен в данном периоде."
   ]
  },
  {
   "cell_type": "markdown",
   "id": "a6f10b01",
   "metadata": {
    "id": "a6f10b01"
   },
   "source": [
    "---\n",
    "\n",
    "## 4. Категоризация данных\n",
    "    \n",
    "**Проведём категоризацию данных**\n",
    "\n",
    "Разделим все игры по оценкам пользователей и выделим такие категории: высокая оценка (от 8 до 10 включительно), средняя оценка (от 3 до 8, не включая правую границу интервала) и низкая оценка (от 0 до 3, не включая правую границу интервала)."
   ]
  },
  {
   "cell_type": "code",
   "execution_count": 50,
   "id": "3db87229",
   "metadata": {
    "id": "3db87229"
   },
   "outputs": [
    {
     "name": "stderr",
     "output_type": "stream",
     "text": [
      "/tmp/ipykernel_63/4148394220.py:11: SettingWithCopyWarning: \n",
      "A value is trying to be set on a copy of a slice from a DataFrame.\n",
      "Try using .loc[row_indexer,col_indexer] = value instead\n",
      "\n",
      "See the caveats in the documentation: https://pandas.pydata.org/pandas-docs/stable/user_guide/indexing.html#returning-a-view-versus-a-copy\n",
      "  games_actual['user_score_category']=games_actual.apply(categorize_user_score, axis=1)\n"
     ]
    }
   ],
   "source": [
    "def categorize_user_score(row):\n",
    "    if row['user_score'] <= 10 and row['user_score'] >= 8:\n",
    "        return \"высокая_оценка\"\n",
    "    elif row['user_score'] < 8 and row['user_score'] >= 3:\n",
    "        return \"средняя_оценка\"\n",
    "    elif row['user_score'] < 3 and row['user_score'] > 0:\n",
    "        return \"низкая_оценка\"\n",
    "\n",
    "\n",
    "# Применение функции для категоризации\n",
    "games_actual['user_score_category']=games_actual.apply(categorize_user_score, axis=1)\n",
    "\n"
   ]
  },
  {
   "cell_type": "code",
   "execution_count": 51,
   "id": "9b0ca0f2",
   "metadata": {
    "id": "9b0ca0f2"
   },
   "outputs": [
    {
     "data": {
      "text/html": [
       "<div>\n",
       "<style scoped>\n",
       "    .dataframe tbody tr th:only-of-type {\n",
       "        vertical-align: middle;\n",
       "    }\n",
       "\n",
       "    .dataframe tbody tr th {\n",
       "        vertical-align: top;\n",
       "    }\n",
       "\n",
       "    .dataframe thead th {\n",
       "        text-align: right;\n",
       "    }\n",
       "</style>\n",
       "<table border=\"1\" class=\"dataframe\">\n",
       "  <thead>\n",
       "    <tr style=\"text-align: right;\">\n",
       "      <th></th>\n",
       "      <th>name</th>\n",
       "      <th>platform</th>\n",
       "      <th>year_of_release</th>\n",
       "      <th>genre</th>\n",
       "      <th>na_sales</th>\n",
       "      <th>eu_sales</th>\n",
       "      <th>jp_sales</th>\n",
       "      <th>other_sales</th>\n",
       "      <th>critic_score</th>\n",
       "      <th>user_score</th>\n",
       "      <th>rating</th>\n",
       "      <th>user_score_category</th>\n",
       "    </tr>\n",
       "  </thead>\n",
       "  <tbody>\n",
       "    <tr>\n",
       "      <th>0</th>\n",
       "      <td>wii sports</td>\n",
       "      <td>wii</td>\n",
       "      <td>2006</td>\n",
       "      <td>sports</td>\n",
       "      <td>41.360001</td>\n",
       "      <td>28.959999</td>\n",
       "      <td>3.77</td>\n",
       "      <td>8.45</td>\n",
       "      <td>76.0</td>\n",
       "      <td>8.0</td>\n",
       "      <td>E</td>\n",
       "      <td>высокая_оценка</td>\n",
       "    </tr>\n",
       "    <tr>\n",
       "      <th>2</th>\n",
       "      <td>mario kart wii</td>\n",
       "      <td>wii</td>\n",
       "      <td>2008</td>\n",
       "      <td>racing</td>\n",
       "      <td>15.680000</td>\n",
       "      <td>12.760000</td>\n",
       "      <td>3.79</td>\n",
       "      <td>3.29</td>\n",
       "      <td>82.0</td>\n",
       "      <td>8.3</td>\n",
       "      <td>E</td>\n",
       "      <td>высокая_оценка</td>\n",
       "    </tr>\n",
       "    <tr>\n",
       "      <th>3</th>\n",
       "      <td>wii sports resort</td>\n",
       "      <td>wii</td>\n",
       "      <td>2009</td>\n",
       "      <td>sports</td>\n",
       "      <td>15.610000</td>\n",
       "      <td>10.930000</td>\n",
       "      <td>3.28</td>\n",
       "      <td>2.95</td>\n",
       "      <td>80.0</td>\n",
       "      <td>8.0</td>\n",
       "      <td>E</td>\n",
       "      <td>высокая_оценка</td>\n",
       "    </tr>\n",
       "    <tr>\n",
       "      <th>6</th>\n",
       "      <td>new super mario bros.</td>\n",
       "      <td>ds</td>\n",
       "      <td>2006</td>\n",
       "      <td>platform</td>\n",
       "      <td>11.280000</td>\n",
       "      <td>9.140000</td>\n",
       "      <td>6.50</td>\n",
       "      <td>2.88</td>\n",
       "      <td>89.0</td>\n",
       "      <td>8.5</td>\n",
       "      <td>E</td>\n",
       "      <td>высокая_оценка</td>\n",
       "    </tr>\n",
       "    <tr>\n",
       "      <th>7</th>\n",
       "      <td>wii play</td>\n",
       "      <td>wii</td>\n",
       "      <td>2006</td>\n",
       "      <td>misc</td>\n",
       "      <td>13.960000</td>\n",
       "      <td>9.180000</td>\n",
       "      <td>2.93</td>\n",
       "      <td>2.84</td>\n",
       "      <td>58.0</td>\n",
       "      <td>6.6</td>\n",
       "      <td>E</td>\n",
       "      <td>средняя_оценка</td>\n",
       "    </tr>\n",
       "  </tbody>\n",
       "</table>\n",
       "</div>"
      ],
      "text/plain": [
       "                    name platform  year_of_release     genre   na_sales  \\\n",
       "0             wii sports      wii             2006    sports  41.360001   \n",
       "2         mario kart wii      wii             2008    racing  15.680000   \n",
       "3      wii sports resort      wii             2009    sports  15.610000   \n",
       "6  new super mario bros.       ds             2006  platform  11.280000   \n",
       "7               wii play      wii             2006      misc  13.960000   \n",
       "\n",
       "    eu_sales  jp_sales  other_sales  critic_score  user_score rating  \\\n",
       "0  28.959999      3.77         8.45          76.0         8.0      E   \n",
       "2  12.760000      3.79         3.29          82.0         8.3      E   \n",
       "3  10.930000      3.28         2.95          80.0         8.0      E   \n",
       "6   9.140000      6.50         2.88          89.0         8.5      E   \n",
       "7   9.180000      2.93         2.84          58.0         6.6      E   \n",
       "\n",
       "  user_score_category  \n",
       "0      высокая_оценка  \n",
       "2      высокая_оценка  \n",
       "3      высокая_оценка  \n",
       "6      высокая_оценка  \n",
       "7      средняя_оценка  "
      ]
     },
     "execution_count": 51,
     "metadata": {},
     "output_type": "execute_result"
    }
   ],
   "source": [
    "#Выведем обновлённый датафрейм\n",
    "games_actual.head()"
   ]
  },
  {
   "cell_type": "markdown",
   "id": "f8f34b40",
   "metadata": {
    "id": "f8f34b40"
   },
   "source": [
    "Разделим все игры по оценкам критиков и выделим такие категории: высокая оценка (от 80 до 100 включительно), средняя оценка (от 30 до 80, не включая правую границу интервала) и низкая оценка (от 0 до 30, не включая правую границу интервала)."
   ]
  },
  {
   "cell_type": "code",
   "execution_count": 52,
   "id": "e3f7acb0",
   "metadata": {
    "id": "e3f7acb0"
   },
   "outputs": [
    {
     "name": "stderr",
     "output_type": "stream",
     "text": [
      "/tmp/ipykernel_63/2556036454.py:11: SettingWithCopyWarning: \n",
      "A value is trying to be set on a copy of a slice from a DataFrame.\n",
      "Try using .loc[row_indexer,col_indexer] = value instead\n",
      "\n",
      "See the caveats in the documentation: https://pandas.pydata.org/pandas-docs/stable/user_guide/indexing.html#returning-a-view-versus-a-copy\n",
      "  games_actual['critic_score_category']=games_actual.apply(categorize_critic_score, axis=1)\n"
     ]
    }
   ],
   "source": [
    "def categorize_critic_score(row):\n",
    "    if row['critic_score'] <= 100 and row['critic_score'] >= 80:\n",
    "        return \"высокая_оценка\"\n",
    "    elif row['critic_score'] < 80 and row['critic_score'] >= 30:\n",
    "        return \"средняя_оценка\"\n",
    "    elif row['critic_score'] < 30 and row['critic_score'] > 0:\n",
    "        return \"низкая_оценка\"\n",
    "\n",
    "\n",
    "# Применение функции для категоризации\n",
    "games_actual['critic_score_category']=games_actual.apply(categorize_critic_score, axis=1)\n"
   ]
  },
  {
   "cell_type": "code",
   "execution_count": 53,
   "id": "548fde17",
   "metadata": {
    "id": "548fde17"
   },
   "outputs": [
    {
     "data": {
      "text/html": [
       "<div>\n",
       "<style scoped>\n",
       "    .dataframe tbody tr th:only-of-type {\n",
       "        vertical-align: middle;\n",
       "    }\n",
       "\n",
       "    .dataframe tbody tr th {\n",
       "        vertical-align: top;\n",
       "    }\n",
       "\n",
       "    .dataframe thead th {\n",
       "        text-align: right;\n",
       "    }\n",
       "</style>\n",
       "<table border=\"1\" class=\"dataframe\">\n",
       "  <thead>\n",
       "    <tr style=\"text-align: right;\">\n",
       "      <th></th>\n",
       "      <th>name</th>\n",
       "      <th>platform</th>\n",
       "      <th>year_of_release</th>\n",
       "      <th>genre</th>\n",
       "      <th>na_sales</th>\n",
       "      <th>eu_sales</th>\n",
       "      <th>jp_sales</th>\n",
       "      <th>other_sales</th>\n",
       "      <th>critic_score</th>\n",
       "      <th>user_score</th>\n",
       "      <th>rating</th>\n",
       "      <th>user_score_category</th>\n",
       "      <th>critic_score_category</th>\n",
       "    </tr>\n",
       "  </thead>\n",
       "  <tbody>\n",
       "    <tr>\n",
       "      <th>0</th>\n",
       "      <td>wii sports</td>\n",
       "      <td>wii</td>\n",
       "      <td>2006</td>\n",
       "      <td>sports</td>\n",
       "      <td>41.360001</td>\n",
       "      <td>28.959999</td>\n",
       "      <td>3.77</td>\n",
       "      <td>8.45</td>\n",
       "      <td>76.0</td>\n",
       "      <td>8.0</td>\n",
       "      <td>E</td>\n",
       "      <td>высокая_оценка</td>\n",
       "      <td>средняя_оценка</td>\n",
       "    </tr>\n",
       "    <tr>\n",
       "      <th>2</th>\n",
       "      <td>mario kart wii</td>\n",
       "      <td>wii</td>\n",
       "      <td>2008</td>\n",
       "      <td>racing</td>\n",
       "      <td>15.680000</td>\n",
       "      <td>12.760000</td>\n",
       "      <td>3.79</td>\n",
       "      <td>3.29</td>\n",
       "      <td>82.0</td>\n",
       "      <td>8.3</td>\n",
       "      <td>E</td>\n",
       "      <td>высокая_оценка</td>\n",
       "      <td>высокая_оценка</td>\n",
       "    </tr>\n",
       "    <tr>\n",
       "      <th>3</th>\n",
       "      <td>wii sports resort</td>\n",
       "      <td>wii</td>\n",
       "      <td>2009</td>\n",
       "      <td>sports</td>\n",
       "      <td>15.610000</td>\n",
       "      <td>10.930000</td>\n",
       "      <td>3.28</td>\n",
       "      <td>2.95</td>\n",
       "      <td>80.0</td>\n",
       "      <td>8.0</td>\n",
       "      <td>E</td>\n",
       "      <td>высокая_оценка</td>\n",
       "      <td>высокая_оценка</td>\n",
       "    </tr>\n",
       "    <tr>\n",
       "      <th>6</th>\n",
       "      <td>new super mario bros.</td>\n",
       "      <td>ds</td>\n",
       "      <td>2006</td>\n",
       "      <td>platform</td>\n",
       "      <td>11.280000</td>\n",
       "      <td>9.140000</td>\n",
       "      <td>6.50</td>\n",
       "      <td>2.88</td>\n",
       "      <td>89.0</td>\n",
       "      <td>8.5</td>\n",
       "      <td>E</td>\n",
       "      <td>высокая_оценка</td>\n",
       "      <td>высокая_оценка</td>\n",
       "    </tr>\n",
       "    <tr>\n",
       "      <th>7</th>\n",
       "      <td>wii play</td>\n",
       "      <td>wii</td>\n",
       "      <td>2006</td>\n",
       "      <td>misc</td>\n",
       "      <td>13.960000</td>\n",
       "      <td>9.180000</td>\n",
       "      <td>2.93</td>\n",
       "      <td>2.84</td>\n",
       "      <td>58.0</td>\n",
       "      <td>6.6</td>\n",
       "      <td>E</td>\n",
       "      <td>средняя_оценка</td>\n",
       "      <td>средняя_оценка</td>\n",
       "    </tr>\n",
       "  </tbody>\n",
       "</table>\n",
       "</div>"
      ],
      "text/plain": [
       "                    name platform  year_of_release     genre   na_sales  \\\n",
       "0             wii sports      wii             2006    sports  41.360001   \n",
       "2         mario kart wii      wii             2008    racing  15.680000   \n",
       "3      wii sports resort      wii             2009    sports  15.610000   \n",
       "6  new super mario bros.       ds             2006  platform  11.280000   \n",
       "7               wii play      wii             2006      misc  13.960000   \n",
       "\n",
       "    eu_sales  jp_sales  other_sales  critic_score  user_score rating  \\\n",
       "0  28.959999      3.77         8.45          76.0         8.0      E   \n",
       "2  12.760000      3.79         3.29          82.0         8.3      E   \n",
       "3  10.930000      3.28         2.95          80.0         8.0      E   \n",
       "6   9.140000      6.50         2.88          89.0         8.5      E   \n",
       "7   9.180000      2.93         2.84          58.0         6.6      E   \n",
       "\n",
       "  user_score_category critic_score_category  \n",
       "0      высокая_оценка        средняя_оценка  \n",
       "2      высокая_оценка        высокая_оценка  \n",
       "3      высокая_оценка        высокая_оценка  \n",
       "6      высокая_оценка        высокая_оценка  \n",
       "7      средняя_оценка        средняя_оценка  "
      ]
     },
     "execution_count": 53,
     "metadata": {},
     "output_type": "execute_result"
    }
   ],
   "source": [
    "#Выведем обновлённый датафрейм\n",
    "games_actual.head()"
   ]
  },
  {
   "cell_type": "markdown",
   "id": "olkTlTlAUDR9",
   "metadata": {
    "id": "olkTlTlAUDR9"
   },
   "source": [
    "Сгруппируем данные по выделенным категориям и посчитаем количество игр в каждой категории."
   ]
  },
  {
   "cell_type": "code",
   "execution_count": 54,
   "id": "HW0Nsp-4UMSL",
   "metadata": {
    "id": "HW0Nsp-4UMSL"
   },
   "outputs": [
    {
     "name": "stdout",
     "output_type": "stream",
     "text": [
      "user_score_category\n",
      "высокая_оценка    2857\n",
      "низкая_оценка      133\n",
      "средняя_оценка    7195\n",
      "Name: user_score_category, dtype: int64\n"
     ]
    }
   ],
   "source": [
    "#Проведём группировку по категориям оценок пользователей\n",
    "grouped_games_by_user_score = games_actual.groupby('user_score_category')['user_score_category'].count()\n",
    "\n",
    "#Выведём полученный результат на экран\n",
    "print(grouped_games_by_user_score)"
   ]
  },
  {
   "cell_type": "code",
   "execution_count": 55,
   "id": "x2ne0HIpUMMD",
   "metadata": {
    "id": "x2ne0HIpUMMD"
   },
   "outputs": [
    {
     "name": "stdout",
     "output_type": "stream",
     "text": [
      "critic_score_category\n",
      "высокая_оценка    1712\n",
      "низкая_оценка     1826\n",
      "средняя_оценка    6462\n",
      "Name: critic_score_category, dtype: int64\n"
     ]
    }
   ],
   "source": [
    "#Проведём группировку по категориям оценок критиков\n",
    "grouped_games_by_critic_score = games_actual.groupby('critic_score_category')['critic_score_category'].count()\n",
    "\n",
    "#Выведём полученный результат на экран\n",
    "print(grouped_games_by_critic_score)"
   ]
  },
  {
   "cell_type": "markdown",
   "id": "6a98444c",
   "metadata": {
    "id": "6a98444c"
   },
   "source": [
    "Выделим топ-7 платформ по количеству игр, выпущенных за весь актуальный период:"
   ]
  },
  {
   "cell_type": "code",
   "execution_count": 56,
   "id": "003caa2c",
   "metadata": {
    "id": "003caa2c"
   },
   "outputs": [
    {
     "data": {
      "text/html": [
       "<div>\n",
       "<style scoped>\n",
       "    .dataframe tbody tr th:only-of-type {\n",
       "        vertical-align: middle;\n",
       "    }\n",
       "\n",
       "    .dataframe tbody tr th {\n",
       "        vertical-align: top;\n",
       "    }\n",
       "\n",
       "    .dataframe thead th {\n",
       "        text-align: right;\n",
       "    }\n",
       "</style>\n",
       "<table border=\"1\" class=\"dataframe\">\n",
       "  <thead>\n",
       "    <tr style=\"text-align: right;\">\n",
       "      <th></th>\n",
       "      <th>count</th>\n",
       "    </tr>\n",
       "    <tr>\n",
       "      <th>platform</th>\n",
       "      <th></th>\n",
       "    </tr>\n",
       "  </thead>\n",
       "  <tbody>\n",
       "    <tr>\n",
       "      <th>ps2</th>\n",
       "      <td>2154</td>\n",
       "    </tr>\n",
       "    <tr>\n",
       "      <th>ds</th>\n",
       "      <td>2146</td>\n",
       "    </tr>\n",
       "    <tr>\n",
       "      <th>wii</th>\n",
       "      <td>1294</td>\n",
       "    </tr>\n",
       "    <tr>\n",
       "      <th>psp</th>\n",
       "      <td>1199</td>\n",
       "    </tr>\n",
       "    <tr>\n",
       "      <th>x360</th>\n",
       "      <td>1138</td>\n",
       "    </tr>\n",
       "    <tr>\n",
       "      <th>ps3</th>\n",
       "      <td>1107</td>\n",
       "    </tr>\n",
       "    <tr>\n",
       "      <th>gba</th>\n",
       "      <td>826</td>\n",
       "    </tr>\n",
       "  </tbody>\n",
       "</table>\n",
       "</div>"
      ],
      "text/plain": [
       "          count\n",
       "platform       \n",
       "ps2        2154\n",
       "ds         2146\n",
       "wii        1294\n",
       "psp        1199\n",
       "x360       1138\n",
       "ps3        1107\n",
       "gba         826"
      ]
     },
     "execution_count": 56,
     "metadata": {},
     "output_type": "execute_result"
    }
   ],
   "source": [
    "#Проведём группировку игр по платформам\n",
    "games_by_platform = games_actual.groupby('platform')['platform'].count()\n",
    "\n",
    "#Преобразуем полученную серию в датафрейм с новым именем столбца count\n",
    "games_by_platform = games_by_platform.to_frame(name=\"count\")\n",
    "\n",
    "#Отсротируем данные по количеству игр по убыванию\n",
    "sorted_games_by_platform = games_by_platform.sort_values(by='count',ascending=False)\n",
    "\n",
    "#Выведем топ-7 игровых платформ по количеству игр\n",
    "sorted_games_by_platform[0:7]"
   ]
  },
  {
   "cell_type": "markdown",
   "id": "388d73f6",
   "metadata": {
    "id": "e8d8a1d0"
   },
   "source": [
    "Таким образом, с помощью categorize_user_score и categorize_critic_score каждой игре были присвоены соответствующие категории в зависимости от оценок пользователей и критиков.\n",
    "\n",
    "В соответствии с оценками пользователей, количество игр с высокой оценкой составило 2857, со средней - 7195, с низкой - 133.\n",
    "\n",
    "В соответствии с оценками критиков, количество игр с высокой оценкой составило 1712, со средней - 6462, с низкой - 1826.\n",
    "\n",
    "Как видно из проведённой категоризации, количество игр с высокими оценками от пользователей значительно выше, чем количество игр с высокими оценками от критиков. При этом число игр с низкой оценкой от критиков значительно выше количества игр с низкой оценкой от пользователей.\n",
    "\n",
    "В топ-7 платформ по количеству игр вошли такие платформы как 'ps2', 'ds', 'wii', 'psp', 'x360', 'ps3', 'gba'."
   ]
  },
  {
   "cell_type": "markdown",
   "id": "c0158881",
   "metadata": {
    "id": "c0158881"
   },
   "source": [
    "---\n",
    "\n",
    "## 5. Итоговый вывод\n"
   ]
  },
  {
   "cell_type": "markdown",
   "id": "897d439e",
   "metadata": {
    "id": "20175f5b"
   },
   "source": [
    "В ходе проекта была проведена работа с данными датасета /datasets/new_games.csv, была проведена проверка данных, их предобработка, получен необходимый срез данных по году выхода игры, была проведена категоризация игр в соответствии с оценками критиков и пользователей, были выделены ведущие игровые платформы по количеству игр.\n",
    "\n",
    "На первом этапе анализа было проведено знакомство с данными, выявлено количество записей в исходном датасете, определено количество пропусков для каждтого столбца, рассмотрены типы данных для каждого столбца. В результате была выявлена необходимость в изменении типа данных для столбцов:\n",
    "\n",
    " * Critic Score;\n",
    " * Year of Release;\n",
    " * EU sales;\n",
    " * JP sales;\n",
    " * User Score;\n",
    " * Rating.\n",
    " \n",
    "На следующем этапе была проведена проверка ошибок в данных и их предобработка. Были изменены названия столбцов датасета /datasets/new_games.csv были приведены к формату snake case. Для столбцов eu_sales,jp_sales и user_score были изменены форматы с формата object на формат float32. Столбец year_of_release c формата object был приведён к формату int 16. Столбец critic_score с формата object был приведён к формату int8. Столбцу rating был присвоен формат category. Пропуски столбце year_of_release были заменены на индикатор 0. Пропущенные значения в столбцах name, genre и rating были заменены на пустые строки. Пропуски в столбцах eu_sales и eu_sales были заполнены исходя из средних значений в зависимости от названия платформы и года выхода игры. Пропуски в столбцах user_score и critic_score были заполнены исходя из значений в столбцах platform, na_sales, eu_sales, jp_sales, other_sales. Неявных дубликатов, образовавшихся вследствие опечаток, не выявлено. С помощью метода duplicated() было выявлено 241 явных дубликатов, что составило 1,42% от первоначальных данных. Дублирующеися строки были удалены с помощью метода drop_duplicates().\n",
    "\n",
    "После была проведена фильтрация данных по году выпуска игр. Был отобраны игры в период с 2000 по 2013 год включительно. Новый срез данных был сохранён в отдельном датафрейме games_actual, количество записей составило 12 980.\n",
    "\n",
    "На заключительном этапе была проведена категоризация игр в зависимости от оценок пользователей и оценок критиков. В результате было выявлено, что количество игр с высокими оценками от пользователей значительно выше, чем количество игр с высокими оценками от критиков. При этом число игр с низкой оценкой от критиков значительно выше количества игр с низкой оценкой от пользователей.\n",
    "Также на данным этапе было выделено топ-7 платформ по количеству игр, в который вошли такие платформы как 'ps2', 'ds', 'wii', 'psp', 'x360', 'ps3', 'gba'.\n"
   ]
  },
  {
   "cell_type": "code",
   "execution_count": null,
   "id": "0b345cd4",
   "metadata": {},
   "outputs": [],
   "source": []
  }
 ],
 "metadata": {
  "ExecuteTimeLog": [
   {
    "duration": 50,
    "start_time": "2025-03-25T13:40:16.472Z"
   },
   {
    "duration": 5,
    "start_time": "2025-03-25T13:40:32.397Z"
   },
   {
    "duration": 7,
    "start_time": "2025-03-25T13:40:59.287Z"
   },
   {
    "duration": 6,
    "start_time": "2025-03-25T13:42:03.594Z"
   },
   {
    "duration": 6,
    "start_time": "2025-03-25T13:42:24.109Z"
   },
   {
    "duration": 58,
    "start_time": "2025-03-25T13:42:39.776Z"
   },
   {
    "duration": 7,
    "start_time": "2025-03-25T13:42:57.059Z"
   },
   {
    "duration": 5,
    "start_time": "2025-03-25T13:43:14.458Z"
   },
   {
    "duration": 7,
    "start_time": "2025-03-25T13:43:26.224Z"
   },
   {
    "duration": 423,
    "start_time": "2025-03-25T13:44:02.068Z"
   },
   {
    "duration": 45,
    "start_time": "2025-03-25T13:44:04.575Z"
   },
   {
    "duration": 17,
    "start_time": "2025-03-25T13:44:57.441Z"
   },
   {
    "duration": 20,
    "start_time": "2025-03-25T13:45:17.366Z"
   },
   {
    "duration": 390,
    "start_time": "2025-03-25T13:45:36.008Z"
   },
   {
    "duration": 45,
    "start_time": "2025-03-25T13:45:38.311Z"
   },
   {
    "duration": 22,
    "start_time": "2025-03-25T13:45:40.332Z"
   },
   {
    "duration": 17,
    "start_time": "2025-03-25T13:45:44.211Z"
   },
   {
    "duration": 15,
    "start_time": "2025-03-25T13:46:47.201Z"
   },
   {
    "duration": 13,
    "start_time": "2025-03-25T13:47:36.099Z"
   },
   {
    "duration": 19,
    "start_time": "2025-03-25T14:05:58.194Z"
   },
   {
    "duration": 110,
    "start_time": "2025-03-25T14:08:05.710Z"
   },
   {
    "duration": 14,
    "start_time": "2025-03-25T14:08:27.179Z"
   },
   {
    "duration": 88,
    "start_time": "2025-03-25T14:09:06.180Z"
   },
   {
    "duration": 5,
    "start_time": "2025-03-25T14:10:18.567Z"
   },
   {
    "duration": 105,
    "start_time": "2025-03-25T14:15:36.149Z"
   },
   {
    "duration": 4,
    "start_time": "2025-03-25T14:15:46.120Z"
   },
   {
    "duration": 69,
    "start_time": "2025-03-25T14:18:03.198Z"
   },
   {
    "duration": 12,
    "start_time": "2025-03-25T14:18:18.451Z"
   },
   {
    "duration": 4,
    "start_time": "2025-03-25T14:18:37.521Z"
   },
   {
    "duration": 5,
    "start_time": "2025-03-25T14:18:51.515Z"
   },
   {
    "duration": 47,
    "start_time": "2025-03-25T15:38:33.649Z"
   },
   {
    "duration": 6,
    "start_time": "2025-03-25T15:40:31.622Z"
   },
   {
    "duration": 389,
    "start_time": "2025-03-25T15:40:42.801Z"
   },
   {
    "duration": 44,
    "start_time": "2025-03-25T15:40:45.118Z"
   },
   {
    "duration": 17,
    "start_time": "2025-03-25T15:40:47.518Z"
   },
   {
    "duration": 18,
    "start_time": "2025-03-25T15:40:56.641Z"
   },
   {
    "duration": 6,
    "start_time": "2025-03-25T15:41:02.059Z"
   },
   {
    "duration": 5,
    "start_time": "2025-03-25T15:41:16.169Z"
   },
   {
    "duration": 4,
    "start_time": "2025-03-25T15:41:41.976Z"
   },
   {
    "duration": 4,
    "start_time": "2025-03-25T15:41:51.657Z"
   },
   {
    "duration": 4,
    "start_time": "2025-03-25T15:42:22.607Z"
   },
   {
    "duration": 4,
    "start_time": "2025-03-25T15:42:43.074Z"
   },
   {
    "duration": 101,
    "start_time": "2025-03-25T15:43:57.082Z"
   },
   {
    "duration": 63,
    "start_time": "2025-03-25T15:50:18.314Z"
   },
   {
    "duration": 5,
    "start_time": "2025-03-25T15:50:25.381Z"
   },
   {
    "duration": 5,
    "start_time": "2025-03-25T16:15:36.903Z"
   },
   {
    "duration": 8,
    "start_time": "2025-03-25T16:15:39.315Z"
   },
   {
    "duration": 3,
    "start_time": "2025-03-25T16:34:04.122Z"
   },
   {
    "duration": 11,
    "start_time": "2025-03-25T16:34:07.880Z"
   },
   {
    "duration": 121,
    "start_time": "2025-03-26T06:13:16.590Z"
   },
   {
    "duration": 5,
    "start_time": "2025-03-26T06:14:18.454Z"
   },
   {
    "duration": 414,
    "start_time": "2025-03-26T06:17:19.475Z"
   },
   {
    "duration": 59,
    "start_time": "2025-03-26T06:17:21.430Z"
   },
   {
    "duration": 15,
    "start_time": "2025-03-26T06:17:26.006Z"
   },
   {
    "duration": 18,
    "start_time": "2025-03-26T06:17:29.500Z"
   },
   {
    "duration": 6,
    "start_time": "2025-03-26T06:17:33.957Z"
   },
   {
    "duration": 5,
    "start_time": "2025-03-26T06:17:38.365Z"
   },
   {
    "duration": 5,
    "start_time": "2025-03-26T06:17:41.017Z"
   },
   {
    "duration": 13,
    "start_time": "2025-03-26T06:17:43.365Z"
   },
   {
    "duration": 5,
    "start_time": "2025-03-26T06:17:47.333Z"
   },
   {
    "duration": 3,
    "start_time": "2025-03-26T06:22:05.337Z"
   },
   {
    "duration": 3,
    "start_time": "2025-03-26T06:22:11.059Z"
   },
   {
    "duration": 2,
    "start_time": "2025-03-26T06:22:24.339Z"
   },
   {
    "duration": 74,
    "start_time": "2025-03-26T06:23:29.725Z"
   },
   {
    "duration": 7,
    "start_time": "2025-03-26T06:23:48.491Z"
   },
   {
    "duration": 8,
    "start_time": "2025-03-26T06:25:10.778Z"
   },
   {
    "duration": 3,
    "start_time": "2025-03-26T06:26:32.702Z"
   },
   {
    "duration": 4,
    "start_time": "2025-03-26T06:26:48.814Z"
   },
   {
    "duration": 5,
    "start_time": "2025-03-26T06:26:57.985Z"
   },
   {
    "duration": 4,
    "start_time": "2025-03-26T06:28:44.390Z"
   },
   {
    "duration": 4,
    "start_time": "2025-03-26T06:28:46.999Z"
   },
   {
    "duration": 413,
    "start_time": "2025-03-26T06:29:42.491Z"
   },
   {
    "duration": 43,
    "start_time": "2025-03-26T06:29:45.076Z"
   },
   {
    "duration": 15,
    "start_time": "2025-03-26T06:29:47.950Z"
   },
   {
    "duration": 18,
    "start_time": "2025-03-26T06:29:51.153Z"
   },
   {
    "duration": 5,
    "start_time": "2025-03-26T06:30:02.476Z"
   },
   {
    "duration": 5,
    "start_time": "2025-03-26T06:30:06.886Z"
   },
   {
    "duration": 5,
    "start_time": "2025-03-26T06:30:09.178Z"
   },
   {
    "duration": 10,
    "start_time": "2025-03-26T06:30:12.695Z"
   },
   {
    "duration": 4,
    "start_time": "2025-03-26T06:30:18.110Z"
   },
   {
    "duration": 3,
    "start_time": "2025-03-26T06:30:21.633Z"
   },
   {
    "duration": 5,
    "start_time": "2025-03-26T06:30:25.390Z"
   },
   {
    "duration": 67,
    "start_time": "2025-03-26T07:00:54.315Z"
   },
   {
    "duration": 12,
    "start_time": "2025-03-26T07:02:07.842Z"
   },
   {
    "duration": 7,
    "start_time": "2025-03-26T07:08:57.320Z"
   },
   {
    "duration": 11,
    "start_time": "2025-03-26T07:09:12.413Z"
   },
   {
    "duration": 8,
    "start_time": "2025-03-26T07:09:28.316Z"
   },
   {
    "duration": 6,
    "start_time": "2025-03-26T07:09:35.419Z"
   },
   {
    "duration": 16,
    "start_time": "2025-03-26T07:09:45.697Z"
   },
   {
    "duration": 7,
    "start_time": "2025-03-26T07:10:00.958Z"
   },
   {
    "duration": 16,
    "start_time": "2025-03-26T07:10:04.761Z"
   },
   {
    "duration": 6,
    "start_time": "2025-03-26T07:11:56.219Z"
   },
   {
    "duration": 12,
    "start_time": "2025-03-26T07:11:59.175Z"
   },
   {
    "duration": 7,
    "start_time": "2025-03-26T07:12:15.064Z"
   },
   {
    "duration": 6,
    "start_time": "2025-03-26T07:12:24.977Z"
   },
   {
    "duration": 11,
    "start_time": "2025-03-26T07:12:50.371Z"
   },
   {
    "duration": 7,
    "start_time": "2025-03-26T07:16:02.974Z"
   },
   {
    "duration": 12,
    "start_time": "2025-03-26T07:16:05.488Z"
   },
   {
    "duration": 7,
    "start_time": "2025-03-26T07:23:32.397Z"
   },
   {
    "duration": 11,
    "start_time": "2025-03-26T07:23:35.383Z"
   },
   {
    "duration": 339,
    "start_time": "2025-03-26T07:24:07.552Z"
   },
   {
    "duration": 52,
    "start_time": "2025-03-26T07:24:09.425Z"
   },
   {
    "duration": 14,
    "start_time": "2025-03-26T07:24:11.046Z"
   },
   {
    "duration": 18,
    "start_time": "2025-03-26T07:24:14.397Z"
   },
   {
    "duration": 5,
    "start_time": "2025-03-26T07:24:17.512Z"
   },
   {
    "duration": 4,
    "start_time": "2025-03-26T07:24:19.524Z"
   },
   {
    "duration": 4,
    "start_time": "2025-03-26T07:24:22.498Z"
   },
   {
    "duration": 10,
    "start_time": "2025-03-26T07:24:24.958Z"
   },
   {
    "duration": 4,
    "start_time": "2025-03-26T07:24:29.081Z"
   },
   {
    "duration": 3,
    "start_time": "2025-03-26T07:24:31.330Z"
   },
   {
    "duration": 3,
    "start_time": "2025-03-26T07:24:34.332Z"
   },
   {
    "duration": 6,
    "start_time": "2025-03-26T07:24:38.455Z"
   },
   {
    "duration": 9,
    "start_time": "2025-03-26T07:24:41.089Z"
   },
   {
    "duration": 65,
    "start_time": "2025-03-26T07:25:12.954Z"
   },
   {
    "duration": 357,
    "start_time": "2025-03-26T07:25:35.235Z"
   },
   {
    "duration": 41,
    "start_time": "2025-03-26T07:25:37.066Z"
   },
   {
    "duration": 14,
    "start_time": "2025-03-26T07:25:39.714Z"
   },
   {
    "duration": 17,
    "start_time": "2025-03-26T07:25:42.781Z"
   },
   {
    "duration": 4,
    "start_time": "2025-03-26T07:25:45.654Z"
   },
   {
    "duration": 4,
    "start_time": "2025-03-26T07:25:47.340Z"
   },
   {
    "duration": 5,
    "start_time": "2025-03-26T07:25:49.928Z"
   },
   {
    "duration": 4,
    "start_time": "2025-03-26T07:25:56.895Z"
   },
   {
    "duration": 5,
    "start_time": "2025-03-26T07:25:58.861Z"
   },
   {
    "duration": 4,
    "start_time": "2025-03-26T07:26:01.835Z"
   },
   {
    "duration": 6,
    "start_time": "2025-03-26T07:26:05.301Z"
   },
   {
    "duration": 67,
    "start_time": "2025-03-26T07:26:07.972Z"
   },
   {
    "duration": 10,
    "start_time": "2025-03-26T07:27:14.085Z"
   },
   {
    "duration": 7,
    "start_time": "2025-03-26T07:28:01.378Z"
   },
   {
    "duration": 7,
    "start_time": "2025-03-26T07:28:05.517Z"
   },
   {
    "duration": 7,
    "start_time": "2025-03-26T07:29:04.663Z"
   },
   {
    "duration": 4,
    "start_time": "2025-03-26T07:30:02.380Z"
   },
   {
    "duration": 4,
    "start_time": "2025-03-26T07:30:31.921Z"
   },
   {
    "duration": 14,
    "start_time": "2025-03-26T07:32:28.380Z"
   },
   {
    "duration": 10,
    "start_time": "2025-03-26T07:32:46.777Z"
   },
   {
    "duration": 5,
    "start_time": "2025-03-26T07:32:58.101Z"
   },
   {
    "duration": 410,
    "start_time": "2025-03-26T07:33:26.181Z"
   },
   {
    "duration": 45,
    "start_time": "2025-03-26T07:33:28.229Z"
   },
   {
    "duration": 15,
    "start_time": "2025-03-26T07:33:29.940Z"
   },
   {
    "duration": 17,
    "start_time": "2025-03-26T07:33:32.273Z"
   },
   {
    "duration": 5,
    "start_time": "2025-03-26T07:33:35.519Z"
   },
   {
    "duration": 4,
    "start_time": "2025-03-26T07:33:37.852Z"
   },
   {
    "duration": 5,
    "start_time": "2025-03-26T07:33:39.882Z"
   },
   {
    "duration": 10,
    "start_time": "2025-03-26T07:33:42.493Z"
   },
   {
    "duration": 4,
    "start_time": "2025-03-26T07:33:46.272Z"
   },
   {
    "duration": 3,
    "start_time": "2025-03-26T07:33:48.471Z"
   },
   {
    "duration": 4,
    "start_time": "2025-03-26T07:33:51.275Z"
   },
   {
    "duration": 7,
    "start_time": "2025-03-26T07:33:56.127Z"
   },
   {
    "duration": 7,
    "start_time": "2025-03-26T07:34:02.800Z"
   },
   {
    "duration": 9,
    "start_time": "2025-03-26T07:34:18.668Z"
   },
   {
    "duration": 7,
    "start_time": "2025-03-26T07:34:20.925Z"
   },
   {
    "duration": 4,
    "start_time": "2025-03-26T07:34:23.531Z"
   },
   {
    "duration": 5,
    "start_time": "2025-03-26T07:34:25.423Z"
   },
   {
    "duration": 6,
    "start_time": "2025-03-26T07:35:03.453Z"
   },
   {
    "duration": 391,
    "start_time": "2025-03-26T07:35:24.113Z"
   },
   {
    "duration": 42,
    "start_time": "2025-03-26T07:35:24.506Z"
   },
   {
    "duration": 15,
    "start_time": "2025-03-26T07:35:24.549Z"
   },
   {
    "duration": 19,
    "start_time": "2025-03-26T07:35:24.566Z"
   },
   {
    "duration": 4,
    "start_time": "2025-03-26T07:35:24.587Z"
   },
   {
    "duration": 14,
    "start_time": "2025-03-26T07:35:24.592Z"
   },
   {
    "duration": 4,
    "start_time": "2025-03-26T07:35:24.607Z"
   },
   {
    "duration": 13,
    "start_time": "2025-03-26T07:35:24.612Z"
   },
   {
    "duration": 3,
    "start_time": "2025-03-26T07:35:24.627Z"
   },
   {
    "duration": 4,
    "start_time": "2025-03-26T07:35:24.632Z"
   },
   {
    "duration": 12,
    "start_time": "2025-03-26T07:35:24.637Z"
   },
   {
    "duration": 13,
    "start_time": "2025-03-26T07:35:24.650Z"
   },
   {
    "duration": 13,
    "start_time": "2025-03-26T07:35:24.664Z"
   },
   {
    "duration": 29,
    "start_time": "2025-03-26T07:35:24.678Z"
   },
   {
    "duration": 6,
    "start_time": "2025-03-26T07:35:24.709Z"
   },
   {
    "duration": 4,
    "start_time": "2025-03-26T07:35:24.716Z"
   },
   {
    "duration": 13,
    "start_time": "2025-03-26T07:35:24.721Z"
   },
   {
    "duration": 7,
    "start_time": "2025-03-26T07:36:24.083Z"
   },
   {
    "duration": 345,
    "start_time": "2025-03-26T07:36:32.051Z"
   },
   {
    "duration": 53,
    "start_time": "2025-03-26T07:36:32.398Z"
   },
   {
    "duration": 14,
    "start_time": "2025-03-26T07:36:32.453Z"
   },
   {
    "duration": 51,
    "start_time": "2025-03-26T07:36:32.468Z"
   },
   {
    "duration": 29,
    "start_time": "2025-03-26T07:36:32.520Z"
   },
   {
    "duration": 42,
    "start_time": "2025-03-26T07:36:32.551Z"
   },
   {
    "duration": 116,
    "start_time": "2025-03-26T07:36:32.594Z"
   },
   {
    "duration": 20,
    "start_time": "2025-03-26T07:36:32.712Z"
   },
   {
    "duration": 35,
    "start_time": "2025-03-26T07:36:32.734Z"
   },
   {
    "duration": 18,
    "start_time": "2025-03-26T07:36:32.771Z"
   },
   {
    "duration": 24,
    "start_time": "2025-03-26T07:36:32.791Z"
   },
   {
    "duration": 15,
    "start_time": "2025-03-26T07:36:32.816Z"
   },
   {
    "duration": 93,
    "start_time": "2025-03-26T07:36:32.832Z"
   },
   {
    "duration": 0,
    "start_time": "2025-03-26T07:36:32.926Z"
   },
   {
    "duration": 0,
    "start_time": "2025-03-26T07:36:32.927Z"
   },
   {
    "duration": 0,
    "start_time": "2025-03-26T07:36:32.929Z"
   },
   {
    "duration": 364,
    "start_time": "2025-03-26T07:37:35.735Z"
   },
   {
    "duration": 53,
    "start_time": "2025-03-26T07:37:36.100Z"
   },
   {
    "duration": 22,
    "start_time": "2025-03-26T07:37:36.155Z"
   },
   {
    "duration": 39,
    "start_time": "2025-03-26T07:37:36.179Z"
   },
   {
    "duration": 6,
    "start_time": "2025-03-26T07:37:36.220Z"
   },
   {
    "duration": 32,
    "start_time": "2025-03-26T07:37:36.227Z"
   },
   {
    "duration": 48,
    "start_time": "2025-03-26T07:37:36.261Z"
   },
   {
    "duration": 29,
    "start_time": "2025-03-26T07:37:36.310Z"
   },
   {
    "duration": 43,
    "start_time": "2025-03-26T07:37:36.340Z"
   },
   {
    "duration": 76,
    "start_time": "2025-03-26T07:37:36.385Z"
   },
   {
    "duration": 22,
    "start_time": "2025-03-26T07:37:36.463Z"
   },
   {
    "duration": 71,
    "start_time": "2025-03-26T07:37:36.487Z"
   },
   {
    "duration": 13,
    "start_time": "2025-03-26T07:37:36.560Z"
   },
   {
    "duration": 126,
    "start_time": "2025-03-26T07:37:36.575Z"
   },
   {
    "duration": 93,
    "start_time": "2025-03-26T07:37:36.703Z"
   },
   {
    "duration": 25,
    "start_time": "2025-03-26T07:37:36.798Z"
   },
   {
    "duration": 6,
    "start_time": "2025-03-26T07:39:58.723Z"
   },
   {
    "duration": 4,
    "start_time": "2025-03-26T07:40:07.304Z"
   },
   {
    "duration": 6,
    "start_time": "2025-03-26T07:41:55.672Z"
   },
   {
    "duration": 343,
    "start_time": "2025-03-26T07:42:06.157Z"
   },
   {
    "duration": 43,
    "start_time": "2025-03-26T07:42:06.504Z"
   },
   {
    "duration": 15,
    "start_time": "2025-03-26T07:42:06.548Z"
   },
   {
    "duration": 58,
    "start_time": "2025-03-26T07:42:06.565Z"
   },
   {
    "duration": 114,
    "start_time": "2025-03-26T07:42:06.624Z"
   },
   {
    "duration": 40,
    "start_time": "2025-03-26T07:42:06.739Z"
   },
   {
    "duration": 36,
    "start_time": "2025-03-26T07:42:06.781Z"
   },
   {
    "duration": 11,
    "start_time": "2025-03-26T07:42:06.819Z"
   },
   {
    "duration": 19,
    "start_time": "2025-03-26T07:42:06.832Z"
   },
   {
    "duration": 7,
    "start_time": "2025-03-26T07:42:06.853Z"
   },
   {
    "duration": 8,
    "start_time": "2025-03-26T07:42:06.862Z"
   },
   {
    "duration": 134,
    "start_time": "2025-03-26T07:42:06.871Z"
   },
   {
    "duration": 131,
    "start_time": "2025-03-26T07:42:07.007Z"
   },
   {
    "duration": 53,
    "start_time": "2025-03-26T07:42:07.140Z"
   },
   {
    "duration": 46,
    "start_time": "2025-03-26T07:42:07.194Z"
   },
   {
    "duration": 27,
    "start_time": "2025-03-26T07:42:07.241Z"
   },
   {
    "duration": 4,
    "start_time": "2025-03-26T07:44:18.325Z"
   },
   {
    "duration": 411,
    "start_time": "2025-03-26T07:48:24.893Z"
   },
   {
    "duration": 42,
    "start_time": "2025-03-26T07:48:25.306Z"
   },
   {
    "duration": 16,
    "start_time": "2025-03-26T07:48:25.350Z"
   },
   {
    "duration": 22,
    "start_time": "2025-03-26T07:48:25.368Z"
   },
   {
    "duration": 5,
    "start_time": "2025-03-26T07:48:25.391Z"
   },
   {
    "duration": 4,
    "start_time": "2025-03-26T07:48:25.404Z"
   },
   {
    "duration": 7,
    "start_time": "2025-03-26T07:48:25.410Z"
   },
   {
    "duration": 10,
    "start_time": "2025-03-26T07:48:25.419Z"
   },
   {
    "duration": 6,
    "start_time": "2025-03-26T07:48:25.430Z"
   },
   {
    "duration": 5,
    "start_time": "2025-03-26T07:48:25.438Z"
   },
   {
    "duration": 14,
    "start_time": "2025-03-26T07:48:25.444Z"
   },
   {
    "duration": 16,
    "start_time": "2025-03-26T07:48:25.459Z"
   },
   {
    "duration": 14,
    "start_time": "2025-03-26T07:48:25.476Z"
   },
   {
    "duration": 16,
    "start_time": "2025-03-26T07:48:25.491Z"
   },
   {
    "duration": 9,
    "start_time": "2025-03-26T07:48:25.509Z"
   },
   {
    "duration": 6,
    "start_time": "2025-03-26T07:48:25.520Z"
   },
   {
    "duration": 4,
    "start_time": "2025-03-26T07:57:24.886Z"
   },
   {
    "duration": 3,
    "start_time": "2025-03-26T07:58:21.736Z"
   },
   {
    "duration": 162,
    "start_time": "2025-03-26T08:00:45.629Z"
   },
   {
    "duration": 57,
    "start_time": "2025-03-26T08:01:20.084Z"
   },
   {
    "duration": 182,
    "start_time": "2025-03-26T08:01:29.355Z"
   },
   {
    "duration": 5,
    "start_time": "2025-03-26T08:02:08.512Z"
   },
   {
    "duration": 5,
    "start_time": "2025-03-26T08:02:44.840Z"
   },
   {
    "duration": 6,
    "start_time": "2025-03-26T08:03:35.367Z"
   },
   {
    "duration": 6,
    "start_time": "2025-03-26T08:03:39.141Z"
   },
   {
    "duration": 9,
    "start_time": "2025-03-26T08:40:25.478Z"
   },
   {
    "duration": 3,
    "start_time": "2025-03-26T08:43:49.918Z"
   },
   {
    "duration": 407,
    "start_time": "2025-03-26T08:45:04.901Z"
   },
   {
    "duration": 43,
    "start_time": "2025-03-26T08:45:05.310Z"
   },
   {
    "duration": 66,
    "start_time": "2025-03-26T08:45:05.354Z"
   },
   {
    "duration": 109,
    "start_time": "2025-03-26T08:45:05.422Z"
   },
   {
    "duration": 9,
    "start_time": "2025-03-26T08:45:05.533Z"
   },
   {
    "duration": 24,
    "start_time": "2025-03-26T08:45:05.544Z"
   },
   {
    "duration": 21,
    "start_time": "2025-03-26T08:45:05.570Z"
   },
   {
    "duration": 26,
    "start_time": "2025-03-26T08:45:05.592Z"
   },
   {
    "duration": 4,
    "start_time": "2025-03-26T08:45:05.620Z"
   },
   {
    "duration": 13,
    "start_time": "2025-03-26T08:45:05.626Z"
   },
   {
    "duration": 48,
    "start_time": "2025-03-26T08:45:05.641Z"
   },
   {
    "duration": 26,
    "start_time": "2025-03-26T08:45:05.690Z"
   },
   {
    "duration": 8,
    "start_time": "2025-03-26T08:45:05.718Z"
   },
   {
    "duration": 32,
    "start_time": "2025-03-26T08:45:05.727Z"
   },
   {
    "duration": 24,
    "start_time": "2025-03-26T08:45:05.760Z"
   },
   {
    "duration": 9,
    "start_time": "2025-03-26T08:45:05.786Z"
   },
   {
    "duration": 24,
    "start_time": "2025-03-26T08:45:05.797Z"
   },
   {
    "duration": 1091,
    "start_time": "2025-03-26T08:45:05.822Z"
   },
   {
    "duration": 0,
    "start_time": "2025-03-26T08:45:06.915Z"
   },
   {
    "duration": 1101,
    "start_time": "2025-03-26T08:45:54.422Z"
   },
   {
    "duration": 1000,
    "start_time": "2025-03-26T08:46:25.550Z"
   },
   {
    "duration": 6,
    "start_time": "2025-03-26T08:46:40.381Z"
   },
   {
    "duration": 7,
    "start_time": "2025-03-26T08:46:53.849Z"
   },
   {
    "duration": 14,
    "start_time": "2025-03-26T08:47:34.131Z"
   },
   {
    "duration": 3,
    "start_time": "2025-03-26T08:48:11.131Z"
   },
   {
    "duration": 2,
    "start_time": "2025-03-26T08:48:13.916Z"
   },
   {
    "duration": 377,
    "start_time": "2025-03-26T08:48:18.036Z"
   },
   {
    "duration": 43,
    "start_time": "2025-03-26T08:48:18.415Z"
   },
   {
    "duration": 14,
    "start_time": "2025-03-26T08:48:18.459Z"
   },
   {
    "duration": 17,
    "start_time": "2025-03-26T08:48:18.475Z"
   },
   {
    "duration": 12,
    "start_time": "2025-03-26T08:48:18.493Z"
   },
   {
    "duration": 4,
    "start_time": "2025-03-26T08:48:18.507Z"
   },
   {
    "duration": 5,
    "start_time": "2025-03-26T08:48:18.512Z"
   },
   {
    "duration": 12,
    "start_time": "2025-03-26T08:48:18.518Z"
   },
   {
    "duration": 5,
    "start_time": "2025-03-26T08:48:18.531Z"
   },
   {
    "duration": 7,
    "start_time": "2025-03-26T08:48:18.537Z"
   },
   {
    "duration": 12,
    "start_time": "2025-03-26T08:48:18.545Z"
   },
   {
    "duration": 20,
    "start_time": "2025-03-26T08:48:18.558Z"
   },
   {
    "duration": 12,
    "start_time": "2025-03-26T08:48:18.579Z"
   },
   {
    "duration": 12,
    "start_time": "2025-03-26T08:48:18.592Z"
   },
   {
    "duration": 30,
    "start_time": "2025-03-26T08:48:18.605Z"
   },
   {
    "duration": 30,
    "start_time": "2025-03-26T08:48:18.637Z"
   },
   {
    "duration": 17,
    "start_time": "2025-03-26T08:48:18.668Z"
   },
   {
    "duration": 6,
    "start_time": "2025-03-26T08:48:18.686Z"
   },
   {
    "duration": 12,
    "start_time": "2025-03-26T08:48:18.694Z"
   },
   {
    "duration": 5,
    "start_time": "2025-03-26T08:52:46.296Z"
   },
   {
    "duration": 14,
    "start_time": "2025-03-26T08:53:05.111Z"
   },
   {
    "duration": 5,
    "start_time": "2025-03-26T08:53:14.313Z"
   },
   {
    "duration": 1254,
    "start_time": "2025-03-26T08:53:36.528Z"
   },
   {
    "duration": 13,
    "start_time": "2025-03-26T08:53:53.343Z"
   },
   {
    "duration": 4,
    "start_time": "2025-03-26T08:54:44.518Z"
   },
   {
    "duration": 3,
    "start_time": "2025-03-26T08:55:18.709Z"
   },
   {
    "duration": 11,
    "start_time": "2025-03-26T08:55:38.735Z"
   },
   {
    "duration": 12,
    "start_time": "2025-03-26T08:55:55.955Z"
   },
   {
    "duration": 7,
    "start_time": "2025-03-26T08:56:24.476Z"
   },
   {
    "duration": 7,
    "start_time": "2025-03-26T08:56:30.571Z"
   },
   {
    "duration": 13,
    "start_time": "2025-03-26T08:56:49.751Z"
   },
   {
    "duration": 12,
    "start_time": "2025-03-26T08:57:58.063Z"
   },
   {
    "duration": 5,
    "start_time": "2025-03-26T08:58:38.213Z"
   },
   {
    "duration": 11,
    "start_time": "2025-03-26T08:58:41.949Z"
   },
   {
    "duration": 363,
    "start_time": "2025-03-26T08:58:45.855Z"
   },
   {
    "duration": 45,
    "start_time": "2025-03-26T08:58:46.220Z"
   },
   {
    "duration": 16,
    "start_time": "2025-03-26T08:58:46.266Z"
   },
   {
    "duration": 24,
    "start_time": "2025-03-26T08:58:46.284Z"
   },
   {
    "duration": 4,
    "start_time": "2025-03-26T08:58:46.310Z"
   },
   {
    "duration": 5,
    "start_time": "2025-03-26T08:58:46.315Z"
   },
   {
    "duration": 4,
    "start_time": "2025-03-26T08:58:46.321Z"
   },
   {
    "duration": 10,
    "start_time": "2025-03-26T08:58:46.327Z"
   },
   {
    "duration": 19,
    "start_time": "2025-03-26T08:58:46.338Z"
   },
   {
    "duration": 10,
    "start_time": "2025-03-26T08:58:46.359Z"
   },
   {
    "duration": 7,
    "start_time": "2025-03-26T08:58:46.370Z"
   },
   {
    "duration": 11,
    "start_time": "2025-03-26T08:58:46.379Z"
   },
   {
    "duration": 49,
    "start_time": "2025-03-26T08:58:46.391Z"
   },
   {
    "duration": 13,
    "start_time": "2025-03-26T08:58:46.442Z"
   },
   {
    "duration": 22,
    "start_time": "2025-03-26T08:58:46.456Z"
   },
   {
    "duration": 19,
    "start_time": "2025-03-26T08:58:46.480Z"
   },
   {
    "duration": 9,
    "start_time": "2025-03-26T08:58:46.500Z"
   },
   {
    "duration": 4,
    "start_time": "2025-03-26T08:58:46.510Z"
   },
   {
    "duration": 14,
    "start_time": "2025-03-26T08:58:46.515Z"
   },
   {
    "duration": 68,
    "start_time": "2025-03-26T08:58:46.530Z"
   },
   {
    "duration": 6,
    "start_time": "2025-03-26T08:58:59.870Z"
   },
   {
    "duration": 4,
    "start_time": "2025-03-26T08:59:10.795Z"
   },
   {
    "duration": 11,
    "start_time": "2025-03-26T08:59:27.083Z"
   },
   {
    "duration": 20,
    "start_time": "2025-03-26T09:03:41.924Z"
   },
   {
    "duration": 8,
    "start_time": "2025-03-26T09:04:31.085Z"
   },
   {
    "duration": 4,
    "start_time": "2025-03-26T09:05:09.165Z"
   },
   {
    "duration": 4,
    "start_time": "2025-03-26T09:05:13.254Z"
   },
   {
    "duration": 9,
    "start_time": "2025-03-26T09:05:23.127Z"
   },
   {
    "duration": 4,
    "start_time": "2025-03-26T09:10:53.034Z"
   },
   {
    "duration": 3,
    "start_time": "2025-03-26T09:11:33.557Z"
   },
   {
    "duration": 15,
    "start_time": "2025-03-26T09:11:52.986Z"
   },
   {
    "duration": 3,
    "start_time": "2025-03-26T09:12:06.450Z"
   },
   {
    "duration": 13,
    "start_time": "2025-03-26T09:12:08.414Z"
   },
   {
    "duration": 3,
    "start_time": "2025-03-26T09:12:22.755Z"
   },
   {
    "duration": 14,
    "start_time": "2025-03-26T09:12:38.183Z"
   },
   {
    "duration": 8,
    "start_time": "2025-03-26T09:12:57.916Z"
   },
   {
    "duration": 4,
    "start_time": "2025-03-26T09:13:05.724Z"
   },
   {
    "duration": 12,
    "start_time": "2025-03-26T09:13:08.610Z"
   },
   {
    "duration": 373,
    "start_time": "2025-03-26T09:13:16.236Z"
   },
   {
    "duration": 53,
    "start_time": "2025-03-26T09:13:16.611Z"
   },
   {
    "duration": 15,
    "start_time": "2025-03-26T09:13:16.666Z"
   },
   {
    "duration": 39,
    "start_time": "2025-03-26T09:13:16.683Z"
   },
   {
    "duration": 7,
    "start_time": "2025-03-26T09:13:16.723Z"
   },
   {
    "duration": 6,
    "start_time": "2025-03-26T09:13:16.731Z"
   },
   {
    "duration": 8,
    "start_time": "2025-03-26T09:13:16.738Z"
   },
   {
    "duration": 15,
    "start_time": "2025-03-26T09:13:16.747Z"
   },
   {
    "duration": 19,
    "start_time": "2025-03-26T09:13:16.764Z"
   },
   {
    "duration": 12,
    "start_time": "2025-03-26T09:13:16.785Z"
   },
   {
    "duration": 9,
    "start_time": "2025-03-26T09:13:16.799Z"
   },
   {
    "duration": 16,
    "start_time": "2025-03-26T09:13:16.810Z"
   },
   {
    "duration": 10,
    "start_time": "2025-03-26T09:13:16.827Z"
   },
   {
    "duration": 11,
    "start_time": "2025-03-26T09:13:16.839Z"
   },
   {
    "duration": 15,
    "start_time": "2025-03-26T09:13:16.851Z"
   },
   {
    "duration": 9,
    "start_time": "2025-03-26T09:13:16.867Z"
   },
   {
    "duration": 7,
    "start_time": "2025-03-26T09:13:16.878Z"
   },
   {
    "duration": 4,
    "start_time": "2025-03-26T09:13:16.886Z"
   },
   {
    "duration": 24,
    "start_time": "2025-03-26T09:13:16.892Z"
   },
   {
    "duration": 38,
    "start_time": "2025-03-26T09:13:16.917Z"
   },
   {
    "duration": 4,
    "start_time": "2025-03-26T09:13:16.957Z"
   },
   {
    "duration": 21,
    "start_time": "2025-03-26T09:13:16.963Z"
   },
   {
    "duration": 4,
    "start_time": "2025-03-26T09:19:39.025Z"
   },
   {
    "duration": 4,
    "start_time": "2025-03-26T09:31:51.197Z"
   },
   {
    "duration": 4,
    "start_time": "2025-03-26T09:32:37.238Z"
   },
   {
    "duration": 14,
    "start_time": "2025-03-26T09:32:41.717Z"
   },
   {
    "duration": 7,
    "start_time": "2025-03-26T09:37:40.855Z"
   },
   {
    "duration": 5,
    "start_time": "2025-03-26T09:38:18.995Z"
   },
   {
    "duration": 16,
    "start_time": "2025-03-26T09:38:23.221Z"
   },
   {
    "duration": 62,
    "start_time": "2025-03-26T09:42:08.114Z"
   },
   {
    "duration": 6,
    "start_time": "2025-03-26T09:42:14.925Z"
   },
   {
    "duration": 4,
    "start_time": "2025-03-26T09:50:53.517Z"
   },
   {
    "duration": 13,
    "start_time": "2025-03-26T09:50:56.560Z"
   },
   {
    "duration": 8,
    "start_time": "2025-03-26T10:30:35.982Z"
   },
   {
    "duration": 11,
    "start_time": "2025-03-26T10:36:28.194Z"
   },
   {
    "duration": 404,
    "start_time": "2025-03-26T10:42:29.603Z"
   },
   {
    "duration": 45,
    "start_time": "2025-03-26T10:42:30.009Z"
   },
   {
    "duration": 84,
    "start_time": "2025-03-26T10:42:30.056Z"
   },
   {
    "duration": 66,
    "start_time": "2025-03-26T10:42:30.142Z"
   },
   {
    "duration": 21,
    "start_time": "2025-03-26T10:42:30.209Z"
   },
   {
    "duration": 23,
    "start_time": "2025-03-26T10:42:30.231Z"
   },
   {
    "duration": 55,
    "start_time": "2025-03-26T10:42:30.256Z"
   },
   {
    "duration": 31,
    "start_time": "2025-03-26T10:42:30.313Z"
   },
   {
    "duration": 33,
    "start_time": "2025-03-26T10:42:30.345Z"
   },
   {
    "duration": 40,
    "start_time": "2025-03-26T10:42:30.381Z"
   },
   {
    "duration": 87,
    "start_time": "2025-03-26T10:42:30.422Z"
   },
   {
    "duration": 11,
    "start_time": "2025-03-26T10:42:30.511Z"
   },
   {
    "duration": 19,
    "start_time": "2025-03-26T10:42:30.523Z"
   },
   {
    "duration": 33,
    "start_time": "2025-03-26T10:42:30.544Z"
   },
   {
    "duration": 33,
    "start_time": "2025-03-26T10:42:30.578Z"
   },
   {
    "duration": 94,
    "start_time": "2025-03-26T10:42:30.613Z"
   },
   {
    "duration": 107,
    "start_time": "2025-03-26T10:42:30.709Z"
   },
   {
    "duration": 17,
    "start_time": "2025-03-26T10:42:30.818Z"
   },
   {
    "duration": 21,
    "start_time": "2025-03-26T10:42:30.836Z"
   },
   {
    "duration": 38,
    "start_time": "2025-03-26T10:42:30.858Z"
   },
   {
    "duration": 19,
    "start_time": "2025-03-26T10:42:30.898Z"
   },
   {
    "duration": 14,
    "start_time": "2025-03-26T10:42:30.918Z"
   },
   {
    "duration": 22,
    "start_time": "2025-03-26T10:42:30.933Z"
   },
   {
    "duration": 43,
    "start_time": "2025-03-26T10:42:30.957Z"
   },
   {
    "duration": 23,
    "start_time": "2025-03-26T10:42:31.001Z"
   },
   {
    "duration": 22,
    "start_time": "2025-03-26T10:42:31.025Z"
   },
   {
    "duration": 16,
    "start_time": "2025-03-26T10:42:31.049Z"
   },
   {
    "duration": 26,
    "start_time": "2025-03-26T10:42:31.069Z"
   },
   {
    "duration": 61,
    "start_time": "2025-03-26T10:46:54.733Z"
   },
   {
    "duration": 8,
    "start_time": "2025-03-26T10:47:02.313Z"
   },
   {
    "duration": 8,
    "start_time": "2025-03-26T10:47:13.931Z"
   },
   {
    "duration": 12,
    "start_time": "2025-03-26T10:47:26.746Z"
   },
   {
    "duration": 8,
    "start_time": "2025-03-26T10:47:43.170Z"
   },
   {
    "duration": 416,
    "start_time": "2025-03-26T10:50:27.345Z"
   },
   {
    "duration": 51,
    "start_time": "2025-03-26T10:50:27.763Z"
   },
   {
    "duration": 81,
    "start_time": "2025-03-26T10:50:27.816Z"
   },
   {
    "duration": 26,
    "start_time": "2025-03-26T10:50:27.899Z"
   },
   {
    "duration": 6,
    "start_time": "2025-03-26T10:50:27.927Z"
   },
   {
    "duration": 14,
    "start_time": "2025-03-26T10:50:27.934Z"
   },
   {
    "duration": 10,
    "start_time": "2025-03-26T10:50:27.950Z"
   },
   {
    "duration": 19,
    "start_time": "2025-03-26T10:50:27.962Z"
   },
   {
    "duration": 4,
    "start_time": "2025-03-26T10:50:27.983Z"
   },
   {
    "duration": 15,
    "start_time": "2025-03-26T10:50:27.989Z"
   },
   {
    "duration": 9,
    "start_time": "2025-03-26T10:50:28.006Z"
   },
   {
    "duration": 14,
    "start_time": "2025-03-26T10:50:28.016Z"
   },
   {
    "duration": 21,
    "start_time": "2025-03-26T10:50:28.031Z"
   },
   {
    "duration": 91,
    "start_time": "2025-03-26T10:50:28.053Z"
   },
   {
    "duration": 35,
    "start_time": "2025-03-26T10:50:28.145Z"
   },
   {
    "duration": 11,
    "start_time": "2025-03-26T10:50:28.182Z"
   },
   {
    "duration": 7,
    "start_time": "2025-03-26T10:50:28.194Z"
   },
   {
    "duration": 18,
    "start_time": "2025-03-26T10:50:28.203Z"
   },
   {
    "duration": 6,
    "start_time": "2025-03-26T10:50:28.224Z"
   },
   {
    "duration": 8,
    "start_time": "2025-03-26T10:50:28.232Z"
   },
   {
    "duration": 4,
    "start_time": "2025-03-26T10:50:28.242Z"
   },
   {
    "duration": 15,
    "start_time": "2025-03-26T10:50:28.248Z"
   },
   {
    "duration": 14,
    "start_time": "2025-03-26T10:50:28.265Z"
   },
   {
    "duration": 13,
    "start_time": "2025-03-26T10:50:28.281Z"
   },
   {
    "duration": 10,
    "start_time": "2025-03-26T10:50:28.295Z"
   },
   {
    "duration": 20,
    "start_time": "2025-03-26T10:50:28.306Z"
   },
   {
    "duration": 81,
    "start_time": "2025-03-26T10:50:28.327Z"
   },
   {
    "duration": 0,
    "start_time": "2025-03-26T10:50:28.409Z"
   },
   {
    "duration": 0,
    "start_time": "2025-03-26T10:50:28.411Z"
   },
   {
    "duration": 9,
    "start_time": "2025-03-26T10:52:42.139Z"
   },
   {
    "duration": 11,
    "start_time": "2025-03-26T10:52:45.319Z"
   },
   {
    "duration": 10,
    "start_time": "2025-03-26T11:30:50.809Z"
   },
   {
    "duration": 5,
    "start_time": "2025-03-26T11:30:57.849Z"
   },
   {
    "duration": 139,
    "start_time": "2025-03-26T11:31:36.513Z"
   },
   {
    "duration": 7,
    "start_time": "2025-03-26T11:31:40.602Z"
   },
   {
    "duration": 91,
    "start_time": "2025-03-26T11:33:39.675Z"
   },
   {
    "duration": 21,
    "start_time": "2025-03-26T11:34:28.211Z"
   },
   {
    "duration": 21,
    "start_time": "2025-03-26T11:42:29.843Z"
   },
   {
    "duration": 5,
    "start_time": "2025-03-26T11:49:56.786Z"
   },
   {
    "duration": 13,
    "start_time": "2025-03-26T11:50:10.749Z"
   },
   {
    "duration": 10,
    "start_time": "2025-03-26T11:50:31.441Z"
   },
   {
    "duration": 9,
    "start_time": "2025-03-26T11:50:55.530Z"
   },
   {
    "duration": 6,
    "start_time": "2025-03-26T11:50:58.750Z"
   },
   {
    "duration": 8,
    "start_time": "2025-03-26T11:51:00.480Z"
   },
   {
    "duration": 18,
    "start_time": "2025-03-26T12:23:17.751Z"
   },
   {
    "duration": 6,
    "start_time": "2025-03-26T12:24:59.887Z"
   },
   {
    "duration": 13767,
    "start_time": "2025-03-26T12:35:22.493Z"
   },
   {
    "duration": 43,
    "start_time": "2025-03-26T12:35:36.271Z"
   },
   {
    "duration": 8,
    "start_time": "2025-03-26T12:49:28.749Z"
   },
   {
    "duration": 163,
    "start_time": "2025-03-26T12:49:40.701Z"
   },
   {
    "duration": 9,
    "start_time": "2025-03-26T12:49:44.779Z"
   },
   {
    "duration": 1369,
    "start_time": "2025-03-26T12:51:31.179Z"
   },
   {
    "duration": 9,
    "start_time": "2025-03-26T12:51:39.201Z"
   },
   {
    "duration": 152,
    "start_time": "2025-03-26T12:51:51.223Z"
   },
   {
    "duration": 9,
    "start_time": "2025-03-26T12:51:55.503Z"
   },
   {
    "duration": 8162,
    "start_time": "2025-03-26T12:53:32.042Z"
   },
   {
    "duration": 32,
    "start_time": "2025-03-26T12:53:40.215Z"
   },
   {
    "duration": 6040,
    "start_time": "2025-03-26T12:55:08.842Z"
   },
   {
    "duration": 9,
    "start_time": "2025-03-26T12:55:14.884Z"
   },
   {
    "duration": 3886,
    "start_time": "2025-03-26T12:57:18.409Z"
   },
   {
    "duration": 12,
    "start_time": "2025-03-26T12:57:27.543Z"
   },
   {
    "duration": 3932,
    "start_time": "2025-03-26T12:57:30.700Z"
   },
   {
    "duration": 9,
    "start_time": "2025-03-26T12:57:34.634Z"
   },
   {
    "duration": 6216,
    "start_time": "2025-03-26T12:58:12.927Z"
   },
   {
    "duration": 8,
    "start_time": "2025-03-26T12:58:19.145Z"
   },
   {
    "duration": 421,
    "start_time": "2025-03-26T12:58:23.505Z"
   },
   {
    "duration": 44,
    "start_time": "2025-03-26T12:58:23.927Z"
   },
   {
    "duration": 16,
    "start_time": "2025-03-26T12:58:23.973Z"
   },
   {
    "duration": 84,
    "start_time": "2025-03-26T12:58:23.991Z"
   },
   {
    "duration": 80,
    "start_time": "2025-03-26T12:58:24.076Z"
   },
   {
    "duration": 88,
    "start_time": "2025-03-26T12:58:24.158Z"
   },
   {
    "duration": 28,
    "start_time": "2025-03-26T12:58:24.248Z"
   },
   {
    "duration": 20,
    "start_time": "2025-03-26T12:58:24.277Z"
   },
   {
    "duration": 125,
    "start_time": "2025-03-26T12:58:24.299Z"
   },
   {
    "duration": 33,
    "start_time": "2025-03-26T12:58:24.427Z"
   },
   {
    "duration": 13,
    "start_time": "2025-03-26T12:58:24.461Z"
   },
   {
    "duration": 9,
    "start_time": "2025-03-26T12:58:24.475Z"
   },
   {
    "duration": 20,
    "start_time": "2025-03-26T12:58:24.485Z"
   },
   {
    "duration": 17,
    "start_time": "2025-03-26T12:58:24.506Z"
   },
   {
    "duration": 13,
    "start_time": "2025-03-26T12:58:24.524Z"
   },
   {
    "duration": 16,
    "start_time": "2025-03-26T12:58:24.538Z"
   },
   {
    "duration": 24,
    "start_time": "2025-03-26T12:58:24.555Z"
   },
   {
    "duration": 4,
    "start_time": "2025-03-26T12:58:24.580Z"
   },
   {
    "duration": 8,
    "start_time": "2025-03-26T12:58:24.585Z"
   },
   {
    "duration": 22,
    "start_time": "2025-03-26T12:58:24.595Z"
   },
   {
    "duration": 7,
    "start_time": "2025-03-26T12:58:24.618Z"
   },
   {
    "duration": 9,
    "start_time": "2025-03-26T12:58:24.626Z"
   },
   {
    "duration": 5,
    "start_time": "2025-03-26T12:58:24.636Z"
   },
   {
    "duration": 6,
    "start_time": "2025-03-26T12:58:24.642Z"
   },
   {
    "duration": 5,
    "start_time": "2025-03-26T12:58:24.649Z"
   },
   {
    "duration": 14,
    "start_time": "2025-03-26T12:58:24.655Z"
   },
   {
    "duration": 8,
    "start_time": "2025-03-26T12:58:24.670Z"
   },
   {
    "duration": 23,
    "start_time": "2025-03-26T12:58:24.681Z"
   },
   {
    "duration": 5,
    "start_time": "2025-03-26T12:58:24.706Z"
   },
   {
    "duration": 269,
    "start_time": "2025-03-26T12:58:24.712Z"
   },
   {
    "duration": 160,
    "start_time": "2025-03-26T12:58:24.983Z"
   },
   {
    "duration": 8,
    "start_time": "2025-03-26T12:58:46.540Z"
   },
   {
    "duration": 12173,
    "start_time": "2025-03-26T12:58:58.757Z"
   },
   {
    "duration": 12534,
    "start_time": "2025-03-26T12:59:19.855Z"
   },
   {
    "duration": 17,
    "start_time": "2025-03-26T12:59:32.391Z"
   },
   {
    "duration": 8255,
    "start_time": "2025-03-26T13:00:17.422Z"
   },
   {
    "duration": 9,
    "start_time": "2025-03-26T13:00:25.679Z"
   },
   {
    "duration": 4433,
    "start_time": "2025-03-26T13:01:25.082Z"
   },
   {
    "duration": 9,
    "start_time": "2025-03-26T13:01:29.738Z"
   },
   {
    "duration": 70,
    "start_time": "2025-03-26T13:03:59.639Z"
   },
   {
    "duration": 3463,
    "start_time": "2025-03-26T13:05:37.941Z"
   },
   {
    "duration": 8,
    "start_time": "2025-03-26T13:05:41.405Z"
   },
   {
    "duration": 385,
    "start_time": "2025-03-26T13:05:54.936Z"
   },
   {
    "duration": 44,
    "start_time": "2025-03-26T13:05:55.323Z"
   },
   {
    "duration": 16,
    "start_time": "2025-03-26T13:05:55.369Z"
   },
   {
    "duration": 23,
    "start_time": "2025-03-26T13:05:55.387Z"
   },
   {
    "duration": 4,
    "start_time": "2025-03-26T13:05:55.412Z"
   },
   {
    "duration": 12,
    "start_time": "2025-03-26T13:05:55.418Z"
   },
   {
    "duration": 4,
    "start_time": "2025-03-26T13:05:55.431Z"
   },
   {
    "duration": 11,
    "start_time": "2025-03-26T13:05:55.437Z"
   },
   {
    "duration": 4,
    "start_time": "2025-03-26T13:05:55.449Z"
   },
   {
    "duration": 10,
    "start_time": "2025-03-26T13:05:55.457Z"
   },
   {
    "duration": 36,
    "start_time": "2025-03-26T13:05:55.469Z"
   },
   {
    "duration": 19,
    "start_time": "2025-03-26T13:05:55.507Z"
   },
   {
    "duration": 27,
    "start_time": "2025-03-26T13:05:55.528Z"
   },
   {
    "duration": 17,
    "start_time": "2025-03-26T13:05:55.557Z"
   },
   {
    "duration": 6,
    "start_time": "2025-03-26T13:05:55.576Z"
   },
   {
    "duration": 13,
    "start_time": "2025-03-26T13:05:55.584Z"
   },
   {
    "duration": 13,
    "start_time": "2025-03-26T13:05:55.599Z"
   },
   {
    "duration": 9,
    "start_time": "2025-03-26T13:05:55.614Z"
   },
   {
    "duration": 5,
    "start_time": "2025-03-26T13:05:55.624Z"
   },
   {
    "duration": 7,
    "start_time": "2025-03-26T13:05:55.630Z"
   },
   {
    "duration": 3,
    "start_time": "2025-03-26T13:05:55.638Z"
   },
   {
    "duration": 3,
    "start_time": "2025-03-26T13:05:55.643Z"
   },
   {
    "duration": 9,
    "start_time": "2025-03-26T13:05:55.647Z"
   },
   {
    "duration": 6,
    "start_time": "2025-03-26T13:05:55.658Z"
   },
   {
    "duration": 10,
    "start_time": "2025-03-26T13:05:55.665Z"
   },
   {
    "duration": 16,
    "start_time": "2025-03-26T13:05:55.676Z"
   },
   {
    "duration": 16,
    "start_time": "2025-03-26T13:05:55.693Z"
   },
   {
    "duration": 10,
    "start_time": "2025-03-26T13:05:55.712Z"
   },
   {
    "duration": 5,
    "start_time": "2025-03-26T13:05:55.723Z"
   },
   {
    "duration": 180,
    "start_time": "2025-03-26T13:05:55.730Z"
   },
   {
    "duration": 169,
    "start_time": "2025-03-26T13:05:55.911Z"
   },
   {
    "duration": 3363,
    "start_time": "2025-03-26T13:06:19.515Z"
   },
   {
    "duration": 3410,
    "start_time": "2025-03-26T13:06:22.880Z"
   },
   {
    "duration": 13,
    "start_time": "2025-03-26T13:06:26.306Z"
   },
   {
    "duration": 74,
    "start_time": "2025-03-26T13:09:35.687Z"
   },
   {
    "duration": 106,
    "start_time": "2025-03-26T13:11:39.339Z"
   },
   {
    "duration": 20,
    "start_time": "2025-03-26T13:11:48.791Z"
   },
   {
    "duration": 3415,
    "start_time": "2025-03-26T13:15:09.771Z"
   },
   {
    "duration": 7,
    "start_time": "2025-03-26T13:15:13.188Z"
   },
   {
    "duration": 109,
    "start_time": "2025-03-26T13:15:52.598Z"
   },
   {
    "duration": 3475,
    "start_time": "2025-03-26T13:15:57.868Z"
   },
   {
    "duration": 20,
    "start_time": "2025-03-26T13:17:35.140Z"
   },
   {
    "duration": 20,
    "start_time": "2025-03-26T13:18:59.775Z"
   },
   {
    "duration": 102,
    "start_time": "2025-03-26T13:19:12.875Z"
   },
   {
    "duration": 3523,
    "start_time": "2025-03-26T13:19:24.437Z"
   },
   {
    "duration": 351,
    "start_time": "2025-03-26T13:19:32.662Z"
   },
   {
    "duration": 44,
    "start_time": "2025-03-26T13:19:33.015Z"
   },
   {
    "duration": 14,
    "start_time": "2025-03-26T13:19:33.061Z"
   },
   {
    "duration": 28,
    "start_time": "2025-03-26T13:19:33.077Z"
   },
   {
    "duration": 28,
    "start_time": "2025-03-26T13:19:33.106Z"
   },
   {
    "duration": 24,
    "start_time": "2025-03-26T13:19:33.136Z"
   },
   {
    "duration": 33,
    "start_time": "2025-03-26T13:19:33.162Z"
   },
   {
    "duration": 33,
    "start_time": "2025-03-26T13:19:33.196Z"
   },
   {
    "duration": 101,
    "start_time": "2025-03-26T13:19:33.231Z"
   },
   {
    "duration": 22,
    "start_time": "2025-03-26T13:19:33.334Z"
   },
   {
    "duration": 12,
    "start_time": "2025-03-26T13:19:33.357Z"
   },
   {
    "duration": 27,
    "start_time": "2025-03-26T13:19:33.371Z"
   },
   {
    "duration": 12,
    "start_time": "2025-03-26T13:19:33.399Z"
   },
   {
    "duration": 23,
    "start_time": "2025-03-26T13:19:33.412Z"
   },
   {
    "duration": 20,
    "start_time": "2025-03-26T13:19:33.436Z"
   },
   {
    "duration": 19,
    "start_time": "2025-03-26T13:19:33.457Z"
   },
   {
    "duration": 18,
    "start_time": "2025-03-26T13:19:33.477Z"
   },
   {
    "duration": 5,
    "start_time": "2025-03-26T13:19:33.497Z"
   },
   {
    "duration": 6,
    "start_time": "2025-03-26T13:19:33.504Z"
   },
   {
    "duration": 10,
    "start_time": "2025-03-26T13:19:33.511Z"
   },
   {
    "duration": 5,
    "start_time": "2025-03-26T13:19:33.522Z"
   },
   {
    "duration": 4,
    "start_time": "2025-03-26T13:19:33.528Z"
   },
   {
    "duration": 4,
    "start_time": "2025-03-26T13:19:33.533Z"
   },
   {
    "duration": 18,
    "start_time": "2025-03-26T13:19:33.538Z"
   },
   {
    "duration": 36,
    "start_time": "2025-03-26T13:19:33.557Z"
   },
   {
    "duration": 19,
    "start_time": "2025-03-26T13:19:33.595Z"
   },
   {
    "duration": 8,
    "start_time": "2025-03-26T13:19:33.616Z"
   },
   {
    "duration": 9,
    "start_time": "2025-03-26T13:19:33.627Z"
   },
   {
    "duration": 5,
    "start_time": "2025-03-26T13:19:33.637Z"
   },
   {
    "duration": 181,
    "start_time": "2025-03-26T13:19:33.644Z"
   },
   {
    "duration": 169,
    "start_time": "2025-03-26T13:19:33.826Z"
   },
   {
    "duration": 12085,
    "start_time": "2025-03-26T13:19:33.996Z"
   },
   {
    "duration": 3402,
    "start_time": "2025-03-26T13:19:57.010Z"
   },
   {
    "duration": 3322,
    "start_time": "2025-03-26T13:20:00.414Z"
   },
   {
    "duration": 40,
    "start_time": "2025-03-26T13:20:03.749Z"
   },
   {
    "duration": 6,
    "start_time": "2025-03-26T13:21:45.150Z"
   },
   {
    "duration": 6,
    "start_time": "2025-03-26T13:22:31.774Z"
   },
   {
    "duration": 3607,
    "start_time": "2025-03-26T13:27:24.173Z"
   },
   {
    "duration": 9,
    "start_time": "2025-03-26T13:27:28.523Z"
   },
   {
    "duration": 6,
    "start_time": "2025-03-26T13:27:31.264Z"
   },
   {
    "duration": 9,
    "start_time": "2025-03-26T13:27:50.327Z"
   },
   {
    "duration": 420,
    "start_time": "2025-03-26T13:27:56.184Z"
   },
   {
    "duration": 44,
    "start_time": "2025-03-26T13:27:56.605Z"
   },
   {
    "duration": 16,
    "start_time": "2025-03-26T13:27:56.650Z"
   },
   {
    "duration": 20,
    "start_time": "2025-03-26T13:27:56.668Z"
   },
   {
    "duration": 9,
    "start_time": "2025-03-26T13:27:56.690Z"
   },
   {
    "duration": 9,
    "start_time": "2025-03-26T13:27:56.701Z"
   },
   {
    "duration": 4,
    "start_time": "2025-03-26T13:27:56.711Z"
   },
   {
    "duration": 11,
    "start_time": "2025-03-26T13:27:56.716Z"
   },
   {
    "duration": 3,
    "start_time": "2025-03-26T13:27:56.729Z"
   },
   {
    "duration": 14,
    "start_time": "2025-03-26T13:27:56.735Z"
   },
   {
    "duration": 13,
    "start_time": "2025-03-26T13:27:56.750Z"
   },
   {
    "duration": 6,
    "start_time": "2025-03-26T13:27:56.765Z"
   },
   {
    "duration": 25,
    "start_time": "2025-03-26T13:27:56.773Z"
   },
   {
    "duration": 17,
    "start_time": "2025-03-26T13:27:56.800Z"
   },
   {
    "duration": 3,
    "start_time": "2025-03-26T13:27:56.819Z"
   },
   {
    "duration": 15,
    "start_time": "2025-03-26T13:27:56.824Z"
   },
   {
    "duration": 87,
    "start_time": "2025-03-26T13:27:56.840Z"
   },
   {
    "duration": 15,
    "start_time": "2025-03-26T13:27:56.929Z"
   },
   {
    "duration": 5,
    "start_time": "2025-03-26T13:27:56.946Z"
   },
   {
    "duration": 6,
    "start_time": "2025-03-26T13:27:56.952Z"
   },
   {
    "duration": 16,
    "start_time": "2025-03-26T13:27:56.959Z"
   },
   {
    "duration": 22,
    "start_time": "2025-03-26T13:27:56.976Z"
   },
   {
    "duration": 12,
    "start_time": "2025-03-26T13:27:56.999Z"
   },
   {
    "duration": 5,
    "start_time": "2025-03-26T13:27:57.013Z"
   },
   {
    "duration": 5,
    "start_time": "2025-03-26T13:27:57.019Z"
   },
   {
    "duration": 13,
    "start_time": "2025-03-26T13:27:57.025Z"
   },
   {
    "duration": 8,
    "start_time": "2025-03-26T13:27:57.040Z"
   },
   {
    "duration": 9,
    "start_time": "2025-03-26T13:27:57.051Z"
   },
   {
    "duration": 5,
    "start_time": "2025-03-26T13:27:57.062Z"
   },
   {
    "duration": 187,
    "start_time": "2025-03-26T13:27:57.068Z"
   },
   {
    "duration": 182,
    "start_time": "2025-03-26T13:27:57.257Z"
   },
   {
    "duration": 12304,
    "start_time": "2025-03-26T13:27:57.441Z"
   },
   {
    "duration": 12793,
    "start_time": "2025-03-26T13:28:09.747Z"
   },
   {
    "duration": 7,
    "start_time": "2025-03-26T13:28:22.542Z"
   },
   {
    "duration": 14,
    "start_time": "2025-03-26T13:28:22.551Z"
   },
   {
    "duration": 4295,
    "start_time": "2025-03-26T13:30:03.715Z"
   },
   {
    "duration": 8,
    "start_time": "2025-03-26T13:30:09.633Z"
   },
   {
    "duration": 414,
    "start_time": "2025-03-26T13:30:16.114Z"
   },
   {
    "duration": 42,
    "start_time": "2025-03-26T13:30:16.530Z"
   },
   {
    "duration": 41,
    "start_time": "2025-03-26T13:30:16.573Z"
   },
   {
    "duration": 26,
    "start_time": "2025-03-26T13:30:16.616Z"
   },
   {
    "duration": 6,
    "start_time": "2025-03-26T13:30:16.644Z"
   },
   {
    "duration": 12,
    "start_time": "2025-03-26T13:30:16.652Z"
   },
   {
    "duration": 23,
    "start_time": "2025-03-26T13:30:16.665Z"
   },
   {
    "duration": 11,
    "start_time": "2025-03-26T13:30:16.689Z"
   },
   {
    "duration": 3,
    "start_time": "2025-03-26T13:30:16.701Z"
   },
   {
    "duration": 6,
    "start_time": "2025-03-26T13:30:16.706Z"
   },
   {
    "duration": 5,
    "start_time": "2025-03-26T13:30:16.713Z"
   },
   {
    "duration": 8,
    "start_time": "2025-03-26T13:30:16.719Z"
   },
   {
    "duration": 11,
    "start_time": "2025-03-26T13:30:16.729Z"
   },
   {
    "duration": 8,
    "start_time": "2025-03-26T13:30:16.741Z"
   },
   {
    "duration": 18,
    "start_time": "2025-03-26T13:30:16.751Z"
   },
   {
    "duration": 14,
    "start_time": "2025-03-26T13:30:16.770Z"
   },
   {
    "duration": 11,
    "start_time": "2025-03-26T13:30:16.786Z"
   },
   {
    "duration": 13,
    "start_time": "2025-03-26T13:30:16.798Z"
   },
   {
    "duration": 6,
    "start_time": "2025-03-26T13:30:16.812Z"
   },
   {
    "duration": 5,
    "start_time": "2025-03-26T13:30:16.819Z"
   },
   {
    "duration": 4,
    "start_time": "2025-03-26T13:30:16.825Z"
   },
   {
    "duration": 4,
    "start_time": "2025-03-26T13:30:16.831Z"
   },
   {
    "duration": 124,
    "start_time": "2025-03-26T13:30:16.837Z"
   },
   {
    "duration": 24,
    "start_time": "2025-03-26T13:30:16.962Z"
   },
   {
    "duration": 7,
    "start_time": "2025-03-26T13:30:16.988Z"
   },
   {
    "duration": 16,
    "start_time": "2025-03-26T13:30:16.997Z"
   },
   {
    "duration": 17,
    "start_time": "2025-03-26T13:30:17.015Z"
   },
   {
    "duration": 9,
    "start_time": "2025-03-26T13:30:17.036Z"
   },
   {
    "duration": 9,
    "start_time": "2025-03-26T13:30:17.047Z"
   },
   {
    "duration": 167,
    "start_time": "2025-03-26T13:30:17.057Z"
   },
   {
    "duration": 155,
    "start_time": "2025-03-26T13:30:17.226Z"
   },
   {
    "duration": 12506,
    "start_time": "2025-03-26T13:30:17.383Z"
   },
   {
    "duration": 12535,
    "start_time": "2025-03-26T13:30:29.890Z"
   },
   {
    "duration": 10,
    "start_time": "2025-03-26T13:30:42.426Z"
   },
   {
    "duration": 12,
    "start_time": "2025-03-26T13:30:42.437Z"
   },
   {
    "duration": 419,
    "start_time": "2025-03-26T13:31:16.998Z"
   },
   {
    "duration": 42,
    "start_time": "2025-03-26T13:31:17.419Z"
   },
   {
    "duration": 14,
    "start_time": "2025-03-26T13:31:17.463Z"
   },
   {
    "duration": 29,
    "start_time": "2025-03-26T13:31:17.479Z"
   },
   {
    "duration": 5,
    "start_time": "2025-03-26T13:31:17.514Z"
   },
   {
    "duration": 11,
    "start_time": "2025-03-26T13:31:17.520Z"
   },
   {
    "duration": 5,
    "start_time": "2025-03-26T13:31:17.532Z"
   },
   {
    "duration": 24,
    "start_time": "2025-03-26T13:31:17.538Z"
   },
   {
    "duration": 9,
    "start_time": "2025-03-26T13:31:17.564Z"
   },
   {
    "duration": 25,
    "start_time": "2025-03-26T13:31:17.575Z"
   },
   {
    "duration": 21,
    "start_time": "2025-03-26T13:31:17.602Z"
   },
   {
    "duration": 26,
    "start_time": "2025-03-26T13:31:17.625Z"
   },
   {
    "duration": 12,
    "start_time": "2025-03-26T13:31:17.652Z"
   },
   {
    "duration": 6,
    "start_time": "2025-03-26T13:31:17.666Z"
   },
   {
    "duration": 17,
    "start_time": "2025-03-26T13:31:17.674Z"
   },
   {
    "duration": 8,
    "start_time": "2025-03-26T13:31:17.692Z"
   },
   {
    "duration": 16,
    "start_time": "2025-03-26T13:31:17.701Z"
   },
   {
    "duration": 9,
    "start_time": "2025-03-26T13:31:17.718Z"
   },
   {
    "duration": 16,
    "start_time": "2025-03-26T13:31:17.728Z"
   },
   {
    "duration": 6,
    "start_time": "2025-03-26T13:31:17.745Z"
   },
   {
    "duration": 5,
    "start_time": "2025-03-26T13:31:17.752Z"
   },
   {
    "duration": 5,
    "start_time": "2025-03-26T13:31:17.758Z"
   },
   {
    "duration": 16,
    "start_time": "2025-03-26T13:31:17.765Z"
   },
   {
    "duration": 25,
    "start_time": "2025-03-26T13:31:17.782Z"
   },
   {
    "duration": 16,
    "start_time": "2025-03-26T13:31:17.809Z"
   },
   {
    "duration": 21,
    "start_time": "2025-03-26T13:31:17.826Z"
   },
   {
    "duration": 15,
    "start_time": "2025-03-26T13:31:17.848Z"
   },
   {
    "duration": 14,
    "start_time": "2025-03-26T13:31:17.866Z"
   },
   {
    "duration": 7,
    "start_time": "2025-03-26T13:31:17.882Z"
   },
   {
    "duration": 165,
    "start_time": "2025-03-26T13:31:17.890Z"
   },
   {
    "duration": 168,
    "start_time": "2025-03-26T13:31:18.057Z"
   },
   {
    "duration": 12647,
    "start_time": "2025-03-26T13:31:18.227Z"
   },
   {
    "duration": 20114,
    "start_time": "2025-03-26T13:31:30.876Z"
   },
   {
    "duration": 12,
    "start_time": "2025-03-26T13:31:50.992Z"
   },
   {
    "duration": 12,
    "start_time": "2025-03-26T13:31:51.006Z"
   },
   {
    "duration": 5,
    "start_time": "2025-03-26T13:34:53.253Z"
   },
   {
    "duration": 421,
    "start_time": "2025-03-26T13:35:20.084Z"
   },
   {
    "duration": 44,
    "start_time": "2025-03-26T13:35:20.507Z"
   },
   {
    "duration": 106,
    "start_time": "2025-03-26T13:35:20.552Z"
   },
   {
    "duration": 49,
    "start_time": "2025-03-26T13:35:20.660Z"
   },
   {
    "duration": 52,
    "start_time": "2025-03-26T13:35:20.711Z"
   },
   {
    "duration": 32,
    "start_time": "2025-03-26T13:35:20.765Z"
   },
   {
    "duration": 26,
    "start_time": "2025-03-26T13:35:20.798Z"
   },
   {
    "duration": 11,
    "start_time": "2025-03-26T13:35:20.826Z"
   },
   {
    "duration": 5,
    "start_time": "2025-03-26T13:35:20.839Z"
   },
   {
    "duration": 117,
    "start_time": "2025-03-26T13:35:20.847Z"
   },
   {
    "duration": 51,
    "start_time": "2025-03-26T13:35:20.966Z"
   },
   {
    "duration": 23,
    "start_time": "2025-03-26T13:35:21.019Z"
   },
   {
    "duration": 52,
    "start_time": "2025-03-26T13:35:21.043Z"
   },
   {
    "duration": 24,
    "start_time": "2025-03-26T13:35:21.096Z"
   },
   {
    "duration": 15,
    "start_time": "2025-03-26T13:35:21.122Z"
   },
   {
    "duration": 22,
    "start_time": "2025-03-26T13:35:21.139Z"
   },
   {
    "duration": 25,
    "start_time": "2025-03-26T13:35:21.162Z"
   },
   {
    "duration": 24,
    "start_time": "2025-03-26T13:35:21.189Z"
   },
   {
    "duration": 19,
    "start_time": "2025-03-26T13:35:21.214Z"
   },
   {
    "duration": 6,
    "start_time": "2025-03-26T13:35:21.234Z"
   },
   {
    "duration": 20,
    "start_time": "2025-03-26T13:35:21.241Z"
   },
   {
    "duration": 8,
    "start_time": "2025-03-26T13:35:21.262Z"
   },
   {
    "duration": 78,
    "start_time": "2025-03-26T13:35:21.271Z"
   },
   {
    "duration": 20,
    "start_time": "2025-03-26T13:35:21.351Z"
   },
   {
    "duration": 11,
    "start_time": "2025-03-26T13:35:21.372Z"
   },
   {
    "duration": 42,
    "start_time": "2025-03-26T13:35:21.384Z"
   },
   {
    "duration": 9,
    "start_time": "2025-03-26T13:35:21.428Z"
   },
   {
    "duration": 64,
    "start_time": "2025-03-26T13:35:21.440Z"
   },
   {
    "duration": 65,
    "start_time": "2025-03-26T13:35:21.506Z"
   },
   {
    "duration": 182,
    "start_time": "2025-03-26T13:35:21.572Z"
   },
   {
    "duration": 156,
    "start_time": "2025-03-26T13:35:21.757Z"
   },
   {
    "duration": 21689,
    "start_time": "2025-03-26T13:35:21.915Z"
   },
   {
    "duration": 20025,
    "start_time": "2025-03-26T13:35:43.605Z"
   },
   {
    "duration": 6,
    "start_time": "2025-03-26T13:36:03.631Z"
   },
   {
    "duration": 14,
    "start_time": "2025-03-26T13:36:26.437Z"
   },
   {
    "duration": 9,
    "start_time": "2025-03-26T13:36:53.692Z"
   },
   {
    "duration": 10,
    "start_time": "2025-03-26T13:37:35.559Z"
   },
   {
    "duration": 107,
    "start_time": "2025-03-26T13:42:27.310Z"
   },
   {
    "duration": 6,
    "start_time": "2025-03-26T13:46:43.273Z"
   },
   {
    "duration": 135,
    "start_time": "2025-03-26T13:51:46.908Z"
   },
   {
    "duration": 9,
    "start_time": "2025-03-26T13:51:53.493Z"
   },
   {
    "duration": 9,
    "start_time": "2025-03-26T13:53:52.151Z"
   },
   {
    "duration": 19,
    "start_time": "2025-03-26T14:05:46.508Z"
   },
   {
    "duration": 129,
    "start_time": "2025-03-26T14:05:59.215Z"
   },
   {
    "duration": 144,
    "start_time": "2025-03-26T14:06:31.694Z"
   },
   {
    "duration": 8,
    "start_time": "2025-03-26T14:06:36.718Z"
   },
   {
    "duration": 145,
    "start_time": "2025-03-26T14:06:43.579Z"
   },
   {
    "duration": 9,
    "start_time": "2025-03-26T14:06:46.067Z"
   },
   {
    "duration": 448,
    "start_time": "2025-03-26T14:06:55.518Z"
   },
   {
    "duration": 55,
    "start_time": "2025-03-26T14:06:55.967Z"
   },
   {
    "duration": 68,
    "start_time": "2025-03-26T14:06:56.023Z"
   },
   {
    "duration": 19,
    "start_time": "2025-03-26T14:06:56.093Z"
   },
   {
    "duration": 5,
    "start_time": "2025-03-26T14:06:56.113Z"
   },
   {
    "duration": 5,
    "start_time": "2025-03-26T14:06:56.119Z"
   },
   {
    "duration": 5,
    "start_time": "2025-03-26T14:06:56.125Z"
   },
   {
    "duration": 12,
    "start_time": "2025-03-26T14:06:56.132Z"
   },
   {
    "duration": 5,
    "start_time": "2025-03-26T14:06:56.146Z"
   },
   {
    "duration": 11,
    "start_time": "2025-03-26T14:06:56.153Z"
   },
   {
    "duration": 8,
    "start_time": "2025-03-26T14:06:56.166Z"
   },
   {
    "duration": 10,
    "start_time": "2025-03-26T14:06:56.176Z"
   },
   {
    "duration": 74,
    "start_time": "2025-03-26T14:06:56.188Z"
   },
   {
    "duration": 88,
    "start_time": "2025-03-26T14:06:56.264Z"
   },
   {
    "duration": 8,
    "start_time": "2025-03-26T14:06:56.353Z"
   },
   {
    "duration": 8,
    "start_time": "2025-03-26T14:06:56.363Z"
   },
   {
    "duration": 12,
    "start_time": "2025-03-26T14:06:56.372Z"
   },
   {
    "duration": 10,
    "start_time": "2025-03-26T14:06:56.385Z"
   },
   {
    "duration": 5,
    "start_time": "2025-03-26T14:06:56.396Z"
   },
   {
    "duration": 4,
    "start_time": "2025-03-26T14:06:56.402Z"
   },
   {
    "duration": 4,
    "start_time": "2025-03-26T14:06:56.408Z"
   },
   {
    "duration": 4,
    "start_time": "2025-03-26T14:06:56.413Z"
   },
   {
    "duration": 4,
    "start_time": "2025-03-26T14:06:56.418Z"
   },
   {
    "duration": 9,
    "start_time": "2025-03-26T14:06:56.423Z"
   },
   {
    "duration": 22,
    "start_time": "2025-03-26T14:06:56.433Z"
   },
   {
    "duration": 14,
    "start_time": "2025-03-26T14:06:56.457Z"
   },
   {
    "duration": 31,
    "start_time": "2025-03-26T14:06:56.473Z"
   },
   {
    "duration": 10,
    "start_time": "2025-03-26T14:06:56.507Z"
   },
   {
    "duration": 6,
    "start_time": "2025-03-26T14:06:56.518Z"
   },
   {
    "duration": 180,
    "start_time": "2025-03-26T14:06:56.525Z"
   },
   {
    "duration": 164,
    "start_time": "2025-03-26T14:06:56.706Z"
   },
   {
    "duration": 22582,
    "start_time": "2025-03-26T14:06:56.871Z"
   },
   {
    "duration": 124,
    "start_time": "2025-03-26T14:07:19.455Z"
   },
   {
    "duration": 147,
    "start_time": "2025-03-26T14:07:19.580Z"
   },
   {
    "duration": 7,
    "start_time": "2025-03-26T14:07:19.729Z"
   },
   {
    "duration": 143,
    "start_time": "2025-03-26T14:07:19.738Z"
   },
   {
    "duration": 10,
    "start_time": "2025-03-26T14:07:19.882Z"
   },
   {
    "duration": 18,
    "start_time": "2025-03-26T14:07:19.894Z"
   },
   {
    "duration": 136,
    "start_time": "2025-03-26T14:09:35.840Z"
   },
   {
    "duration": 412,
    "start_time": "2025-03-26T14:09:40.503Z"
   },
   {
    "duration": 44,
    "start_time": "2025-03-26T14:09:40.917Z"
   },
   {
    "duration": 15,
    "start_time": "2025-03-26T14:09:40.962Z"
   },
   {
    "duration": 36,
    "start_time": "2025-03-26T14:09:40.978Z"
   },
   {
    "duration": 92,
    "start_time": "2025-03-26T14:09:41.015Z"
   },
   {
    "duration": 20,
    "start_time": "2025-03-26T14:09:41.109Z"
   },
   {
    "duration": 7,
    "start_time": "2025-03-26T14:09:41.130Z"
   },
   {
    "duration": 12,
    "start_time": "2025-03-26T14:09:41.139Z"
   },
   {
    "duration": 3,
    "start_time": "2025-03-26T14:09:41.153Z"
   },
   {
    "duration": 23,
    "start_time": "2025-03-26T14:09:41.158Z"
   },
   {
    "duration": 31,
    "start_time": "2025-03-26T14:09:41.182Z"
   },
   {
    "duration": 20,
    "start_time": "2025-03-26T14:09:41.214Z"
   },
   {
    "duration": 20,
    "start_time": "2025-03-26T14:09:41.235Z"
   },
   {
    "duration": 6,
    "start_time": "2025-03-26T14:09:41.257Z"
   },
   {
    "duration": 16,
    "start_time": "2025-03-26T14:09:41.265Z"
   },
   {
    "duration": 7,
    "start_time": "2025-03-26T14:09:41.283Z"
   },
   {
    "duration": 27,
    "start_time": "2025-03-26T14:09:41.291Z"
   },
   {
    "duration": 7,
    "start_time": "2025-03-26T14:09:41.319Z"
   },
   {
    "duration": 4,
    "start_time": "2025-03-26T14:09:41.328Z"
   },
   {
    "duration": 4,
    "start_time": "2025-03-26T14:09:41.334Z"
   },
   {
    "duration": 3,
    "start_time": "2025-03-26T14:09:41.340Z"
   },
   {
    "duration": 4,
    "start_time": "2025-03-26T14:09:41.345Z"
   },
   {
    "duration": 11,
    "start_time": "2025-03-26T14:09:41.350Z"
   },
   {
    "duration": 8,
    "start_time": "2025-03-26T14:09:41.362Z"
   },
   {
    "duration": 5,
    "start_time": "2025-03-26T14:09:41.372Z"
   },
   {
    "duration": 27,
    "start_time": "2025-03-26T14:09:41.378Z"
   },
   {
    "duration": 10,
    "start_time": "2025-03-26T14:09:41.406Z"
   },
   {
    "duration": 68,
    "start_time": "2025-03-26T14:09:41.420Z"
   },
   {
    "duration": 7,
    "start_time": "2025-03-26T14:09:41.490Z"
   },
   {
    "duration": 182,
    "start_time": "2025-03-26T14:09:41.499Z"
   },
   {
    "duration": 167,
    "start_time": "2025-03-26T14:09:41.682Z"
   },
   {
    "duration": 22524,
    "start_time": "2025-03-26T14:09:41.851Z"
   },
   {
    "duration": 20250,
    "start_time": "2025-03-26T14:10:04.377Z"
   },
   {
    "duration": 5,
    "start_time": "2025-03-26T14:10:24.629Z"
   },
   {
    "duration": 144,
    "start_time": "2025-03-26T14:10:24.636Z"
   },
   {
    "duration": 9,
    "start_time": "2025-03-26T14:10:24.781Z"
   },
   {
    "duration": 16,
    "start_time": "2025-03-26T14:10:24.791Z"
   },
   {
    "duration": 47,
    "start_time": "2025-03-27T06:37:48.486Z"
   },
   {
    "duration": 443,
    "start_time": "2025-03-27T06:37:57.677Z"
   },
   {
    "duration": 56,
    "start_time": "2025-03-27T06:37:58.122Z"
   },
   {
    "duration": 16,
    "start_time": "2025-03-27T06:37:58.180Z"
   },
   {
    "duration": 26,
    "start_time": "2025-03-27T06:37:58.198Z"
   },
   {
    "duration": 14,
    "start_time": "2025-03-27T06:37:58.225Z"
   },
   {
    "duration": 12,
    "start_time": "2025-03-27T06:37:58.240Z"
   },
   {
    "duration": 30,
    "start_time": "2025-03-27T06:37:58.254Z"
   },
   {
    "duration": 19,
    "start_time": "2025-03-27T06:37:58.285Z"
   },
   {
    "duration": 6,
    "start_time": "2025-03-27T06:37:58.306Z"
   },
   {
    "duration": 26,
    "start_time": "2025-03-27T06:37:58.314Z"
   },
   {
    "duration": 8,
    "start_time": "2025-03-27T06:37:58.341Z"
   },
   {
    "duration": 22,
    "start_time": "2025-03-27T06:37:58.351Z"
   },
   {
    "duration": 39,
    "start_time": "2025-03-27T06:37:58.374Z"
   },
   {
    "duration": 10,
    "start_time": "2025-03-27T06:37:58.415Z"
   },
   {
    "duration": 26,
    "start_time": "2025-03-27T06:37:58.426Z"
   },
   {
    "duration": 12,
    "start_time": "2025-03-27T06:37:58.454Z"
   },
   {
    "duration": 20,
    "start_time": "2025-03-27T06:37:58.468Z"
   },
   {
    "duration": 18,
    "start_time": "2025-03-27T06:37:58.489Z"
   },
   {
    "duration": 31,
    "start_time": "2025-03-27T06:37:58.509Z"
   },
   {
    "duration": 9,
    "start_time": "2025-03-27T06:37:58.542Z"
   },
   {
    "duration": 18,
    "start_time": "2025-03-27T06:37:58.553Z"
   },
   {
    "duration": 17,
    "start_time": "2025-03-27T06:37:58.573Z"
   },
   {
    "duration": 10,
    "start_time": "2025-03-27T06:37:58.592Z"
   },
   {
    "duration": 9,
    "start_time": "2025-03-27T06:37:58.604Z"
   },
   {
    "duration": 12,
    "start_time": "2025-03-27T06:37:58.615Z"
   },
   {
    "duration": 23,
    "start_time": "2025-03-27T06:37:58.629Z"
   },
   {
    "duration": 28,
    "start_time": "2025-03-27T06:37:58.654Z"
   },
   {
    "duration": 12,
    "start_time": "2025-03-27T06:37:58.686Z"
   },
   {
    "duration": 68,
    "start_time": "2025-03-27T06:37:58.700Z"
   },
   {
    "duration": 173,
    "start_time": "2025-03-27T06:37:58.770Z"
   },
   {
    "duration": 163,
    "start_time": "2025-03-27T06:37:58.945Z"
   },
   {
    "duration": 23099,
    "start_time": "2025-03-27T06:37:59.109Z"
   },
   {
    "duration": 21383,
    "start_time": "2025-03-27T06:38:22.209Z"
   },
   {
    "duration": 15,
    "start_time": "2025-03-27T06:38:43.594Z"
   },
   {
    "duration": 162,
    "start_time": "2025-03-27T06:38:43.611Z"
   },
   {
    "duration": 9,
    "start_time": "2025-03-27T06:38:43.774Z"
   },
   {
    "duration": 25,
    "start_time": "2025-03-27T06:38:43.785Z"
   },
   {
    "duration": 27,
    "start_time": "2025-03-27T06:38:43.814Z"
   },
   {
    "duration": 19,
    "start_time": "2025-03-27T06:49:11.134Z"
   },
   {
    "duration": 64,
    "start_time": "2025-03-27T06:52:15.582Z"
   },
   {
    "duration": 11,
    "start_time": "2025-03-27T06:53:19.012Z"
   },
   {
    "duration": 20,
    "start_time": "2025-03-27T06:54:39.199Z"
   },
   {
    "duration": 18,
    "start_time": "2025-03-27T06:55:19.780Z"
   },
   {
    "duration": 25,
    "start_time": "2025-03-27T06:55:59.118Z"
   },
   {
    "duration": 19,
    "start_time": "2025-03-27T06:56:29.236Z"
   },
   {
    "duration": 13,
    "start_time": "2025-03-27T06:58:59.776Z"
   },
   {
    "duration": 27,
    "start_time": "2025-03-27T07:00:08.279Z"
   },
   {
    "duration": 13,
    "start_time": "2025-03-27T07:00:13.335Z"
   },
   {
    "duration": 10,
    "start_time": "2025-03-27T07:00:37.484Z"
   },
   {
    "duration": 10,
    "start_time": "2025-03-27T07:01:16.625Z"
   },
   {
    "duration": 7,
    "start_time": "2025-03-27T07:01:54.176Z"
   },
   {
    "duration": 97,
    "start_time": "2025-03-27T07:03:40.332Z"
   },
   {
    "duration": 6,
    "start_time": "2025-03-27T07:03:53.903Z"
   },
   {
    "duration": 7,
    "start_time": "2025-03-27T07:04:25.740Z"
   },
   {
    "duration": 4,
    "start_time": "2025-03-27T07:04:33.197Z"
   },
   {
    "duration": 5,
    "start_time": "2025-03-27T07:05:07.709Z"
   },
   {
    "duration": 6,
    "start_time": "2025-03-27T07:06:18.021Z"
   },
   {
    "duration": 18,
    "start_time": "2025-03-27T07:06:30.332Z"
   },
   {
    "duration": 35,
    "start_time": "2025-03-27T07:09:10.861Z"
   },
   {
    "duration": 414,
    "start_time": "2025-03-27T07:09:16.823Z"
   },
   {
    "duration": 44,
    "start_time": "2025-03-27T07:09:17.238Z"
   },
   {
    "duration": 16,
    "start_time": "2025-03-27T07:09:17.284Z"
   },
   {
    "duration": 19,
    "start_time": "2025-03-27T07:09:17.307Z"
   },
   {
    "duration": 8,
    "start_time": "2025-03-27T07:09:17.327Z"
   },
   {
    "duration": 15,
    "start_time": "2025-03-27T07:09:17.337Z"
   },
   {
    "duration": 23,
    "start_time": "2025-03-27T07:09:17.353Z"
   },
   {
    "duration": 89,
    "start_time": "2025-03-27T07:09:17.378Z"
   },
   {
    "duration": 24,
    "start_time": "2025-03-27T07:09:17.468Z"
   },
   {
    "duration": 4,
    "start_time": "2025-03-27T07:09:17.494Z"
   },
   {
    "duration": 7,
    "start_time": "2025-03-27T07:09:17.499Z"
   },
   {
    "duration": 5,
    "start_time": "2025-03-27T07:09:17.508Z"
   },
   {
    "duration": 11,
    "start_time": "2025-03-27T07:09:17.515Z"
   },
   {
    "duration": 9,
    "start_time": "2025-03-27T07:09:17.527Z"
   },
   {
    "duration": 9,
    "start_time": "2025-03-27T07:09:17.537Z"
   },
   {
    "duration": 7,
    "start_time": "2025-03-27T07:09:17.548Z"
   },
   {
    "duration": 6,
    "start_time": "2025-03-27T07:09:17.556Z"
   },
   {
    "duration": 9,
    "start_time": "2025-03-27T07:09:17.564Z"
   },
   {
    "duration": 15,
    "start_time": "2025-03-27T07:09:17.574Z"
   },
   {
    "duration": 10,
    "start_time": "2025-03-27T07:09:17.590Z"
   },
   {
    "duration": 11,
    "start_time": "2025-03-27T07:09:17.601Z"
   },
   {
    "duration": 16,
    "start_time": "2025-03-27T07:09:17.613Z"
   },
   {
    "duration": 4,
    "start_time": "2025-03-27T07:09:17.631Z"
   },
   {
    "duration": 8,
    "start_time": "2025-03-27T07:09:17.636Z"
   },
   {
    "duration": 6,
    "start_time": "2025-03-27T07:09:17.645Z"
   },
   {
    "duration": 19,
    "start_time": "2025-03-27T07:09:17.652Z"
   },
   {
    "duration": 17,
    "start_time": "2025-03-27T07:09:17.673Z"
   },
   {
    "duration": 12,
    "start_time": "2025-03-27T07:09:17.694Z"
   },
   {
    "duration": 11,
    "start_time": "2025-03-27T07:09:17.708Z"
   },
   {
    "duration": 165,
    "start_time": "2025-03-27T07:09:17.721Z"
   },
   {
    "duration": 168,
    "start_time": "2025-03-27T07:09:17.888Z"
   },
   {
    "duration": 23155,
    "start_time": "2025-03-27T07:09:18.058Z"
   },
   {
    "duration": 21216,
    "start_time": "2025-03-27T07:09:41.214Z"
   },
   {
    "duration": 7,
    "start_time": "2025-03-27T07:10:02.432Z"
   },
   {
    "duration": 155,
    "start_time": "2025-03-27T07:10:02.440Z"
   },
   {
    "duration": 14,
    "start_time": "2025-03-27T07:10:02.597Z"
   },
   {
    "duration": 64,
    "start_time": "2025-03-27T07:10:02.613Z"
   },
   {
    "duration": 64,
    "start_time": "2025-03-27T07:10:02.679Z"
   },
   {
    "duration": 14,
    "start_time": "2025-03-27T07:10:02.745Z"
   },
   {
    "duration": 7,
    "start_time": "2025-03-27T07:10:02.760Z"
   },
   {
    "duration": 9,
    "start_time": "2025-03-27T07:10:02.769Z"
   },
   {
    "duration": 61,
    "start_time": "2025-03-27T07:10:02.780Z"
   },
   {
    "duration": 78,
    "start_time": "2025-03-27T07:10:02.843Z"
   },
   {
    "duration": 40,
    "start_time": "2025-03-27T07:10:02.923Z"
   },
   {
    "duration": 18,
    "start_time": "2025-03-27T07:12:34.885Z"
   },
   {
    "duration": 60,
    "start_time": "2025-03-27T07:19:46.832Z"
   },
   {
    "duration": 8,
    "start_time": "2025-03-27T07:19:52.824Z"
   },
   {
    "duration": 120,
    "start_time": "2025-03-27T07:20:46.252Z"
   },
   {
    "duration": 8,
    "start_time": "2025-03-27T07:20:54.322Z"
   },
   {
    "duration": 8,
    "start_time": "2025-03-27T07:22:10.018Z"
   },
   {
    "duration": 4,
    "start_time": "2025-03-27T07:24:03.653Z"
   },
   {
    "duration": 4,
    "start_time": "2025-03-27T07:24:09.485Z"
   },
   {
    "duration": 8,
    "start_time": "2025-03-27T07:25:14.078Z"
   },
   {
    "duration": 5,
    "start_time": "2025-03-27T07:25:37.553Z"
   },
   {
    "duration": 423,
    "start_time": "2025-03-27T07:26:06.501Z"
   },
   {
    "duration": 44,
    "start_time": "2025-03-27T07:26:06.926Z"
   },
   {
    "duration": 16,
    "start_time": "2025-03-27T07:26:06.971Z"
   },
   {
    "duration": 31,
    "start_time": "2025-03-27T07:26:06.988Z"
   },
   {
    "duration": 5,
    "start_time": "2025-03-27T07:26:07.021Z"
   },
   {
    "duration": 18,
    "start_time": "2025-03-27T07:26:07.027Z"
   },
   {
    "duration": 10,
    "start_time": "2025-03-27T07:26:07.047Z"
   },
   {
    "duration": 30,
    "start_time": "2025-03-27T07:26:07.059Z"
   },
   {
    "duration": 20,
    "start_time": "2025-03-27T07:26:07.091Z"
   },
   {
    "duration": 4,
    "start_time": "2025-03-27T07:26:07.114Z"
   },
   {
    "duration": 36,
    "start_time": "2025-03-27T07:26:07.120Z"
   },
   {
    "duration": 8,
    "start_time": "2025-03-27T07:26:07.157Z"
   },
   {
    "duration": 28,
    "start_time": "2025-03-27T07:26:07.167Z"
   },
   {
    "duration": 12,
    "start_time": "2025-03-27T07:26:07.197Z"
   },
   {
    "duration": 10,
    "start_time": "2025-03-27T07:26:07.210Z"
   },
   {
    "duration": 20,
    "start_time": "2025-03-27T07:26:07.221Z"
   },
   {
    "duration": 9,
    "start_time": "2025-03-27T07:26:07.242Z"
   },
   {
    "duration": 23,
    "start_time": "2025-03-27T07:26:07.253Z"
   },
   {
    "duration": 11,
    "start_time": "2025-03-27T07:26:07.278Z"
   },
   {
    "duration": 13,
    "start_time": "2025-03-27T07:26:07.290Z"
   },
   {
    "duration": 23,
    "start_time": "2025-03-27T07:26:07.304Z"
   },
   {
    "duration": 17,
    "start_time": "2025-03-27T07:26:07.328Z"
   },
   {
    "duration": 5,
    "start_time": "2025-03-27T07:26:07.346Z"
   },
   {
    "duration": 9,
    "start_time": "2025-03-27T07:26:07.352Z"
   },
   {
    "duration": 14,
    "start_time": "2025-03-27T07:26:07.362Z"
   },
   {
    "duration": 17,
    "start_time": "2025-03-27T07:26:07.377Z"
   },
   {
    "duration": 7,
    "start_time": "2025-03-27T07:26:07.396Z"
   },
   {
    "duration": 78,
    "start_time": "2025-03-27T07:26:07.406Z"
   },
   {
    "duration": 6,
    "start_time": "2025-03-27T07:26:07.485Z"
   },
   {
    "duration": 178,
    "start_time": "2025-03-27T07:26:07.493Z"
   },
   {
    "duration": 172,
    "start_time": "2025-03-27T07:26:07.673Z"
   },
   {
    "duration": 23117,
    "start_time": "2025-03-27T07:26:07.846Z"
   },
   {
    "duration": 21001,
    "start_time": "2025-03-27T07:26:30.964Z"
   },
   {
    "duration": 6,
    "start_time": "2025-03-27T07:26:51.966Z"
   },
   {
    "duration": 163,
    "start_time": "2025-03-27T07:26:51.973Z"
   },
   {
    "duration": 9,
    "start_time": "2025-03-27T07:26:52.138Z"
   },
   {
    "duration": 17,
    "start_time": "2025-03-27T07:26:52.149Z"
   },
   {
    "duration": 24,
    "start_time": "2025-03-27T07:26:52.168Z"
   },
   {
    "duration": 22,
    "start_time": "2025-03-27T07:26:52.194Z"
   },
   {
    "duration": 25,
    "start_time": "2025-03-27T07:26:52.217Z"
   },
   {
    "duration": 10,
    "start_time": "2025-03-27T07:26:52.244Z"
   },
   {
    "duration": 23,
    "start_time": "2025-03-27T07:26:52.256Z"
   },
   {
    "duration": 18,
    "start_time": "2025-03-27T07:26:52.281Z"
   },
   {
    "duration": 25,
    "start_time": "2025-03-27T07:26:52.301Z"
   },
   {
    "duration": 30,
    "start_time": "2025-03-27T07:26:52.328Z"
   },
   {
    "duration": 61,
    "start_time": "2025-03-27T07:28:05.153Z"
   },
   {
    "duration": 4,
    "start_time": "2025-03-27T07:28:16.156Z"
   },
   {
    "duration": 4,
    "start_time": "2025-03-27T07:29:24.274Z"
   },
   {
    "duration": 4,
    "start_time": "2025-03-27T07:30:29.557Z"
   },
   {
    "duration": 428,
    "start_time": "2025-03-27T07:30:35.507Z"
   },
   {
    "duration": 52,
    "start_time": "2025-03-27T07:30:35.937Z"
   },
   {
    "duration": 15,
    "start_time": "2025-03-27T07:30:35.991Z"
   },
   {
    "duration": 22,
    "start_time": "2025-03-27T07:30:36.007Z"
   },
   {
    "duration": 19,
    "start_time": "2025-03-27T07:30:36.031Z"
   },
   {
    "duration": 36,
    "start_time": "2025-03-27T07:30:36.052Z"
   },
   {
    "duration": 23,
    "start_time": "2025-03-27T07:30:36.089Z"
   },
   {
    "duration": 22,
    "start_time": "2025-03-27T07:30:36.113Z"
   },
   {
    "duration": 22,
    "start_time": "2025-03-27T07:30:36.136Z"
   },
   {
    "duration": 4,
    "start_time": "2025-03-27T07:30:36.160Z"
   },
   {
    "duration": 31,
    "start_time": "2025-03-27T07:30:36.166Z"
   },
   {
    "duration": 12,
    "start_time": "2025-03-27T07:30:36.198Z"
   },
   {
    "duration": 11,
    "start_time": "2025-03-27T07:30:36.212Z"
   },
   {
    "duration": 7,
    "start_time": "2025-03-27T07:30:36.224Z"
   },
   {
    "duration": 16,
    "start_time": "2025-03-27T07:30:36.233Z"
   },
   {
    "duration": 15,
    "start_time": "2025-03-27T07:30:36.251Z"
   },
   {
    "duration": 37,
    "start_time": "2025-03-27T07:30:36.268Z"
   },
   {
    "duration": 34,
    "start_time": "2025-03-27T07:30:36.307Z"
   },
   {
    "duration": 16,
    "start_time": "2025-03-27T07:30:36.343Z"
   },
   {
    "duration": 18,
    "start_time": "2025-03-27T07:30:36.361Z"
   },
   {
    "duration": 48,
    "start_time": "2025-03-27T07:30:36.380Z"
   },
   {
    "duration": 32,
    "start_time": "2025-03-27T07:30:36.430Z"
   },
   {
    "duration": 33,
    "start_time": "2025-03-27T07:30:36.463Z"
   },
   {
    "duration": 31,
    "start_time": "2025-03-27T07:30:36.498Z"
   },
   {
    "duration": 13,
    "start_time": "2025-03-27T07:30:36.531Z"
   },
   {
    "duration": 16,
    "start_time": "2025-03-27T07:30:36.546Z"
   },
   {
    "duration": 9,
    "start_time": "2025-03-27T07:30:36.564Z"
   },
   {
    "duration": 11,
    "start_time": "2025-03-27T07:30:36.577Z"
   },
   {
    "duration": 18,
    "start_time": "2025-03-27T07:30:36.590Z"
   },
   {
    "duration": 171,
    "start_time": "2025-03-27T07:30:36.610Z"
   },
   {
    "duration": 183,
    "start_time": "2025-03-27T07:30:36.782Z"
   },
   {
    "duration": 23313,
    "start_time": "2025-03-27T07:30:36.967Z"
   },
   {
    "duration": 21126,
    "start_time": "2025-03-27T07:31:00.281Z"
   },
   {
    "duration": 8,
    "start_time": "2025-03-27T07:31:21.409Z"
   },
   {
    "duration": 238,
    "start_time": "2025-03-27T07:31:21.419Z"
   },
   {
    "duration": 9,
    "start_time": "2025-03-27T07:31:21.659Z"
   },
   {
    "duration": 62,
    "start_time": "2025-03-27T07:31:21.669Z"
   },
   {
    "duration": 68,
    "start_time": "2025-03-27T07:31:21.733Z"
   },
   {
    "duration": 50,
    "start_time": "2025-03-27T07:31:21.802Z"
   },
   {
    "duration": 44,
    "start_time": "2025-03-27T07:31:21.853Z"
   },
   {
    "duration": 38,
    "start_time": "2025-03-27T07:31:21.899Z"
   },
   {
    "duration": 40,
    "start_time": "2025-03-27T07:31:21.939Z"
   },
   {
    "duration": 31,
    "start_time": "2025-03-27T07:31:21.980Z"
   },
   {
    "duration": 66,
    "start_time": "2025-03-27T07:31:22.014Z"
   },
   {
    "duration": 27,
    "start_time": "2025-03-27T07:31:22.082Z"
   },
   {
    "duration": 381,
    "start_time": "2025-03-27T07:34:29.767Z"
   },
   {
    "duration": 43,
    "start_time": "2025-03-27T07:34:30.150Z"
   },
   {
    "duration": 19,
    "start_time": "2025-03-27T07:34:30.195Z"
   },
   {
    "duration": 52,
    "start_time": "2025-03-27T07:34:30.216Z"
   },
   {
    "duration": 11,
    "start_time": "2025-03-27T07:34:30.270Z"
   },
   {
    "duration": 19,
    "start_time": "2025-03-27T07:34:30.282Z"
   },
   {
    "duration": 21,
    "start_time": "2025-03-27T07:34:30.302Z"
   },
   {
    "duration": 44,
    "start_time": "2025-03-27T07:34:30.325Z"
   },
   {
    "duration": 4,
    "start_time": "2025-03-27T07:34:30.371Z"
   },
   {
    "duration": 19,
    "start_time": "2025-03-27T07:34:30.377Z"
   },
   {
    "duration": 31,
    "start_time": "2025-03-27T07:34:30.398Z"
   },
   {
    "duration": 36,
    "start_time": "2025-03-27T07:34:30.431Z"
   },
   {
    "duration": 17,
    "start_time": "2025-03-27T07:34:30.469Z"
   },
   {
    "duration": 16,
    "start_time": "2025-03-27T07:34:30.488Z"
   },
   {
    "duration": 8,
    "start_time": "2025-03-27T07:34:30.506Z"
   },
   {
    "duration": 12,
    "start_time": "2025-03-27T07:34:30.516Z"
   },
   {
    "duration": 34,
    "start_time": "2025-03-27T07:34:30.529Z"
   },
   {
    "duration": 3,
    "start_time": "2025-03-27T07:34:30.565Z"
   },
   {
    "duration": 7,
    "start_time": "2025-03-27T07:34:30.570Z"
   },
   {
    "duration": 10,
    "start_time": "2025-03-27T07:34:30.579Z"
   },
   {
    "duration": 9,
    "start_time": "2025-03-27T07:34:30.591Z"
   },
   {
    "duration": 18,
    "start_time": "2025-03-27T07:34:30.602Z"
   },
   {
    "duration": 5,
    "start_time": "2025-03-27T07:34:30.622Z"
   },
   {
    "duration": 26,
    "start_time": "2025-03-27T07:34:30.628Z"
   },
   {
    "duration": 9,
    "start_time": "2025-03-27T07:34:30.655Z"
   },
   {
    "duration": 21,
    "start_time": "2025-03-27T07:34:30.665Z"
   },
   {
    "duration": 10,
    "start_time": "2025-03-27T07:34:30.687Z"
   },
   {
    "duration": 13,
    "start_time": "2025-03-27T07:34:30.701Z"
   },
   {
    "duration": 9,
    "start_time": "2025-03-27T07:34:30.716Z"
   },
   {
    "duration": 206,
    "start_time": "2025-03-27T07:34:30.727Z"
   },
   {
    "duration": 165,
    "start_time": "2025-03-27T07:34:30.935Z"
   },
   {
    "duration": 22640,
    "start_time": "2025-03-27T07:34:31.102Z"
   },
   {
    "duration": 20612,
    "start_time": "2025-03-27T07:34:53.744Z"
   },
   {
    "duration": 6,
    "start_time": "2025-03-27T07:35:14.358Z"
   },
   {
    "duration": 148,
    "start_time": "2025-03-27T07:35:14.366Z"
   },
   {
    "duration": 9,
    "start_time": "2025-03-27T07:35:14.515Z"
   },
   {
    "duration": 19,
    "start_time": "2025-03-27T07:35:14.525Z"
   },
   {
    "duration": 16,
    "start_time": "2025-03-27T07:35:14.545Z"
   },
   {
    "duration": 12,
    "start_time": "2025-03-27T07:35:14.563Z"
   },
   {
    "duration": 5,
    "start_time": "2025-03-27T07:35:14.576Z"
   },
   {
    "duration": 3,
    "start_time": "2025-03-27T07:35:14.606Z"
   },
   {
    "duration": 19,
    "start_time": "2025-03-27T07:35:14.611Z"
   },
   {
    "duration": 5,
    "start_time": "2025-03-27T07:35:14.631Z"
   },
   {
    "duration": 24,
    "start_time": "2025-03-27T07:35:14.637Z"
   },
   {
    "duration": 17,
    "start_time": "2025-03-27T07:35:14.663Z"
   },
   {
    "duration": 64,
    "start_time": "2025-03-27T07:38:05.071Z"
   },
   {
    "duration": 41,
    "start_time": "2025-03-27T07:39:01.475Z"
   },
   {
    "duration": 16,
    "start_time": "2025-03-27T07:40:28.718Z"
   },
   {
    "duration": 22,
    "start_time": "2025-03-27T07:40:45.023Z"
   },
   {
    "duration": 27,
    "start_time": "2025-03-27T07:43:48.188Z"
   },
   {
    "duration": 7,
    "start_time": "2025-03-27T07:53:48.106Z"
   },
   {
    "duration": 7,
    "start_time": "2025-03-27T07:53:54.871Z"
   },
   {
    "duration": 4,
    "start_time": "2025-03-27T07:54:14.419Z"
   },
   {
    "duration": 3,
    "start_time": "2025-03-27T07:55:22.904Z"
   },
   {
    "duration": 3,
    "start_time": "2025-03-27T07:55:29.498Z"
   },
   {
    "duration": 4,
    "start_time": "2025-03-27T07:56:33.102Z"
   },
   {
    "duration": 12,
    "start_time": "2025-03-27T07:56:59.971Z"
   },
   {
    "duration": 3,
    "start_time": "2025-03-27T07:57:21.009Z"
   },
   {
    "duration": 4,
    "start_time": "2025-03-27T07:57:48.042Z"
   },
   {
    "duration": 21,
    "start_time": "2025-03-27T08:00:15.252Z"
   },
   {
    "duration": 20,
    "start_time": "2025-03-27T08:00:51.304Z"
   },
   {
    "duration": 6,
    "start_time": "2025-03-27T08:03:46.192Z"
   },
   {
    "duration": 8,
    "start_time": "2025-03-27T08:25:49.222Z"
   },
   {
    "duration": 7,
    "start_time": "2025-03-27T08:25:56.986Z"
   },
   {
    "duration": 5,
    "start_time": "2025-03-27T08:27:07.055Z"
   },
   {
    "duration": 5,
    "start_time": "2025-03-27T08:28:11.934Z"
   },
   {
    "duration": 398,
    "start_time": "2025-03-27T09:35:54.374Z"
   },
   {
    "duration": 53,
    "start_time": "2025-03-27T09:35:54.774Z"
   },
   {
    "duration": 19,
    "start_time": "2025-03-27T09:35:54.829Z"
   },
   {
    "duration": 20,
    "start_time": "2025-03-27T09:35:54.850Z"
   },
   {
    "duration": 8,
    "start_time": "2025-03-27T09:35:54.872Z"
   },
   {
    "duration": 14,
    "start_time": "2025-03-27T09:35:54.882Z"
   },
   {
    "duration": 15,
    "start_time": "2025-03-27T09:35:54.898Z"
   },
   {
    "duration": 12,
    "start_time": "2025-03-27T09:35:54.914Z"
   },
   {
    "duration": 4,
    "start_time": "2025-03-27T09:35:54.928Z"
   },
   {
    "duration": 15,
    "start_time": "2025-03-27T09:35:54.935Z"
   },
   {
    "duration": 8,
    "start_time": "2025-03-27T09:35:54.951Z"
   },
   {
    "duration": 5,
    "start_time": "2025-03-27T09:35:54.961Z"
   },
   {
    "duration": 23,
    "start_time": "2025-03-27T09:35:54.967Z"
   },
   {
    "duration": 32,
    "start_time": "2025-03-27T09:35:54.992Z"
   },
   {
    "duration": 26,
    "start_time": "2025-03-27T09:35:55.026Z"
   },
   {
    "duration": 9,
    "start_time": "2025-03-27T09:35:55.054Z"
   },
   {
    "duration": 12,
    "start_time": "2025-03-27T09:35:55.064Z"
   },
   {
    "duration": 8,
    "start_time": "2025-03-27T09:35:55.078Z"
   },
   {
    "duration": 4,
    "start_time": "2025-03-27T09:35:55.087Z"
   },
   {
    "duration": 8,
    "start_time": "2025-03-27T09:35:55.092Z"
   },
   {
    "duration": 5,
    "start_time": "2025-03-27T09:35:55.102Z"
   },
   {
    "duration": 11,
    "start_time": "2025-03-27T09:35:55.108Z"
   },
   {
    "duration": 7,
    "start_time": "2025-03-27T09:35:55.120Z"
   },
   {
    "duration": 7,
    "start_time": "2025-03-27T09:35:55.129Z"
   },
   {
    "duration": 20,
    "start_time": "2025-03-27T09:35:55.137Z"
   },
   {
    "duration": 10,
    "start_time": "2025-03-27T09:35:55.159Z"
   },
   {
    "duration": 12,
    "start_time": "2025-03-27T09:35:55.171Z"
   },
   {
    "duration": 8,
    "start_time": "2025-03-27T09:35:55.187Z"
   },
   {
    "duration": 12,
    "start_time": "2025-03-27T09:35:55.196Z"
   },
   {
    "duration": 6,
    "start_time": "2025-03-27T09:35:55.210Z"
   },
   {
    "duration": 180,
    "start_time": "2025-03-27T09:35:55.217Z"
   },
   {
    "duration": 157,
    "start_time": "2025-03-27T09:35:55.398Z"
   },
   {
    "duration": 24697,
    "start_time": "2025-03-27T09:35:55.556Z"
   },
   {
    "duration": 20810,
    "start_time": "2025-03-27T09:36:20.255Z"
   },
   {
    "duration": 6,
    "start_time": "2025-03-27T09:36:41.067Z"
   },
   {
    "duration": 136,
    "start_time": "2025-03-27T09:36:41.075Z"
   },
   {
    "duration": 9,
    "start_time": "2025-03-27T09:36:41.212Z"
   },
   {
    "duration": 10,
    "start_time": "2025-03-27T09:36:41.222Z"
   },
   {
    "duration": 16,
    "start_time": "2025-03-27T09:36:41.234Z"
   },
   {
    "duration": 8,
    "start_time": "2025-03-27T09:36:41.252Z"
   },
   {
    "duration": 4,
    "start_time": "2025-03-27T09:36:41.261Z"
   },
   {
    "duration": 5,
    "start_time": "2025-03-27T09:36:41.266Z"
   },
   {
    "duration": 35,
    "start_time": "2025-03-27T09:36:41.272Z"
   },
   {
    "duration": 23,
    "start_time": "2025-03-27T09:36:41.309Z"
   },
   {
    "duration": 17,
    "start_time": "2025-03-27T09:36:41.333Z"
   },
   {
    "duration": 23,
    "start_time": "2025-03-27T09:36:41.351Z"
   },
   {
    "duration": 41,
    "start_time": "2025-03-27T09:36:41.376Z"
   },
   {
    "duration": 4,
    "start_time": "2025-03-27T09:36:41.418Z"
   },
   {
    "duration": 65,
    "start_time": "2025-03-27T10:03:23.036Z"
   },
   {
    "duration": 3,
    "start_time": "2025-03-27T10:03:44.258Z"
   },
   {
    "duration": 3,
    "start_time": "2025-03-27T10:06:54.759Z"
   },
   {
    "duration": 4,
    "start_time": "2025-03-27T10:07:09.367Z"
   },
   {
    "duration": 12,
    "start_time": "2025-03-27T10:07:31.112Z"
   },
   {
    "duration": 18,
    "start_time": "2025-03-27T10:07:34.149Z"
   },
   {
    "duration": 6,
    "start_time": "2025-03-27T10:10:22.000Z"
   },
   {
    "duration": 18,
    "start_time": "2025-03-27T10:10:45.566Z"
   },
   {
    "duration": 13,
    "start_time": "2025-03-27T10:11:52.677Z"
   },
   {
    "duration": 137,
    "start_time": "2025-03-27T10:26:48.751Z"
   },
   {
    "duration": 135,
    "start_time": "2025-03-27T10:27:02.153Z"
   },
   {
    "duration": 135,
    "start_time": "2025-03-27T10:28:22.033Z"
   },
   {
    "duration": 105,
    "start_time": "2025-03-27T10:28:46.848Z"
   },
   {
    "duration": 13,
    "start_time": "2025-03-27T10:31:10.306Z"
   },
   {
    "duration": 325,
    "start_time": "2025-03-27T10:34:16.494Z"
   },
   {
    "duration": 130,
    "start_time": "2025-03-27T10:34:44.820Z"
   },
   {
    "duration": 131,
    "start_time": "2025-03-27T10:38:35.638Z"
   },
   {
    "duration": 127,
    "start_time": "2025-03-27T10:38:45.861Z"
   },
   {
    "duration": 164,
    "start_time": "2025-03-27T10:39:20.284Z"
   },
   {
    "duration": 128,
    "start_time": "2025-03-27T10:39:28.600Z"
   },
   {
    "duration": 129,
    "start_time": "2025-03-27T10:41:33.556Z"
   },
   {
    "duration": 126,
    "start_time": "2025-03-27T10:41:43.900Z"
   },
   {
    "duration": 424,
    "start_time": "2025-03-27T10:43:12.505Z"
   },
   {
    "duration": 4,
    "start_time": "2025-03-27T10:43:33.778Z"
   },
   {
    "duration": 123,
    "start_time": "2025-03-27T10:43:37.486Z"
   },
   {
    "duration": 4,
    "start_time": "2025-03-27T10:43:56.052Z"
   },
   {
    "duration": 132,
    "start_time": "2025-03-27T10:45:13.572Z"
   },
   {
    "duration": 5,
    "start_time": "2025-03-27T10:45:17.120Z"
   },
   {
    "duration": 18,
    "start_time": "2025-03-27T10:45:22.801Z"
   },
   {
    "duration": 133,
    "start_time": "2025-03-27T10:45:46.973Z"
   },
   {
    "duration": 13,
    "start_time": "2025-03-27T10:45:49.372Z"
   },
   {
    "duration": 141,
    "start_time": "2025-03-27T10:47:44.369Z"
   },
   {
    "duration": 14,
    "start_time": "2025-03-27T10:47:58.101Z"
   },
   {
    "duration": 181,
    "start_time": "2025-03-27T10:48:39.490Z"
   },
   {
    "duration": 14,
    "start_time": "2025-03-27T10:48:43.247Z"
   },
   {
    "duration": 153,
    "start_time": "2025-03-27T10:49:19.204Z"
   },
   {
    "duration": 174,
    "start_time": "2025-03-27T10:49:22.901Z"
   },
   {
    "duration": 31,
    "start_time": "2025-03-27T10:50:16.094Z"
   },
   {
    "duration": 190,
    "start_time": "2025-03-27T10:51:46.840Z"
   },
   {
    "duration": 23,
    "start_time": "2025-03-27T10:51:49.769Z"
   },
   {
    "duration": 24,
    "start_time": "2025-03-27T10:52:11.850Z"
   },
   {
    "duration": 155,
    "start_time": "2025-03-27T10:53:03.011Z"
   },
   {
    "duration": 23,
    "start_time": "2025-03-27T10:53:05.202Z"
   },
   {
    "duration": 172,
    "start_time": "2025-03-27T10:54:30.047Z"
   },
   {
    "duration": 167,
    "start_time": "2025-03-27T10:54:42.151Z"
   },
   {
    "duration": 106,
    "start_time": "2025-03-27T10:57:13.133Z"
   },
   {
    "duration": 92,
    "start_time": "2025-03-27T10:58:06.741Z"
   },
   {
    "duration": 111,
    "start_time": "2025-03-27T10:58:17.677Z"
   },
   {
    "duration": 149,
    "start_time": "2025-03-27T11:01:22.469Z"
   },
   {
    "duration": 157,
    "start_time": "2025-03-27T11:04:09.123Z"
   },
   {
    "duration": 159,
    "start_time": "2025-03-27T11:04:25.027Z"
   },
   {
    "duration": 156,
    "start_time": "2025-03-27T11:06:36.938Z"
   },
   {
    "duration": 129,
    "start_time": "2025-03-27T11:08:03.121Z"
   },
   {
    "duration": 197,
    "start_time": "2025-03-27T11:08:11.050Z"
   },
   {
    "duration": 193,
    "start_time": "2025-03-27T11:08:18.967Z"
   },
   {
    "duration": 156,
    "start_time": "2025-03-27T11:08:38.880Z"
   },
   {
    "duration": 24,
    "start_time": "2025-03-27T11:08:47.886Z"
   },
   {
    "duration": 432,
    "start_time": "2025-03-27T11:09:31.800Z"
   },
   {
    "duration": 43,
    "start_time": "2025-03-27T11:09:32.234Z"
   },
   {
    "duration": 16,
    "start_time": "2025-03-27T11:09:32.278Z"
   },
   {
    "duration": 33,
    "start_time": "2025-03-27T11:09:32.296Z"
   },
   {
    "duration": 14,
    "start_time": "2025-03-27T11:09:32.331Z"
   },
   {
    "duration": 23,
    "start_time": "2025-03-27T11:09:32.347Z"
   },
   {
    "duration": 39,
    "start_time": "2025-03-27T11:09:32.371Z"
   },
   {
    "duration": 19,
    "start_time": "2025-03-27T11:09:32.412Z"
   },
   {
    "duration": 20,
    "start_time": "2025-03-27T11:09:32.433Z"
   },
   {
    "duration": 15,
    "start_time": "2025-03-27T11:09:32.455Z"
   },
   {
    "duration": 30,
    "start_time": "2025-03-27T11:09:32.471Z"
   },
   {
    "duration": 14,
    "start_time": "2025-03-27T11:09:32.502Z"
   },
   {
    "duration": 11,
    "start_time": "2025-03-27T11:09:32.517Z"
   },
   {
    "duration": 36,
    "start_time": "2025-03-27T11:09:32.529Z"
   },
   {
    "duration": 27,
    "start_time": "2025-03-27T11:09:32.567Z"
   },
   {
    "duration": 4,
    "start_time": "2025-03-27T11:09:32.595Z"
   },
   {
    "duration": 7,
    "start_time": "2025-03-27T11:09:32.601Z"
   },
   {
    "duration": 5,
    "start_time": "2025-03-27T11:09:32.609Z"
   },
   {
    "duration": 5,
    "start_time": "2025-03-27T11:09:32.615Z"
   },
   {
    "duration": 31,
    "start_time": "2025-03-27T11:09:32.621Z"
   },
   {
    "duration": 42,
    "start_time": "2025-03-27T11:09:32.654Z"
   },
   {
    "duration": 54,
    "start_time": "2025-03-27T11:09:32.698Z"
   },
   {
    "duration": 26,
    "start_time": "2025-03-27T11:09:32.753Z"
   },
   {
    "duration": 23,
    "start_time": "2025-03-27T11:09:32.781Z"
   },
   {
    "duration": 51,
    "start_time": "2025-03-27T11:09:32.805Z"
   },
   {
    "duration": 50,
    "start_time": "2025-03-27T11:09:32.857Z"
   },
   {
    "duration": 55,
    "start_time": "2025-03-27T11:09:32.909Z"
   },
   {
    "duration": 11,
    "start_time": "2025-03-27T11:09:32.968Z"
   },
   {
    "duration": 33,
    "start_time": "2025-03-27T11:09:32.981Z"
   },
   {
    "duration": 5,
    "start_time": "2025-03-27T11:09:33.016Z"
   },
   {
    "duration": 197,
    "start_time": "2025-03-27T11:09:33.023Z"
   },
   {
    "duration": 174,
    "start_time": "2025-03-27T11:09:33.222Z"
   },
   {
    "duration": 22776,
    "start_time": "2025-03-27T11:09:33.398Z"
   },
   {
    "duration": 21102,
    "start_time": "2025-03-27T11:09:56.176Z"
   },
   {
    "duration": 6,
    "start_time": "2025-03-27T11:10:17.280Z"
   },
   {
    "duration": 159,
    "start_time": "2025-03-27T11:10:17.287Z"
   },
   {
    "duration": 10,
    "start_time": "2025-03-27T11:10:17.448Z"
   },
   {
    "duration": 59,
    "start_time": "2025-03-27T11:10:17.459Z"
   },
   {
    "duration": 33,
    "start_time": "2025-03-27T11:10:17.520Z"
   },
   {
    "duration": 6,
    "start_time": "2025-03-27T11:10:17.555Z"
   },
   {
    "duration": 16,
    "start_time": "2025-03-27T11:10:17.563Z"
   },
   {
    "duration": 34,
    "start_time": "2025-03-27T11:10:17.580Z"
   },
   {
    "duration": 19,
    "start_time": "2025-03-27T11:10:17.615Z"
   },
   {
    "duration": 56,
    "start_time": "2025-03-27T11:10:17.635Z"
   },
   {
    "duration": 44,
    "start_time": "2025-03-27T11:10:17.692Z"
   },
   {
    "duration": 38,
    "start_time": "2025-03-27T11:10:17.739Z"
   },
   {
    "duration": 17,
    "start_time": "2025-03-27T11:10:17.779Z"
   },
   {
    "duration": 28,
    "start_time": "2025-03-27T11:10:17.797Z"
   },
   {
    "duration": 48,
    "start_time": "2025-03-27T11:10:17.828Z"
   },
   {
    "duration": 45,
    "start_time": "2025-03-27T11:10:17.878Z"
   },
   {
    "duration": 39,
    "start_time": "2025-03-27T11:10:17.925Z"
   },
   {
    "duration": 182,
    "start_time": "2025-03-27T11:10:17.966Z"
   },
   {
    "duration": 22,
    "start_time": "2025-03-27T11:10:18.149Z"
   },
   {
    "duration": 279,
    "start_time": "2025-03-27T11:10:18.173Z"
   },
   {
    "duration": 20,
    "start_time": "2025-03-27T11:10:18.454Z"
   },
   {
    "duration": 15,
    "start_time": "2025-03-27T11:11:50.440Z"
   },
   {
    "duration": 210,
    "start_time": "2025-03-27T11:12:14.492Z"
   },
   {
    "duration": 162,
    "start_time": "2025-03-27T11:12:18.807Z"
   },
   {
    "duration": 13,
    "start_time": "2025-03-27T11:12:26.652Z"
   },
   {
    "duration": 434,
    "start_time": "2025-03-27T11:12:44.882Z"
   },
   {
    "duration": 42,
    "start_time": "2025-03-27T11:12:45.317Z"
   },
   {
    "duration": 14,
    "start_time": "2025-03-27T11:12:45.360Z"
   },
   {
    "duration": 25,
    "start_time": "2025-03-27T11:12:45.376Z"
   },
   {
    "duration": 5,
    "start_time": "2025-03-27T11:12:45.407Z"
   },
   {
    "duration": 8,
    "start_time": "2025-03-27T11:12:45.413Z"
   },
   {
    "duration": 3,
    "start_time": "2025-03-27T11:12:45.423Z"
   },
   {
    "duration": 10,
    "start_time": "2025-03-27T11:12:45.428Z"
   },
   {
    "duration": 30,
    "start_time": "2025-03-27T11:12:45.439Z"
   },
   {
    "duration": 22,
    "start_time": "2025-03-27T11:12:45.472Z"
   },
   {
    "duration": 11,
    "start_time": "2025-03-27T11:12:45.495Z"
   },
   {
    "duration": 22,
    "start_time": "2025-03-27T11:12:45.507Z"
   },
   {
    "duration": 47,
    "start_time": "2025-03-27T11:12:45.531Z"
   },
   {
    "duration": 9,
    "start_time": "2025-03-27T11:12:45.580Z"
   },
   {
    "duration": 40,
    "start_time": "2025-03-27T11:12:45.590Z"
   },
   {
    "duration": 23,
    "start_time": "2025-03-27T11:12:45.632Z"
   },
   {
    "duration": 72,
    "start_time": "2025-03-27T11:12:45.657Z"
   },
   {
    "duration": 32,
    "start_time": "2025-03-27T11:12:45.731Z"
   },
   {
    "duration": 17,
    "start_time": "2025-03-27T11:12:45.765Z"
   },
   {
    "duration": 8,
    "start_time": "2025-03-27T11:12:45.783Z"
   },
   {
    "duration": 17,
    "start_time": "2025-03-27T11:12:45.792Z"
   },
   {
    "duration": 6,
    "start_time": "2025-03-27T11:12:45.810Z"
   },
   {
    "duration": 5,
    "start_time": "2025-03-27T11:12:45.817Z"
   },
   {
    "duration": 4,
    "start_time": "2025-03-27T11:12:45.824Z"
   },
   {
    "duration": 5,
    "start_time": "2025-03-27T11:12:45.830Z"
   },
   {
    "duration": 5,
    "start_time": "2025-03-27T11:12:45.836Z"
   },
   {
    "duration": 27,
    "start_time": "2025-03-27T11:12:45.842Z"
   },
   {
    "duration": 79,
    "start_time": "2025-03-27T11:12:45.872Z"
   },
   {
    "duration": 26,
    "start_time": "2025-03-27T11:12:45.953Z"
   },
   {
    "duration": 6,
    "start_time": "2025-03-27T11:12:45.980Z"
   },
   {
    "duration": 168,
    "start_time": "2025-03-27T11:12:45.987Z"
   },
   {
    "duration": 163,
    "start_time": "2025-03-27T11:12:46.157Z"
   },
   {
    "duration": 22830,
    "start_time": "2025-03-27T11:12:46.322Z"
   },
   {
    "duration": 20641,
    "start_time": "2025-03-27T11:13:09.153Z"
   },
   {
    "duration": 11,
    "start_time": "2025-03-27T11:13:29.796Z"
   },
   {
    "duration": 139,
    "start_time": "2025-03-27T11:13:29.809Z"
   },
   {
    "duration": 8,
    "start_time": "2025-03-27T11:13:29.950Z"
   },
   {
    "duration": 9,
    "start_time": "2025-03-27T11:13:29.959Z"
   },
   {
    "duration": 26,
    "start_time": "2025-03-27T11:13:29.970Z"
   },
   {
    "duration": 4,
    "start_time": "2025-03-27T11:13:30.006Z"
   },
   {
    "duration": 52,
    "start_time": "2025-03-27T11:13:30.011Z"
   },
   {
    "duration": 10,
    "start_time": "2025-03-27T11:13:30.065Z"
   },
   {
    "duration": 16,
    "start_time": "2025-03-27T11:13:30.076Z"
   },
   {
    "duration": 39,
    "start_time": "2025-03-27T11:13:30.094Z"
   },
   {
    "duration": 51,
    "start_time": "2025-03-27T11:13:30.135Z"
   },
   {
    "duration": 99,
    "start_time": "2025-03-27T11:13:30.188Z"
   },
   {
    "duration": 24,
    "start_time": "2025-03-27T11:13:30.289Z"
   },
   {
    "duration": 8,
    "start_time": "2025-03-27T11:13:30.315Z"
   },
   {
    "duration": 33,
    "start_time": "2025-03-27T11:13:30.325Z"
   },
   {
    "duration": 14,
    "start_time": "2025-03-27T11:13:30.359Z"
   },
   {
    "duration": 25,
    "start_time": "2025-03-27T11:13:30.375Z"
   },
   {
    "duration": 160,
    "start_time": "2025-03-27T11:13:30.402Z"
   },
   {
    "duration": 14,
    "start_time": "2025-03-27T11:13:30.563Z"
   },
   {
    "duration": 228,
    "start_time": "2025-03-27T11:13:30.578Z"
   },
   {
    "duration": 14,
    "start_time": "2025-03-27T11:13:30.807Z"
   },
   {
    "duration": 199,
    "start_time": "2025-03-27T11:14:22.948Z"
   },
   {
    "duration": 95,
    "start_time": "2025-03-27T11:14:36.469Z"
   },
   {
    "duration": 99,
    "start_time": "2025-03-27T11:14:49.449Z"
   },
   {
    "duration": 203,
    "start_time": "2025-03-27T11:15:58.852Z"
   },
   {
    "duration": 62,
    "start_time": "2025-03-27T11:20:49.982Z"
   },
   {
    "duration": 9,
    "start_time": "2025-03-27T11:21:32.167Z"
   },
   {
    "duration": 5,
    "start_time": "2025-03-27T11:21:51.998Z"
   },
   {
    "duration": 5,
    "start_time": "2025-03-27T11:21:56.623Z"
   },
   {
    "duration": 5,
    "start_time": "2025-03-27T11:22:12.205Z"
   },
   {
    "duration": 37,
    "start_time": "2025-03-27T11:22:32.593Z"
   },
   {
    "duration": 7,
    "start_time": "2025-03-27T11:30:18.346Z"
   },
   {
    "duration": 17,
    "start_time": "2025-03-27T11:31:35.497Z"
   },
   {
    "duration": 44,
    "start_time": "2025-03-27T11:35:35.196Z"
   },
   {
    "duration": 6,
    "start_time": "2025-03-27T11:35:42.146Z"
   },
   {
    "duration": 117,
    "start_time": "2025-03-27T11:35:56.588Z"
   },
   {
    "duration": 13,
    "start_time": "2025-03-27T11:36:00.572Z"
   },
   {
    "duration": 5,
    "start_time": "2025-03-27T11:36:04.824Z"
   },
   {
    "duration": 5,
    "start_time": "2025-03-27T11:36:10.325Z"
   },
   {
    "duration": 6,
    "start_time": "2025-03-27T11:36:59.687Z"
   },
   {
    "duration": 8,
    "start_time": "2025-03-27T11:37:45.315Z"
   },
   {
    "duration": 9,
    "start_time": "2025-03-27T11:38:58.315Z"
   },
   {
    "duration": 6,
    "start_time": "2025-03-27T11:39:21.957Z"
   },
   {
    "duration": 6,
    "start_time": "2025-03-27T11:39:31.575Z"
   },
   {
    "duration": 112,
    "start_time": "2025-03-27T11:42:33.851Z"
   },
   {
    "duration": 9,
    "start_time": "2025-03-27T11:42:46.070Z"
   },
   {
    "duration": 15,
    "start_time": "2025-03-27T11:42:51.511Z"
   },
   {
    "duration": 9,
    "start_time": "2025-03-27T11:44:23.774Z"
   },
   {
    "duration": 6,
    "start_time": "2025-03-27T11:44:36.397Z"
   },
   {
    "duration": 9,
    "start_time": "2025-03-27T11:46:58.358Z"
   },
   {
    "duration": 1352,
    "start_time": "2025-03-27T11:47:05.029Z"
   },
   {
    "duration": 9,
    "start_time": "2025-03-27T11:49:27.966Z"
   },
   {
    "duration": 13,
    "start_time": "2025-03-27T11:51:57.264Z"
   },
   {
    "duration": 7,
    "start_time": "2025-03-27T11:52:29.197Z"
   },
   {
    "duration": 12,
    "start_time": "2025-03-27T11:54:20.042Z"
   },
   {
    "duration": 6,
    "start_time": "2025-03-27T11:55:47.657Z"
   },
   {
    "duration": 6,
    "start_time": "2025-03-27T11:56:05.099Z"
   },
   {
    "duration": 10,
    "start_time": "2025-03-27T11:56:37.760Z"
   },
   {
    "duration": 11,
    "start_time": "2025-03-27T11:58:17.953Z"
   },
   {
    "duration": 32,
    "start_time": "2025-03-27T11:59:35.899Z"
   },
   {
    "duration": 12,
    "start_time": "2025-03-27T11:59:42.249Z"
   },
   {
    "duration": 29,
    "start_time": "2025-03-27T12:00:05.800Z"
   },
   {
    "duration": 11,
    "start_time": "2025-03-27T12:05:10.606Z"
   },
   {
    "duration": 6,
    "start_time": "2025-03-27T12:05:21.470Z"
   },
   {
    "duration": 8,
    "start_time": "2025-03-27T12:05:24.532Z"
   },
   {
    "duration": 8,
    "start_time": "2025-03-27T12:05:35.388Z"
   },
   {
    "duration": 20,
    "start_time": "2025-03-27T12:06:09.221Z"
   },
   {
    "duration": 8,
    "start_time": "2025-03-27T12:06:26.578Z"
   },
   {
    "duration": 7,
    "start_time": "2025-03-27T12:06:46.089Z"
   },
   {
    "duration": 9,
    "start_time": "2025-03-27T12:06:50.438Z"
   },
   {
    "duration": 7,
    "start_time": "2025-03-27T12:07:09.254Z"
   },
   {
    "duration": 9,
    "start_time": "2025-03-27T12:09:40.196Z"
   },
   {
    "duration": 6,
    "start_time": "2025-03-27T12:11:23.949Z"
   },
   {
    "duration": 10,
    "start_time": "2025-03-27T12:11:40.190Z"
   },
   {
    "duration": 12,
    "start_time": "2025-03-27T12:11:43.021Z"
   },
   {
    "duration": 396,
    "start_time": "2025-03-27T12:11:53.257Z"
   },
   {
    "duration": 40,
    "start_time": "2025-03-27T12:11:53.655Z"
   },
   {
    "duration": 35,
    "start_time": "2025-03-27T12:11:53.697Z"
   },
   {
    "duration": 19,
    "start_time": "2025-03-27T12:11:53.736Z"
   },
   {
    "duration": 4,
    "start_time": "2025-03-27T12:11:53.757Z"
   },
   {
    "duration": 11,
    "start_time": "2025-03-27T12:11:53.762Z"
   },
   {
    "duration": 17,
    "start_time": "2025-03-27T12:11:53.774Z"
   },
   {
    "duration": 19,
    "start_time": "2025-03-27T12:11:53.793Z"
   },
   {
    "duration": 22,
    "start_time": "2025-03-27T12:11:53.813Z"
   },
   {
    "duration": 36,
    "start_time": "2025-03-27T12:11:53.837Z"
   },
   {
    "duration": 44,
    "start_time": "2025-03-27T12:11:53.875Z"
   },
   {
    "duration": 30,
    "start_time": "2025-03-27T12:11:53.921Z"
   },
   {
    "duration": 12,
    "start_time": "2025-03-27T12:11:53.953Z"
   },
   {
    "duration": 22,
    "start_time": "2025-03-27T12:11:53.969Z"
   },
   {
    "duration": 11,
    "start_time": "2025-03-27T12:11:53.992Z"
   },
   {
    "duration": 19,
    "start_time": "2025-03-27T12:11:54.004Z"
   },
   {
    "duration": 11,
    "start_time": "2025-03-27T12:11:54.026Z"
   },
   {
    "duration": 5,
    "start_time": "2025-03-27T12:11:54.039Z"
   },
   {
    "duration": 4,
    "start_time": "2025-03-27T12:11:54.046Z"
   },
   {
    "duration": 3,
    "start_time": "2025-03-27T12:11:54.052Z"
   },
   {
    "duration": 4,
    "start_time": "2025-03-27T12:11:54.056Z"
   },
   {
    "duration": 3,
    "start_time": "2025-03-27T12:11:54.062Z"
   },
   {
    "duration": 4,
    "start_time": "2025-03-27T12:11:54.066Z"
   },
   {
    "duration": 3,
    "start_time": "2025-03-27T12:11:54.072Z"
   },
   {
    "duration": 44,
    "start_time": "2025-03-27T12:11:54.076Z"
   },
   {
    "duration": 10,
    "start_time": "2025-03-27T12:11:54.122Z"
   },
   {
    "duration": 23,
    "start_time": "2025-03-27T12:11:54.135Z"
   },
   {
    "duration": 8,
    "start_time": "2025-03-27T12:11:54.160Z"
   },
   {
    "duration": 10,
    "start_time": "2025-03-27T12:11:54.169Z"
   },
   {
    "duration": 11,
    "start_time": "2025-03-27T12:11:54.180Z"
   },
   {
    "duration": 207,
    "start_time": "2025-03-27T12:11:54.192Z"
   },
   {
    "duration": 193,
    "start_time": "2025-03-27T12:11:54.400Z"
   },
   {
    "duration": 26050,
    "start_time": "2025-03-27T12:11:54.595Z"
   },
   {
    "duration": 23782,
    "start_time": "2025-03-27T12:12:20.646Z"
   },
   {
    "duration": 8,
    "start_time": "2025-03-27T12:12:44.429Z"
   },
   {
    "duration": 153,
    "start_time": "2025-03-27T12:12:44.439Z"
   },
   {
    "duration": 23,
    "start_time": "2025-03-27T12:12:44.593Z"
   },
   {
    "duration": 21,
    "start_time": "2025-03-27T12:12:44.618Z"
   },
   {
    "duration": 18,
    "start_time": "2025-03-27T12:12:44.641Z"
   },
   {
    "duration": 5,
    "start_time": "2025-03-27T12:12:44.660Z"
   },
   {
    "duration": 4,
    "start_time": "2025-03-27T12:12:44.668Z"
   },
   {
    "duration": 39,
    "start_time": "2025-03-27T12:12:44.674Z"
   },
   {
    "duration": 17,
    "start_time": "2025-03-27T12:12:44.718Z"
   },
   {
    "duration": 24,
    "start_time": "2025-03-27T12:12:44.736Z"
   },
   {
    "duration": 16,
    "start_time": "2025-03-27T12:12:44.762Z"
   },
   {
    "duration": 38,
    "start_time": "2025-03-27T12:12:44.780Z"
   },
   {
    "duration": 20,
    "start_time": "2025-03-27T12:12:44.820Z"
   },
   {
    "duration": 4,
    "start_time": "2025-03-27T12:12:44.841Z"
   },
   {
    "duration": 10,
    "start_time": "2025-03-27T12:12:44.846Z"
   },
   {
    "duration": 28,
    "start_time": "2025-03-27T12:12:44.857Z"
   },
   {
    "duration": 21,
    "start_time": "2025-03-27T12:12:44.886Z"
   },
   {
    "duration": 212,
    "start_time": "2025-03-27T12:12:44.910Z"
   },
   {
    "duration": 19,
    "start_time": "2025-03-27T12:12:45.128Z"
   },
   {
    "duration": 255,
    "start_time": "2025-03-27T12:12:45.149Z"
   },
   {
    "duration": 35,
    "start_time": "2025-03-27T12:12:45.405Z"
   },
   {
    "duration": 6,
    "start_time": "2025-03-27T12:12:45.442Z"
   },
   {
    "duration": 6,
    "start_time": "2025-03-27T12:12:45.449Z"
   },
   {
    "duration": 9,
    "start_time": "2025-03-27T12:12:45.456Z"
   },
   {
    "duration": 471,
    "start_time": "2025-03-27T12:18:05.392Z"
   },
   {
    "duration": 55,
    "start_time": "2025-03-27T12:18:05.865Z"
   },
   {
    "duration": 23,
    "start_time": "2025-03-27T12:18:05.921Z"
   },
   {
    "duration": 27,
    "start_time": "2025-03-27T12:18:05.946Z"
   },
   {
    "duration": 5,
    "start_time": "2025-03-27T12:18:05.975Z"
   },
   {
    "duration": 53,
    "start_time": "2025-03-27T12:18:05.981Z"
   },
   {
    "duration": 26,
    "start_time": "2025-03-27T12:18:06.035Z"
   },
   {
    "duration": 77,
    "start_time": "2025-03-27T12:18:06.063Z"
   },
   {
    "duration": 36,
    "start_time": "2025-03-27T12:18:06.141Z"
   },
   {
    "duration": 13,
    "start_time": "2025-03-27T12:18:06.180Z"
   },
   {
    "duration": 6,
    "start_time": "2025-03-27T12:18:06.194Z"
   },
   {
    "duration": 14,
    "start_time": "2025-03-27T12:18:06.201Z"
   },
   {
    "duration": 16,
    "start_time": "2025-03-27T12:18:06.217Z"
   },
   {
    "duration": 95,
    "start_time": "2025-03-27T12:18:06.236Z"
   },
   {
    "duration": 66,
    "start_time": "2025-03-27T12:18:06.333Z"
   },
   {
    "duration": 5,
    "start_time": "2025-03-27T12:18:06.401Z"
   },
   {
    "duration": 7,
    "start_time": "2025-03-27T12:18:06.415Z"
   },
   {
    "duration": 71,
    "start_time": "2025-03-27T12:18:06.424Z"
   },
   {
    "duration": 39,
    "start_time": "2025-03-27T12:18:06.496Z"
   },
   {
    "duration": 37,
    "start_time": "2025-03-27T12:18:06.537Z"
   },
   {
    "duration": 18,
    "start_time": "2025-03-27T12:18:06.576Z"
   },
   {
    "duration": 33,
    "start_time": "2025-03-27T12:18:06.596Z"
   },
   {
    "duration": 7,
    "start_time": "2025-03-27T12:18:06.631Z"
   },
   {
    "duration": 10,
    "start_time": "2025-03-27T12:18:06.639Z"
   },
   {
    "duration": 6,
    "start_time": "2025-03-27T12:18:06.650Z"
   },
   {
    "duration": 13,
    "start_time": "2025-03-27T12:18:06.657Z"
   },
   {
    "duration": 14,
    "start_time": "2025-03-27T12:18:06.672Z"
   },
   {
    "duration": 16,
    "start_time": "2025-03-27T12:18:06.689Z"
   },
   {
    "duration": 33,
    "start_time": "2025-03-27T12:18:06.710Z"
   },
   {
    "duration": 11,
    "start_time": "2025-03-27T12:18:06.744Z"
   },
   {
    "duration": 190,
    "start_time": "2025-03-27T12:18:06.757Z"
   },
   {
    "duration": 194,
    "start_time": "2025-03-27T12:18:06.948Z"
   },
   {
    "duration": 26504,
    "start_time": "2025-03-27T12:18:07.144Z"
   },
   {
    "duration": 23501,
    "start_time": "2025-03-27T12:18:33.650Z"
   },
   {
    "duration": 5,
    "start_time": "2025-03-27T12:18:57.153Z"
   },
   {
    "duration": 170,
    "start_time": "2025-03-27T12:18:57.159Z"
   },
   {
    "duration": 24,
    "start_time": "2025-03-27T12:18:57.333Z"
   },
   {
    "duration": 28,
    "start_time": "2025-03-27T12:18:57.358Z"
   },
   {
    "duration": 30,
    "start_time": "2025-03-27T12:18:57.388Z"
   },
   {
    "duration": 11,
    "start_time": "2025-03-27T12:18:57.425Z"
   },
   {
    "duration": 19,
    "start_time": "2025-03-27T12:18:57.437Z"
   },
   {
    "duration": 8,
    "start_time": "2025-03-27T12:18:57.458Z"
   },
   {
    "duration": 4,
    "start_time": "2025-03-27T12:18:57.468Z"
   },
   {
    "duration": 22,
    "start_time": "2025-03-27T12:18:57.473Z"
   },
   {
    "duration": 33,
    "start_time": "2025-03-27T12:18:57.497Z"
   },
   {
    "duration": 24,
    "start_time": "2025-03-27T12:18:57.532Z"
   },
   {
    "duration": 13,
    "start_time": "2025-03-27T12:18:57.558Z"
   },
   {
    "duration": 3,
    "start_time": "2025-03-27T12:18:57.573Z"
   },
   {
    "duration": 4,
    "start_time": "2025-03-27T12:18:57.578Z"
   },
   {
    "duration": 52,
    "start_time": "2025-03-27T12:18:57.584Z"
   },
   {
    "duration": 13,
    "start_time": "2025-03-27T12:18:57.638Z"
   },
   {
    "duration": 199,
    "start_time": "2025-03-27T12:18:57.653Z"
   },
   {
    "duration": 13,
    "start_time": "2025-03-27T12:18:57.854Z"
   },
   {
    "duration": 279,
    "start_time": "2025-03-27T12:18:57.868Z"
   },
   {
    "duration": 13,
    "start_time": "2025-03-27T12:18:58.148Z"
   },
   {
    "duration": 16,
    "start_time": "2025-03-27T12:18:58.163Z"
   },
   {
    "duration": 13,
    "start_time": "2025-03-27T12:18:58.180Z"
   },
   {
    "duration": 40,
    "start_time": "2025-03-27T12:18:58.195Z"
   },
   {
    "duration": 419,
    "start_time": "2025-03-27T12:19:56.137Z"
   },
   {
    "duration": 43,
    "start_time": "2025-03-27T12:19:56.558Z"
   },
   {
    "duration": 38,
    "start_time": "2025-03-27T12:19:56.602Z"
   },
   {
    "duration": 19,
    "start_time": "2025-03-27T12:19:56.643Z"
   },
   {
    "duration": 5,
    "start_time": "2025-03-27T12:19:56.664Z"
   },
   {
    "duration": 6,
    "start_time": "2025-03-27T12:19:56.670Z"
   },
   {
    "duration": 37,
    "start_time": "2025-03-27T12:19:56.677Z"
   },
   {
    "duration": 25,
    "start_time": "2025-03-27T12:19:56.719Z"
   },
   {
    "duration": 4,
    "start_time": "2025-03-27T12:19:56.745Z"
   },
   {
    "duration": 3,
    "start_time": "2025-03-27T12:19:56.753Z"
   },
   {
    "duration": 14,
    "start_time": "2025-03-27T12:19:56.757Z"
   },
   {
    "duration": 18,
    "start_time": "2025-03-27T12:19:56.772Z"
   },
   {
    "duration": 9,
    "start_time": "2025-03-27T12:19:56.792Z"
   },
   {
    "duration": 30,
    "start_time": "2025-03-27T12:19:56.803Z"
   },
   {
    "duration": 8,
    "start_time": "2025-03-27T12:19:56.835Z"
   },
   {
    "duration": 6,
    "start_time": "2025-03-27T12:19:56.845Z"
   },
   {
    "duration": 12,
    "start_time": "2025-03-27T12:19:56.852Z"
   },
   {
    "duration": 11,
    "start_time": "2025-03-27T12:19:56.865Z"
   },
   {
    "duration": 4,
    "start_time": "2025-03-27T12:19:56.877Z"
   },
   {
    "duration": 4,
    "start_time": "2025-03-27T12:19:56.883Z"
   },
   {
    "duration": 34,
    "start_time": "2025-03-27T12:19:56.888Z"
   },
   {
    "duration": 12,
    "start_time": "2025-03-27T12:19:56.924Z"
   },
   {
    "duration": 5,
    "start_time": "2025-03-27T12:19:56.938Z"
   },
   {
    "duration": 8,
    "start_time": "2025-03-27T12:19:56.944Z"
   },
   {
    "duration": 7,
    "start_time": "2025-03-27T12:19:56.954Z"
   },
   {
    "duration": 17,
    "start_time": "2025-03-27T12:19:56.962Z"
   },
   {
    "duration": 12,
    "start_time": "2025-03-27T12:19:56.980Z"
   },
   {
    "duration": 29,
    "start_time": "2025-03-27T12:19:56.995Z"
   },
   {
    "duration": 17,
    "start_time": "2025-03-27T12:19:57.026Z"
   },
   {
    "duration": 6,
    "start_time": "2025-03-27T12:19:57.045Z"
   },
   {
    "duration": 199,
    "start_time": "2025-03-27T12:19:57.052Z"
   },
   {
    "duration": 198,
    "start_time": "2025-03-27T12:19:57.253Z"
   },
   {
    "duration": 26519,
    "start_time": "2025-03-27T12:19:57.453Z"
   },
   {
    "duration": 23764,
    "start_time": "2025-03-27T12:20:23.974Z"
   },
   {
    "duration": 7,
    "start_time": "2025-03-27T12:20:47.739Z"
   },
   {
    "duration": 150,
    "start_time": "2025-03-27T12:20:47.747Z"
   },
   {
    "duration": 23,
    "start_time": "2025-03-27T12:20:47.898Z"
   },
   {
    "duration": 22,
    "start_time": "2025-03-27T12:20:47.923Z"
   },
   {
    "duration": 17,
    "start_time": "2025-03-27T12:20:47.947Z"
   },
   {
    "duration": 4,
    "start_time": "2025-03-27T12:20:47.965Z"
   },
   {
    "duration": 3,
    "start_time": "2025-03-27T12:20:47.971Z"
   },
   {
    "duration": 8,
    "start_time": "2025-03-27T12:20:47.975Z"
   },
   {
    "duration": 4,
    "start_time": "2025-03-27T12:20:47.984Z"
   },
   {
    "duration": 59,
    "start_time": "2025-03-27T12:20:47.989Z"
   },
   {
    "duration": 22,
    "start_time": "2025-03-27T12:20:48.049Z"
   },
   {
    "duration": 23,
    "start_time": "2025-03-27T12:20:48.072Z"
   },
   {
    "duration": 27,
    "start_time": "2025-03-27T12:20:48.096Z"
   },
   {
    "duration": 5,
    "start_time": "2025-03-27T12:20:48.126Z"
   },
   {
    "duration": 32,
    "start_time": "2025-03-27T12:20:48.133Z"
   },
   {
    "duration": 13,
    "start_time": "2025-03-27T12:20:48.167Z"
   },
   {
    "duration": 18,
    "start_time": "2025-03-27T12:20:48.181Z"
   },
   {
    "duration": 187,
    "start_time": "2025-03-27T12:20:48.200Z"
   },
   {
    "duration": 25,
    "start_time": "2025-03-27T12:20:48.388Z"
   },
   {
    "duration": 231,
    "start_time": "2025-03-27T12:20:48.423Z"
   },
   {
    "duration": 14,
    "start_time": "2025-03-27T12:20:48.656Z"
   },
   {
    "duration": 36,
    "start_time": "2025-03-27T12:20:48.672Z"
   },
   {
    "duration": 21,
    "start_time": "2025-03-27T12:20:48.716Z"
   },
   {
    "duration": 14,
    "start_time": "2025-03-27T12:20:48.739Z"
   },
   {
    "duration": 14,
    "start_time": "2025-03-27T12:22:30.967Z"
   },
   {
    "duration": 12,
    "start_time": "2025-03-27T12:28:14.098Z"
   },
   {
    "duration": 400,
    "start_time": "2025-03-27T12:28:53.970Z"
   },
   {
    "duration": 58,
    "start_time": "2025-03-27T12:28:54.371Z"
   },
   {
    "duration": 18,
    "start_time": "2025-03-27T12:28:54.435Z"
   },
   {
    "duration": 22,
    "start_time": "2025-03-27T12:28:54.455Z"
   },
   {
    "duration": 4,
    "start_time": "2025-03-27T12:28:54.478Z"
   },
   {
    "duration": 9,
    "start_time": "2025-03-27T12:28:54.484Z"
   },
   {
    "duration": 39,
    "start_time": "2025-03-27T12:28:54.494Z"
   },
   {
    "duration": 10,
    "start_time": "2025-03-27T12:28:54.535Z"
   },
   {
    "duration": 4,
    "start_time": "2025-03-27T12:28:54.546Z"
   },
   {
    "duration": 3,
    "start_time": "2025-03-27T12:28:54.552Z"
   },
   {
    "duration": 13,
    "start_time": "2025-03-27T12:28:54.556Z"
   },
   {
    "duration": 17,
    "start_time": "2025-03-27T12:28:54.570Z"
   },
   {
    "duration": 13,
    "start_time": "2025-03-27T12:28:54.588Z"
   },
   {
    "duration": 23,
    "start_time": "2025-03-27T12:28:54.603Z"
   },
   {
    "duration": 11,
    "start_time": "2025-03-27T12:28:54.628Z"
   },
   {
    "duration": 12,
    "start_time": "2025-03-27T12:28:54.640Z"
   },
   {
    "duration": 15,
    "start_time": "2025-03-27T12:28:54.653Z"
   },
   {
    "duration": 6,
    "start_time": "2025-03-27T12:28:54.670Z"
   },
   {
    "duration": 5,
    "start_time": "2025-03-27T12:28:54.677Z"
   },
   {
    "duration": 6,
    "start_time": "2025-03-27T12:28:54.683Z"
   },
   {
    "duration": 9,
    "start_time": "2025-03-27T12:28:54.691Z"
   },
   {
    "duration": 29,
    "start_time": "2025-03-27T12:28:54.701Z"
   },
   {
    "duration": 32,
    "start_time": "2025-03-27T12:28:54.732Z"
   },
   {
    "duration": 24,
    "start_time": "2025-03-27T12:28:54.765Z"
   },
   {
    "duration": 14,
    "start_time": "2025-03-27T12:28:54.791Z"
   },
   {
    "duration": 25,
    "start_time": "2025-03-27T12:28:54.812Z"
   },
   {
    "duration": 49,
    "start_time": "2025-03-27T12:28:54.838Z"
   },
   {
    "duration": 12,
    "start_time": "2025-03-27T12:28:54.890Z"
   },
   {
    "duration": 39,
    "start_time": "2025-03-27T12:28:54.904Z"
   },
   {
    "duration": 18,
    "start_time": "2025-03-27T12:28:54.944Z"
   },
   {
    "duration": 222,
    "start_time": "2025-03-27T12:28:54.964Z"
   },
   {
    "duration": 193,
    "start_time": "2025-03-27T12:28:55.188Z"
   },
   {
    "duration": 25816,
    "start_time": "2025-03-27T12:28:55.383Z"
   },
   {
    "duration": 23372,
    "start_time": "2025-03-27T12:29:21.200Z"
   },
   {
    "duration": 5,
    "start_time": "2025-03-27T12:29:44.574Z"
   },
   {
    "duration": 171,
    "start_time": "2025-03-27T12:29:44.581Z"
   },
   {
    "duration": 10,
    "start_time": "2025-03-27T12:29:44.753Z"
   },
   {
    "duration": 10,
    "start_time": "2025-03-27T12:29:44.765Z"
   },
   {
    "duration": 54,
    "start_time": "2025-03-27T12:29:44.776Z"
   },
   {
    "duration": 4,
    "start_time": "2025-03-27T12:29:44.835Z"
   },
   {
    "duration": 10,
    "start_time": "2025-03-27T12:29:44.841Z"
   },
   {
    "duration": 22,
    "start_time": "2025-03-27T12:29:44.853Z"
   },
   {
    "duration": 9,
    "start_time": "2025-03-27T12:29:44.877Z"
   },
   {
    "duration": 39,
    "start_time": "2025-03-27T12:29:44.887Z"
   },
   {
    "duration": 19,
    "start_time": "2025-03-27T12:29:44.931Z"
   },
   {
    "duration": 23,
    "start_time": "2025-03-27T12:29:44.951Z"
   },
   {
    "duration": 13,
    "start_time": "2025-03-27T12:29:44.976Z"
   },
   {
    "duration": 3,
    "start_time": "2025-03-27T12:29:44.991Z"
   },
   {
    "duration": 47,
    "start_time": "2025-03-27T12:29:45.014Z"
   },
   {
    "duration": 75,
    "start_time": "2025-03-27T12:29:45.063Z"
   },
   {
    "duration": 17,
    "start_time": "2025-03-27T12:29:45.140Z"
   },
   {
    "duration": 234,
    "start_time": "2025-03-27T12:29:45.158Z"
   },
   {
    "duration": 16,
    "start_time": "2025-03-27T12:29:45.393Z"
   },
   {
    "duration": 238,
    "start_time": "2025-03-27T12:29:45.416Z"
   },
   {
    "duration": 13,
    "start_time": "2025-03-27T12:29:45.656Z"
   },
   {
    "duration": 20,
    "start_time": "2025-03-27T12:29:45.670Z"
   },
   {
    "duration": 13,
    "start_time": "2025-03-27T12:29:45.691Z"
   },
   {
    "duration": 31,
    "start_time": "2025-03-27T12:29:45.711Z"
   },
   {
    "duration": 67,
    "start_time": "2025-03-28T06:35:20.037Z"
   },
   {
    "duration": 437,
    "start_time": "2025-03-28T06:35:25.258Z"
   },
   {
    "duration": 69,
    "start_time": "2025-03-28T06:35:25.698Z"
   },
   {
    "duration": 23,
    "start_time": "2025-03-28T06:35:25.769Z"
   },
   {
    "duration": 20,
    "start_time": "2025-03-28T06:35:25.795Z"
   },
   {
    "duration": 6,
    "start_time": "2025-03-28T06:35:25.817Z"
   },
   {
    "duration": 6,
    "start_time": "2025-03-28T06:35:25.825Z"
   },
   {
    "duration": 34,
    "start_time": "2025-03-28T06:35:25.832Z"
   },
   {
    "duration": 14,
    "start_time": "2025-03-28T06:35:25.868Z"
   },
   {
    "duration": 5,
    "start_time": "2025-03-28T06:35:25.884Z"
   },
   {
    "duration": 4,
    "start_time": "2025-03-28T06:35:25.892Z"
   },
   {
    "duration": 5,
    "start_time": "2025-03-28T06:35:25.898Z"
   },
   {
    "duration": 6,
    "start_time": "2025-03-28T06:35:25.904Z"
   },
   {
    "duration": 9,
    "start_time": "2025-03-28T06:35:25.912Z"
   },
   {
    "duration": 47,
    "start_time": "2025-03-28T06:35:25.922Z"
   },
   {
    "duration": 7,
    "start_time": "2025-03-28T06:35:25.971Z"
   },
   {
    "duration": 7,
    "start_time": "2025-03-28T06:35:25.979Z"
   },
   {
    "duration": 15,
    "start_time": "2025-03-28T06:35:25.988Z"
   },
   {
    "duration": 18,
    "start_time": "2025-03-28T06:35:26.004Z"
   },
   {
    "duration": 5,
    "start_time": "2025-03-28T06:35:26.023Z"
   },
   {
    "duration": 8,
    "start_time": "2025-03-28T06:35:26.030Z"
   },
   {
    "duration": 8,
    "start_time": "2025-03-28T06:35:26.039Z"
   },
   {
    "duration": 14,
    "start_time": "2025-03-28T06:35:26.048Z"
   },
   {
    "duration": 4,
    "start_time": "2025-03-28T06:35:26.063Z"
   },
   {
    "duration": 3,
    "start_time": "2025-03-28T06:35:26.069Z"
   },
   {
    "duration": 5,
    "start_time": "2025-03-28T06:35:26.074Z"
   },
   {
    "duration": 7,
    "start_time": "2025-03-28T06:35:26.080Z"
   },
   {
    "duration": 18,
    "start_time": "2025-03-28T06:35:26.089Z"
   },
   {
    "duration": 14,
    "start_time": "2025-03-28T06:35:26.110Z"
   },
   {
    "duration": 35,
    "start_time": "2025-03-28T06:35:26.126Z"
   },
   {
    "duration": 6,
    "start_time": "2025-03-28T06:35:26.162Z"
   },
   {
    "duration": 180,
    "start_time": "2025-03-28T06:35:26.170Z"
   },
   {
    "duration": 180,
    "start_time": "2025-03-28T06:35:26.352Z"
   },
   {
    "duration": 24077,
    "start_time": "2025-03-28T06:35:26.534Z"
   },
   {
    "duration": 22206,
    "start_time": "2025-03-28T06:35:50.613Z"
   },
   {
    "duration": 6,
    "start_time": "2025-03-28T06:36:12.821Z"
   },
   {
    "duration": 204,
    "start_time": "2025-03-28T06:36:12.828Z"
   },
   {
    "duration": 14,
    "start_time": "2025-03-28T06:36:13.034Z"
   },
   {
    "duration": 22,
    "start_time": "2025-03-28T06:36:13.050Z"
   },
   {
    "duration": 23,
    "start_time": "2025-03-28T06:36:13.074Z"
   },
   {
    "duration": 5,
    "start_time": "2025-03-28T06:36:13.099Z"
   },
   {
    "duration": 22,
    "start_time": "2025-03-28T06:36:13.106Z"
   },
   {
    "duration": 14,
    "start_time": "2025-03-28T06:36:13.130Z"
   },
   {
    "duration": 23,
    "start_time": "2025-03-28T06:36:13.146Z"
   },
   {
    "duration": 49,
    "start_time": "2025-03-28T06:36:13.171Z"
   },
   {
    "duration": 20,
    "start_time": "2025-03-28T06:36:13.222Z"
   },
   {
    "duration": 27,
    "start_time": "2025-03-28T06:36:13.243Z"
   },
   {
    "duration": 17,
    "start_time": "2025-03-28T06:36:13.272Z"
   },
   {
    "duration": 5,
    "start_time": "2025-03-28T06:36:13.290Z"
   },
   {
    "duration": 6,
    "start_time": "2025-03-28T06:36:13.297Z"
   },
   {
    "duration": 25,
    "start_time": "2025-03-28T06:36:13.305Z"
   },
   {
    "duration": 45,
    "start_time": "2025-03-28T06:36:13.332Z"
   },
   {
    "duration": 180,
    "start_time": "2025-03-28T06:36:13.379Z"
   },
   {
    "duration": 14,
    "start_time": "2025-03-28T06:36:13.562Z"
   },
   {
    "duration": 234,
    "start_time": "2025-03-28T06:36:13.578Z"
   },
   {
    "duration": 15,
    "start_time": "2025-03-28T06:36:13.814Z"
   },
   {
    "duration": 12,
    "start_time": "2025-03-28T06:36:13.830Z"
   },
   {
    "duration": 22,
    "start_time": "2025-03-28T06:36:13.843Z"
   },
   {
    "duration": 21,
    "start_time": "2025-03-28T06:36:13.867Z"
   },
   {
    "duration": 1174,
    "start_time": "2025-03-28T07:34:46.250Z"
   },
   {
    "duration": 438,
    "start_time": "2025-03-28T07:35:02.566Z"
   },
   {
    "duration": 46,
    "start_time": "2025-03-28T07:35:03.006Z"
   },
   {
    "duration": 42,
    "start_time": "2025-03-28T07:35:03.053Z"
   },
   {
    "duration": 34,
    "start_time": "2025-03-28T07:35:03.098Z"
   },
   {
    "duration": 8,
    "start_time": "2025-03-28T07:35:03.134Z"
   },
   {
    "duration": 31,
    "start_time": "2025-03-28T07:35:03.143Z"
   },
   {
    "duration": 40,
    "start_time": "2025-03-28T07:35:03.176Z"
   },
   {
    "duration": 42,
    "start_time": "2025-03-28T07:35:03.218Z"
   },
   {
    "duration": 43,
    "start_time": "2025-03-28T07:35:03.262Z"
   },
   {
    "duration": 9,
    "start_time": "2025-03-28T07:35:03.308Z"
   },
   {
    "duration": 26,
    "start_time": "2025-03-28T07:35:03.319Z"
   },
   {
    "duration": 9,
    "start_time": "2025-03-28T07:35:03.347Z"
   },
   {
    "duration": 48,
    "start_time": "2025-03-28T07:35:03.357Z"
   },
   {
    "duration": 15,
    "start_time": "2025-03-28T07:35:03.407Z"
   },
   {
    "duration": 8,
    "start_time": "2025-03-28T07:35:03.423Z"
   },
   {
    "duration": 40,
    "start_time": "2025-03-28T07:35:03.432Z"
   },
   {
    "duration": 32,
    "start_time": "2025-03-28T07:35:03.474Z"
   },
   {
    "duration": 59,
    "start_time": "2025-03-28T07:35:03.508Z"
   },
   {
    "duration": 35,
    "start_time": "2025-03-28T07:35:03.570Z"
   },
   {
    "duration": 27,
    "start_time": "2025-03-28T07:35:03.607Z"
   },
   {
    "duration": 6,
    "start_time": "2025-03-28T07:35:03.637Z"
   },
   {
    "duration": 5,
    "start_time": "2025-03-28T07:35:03.645Z"
   },
   {
    "duration": 40,
    "start_time": "2025-03-28T07:35:03.651Z"
   },
   {
    "duration": 22,
    "start_time": "2025-03-28T07:35:03.694Z"
   },
   {
    "duration": 38,
    "start_time": "2025-03-28T07:35:03.718Z"
   },
   {
    "duration": 17,
    "start_time": "2025-03-28T07:35:03.758Z"
   },
   {
    "duration": 44,
    "start_time": "2025-03-28T07:35:03.776Z"
   },
   {
    "duration": 25,
    "start_time": "2025-03-28T07:35:03.824Z"
   },
   {
    "duration": 225,
    "start_time": "2025-03-28T07:35:03.851Z"
   },
   {
    "duration": 213,
    "start_time": "2025-03-28T07:35:04.078Z"
   },
   {
    "duration": 25531,
    "start_time": "2025-03-28T07:35:04.293Z"
   },
   {
    "duration": 22294,
    "start_time": "2025-03-28T07:35:29.826Z"
   },
   {
    "duration": 7,
    "start_time": "2025-03-28T07:35:52.122Z"
   },
   {
    "duration": 191,
    "start_time": "2025-03-28T07:35:52.131Z"
   },
   {
    "duration": 12,
    "start_time": "2025-03-28T07:35:52.323Z"
   },
   {
    "duration": 131,
    "start_time": "2025-03-28T07:35:52.337Z"
   },
   {
    "duration": 21,
    "start_time": "2025-03-28T07:35:52.470Z"
   },
   {
    "duration": 5,
    "start_time": "2025-03-28T07:35:52.493Z"
   },
   {
    "duration": 20,
    "start_time": "2025-03-28T07:35:52.499Z"
   },
   {
    "duration": 11,
    "start_time": "2025-03-28T07:35:52.520Z"
   },
   {
    "duration": 9,
    "start_time": "2025-03-28T07:35:52.532Z"
   },
   {
    "duration": 34,
    "start_time": "2025-03-28T07:35:52.543Z"
   },
   {
    "duration": 17,
    "start_time": "2025-03-28T07:35:52.578Z"
   },
   {
    "duration": 24,
    "start_time": "2025-03-28T07:35:52.597Z"
   },
   {
    "duration": 40,
    "start_time": "2025-03-28T07:35:52.623Z"
   },
   {
    "duration": 4,
    "start_time": "2025-03-28T07:35:52.664Z"
   },
   {
    "duration": 13,
    "start_time": "2025-03-28T07:35:52.670Z"
   },
   {
    "duration": 39,
    "start_time": "2025-03-28T07:35:52.685Z"
   },
   {
    "duration": 89,
    "start_time": "2025-03-28T07:35:52.726Z"
   },
   {
    "duration": 164,
    "start_time": "2025-03-28T07:35:52.817Z"
   },
   {
    "duration": 14,
    "start_time": "2025-03-28T07:35:52.983Z"
   },
   {
    "duration": 304,
    "start_time": "2025-03-28T07:35:52.999Z"
   },
   {
    "duration": 14,
    "start_time": "2025-03-28T07:35:53.304Z"
   },
   {
    "duration": 20,
    "start_time": "2025-03-28T07:35:53.320Z"
   },
   {
    "duration": 17,
    "start_time": "2025-03-28T07:35:53.342Z"
   },
   {
    "duration": 27,
    "start_time": "2025-03-28T07:35:53.360Z"
   },
   {
    "duration": 9,
    "start_time": "2025-03-28T07:36:21.800Z"
   },
   {
    "duration": 379,
    "start_time": "2025-03-28T07:51:11.311Z"
   },
   {
    "duration": 47,
    "start_time": "2025-03-28T07:51:11.692Z"
   },
   {
    "duration": 16,
    "start_time": "2025-03-28T07:51:11.740Z"
   },
   {
    "duration": 20,
    "start_time": "2025-03-28T07:51:11.762Z"
   },
   {
    "duration": 5,
    "start_time": "2025-03-28T07:51:11.784Z"
   },
   {
    "duration": 17,
    "start_time": "2025-03-28T07:51:11.791Z"
   },
   {
    "duration": 5,
    "start_time": "2025-03-28T07:51:11.809Z"
   },
   {
    "duration": 8,
    "start_time": "2025-03-28T07:51:11.815Z"
   },
   {
    "duration": 27,
    "start_time": "2025-03-28T07:51:11.824Z"
   },
   {
    "duration": 22,
    "start_time": "2025-03-28T07:51:11.854Z"
   },
   {
    "duration": 20,
    "start_time": "2025-03-28T07:51:11.878Z"
   },
   {
    "duration": 28,
    "start_time": "2025-03-28T07:51:11.900Z"
   },
   {
    "duration": 13,
    "start_time": "2025-03-28T07:51:11.930Z"
   },
   {
    "duration": 15,
    "start_time": "2025-03-28T07:51:11.944Z"
   },
   {
    "duration": 19,
    "start_time": "2025-03-28T07:51:11.960Z"
   },
   {
    "duration": 10,
    "start_time": "2025-03-28T07:51:11.980Z"
   },
   {
    "duration": 12,
    "start_time": "2025-03-28T07:51:11.991Z"
   },
   {
    "duration": 4,
    "start_time": "2025-03-28T07:51:12.005Z"
   },
   {
    "duration": 6,
    "start_time": "2025-03-28T07:51:12.010Z"
   },
   {
    "duration": 7,
    "start_time": "2025-03-28T07:51:12.017Z"
   },
   {
    "duration": 7,
    "start_time": "2025-03-28T07:51:12.025Z"
   },
   {
    "duration": 6,
    "start_time": "2025-03-28T07:51:12.034Z"
   },
   {
    "duration": 11,
    "start_time": "2025-03-28T07:51:12.042Z"
   },
   {
    "duration": 20,
    "start_time": "2025-03-28T07:51:12.055Z"
   },
   {
    "duration": 35,
    "start_time": "2025-03-28T07:51:12.076Z"
   },
   {
    "duration": 70,
    "start_time": "2025-03-28T07:51:12.113Z"
   },
   {
    "duration": 24,
    "start_time": "2025-03-28T07:51:12.185Z"
   },
   {
    "duration": 7,
    "start_time": "2025-03-28T07:51:12.213Z"
   },
   {
    "duration": 182,
    "start_time": "2025-03-28T07:51:12.221Z"
   },
   {
    "duration": 180,
    "start_time": "2025-03-28T07:51:12.406Z"
   },
   {
    "duration": 23919,
    "start_time": "2025-03-28T07:51:12.587Z"
   },
   {
    "duration": 23743,
    "start_time": "2025-03-28T07:51:36.508Z"
   },
   {
    "duration": 9,
    "start_time": "2025-03-28T07:52:00.265Z"
   },
   {
    "duration": 395,
    "start_time": "2025-03-28T07:52:00.277Z"
   },
   {
    "duration": 14,
    "start_time": "2025-03-28T07:52:00.674Z"
   },
   {
    "duration": 37,
    "start_time": "2025-03-28T07:52:00.691Z"
   },
   {
    "duration": 19,
    "start_time": "2025-03-28T07:52:00.730Z"
   },
   {
    "duration": 14,
    "start_time": "2025-03-28T07:52:00.751Z"
   },
   {
    "duration": 22,
    "start_time": "2025-03-28T07:52:00.767Z"
   },
   {
    "duration": 24,
    "start_time": "2025-03-28T07:52:00.791Z"
   },
   {
    "duration": 13,
    "start_time": "2025-03-28T07:52:00.816Z"
   },
   {
    "duration": 31,
    "start_time": "2025-03-28T07:52:00.831Z"
   },
   {
    "duration": 20,
    "start_time": "2025-03-28T07:52:00.864Z"
   },
   {
    "duration": 39,
    "start_time": "2025-03-28T07:52:00.886Z"
   },
   {
    "duration": 16,
    "start_time": "2025-03-28T07:52:00.926Z"
   },
   {
    "duration": 5,
    "start_time": "2025-03-28T07:52:00.943Z"
   },
   {
    "duration": 179,
    "start_time": "2025-03-28T07:52:00.963Z"
   },
   {
    "duration": 15,
    "start_time": "2025-03-28T07:52:01.144Z"
   },
   {
    "duration": 41,
    "start_time": "2025-03-28T07:52:01.161Z"
   },
   {
    "duration": 180,
    "start_time": "2025-03-28T07:52:01.204Z"
   },
   {
    "duration": 16,
    "start_time": "2025-03-28T07:52:01.386Z"
   },
   {
    "duration": 233,
    "start_time": "2025-03-28T07:52:01.403Z"
   },
   {
    "duration": 15,
    "start_time": "2025-03-28T07:52:01.638Z"
   },
   {
    "duration": 19,
    "start_time": "2025-03-28T07:52:01.662Z"
   },
   {
    "duration": 28,
    "start_time": "2025-03-28T07:52:01.683Z"
   },
   {
    "duration": 15,
    "start_time": "2025-03-28T07:52:01.713Z"
   },
   {
    "duration": 5,
    "start_time": "2025-03-28T07:53:05.736Z"
   },
   {
    "duration": 10,
    "start_time": "2025-03-28T08:12:41.618Z"
   },
   {
    "duration": 7,
    "start_time": "2025-03-28T08:16:13.092Z"
   },
   {
    "duration": 162,
    "start_time": "2025-03-28T08:16:18.975Z"
   },
   {
    "duration": 90,
    "start_time": "2025-03-28T08:20:57.108Z"
   },
   {
    "duration": 12,
    "start_time": "2025-03-28T08:31:56.663Z"
   },
   {
    "duration": 463,
    "start_time": "2025-03-28T08:35:45.504Z"
   },
   {
    "duration": 56,
    "start_time": "2025-03-28T08:35:45.968Z"
   },
   {
    "duration": 17,
    "start_time": "2025-03-28T08:35:46.025Z"
   },
   {
    "duration": 21,
    "start_time": "2025-03-28T08:35:46.045Z"
   },
   {
    "duration": 9,
    "start_time": "2025-03-28T08:35:46.067Z"
   },
   {
    "duration": 43,
    "start_time": "2025-03-28T08:35:46.078Z"
   },
   {
    "duration": 12,
    "start_time": "2025-03-28T08:35:46.123Z"
   },
   {
    "duration": 32,
    "start_time": "2025-03-28T08:35:46.136Z"
   },
   {
    "duration": 12,
    "start_time": "2025-03-28T08:35:46.170Z"
   },
   {
    "duration": 11,
    "start_time": "2025-03-28T08:35:46.185Z"
   },
   {
    "duration": 14,
    "start_time": "2025-03-28T08:35:46.197Z"
   },
   {
    "duration": 36,
    "start_time": "2025-03-28T08:35:46.213Z"
   },
   {
    "duration": 14,
    "start_time": "2025-03-28T08:35:46.251Z"
   },
   {
    "duration": 7,
    "start_time": "2025-03-28T08:35:46.267Z"
   },
   {
    "duration": 24,
    "start_time": "2025-03-28T08:35:46.276Z"
   },
   {
    "duration": 14,
    "start_time": "2025-03-28T08:35:46.302Z"
   },
   {
    "duration": 18,
    "start_time": "2025-03-28T08:35:46.318Z"
   },
   {
    "duration": 57,
    "start_time": "2025-03-28T08:35:46.338Z"
   },
   {
    "duration": 139,
    "start_time": "2025-03-28T08:35:46.397Z"
   },
   {
    "duration": 154,
    "start_time": "2025-03-28T08:35:46.538Z"
   },
   {
    "duration": 12,
    "start_time": "2025-03-28T08:35:46.693Z"
   },
   {
    "duration": 34,
    "start_time": "2025-03-28T08:35:46.707Z"
   },
   {
    "duration": 12,
    "start_time": "2025-03-28T08:35:46.743Z"
   },
   {
    "duration": 7,
    "start_time": "2025-03-28T08:35:46.756Z"
   },
   {
    "duration": 24,
    "start_time": "2025-03-28T08:35:46.765Z"
   },
   {
    "duration": 17,
    "start_time": "2025-03-28T08:35:46.791Z"
   },
   {
    "duration": 21,
    "start_time": "2025-03-28T08:35:46.810Z"
   },
   {
    "duration": 17,
    "start_time": "2025-03-28T08:35:46.835Z"
   },
   {
    "duration": 187,
    "start_time": "2025-03-28T08:35:46.854Z"
   },
   {
    "duration": 172,
    "start_time": "2025-03-28T08:35:47.043Z"
   },
   {
    "duration": 24401,
    "start_time": "2025-03-28T08:35:47.217Z"
   },
   {
    "duration": 21945,
    "start_time": "2025-03-28T08:36:11.620Z"
   },
   {
    "duration": 6,
    "start_time": "2025-03-28T08:36:33.567Z"
   },
   {
    "duration": 160,
    "start_time": "2025-03-28T08:36:33.575Z"
   },
   {
    "duration": 10,
    "start_time": "2025-03-28T08:36:33.737Z"
   },
   {
    "duration": 21,
    "start_time": "2025-03-28T08:36:33.749Z"
   },
   {
    "duration": 35,
    "start_time": "2025-03-28T08:36:33.772Z"
   },
   {
    "duration": 4,
    "start_time": "2025-03-28T08:36:33.809Z"
   },
   {
    "duration": 12,
    "start_time": "2025-03-28T08:36:33.815Z"
   },
   {
    "duration": 7,
    "start_time": "2025-03-28T08:36:33.829Z"
   },
   {
    "duration": 11,
    "start_time": "2025-03-28T08:36:33.838Z"
   },
   {
    "duration": 36,
    "start_time": "2025-03-28T08:36:33.851Z"
   },
   {
    "duration": 35,
    "start_time": "2025-03-28T08:36:33.889Z"
   },
   {
    "duration": 25,
    "start_time": "2025-03-28T08:36:33.926Z"
   },
   {
    "duration": 21,
    "start_time": "2025-03-28T08:36:33.953Z"
   },
   {
    "duration": 32,
    "start_time": "2025-03-28T08:36:33.975Z"
   },
   {
    "duration": 27,
    "start_time": "2025-03-28T08:36:34.009Z"
   },
   {
    "duration": 21,
    "start_time": "2025-03-28T08:36:34.038Z"
   },
   {
    "duration": 62,
    "start_time": "2025-03-28T08:36:34.061Z"
   },
   {
    "duration": 183,
    "start_time": "2025-03-28T08:36:34.125Z"
   },
   {
    "duration": 14,
    "start_time": "2025-03-28T08:36:34.309Z"
   },
   {
    "duration": 246,
    "start_time": "2025-03-28T08:36:34.324Z"
   },
   {
    "duration": 13,
    "start_time": "2025-03-28T08:36:34.572Z"
   },
   {
    "duration": 95,
    "start_time": "2025-03-28T08:36:34.588Z"
   },
   {
    "duration": 30,
    "start_time": "2025-03-28T08:36:34.684Z"
   },
   {
    "duration": 18,
    "start_time": "2025-03-28T08:36:34.716Z"
   },
   {
    "duration": 5,
    "start_time": "2025-03-28T08:42:07.655Z"
   },
   {
    "duration": 4,
    "start_time": "2025-03-28T08:44:37.530Z"
   },
   {
    "duration": 15,
    "start_time": "2025-03-28T08:44:58.829Z"
   },
   {
    "duration": 401,
    "start_time": "2025-03-28T08:45:59.924Z"
   },
   {
    "duration": 56,
    "start_time": "2025-03-28T08:46:00.327Z"
   },
   {
    "duration": 17,
    "start_time": "2025-03-28T08:46:00.385Z"
   },
   {
    "duration": 60,
    "start_time": "2025-03-28T08:46:00.404Z"
   },
   {
    "duration": 29,
    "start_time": "2025-03-28T08:46:00.466Z"
   },
   {
    "duration": 160,
    "start_time": "2025-03-28T08:46:00.497Z"
   },
   {
    "duration": 66,
    "start_time": "2025-03-28T08:46:00.659Z"
   },
   {
    "duration": 6,
    "start_time": "2025-03-28T08:46:00.727Z"
   },
   {
    "duration": 9,
    "start_time": "2025-03-28T08:46:00.735Z"
   },
   {
    "duration": 7,
    "start_time": "2025-03-28T08:46:00.746Z"
   },
   {
    "duration": 8,
    "start_time": "2025-03-28T08:46:00.755Z"
   },
   {
    "duration": 29,
    "start_time": "2025-03-28T08:46:00.765Z"
   },
   {
    "duration": 25,
    "start_time": "2025-03-28T08:46:00.796Z"
   },
   {
    "duration": 10,
    "start_time": "2025-03-28T08:46:00.822Z"
   },
   {
    "duration": 14,
    "start_time": "2025-03-28T08:46:00.834Z"
   },
   {
    "duration": 30,
    "start_time": "2025-03-28T08:46:00.850Z"
   },
   {
    "duration": 31,
    "start_time": "2025-03-28T08:46:00.881Z"
   },
   {
    "duration": 31,
    "start_time": "2025-03-28T08:46:00.914Z"
   },
   {
    "duration": 5,
    "start_time": "2025-03-28T08:46:00.947Z"
   },
   {
    "duration": 24,
    "start_time": "2025-03-28T08:46:00.953Z"
   },
   {
    "duration": 26,
    "start_time": "2025-03-28T08:46:00.979Z"
   },
   {
    "duration": 10,
    "start_time": "2025-03-28T08:46:01.007Z"
   },
   {
    "duration": 21,
    "start_time": "2025-03-28T08:46:01.018Z"
   },
   {
    "duration": 24,
    "start_time": "2025-03-28T08:46:01.041Z"
   },
   {
    "duration": 27,
    "start_time": "2025-03-28T08:46:01.067Z"
   },
   {
    "duration": 19,
    "start_time": "2025-03-28T08:46:01.096Z"
   },
   {
    "duration": 12,
    "start_time": "2025-03-28T08:46:01.116Z"
   },
   {
    "duration": 10,
    "start_time": "2025-03-28T08:46:01.131Z"
   },
   {
    "duration": 270,
    "start_time": "2025-03-28T08:46:01.142Z"
   },
   {
    "duration": 176,
    "start_time": "2025-03-28T08:46:01.414Z"
   },
   {
    "duration": 24614,
    "start_time": "2025-03-28T08:46:01.592Z"
   },
   {
    "duration": 22922,
    "start_time": "2025-03-28T08:46:26.208Z"
   },
   {
    "duration": 6,
    "start_time": "2025-03-28T08:46:49.132Z"
   },
   {
    "duration": 346,
    "start_time": "2025-03-28T08:46:49.140Z"
   },
   {
    "duration": 10,
    "start_time": "2025-03-28T08:46:49.488Z"
   },
   {
    "duration": 10,
    "start_time": "2025-03-28T08:46:49.499Z"
   },
   {
    "duration": 20,
    "start_time": "2025-03-28T08:46:49.510Z"
   },
   {
    "duration": 4,
    "start_time": "2025-03-28T08:46:49.532Z"
   },
   {
    "duration": 25,
    "start_time": "2025-03-28T08:46:49.538Z"
   },
   {
    "duration": 15,
    "start_time": "2025-03-28T08:46:49.564Z"
   },
   {
    "duration": 5,
    "start_time": "2025-03-28T08:46:49.581Z"
   },
   {
    "duration": 25,
    "start_time": "2025-03-28T08:46:49.588Z"
   },
   {
    "duration": 17,
    "start_time": "2025-03-28T08:46:49.615Z"
   },
   {
    "duration": 45,
    "start_time": "2025-03-28T08:46:49.634Z"
   },
   {
    "duration": 15,
    "start_time": "2025-03-28T08:46:49.681Z"
   },
   {
    "duration": 4,
    "start_time": "2025-03-28T08:46:49.698Z"
   },
   {
    "duration": 13,
    "start_time": "2025-03-28T08:46:49.703Z"
   },
   {
    "duration": 29,
    "start_time": "2025-03-28T08:46:49.717Z"
   },
   {
    "duration": 39,
    "start_time": "2025-03-28T08:46:49.747Z"
   },
   {
    "duration": 171,
    "start_time": "2025-03-28T08:46:49.788Z"
   },
   {
    "duration": 14,
    "start_time": "2025-03-28T08:46:49.961Z"
   },
   {
    "duration": 220,
    "start_time": "2025-03-28T08:46:49.977Z"
   },
   {
    "duration": 14,
    "start_time": "2025-03-28T08:46:50.199Z"
   },
   {
    "duration": 17,
    "start_time": "2025-03-28T08:46:50.215Z"
   },
   {
    "duration": 31,
    "start_time": "2025-03-28T08:46:50.233Z"
   },
   {
    "duration": 29,
    "start_time": "2025-03-28T08:46:50.266Z"
   },
   {
    "duration": 54,
    "start_time": "2025-10-21T07:22:11.630Z"
   },
   {
    "duration": 453,
    "start_time": "2025-10-21T07:22:51.335Z"
   },
   {
    "duration": 78,
    "start_time": "2025-10-21T07:22:51.791Z"
   },
   {
    "duration": 18,
    "start_time": "2025-10-21T07:22:51.871Z"
   },
   {
    "duration": 51,
    "start_time": "2025-10-21T07:22:51.891Z"
   },
   {
    "duration": 12,
    "start_time": "2025-10-21T07:22:51.944Z"
   },
   {
    "duration": 13,
    "start_time": "2025-10-21T07:22:51.960Z"
   },
   {
    "duration": 5,
    "start_time": "2025-10-21T07:22:51.974Z"
   },
   {
    "duration": 5,
    "start_time": "2025-10-21T07:22:51.981Z"
   },
   {
    "duration": 7,
    "start_time": "2025-10-21T07:22:51.987Z"
   },
   {
    "duration": 16,
    "start_time": "2025-10-21T07:22:51.996Z"
   },
   {
    "duration": 29,
    "start_time": "2025-10-21T07:22:52.014Z"
   },
   {
    "duration": 14,
    "start_time": "2025-10-21T07:22:52.045Z"
   },
   {
    "duration": 65,
    "start_time": "2025-10-21T07:22:52.061Z"
   },
   {
    "duration": 23,
    "start_time": "2025-10-21T07:22:52.127Z"
   },
   {
    "duration": 6,
    "start_time": "2025-10-21T07:22:52.152Z"
   },
   {
    "duration": 7,
    "start_time": "2025-10-21T07:22:52.160Z"
   },
   {
    "duration": 3,
    "start_time": "2025-10-21T07:22:52.169Z"
   },
   {
    "duration": 12,
    "start_time": "2025-10-21T07:22:52.174Z"
   },
   {
    "duration": 11,
    "start_time": "2025-10-21T07:22:52.188Z"
   },
   {
    "duration": 7,
    "start_time": "2025-10-21T07:22:52.201Z"
   },
   {
    "duration": 13,
    "start_time": "2025-10-21T07:22:52.210Z"
   },
   {
    "duration": 5,
    "start_time": "2025-10-21T07:22:52.225Z"
   },
   {
    "duration": 13,
    "start_time": "2025-10-21T07:22:52.232Z"
   },
   {
    "duration": 5,
    "start_time": "2025-10-21T07:22:52.247Z"
   },
   {
    "duration": 21,
    "start_time": "2025-10-21T07:22:52.254Z"
   },
   {
    "duration": 35,
    "start_time": "2025-10-21T07:22:52.277Z"
   },
   {
    "duration": 14,
    "start_time": "2025-10-21T07:22:52.314Z"
   },
   {
    "duration": 12,
    "start_time": "2025-10-21T07:22:52.332Z"
   },
   {
    "duration": 199,
    "start_time": "2025-10-21T07:22:52.346Z"
   },
   {
    "duration": 186,
    "start_time": "2025-10-21T07:22:52.548Z"
   },
   {
    "duration": 28961,
    "start_time": "2025-10-21T07:22:52.740Z"
   },
   {
    "duration": 25215,
    "start_time": "2025-10-21T07:23:21.703Z"
   },
   {
    "duration": 7,
    "start_time": "2025-10-21T07:23:46.919Z"
   },
   {
    "duration": 203,
    "start_time": "2025-10-21T07:23:46.927Z"
   },
   {
    "duration": 15,
    "start_time": "2025-10-21T07:23:47.132Z"
   },
   {
    "duration": 69,
    "start_time": "2025-10-21T07:23:47.149Z"
   },
   {
    "duration": 20,
    "start_time": "2025-10-21T07:23:47.220Z"
   },
   {
    "duration": 5,
    "start_time": "2025-10-21T07:23:47.242Z"
   },
   {
    "duration": 6,
    "start_time": "2025-10-21T07:23:47.249Z"
   },
   {
    "duration": 7,
    "start_time": "2025-10-21T07:23:47.257Z"
   },
   {
    "duration": 6,
    "start_time": "2025-10-21T07:23:47.266Z"
   },
   {
    "duration": 26,
    "start_time": "2025-10-21T07:23:47.273Z"
   },
   {
    "duration": 51,
    "start_time": "2025-10-21T07:23:47.301Z"
   },
   {
    "duration": 25,
    "start_time": "2025-10-21T07:23:47.355Z"
   },
   {
    "duration": 16,
    "start_time": "2025-10-21T07:23:47.382Z"
   },
   {
    "duration": 4,
    "start_time": "2025-10-21T07:23:47.400Z"
   },
   {
    "duration": 36,
    "start_time": "2025-10-21T07:23:47.405Z"
   },
   {
    "duration": 31,
    "start_time": "2025-10-21T07:23:47.443Z"
   },
   {
    "duration": 16,
    "start_time": "2025-10-21T07:23:47.477Z"
   },
   {
    "duration": 188,
    "start_time": "2025-10-21T07:23:47.494Z"
   },
   {
    "duration": 14,
    "start_time": "2025-10-21T07:23:47.684Z"
   },
   {
    "duration": 247,
    "start_time": "2025-10-21T07:23:47.700Z"
   },
   {
    "duration": 15,
    "start_time": "2025-10-21T07:23:47.949Z"
   },
   {
    "duration": 9,
    "start_time": "2025-10-21T07:23:47.966Z"
   },
   {
    "duration": 6,
    "start_time": "2025-10-21T07:23:47.977Z"
   },
   {
    "duration": 28,
    "start_time": "2025-10-21T07:23:47.984Z"
   }
  ],
  "colab": {
   "provenance": []
  },
  "kernelspec": {
   "display_name": "Python 3 (ipykernel)",
   "language": "python",
   "name": "python3"
  },
  "language_info": {
   "codemirror_mode": {
    "name": "ipython",
    "version": 3
   },
   "file_extension": ".py",
   "mimetype": "text/x-python",
   "name": "python",
   "nbconvert_exporter": "python",
   "pygments_lexer": "ipython3",
   "version": "3.9.5"
  },
  "toc": {
   "base_numbering": "",
   "nav_menu": {},
   "number_sections": false,
   "sideBar": true,
   "skip_h1_title": true,
   "title_cell": "Table of Contents",
   "title_sidebar": "Contents",
   "toc_cell": false,
   "toc_position": {
    "height": "calc(100% - 180px)",
    "left": "10px",
    "top": "150px",
    "width": "225px"
   },
   "toc_section_display": true,
   "toc_window_display": true
  }
 },
 "nbformat": 4,
 "nbformat_minor": 5
}
