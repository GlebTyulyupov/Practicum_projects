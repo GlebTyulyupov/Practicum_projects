{
 "cells": [
  {
   "cell_type": "markdown",
   "id": "4b5aafd5",
   "metadata": {},
   "source": [
    "# Проведение A/B тестирования на основе данных сервиса 'Яндекс Книги' и  данных  интернет-магазина BitMotion Kit"
   ]
  },
  {
   "cell_type": "markdown",
   "id": "_E41Wr5fqnFT",
   "metadata": {
    "id": "_E41Wr5fqnFT"
   },
   "source": [
    "# Часть 1. Проверка гипотезы в Python и составление аналитической записки"
   ]
  },
  {
   "cell_type": "markdown",
   "id": "e06910dd",
   "metadata": {
    "id": "e06910dd"
   },
   "source": [
    "- Автор: Тюлюпов Глеб\n",
    "- Дата: 30.06.2025"
   ]
  },
  {
   "cell_type": "markdown",
   "id": "4149134c",
   "metadata": {
    "id": "4149134c"
   },
   "source": [
    "## Цели и задачи проекта\n",
    "\n",
    "**Цель:** Проведение A/B тестирования на основе данных сервиса 'Яндекс Книги' с целью проверки гипотезы и сравнения времени за чтением и прослушиванием книг для пользователей из Санкт-Петербурга и из Москвы.   \n",
    "\n",
    "**Задачи:**\n",
    "1. Знакомство с данными: загрузка и первичная предобработка, в том числе:\n",
    "     - загрузка необходимых библиотек;\n",
    "     - вывод общей информации и общее знакомство с данными.\n",
    "     \n",
    "     \n",
    "2. Проверка и предобработка данных, подготовка к тесту в том числе:\n",
    "     - проверка данных на пропуски и дубликаты;\n",
    "     - проверка данных на аномалии и выбросы;\n",
    "     - проверка выборок на пересечение.\n",
    "     \n",
    "     \n",
    "3. Проверка гипотезы в Python, в том числе:\n",
    "    - выгрузка основных статистик для обеих выборок;\n",
    "    - выбор типа статистического теста;\n",
    "    - проведение A/B тестирования.\n",
    "    \n",
    "    \n",
    "4. Составление аналитической записки, формулирование выводов и рекомендаций по проведённому анализу."
   ]
  },
  {
   "cell_type": "markdown",
   "id": "4fecaf95",
   "metadata": {
    "id": "4fecaf95"
   },
   "source": [
    "## Содержимое проекта\n",
    "\n",
    " Проект включает в себя следующие основные этапы:\n",
    "   1. Знакомство с данными: загрузка и первичная предобработка.\n",
    "   2. Проверка и предобработка данных, подготовка к тесту.\n",
    "   3. Проверка гипотезы в Python.\n",
    "   4. Составление аналитической записки, формулирование выводов и рекомендаций по проведённому анализу.\n"
   ]
  },
  {
   "cell_type": "markdown",
   "id": "6f7d21d6",
   "metadata": {
    "id": "6f7d21d6"
   },
   "source": [
    "## 1. Загрузка данных и знакомство с ними"
   ]
  },
  {
   "cell_type": "markdown",
   "id": "84cb7899",
   "metadata": {
    "id": "05faf34b"
   },
   "source": [
    "На самом первом шаге импортируем все необходимые биоблиотеки и функции."
   ]
  },
  {
   "cell_type": "code",
   "execution_count": 1,
   "id": "ce87c1db",
   "metadata": {
    "id": "ce87c1db"
   },
   "outputs": [],
   "source": [
    "# Импортируем биоблиотеку pandas\n",
    "import pandas as pd\n",
    "\n",
    "# Импортируем библиотеку matplotlib.pyplot для визуализации данных\n",
    "import matplotlib.pyplot as plt\n",
    "\n",
    "# Импортируем библиотеку numpy для математических расчётов\n",
    "import numpy as np\n",
    "\n",
    "# Импортируем функцию ttest_ind из модуля scipy.stats\n",
    "from scipy.stats import ttest_ind\n",
    "\n",
    "# Импортируем из модуля sstatsmodels.stats.proportion функцию proportion_effectsize\n",
    "from statsmodels.stats.proportion import proportion_effectsize\n",
    "\n",
    "# Импортируем из модуля statsmodels.stats.power функцию NormalIndPower\n",
    "from statsmodels.stats.power import NormalIndPower\n",
    "\n",
    "# Импортируем из модуля statsmodels.stats.proportion функцию proportions_ztest\n",
    "from statsmodels.stats.proportion import proportions_ztest"
   ]
  },
  {
   "cell_type": "markdown",
   "id": "e9f9aead",
   "metadata": {},
   "source": [
    "Далее создадим датафрейм с данными пользователей из Москвы и Санкт-Петербурга c их активностью, загрузив файл /datasets/yandex_knigi_data.csv, а также выведем несколько строк полученного датафрейма."
   ]
  },
  {
   "cell_type": "code",
   "execution_count": 2,
   "id": "f68a7419",
   "metadata": {
    "id": "f68a7419"
   },
   "outputs": [
    {
     "data": {
      "text/html": [
       "<div>\n",
       "<style scoped>\n",
       "    .dataframe tbody tr th:only-of-type {\n",
       "        vertical-align: middle;\n",
       "    }\n",
       "\n",
       "    .dataframe tbody tr th {\n",
       "        vertical-align: top;\n",
       "    }\n",
       "\n",
       "    .dataframe thead th {\n",
       "        text-align: right;\n",
       "    }\n",
       "</style>\n",
       "<table border=\"1\" class=\"dataframe\">\n",
       "  <thead>\n",
       "    <tr style=\"text-align: right;\">\n",
       "      <th></th>\n",
       "      <th>Unnamed: 0</th>\n",
       "      <th>city</th>\n",
       "      <th>puid</th>\n",
       "      <th>hours</th>\n",
       "    </tr>\n",
       "  </thead>\n",
       "  <tbody>\n",
       "    <tr>\n",
       "      <th>0</th>\n",
       "      <td>0</td>\n",
       "      <td>Москва</td>\n",
       "      <td>9668</td>\n",
       "      <td>26.167776</td>\n",
       "    </tr>\n",
       "    <tr>\n",
       "      <th>1</th>\n",
       "      <td>1</td>\n",
       "      <td>Москва</td>\n",
       "      <td>16598</td>\n",
       "      <td>82.111217</td>\n",
       "    </tr>\n",
       "    <tr>\n",
       "      <th>2</th>\n",
       "      <td>2</td>\n",
       "      <td>Москва</td>\n",
       "      <td>80401</td>\n",
       "      <td>4.656906</td>\n",
       "    </tr>\n",
       "    <tr>\n",
       "      <th>3</th>\n",
       "      <td>3</td>\n",
       "      <td>Москва</td>\n",
       "      <td>140205</td>\n",
       "      <td>1.840556</td>\n",
       "    </tr>\n",
       "    <tr>\n",
       "      <th>4</th>\n",
       "      <td>4</td>\n",
       "      <td>Москва</td>\n",
       "      <td>248755</td>\n",
       "      <td>151.326434</td>\n",
       "    </tr>\n",
       "    <tr>\n",
       "      <th>...</th>\n",
       "      <td>...</td>\n",
       "      <td>...</td>\n",
       "      <td>...</td>\n",
       "      <td>...</td>\n",
       "    </tr>\n",
       "    <tr>\n",
       "      <th>8779</th>\n",
       "      <td>8779</td>\n",
       "      <td>Санкт-Петербург</td>\n",
       "      <td>1130000028554332</td>\n",
       "      <td>4.107774</td>\n",
       "    </tr>\n",
       "    <tr>\n",
       "      <th>8780</th>\n",
       "      <td>8780</td>\n",
       "      <td>Санкт-Петербург</td>\n",
       "      <td>1130000030307246</td>\n",
       "      <td>45.069222</td>\n",
       "    </tr>\n",
       "    <tr>\n",
       "      <th>8781</th>\n",
       "      <td>8781</td>\n",
       "      <td>Санкт-Петербург</td>\n",
       "      <td>1130000038726322</td>\n",
       "      <td>0.211944</td>\n",
       "    </tr>\n",
       "    <tr>\n",
       "      <th>8782</th>\n",
       "      <td>8782</td>\n",
       "      <td>Санкт-Петербург</td>\n",
       "      <td>1130000047892100</td>\n",
       "      <td>4.311841</td>\n",
       "    </tr>\n",
       "    <tr>\n",
       "      <th>8783</th>\n",
       "      <td>8783</td>\n",
       "      <td>Санкт-Петербург</td>\n",
       "      <td>1130000061443598</td>\n",
       "      <td>20.847222</td>\n",
       "    </tr>\n",
       "  </tbody>\n",
       "</table>\n",
       "<p>8784 rows × 4 columns</p>\n",
       "</div>"
      ],
      "text/plain": [
       "      Unnamed: 0             city              puid       hours\n",
       "0              0           Москва              9668   26.167776\n",
       "1              1           Москва             16598   82.111217\n",
       "2              2           Москва             80401    4.656906\n",
       "3              3           Москва            140205    1.840556\n",
       "4              4           Москва            248755  151.326434\n",
       "...          ...              ...               ...         ...\n",
       "8779        8779  Санкт-Петербург  1130000028554332    4.107774\n",
       "8780        8780  Санкт-Петербург  1130000030307246   45.069222\n",
       "8781        8781  Санкт-Петербург  1130000038726322    0.211944\n",
       "8782        8782  Санкт-Петербург  1130000047892100    4.311841\n",
       "8783        8783  Санкт-Петербург  1130000061443598   20.847222\n",
       "\n",
       "[8784 rows x 4 columns]"
      ]
     },
     "execution_count": 2,
     "metadata": {},
     "output_type": "execute_result"
    }
   ],
   "source": [
    "# Создам датафрейм knigi_df, содержащий информацию CSV-файла yandex_knigi_data.csv\n",
    "knigi_df=pd.read_csv('https://code.s3.yandex.net/datasets/yandex_knigi_data.csv')\n",
    "\n",
    "knigi_df"
   ]
  },
  {
   "cell_type": "markdown",
   "id": "c70fb786",
   "metadata": {},
   "source": [
    "Выведем общую информарцию о датафрйеме методом info()"
   ]
  },
  {
   "cell_type": "code",
   "execution_count": 3,
   "id": "dd57d6e0",
   "metadata": {},
   "outputs": [
    {
     "name": "stdout",
     "output_type": "stream",
     "text": [
      "<class 'pandas.core.frame.DataFrame'>\n",
      "RangeIndex: 8784 entries, 0 to 8783\n",
      "Data columns (total 4 columns):\n",
      " #   Column      Non-Null Count  Dtype  \n",
      "---  ------      --------------  -----  \n",
      " 0   Unnamed: 0  8784 non-null   int64  \n",
      " 1   city        8784 non-null   object \n",
      " 2   puid        8784 non-null   int64  \n",
      " 3   hours       8784 non-null   float64\n",
      "dtypes: float64(1), int64(2), object(1)\n",
      "memory usage: 274.6+ KB\n"
     ]
    }
   ],
   "source": [
    " # Выведем общую информацию о датафрйеме методом info()\n",
    "knigi_df.info()"
   ]
  },
  {
   "cell_type": "markdown",
   "id": "65ef221b",
   "metadata": {},
   "source": [
    "Как видно из выгрузки датафрем содержит 4 столбца и 8784 строк. При этом столбец `Unnamed: 0` по всей видимости содержит номер индекса записи датафрейма.\n",
    "\n",
    "Пропуски в датафрейме отсутствуют.\n",
    "\n",
    "Столбцы `Unnamed: 0` и `puid`  содержат информацию в формате `int64`, что  являются для данных столбцов оптимальным форматом, однако, для `столбца Unnamed: 0` можно оптимизировать разрядность с помощью метода `to_numeric`.\n",
    "\n",
    "Столбец `city` содержит данные в формате `object`, что полностью соответствует отражаемой в нём информации о городе соответствующего пользователя.\n",
    "\n",
    "Столбец `hours` содержит информацию в формате `float64`, что также является оптимальным форматом."
   ]
  },
  {
   "cell_type": "markdown",
   "id": "13bbe0ae",
   "metadata": {},
   "source": [
    "### Промежуточный вывод\n",
    "\n",
    "Таким образом, в данном разделе была проведена загрузка необходимых библиотек и функций для дальнейшей работы.\n",
    "\n",
    "Были загружены необходимые данные из файла `yandex_knigi_data.csv` в датафрейм `knigi_df`. Также было проведено первичное знакомство с данными, в ходе которого было установлено:\n",
    "\n",
    "     - названия столбцов корректно отражают содержащуюся в них информацию;\n",
    "     - в датафрейме отсутствуют пропуски;\n",
    "     - данные в каждом столбце содержатся в оптимальных форматах.   "
   ]
  },
  {
   "cell_type": "markdown",
   "id": "956e82e2",
   "metadata": {
    "id": "956e82e2"
   },
   "source": [
    "## 2. Проверка гипотезы в Python"
   ]
  },
  {
   "cell_type": "markdown",
   "id": "a627b66a",
   "metadata": {
    "id": "67956690"
   },
   "source": [
    "Перед проведением статистического теста проведём предварительную проверку корректности данных. Для этого проверим данные на пропуски, дубликаты, пересечение. "
   ]
  },
  {
   "cell_type": "markdown",
   "id": "5df9cbfd",
   "metadata": {},
   "source": [
    "Сначала проверим данные на дубликаты."
   ]
  },
  {
   "cell_type": "code",
   "execution_count": 4,
   "id": "41ee60c2",
   "metadata": {},
   "outputs": [
    {
     "data": {
      "text/plain": [
       "0"
      ]
     },
     "execution_count": 4,
     "metadata": {},
     "output_type": "execute_result"
    }
   ],
   "source": [
    "# Проверяем полные дубликаты в датафрейме rest_df\n",
    "knigi_df.duplicated().sum()"
   ]
  },
  {
   "cell_type": "markdown",
   "id": "c1e0f5a9",
   "metadata": {},
   "source": [
    "Явных дубликатов в датафрейме не обнаружено."
   ]
  },
  {
   "cell_type": "markdown",
   "id": "ddc0e738",
   "metadata": {},
   "source": [
    "Далее проверим данные на аномалии и выбросы."
   ]
  },
  {
   "cell_type": "code",
   "execution_count": 5,
   "id": "3abb1033",
   "metadata": {},
   "outputs": [
    {
     "data": {
      "image/png": "[encoded data removed]",
      "text/plain": [
       "<Figure size 1008x504 with 1 Axes>"
      ]
     },
     "metadata": {
      "needs_background": "light"
     },
     "output_type": "display_data"
    }
   ],
   "source": [
    "plt.figure(figsize=(14, 7))\n",
    "\n",
    "# Строим гистограмму с помощью pandas через plot(kind='hist')\n",
    "knigi_df['hours'].plot(\n",
    "                kind='hist', \n",
    "                bins=30, \n",
    "                alpha=0.75,\n",
    "                edgecolor='black',\n",
    ")\n",
    "\n",
    "# Настраиваем оформление графика\n",
    "plt.title('Распределение количества прослушанных часов на пользователя')\n",
    "plt.xlabel('Количество часов')\n",
    "plt.ylabel('Частота')\n",
    "\n",
    "# Добавляем сетку графика\n",
    "plt.grid()\n",
    "\n",
    "# Выводим график\n",
    "plt.show() "
   ]
  },
  {
   "cell_type": "markdown",
   "id": "3558b679",
   "metadata": {},
   "source": [
    "Из графика видно, что явные выбросы и аномалии отсутствуют."
   ]
  },
  {
   "cell_type": "markdown",
   "id": "67e4759a",
   "metadata": {},
   "source": [
    "На следующем этапе проверим группы на пересечение."
   ]
  },
  {
   "cell_type": "code",
   "execution_count": 6,
   "id": "0a3dd7eb",
   "metadata": {},
   "outputs": [
    {
     "name": "stdout",
     "output_type": "stream",
     "text": [
      "[439054848, 98068993, 84978689, 331188228, 59679749, 790564870, 40698887, 162106378, 1078819852, 1684058125, 1130000018954257, 959563282, 571554323, 1358054932, 313990163, 1778617878, 1210363415, 1316543509, 649885721, 1183963675, 1395494429, 1314529823, 1145886241, 1593760291, 1725564965, 24138278, 520518182, 363351088, 108083761, 570189363, 584447544, 860187201, 309104707, 550835780, 441112643, 1977784899, 1406501962, 528250442, 103543372, 1616171597, 589188176, 989693522, 1958805587, 401065555, 1557916755, 429727314, 1130000028554332, 488154206, 1965288031, 10597984, 9979490, 301108324, 1607495785, 767485035, 453988975, 912829040, 955554416, 1672056947, 819309176, 10815097, 196683896, 1076879993, 1974615673, 531369086, 1011254911, 555866239, 258809476, 66998918, 360290950, 1085783174, 236601993, 359740041, 998045836, 888840333, 2019864206, 1109631631, 1713008273, 317826707, 1236880533, 46837910, 1166679702, 137198745, 1891219106, 987817124, 1735154341, 176447657, 1748029097, 379346604, 1700594861, 1412653237, 21062838, 1637435573, 678778040, 1808109753, 246902970, 905646780, 1945769660, 588164798, 1130000023864516, 243743942, 221225159, 409551048, 1141774537, 1120006346, 1178172617, 19858636, 339575501, 2049219278, 1868425423, 1130000003813071, 277224654, 533677268, 328960724, 720606424, 993573081, 1909283033, 884494555, 26401499, 78858976, 1281364192, 932762338, 1334712556, 1130000018516717, 584906989, 2637041, 178353908, 400997108, 1662203642, 1695204605, 42547965, 25963265, 427417350, 714580232, 391256330, 155643660, 1520619788, 64378638, 812574481, 227462418, 993888019, 885708565, 380879638, 1551033623, 805103383, 607541527, 225944346, 1703914266, 29664540, 294518552, 780787490, 133714215, 880442664, 516541228, 553573677, 725544239, 717069622, 507270968, 1485911865, 1327561021, 1974591808, 895111490, 835318595, 858261828, 918922565, 176277316, 868206406, 50404677, 890750281, 1130000020425037, 88644430, 339180367, 451829073, 914305363, 1130000002551638, 45278551, 1864516440, 76980572, 793685857, 158164834, 464044900, 1657812327, 1688818026, 652195180, 28749167, 1427214704, 73736051, 1214506357, 1434758519, 51625337, 610933114, 446232960, 655110019, 1162356612, 1116893571, 504984454, 82894212, 1524376460, 1936174479, 483749776, 13626259, 1634481047, 856275865, 1173772187, 878270365, 347247518, 103980959, 32242084, 1260055974, 376215464, 194807721, 1647942061, 503700910, 93347249, 1189306289, 1074710451, 1001794484, 790374325, 345103284, 1450333124, 375112133, 1361491911, 1599627209, 430410194, 1872705491, 446100948, 660183508, 259150297, 1368523739, 1527376863, 1006130655, 1402858467, 983954917, 279904742, 26895846, 64622566, 977435627, 1494266349, 16488430, 1069234160, 125295605, 963967478, 863805947, 47332860, 879888383]\n"
     ]
    }
   ],
   "source": [
    "# Выведем id пользователей для обеих групп\n",
    "Group_SPB = knigi_df[knigi_df['city'] == 'Санкт-Петербург']['puid']\n",
    "Group_MSC = knigi_df[knigi_df['city'] == 'Москва']['puid']\n",
    "\n",
    "# Проведём проверку групп на пересечение\n",
    "intersection = list(set(Group_SPB) & set(Group_MSC))\n",
    "print(intersection) "
   ]
  },
  {
   "cell_type": "markdown",
   "id": "6f3b6c72",
   "metadata": {},
   "source": [
    "Как видно, обнаружено значительное количество пересечений, то есть пользователей, оказавшихся в обеих группах.\n",
    "\n",
    "Выведем количество пересечений."
   ]
  },
  {
   "cell_type": "code",
   "execution_count": 7,
   "id": "01a92187",
   "metadata": {},
   "outputs": [
    {
     "data": {
      "text/plain": [
       "244"
      ]
     },
     "execution_count": 7,
     "metadata": {},
     "output_type": "execute_result"
    }
   ],
   "source": [
    "# Выведем количество пересечений\n",
    "len(intersection)"
   ]
  },
  {
   "cell_type": "markdown",
   "id": "80b7540b",
   "metadata": {},
   "source": [
    "Всего обнаружено 244 пересечения.\n",
    "\n",
    "Чтобы не возникло искажений результатов при проведении тестирования, удалим данных пользователей и для проверки выведем размер обновлённого датафрейма."
   ]
  },
  {
   "cell_type": "code",
   "execution_count": 8,
   "id": "b60b0eb3",
   "metadata": {},
   "outputs": [
    {
     "data": {
      "text/plain": [
       "8296"
      ]
     },
     "execution_count": 8,
     "metadata": {},
     "output_type": "execute_result"
    }
   ],
   "source": [
    "# Удаляем из датафрейма пользователей, оказавшихся в обеих группах\n",
    "knigi_df = knigi_df[~knigi_df['puid'].isin(intersection)]\n",
    "\n",
    "# Выведем размер обновлённого датафрейма для проверки корректности удаления пересечений\n",
    "len(knigi_df)"
   ]
  },
  {
   "cell_type": "markdown",
   "id": "8ddf1539",
   "metadata": {},
   "source": [
    "Далее выведем статистики для обеих групп методом `describe()`."
   ]
  },
  {
   "cell_type": "code",
   "execution_count": 9,
   "id": "190f046a",
   "metadata": {},
   "outputs": [
    {
     "data": {
      "text/plain": [
       "count    2306.000000\n",
       "mean       11.264433\n",
       "std        39.831755\n",
       "min         0.000025\n",
       "25%         0.060173\n",
       "50%         0.875355\n",
       "75%         6.138424\n",
       "max       978.764775\n",
       "Name: hours, dtype: float64"
      ]
     },
     "metadata": {},
     "output_type": "display_data"
    },
    {
     "data": {
      "text/plain": [
       "count    5990.000000\n",
       "mean       10.848192\n",
       "std        36.925622\n",
       "min         0.000022\n",
       "25%         0.057042\n",
       "50%         0.888232\n",
       "75%         5.933439\n",
       "max       857.209373\n",
       "Name: hours, dtype: float64"
      ]
     },
     "execution_count": 9,
     "metadata": {},
     "output_type": "execute_result"
    }
   ],
   "source": [
    "# Выведем статистики для пользователей из Санкт-Петербурга\n",
    "display(knigi_df[knigi_df['city'] == 'Санкт-Петербург']['hours'].describe())\n",
    "\n",
    "# Выведем статистики для пользователей из Москвы\n",
    "knigi_df[knigi_df['city'] == 'Москва']['hours'].describe()"
   ]
  },
  {
   "cell_type": "markdown",
   "id": "93e2eb88",
   "metadata": {},
   "source": [
    "Из выгрузки видно, что количество пользователей из Москвы значительно выше численности пользователей из Санкт-Петербурга. Остальные статистики для обеих групп имеют схожие значения."
   ]
  },
  {
   "cell_type": "markdown",
   "id": "ada47ab7",
   "metadata": {},
   "source": [
    "Далее отдельно выведем средние значения активности пользователей для обеих групп. "
   ]
  },
  {
   "cell_type": "code",
   "execution_count": 10,
   "id": "76cc1f28",
   "metadata": {},
   "outputs": [
    {
     "data": {
      "text/html": [
       "<div>\n",
       "<style scoped>\n",
       "    .dataframe tbody tr th:only-of-type {\n",
       "        vertical-align: middle;\n",
       "    }\n",
       "\n",
       "    .dataframe tbody tr th {\n",
       "        vertical-align: top;\n",
       "    }\n",
       "\n",
       "    .dataframe thead th {\n",
       "        text-align: right;\n",
       "    }\n",
       "</style>\n",
       "<table border=\"1\" class=\"dataframe\">\n",
       "  <thead>\n",
       "    <tr style=\"text-align: right;\">\n",
       "      <th></th>\n",
       "      <th>city</th>\n",
       "      <th>hours</th>\n",
       "    </tr>\n",
       "  </thead>\n",
       "  <tbody>\n",
       "    <tr>\n",
       "      <th>0</th>\n",
       "      <td>Москва</td>\n",
       "      <td>10.848192</td>\n",
       "    </tr>\n",
       "    <tr>\n",
       "      <th>1</th>\n",
       "      <td>Санкт-Петербург</td>\n",
       "      <td>11.264433</td>\n",
       "    </tr>\n",
       "  </tbody>\n",
       "</table>\n",
       "</div>"
      ],
      "text/plain": [
       "              city      hours\n",
       "0           Москва  10.848192\n",
       "1  Санкт-Петербург  11.264433"
      ]
     },
     "execution_count": 10,
     "metadata": {},
     "output_type": "execute_result"
    }
   ],
   "source": [
    "# Выведем среднее количество часов активности для пользователей обоих городов\n",
    "knigi_df.groupby('city',as_index = False)['hours'].mean()"
   ]
  },
  {
   "cell_type": "markdown",
   "id": "6e280dad",
   "metadata": {},
   "source": [
    "Выведем абсолютную и относительную разницу в средних значения для обеих групп."
   ]
  },
  {
   "cell_type": "code",
   "execution_count": 11,
   "id": "d2431ea2",
   "metadata": {},
   "outputs": [
    {
     "name": "stdout",
     "output_type": "stream",
     "text": [
      "Абсолютная разница в доле успешных сессий между группами:\n",
      "0.416241859890361\n",
      "Относительная разница в доле успешных сессий между группами:\n",
      "3.695186844539218\n"
     ]
    }
   ],
   "source": [
    "# Выведем разницу между средними значениями активности в абсолютном значении\n",
    "print('Абсолютная разница в доле успешных сессий между группами:')\n",
    "print(knigi_df[knigi_df['city'] == 'Санкт-Петербург']['hours'].mean()-knigi_df[knigi_df['city'] == 'Москва']['hours'].mean())\n",
    "\n",
    "# Выведем разницу между средними значениями активности в относительном значении\n",
    "print('Относительная разница в доле успешных сессий между группами:')\n",
    "print((knigi_df[knigi_df['city'] == 'Санкт-Петербург']['hours'].mean()-knigi_df[knigi_df['city'] == 'Москва']['hours'].mean())/knigi_df[knigi_df['city'] == 'Санкт-Петербург']['hours'].mean()*100)"
   ]
  },
  {
   "cell_type": "markdown",
   "id": "d6a7cc0b",
   "metadata": {},
   "source": [
    "Таким образом, среднее время активности для пользователей из Санкт-Петербурга больше на 3,7%, чем время среднее время активности пользователей из Москвы."
   ]
  },
  {
   "cell_type": "markdown",
   "id": "483ea979",
   "metadata": {},
   "source": [
    "Далее с помощью A/B тестирования рассмотрим, является ли данная разница статистически значимой. \n",
    "\n",
    "Так как объём выборки для пользователей из Санкт-Петербурга значительна ниже выборки для пользователей из Москвы, в качестве статистического теста используем t-тест Уэлча."
   ]
  },
  {
   "cell_type": "code",
   "execution_count": 12,
   "id": "a30fac9a",
   "metadata": {},
   "outputs": [
    {
     "name": "stdout",
     "output_type": "stream",
     "text": [
      "p-value теста Уэлча =0.33\n",
      "Нулевая гипотеза находит подтверждение!\n"
     ]
    }
   ],
   "source": [
    "metric_a = knigi_df[knigi_df.city == 'Санкт-Петербург']['hours'] ## выборка целевой метрики для группы A\n",
    "metric_b = knigi_df[knigi_df.city == 'Москва']['hours']  ## выборка целевой метрики для группы B\n",
    "\n",
    "alpha = 0.05 \n",
    "\n",
    "stat_welch_ttest, p_value_welch_ttest = ttest_ind(\n",
    "    metric_a, \n",
    "    metric_b, \n",
    "    equal_var=False,\n",
    "    alternative='greater')\n",
    "\n",
    "if p_value_welch_ttest>alpha:\n",
    "    print(f'p-value теста Уэлча ={round(p_value_welch_ttest, 2)}')\n",
    "    print('Нулевая гипотеза находит подтверждение!')\n",
    "else:\n",
    "    print(f'p-value теста Уэлча ={round(p_value_welch_ttest, 2)}')\n",
    "    print('Нулевая гипотеза не находит подтверждения!')\n",
    "    "
   ]
  },
  {
   "cell_type": "markdown",
   "id": "849da524",
   "metadata": {},
   "source": [
    "Таким образом, полученное значение p-value теста Уэлча превосходит уровень значимости alpha, что означает, что нет оснований отвергать нулевую гипотезу и среднее время активности пользователей в Санкт-Петербурге не больше, чем в Москве."
   ]
  },
  {
   "cell_type": "markdown",
   "id": "7c8a59d0",
   "metadata": {},
   "source": [
    "### Промежуточный вывод\n",
    "\n",
    "В данном разделе была проведена проверка и предобработка данных. В том числе была проведена проверка данных на дубликаты, в ходе которой было установлено, что явных дубликатов не выявлено. Далее были рассмотрены аномалии и выбросы в данных. Существенных выбросов зафиксировано не было. После чего была осуществлена проверка выборок на пересечение, в ходе которой было установлены 244 пересекающиеся записи. Данные записи были удалены, чтобы избежать искажения дальнейших результатов при проведении статистического теста.\n",
    "\n",
    "На следующем этапе были рассмотрены основные статистики для обеих групп пользователей. Было установлено, что количество пользователей из Москвы значительно выше численности пользователей из Санкт-Петербурга. Остальные статистики для обеих групп имеют схожие значения. При этом среднее время активности для пользователей из Санкт-Петербурга оказалось на 3,7%, чем  среднее время активности пользователей из Москвы.\n",
    "\n",
    "Для оценки статистической значимости разницы между выборками был проведён t-тест Уэлча, в ходе которого было установлено, что среднее время активности пользователей Санкт-Петербурга не превышает время активности пользователей из Москвы."
   ]
  },
  {
   "cell_type": "markdown",
   "id": "6953e84c",
   "metadata": {
    "id": "6953e84c"
   },
   "source": [
    "## 3. Аналитическая записка"
   ]
  },
  {
   "cell_type": "markdown",
   "id": "488d3ed9",
   "metadata": {},
   "source": [
    "Для проверки статистической значимости разницы между средними значениями активности пользователей был использован T-тест Уэлча, так как размеры выборок для обеих групп существенно отличаются. Уровень значимости был установлен на уровне alpha = 0.05.\n",
    "\n",
    "По итогам проведённого теста уровень p-value теста Уэлча составил 0.33, что ниже установленного уровня значимости alpha = 0.05. В результате чего, можно сделать вывод, что нет оснований отвергать нулевую гипотезу о том, что среднее значение активности для пользователей из Санкт-Петербурга не превышает среднее время активности пользователей из Москвы. То есть пользователи из Санкт-Петербурга не проводят в среднем больше времени за чтением и прослушиванием книг в приложении, чем пользователи из Москвы.\n",
    "\n",
    "Отсутствие статистической значимости разницы между двумя выборками, несмотря на фактическую разницу средних значений, может объясняться малой мощностью теста, недостаточно большим размером выборок для обнаружения существующей разницы. В связи с чем для дополнительной проверки имеет смысл рассмотреть увеличение количества наблюдений."
   ]
  },
  {
   "cell_type": "markdown",
   "id": "hc1d6jVISegz",
   "metadata": {
    "id": "hc1d6jVISegz"
   },
   "source": [
    "----"
   ]
  },
  {
   "cell_type": "markdown",
   "id": "NqOUIYhbrIfC",
   "metadata": {
    "id": "NqOUIYhbrIfC"
   },
   "source": [
    "# Часть 2. Проведение A/B тестирования на основе данных  интернет-магазина BitMotion Kit"
   ]
  },
  {
   "cell_type": "markdown",
   "id": "UNXAAyF5r9Rk",
   "metadata": {
    "id": "UNXAAyF5r9Rk"
   },
   "source": [
    "## 1. Цели исследования"
   ]
  },
  {
   "cell_type": "markdown",
   "id": "kHx-51yES8bd",
   "metadata": {
    "id": "kHx-51yES8bd"
   },
   "source": [
    "**Цель:** Проведение A/B тестирования на основе данных  интернет-магазина BitMotion Kit, с целью проверки гипотезы и сравнения конверсии зарегистрированных пользователей в покупатели между пользователями, которыми был показан старый и новый интерфейсы.    \n",
    "\n",
    "**Задачи:**\n",
    "1. Знакомство с данными: вывод общей информации и общее знакомство с данными\n",
    "     \n",
    "2. Оценка корректности проведения теста, в том числе:\n",
    "     - проверка данных на равномерность распределения на группы;\n",
    "     - проверка данных на пересечение между группами;\n",
    "     - проверка данных на дубликаты;\n",
    "     - проверка данных на распределение по устройствам регистрации между группами;\n",
    "     - проверка выборок на пересечение с параллельным тестом.\n",
    "     \n",
    "     \n",
    "3. Анализ данных о пользовательской активности, в том числе:\n",
    "    - фильтрация событий, связанных с участвующими в изучаемом тесте пользователями;\n",
    "    - определите горизонта анализа: расчёт времени совершения события пользователем после регистрации;\n",
    "    - расчёт для каждой группы количество посетителей, сделавших покупку, и общего количество посетителей;\n",
    "    - предварительный общий вывод об изменении пользовательской активности в тестовой группе по сравнению с контрольной.\n",
    "    \n",
    "    \n",
    "4. Оценка результатов A/B-тестирования, в том числе:\n",
    "    - предварительная оценка выборок на достаточность для проведения теста;\n",
    "    - непосредственно проведение статистического теста;\n",
    "    - интерпретация полученных результатов."
   ]
  },
  {
   "cell_type": "markdown",
   "id": "_CZryx2OsH-s",
   "metadata": {
    "id": "_CZryx2OsH-s"
   },
   "source": [
    "## 2. Загрузка и оценка данных\n"
   ]
  },
  {
   "cell_type": "code",
   "execution_count": 13,
   "id": "DjFcJbeGsTIg",
   "metadata": {
    "id": "DjFcJbeGsTIg"
   },
   "outputs": [],
   "source": [
    "participants = pd.read_csv('https://code.s3.yandex.net/datasets/ab_test_participants.csv')\n",
    "events = pd.read_csv('https://code.s3.yandex.net/datasets/ab_test_events.zip',\n",
    "                     parse_dates=['event_dt'], low_memory=False)"
   ]
  },
  {
   "cell_type": "markdown",
   "id": "0a55e7a7",
   "metadata": {},
   "source": [
    "В начале рассмотрим датафрейм participants с участниками тестов."
   ]
  },
  {
   "cell_type": "code",
   "execution_count": 14,
   "id": "57779a36",
   "metadata": {},
   "outputs": [
    {
     "data": {
      "text/html": [
       "<div>\n",
       "<style scoped>\n",
       "    .dataframe tbody tr th:only-of-type {\n",
       "        vertical-align: middle;\n",
       "    }\n",
       "\n",
       "    .dataframe tbody tr th {\n",
       "        vertical-align: top;\n",
       "    }\n",
       "\n",
       "    .dataframe thead th {\n",
       "        text-align: right;\n",
       "    }\n",
       "</style>\n",
       "<table border=\"1\" class=\"dataframe\">\n",
       "  <thead>\n",
       "    <tr style=\"text-align: right;\">\n",
       "      <th></th>\n",
       "      <th>user_id</th>\n",
       "      <th>group</th>\n",
       "      <th>ab_test</th>\n",
       "      <th>device</th>\n",
       "    </tr>\n",
       "  </thead>\n",
       "  <tbody>\n",
       "    <tr>\n",
       "      <th>0</th>\n",
       "      <td>0002CE61FF2C4011</td>\n",
       "      <td>B</td>\n",
       "      <td>interface_eu_test</td>\n",
       "      <td>Mac</td>\n",
       "    </tr>\n",
       "    <tr>\n",
       "      <th>1</th>\n",
       "      <td>001064FEAAB631A1</td>\n",
       "      <td>B</td>\n",
       "      <td>recommender_system_test</td>\n",
       "      <td>Android</td>\n",
       "    </tr>\n",
       "    <tr>\n",
       "      <th>2</th>\n",
       "      <td>001064FEAAB631A1</td>\n",
       "      <td>A</td>\n",
       "      <td>interface_eu_test</td>\n",
       "      <td>Android</td>\n",
       "    </tr>\n",
       "    <tr>\n",
       "      <th>3</th>\n",
       "      <td>0010A1C096941592</td>\n",
       "      <td>A</td>\n",
       "      <td>recommender_system_test</td>\n",
       "      <td>Android</td>\n",
       "    </tr>\n",
       "    <tr>\n",
       "      <th>4</th>\n",
       "      <td>001E72F50D1C48FA</td>\n",
       "      <td>A</td>\n",
       "      <td>interface_eu_test</td>\n",
       "      <td>Mac</td>\n",
       "    </tr>\n",
       "    <tr>\n",
       "      <th>...</th>\n",
       "      <td>...</td>\n",
       "      <td>...</td>\n",
       "      <td>...</td>\n",
       "      <td>...</td>\n",
       "    </tr>\n",
       "    <tr>\n",
       "      <th>14520</th>\n",
       "      <td>FFE7FC140521F5F6</td>\n",
       "      <td>A</td>\n",
       "      <td>interface_eu_test</td>\n",
       "      <td>PC</td>\n",
       "    </tr>\n",
       "    <tr>\n",
       "      <th>14521</th>\n",
       "      <td>FFEFC0E55C1CCD4F</td>\n",
       "      <td>A</td>\n",
       "      <td>interface_eu_test</td>\n",
       "      <td>PC</td>\n",
       "    </tr>\n",
       "    <tr>\n",
       "      <th>14522</th>\n",
       "      <td>FFF28D02B1EACBE1</td>\n",
       "      <td>B</td>\n",
       "      <td>recommender_system_test</td>\n",
       "      <td>PC</td>\n",
       "    </tr>\n",
       "    <tr>\n",
       "      <th>14523</th>\n",
       "      <td>FFF28D02B1EACBE1</td>\n",
       "      <td>B</td>\n",
       "      <td>interface_eu_test</td>\n",
       "      <td>PC</td>\n",
       "    </tr>\n",
       "    <tr>\n",
       "      <th>14524</th>\n",
       "      <td>FFF58BC33966EB51</td>\n",
       "      <td>A</td>\n",
       "      <td>interface_eu_test</td>\n",
       "      <td>Android</td>\n",
       "    </tr>\n",
       "  </tbody>\n",
       "</table>\n",
       "<p>14525 rows × 4 columns</p>\n",
       "</div>"
      ],
      "text/plain": [
       "                user_id group                  ab_test   device\n",
       "0      0002CE61FF2C4011     B        interface_eu_test      Mac\n",
       "1      001064FEAAB631A1     B  recommender_system_test  Android\n",
       "2      001064FEAAB631A1     A        interface_eu_test  Android\n",
       "3      0010A1C096941592     A  recommender_system_test  Android\n",
       "4      001E72F50D1C48FA     A        interface_eu_test      Mac\n",
       "...                 ...   ...                      ...      ...\n",
       "14520  FFE7FC140521F5F6     A        interface_eu_test       PC\n",
       "14521  FFEFC0E55C1CCD4F     A        interface_eu_test       PC\n",
       "14522  FFF28D02B1EACBE1     B  recommender_system_test       PC\n",
       "14523  FFF28D02B1EACBE1     B        interface_eu_test       PC\n",
       "14524  FFF58BC33966EB51     A        interface_eu_test  Android\n",
       "\n",
       "[14525 rows x 4 columns]"
      ]
     },
     "metadata": {},
     "output_type": "display_data"
    },
    {
     "name": "stdout",
     "output_type": "stream",
     "text": [
      "<class 'pandas.core.frame.DataFrame'>\n",
      "RangeIndex: 14525 entries, 0 to 14524\n",
      "Data columns (total 4 columns):\n",
      " #   Column   Non-Null Count  Dtype \n",
      "---  ------   --------------  ----- \n",
      " 0   user_id  14525 non-null  object\n",
      " 1   group    14525 non-null  object\n",
      " 2   ab_test  14525 non-null  object\n",
      " 3   device   14525 non-null  object\n",
      "dtypes: object(4)\n",
      "memory usage: 454.0+ KB\n"
     ]
    }
   ],
   "source": [
    "# Выведем датафрейм participants\n",
    "display(participants)\n",
    "\n",
    "# Выведем информацию о датафрейме participants методом info()\n",
    "participants.info()"
   ]
  },
  {
   "cell_type": "markdown",
   "id": "e616eaf4",
   "metadata": {},
   "source": [
    "Всего датафрейм содержит 4 столбца и 14525 записей. Пропуски отсутствуют. Все столбцы содержат информацию в формате object, что оптимально отражает содержащуюся в них информацию.\n",
    "\n",
    "Далее выведем, какие тесты отображены по столбцу `ab_test`."
   ]
  },
  {
   "cell_type": "code",
   "execution_count": 15,
   "id": "99bcdb23",
   "metadata": {},
   "outputs": [
    {
     "data": {
      "text/plain": [
       "interface_eu_test          10850\n",
       "recommender_system_test     3675\n",
       "Name: ab_test, dtype: int64"
      ]
     },
     "execution_count": 15,
     "metadata": {},
     "output_type": "execute_result"
    }
   ],
   "source": [
    "# Выведем имеющиеся значения по столбцу ab_test\n",
    "participants['ab_test'].value_counts()"
   ]
  },
  {
   "cell_type": "markdown",
   "id": "d14f3902",
   "metadata": {},
   "source": [
    "Всего в датафрейме содержится информация о двух проводимых тестах, участников которых в дальнейшем необходимо будет проверить на пересечение.\n",
    "\n",
    "Далее выведем информацию о датафрейме `events`."
   ]
  },
  {
   "cell_type": "code",
   "execution_count": 16,
   "id": "9844f0df",
   "metadata": {},
   "outputs": [
    {
     "data": {
      "text/html": [
       "<div>\n",
       "<style scoped>\n",
       "    .dataframe tbody tr th:only-of-type {\n",
       "        vertical-align: middle;\n",
       "    }\n",
       "\n",
       "    .dataframe tbody tr th {\n",
       "        vertical-align: top;\n",
       "    }\n",
       "\n",
       "    .dataframe thead th {\n",
       "        text-align: right;\n",
       "    }\n",
       "</style>\n",
       "<table border=\"1\" class=\"dataframe\">\n",
       "  <thead>\n",
       "    <tr style=\"text-align: right;\">\n",
       "      <th></th>\n",
       "      <th>user_id</th>\n",
       "      <th>event_dt</th>\n",
       "      <th>event_name</th>\n",
       "      <th>details</th>\n",
       "    </tr>\n",
       "  </thead>\n",
       "  <tbody>\n",
       "    <tr>\n",
       "      <th>0</th>\n",
       "      <td>GLOBAL</td>\n",
       "      <td>2020-12-01 00:00:00</td>\n",
       "      <td>End of Black Friday Ads Campaign</td>\n",
       "      <td>ZONE_CODE15</td>\n",
       "    </tr>\n",
       "    <tr>\n",
       "      <th>1</th>\n",
       "      <td>CCBE9E7E99F94A08</td>\n",
       "      <td>2020-12-01 00:00:11</td>\n",
       "      <td>registration</td>\n",
       "      <td>0.0</td>\n",
       "    </tr>\n",
       "    <tr>\n",
       "      <th>2</th>\n",
       "      <td>GLOBAL</td>\n",
       "      <td>2020-12-01 00:00:25</td>\n",
       "      <td>product_page</td>\n",
       "      <td>NaN</td>\n",
       "    </tr>\n",
       "    <tr>\n",
       "      <th>3</th>\n",
       "      <td>CCBE9E7E99F94A08</td>\n",
       "      <td>2020-12-01 00:00:33</td>\n",
       "      <td>login</td>\n",
       "      <td>NaN</td>\n",
       "    </tr>\n",
       "    <tr>\n",
       "      <th>4</th>\n",
       "      <td>CCBE9E7E99F94A08</td>\n",
       "      <td>2020-12-01 00:00:52</td>\n",
       "      <td>product_page</td>\n",
       "      <td>NaN</td>\n",
       "    </tr>\n",
       "    <tr>\n",
       "      <th>...</th>\n",
       "      <td>...</td>\n",
       "      <td>...</td>\n",
       "      <td>...</td>\n",
       "      <td>...</td>\n",
       "    </tr>\n",
       "    <tr>\n",
       "      <th>787281</th>\n",
       "      <td>1A655C280B064708</td>\n",
       "      <td>2020-12-31 23:57:44</td>\n",
       "      <td>product_page</td>\n",
       "      <td>NaN</td>\n",
       "    </tr>\n",
       "    <tr>\n",
       "      <th>787282</th>\n",
       "      <td>B77B2F4BCA134618</td>\n",
       "      <td>2020-12-31 23:58:23</td>\n",
       "      <td>registration</td>\n",
       "      <td>0.0</td>\n",
       "    </tr>\n",
       "    <tr>\n",
       "      <th>787283</th>\n",
       "      <td>GLOBAL</td>\n",
       "      <td>2020-12-31 23:58:30</td>\n",
       "      <td>product_cart</td>\n",
       "      <td>NaN</td>\n",
       "    </tr>\n",
       "    <tr>\n",
       "      <th>787284</th>\n",
       "      <td>B12AD1623E494FAD</td>\n",
       "      <td>2020-12-31 23:58:34</td>\n",
       "      <td>registration</td>\n",
       "      <td>-6.52</td>\n",
       "    </tr>\n",
       "    <tr>\n",
       "      <th>787285</th>\n",
       "      <td>5456977474344433</td>\n",
       "      <td>2020-12-31 23:59:48</td>\n",
       "      <td>registration</td>\n",
       "      <td>-3.67</td>\n",
       "    </tr>\n",
       "  </tbody>\n",
       "</table>\n",
       "<p>787286 rows × 4 columns</p>\n",
       "</div>"
      ],
      "text/plain": [
       "                 user_id            event_dt  \\\n",
       "0                 GLOBAL 2020-12-01 00:00:00   \n",
       "1       CCBE9E7E99F94A08 2020-12-01 00:00:11   \n",
       "2                 GLOBAL 2020-12-01 00:00:25   \n",
       "3       CCBE9E7E99F94A08 2020-12-01 00:00:33   \n",
       "4       CCBE9E7E99F94A08 2020-12-01 00:00:52   \n",
       "...                  ...                 ...   \n",
       "787281  1A655C280B064708 2020-12-31 23:57:44   \n",
       "787282  B77B2F4BCA134618 2020-12-31 23:58:23   \n",
       "787283            GLOBAL 2020-12-31 23:58:30   \n",
       "787284  B12AD1623E494FAD 2020-12-31 23:58:34   \n",
       "787285  5456977474344433 2020-12-31 23:59:48   \n",
       "\n",
       "                              event_name      details  \n",
       "0       End of Black Friday Ads Campaign  ZONE_CODE15  \n",
       "1                           registration          0.0  \n",
       "2                           product_page          NaN  \n",
       "3                                  login          NaN  \n",
       "4                           product_page          NaN  \n",
       "...                                  ...          ...  \n",
       "787281                      product_page          NaN  \n",
       "787282                      registration          0.0  \n",
       "787283                      product_cart          NaN  \n",
       "787284                      registration        -6.52  \n",
       "787285                      registration        -3.67  \n",
       "\n",
       "[787286 rows x 4 columns]"
      ]
     },
     "metadata": {},
     "output_type": "display_data"
    },
    {
     "name": "stdout",
     "output_type": "stream",
     "text": [
      "<class 'pandas.core.frame.DataFrame'>\n",
      "RangeIndex: 787286 entries, 0 to 787285\n",
      "Data columns (total 4 columns):\n",
      " #   Column      Non-Null Count   Dtype         \n",
      "---  ------      --------------   -----         \n",
      " 0   user_id     787286 non-null  object        \n",
      " 1   event_dt    787286 non-null  datetime64[ns]\n",
      " 2   event_name  787286 non-null  object        \n",
      " 3   details     249022 non-null  object        \n",
      "dtypes: datetime64[ns](1), object(3)\n",
      "memory usage: 24.0+ MB\n"
     ]
    }
   ],
   "source": [
    "# Выведем датафрейм events\n",
    "display(events)\n",
    "\n",
    "# Выведем информацию о датафрейме events методом info()\n",
    "events.info()"
   ]
  },
  {
   "cell_type": "markdown",
   "id": "00c69a93",
   "metadata": {},
   "source": [
    "Всего датафрейм содержит 4 столбца и 787 286 строк. Имеются пропуски по столбцу `details`, т.к. в данном столбце отражается информация только для событий (`event_name`) `registration` и `purchase`. Текущие форматы данных для каждого столбца явяются оптимальными."
   ]
  },
  {
   "cell_type": "markdown",
   "id": "9be4fb0e",
   "metadata": {},
   "source": [
    "Дополнительно выведем типы событий по столбцу `event_name`."
   ]
  },
  {
   "cell_type": "code",
   "execution_count": 17,
   "id": "9d0aed84",
   "metadata": {},
   "outputs": [
    {
     "data": {
      "text/plain": [
       "login                                 248285\n",
       "product_page                          195606\n",
       "registration                          144183\n",
       "purchase                              104836\n",
       "product_cart                           94373\n",
       "End of Black Friday Ads Campaign           1\n",
       "Start of CIS New Year Gift Lottery         1\n",
       "Start of Christmas&New Year Promo          1\n",
       "Name: event_name, dtype: int64"
      ]
     },
     "execution_count": 17,
     "metadata": {},
     "output_type": "execute_result"
    }
   ],
   "source": [
    "# выведем типы событий по столбцу event_name\n",
    "events['event_name'].value_counts()"
   ]
  },
  {
   "cell_type": "markdown",
   "id": "70664b51",
   "metadata": {},
   "source": [
    "### Промежуточный вывод\n",
    "\n",
    "В данном разделе были проведены загрузка данных и оценка их целостности. Текущие форматы данных для каждого столбца обоих датафреймов являются оптимальными. Пропуски содержатся только по столбцу `details` датафреймов `events`, т.к. в данном столбце отражается информация только для событий (`event_name`) `registration` и `purchase`."
   ]
  },
  {
   "cell_type": "markdown",
   "id": "CnzA-efasUrk",
   "metadata": {
    "id": "CnzA-efasUrk"
   },
   "source": [
    "## 3.1 По таблице `ab_test_participants` оценим корректность проведения теста"
   ]
  },
  {
   "cell_type": "markdown",
   "id": "acc2eda1",
   "metadata": {},
   "source": [
    "Нас интересует данные, относящиеся к тесту по упрощению интерфейса. Данный тест имеет название `interface_eu_test` по столбцу `ab_test`. Создадим отдельный датафрейм `participants_interface_test`, содержащий информацию непосредственно об интересующем нас тесте."
   ]
  },
  {
   "cell_type": "code",
   "execution_count": 18,
   "id": "aNa3zHrKslEN",
   "metadata": {
    "id": "aNa3zHrKslEN"
   },
   "outputs": [
    {
     "data": {
      "text/html": [
       "<div>\n",
       "<style scoped>\n",
       "    .dataframe tbody tr th:only-of-type {\n",
       "        vertical-align: middle;\n",
       "    }\n",
       "\n",
       "    .dataframe tbody tr th {\n",
       "        vertical-align: top;\n",
       "    }\n",
       "\n",
       "    .dataframe thead th {\n",
       "        text-align: right;\n",
       "    }\n",
       "</style>\n",
       "<table border=\"1\" class=\"dataframe\">\n",
       "  <thead>\n",
       "    <tr style=\"text-align: right;\">\n",
       "      <th></th>\n",
       "      <th>user_id</th>\n",
       "      <th>group</th>\n",
       "      <th>ab_test</th>\n",
       "      <th>device</th>\n",
       "    </tr>\n",
       "  </thead>\n",
       "  <tbody>\n",
       "    <tr>\n",
       "      <th>0</th>\n",
       "      <td>0002CE61FF2C4011</td>\n",
       "      <td>B</td>\n",
       "      <td>interface_eu_test</td>\n",
       "      <td>Mac</td>\n",
       "    </tr>\n",
       "    <tr>\n",
       "      <th>2</th>\n",
       "      <td>001064FEAAB631A1</td>\n",
       "      <td>A</td>\n",
       "      <td>interface_eu_test</td>\n",
       "      <td>Android</td>\n",
       "    </tr>\n",
       "    <tr>\n",
       "      <th>4</th>\n",
       "      <td>001E72F50D1C48FA</td>\n",
       "      <td>A</td>\n",
       "      <td>interface_eu_test</td>\n",
       "      <td>Mac</td>\n",
       "    </tr>\n",
       "    <tr>\n",
       "      <th>5</th>\n",
       "      <td>002412F1EB3F6E38</td>\n",
       "      <td>B</td>\n",
       "      <td>interface_eu_test</td>\n",
       "      <td>Mac</td>\n",
       "    </tr>\n",
       "    <tr>\n",
       "      <th>6</th>\n",
       "      <td>002540BE89C930FB</td>\n",
       "      <td>B</td>\n",
       "      <td>interface_eu_test</td>\n",
       "      <td>Android</td>\n",
       "    </tr>\n",
       "    <tr>\n",
       "      <th>...</th>\n",
       "      <td>...</td>\n",
       "      <td>...</td>\n",
       "      <td>...</td>\n",
       "      <td>...</td>\n",
       "    </tr>\n",
       "    <tr>\n",
       "      <th>14519</th>\n",
       "      <td>FFE600EEC4BA7685</td>\n",
       "      <td>B</td>\n",
       "      <td>interface_eu_test</td>\n",
       "      <td>Android</td>\n",
       "    </tr>\n",
       "    <tr>\n",
       "      <th>14520</th>\n",
       "      <td>FFE7FC140521F5F6</td>\n",
       "      <td>A</td>\n",
       "      <td>interface_eu_test</td>\n",
       "      <td>PC</td>\n",
       "    </tr>\n",
       "    <tr>\n",
       "      <th>14521</th>\n",
       "      <td>FFEFC0E55C1CCD4F</td>\n",
       "      <td>A</td>\n",
       "      <td>interface_eu_test</td>\n",
       "      <td>PC</td>\n",
       "    </tr>\n",
       "    <tr>\n",
       "      <th>14523</th>\n",
       "      <td>FFF28D02B1EACBE1</td>\n",
       "      <td>B</td>\n",
       "      <td>interface_eu_test</td>\n",
       "      <td>PC</td>\n",
       "    </tr>\n",
       "    <tr>\n",
       "      <th>14524</th>\n",
       "      <td>FFF58BC33966EB51</td>\n",
       "      <td>A</td>\n",
       "      <td>interface_eu_test</td>\n",
       "      <td>Android</td>\n",
       "    </tr>\n",
       "  </tbody>\n",
       "</table>\n",
       "<p>10850 rows × 4 columns</p>\n",
       "</div>"
      ],
      "text/plain": [
       "                user_id group            ab_test   device\n",
       "0      0002CE61FF2C4011     B  interface_eu_test      Mac\n",
       "2      001064FEAAB631A1     A  interface_eu_test  Android\n",
       "4      001E72F50D1C48FA     A  interface_eu_test      Mac\n",
       "5      002412F1EB3F6E38     B  interface_eu_test      Mac\n",
       "6      002540BE89C930FB     B  interface_eu_test  Android\n",
       "...                 ...   ...                ...      ...\n",
       "14519  FFE600EEC4BA7685     B  interface_eu_test  Android\n",
       "14520  FFE7FC140521F5F6     A  interface_eu_test       PC\n",
       "14521  FFEFC0E55C1CCD4F     A  interface_eu_test       PC\n",
       "14523  FFF28D02B1EACBE1     B  interface_eu_test       PC\n",
       "14524  FFF58BC33966EB51     A  interface_eu_test  Android\n",
       "\n",
       "[10850 rows x 4 columns]"
      ]
     },
     "execution_count": 18,
     "metadata": {},
     "output_type": "execute_result"
    }
   ],
   "source": [
    "# Создадим датафрейм с данными о тесте interface_eu_test\n",
    "participants_interface_test=participants[participants['ab_test']=='interface_eu_test']\n",
    "\n",
    "# Выведем полученный датафрейм\n",
    "participants_interface_test"
   ]
  },
  {
   "cell_type": "markdown",
   "id": "470affd3",
   "metadata": {},
   "source": [
    "Далее проверим равномерность распределения пользователей по группам теста."
   ]
  },
  {
   "cell_type": "code",
   "execution_count": 19,
   "id": "fa192797",
   "metadata": {},
   "outputs": [
    {
     "data": {
      "text/plain": [
       "5383"
      ]
     },
     "metadata": {},
     "output_type": "display_data"
    },
    {
     "data": {
      "text/plain": [
       "5467"
      ]
     },
     "metadata": {},
     "output_type": "display_data"
    },
    {
     "data": {
      "text/plain": [
       "49.61290322580645"
      ]
     },
     "metadata": {},
     "output_type": "display_data"
    },
    {
     "data": {
      "text/plain": [
       "50.38709677419355"
      ]
     },
     "metadata": {},
     "output_type": "display_data"
    }
   ],
   "source": [
    "# Выведем количество пользователей для каждой группы \n",
    "display(participants_interface_test[participants_interface_test['group'] == 'A']['user_id'].nunique(), \n",
    "        participants_interface_test[participants_interface_test['group'] == 'B']['user_id'].nunique())\n",
    "\n",
    "# Выведем процентное соотношение пользователей для каждой группы \n",
    "display(100 * participants_interface_test[participants_interface_test['group'] == 'A']['user_id'].nunique() / participants_interface_test['user_id'].nunique(), \n",
    "100 * participants_interface_test[participants_interface_test['group'] == 'B']['user_id'].nunique() / participants_interface_test['user_id'].nunique()) "
   ]
  },
  {
   "cell_type": "markdown",
   "id": "9ec44580",
   "metadata": {},
   "source": [
    "Таким образом, пользователи в группе А меньше, чем количество пользователей в группе B, при этом разница не является критичной."
   ]
  },
  {
   "cell_type": "markdown",
   "id": "f776b433",
   "metadata": {},
   "source": [
    "Далее дополнительно проверим датафрейм `participants_interface_test` на дубликаты."
   ]
  },
  {
   "cell_type": "code",
   "execution_count": 20,
   "id": "889b04cd",
   "metadata": {},
   "outputs": [
    {
     "data": {
      "text/plain": [
       "0"
      ]
     },
     "execution_count": 20,
     "metadata": {},
     "output_type": "execute_result"
    }
   ],
   "source": [
    "# Проверим датафрейм participants_interface_test на дубликаты\n",
    "participants_interface_test.duplicated().sum()"
   ]
  },
  {
   "cell_type": "markdown",
   "id": "57e46b79",
   "metadata": {},
   "source": [
    "Дубликаты отсутствуют.\n",
    "\n",
    "Далее проверим выборки для пользователей, попавших в `interface_test` на пересечение."
   ]
  },
  {
   "cell_type": "code",
   "execution_count": 21,
   "id": "f44a278e",
   "metadata": {},
   "outputs": [
    {
     "name": "stdout",
     "output_type": "stream",
     "text": [
      "[]\n"
     ]
    }
   ],
   "source": [
    "# Проверим выборки на наличие пересечений\n",
    "Group_A = participants_interface_test[participants_interface_test['group'] == 'A']['user_id']\n",
    "Group_B = participants_interface_test[participants_interface_test['group'] == 'B']['user_id']\n",
    "\n",
    "intersection = list(set(Group_A) & set(Group_B))\n",
    "print(intersection) "
   ]
  },
  {
   "cell_type": "markdown",
   "id": "24cc5ea6",
   "metadata": {},
   "source": [
    "Пересечения отсутсвтуют.\n",
    "\n",
    "Далее проверим распределение между устройствами, с которых происходила регистрация, между группами. "
   ]
  },
  {
   "cell_type": "code",
   "execution_count": 22,
   "id": "f0ffa5ca",
   "metadata": {},
   "outputs": [],
   "source": [
    "# Сгруппируем пользователей для обеих групп по устройствам регистрации\n",
    "device_for_group_A = participants_interface_test[participants_interface_test['group'] == 'A'].groupby('device')['user_id'].nunique()\n",
    "device_for_group_B = participants_interface_test[participants_interface_test['group'] == 'B'].groupby('device')['user_id'].nunique()"
   ]
  },
  {
   "cell_type": "code",
   "execution_count": 23,
   "id": "a3307754",
   "metadata": {},
   "outputs": [
    {
     "data": {
      "image/png": "[encoded data removed]",
      "text/plain": [
       "<Figure size 576x432 with 1 Axes>"
      ]
     },
     "metadata": {},
     "output_type": "display_data"
    },
    {
     "data": {
      "image/png": "[encoded data removed]",
      "text/plain": [
       "<Figure size 576x432 with 1 Axes>"
      ]
     },
     "metadata": {},
     "output_type": "display_data"
    }
   ],
   "source": [
    "# Построим визуализацию для отображения разницы в доле каждого типа устройства для пользователей из группы A\n",
    "plt.figure(figsize=(8, 6))\n",
    "\n",
    "device_for_group_A.plot(\n",
    "               kind='pie', \n",
    "               title=f'Доля каждого типа устройства для пользователей из группы A',\n",
    "               autopct='%.2f')\n",
    "\n",
    "plt.legend()\n",
    "plt.show()\n",
    "\n",
    "# Построим визуализацию для отображения разницы в доле каждого типа устройства для пользователей из группы B\n",
    "plt.figure(figsize=(8, 6))\n",
    "\n",
    "device_for_group_B.plot(\n",
    "               kind='pie', \n",
    "               title=f'Доля каждого типа устройства для пользователей из группы B',\n",
    "               autopct='%.2f')\n",
    "\n",
    "plt.legend()\n",
    "plt.show()"
   ]
  },
  {
   "cell_type": "markdown",
   "id": "04b95477",
   "metadata": {},
   "source": [
    "Как видно из диаграмм, значительная разница в распределении между устройствами в обеих группах отсутствует."
   ]
  },
  {
   "cell_type": "markdown",
   "id": "a48633c9",
   "metadata": {},
   "source": [
    "Далее проверим отсутствие пересечений с конкурирующим тестом `recommender_system_test`."
   ]
  },
  {
   "cell_type": "code",
   "execution_count": 24,
   "id": "588e7626",
   "metadata": {},
   "outputs": [
    {
     "name": "stdout",
     "output_type": "stream",
     "text": [
      "[]\n"
     ]
    }
   ],
   "source": [
    "# Выведем id пользователей для обеих групп\n",
    "users_interface_test=participants[participants['ab_test']=='interface_test']['user_id']\n",
    "users_recommender_system_test=participants[participants['ab_test']=='recommender_system_test']['user_id']\n",
    "\n",
    "# Проведём проверку групп на пересечение\n",
    "intersection = list(set(users_interface_test) & set(users_recommender_system_test))\n",
    "print(intersection) "
   ]
  },
  {
   "cell_type": "markdown",
   "id": "fb7dba44",
   "metadata": {},
   "source": [
    "Таким образом, пересечения отсутствуют."
   ]
  },
  {
   "cell_type": "markdown",
   "id": "GjulgSrlsqUU",
   "metadata": {
    "id": "GjulgSrlsqUU"
   },
   "source": [
    "## 3.2 Проанализируем данные о пользовательской активности по таблице `ab_test_events`"
   ]
  },
  {
   "cell_type": "markdown",
   "id": "7cabd147",
   "metadata": {},
   "source": [
    "Поскольку нас интересует изменения конверсии зарегистрированных пользователей в покупателей, создадим новый датафрейм, включающий в себя только события, связанные с регистрацией и покупкой."
   ]
  },
  {
   "cell_type": "code",
   "execution_count": 25,
   "id": "QMt0Ybo_swDK",
   "metadata": {
    "id": "QMt0Ybo_swDK"
   },
   "outputs": [
    {
     "data": {
      "text/html": [
       "<div>\n",
       "<style scoped>\n",
       "    .dataframe tbody tr th:only-of-type {\n",
       "        vertical-align: middle;\n",
       "    }\n",
       "\n",
       "    .dataframe tbody tr th {\n",
       "        vertical-align: top;\n",
       "    }\n",
       "\n",
       "    .dataframe thead th {\n",
       "        text-align: right;\n",
       "    }\n",
       "</style>\n",
       "<table border=\"1\" class=\"dataframe\">\n",
       "  <thead>\n",
       "    <tr style=\"text-align: right;\">\n",
       "      <th></th>\n",
       "      <th>user_id</th>\n",
       "      <th>event_dt</th>\n",
       "      <th>event_name</th>\n",
       "      <th>details</th>\n",
       "    </tr>\n",
       "  </thead>\n",
       "  <tbody>\n",
       "    <tr>\n",
       "      <th>1</th>\n",
       "      <td>CCBE9E7E99F94A08</td>\n",
       "      <td>2020-12-01 00:00:11</td>\n",
       "      <td>registration</td>\n",
       "      <td>0.0</td>\n",
       "    </tr>\n",
       "    <tr>\n",
       "      <th>5</th>\n",
       "      <td>AA346F4D22148024</td>\n",
       "      <td>2020-12-01 00:01:46</td>\n",
       "      <td>registration</td>\n",
       "      <td>-2.0</td>\n",
       "    </tr>\n",
       "    <tr>\n",
       "      <th>6</th>\n",
       "      <td>7EF01D0E72AF449D</td>\n",
       "      <td>2020-12-01 00:02:06</td>\n",
       "      <td>registration</td>\n",
       "      <td>-5.0</td>\n",
       "    </tr>\n",
       "    <tr>\n",
       "      <th>7</th>\n",
       "      <td>9A6276AD14B14252</td>\n",
       "      <td>2020-12-01 00:02:20</td>\n",
       "      <td>registration</td>\n",
       "      <td>-2.0</td>\n",
       "    </tr>\n",
       "    <tr>\n",
       "      <th>8</th>\n",
       "      <td>9B186A3B1A995D36</td>\n",
       "      <td>2020-12-01 00:02:37</td>\n",
       "      <td>registration</td>\n",
       "      <td>-3.5</td>\n",
       "    </tr>\n",
       "    <tr>\n",
       "      <th>...</th>\n",
       "      <td>...</td>\n",
       "      <td>...</td>\n",
       "      <td>...</td>\n",
       "      <td>...</td>\n",
       "    </tr>\n",
       "    <tr>\n",
       "      <th>787273</th>\n",
       "      <td>CA617333EFAE4A10</td>\n",
       "      <td>2020-12-31 23:56:25</td>\n",
       "      <td>registration</td>\n",
       "      <td>-2.85</td>\n",
       "    </tr>\n",
       "    <tr>\n",
       "      <th>787277</th>\n",
       "      <td>10CAFD77114A4537</td>\n",
       "      <td>2020-12-31 23:56:56</td>\n",
       "      <td>registration</td>\n",
       "      <td>-4.07</td>\n",
       "    </tr>\n",
       "    <tr>\n",
       "      <th>787282</th>\n",
       "      <td>B77B2F4BCA134618</td>\n",
       "      <td>2020-12-31 23:58:23</td>\n",
       "      <td>registration</td>\n",
       "      <td>0.0</td>\n",
       "    </tr>\n",
       "    <tr>\n",
       "      <th>787284</th>\n",
       "      <td>B12AD1623E494FAD</td>\n",
       "      <td>2020-12-31 23:58:34</td>\n",
       "      <td>registration</td>\n",
       "      <td>-6.52</td>\n",
       "    </tr>\n",
       "    <tr>\n",
       "      <th>787285</th>\n",
       "      <td>5456977474344433</td>\n",
       "      <td>2020-12-31 23:59:48</td>\n",
       "      <td>registration</td>\n",
       "      <td>-3.67</td>\n",
       "    </tr>\n",
       "  </tbody>\n",
       "</table>\n",
       "<p>249019 rows × 4 columns</p>\n",
       "</div>"
      ],
      "text/plain": [
       "                 user_id            event_dt    event_name details\n",
       "1       CCBE9E7E99F94A08 2020-12-01 00:00:11  registration     0.0\n",
       "5       AA346F4D22148024 2020-12-01 00:01:46  registration    -2.0\n",
       "6       7EF01D0E72AF449D 2020-12-01 00:02:06  registration    -5.0\n",
       "7       9A6276AD14B14252 2020-12-01 00:02:20  registration    -2.0\n",
       "8       9B186A3B1A995D36 2020-12-01 00:02:37  registration    -3.5\n",
       "...                  ...                 ...           ...     ...\n",
       "787273  CA617333EFAE4A10 2020-12-31 23:56:25  registration   -2.85\n",
       "787277  10CAFD77114A4537 2020-12-31 23:56:56  registration   -4.07\n",
       "787282  B77B2F4BCA134618 2020-12-31 23:58:23  registration     0.0\n",
       "787284  B12AD1623E494FAD 2020-12-31 23:58:34  registration   -6.52\n",
       "787285  5456977474344433 2020-12-31 23:59:48  registration   -3.67\n",
       "\n",
       "[249019 rows x 4 columns]"
      ]
     },
     "execution_count": 25,
     "metadata": {},
     "output_type": "execute_result"
    }
   ],
   "source": [
    "# Создадим датафрейм с регистрациями и покупками\n",
    "ab_test_events = events[(events['event_name']=='purchase')|(events['event_name']=='registration')]\n",
    "\n",
    "# Выведем поученный датафрейм\n",
    "ab_test_events"
   ]
  },
  {
   "cell_type": "markdown",
   "id": "627b712d",
   "metadata": {},
   "source": [
    "Объединим полученный датафрейм с пользователями, участвующими в тесте, по полю `user_id`."
   ]
  },
  {
   "cell_type": "code",
   "execution_count": 26,
   "id": "185a9799",
   "metadata": {},
   "outputs": [
    {
     "data": {
      "text/html": [
       "<div>\n",
       "<style scoped>\n",
       "    .dataframe tbody tr th:only-of-type {\n",
       "        vertical-align: middle;\n",
       "    }\n",
       "\n",
       "    .dataframe tbody tr th {\n",
       "        vertical-align: top;\n",
       "    }\n",
       "\n",
       "    .dataframe thead th {\n",
       "        text-align: right;\n",
       "    }\n",
       "</style>\n",
       "<table border=\"1\" class=\"dataframe\">\n",
       "  <thead>\n",
       "    <tr style=\"text-align: right;\">\n",
       "      <th></th>\n",
       "      <th>user_id</th>\n",
       "      <th>group</th>\n",
       "      <th>ab_test</th>\n",
       "      <th>device</th>\n",
       "      <th>event_dt</th>\n",
       "      <th>event_name</th>\n",
       "      <th>details</th>\n",
       "    </tr>\n",
       "  </thead>\n",
       "  <tbody>\n",
       "    <tr>\n",
       "      <th>0</th>\n",
       "      <td>0002CE61FF2C4011</td>\n",
       "      <td>B</td>\n",
       "      <td>interface_eu_test</td>\n",
       "      <td>Mac</td>\n",
       "      <td>2020-12-07 04:37:31</td>\n",
       "      <td>registration</td>\n",
       "      <td>-2.38</td>\n",
       "    </tr>\n",
       "    <tr>\n",
       "      <th>1</th>\n",
       "      <td>001064FEAAB631A1</td>\n",
       "      <td>A</td>\n",
       "      <td>interface_eu_test</td>\n",
       "      <td>Android</td>\n",
       "      <td>2020-12-20 14:12:45</td>\n",
       "      <td>registration</td>\n",
       "      <td>-2.14</td>\n",
       "    </tr>\n",
       "    <tr>\n",
       "      <th>2</th>\n",
       "      <td>001E72F50D1C48FA</td>\n",
       "      <td>A</td>\n",
       "      <td>interface_eu_test</td>\n",
       "      <td>Mac</td>\n",
       "      <td>2020-12-17 15:44:05</td>\n",
       "      <td>registration</td>\n",
       "      <td>-3.61</td>\n",
       "    </tr>\n",
       "    <tr>\n",
       "      <th>3</th>\n",
       "      <td>002412F1EB3F6E38</td>\n",
       "      <td>B</td>\n",
       "      <td>interface_eu_test</td>\n",
       "      <td>Mac</td>\n",
       "      <td>2020-12-09 09:36:50</td>\n",
       "      <td>registration</td>\n",
       "      <td>-0.48</td>\n",
       "    </tr>\n",
       "    <tr>\n",
       "      <th>4</th>\n",
       "      <td>002540BE89C930FB</td>\n",
       "      <td>B</td>\n",
       "      <td>interface_eu_test</td>\n",
       "      <td>Android</td>\n",
       "      <td>2020-12-08 18:06:07</td>\n",
       "      <td>registration</td>\n",
       "      <td>-2.38</td>\n",
       "    </tr>\n",
       "    <tr>\n",
       "      <th>...</th>\n",
       "      <td>...</td>\n",
       "      <td>...</td>\n",
       "      <td>...</td>\n",
       "      <td>...</td>\n",
       "      <td>...</td>\n",
       "      <td>...</td>\n",
       "      <td>...</td>\n",
       "    </tr>\n",
       "    <tr>\n",
       "      <th>21070</th>\n",
       "      <td>FFE7FC140521F5F6</td>\n",
       "      <td>A</td>\n",
       "      <td>interface_eu_test</td>\n",
       "      <td>PC</td>\n",
       "      <td>2020-12-26 14:37:21</td>\n",
       "      <td>purchase</td>\n",
       "      <td>4.49</td>\n",
       "    </tr>\n",
       "    <tr>\n",
       "      <th>21071</th>\n",
       "      <td>FFE7FC140521F5F6</td>\n",
       "      <td>A</td>\n",
       "      <td>interface_eu_test</td>\n",
       "      <td>PC</td>\n",
       "      <td>2020-12-26 14:37:51</td>\n",
       "      <td>purchase</td>\n",
       "      <td>4.49</td>\n",
       "    </tr>\n",
       "    <tr>\n",
       "      <th>21072</th>\n",
       "      <td>FFEFC0E55C1CCD4F</td>\n",
       "      <td>A</td>\n",
       "      <td>interface_eu_test</td>\n",
       "      <td>PC</td>\n",
       "      <td>2020-12-13 23:52:15</td>\n",
       "      <td>registration</td>\n",
       "      <td>0.0</td>\n",
       "    </tr>\n",
       "    <tr>\n",
       "      <th>21073</th>\n",
       "      <td>FFF28D02B1EACBE1</td>\n",
       "      <td>B</td>\n",
       "      <td>interface_eu_test</td>\n",
       "      <td>PC</td>\n",
       "      <td>2020-12-16 08:23:56</td>\n",
       "      <td>registration</td>\n",
       "      <td>-0.45</td>\n",
       "    </tr>\n",
       "    <tr>\n",
       "      <th>21074</th>\n",
       "      <td>FFF58BC33966EB51</td>\n",
       "      <td>A</td>\n",
       "      <td>interface_eu_test</td>\n",
       "      <td>Android</td>\n",
       "      <td>2020-12-13 17:37:34</td>\n",
       "      <td>registration</td>\n",
       "      <td>-0.45</td>\n",
       "    </tr>\n",
       "  </tbody>\n",
       "</table>\n",
       "<p>21075 rows × 7 columns</p>\n",
       "</div>"
      ],
      "text/plain": [
       "                user_id group            ab_test   device            event_dt  \\\n",
       "0      0002CE61FF2C4011     B  interface_eu_test      Mac 2020-12-07 04:37:31   \n",
       "1      001064FEAAB631A1     A  interface_eu_test  Android 2020-12-20 14:12:45   \n",
       "2      001E72F50D1C48FA     A  interface_eu_test      Mac 2020-12-17 15:44:05   \n",
       "3      002412F1EB3F6E38     B  interface_eu_test      Mac 2020-12-09 09:36:50   \n",
       "4      002540BE89C930FB     B  interface_eu_test  Android 2020-12-08 18:06:07   \n",
       "...                 ...   ...                ...      ...                 ...   \n",
       "21070  FFE7FC140521F5F6     A  interface_eu_test       PC 2020-12-26 14:37:21   \n",
       "21071  FFE7FC140521F5F6     A  interface_eu_test       PC 2020-12-26 14:37:51   \n",
       "21072  FFEFC0E55C1CCD4F     A  interface_eu_test       PC 2020-12-13 23:52:15   \n",
       "21073  FFF28D02B1EACBE1     B  interface_eu_test       PC 2020-12-16 08:23:56   \n",
       "21074  FFF58BC33966EB51     A  interface_eu_test  Android 2020-12-13 17:37:34   \n",
       "\n",
       "         event_name details  \n",
       "0      registration   -2.38  \n",
       "1      registration   -2.14  \n",
       "2      registration   -3.61  \n",
       "3      registration   -0.48  \n",
       "4      registration   -2.38  \n",
       "...             ...     ...  \n",
       "21070      purchase    4.49  \n",
       "21071      purchase    4.49  \n",
       "21072  registration     0.0  \n",
       "21073  registration   -0.45  \n",
       "21074  registration   -0.45  \n",
       "\n",
       "[21075 rows x 7 columns]"
      ]
     },
     "execution_count": 26,
     "metadata": {},
     "output_type": "execute_result"
    }
   ],
   "source": [
    "# Объединяем датафреймы с пользователями и событиями\n",
    "interface_test=participants_interface_test.merge(ab_test_events, on='user_id', how='left')\n",
    "\n",
    "# Выведем полученный датафрейм\n",
    "interface_test"
   ]
  },
  {
   "cell_type": "markdown",
   "id": "c68ec71f",
   "metadata": {},
   "source": [
    "Для начала создадим датафрейм, в котором для каждого пользователя будет указана дата регистрации"
   ]
  },
  {
   "cell_type": "code",
   "execution_count": 27,
   "id": "sES4-dKts0Yb",
   "metadata": {
    "id": "sES4-dKts0Yb"
   },
   "outputs": [
    {
     "data": {
      "text/html": [
       "<div>\n",
       "<style scoped>\n",
       "    .dataframe tbody tr th:only-of-type {\n",
       "        vertical-align: middle;\n",
       "    }\n",
       "\n",
       "    .dataframe tbody tr th {\n",
       "        vertical-align: top;\n",
       "    }\n",
       "\n",
       "    .dataframe thead th {\n",
       "        text-align: right;\n",
       "    }\n",
       "</style>\n",
       "<table border=\"1\" class=\"dataframe\">\n",
       "  <thead>\n",
       "    <tr style=\"text-align: right;\">\n",
       "      <th></th>\n",
       "      <th>user_id</th>\n",
       "      <th>event_dt</th>\n",
       "    </tr>\n",
       "  </thead>\n",
       "  <tbody>\n",
       "    <tr>\n",
       "      <th>0</th>\n",
       "      <td>0002CE61FF2C4011</td>\n",
       "      <td>2020-12-07 04:37:31</td>\n",
       "    </tr>\n",
       "    <tr>\n",
       "      <th>1</th>\n",
       "      <td>001064FEAAB631A1</td>\n",
       "      <td>2020-12-20 14:12:45</td>\n",
       "    </tr>\n",
       "    <tr>\n",
       "      <th>2</th>\n",
       "      <td>001E72F50D1C48FA</td>\n",
       "      <td>2020-12-17 15:44:05</td>\n",
       "    </tr>\n",
       "    <tr>\n",
       "      <th>3</th>\n",
       "      <td>002412F1EB3F6E38</td>\n",
       "      <td>2020-12-09 09:36:50</td>\n",
       "    </tr>\n",
       "    <tr>\n",
       "      <th>4</th>\n",
       "      <td>002540BE89C930FB</td>\n",
       "      <td>2020-12-08 18:06:07</td>\n",
       "    </tr>\n",
       "    <tr>\n",
       "      <th>...</th>\n",
       "      <td>...</td>\n",
       "      <td>...</td>\n",
       "    </tr>\n",
       "    <tr>\n",
       "      <th>21068</th>\n",
       "      <td>FFE600EEC4BA7685</td>\n",
       "      <td>2020-12-13 21:43:31</td>\n",
       "    </tr>\n",
       "    <tr>\n",
       "      <th>21069</th>\n",
       "      <td>FFE7FC140521F5F6</td>\n",
       "      <td>2020-12-23 09:10:16</td>\n",
       "    </tr>\n",
       "    <tr>\n",
       "      <th>21072</th>\n",
       "      <td>FFEFC0E55C1CCD4F</td>\n",
       "      <td>2020-12-13 23:52:15</td>\n",
       "    </tr>\n",
       "    <tr>\n",
       "      <th>21073</th>\n",
       "      <td>FFF28D02B1EACBE1</td>\n",
       "      <td>2020-12-16 08:23:56</td>\n",
       "    </tr>\n",
       "    <tr>\n",
       "      <th>21074</th>\n",
       "      <td>FFF58BC33966EB51</td>\n",
       "      <td>2020-12-13 17:37:34</td>\n",
       "    </tr>\n",
       "  </tbody>\n",
       "</table>\n",
       "<p>10850 rows × 2 columns</p>\n",
       "</div>"
      ],
      "text/plain": [
       "                user_id            event_dt\n",
       "0      0002CE61FF2C4011 2020-12-07 04:37:31\n",
       "1      001064FEAAB631A1 2020-12-20 14:12:45\n",
       "2      001E72F50D1C48FA 2020-12-17 15:44:05\n",
       "3      002412F1EB3F6E38 2020-12-09 09:36:50\n",
       "4      002540BE89C930FB 2020-12-08 18:06:07\n",
       "...                 ...                 ...\n",
       "21068  FFE600EEC4BA7685 2020-12-13 21:43:31\n",
       "21069  FFE7FC140521F5F6 2020-12-23 09:10:16\n",
       "21072  FFEFC0E55C1CCD4F 2020-12-13 23:52:15\n",
       "21073  FFF28D02B1EACBE1 2020-12-16 08:23:56\n",
       "21074  FFF58BC33966EB51 2020-12-13 17:37:34\n",
       "\n",
       "[10850 rows x 2 columns]"
      ]
     },
     "execution_count": 27,
     "metadata": {},
     "output_type": "execute_result"
    }
   ],
   "source": [
    "# Создадим датафрейм с датай регистриации пользователей\n",
    "registration_date= interface_test[interface_test['event_name']=='registration'][['user_id','event_dt']]\n",
    "\n",
    "# Выведем полученный датафрейм\n",
    "registration_date"
   ]
  },
  {
   "cell_type": "markdown",
   "id": "beeb8b7e",
   "metadata": {},
   "source": [
    "Далее присоединим полученный датафрейм с датой регистрацией пользователей с основному датафрейму."
   ]
  },
  {
   "cell_type": "code",
   "execution_count": 28,
   "id": "37b335b1",
   "metadata": {},
   "outputs": [
    {
     "data": {
      "text/html": [
       "<div>\n",
       "<style scoped>\n",
       "    .dataframe tbody tr th:only-of-type {\n",
       "        vertical-align: middle;\n",
       "    }\n",
       "\n",
       "    .dataframe tbody tr th {\n",
       "        vertical-align: top;\n",
       "    }\n",
       "\n",
       "    .dataframe thead th {\n",
       "        text-align: right;\n",
       "    }\n",
       "</style>\n",
       "<table border=\"1\" class=\"dataframe\">\n",
       "  <thead>\n",
       "    <tr style=\"text-align: right;\">\n",
       "      <th></th>\n",
       "      <th>user_id</th>\n",
       "      <th>group</th>\n",
       "      <th>ab_test</th>\n",
       "      <th>device</th>\n",
       "      <th>event_dt_x</th>\n",
       "      <th>event_name</th>\n",
       "      <th>details</th>\n",
       "      <th>event_dt_y</th>\n",
       "    </tr>\n",
       "  </thead>\n",
       "  <tbody>\n",
       "    <tr>\n",
       "      <th>0</th>\n",
       "      <td>0002CE61FF2C4011</td>\n",
       "      <td>B</td>\n",
       "      <td>interface_eu_test</td>\n",
       "      <td>Mac</td>\n",
       "      <td>2020-12-07 04:37:31</td>\n",
       "      <td>registration</td>\n",
       "      <td>-2.38</td>\n",
       "      <td>2020-12-07 04:37:31</td>\n",
       "    </tr>\n",
       "    <tr>\n",
       "      <th>1</th>\n",
       "      <td>001064FEAAB631A1</td>\n",
       "      <td>A</td>\n",
       "      <td>interface_eu_test</td>\n",
       "      <td>Android</td>\n",
       "      <td>2020-12-20 14:12:45</td>\n",
       "      <td>registration</td>\n",
       "      <td>-2.14</td>\n",
       "      <td>2020-12-20 14:12:45</td>\n",
       "    </tr>\n",
       "    <tr>\n",
       "      <th>2</th>\n",
       "      <td>001E72F50D1C48FA</td>\n",
       "      <td>A</td>\n",
       "      <td>interface_eu_test</td>\n",
       "      <td>Mac</td>\n",
       "      <td>2020-12-17 15:44:05</td>\n",
       "      <td>registration</td>\n",
       "      <td>-3.61</td>\n",
       "      <td>2020-12-17 15:44:05</td>\n",
       "    </tr>\n",
       "    <tr>\n",
       "      <th>3</th>\n",
       "      <td>002412F1EB3F6E38</td>\n",
       "      <td>B</td>\n",
       "      <td>interface_eu_test</td>\n",
       "      <td>Mac</td>\n",
       "      <td>2020-12-09 09:36:50</td>\n",
       "      <td>registration</td>\n",
       "      <td>-0.48</td>\n",
       "      <td>2020-12-09 09:36:50</td>\n",
       "    </tr>\n",
       "    <tr>\n",
       "      <th>4</th>\n",
       "      <td>002540BE89C930FB</td>\n",
       "      <td>B</td>\n",
       "      <td>interface_eu_test</td>\n",
       "      <td>Android</td>\n",
       "      <td>2020-12-08 18:06:07</td>\n",
       "      <td>registration</td>\n",
       "      <td>-2.38</td>\n",
       "      <td>2020-12-08 18:06:07</td>\n",
       "    </tr>\n",
       "    <tr>\n",
       "      <th>...</th>\n",
       "      <td>...</td>\n",
       "      <td>...</td>\n",
       "      <td>...</td>\n",
       "      <td>...</td>\n",
       "      <td>...</td>\n",
       "      <td>...</td>\n",
       "      <td>...</td>\n",
       "      <td>...</td>\n",
       "    </tr>\n",
       "    <tr>\n",
       "      <th>21070</th>\n",
       "      <td>FFE7FC140521F5F6</td>\n",
       "      <td>A</td>\n",
       "      <td>interface_eu_test</td>\n",
       "      <td>PC</td>\n",
       "      <td>2020-12-26 14:37:21</td>\n",
       "      <td>purchase</td>\n",
       "      <td>4.49</td>\n",
       "      <td>2020-12-23 09:10:16</td>\n",
       "    </tr>\n",
       "    <tr>\n",
       "      <th>21071</th>\n",
       "      <td>FFE7FC140521F5F6</td>\n",
       "      <td>A</td>\n",
       "      <td>interface_eu_test</td>\n",
       "      <td>PC</td>\n",
       "      <td>2020-12-26 14:37:51</td>\n",
       "      <td>purchase</td>\n",
       "      <td>4.49</td>\n",
       "      <td>2020-12-23 09:10:16</td>\n",
       "    </tr>\n",
       "    <tr>\n",
       "      <th>21072</th>\n",
       "      <td>FFEFC0E55C1CCD4F</td>\n",
       "      <td>A</td>\n",
       "      <td>interface_eu_test</td>\n",
       "      <td>PC</td>\n",
       "      <td>2020-12-13 23:52:15</td>\n",
       "      <td>registration</td>\n",
       "      <td>0.0</td>\n",
       "      <td>2020-12-13 23:52:15</td>\n",
       "    </tr>\n",
       "    <tr>\n",
       "      <th>21073</th>\n",
       "      <td>FFF28D02B1EACBE1</td>\n",
       "      <td>B</td>\n",
       "      <td>interface_eu_test</td>\n",
       "      <td>PC</td>\n",
       "      <td>2020-12-16 08:23:56</td>\n",
       "      <td>registration</td>\n",
       "      <td>-0.45</td>\n",
       "      <td>2020-12-16 08:23:56</td>\n",
       "    </tr>\n",
       "    <tr>\n",
       "      <th>21074</th>\n",
       "      <td>FFF58BC33966EB51</td>\n",
       "      <td>A</td>\n",
       "      <td>interface_eu_test</td>\n",
       "      <td>Android</td>\n",
       "      <td>2020-12-13 17:37:34</td>\n",
       "      <td>registration</td>\n",
       "      <td>-0.45</td>\n",
       "      <td>2020-12-13 17:37:34</td>\n",
       "    </tr>\n",
       "  </tbody>\n",
       "</table>\n",
       "<p>21075 rows × 8 columns</p>\n",
       "</div>"
      ],
      "text/plain": [
       "                user_id group            ab_test   device          event_dt_x  \\\n",
       "0      0002CE61FF2C4011     B  interface_eu_test      Mac 2020-12-07 04:37:31   \n",
       "1      001064FEAAB631A1     A  interface_eu_test  Android 2020-12-20 14:12:45   \n",
       "2      001E72F50D1C48FA     A  interface_eu_test      Mac 2020-12-17 15:44:05   \n",
       "3      002412F1EB3F6E38     B  interface_eu_test      Mac 2020-12-09 09:36:50   \n",
       "4      002540BE89C930FB     B  interface_eu_test  Android 2020-12-08 18:06:07   \n",
       "...                 ...   ...                ...      ...                 ...   \n",
       "21070  FFE7FC140521F5F6     A  interface_eu_test       PC 2020-12-26 14:37:21   \n",
       "21071  FFE7FC140521F5F6     A  interface_eu_test       PC 2020-12-26 14:37:51   \n",
       "21072  FFEFC0E55C1CCD4F     A  interface_eu_test       PC 2020-12-13 23:52:15   \n",
       "21073  FFF28D02B1EACBE1     B  interface_eu_test       PC 2020-12-16 08:23:56   \n",
       "21074  FFF58BC33966EB51     A  interface_eu_test  Android 2020-12-13 17:37:34   \n",
       "\n",
       "         event_name details          event_dt_y  \n",
       "0      registration   -2.38 2020-12-07 04:37:31  \n",
       "1      registration   -2.14 2020-12-20 14:12:45  \n",
       "2      registration   -3.61 2020-12-17 15:44:05  \n",
       "3      registration   -0.48 2020-12-09 09:36:50  \n",
       "4      registration   -2.38 2020-12-08 18:06:07  \n",
       "...             ...     ...                 ...  \n",
       "21070      purchase    4.49 2020-12-23 09:10:16  \n",
       "21071      purchase    4.49 2020-12-23 09:10:16  \n",
       "21072  registration     0.0 2020-12-13 23:52:15  \n",
       "21073  registration   -0.45 2020-12-16 08:23:56  \n",
       "21074  registration   -0.45 2020-12-13 17:37:34  \n",
       "\n",
       "[21075 rows x 8 columns]"
      ]
     },
     "execution_count": 28,
     "metadata": {},
     "output_type": "execute_result"
    }
   ],
   "source": [
    "# При присоединим полученный датафрейм с датой регистрацией пользователей с основному датафрейму\n",
    "interface_test = interface_test.merge(registration_date, on='user_id', how='left')\n",
    "\n",
    "# Выведем обновлённый датафрейм\n",
    "interface_test"
   ]
  },
  {
   "cell_type": "markdown",
   "id": "8f6a2dac",
   "metadata": {},
   "source": [
    "Рассчитаем разницу между датой события и датой регистрации."
   ]
  },
  {
   "cell_type": "code",
   "execution_count": 29,
   "id": "0bafb574",
   "metadata": {},
   "outputs": [
    {
     "data": {
      "text/html": [
       "<div>\n",
       "<style scoped>\n",
       "    .dataframe tbody tr th:only-of-type {\n",
       "        vertical-align: middle;\n",
       "    }\n",
       "\n",
       "    .dataframe tbody tr th {\n",
       "        vertical-align: top;\n",
       "    }\n",
       "\n",
       "    .dataframe thead th {\n",
       "        text-align: right;\n",
       "    }\n",
       "</style>\n",
       "<table border=\"1\" class=\"dataframe\">\n",
       "  <thead>\n",
       "    <tr style=\"text-align: right;\">\n",
       "      <th></th>\n",
       "      <th>user_id</th>\n",
       "      <th>group</th>\n",
       "      <th>ab_test</th>\n",
       "      <th>device</th>\n",
       "      <th>event_dt_x</th>\n",
       "      <th>event_name</th>\n",
       "      <th>details</th>\n",
       "      <th>event_dt_y</th>\n",
       "      <th>days_since_reg</th>\n",
       "    </tr>\n",
       "  </thead>\n",
       "  <tbody>\n",
       "    <tr>\n",
       "      <th>0</th>\n",
       "      <td>0002CE61FF2C4011</td>\n",
       "      <td>B</td>\n",
       "      <td>interface_eu_test</td>\n",
       "      <td>Mac</td>\n",
       "      <td>2020-12-07 04:37:31</td>\n",
       "      <td>registration</td>\n",
       "      <td>-2.38</td>\n",
       "      <td>2020-12-07 04:37:31</td>\n",
       "      <td>0 days 00:00:00</td>\n",
       "    </tr>\n",
       "    <tr>\n",
       "      <th>1</th>\n",
       "      <td>001064FEAAB631A1</td>\n",
       "      <td>A</td>\n",
       "      <td>interface_eu_test</td>\n",
       "      <td>Android</td>\n",
       "      <td>2020-12-20 14:12:45</td>\n",
       "      <td>registration</td>\n",
       "      <td>-2.14</td>\n",
       "      <td>2020-12-20 14:12:45</td>\n",
       "      <td>0 days 00:00:00</td>\n",
       "    </tr>\n",
       "    <tr>\n",
       "      <th>2</th>\n",
       "      <td>001E72F50D1C48FA</td>\n",
       "      <td>A</td>\n",
       "      <td>interface_eu_test</td>\n",
       "      <td>Mac</td>\n",
       "      <td>2020-12-17 15:44:05</td>\n",
       "      <td>registration</td>\n",
       "      <td>-3.61</td>\n",
       "      <td>2020-12-17 15:44:05</td>\n",
       "      <td>0 days 00:00:00</td>\n",
       "    </tr>\n",
       "    <tr>\n",
       "      <th>3</th>\n",
       "      <td>002412F1EB3F6E38</td>\n",
       "      <td>B</td>\n",
       "      <td>interface_eu_test</td>\n",
       "      <td>Mac</td>\n",
       "      <td>2020-12-09 09:36:50</td>\n",
       "      <td>registration</td>\n",
       "      <td>-0.48</td>\n",
       "      <td>2020-12-09 09:36:50</td>\n",
       "      <td>0 days 00:00:00</td>\n",
       "    </tr>\n",
       "    <tr>\n",
       "      <th>4</th>\n",
       "      <td>002540BE89C930FB</td>\n",
       "      <td>B</td>\n",
       "      <td>interface_eu_test</td>\n",
       "      <td>Android</td>\n",
       "      <td>2020-12-08 18:06:07</td>\n",
       "      <td>registration</td>\n",
       "      <td>-2.38</td>\n",
       "      <td>2020-12-08 18:06:07</td>\n",
       "      <td>0 days 00:00:00</td>\n",
       "    </tr>\n",
       "    <tr>\n",
       "      <th>...</th>\n",
       "      <td>...</td>\n",
       "      <td>...</td>\n",
       "      <td>...</td>\n",
       "      <td>...</td>\n",
       "      <td>...</td>\n",
       "      <td>...</td>\n",
       "      <td>...</td>\n",
       "      <td>...</td>\n",
       "      <td>...</td>\n",
       "    </tr>\n",
       "    <tr>\n",
       "      <th>21070</th>\n",
       "      <td>FFE7FC140521F5F6</td>\n",
       "      <td>A</td>\n",
       "      <td>interface_eu_test</td>\n",
       "      <td>PC</td>\n",
       "      <td>2020-12-26 14:37:21</td>\n",
       "      <td>purchase</td>\n",
       "      <td>4.49</td>\n",
       "      <td>2020-12-23 09:10:16</td>\n",
       "      <td>3 days 05:27:05</td>\n",
       "    </tr>\n",
       "    <tr>\n",
       "      <th>21071</th>\n",
       "      <td>FFE7FC140521F5F6</td>\n",
       "      <td>A</td>\n",
       "      <td>interface_eu_test</td>\n",
       "      <td>PC</td>\n",
       "      <td>2020-12-26 14:37:51</td>\n",
       "      <td>purchase</td>\n",
       "      <td>4.49</td>\n",
       "      <td>2020-12-23 09:10:16</td>\n",
       "      <td>3 days 05:27:35</td>\n",
       "    </tr>\n",
       "    <tr>\n",
       "      <th>21072</th>\n",
       "      <td>FFEFC0E55C1CCD4F</td>\n",
       "      <td>A</td>\n",
       "      <td>interface_eu_test</td>\n",
       "      <td>PC</td>\n",
       "      <td>2020-12-13 23:52:15</td>\n",
       "      <td>registration</td>\n",
       "      <td>0.0</td>\n",
       "      <td>2020-12-13 23:52:15</td>\n",
       "      <td>0 days 00:00:00</td>\n",
       "    </tr>\n",
       "    <tr>\n",
       "      <th>21073</th>\n",
       "      <td>FFF28D02B1EACBE1</td>\n",
       "      <td>B</td>\n",
       "      <td>interface_eu_test</td>\n",
       "      <td>PC</td>\n",
       "      <td>2020-12-16 08:23:56</td>\n",
       "      <td>registration</td>\n",
       "      <td>-0.45</td>\n",
       "      <td>2020-12-16 08:23:56</td>\n",
       "      <td>0 days 00:00:00</td>\n",
       "    </tr>\n",
       "    <tr>\n",
       "      <th>21074</th>\n",
       "      <td>FFF58BC33966EB51</td>\n",
       "      <td>A</td>\n",
       "      <td>interface_eu_test</td>\n",
       "      <td>Android</td>\n",
       "      <td>2020-12-13 17:37:34</td>\n",
       "      <td>registration</td>\n",
       "      <td>-0.45</td>\n",
       "      <td>2020-12-13 17:37:34</td>\n",
       "      <td>0 days 00:00:00</td>\n",
       "    </tr>\n",
       "  </tbody>\n",
       "</table>\n",
       "<p>21075 rows × 9 columns</p>\n",
       "</div>"
      ],
      "text/plain": [
       "                user_id group            ab_test   device          event_dt_x  \\\n",
       "0      0002CE61FF2C4011     B  interface_eu_test      Mac 2020-12-07 04:37:31   \n",
       "1      001064FEAAB631A1     A  interface_eu_test  Android 2020-12-20 14:12:45   \n",
       "2      001E72F50D1C48FA     A  interface_eu_test      Mac 2020-12-17 15:44:05   \n",
       "3      002412F1EB3F6E38     B  interface_eu_test      Mac 2020-12-09 09:36:50   \n",
       "4      002540BE89C930FB     B  interface_eu_test  Android 2020-12-08 18:06:07   \n",
       "...                 ...   ...                ...      ...                 ...   \n",
       "21070  FFE7FC140521F5F6     A  interface_eu_test       PC 2020-12-26 14:37:21   \n",
       "21071  FFE7FC140521F5F6     A  interface_eu_test       PC 2020-12-26 14:37:51   \n",
       "21072  FFEFC0E55C1CCD4F     A  interface_eu_test       PC 2020-12-13 23:52:15   \n",
       "21073  FFF28D02B1EACBE1     B  interface_eu_test       PC 2020-12-16 08:23:56   \n",
       "21074  FFF58BC33966EB51     A  interface_eu_test  Android 2020-12-13 17:37:34   \n",
       "\n",
       "         event_name details          event_dt_y  days_since_reg  \n",
       "0      registration   -2.38 2020-12-07 04:37:31 0 days 00:00:00  \n",
       "1      registration   -2.14 2020-12-20 14:12:45 0 days 00:00:00  \n",
       "2      registration   -3.61 2020-12-17 15:44:05 0 days 00:00:00  \n",
       "3      registration   -0.48 2020-12-09 09:36:50 0 days 00:00:00  \n",
       "4      registration   -2.38 2020-12-08 18:06:07 0 days 00:00:00  \n",
       "...             ...     ...                 ...             ...  \n",
       "21070      purchase    4.49 2020-12-23 09:10:16 3 days 05:27:05  \n",
       "21071      purchase    4.49 2020-12-23 09:10:16 3 days 05:27:35  \n",
       "21072  registration     0.0 2020-12-13 23:52:15 0 days 00:00:00  \n",
       "21073  registration   -0.45 2020-12-16 08:23:56 0 days 00:00:00  \n",
       "21074  registration   -0.45 2020-12-13 17:37:34 0 days 00:00:00  \n",
       "\n",
       "[21075 rows x 9 columns]"
      ]
     },
     "execution_count": 29,
     "metadata": {},
     "output_type": "execute_result"
    }
   ],
   "source": [
    "# Создадим столбец days_since_reg с разницей между датой события и датой регистрации\n",
    "interface_test['days_since_reg'] = interface_test['event_dt_x'] - interface_test['event_dt_y']\n",
    "\n",
    "# Выведем обновлённый датафрейм\n",
    "interface_test"
   ]
  },
  {
   "cell_type": "markdown",
   "id": "8b891e30",
   "metadata": {},
   "source": [
    "Далее выделим только те события, у которых разница между датой события и датой регистрации не более 7 дней."
   ]
  },
  {
   "cell_type": "code",
   "execution_count": 30,
   "id": "53fb22f4",
   "metadata": {},
   "outputs": [
    {
     "data": {
      "text/html": [
       "<div>\n",
       "<style scoped>\n",
       "    .dataframe tbody tr th:only-of-type {\n",
       "        vertical-align: middle;\n",
       "    }\n",
       "\n",
       "    .dataframe tbody tr th {\n",
       "        vertical-align: top;\n",
       "    }\n",
       "\n",
       "    .dataframe thead th {\n",
       "        text-align: right;\n",
       "    }\n",
       "</style>\n",
       "<table border=\"1\" class=\"dataframe\">\n",
       "  <thead>\n",
       "    <tr style=\"text-align: right;\">\n",
       "      <th></th>\n",
       "      <th>user_id</th>\n",
       "      <th>group</th>\n",
       "      <th>ab_test</th>\n",
       "      <th>device</th>\n",
       "      <th>event_dt_x</th>\n",
       "      <th>event_name</th>\n",
       "      <th>details</th>\n",
       "      <th>event_dt_y</th>\n",
       "      <th>days_since_reg</th>\n",
       "    </tr>\n",
       "  </thead>\n",
       "  <tbody>\n",
       "    <tr>\n",
       "      <th>0</th>\n",
       "      <td>0002CE61FF2C4011</td>\n",
       "      <td>B</td>\n",
       "      <td>interface_eu_test</td>\n",
       "      <td>Mac</td>\n",
       "      <td>2020-12-07 04:37:31</td>\n",
       "      <td>registration</td>\n",
       "      <td>-2.38</td>\n",
       "      <td>2020-12-07 04:37:31</td>\n",
       "      <td>0 days 00:00:00</td>\n",
       "    </tr>\n",
       "    <tr>\n",
       "      <th>1</th>\n",
       "      <td>001064FEAAB631A1</td>\n",
       "      <td>A</td>\n",
       "      <td>interface_eu_test</td>\n",
       "      <td>Android</td>\n",
       "      <td>2020-12-20 14:12:45</td>\n",
       "      <td>registration</td>\n",
       "      <td>-2.14</td>\n",
       "      <td>2020-12-20 14:12:45</td>\n",
       "      <td>0 days 00:00:00</td>\n",
       "    </tr>\n",
       "    <tr>\n",
       "      <th>2</th>\n",
       "      <td>001E72F50D1C48FA</td>\n",
       "      <td>A</td>\n",
       "      <td>interface_eu_test</td>\n",
       "      <td>Mac</td>\n",
       "      <td>2020-12-17 15:44:05</td>\n",
       "      <td>registration</td>\n",
       "      <td>-3.61</td>\n",
       "      <td>2020-12-17 15:44:05</td>\n",
       "      <td>0 days 00:00:00</td>\n",
       "    </tr>\n",
       "    <tr>\n",
       "      <th>3</th>\n",
       "      <td>002412F1EB3F6E38</td>\n",
       "      <td>B</td>\n",
       "      <td>interface_eu_test</td>\n",
       "      <td>Mac</td>\n",
       "      <td>2020-12-09 09:36:50</td>\n",
       "      <td>registration</td>\n",
       "      <td>-0.48</td>\n",
       "      <td>2020-12-09 09:36:50</td>\n",
       "      <td>0 days 00:00:00</td>\n",
       "    </tr>\n",
       "    <tr>\n",
       "      <th>4</th>\n",
       "      <td>002540BE89C930FB</td>\n",
       "      <td>B</td>\n",
       "      <td>interface_eu_test</td>\n",
       "      <td>Android</td>\n",
       "      <td>2020-12-08 18:06:07</td>\n",
       "      <td>registration</td>\n",
       "      <td>-2.38</td>\n",
       "      <td>2020-12-08 18:06:07</td>\n",
       "      <td>0 days 00:00:00</td>\n",
       "    </tr>\n",
       "    <tr>\n",
       "      <th>...</th>\n",
       "      <td>...</td>\n",
       "      <td>...</td>\n",
       "      <td>...</td>\n",
       "      <td>...</td>\n",
       "      <td>...</td>\n",
       "      <td>...</td>\n",
       "      <td>...</td>\n",
       "      <td>...</td>\n",
       "      <td>...</td>\n",
       "    </tr>\n",
       "    <tr>\n",
       "      <th>21070</th>\n",
       "      <td>FFE7FC140521F5F6</td>\n",
       "      <td>A</td>\n",
       "      <td>interface_eu_test</td>\n",
       "      <td>PC</td>\n",
       "      <td>2020-12-26 14:37:21</td>\n",
       "      <td>purchase</td>\n",
       "      <td>4.49</td>\n",
       "      <td>2020-12-23 09:10:16</td>\n",
       "      <td>3 days 05:27:05</td>\n",
       "    </tr>\n",
       "    <tr>\n",
       "      <th>21071</th>\n",
       "      <td>FFE7FC140521F5F6</td>\n",
       "      <td>A</td>\n",
       "      <td>interface_eu_test</td>\n",
       "      <td>PC</td>\n",
       "      <td>2020-12-26 14:37:51</td>\n",
       "      <td>purchase</td>\n",
       "      <td>4.49</td>\n",
       "      <td>2020-12-23 09:10:16</td>\n",
       "      <td>3 days 05:27:35</td>\n",
       "    </tr>\n",
       "    <tr>\n",
       "      <th>21072</th>\n",
       "      <td>FFEFC0E55C1CCD4F</td>\n",
       "      <td>A</td>\n",
       "      <td>interface_eu_test</td>\n",
       "      <td>PC</td>\n",
       "      <td>2020-12-13 23:52:15</td>\n",
       "      <td>registration</td>\n",
       "      <td>0.0</td>\n",
       "      <td>2020-12-13 23:52:15</td>\n",
       "      <td>0 days 00:00:00</td>\n",
       "    </tr>\n",
       "    <tr>\n",
       "      <th>21073</th>\n",
       "      <td>FFF28D02B1EACBE1</td>\n",
       "      <td>B</td>\n",
       "      <td>interface_eu_test</td>\n",
       "      <td>PC</td>\n",
       "      <td>2020-12-16 08:23:56</td>\n",
       "      <td>registration</td>\n",
       "      <td>-0.45</td>\n",
       "      <td>2020-12-16 08:23:56</td>\n",
       "      <td>0 days 00:00:00</td>\n",
       "    </tr>\n",
       "    <tr>\n",
       "      <th>21074</th>\n",
       "      <td>FFF58BC33966EB51</td>\n",
       "      <td>A</td>\n",
       "      <td>interface_eu_test</td>\n",
       "      <td>Android</td>\n",
       "      <td>2020-12-13 17:37:34</td>\n",
       "      <td>registration</td>\n",
       "      <td>-0.45</td>\n",
       "      <td>2020-12-13 17:37:34</td>\n",
       "      <td>0 days 00:00:00</td>\n",
       "    </tr>\n",
       "  </tbody>\n",
       "</table>\n",
       "<p>17473 rows × 9 columns</p>\n",
       "</div>"
      ],
      "text/plain": [
       "                user_id group            ab_test   device          event_dt_x  \\\n",
       "0      0002CE61FF2C4011     B  interface_eu_test      Mac 2020-12-07 04:37:31   \n",
       "1      001064FEAAB631A1     A  interface_eu_test  Android 2020-12-20 14:12:45   \n",
       "2      001E72F50D1C48FA     A  interface_eu_test      Mac 2020-12-17 15:44:05   \n",
       "3      002412F1EB3F6E38     B  interface_eu_test      Mac 2020-12-09 09:36:50   \n",
       "4      002540BE89C930FB     B  interface_eu_test  Android 2020-12-08 18:06:07   \n",
       "...                 ...   ...                ...      ...                 ...   \n",
       "21070  FFE7FC140521F5F6     A  interface_eu_test       PC 2020-12-26 14:37:21   \n",
       "21071  FFE7FC140521F5F6     A  interface_eu_test       PC 2020-12-26 14:37:51   \n",
       "21072  FFEFC0E55C1CCD4F     A  interface_eu_test       PC 2020-12-13 23:52:15   \n",
       "21073  FFF28D02B1EACBE1     B  interface_eu_test       PC 2020-12-16 08:23:56   \n",
       "21074  FFF58BC33966EB51     A  interface_eu_test  Android 2020-12-13 17:37:34   \n",
       "\n",
       "         event_name details          event_dt_y  days_since_reg  \n",
       "0      registration   -2.38 2020-12-07 04:37:31 0 days 00:00:00  \n",
       "1      registration   -2.14 2020-12-20 14:12:45 0 days 00:00:00  \n",
       "2      registration   -3.61 2020-12-17 15:44:05 0 days 00:00:00  \n",
       "3      registration   -0.48 2020-12-09 09:36:50 0 days 00:00:00  \n",
       "4      registration   -2.38 2020-12-08 18:06:07 0 days 00:00:00  \n",
       "...             ...     ...                 ...             ...  \n",
       "21070      purchase    4.49 2020-12-23 09:10:16 3 days 05:27:05  \n",
       "21071      purchase    4.49 2020-12-23 09:10:16 3 days 05:27:35  \n",
       "21072  registration     0.0 2020-12-13 23:52:15 0 days 00:00:00  \n",
       "21073  registration   -0.45 2020-12-16 08:23:56 0 days 00:00:00  \n",
       "21074  registration   -0.45 2020-12-13 17:37:34 0 days 00:00:00  \n",
       "\n",
       "[17473 rows x 9 columns]"
      ]
     },
     "execution_count": 30,
     "metadata": {},
     "output_type": "execute_result"
    }
   ],
   "source": [
    "# Создадим датафрейм с событиями, у которых разница между датой события и датой регистрации не превышает 7 дней\n",
    "interface_test_7_days=interface_test[interface_test['days_since_reg']<='7 days 00:00:00']\n",
    "\n",
    "# Выведем полученный датафрейм\n",
    "interface_test_7_days"
   ]
  },
  {
   "cell_type": "markdown",
   "id": "97007404",
   "metadata": {},
   "source": [
    "В соответствии с калькулятором Эвана Миллера (https://www.evanmiller.org/ab-testing/sample-size.html) размер выборки на каждую группу должен составить 3692. При расчётах в графе `Baseline conversion rate` необходимо указать 30%, в графе `Minimum Detectable Effect` 3%, также необходимо выбрать опцию `Absolute`, что  указать размер эффекта в абсолютном выражении.\n",
    "\n",
    "В графе `Statistical power 1−β` указывается 80%, в `Significance level α` 5%."
   ]
  },
  {
   "cell_type": "markdown",
   "id": "b8d8ccff",
   "metadata": {},
   "source": [
    "Посчитаем количество пользователей в каждой группе."
   ]
  },
  {
   "cell_type": "code",
   "execution_count": 33,
   "id": "7ph853Xks4sy",
   "metadata": {
    "id": "7ph853Xks4sy"
   },
   "outputs": [
    {
     "data": {
      "text/plain": [
       "group\n",
       "A    5383\n",
       "B    5467\n",
       "Name: user_id, dtype: int64"
      ]
     },
     "execution_count": 33,
     "metadata": {},
     "output_type": "execute_result"
    }
   ],
   "source": [
    "# Посчитаем количество пользователей в каждой группе\n",
    "interface_test_7_days.groupby('group')['user_id'].nunique()"
   ]
  },
  {
   "cell_type": "markdown",
   "id": "af38f536",
   "metadata": {},
   "source": [
    "Таким образом, размеры выборок достаточны с полученным значением выборки по калькулятору Эвана Миллера(3692 на группу).\n",
    "\n",
    "Далее выведем численность пользователей в каждой группе, совершивших покупку."
   ]
  },
  {
   "cell_type": "code",
   "execution_count": 34,
   "id": "eecc79f7",
   "metadata": {},
   "outputs": [
    {
     "data": {
      "text/plain": [
       "group\n",
       "A    1480\n",
       "B    1600\n",
       "Name: user_id, dtype: int64"
      ]
     },
     "execution_count": 34,
     "metadata": {},
     "output_type": "execute_result"
    }
   ],
   "source": [
    "# Выведем численность пользователей в каждой группе, совершивших покупку\n",
    "interface_test_7_days[interface_test_7_days['event_name']=='purchase'].groupby('group')['user_id'].nunique()"
   ]
  },
  {
   "cell_type": "code",
   "execution_count": 35,
   "id": "hHTHPkJYs8mE",
   "metadata": {
    "id": "hHTHPkJYs8mE"
   },
   "outputs": [
    {
     "data": {
      "text/plain": [
       "group\n",
       "A    0.274940\n",
       "B    0.292665\n",
       "Name: user_id, dtype: float64"
      ]
     },
     "metadata": {},
     "output_type": "display_data"
    },
    {
     "data": {
      "text/plain": [
       "0.017725456652909533"
      ]
     },
     "metadata": {},
     "output_type": "display_data"
    }
   ],
   "source": [
    "# Выведем уровень конверсии для каждой группы\n",
    "display(interface_test_7_days[interface_test_7_days['event_name']=='purchase'].groupby('group')['user_id'].nunique()/interface_test_7_days.groupby('group')['user_id'].nunique())\n",
    "\n",
    "display(interface_test_7_days[(interface_test_7_days['event_name']=='purchase')&(interface_test_7_days['group']=='B')]['user_id'].nunique()/interface_test_7_days[interface_test_7_days['group']=='B']['user_id'].nunique()-       interface_test_7_days[(interface_test_7_days['event_name']=='purchase')&(interface_test_7_days['group']=='A')]['user_id'].nunique()/interface_test_7_days[interface_test_7_days['group']=='A']['user_id'].nunique())"
   ]
  },
  {
   "cell_type": "markdown",
   "id": "d4cc139a",
   "metadata": {},
   "source": [
    "В результате конверсия для пользователей тестовой группы составила 29,3%, в то время как для контрольной - 27,5%. Разница составила 1,8%, что ниже ожидаемого эффекта 3%."
   ]
  },
  {
   "cell_type": "markdown",
   "id": "4e55c732",
   "metadata": {},
   "source": [
    "### Промежуточный вывод\n",
    "\n",
    "В данном разделе была проанализирована корректность проведения теста, в том числе была равномерность распределения пользователей по группам теста. Выявленная разница между группами оказалось незначительной. Далее была проведена проверка выборок на дубликаты и перечня, после чего изучена распределение между устройствами, с которых осуществлялась регистрация, в обеих группах. Также дополнительно было рассмотрено пересечение с конкурирующим тестом `recommender_system_test`. В ходе проверки пересечений выявлено не было.\n",
    "\n",
    "На следующем этапе были проанализированы данные о пользовательской активности. Были выделены в отдельный датафрейм события,  связанные с участвующими в изучаемом тесте пользователями. После чего было рассчитано время  совершения события пользователем после регистрации и оставлены только те события, которые были выполнены в течение первых семи дней с момента регистрации.\n",
    "\n",
    "Далее с помощью калькулятора Эвана Миллера был оценён размер выборки для каждой группы. В результате расчётов размер выборки должен составить 3692 наблюдения на группу. Размеры  имеющихся выборок оказались достаточны в соответствии с полученным значением по калькулятору: размер группа А - 5383, группы В - 5467. Численность пользователей, совершивших покупку, составила в группе A - 1480, в группе B - 1600. В результате конверсия зарегистрированных пользователей в покупателей для группы А составила 27,5%, для группы B - 29,3%, разница 1,8% оказалась ниже ожидаемой (3%)."
   ]
  },
  {
   "cell_type": "markdown",
   "id": "IKZ1Oo3Ws919",
   "metadata": {
    "id": "IKZ1Oo3Ws919"
   },
   "source": [
    "## 4. Проведите оценку результатов A/B-тестирования:"
   ]
  },
  {
   "cell_type": "markdown",
   "id": "e309fdc9",
   "metadata": {
    "id": "l_KOziBQtL3t"
   },
   "source": [
    "Для оценки статистической значимости необходимо сформулировать нулевую и альтернативную гипотезы. В качестве целевой метрики рассматривается конверсия зарегистрированных пользователей  покупатели в течение семи дней после регистрации.\n",
    "\n",
    "Нулевая гипотеза H₀: Конверсия зарегистрированных пользователей в двух группах (до и после изменения интерфейса) не различается.\n",
    "\n",
    "Альтернативная гипотеза H₁:  Конверсия зарегистрированных пользователей с обновленным интерфейсом больше, чем конверсия зарегистрированных пользователей со старым интерфейсом, и это различие статистически значимо.\n",
    "\n",
    "Поскольку в качестве целевой метрики мы рассматриваем конверсию зарегистрированных в пользователей, имеется конкретный признак, по которому осуществляется оценка количества успехов в выборках (осуществление покупки) в качестве статистического теста будет использован Z-тест пропорций.\n",
    "\n",
    "Для этого необходимо провести оценку достаточности размера каждой из выборок."
   ]
  },
  {
   "cell_type": "code",
   "execution_count": 36,
   "id": "2c9f9427",
   "metadata": {},
   "outputs": [
    {
     "name": "stdout",
     "output_type": "stream",
     "text": [
      "n_a=5383, n_b=5467\n",
      "m_a=1480, m_b=1600\n",
      "p_a=0.27493962474456624, p_b=0.29266508139747577\n",
      "Предпосылка о достаточном количестве данных выполняется!\n"
     ]
    }
   ],
   "source": [
    "# Рассчитаем размер выборки для контрольной группы\n",
    "n_a = interface_test_7_days[interface_test_7_days['group'] == 'A']['user_id'].nunique()\n",
    "\n",
    "# Рассчитаем размер выборки для тестовой группы\n",
    "n_b = interface_test_7_days[interface_test_7_days['group'] == 'B']['user_id'].nunique()\n",
    "\n",
    "# Рассчитаем количество для контрольной группы\n",
    "m_a = interface_test_7_days[(interface_test_7_days['event_name']=='purchase')&(interface_test_7_days['group']=='A')]['user_id'].nunique()\n",
    "\n",
    "interface_test_7_days[(interface_test_7_days['event_name']=='purchase')&(interface_test_7_days['group']=='B')]['user_id'].nunique()\n",
    "# Рассчитаем количество для тестовой группы\n",
    "m_b = interface_test_7_days[(interface_test_7_days['event_name']=='purchase')&(interface_test_7_days['group']=='B')]['user_id'].nunique()\n",
    "\n",
    "# Рассчитаем доли успехов для каждой группы: A и B\n",
    "p_a, p_b = m_a/n_a, m_b/n_b \n",
    "\n",
    "print(f'n_a={n_a}, n_b={n_b}')\n",
    "\n",
    "print(f'm_a={m_a}, m_b={m_b}')\n",
    "\n",
    "\n",
    "print(f'p_a={p_a}, p_b={p_b}')\n",
    "\n",
    "\n",
    "if (p_a*n_a > 10)and((1-p_a)*n_a > 10)and(p_b*n_b > 10)and((1-p_b)*n_b > 10):\n",
    "    print('Предпосылка о достаточном количестве данных выполняется!')\n",
    "else:\n",
    "    print('Предпосылка о достаточном количестве данных НЕ выполняется!')"
   ]
  },
  {
   "cell_type": "markdown",
   "id": "d68eb311",
   "metadata": {},
   "source": [
    "Таким образом, имеющихся данных достаточно для проведения теста."
   ]
  },
  {
   "cell_type": "code",
   "execution_count": 37,
   "id": "3ff78967",
   "metadata": {},
   "outputs": [
    {
     "name": "stdout",
     "output_type": "stream",
     "text": [
      "pvalue=0.020306993983065475 < 0.05\n",
      "Нулевая гипотеза не находит подтверждения!\n"
     ]
    }
   ],
   "source": [
    "# Зададим уровень значимости\n",
    "alpha = 0.05\n",
    "\n",
    "stat_ztest, p_value_ztest = proportions_ztest(\n",
    "    [m_b, m_a],\n",
    "    [n_b, n_a],\n",
    "    alternative='larger' \n",
    ")\n",
    "p_value_ztest\n",
    "\n",
    "\n",
    "if p_value_ztest > alpha:\n",
    "    print(f'pvalue={p_value_ztest} > {alpha}')\n",
    "    print('Нулевая гипотеза находит подтверждение!')\n",
    "else:\n",
    "    print(f'pvalue={p_value_ztest} < {alpha}')\n",
    "    print('Нулевая гипотеза не находит подтверждения!')"
   ]
  },
  {
   "cell_type": "markdown",
   "id": "38898427",
   "metadata": {},
   "source": [
    "Было получено значение p-value, которое очень близко к нулю. Это означает, что нет оснований принимать нулевую гипотезу. Альтернативная гипотеза, согласно результатам статистического теста, находит подтверждение."
   ]
  },
  {
   "cell_type": "markdown",
   "id": "npoPPSKytKvR",
   "metadata": {
    "id": "npoPPSKytKvR"
   },
   "source": [
    "Таким образом, что существует статистически значимое различие между конверсиями в группах A и B и, в соответствии с альтернативной гипотезой, доля пользователей, совершивших покупки в течение семи дней после регистрации  выше в группе B. \n",
    "В результате чего можно сделать вывод, что созданный новый интерфейс способствует увеличению конверсии пользователей, однако ожидаемый уровень роста конверсии ниже ожидаемого уровня 3%. "
   ]
  },
  {
   "cell_type": "markdown",
   "id": "63b07728",
   "metadata": {},
   "source": [
    "### Промежуточный вывод\n",
    "\n",
    "В данном разделе было оценено изменение конверсии подходящим статистическим тестом. Поскольку в качестве целевой метрики мы рассматриваем конверсию зарегистрированных в пользователей, имеется конкретный признак, по которому осуществляется оценка количества успехов в выборках (осуществление покупки) в качестве статистического теста будет использован Z-тест пропорций. \n",
    "\n",
    "Для этого были выдвинута нулевая и альтернативная гипотезы, а также предварительно была проведена оценки достаточности выборки.\n",
    "В результате теста было получено значении p-value, близкое к нулю, что означает, что нет оснований отвергать нулевую гипотезу, и необходимо принять альтернативную, в соответствии с которой новый интерфейс способствует увеличению конверсии пользователей."
   ]
  },
  {
   "cell_type": "code",
   "execution_count": null,
   "id": "d0fe8222",
   "metadata": {},
   "outputs": [],
   "source": []
  }
 ],
 "metadata": {
  "ExecuteTimeLog": [
   {
    "duration": 82,
    "start_time": "2025-06-30T11:21:46.887Z"
   },
   {
    "duration": 832,
    "start_time": "2025-06-30T11:22:15.325Z"
   },
   {
    "duration": 52,
    "start_time": "2025-06-30T11:23:48.573Z"
   },
   {
    "duration": 50,
    "start_time": "2025-06-30T11:26:39.219Z"
   },
   {
    "duration": 13,
    "start_time": "2025-06-30T11:28:10.319Z"
   },
   {
    "duration": 105,
    "start_time": "2025-06-30T12:14:10.473Z"
   },
   {
    "duration": 11,
    "start_time": "2025-06-30T12:14:36.078Z"
   },
   {
    "duration": 7,
    "start_time": "2025-06-30T12:20:58.474Z"
   },
   {
    "duration": 84,
    "start_time": "2025-06-30T12:23:13.136Z"
   },
   {
    "duration": 224,
    "start_time": "2025-06-30T12:23:37.535Z"
   },
   {
    "duration": 222,
    "start_time": "2025-06-30T12:23:57.698Z"
   },
   {
    "duration": 78,
    "start_time": "2025-06-30T12:25:19.815Z"
   },
   {
    "duration": 191,
    "start_time": "2025-06-30T12:25:31.880Z"
   },
   {
    "duration": 230,
    "start_time": "2025-06-30T12:25:38.440Z"
   },
   {
    "duration": 229,
    "start_time": "2025-06-30T12:25:46.949Z"
   },
   {
    "duration": 211,
    "start_time": "2025-06-30T12:26:00.253Z"
   },
   {
    "duration": 207,
    "start_time": "2025-06-30T12:29:15.431Z"
   },
   {
    "duration": 10,
    "start_time": "2025-06-30T12:33:08.672Z"
   },
   {
    "duration": 4,
    "start_time": "2025-06-30T12:34:20.004Z"
   },
   {
    "duration": 10,
    "start_time": "2025-06-30T12:37:16.001Z"
   },
   {
    "duration": 10,
    "start_time": "2025-06-30T12:37:46.748Z"
   },
   {
    "duration": 5,
    "start_time": "2025-06-30T12:37:54.309Z"
   },
   {
    "duration": 4,
    "start_time": "2025-06-30T12:38:09.799Z"
   },
   {
    "duration": 3,
    "start_time": "2025-06-30T12:40:55.524Z"
   },
   {
    "duration": 7,
    "start_time": "2025-06-30T12:42:18.595Z"
   },
   {
    "duration": 22,
    "start_time": "2025-06-30T12:46:41.896Z"
   },
   {
    "duration": 15,
    "start_time": "2025-06-30T12:46:55.082Z"
   },
   {
    "duration": 9,
    "start_time": "2025-06-30T12:49:09.625Z"
   },
   {
    "duration": 836,
    "start_time": "2025-07-01T08:19:24.233Z"
   },
   {
    "duration": 59,
    "start_time": "2025-07-01T08:19:25.071Z"
   },
   {
    "duration": 19,
    "start_time": "2025-07-01T08:19:25.131Z"
   },
   {
    "duration": 17,
    "start_time": "2025-07-01T08:19:25.153Z"
   },
   {
    "duration": 218,
    "start_time": "2025-07-01T08:19:25.172Z"
   },
   {
    "duration": 8,
    "start_time": "2025-07-01T08:19:25.391Z"
   },
   {
    "duration": 72,
    "start_time": "2025-07-01T08:19:25.401Z"
   },
   {
    "duration": 14,
    "start_time": "2025-07-01T08:19:25.474Z"
   },
   {
    "duration": 8,
    "start_time": "2025-07-01T08:19:25.489Z"
   },
   {
    "duration": 1632,
    "start_time": "2025-07-01T08:19:25.498Z"
   },
   {
    "duration": 82,
    "start_time": "2025-07-01T08:19:39.004Z"
   },
   {
    "duration": 12,
    "start_time": "2025-07-01T08:20:13.602Z"
   },
   {
    "duration": 8,
    "start_time": "2025-07-01T08:20:25.426Z"
   },
   {
    "duration": 5,
    "start_time": "2025-07-01T08:42:24.110Z"
   },
   {
    "duration": 23,
    "start_time": "2025-07-01T08:42:30.144Z"
   },
   {
    "duration": 10,
    "start_time": "2025-07-01T08:42:53.414Z"
   },
   {
    "duration": 14,
    "start_time": "2025-07-01T08:43:12.614Z"
   },
   {
    "duration": 16,
    "start_time": "2025-07-01T08:43:28.256Z"
   },
   {
    "duration": 656,
    "start_time": "2025-07-01T08:47:44.274Z"
   },
   {
    "duration": 1135,
    "start_time": "2025-07-01T08:47:44.932Z"
   },
   {
    "duration": 12,
    "start_time": "2025-07-01T08:47:46.069Z"
   },
   {
    "duration": 84,
    "start_time": "2025-07-01T08:47:46.083Z"
   },
   {
    "duration": 226,
    "start_time": "2025-07-01T08:47:46.170Z"
   },
   {
    "duration": 1011,
    "start_time": "2025-07-01T08:47:46.397Z"
   },
   {
    "duration": 0,
    "start_time": "2025-07-01T08:47:47.411Z"
   },
   {
    "duration": 0,
    "start_time": "2025-07-01T08:47:47.412Z"
   },
   {
    "duration": 0,
    "start_time": "2025-07-01T08:47:47.414Z"
   },
   {
    "duration": 0,
    "start_time": "2025-07-01T08:47:47.415Z"
   },
   {
    "duration": 0,
    "start_time": "2025-07-01T08:47:47.417Z"
   },
   {
    "duration": 0,
    "start_time": "2025-07-01T08:47:47.418Z"
   },
   {
    "duration": 659,
    "start_time": "2025-07-01T08:47:56.045Z"
   },
   {
    "duration": 60,
    "start_time": "2025-07-01T08:47:56.706Z"
   },
   {
    "duration": 11,
    "start_time": "2025-07-01T08:47:56.767Z"
   },
   {
    "duration": 7,
    "start_time": "2025-07-01T08:47:56.780Z"
   },
   {
    "duration": 234,
    "start_time": "2025-07-01T08:47:56.789Z"
   },
   {
    "duration": 1446,
    "start_time": "2025-07-01T08:47:57.024Z"
   },
   {
    "duration": 0,
    "start_time": "2025-07-01T08:47:58.472Z"
   },
   {
    "duration": 0,
    "start_time": "2025-07-01T08:47:58.473Z"
   },
   {
    "duration": 0,
    "start_time": "2025-07-01T08:47:58.475Z"
   },
   {
    "duration": 0,
    "start_time": "2025-07-01T08:47:58.476Z"
   },
   {
    "duration": 0,
    "start_time": "2025-07-01T08:47:58.478Z"
   },
   {
    "duration": 0,
    "start_time": "2025-07-01T08:47:58.479Z"
   },
   {
    "duration": 694,
    "start_time": "2025-07-01T08:48:17.221Z"
   },
   {
    "duration": 78,
    "start_time": "2025-07-01T08:48:17.917Z"
   },
   {
    "duration": 61,
    "start_time": "2025-07-01T08:48:17.997Z"
   },
   {
    "duration": 6,
    "start_time": "2025-07-01T08:48:18.060Z"
   },
   {
    "duration": 234,
    "start_time": "2025-07-01T08:48:18.067Z"
   },
   {
    "duration": 776,
    "start_time": "2025-07-01T08:48:18.302Z"
   },
   {
    "duration": 0,
    "start_time": "2025-07-01T08:48:19.080Z"
   },
   {
    "duration": 0,
    "start_time": "2025-07-01T08:48:19.081Z"
   },
   {
    "duration": 0,
    "start_time": "2025-07-01T08:48:19.083Z"
   },
   {
    "duration": 0,
    "start_time": "2025-07-01T08:48:19.084Z"
   },
   {
    "duration": 0,
    "start_time": "2025-07-01T08:48:19.085Z"
   },
   {
    "duration": 0,
    "start_time": "2025-07-01T08:48:19.086Z"
   },
   {
    "duration": 731,
    "start_time": "2025-07-01T08:50:23.762Z"
   },
   {
    "duration": 732,
    "start_time": "2025-07-01T08:52:15.369Z"
   },
   {
    "duration": 709,
    "start_time": "2025-07-01T08:53:57.222Z"
   },
   {
    "duration": 746,
    "start_time": "2025-07-01T08:54:51.291Z"
   },
   {
    "duration": 74,
    "start_time": "2025-07-01T08:55:00.856Z"
   },
   {
    "duration": 679,
    "start_time": "2025-07-01T08:55:10.729Z"
   },
   {
    "duration": 728,
    "start_time": "2025-07-01T08:55:14.268Z"
   },
   {
    "duration": 690,
    "start_time": "2025-07-01T08:55:19.721Z"
   },
   {
    "duration": 924,
    "start_time": "2025-07-01T08:55:25.689Z"
   },
   {
    "duration": 744,
    "start_time": "2025-07-01T08:59:37.590Z"
   },
   {
    "duration": 626,
    "start_time": "2025-07-01T09:00:44.000Z"
   },
   {
    "duration": 68,
    "start_time": "2025-07-01T09:00:44.627Z"
   },
   {
    "duration": 12,
    "start_time": "2025-07-01T09:00:44.697Z"
   },
   {
    "duration": 21,
    "start_time": "2025-07-01T09:00:44.711Z"
   },
   {
    "duration": 241,
    "start_time": "2025-07-01T09:00:44.733Z"
   },
   {
    "duration": 7,
    "start_time": "2025-07-01T09:00:44.976Z"
   },
   {
    "duration": 231,
    "start_time": "2025-07-01T09:00:44.985Z"
   },
   {
    "duration": 9,
    "start_time": "2025-07-01T09:00:45.218Z"
   },
   {
    "duration": 15,
    "start_time": "2025-07-01T09:00:45.235Z"
   },
   {
    "duration": 7,
    "start_time": "2025-07-01T09:00:45.253Z"
   },
   {
    "duration": 19,
    "start_time": "2025-07-01T09:00:45.262Z"
   },
   {
    "duration": 34,
    "start_time": "2025-07-01T09:00:45.282Z"
   },
   {
    "duration": 1666,
    "start_time": "2025-07-01T09:00:45.317Z"
   },
   {
    "duration": 199,
    "start_time": "2025-07-01T09:08:22.461Z"
   },
   {
    "duration": 220,
    "start_time": "2025-07-01T09:08:34.634Z"
   },
   {
    "duration": 614,
    "start_time": "2025-07-01T09:12:38.276Z"
   },
   {
    "duration": 61,
    "start_time": "2025-07-01T09:12:38.892Z"
   },
   {
    "duration": 38,
    "start_time": "2025-07-01T09:12:38.954Z"
   },
   {
    "duration": 6,
    "start_time": "2025-07-01T09:12:38.994Z"
   },
   {
    "duration": 231,
    "start_time": "2025-07-01T09:12:39.001Z"
   },
   {
    "duration": 14,
    "start_time": "2025-07-01T09:12:39.233Z"
   },
   {
    "duration": 219,
    "start_time": "2025-07-01T09:12:39.250Z"
   },
   {
    "duration": 9,
    "start_time": "2025-07-01T09:12:39.470Z"
   },
   {
    "duration": 70,
    "start_time": "2025-07-01T09:12:39.480Z"
   },
   {
    "duration": 10,
    "start_time": "2025-07-01T09:12:39.552Z"
   },
   {
    "duration": 23,
    "start_time": "2025-07-01T09:12:39.563Z"
   },
   {
    "duration": 1608,
    "start_time": "2025-07-01T09:12:39.588Z"
   },
   {
    "duration": 9,
    "start_time": "2025-07-01T09:17:48.971Z"
   },
   {
    "duration": 17,
    "start_time": "2025-07-01T10:26:01.251Z"
   },
   {
    "duration": 16,
    "start_time": "2025-07-01T10:26:23.548Z"
   },
   {
    "duration": 13,
    "start_time": "2025-07-01T10:26:42.598Z"
   },
   {
    "duration": 11,
    "start_time": "2025-07-01T10:26:58.288Z"
   },
   {
    "duration": 12,
    "start_time": "2025-07-01T10:27:40.048Z"
   },
   {
    "duration": 28,
    "start_time": "2025-07-01T10:27:46.435Z"
   },
   {
    "duration": 77,
    "start_time": "2025-07-01T10:42:27.879Z"
   },
   {
    "duration": 1156,
    "start_time": "2025-07-01T10:42:53.056Z"
   },
   {
    "duration": 74,
    "start_time": "2025-07-01T10:42:54.214Z"
   },
   {
    "duration": 12,
    "start_time": "2025-07-01T10:42:54.290Z"
   },
   {
    "duration": 127,
    "start_time": "2025-07-01T10:42:54.304Z"
   },
   {
    "duration": 242,
    "start_time": "2025-07-01T10:42:54.433Z"
   },
   {
    "duration": 7,
    "start_time": "2025-07-01T10:42:54.677Z"
   },
   {
    "duration": 281,
    "start_time": "2025-07-01T10:42:54.686Z"
   },
   {
    "duration": 9,
    "start_time": "2025-07-01T10:42:54.969Z"
   },
   {
    "duration": 4,
    "start_time": "2025-07-01T10:42:54.979Z"
   },
   {
    "duration": 7,
    "start_time": "2025-07-01T10:42:54.985Z"
   },
   {
    "duration": 16,
    "start_time": "2025-07-01T10:42:54.994Z"
   },
   {
    "duration": 22,
    "start_time": "2025-07-01T10:42:55.041Z"
   },
   {
    "duration": 15,
    "start_time": "2025-07-01T10:42:55.065Z"
   },
   {
    "duration": 11,
    "start_time": "2025-07-01T10:42:55.082Z"
   },
   {
    "duration": 1521,
    "start_time": "2025-07-01T10:42:55.095Z"
   },
   {
    "duration": 84,
    "start_time": "2025-07-01T10:46:20.349Z"
   },
   {
    "duration": 9,
    "start_time": "2025-07-01T10:46:25.715Z"
   },
   {
    "duration": 122,
    "start_time": "2025-07-01T10:47:16.724Z"
   },
   {
    "duration": 9,
    "start_time": "2025-07-01T10:47:23.908Z"
   },
   {
    "duration": 8,
    "start_time": "2025-07-01T10:50:42.485Z"
   },
   {
    "duration": 10,
    "start_time": "2025-07-01T10:50:46.276Z"
   },
   {
    "duration": 9,
    "start_time": "2025-07-01T10:51:56.170Z"
   },
   {
    "duration": 12,
    "start_time": "2025-07-01T10:52:07.606Z"
   },
   {
    "duration": 10,
    "start_time": "2025-07-01T10:53:02.616Z"
   },
   {
    "duration": 10,
    "start_time": "2025-07-01T10:53:31.115Z"
   },
   {
    "duration": 1155,
    "start_time": "2025-07-01T10:55:40.004Z"
   },
   {
    "duration": 65,
    "start_time": "2025-07-01T10:55:41.164Z"
   },
   {
    "duration": 27,
    "start_time": "2025-07-01T10:55:41.231Z"
   },
   {
    "duration": 19,
    "start_time": "2025-07-01T10:55:41.261Z"
   },
   {
    "duration": 238,
    "start_time": "2025-07-01T10:55:41.282Z"
   },
   {
    "duration": 7,
    "start_time": "2025-07-01T10:55:41.522Z"
   },
   {
    "duration": 281,
    "start_time": "2025-07-01T10:55:41.535Z"
   },
   {
    "duration": 8,
    "start_time": "2025-07-01T10:55:41.818Z"
   },
   {
    "duration": 18,
    "start_time": "2025-07-01T10:55:41.828Z"
   },
   {
    "duration": 8,
    "start_time": "2025-07-01T10:55:41.856Z"
   },
   {
    "duration": 15,
    "start_time": "2025-07-01T10:55:41.865Z"
   },
   {
    "duration": 10,
    "start_time": "2025-07-01T10:55:41.881Z"
   },
   {
    "duration": 11,
    "start_time": "2025-07-01T10:55:41.892Z"
   },
   {
    "duration": 32,
    "start_time": "2025-07-01T10:55:41.905Z"
   },
   {
    "duration": 1567,
    "start_time": "2025-07-01T10:55:41.938Z"
   },
   {
    "duration": 14,
    "start_time": "2025-07-01T10:59:11.047Z"
   },
   {
    "duration": 112,
    "start_time": "2025-07-01T10:59:57.104Z"
   },
   {
    "duration": 83,
    "start_time": "2025-07-01T11:00:06.799Z"
   },
   {
    "duration": 19,
    "start_time": "2025-07-01T11:00:11.154Z"
   },
   {
    "duration": 12,
    "start_time": "2025-07-01T11:00:14.761Z"
   },
   {
    "duration": 11,
    "start_time": "2025-07-01T11:00:32.952Z"
   },
   {
    "duration": 141,
    "start_time": "2025-07-01T11:01:02.724Z"
   },
   {
    "duration": 23,
    "start_time": "2025-07-01T11:01:22.749Z"
   },
   {
    "duration": 7,
    "start_time": "2025-07-01T11:01:35.898Z"
   },
   {
    "duration": 11,
    "start_time": "2025-07-01T11:03:36.254Z"
   },
   {
    "duration": 1146,
    "start_time": "2025-07-01T11:08:30.341Z"
   },
   {
    "duration": 76,
    "start_time": "2025-07-01T11:08:31.490Z"
   },
   {
    "duration": 15,
    "start_time": "2025-07-01T11:08:31.568Z"
   },
   {
    "duration": 72,
    "start_time": "2025-07-01T11:08:31.585Z"
   },
   {
    "duration": 231,
    "start_time": "2025-07-01T11:08:31.661Z"
   },
   {
    "duration": 3,
    "start_time": "2025-07-01T11:08:31.893Z"
   },
   {
    "duration": 261,
    "start_time": "2025-07-01T11:08:31.897Z"
   },
   {
    "duration": 14,
    "start_time": "2025-07-01T11:08:32.159Z"
   },
   {
    "duration": 8,
    "start_time": "2025-07-01T11:08:32.175Z"
   },
   {
    "duration": 14,
    "start_time": "2025-07-01T11:08:32.184Z"
   },
   {
    "duration": 15,
    "start_time": "2025-07-01T11:08:32.199Z"
   },
   {
    "duration": 31,
    "start_time": "2025-07-01T11:08:32.216Z"
   },
   {
    "duration": 24,
    "start_time": "2025-07-01T11:08:32.249Z"
   },
   {
    "duration": 12,
    "start_time": "2025-07-01T11:08:32.275Z"
   },
   {
    "duration": 16,
    "start_time": "2025-07-01T11:08:32.289Z"
   },
   {
    "duration": 1513,
    "start_time": "2025-07-01T11:08:32.307Z"
   },
   {
    "duration": 75,
    "start_time": "2025-07-01T11:11:37.695Z"
   },
   {
    "duration": 9,
    "start_time": "2025-07-01T11:11:55.200Z"
   },
   {
    "duration": 20,
    "start_time": "2025-07-01T11:55:44.649Z"
   },
   {
    "duration": 13,
    "start_time": "2025-07-01T12:28:36.631Z"
   },
   {
    "duration": 10,
    "start_time": "2025-07-01T12:42:51.715Z"
   },
   {
    "duration": 20,
    "start_time": "2025-07-01T12:43:18.531Z"
   },
   {
    "duration": 7,
    "start_time": "2025-07-01T12:46:36.641Z"
   },
   {
    "duration": 12,
    "start_time": "2025-07-01T12:46:45.652Z"
   },
   {
    "duration": 13,
    "start_time": "2025-07-01T12:46:49.997Z"
   },
   {
    "duration": 11,
    "start_time": "2025-07-01T12:50:46.349Z"
   },
   {
    "duration": 6,
    "start_time": "2025-07-01T12:50:55.713Z"
   },
   {
    "duration": 12,
    "start_time": "2025-07-01T12:51:05.335Z"
   },
   {
    "duration": 49,
    "start_time": "2025-07-02T06:17:10.556Z"
   },
   {
    "duration": 1331,
    "start_time": "2025-07-02T06:17:16.368Z"
   },
   {
    "duration": 64,
    "start_time": "2025-07-02T06:17:17.702Z"
   },
   {
    "duration": 116,
    "start_time": "2025-07-02T06:17:17.767Z"
   },
   {
    "duration": 7,
    "start_time": "2025-07-02T06:17:17.885Z"
   },
   {
    "duration": 235,
    "start_time": "2025-07-02T06:17:17.894Z"
   },
   {
    "duration": 9,
    "start_time": "2025-07-02T06:17:18.131Z"
   },
   {
    "duration": 20,
    "start_time": "2025-07-02T06:17:18.142Z"
   },
   {
    "duration": 6,
    "start_time": "2025-07-02T06:17:18.163Z"
   },
   {
    "duration": 15,
    "start_time": "2025-07-02T06:17:18.171Z"
   },
   {
    "duration": 10,
    "start_time": "2025-07-02T06:17:18.188Z"
   },
   {
    "duration": 12,
    "start_time": "2025-07-02T06:17:18.200Z"
   },
   {
    "duration": 47,
    "start_time": "2025-07-02T06:17:18.214Z"
   },
   {
    "duration": 1525,
    "start_time": "2025-07-02T06:17:18.262Z"
   },
   {
    "duration": 19,
    "start_time": "2025-07-02T06:17:19.789Z"
   },
   {
    "duration": 75,
    "start_time": "2025-07-02T06:17:19.810Z"
   },
   {
    "duration": 13,
    "start_time": "2025-07-02T06:17:19.886Z"
   },
   {
    "duration": 9,
    "start_time": "2025-07-02T06:17:19.901Z"
   },
   {
    "duration": 7,
    "start_time": "2025-07-02T06:23:08.736Z"
   },
   {
    "duration": 9,
    "start_time": "2025-07-02T06:23:20.550Z"
   },
   {
    "duration": 132,
    "start_time": "2025-07-02T06:26:39.898Z"
   },
   {
    "duration": 70,
    "start_time": "2025-07-02T06:35:19.419Z"
   },
   {
    "duration": 61,
    "start_time": "2025-07-02T06:39:33.658Z"
   },
   {
    "duration": 127,
    "start_time": "2025-07-02T06:40:14.777Z"
   },
   {
    "duration": 105,
    "start_time": "2025-07-02T06:54:19.377Z"
   },
   {
    "duration": 12,
    "start_time": "2025-07-02T06:58:32.531Z"
   },
   {
    "duration": 15,
    "start_time": "2025-07-02T07:07:31.187Z"
   },
   {
    "duration": 1188,
    "start_time": "2025-07-02T07:19:14.961Z"
   },
   {
    "duration": 15,
    "start_time": "2025-07-02T07:19:36.108Z"
   },
   {
    "duration": 18,
    "start_time": "2025-07-02T07:19:55.813Z"
   },
   {
    "duration": 80,
    "start_time": "2025-07-02T07:20:44.817Z"
   },
   {
    "duration": 12,
    "start_time": "2025-07-02T07:20:51.307Z"
   },
   {
    "duration": 37,
    "start_time": "2025-07-02T07:24:39.056Z"
   },
   {
    "duration": 24,
    "start_time": "2025-07-02T07:25:31.952Z"
   },
   {
    "duration": 26,
    "start_time": "2025-07-02T07:27:10.798Z"
   },
   {
    "duration": 12,
    "start_time": "2025-07-02T07:29:31.197Z"
   },
   {
    "duration": 7,
    "start_time": "2025-07-02T07:29:37.564Z"
   },
   {
    "duration": 9,
    "start_time": "2025-07-02T07:31:11.029Z"
   },
   {
    "duration": 9,
    "start_time": "2025-07-02T07:39:45.663Z"
   },
   {
    "duration": 11,
    "start_time": "2025-07-02T07:40:57.377Z"
   },
   {
    "duration": 13,
    "start_time": "2025-07-02T07:42:53.041Z"
   },
   {
    "duration": 369,
    "start_time": "2025-07-02T07:42:53.906Z"
   },
   {
    "duration": 9,
    "start_time": "2025-07-02T08:00:56.291Z"
   },
   {
    "duration": 9,
    "start_time": "2025-07-02T08:01:03.355Z"
   },
   {
    "duration": 59,
    "start_time": "2025-07-02T08:01:13.588Z"
   },
   {
    "duration": 277,
    "start_time": "2025-07-02T08:02:24.901Z"
   },
   {
    "duration": 265,
    "start_time": "2025-07-02T08:02:42.131Z"
   },
   {
    "duration": 112,
    "start_time": "2025-07-02T08:04:28.017Z"
   },
   {
    "duration": 122,
    "start_time": "2025-07-02T08:04:39.620Z"
   },
   {
    "duration": 101,
    "start_time": "2025-07-02T08:11:03.000Z"
   },
   {
    "duration": 99,
    "start_time": "2025-07-02T08:11:09.946Z"
   },
   {
    "duration": 26,
    "start_time": "2025-07-02T08:22:43.073Z"
   },
   {
    "duration": 9,
    "start_time": "2025-07-02T08:35:28.092Z"
   },
   {
    "duration": 21,
    "start_time": "2025-07-02T08:35:37.821Z"
   },
   {
    "duration": 20,
    "start_time": "2025-07-02T08:36:11.884Z"
   },
   {
    "duration": 31,
    "start_time": "2025-07-02T08:37:43.932Z"
   },
   {
    "duration": 22,
    "start_time": "2025-07-02T08:43:13.386Z"
   },
   {
    "duration": 1227,
    "start_time": "2025-07-02T08:43:41.229Z"
   },
   {
    "duration": 106,
    "start_time": "2025-07-02T08:43:42.460Z"
   },
   {
    "duration": 13,
    "start_time": "2025-07-02T08:43:42.569Z"
   },
   {
    "duration": 8,
    "start_time": "2025-07-02T08:43:42.585Z"
   },
   {
    "duration": 257,
    "start_time": "2025-07-02T08:43:42.595Z"
   },
   {
    "duration": 14,
    "start_time": "2025-07-02T08:43:42.854Z"
   },
   {
    "duration": 4,
    "start_time": "2025-07-02T08:43:42.870Z"
   },
   {
    "duration": 6,
    "start_time": "2025-07-02T08:43:42.876Z"
   },
   {
    "duration": 15,
    "start_time": "2025-07-02T08:43:42.884Z"
   },
   {
    "duration": 11,
    "start_time": "2025-07-02T08:43:42.902Z"
   },
   {
    "duration": 49,
    "start_time": "2025-07-02T08:43:42.915Z"
   },
   {
    "duration": 9,
    "start_time": "2025-07-02T08:43:42.966Z"
   },
   {
    "duration": 1501,
    "start_time": "2025-07-02T08:43:42.977Z"
   },
   {
    "duration": 18,
    "start_time": "2025-07-02T08:43:44.480Z"
   },
   {
    "duration": 6,
    "start_time": "2025-07-02T08:43:44.500Z"
   },
   {
    "duration": 146,
    "start_time": "2025-07-02T08:43:44.508Z"
   },
   {
    "duration": 68,
    "start_time": "2025-07-02T08:43:44.660Z"
   },
   {
    "duration": 15,
    "start_time": "2025-07-02T08:43:44.729Z"
   },
   {
    "duration": 38,
    "start_time": "2025-07-02T08:43:44.746Z"
   },
   {
    "duration": 8,
    "start_time": "2025-07-02T08:43:44.786Z"
   },
   {
    "duration": 9,
    "start_time": "2025-07-02T08:43:44.796Z"
   },
   {
    "duration": 20,
    "start_time": "2025-07-02T08:43:44.807Z"
   },
   {
    "duration": 420,
    "start_time": "2025-07-02T08:43:44.829Z"
   },
   {
    "duration": 15,
    "start_time": "2025-07-02T08:43:45.252Z"
   },
   {
    "duration": 174,
    "start_time": "2025-07-02T08:43:45.269Z"
   },
   {
    "duration": 125,
    "start_time": "2025-07-02T08:43:45.444Z"
   },
   {
    "duration": 23,
    "start_time": "2025-07-02T08:43:45.571Z"
   },
   {
    "duration": 103,
    "start_time": "2025-07-02T08:51:24.616Z"
   },
   {
    "duration": 20,
    "start_time": "2025-07-02T08:52:34.514Z"
   },
   {
    "duration": 6,
    "start_time": "2025-07-02T08:53:07.940Z"
   },
   {
    "duration": 6,
    "start_time": "2025-07-02T08:54:03.013Z"
   },
   {
    "duration": 21,
    "start_time": "2025-07-02T08:54:09.716Z"
   },
   {
    "duration": 1163,
    "start_time": "2025-07-02T08:54:21.186Z"
   },
   {
    "duration": 65,
    "start_time": "2025-07-02T08:54:22.351Z"
   },
   {
    "duration": 13,
    "start_time": "2025-07-02T08:54:22.417Z"
   },
   {
    "duration": 7,
    "start_time": "2025-07-02T08:54:22.432Z"
   },
   {
    "duration": 233,
    "start_time": "2025-07-02T08:54:22.441Z"
   },
   {
    "duration": 9,
    "start_time": "2025-07-02T08:54:22.676Z"
   },
   {
    "duration": 4,
    "start_time": "2025-07-02T08:54:22.686Z"
   },
   {
    "duration": 11,
    "start_time": "2025-07-02T08:54:22.691Z"
   },
   {
    "duration": 17,
    "start_time": "2025-07-02T08:54:22.704Z"
   },
   {
    "duration": 43,
    "start_time": "2025-07-02T08:54:22.723Z"
   },
   {
    "duration": 13,
    "start_time": "2025-07-02T08:54:22.767Z"
   },
   {
    "duration": 9,
    "start_time": "2025-07-02T08:54:22.782Z"
   },
   {
    "duration": 1544,
    "start_time": "2025-07-02T08:54:22.792Z"
   },
   {
    "duration": 29,
    "start_time": "2025-07-02T08:54:24.338Z"
   },
   {
    "duration": 39,
    "start_time": "2025-07-02T08:54:24.368Z"
   },
   {
    "duration": 128,
    "start_time": "2025-07-02T08:54:24.409Z"
   },
   {
    "duration": 68,
    "start_time": "2025-07-02T08:54:24.539Z"
   },
   {
    "duration": 12,
    "start_time": "2025-07-02T08:54:24.609Z"
   },
   {
    "duration": 45,
    "start_time": "2025-07-02T08:54:24.623Z"
   },
   {
    "duration": 8,
    "start_time": "2025-07-02T08:54:24.670Z"
   },
   {
    "duration": 14,
    "start_time": "2025-07-02T08:54:24.680Z"
   },
   {
    "duration": 11,
    "start_time": "2025-07-02T08:54:24.696Z"
   },
   {
    "duration": 389,
    "start_time": "2025-07-02T08:54:24.709Z"
   },
   {
    "duration": 9,
    "start_time": "2025-07-02T08:54:25.100Z"
   },
   {
    "duration": 140,
    "start_time": "2025-07-02T08:54:25.111Z"
   },
   {
    "duration": 167,
    "start_time": "2025-07-02T08:54:25.254Z"
   },
   {
    "duration": 21,
    "start_time": "2025-07-02T08:54:25.423Z"
   },
   {
    "duration": 114,
    "start_time": "2025-07-02T08:54:25.460Z"
   },
   {
    "duration": 117,
    "start_time": "2025-07-02T08:55:10.008Z"
   },
   {
    "duration": 31,
    "start_time": "2025-07-02T08:55:20.442Z"
   },
   {
    "duration": 165,
    "start_time": "2025-07-02T08:55:26.110Z"
   },
   {
    "duration": 9,
    "start_time": "2025-07-02T08:58:15.301Z"
   },
   {
    "duration": 9,
    "start_time": "2025-07-02T08:59:15.110Z"
   },
   {
    "duration": 9,
    "start_time": "2025-07-02T08:59:34.659Z"
   },
   {
    "duration": 9,
    "start_time": "2025-07-02T08:59:46.148Z"
   },
   {
    "duration": 10,
    "start_time": "2025-07-02T09:00:05.806Z"
   },
   {
    "duration": 14,
    "start_time": "2025-07-02T09:00:21.103Z"
   },
   {
    "duration": 103,
    "start_time": "2025-07-02T09:01:36.089Z"
   },
   {
    "duration": 9,
    "start_time": "2025-07-02T09:01:45.297Z"
   },
   {
    "duration": 39,
    "start_time": "2025-07-02T09:01:54.733Z"
   },
   {
    "duration": 12,
    "start_time": "2025-07-02T09:02:12.133Z"
   },
   {
    "duration": 12,
    "start_time": "2025-07-02T09:02:18.260Z"
   },
   {
    "duration": 1212,
    "start_time": "2025-07-02T09:03:33.348Z"
   },
   {
    "duration": 70,
    "start_time": "2025-07-02T09:03:34.562Z"
   },
   {
    "duration": 12,
    "start_time": "2025-07-02T09:03:34.635Z"
   },
   {
    "duration": 30,
    "start_time": "2025-07-02T09:03:34.649Z"
   },
   {
    "duration": 239,
    "start_time": "2025-07-02T09:03:34.681Z"
   },
   {
    "duration": 12,
    "start_time": "2025-07-02T09:03:34.922Z"
   },
   {
    "duration": 24,
    "start_time": "2025-07-02T09:03:34.936Z"
   },
   {
    "duration": 7,
    "start_time": "2025-07-02T09:03:34.962Z"
   },
   {
    "duration": 27,
    "start_time": "2025-07-02T09:03:34.971Z"
   },
   {
    "duration": 11,
    "start_time": "2025-07-02T09:03:35.002Z"
   },
   {
    "duration": 16,
    "start_time": "2025-07-02T09:03:35.014Z"
   },
   {
    "duration": 35,
    "start_time": "2025-07-02T09:03:35.031Z"
   },
   {
    "duration": 1696,
    "start_time": "2025-07-02T09:03:35.068Z"
   },
   {
    "duration": 22,
    "start_time": "2025-07-02T09:03:36.765Z"
   },
   {
    "duration": 10,
    "start_time": "2025-07-02T09:03:36.789Z"
   },
   {
    "duration": 177,
    "start_time": "2025-07-02T09:03:36.801Z"
   },
   {
    "duration": 85,
    "start_time": "2025-07-02T09:03:36.981Z"
   },
   {
    "duration": 12,
    "start_time": "2025-07-02T09:03:37.068Z"
   },
   {
    "duration": 26,
    "start_time": "2025-07-02T09:03:37.082Z"
   },
   {
    "duration": 11,
    "start_time": "2025-07-02T09:03:37.110Z"
   },
   {
    "duration": 47,
    "start_time": "2025-07-02T09:03:37.122Z"
   },
   {
    "duration": 22,
    "start_time": "2025-07-02T09:03:37.171Z"
   },
   {
    "duration": 385,
    "start_time": "2025-07-02T09:03:37.195Z"
   },
   {
    "duration": 9,
    "start_time": "2025-07-02T09:03:37.581Z"
   },
   {
    "duration": 140,
    "start_time": "2025-07-02T09:03:37.592Z"
   },
   {
    "duration": 134,
    "start_time": "2025-07-02T09:03:37.733Z"
   },
   {
    "duration": 11,
    "start_time": "2025-07-02T09:03:37.869Z"
   },
   {
    "duration": 121,
    "start_time": "2025-07-02T09:03:37.882Z"
   },
   {
    "duration": 0,
    "start_time": "2025-07-02T09:03:38.004Z"
   },
   {
    "duration": 0,
    "start_time": "2025-07-02T09:03:38.005Z"
   },
   {
    "duration": 21,
    "start_time": "2025-07-02T09:04:01.701Z"
   },
   {
    "duration": 22,
    "start_time": "2025-07-02T09:04:42.605Z"
   },
   {
    "duration": 27,
    "start_time": "2025-07-02T09:04:50.340Z"
   },
   {
    "duration": 2,
    "start_time": "2025-07-02T09:06:21.015Z"
   },
   {
    "duration": 933,
    "start_time": "2025-07-02T09:07:26.086Z"
   },
   {
    "duration": 4,
    "start_time": "2025-07-02T09:07:37.813Z"
   },
   {
    "duration": 7,
    "start_time": "2025-07-02T09:07:49.135Z"
   },
   {
    "duration": 30,
    "start_time": "2025-07-02T09:07:53.100Z"
   },
   {
    "duration": 4,
    "start_time": "2025-07-02T09:10:27.957Z"
   },
   {
    "duration": 5,
    "start_time": "2025-07-02T09:10:47.392Z"
   },
   {
    "duration": 21,
    "start_time": "2025-07-02T09:10:51.915Z"
   },
   {
    "duration": 20,
    "start_time": "2025-07-02T09:12:01.671Z"
   },
   {
    "duration": 18,
    "start_time": "2025-07-02T09:12:31.662Z"
   },
   {
    "duration": 10,
    "start_time": "2025-07-02T09:13:04.697Z"
   },
   {
    "duration": 22,
    "start_time": "2025-07-02T09:13:12.342Z"
   },
   {
    "duration": 11,
    "start_time": "2025-07-02T10:07:51.700Z"
   },
   {
    "duration": 15,
    "start_time": "2025-07-02T10:09:31.575Z"
   },
   {
    "duration": 1246,
    "start_time": "2025-07-02T10:09:36.242Z"
   },
   {
    "duration": 57,
    "start_time": "2025-07-02T10:09:37.490Z"
   },
   {
    "duration": 12,
    "start_time": "2025-07-02T10:09:37.549Z"
   },
   {
    "duration": 12,
    "start_time": "2025-07-02T10:09:37.564Z"
   },
   {
    "duration": 251,
    "start_time": "2025-07-02T10:09:37.577Z"
   },
   {
    "duration": 10,
    "start_time": "2025-07-02T10:09:37.829Z"
   },
   {
    "duration": 21,
    "start_time": "2025-07-02T10:09:37.841Z"
   },
   {
    "duration": 7,
    "start_time": "2025-07-02T10:09:37.864Z"
   },
   {
    "duration": 16,
    "start_time": "2025-07-02T10:09:37.873Z"
   },
   {
    "duration": 11,
    "start_time": "2025-07-02T10:09:37.892Z"
   },
   {
    "duration": 14,
    "start_time": "2025-07-02T10:09:37.905Z"
   },
   {
    "duration": 46,
    "start_time": "2025-07-02T10:09:37.921Z"
   },
   {
    "duration": 1608,
    "start_time": "2025-07-02T10:09:37.969Z"
   },
   {
    "duration": 19,
    "start_time": "2025-07-02T10:09:39.579Z"
   },
   {
    "duration": 29,
    "start_time": "2025-07-02T10:09:39.600Z"
   },
   {
    "duration": 140,
    "start_time": "2025-07-02T10:09:39.631Z"
   },
   {
    "duration": 68,
    "start_time": "2025-07-02T10:09:39.773Z"
   },
   {
    "duration": 26,
    "start_time": "2025-07-02T10:09:39.843Z"
   },
   {
    "duration": 26,
    "start_time": "2025-07-02T10:09:39.871Z"
   },
   {
    "duration": 9,
    "start_time": "2025-07-02T10:09:39.899Z"
   },
   {
    "duration": 10,
    "start_time": "2025-07-02T10:09:39.910Z"
   },
   {
    "duration": 11,
    "start_time": "2025-07-02T10:09:39.961Z"
   },
   {
    "duration": 381,
    "start_time": "2025-07-02T10:09:39.974Z"
   },
   {
    "duration": 9,
    "start_time": "2025-07-02T10:09:40.360Z"
   },
   {
    "duration": 140,
    "start_time": "2025-07-02T10:09:40.371Z"
   },
   {
    "duration": 125,
    "start_time": "2025-07-02T10:09:40.512Z"
   },
   {
    "duration": 3,
    "start_time": "2025-07-02T10:09:40.639Z"
   },
   {
    "duration": 71,
    "start_time": "2025-07-02T10:09:40.645Z"
   },
   {
    "duration": 12,
    "start_time": "2025-07-02T10:09:40.718Z"
   },
   {
    "duration": 28,
    "start_time": "2025-07-02T10:09:40.732Z"
   },
   {
    "duration": 19,
    "start_time": "2025-07-02T10:09:40.762Z"
   },
   {
    "duration": 92,
    "start_time": "2025-07-02T10:09:40.783Z"
   },
   {
    "duration": 115,
    "start_time": "2025-07-02T10:09:40.876Z"
   },
   {
    "duration": 13,
    "start_time": "2025-07-02T10:11:00.961Z"
   },
   {
    "duration": 5,
    "start_time": "2025-07-02T10:11:28.352Z"
   },
   {
    "duration": 15,
    "start_time": "2025-07-02T10:11:41.345Z"
   },
   {
    "duration": 19,
    "start_time": "2025-07-02T10:13:26.869Z"
   },
   {
    "duration": 5,
    "start_time": "2025-07-02T10:16:41.533Z"
   },
   {
    "duration": 18,
    "start_time": "2025-07-02T10:22:59.420Z"
   },
   {
    "duration": 11,
    "start_time": "2025-07-02T10:33:21.639Z"
   },
   {
    "duration": 10,
    "start_time": "2025-07-02T10:33:36.231Z"
   },
   {
    "duration": 12,
    "start_time": "2025-07-02T10:36:32.202Z"
   },
   {
    "duration": 17,
    "start_time": "2025-07-02T10:37:45.828Z"
   },
   {
    "duration": 135,
    "start_time": "2025-07-02T10:50:15.647Z"
   },
   {
    "duration": 21,
    "start_time": "2025-07-02T10:51:55.775Z"
   },
   {
    "duration": 15,
    "start_time": "2025-07-02T11:04:21.940Z"
   },
   {
    "duration": 147,
    "start_time": "2025-07-02T11:05:54.880Z"
   },
   {
    "duration": 26,
    "start_time": "2025-07-02T11:05:59.026Z"
   },
   {
    "duration": 22,
    "start_time": "2025-07-02T11:07:05.990Z"
   },
   {
    "duration": 25,
    "start_time": "2025-07-02T11:08:14.435Z"
   },
   {
    "duration": 24,
    "start_time": "2025-07-02T11:10:03.580Z"
   },
   {
    "duration": 27,
    "start_time": "2025-07-02T11:10:48.424Z"
   },
   {
    "duration": 77,
    "start_time": "2025-07-02T11:11:19.545Z"
   },
   {
    "duration": 36,
    "start_time": "2025-07-02T11:11:34.948Z"
   },
   {
    "duration": 36,
    "start_time": "2025-07-02T11:11:47.836Z"
   },
   {
    "duration": 34,
    "start_time": "2025-07-02T11:11:58.073Z"
   },
   {
    "duration": 37,
    "start_time": "2025-07-02T11:12:02.619Z"
   },
   {
    "duration": 28,
    "start_time": "2025-07-02T11:29:34.717Z"
   },
   {
    "duration": 28,
    "start_time": "2025-07-02T11:30:01.780Z"
   },
   {
    "duration": 28,
    "start_time": "2025-07-02T11:30:15.161Z"
   },
   {
    "duration": 12,
    "start_time": "2025-07-02T11:31:34.884Z"
   },
   {
    "duration": 1222,
    "start_time": "2025-07-02T11:32:22.678Z"
   },
   {
    "duration": 92,
    "start_time": "2025-07-02T11:32:23.902Z"
   },
   {
    "duration": 11,
    "start_time": "2025-07-02T11:32:23.996Z"
   },
   {
    "duration": 10,
    "start_time": "2025-07-02T11:32:24.010Z"
   },
   {
    "duration": 242,
    "start_time": "2025-07-02T11:32:24.021Z"
   },
   {
    "duration": 9,
    "start_time": "2025-07-02T11:32:24.264Z"
   },
   {
    "duration": 3,
    "start_time": "2025-07-02T11:32:24.275Z"
   },
   {
    "duration": 6,
    "start_time": "2025-07-02T11:32:24.280Z"
   },
   {
    "duration": 16,
    "start_time": "2025-07-02T11:32:24.288Z"
   },
   {
    "duration": 10,
    "start_time": "2025-07-02T11:32:24.306Z"
   },
   {
    "duration": 53,
    "start_time": "2025-07-02T11:32:24.318Z"
   },
   {
    "duration": 14,
    "start_time": "2025-07-02T11:32:24.373Z"
   },
   {
    "duration": 1657,
    "start_time": "2025-07-02T11:32:24.389Z"
   },
   {
    "duration": 26,
    "start_time": "2025-07-02T11:32:26.048Z"
   },
   {
    "duration": 7,
    "start_time": "2025-07-02T11:32:26.076Z"
   },
   {
    "duration": 149,
    "start_time": "2025-07-02T11:32:26.085Z"
   },
   {
    "duration": 72,
    "start_time": "2025-07-02T11:32:26.235Z"
   },
   {
    "duration": 51,
    "start_time": "2025-07-02T11:32:26.309Z"
   },
   {
    "duration": 25,
    "start_time": "2025-07-02T11:32:26.361Z"
   },
   {
    "duration": 9,
    "start_time": "2025-07-02T11:32:26.387Z"
   },
   {
    "duration": 10,
    "start_time": "2025-07-02T11:32:26.398Z"
   },
   {
    "duration": 20,
    "start_time": "2025-07-02T11:32:26.410Z"
   },
   {
    "duration": 464,
    "start_time": "2025-07-02T11:32:26.432Z"
   },
   {
    "duration": 11,
    "start_time": "2025-07-02T11:32:26.898Z"
   },
   {
    "duration": 181,
    "start_time": "2025-07-02T11:32:26.911Z"
   },
   {
    "duration": 125,
    "start_time": "2025-07-02T11:32:27.094Z"
   },
   {
    "duration": 16,
    "start_time": "2025-07-02T11:32:27.221Z"
   },
   {
    "duration": 72,
    "start_time": "2025-07-02T11:32:27.240Z"
   },
   {
    "duration": 20,
    "start_time": "2025-07-02T11:32:27.313Z"
   },
   {
    "duration": 24,
    "start_time": "2025-07-02T11:32:27.335Z"
   },
   {
    "duration": 84,
    "start_time": "2025-07-02T11:32:27.361Z"
   },
   {
    "duration": 0,
    "start_time": "2025-07-02T11:32:27.447Z"
   },
   {
    "duration": 0,
    "start_time": "2025-07-02T11:32:27.448Z"
   },
   {
    "duration": 0,
    "start_time": "2025-07-02T11:32:27.449Z"
   },
   {
    "duration": 0,
    "start_time": "2025-07-02T11:32:27.451Z"
   },
   {
    "duration": 0,
    "start_time": "2025-07-02T11:32:27.452Z"
   },
   {
    "duration": 1207,
    "start_time": "2025-07-02T11:32:47.459Z"
   },
   {
    "duration": 58,
    "start_time": "2025-07-02T11:32:48.668Z"
   },
   {
    "duration": 13,
    "start_time": "2025-07-02T11:32:48.728Z"
   },
   {
    "duration": 17,
    "start_time": "2025-07-02T11:32:48.744Z"
   },
   {
    "duration": 252,
    "start_time": "2025-07-02T11:32:48.763Z"
   },
   {
    "duration": 14,
    "start_time": "2025-07-02T11:32:49.017Z"
   },
   {
    "duration": 6,
    "start_time": "2025-07-02T11:32:49.033Z"
   },
   {
    "duration": 8,
    "start_time": "2025-07-02T11:32:49.059Z"
   },
   {
    "duration": 20,
    "start_time": "2025-07-02T11:32:49.069Z"
   },
   {
    "duration": 12,
    "start_time": "2025-07-02T11:32:49.092Z"
   },
   {
    "duration": 12,
    "start_time": "2025-07-02T11:32:49.106Z"
   },
   {
    "duration": 46,
    "start_time": "2025-07-02T11:32:49.120Z"
   },
   {
    "duration": 1505,
    "start_time": "2025-07-02T11:32:49.167Z"
   },
   {
    "duration": 20,
    "start_time": "2025-07-02T11:32:50.674Z"
   },
   {
    "duration": 32,
    "start_time": "2025-07-02T11:32:50.696Z"
   },
   {
    "duration": 159,
    "start_time": "2025-07-02T11:32:50.730Z"
   },
   {
    "duration": 74,
    "start_time": "2025-07-02T11:32:50.890Z"
   },
   {
    "duration": 22,
    "start_time": "2025-07-02T11:32:50.966Z"
   },
   {
    "duration": 25,
    "start_time": "2025-07-02T11:32:50.990Z"
   },
   {
    "duration": 8,
    "start_time": "2025-07-02T11:32:51.016Z"
   },
   {
    "duration": 35,
    "start_time": "2025-07-02T11:32:51.026Z"
   },
   {
    "duration": 14,
    "start_time": "2025-07-02T11:32:51.063Z"
   },
   {
    "duration": 394,
    "start_time": "2025-07-02T11:32:51.079Z"
   },
   {
    "duration": 9,
    "start_time": "2025-07-02T11:32:51.475Z"
   },
   {
    "duration": 140,
    "start_time": "2025-07-02T11:32:51.485Z"
   },
   {
    "duration": 127,
    "start_time": "2025-07-02T11:32:51.627Z"
   },
   {
    "duration": 15,
    "start_time": "2025-07-02T11:32:51.756Z"
   },
   {
    "duration": 29,
    "start_time": "2025-07-02T11:32:51.774Z"
   },
   {
    "duration": 20,
    "start_time": "2025-07-02T11:32:51.805Z"
   },
   {
    "duration": 51,
    "start_time": "2025-07-02T11:32:51.827Z"
   },
   {
    "duration": 10,
    "start_time": "2025-07-02T11:32:51.880Z"
   },
   {
    "duration": 11,
    "start_time": "2025-07-02T11:32:51.892Z"
   },
   {
    "duration": 64,
    "start_time": "2025-07-02T11:32:51.905Z"
   },
   {
    "duration": 28,
    "start_time": "2025-07-02T11:32:51.971Z"
   },
   {
    "duration": 5,
    "start_time": "2025-07-02T11:32:52.001Z"
   },
   {
    "duration": 29,
    "start_time": "2025-07-02T11:39:45.011Z"
   },
   {
    "duration": 9,
    "start_time": "2025-07-02T12:32:44.115Z"
   },
   {
    "duration": 1324,
    "start_time": "2025-07-02T12:36:35.982Z"
   },
   {
    "duration": 103,
    "start_time": "2025-07-02T12:36:37.307Z"
   },
   {
    "duration": 15,
    "start_time": "2025-07-02T12:36:37.412Z"
   },
   {
    "duration": 14,
    "start_time": "2025-07-02T12:36:37.429Z"
   },
   {
    "duration": 269,
    "start_time": "2025-07-02T12:36:37.446Z"
   },
   {
    "duration": 10,
    "start_time": "2025-07-02T12:36:37.718Z"
   },
   {
    "duration": 11,
    "start_time": "2025-07-02T12:36:37.730Z"
   },
   {
    "duration": 24,
    "start_time": "2025-07-02T12:36:37.743Z"
   },
   {
    "duration": 84,
    "start_time": "2025-07-02T12:36:37.769Z"
   },
   {
    "duration": 12,
    "start_time": "2025-07-02T12:36:37.854Z"
   },
   {
    "duration": 18,
    "start_time": "2025-07-02T12:36:37.868Z"
   },
   {
    "duration": 26,
    "start_time": "2025-07-02T12:36:37.888Z"
   },
   {
    "duration": 1713,
    "start_time": "2025-07-02T12:36:37.915Z"
   },
   {
    "duration": 38,
    "start_time": "2025-07-02T12:36:39.631Z"
   },
   {
    "duration": 12,
    "start_time": "2025-07-02T12:36:39.675Z"
   },
   {
    "duration": 159,
    "start_time": "2025-07-02T12:36:39.689Z"
   },
   {
    "duration": 78,
    "start_time": "2025-07-02T12:36:39.850Z"
   },
   {
    "duration": 12,
    "start_time": "2025-07-02T12:36:39.930Z"
   },
   {
    "duration": 60,
    "start_time": "2025-07-02T12:36:39.944Z"
   },
   {
    "duration": 9,
    "start_time": "2025-07-02T12:36:40.006Z"
   },
   {
    "duration": 30,
    "start_time": "2025-07-02T12:36:40.017Z"
   },
   {
    "duration": 22,
    "start_time": "2025-07-02T12:36:40.049Z"
   },
   {
    "duration": 406,
    "start_time": "2025-07-02T12:36:40.073Z"
   },
   {
    "duration": 9,
    "start_time": "2025-07-02T12:36:40.481Z"
   },
   {
    "duration": 150,
    "start_time": "2025-07-02T12:36:40.492Z"
   },
   {
    "duration": 135,
    "start_time": "2025-07-02T12:36:40.644Z"
   },
   {
    "duration": 17,
    "start_time": "2025-07-02T12:36:40.781Z"
   },
   {
    "duration": 31,
    "start_time": "2025-07-02T12:36:40.800Z"
   },
   {
    "duration": 45,
    "start_time": "2025-07-02T12:36:40.833Z"
   },
   {
    "duration": 22,
    "start_time": "2025-07-02T12:36:40.880Z"
   },
   {
    "duration": 10,
    "start_time": "2025-07-02T12:36:40.904Z"
   },
   {
    "duration": 11,
    "start_time": "2025-07-02T12:36:40.915Z"
   },
   {
    "duration": 48,
    "start_time": "2025-07-02T12:36:40.962Z"
   },
   {
    "duration": 29,
    "start_time": "2025-07-02T12:36:41.012Z"
   },
   {
    "duration": 171,
    "start_time": "2025-07-02T12:36:41.061Z"
   },
   {
    "duration": 1165,
    "start_time": "2025-07-02T20:24:22.862Z"
   },
   {
    "duration": 82,
    "start_time": "2025-07-02T20:24:24.029Z"
   },
   {
    "duration": 10,
    "start_time": "2025-07-02T20:24:24.112Z"
   },
   {
    "duration": 7,
    "start_time": "2025-07-02T20:24:24.124Z"
   },
   {
    "duration": 348,
    "start_time": "2025-07-02T20:24:24.133Z"
   },
   {
    "duration": 10,
    "start_time": "2025-07-02T20:24:24.482Z"
   },
   {
    "duration": 7,
    "start_time": "2025-07-02T20:24:24.494Z"
   },
   {
    "duration": 60,
    "start_time": "2025-07-02T20:24:24.503Z"
   },
   {
    "duration": 21,
    "start_time": "2025-07-02T20:24:24.566Z"
   },
   {
    "duration": 15,
    "start_time": "2025-07-02T20:24:24.588Z"
   },
   {
    "duration": 73,
    "start_time": "2025-07-02T20:24:24.604Z"
   },
   {
    "duration": 10,
    "start_time": "2025-07-02T20:24:24.680Z"
   },
   {
    "duration": 2106,
    "start_time": "2025-07-02T20:24:24.692Z"
   },
   {
    "duration": 17,
    "start_time": "2025-07-02T20:24:26.801Z"
   },
   {
    "duration": 10,
    "start_time": "2025-07-02T20:24:26.820Z"
   },
   {
    "duration": 141,
    "start_time": "2025-07-02T20:24:26.832Z"
   },
   {
    "duration": 68,
    "start_time": "2025-07-02T20:24:26.974Z"
   },
   {
    "duration": 33,
    "start_time": "2025-07-02T20:24:27.044Z"
   },
   {
    "duration": 27,
    "start_time": "2025-07-02T20:24:27.079Z"
   },
   {
    "duration": 7,
    "start_time": "2025-07-02T20:24:27.108Z"
   },
   {
    "duration": 11,
    "start_time": "2025-07-02T20:24:27.116Z"
   },
   {
    "duration": 35,
    "start_time": "2025-07-02T20:24:27.129Z"
   },
   {
    "duration": 356,
    "start_time": "2025-07-02T20:24:27.166Z"
   },
   {
    "duration": 7,
    "start_time": "2025-07-02T20:24:27.524Z"
   },
   {
    "duration": 146,
    "start_time": "2025-07-02T20:24:27.532Z"
   },
   {
    "duration": 113,
    "start_time": "2025-07-02T20:24:27.680Z"
   },
   {
    "duration": 14,
    "start_time": "2025-07-02T20:24:27.795Z"
   },
   {
    "duration": 24,
    "start_time": "2025-07-02T20:24:27.810Z"
   },
   {
    "duration": 40,
    "start_time": "2025-07-02T20:24:27.836Z"
   },
   {
    "duration": 24,
    "start_time": "2025-07-02T20:24:27.877Z"
   },
   {
    "duration": 131,
    "start_time": "2025-07-02T20:24:27.903Z"
   },
   {
    "duration": 0,
    "start_time": "2025-07-02T20:24:28.036Z"
   },
   {
    "duration": 0,
    "start_time": "2025-07-02T20:24:28.037Z"
   },
   {
    "duration": 0,
    "start_time": "2025-07-02T20:24:28.038Z"
   },
   {
    "duration": 0,
    "start_time": "2025-07-02T20:24:28.038Z"
   },
   {
    "duration": 0,
    "start_time": "2025-07-02T20:24:28.040Z"
   },
   {
    "duration": 5,
    "start_time": "2025-07-02T20:24:40.282Z"
   },
   {
    "duration": 9,
    "start_time": "2025-07-02T20:25:27.202Z"
   },
   {
    "duration": 9,
    "start_time": "2025-07-02T20:25:27.543Z"
   },
   {
    "duration": 33,
    "start_time": "2025-07-02T20:25:28.239Z"
   },
   {
    "duration": 33,
    "start_time": "2025-07-02T20:25:29.342Z"
   },
   {
    "duration": 5,
    "start_time": "2025-07-02T20:25:29.710Z"
   }
  ],
  "colab": {
   "provenance": [],
   "toc_visible": true
  },
  "kernelspec": {
   "display_name": "Python 3 (ipykernel)",
   "language": "python",
   "name": "python3"
  },
  "language_info": {
   "codemirror_mode": {
    "name": "ipython",
    "version": 3
   },
   "file_extension": ".py",
   "mimetype": "text/x-python",
   "name": "python",
   "nbconvert_exporter": "python",
   "pygments_lexer": "ipython3",
   "version": "3.9.5"
  },
  "toc": {
   "base_numbering": 1,
   "nav_menu": {},
   "number_sections": false,
   "sideBar": true,
   "skip_h1_title": true,
   "title_cell": "Table of Contents",
   "title_sidebar": "Contents",
   "toc_cell": false,
   "toc_position": {
    "height": "calc(100% - 180px)",
    "left": "10px",
    "top": "150px",
    "width": "294.4px"
   },
   "toc_section_display": true,
   "toc_window_display": true
  }
 },
 "nbformat": 4,
 "nbformat_minor": 5
}
