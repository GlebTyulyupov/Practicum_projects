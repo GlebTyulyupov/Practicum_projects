{
 "cells": [
  {
   "cell_type": "markdown",
   "metadata": {
    "id": "u98L9TgH0eMk"
   },
   "source": [
    "# Разработка A/B-тестирования и анализ результатов\n",
    "\n",
    "Цель: Для компании, разрабатывающей развлекательное приложение с функцией «бесконечной» ленты, как, например, в приложениях с короткими видео, необходимо рассчитать параметры A/B-теста, который позволит проверить эту гипотезу о том, что новый алгоритм рекомендаций будет показывать более интересный контент для каждого пользователя."
   ]
  },
  {
   "cell_type": "markdown",
   "metadata": {
    "id": "LJBRALHs0eMf"
   },
   "source": [
    "## Задачи: \n",
    " - рассчитать параметры теста;\n",
    " - оценить корректность его проведения;\n",
    " - проанализировать результаты эксперимента."
   ]
  },
  {
   "cell_type": "markdown",
   "metadata": {
    "id": "UpOucjID0eMl"
   },
   "source": [
    "### 1. Работа с историческими данными (EDA)"
   ]
  },
  {
   "cell_type": "markdown",
   "metadata": {
    "id": "8iJMtL-30eMl"
   },
   "source": [
    "#### 1.1. Загрузка исторических данных"
   ]
  },
  {
   "cell_type": "markdown",
   "metadata": {},
   "source": [
    "На самом первом шаге импортируем все необходимые биоблиотеки и функции."
   ]
  },
  {
   "cell_type": "code",
   "execution_count": 1,
   "metadata": {},
   "outputs": [],
   "source": [
    "# Импортируем биоблиотеку pandas\n",
    "import pandas as pd\n",
    "\n",
    "# Импортируем библиотеку matplotlib.pyplot для визуализации данных\n",
    "import matplotlib.pyplot as plt\n",
    "\n",
    "# Импортируем библиотеку numpy для матеметических расчётов\n",
    "import numpy as np\n",
    "\n",
    "# Импортируем функцию ceil из библиотеки math для округения в большую сторону\n",
    "from math import ceil\n",
    "\n",
    "# Импортируем функцию ttest_ind из модуля scipy.stats\n",
    "from scipy.stats import ttest_ind\n",
    "\n",
    "\n",
    "# Импортируем из модуля statsmodels.stats.proportion функцию proportions_ztest\n",
    "from statsmodels.stats.proportion import proportions_ztest\n",
    "\n",
    "# Импортируем из модуля statsmodels.stats.power функцию NormalIndPower\n",
    "from statsmodels.stats.power import NormalIndPower\n",
    "\n",
    "# Импортируем из модуля sstatsmodels.stats.proportion функцию proportion_effectsize\n",
    "from statsmodels.stats.proportion import proportion_effectsize"
   ]
  },
  {
   "cell_type": "code",
   "execution_count": 2,
   "metadata": {
    "id": "6TPR2-1RPboT"
   },
   "outputs": [
    {
     "data": {
      "text/html": [
       "<div>\n",
       "<style scoped>\n",
       "    .dataframe tbody tr th:only-of-type {\n",
       "        vertical-align: middle;\n",
       "    }\n",
       "\n",
       "    .dataframe tbody tr th {\n",
       "        vertical-align: top;\n",
       "    }\n",
       "\n",
       "    .dataframe thead th {\n",
       "        text-align: right;\n",
       "    }\n",
       "</style>\n",
       "<table border=\"1\" class=\"dataframe\">\n",
       "  <thead>\n",
       "    <tr style=\"text-align: right;\">\n",
       "      <th></th>\n",
       "      <th>user_id</th>\n",
       "      <th>session_id</th>\n",
       "      <th>session_date</th>\n",
       "      <th>session_start_ts</th>\n",
       "      <th>install_date</th>\n",
       "      <th>session_number</th>\n",
       "      <th>registration_flag</th>\n",
       "      <th>page_counter</th>\n",
       "      <th>region</th>\n",
       "      <th>device</th>\n",
       "    </tr>\n",
       "  </thead>\n",
       "  <tbody>\n",
       "    <tr>\n",
       "      <th>0</th>\n",
       "      <td>E302123B7000BFE4</td>\n",
       "      <td>F9AF61A0C2023832</td>\n",
       "      <td>2025-08-15</td>\n",
       "      <td>2025-08-15 17:47:35</td>\n",
       "      <td>2025-08-15</td>\n",
       "      <td>1</td>\n",
       "      <td>0</td>\n",
       "      <td>3</td>\n",
       "      <td>CIS</td>\n",
       "      <td>iPhone</td>\n",
       "    </tr>\n",
       "    <tr>\n",
       "      <th>1</th>\n",
       "      <td>2530F72E221829FB</td>\n",
       "      <td>85003A206CBDAC6F</td>\n",
       "      <td>2025-08-15</td>\n",
       "      <td>2025-08-15 16:42:14</td>\n",
       "      <td>2025-08-15</td>\n",
       "      <td>1</td>\n",
       "      <td>0</td>\n",
       "      <td>4</td>\n",
       "      <td>MENA</td>\n",
       "      <td>Android</td>\n",
       "    </tr>\n",
       "    <tr>\n",
       "      <th>2</th>\n",
       "      <td>876E020A4FC512F5</td>\n",
       "      <td>3677423E49D72DEE</td>\n",
       "      <td>2025-08-15</td>\n",
       "      <td>2025-08-15 12:30:00</td>\n",
       "      <td>2025-08-15</td>\n",
       "      <td>1</td>\n",
       "      <td>0</td>\n",
       "      <td>4</td>\n",
       "      <td>EU</td>\n",
       "      <td>PC</td>\n",
       "    </tr>\n",
       "    <tr>\n",
       "      <th>3</th>\n",
       "      <td>2640B349E1D81584</td>\n",
       "      <td>956B45F5915CA225</td>\n",
       "      <td>2025-08-15</td>\n",
       "      <td>2025-08-15 15:31:31</td>\n",
       "      <td>2025-08-15</td>\n",
       "      <td>1</td>\n",
       "      <td>0</td>\n",
       "      <td>4</td>\n",
       "      <td>CIS</td>\n",
       "      <td>Android</td>\n",
       "    </tr>\n",
       "    <tr>\n",
       "      <th>4</th>\n",
       "      <td>94E1CBFAEF1F5EE9</td>\n",
       "      <td>83BF0DA35F9F1F40</td>\n",
       "      <td>2025-08-15</td>\n",
       "      <td>2025-08-15 21:33:53</td>\n",
       "      <td>2025-08-15</td>\n",
       "      <td>1</td>\n",
       "      <td>0</td>\n",
       "      <td>3</td>\n",
       "      <td>CIS</td>\n",
       "      <td>Android</td>\n",
       "    </tr>\n",
       "  </tbody>\n",
       "</table>\n",
       "</div>"
      ],
      "text/plain": [
       "            user_id        session_id session_date     session_start_ts  \\\n",
       "0  E302123B7000BFE4  F9AF61A0C2023832   2025-08-15  2025-08-15 17:47:35   \n",
       "1  2530F72E221829FB  85003A206CBDAC6F   2025-08-15  2025-08-15 16:42:14   \n",
       "2  876E020A4FC512F5  3677423E49D72DEE   2025-08-15  2025-08-15 12:30:00   \n",
       "3  2640B349E1D81584  956B45F5915CA225   2025-08-15  2025-08-15 15:31:31   \n",
       "4  94E1CBFAEF1F5EE9  83BF0DA35F9F1F40   2025-08-15  2025-08-15 21:33:53   \n",
       "\n",
       "  install_date  session_number  registration_flag  page_counter region  \\\n",
       "0   2025-08-15               1                  0             3    CIS   \n",
       "1   2025-08-15               1                  0             4   MENA   \n",
       "2   2025-08-15               1                  0             4     EU   \n",
       "3   2025-08-15               1                  0             4    CIS   \n",
       "4   2025-08-15               1                  0             3    CIS   \n",
       "\n",
       "    device  \n",
       "0   iPhone  \n",
       "1  Android  \n",
       "2       PC  \n",
       "3  Android  \n",
       "4  Android  "
      ]
     },
     "execution_count": 2,
     "metadata": {},
     "output_type": "execute_result"
    }
   ],
   "source": [
    "# Создам датафрейм sessions_history, содержащий информацию CSV-файла sessions_project_history.csv\n",
    "sessions_history=pd.read_csv('https://code.s3.yandex.net/datasets/sessions_project_history.csv')\n",
    "\n",
    "# Выводим первые пять трок полученного датафрейма\n",
    "sessions_history.head()"
   ]
  },
  {
   "cell_type": "markdown",
   "metadata": {
    "id": "qTDoiODz0eMo"
   },
   "source": [
    "#### 1.2. Знакомство с данными"
   ]
  },
  {
   "cell_type": "code",
   "execution_count": 3,
   "metadata": {
    "id": "PWZO9vTIPbPN"
   },
   "outputs": [
    {
     "data": {
      "text/html": [
       "<div>\n",
       "<style scoped>\n",
       "    .dataframe tbody tr th:only-of-type {\n",
       "        vertical-align: middle;\n",
       "    }\n",
       "\n",
       "    .dataframe tbody tr th {\n",
       "        vertical-align: top;\n",
       "    }\n",
       "\n",
       "    .dataframe thead th {\n",
       "        text-align: right;\n",
       "    }\n",
       "</style>\n",
       "<table border=\"1\" class=\"dataframe\">\n",
       "  <thead>\n",
       "    <tr style=\"text-align: right;\">\n",
       "      <th></th>\n",
       "      <th>user_id</th>\n",
       "      <th>session_id</th>\n",
       "      <th>session_date</th>\n",
       "      <th>session_start_ts</th>\n",
       "      <th>install_date</th>\n",
       "      <th>session_number</th>\n",
       "      <th>registration_flag</th>\n",
       "      <th>page_counter</th>\n",
       "      <th>region</th>\n",
       "      <th>device</th>\n",
       "    </tr>\n",
       "  </thead>\n",
       "  <tbody>\n",
       "    <tr>\n",
       "      <th>124515</th>\n",
       "      <td>6A73CB5566BB494D</td>\n",
       "      <td>110E3F28C1F5415F</td>\n",
       "      <td>2025-08-28</td>\n",
       "      <td>2025-08-28 18:58:19</td>\n",
       "      <td>2025-08-28</td>\n",
       "      <td>1</td>\n",
       "      <td>0</td>\n",
       "      <td>3</td>\n",
       "      <td>MENA</td>\n",
       "      <td>Mac</td>\n",
       "    </tr>\n",
       "    <tr>\n",
       "      <th>196252</th>\n",
       "      <td>6A73CB5566BB494D</td>\n",
       "      <td>D68C8D98A0F1C439</td>\n",
       "      <td>2025-08-29</td>\n",
       "      <td>2025-08-29 20:53:27</td>\n",
       "      <td>2025-08-28</td>\n",
       "      <td>2</td>\n",
       "      <td>1</td>\n",
       "      <td>3</td>\n",
       "      <td>MENA</td>\n",
       "      <td>Mac</td>\n",
       "    </tr>\n",
       "    <tr>\n",
       "      <th>242428</th>\n",
       "      <td>6A73CB5566BB494D</td>\n",
       "      <td>6587D217472BF807</td>\n",
       "      <td>2025-08-30</td>\n",
       "      <td>2025-08-30 13:08:22</td>\n",
       "      <td>2025-08-28</td>\n",
       "      <td>3</td>\n",
       "      <td>1</td>\n",
       "      <td>1</td>\n",
       "      <td>MENA</td>\n",
       "      <td>Mac</td>\n",
       "    </tr>\n",
       "    <tr>\n",
       "      <th>304287</th>\n",
       "      <td>6A73CB5566BB494D</td>\n",
       "      <td>A9BC25593D056F8E</td>\n",
       "      <td>2025-09-01</td>\n",
       "      <td>2025-09-01 18:52:49</td>\n",
       "      <td>2025-08-28</td>\n",
       "      <td>4</td>\n",
       "      <td>1</td>\n",
       "      <td>2</td>\n",
       "      <td>MENA</td>\n",
       "      <td>Mac</td>\n",
       "    </tr>\n",
       "    <tr>\n",
       "      <th>346611</th>\n",
       "      <td>6A73CB5566BB494D</td>\n",
       "      <td>CB6F9C4191FAF6F6</td>\n",
       "      <td>2025-09-03</td>\n",
       "      <td>2025-09-03 22:49:08</td>\n",
       "      <td>2025-08-28</td>\n",
       "      <td>5</td>\n",
       "      <td>1</td>\n",
       "      <td>3</td>\n",
       "      <td>MENA</td>\n",
       "      <td>Mac</td>\n",
       "    </tr>\n",
       "    <tr>\n",
       "      <th>363510</th>\n",
       "      <td>6A73CB5566BB494D</td>\n",
       "      <td>9C609432F6E6535A</td>\n",
       "      <td>2025-09-04</td>\n",
       "      <td>2025-09-04 13:59:46</td>\n",
       "      <td>2025-08-28</td>\n",
       "      <td>6</td>\n",
       "      <td>1</td>\n",
       "      <td>4</td>\n",
       "      <td>MENA</td>\n",
       "      <td>Mac</td>\n",
       "    </tr>\n",
       "    <tr>\n",
       "      <th>391902</th>\n",
       "      <td>6A73CB5566BB494D</td>\n",
       "      <td>5D892E33B97A257A</td>\n",
       "      <td>2025-09-06</td>\n",
       "      <td>2025-09-06 18:46:55</td>\n",
       "      <td>2025-08-28</td>\n",
       "      <td>7</td>\n",
       "      <td>1</td>\n",
       "      <td>2</td>\n",
       "      <td>MENA</td>\n",
       "      <td>Mac</td>\n",
       "    </tr>\n",
       "    <tr>\n",
       "      <th>404322</th>\n",
       "      <td>6A73CB5566BB494D</td>\n",
       "      <td>22A9BD3861F49087</td>\n",
       "      <td>2025-09-07</td>\n",
       "      <td>2025-09-07 18:33:49</td>\n",
       "      <td>2025-08-28</td>\n",
       "      <td>8</td>\n",
       "      <td>1</td>\n",
       "      <td>3</td>\n",
       "      <td>MENA</td>\n",
       "      <td>Mac</td>\n",
       "    </tr>\n",
       "    <tr>\n",
       "      <th>415489</th>\n",
       "      <td>6A73CB5566BB494D</td>\n",
       "      <td>F70E351154B092DC</td>\n",
       "      <td>2025-09-08</td>\n",
       "      <td>2025-09-08 20:30:22</td>\n",
       "      <td>2025-08-28</td>\n",
       "      <td>9</td>\n",
       "      <td>1</td>\n",
       "      <td>4</td>\n",
       "      <td>MENA</td>\n",
       "      <td>Mac</td>\n",
       "    </tr>\n",
       "    <tr>\n",
       "      <th>425805</th>\n",
       "      <td>6A73CB5566BB494D</td>\n",
       "      <td>84A3DC0CFF449F53</td>\n",
       "      <td>2025-09-09</td>\n",
       "      <td>2025-09-09 16:36:04</td>\n",
       "      <td>2025-08-28</td>\n",
       "      <td>10</td>\n",
       "      <td>1</td>\n",
       "      <td>1</td>\n",
       "      <td>MENA</td>\n",
       "      <td>Mac</td>\n",
       "    </tr>\n",
       "  </tbody>\n",
       "</table>\n",
       "</div>"
      ],
      "text/plain": [
       "                 user_id        session_id session_date     session_start_ts  \\\n",
       "124515  6A73CB5566BB494D  110E3F28C1F5415F   2025-08-28  2025-08-28 18:58:19   \n",
       "196252  6A73CB5566BB494D  D68C8D98A0F1C439   2025-08-29  2025-08-29 20:53:27   \n",
       "242428  6A73CB5566BB494D  6587D217472BF807   2025-08-30  2025-08-30 13:08:22   \n",
       "304287  6A73CB5566BB494D  A9BC25593D056F8E   2025-09-01  2025-09-01 18:52:49   \n",
       "346611  6A73CB5566BB494D  CB6F9C4191FAF6F6   2025-09-03  2025-09-03 22:49:08   \n",
       "363510  6A73CB5566BB494D  9C609432F6E6535A   2025-09-04  2025-09-04 13:59:46   \n",
       "391902  6A73CB5566BB494D  5D892E33B97A257A   2025-09-06  2025-09-06 18:46:55   \n",
       "404322  6A73CB5566BB494D  22A9BD3861F49087   2025-09-07  2025-09-07 18:33:49   \n",
       "415489  6A73CB5566BB494D  F70E351154B092DC   2025-09-08  2025-09-08 20:30:22   \n",
       "425805  6A73CB5566BB494D  84A3DC0CFF449F53   2025-09-09  2025-09-09 16:36:04   \n",
       "\n",
       "       install_date  session_number  registration_flag  page_counter region  \\\n",
       "124515   2025-08-28               1                  0             3   MENA   \n",
       "196252   2025-08-28               2                  1             3   MENA   \n",
       "242428   2025-08-28               3                  1             1   MENA   \n",
       "304287   2025-08-28               4                  1             2   MENA   \n",
       "346611   2025-08-28               5                  1             3   MENA   \n",
       "363510   2025-08-28               6                  1             4   MENA   \n",
       "391902   2025-08-28               7                  1             2   MENA   \n",
       "404322   2025-08-28               8                  1             3   MENA   \n",
       "415489   2025-08-28               9                  1             4   MENA   \n",
       "425805   2025-08-28              10                  1             1   MENA   \n",
       "\n",
       "       device  \n",
       "124515    Mac  \n",
       "196252    Mac  \n",
       "242428    Mac  \n",
       "304287    Mac  \n",
       "346611    Mac  \n",
       "363510    Mac  \n",
       "391902    Mac  \n",
       "404322    Mac  \n",
       "415489    Mac  \n",
       "425805    Mac  "
      ]
     },
     "execution_count": 3,
     "metadata": {},
     "output_type": "execute_result"
    }
   ],
   "source": [
    "# Рассчитываем количество уникальных сессий для каждого пользователя\n",
    "sessions_per_user = sessions_history.groupby('user_id', as_index=False)['session_id'].nunique()\n",
    "\n",
    "# Выделяем пользователя с наибольшим числом сессий\n",
    "top_user = sessions_per_user.sort_values(by='session_id').tail(1)\n",
    "\n",
    "# Выделяем id пользователя с наибольшим числом сессий\n",
    "top_user_id = top_user['user_id']\n",
    "\n",
    "# Выводим информацию о пользователе с наибольшим числом сессий из таблицы sessions_history\n",
    "sessions_history.loc[sessions_history['user_id'].isin(top_user_id)]"
   ]
  },
  {
   "cell_type": "markdown",
   "metadata": {},
   "source": [
    "Наибольшее количество сессий зафиксировано у пользователя с id 6A73CB5566BB494D.\n",
    "\n"
   ]
  },
  {
   "cell_type": "markdown",
   "metadata": {
    "id": "CmcGpJTP0eMq"
   },
   "source": [
    "#### 1.3. Анализ числа регистраций"
   ]
  },
  {
   "cell_type": "code",
   "execution_count": 4,
   "metadata": {
    "id": "tN_6Ml3EPatS",
    "scrolled": true
   },
   "outputs": [
    {
     "data": {
      "text/html": [
       "<div>\n",
       "<style scoped>\n",
       "    .dataframe tbody tr th:only-of-type {\n",
       "        vertical-align: middle;\n",
       "    }\n",
       "\n",
       "    .dataframe tbody tr th {\n",
       "        vertical-align: top;\n",
       "    }\n",
       "\n",
       "    .dataframe thead th {\n",
       "        text-align: right;\n",
       "    }\n",
       "</style>\n",
       "<table border=\"1\" class=\"dataframe\">\n",
       "  <thead>\n",
       "    <tr style=\"text-align: right;\">\n",
       "      <th></th>\n",
       "      <th>session_date</th>\n",
       "      <th>user_id</th>\n",
       "    </tr>\n",
       "  </thead>\n",
       "  <tbody>\n",
       "    <tr>\n",
       "      <th>0</th>\n",
       "      <td>2025-08-11</td>\n",
       "      <td>3919</td>\n",
       "    </tr>\n",
       "    <tr>\n",
       "      <th>1</th>\n",
       "      <td>2025-08-12</td>\n",
       "      <td>6056</td>\n",
       "    </tr>\n",
       "    <tr>\n",
       "      <th>2</th>\n",
       "      <td>2025-08-13</td>\n",
       "      <td>8489</td>\n",
       "    </tr>\n",
       "    <tr>\n",
       "      <th>3</th>\n",
       "      <td>2025-08-14</td>\n",
       "      <td>10321</td>\n",
       "    </tr>\n",
       "    <tr>\n",
       "      <th>4</th>\n",
       "      <td>2025-08-15</td>\n",
       "      <td>14065</td>\n",
       "    </tr>\n",
       "    <tr>\n",
       "      <th>5</th>\n",
       "      <td>2025-08-16</td>\n",
       "      <td>12205</td>\n",
       "    </tr>\n",
       "    <tr>\n",
       "      <th>6</th>\n",
       "      <td>2025-08-17</td>\n",
       "      <td>11200</td>\n",
       "    </tr>\n",
       "    <tr>\n",
       "      <th>7</th>\n",
       "      <td>2025-08-18</td>\n",
       "      <td>10839</td>\n",
       "    </tr>\n",
       "    <tr>\n",
       "      <th>8</th>\n",
       "      <td>2025-08-19</td>\n",
       "      <td>12118</td>\n",
       "    </tr>\n",
       "    <tr>\n",
       "      <th>9</th>\n",
       "      <td>2025-08-20</td>\n",
       "      <td>13514</td>\n",
       "    </tr>\n",
       "    <tr>\n",
       "      <th>10</th>\n",
       "      <td>2025-08-21</td>\n",
       "      <td>15051</td>\n",
       "    </tr>\n",
       "    <tr>\n",
       "      <th>11</th>\n",
       "      <td>2025-08-22</td>\n",
       "      <td>17563</td>\n",
       "    </tr>\n",
       "    <tr>\n",
       "      <th>12</th>\n",
       "      <td>2025-08-23</td>\n",
       "      <td>16082</td>\n",
       "    </tr>\n",
       "    <tr>\n",
       "      <th>13</th>\n",
       "      <td>2025-08-24</td>\n",
       "      <td>13683</td>\n",
       "    </tr>\n",
       "    <tr>\n",
       "      <th>14</th>\n",
       "      <td>2025-08-25</td>\n",
       "      <td>13635</td>\n",
       "    </tr>\n",
       "    <tr>\n",
       "      <th>15</th>\n",
       "      <td>2025-08-26</td>\n",
       "      <td>13289</td>\n",
       "    </tr>\n",
       "    <tr>\n",
       "      <th>16</th>\n",
       "      <td>2025-08-27</td>\n",
       "      <td>14766</td>\n",
       "    </tr>\n",
       "    <tr>\n",
       "      <th>17</th>\n",
       "      <td>2025-08-28</td>\n",
       "      <td>15388</td>\n",
       "    </tr>\n",
       "    <tr>\n",
       "      <th>18</th>\n",
       "      <td>2025-08-29</td>\n",
       "      <td>16873</td>\n",
       "    </tr>\n",
       "    <tr>\n",
       "      <th>19</th>\n",
       "      <td>2025-08-30</td>\n",
       "      <td>14891</td>\n",
       "    </tr>\n",
       "    <tr>\n",
       "      <th>20</th>\n",
       "      <td>2025-08-31</td>\n",
       "      <td>13266</td>\n",
       "    </tr>\n",
       "    <tr>\n",
       "      <th>21</th>\n",
       "      <td>2025-09-01</td>\n",
       "      <td>12685</td>\n",
       "    </tr>\n",
       "    <tr>\n",
       "      <th>22</th>\n",
       "      <td>2025-09-02</td>\n",
       "      <td>12672</td>\n",
       "    </tr>\n",
       "    <tr>\n",
       "      <th>23</th>\n",
       "      <td>2025-09-03</td>\n",
       "      <td>12777</td>\n",
       "    </tr>\n",
       "    <tr>\n",
       "      <th>24</th>\n",
       "      <td>2025-09-04</td>\n",
       "      <td>13683</td>\n",
       "    </tr>\n",
       "    <tr>\n",
       "      <th>25</th>\n",
       "      <td>2025-09-05</td>\n",
       "      <td>15324</td>\n",
       "    </tr>\n",
       "    <tr>\n",
       "      <th>26</th>\n",
       "      <td>2025-09-06</td>\n",
       "      <td>13078</td>\n",
       "    </tr>\n",
       "    <tr>\n",
       "      <th>27</th>\n",
       "      <td>2025-09-07</td>\n",
       "      <td>12367</td>\n",
       "    </tr>\n",
       "    <tr>\n",
       "      <th>28</th>\n",
       "      <td>2025-09-08</td>\n",
       "      <td>11826</td>\n",
       "    </tr>\n",
       "    <tr>\n",
       "      <th>29</th>\n",
       "      <td>2025-09-09</td>\n",
       "      <td>11780</td>\n",
       "    </tr>\n",
       "    <tr>\n",
       "      <th>30</th>\n",
       "      <td>2025-09-10</td>\n",
       "      <td>12526</td>\n",
       "    </tr>\n",
       "    <tr>\n",
       "      <th>31</th>\n",
       "      <td>2025-09-11</td>\n",
       "      <td>8623</td>\n",
       "    </tr>\n",
       "    <tr>\n",
       "      <th>32</th>\n",
       "      <td>2025-09-12</td>\n",
       "      <td>6436</td>\n",
       "    </tr>\n",
       "    <tr>\n",
       "      <th>33</th>\n",
       "      <td>2025-09-13</td>\n",
       "      <td>5183</td>\n",
       "    </tr>\n",
       "    <tr>\n",
       "      <th>34</th>\n",
       "      <td>2025-09-14</td>\n",
       "      <td>4364</td>\n",
       "    </tr>\n",
       "    <tr>\n",
       "      <th>35</th>\n",
       "      <td>2025-09-15</td>\n",
       "      <td>3698</td>\n",
       "    </tr>\n",
       "    <tr>\n",
       "      <th>36</th>\n",
       "      <td>2025-09-16</td>\n",
       "      <td>3032</td>\n",
       "    </tr>\n",
       "    <tr>\n",
       "      <th>37</th>\n",
       "      <td>2025-09-17</td>\n",
       "      <td>2548</td>\n",
       "    </tr>\n",
       "    <tr>\n",
       "      <th>38</th>\n",
       "      <td>2025-09-18</td>\n",
       "      <td>1952</td>\n",
       "    </tr>\n",
       "    <tr>\n",
       "      <th>39</th>\n",
       "      <td>2025-09-19</td>\n",
       "      <td>1418</td>\n",
       "    </tr>\n",
       "    <tr>\n",
       "      <th>40</th>\n",
       "      <td>2025-09-20</td>\n",
       "      <td>1100</td>\n",
       "    </tr>\n",
       "    <tr>\n",
       "      <th>41</th>\n",
       "      <td>2025-09-21</td>\n",
       "      <td>776</td>\n",
       "    </tr>\n",
       "    <tr>\n",
       "      <th>42</th>\n",
       "      <td>2025-09-22</td>\n",
       "      <td>546</td>\n",
       "    </tr>\n",
       "    <tr>\n",
       "      <th>43</th>\n",
       "      <td>2025-09-23</td>\n",
       "      <td>317</td>\n",
       "    </tr>\n",
       "  </tbody>\n",
       "</table>\n",
       "</div>"
      ],
      "text/plain": [
       "   session_date  user_id\n",
       "0    2025-08-11     3919\n",
       "1    2025-08-12     6056\n",
       "2    2025-08-13     8489\n",
       "3    2025-08-14    10321\n",
       "4    2025-08-15    14065\n",
       "5    2025-08-16    12205\n",
       "6    2025-08-17    11200\n",
       "7    2025-08-18    10839\n",
       "8    2025-08-19    12118\n",
       "9    2025-08-20    13514\n",
       "10   2025-08-21    15051\n",
       "11   2025-08-22    17563\n",
       "12   2025-08-23    16082\n",
       "13   2025-08-24    13683\n",
       "14   2025-08-25    13635\n",
       "15   2025-08-26    13289\n",
       "16   2025-08-27    14766\n",
       "17   2025-08-28    15388\n",
       "18   2025-08-29    16873\n",
       "19   2025-08-30    14891\n",
       "20   2025-08-31    13266\n",
       "21   2025-09-01    12685\n",
       "22   2025-09-02    12672\n",
       "23   2025-09-03    12777\n",
       "24   2025-09-04    13683\n",
       "25   2025-09-05    15324\n",
       "26   2025-09-06    13078\n",
       "27   2025-09-07    12367\n",
       "28   2025-09-08    11826\n",
       "29   2025-09-09    11780\n",
       "30   2025-09-10    12526\n",
       "31   2025-09-11     8623\n",
       "32   2025-09-12     6436\n",
       "33   2025-09-13     5183\n",
       "34   2025-09-14     4364\n",
       "35   2025-09-15     3698\n",
       "36   2025-09-16     3032\n",
       "37   2025-09-17     2548\n",
       "38   2025-09-18     1952\n",
       "39   2025-09-19     1418\n",
       "40   2025-09-20     1100\n",
       "41   2025-09-21      776\n",
       "42   2025-09-22      546\n",
       "43   2025-09-23      317"
      ]
     },
     "execution_count": 4,
     "metadata": {},
     "output_type": "execute_result"
    }
   ],
   "source": [
    "# Рассчитаем число уникальных пользователей для каждого дня\n",
    "sessions_history.groupby('session_date',as_index=False)['user_id'].nunique()"
   ]
  },
  {
   "cell_type": "code",
   "execution_count": 5,
   "metadata": {
    "scrolled": true
   },
   "outputs": [
    {
     "data": {
      "text/html": [
       "<div>\n",
       "<style scoped>\n",
       "    .dataframe tbody tr th:only-of-type {\n",
       "        vertical-align: middle;\n",
       "    }\n",
       "\n",
       "    .dataframe tbody tr th {\n",
       "        vertical-align: top;\n",
       "    }\n",
       "\n",
       "    .dataframe thead th {\n",
       "        text-align: right;\n",
       "    }\n",
       "</style>\n",
       "<table border=\"1\" class=\"dataframe\">\n",
       "  <thead>\n",
       "    <tr style=\"text-align: right;\">\n",
       "      <th></th>\n",
       "      <th>session_date</th>\n",
       "      <th>registration_flag</th>\n",
       "    </tr>\n",
       "  </thead>\n",
       "  <tbody>\n",
       "    <tr>\n",
       "      <th>0</th>\n",
       "      <td>2025-08-11</td>\n",
       "      <td>169</td>\n",
       "    </tr>\n",
       "    <tr>\n",
       "      <th>1</th>\n",
       "      <td>2025-08-12</td>\n",
       "      <td>336</td>\n",
       "    </tr>\n",
       "    <tr>\n",
       "      <th>2</th>\n",
       "      <td>2025-08-13</td>\n",
       "      <td>464</td>\n",
       "    </tr>\n",
       "    <tr>\n",
       "      <th>3</th>\n",
       "      <td>2025-08-14</td>\n",
       "      <td>625</td>\n",
       "    </tr>\n",
       "    <tr>\n",
       "      <th>4</th>\n",
       "      <td>2025-08-15</td>\n",
       "      <td>840</td>\n",
       "    </tr>\n",
       "    <tr>\n",
       "      <th>5</th>\n",
       "      <td>2025-08-16</td>\n",
       "      <td>916</td>\n",
       "    </tr>\n",
       "    <tr>\n",
       "      <th>6</th>\n",
       "      <td>2025-08-17</td>\n",
       "      <td>833</td>\n",
       "    </tr>\n",
       "    <tr>\n",
       "      <th>7</th>\n",
       "      <td>2025-08-18</td>\n",
       "      <td>860</td>\n",
       "    </tr>\n",
       "    <tr>\n",
       "      <th>8</th>\n",
       "      <td>2025-08-19</td>\n",
       "      <td>831</td>\n",
       "    </tr>\n",
       "    <tr>\n",
       "      <th>9</th>\n",
       "      <td>2025-08-20</td>\n",
       "      <td>1008</td>\n",
       "    </tr>\n",
       "    <tr>\n",
       "      <th>10</th>\n",
       "      <td>2025-08-21</td>\n",
       "      <td>1063</td>\n",
       "    </tr>\n",
       "    <tr>\n",
       "      <th>11</th>\n",
       "      <td>2025-08-22</td>\n",
       "      <td>1251</td>\n",
       "    </tr>\n",
       "    <tr>\n",
       "      <th>12</th>\n",
       "      <td>2025-08-23</td>\n",
       "      <td>1253</td>\n",
       "    </tr>\n",
       "    <tr>\n",
       "      <th>13</th>\n",
       "      <td>2025-08-24</td>\n",
       "      <td>1181</td>\n",
       "    </tr>\n",
       "    <tr>\n",
       "      <th>14</th>\n",
       "      <td>2025-08-25</td>\n",
       "      <td>1060</td>\n",
       "    </tr>\n",
       "    <tr>\n",
       "      <th>15</th>\n",
       "      <td>2025-08-26</td>\n",
       "      <td>1050</td>\n",
       "    </tr>\n",
       "    <tr>\n",
       "      <th>16</th>\n",
       "      <td>2025-08-27</td>\n",
       "      <td>1076</td>\n",
       "    </tr>\n",
       "    <tr>\n",
       "      <th>17</th>\n",
       "      <td>2025-08-28</td>\n",
       "      <td>1175</td>\n",
       "    </tr>\n",
       "    <tr>\n",
       "      <th>18</th>\n",
       "      <td>2025-08-29</td>\n",
       "      <td>1174</td>\n",
       "    </tr>\n",
       "    <tr>\n",
       "      <th>19</th>\n",
       "      <td>2025-08-30</td>\n",
       "      <td>1165</td>\n",
       "    </tr>\n",
       "    <tr>\n",
       "      <th>20</th>\n",
       "      <td>2025-08-31</td>\n",
       "      <td>1105</td>\n",
       "    </tr>\n",
       "    <tr>\n",
       "      <th>21</th>\n",
       "      <td>2025-09-01</td>\n",
       "      <td>1028</td>\n",
       "    </tr>\n",
       "    <tr>\n",
       "      <th>22</th>\n",
       "      <td>2025-09-02</td>\n",
       "      <td>1039</td>\n",
       "    </tr>\n",
       "    <tr>\n",
       "      <th>23</th>\n",
       "      <td>2025-09-03</td>\n",
       "      <td>1035</td>\n",
       "    </tr>\n",
       "    <tr>\n",
       "      <th>24</th>\n",
       "      <td>2025-09-04</td>\n",
       "      <td>1007</td>\n",
       "    </tr>\n",
       "    <tr>\n",
       "      <th>25</th>\n",
       "      <td>2025-09-05</td>\n",
       "      <td>1030</td>\n",
       "    </tr>\n",
       "    <tr>\n",
       "      <th>26</th>\n",
       "      <td>2025-09-06</td>\n",
       "      <td>1023</td>\n",
       "    </tr>\n",
       "    <tr>\n",
       "      <th>27</th>\n",
       "      <td>2025-09-07</td>\n",
       "      <td>1069</td>\n",
       "    </tr>\n",
       "    <tr>\n",
       "      <th>28</th>\n",
       "      <td>2025-09-08</td>\n",
       "      <td>1009</td>\n",
       "    </tr>\n",
       "    <tr>\n",
       "      <th>29</th>\n",
       "      <td>2025-09-09</td>\n",
       "      <td>980</td>\n",
       "    </tr>\n",
       "    <tr>\n",
       "      <th>30</th>\n",
       "      <td>2025-09-10</td>\n",
       "      <td>1015</td>\n",
       "    </tr>\n",
       "    <tr>\n",
       "      <th>31</th>\n",
       "      <td>2025-09-11</td>\n",
       "      <td>824</td>\n",
       "    </tr>\n",
       "    <tr>\n",
       "      <th>32</th>\n",
       "      <td>2025-09-12</td>\n",
       "      <td>669</td>\n",
       "    </tr>\n",
       "    <tr>\n",
       "      <th>33</th>\n",
       "      <td>2025-09-13</td>\n",
       "      <td>537</td>\n",
       "    </tr>\n",
       "    <tr>\n",
       "      <th>34</th>\n",
       "      <td>2025-09-14</td>\n",
       "      <td>440</td>\n",
       "    </tr>\n",
       "    <tr>\n",
       "      <th>35</th>\n",
       "      <td>2025-09-15</td>\n",
       "      <td>383</td>\n",
       "    </tr>\n",
       "    <tr>\n",
       "      <th>36</th>\n",
       "      <td>2025-09-16</td>\n",
       "      <td>286</td>\n",
       "    </tr>\n",
       "    <tr>\n",
       "      <th>37</th>\n",
       "      <td>2025-09-17</td>\n",
       "      <td>272</td>\n",
       "    </tr>\n",
       "    <tr>\n",
       "      <th>38</th>\n",
       "      <td>2025-09-18</td>\n",
       "      <td>201</td>\n",
       "    </tr>\n",
       "    <tr>\n",
       "      <th>39</th>\n",
       "      <td>2025-09-19</td>\n",
       "      <td>132</td>\n",
       "    </tr>\n",
       "    <tr>\n",
       "      <th>40</th>\n",
       "      <td>2025-09-20</td>\n",
       "      <td>107</td>\n",
       "    </tr>\n",
       "    <tr>\n",
       "      <th>41</th>\n",
       "      <td>2025-09-21</td>\n",
       "      <td>87</td>\n",
       "    </tr>\n",
       "    <tr>\n",
       "      <th>42</th>\n",
       "      <td>2025-09-22</td>\n",
       "      <td>68</td>\n",
       "    </tr>\n",
       "    <tr>\n",
       "      <th>43</th>\n",
       "      <td>2025-09-23</td>\n",
       "      <td>32</td>\n",
       "    </tr>\n",
       "  </tbody>\n",
       "</table>\n",
       "</div>"
      ],
      "text/plain": [
       "   session_date  registration_flag\n",
       "0    2025-08-11                169\n",
       "1    2025-08-12                336\n",
       "2    2025-08-13                464\n",
       "3    2025-08-14                625\n",
       "4    2025-08-15                840\n",
       "5    2025-08-16                916\n",
       "6    2025-08-17                833\n",
       "7    2025-08-18                860\n",
       "8    2025-08-19                831\n",
       "9    2025-08-20               1008\n",
       "10   2025-08-21               1063\n",
       "11   2025-08-22               1251\n",
       "12   2025-08-23               1253\n",
       "13   2025-08-24               1181\n",
       "14   2025-08-25               1060\n",
       "15   2025-08-26               1050\n",
       "16   2025-08-27               1076\n",
       "17   2025-08-28               1175\n",
       "18   2025-08-29               1174\n",
       "19   2025-08-30               1165\n",
       "20   2025-08-31               1105\n",
       "21   2025-09-01               1028\n",
       "22   2025-09-02               1039\n",
       "23   2025-09-03               1035\n",
       "24   2025-09-04               1007\n",
       "25   2025-09-05               1030\n",
       "26   2025-09-06               1023\n",
       "27   2025-09-07               1069\n",
       "28   2025-09-08               1009\n",
       "29   2025-09-09                980\n",
       "30   2025-09-10               1015\n",
       "31   2025-09-11                824\n",
       "32   2025-09-12                669\n",
       "33   2025-09-13                537\n",
       "34   2025-09-14                440\n",
       "35   2025-09-15                383\n",
       "36   2025-09-16                286\n",
       "37   2025-09-17                272\n",
       "38   2025-09-18                201\n",
       "39   2025-09-19                132\n",
       "40   2025-09-20                107\n",
       "41   2025-09-21                 87\n",
       "42   2025-09-22                 68\n",
       "43   2025-09-23                 32"
      ]
     },
     "execution_count": 5,
     "metadata": {},
     "output_type": "execute_result"
    }
   ],
   "source": [
    "# Рассчитаем число зарегистрированных пользователей для каждого дня\n",
    "sessions_history.groupby('session_date',as_index=False)['registration_flag'].sum()"
   ]
  },
  {
   "cell_type": "code",
   "execution_count": 6,
   "metadata": {
    "scrolled": true
   },
   "outputs": [
    {
     "data": {
      "image/png": "[encoded data removed]",
      "text/plain": [
       "<Figure size 1080x432 with 1 Axes>"
      ]
     },
     "metadata": {
      "needs_background": "light"
     },
     "output_type": "display_data"
    }
   ],
   "source": [
    "# Зададим размеры графика\n",
    "plt.figure(figsize=(15, 6))\n",
    "\n",
    "# Построим график с числом уникальных пользователей и числом зарегистрированных пользователей по дням\n",
    "sessions_history.groupby('session_date')['user_id'].nunique().plot(kind='line', label='Число уникальных пользователей')\n",
    "sessions_history.groupby('session_date')['registration_flag'].sum().plot(kind='line',label='Число зарегистрированных пользователей')\n",
    "\n",
    "# Настраиваем оси\n",
    "plt.title('Динамика уникальных пользователей и числа зарегистрированных пользователей по дням')\n",
    "plt.xlabel('Дата')\n",
    "plt.ylabel('Число пользователей')\n",
    "plt.legend(loc='upper right')\n",
    "plt.grid()\n",
    "plt.show()"
   ]
  },
  {
   "cell_type": "markdown",
   "metadata": {},
   "source": [
    "Как видно из графика, в первые дни наблюдения зафиксирован значительный рост числа уникальных пользователей. После чего в динамике показателя наблюдаются перепады с пиковым значением 2025-08-22. Начиная с 2025-09-10 значение показателя резко снижается, и данная тенденция наблюдается вплоть до конца наблюдаемого периода.\n",
    "\n",
    "Динамика числа регистраций более стабильна относительно динамики количества уникальных пользователей - значительные перепады в значении показателя отсутствуют. Однако как и в случае с уникальными пользователями, начиная с 2025-09-10 наблюдается тенденция к снижению показателя."
   ]
  },
  {
   "cell_type": "code",
   "execution_count": 7,
   "metadata": {
    "scrolled": true
   },
   "outputs": [
    {
     "data": {
      "text/html": [
       "<div>\n",
       "<style scoped>\n",
       "    .dataframe tbody tr th:only-of-type {\n",
       "        vertical-align: middle;\n",
       "    }\n",
       "\n",
       "    .dataframe tbody tr th {\n",
       "        vertical-align: top;\n",
       "    }\n",
       "\n",
       "    .dataframe thead th {\n",
       "        text-align: right;\n",
       "    }\n",
       "</style>\n",
       "<table border=\"1\" class=\"dataframe\">\n",
       "  <thead>\n",
       "    <tr style=\"text-align: right;\">\n",
       "      <th></th>\n",
       "      <th>user_id</th>\n",
       "      <th>registration_flag</th>\n",
       "      <th>df_reg_share</th>\n",
       "    </tr>\n",
       "    <tr>\n",
       "      <th>session_date</th>\n",
       "      <th></th>\n",
       "      <th></th>\n",
       "      <th></th>\n",
       "    </tr>\n",
       "  </thead>\n",
       "  <tbody>\n",
       "    <tr>\n",
       "      <th>2025-08-11</th>\n",
       "      <td>3919</td>\n",
       "      <td>169</td>\n",
       "      <td>0.043123</td>\n",
       "    </tr>\n",
       "    <tr>\n",
       "      <th>2025-08-12</th>\n",
       "      <td>6056</td>\n",
       "      <td>336</td>\n",
       "      <td>0.055482</td>\n",
       "    </tr>\n",
       "    <tr>\n",
       "      <th>2025-08-13</th>\n",
       "      <td>8489</td>\n",
       "      <td>464</td>\n",
       "      <td>0.054659</td>\n",
       "    </tr>\n",
       "    <tr>\n",
       "      <th>2025-08-14</th>\n",
       "      <td>10321</td>\n",
       "      <td>625</td>\n",
       "      <td>0.060556</td>\n",
       "    </tr>\n",
       "    <tr>\n",
       "      <th>2025-08-15</th>\n",
       "      <td>14065</td>\n",
       "      <td>840</td>\n",
       "      <td>0.059723</td>\n",
       "    </tr>\n",
       "    <tr>\n",
       "      <th>2025-08-16</th>\n",
       "      <td>12205</td>\n",
       "      <td>916</td>\n",
       "      <td>0.075051</td>\n",
       "    </tr>\n",
       "    <tr>\n",
       "      <th>2025-08-17</th>\n",
       "      <td>11200</td>\n",
       "      <td>833</td>\n",
       "      <td>0.074375</td>\n",
       "    </tr>\n",
       "    <tr>\n",
       "      <th>2025-08-18</th>\n",
       "      <td>10839</td>\n",
       "      <td>860</td>\n",
       "      <td>0.079343</td>\n",
       "    </tr>\n",
       "    <tr>\n",
       "      <th>2025-08-19</th>\n",
       "      <td>12118</td>\n",
       "      <td>831</td>\n",
       "      <td>0.068576</td>\n",
       "    </tr>\n",
       "    <tr>\n",
       "      <th>2025-08-20</th>\n",
       "      <td>13514</td>\n",
       "      <td>1008</td>\n",
       "      <td>0.074589</td>\n",
       "    </tr>\n",
       "    <tr>\n",
       "      <th>2025-08-21</th>\n",
       "      <td>15051</td>\n",
       "      <td>1063</td>\n",
       "      <td>0.070627</td>\n",
       "    </tr>\n",
       "    <tr>\n",
       "      <th>2025-08-22</th>\n",
       "      <td>17563</td>\n",
       "      <td>1251</td>\n",
       "      <td>0.071229</td>\n",
       "    </tr>\n",
       "    <tr>\n",
       "      <th>2025-08-23</th>\n",
       "      <td>16082</td>\n",
       "      <td>1253</td>\n",
       "      <td>0.077913</td>\n",
       "    </tr>\n",
       "    <tr>\n",
       "      <th>2025-08-24</th>\n",
       "      <td>13683</td>\n",
       "      <td>1181</td>\n",
       "      <td>0.086311</td>\n",
       "    </tr>\n",
       "    <tr>\n",
       "      <th>2025-08-25</th>\n",
       "      <td>13635</td>\n",
       "      <td>1060</td>\n",
       "      <td>0.077741</td>\n",
       "    </tr>\n",
       "    <tr>\n",
       "      <th>2025-08-26</th>\n",
       "      <td>13289</td>\n",
       "      <td>1050</td>\n",
       "      <td>0.079013</td>\n",
       "    </tr>\n",
       "    <tr>\n",
       "      <th>2025-08-27</th>\n",
       "      <td>14766</td>\n",
       "      <td>1076</td>\n",
       "      <td>0.072870</td>\n",
       "    </tr>\n",
       "    <tr>\n",
       "      <th>2025-08-28</th>\n",
       "      <td>15388</td>\n",
       "      <td>1175</td>\n",
       "      <td>0.076358</td>\n",
       "    </tr>\n",
       "    <tr>\n",
       "      <th>2025-08-29</th>\n",
       "      <td>16873</td>\n",
       "      <td>1174</td>\n",
       "      <td>0.069579</td>\n",
       "    </tr>\n",
       "    <tr>\n",
       "      <th>2025-08-30</th>\n",
       "      <td>14891</td>\n",
       "      <td>1165</td>\n",
       "      <td>0.078235</td>\n",
       "    </tr>\n",
       "    <tr>\n",
       "      <th>2025-08-31</th>\n",
       "      <td>13266</td>\n",
       "      <td>1105</td>\n",
       "      <td>0.083296</td>\n",
       "    </tr>\n",
       "    <tr>\n",
       "      <th>2025-09-01</th>\n",
       "      <td>12685</td>\n",
       "      <td>1028</td>\n",
       "      <td>0.081041</td>\n",
       "    </tr>\n",
       "    <tr>\n",
       "      <th>2025-09-02</th>\n",
       "      <td>12672</td>\n",
       "      <td>1039</td>\n",
       "      <td>0.081992</td>\n",
       "    </tr>\n",
       "    <tr>\n",
       "      <th>2025-09-03</th>\n",
       "      <td>12777</td>\n",
       "      <td>1035</td>\n",
       "      <td>0.081005</td>\n",
       "    </tr>\n",
       "    <tr>\n",
       "      <th>2025-09-04</th>\n",
       "      <td>13683</td>\n",
       "      <td>1007</td>\n",
       "      <td>0.073595</td>\n",
       "    </tr>\n",
       "    <tr>\n",
       "      <th>2025-09-05</th>\n",
       "      <td>15324</td>\n",
       "      <td>1030</td>\n",
       "      <td>0.067215</td>\n",
       "    </tr>\n",
       "    <tr>\n",
       "      <th>2025-09-06</th>\n",
       "      <td>13078</td>\n",
       "      <td>1023</td>\n",
       "      <td>0.078223</td>\n",
       "    </tr>\n",
       "    <tr>\n",
       "      <th>2025-09-07</th>\n",
       "      <td>12367</td>\n",
       "      <td>1069</td>\n",
       "      <td>0.086440</td>\n",
       "    </tr>\n",
       "    <tr>\n",
       "      <th>2025-09-08</th>\n",
       "      <td>11826</td>\n",
       "      <td>1009</td>\n",
       "      <td>0.085320</td>\n",
       "    </tr>\n",
       "    <tr>\n",
       "      <th>2025-09-09</th>\n",
       "      <td>11780</td>\n",
       "      <td>980</td>\n",
       "      <td>0.083192</td>\n",
       "    </tr>\n",
       "    <tr>\n",
       "      <th>2025-09-10</th>\n",
       "      <td>12526</td>\n",
       "      <td>1015</td>\n",
       "      <td>0.081031</td>\n",
       "    </tr>\n",
       "    <tr>\n",
       "      <th>2025-09-11</th>\n",
       "      <td>8623</td>\n",
       "      <td>824</td>\n",
       "      <td>0.095558</td>\n",
       "    </tr>\n",
       "    <tr>\n",
       "      <th>2025-09-12</th>\n",
       "      <td>6436</td>\n",
       "      <td>669</td>\n",
       "      <td>0.103947</td>\n",
       "    </tr>\n",
       "    <tr>\n",
       "      <th>2025-09-13</th>\n",
       "      <td>5183</td>\n",
       "      <td>537</td>\n",
       "      <td>0.103608</td>\n",
       "    </tr>\n",
       "    <tr>\n",
       "      <th>2025-09-14</th>\n",
       "      <td>4364</td>\n",
       "      <td>440</td>\n",
       "      <td>0.100825</td>\n",
       "    </tr>\n",
       "    <tr>\n",
       "      <th>2025-09-15</th>\n",
       "      <td>3698</td>\n",
       "      <td>383</td>\n",
       "      <td>0.103569</td>\n",
       "    </tr>\n",
       "    <tr>\n",
       "      <th>2025-09-16</th>\n",
       "      <td>3032</td>\n",
       "      <td>286</td>\n",
       "      <td>0.094327</td>\n",
       "    </tr>\n",
       "    <tr>\n",
       "      <th>2025-09-17</th>\n",
       "      <td>2548</td>\n",
       "      <td>272</td>\n",
       "      <td>0.106750</td>\n",
       "    </tr>\n",
       "    <tr>\n",
       "      <th>2025-09-18</th>\n",
       "      <td>1952</td>\n",
       "      <td>201</td>\n",
       "      <td>0.102971</td>\n",
       "    </tr>\n",
       "    <tr>\n",
       "      <th>2025-09-19</th>\n",
       "      <td>1418</td>\n",
       "      <td>132</td>\n",
       "      <td>0.093089</td>\n",
       "    </tr>\n",
       "    <tr>\n",
       "      <th>2025-09-20</th>\n",
       "      <td>1100</td>\n",
       "      <td>107</td>\n",
       "      <td>0.097273</td>\n",
       "    </tr>\n",
       "    <tr>\n",
       "      <th>2025-09-21</th>\n",
       "      <td>776</td>\n",
       "      <td>87</td>\n",
       "      <td>0.112113</td>\n",
       "    </tr>\n",
       "    <tr>\n",
       "      <th>2025-09-22</th>\n",
       "      <td>546</td>\n",
       "      <td>68</td>\n",
       "      <td>0.124542</td>\n",
       "    </tr>\n",
       "    <tr>\n",
       "      <th>2025-09-23</th>\n",
       "      <td>317</td>\n",
       "      <td>32</td>\n",
       "      <td>0.100946</td>\n",
       "    </tr>\n",
       "  </tbody>\n",
       "</table>\n",
       "</div>"
      ],
      "text/plain": [
       "              user_id  registration_flag  df_reg_share\n",
       "session_date                                          \n",
       "2025-08-11       3919                169      0.043123\n",
       "2025-08-12       6056                336      0.055482\n",
       "2025-08-13       8489                464      0.054659\n",
       "2025-08-14      10321                625      0.060556\n",
       "2025-08-15      14065                840      0.059723\n",
       "2025-08-16      12205                916      0.075051\n",
       "2025-08-17      11200                833      0.074375\n",
       "2025-08-18      10839                860      0.079343\n",
       "2025-08-19      12118                831      0.068576\n",
       "2025-08-20      13514               1008      0.074589\n",
       "2025-08-21      15051               1063      0.070627\n",
       "2025-08-22      17563               1251      0.071229\n",
       "2025-08-23      16082               1253      0.077913\n",
       "2025-08-24      13683               1181      0.086311\n",
       "2025-08-25      13635               1060      0.077741\n",
       "2025-08-26      13289               1050      0.079013\n",
       "2025-08-27      14766               1076      0.072870\n",
       "2025-08-28      15388               1175      0.076358\n",
       "2025-08-29      16873               1174      0.069579\n",
       "2025-08-30      14891               1165      0.078235\n",
       "2025-08-31      13266               1105      0.083296\n",
       "2025-09-01      12685               1028      0.081041\n",
       "2025-09-02      12672               1039      0.081992\n",
       "2025-09-03      12777               1035      0.081005\n",
       "2025-09-04      13683               1007      0.073595\n",
       "2025-09-05      15324               1030      0.067215\n",
       "2025-09-06      13078               1023      0.078223\n",
       "2025-09-07      12367               1069      0.086440\n",
       "2025-09-08      11826               1009      0.085320\n",
       "2025-09-09      11780                980      0.083192\n",
       "2025-09-10      12526               1015      0.081031\n",
       "2025-09-11       8623                824      0.095558\n",
       "2025-09-12       6436                669      0.103947\n",
       "2025-09-13       5183                537      0.103608\n",
       "2025-09-14       4364                440      0.100825\n",
       "2025-09-15       3698                383      0.103569\n",
       "2025-09-16       3032                286      0.094327\n",
       "2025-09-17       2548                272      0.106750\n",
       "2025-09-18       1952                201      0.102971\n",
       "2025-09-19       1418                132      0.093089\n",
       "2025-09-20       1100                107      0.097273\n",
       "2025-09-21        776                 87      0.112113\n",
       "2025-09-22        546                 68      0.124542\n",
       "2025-09-23        317                 32      0.100946"
      ]
     },
     "execution_count": 7,
     "metadata": {},
     "output_type": "execute_result"
    }
   ],
   "source": [
    "# Создадим общий датафрейм с количеством уникальных и зарегистрированных пользователей\n",
    "users_per_day = sessions_history.groupby('session_date', as_index=False)['user_id'].nunique()\n",
    "registrations_per_day = sessions_history.groupby('session_date',as_index=False)['registration_flag'].sum()\n",
    "df_merged = users_per_day.merge(registrations_per_day, on = 'session_date', how = 'right')\n",
    "\n",
    "# Создадим столбец с долей зарегистрированных пользователей от всех пользователей по дням\n",
    "df_merged['df_reg_share'] = df_merged['registration_flag'].div(df_merged['user_id'])\n",
    "df_merged = df_merged.set_index('session_date')\n",
    "df_merged"
   ]
  },
  {
   "cell_type": "code",
   "execution_count": 8,
   "metadata": {},
   "outputs": [
    {
     "data": {
      "image/png": "[encoded data removed]",
      "text/plain": [
       "<Figure size 864x432 with 1 Axes>"
      ]
     },
     "metadata": {
      "needs_background": "light"
     },
     "output_type": "display_data"
    }
   ],
   "source": [
    "# Зададим размеры графика\n",
    "plt.figure(figsize=(12, 6))\n",
    "\n",
    "# Построим график с долей зарегистрированных пользователей от всех пользователей по дням\n",
    "df_merged['df_reg_share'].plot(kind='line')\n",
    "\n",
    "\n",
    "# Настраиваем оси\n",
    "plt.title('Динамика доли зарегистрированных пользователей от всех пользователей по дням по дням')\n",
    "plt.xlabel('Дата')\n",
    "plt.ylabel('Доля зарегистрированных пользователей')\n",
    "plt.grid()\n",
    "plt.show()"
   ]
  },
  {
   "cell_type": "markdown",
   "metadata": {},
   "source": [
    "Как видно из графика, несмотря на периодические спады, на протяжении анализируемого периода наблюдается положительная динамика показателя - если в первые дни наблюдения доля зарегистрированных пользователей составляла 0,04, то к концу периода значение увеличилось до отметки 0,10-0,12."
   ]
  },
  {
   "cell_type": "markdown",
   "metadata": {
    "id": "UR7D7RhF0eMr"
   },
   "source": [
    "#### 1.4. Анализ числа просмотренных страниц"
   ]
  },
  {
   "cell_type": "code",
   "execution_count": 9,
   "metadata": {
    "id": "cb6hPlVzPaSf"
   },
   "outputs": [
    {
     "data": {
      "text/plain": [
       "page_counter\n",
       "1     29160\n",
       "2    105536\n",
       "3    166690\n",
       "4    105569\n",
       "5     26288\n",
       "6      2589\n",
       "7        92\n",
       "Name: session_id, dtype: int64"
      ]
     },
     "metadata": {},
     "output_type": "display_data"
    }
   ],
   "source": [
    "# Рассчитаем количество сессий для каждого значения количества просмотренных страниц\n",
    "sessions_per_page_counter=sessions_history.groupby('page_counter')['session_id'].count()\n",
    "display(sessions_per_page_counter)"
   ]
  },
  {
   "cell_type": "code",
   "execution_count": 10,
   "metadata": {},
   "outputs": [
    {
     "data": {
      "text/plain": [
       "(array([0, 1, 2, 3, 4, 5, 6]),\n",
       " [Text(0, 0, '1'),\n",
       "  Text(1, 0, '2'),\n",
       "  Text(2, 0, '3'),\n",
       "  Text(3, 0, '4'),\n",
       "  Text(4, 0, '5'),\n",
       "  Text(5, 0, '6'),\n",
       "  Text(6, 0, '7')])"
      ]
     },
     "execution_count": 10,
     "metadata": {},
     "output_type": "execute_result"
    },
    {
     "data": {
      "image/png": "[encoded data removed]",
      "text/plain": [
       "<Figure size 864x504 with 1 Axes>"
      ]
     },
     "metadata": {
      "needs_background": "light"
     },
     "output_type": "display_data"
    }
   ],
   "source": [
    "# Построим столбчатую диаграмму с распределением числа просмотров страниц \n",
    "sessions_per_page_counter.plot(kind='bar',\n",
    "               title=f'Kоличество сессий для каждого значения количества просмотренных страниц',\n",
    "               ylabel='Количество сессий',\n",
    "               xlabel='Количество просмотренных страниц',\n",
    "               figsize=(12, 7),\n",
    "               legend=False,\n",
    "               color='green')\n",
    "plt.xticks(rotation=0)\n"
   ]
  },
  {
   "cell_type": "markdown",
   "metadata": {},
   "source": [
    "Как видно из диаграммы, в большинстве случаев количество просматриваемых страниц составляет 3. Далее следуют сессии с 2 и 4 просмотренными страницами. Количество сессий с 5 страницами и более значительно ниже количества сессий с число страниц до 4."
   ]
  },
  {
   "cell_type": "markdown",
   "metadata": {
    "id": "xDltSpVP0eMr"
   },
   "source": [
    "#### 1.5. Доля пользователей, просмотревших более четырёх страниц"
   ]
  },
  {
   "cell_type": "code",
   "execution_count": 11,
   "metadata": {
    "id": "iygaPfixPYMW"
   },
   "outputs": [
    {
     "data": {
      "text/html": [
       "<div>\n",
       "<style scoped>\n",
       "    .dataframe tbody tr th:only-of-type {\n",
       "        vertical-align: middle;\n",
       "    }\n",
       "\n",
       "    .dataframe tbody tr th {\n",
       "        vertical-align: top;\n",
       "    }\n",
       "\n",
       "    .dataframe thead th {\n",
       "        text-align: right;\n",
       "    }\n",
       "</style>\n",
       "<table border=\"1\" class=\"dataframe\">\n",
       "  <thead>\n",
       "    <tr style=\"text-align: right;\">\n",
       "      <th></th>\n",
       "      <th>user_id</th>\n",
       "      <th>session_id</th>\n",
       "      <th>session_date</th>\n",
       "      <th>session_start_ts</th>\n",
       "      <th>install_date</th>\n",
       "      <th>session_number</th>\n",
       "      <th>registration_flag</th>\n",
       "      <th>page_counter</th>\n",
       "      <th>region</th>\n",
       "      <th>device</th>\n",
       "      <th>good_session</th>\n",
       "    </tr>\n",
       "  </thead>\n",
       "  <tbody>\n",
       "    <tr>\n",
       "      <th>0</th>\n",
       "      <td>E302123B7000BFE4</td>\n",
       "      <td>F9AF61A0C2023832</td>\n",
       "      <td>2025-08-15</td>\n",
       "      <td>2025-08-15 17:47:35</td>\n",
       "      <td>2025-08-15</td>\n",
       "      <td>1</td>\n",
       "      <td>0</td>\n",
       "      <td>3</td>\n",
       "      <td>CIS</td>\n",
       "      <td>iPhone</td>\n",
       "      <td>0</td>\n",
       "    </tr>\n",
       "    <tr>\n",
       "      <th>1</th>\n",
       "      <td>2530F72E221829FB</td>\n",
       "      <td>85003A206CBDAC6F</td>\n",
       "      <td>2025-08-15</td>\n",
       "      <td>2025-08-15 16:42:14</td>\n",
       "      <td>2025-08-15</td>\n",
       "      <td>1</td>\n",
       "      <td>0</td>\n",
       "      <td>4</td>\n",
       "      <td>MENA</td>\n",
       "      <td>Android</td>\n",
       "      <td>1</td>\n",
       "    </tr>\n",
       "    <tr>\n",
       "      <th>2</th>\n",
       "      <td>876E020A4FC512F5</td>\n",
       "      <td>3677423E49D72DEE</td>\n",
       "      <td>2025-08-15</td>\n",
       "      <td>2025-08-15 12:30:00</td>\n",
       "      <td>2025-08-15</td>\n",
       "      <td>1</td>\n",
       "      <td>0</td>\n",
       "      <td>4</td>\n",
       "      <td>EU</td>\n",
       "      <td>PC</td>\n",
       "      <td>1</td>\n",
       "    </tr>\n",
       "    <tr>\n",
       "      <th>3</th>\n",
       "      <td>2640B349E1D81584</td>\n",
       "      <td>956B45F5915CA225</td>\n",
       "      <td>2025-08-15</td>\n",
       "      <td>2025-08-15 15:31:31</td>\n",
       "      <td>2025-08-15</td>\n",
       "      <td>1</td>\n",
       "      <td>0</td>\n",
       "      <td>4</td>\n",
       "      <td>CIS</td>\n",
       "      <td>Android</td>\n",
       "      <td>1</td>\n",
       "    </tr>\n",
       "    <tr>\n",
       "      <th>4</th>\n",
       "      <td>94E1CBFAEF1F5EE9</td>\n",
       "      <td>83BF0DA35F9F1F40</td>\n",
       "      <td>2025-08-15</td>\n",
       "      <td>2025-08-15 21:33:53</td>\n",
       "      <td>2025-08-15</td>\n",
       "      <td>1</td>\n",
       "      <td>0</td>\n",
       "      <td>3</td>\n",
       "      <td>CIS</td>\n",
       "      <td>Android</td>\n",
       "      <td>0</td>\n",
       "    </tr>\n",
       "    <tr>\n",
       "      <th>...</th>\n",
       "      <td>...</td>\n",
       "      <td>...</td>\n",
       "      <td>...</td>\n",
       "      <td>...</td>\n",
       "      <td>...</td>\n",
       "      <td>...</td>\n",
       "      <td>...</td>\n",
       "      <td>...</td>\n",
       "      <td>...</td>\n",
       "      <td>...</td>\n",
       "      <td>...</td>\n",
       "    </tr>\n",
       "    <tr>\n",
       "      <th>435919</th>\n",
       "      <td>769BC199AF26FEF8</td>\n",
       "      <td>914903B51D69C5EA</td>\n",
       "      <td>2025-09-17</td>\n",
       "      <td>2025-09-17 21:33:57</td>\n",
       "      <td>2025-09-04</td>\n",
       "      <td>3</td>\n",
       "      <td>1</td>\n",
       "      <td>3</td>\n",
       "      <td>CIS</td>\n",
       "      <td>PC</td>\n",
       "      <td>0</td>\n",
       "    </tr>\n",
       "    <tr>\n",
       "      <th>435920</th>\n",
       "      <td>599DED39F3CD2ADE</td>\n",
       "      <td>66ADBE343C94DCDA</td>\n",
       "      <td>2025-09-17</td>\n",
       "      <td>2025-09-17 17:11:46</td>\n",
       "      <td>2025-09-04</td>\n",
       "      <td>4</td>\n",
       "      <td>0</td>\n",
       "      <td>4</td>\n",
       "      <td>MENA</td>\n",
       "      <td>iPhone</td>\n",
       "      <td>1</td>\n",
       "    </tr>\n",
       "    <tr>\n",
       "      <th>435921</th>\n",
       "      <td>1FA20C4BC94E64B2</td>\n",
       "      <td>C4CCD7E81733665F</td>\n",
       "      <td>2025-09-17</td>\n",
       "      <td>2025-09-17 19:36:55</td>\n",
       "      <td>2025-09-04</td>\n",
       "      <td>4</td>\n",
       "      <td>0</td>\n",
       "      <td>4</td>\n",
       "      <td>CIS</td>\n",
       "      <td>Android</td>\n",
       "      <td>1</td>\n",
       "    </tr>\n",
       "    <tr>\n",
       "      <th>435922</th>\n",
       "      <td>88E5FC3016A7A0AD</td>\n",
       "      <td>6834FB4914B56200</td>\n",
       "      <td>2025-09-17</td>\n",
       "      <td>2025-09-17 22:13:33</td>\n",
       "      <td>2025-09-04</td>\n",
       "      <td>5</td>\n",
       "      <td>0</td>\n",
       "      <td>4</td>\n",
       "      <td>MENA</td>\n",
       "      <td>PC</td>\n",
       "      <td>1</td>\n",
       "    </tr>\n",
       "    <tr>\n",
       "      <th>435923</th>\n",
       "      <td>5CC144801F7B0D1D</td>\n",
       "      <td>8CC9E67AFF5D9CA8</td>\n",
       "      <td>2025-09-17</td>\n",
       "      <td>2025-09-17 15:23:46</td>\n",
       "      <td>2025-09-04</td>\n",
       "      <td>3</td>\n",
       "      <td>0</td>\n",
       "      <td>2</td>\n",
       "      <td>MENA</td>\n",
       "      <td>iPhone</td>\n",
       "      <td>0</td>\n",
       "    </tr>\n",
       "  </tbody>\n",
       "</table>\n",
       "<p>435924 rows × 11 columns</p>\n",
       "</div>"
      ],
      "text/plain": [
       "                 user_id        session_id session_date     session_start_ts  \\\n",
       "0       E302123B7000BFE4  F9AF61A0C2023832   2025-08-15  2025-08-15 17:47:35   \n",
       "1       2530F72E221829FB  85003A206CBDAC6F   2025-08-15  2025-08-15 16:42:14   \n",
       "2       876E020A4FC512F5  3677423E49D72DEE   2025-08-15  2025-08-15 12:30:00   \n",
       "3       2640B349E1D81584  956B45F5915CA225   2025-08-15  2025-08-15 15:31:31   \n",
       "4       94E1CBFAEF1F5EE9  83BF0DA35F9F1F40   2025-08-15  2025-08-15 21:33:53   \n",
       "...                  ...               ...          ...                  ...   \n",
       "435919  769BC199AF26FEF8  914903B51D69C5EA   2025-09-17  2025-09-17 21:33:57   \n",
       "435920  599DED39F3CD2ADE  66ADBE343C94DCDA   2025-09-17  2025-09-17 17:11:46   \n",
       "435921  1FA20C4BC94E64B2  C4CCD7E81733665F   2025-09-17  2025-09-17 19:36:55   \n",
       "435922  88E5FC3016A7A0AD  6834FB4914B56200   2025-09-17  2025-09-17 22:13:33   \n",
       "435923  5CC144801F7B0D1D  8CC9E67AFF5D9CA8   2025-09-17  2025-09-17 15:23:46   \n",
       "\n",
       "       install_date  session_number  registration_flag  page_counter region  \\\n",
       "0        2025-08-15               1                  0             3    CIS   \n",
       "1        2025-08-15               1                  0             4   MENA   \n",
       "2        2025-08-15               1                  0             4     EU   \n",
       "3        2025-08-15               1                  0             4    CIS   \n",
       "4        2025-08-15               1                  0             3    CIS   \n",
       "...             ...             ...                ...           ...    ...   \n",
       "435919   2025-09-04               3                  1             3    CIS   \n",
       "435920   2025-09-04               4                  0             4   MENA   \n",
       "435921   2025-09-04               4                  0             4    CIS   \n",
       "435922   2025-09-04               5                  0             4   MENA   \n",
       "435923   2025-09-04               3                  0             2   MENA   \n",
       "\n",
       "         device  good_session  \n",
       "0        iPhone             0  \n",
       "1       Android             1  \n",
       "2            PC             1  \n",
       "3       Android             1  \n",
       "4       Android             0  \n",
       "...         ...           ...  \n",
       "435919       PC             0  \n",
       "435920   iPhone             1  \n",
       "435921  Android             1  \n",
       "435922       PC             1  \n",
       "435923   iPhone             0  \n",
       "\n",
       "[435924 rows x 11 columns]"
      ]
     },
     "execution_count": 11,
     "metadata": {},
     "output_type": "execute_result"
    }
   ],
   "source": [
    "# Создадим столбец good_session\n",
    "sessions_history['good_session'] = 0\n",
    "\n",
    "# Присвоим значение 1, если за одну сессию было просмотрено 4 и более страниц\n",
    "sessions_history.loc[sessions_history['page_counter']>=4,'good_session']=1\n",
    "\n",
    "# Выведем измененный датафрейм\n",
    "sessions_history"
   ]
  },
  {
   "cell_type": "code",
   "execution_count": 12,
   "metadata": {},
   "outputs": [
    {
     "data": {
      "image/png": "[encoded data removed]",
      "text/plain": [
       "<Figure size 1080x720 with 1 Axes>"
      ]
     },
     "metadata": {
      "needs_background": "light"
     },
     "output_type": "display_data"
    }
   ],
   "source": [
    "# Построим график со средним значением доли успешных сессий от всех сессий по дням\n",
    "sessions_history.groupby('session_date')['good_session'].mean().plot(kind='line', figsize=(15, 10))\n",
    "\n",
    "# Настраиваем оси\n",
    "plt.title('Динамика среднего значения доли успешных сессий от всех сессий по дням')\n",
    "plt.xlabel('Дата')\n",
    "plt.ylabel('Доля успешных сессий.')\n",
    "plt.legend(loc='upper right')\n",
    "plt.grid()\n",
    "plt.show()"
   ]
  },
  {
   "cell_type": "markdown",
   "metadata": {},
   "source": [
    "Из графика видно, что доля успешных сессий от всех сессий по дням на протяжении рассматриваемого периода колеблется от 0,29 до 0,32. При этом в начале рассматриваемого периода наблюдаются незначительные колебания в динамике показателя. Однако, начиная с 2025-09-15 колебания приобретают существенную амплитуду."
   ]
  },
  {
   "cell_type": "markdown",
   "metadata": {},
   "source": [
    "### Промежуточный вывод\n",
    "\n",
    "Таким образом, в данном разделе были проведены загрузка и знакомство с данными. Также был проведён числа уникальных пользователей и числа регистраций по дням. Динамика количества зарегистрированных пользователей имеет относительно стабильную динамику, в то время как количество уникальных пользователей резко увеличивается в начале рассматриваемого периода и значительно снижается по окончанию наблюдения.\n",
    "\n",
    "Далее был проведён анализ количества просмотренных страниц в ходе сессий пользователей. В большинстве случаев количество просматриваемых страниц составляет 3. Далее следуют сессии с 2 и 4 просмотренными страницами.\n",
    "\n",
    "Анализ сессий с числом просмотренных страниц 4 и более показал относительно стабильную динамику показателя. Однако в конце рассматриваемого периода колебания стали приобретать более существенную амплитуду."
   ]
  },
  {
   "cell_type": "markdown",
   "metadata": {
    "id": "21JcG77Y0eMt"
   },
   "source": [
    "### 2. Подготовка к тесту\n",
    "При планировании теста необходимо проделать несколько важных шагов:\n",
    "\n",
    "- Сформулировать нулевую и альтернативную гипотезы\n",
    "\n",
    "- Определиться с целевой метрикой.\n",
    "\n",
    "- Рассчитать необходимый размер выборки.\n",
    "\n",
    "- Исходя из текущих значений трафика рассчитать необходимую длительность проведения теста."
   ]
  },
  {
   "cell_type": "markdown",
   "metadata": {
    "id": "kXdcwkjf859k"
   },
   "source": [
    "#### 2.1 Формулировка нулевой и альтернативной гипотез"
   ]
  },
  {
   "cell_type": "markdown",
   "metadata": {
    "id": "RiKI8eT49h3F"
   },
   "source": [
    "<i>В качестве целевой метрики рассмотрим среднюю долю сессий с количеством просмотренных страниц 4 и более (столбец 'good_session')\n",
    "\n",
    "H0: Средняя доля сессий с количеством просмотренных страниц 4 и более не изменилась.\n",
    "\n",
    "\n",
    "H1: Средняя доля сессий с количеством просмотренных страниц 4 и более увеличилась.<i>\n"
   ]
  },
  {
   "cell_type": "markdown",
   "metadata": {
    "id": "uzaeln270eMt"
   },
   "source": [
    "#### 2.2. Расчёт размера выборки"
   ]
  },
  {
   "cell_type": "code",
   "execution_count": 13,
   "metadata": {
    "id": "zSxJyPGPNdaI"
   },
   "outputs": [
    {
     "name": "stdout",
     "output_type": "stream",
     "text": [
      "Необходимый размер выборки для каждой группы: 41040\n"
     ]
    }
   ],
   "source": [
    "# Задаём параметры\n",
    "alpha = 0.05  # Уровень значимости\n",
    "beta = 0.2  # Ошибка второго рода, часто 1 - мощность\n",
    "power = 0.8  # Мощность теста\n",
    "p = 0.3 # Базовый уровень доли\n",
    "mde = 0.03 * p  # Минимальный детектируемый эффект\n",
    "effect_size = proportion_effectsize(p, p + mde)\n",
    "\n",
    "# Инициализируем класс NormalIndPower\n",
    "power_analysis = NormalIndPower()\n",
    "\n",
    "# Рассчитываем размер выборки\n",
    "sample_size = power_analysis.solve_power(\n",
    "    effect_size = effect_size,\n",
    "    power = power,\n",
    "    alpha = alpha,\n",
    "    ratio = 1 # Равномерное распределение выборок\n",
    ")\n",
    "\n",
    "print(f\"Необходимый размер выборки для каждой группы: {int(sample_size)}\")"
   ]
  },
  {
   "cell_type": "markdown",
   "metadata": {},
   "source": [
    "Таким образом, необходимый размер выборки для каждой группы составит 41040, для обеих групп - 41040*2 = 82080. Данного числа наблюдений должно быть достаточно, чтобы обнаружить 3%-ое (mde) изменение целевой метрики между группами при уровне значимости 5% (alpha) с вероятностью 80% (power)."
   ]
  },
  {
   "cell_type": "markdown",
   "metadata": {
    "id": "qLEv4RoV0eMu"
   },
   "source": [
    "#### 2.3. Расчёт длительности A/B-теста\n"
   ]
  },
  {
   "cell_type": "code",
   "execution_count": 14,
   "metadata": {
    "id": "KZDRbryDOGHa"
   },
   "outputs": [
    {
     "name": "stdout",
     "output_type": "stream",
     "text": [
      "Рассчитанная длительность A/B-теста при текущем уровене трафика в 9907.363636363636 пользователей в день составит 9 дней\n"
     ]
    }
   ],
   "source": [
    "# Среднее количество пользователей приложения в день по историческим данным\n",
    "avg_daily_users = sessions_history.groupby('session_date')['user_id'].nunique().mean()\n",
    "\n",
    "\n",
    "# Рассчитываем длительность теста в днях как отношение размера выборки к среднему числу пользователей\n",
    "test_duration = ceil(sample_size*2/avg_daily_users)\n",
    "\n",
    "print(f\"Рассчитанная длительность A/B-теста при текущем уровене трафика в {avg_daily_users} пользователей в день составит {test_duration} дней\")"
   ]
  },
  {
   "cell_type": "markdown",
   "metadata": {},
   "source": [
    "Таким образом, среднее количество пользователей приложения в день по историческим данным составляет 9907.  Необходимый размер выборки для обеих групп составляет 41040*2 = 82080. В результате рассчитанная длительность A/B-теста при текущем уровне трафика в день составит 82080/9907 =  9 дней."
   ]
  },
  {
   "cell_type": "markdown",
   "metadata": {},
   "source": [
    "### Промежуточный вывод\n",
    "\n",
    "В данном разделе была выбрана целевая метрика, а именно средняя доля сессий с количеством просмотренных страниц 4 и более. Также были сформулированы нулевая и альтернативная гипотезы, в соответствии с которыми средняя доля сессий с количеством просмотренных страниц 4 и более не изменилась и средняя доля сессий с количеством просмотренных страниц 4 и более увеличилась.\n",
    "\n",
    "Также был определён необходимый размер выборки для каждой группы, который составил 41040 наблюдений. В результате чего, длительность теста, исходя из рассчитанного значения размера выборок и среднего дневного трафика приложения,  должна составить 9 дней."
   ]
  },
  {
   "cell_type": "markdown",
   "metadata": {
    "id": "ZuvtAdha0eMv"
   },
   "source": [
    "### 3. Мониторинг А/В-теста"
   ]
  },
  {
   "cell_type": "markdown",
   "metadata": {
    "id": "jq5sE3Ya0eMv"
   },
   "source": [
    "#### 3.1. Проверка распределения пользователей"
   ]
  },
  {
   "cell_type": "code",
   "execution_count": 15,
   "metadata": {
    "id": "G1bqIzDJOUiz"
   },
   "outputs": [
    {
     "data": {
      "text/plain": [
       "test_group\n",
       "A    1477\n",
       "B    1466\n",
       "Name: user_id, dtype: int64"
      ]
     },
     "execution_count": 15,
     "metadata": {},
     "output_type": "execute_result"
    }
   ],
   "source": [
    "# Сохраним данные датасета sessions_project_test_part.csv в датафреймsessions_test_part\n",
    "sessions_test_part = pd.read_csv('https://code.s3.yandex.net/datasets/sessions_project_test_part.csv')\n",
    "\n",
    "# Выведем количество уникальных пользователей в каждой из экспериментальных групп\n",
    "sessions_test_part.groupby('test_group')['user_id'].nunique()"
   ]
  },
  {
   "cell_type": "code",
   "execution_count": 16,
   "metadata": {},
   "outputs": [
    {
     "data": {
      "text/plain": [
       "'0.7447528774542992%'"
      ]
     },
     "metadata": {},
     "output_type": "display_data"
    }
   ],
   "source": [
    "# Выведем процентную разницу в количестве пользователей в группах A и B\n",
    "P=(sessions_test_part[sessions_test_part['test_group']=='A']['user_id'].nunique()-sessions_test_part[sessions_test_part['test_group']=='B']['user_id'].nunique())/sessions_test_part[sessions_test_part['test_group']=='A']['user_id'].nunique()*100\n",
    "display(f'{P}%')"
   ]
  },
  {
   "cell_type": "markdown",
   "metadata": {},
   "source": [
    "Процентная разница в количестве пользователей в группах A и B составляет 0,7%."
   ]
  },
  {
   "cell_type": "code",
   "execution_count": 17,
   "metadata": {},
   "outputs": [
    {
     "data": {
      "image/png": "[encoded data removed]",
      "text/plain": [
       "<Figure size 720x576 with 1 Axes>"
      ]
     },
     "metadata": {},
     "output_type": "display_data"
    }
   ],
   "source": [
    "# Построим визуализацию для отображения разницы в количестве пользователей в двух группах\n",
    "plt.figure(figsize=(10, 8))\n",
    "\n",
    "sessions_test_part.groupby('test_group')['user_id'].nunique().plot(\n",
    "               kind='pie', \n",
    "               title=f'Соотношение количества уникальных пользователей в группах A и B',\n",
    "               autopct='%.2f',\n",
    "               labels=['A', 'B'])\n",
    "\n",
    "plt.legend()\n",
    "plt.show()"
   ]
  },
  {
   "cell_type": "markdown",
   "metadata": {},
   "source": [
    "Из визуализации также наглядно видно, что количество пользователей в обеих группах имеет несущественные различия."
   ]
  },
  {
   "cell_type": "markdown",
   "metadata": {},
   "source": [
    " Таким образом, пользователи разделены правильным образом. Количество пользователей в группе A составляет 1477, в группе B - 1466. разница между группами составляет 0,7%, что не является существенным. "
   ]
  },
  {
   "cell_type": "markdown",
   "metadata": {
    "id": "sgpNY5bv0eM0"
   },
   "source": [
    "#### 3.2. Проверка пересечений пользователей"
   ]
  },
  {
   "cell_type": "code",
   "execution_count": 18,
   "metadata": {
    "id": "E72ozN9FOX1u"
   },
   "outputs": [
    {
     "name": "stdout",
     "output_type": "stream",
     "text": [
      "[]\n"
     ]
    }
   ],
   "source": [
    "# Выведем id пользователей для обеих групп\n",
    "Group_A = sessions_test_part[sessions_test_part['test_group'] == 'A']['user_id']\n",
    "Group_B = sessions_test_part[sessions_test_part['test_group'] == 'B']['user_id']\n",
    "\n",
    "# Проведём проверку групп на пересечение\n",
    "intersection = list(set(Group_A) & set(Group_B))\n",
    "print(intersection) "
   ]
  },
  {
   "cell_type": "markdown",
   "metadata": {},
   "source": [
    "Пересечений между группами не обнаружено."
   ]
  },
  {
   "cell_type": "markdown",
   "metadata": {
    "id": "6RvkNLrg0eM1"
   },
   "source": [
    "#### 3.3. Равномерность разделения пользователей по устройствам"
   ]
  },
  {
   "cell_type": "code",
   "execution_count": 19,
   "metadata": {
    "id": "x_IP6PUNPWHC"
   },
   "outputs": [],
   "source": [
    "# Разделим уникальных пользователей для каждой тестовой группы по устройствам\n",
    "device_for_group_A = sessions_test_part[sessions_test_part['test_group'] == 'A'].groupby('device')['user_id'].nunique()\n",
    "device_for_group_B = sessions_test_part[sessions_test_part['test_group'] == 'B'].groupby('device')['user_id'].nunique()"
   ]
  },
  {
   "cell_type": "code",
   "execution_count": 20,
   "metadata": {},
   "outputs": [
    {
     "data": {
      "image/png": "[encoded data removed]",
      "text/plain": [
       "<Figure size 576x432 with 1 Axes>"
      ]
     },
     "metadata": {},
     "output_type": "display_data"
    },
    {
     "data": {
      "image/png": "[encoded data removed]",
      "text/plain": [
       "<Figure size 576x432 with 1 Axes>"
      ]
     },
     "metadata": {},
     "output_type": "display_data"
    }
   ],
   "source": [
    "# Построим визуализацию для отображения разницы в доле каждого типа устройства для пользователей из группы A\n",
    "plt.figure(figsize=(8, 6))\n",
    "\n",
    "device_for_group_A.plot(\n",
    "               kind='pie', \n",
    "               title=f'Доля каждого типа устройства для пользователей из группы A',\n",
    "               autopct='%.2f')\n",
    "\n",
    "plt.legend()\n",
    "plt.show()\n",
    "\n",
    "# Построим визуализацию для отображения разницы в доле каждого типа устройства для пользователей из группы B\n",
    "plt.figure(figsize=(8, 6))\n",
    "\n",
    "device_for_group_B.plot(\n",
    "               kind='pie', \n",
    "               title=f'Доля каждого типа устройства для пользователей из группы B',\n",
    "               autopct='%.2f')\n",
    "\n",
    "plt.legend()\n",
    "plt.show()"
   ]
  },
  {
   "cell_type": "markdown",
   "metadata": {},
   "source": [
    "Из визуализации видно, что существенных различий в распределении в группах по типам устройств не наблюдается. Максимальная разница зафиксирована для пользователей, относящихся к категории 'iPhone' - 1,69%."
   ]
  },
  {
   "cell_type": "markdown",
   "metadata": {
    "id": "gAgmP6vo0eM1"
   },
   "source": [
    "#### 3.4. Равномерность распределения пользователей по регионам"
   ]
  },
  {
   "cell_type": "code",
   "execution_count": 21,
   "metadata": {
    "id": "3hAq-FG4OdYM"
   },
   "outputs": [],
   "source": [
    "# Разделим уникальных пользователей для каждой тестовой группы по регионам\n",
    "region_for_group_A = sessions_test_part[sessions_test_part['test_group'] == 'A'].groupby('region')['user_id'].nunique()\n",
    "region_for_group_B = sessions_test_part[sessions_test_part['test_group'] == 'B'].groupby('region')['user_id'].nunique()"
   ]
  },
  {
   "cell_type": "code",
   "execution_count": 22,
   "metadata": {},
   "outputs": [
    {
     "data": {
      "image/png": "[encoded data removed]",
      "text/plain": [
       "<Figure size 576x432 with 1 Axes>"
      ]
     },
     "metadata": {},
     "output_type": "display_data"
    },
    {
     "data": {
      "image/png": "[encoded data removed]",
      "text/plain": [
       "<Figure size 576x432 with 1 Axes>"
      ]
     },
     "metadata": {},
     "output_type": "display_data"
    }
   ],
   "source": [
    "# Построим визуализацию для отображения разницы в доле каждого региона для пользователей из группы A\n",
    "plt.figure(figsize=(8, 6))\n",
    "\n",
    "region_for_group_A.plot(\n",
    "               kind='pie', \n",
    "               title=f'Доля каждого региона для пользователей из группы A',\n",
    "               autopct='%.2f')\n",
    "\n",
    "plt.legend()\n",
    "plt.show()\n",
    "\n",
    "# Построим визуализацию для отображения разницы в доле каждого региона для пользователей из группы B\n",
    "plt.figure(figsize=(8, 6))\n",
    "\n",
    "region_for_group_B.plot(\n",
    "               kind='pie', \n",
    "               title=f'Доля каждого региона для пользователей из группы B',\n",
    "               autopct='%.2f')\n",
    "\n",
    "plt.legend()\n",
    "plt.show()"
   ]
  },
  {
   "cell_type": "markdown",
   "metadata": {},
   "source": [
    "Как и в случае с типами устройств, существенных различий в распределении в группах по регионам не наблюдается. Максимальная разница зафиксирована для пользователей, относящихся к региону 'CIS' - 0,4%."
   ]
  },
  {
   "cell_type": "markdown",
   "metadata": {
    "id": "X2WSZ-sDrSUi"
   },
   "source": [
    "#### 3.5. Вывод после проверки A/B-теста"
   ]
  },
  {
   "cell_type": "markdown",
   "metadata": {
    "id": "dDELHlAcOi8d"
   },
   "source": [
    "В данном разделе был проведён мониторинг А/В-теста. В том числе был проведена проверка распределения пользователей, в ходе которой было установлено, что существенных различий в количестве пользователей в группах не наблюдается, число пользователей в группе A составило 1477 A, в группе B - 1466. Разница между группами составляет 0,7%, что не является существенным. \n",
    "\n",
    "Далее была проведена проверка независимости обеих групп, т.е. что никто из пользователей случайно не попал в обе группы одновременно. В результате проверки пересечения пользователей выявлено не было.\n",
    "\n",
    "Также была проведена проверка равномерного распределения пользователей тестовой и контрольной групп по категориальным переменным: устройствам и регионам. В ходе проверки существенных различий установлено не было. При проверке распределения по типам устройствам небольшая разница была зафиксирована для пользователей, относящихся к категории 'iPhone' - 1,69%, при проверке распределения по регионам наибольшая разница была зафиксирована для региона 'CIS' - 0,4%.\n",
    "\n",
    "В результате чего, можно сделать вывод, что A/B-тест проходит корректно,  каких-либо нарушений не наблюдаются: размеры выборок существенно н различаются, пересечений между группами не обнаружено, распределение пользователей по устройствам и регионам между группами соответствует друг другу."
   ]
  },
  {
   "cell_type": "markdown",
   "metadata": {
    "id": "nudRr_BQ0eM2"
   },
   "source": [
    "### 4. Проверка результатов A/B-теста"
   ]
  },
  {
   "cell_type": "markdown",
   "metadata": {
    "id": "JVve-YBB0eM2"
   },
   "source": [
    "#### 4.1. Получение результатов теста и подсчёт основной метрики"
   ]
  },
  {
   "cell_type": "code",
   "execution_count": 23,
   "metadata": {
    "id": "EqRlwMtKPTir"
   },
   "outputs": [],
   "source": [
    "# Сохраним данные датасета sessions_project_test.csv в датафрейм sessions_test\n",
    "sessions_test = pd.read_csv('https://code.s3.yandex.net/datasets/sessions_project_test.csv')"
   ]
  },
  {
   "cell_type": "code",
   "execution_count": 24,
   "metadata": {},
   "outputs": [
    {
     "data": {
      "text/html": [
       "<div>\n",
       "<style scoped>\n",
       "    .dataframe tbody tr th:only-of-type {\n",
       "        vertical-align: middle;\n",
       "    }\n",
       "\n",
       "    .dataframe tbody tr th {\n",
       "        vertical-align: top;\n",
       "    }\n",
       "\n",
       "    .dataframe thead th {\n",
       "        text-align: right;\n",
       "    }\n",
       "</style>\n",
       "<table border=\"1\" class=\"dataframe\">\n",
       "  <thead>\n",
       "    <tr style=\"text-align: right;\">\n",
       "      <th></th>\n",
       "      <th>user_id</th>\n",
       "      <th>session_id</th>\n",
       "      <th>session_date</th>\n",
       "      <th>session_start_ts</th>\n",
       "      <th>install_date</th>\n",
       "      <th>session_number</th>\n",
       "      <th>registration_flag</th>\n",
       "      <th>page_counter</th>\n",
       "      <th>region</th>\n",
       "      <th>device</th>\n",
       "      <th>test_group</th>\n",
       "      <th>good_session</th>\n",
       "    </tr>\n",
       "  </thead>\n",
       "  <tbody>\n",
       "    <tr>\n",
       "      <th>0</th>\n",
       "      <td>6DAE3B3654DA738E</td>\n",
       "      <td>C69249E26E58F6E2</td>\n",
       "      <td>2025-10-26</td>\n",
       "      <td>2025-10-26 18:15:05</td>\n",
       "      <td>2025-10-16</td>\n",
       "      <td>3</td>\n",
       "      <td>0</td>\n",
       "      <td>3</td>\n",
       "      <td>MENA</td>\n",
       "      <td>Android</td>\n",
       "      <td>A</td>\n",
       "      <td>0</td>\n",
       "    </tr>\n",
       "    <tr>\n",
       "      <th>1</th>\n",
       "      <td>0A3FE5D1DD59110A</td>\n",
       "      <td>66D66D7C9F5181B7</td>\n",
       "      <td>2025-10-21</td>\n",
       "      <td>2025-10-21 17:04:53</td>\n",
       "      <td>2025-10-15</td>\n",
       "      <td>2</td>\n",
       "      <td>1</td>\n",
       "      <td>2</td>\n",
       "      <td>CIS</td>\n",
       "      <td>Android</td>\n",
       "      <td>B</td>\n",
       "      <td>0</td>\n",
       "    </tr>\n",
       "    <tr>\n",
       "      <th>2</th>\n",
       "      <td>2041F1D7AA740B88</td>\n",
       "      <td>50DE51D42215E74C</td>\n",
       "      <td>2025-10-23</td>\n",
       "      <td>2025-10-23 17:39:29</td>\n",
       "      <td>2025-10-19</td>\n",
       "      <td>3</td>\n",
       "      <td>0</td>\n",
       "      <td>2</td>\n",
       "      <td>MENA</td>\n",
       "      <td>Android</td>\n",
       "      <td>A</td>\n",
       "      <td>0</td>\n",
       "    </tr>\n",
       "    <tr>\n",
       "      <th>3</th>\n",
       "      <td>43D7585009168086</td>\n",
       "      <td>5763C0C353C22263</td>\n",
       "      <td>2025-10-24</td>\n",
       "      <td>2025-10-24 15:01:57</td>\n",
       "      <td>2025-10-18</td>\n",
       "      <td>4</td>\n",
       "      <td>0</td>\n",
       "      <td>1</td>\n",
       "      <td>CIS</td>\n",
       "      <td>iPhone</td>\n",
       "      <td>B</td>\n",
       "      <td>0</td>\n",
       "    </tr>\n",
       "    <tr>\n",
       "      <th>4</th>\n",
       "      <td>15AD68B14D62D88C</td>\n",
       "      <td>B1AD09F93C1053BC</td>\n",
       "      <td>2025-10-17</td>\n",
       "      <td>2025-10-17 17:34:39</td>\n",
       "      <td>2025-10-17</td>\n",
       "      <td>1</td>\n",
       "      <td>0</td>\n",
       "      <td>2</td>\n",
       "      <td>MENA</td>\n",
       "      <td>Android</td>\n",
       "      <td>B</td>\n",
       "      <td>0</td>\n",
       "    </tr>\n",
       "    <tr>\n",
       "      <th>...</th>\n",
       "      <td>...</td>\n",
       "      <td>...</td>\n",
       "      <td>...</td>\n",
       "      <td>...</td>\n",
       "      <td>...</td>\n",
       "      <td>...</td>\n",
       "      <td>...</td>\n",
       "      <td>...</td>\n",
       "      <td>...</td>\n",
       "      <td>...</td>\n",
       "      <td>...</td>\n",
       "      <td>...</td>\n",
       "    </tr>\n",
       "    <tr>\n",
       "      <th>100000</th>\n",
       "      <td>CF77C27B238C1BE3</td>\n",
       "      <td>0F7BC9B33685377C</td>\n",
       "      <td>2025-10-22</td>\n",
       "      <td>2025-10-22 19:01:50</td>\n",
       "      <td>2025-10-20</td>\n",
       "      <td>3</td>\n",
       "      <td>0</td>\n",
       "      <td>3</td>\n",
       "      <td>MENA</td>\n",
       "      <td>Android</td>\n",
       "      <td>A</td>\n",
       "      <td>0</td>\n",
       "    </tr>\n",
       "    <tr>\n",
       "      <th>100001</th>\n",
       "      <td>D7ED66C581409AC2</td>\n",
       "      <td>26C4475005E70F47</td>\n",
       "      <td>2025-10-17</td>\n",
       "      <td>2025-10-17 22:12:38</td>\n",
       "      <td>2025-10-17</td>\n",
       "      <td>1</td>\n",
       "      <td>0</td>\n",
       "      <td>5</td>\n",
       "      <td>CIS</td>\n",
       "      <td>PC</td>\n",
       "      <td>A</td>\n",
       "      <td>1</td>\n",
       "    </tr>\n",
       "    <tr>\n",
       "      <th>100002</th>\n",
       "      <td>E7EA2D51238020C6</td>\n",
       "      <td>9B9CDE6A612CBD73</td>\n",
       "      <td>2025-10-24</td>\n",
       "      <td>2025-10-24 14:54:07</td>\n",
       "      <td>2025-10-14</td>\n",
       "      <td>2</td>\n",
       "      <td>0</td>\n",
       "      <td>3</td>\n",
       "      <td>MENA</td>\n",
       "      <td>PC</td>\n",
       "      <td>B</td>\n",
       "      <td>0</td>\n",
       "    </tr>\n",
       "    <tr>\n",
       "      <th>100003</th>\n",
       "      <td>8A6FEFD7F34C5DA1</td>\n",
       "      <td>37291EC27106EF9D</td>\n",
       "      <td>2025-10-18</td>\n",
       "      <td>2025-10-18 00:05:10</td>\n",
       "      <td>2025-10-14</td>\n",
       "      <td>3</td>\n",
       "      <td>0</td>\n",
       "      <td>4</td>\n",
       "      <td>EU</td>\n",
       "      <td>Android</td>\n",
       "      <td>B</td>\n",
       "      <td>1</td>\n",
       "    </tr>\n",
       "    <tr>\n",
       "      <th>100004</th>\n",
       "      <td>EE2CA3C8481A0DE8</td>\n",
       "      <td>A4C833633CD4412E</td>\n",
       "      <td>2025-10-23</td>\n",
       "      <td>2025-10-23 10:02:27</td>\n",
       "      <td>2025-10-19</td>\n",
       "      <td>2</td>\n",
       "      <td>0</td>\n",
       "      <td>2</td>\n",
       "      <td>MENA</td>\n",
       "      <td>Android</td>\n",
       "      <td>B</td>\n",
       "      <td>0</td>\n",
       "    </tr>\n",
       "  </tbody>\n",
       "</table>\n",
       "<p>100005 rows × 12 columns</p>\n",
       "</div>"
      ],
      "text/plain": [
       "                 user_id        session_id session_date     session_start_ts  \\\n",
       "0       6DAE3B3654DA738E  C69249E26E58F6E2   2025-10-26  2025-10-26 18:15:05   \n",
       "1       0A3FE5D1DD59110A  66D66D7C9F5181B7   2025-10-21  2025-10-21 17:04:53   \n",
       "2       2041F1D7AA740B88  50DE51D42215E74C   2025-10-23  2025-10-23 17:39:29   \n",
       "3       43D7585009168086  5763C0C353C22263   2025-10-24  2025-10-24 15:01:57   \n",
       "4       15AD68B14D62D88C  B1AD09F93C1053BC   2025-10-17  2025-10-17 17:34:39   \n",
       "...                  ...               ...          ...                  ...   \n",
       "100000  CF77C27B238C1BE3  0F7BC9B33685377C   2025-10-22  2025-10-22 19:01:50   \n",
       "100001  D7ED66C581409AC2  26C4475005E70F47   2025-10-17  2025-10-17 22:12:38   \n",
       "100002  E7EA2D51238020C6  9B9CDE6A612CBD73   2025-10-24  2025-10-24 14:54:07   \n",
       "100003  8A6FEFD7F34C5DA1  37291EC27106EF9D   2025-10-18  2025-10-18 00:05:10   \n",
       "100004  EE2CA3C8481A0DE8  A4C833633CD4412E   2025-10-23  2025-10-23 10:02:27   \n",
       "\n",
       "       install_date  session_number  registration_flag  page_counter region  \\\n",
       "0        2025-10-16               3                  0             3   MENA   \n",
       "1        2025-10-15               2                  1             2    CIS   \n",
       "2        2025-10-19               3                  0             2   MENA   \n",
       "3        2025-10-18               4                  0             1    CIS   \n",
       "4        2025-10-17               1                  0             2   MENA   \n",
       "...             ...             ...                ...           ...    ...   \n",
       "100000   2025-10-20               3                  0             3   MENA   \n",
       "100001   2025-10-17               1                  0             5    CIS   \n",
       "100002   2025-10-14               2                  0             3   MENA   \n",
       "100003   2025-10-14               3                  0             4     EU   \n",
       "100004   2025-10-19               2                  0             2   MENA   \n",
       "\n",
       "         device test_group  good_session  \n",
       "0       Android          A             0  \n",
       "1       Android          B             0  \n",
       "2       Android          A             0  \n",
       "3        iPhone          B             0  \n",
       "4       Android          B             0  \n",
       "...         ...        ...           ...  \n",
       "100000  Android          A             0  \n",
       "100001       PC          A             1  \n",
       "100002       PC          B             0  \n",
       "100003  Android          B             1  \n",
       "100004  Android          B             0  \n",
       "\n",
       "[100005 rows x 12 columns]"
      ]
     },
     "execution_count": 24,
     "metadata": {},
     "output_type": "execute_result"
    }
   ],
   "source": [
    "# Создадим столбец good_session для датафрейма sessions-test\n",
    "sessions_test['good_session'] = 0\n",
    "\n",
    "# Присвоим значение 1, если за одну сессию было просмотрено 4 и более страниц\n",
    "sessions_test.loc[sessions_test['page_counter']>=4,'good_session']=1\n",
    "\n",
    "# Выведем измененный датафрейм sessions_test\n",
    "sessions_test"
   ]
  },
  {
   "cell_type": "markdown",
   "metadata": {
    "id": "aeYhrMYy0eM2"
   },
   "source": [
    "#### 4.2. Проверка корректности результатов теста"
   ]
  },
  {
   "cell_type": "markdown",
   "metadata": {},
   "source": [
    "Создадим датафрейм, содержащий информацию об общем количестве сессий и по группам по дням."
   ]
  },
  {
   "cell_type": "code",
   "execution_count": 25,
   "metadata": {
    "id": "5NUlcltkTTSU",
    "scrolled": true
   },
   "outputs": [
    {
     "data": {
      "text/html": [
       "<div>\n",
       "<style scoped>\n",
       "    .dataframe tbody tr th:only-of-type {\n",
       "        vertical-align: middle;\n",
       "    }\n",
       "\n",
       "    .dataframe tbody tr th {\n",
       "        vertical-align: top;\n",
       "    }\n",
       "\n",
       "    .dataframe thead th {\n",
       "        text-align: right;\n",
       "    }\n",
       "</style>\n",
       "<table border=\"1\" class=\"dataframe\">\n",
       "  <thead>\n",
       "    <tr style=\"text-align: right;\">\n",
       "      <th></th>\n",
       "      <th>session_date</th>\n",
       "      <th>total</th>\n",
       "      <th>A</th>\n",
       "      <th>B</th>\n",
       "    </tr>\n",
       "  </thead>\n",
       "  <tbody>\n",
       "    <tr>\n",
       "      <th>0</th>\n",
       "      <td>2025-10-14</td>\n",
       "      <td>3130</td>\n",
       "      <td>1502</td>\n",
       "      <td>1628</td>\n",
       "    </tr>\n",
       "    <tr>\n",
       "      <th>1</th>\n",
       "      <td>2025-10-15</td>\n",
       "      <td>4518</td>\n",
       "      <td>2235</td>\n",
       "      <td>2283</td>\n",
       "    </tr>\n",
       "    <tr>\n",
       "      <th>2</th>\n",
       "      <td>2025-10-16</td>\n",
       "      <td>6521</td>\n",
       "      <td>3280</td>\n",
       "      <td>3241</td>\n",
       "    </tr>\n",
       "    <tr>\n",
       "      <th>3</th>\n",
       "      <td>2025-10-17</td>\n",
       "      <td>8143</td>\n",
       "      <td>4089</td>\n",
       "      <td>4054</td>\n",
       "    </tr>\n",
       "    <tr>\n",
       "      <th>4</th>\n",
       "      <td>2025-10-18</td>\n",
       "      <td>10072</td>\n",
       "      <td>5013</td>\n",
       "      <td>5059</td>\n",
       "    </tr>\n",
       "    <tr>\n",
       "      <th>5</th>\n",
       "      <td>2025-10-19</td>\n",
       "      <td>13314</td>\n",
       "      <td>6535</td>\n",
       "      <td>6779</td>\n",
       "    </tr>\n",
       "    <tr>\n",
       "      <th>6</th>\n",
       "      <td>2025-10-20</td>\n",
       "      <td>11926</td>\n",
       "      <td>5837</td>\n",
       "      <td>6089</td>\n",
       "    </tr>\n",
       "    <tr>\n",
       "      <th>7</th>\n",
       "      <td>2025-10-21</td>\n",
       "      <td>7908</td>\n",
       "      <td>3927</td>\n",
       "      <td>3981</td>\n",
       "    </tr>\n",
       "    <tr>\n",
       "      <th>8</th>\n",
       "      <td>2025-10-22</td>\n",
       "      <td>6194</td>\n",
       "      <td>3083</td>\n",
       "      <td>3111</td>\n",
       "    </tr>\n",
       "    <tr>\n",
       "      <th>9</th>\n",
       "      <td>2025-10-23</td>\n",
       "      <td>5018</td>\n",
       "      <td>2470</td>\n",
       "      <td>2548</td>\n",
       "    </tr>\n",
       "    <tr>\n",
       "      <th>10</th>\n",
       "      <td>2025-10-24</td>\n",
       "      <td>4158</td>\n",
       "      <td>2090</td>\n",
       "      <td>2068</td>\n",
       "    </tr>\n",
       "    <tr>\n",
       "      <th>11</th>\n",
       "      <td>2025-10-25</td>\n",
       "      <td>3711</td>\n",
       "      <td>1897</td>\n",
       "      <td>1814</td>\n",
       "    </tr>\n",
       "    <tr>\n",
       "      <th>12</th>\n",
       "      <td>2025-10-26</td>\n",
       "      <td>3361</td>\n",
       "      <td>1669</td>\n",
       "      <td>1692</td>\n",
       "    </tr>\n",
       "    <tr>\n",
       "      <th>13</th>\n",
       "      <td>2025-10-27</td>\n",
       "      <td>2971</td>\n",
       "      <td>1454</td>\n",
       "      <td>1517</td>\n",
       "    </tr>\n",
       "    <tr>\n",
       "      <th>14</th>\n",
       "      <td>2025-10-28</td>\n",
       "      <td>2568</td>\n",
       "      <td>1279</td>\n",
       "      <td>1289</td>\n",
       "    </tr>\n",
       "    <tr>\n",
       "      <th>15</th>\n",
       "      <td>2025-10-29</td>\n",
       "      <td>2199</td>\n",
       "      <td>1068</td>\n",
       "      <td>1131</td>\n",
       "    </tr>\n",
       "    <tr>\n",
       "      <th>16</th>\n",
       "      <td>2025-10-30</td>\n",
       "      <td>1763</td>\n",
       "      <td>887</td>\n",
       "      <td>876</td>\n",
       "    </tr>\n",
       "    <tr>\n",
       "      <th>17</th>\n",
       "      <td>2025-10-31</td>\n",
       "      <td>1313</td>\n",
       "      <td>644</td>\n",
       "      <td>669</td>\n",
       "    </tr>\n",
       "    <tr>\n",
       "      <th>18</th>\n",
       "      <td>2025-11-01</td>\n",
       "      <td>899</td>\n",
       "      <td>434</td>\n",
       "      <td>465</td>\n",
       "    </tr>\n",
       "    <tr>\n",
       "      <th>19</th>\n",
       "      <td>2025-11-02</td>\n",
       "      <td>318</td>\n",
       "      <td>158</td>\n",
       "      <td>160</td>\n",
       "    </tr>\n",
       "  </tbody>\n",
       "</table>\n",
       "</div>"
      ],
      "text/plain": [
       "   session_date  total     A     B\n",
       "0    2025-10-14   3130  1502  1628\n",
       "1    2025-10-15   4518  2235  2283\n",
       "2    2025-10-16   6521  3280  3241\n",
       "3    2025-10-17   8143  4089  4054\n",
       "4    2025-10-18  10072  5013  5059\n",
       "5    2025-10-19  13314  6535  6779\n",
       "6    2025-10-20  11926  5837  6089\n",
       "7    2025-10-21   7908  3927  3981\n",
       "8    2025-10-22   6194  3083  3111\n",
       "9    2025-10-23   5018  2470  2548\n",
       "10   2025-10-24   4158  2090  2068\n",
       "11   2025-10-25   3711  1897  1814\n",
       "12   2025-10-26   3361  1669  1692\n",
       "13   2025-10-27   2971  1454  1517\n",
       "14   2025-10-28   2568  1279  1289\n",
       "15   2025-10-29   2199  1068  1131\n",
       "16   2025-10-30   1763   887   876\n",
       "17   2025-10-31   1313   644   669\n",
       "18   2025-11-01    899   434   465\n",
       "19   2025-11-02    318   158   160"
      ]
     },
     "execution_count": 25,
     "metadata": {},
     "output_type": "execute_result"
    }
   ],
   "source": [
    "# Рассчитаем количество уникальных сессий для каждого дня\n",
    "sessions_per_day = sessions_test.groupby('session_date',as_index=False)['session_id'].nunique()\n",
    "\n",
    "# Рассчитаем количество уникальных сессий для каждого дня и обеих тестовых групп\n",
    "sessions_per_day_group_A = sessions_test[sessions_test['test_group'] == 'A'].groupby('session_date',as_index=False)['session_id'].nunique()\n",
    "sessions_per_day_group_B = sessions_test[sessions_test['test_group'] == 'B'].groupby('session_date',as_index=False)['session_id'].nunique()\n",
    "\n",
    "# Объединим полученные датафреймы\n",
    "sessions_per_day = sessions_per_day.merge(sessions_per_day_group_A, on='session_date', how='left')\n",
    "sessions_per_day = sessions_per_day.merge(sessions_per_day_group_B, on='session_date', how='left')\n",
    "\n",
    "# Переименуем названия столбцов\n",
    "sessions_per_day = sessions_per_day.rename(columns={'session_id_x': 'total', 'session_id_y': 'A', 'session_id': 'B'})\n",
    "\n",
    "# Выведем объединённый датафрейм\n",
    "sessions_per_day"
   ]
  },
  {
   "cell_type": "code",
   "execution_count": 26,
   "metadata": {},
   "outputs": [
    {
     "data": {
      "text/plain": [
       "49551"
      ]
     },
     "metadata": {},
     "output_type": "display_data"
    },
    {
     "data": {
      "text/plain": [
       "50454"
      ]
     },
     "metadata": {},
     "output_type": "display_data"
    },
    {
     "data": {
      "text/plain": [
       "-1.8223648362293394"
      ]
     },
     "metadata": {},
     "output_type": "display_data"
    }
   ],
   "source": [
    "# Выведем количество уникальных сессий для каждой группы \n",
    "display(sessions_per_day['A'].sum(), sessions_per_day['B'].sum())\n",
    "\n",
    "# Выведем процентную разницу в количестве пользователей в группах A и B\n",
    "P=(sessions_per_day['A'].sum()-sessions_per_day['B'].sum())/sessions_per_day['A'].sum()*100\n",
    "display(P)"
   ]
  },
  {
   "cell_type": "markdown",
   "metadata": {},
   "source": [
    "Количество сессий для группа А составило 49 551, для группы В - 50 454. Разница составила 1,8%.\n",
    "\n",
    "Далее проведём статистический тест, чтобы выявить, является ли различия в двух выборках статистически значимыми. Используем статистический тест, который позволит сделать вывод о равенстве средних двух выборок. Для этого применим двухвыборочный t-тест Стьюдента. В качестве нулевой и альтернативной гипотез зададим:\n",
    "\n",
    "H0: Средние значения в группах A и B равны.\n",
    "\n",
    "H1: Средние значения в группах A и B не равны.\n",
    "\n",
    "Уровень значимости составит 0.05."
   ]
  },
  {
   "cell_type": "code",
   "execution_count": 27,
   "metadata": {},
   "outputs": [
    {
     "name": "stdout",
     "output_type": "stream",
     "text": [
      "pvalue=0.938219304859116 > 0.05\n",
      "Не получилось отвергнуть нулевую гипотезу\n"
     ]
    }
   ],
   "source": [
    "# Выборка количества сессий для группы А\n",
    "sample_a = sessions_per_day['A']\n",
    "# Выборка количества сессий для группы B\n",
    "sample_b = sessions_per_day['B']\n",
    "\n",
    "test_result = ttest_ind(\n",
    "    sample_a,\n",
    "    sample_b,\n",
    "    )\n",
    "\n",
    "# Фиксируем уровень значимости\n",
    "alpha = 0.05\n",
    "\n",
    "if test_result.pvalue > alpha:\n",
    "    print(f'pvalue={test_result.pvalue} > {alpha}')\n",
    "    print('Не получилось отвергнуть нулевую гипотезу')\n",
    "else:\n",
    "    print(f'pvalue={test_result.pvalue} < {alpha}')\n",
    "    print('Отвергаем нулевую гипотезу') "
   ]
  },
  {
   "cell_type": "markdown",
   "metadata": {},
   "source": [
    "Поскольку значение p-value превосходит уровень значимости alpha, оснований для отвержения нулевой гипотезы нет. В результате можно сделать вывод о равенстве средних выборок обеих групп."
   ]
  },
  {
   "cell_type": "markdown",
   "metadata": {
    "id": "7kwRxzg70eM3"
   },
   "source": [
    "#### 4.3. Сравнение доли успешных сессий"
   ]
  },
  {
   "cell_type": "code",
   "execution_count": 28,
   "metadata": {
    "id": "Uku-V1CpPRCz"
   },
   "outputs": [
    {
     "data": {
      "text/html": [
       "<div>\n",
       "<style scoped>\n",
       "    .dataframe tbody tr th:only-of-type {\n",
       "        vertical-align: middle;\n",
       "    }\n",
       "\n",
       "    .dataframe tbody tr th {\n",
       "        vertical-align: top;\n",
       "    }\n",
       "\n",
       "    .dataframe thead th {\n",
       "        text-align: right;\n",
       "    }\n",
       "</style>\n",
       "<table border=\"1\" class=\"dataframe\">\n",
       "  <thead>\n",
       "    <tr style=\"text-align: right;\">\n",
       "      <th></th>\n",
       "      <th>test_group</th>\n",
       "      <th>good_session</th>\n",
       "    </tr>\n",
       "  </thead>\n",
       "  <tbody>\n",
       "    <tr>\n",
       "      <th>0</th>\n",
       "      <td>A</td>\n",
       "      <td>0.307723</td>\n",
       "    </tr>\n",
       "    <tr>\n",
       "      <th>1</th>\n",
       "      <td>B</td>\n",
       "      <td>0.318290</td>\n",
       "    </tr>\n",
       "  </tbody>\n",
       "</table>\n",
       "</div>"
      ],
      "text/plain": [
       "  test_group  good_session\n",
       "0          A      0.307723\n",
       "1          B      0.318290"
      ]
     },
     "execution_count": 28,
     "metadata": {},
     "output_type": "execute_result"
    }
   ],
   "source": [
    "# Выведем долю успешных сессий для обеих групп\n",
    "good_sessions_per_group = sessions_test.groupby('test_group',as_index = False)['good_session'].mean()\n",
    "good_sessions_per_group"
   ]
  },
  {
   "cell_type": "code",
   "execution_count": 29,
   "metadata": {},
   "outputs": [
    {
     "name": "stdout",
     "output_type": "stream",
     "text": [
      "Абсолютная разница в доле успешных сессий между группами:\n",
      "-0.010566571724179463\n",
      "Относительная разница в доле успешных сессий между группами:\n",
      "-3.4337893199423966\n"
     ]
    }
   ],
   "source": [
    "# Выведем разницу между долями успешных сессий в абсолютном значении\n",
    "print('Абсолютная разница в доле успешных сессий между группами:')\n",
    "print(good_sessions_per_group['good_session'].iloc[0]-good_sessions_per_group['good_session'].iloc[1])\n",
    "\n",
    "# Выведем разницу между долями успешных сессий в относительном значении\n",
    "print('Относительная разница в доле успешных сессий между группами:')\n",
    "print((good_sessions_per_group['good_session'].iloc[0]-good_sessions_per_group['good_session'].iloc[1])/good_sessions_per_group['good_session'].iloc[0]*100)"
   ]
  },
  {
   "cell_type": "markdown",
   "metadata": {},
   "source": [
    "Доля успешных сессий в группе B оказалась выше доли в группе A. Абсолютная разница в доле успешных сессий между группами составила 0.01, относительная разница - 3.4%."
   ]
  },
  {
   "cell_type": "markdown",
   "metadata": {
    "id": "9fMFuja10eM4"
   },
   "source": [
    "#### 4.4. Насколько статистически значимо изменение ключевой метрики"
   ]
  },
  {
   "cell_type": "markdown",
   "metadata": {
    "id": "gFvhRGwlPLS0"
   },
   "source": [
    "Перевод проведением статистического теста проведём предварительную проверку корректности данных. Для этого прверим данные на пропуски, дубликаты, пересечение, а также соответствие размера выборки. "
   ]
  },
  {
   "cell_type": "code",
   "execution_count": 30,
   "metadata": {},
   "outputs": [
    {
     "name": "stdout",
     "output_type": "stream",
     "text": [
      "<class 'pandas.core.frame.DataFrame'>\n",
      "RangeIndex: 100005 entries, 0 to 100004\n",
      "Data columns (total 12 columns):\n",
      " #   Column             Non-Null Count   Dtype \n",
      "---  ------             --------------   ----- \n",
      " 0   user_id            100005 non-null  object\n",
      " 1   session_id         100005 non-null  object\n",
      " 2   session_date       100005 non-null  object\n",
      " 3   session_start_ts   100005 non-null  object\n",
      " 4   install_date       100005 non-null  object\n",
      " 5   session_number     100005 non-null  int64 \n",
      " 6   registration_flag  100005 non-null  int64 \n",
      " 7   page_counter       100005 non-null  int64 \n",
      " 8   region             100005 non-null  object\n",
      " 9   device             100005 non-null  object\n",
      " 10  test_group         100005 non-null  object\n",
      " 11  good_session       100005 non-null  int64 \n",
      "dtypes: int64(4), object(8)\n",
      "memory usage: 9.2+ MB\n"
     ]
    }
   ],
   "source": [
    "# Выведем общую информацию о датафрейме sessions_test\n",
    "sessions_test.info()"
   ]
  },
  {
   "cell_type": "markdown",
   "metadata": {},
   "source": [
    "Как видно из выгрузки, пропуски в датафрейме отсутствуют.\n",
    "\n",
    "Далее проверим данные на дубликаты."
   ]
  },
  {
   "cell_type": "code",
   "execution_count": 31,
   "metadata": {},
   "outputs": [
    {
     "data": {
      "text/plain": [
       "0"
      ]
     },
     "execution_count": 31,
     "metadata": {},
     "output_type": "execute_result"
    }
   ],
   "source": [
    "# Проверяем полные дубликаты в датафрейме rest_df\n",
    "sessions_test.duplicated().sum()"
   ]
  },
  {
   "cell_type": "markdown",
   "metadata": {},
   "source": [
    "Явных дубликатов в датафрейме не обнаружено.\n",
    "\n",
    "Далее осуществим проверку обеих групп не пересечение."
   ]
  },
  {
   "cell_type": "code",
   "execution_count": 32,
   "metadata": {},
   "outputs": [
    {
     "name": "stdout",
     "output_type": "stream",
     "text": [
      "[]\n"
     ]
    }
   ],
   "source": [
    "# Проверим выборки на налиичие пересечений\n",
    "Group_A = sessions_test[sessions_test['test_group'] == 'A']['session_id']\n",
    "Group_B = sessions_test[sessions_test['test_group'] == 'B']['session_id']\n",
    "\n",
    "intersection = list(set(Group_A) & set(Group_B))\n",
    "print(intersection) "
   ]
  },
  {
   "cell_type": "markdown",
   "metadata": {},
   "source": [
    "Пересечений между группами не выявлено.\n",
    "\n",
    "Расчёт размера выборок был осуществлён в п.п. 4.2. Разница составила 1,8%, что не является существенным."
   ]
  },
  {
   "cell_type": "markdown",
   "metadata": {},
   "source": [
    "Поскольку в качестве целевой метрики мы рассматриваем долю сессий, для которых количество просмотренных страниц составляет 4 и более и имеется конкретный признак, по которому осуществляется оценка количества успехов в выборках в качестве статистического теста будет использован Z-тест пропорций.\n",
    "\n",
    "Для этого необходимо провести оценку достаточности размера каждой из выборок."
   ]
  },
  {
   "cell_type": "code",
   "execution_count": 33,
   "metadata": {},
   "outputs": [
    {
     "name": "stdout",
     "output_type": "stream",
     "text": [
      "n_a=49551, n_b=50454\n",
      "m_a=15248, m_b=16059\n",
      "p_a=0.3077233557344958, p_b=0.31828992745867524\n",
      "Предпосылка о достаточном количестве данных выполняется!\n"
     ]
    }
   ],
   "source": [
    "# Рассчитаем размер выборки для контрольной группы\n",
    "n_a = sessions_test[sessions_test['test_group'] == 'A']['session_id'].nunique()\n",
    "\n",
    "# Рассчитаем размер выборки для тестовой группы\n",
    "n_b = sessions_test[sessions_test['test_group'] == 'B']['session_id'].nunique()\n",
    "\n",
    "# Рассчитаем количество для контрольной группы\n",
    "m_a = m_a = sessions_test[sessions_test['test_group'] == 'A']['good_session'].sum()\n",
    "\n",
    "# Рассчитаем количество для тестовой группы\n",
    "m_b = sessions_test[sessions_test['test_group'] == 'B']['good_session'].sum()\n",
    "\n",
    "# Рассчитаем доли успехов для каждой группы: A и B\n",
    "p_a, p_b = m_a/n_a, m_b/n_b \n",
    "\n",
    "print(f'n_a={n_a}, n_b={n_b}')\n",
    "\n",
    "print(f'm_a={m_a}, m_b={m_b}')\n",
    "\n",
    "\n",
    "print(f'p_a={p_a}, p_b={p_b}')\n",
    "\n",
    "\n",
    "if (p_a*n_a > 10)and((1-p_a)*n_a > 10)and(p_b*n_b > 10)and((1-p_b)*n_b > 10):\n",
    "    print('Предпосылка о достаточном количестве данных выполняется!')\n",
    "else:\n",
    "    print('Предпосылка о достаточном количестве данных НЕ выполняется!')"
   ]
  },
  {
   "cell_type": "markdown",
   "metadata": {},
   "source": [
    "Таким образом, имеющихся данных достаточно для проведения теста."
   ]
  },
  {
   "cell_type": "code",
   "execution_count": 34,
   "metadata": {},
   "outputs": [
    {
     "name": "stdout",
     "output_type": "stream",
     "text": [
      "pvalue=0.0001574739988036123 < 0.05\n",
      "Нулевая гипотеза не находит подтверждения!\n"
     ]
    }
   ],
   "source": [
    "# Зададим уровень значимости\n",
    "alpha = 0.05\n",
    "\n",
    "stat_ztest, p_value_ztest = proportions_ztest(\n",
    "    [m_b, m_a],\n",
    "    [n_b, n_a],\n",
    "    alternative='larger' \n",
    ")\n",
    "p_value_ztest\n",
    "\n",
    "\n",
    "if p_value_ztest > alpha:\n",
    "    print(f'pvalue={p_value_ztest} > {alpha}')\n",
    "    print('Нулевая гипотеза находит подтверждение!')\n",
    "else:\n",
    "    print(f'pvalue={p_value_ztest} < {alpha}')\n",
    "    print('Нулевая гипотеза не находит подтверждения!')"
   ]
  },
  {
   "cell_type": "markdown",
   "metadata": {},
   "source": [
    "Было получено значение p-value, которое очень близко к нулю. Это означает, что нет оснований принимать нулевую гипотезу. Альтернативная гипотеза, согласно результатам статистического теста, находит подтверждение.\n",
    "Таким образом, можно сделать вывод, что существует статистически значимое различие между долями успешных сессий в группах A и B и в соответствии с альтернативной гипотезой доля сессий с количеством просмотренных страниц 4 и более в группе B выше. \n",
    "В результате чего можно сделать вывод, что созданный новый алгоритм рекомендаций показывает более интересный контент для каждого пользователя. "
   ]
  },
  {
   "cell_type": "markdown",
   "metadata": {
    "id": "GnJrkY9Q63zS"
   },
   "source": [
    "#### 4.5. Вывод по результатам A/B-эксперимента"
   ]
  },
  {
   "cell_type": "markdown",
   "metadata": {
    "id": "rri8KRIgPMrW"
   },
   "source": [
    "В данном разделе был проведён A/B-эксперимент, в соответствие с которым было выдвинуто предположение о том, что созданный новый алгоритм рекомендаций, будет показывать более интересный контент для каждого пользователя и доля успешных сессий с числом просмотренных страниц 4 и более повысится. В качестве целевой метрики взята доля сессий с количеством просмотренных страниц 4 и более (столбец 'good_session'). В качестве нулевой гипотезы было взято предположение о том, что средняя доля сессий с количеством просмотренных страниц 4 и более не изменилась, в качестве альтернативной, что средняя доля сессий с количеством просмотренных страниц 4 и более увеличилась.\n",
    "\n",
    "Всего данные содержат наблюдения в течение 20 дней эксперимента. Количество сессий для группы А составило 49 551, для группы В - 50 454. Разница составила 1,8%, что не является существенным. Предварительно была проведена проверка данных на корректность (пропуски и дубликаты в данных, пересечение в выборках), в ходе которой нарушений выявлено не было.\n",
    "\n",
    "Поскольку в качестве целевой метрики рассматривается доля сессий, для которых количество просмотренных страниц составляет 4 и более и имеется конкретный признак, по которому осуществляется оценка количества успехов в выборках, то в качестве статистического теста использовался Z-тест пропорций. Предварительно перед этим была проведена оценка достаточности размера каждой из выборок, в соответствии с которой было выявлено, что имеющихся данных достаточно для проведения статистического теста.\n",
    "\n",
    "В результате проведения Z-теста пропорций значение составило p-value=0.0001574739988036123, что значительно ниже уровня значимости alpha 0.05, в результате чего оснований принимать нулевую гипотезу выявлено не было и необходимо принять альтернативную гипотезу, о том, что доля успешных сессий выше в тестовой группе B. \n",
    "\n",
    "В результате чего можно сделать вывод о том, что новый алгоритм рекомендаций способствует увеличению количества сессий с большим числом просмотренных страниц и по итогам статистического теста можно рекомендовать внедрять нововведение в приложение."
   ]
  },
  {
   "cell_type": "code",
   "execution_count": null,
   "metadata": {},
   "outputs": [],
   "source": []
  }
 ],
 "metadata": {
  "ExecuteTimeLog": [
   {
    "duration": 555,
    "start_time": "2025-06-19T10:53:33.466Z"
   },
   {
    "duration": 2605,
    "start_time": "2025-06-19T10:54:36.927Z"
   },
   {
    "duration": 3251,
    "start_time": "2025-06-19T10:54:40.358Z"
   },
   {
    "duration": 9,
    "start_time": "2025-06-19T11:01:35.156Z"
   },
   {
    "duration": 8,
    "start_time": "2025-06-19T11:01:43.482Z"
   },
   {
    "duration": 709,
    "start_time": "2025-06-19T11:01:46.990Z"
   },
   {
    "duration": 730,
    "start_time": "2025-06-19T11:02:21.019Z"
   },
   {
    "duration": 632,
    "start_time": "2025-06-19T11:05:00.415Z"
   },
   {
    "duration": 7,
    "start_time": "2025-06-19T11:05:47.982Z"
   },
   {
    "duration": 562,
    "start_time": "2025-06-19T11:06:45.295Z"
   },
   {
    "duration": 596,
    "start_time": "2025-06-19T11:06:59.936Z"
   },
   {
    "duration": 642,
    "start_time": "2025-06-19T11:07:40.571Z"
   },
   {
    "duration": 684,
    "start_time": "2025-06-19T11:10:06.393Z"
   },
   {
    "duration": 647,
    "start_time": "2025-06-19T11:10:19.914Z"
   },
   {
    "duration": 624,
    "start_time": "2025-06-19T11:10:51.494Z"
   },
   {
    "duration": 82,
    "start_time": "2025-06-19T11:11:54.571Z"
   },
   {
    "duration": 614,
    "start_time": "2025-06-19T11:12:02.740Z"
   },
   {
    "duration": 639,
    "start_time": "2025-06-19T11:12:24.085Z"
   },
   {
    "duration": 653,
    "start_time": "2025-06-19T11:15:21.279Z"
   },
   {
    "duration": 3719,
    "start_time": "2025-06-19T11:15:48.061Z"
   },
   {
    "duration": 69,
    "start_time": "2025-06-19T11:15:51.782Z"
   },
   {
    "duration": 0,
    "start_time": "2025-06-19T11:15:51.853Z"
   },
   {
    "duration": 0,
    "start_time": "2025-06-19T11:15:51.855Z"
   },
   {
    "duration": 627,
    "start_time": "2025-06-19T11:16:46.965Z"
   },
   {
    "duration": 651,
    "start_time": "2025-06-19T11:17:35.230Z"
   },
   {
    "duration": 89,
    "start_time": "2025-06-19T11:18:15.621Z"
   },
   {
    "duration": 596,
    "start_time": "2025-06-19T11:18:29.219Z"
   },
   {
    "duration": 621,
    "start_time": "2025-06-19T11:18:49.787Z"
   },
   {
    "duration": 664,
    "start_time": "2025-06-19T11:18:56.199Z"
   },
   {
    "duration": 680,
    "start_time": "2025-06-19T11:19:01.762Z"
   },
   {
    "duration": 669,
    "start_time": "2025-06-19T11:23:07.814Z"
   },
   {
    "duration": 591,
    "start_time": "2025-06-19T11:23:16.915Z"
   },
   {
    "duration": 620,
    "start_time": "2025-06-19T11:23:25.343Z"
   },
   {
    "duration": 635,
    "start_time": "2025-06-19T11:23:37.462Z"
   },
   {
    "duration": 612,
    "start_time": "2025-06-19T11:23:43.178Z"
   },
   {
    "duration": 65,
    "start_time": "2025-06-19T11:35:20.209Z"
   },
   {
    "duration": 7,
    "start_time": "2025-06-19T11:36:21.127Z"
   },
   {
    "duration": 13,
    "start_time": "2025-06-19T11:36:27.151Z"
   },
   {
    "duration": 267,
    "start_time": "2025-06-19T11:37:00.295Z"
   },
   {
    "duration": 184,
    "start_time": "2025-06-19T11:42:02.618Z"
   },
   {
    "duration": 7,
    "start_time": "2025-06-19T11:42:35.802Z"
   },
   {
    "duration": 6,
    "start_time": "2025-06-19T11:42:40.834Z"
   },
   {
    "duration": 61,
    "start_time": "2025-06-19T11:43:30.382Z"
   },
   {
    "duration": 1557,
    "start_time": "2025-06-19T11:45:00.287Z"
   },
   {
    "duration": 57,
    "start_time": "2025-06-19T11:45:11.583Z"
   },
   {
    "duration": 7,
    "start_time": "2025-06-19T11:46:11.727Z"
   },
   {
    "duration": 73,
    "start_time": "2025-06-19T11:46:20.608Z"
   },
   {
    "duration": 9,
    "start_time": "2025-06-19T11:46:29.947Z"
   },
   {
    "duration": 309,
    "start_time": "2025-06-19T11:50:33.317Z"
   },
   {
    "duration": 54,
    "start_time": "2025-06-19T11:51:49.939Z"
   },
   {
    "duration": 160,
    "start_time": "2025-06-19T11:53:04.380Z"
   },
   {
    "duration": 175,
    "start_time": "2025-06-19T11:53:29.268Z"
   },
   {
    "duration": 185,
    "start_time": "2025-06-19T11:54:05.193Z"
   },
   {
    "duration": 184,
    "start_time": "2025-06-19T11:54:10.860Z"
   },
   {
    "duration": 84,
    "start_time": "2025-06-19T11:54:31.545Z"
   },
   {
    "duration": 961,
    "start_time": "2025-06-19T11:55:56.448Z"
   },
   {
    "duration": 78,
    "start_time": "2025-06-19T11:56:07.222Z"
   },
   {
    "duration": 58,
    "start_time": "2025-06-19T11:56:12.142Z"
   },
   {
    "duration": 10,
    "start_time": "2025-06-19T11:57:22.583Z"
   },
   {
    "duration": 59,
    "start_time": "2025-06-19T12:02:02.077Z"
   },
   {
    "duration": 166,
    "start_time": "2025-06-19T12:03:20.333Z"
   },
   {
    "duration": 235,
    "start_time": "2025-06-19T12:05:12.294Z"
   },
   {
    "duration": 181,
    "start_time": "2025-06-19T12:05:34.082Z"
   },
   {
    "duration": 176,
    "start_time": "2025-06-19T12:05:42.111Z"
   },
   {
    "duration": 184,
    "start_time": "2025-06-19T12:06:26.277Z"
   },
   {
    "duration": 294,
    "start_time": "2025-06-19T12:06:37.033Z"
   },
   {
    "duration": 176,
    "start_time": "2025-06-19T12:07:08.860Z"
   },
   {
    "duration": 8,
    "start_time": "2025-06-19T12:08:10.415Z"
   },
   {
    "duration": 181,
    "start_time": "2025-06-19T12:08:20.855Z"
   },
   {
    "duration": 335,
    "start_time": "2025-06-19T12:10:05.100Z"
   },
   {
    "duration": 174,
    "start_time": "2025-06-19T12:10:25.204Z"
   },
   {
    "duration": 3,
    "start_time": "2025-06-19T12:12:19.700Z"
   },
   {
    "duration": 7,
    "start_time": "2025-06-19T12:13:19.786Z"
   },
   {
    "duration": 8,
    "start_time": "2025-06-19T12:13:24.596Z"
   },
   {
    "duration": 29,
    "start_time": "2025-06-19T12:13:29.145Z"
   },
   {
    "duration": 30,
    "start_time": "2025-06-19T12:14:01.154Z"
   },
   {
    "duration": 463,
    "start_time": "2025-06-19T12:17:22.282Z"
   },
   {
    "duration": 2380,
    "start_time": "2025-06-19T12:17:30.470Z"
   },
   {
    "duration": 698,
    "start_time": "2025-06-19T12:17:32.852Z"
   },
   {
    "duration": 303,
    "start_time": "2025-06-19T12:17:33.552Z"
   },
   {
    "duration": 48,
    "start_time": "2025-06-19T12:17:33.857Z"
   },
   {
    "duration": 590,
    "start_time": "2025-06-19T12:17:33.906Z"
   },
   {
    "duration": 0,
    "start_time": "2025-06-19T12:17:34.497Z"
   },
   {
    "duration": 38,
    "start_time": "2025-06-19T12:26:20.066Z"
   },
   {
    "duration": 222,
    "start_time": "2025-06-19T12:26:34.549Z"
   },
   {
    "duration": 221,
    "start_time": "2025-06-19T12:28:16.557Z"
   },
   {
    "duration": 208,
    "start_time": "2025-06-19T12:28:34.457Z"
   },
   {
    "duration": 209,
    "start_time": "2025-06-19T12:28:42.072Z"
   },
   {
    "duration": 80,
    "start_time": "2025-06-19T12:29:27.451Z"
   },
   {
    "duration": 210,
    "start_time": "2025-06-19T12:29:31.707Z"
   },
   {
    "duration": 227,
    "start_time": "2025-06-19T12:29:43.673Z"
   },
   {
    "duration": 157,
    "start_time": "2025-06-19T12:32:10.794Z"
   },
   {
    "duration": 182,
    "start_time": "2025-06-19T12:32:13.804Z"
   },
   {
    "duration": 184,
    "start_time": "2025-06-19T12:32:57.364Z"
   },
   {
    "duration": 14,
    "start_time": "2025-06-19T12:33:21.150Z"
   },
   {
    "duration": 8,
    "start_time": "2025-06-19T12:33:28.132Z"
   },
   {
    "duration": 234,
    "start_time": "2025-06-19T12:33:36.308Z"
   },
   {
    "duration": 188,
    "start_time": "2025-06-19T12:33:38.730Z"
   },
   {
    "duration": 189,
    "start_time": "2025-06-19T12:34:44.171Z"
   },
   {
    "duration": 181,
    "start_time": "2025-06-19T12:34:59.846Z"
   },
   {
    "duration": 198,
    "start_time": "2025-06-19T12:35:07.178Z"
   },
   {
    "duration": 196,
    "start_time": "2025-06-19T12:35:20.773Z"
   },
   {
    "duration": 181,
    "start_time": "2025-06-19T12:35:28.708Z"
   },
   {
    "duration": 183,
    "start_time": "2025-06-19T12:35:33.528Z"
   },
   {
    "duration": 140,
    "start_time": "2025-06-19T12:35:55.736Z"
   },
   {
    "duration": 210,
    "start_time": "2025-06-19T12:36:01.981Z"
   },
   {
    "duration": 16,
    "start_time": "2025-06-19T12:43:35.353Z"
   },
   {
    "duration": 24,
    "start_time": "2025-06-19T12:43:44.956Z"
   },
   {
    "duration": 55,
    "start_time": "2025-06-23T09:35:29.981Z"
   },
   {
    "duration": 3586,
    "start_time": "2025-06-23T09:35:38.226Z"
   },
   {
    "duration": 747,
    "start_time": "2025-06-23T09:35:41.814Z"
   },
   {
    "duration": 458,
    "start_time": "2025-06-23T09:35:42.563Z"
   },
   {
    "duration": 75,
    "start_time": "2025-06-23T09:35:43.024Z"
   },
   {
    "duration": 235,
    "start_time": "2025-06-23T09:35:43.101Z"
   },
   {
    "duration": 65,
    "start_time": "2025-06-23T09:35:43.338Z"
   },
   {
    "duration": 656,
    "start_time": "2025-06-23T09:35:43.405Z"
   },
   {
    "duration": 0,
    "start_time": "2025-06-23T09:35:44.063Z"
   },
   {
    "duration": 221,
    "start_time": "2025-06-23T09:40:51.807Z"
   },
   {
    "duration": 308,
    "start_time": "2025-06-23T09:41:08.941Z"
   },
   {
    "duration": 29,
    "start_time": "2025-06-23T09:42:55.737Z"
   },
   {
    "duration": 11,
    "start_time": "2025-06-23T10:18:21.174Z"
   },
   {
    "duration": 15,
    "start_time": "2025-06-23T10:19:40.400Z"
   },
   {
    "duration": 109,
    "start_time": "2025-06-23T10:38:03.998Z"
   },
   {
    "duration": 211,
    "start_time": "2025-06-23T10:38:14.922Z"
   },
   {
    "duration": 197,
    "start_time": "2025-06-23T10:38:23.565Z"
   },
   {
    "duration": 188,
    "start_time": "2025-06-23T10:43:15.829Z"
   },
   {
    "duration": 81,
    "start_time": "2025-06-23T10:56:51.662Z"
   },
   {
    "duration": 65,
    "start_time": "2025-06-23T10:58:21.269Z"
   },
   {
    "duration": 57,
    "start_time": "2025-06-23T11:01:44.657Z"
   },
   {
    "duration": 73,
    "start_time": "2025-06-23T11:01:57.078Z"
   },
   {
    "duration": 59,
    "start_time": "2025-06-23T11:02:03.655Z"
   },
   {
    "duration": 55,
    "start_time": "2025-06-23T11:02:17.323Z"
   },
   {
    "duration": 90,
    "start_time": "2025-06-23T11:07:46.728Z"
   },
   {
    "duration": 1592,
    "start_time": "2025-06-23T11:07:53.439Z"
   },
   {
    "duration": 1512,
    "start_time": "2025-06-23T11:08:11.841Z"
   },
   {
    "duration": 1299,
    "start_time": "2025-06-23T11:08:43.775Z"
   },
   {
    "duration": 63,
    "start_time": "2025-06-23T11:09:19.966Z"
   },
   {
    "duration": 79,
    "start_time": "2025-06-23T11:09:45.544Z"
   },
   {
    "duration": 46,
    "start_time": "2025-06-23T11:10:29.784Z"
   },
   {
    "duration": 86,
    "start_time": "2025-06-23T11:10:47.127Z"
   },
   {
    "duration": 57,
    "start_time": "2025-06-23T11:10:55.598Z"
   },
   {
    "duration": 50,
    "start_time": "2025-06-23T11:11:31.097Z"
   },
   {
    "duration": 52,
    "start_time": "2025-06-23T11:11:38.778Z"
   },
   {
    "duration": 9,
    "start_time": "2025-06-23T11:13:15.602Z"
   },
   {
    "duration": 9,
    "start_time": "2025-06-23T11:13:26.409Z"
   },
   {
    "duration": 11,
    "start_time": "2025-06-23T11:13:53.872Z"
   },
   {
    "duration": 54,
    "start_time": "2025-06-23T11:15:46.433Z"
   },
   {
    "duration": 194,
    "start_time": "2025-06-23T11:16:25.653Z"
   },
   {
    "duration": 148,
    "start_time": "2025-06-23T11:16:49.195Z"
   },
   {
    "duration": 155,
    "start_time": "2025-06-23T11:16:56.463Z"
   },
   {
    "duration": 157,
    "start_time": "2025-06-23T11:17:01.044Z"
   },
   {
    "duration": 157,
    "start_time": "2025-06-23T11:18:52.241Z"
   },
   {
    "duration": 239,
    "start_time": "2025-06-23T11:19:43.753Z"
   },
   {
    "duration": 9,
    "start_time": "2025-06-23T11:30:33.997Z"
   },
   {
    "duration": 56,
    "start_time": "2025-06-23T11:33:23.823Z"
   },
   {
    "duration": 105,
    "start_time": "2025-06-23T11:33:31.908Z"
   },
   {
    "duration": 7,
    "start_time": "2025-06-23T11:33:42.680Z"
   },
   {
    "duration": 8,
    "start_time": "2025-06-23T11:35:53.243Z"
   },
   {
    "duration": 10,
    "start_time": "2025-06-23T11:36:59.690Z"
   },
   {
    "duration": 149,
    "start_time": "2025-06-23T11:42:46.260Z"
   },
   {
    "duration": 189,
    "start_time": "2025-06-23T11:43:25.086Z"
   },
   {
    "duration": 377,
    "start_time": "2025-06-23T11:43:49.397Z"
   },
   {
    "duration": 157,
    "start_time": "2025-06-23T11:44:27.164Z"
   },
   {
    "duration": 378,
    "start_time": "2025-06-23T11:44:47.756Z"
   },
   {
    "duration": 385,
    "start_time": "2025-06-23T11:47:49.124Z"
   },
   {
    "duration": 359,
    "start_time": "2025-06-23T11:48:58.189Z"
   },
   {
    "duration": 94,
    "start_time": "2025-06-23T11:49:05.699Z"
   },
   {
    "duration": 462,
    "start_time": "2025-06-23T11:49:19.305Z"
   },
   {
    "duration": 361,
    "start_time": "2025-06-23T11:49:24.540Z"
   },
   {
    "duration": 364,
    "start_time": "2025-06-23T11:49:36.345Z"
   },
   {
    "duration": 137,
    "start_time": "2025-06-23T11:57:34.705Z"
   },
   {
    "duration": 146,
    "start_time": "2025-06-23T11:58:03.858Z"
   },
   {
    "duration": 351,
    "start_time": "2025-06-23T11:58:08.489Z"
   },
   {
    "duration": 354,
    "start_time": "2025-06-23T11:59:39.858Z"
   },
   {
    "duration": 7,
    "start_time": "2025-06-24T10:57:49.347Z"
   },
   {
    "duration": 417,
    "start_time": "2025-06-24T10:57:56.173Z"
   },
   {
    "duration": 369,
    "start_time": "2025-06-24T10:59:11.103Z"
   },
   {
    "duration": 10,
    "start_time": "2025-06-24T11:03:32.901Z"
   },
   {
    "duration": 3272,
    "start_time": "2025-06-24T11:04:27.602Z"
   },
   {
    "duration": 737,
    "start_time": "2025-06-24T11:04:30.875Z"
   },
   {
    "duration": 291,
    "start_time": "2025-06-24T11:04:31.615Z"
   },
   {
    "duration": 53,
    "start_time": "2025-06-24T11:04:31.908Z"
   },
   {
    "duration": 219,
    "start_time": "2025-06-24T11:04:31.963Z"
   },
   {
    "duration": 26,
    "start_time": "2025-06-24T11:04:32.183Z"
   },
   {
    "duration": 340,
    "start_time": "2025-06-24T11:04:32.210Z"
   },
   {
    "duration": 516,
    "start_time": "2025-06-24T11:04:32.553Z"
   },
   {
    "duration": 211,
    "start_time": "2025-06-24T11:04:33.071Z"
   },
   {
    "duration": 66,
    "start_time": "2025-06-24T11:04:33.286Z"
   },
   {
    "duration": 9,
    "start_time": "2025-06-24T11:04:33.354Z"
   },
   {
    "duration": 187,
    "start_time": "2025-06-24T11:04:33.365Z"
   },
   {
    "duration": 8,
    "start_time": "2025-06-24T11:04:33.554Z"
   },
   {
    "duration": 94,
    "start_time": "2025-06-24T11:04:33.564Z"
   },
   {
    "duration": 420,
    "start_time": "2025-06-24T11:04:33.660Z"
   },
   {
    "duration": 9,
    "start_time": "2025-06-24T11:04:34.082Z"
   },
   {
    "duration": 412,
    "start_time": "2025-06-24T11:04:34.093Z"
   },
   {
    "duration": 705,
    "start_time": "2025-06-24T11:08:37.315Z"
   },
   {
    "duration": 40,
    "start_time": "2025-06-24T11:10:37.739Z"
   },
   {
    "duration": 20,
    "start_time": "2025-06-24T11:10:59.097Z"
   },
   {
    "duration": 2774,
    "start_time": "2025-06-24T11:11:08.253Z"
   },
   {
    "duration": 777,
    "start_time": "2025-06-24T11:11:11.039Z"
   },
   {
    "duration": 311,
    "start_time": "2025-06-24T11:11:11.817Z"
   },
   {
    "duration": 63,
    "start_time": "2025-06-24T11:11:12.130Z"
   },
   {
    "duration": 277,
    "start_time": "2025-06-24T11:11:12.195Z"
   },
   {
    "duration": 27,
    "start_time": "2025-06-24T11:11:12.475Z"
   },
   {
    "duration": 353,
    "start_time": "2025-06-24T11:11:12.505Z"
   },
   {
    "duration": 604,
    "start_time": "2025-06-24T11:11:12.860Z"
   },
   {
    "duration": 225,
    "start_time": "2025-06-24T11:11:13.468Z"
   },
   {
    "duration": 62,
    "start_time": "2025-06-24T11:11:13.696Z"
   },
   {
    "duration": 13,
    "start_time": "2025-06-24T11:11:13.760Z"
   },
   {
    "duration": 219,
    "start_time": "2025-06-24T11:11:13.775Z"
   },
   {
    "duration": 8,
    "start_time": "2025-06-24T11:11:13.996Z"
   },
   {
    "duration": 81,
    "start_time": "2025-06-24T11:11:14.005Z"
   },
   {
    "duration": 470,
    "start_time": "2025-06-24T11:11:14.088Z"
   },
   {
    "duration": 12,
    "start_time": "2025-06-24T11:11:14.561Z"
   },
   {
    "duration": 420,
    "start_time": "2025-06-24T11:11:14.575Z"
   },
   {
    "duration": 469,
    "start_time": "2025-06-24T11:11:14.997Z"
   },
   {
    "duration": 22,
    "start_time": "2025-06-24T11:11:15.472Z"
   },
   {
    "duration": 92,
    "start_time": "2025-06-24T11:19:28.626Z"
   },
   {
    "duration": 61,
    "start_time": "2025-06-24T11:19:34.609Z"
   },
   {
    "duration": 97,
    "start_time": "2025-06-24T11:24:00.408Z"
   },
   {
    "duration": 42,
    "start_time": "2025-06-24T11:24:05.967Z"
   },
   {
    "duration": 61,
    "start_time": "2025-06-24T11:24:14.747Z"
   },
   {
    "duration": 3,
    "start_time": "2025-06-24T11:24:26.748Z"
   },
   {
    "duration": 41,
    "start_time": "2025-06-24T11:24:30.249Z"
   },
   {
    "duration": 144,
    "start_time": "2025-06-24T11:26:49.083Z"
   },
   {
    "duration": 81,
    "start_time": "2025-06-24T11:26:55.805Z"
   },
   {
    "duration": 76,
    "start_time": "2025-06-24T11:36:18.746Z"
   },
   {
    "duration": 74,
    "start_time": "2025-06-24T11:36:32.259Z"
   },
   {
    "duration": 72,
    "start_time": "2025-06-24T11:36:55.787Z"
   },
   {
    "duration": 101,
    "start_time": "2025-06-24T11:37:46.769Z"
   },
   {
    "duration": 123,
    "start_time": "2025-06-24T11:39:56.353Z"
   },
   {
    "duration": 107,
    "start_time": "2025-06-24T11:40:42.201Z"
   },
   {
    "duration": 114,
    "start_time": "2025-06-24T11:40:58.745Z"
   },
   {
    "duration": 104,
    "start_time": "2025-06-24T11:41:58.774Z"
   },
   {
    "duration": 106,
    "start_time": "2025-06-24T11:42:05.483Z"
   },
   {
    "duration": 111,
    "start_time": "2025-06-24T11:45:46.990Z"
   },
   {
    "duration": 119,
    "start_time": "2025-06-24T11:46:36.033Z"
   },
   {
    "duration": 117,
    "start_time": "2025-06-24T11:46:50.178Z"
   },
   {
    "duration": 130,
    "start_time": "2025-06-24T11:47:22.545Z"
   },
   {
    "duration": 126,
    "start_time": "2025-06-24T11:47:26.692Z"
   },
   {
    "duration": 116,
    "start_time": "2025-06-24T11:47:48.995Z"
   },
   {
    "duration": 106,
    "start_time": "2025-06-24T11:49:08.693Z"
   },
   {
    "duration": 212,
    "start_time": "2025-06-24T11:49:18.071Z"
   },
   {
    "duration": 118,
    "start_time": "2025-06-24T11:49:25.314Z"
   },
   {
    "duration": 5,
    "start_time": "2025-06-24T12:05:39.071Z"
   },
   {
    "duration": 11,
    "start_time": "2025-06-24T12:06:11.931Z"
   },
   {
    "duration": 5,
    "start_time": "2025-06-24T12:10:18.812Z"
   },
   {
    "duration": 5,
    "start_time": "2025-06-24T12:10:34.646Z"
   },
   {
    "duration": 85,
    "start_time": "2025-06-24T12:14:03.114Z"
   },
   {
    "duration": 8,
    "start_time": "2025-06-24T12:14:20.185Z"
   },
   {
    "duration": 13,
    "start_time": "2025-06-24T12:21:48.425Z"
   },
   {
    "duration": 13,
    "start_time": "2025-06-24T12:21:55.069Z"
   },
   {
    "duration": 28,
    "start_time": "2025-06-24T12:22:17.201Z"
   },
   {
    "duration": 4,
    "start_time": "2025-06-24T12:25:23.112Z"
   },
   {
    "duration": 6,
    "start_time": "2025-06-24T12:25:35.432Z"
   },
   {
    "duration": 4,
    "start_time": "2025-06-24T12:26:31.504Z"
   },
   {
    "duration": 5,
    "start_time": "2025-06-24T12:27:02.870Z"
   },
   {
    "duration": 4,
    "start_time": "2025-06-24T12:27:22.285Z"
   },
   {
    "duration": 9,
    "start_time": "2025-06-24T12:28:04.331Z"
   },
   {
    "duration": 5,
    "start_time": "2025-06-24T12:28:15.910Z"
   },
   {
    "duration": 11,
    "start_time": "2025-06-24T12:30:01.837Z"
   },
   {
    "duration": 139,
    "start_time": "2025-06-24T12:34:42.279Z"
   },
   {
    "duration": 8,
    "start_time": "2025-06-24T12:34:50.952Z"
   },
   {
    "duration": 6,
    "start_time": "2025-06-24T12:34:57.871Z"
   },
   {
    "duration": 5,
    "start_time": "2025-06-24T12:35:08.851Z"
   },
   {
    "duration": 80,
    "start_time": "2025-06-24T12:35:50.482Z"
   },
   {
    "duration": 82,
    "start_time": "2025-06-24T12:36:05.849Z"
   },
   {
    "duration": 71,
    "start_time": "2025-06-24T12:36:09.705Z"
   },
   {
    "duration": 5,
    "start_time": "2025-06-24T12:36:21.555Z"
   },
   {
    "duration": 5,
    "start_time": "2025-06-24T12:36:35.471Z"
   },
   {
    "duration": 5,
    "start_time": "2025-06-24T12:36:48.450Z"
   },
   {
    "duration": 4,
    "start_time": "2025-06-24T12:43:56.301Z"
   },
   {
    "duration": 12,
    "start_time": "2025-06-24T12:45:49.353Z"
   },
   {
    "duration": 46,
    "start_time": "2025-06-24T12:46:02.248Z"
   },
   {
    "duration": 50,
    "start_time": "2025-06-24T12:48:41.708Z"
   },
   {
    "duration": 102,
    "start_time": "2025-06-24T12:53:55.527Z"
   },
   {
    "duration": 21,
    "start_time": "2025-06-24T12:54:17.793Z"
   },
   {
    "duration": 36,
    "start_time": "2025-06-24T12:54:30.623Z"
   },
   {
    "duration": 28,
    "start_time": "2025-06-24T12:55:15.981Z"
   },
   {
    "duration": 25,
    "start_time": "2025-06-24T12:56:28.032Z"
   },
   {
    "duration": 18,
    "start_time": "2025-06-24T12:56:56.767Z"
   },
   {
    "duration": 88,
    "start_time": "2025-06-24T12:57:15.469Z"
   },
   {
    "duration": 6,
    "start_time": "2025-06-24T13:02:04.948Z"
   },
   {
    "duration": 7,
    "start_time": "2025-06-24T13:03:59.144Z"
   },
   {
    "duration": 5,
    "start_time": "2025-06-24T13:04:28.258Z"
   },
   {
    "duration": 57,
    "start_time": "2025-06-24T13:10:56.135Z"
   },
   {
    "duration": 239,
    "start_time": "2025-06-24T13:19:26.149Z"
   },
   {
    "duration": 230,
    "start_time": "2025-06-24T13:19:41.814Z"
   },
   {
    "duration": 187,
    "start_time": "2025-06-24T13:22:20.402Z"
   },
   {
    "duration": 57,
    "start_time": "2025-06-24T13:26:13.172Z"
   },
   {
    "duration": 428,
    "start_time": "2025-06-24T13:30:33.965Z"
   },
   {
    "duration": 443,
    "start_time": "2025-06-24T13:31:01.968Z"
   },
   {
    "duration": 570,
    "start_time": "2025-06-24T13:31:16.745Z"
   },
   {
    "duration": 468,
    "start_time": "2025-06-24T13:31:38.640Z"
   },
   {
    "duration": 481,
    "start_time": "2025-06-24T13:32:01.287Z"
   },
   {
    "duration": 408,
    "start_time": "2025-06-24T13:32:13.419Z"
   },
   {
    "duration": 461,
    "start_time": "2025-06-24T13:32:53.411Z"
   },
   {
    "duration": 439,
    "start_time": "2025-06-24T13:33:44.072Z"
   },
   {
    "duration": 403,
    "start_time": "2025-06-24T13:35:08.210Z"
   },
   {
    "duration": 435,
    "start_time": "2025-06-24T13:37:09.805Z"
   },
   {
    "duration": 473,
    "start_time": "2025-06-24T13:37:37.305Z"
   },
   {
    "duration": 206,
    "start_time": "2025-06-24T13:42:13.620Z"
   },
   {
    "duration": 11,
    "start_time": "2025-06-24T13:46:11.646Z"
   },
   {
    "duration": 2565,
    "start_time": "2025-06-24T13:46:18.775Z"
   },
   {
    "duration": 715,
    "start_time": "2025-06-24T13:46:21.345Z"
   },
   {
    "duration": 471,
    "start_time": "2025-06-24T13:46:22.061Z"
   },
   {
    "duration": 50,
    "start_time": "2025-06-24T13:46:22.535Z"
   },
   {
    "duration": 267,
    "start_time": "2025-06-24T13:46:22.587Z"
   },
   {
    "duration": 0,
    "start_time": "2025-06-24T13:46:22.856Z"
   },
   {
    "duration": 0,
    "start_time": "2025-06-24T13:46:22.857Z"
   },
   {
    "duration": 0,
    "start_time": "2025-06-24T13:46:22.858Z"
   },
   {
    "duration": 0,
    "start_time": "2025-06-24T13:46:22.859Z"
   },
   {
    "duration": 0,
    "start_time": "2025-06-24T13:46:22.860Z"
   },
   {
    "duration": 0,
    "start_time": "2025-06-24T13:46:22.862Z"
   },
   {
    "duration": 0,
    "start_time": "2025-06-24T13:46:22.863Z"
   },
   {
    "duration": 0,
    "start_time": "2025-06-24T13:46:22.865Z"
   },
   {
    "duration": 0,
    "start_time": "2025-06-24T13:46:22.866Z"
   },
   {
    "duration": 0,
    "start_time": "2025-06-24T13:46:22.868Z"
   },
   {
    "duration": 0,
    "start_time": "2025-06-24T13:46:22.870Z"
   },
   {
    "duration": 0,
    "start_time": "2025-06-24T13:46:22.872Z"
   },
   {
    "duration": 0,
    "start_time": "2025-06-24T13:46:22.874Z"
   },
   {
    "duration": 0,
    "start_time": "2025-06-24T13:46:22.876Z"
   },
   {
    "duration": 0,
    "start_time": "2025-06-24T13:46:22.878Z"
   },
   {
    "duration": 0,
    "start_time": "2025-06-24T13:46:22.880Z"
   },
   {
    "duration": 0,
    "start_time": "2025-06-24T13:46:22.882Z"
   },
   {
    "duration": 0,
    "start_time": "2025-06-24T13:46:22.884Z"
   },
   {
    "duration": 0,
    "start_time": "2025-06-24T13:46:22.886Z"
   },
   {
    "duration": 0,
    "start_time": "2025-06-24T13:46:22.939Z"
   },
   {
    "duration": 0,
    "start_time": "2025-06-24T13:46:22.940Z"
   },
   {
    "duration": 0,
    "start_time": "2025-06-24T13:46:22.943Z"
   },
   {
    "duration": 0,
    "start_time": "2025-06-24T13:46:22.944Z"
   },
   {
    "duration": 0,
    "start_time": "2025-06-24T13:46:22.951Z"
   },
   {
    "duration": 0,
    "start_time": "2025-06-24T13:46:22.953Z"
   },
   {
    "duration": 0,
    "start_time": "2025-06-24T13:46:22.954Z"
   },
   {
    "duration": 0,
    "start_time": "2025-06-24T13:46:22.956Z"
   },
   {
    "duration": 0,
    "start_time": "2025-06-24T13:46:22.956Z"
   },
   {
    "duration": 9,
    "start_time": "2025-06-24T13:46:45.477Z"
   },
   {
    "duration": 337,
    "start_time": "2025-06-24T13:47:14.255Z"
   },
   {
    "duration": 3765,
    "start_time": "2025-06-24T13:47:28.588Z"
   },
   {
    "duration": 720,
    "start_time": "2025-06-24T13:47:32.355Z"
   },
   {
    "duration": 490,
    "start_time": "2025-06-24T13:47:33.077Z"
   },
   {
    "duration": 45,
    "start_time": "2025-06-24T13:47:33.569Z"
   },
   {
    "duration": 378,
    "start_time": "2025-06-24T13:47:33.617Z"
   },
   {
    "duration": 89,
    "start_time": "2025-06-24T13:47:33.997Z"
   },
   {
    "duration": 0,
    "start_time": "2025-06-24T13:47:34.088Z"
   },
   {
    "duration": 0,
    "start_time": "2025-06-24T13:47:34.090Z"
   },
   {
    "duration": 0,
    "start_time": "2025-06-24T13:47:34.091Z"
   },
   {
    "duration": 0,
    "start_time": "2025-06-24T13:47:34.092Z"
   },
   {
    "duration": 0,
    "start_time": "2025-06-24T13:47:34.093Z"
   },
   {
    "duration": 0,
    "start_time": "2025-06-24T13:47:34.094Z"
   },
   {
    "duration": 0,
    "start_time": "2025-06-24T13:47:34.096Z"
   },
   {
    "duration": 0,
    "start_time": "2025-06-24T13:47:34.099Z"
   },
   {
    "duration": 0,
    "start_time": "2025-06-24T13:47:34.101Z"
   },
   {
    "duration": 0,
    "start_time": "2025-06-24T13:47:34.103Z"
   },
   {
    "duration": 1,
    "start_time": "2025-06-24T13:47:34.104Z"
   },
   {
    "duration": 0,
    "start_time": "2025-06-24T13:47:34.106Z"
   },
   {
    "duration": 0,
    "start_time": "2025-06-24T13:47:34.140Z"
   },
   {
    "duration": 0,
    "start_time": "2025-06-24T13:47:34.148Z"
   },
   {
    "duration": 0,
    "start_time": "2025-06-24T13:47:34.149Z"
   },
   {
    "duration": 0,
    "start_time": "2025-06-24T13:47:34.150Z"
   },
   {
    "duration": 1,
    "start_time": "2025-06-24T13:47:34.154Z"
   },
   {
    "duration": 0,
    "start_time": "2025-06-24T13:47:34.156Z"
   },
   {
    "duration": 1,
    "start_time": "2025-06-24T13:47:34.156Z"
   },
   {
    "duration": 0,
    "start_time": "2025-06-24T13:47:34.157Z"
   },
   {
    "duration": 0,
    "start_time": "2025-06-24T13:47:34.159Z"
   },
   {
    "duration": 0,
    "start_time": "2025-06-24T13:47:34.160Z"
   },
   {
    "duration": 0,
    "start_time": "2025-06-24T13:47:34.162Z"
   },
   {
    "duration": 0,
    "start_time": "2025-06-24T13:47:34.163Z"
   },
   {
    "duration": 0,
    "start_time": "2025-06-24T13:47:34.165Z"
   },
   {
    "duration": 0,
    "start_time": "2025-06-24T13:47:34.166Z"
   },
   {
    "duration": 0,
    "start_time": "2025-06-24T13:47:34.167Z"
   },
   {
    "duration": 342,
    "start_time": "2025-06-24T13:48:26.165Z"
   },
   {
    "duration": 565,
    "start_time": "2025-06-24T13:48:58.510Z"
   },
   {
    "duration": 214,
    "start_time": "2025-06-24T13:49:42.444Z"
   },
   {
    "duration": 60,
    "start_time": "2025-06-24T13:49:52.790Z"
   },
   {
    "duration": 797,
    "start_time": "2025-06-24T13:49:56.428Z"
   },
   {
    "duration": 50,
    "start_time": "2025-06-24T13:50:10.751Z"
   },
   {
    "duration": 2414,
    "start_time": "2025-06-24T13:50:24.179Z"
   },
   {
    "duration": 785,
    "start_time": "2025-06-24T13:50:26.596Z"
   },
   {
    "duration": 941,
    "start_time": "2025-06-24T13:50:27.440Z"
   },
   {
    "duration": 121,
    "start_time": "2025-06-24T13:50:28.435Z"
   },
   {
    "duration": 835,
    "start_time": "2025-06-24T13:50:28.558Z"
   },
   {
    "duration": 90,
    "start_time": "2025-06-24T13:50:29.395Z"
   },
   {
    "duration": 0,
    "start_time": "2025-06-24T13:50:29.487Z"
   },
   {
    "duration": 0,
    "start_time": "2025-06-24T13:50:29.489Z"
   },
   {
    "duration": 0,
    "start_time": "2025-06-24T13:50:29.490Z"
   },
   {
    "duration": 0,
    "start_time": "2025-06-24T13:50:29.491Z"
   },
   {
    "duration": 0,
    "start_time": "2025-06-24T13:50:29.492Z"
   },
   {
    "duration": 0,
    "start_time": "2025-06-24T13:50:29.493Z"
   },
   {
    "duration": 0,
    "start_time": "2025-06-24T13:50:29.495Z"
   },
   {
    "duration": 0,
    "start_time": "2025-06-24T13:50:29.496Z"
   },
   {
    "duration": 0,
    "start_time": "2025-06-24T13:50:29.497Z"
   },
   {
    "duration": 0,
    "start_time": "2025-06-24T13:50:29.499Z"
   },
   {
    "duration": 0,
    "start_time": "2025-06-24T13:50:29.500Z"
   },
   {
    "duration": 0,
    "start_time": "2025-06-24T13:50:29.501Z"
   },
   {
    "duration": 0,
    "start_time": "2025-06-24T13:50:29.502Z"
   },
   {
    "duration": 0,
    "start_time": "2025-06-24T13:50:29.503Z"
   },
   {
    "duration": 0,
    "start_time": "2025-06-24T13:50:29.505Z"
   },
   {
    "duration": 0,
    "start_time": "2025-06-24T13:50:29.505Z"
   },
   {
    "duration": 0,
    "start_time": "2025-06-24T13:50:29.542Z"
   },
   {
    "duration": 0,
    "start_time": "2025-06-24T13:50:29.544Z"
   },
   {
    "duration": 0,
    "start_time": "2025-06-24T13:50:29.545Z"
   },
   {
    "duration": 0,
    "start_time": "2025-06-24T13:50:29.548Z"
   },
   {
    "duration": 0,
    "start_time": "2025-06-24T13:50:29.549Z"
   },
   {
    "duration": 0,
    "start_time": "2025-06-24T13:50:29.551Z"
   },
   {
    "duration": 0,
    "start_time": "2025-06-24T13:50:29.552Z"
   },
   {
    "duration": 0,
    "start_time": "2025-06-24T13:50:29.553Z"
   },
   {
    "duration": 0,
    "start_time": "2025-06-24T13:50:29.554Z"
   },
   {
    "duration": 0,
    "start_time": "2025-06-24T13:50:29.556Z"
   },
   {
    "duration": 0,
    "start_time": "2025-06-24T13:50:29.557Z"
   },
   {
    "duration": 2326,
    "start_time": "2025-06-24T13:51:44.038Z"
   },
   {
    "duration": 813,
    "start_time": "2025-06-24T13:51:46.367Z"
   },
   {
    "duration": 479,
    "start_time": "2025-06-24T13:51:47.181Z"
   },
   {
    "duration": 49,
    "start_time": "2025-06-24T13:51:47.662Z"
   },
   {
    "duration": 633,
    "start_time": "2025-06-24T13:51:47.713Z"
   },
   {
    "duration": 4,
    "start_time": "2025-06-24T13:51:48.348Z"
   },
   {
    "duration": 154,
    "start_time": "2025-06-24T13:51:48.355Z"
   },
   {
    "duration": 201,
    "start_time": "2025-06-24T13:51:48.512Z"
   },
   {
    "duration": 48,
    "start_time": "2025-06-24T13:51:48.715Z"
   },
   {
    "duration": 303,
    "start_time": "2025-06-24T13:51:48.765Z"
   },
   {
    "duration": 502,
    "start_time": "2025-06-24T13:51:49.069Z"
   },
   {
    "duration": 209,
    "start_time": "2025-06-24T13:51:49.573Z"
   },
   {
    "duration": 88,
    "start_time": "2025-06-24T13:51:49.783Z"
   },
   {
    "duration": 12,
    "start_time": "2025-06-24T13:51:49.873Z"
   },
   {
    "duration": 166,
    "start_time": "2025-06-24T13:51:49.887Z"
   },
   {
    "duration": 8,
    "start_time": "2025-06-24T13:51:50.055Z"
   },
   {
    "duration": 14,
    "start_time": "2025-06-24T13:51:50.064Z"
   },
   {
    "duration": 786,
    "start_time": "2025-06-24T13:51:50.080Z"
   },
   {
    "duration": 10,
    "start_time": "2025-06-24T13:51:50.867Z"
   },
   {
    "duration": 735,
    "start_time": "2025-06-24T13:51:50.937Z"
   },
   {
    "duration": 828,
    "start_time": "2025-06-24T13:51:51.673Z"
   },
   {
    "duration": 20,
    "start_time": "2025-06-24T13:51:52.503Z"
   },
   {
    "duration": 325,
    "start_time": "2025-06-24T13:51:52.525Z"
   },
   {
    "duration": 10,
    "start_time": "2025-06-24T13:51:52.853Z"
   },
   {
    "duration": 83,
    "start_time": "2025-06-24T13:51:52.865Z"
   },
   {
    "duration": 48,
    "start_time": "2025-06-24T13:51:52.951Z"
   },
   {
    "duration": 77,
    "start_time": "2025-06-24T13:51:53.001Z"
   },
   {
    "duration": 86,
    "start_time": "2025-06-24T13:51:53.083Z"
   },
   {
    "duration": 5,
    "start_time": "2025-06-24T13:51:53.171Z"
   },
   {
    "duration": 59,
    "start_time": "2025-06-24T13:51:53.177Z"
   },
   {
    "duration": 26,
    "start_time": "2025-06-24T13:51:53.238Z"
   },
   {
    "duration": 126,
    "start_time": "2025-06-24T13:51:53.266Z"
   },
   {
    "duration": 5,
    "start_time": "2025-06-24T13:51:53.394Z"
   },
   {
    "duration": 610,
    "start_time": "2025-06-24T13:52:44.109Z"
   },
   {
    "duration": 638,
    "start_time": "2025-06-24T13:52:49.185Z"
   },
   {
    "duration": 367,
    "start_time": "2025-06-24T13:52:57.475Z"
   },
   {
    "duration": 561,
    "start_time": "2025-06-24T13:53:03.129Z"
   },
   {
    "duration": 469,
    "start_time": "2025-06-24T13:53:16.287Z"
   },
   {
    "duration": 355,
    "start_time": "2025-06-24T13:54:40.716Z"
   },
   {
    "duration": 220,
    "start_time": "2025-06-24T13:55:13.767Z"
   },
   {
    "duration": 244,
    "start_time": "2025-06-24T13:56:55.224Z"
   },
   {
    "duration": 232,
    "start_time": "2025-06-24T13:57:05.630Z"
   },
   {
    "duration": 237,
    "start_time": "2025-06-24T13:59:09.352Z"
   },
   {
    "duration": 365,
    "start_time": "2025-06-24T14:01:43.512Z"
   },
   {
    "duration": 451,
    "start_time": "2025-06-24T14:02:53.797Z"
   },
   {
    "duration": 190,
    "start_time": "2025-06-24T14:06:41.902Z"
   },
   {
    "duration": 179,
    "start_time": "2025-06-24T14:07:50.161Z"
   },
   {
    "duration": 2326,
    "start_time": "2025-06-25T05:21:13.452Z"
   },
   {
    "duration": 698,
    "start_time": "2025-06-25T05:21:15.780Z"
   },
   {
    "duration": 452,
    "start_time": "2025-06-25T05:21:16.480Z"
   },
   {
    "duration": 65,
    "start_time": "2025-06-25T05:21:16.935Z"
   },
   {
    "duration": 467,
    "start_time": "2025-06-25T05:21:17.002Z"
   },
   {
    "duration": 291,
    "start_time": "2025-06-25T05:21:17.470Z"
   },
   {
    "duration": 198,
    "start_time": "2025-06-25T05:21:17.762Z"
   },
   {
    "duration": 39,
    "start_time": "2025-06-25T05:21:17.962Z"
   },
   {
    "duration": 230,
    "start_time": "2025-06-25T05:21:18.003Z"
   },
   {
    "duration": 43,
    "start_time": "2025-06-25T05:21:18.236Z"
   },
   {
    "duration": 340,
    "start_time": "2025-06-25T05:21:18.281Z"
   },
   {
    "duration": 527,
    "start_time": "2025-06-25T05:21:18.623Z"
   },
   {
    "duration": 201,
    "start_time": "2025-06-25T05:21:19.159Z"
   },
   {
    "duration": 43,
    "start_time": "2025-06-25T05:21:19.363Z"
   },
   {
    "duration": 10,
    "start_time": "2025-06-25T05:21:19.408Z"
   },
   {
    "duration": 175,
    "start_time": "2025-06-25T05:21:19.420Z"
   },
   {
    "duration": 8,
    "start_time": "2025-06-25T05:21:19.596Z"
   },
   {
    "duration": 12,
    "start_time": "2025-06-25T05:21:19.606Z"
   },
   {
    "duration": 393,
    "start_time": "2025-06-25T05:21:19.620Z"
   },
   {
    "duration": 10,
    "start_time": "2025-06-25T05:21:20.014Z"
   },
   {
    "duration": 337,
    "start_time": "2025-06-25T05:21:20.026Z"
   },
   {
    "duration": 506,
    "start_time": "2025-06-25T05:21:20.365Z"
   },
   {
    "duration": 20,
    "start_time": "2025-06-25T05:21:20.873Z"
   },
   {
    "duration": 245,
    "start_time": "2025-06-25T05:21:20.894Z"
   },
   {
    "duration": 23,
    "start_time": "2025-06-25T05:21:21.140Z"
   },
   {
    "duration": 15,
    "start_time": "2025-06-25T05:21:21.164Z"
   },
   {
    "duration": 30,
    "start_time": "2025-06-25T05:21:21.181Z"
   },
   {
    "duration": 5,
    "start_time": "2025-06-25T05:21:21.214Z"
   },
   {
    "duration": 82,
    "start_time": "2025-06-25T05:21:21.221Z"
   },
   {
    "duration": 8,
    "start_time": "2025-06-25T05:21:21.304Z"
   },
   {
    "duration": 69,
    "start_time": "2025-06-25T05:21:21.313Z"
   },
   {
    "duration": 21,
    "start_time": "2025-06-25T05:21:21.384Z"
   },
   {
    "duration": 118,
    "start_time": "2025-06-25T05:21:21.407Z"
   },
   {
    "duration": 6,
    "start_time": "2025-06-25T05:21:21.527Z"
   },
   {
    "duration": 2372,
    "start_time": "2025-06-25T05:22:05.021Z"
   },
   {
    "duration": 720,
    "start_time": "2025-06-25T05:22:07.395Z"
   },
   {
    "duration": 468,
    "start_time": "2025-06-25T05:22:08.116Z"
   },
   {
    "duration": 84,
    "start_time": "2025-06-25T05:22:08.587Z"
   },
   {
    "duration": 491,
    "start_time": "2025-06-25T05:22:08.673Z"
   },
   {
    "duration": 283,
    "start_time": "2025-06-25T05:22:09.167Z"
   },
   {
    "duration": 183,
    "start_time": "2025-06-25T05:22:09.452Z"
   },
   {
    "duration": 70,
    "start_time": "2025-06-25T05:22:09.637Z"
   },
   {
    "duration": 204,
    "start_time": "2025-06-25T05:22:09.708Z"
   },
   {
    "duration": 26,
    "start_time": "2025-06-25T05:22:09.915Z"
   },
   {
    "duration": 314,
    "start_time": "2025-06-25T05:22:09.943Z"
   },
   {
    "duration": 530,
    "start_time": "2025-06-25T05:22:10.259Z"
   },
   {
    "duration": 203,
    "start_time": "2025-06-25T05:22:10.792Z"
   },
   {
    "duration": 64,
    "start_time": "2025-06-25T05:22:10.998Z"
   },
   {
    "duration": 73,
    "start_time": "2025-06-25T05:22:11.064Z"
   },
   {
    "duration": 154,
    "start_time": "2025-06-25T05:22:11.138Z"
   },
   {
    "duration": 8,
    "start_time": "2025-06-25T05:22:11.294Z"
   },
   {
    "duration": 16,
    "start_time": "2025-06-25T05:22:11.304Z"
   },
   {
    "duration": 395,
    "start_time": "2025-06-25T05:22:11.322Z"
   },
   {
    "duration": 9,
    "start_time": "2025-06-25T05:22:11.718Z"
   },
   {
    "duration": 331,
    "start_time": "2025-06-25T05:22:11.729Z"
   },
   {
    "duration": 1255,
    "start_time": "2025-06-25T05:22:12.062Z"
   },
   {
    "duration": 20,
    "start_time": "2025-06-25T05:22:13.319Z"
   },
   {
    "duration": 224,
    "start_time": "2025-06-25T05:22:13.340Z"
   },
   {
    "duration": 9,
    "start_time": "2025-06-25T05:22:13.566Z"
   },
   {
    "duration": 46,
    "start_time": "2025-06-25T05:22:13.577Z"
   },
   {
    "duration": 20,
    "start_time": "2025-06-25T05:22:13.625Z"
   },
   {
    "duration": 14,
    "start_time": "2025-06-25T05:22:13.648Z"
   },
   {
    "duration": 49,
    "start_time": "2025-06-25T05:22:13.664Z"
   },
   {
    "duration": 3,
    "start_time": "2025-06-25T05:22:13.715Z"
   },
   {
    "duration": 86,
    "start_time": "2025-06-25T05:22:13.720Z"
   },
   {
    "duration": 53,
    "start_time": "2025-06-25T05:22:13.808Z"
   },
   {
    "duration": 108,
    "start_time": "2025-06-25T05:22:13.863Z"
   },
   {
    "duration": 5,
    "start_time": "2025-06-25T05:22:13.973Z"
   },
   {
    "duration": 1391,
    "start_time": "2025-06-25T05:23:08.835Z"
   },
   {
    "duration": 229,
    "start_time": "2025-06-25T05:24:25.957Z"
   },
   {
    "duration": 221,
    "start_time": "2025-06-25T05:25:05.173Z"
   },
   {
    "duration": 173,
    "start_time": "2025-06-25T05:25:09.787Z"
   },
   {
    "duration": 178,
    "start_time": "2025-06-25T05:25:16.991Z"
   },
   {
    "duration": 228,
    "start_time": "2025-06-25T05:28:43.419Z"
   },
   {
    "duration": 234,
    "start_time": "2025-06-25T05:29:03.684Z"
   },
   {
    "duration": 31,
    "start_time": "2025-06-25T05:33:35.899Z"
   },
   {
    "duration": 184,
    "start_time": "2025-06-25T05:33:39.629Z"
   },
   {
    "duration": 2261,
    "start_time": "2025-06-25T05:47:52.418Z"
   },
   {
    "duration": 763,
    "start_time": "2025-06-25T05:47:54.681Z"
   },
   {
    "duration": 545,
    "start_time": "2025-06-25T05:47:55.446Z"
   },
   {
    "duration": 79,
    "start_time": "2025-06-25T05:47:55.994Z"
   },
   {
    "duration": 467,
    "start_time": "2025-06-25T05:47:56.075Z"
   },
   {
    "duration": 285,
    "start_time": "2025-06-25T05:47:56.544Z"
   },
   {
    "duration": 217,
    "start_time": "2025-06-25T05:47:56.831Z"
   },
   {
    "duration": 53,
    "start_time": "2025-06-25T05:47:57.050Z"
   },
   {
    "duration": 214,
    "start_time": "2025-06-25T05:47:57.104Z"
   },
   {
    "duration": 44,
    "start_time": "2025-06-25T05:47:57.322Z"
   },
   {
    "duration": 305,
    "start_time": "2025-06-25T05:47:57.368Z"
   },
   {
    "duration": 531,
    "start_time": "2025-06-25T05:47:57.676Z"
   },
   {
    "duration": 211,
    "start_time": "2025-06-25T05:47:58.209Z"
   },
   {
    "duration": 45,
    "start_time": "2025-06-25T05:47:58.422Z"
   },
   {
    "duration": 27,
    "start_time": "2025-06-25T05:47:58.469Z"
   },
   {
    "duration": 170,
    "start_time": "2025-06-25T05:47:58.497Z"
   },
   {
    "duration": 13,
    "start_time": "2025-06-25T05:47:58.669Z"
   },
   {
    "duration": 11,
    "start_time": "2025-06-25T05:47:58.684Z"
   },
   {
    "duration": 457,
    "start_time": "2025-06-25T05:47:58.697Z"
   },
   {
    "duration": 14,
    "start_time": "2025-06-25T05:47:59.156Z"
   },
   {
    "duration": 354,
    "start_time": "2025-06-25T05:47:59.177Z"
   },
   {
    "duration": 604,
    "start_time": "2025-06-25T05:47:59.533Z"
   },
   {
    "duration": 33,
    "start_time": "2025-06-25T05:48:00.139Z"
   },
   {
    "duration": 216,
    "start_time": "2025-06-25T05:48:00.174Z"
   },
   {
    "duration": 11,
    "start_time": "2025-06-25T05:48:00.392Z"
   },
   {
    "duration": 75,
    "start_time": "2025-06-25T05:48:00.405Z"
   },
   {
    "duration": 34,
    "start_time": "2025-06-25T05:48:00.482Z"
   },
   {
    "duration": 7,
    "start_time": "2025-06-25T05:48:00.521Z"
   },
   {
    "duration": 86,
    "start_time": "2025-06-25T05:48:00.531Z"
   },
   {
    "duration": 15,
    "start_time": "2025-06-25T05:48:00.618Z"
   },
   {
    "duration": 57,
    "start_time": "2025-06-25T05:48:00.635Z"
   },
   {
    "duration": 19,
    "start_time": "2025-06-25T05:48:00.694Z"
   },
   {
    "duration": 115,
    "start_time": "2025-06-25T05:48:00.715Z"
   },
   {
    "duration": 29,
    "start_time": "2025-06-25T05:48:00.832Z"
   },
   {
    "duration": 51,
    "start_time": "2025-06-25T07:58:09.546Z"
   },
   {
    "duration": 3075,
    "start_time": "2025-06-25T07:59:12.175Z"
   },
   {
    "duration": 686,
    "start_time": "2025-06-25T07:59:15.252Z"
   },
   {
    "duration": 718,
    "start_time": "2025-06-25T07:59:15.941Z"
   },
   {
    "duration": 50,
    "start_time": "2025-06-25T07:59:16.662Z"
   },
   {
    "duration": 507,
    "start_time": "2025-06-25T07:59:16.714Z"
   },
   {
    "duration": 292,
    "start_time": "2025-06-25T07:59:17.224Z"
   },
   {
    "duration": 195,
    "start_time": "2025-06-25T07:59:17.518Z"
   },
   {
    "duration": 61,
    "start_time": "2025-06-25T07:59:17.715Z"
   },
   {
    "duration": 192,
    "start_time": "2025-06-25T07:59:17.778Z"
   },
   {
    "duration": 24,
    "start_time": "2025-06-25T07:59:17.973Z"
   },
   {
    "duration": 370,
    "start_time": "2025-06-25T07:59:17.998Z"
   },
   {
    "duration": 435,
    "start_time": "2025-06-25T07:59:18.370Z"
   },
   {
    "duration": 187,
    "start_time": "2025-06-25T07:59:18.807Z"
   },
   {
    "duration": 61,
    "start_time": "2025-06-25T07:59:18.996Z"
   },
   {
    "duration": 10,
    "start_time": "2025-06-25T07:59:19.058Z"
   },
   {
    "duration": 179,
    "start_time": "2025-06-25T07:59:19.070Z"
   },
   {
    "duration": 8,
    "start_time": "2025-06-25T07:59:19.252Z"
   },
   {
    "duration": 8,
    "start_time": "2025-06-25T07:59:19.261Z"
   },
   {
    "duration": 392,
    "start_time": "2025-06-25T07:59:19.270Z"
   },
   {
    "duration": 8,
    "start_time": "2025-06-25T07:59:19.664Z"
   },
   {
    "duration": 411,
    "start_time": "2025-06-25T07:59:19.674Z"
   },
   {
    "duration": 615,
    "start_time": "2025-06-25T07:59:20.087Z"
   },
   {
    "duration": 20,
    "start_time": "2025-06-25T07:59:20.703Z"
   },
   {
    "duration": 131,
    "start_time": "2025-06-25T07:59:20.738Z"
   },
   {
    "duration": 8,
    "start_time": "2025-06-25T07:59:20.870Z"
   },
   {
    "duration": 13,
    "start_time": "2025-06-25T07:59:20.880Z"
   },
   {
    "duration": 34,
    "start_time": "2025-06-25T07:59:20.895Z"
   },
   {
    "duration": 33,
    "start_time": "2025-06-25T07:59:20.932Z"
   },
   {
    "duration": 47,
    "start_time": "2025-06-25T07:59:20.967Z"
   },
   {
    "duration": 4,
    "start_time": "2025-06-25T07:59:21.016Z"
   },
   {
    "duration": 81,
    "start_time": "2025-06-25T07:59:21.022Z"
   },
   {
    "duration": 18,
    "start_time": "2025-06-25T07:59:21.106Z"
   },
   {
    "duration": 91,
    "start_time": "2025-06-25T07:59:21.126Z"
   },
   {
    "duration": 4,
    "start_time": "2025-06-25T07:59:21.219Z"
   },
   {
    "duration": 88,
    "start_time": "2025-06-25T07:59:31.223Z"
   },
   {
    "duration": 77,
    "start_time": "2025-06-25T07:59:35.396Z"
   },
   {
    "duration": 10,
    "start_time": "2025-06-25T07:59:39.969Z"
   },
   {
    "duration": 2478,
    "start_time": "2025-06-25T10:21:09.893Z"
   },
   {
    "duration": 719,
    "start_time": "2025-06-25T10:21:12.373Z"
   },
   {
    "duration": 489,
    "start_time": "2025-06-25T10:21:13.095Z"
   },
   {
    "duration": 73,
    "start_time": "2025-06-25T10:21:13.587Z"
   },
   {
    "duration": 466,
    "start_time": "2025-06-25T10:21:13.662Z"
   },
   {
    "duration": 316,
    "start_time": "2025-06-25T10:21:14.130Z"
   },
   {
    "duration": 185,
    "start_time": "2025-06-25T10:21:14.449Z"
   },
   {
    "duration": 40,
    "start_time": "2025-06-25T10:21:14.636Z"
   },
   {
    "duration": 251,
    "start_time": "2025-06-25T10:21:14.678Z"
   },
   {
    "duration": 31,
    "start_time": "2025-06-25T10:21:14.936Z"
   },
   {
    "duration": 447,
    "start_time": "2025-06-25T10:21:14.969Z"
   },
   {
    "duration": 487,
    "start_time": "2025-06-25T10:21:15.417Z"
   },
   {
    "duration": 197,
    "start_time": "2025-06-25T10:21:15.906Z"
   },
   {
    "duration": 1328,
    "start_time": "2025-06-25T10:21:16.105Z"
   },
   {
    "duration": 19,
    "start_time": "2025-06-25T10:21:17.435Z"
   },
   {
    "duration": 193,
    "start_time": "2025-06-25T10:21:17.456Z"
   },
   {
    "duration": 9,
    "start_time": "2025-06-25T10:21:17.652Z"
   },
   {
    "duration": 9,
    "start_time": "2025-06-25T10:21:17.663Z"
   },
   {
    "duration": 390,
    "start_time": "2025-06-25T10:21:17.673Z"
   },
   {
    "duration": 9,
    "start_time": "2025-06-25T10:21:18.065Z"
   },
   {
    "duration": 322,
    "start_time": "2025-06-25T10:21:18.075Z"
   },
   {
    "duration": 695,
    "start_time": "2025-06-25T10:21:18.399Z"
   },
   {
    "duration": 19,
    "start_time": "2025-06-25T10:21:19.096Z"
   },
   {
    "duration": 233,
    "start_time": "2025-06-25T10:21:19.116Z"
   },
   {
    "duration": 8,
    "start_time": "2025-06-25T10:21:19.351Z"
   },
   {
    "duration": 5,
    "start_time": "2025-06-25T10:21:19.360Z"
   },
   {
    "duration": 25,
    "start_time": "2025-06-25T10:21:19.367Z"
   },
   {
    "duration": 4,
    "start_time": "2025-06-25T10:21:19.395Z"
   },
   {
    "duration": 72,
    "start_time": "2025-06-25T10:21:19.401Z"
   },
   {
    "duration": 4,
    "start_time": "2025-06-25T10:21:19.474Z"
   },
   {
    "duration": 119,
    "start_time": "2025-06-25T10:21:19.480Z"
   },
   {
    "duration": 69,
    "start_time": "2025-06-25T10:21:19.601Z"
   },
   {
    "duration": 19,
    "start_time": "2025-06-25T10:21:19.672Z"
   },
   {
    "duration": 115,
    "start_time": "2025-06-25T10:21:19.693Z"
   },
   {
    "duration": 5,
    "start_time": "2025-06-25T10:21:19.810Z"
   },
   {
    "duration": 3885,
    "start_time": "2025-06-25T10:35:59.182Z"
   },
   {
    "duration": 718,
    "start_time": "2025-06-25T10:36:03.069Z"
   },
   {
    "duration": 463,
    "start_time": "2025-06-25T10:36:03.789Z"
   },
   {
    "duration": 50,
    "start_time": "2025-06-25T10:36:04.255Z"
   },
   {
    "duration": 465,
    "start_time": "2025-06-25T10:36:04.308Z"
   },
   {
    "duration": 281,
    "start_time": "2025-06-25T10:36:04.775Z"
   },
   {
    "duration": 195,
    "start_time": "2025-06-25T10:36:05.058Z"
   },
   {
    "duration": 36,
    "start_time": "2025-06-25T10:36:05.255Z"
   },
   {
    "duration": 212,
    "start_time": "2025-06-25T10:36:05.293Z"
   },
   {
    "duration": 41,
    "start_time": "2025-06-25T10:36:05.507Z"
   },
   {
    "duration": 298,
    "start_time": "2025-06-25T10:36:05.550Z"
   },
   {
    "duration": 530,
    "start_time": "2025-06-25T10:36:05.850Z"
   },
   {
    "duration": 228,
    "start_time": "2025-06-25T10:36:06.382Z"
   },
   {
    "duration": 59,
    "start_time": "2025-06-25T10:36:06.613Z"
   },
   {
    "duration": 11,
    "start_time": "2025-06-25T10:36:06.674Z"
   },
   {
    "duration": 176,
    "start_time": "2025-06-25T10:36:06.686Z"
   },
   {
    "duration": 7,
    "start_time": "2025-06-25T10:36:06.864Z"
   },
   {
    "duration": 20,
    "start_time": "2025-06-25T10:36:06.873Z"
   },
   {
    "duration": 423,
    "start_time": "2025-06-25T10:36:06.894Z"
   },
   {
    "duration": 22,
    "start_time": "2025-06-25T10:36:07.319Z"
   },
   {
    "duration": 347,
    "start_time": "2025-06-25T10:36:07.344Z"
   },
   {
    "duration": 657,
    "start_time": "2025-06-25T10:36:07.693Z"
   },
   {
    "duration": 20,
    "start_time": "2025-06-25T10:36:08.354Z"
   },
   {
    "duration": 208,
    "start_time": "2025-06-25T10:36:08.376Z"
   },
   {
    "duration": 7,
    "start_time": "2025-06-25T10:36:08.586Z"
   },
   {
    "duration": 7,
    "start_time": "2025-06-25T10:36:08.595Z"
   },
   {
    "duration": 52,
    "start_time": "2025-06-25T10:36:08.604Z"
   },
   {
    "duration": 5,
    "start_time": "2025-06-25T10:36:08.657Z"
   },
   {
    "duration": 48,
    "start_time": "2025-06-25T10:36:08.664Z"
   },
   {
    "duration": 190,
    "start_time": "2025-06-25T10:36:08.714Z"
   },
   {
    "duration": 64,
    "start_time": "2025-06-25T10:36:08.905Z"
   },
   {
    "duration": 100,
    "start_time": "2025-06-25T10:36:08.971Z"
   },
   {
    "duration": 102,
    "start_time": "2025-06-25T10:36:09.073Z"
   },
   {
    "duration": 2885,
    "start_time": "2025-06-25T11:16:58.591Z"
   },
   {
    "duration": 736,
    "start_time": "2025-06-25T11:17:01.478Z"
   },
   {
    "duration": 473,
    "start_time": "2025-06-25T11:17:02.216Z"
   },
   {
    "duration": 62,
    "start_time": "2025-06-25T11:17:02.691Z"
   },
   {
    "duration": 491,
    "start_time": "2025-06-25T11:17:02.755Z"
   },
   {
    "duration": 259,
    "start_time": "2025-06-25T11:17:03.252Z"
   },
   {
    "duration": 199,
    "start_time": "2025-06-25T11:17:03.513Z"
   },
   {
    "duration": 66,
    "start_time": "2025-06-25T11:17:03.714Z"
   },
   {
    "duration": 204,
    "start_time": "2025-06-25T11:17:03.782Z"
   },
   {
    "duration": 24,
    "start_time": "2025-06-25T11:17:03.989Z"
   },
   {
    "duration": 377,
    "start_time": "2025-06-25T11:17:04.015Z"
   },
   {
    "duration": 504,
    "start_time": "2025-06-25T11:17:04.394Z"
   },
   {
    "duration": 198,
    "start_time": "2025-06-25T11:17:04.900Z"
   },
   {
    "duration": 63,
    "start_time": "2025-06-25T11:17:05.100Z"
   },
   {
    "duration": 9,
    "start_time": "2025-06-25T11:17:05.165Z"
   },
   {
    "duration": 188,
    "start_time": "2025-06-25T11:17:05.176Z"
   },
   {
    "duration": 7,
    "start_time": "2025-06-25T11:17:05.365Z"
   },
   {
    "duration": 29,
    "start_time": "2025-06-25T11:17:05.374Z"
   },
   {
    "duration": 361,
    "start_time": "2025-06-25T11:17:05.405Z"
   },
   {
    "duration": 9,
    "start_time": "2025-06-25T11:17:05.767Z"
   },
   {
    "duration": 325,
    "start_time": "2025-06-25T11:17:05.777Z"
   },
   {
    "duration": 841,
    "start_time": "2025-06-25T11:17:06.103Z"
   },
   {
    "duration": 22,
    "start_time": "2025-06-25T11:17:06.948Z"
   },
   {
    "duration": 217,
    "start_time": "2025-06-25T11:17:06.972Z"
   },
   {
    "duration": 6,
    "start_time": "2025-06-25T11:17:07.191Z"
   },
   {
    "duration": 78,
    "start_time": "2025-06-25T11:17:07.199Z"
   },
   {
    "duration": 120,
    "start_time": "2025-06-25T11:17:07.279Z"
   },
   {
    "duration": 6,
    "start_time": "2025-06-25T11:17:07.402Z"
   },
   {
    "duration": 57,
    "start_time": "2025-06-25T11:17:07.409Z"
   },
   {
    "duration": 119,
    "start_time": "2025-06-25T11:17:07.468Z"
   },
   {
    "duration": 63,
    "start_time": "2025-06-25T11:17:07.588Z"
   },
   {
    "duration": 100,
    "start_time": "2025-06-25T11:17:07.655Z"
   },
   {
    "duration": 5,
    "start_time": "2025-06-25T11:17:07.757Z"
   },
   {
    "duration": 2457,
    "start_time": "2025-06-25T15:37:12.599Z"
   },
   {
    "duration": 640,
    "start_time": "2025-06-25T15:37:15.059Z"
   },
   {
    "duration": 630,
    "start_time": "2025-06-25T15:37:15.700Z"
   },
   {
    "duration": 49,
    "start_time": "2025-06-25T15:37:16.332Z"
   },
   {
    "duration": 409,
    "start_time": "2025-06-25T15:37:16.400Z"
   },
   {
    "duration": 421,
    "start_time": "2025-06-25T15:37:16.811Z"
   },
   {
    "duration": 376,
    "start_time": "2025-06-25T15:37:17.233Z"
   },
   {
    "duration": 95,
    "start_time": "2025-06-25T15:37:17.611Z"
   },
   {
    "duration": 328,
    "start_time": "2025-06-25T15:37:17.708Z"
   },
   {
    "duration": 74,
    "start_time": "2025-06-25T15:37:18.037Z"
   },
   {
    "duration": 435,
    "start_time": "2025-06-25T15:37:18.112Z"
   },
   {
    "duration": 409,
    "start_time": "2025-06-25T15:37:18.549Z"
   },
   {
    "duration": 176,
    "start_time": "2025-06-25T15:37:18.959Z"
   },
   {
    "duration": 46,
    "start_time": "2025-06-25T15:37:19.138Z"
   },
   {
    "duration": 69,
    "start_time": "2025-06-25T15:37:19.185Z"
   },
   {
    "duration": 183,
    "start_time": "2025-06-25T15:37:19.256Z"
   },
   {
    "duration": 8,
    "start_time": "2025-06-25T15:37:19.441Z"
   },
   {
    "duration": 123,
    "start_time": "2025-06-25T15:37:19.450Z"
   },
   {
    "duration": 361,
    "start_time": "2025-06-25T15:37:19.574Z"
   },
   {
    "duration": 9,
    "start_time": "2025-06-25T15:37:19.937Z"
   },
   {
    "duration": 379,
    "start_time": "2025-06-25T15:37:19.947Z"
   },
   {
    "duration": 653,
    "start_time": "2025-06-25T15:37:20.328Z"
   },
   {
    "duration": 28,
    "start_time": "2025-06-25T15:37:20.982Z"
   },
   {
    "duration": 122,
    "start_time": "2025-06-25T15:37:21.011Z"
   },
   {
    "duration": 8,
    "start_time": "2025-06-25T15:37:21.134Z"
   },
   {
    "duration": 71,
    "start_time": "2025-06-25T15:37:21.143Z"
   },
   {
    "duration": 63,
    "start_time": "2025-06-25T15:37:21.216Z"
   },
   {
    "duration": 5,
    "start_time": "2025-06-25T15:37:21.281Z"
   },
   {
    "duration": 56,
    "start_time": "2025-06-25T15:37:21.288Z"
   },
   {
    "duration": 117,
    "start_time": "2025-06-25T15:37:21.346Z"
   },
   {
    "duration": 53,
    "start_time": "2025-06-25T15:37:21.465Z"
   },
   {
    "duration": 145,
    "start_time": "2025-06-25T15:37:21.520Z"
   },
   {
    "duration": 5,
    "start_time": "2025-06-25T15:37:21.667Z"
   },
   {
    "duration": 15,
    "start_time": "2025-06-25T15:43:44.056Z"
   },
   {
    "duration": 14,
    "start_time": "2025-06-25T15:44:12.241Z"
   },
   {
    "duration": 14,
    "start_time": "2025-06-25T15:44:15.758Z"
   },
   {
    "duration": 14,
    "start_time": "2025-06-25T15:46:56.035Z"
   },
   {
    "duration": 133,
    "start_time": "2025-06-25T15:46:57.172Z"
   },
   {
    "duration": 14,
    "start_time": "2025-06-25T15:47:00.546Z"
   },
   {
    "duration": 16,
    "start_time": "2025-06-25T15:48:05.516Z"
   },
   {
    "duration": 152,
    "start_time": "2025-06-25T15:48:07.175Z"
   },
   {
    "duration": 73,
    "start_time": "2025-06-25T15:52:22.127Z"
   },
   {
    "duration": 1320,
    "start_time": "2025-06-25T16:55:23.843Z"
   },
   {
    "duration": 2019,
    "start_time": "2025-06-25T16:55:25.165Z"
   },
   {
    "duration": 644,
    "start_time": "2025-06-25T16:55:27.185Z"
   },
   {
    "duration": 195,
    "start_time": "2025-06-25T16:55:27.831Z"
   },
   {
    "duration": 61,
    "start_time": "2025-06-25T16:55:28.027Z"
   },
   {
    "duration": 406,
    "start_time": "2025-06-25T16:55:28.089Z"
   },
   {
    "duration": 232,
    "start_time": "2025-06-25T16:55:28.496Z"
   },
   {
    "duration": 172,
    "start_time": "2025-06-25T16:55:28.730Z"
   },
   {
    "duration": 34,
    "start_time": "2025-06-25T16:55:28.903Z"
   },
   {
    "duration": 195,
    "start_time": "2025-06-25T16:55:28.939Z"
   },
   {
    "duration": 24,
    "start_time": "2025-06-25T16:55:29.135Z"
   },
   {
    "duration": 328,
    "start_time": "2025-06-25T16:55:29.161Z"
   },
   {
    "duration": 15,
    "start_time": "2025-06-25T16:55:29.490Z"
   },
   {
    "duration": 169,
    "start_time": "2025-06-25T16:55:29.506Z"
   },
   {
    "duration": 77,
    "start_time": "2025-06-25T16:55:29.677Z"
   },
   {
    "duration": 9,
    "start_time": "2025-06-25T16:55:29.756Z"
   },
   {
    "duration": 252,
    "start_time": "2025-06-25T16:55:29.766Z"
   },
   {
    "duration": 8,
    "start_time": "2025-06-25T16:55:30.020Z"
   },
   {
    "duration": 89,
    "start_time": "2025-06-25T16:55:30.030Z"
   },
   {
    "duration": 452,
    "start_time": "2025-06-25T16:55:30.120Z"
   },
   {
    "duration": 12,
    "start_time": "2025-06-25T16:55:30.573Z"
   },
   {
    "duration": 329,
    "start_time": "2025-06-25T16:55:30.587Z"
   },
   {
    "duration": 641,
    "start_time": "2025-06-25T16:55:30.918Z"
   },
   {
    "duration": 30,
    "start_time": "2025-06-25T16:55:31.561Z"
   },
   {
    "duration": 196,
    "start_time": "2025-06-25T16:55:31.593Z"
   },
   {
    "duration": 8,
    "start_time": "2025-06-25T16:55:31.791Z"
   },
   {
    "duration": 83,
    "start_time": "2025-06-25T16:55:31.800Z"
   },
   {
    "duration": 18,
    "start_time": "2025-06-25T16:55:31.886Z"
   },
   {
    "duration": 17,
    "start_time": "2025-06-25T16:55:31.906Z"
   },
   {
    "duration": 84,
    "start_time": "2025-06-25T16:55:31.925Z"
   },
   {
    "duration": 122,
    "start_time": "2025-06-25T16:55:32.011Z"
   },
   {
    "duration": 62,
    "start_time": "2025-06-25T16:55:32.135Z"
   },
   {
    "duration": 94,
    "start_time": "2025-06-25T16:55:32.199Z"
   },
   {
    "duration": 5,
    "start_time": "2025-06-25T16:55:32.296Z"
   },
   {
    "duration": 1171,
    "start_time": "2025-06-25T16:57:26.607Z"
   },
   {
    "duration": 1728,
    "start_time": "2025-06-25T16:57:27.780Z"
   },
   {
    "duration": 655,
    "start_time": "2025-06-25T16:57:29.509Z"
   },
   {
    "duration": 211,
    "start_time": "2025-06-25T16:57:30.166Z"
   },
   {
    "duration": 50,
    "start_time": "2025-06-25T16:57:30.379Z"
   },
   {
    "duration": 456,
    "start_time": "2025-06-25T16:57:30.431Z"
   },
   {
    "duration": 255,
    "start_time": "2025-06-25T16:57:30.889Z"
   },
   {
    "duration": 181,
    "start_time": "2025-06-25T16:57:31.146Z"
   },
   {
    "duration": 48,
    "start_time": "2025-06-25T16:57:31.329Z"
   },
   {
    "duration": 185,
    "start_time": "2025-06-25T16:57:31.381Z"
   },
   {
    "duration": 30,
    "start_time": "2025-06-25T16:57:31.568Z"
   },
   {
    "duration": 313,
    "start_time": "2025-06-25T16:57:31.600Z"
   },
   {
    "duration": 14,
    "start_time": "2025-06-25T16:57:31.915Z"
   },
   {
    "duration": 207,
    "start_time": "2025-06-25T16:57:31.931Z"
   },
   {
    "duration": 49,
    "start_time": "2025-06-25T16:57:32.140Z"
   },
   {
    "duration": 10,
    "start_time": "2025-06-25T16:57:32.190Z"
   },
   {
    "duration": 176,
    "start_time": "2025-06-25T16:57:32.202Z"
   },
   {
    "duration": 8,
    "start_time": "2025-06-25T16:57:32.380Z"
   },
   {
    "duration": 64,
    "start_time": "2025-06-25T16:57:32.389Z"
   },
   {
    "duration": 364,
    "start_time": "2025-06-25T16:57:32.455Z"
   },
   {
    "duration": 9,
    "start_time": "2025-06-25T16:57:32.821Z"
   },
   {
    "duration": 320,
    "start_time": "2025-06-25T16:57:32.831Z"
   },
   {
    "duration": 1571,
    "start_time": "2025-06-25T16:57:33.153Z"
   },
   {
    "duration": 23,
    "start_time": "2025-06-25T16:57:34.726Z"
   },
   {
    "duration": 236,
    "start_time": "2025-06-25T16:57:34.750Z"
   },
   {
    "duration": 7,
    "start_time": "2025-06-25T16:57:34.987Z"
   },
   {
    "duration": 5,
    "start_time": "2025-06-25T16:57:34.995Z"
   },
   {
    "duration": 26,
    "start_time": "2025-06-25T16:57:35.003Z"
   },
   {
    "duration": 25,
    "start_time": "2025-06-25T16:57:35.030Z"
   },
   {
    "duration": 48,
    "start_time": "2025-06-25T16:57:35.057Z"
   },
   {
    "duration": 102,
    "start_time": "2025-06-25T16:57:35.107Z"
   },
   {
    "duration": 69,
    "start_time": "2025-06-25T16:57:35.211Z"
   },
   {
    "duration": 98,
    "start_time": "2025-06-25T16:57:35.282Z"
   },
   {
    "duration": 4,
    "start_time": "2025-06-25T16:57:35.382Z"
   },
   {
    "duration": 1198,
    "start_time": "2025-06-25T16:59:12.271Z"
   },
   {
    "duration": 1988,
    "start_time": "2025-06-25T16:59:13.470Z"
   },
   {
    "duration": 673,
    "start_time": "2025-06-25T16:59:15.459Z"
   },
   {
    "duration": 212,
    "start_time": "2025-06-25T16:59:16.134Z"
   },
   {
    "duration": 61,
    "start_time": "2025-06-25T16:59:16.348Z"
   },
   {
    "duration": 444,
    "start_time": "2025-06-25T16:59:16.410Z"
   },
   {
    "duration": 243,
    "start_time": "2025-06-25T16:59:16.855Z"
   },
   {
    "duration": 179,
    "start_time": "2025-06-25T16:59:17.099Z"
   },
   {
    "duration": 33,
    "start_time": "2025-06-25T16:59:17.279Z"
   },
   {
    "duration": 185,
    "start_time": "2025-06-25T16:59:17.315Z"
   },
   {
    "duration": 24,
    "start_time": "2025-06-25T16:59:17.502Z"
   },
   {
    "duration": 285,
    "start_time": "2025-06-25T16:59:17.528Z"
   },
   {
    "duration": 16,
    "start_time": "2025-06-25T16:59:17.814Z"
   },
   {
    "duration": 244,
    "start_time": "2025-06-25T16:59:17.832Z"
   },
   {
    "duration": 63,
    "start_time": "2025-06-25T16:59:18.079Z"
   },
   {
    "duration": 12,
    "start_time": "2025-06-25T16:59:18.144Z"
   },
   {
    "duration": 153,
    "start_time": "2025-06-25T16:59:18.158Z"
   },
   {
    "duration": 9,
    "start_time": "2025-06-25T16:59:18.313Z"
   },
   {
    "duration": 12,
    "start_time": "2025-06-25T16:59:18.324Z"
   },
   {
    "duration": 368,
    "start_time": "2025-06-25T16:59:18.337Z"
   },
   {
    "duration": 10,
    "start_time": "2025-06-25T16:59:18.707Z"
   },
   {
    "duration": 360,
    "start_time": "2025-06-25T16:59:18.719Z"
   },
   {
    "duration": 368,
    "start_time": "2025-06-25T16:59:19.081Z"
   },
   {
    "duration": 20,
    "start_time": "2025-06-25T16:59:19.451Z"
   },
   {
    "duration": 247,
    "start_time": "2025-06-25T16:59:19.477Z"
   },
   {
    "duration": 7,
    "start_time": "2025-06-25T16:59:19.727Z"
   },
   {
    "duration": 22,
    "start_time": "2025-06-25T16:59:19.736Z"
   },
   {
    "duration": 23,
    "start_time": "2025-06-25T16:59:19.761Z"
   },
   {
    "duration": 5,
    "start_time": "2025-06-25T16:59:19.786Z"
   },
   {
    "duration": 121,
    "start_time": "2025-06-25T16:59:19.792Z"
   },
   {
    "duration": 107,
    "start_time": "2025-06-25T16:59:19.915Z"
   },
   {
    "duration": 52,
    "start_time": "2025-06-25T16:59:20.024Z"
   },
   {
    "duration": 83,
    "start_time": "2025-06-25T16:59:20.078Z"
   },
   {
    "duration": 17,
    "start_time": "2025-06-25T16:59:20.163Z"
   },
   {
    "duration": 1142,
    "start_time": "2025-06-25T17:01:04.529Z"
   },
   {
    "duration": 7146,
    "start_time": "2025-06-25T17:01:05.675Z"
   },
   {
    "duration": 703,
    "start_time": "2025-06-25T17:01:12.822Z"
   },
   {
    "duration": 215,
    "start_time": "2025-06-25T17:01:13.527Z"
   },
   {
    "duration": 61,
    "start_time": "2025-06-25T17:01:13.744Z"
   },
   {
    "duration": 462,
    "start_time": "2025-06-25T17:01:13.807Z"
   },
   {
    "duration": 258,
    "start_time": "2025-06-25T17:01:14.271Z"
   },
   {
    "duration": 197,
    "start_time": "2025-06-25T17:01:14.531Z"
   },
   {
    "duration": 48,
    "start_time": "2025-06-25T17:01:14.730Z"
   },
   {
    "duration": 206,
    "start_time": "2025-06-25T17:01:14.781Z"
   },
   {
    "duration": 26,
    "start_time": "2025-06-25T17:01:14.989Z"
   },
   {
    "duration": 296,
    "start_time": "2025-06-25T17:01:15.017Z"
   },
   {
    "duration": 16,
    "start_time": "2025-06-25T17:01:15.314Z"
   },
   {
    "duration": 279,
    "start_time": "2025-06-25T17:01:15.332Z"
   },
   {
    "duration": 52,
    "start_time": "2025-06-25T17:01:15.613Z"
   },
   {
    "duration": 13,
    "start_time": "2025-06-25T17:01:15.668Z"
   },
   {
    "duration": 188,
    "start_time": "2025-06-25T17:01:15.683Z"
   },
   {
    "duration": 8,
    "start_time": "2025-06-25T17:01:15.878Z"
   },
   {
    "duration": 31,
    "start_time": "2025-06-25T17:01:15.888Z"
   },
   {
    "duration": 421,
    "start_time": "2025-06-25T17:01:15.921Z"
   },
   {
    "duration": 9,
    "start_time": "2025-06-25T17:01:16.343Z"
   },
   {
    "duration": 646,
    "start_time": "2025-06-25T17:01:16.354Z"
   },
   {
    "duration": 793,
    "start_time": "2025-06-25T17:01:17.002Z"
   },
   {
    "duration": 20,
    "start_time": "2025-06-25T17:01:17.797Z"
   },
   {
    "duration": 327,
    "start_time": "2025-06-25T17:01:17.818Z"
   },
   {
    "duration": 7,
    "start_time": "2025-06-25T17:01:18.147Z"
   },
   {
    "duration": 22,
    "start_time": "2025-06-25T17:01:18.156Z"
   },
   {
    "duration": 32,
    "start_time": "2025-06-25T17:01:18.182Z"
   },
   {
    "duration": 5,
    "start_time": "2025-06-25T17:01:18.215Z"
   },
   {
    "duration": 58,
    "start_time": "2025-06-25T17:01:18.221Z"
   },
   {
    "duration": 103,
    "start_time": "2025-06-25T17:01:18.281Z"
   },
   {
    "duration": 46,
    "start_time": "2025-06-25T17:01:18.386Z"
   },
   {
    "duration": 111,
    "start_time": "2025-06-25T17:01:18.433Z"
   },
   {
    "duration": 6,
    "start_time": "2025-06-25T17:01:18.545Z"
   },
   {
    "duration": 377,
    "start_time": "2025-06-25T17:02:09.053Z"
   },
   {
    "duration": 374,
    "start_time": "2025-06-25T17:02:46.923Z"
   },
   {
    "duration": 226,
    "start_time": "2025-06-25T17:04:52.321Z"
   },
   {
    "duration": 179,
    "start_time": "2025-06-25T17:05:04.124Z"
   },
   {
    "duration": 201,
    "start_time": "2025-06-25T17:14:53.982Z"
   },
   {
    "duration": 15,
    "start_time": "2025-06-25T17:19:06.094Z"
   },
   {
    "duration": 14,
    "start_time": "2025-06-25T17:19:43.018Z"
   },
   {
    "duration": 18,
    "start_time": "2025-06-25T17:20:15.931Z"
   },
   {
    "duration": 19,
    "start_time": "2025-06-25T17:22:24.008Z"
   },
   {
    "duration": 100,
    "start_time": "2025-06-25T17:23:09.727Z"
   },
   {
    "duration": 15,
    "start_time": "2025-06-25T17:26:36.553Z"
   },
   {
    "duration": 57,
    "start_time": "2025-06-25T17:26:49.671Z"
   },
   {
    "duration": 14,
    "start_time": "2025-06-25T17:29:07.680Z"
   },
   {
    "duration": 11,
    "start_time": "2025-06-25T17:31:05.323Z"
   },
   {
    "duration": 14,
    "start_time": "2025-06-25T17:31:15.401Z"
   },
   {
    "duration": 16,
    "start_time": "2025-06-25T17:32:56.129Z"
   },
   {
    "duration": 27,
    "start_time": "2025-06-25T17:33:12.000Z"
   },
   {
    "duration": 16,
    "start_time": "2025-06-25T17:34:20.212Z"
   },
   {
    "duration": 15,
    "start_time": "2025-06-25T17:34:30.604Z"
   },
   {
    "duration": 160,
    "start_time": "2025-06-25T17:34:46.225Z"
   },
   {
    "duration": 12,
    "start_time": "2025-06-25T17:40:34.224Z"
   },
   {
    "duration": 1149,
    "start_time": "2025-06-25T17:40:54.132Z"
   },
   {
    "duration": 2121,
    "start_time": "2025-06-25T17:40:55.283Z"
   },
   {
    "duration": 713,
    "start_time": "2025-06-25T17:40:57.406Z"
   },
   {
    "duration": 226,
    "start_time": "2025-06-25T17:40:58.122Z"
   },
   {
    "duration": 61,
    "start_time": "2025-06-25T17:40:58.350Z"
   },
   {
    "duration": 455,
    "start_time": "2025-06-25T17:40:58.413Z"
   },
   {
    "duration": 271,
    "start_time": "2025-06-25T17:40:58.870Z"
   },
   {
    "duration": 184,
    "start_time": "2025-06-25T17:40:59.142Z"
   },
   {
    "duration": 48,
    "start_time": "2025-06-25T17:40:59.328Z"
   },
   {
    "duration": 198,
    "start_time": "2025-06-25T17:40:59.380Z"
   },
   {
    "duration": 26,
    "start_time": "2025-06-25T17:40:59.581Z"
   },
   {
    "duration": 364,
    "start_time": "2025-06-25T17:40:59.609Z"
   },
   {
    "duration": 18,
    "start_time": "2025-06-25T17:40:59.975Z"
   },
   {
    "duration": 229,
    "start_time": "2025-06-25T17:40:59.995Z"
   },
   {
    "duration": 49,
    "start_time": "2025-06-25T17:41:00.226Z"
   },
   {
    "duration": 10,
    "start_time": "2025-06-25T17:41:00.276Z"
   },
   {
    "duration": 158,
    "start_time": "2025-06-25T17:41:00.287Z"
   },
   {
    "duration": 7,
    "start_time": "2025-06-25T17:41:00.447Z"
   },
   {
    "duration": 28,
    "start_time": "2025-06-25T17:41:00.456Z"
   },
   {
    "duration": 358,
    "start_time": "2025-06-25T17:41:00.486Z"
   },
   {
    "duration": 9,
    "start_time": "2025-06-25T17:41:00.846Z"
   },
   {
    "duration": 355,
    "start_time": "2025-06-25T17:41:00.856Z"
   },
   {
    "duration": 611,
    "start_time": "2025-06-25T17:41:01.212Z"
   },
   {
    "duration": 20,
    "start_time": "2025-06-25T17:41:01.825Z"
   },
   {
    "duration": 249,
    "start_time": "2025-06-25T17:41:01.847Z"
   },
   {
    "duration": 7,
    "start_time": "2025-06-25T17:41:02.098Z"
   },
   {
    "duration": 71,
    "start_time": "2025-06-25T17:41:02.107Z"
   },
   {
    "duration": 21,
    "start_time": "2025-06-25T17:41:02.181Z"
   },
   {
    "duration": 5,
    "start_time": "2025-06-25T17:41:02.204Z"
   },
   {
    "duration": 66,
    "start_time": "2025-06-25T17:41:02.210Z"
   },
   {
    "duration": 111,
    "start_time": "2025-06-25T17:41:02.278Z"
   },
   {
    "duration": 48,
    "start_time": "2025-06-25T17:41:02.391Z"
   },
   {
    "duration": 107,
    "start_time": "2025-06-25T17:41:02.441Z"
   },
   {
    "duration": 5,
    "start_time": "2025-06-25T17:41:02.549Z"
   },
   {
    "duration": 5,
    "start_time": "2025-06-25T17:41:27.930Z"
   },
   {
    "duration": 5,
    "start_time": "2025-06-25T17:47:06.315Z"
   },
   {
    "duration": 1157,
    "start_time": "2025-06-26T14:29:38.185Z"
   },
   {
    "duration": 2701,
    "start_time": "2025-06-26T14:29:39.344Z"
   },
   {
    "duration": 1022,
    "start_time": "2025-06-26T14:29:42.047Z"
   },
   {
    "duration": 215,
    "start_time": "2025-06-26T14:29:43.071Z"
   },
   {
    "duration": 60,
    "start_time": "2025-06-26T14:29:43.288Z"
   },
   {
    "duration": 463,
    "start_time": "2025-06-26T14:29:43.349Z"
   },
   {
    "duration": 254,
    "start_time": "2025-06-26T14:29:43.814Z"
   },
   {
    "duration": 221,
    "start_time": "2025-06-26T14:29:44.069Z"
   },
   {
    "duration": 49,
    "start_time": "2025-06-26T14:29:44.292Z"
   },
   {
    "duration": 197,
    "start_time": "2025-06-26T14:29:44.343Z"
   },
   {
    "duration": 34,
    "start_time": "2025-06-26T14:29:44.542Z"
   },
   {
    "duration": 312,
    "start_time": "2025-06-26T14:29:44.578Z"
   },
   {
    "duration": 18,
    "start_time": "2025-06-26T14:29:44.892Z"
   },
   {
    "duration": 210,
    "start_time": "2025-06-26T14:29:44.913Z"
   },
   {
    "duration": 63,
    "start_time": "2025-06-26T14:29:45.125Z"
   },
   {
    "duration": 11,
    "start_time": "2025-06-26T14:29:45.189Z"
   },
   {
    "duration": 209,
    "start_time": "2025-06-26T14:29:45.201Z"
   },
   {
    "duration": 8,
    "start_time": "2025-06-26T14:29:45.412Z"
   },
   {
    "duration": 21,
    "start_time": "2025-06-26T14:29:45.422Z"
   },
   {
    "duration": 384,
    "start_time": "2025-06-26T14:29:45.444Z"
   },
   {
    "duration": 14,
    "start_time": "2025-06-26T14:29:45.830Z"
   },
   {
    "duration": 328,
    "start_time": "2025-06-26T14:29:45.846Z"
   },
   {
    "duration": 439,
    "start_time": "2025-06-26T14:29:46.176Z"
   },
   {
    "duration": 26,
    "start_time": "2025-06-26T14:29:46.616Z"
   },
   {
    "duration": 216,
    "start_time": "2025-06-26T14:29:46.644Z"
   },
   {
    "duration": 8,
    "start_time": "2025-06-26T14:29:46.862Z"
   },
   {
    "duration": 5,
    "start_time": "2025-06-26T14:29:46.872Z"
   },
   {
    "duration": 33,
    "start_time": "2025-06-26T14:29:46.879Z"
   },
   {
    "duration": 28,
    "start_time": "2025-06-26T14:29:46.915Z"
   },
   {
    "duration": 62,
    "start_time": "2025-06-26T14:29:46.945Z"
   },
   {
    "duration": 104,
    "start_time": "2025-06-26T14:29:47.009Z"
   },
   {
    "duration": 62,
    "start_time": "2025-06-26T14:29:47.115Z"
   },
   {
    "duration": 102,
    "start_time": "2025-06-26T14:29:47.179Z"
   },
   {
    "duration": 6,
    "start_time": "2025-06-26T14:29:47.283Z"
   }
  ],
  "colab": {
   "provenance": []
  },
  "kernelspec": {
   "display_name": "Python 3 (ipykernel)",
   "language": "python",
   "name": "python3"
  },
  "language_info": {
   "codemirror_mode": {
    "name": "ipython",
    "version": 3
   },
   "file_extension": ".py",
   "mimetype": "text/x-python",
   "name": "python",
   "nbconvert_exporter": "python",
   "pygments_lexer": "ipython3",
   "version": "3.9.5"
  },
  "toc": {
   "base_numbering": 1,
   "nav_menu": {},
   "number_sections": false,
   "sideBar": true,
   "skip_h1_title": true,
   "title_cell": "Table of Contents",
   "title_sidebar": "Contents",
   "toc_cell": false,
   "toc_position": {
    "height": "calc(100% - 180px)",
    "left": "10px",
    "top": "150px",
    "width": "165px"
   },
   "toc_section_display": true,
   "toc_window_display": true
  }
 },
 "nbformat": 4,
 "nbformat_minor": 1
}
