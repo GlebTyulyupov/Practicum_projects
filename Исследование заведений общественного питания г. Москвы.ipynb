{
 "cells": [
  {
   "cell_type": "markdown",
   "id": "e06910dd",
   "metadata": {
    "id": "e06910dd"
   },
   "source": [
    "# Исследование заведений общественного питания г. Москвы\n",
    "\n",
    "- Автор: Тюлюпов Глеб\n",
    "- Дата:21.04.2025"
   ]
  },
  {
   "cell_type": "markdown",
   "id": "4149134c",
   "metadata": {
    "id": "4149134c"
   },
   "source": [
    "### Цели и задачи проекта\n",
    "\n",
    "**Цель:** Проведение исследовательского анализа заведений общественного питания г. Москвы, на основе данных сервисов Яндекс Карты и Яндекс Бизнес на лето 2022 года.   \n",
    "\n",
    "**Задачи:**\n",
    "1. Загрузка данных и знакомство с их содержимым.\n",
    "2. Проведение предобработки данных.\n",
    "3. Исследовательский анализ данных, в том числе:\n",
    "    - анализ категорий заведений общественного питания;\n",
    "    - анализ административных районов Москвы в разрезе заведений общественного питания;\n",
    "    - изучение соотношения сетевых и несетевых заведений в целом по всем данным и в разрезе категорий заведения;\n",
    "    - исследование количества посадочных мест в заведениях;\n",
    "    - анализ рейтинга заведений;\n",
    "    - анализ корреляции рейтинга заведений с другими заведениями;\n",
    "    - изучение популярных сетей заведений;\n",
    "    - изучение вариации среднего чека в зависимости от района Москвы.\n",
    "    \n",
    "    \n",
    "4. Формулирование выводов и рекомендаций по проведённому анализу.\n"
   ]
  },
  {
   "cell_type": "markdown",
   "id": "4fecaf95",
   "metadata": {
    "id": "4fecaf95"
   },
   "source": [
    "### Содержимое проекта\n",
    "\n",
    " Проект включает в себя следующие основные этапы:\n",
    "   1. Загрузка данных и знакомство с ними.\n",
    "   2. Предобработка данных.\n",
    "   3. Исследовательский анализ данных.\n",
    "   4. Формирование итоговых выводов и рекомендаций.\n"
   ]
  },
  {
   "cell_type": "markdown",
   "id": "6f7d21d6",
   "metadata": {
    "id": "6f7d21d6"
   },
   "source": [
    "## 1. Загрузка данных и знакомство с ними\n",
    "\n",
    "Начнём с загрузки необходимых библиотек, а также с датасетов с данными о заведениях общественного питания Москвы - `/datasets/rest_info.csv` и `/datasets/rest_price.csv`. Будем использовать pandas и библиотеки визуализации данных `matplotlib` и `seaborn`, а также `phik` для построения матрицы корреляции. Данные датасетов сохраним в двух переменных: `info_df` и `price_df`."
   ]
  },
  {
   "cell_type": "code",
   "execution_count": 1,
   "id": "05faf34b",
   "metadata": {
    "id": "05faf34b"
   },
   "outputs": [
    {
     "name": "stdout",
     "output_type": "stream",
     "text": [
      "Collecting phik\n",
      "  Downloading phik-0.12.5-cp39-cp39-manylinux_2_24_x86_64.manylinux_2_28_x86_64.whl (677 kB)\n",
      "\u001b[K     |████████████████████████████████| 677 kB 2.2 MB/s eta 0:00:01\n",
      "\u001b[?25hRequirement already satisfied: numpy>=1.18.0 in /opt/conda/lib/python3.9/site-packages (from phik) (1.21.1)\n",
      "Requirement already satisfied: matplotlib>=2.2.3 in /opt/conda/lib/python3.9/site-packages (from phik) (3.3.4)\n",
      "Requirement already satisfied: joblib>=0.14.1 in /opt/conda/lib/python3.9/site-packages (from phik) (1.1.0)\n",
      "Requirement already satisfied: scipy>=1.5.2 in /opt/conda/lib/python3.9/site-packages (from phik) (1.9.1)\n",
      "Requirement already satisfied: pandas>=0.25.1 in /opt/conda/lib/python3.9/site-packages (from phik) (1.2.4)\n",
      "Requirement already satisfied: python-dateutil>=2.1 in /opt/conda/lib/python3.9/site-packages (from matplotlib>=2.2.3->phik) (2.8.1)\n",
      "Requirement already satisfied: cycler>=0.10 in /opt/conda/lib/python3.9/site-packages (from matplotlib>=2.2.3->phik) (0.11.0)\n",
      "Requirement already satisfied: pillow>=6.2.0 in /opt/conda/lib/python3.9/site-packages (from matplotlib>=2.2.3->phik) (8.4.0)\n",
      "Requirement already satisfied: pyparsing!=2.0.4,!=2.1.2,!=2.1.6,>=2.0.3 in /opt/conda/lib/python3.9/site-packages (from matplotlib>=2.2.3->phik) (2.4.7)\n",
      "Requirement already satisfied: kiwisolver>=1.0.1 in /opt/conda/lib/python3.9/site-packages (from matplotlib>=2.2.3->phik) (1.4.4)\n",
      "Requirement already satisfied: pytz>=2017.3 in /opt/conda/lib/python3.9/site-packages (from pandas>=0.25.1->phik) (2021.1)\n",
      "Requirement already satisfied: six>=1.5 in /opt/conda/lib/python3.9/site-packages (from python-dateutil>=2.1->matplotlib>=2.2.3->phik) (1.16.0)\n",
      "Installing collected packages: phik\n",
      "Successfully installed phik-0.12.5\n"
     ]
    }
   ],
   "source": [
    "# Импортируем библиотеку pandas\n",
    "import pandas as pd\n",
    "\n",
    "# Загружаем библиотеки для визуализации данных\n",
    "import matplotlib.pyplot as plt\n",
    "import seaborn as sns\n",
    "\n",
    "#Устанавливаем библиотеку phik\n",
    "!pip install phik\n",
    "\n",
    "# Загружаем библиотеку для расчёта коэффициента корреляции phi_k\n",
    "from phik import phik_matrix"
   ]
  },
  {
   "cell_type": "code",
   "execution_count": 2,
   "id": "ce87c1db",
   "metadata": {
    "id": "ce87c1db"
   },
   "outputs": [],
   "source": [
    "# Выгружаем данные датасетов в переменные info_df и price_df\n",
    "info_df=pd.read_csv('https://code.s3.yandex.net/datasets/rest_info.csv')\n",
    "price_df=pd.read_csv('https://code.s3.yandex.net/datasets/rest_price.csv')"
   ]
  },
  {
   "cell_type": "markdown",
   "id": "18b5dfff",
   "metadata": {
    "id": "18b5dfff"
   },
   "source": [
    "Далее познакомимся с данными и изучим общую информацию о них. Для этого выгрузим первые пять строк датасета `datasets/rest_info.csv` методом `head()`. Также изучим общую информацию о датафрейме с помощью метода `info()`."
   ]
  },
  {
   "cell_type": "code",
   "execution_count": 3,
   "id": "f68a7419",
   "metadata": {
    "id": "f68a7419"
   },
   "outputs": [
    {
     "data": {
      "text/html": [
       "<div>\n",
       "<style scoped>\n",
       "    .dataframe tbody tr th:only-of-type {\n",
       "        vertical-align: middle;\n",
       "    }\n",
       "\n",
       "    .dataframe tbody tr th {\n",
       "        vertical-align: top;\n",
       "    }\n",
       "\n",
       "    .dataframe thead th {\n",
       "        text-align: right;\n",
       "    }\n",
       "</style>\n",
       "<table border=\"1\" class=\"dataframe\">\n",
       "  <thead>\n",
       "    <tr style=\"text-align: right;\">\n",
       "      <th></th>\n",
       "      <th>id</th>\n",
       "      <th>name</th>\n",
       "      <th>category</th>\n",
       "      <th>address</th>\n",
       "      <th>district</th>\n",
       "      <th>hours</th>\n",
       "      <th>rating</th>\n",
       "      <th>chain</th>\n",
       "      <th>seats</th>\n",
       "    </tr>\n",
       "  </thead>\n",
       "  <tbody>\n",
       "    <tr>\n",
       "      <th>0</th>\n",
       "      <td>0c3e3439a8c64ea5bf6ecd6ca6ae19f0</td>\n",
       "      <td>WoWфли</td>\n",
       "      <td>кафе</td>\n",
       "      <td>Москва, улица Дыбенко, 7/1</td>\n",
       "      <td>Северный административный округ</td>\n",
       "      <td>ежедневно, 10:00–22:00</td>\n",
       "      <td>5.0</td>\n",
       "      <td>0</td>\n",
       "      <td>NaN</td>\n",
       "    </tr>\n",
       "    <tr>\n",
       "      <th>1</th>\n",
       "      <td>045780ada3474c57a2112e505d74b633</td>\n",
       "      <td>Четыре комнаты</td>\n",
       "      <td>ресторан</td>\n",
       "      <td>Москва, улица Дыбенко, 36, корп. 1</td>\n",
       "      <td>Северный административный округ</td>\n",
       "      <td>ежедневно, 10:00–22:00</td>\n",
       "      <td>4.5</td>\n",
       "      <td>0</td>\n",
       "      <td>4.0</td>\n",
       "    </tr>\n",
       "    <tr>\n",
       "      <th>2</th>\n",
       "      <td>1070b6b59144425896c65889347fcff6</td>\n",
       "      <td>Хазри</td>\n",
       "      <td>кафе</td>\n",
       "      <td>Москва, Клязьминская улица, 15</td>\n",
       "      <td>Северный административный округ</td>\n",
       "      <td>пн-чт 11:00–02:00; пт,сб 11:00–05:00; вс 11:00...</td>\n",
       "      <td>4.6</td>\n",
       "      <td>0</td>\n",
       "      <td>45.0</td>\n",
       "    </tr>\n",
       "    <tr>\n",
       "      <th>3</th>\n",
       "      <td>03ac7cd772104f65b58b349dc59f03ee</td>\n",
       "      <td>Dormouse Coffee Shop</td>\n",
       "      <td>кофейня</td>\n",
       "      <td>Москва, улица Маршала Федоренко, 12</td>\n",
       "      <td>Северный административный округ</td>\n",
       "      <td>ежедневно, 09:00–22:00</td>\n",
       "      <td>5.0</td>\n",
       "      <td>0</td>\n",
       "      <td>NaN</td>\n",
       "    </tr>\n",
       "    <tr>\n",
       "      <th>4</th>\n",
       "      <td>a163aada139c4c7f87b0b1c0b466a50f</td>\n",
       "      <td>Иль Марко</td>\n",
       "      <td>пиццерия</td>\n",
       "      <td>Москва, Правобережная улица, 1Б</td>\n",
       "      <td>Северный административный округ</td>\n",
       "      <td>ежедневно, 10:00–22:00</td>\n",
       "      <td>5.0</td>\n",
       "      <td>1</td>\n",
       "      <td>148.0</td>\n",
       "    </tr>\n",
       "  </tbody>\n",
       "</table>\n",
       "</div>"
      ],
      "text/plain": [
       "                                 id                  name  category  \\\n",
       "0  0c3e3439a8c64ea5bf6ecd6ca6ae19f0                WoWфли      кафе   \n",
       "1  045780ada3474c57a2112e505d74b633        Четыре комнаты  ресторан   \n",
       "2  1070b6b59144425896c65889347fcff6                 Хазри      кафе   \n",
       "3  03ac7cd772104f65b58b349dc59f03ee  Dormouse Coffee Shop   кофейня   \n",
       "4  a163aada139c4c7f87b0b1c0b466a50f             Иль Марко  пиццерия   \n",
       "\n",
       "                               address                         district  \\\n",
       "0           Москва, улица Дыбенко, 7/1  Северный административный округ   \n",
       "1   Москва, улица Дыбенко, 36, корп. 1  Северный административный округ   \n",
       "2       Москва, Клязьминская улица, 15  Северный административный округ   \n",
       "3  Москва, улица Маршала Федоренко, 12  Северный административный округ   \n",
       "4      Москва, Правобережная улица, 1Б  Северный административный округ   \n",
       "\n",
       "                                               hours  rating  chain  seats  \n",
       "0                             ежедневно, 10:00–22:00     5.0      0    NaN  \n",
       "1                             ежедневно, 10:00–22:00     4.5      0    4.0  \n",
       "2  пн-чт 11:00–02:00; пт,сб 11:00–05:00; вс 11:00...     4.6      0   45.0  \n",
       "3                             ежедневно, 09:00–22:00     5.0      0    NaN  \n",
       "4                             ежедневно, 10:00–22:00     5.0      1  148.0  "
      ]
     },
     "execution_count": 3,
     "metadata": {},
     "output_type": "execute_result"
    }
   ],
   "source": [
    "# Выгружаем первые пять строк датафрейма info_df\n",
    "info_df.head()"
   ]
  },
  {
   "cell_type": "code",
   "execution_count": 4,
   "id": "dd415c80",
   "metadata": {
    "id": "dd415c80"
   },
   "outputs": [
    {
     "name": "stdout",
     "output_type": "stream",
     "text": [
      "<class 'pandas.core.frame.DataFrame'>\n",
      "RangeIndex: 8406 entries, 0 to 8405\n",
      "Data columns (total 9 columns):\n",
      " #   Column    Non-Null Count  Dtype  \n",
      "---  ------    --------------  -----  \n",
      " 0   id        8406 non-null   object \n",
      " 1   name      8406 non-null   object \n",
      " 2   category  8406 non-null   object \n",
      " 3   address   8406 non-null   object \n",
      " 4   district  8406 non-null   object \n",
      " 5   hours     7870 non-null   object \n",
      " 6   rating    8406 non-null   float64\n",
      " 7   chain     8406 non-null   int64  \n",
      " 8   seats     4795 non-null   float64\n",
      "dtypes: float64(2), int64(1), object(6)\n",
      "memory usage: 591.2+ KB\n"
     ]
    }
   ],
   "source": [
    "# Выгрузим общую информацию о датафрейме\n",
    "info_df.info()"
   ]
  },
  {
   "cell_type": "markdown",
   "id": "675f2420",
   "metadata": {
    "id": "3158ad37"
   },
   "source": [
    "Датасет `datasets/rest_info.csv` содержит 9 столбцов и 8406 строк, в которых представлена информация о заведениях общественного питания г. Москвы.\n",
    "\n",
    "После первичного анализа данных можно сделать следующие выводы:\n",
    "- Названия столбцов уже приведены к оптимальному формату.\n",
    "- Шесть столбцов,в том числе столбцы `id`,`name`,`category`,`address`,`district` и `hours` содержат информацию в формате `object`. Для столбцов `name`,`category`,`address`,`district` данный формат является оптимальным. Столбцы`id` и `hours` содрежат информацию по типу `\"0c3e3439a8c64ea5bf6ecd6ca6ae19f0\"` и `\"ежедневно, 10:00–22:00\"` соответственно, следовательно, формат `object` также является для них оптимальным.\n",
    "- Информация в столбцах `rating` и `seats` хранится в формате float64. Столбец `rating` содержит информацию о рейтинге заведений, максимальная оценка - 5.0, в связи с чем, предварительно проверив данные в столбце на ошибки и аномалии можно понизить разрядность  данных до float32. Информацию в столбце `seats` можно привести к формату integer с оптимальной размерностью с помощью метода `to_numeric()`.  \n",
    "- Информация в столбце `chain` содержится в формате int64. Данный столбец содержит число, выраженное 0 или 1, которое показывает, является ли заведение сетевым. С помощью метода `to_numeric()` можно понизить размерность данных до оптимальных значений.\n",
    "- Пропуски содержатся в столбцах `hours` и `seats`, содержащие информацию о часах работы заведений и посадочных местах соответственно. Данные пропуски могут объясняться особенностью категории заведений или отсутствием соответствующей информации. Вместе с тем следует проверить и другие столбцы: в них могут встречаться значения-индикаторы, которые будут говорить об отсутствии данных.\n",
    "- Судя по первому знакомству с данными, значения в столбцах соответствуют своему описанию."
   ]
  },
  {
   "cell_type": "markdown",
   "id": "3033dd3d",
   "metadata": {},
   "source": [
    "Далее познакомимся с данными датасета `/datasets/rest_price.csv` с помощью методов `head()` и `info()`."
   ]
  },
  {
   "cell_type": "code",
   "execution_count": 5,
   "id": "bf657f01",
   "metadata": {},
   "outputs": [
    {
     "data": {
      "text/html": [
       "<div>\n",
       "<style scoped>\n",
       "    .dataframe tbody tr th:only-of-type {\n",
       "        vertical-align: middle;\n",
       "    }\n",
       "\n",
       "    .dataframe tbody tr th {\n",
       "        vertical-align: top;\n",
       "    }\n",
       "\n",
       "    .dataframe thead th {\n",
       "        text-align: right;\n",
       "    }\n",
       "</style>\n",
       "<table border=\"1\" class=\"dataframe\">\n",
       "  <thead>\n",
       "    <tr style=\"text-align: right;\">\n",
       "      <th></th>\n",
       "      <th>id</th>\n",
       "      <th>price</th>\n",
       "      <th>avg_bill</th>\n",
       "      <th>middle_avg_bill</th>\n",
       "      <th>middle_coffee_cup</th>\n",
       "    </tr>\n",
       "  </thead>\n",
       "  <tbody>\n",
       "    <tr>\n",
       "      <th>0</th>\n",
       "      <td>045780ada3474c57a2112e505d74b633</td>\n",
       "      <td>выше среднего</td>\n",
       "      <td>Средний счёт:1500–1600 ₽</td>\n",
       "      <td>1550.0</td>\n",
       "      <td>NaN</td>\n",
       "    </tr>\n",
       "    <tr>\n",
       "      <th>1</th>\n",
       "      <td>1070b6b59144425896c65889347fcff6</td>\n",
       "      <td>средние</td>\n",
       "      <td>Средний счёт:от 1000 ₽</td>\n",
       "      <td>1000.0</td>\n",
       "      <td>NaN</td>\n",
       "    </tr>\n",
       "    <tr>\n",
       "      <th>2</th>\n",
       "      <td>03ac7cd772104f65b58b349dc59f03ee</td>\n",
       "      <td>NaN</td>\n",
       "      <td>Цена чашки капучино:155–185 ₽</td>\n",
       "      <td>NaN</td>\n",
       "      <td>170.0</td>\n",
       "    </tr>\n",
       "    <tr>\n",
       "      <th>3</th>\n",
       "      <td>a163aada139c4c7f87b0b1c0b466a50f</td>\n",
       "      <td>средние</td>\n",
       "      <td>Средний счёт:400–600 ₽</td>\n",
       "      <td>500.0</td>\n",
       "      <td>NaN</td>\n",
       "    </tr>\n",
       "    <tr>\n",
       "      <th>4</th>\n",
       "      <td>8a343546b24e4a499ad96eb7d0797a8a</td>\n",
       "      <td>средние</td>\n",
       "      <td>NaN</td>\n",
       "      <td>NaN</td>\n",
       "      <td>NaN</td>\n",
       "    </tr>\n",
       "  </tbody>\n",
       "</table>\n",
       "</div>"
      ],
      "text/plain": [
       "                                 id          price  \\\n",
       "0  045780ada3474c57a2112e505d74b633  выше среднего   \n",
       "1  1070b6b59144425896c65889347fcff6        средние   \n",
       "2  03ac7cd772104f65b58b349dc59f03ee            NaN   \n",
       "3  a163aada139c4c7f87b0b1c0b466a50f        средние   \n",
       "4  8a343546b24e4a499ad96eb7d0797a8a        средние   \n",
       "\n",
       "                        avg_bill  middle_avg_bill  middle_coffee_cup  \n",
       "0       Средний счёт:1500–1600 ₽           1550.0                NaN  \n",
       "1         Средний счёт:от 1000 ₽           1000.0                NaN  \n",
       "2  Цена чашки капучино:155–185 ₽              NaN              170.0  \n",
       "3         Средний счёт:400–600 ₽            500.0                NaN  \n",
       "4                            NaN              NaN                NaN  "
      ]
     },
     "execution_count": 5,
     "metadata": {},
     "output_type": "execute_result"
    }
   ],
   "source": [
    "# Выгружаем первые пять строк датафрейма info_price\n",
    "price_df.head()"
   ]
  },
  {
   "cell_type": "code",
   "execution_count": 6,
   "id": "7a016097",
   "metadata": {},
   "outputs": [
    {
     "name": "stdout",
     "output_type": "stream",
     "text": [
      "<class 'pandas.core.frame.DataFrame'>\n",
      "RangeIndex: 4058 entries, 0 to 4057\n",
      "Data columns (total 5 columns):\n",
      " #   Column             Non-Null Count  Dtype  \n",
      "---  ------             --------------  -----  \n",
      " 0   id                 4058 non-null   object \n",
      " 1   price              3315 non-null   object \n",
      " 2   avg_bill           3816 non-null   object \n",
      " 3   middle_avg_bill    3149 non-null   float64\n",
      " 4   middle_coffee_cup  535 non-null    float64\n",
      "dtypes: float64(2), object(3)\n",
      "memory usage: 158.6+ KB\n"
     ]
    }
   ],
   "source": [
    "# Выгружаем общую информацию о датафрейме info_price\n",
    "price_df.info()"
   ]
  },
  {
   "cell_type": "markdown",
   "id": "c6afee4e",
   "metadata": {},
   "source": [
    "Датасет `datasets/rest_info.csv` содержит 5 столбцов и 4058 строк, в которых представлена информация о среднем чеке в заведениях общественного питания г. Москва.\n",
    "\n",
    "После первичного анализа данных можно сделать следующие выводы:\n",
    "- Названия столбцов уже приведены к оптимальному формату snake_case.\n",
    "- Три столбца, в том числе `id`,`price` и `avg_bill`, содержат информацию в формате `object`, что для данных столбцов является оптимальным.\n",
    "- Информация в столбцах `middle_avg_bill` и `middle_coffee_cup` хранится в формате float64. С помощью метода `to_numeric()` можно оптимизировать разрядность в данных столбцах и привести данные к формату integer.\n",
    "- Пропуски содержатся в столбцах `price`, `avg_bill`, `middle_avg_bill` и `middle_coffee_cup`. Количество пропусков в столбцах `price`, `avg_bill`, `middle_avg_bill` колеблется от 5 до 20%, в то время как в столбце `middle_coffee_cup` данный показатель составляет 87%. Данные пропуски могут объясняться особенностью категории заведений или отсутствием соответствующей информации. Пропуски в столбцах  `middle_avg_bill` и `middle_coffee_cup` связаны с пропусками в столбце `avg_bill`, поскольку значения в  столбцах `middle_avg_bill` и `middle_coffee_cup` отражают значения в столбце `avg_bill`.\n",
    "- Судя по первому знакомству с данными, значения в столбцах соответствуют своему описанию. "
   ]
  },
  {
   "cell_type": "markdown",
   "id": "2c614a62",
   "metadata": {
    "id": "2c614a62"
   },
   "source": [
    "### Промежуточный вывод\n",
    "\n",
    "Первичное знакомство показывает, что названия столбцов уже приведены к оптимальному формату и соответствуют описанию. В большинстве случаев используются верные типы данных, однако для части числовых данных можно оптимизировать разрядность, а также заменить в некоторых столбцах формат с float на integer.\n",
    "Пропуски содержатся в столбцах hours, seats, price, avg_bill, middle_avg_bill и middle_coffee_cup. Данные пропуски могут быть связаны с особенностями категории заведения или отсутствием соответствующей информации, при этом пропуски в столбцах middle_avg_bill и middle_coffee_cup связаны с пропусками в столбце avg_bill."
   ]
  },
  {
   "cell_type": "markdown",
   "id": "8a8d1491",
   "metadata": {
    "id": "8a8d1491"
   },
   "source": [
    "### Подготовка единого датафрейма\n",
    "\n",
    "Далее соединим данные двух датасетов в один с помощью метода `merge()` для поиска закономерностей в данных. Соединять данные будем по идентификатору заведения - `id`. Для дальнейшего анализа необходимо полностью сохранить полную информацию о заведениях, в связи с чем присоединение датафрейма price_df к датафрейму info_df будет осуществляться с помощью  параметра `how='left'`. Новому датафрейму присвоим название `df_rest`."
   ]
  },
  {
   "cell_type": "code",
   "execution_count": 7,
   "id": "3408e303",
   "metadata": {
    "id": "3408e303"
   },
   "outputs": [],
   "source": [
    "# Соединим данный в единый датафрейм:\n",
    "rest_df = info_df.merge(price_df, on='id', how='left')"
   ]
  },
  {
   "cell_type": "code",
   "execution_count": 8,
   "id": "5695950b",
   "metadata": {
    "id": "5695950b",
    "scrolled": true
   },
   "outputs": [
    {
     "name": "stdout",
     "output_type": "stream",
     "text": [
      "<class 'pandas.core.frame.DataFrame'>\n",
      "Int64Index: 8406 entries, 0 to 8405\n",
      "Data columns (total 13 columns):\n",
      " #   Column             Non-Null Count  Dtype  \n",
      "---  ------             --------------  -----  \n",
      " 0   id                 8406 non-null   object \n",
      " 1   name               8406 non-null   object \n",
      " 2   category           8406 non-null   object \n",
      " 3   address            8406 non-null   object \n",
      " 4   district           8406 non-null   object \n",
      " 5   hours              7870 non-null   object \n",
      " 6   rating             8406 non-null   float64\n",
      " 7   chain              8406 non-null   int64  \n",
      " 8   seats              4795 non-null   float64\n",
      " 9   price              3315 non-null   object \n",
      " 10  avg_bill           3816 non-null   object \n",
      " 11  middle_avg_bill    3149 non-null   float64\n",
      " 12  middle_coffee_cup  535 non-null    float64\n",
      "dtypes: float64(4), int64(1), object(8)\n",
      "memory usage: 919.4+ KB\n"
     ]
    }
   ],
   "source": [
    "# Выводим информацию о полученном датафрейме\n",
    "rest_df.info()"
   ]
  },
  {
   "cell_type": "markdown",
   "id": "e169e6a4",
   "metadata": {
    "id": "6577c71c"
   },
   "source": [
    "Полученный датафрейм содержит 13 столбцов и 8406 строк. Пропуски из двух исходных датафреймов сохранились в том же количестве.\n",
    "\n",
    "Перейдём к следующему этапу - предобработке данных."
   ]
  },
  {
   "cell_type": "markdown",
   "id": "956e82e2",
   "metadata": {
    "id": "956e82e2"
   },
   "source": [
    "## 2. Предобработка данных\n",
    "\n",
    "На данном этапе предполагается подготовка данных к исследовательскому анализу."
   ]
  },
  {
   "cell_type": "markdown",
   "id": "0a570247",
   "metadata": {
    "id": "67956690"
   },
   "source": [
    "### 2.1 Оптимизируем типы данных\n",
    "\n",
    "Изучим корректность типов данных и при необходимости проведём их преобразование."
   ]
  },
  {
   "cell_type": "markdown",
   "id": "db3bdeb9",
   "metadata": {
    "id": "b5f2a94d"
   },
   "source": [
    "Столбцы `id`, `name`, `category`, `address`, `district`, `hours`, `price` и `avg_bill` содержат данные в формате `object`, что является для них оптимальным."
   ]
  },
  {
   "cell_type": "markdown",
   "id": "2dd7e68b",
   "metadata": {},
   "source": [
    "Столбец `rating` содержит информацию о рейтинге заведений, максимальная оценка - 5.0, в связи с чем, предварительно проверив данные в столбце на ошибки и аномалии можно понизить разрядность  данных до float32.   "
   ]
  },
  {
   "cell_type": "code",
   "execution_count": 9,
   "id": "1878f670",
   "metadata": {},
   "outputs": [
    {
     "name": "stdout",
     "output_type": "stream",
     "text": [
      "1.0\n",
      "5.0\n"
     ]
    }
   ],
   "source": [
    "# Проверим минимальные и максимальные значения в столбце `rating`\n",
    "print(rest_df['rating'].min())\n",
    "print(rest_df['rating'].max())"
   ]
  },
  {
   "cell_type": "code",
   "execution_count": 10,
   "id": "620d2f08",
   "metadata": {
    "id": "620d2f08"
   },
   "outputs": [],
   "source": [
    "# Оптимизируем разрядность для столбца `rating`\n",
    "rest_df['rating'] = pd.to_numeric(rest_df['rating'],\n",
    "                                    downcast='float')"
   ]
  },
  {
   "cell_type": "markdown",
   "id": "5bb133d1",
   "metadata": {},
   "source": [
    "Информацию в столбце `seats` можно привести к формату integer с оптимальной размерностью с помощью метода `to_numeric()`. Поскольку столбец содержит пропуски, необходимо предварительно заменить их на значение-индикатор или удалить. Однако в дальнейшем нам предстоит анализ количества посадочных мест в заведениях, в связи с чем замена пропусков может оказать влияние статистические показатели параметра. В связи с чем для данного столбца сохраним формат `float` с понижением разрядности."
   ]
  },
  {
   "cell_type": "code",
   "execution_count": 11,
   "id": "aecf924d",
   "metadata": {},
   "outputs": [],
   "source": [
    "# Оптимизируем разрядность для столбца `seats`\n",
    "rest_df['seats'] = pd.to_numeric(rest_df['seats'],\n",
    "                                    downcast='float')"
   ]
  },
  {
   "cell_type": "markdown",
   "id": "3a7e1858",
   "metadata": {},
   "source": [
    "Информация в столбце `chain` содержится в формате `int64`. Данный столбец содержит число, выраженное `0` или `1`, которое показывает, является ли заведение сетевым. С помощью метода `to_numeric()` понизим размерность данных до оптимальных значений."
   ]
  },
  {
   "cell_type": "code",
   "execution_count": 12,
   "id": "e9326252",
   "metadata": {},
   "outputs": [],
   "source": [
    "# Оптимизируем целочисленный тип данных столбца 'chain'\n",
    "rest_df['chain'] = pd.to_numeric(rest_df['chain'],\n",
    "                                    downcast='integer')"
   ]
  },
  {
   "cell_type": "markdown",
   "id": "10ba74e4",
   "metadata": {},
   "source": [
    "Информация в столбцах `middle_avg_bill` и `middle_coffee_cup` хранится в формате float64. С помощью метода `to_numeric()` можно оптимизировать разрядность в данных столбцах и привести данные к формату integer. Однако как и в случае со столбцом, `seats` данные столбцы содержат пропуски, которые необходимо предварительно обработать. При этом параметр `middle_avg_bill` необходим нам при изучении вариации среднего чека заведения в зависимости от административного района, в связи с чем сохраним формат `float` для данного столбца с понижением разрядности.\n",
    "Для столбца `middle_coffee_cup`, скорректируем формат данных  в следующем подразделе после обработки пропусков."
   ]
  },
  {
   "cell_type": "code",
   "execution_count": 13,
   "id": "b839e413",
   "metadata": {},
   "outputs": [],
   "source": [
    "# Оптимизируем разрядность для столбца `middle_avg_bill`\n",
    "rest_df['middle_avg_bill'] = pd.to_numeric(rest_df['middle_avg_bill'],\n",
    "                                    downcast='float')"
   ]
  },
  {
   "cell_type": "markdown",
   "id": "89525365",
   "metadata": {},
   "source": [
    "Выведем обновлённые типы данных для столбцов датафрейма rest_df с помощью атрибута dtypes."
   ]
  },
  {
   "cell_type": "code",
   "execution_count": 14,
   "id": "7084ab9a",
   "metadata": {},
   "outputs": [
    {
     "data": {
      "text/plain": [
       "id                    object\n",
       "name                  object\n",
       "category              object\n",
       "address               object\n",
       "district              object\n",
       "hours                 object\n",
       "rating               float32\n",
       "chain                   int8\n",
       "seats                float32\n",
       "price                 object\n",
       "avg_bill              object\n",
       "middle_avg_bill      float32\n",
       "middle_coffee_cup    float64\n",
       "dtype: object"
      ]
     },
     "execution_count": 14,
     "metadata": {},
     "output_type": "execute_result"
    }
   ],
   "source": [
    "#Проверим типы данных в датафрейме rest_df\n",
    "rest_df.dtypes"
   ]
  },
  {
   "cell_type": "markdown",
   "id": "06977b48",
   "metadata": {},
   "source": [
    "Таким образом, для столбцов `rating`, `seats`, `middle_avg_bill` и `chain` были оптимизированы типы данных с понижением размерности. Данные для столбца `middle_coffee_cup` будут оптмизированы в следующем подразделе после обработки пропусков."
   ]
  },
  {
   "cell_type": "markdown",
   "id": "4b7ee469",
   "metadata": {
    "id": "4b7ee469"
   },
   "source": [
    "### 2.2 Изучим пропущенные значения в данных\n",
    "\n",
    "В данном позразделе изучим пропущенные значения в данных: посчитаем их количество в каждом столбце датафрейме, изучим данные с пропущенными значениями и предположите гипотезы их появления. Также проведём обработку пропущенных значений: заменим пропуски на определённые значения, или удалим строки с пропусками или оставим их как есть."
   ]
  },
  {
   "cell_type": "markdown",
   "id": "e96de1e0",
   "metadata": {
    "id": "3d8840ca"
   },
   "source": [
    "Посчитаем количество пропусков в каждом столбце датафрейма с помощью метода `isna()`."
   ]
  },
  {
   "cell_type": "code",
   "execution_count": 15,
   "id": "2ea145ca",
   "metadata": {
    "id": "2ea145ca"
   },
   "outputs": [
    {
     "data": {
      "text/plain": [
       "id                      0\n",
       "name                    0\n",
       "category                0\n",
       "address                 0\n",
       "district                0\n",
       "hours                 536\n",
       "rating                  0\n",
       "chain                   0\n",
       "seats                3611\n",
       "price                5091\n",
       "avg_bill             4590\n",
       "middle_avg_bill      5257\n",
       "middle_coffee_cup    7871\n",
       "dtype: int64"
      ]
     },
     "execution_count": 15,
     "metadata": {},
     "output_type": "execute_result"
    }
   ],
   "source": [
    "# Выведем количество пропусков каждом столбце датафрейма rest_df\n",
    "rest_df.isna().sum()"
   ]
  },
  {
   "cell_type": "markdown",
   "id": "0491abb1",
   "metadata": {
    "id": "d9e7c358"
   },
   "source": [
    "Далее посчитаем долю строк с пропусками для каждого столбца датафрейма."
   ]
  },
  {
   "cell_type": "code",
   "execution_count": 16,
   "id": "638be787",
   "metadata": {},
   "outputs": [
    {
     "data": {
      "text/plain": [
       "id                   0.000000\n",
       "name                 0.000000\n",
       "category             0.000000\n",
       "address              0.000000\n",
       "district             0.000000\n",
       "hours                0.063764\n",
       "rating               0.000000\n",
       "chain                0.000000\n",
       "seats                0.429574\n",
       "price                0.605639\n",
       "avg_bill             0.546039\n",
       "middle_avg_bill      0.625387\n",
       "middle_coffee_cup    0.936355\n",
       "dtype: float64"
      ]
     },
     "execution_count": 16,
     "metadata": {},
     "output_type": "execute_result"
    }
   ],
   "source": [
    "# Подсчитываем долю строк с пропусками в датафрейме rest_df\n",
    "rest_df.isna().mean()"
   ]
  },
  {
   "cell_type": "markdown",
   "id": "f5ddb5b7",
   "metadata": {},
   "source": [
    "Пропуски содержатся в столбцах `hours`, `seats`, `price`, `avg_bill`, `middle_avg_bill`, `middle_coffee_cup`."
   ]
  },
  {
   "cell_type": "markdown",
   "id": "b4d4ccd5",
   "metadata": {},
   "source": [
    "Доля пропусков в столбце `hours` составляет 6,4%. Данные пропуски могут объясняться особенностью категории заведений или отсутствием соответствующей информации. Выведем строки с пропусками в столбце `hours`."
   ]
  },
  {
   "cell_type": "code",
   "execution_count": 17,
   "id": "e7e60ff1",
   "metadata": {},
   "outputs": [
    {
     "data": {
      "text/html": [
       "<div>\n",
       "<style scoped>\n",
       "    .dataframe tbody tr th:only-of-type {\n",
       "        vertical-align: middle;\n",
       "    }\n",
       "\n",
       "    .dataframe tbody tr th {\n",
       "        vertical-align: top;\n",
       "    }\n",
       "\n",
       "    .dataframe thead th {\n",
       "        text-align: right;\n",
       "    }\n",
       "</style>\n",
       "<table border=\"1\" class=\"dataframe\">\n",
       "  <thead>\n",
       "    <tr style=\"text-align: right;\">\n",
       "      <th></th>\n",
       "      <th>id</th>\n",
       "      <th>name</th>\n",
       "      <th>category</th>\n",
       "      <th>address</th>\n",
       "      <th>district</th>\n",
       "      <th>hours</th>\n",
       "      <th>rating</th>\n",
       "      <th>chain</th>\n",
       "      <th>seats</th>\n",
       "      <th>price</th>\n",
       "      <th>avg_bill</th>\n",
       "      <th>middle_avg_bill</th>\n",
       "      <th>middle_coffee_cup</th>\n",
       "    </tr>\n",
       "  </thead>\n",
       "  <tbody>\n",
       "    <tr>\n",
       "      <th>38</th>\n",
       "      <td>3746fe879e5b43629512095693ce4113</td>\n",
       "      <td>Ижора</td>\n",
       "      <td>булочная</td>\n",
       "      <td>Москва, Ижорский проезд, 5А</td>\n",
       "      <td>Северный административный округ</td>\n",
       "      <td>NaN</td>\n",
       "      <td>4.4</td>\n",
       "      <td>0</td>\n",
       "      <td>NaN</td>\n",
       "      <td>NaN</td>\n",
       "      <td>NaN</td>\n",
       "      <td>NaN</td>\n",
       "      <td>NaN</td>\n",
       "    </tr>\n",
       "    <tr>\n",
       "      <th>40</th>\n",
       "      <td>e5f4ff8c7196472eac2c980fc6b2e9b2</td>\n",
       "      <td>Кафе</td>\n",
       "      <td>кафе</td>\n",
       "      <td>Москва, Ижорская улица, 18, стр. 1</td>\n",
       "      <td>Северный административный округ</td>\n",
       "      <td>NaN</td>\n",
       "      <td>3.7</td>\n",
       "      <td>0</td>\n",
       "      <td>NaN</td>\n",
       "      <td>NaN</td>\n",
       "      <td>NaN</td>\n",
       "      <td>NaN</td>\n",
       "      <td>NaN</td>\n",
       "    </tr>\n",
       "    <tr>\n",
       "      <th>44</th>\n",
       "      <td>0cb57ea286804a0fbff91ae2cc868d48</td>\n",
       "      <td>Кафетерий</td>\n",
       "      <td>кафе</td>\n",
       "      <td>Москва, Ангарская улица, 24А</td>\n",
       "      <td>Северный административный округ</td>\n",
       "      <td>NaN</td>\n",
       "      <td>3.8</td>\n",
       "      <td>1</td>\n",
       "      <td>8.0</td>\n",
       "      <td>NaN</td>\n",
       "      <td>NaN</td>\n",
       "      <td>NaN</td>\n",
       "      <td>NaN</td>\n",
       "    </tr>\n",
       "    <tr>\n",
       "      <th>56</th>\n",
       "      <td>2b2b60640efb494b8ed4aa3b1313f1cd</td>\n",
       "      <td>Рыба из тандыра</td>\n",
       "      <td>быстрое питание</td>\n",
       "      <td>Москва, Коровинское шоссе, 46, стр. 5</td>\n",
       "      <td>Северный административный округ</td>\n",
       "      <td>NaN</td>\n",
       "      <td>1.5</td>\n",
       "      <td>0</td>\n",
       "      <td>NaN</td>\n",
       "      <td>NaN</td>\n",
       "      <td>NaN</td>\n",
       "      <td>NaN</td>\n",
       "      <td>NaN</td>\n",
       "    </tr>\n",
       "    <tr>\n",
       "      <th>108</th>\n",
       "      <td>a9ad4bd7e15c4b8cb6295c745e5a11c1</td>\n",
       "      <td>Кафе</td>\n",
       "      <td>бар,паб</td>\n",
       "      <td>Москва, МКАД, 82-й километр, вл18</td>\n",
       "      <td>Северо-Восточный административный округ</td>\n",
       "      <td>NaN</td>\n",
       "      <td>4.2</td>\n",
       "      <td>0</td>\n",
       "      <td>NaN</td>\n",
       "      <td>NaN</td>\n",
       "      <td>NaN</td>\n",
       "      <td>NaN</td>\n",
       "      <td>NaN</td>\n",
       "    </tr>\n",
       "    <tr>\n",
       "      <th>...</th>\n",
       "      <td>...</td>\n",
       "      <td>...</td>\n",
       "      <td>...</td>\n",
       "      <td>...</td>\n",
       "      <td>...</td>\n",
       "      <td>...</td>\n",
       "      <td>...</td>\n",
       "      <td>...</td>\n",
       "      <td>...</td>\n",
       "      <td>...</td>\n",
       "      <td>...</td>\n",
       "      <td>...</td>\n",
       "      <td>...</td>\n",
       "    </tr>\n",
       "    <tr>\n",
       "      <th>8236</th>\n",
       "      <td>4c48d06135d744a5a9d05e56d48d3818</td>\n",
       "      <td>1у</td>\n",
       "      <td>кафе</td>\n",
       "      <td>Москва, Нагатинская набережная, 40/1к1</td>\n",
       "      <td>Южный административный округ</td>\n",
       "      <td>NaN</td>\n",
       "      <td>3.4</td>\n",
       "      <td>0</td>\n",
       "      <td>NaN</td>\n",
       "      <td>NaN</td>\n",
       "      <td>NaN</td>\n",
       "      <td>NaN</td>\n",
       "      <td>NaN</td>\n",
       "    </tr>\n",
       "    <tr>\n",
       "      <th>8375</th>\n",
       "      <td>f2cca1ec4a9348a686f0b9e86dba4e7b</td>\n",
       "      <td>Улица Гурьянова 55</td>\n",
       "      <td>кафе</td>\n",
       "      <td>Москва, улица Гурьянова, 55</td>\n",
       "      <td>Юго-Восточный административный округ</td>\n",
       "      <td>NaN</td>\n",
       "      <td>4.5</td>\n",
       "      <td>0</td>\n",
       "      <td>NaN</td>\n",
       "      <td>NaN</td>\n",
       "      <td>NaN</td>\n",
       "      <td>NaN</td>\n",
       "      <td>NaN</td>\n",
       "    </tr>\n",
       "    <tr>\n",
       "      <th>8378</th>\n",
       "      <td>7cbd1c883e8a4b8e93ef33dfc4cc1c14</td>\n",
       "      <td>Восточно-грузинская кухня</td>\n",
       "      <td>быстрое питание</td>\n",
       "      <td>Москва, Зеленодольская улица, 32, корп. 3</td>\n",
       "      <td>Юго-Восточный административный округ</td>\n",
       "      <td>NaN</td>\n",
       "      <td>4.3</td>\n",
       "      <td>0</td>\n",
       "      <td>120.0</td>\n",
       "      <td>NaN</td>\n",
       "      <td>NaN</td>\n",
       "      <td>NaN</td>\n",
       "      <td>NaN</td>\n",
       "    </tr>\n",
       "    <tr>\n",
       "      <th>8381</th>\n",
       "      <td>ba0d8f9430004985a42e2a5cd6554b9e</td>\n",
       "      <td>Аэлита</td>\n",
       "      <td>кафе</td>\n",
       "      <td>Москва, Ферганская улица, 8, корп. 2, стр. 1</td>\n",
       "      <td>Юго-Восточный административный округ</td>\n",
       "      <td>NaN</td>\n",
       "      <td>3.8</td>\n",
       "      <td>0</td>\n",
       "      <td>30.0</td>\n",
       "      <td>NaN</td>\n",
       "      <td>NaN</td>\n",
       "      <td>NaN</td>\n",
       "      <td>NaN</td>\n",
       "    </tr>\n",
       "    <tr>\n",
       "      <th>8395</th>\n",
       "      <td>cec883ba5b3d4f18a5a8c543d3997627</td>\n",
       "      <td>Истира Запрафка</td>\n",
       "      <td>кафе</td>\n",
       "      <td>Москва, Юго-Восточный административный округ, ...</td>\n",
       "      <td>Юго-Восточный административный округ</td>\n",
       "      <td>NaN</td>\n",
       "      <td>2.9</td>\n",
       "      <td>0</td>\n",
       "      <td>NaN</td>\n",
       "      <td>NaN</td>\n",
       "      <td>NaN</td>\n",
       "      <td>NaN</td>\n",
       "      <td>NaN</td>\n",
       "    </tr>\n",
       "  </tbody>\n",
       "</table>\n",
       "<p>536 rows × 13 columns</p>\n",
       "</div>"
      ],
      "text/plain": [
       "                                    id                       name  \\\n",
       "38    3746fe879e5b43629512095693ce4113                      Ижора   \n",
       "40    e5f4ff8c7196472eac2c980fc6b2e9b2                       Кафе   \n",
       "44    0cb57ea286804a0fbff91ae2cc868d48                  Кафетерий   \n",
       "56    2b2b60640efb494b8ed4aa3b1313f1cd            Рыба из тандыра   \n",
       "108   a9ad4bd7e15c4b8cb6295c745e5a11c1                       Кафе   \n",
       "...                                ...                        ...   \n",
       "8236  4c48d06135d744a5a9d05e56d48d3818                         1у   \n",
       "8375  f2cca1ec4a9348a686f0b9e86dba4e7b         Улица Гурьянова 55   \n",
       "8378  7cbd1c883e8a4b8e93ef33dfc4cc1c14  Восточно-грузинская кухня   \n",
       "8381  ba0d8f9430004985a42e2a5cd6554b9e                     Аэлита   \n",
       "8395  cec883ba5b3d4f18a5a8c543d3997627            Истира Запрафка   \n",
       "\n",
       "             category                                            address  \\\n",
       "38           булочная                        Москва, Ижорский проезд, 5А   \n",
       "40               кафе                 Москва, Ижорская улица, 18, стр. 1   \n",
       "44               кафе                       Москва, Ангарская улица, 24А   \n",
       "56    быстрое питание              Москва, Коровинское шоссе, 46, стр. 5   \n",
       "108           бар,паб                  Москва, МКАД, 82-й километр, вл18   \n",
       "...               ...                                                ...   \n",
       "8236             кафе             Москва, Нагатинская набережная, 40/1к1   \n",
       "8375             кафе                        Москва, улица Гурьянова, 55   \n",
       "8378  быстрое питание          Москва, Зеленодольская улица, 32, корп. 3   \n",
       "8381             кафе       Москва, Ферганская улица, 8, корп. 2, стр. 1   \n",
       "8395             кафе  Москва, Юго-Восточный административный округ, ...   \n",
       "\n",
       "                                     district hours  rating  chain  seats  \\\n",
       "38            Северный административный округ   NaN     4.4      0    NaN   \n",
       "40            Северный административный округ   NaN     3.7      0    NaN   \n",
       "44            Северный административный округ   NaN     3.8      1    8.0   \n",
       "56            Северный административный округ   NaN     1.5      0    NaN   \n",
       "108   Северо-Восточный административный округ   NaN     4.2      0    NaN   \n",
       "...                                       ...   ...     ...    ...    ...   \n",
       "8236             Южный административный округ   NaN     3.4      0    NaN   \n",
       "8375     Юго-Восточный административный округ   NaN     4.5      0    NaN   \n",
       "8378     Юго-Восточный административный округ   NaN     4.3      0  120.0   \n",
       "8381     Юго-Восточный административный округ   NaN     3.8      0   30.0   \n",
       "8395     Юго-Восточный административный округ   NaN     2.9      0    NaN   \n",
       "\n",
       "     price avg_bill  middle_avg_bill  middle_coffee_cup  \n",
       "38     NaN      NaN              NaN                NaN  \n",
       "40     NaN      NaN              NaN                NaN  \n",
       "44     NaN      NaN              NaN                NaN  \n",
       "56     NaN      NaN              NaN                NaN  \n",
       "108    NaN      NaN              NaN                NaN  \n",
       "...    ...      ...              ...                ...  \n",
       "8236   NaN      NaN              NaN                NaN  \n",
       "8375   NaN      NaN              NaN                NaN  \n",
       "8378   NaN      NaN              NaN                NaN  \n",
       "8381   NaN      NaN              NaN                NaN  \n",
       "8395   NaN      NaN              NaN                NaN  \n",
       "\n",
       "[536 rows x 13 columns]"
      ]
     },
     "execution_count": 17,
     "metadata": {},
     "output_type": "execute_result"
    }
   ],
   "source": [
    "# Выведем строки с пропусками в столбце 'hours'\n",
    "rest_df[rest_df['hours'].isna()]"
   ]
  },
  {
   "cell_type": "markdown",
   "id": "196c29c7",
   "metadata": {},
   "source": [
    "Как видно из выгрузки, пропуски не выглядят связанными с другими столбцами датафрейма. Следовательно, с высокой долей вероятности связаны с отсутствием информации о часах работы соответствующих  заведений. Поскольку в столбце содержатся данные текстового типа, оптимальным вариантом будет заменить пропуски на пустую строку."
   ]
  },
  {
   "cell_type": "markdown",
   "id": "e5d45147",
   "metadata": {},
   "source": [
    "Доля пропусков в столбце `seats` составляет 43%. Поскольку в дальнейшем нам необходимо проанализировать количество посадочных мест в заведениях, замена пропусков на индикаторы может исказить данные. В связи с чем оптимальным вариантом будет оставить данные пропуски."
   ]
  },
  {
   "cell_type": "code",
   "execution_count": 18,
   "id": "917998ba",
   "metadata": {},
   "outputs": [
    {
     "data": {
      "text/html": [
       "<div>\n",
       "<style scoped>\n",
       "    .dataframe tbody tr th:only-of-type {\n",
       "        vertical-align: middle;\n",
       "    }\n",
       "\n",
       "    .dataframe tbody tr th {\n",
       "        vertical-align: top;\n",
       "    }\n",
       "\n",
       "    .dataframe thead th {\n",
       "        text-align: right;\n",
       "    }\n",
       "</style>\n",
       "<table border=\"1\" class=\"dataframe\">\n",
       "  <thead>\n",
       "    <tr style=\"text-align: right;\">\n",
       "      <th></th>\n",
       "      <th>id</th>\n",
       "      <th>name</th>\n",
       "      <th>category</th>\n",
       "      <th>address</th>\n",
       "      <th>district</th>\n",
       "      <th>hours</th>\n",
       "      <th>rating</th>\n",
       "      <th>chain</th>\n",
       "      <th>seats</th>\n",
       "      <th>price</th>\n",
       "      <th>avg_bill</th>\n",
       "      <th>middle_avg_bill</th>\n",
       "      <th>middle_coffee_cup</th>\n",
       "    </tr>\n",
       "  </thead>\n",
       "  <tbody>\n",
       "    <tr>\n",
       "      <th>0</th>\n",
       "      <td>0c3e3439a8c64ea5bf6ecd6ca6ae19f0</td>\n",
       "      <td>WoWфли</td>\n",
       "      <td>кафе</td>\n",
       "      <td>Москва, улица Дыбенко, 7/1</td>\n",
       "      <td>Северный административный округ</td>\n",
       "      <td>ежедневно, 10:00–22:00</td>\n",
       "      <td>5.0</td>\n",
       "      <td>0</td>\n",
       "      <td>NaN</td>\n",
       "      <td>NaN</td>\n",
       "      <td>NaN</td>\n",
       "      <td>NaN</td>\n",
       "      <td>NaN</td>\n",
       "    </tr>\n",
       "    <tr>\n",
       "      <th>3</th>\n",
       "      <td>03ac7cd772104f65b58b349dc59f03ee</td>\n",
       "      <td>Dormouse Coffee Shop</td>\n",
       "      <td>кофейня</td>\n",
       "      <td>Москва, улица Маршала Федоренко, 12</td>\n",
       "      <td>Северный административный округ</td>\n",
       "      <td>ежедневно, 09:00–22:00</td>\n",
       "      <td>5.0</td>\n",
       "      <td>0</td>\n",
       "      <td>NaN</td>\n",
       "      <td>NaN</td>\n",
       "      <td>Цена чашки капучино:155–185 ₽</td>\n",
       "      <td>NaN</td>\n",
       "      <td>170.0</td>\n",
       "    </tr>\n",
       "    <tr>\n",
       "      <th>5</th>\n",
       "      <td>8a343546b24e4a499ad96eb7d0797a8a</td>\n",
       "      <td>Sergio Pizza</td>\n",
       "      <td>пиццерия</td>\n",
       "      <td>Москва, Ижорская улица, вл8Б</td>\n",
       "      <td>Северный административный округ</td>\n",
       "      <td>ежедневно, 10:00–23:00</td>\n",
       "      <td>4.6</td>\n",
       "      <td>0</td>\n",
       "      <td>NaN</td>\n",
       "      <td>средние</td>\n",
       "      <td>NaN</td>\n",
       "      <td>NaN</td>\n",
       "      <td>NaN</td>\n",
       "    </tr>\n",
       "    <tr>\n",
       "      <th>11</th>\n",
       "      <td>53ac103717c142f29907080db1f0ce58</td>\n",
       "      <td>Шашлык Шефф</td>\n",
       "      <td>кафе</td>\n",
       "      <td>Москва, улица Маршала Федоренко, 10с1</td>\n",
       "      <td>Северный административный округ</td>\n",
       "      <td>ежедневно, 10:00–21:00</td>\n",
       "      <td>4.9</td>\n",
       "      <td>0</td>\n",
       "      <td>NaN</td>\n",
       "      <td>NaN</td>\n",
       "      <td>NaN</td>\n",
       "      <td>NaN</td>\n",
       "      <td>NaN</td>\n",
       "    </tr>\n",
       "    <tr>\n",
       "      <th>12</th>\n",
       "      <td>9384a51a4b2749759234df689b3a4857</td>\n",
       "      <td>Заправка</td>\n",
       "      <td>кафе</td>\n",
       "      <td>Москва, МКАД, 80-й километр, 1</td>\n",
       "      <td>Северный административный округ</td>\n",
       "      <td>вт-сб 09:00–18:00</td>\n",
       "      <td>4.3</td>\n",
       "      <td>0</td>\n",
       "      <td>NaN</td>\n",
       "      <td>средние</td>\n",
       "      <td>Средний счёт:330 ₽</td>\n",
       "      <td>330.0</td>\n",
       "      <td>NaN</td>\n",
       "    </tr>\n",
       "    <tr>\n",
       "      <th>...</th>\n",
       "      <td>...</td>\n",
       "      <td>...</td>\n",
       "      <td>...</td>\n",
       "      <td>...</td>\n",
       "      <td>...</td>\n",
       "      <td>...</td>\n",
       "      <td>...</td>\n",
       "      <td>...</td>\n",
       "      <td>...</td>\n",
       "      <td>...</td>\n",
       "      <td>...</td>\n",
       "      <td>...</td>\n",
       "      <td>...</td>\n",
       "    </tr>\n",
       "    <tr>\n",
       "      <th>8387</th>\n",
       "      <td>962800540173458486f3c465437c2d8b</td>\n",
       "      <td>Pab&amp;burg</td>\n",
       "      <td>бар,паб</td>\n",
       "      <td>Москва, улица Михайлова, 22, корп. 4</td>\n",
       "      <td>Юго-Восточный административный округ</td>\n",
       "      <td>ежедневно, 12:00–21:30</td>\n",
       "      <td>4.2</td>\n",
       "      <td>0</td>\n",
       "      <td>NaN</td>\n",
       "      <td>средние</td>\n",
       "      <td>Цена бокала пива:от 140 ₽</td>\n",
       "      <td>NaN</td>\n",
       "      <td>NaN</td>\n",
       "    </tr>\n",
       "    <tr>\n",
       "      <th>8389</th>\n",
       "      <td>3e5d9167d59248a69e6f3d6a0749d38c</td>\n",
       "      <td>Assa</td>\n",
       "      <td>ресторан</td>\n",
       "      <td>Москва, улица Авиаконструктора Миля, 3А</td>\n",
       "      <td>Юго-Восточный административный округ</td>\n",
       "      <td>пн-чт 09:00–22:00; пт,сб 09:00–23:00; вс 09:00...</td>\n",
       "      <td>4.9</td>\n",
       "      <td>0</td>\n",
       "      <td>NaN</td>\n",
       "      <td>NaN</td>\n",
       "      <td>NaN</td>\n",
       "      <td>NaN</td>\n",
       "      <td>NaN</td>\n",
       "    </tr>\n",
       "    <tr>\n",
       "      <th>8392</th>\n",
       "      <td>c55cb77b463b489491e703b8a94f286a</td>\n",
       "      <td>Касабланка</td>\n",
       "      <td>кафе</td>\n",
       "      <td>Москва, Большая Косинская улица, 27</td>\n",
       "      <td>Восточный административный округ</td>\n",
       "      <td>пн-чт 08:00–17:00; пт 08:00–16:00</td>\n",
       "      <td>3.3</td>\n",
       "      <td>0</td>\n",
       "      <td>NaN</td>\n",
       "      <td>NaN</td>\n",
       "      <td>NaN</td>\n",
       "      <td>NaN</td>\n",
       "      <td>NaN</td>\n",
       "    </tr>\n",
       "    <tr>\n",
       "      <th>8394</th>\n",
       "      <td>03c53ed5236948179947b46b7338d18d</td>\n",
       "      <td>Намангале</td>\n",
       "      <td>кафе</td>\n",
       "      <td>Москва, Ферганская улица, вл17-21</td>\n",
       "      <td>Юго-Восточный административный округ</td>\n",
       "      <td>ежедневно, круглосуточно</td>\n",
       "      <td>4.3</td>\n",
       "      <td>0</td>\n",
       "      <td>NaN</td>\n",
       "      <td>NaN</td>\n",
       "      <td>NaN</td>\n",
       "      <td>NaN</td>\n",
       "      <td>NaN</td>\n",
       "    </tr>\n",
       "    <tr>\n",
       "      <th>8395</th>\n",
       "      <td>cec883ba5b3d4f18a5a8c543d3997627</td>\n",
       "      <td>Истира Запрафка</td>\n",
       "      <td>кафе</td>\n",
       "      <td>Москва, Юго-Восточный административный округ, ...</td>\n",
       "      <td>Юго-Восточный административный округ</td>\n",
       "      <td>NaN</td>\n",
       "      <td>2.9</td>\n",
       "      <td>0</td>\n",
       "      <td>NaN</td>\n",
       "      <td>NaN</td>\n",
       "      <td>NaN</td>\n",
       "      <td>NaN</td>\n",
       "      <td>NaN</td>\n",
       "    </tr>\n",
       "  </tbody>\n",
       "</table>\n",
       "<p>3611 rows × 13 columns</p>\n",
       "</div>"
      ],
      "text/plain": [
       "                                    id                  name  category  \\\n",
       "0     0c3e3439a8c64ea5bf6ecd6ca6ae19f0                WoWфли      кафе   \n",
       "3     03ac7cd772104f65b58b349dc59f03ee  Dormouse Coffee Shop   кофейня   \n",
       "5     8a343546b24e4a499ad96eb7d0797a8a          Sergio Pizza  пиццерия   \n",
       "11    53ac103717c142f29907080db1f0ce58           Шашлык Шефф      кафе   \n",
       "12    9384a51a4b2749759234df689b3a4857              Заправка      кафе   \n",
       "...                                ...                   ...       ...   \n",
       "8387  962800540173458486f3c465437c2d8b              Pab&burg   бар,паб   \n",
       "8389  3e5d9167d59248a69e6f3d6a0749d38c                  Assa  ресторан   \n",
       "8392  c55cb77b463b489491e703b8a94f286a            Касабланка      кафе   \n",
       "8394  03c53ed5236948179947b46b7338d18d             Намангале      кафе   \n",
       "8395  cec883ba5b3d4f18a5a8c543d3997627       Истира Запрафка      кафе   \n",
       "\n",
       "                                                address  \\\n",
       "0                            Москва, улица Дыбенко, 7/1   \n",
       "3                   Москва, улица Маршала Федоренко, 12   \n",
       "5                          Москва, Ижорская улица, вл8Б   \n",
       "11                Москва, улица Маршала Федоренко, 10с1   \n",
       "12                       Москва, МКАД, 80-й километр, 1   \n",
       "...                                                 ...   \n",
       "8387               Москва, улица Михайлова, 22, корп. 4   \n",
       "8389            Москва, улица Авиаконструктора Миля, 3А   \n",
       "8392                Москва, Большая Косинская улица, 27   \n",
       "8394                  Москва, Ферганская улица, вл17-21   \n",
       "8395  Москва, Юго-Восточный административный округ, ...   \n",
       "\n",
       "                                  district  \\\n",
       "0          Северный административный округ   \n",
       "3          Северный административный округ   \n",
       "5          Северный административный округ   \n",
       "11         Северный административный округ   \n",
       "12         Северный административный округ   \n",
       "...                                    ...   \n",
       "8387  Юго-Восточный административный округ   \n",
       "8389  Юго-Восточный административный округ   \n",
       "8392      Восточный административный округ   \n",
       "8394  Юго-Восточный административный округ   \n",
       "8395  Юго-Восточный административный округ   \n",
       "\n",
       "                                                  hours  rating  chain  seats  \\\n",
       "0                                ежедневно, 10:00–22:00     5.0      0    NaN   \n",
       "3                                ежедневно, 09:00–22:00     5.0      0    NaN   \n",
       "5                                ежедневно, 10:00–23:00     4.6      0    NaN   \n",
       "11                               ежедневно, 10:00–21:00     4.9      0    NaN   \n",
       "12                                    вт-сб 09:00–18:00     4.3      0    NaN   \n",
       "...                                                 ...     ...    ...    ...   \n",
       "8387                             ежедневно, 12:00–21:30     4.2      0    NaN   \n",
       "8389  пн-чт 09:00–22:00; пт,сб 09:00–23:00; вс 09:00...     4.9      0    NaN   \n",
       "8392                  пн-чт 08:00–17:00; пт 08:00–16:00     3.3      0    NaN   \n",
       "8394                           ежедневно, круглосуточно     4.3      0    NaN   \n",
       "8395                                                NaN     2.9      0    NaN   \n",
       "\n",
       "        price                       avg_bill  middle_avg_bill  \\\n",
       "0         NaN                            NaN              NaN   \n",
       "3         NaN  Цена чашки капучино:155–185 ₽              NaN   \n",
       "5     средние                            NaN              NaN   \n",
       "11        NaN                            NaN              NaN   \n",
       "12    средние             Средний счёт:330 ₽            330.0   \n",
       "...       ...                            ...              ...   \n",
       "8387  средние      Цена бокала пива:от 140 ₽              NaN   \n",
       "8389      NaN                            NaN              NaN   \n",
       "8392      NaN                            NaN              NaN   \n",
       "8394      NaN                            NaN              NaN   \n",
       "8395      NaN                            NaN              NaN   \n",
       "\n",
       "      middle_coffee_cup  \n",
       "0                   NaN  \n",
       "3                 170.0  \n",
       "5                   NaN  \n",
       "11                  NaN  \n",
       "12                  NaN  \n",
       "...                 ...  \n",
       "8387                NaN  \n",
       "8389                NaN  \n",
       "8392                NaN  \n",
       "8394                NaN  \n",
       "8395                NaN  \n",
       "\n",
       "[3611 rows x 13 columns]"
      ]
     },
     "execution_count": 18,
     "metadata": {},
     "output_type": "execute_result"
    }
   ],
   "source": [
    "# Выведем строки с пропусками в столбце 'seats'\n",
    "rest_df[rest_df['seats'].isna()]"
   ]
  },
  {
   "cell_type": "markdown",
   "id": "2cf2720b",
   "metadata": {},
   "source": [
    "Выгрузка показала, что пропуски в столбце seats также с высокой долей вероятности не связаны с другими столбцами, в связи с чем, данные пропуски могут быть связаны с отсутствием информации о посадочных местах соответствующих заведений."
   ]
  },
  {
   "cell_type": "markdown",
   "id": "7563226d",
   "metadata": {},
   "source": [
    "Доля пропусков в столбце `price` составляет 60,6%. "
   ]
  },
  {
   "cell_type": "code",
   "execution_count": 19,
   "id": "e3fe2346",
   "metadata": {},
   "outputs": [
    {
     "data": {
      "text/html": [
       "<div>\n",
       "<style scoped>\n",
       "    .dataframe tbody tr th:only-of-type {\n",
       "        vertical-align: middle;\n",
       "    }\n",
       "\n",
       "    .dataframe tbody tr th {\n",
       "        vertical-align: top;\n",
       "    }\n",
       "\n",
       "    .dataframe thead th {\n",
       "        text-align: right;\n",
       "    }\n",
       "</style>\n",
       "<table border=\"1\" class=\"dataframe\">\n",
       "  <thead>\n",
       "    <tr style=\"text-align: right;\">\n",
       "      <th></th>\n",
       "      <th>id</th>\n",
       "      <th>name</th>\n",
       "      <th>category</th>\n",
       "      <th>address</th>\n",
       "      <th>district</th>\n",
       "      <th>hours</th>\n",
       "      <th>rating</th>\n",
       "      <th>chain</th>\n",
       "      <th>seats</th>\n",
       "      <th>price</th>\n",
       "      <th>avg_bill</th>\n",
       "      <th>middle_avg_bill</th>\n",
       "      <th>middle_coffee_cup</th>\n",
       "    </tr>\n",
       "  </thead>\n",
       "  <tbody>\n",
       "    <tr>\n",
       "      <th>0</th>\n",
       "      <td>0c3e3439a8c64ea5bf6ecd6ca6ae19f0</td>\n",
       "      <td>WoWфли</td>\n",
       "      <td>кафе</td>\n",
       "      <td>Москва, улица Дыбенко, 7/1</td>\n",
       "      <td>Северный административный округ</td>\n",
       "      <td>ежедневно, 10:00–22:00</td>\n",
       "      <td>5.0</td>\n",
       "      <td>0</td>\n",
       "      <td>NaN</td>\n",
       "      <td>NaN</td>\n",
       "      <td>NaN</td>\n",
       "      <td>NaN</td>\n",
       "      <td>NaN</td>\n",
       "    </tr>\n",
       "    <tr>\n",
       "      <th>3</th>\n",
       "      <td>03ac7cd772104f65b58b349dc59f03ee</td>\n",
       "      <td>Dormouse Coffee Shop</td>\n",
       "      <td>кофейня</td>\n",
       "      <td>Москва, улица Маршала Федоренко, 12</td>\n",
       "      <td>Северный административный округ</td>\n",
       "      <td>ежедневно, 09:00–22:00</td>\n",
       "      <td>5.0</td>\n",
       "      <td>0</td>\n",
       "      <td>NaN</td>\n",
       "      <td>NaN</td>\n",
       "      <td>Цена чашки капучино:155–185 ₽</td>\n",
       "      <td>NaN</td>\n",
       "      <td>170.0</td>\n",
       "    </tr>\n",
       "    <tr>\n",
       "      <th>11</th>\n",
       "      <td>53ac103717c142f29907080db1f0ce58</td>\n",
       "      <td>Шашлык Шефф</td>\n",
       "      <td>кафе</td>\n",
       "      <td>Москва, улица Маршала Федоренко, 10с1</td>\n",
       "      <td>Северный административный округ</td>\n",
       "      <td>ежедневно, 10:00–21:00</td>\n",
       "      <td>4.9</td>\n",
       "      <td>0</td>\n",
       "      <td>NaN</td>\n",
       "      <td>NaN</td>\n",
       "      <td>NaN</td>\n",
       "      <td>NaN</td>\n",
       "      <td>NaN</td>\n",
       "    </tr>\n",
       "    <tr>\n",
       "      <th>13</th>\n",
       "      <td>aea18265b0a0415893f1e796b82568fe</td>\n",
       "      <td>Буханка</td>\n",
       "      <td>булочная</td>\n",
       "      <td>Москва, Базовская улица, 15, корп. 1</td>\n",
       "      <td>Северный административный округ</td>\n",
       "      <td>ежедневно, 08:00–22:00</td>\n",
       "      <td>4.8</td>\n",
       "      <td>1</td>\n",
       "      <td>180.0</td>\n",
       "      <td>NaN</td>\n",
       "      <td>NaN</td>\n",
       "      <td>NaN</td>\n",
       "      <td>NaN</td>\n",
       "    </tr>\n",
       "    <tr>\n",
       "      <th>19</th>\n",
       "      <td>feec6bedccae44cb877d99c13f9aa5d7</td>\n",
       "      <td>Пекарня</td>\n",
       "      <td>булочная</td>\n",
       "      <td>Москва, Ижорский проезд, 5</td>\n",
       "      <td>Северный административный округ</td>\n",
       "      <td>ежедневно, круглосуточно</td>\n",
       "      <td>4.4</td>\n",
       "      <td>1</td>\n",
       "      <td>NaN</td>\n",
       "      <td>NaN</td>\n",
       "      <td>NaN</td>\n",
       "      <td>NaN</td>\n",
       "      <td>NaN</td>\n",
       "    </tr>\n",
       "    <tr>\n",
       "      <th>...</th>\n",
       "      <td>...</td>\n",
       "      <td>...</td>\n",
       "      <td>...</td>\n",
       "      <td>...</td>\n",
       "      <td>...</td>\n",
       "      <td>...</td>\n",
       "      <td>...</td>\n",
       "      <td>...</td>\n",
       "      <td>...</td>\n",
       "      <td>...</td>\n",
       "      <td>...</td>\n",
       "      <td>...</td>\n",
       "      <td>...</td>\n",
       "    </tr>\n",
       "    <tr>\n",
       "      <th>8401</th>\n",
       "      <td>0342ad1a45ed41ba89dcba246a8267e5</td>\n",
       "      <td>Суши Мания</td>\n",
       "      <td>кафе</td>\n",
       "      <td>Москва, Профсоюзная улица, 56</td>\n",
       "      <td>Юго-Западный административный округ</td>\n",
       "      <td>ежедневно, 09:00–02:00</td>\n",
       "      <td>4.4</td>\n",
       "      <td>0</td>\n",
       "      <td>86.0</td>\n",
       "      <td>NaN</td>\n",
       "      <td>NaN</td>\n",
       "      <td>NaN</td>\n",
       "      <td>NaN</td>\n",
       "    </tr>\n",
       "    <tr>\n",
       "      <th>8402</th>\n",
       "      <td>ee6bb7c3650e47bd8186fca08eda1091</td>\n",
       "      <td>Миславнес</td>\n",
       "      <td>кафе</td>\n",
       "      <td>Москва, Пролетарский проспект, 19, корп. 1</td>\n",
       "      <td>Южный административный округ</td>\n",
       "      <td>ежедневно, 08:00–22:00</td>\n",
       "      <td>4.8</td>\n",
       "      <td>0</td>\n",
       "      <td>150.0</td>\n",
       "      <td>NaN</td>\n",
       "      <td>NaN</td>\n",
       "      <td>NaN</td>\n",
       "      <td>NaN</td>\n",
       "    </tr>\n",
       "    <tr>\n",
       "      <th>8403</th>\n",
       "      <td>62e8c64d4c89467aba608e39ef87616b</td>\n",
       "      <td>Самовар</td>\n",
       "      <td>кафе</td>\n",
       "      <td>Москва, Люблинская улица, 112А, стр. 1</td>\n",
       "      <td>Юго-Восточный административный округ</td>\n",
       "      <td>ежедневно, круглосуточно</td>\n",
       "      <td>3.9</td>\n",
       "      <td>0</td>\n",
       "      <td>150.0</td>\n",
       "      <td>NaN</td>\n",
       "      <td>Средний счёт:от 150 ₽</td>\n",
       "      <td>150.0</td>\n",
       "      <td>NaN</td>\n",
       "    </tr>\n",
       "    <tr>\n",
       "      <th>8404</th>\n",
       "      <td>06a0db5ecd4842d48cd6350aa923e297</td>\n",
       "      <td>Чайхана Sabr</td>\n",
       "      <td>кафе</td>\n",
       "      <td>Москва, Люблинская улица, 112А, стр. 1</td>\n",
       "      <td>Юго-Восточный административный округ</td>\n",
       "      <td>ежедневно, круглосуточно</td>\n",
       "      <td>4.2</td>\n",
       "      <td>1</td>\n",
       "      <td>150.0</td>\n",
       "      <td>NaN</td>\n",
       "      <td>NaN</td>\n",
       "      <td>NaN</td>\n",
       "      <td>NaN</td>\n",
       "    </tr>\n",
       "    <tr>\n",
       "      <th>8405</th>\n",
       "      <td>9d56f8f7a7f74df1a925bc0fd2de8aae</td>\n",
       "      <td>Kebab Time</td>\n",
       "      <td>кафе</td>\n",
       "      <td>Москва, Россошанский проезд, 6</td>\n",
       "      <td>Южный административный округ</td>\n",
       "      <td>ежедневно, круглосуточно</td>\n",
       "      <td>3.9</td>\n",
       "      <td>0</td>\n",
       "      <td>12.0</td>\n",
       "      <td>NaN</td>\n",
       "      <td>NaN</td>\n",
       "      <td>NaN</td>\n",
       "      <td>NaN</td>\n",
       "    </tr>\n",
       "  </tbody>\n",
       "</table>\n",
       "<p>5091 rows × 13 columns</p>\n",
       "</div>"
      ],
      "text/plain": [
       "                                    id                  name  category  \\\n",
       "0     0c3e3439a8c64ea5bf6ecd6ca6ae19f0                WoWфли      кафе   \n",
       "3     03ac7cd772104f65b58b349dc59f03ee  Dormouse Coffee Shop   кофейня   \n",
       "11    53ac103717c142f29907080db1f0ce58           Шашлык Шефф      кафе   \n",
       "13    aea18265b0a0415893f1e796b82568fe               Буханка  булочная   \n",
       "19    feec6bedccae44cb877d99c13f9aa5d7               Пекарня  булочная   \n",
       "...                                ...                   ...       ...   \n",
       "8401  0342ad1a45ed41ba89dcba246a8267e5            Суши Мания      кафе   \n",
       "8402  ee6bb7c3650e47bd8186fca08eda1091             Миславнес      кафе   \n",
       "8403  62e8c64d4c89467aba608e39ef87616b               Самовар      кафе   \n",
       "8404  06a0db5ecd4842d48cd6350aa923e297          Чайхана Sabr      кафе   \n",
       "8405  9d56f8f7a7f74df1a925bc0fd2de8aae            Kebab Time      кафе   \n",
       "\n",
       "                                         address  \\\n",
       "0                     Москва, улица Дыбенко, 7/1   \n",
       "3            Москва, улица Маршала Федоренко, 12   \n",
       "11         Москва, улица Маршала Федоренко, 10с1   \n",
       "13          Москва, Базовская улица, 15, корп. 1   \n",
       "19                    Москва, Ижорский проезд, 5   \n",
       "...                                          ...   \n",
       "8401               Москва, Профсоюзная улица, 56   \n",
       "8402  Москва, Пролетарский проспект, 19, корп. 1   \n",
       "8403      Москва, Люблинская улица, 112А, стр. 1   \n",
       "8404      Москва, Люблинская улица, 112А, стр. 1   \n",
       "8405              Москва, Россошанский проезд, 6   \n",
       "\n",
       "                                  district                     hours  rating  \\\n",
       "0          Северный административный округ    ежедневно, 10:00–22:00     5.0   \n",
       "3          Северный административный округ    ежедневно, 09:00–22:00     5.0   \n",
       "11         Северный административный округ    ежедневно, 10:00–21:00     4.9   \n",
       "13         Северный административный округ    ежедневно, 08:00–22:00     4.8   \n",
       "19         Северный административный округ  ежедневно, круглосуточно     4.4   \n",
       "...                                    ...                       ...     ...   \n",
       "8401   Юго-Западный административный округ    ежедневно, 09:00–02:00     4.4   \n",
       "8402          Южный административный округ    ежедневно, 08:00–22:00     4.8   \n",
       "8403  Юго-Восточный административный округ  ежедневно, круглосуточно     3.9   \n",
       "8404  Юго-Восточный административный округ  ежедневно, круглосуточно     4.2   \n",
       "8405          Южный административный округ  ежедневно, круглосуточно     3.9   \n",
       "\n",
       "      chain  seats price                       avg_bill  middle_avg_bill  \\\n",
       "0         0    NaN   NaN                            NaN              NaN   \n",
       "3         0    NaN   NaN  Цена чашки капучино:155–185 ₽              NaN   \n",
       "11        0    NaN   NaN                            NaN              NaN   \n",
       "13        1  180.0   NaN                            NaN              NaN   \n",
       "19        1    NaN   NaN                            NaN              NaN   \n",
       "...     ...    ...   ...                            ...              ...   \n",
       "8401      0   86.0   NaN                            NaN              NaN   \n",
       "8402      0  150.0   NaN                            NaN              NaN   \n",
       "8403      0  150.0   NaN          Средний счёт:от 150 ₽            150.0   \n",
       "8404      1  150.0   NaN                            NaN              NaN   \n",
       "8405      0   12.0   NaN                            NaN              NaN   \n",
       "\n",
       "      middle_coffee_cup  \n",
       "0                   NaN  \n",
       "3                 170.0  \n",
       "11                  NaN  \n",
       "13                  NaN  \n",
       "19                  NaN  \n",
       "...                 ...  \n",
       "8401                NaN  \n",
       "8402                NaN  \n",
       "8403                NaN  \n",
       "8404                NaN  \n",
       "8405                NaN  \n",
       "\n",
       "[5091 rows x 13 columns]"
      ]
     },
     "execution_count": 19,
     "metadata": {},
     "output_type": "execute_result"
    }
   ],
   "source": [
    "# Выведем строки с пропусками в столбце 'price'\n",
    "rest_df[rest_df['price'].isna()]"
   ]
  },
  {
   "cell_type": "markdown",
   "id": "67a15ac8",
   "metadata": {},
   "source": [
    "Стобцы с пропусками в столбце `price` также не выглядят связанными с другими столбцами, что говорит о том, что пропуски связаны с отсутствием информации о ценах соответствующих заведений. Как и в случае со столбцом `seats` в данном столбце содержатся данные текстового типа, оптимальным вариантом будет заменить пропуски на пустую строку."
   ]
  },
  {
   "cell_type": "markdown",
   "id": "cee8748e",
   "metadata": {
    "id": "0769b681"
   },
   "source": [
    "Доля пропусков в столбце `avg_bill` составляет 54,6%. Выведем строки с пропусками в данном столбце. "
   ]
  },
  {
   "cell_type": "code",
   "execution_count": 20,
   "id": "95b15cd0",
   "metadata": {
    "id": "95b15cd0"
   },
   "outputs": [
    {
     "data": {
      "text/html": [
       "<div>\n",
       "<style scoped>\n",
       "    .dataframe tbody tr th:only-of-type {\n",
       "        vertical-align: middle;\n",
       "    }\n",
       "\n",
       "    .dataframe tbody tr th {\n",
       "        vertical-align: top;\n",
       "    }\n",
       "\n",
       "    .dataframe thead th {\n",
       "        text-align: right;\n",
       "    }\n",
       "</style>\n",
       "<table border=\"1\" class=\"dataframe\">\n",
       "  <thead>\n",
       "    <tr style=\"text-align: right;\">\n",
       "      <th></th>\n",
       "      <th>id</th>\n",
       "      <th>name</th>\n",
       "      <th>category</th>\n",
       "      <th>address</th>\n",
       "      <th>district</th>\n",
       "      <th>hours</th>\n",
       "      <th>rating</th>\n",
       "      <th>chain</th>\n",
       "      <th>seats</th>\n",
       "      <th>price</th>\n",
       "      <th>avg_bill</th>\n",
       "      <th>middle_avg_bill</th>\n",
       "      <th>middle_coffee_cup</th>\n",
       "    </tr>\n",
       "  </thead>\n",
       "  <tbody>\n",
       "    <tr>\n",
       "      <th>0</th>\n",
       "      <td>0c3e3439a8c64ea5bf6ecd6ca6ae19f0</td>\n",
       "      <td>WoWфли</td>\n",
       "      <td>кафе</td>\n",
       "      <td>Москва, улица Дыбенко, 7/1</td>\n",
       "      <td>Северный административный округ</td>\n",
       "      <td>ежедневно, 10:00–22:00</td>\n",
       "      <td>5.0</td>\n",
       "      <td>0</td>\n",
       "      <td>NaN</td>\n",
       "      <td>NaN</td>\n",
       "      <td>NaN</td>\n",
       "      <td>NaN</td>\n",
       "      <td>NaN</td>\n",
       "    </tr>\n",
       "    <tr>\n",
       "      <th>5</th>\n",
       "      <td>8a343546b24e4a499ad96eb7d0797a8a</td>\n",
       "      <td>Sergio Pizza</td>\n",
       "      <td>пиццерия</td>\n",
       "      <td>Москва, Ижорская улица, вл8Б</td>\n",
       "      <td>Северный административный округ</td>\n",
       "      <td>ежедневно, 10:00–23:00</td>\n",
       "      <td>4.6</td>\n",
       "      <td>0</td>\n",
       "      <td>NaN</td>\n",
       "      <td>средние</td>\n",
       "      <td>NaN</td>\n",
       "      <td>NaN</td>\n",
       "      <td>NaN</td>\n",
       "    </tr>\n",
       "    <tr>\n",
       "      <th>11</th>\n",
       "      <td>53ac103717c142f29907080db1f0ce58</td>\n",
       "      <td>Шашлык Шефф</td>\n",
       "      <td>кафе</td>\n",
       "      <td>Москва, улица Маршала Федоренко, 10с1</td>\n",
       "      <td>Северный административный округ</td>\n",
       "      <td>ежедневно, 10:00–21:00</td>\n",
       "      <td>4.9</td>\n",
       "      <td>0</td>\n",
       "      <td>NaN</td>\n",
       "      <td>NaN</td>\n",
       "      <td>NaN</td>\n",
       "      <td>NaN</td>\n",
       "      <td>NaN</td>\n",
       "    </tr>\n",
       "    <tr>\n",
       "      <th>13</th>\n",
       "      <td>aea18265b0a0415893f1e796b82568fe</td>\n",
       "      <td>Буханка</td>\n",
       "      <td>булочная</td>\n",
       "      <td>Москва, Базовская улица, 15, корп. 1</td>\n",
       "      <td>Северный административный округ</td>\n",
       "      <td>ежедневно, 08:00–22:00</td>\n",
       "      <td>4.8</td>\n",
       "      <td>1</td>\n",
       "      <td>180.0</td>\n",
       "      <td>NaN</td>\n",
       "      <td>NaN</td>\n",
       "      <td>NaN</td>\n",
       "      <td>NaN</td>\n",
       "    </tr>\n",
       "    <tr>\n",
       "      <th>19</th>\n",
       "      <td>feec6bedccae44cb877d99c13f9aa5d7</td>\n",
       "      <td>Пекарня</td>\n",
       "      <td>булочная</td>\n",
       "      <td>Москва, Ижорский проезд, 5</td>\n",
       "      <td>Северный административный округ</td>\n",
       "      <td>ежедневно, круглосуточно</td>\n",
       "      <td>4.4</td>\n",
       "      <td>1</td>\n",
       "      <td>NaN</td>\n",
       "      <td>NaN</td>\n",
       "      <td>NaN</td>\n",
       "      <td>NaN</td>\n",
       "      <td>NaN</td>\n",
       "    </tr>\n",
       "    <tr>\n",
       "      <th>...</th>\n",
       "      <td>...</td>\n",
       "      <td>...</td>\n",
       "      <td>...</td>\n",
       "      <td>...</td>\n",
       "      <td>...</td>\n",
       "      <td>...</td>\n",
       "      <td>...</td>\n",
       "      <td>...</td>\n",
       "      <td>...</td>\n",
       "      <td>...</td>\n",
       "      <td>...</td>\n",
       "      <td>...</td>\n",
       "      <td>...</td>\n",
       "    </tr>\n",
       "    <tr>\n",
       "      <th>8400</th>\n",
       "      <td>7f54f18753414d97abdddea3a2a48511</td>\n",
       "      <td>Практика Кофе</td>\n",
       "      <td>кофейня</td>\n",
       "      <td>Москва, Чонгарский бульвар, 26А, корп. 1</td>\n",
       "      <td>Юго-Западный административный округ</td>\n",
       "      <td>пн-пт 08:00–22:00; сб,вс 09:00–22:00</td>\n",
       "      <td>4.4</td>\n",
       "      <td>0</td>\n",
       "      <td>55.0</td>\n",
       "      <td>NaN</td>\n",
       "      <td>NaN</td>\n",
       "      <td>NaN</td>\n",
       "      <td>NaN</td>\n",
       "    </tr>\n",
       "    <tr>\n",
       "      <th>8401</th>\n",
       "      <td>0342ad1a45ed41ba89dcba246a8267e5</td>\n",
       "      <td>Суши Мания</td>\n",
       "      <td>кафе</td>\n",
       "      <td>Москва, Профсоюзная улица, 56</td>\n",
       "      <td>Юго-Западный административный округ</td>\n",
       "      <td>ежедневно, 09:00–02:00</td>\n",
       "      <td>4.4</td>\n",
       "      <td>0</td>\n",
       "      <td>86.0</td>\n",
       "      <td>NaN</td>\n",
       "      <td>NaN</td>\n",
       "      <td>NaN</td>\n",
       "      <td>NaN</td>\n",
       "    </tr>\n",
       "    <tr>\n",
       "      <th>8402</th>\n",
       "      <td>ee6bb7c3650e47bd8186fca08eda1091</td>\n",
       "      <td>Миславнес</td>\n",
       "      <td>кафе</td>\n",
       "      <td>Москва, Пролетарский проспект, 19, корп. 1</td>\n",
       "      <td>Южный административный округ</td>\n",
       "      <td>ежедневно, 08:00–22:00</td>\n",
       "      <td>4.8</td>\n",
       "      <td>0</td>\n",
       "      <td>150.0</td>\n",
       "      <td>NaN</td>\n",
       "      <td>NaN</td>\n",
       "      <td>NaN</td>\n",
       "      <td>NaN</td>\n",
       "    </tr>\n",
       "    <tr>\n",
       "      <th>8404</th>\n",
       "      <td>06a0db5ecd4842d48cd6350aa923e297</td>\n",
       "      <td>Чайхана Sabr</td>\n",
       "      <td>кафе</td>\n",
       "      <td>Москва, Люблинская улица, 112А, стр. 1</td>\n",
       "      <td>Юго-Восточный административный округ</td>\n",
       "      <td>ежедневно, круглосуточно</td>\n",
       "      <td>4.2</td>\n",
       "      <td>1</td>\n",
       "      <td>150.0</td>\n",
       "      <td>NaN</td>\n",
       "      <td>NaN</td>\n",
       "      <td>NaN</td>\n",
       "      <td>NaN</td>\n",
       "    </tr>\n",
       "    <tr>\n",
       "      <th>8405</th>\n",
       "      <td>9d56f8f7a7f74df1a925bc0fd2de8aae</td>\n",
       "      <td>Kebab Time</td>\n",
       "      <td>кафе</td>\n",
       "      <td>Москва, Россошанский проезд, 6</td>\n",
       "      <td>Южный административный округ</td>\n",
       "      <td>ежедневно, круглосуточно</td>\n",
       "      <td>3.9</td>\n",
       "      <td>0</td>\n",
       "      <td>12.0</td>\n",
       "      <td>NaN</td>\n",
       "      <td>NaN</td>\n",
       "      <td>NaN</td>\n",
       "      <td>NaN</td>\n",
       "    </tr>\n",
       "  </tbody>\n",
       "</table>\n",
       "<p>4590 rows × 13 columns</p>\n",
       "</div>"
      ],
      "text/plain": [
       "                                    id           name  category  \\\n",
       "0     0c3e3439a8c64ea5bf6ecd6ca6ae19f0         WoWфли      кафе   \n",
       "5     8a343546b24e4a499ad96eb7d0797a8a   Sergio Pizza  пиццерия   \n",
       "11    53ac103717c142f29907080db1f0ce58    Шашлык Шефф      кафе   \n",
       "13    aea18265b0a0415893f1e796b82568fe        Буханка  булочная   \n",
       "19    feec6bedccae44cb877d99c13f9aa5d7        Пекарня  булочная   \n",
       "...                                ...            ...       ...   \n",
       "8400  7f54f18753414d97abdddea3a2a48511  Практика Кофе   кофейня   \n",
       "8401  0342ad1a45ed41ba89dcba246a8267e5     Суши Мания      кафе   \n",
       "8402  ee6bb7c3650e47bd8186fca08eda1091      Миславнес      кафе   \n",
       "8404  06a0db5ecd4842d48cd6350aa923e297   Чайхана Sabr      кафе   \n",
       "8405  9d56f8f7a7f74df1a925bc0fd2de8aae     Kebab Time      кафе   \n",
       "\n",
       "                                         address  \\\n",
       "0                     Москва, улица Дыбенко, 7/1   \n",
       "5                   Москва, Ижорская улица, вл8Б   \n",
       "11         Москва, улица Маршала Федоренко, 10с1   \n",
       "13          Москва, Базовская улица, 15, корп. 1   \n",
       "19                    Москва, Ижорский проезд, 5   \n",
       "...                                          ...   \n",
       "8400    Москва, Чонгарский бульвар, 26А, корп. 1   \n",
       "8401               Москва, Профсоюзная улица, 56   \n",
       "8402  Москва, Пролетарский проспект, 19, корп. 1   \n",
       "8404      Москва, Люблинская улица, 112А, стр. 1   \n",
       "8405              Москва, Россошанский проезд, 6   \n",
       "\n",
       "                                  district  \\\n",
       "0          Северный административный округ   \n",
       "5          Северный административный округ   \n",
       "11         Северный административный округ   \n",
       "13         Северный административный округ   \n",
       "19         Северный административный округ   \n",
       "...                                    ...   \n",
       "8400   Юго-Западный административный округ   \n",
       "8401   Юго-Западный административный округ   \n",
       "8402          Южный административный округ   \n",
       "8404  Юго-Восточный административный округ   \n",
       "8405          Южный административный округ   \n",
       "\n",
       "                                     hours  rating  chain  seats    price  \\\n",
       "0                   ежедневно, 10:00–22:00     5.0      0    NaN      NaN   \n",
       "5                   ежедневно, 10:00–23:00     4.6      0    NaN  средние   \n",
       "11                  ежедневно, 10:00–21:00     4.9      0    NaN      NaN   \n",
       "13                  ежедневно, 08:00–22:00     4.8      1  180.0      NaN   \n",
       "19                ежедневно, круглосуточно     4.4      1    NaN      NaN   \n",
       "...                                    ...     ...    ...    ...      ...   \n",
       "8400  пн-пт 08:00–22:00; сб,вс 09:00–22:00     4.4      0   55.0      NaN   \n",
       "8401                ежедневно, 09:00–02:00     4.4      0   86.0      NaN   \n",
       "8402                ежедневно, 08:00–22:00     4.8      0  150.0      NaN   \n",
       "8404              ежедневно, круглосуточно     4.2      1  150.0      NaN   \n",
       "8405              ежедневно, круглосуточно     3.9      0   12.0      NaN   \n",
       "\n",
       "     avg_bill  middle_avg_bill  middle_coffee_cup  \n",
       "0         NaN              NaN                NaN  \n",
       "5         NaN              NaN                NaN  \n",
       "11        NaN              NaN                NaN  \n",
       "13        NaN              NaN                NaN  \n",
       "19        NaN              NaN                NaN  \n",
       "...       ...              ...                ...  \n",
       "8400      NaN              NaN                NaN  \n",
       "8401      NaN              NaN                NaN  \n",
       "8402      NaN              NaN                NaN  \n",
       "8404      NaN              NaN                NaN  \n",
       "8405      NaN              NaN                NaN  \n",
       "\n",
       "[4590 rows x 13 columns]"
      ]
     },
     "execution_count": 20,
     "metadata": {},
     "output_type": "execute_result"
    }
   ],
   "source": [
    "# Выведем строки с пропусками в столбце 'avg_bill'\n",
    "rest_df[rest_df['avg_bill'].isna()]"
   ]
  },
  {
   "cell_type": "markdown",
   "id": "cdb141db",
   "metadata": {
    "id": "b52bae9a"
   },
   "source": [
    "Выгрузка также не показала взаимосвязь пропусков с другими столбцами. Для данного столбца заменим пропуски на пустую строку."
   ]
  },
  {
   "cell_type": "markdown",
   "id": "f1d329cc",
   "metadata": {},
   "source": [
    "Пропуски в столбцах `middle_avg_bill` и `middle_coffee_cup` связаны с пропусками в столбце `avg_bill`, поскольку значения в столбцах `middle_avg_bill` и `middle_coffee_cup` отражают значения из столбца `avg_bill`."
   ]
  },
  {
   "cell_type": "markdown",
   "id": "36c8876b",
   "metadata": {},
   "source": [
    "Далее проверим столбцы без пропусков на наличие значений-индикаторов. Для этого выведем количество уникальных значений для столбцов `id`, `name`, и `address`. "
   ]
  },
  {
   "cell_type": "code",
   "execution_count": 21,
   "id": "a642dca6",
   "metadata": {},
   "outputs": [
    {
     "name": "stdout",
     "output_type": "stream",
     "text": [
      "Уникальные значения в столбце id:\n",
      "8406\n",
      "\n",
      "Уникальные значения в столбце name:\n",
      "5614\n",
      "\n",
      "Уникальные значения в столбце address:\n",
      "5753\n",
      "\n"
     ]
    }
   ],
   "source": [
    "# Выведем количество уникадбных значений для столбцов 'id', 'name', 'address'\n",
    "for column in ['id', 'name', 'address']:\n",
    "    print(f'Уникальные значения в столбце {column}:')\n",
    "    print(rest_df[column].sort_values().nunique())\n",
    "    print()"
   ]
  },
  {
   "cell_type": "markdown",
   "id": "ff9bfdcb",
   "metadata": {},
   "source": [
    "Количество уникальных значений в столбце `id` соответствует количеству строк датафрейма, что свидетельствует об отсутствии значений-индикаторов.\n",
    "\n",
    "Количество уникальных значений в столбцах `name` и `address` не соответствуют количеству уникальных строк в датафрейме, что может свидетельствовать о значениях-индикаторах. Чтобы это проверить дополнительно выведем группировку строк по данным столбцам с помощью метода `value_counts`."
   ]
  },
  {
   "cell_type": "code",
   "execution_count": 22,
   "id": "2f2bd424",
   "metadata": {},
   "outputs": [
    {
     "data": {
      "text/plain": [
       "Кафе                    189\n",
       "Шоколадница             120\n",
       "Домино'с Пицца           76\n",
       "Додо Пицца               74\n",
       "One Price Coffee         71\n",
       "                       ... \n",
       "Шантимэль                 1\n",
       "Food Way                  1\n",
       "МореМоре                  1\n",
       "Lori Bar                  1\n",
       "Меркурий СтройСервис      1\n",
       "Name: name, Length: 5614, dtype: int64"
      ]
     },
     "execution_count": 22,
     "metadata": {},
     "output_type": "execute_result"
    }
   ],
   "source": [
    "# Выведем уникальные значения для столбца name\n",
    "rest_df['name'].value_counts()"
   ]
  },
  {
   "cell_type": "code",
   "execution_count": 23,
   "id": "c31c0aa9",
   "metadata": {},
   "outputs": [
    {
     "data": {
      "text/plain": [
       "Москва, проспект Вернадского, 86В               28\n",
       "Москва, Усачёва улица, 26                       26\n",
       "Москва, Ярцевская улица, 19                     20\n",
       "Москва, площадь Киевского Вокзала, 2            20\n",
       "Москва, проспект Мира, 211к2                    16\n",
       "                                                ..\n",
       "Москва, Люблинская улица, 10с4                   1\n",
       "Москва, улица Архитектора Щусева, 2, корп. 1     1\n",
       "Москва, улица Паустовского, 6, корп. 1           1\n",
       "Москва, Ленинградский проспект, 80, корп. 46     1\n",
       "Москва, улица Перерва, 32                        1\n",
       "Name: address, Length: 5753, dtype: int64"
      ]
     },
     "execution_count": 23,
     "metadata": {},
     "output_type": "execute_result"
    }
   ],
   "source": [
    "# Выведем уникальные значения для столбца address\n",
    "rest_df['address'].value_counts()"
   ]
  },
  {
   "cell_type": "markdown",
   "id": "67947aa0",
   "metadata": {},
   "source": [
    "Как видно из выгрузки, значения-индикаторы отсутствуют. Повторяющиеся значения в столбце `name` могут быть связаны с тем, что заведение является сетевым, в столбце `address` с тем, что заведения располагаются по одному адресу, например, в фуд-кортах или торговых центрах."
   ]
  },
  {
   "cell_type": "markdown",
   "id": "257425ef",
   "metadata": {},
   "source": [
    "Далее проверим уникальные значения для столбцов `category`, `district`, `chain`. Для этого с помощью метода sort_values() выведем уникальные значения по данным столбцам."
   ]
  },
  {
   "cell_type": "code",
   "execution_count": 24,
   "id": "4a285358",
   "metadata": {},
   "outputs": [
    {
     "name": "stdout",
     "output_type": "stream",
     "text": [
      "Уникальные значения в столбце category:\n",
      "['бар,паб' 'булочная' 'быстрое питание' 'кафе' 'кофейня' 'пиццерия'\n",
      " 'ресторан' 'столовая']\n",
      "\n",
      "Уникальные значения в столбце district:\n",
      "['Восточный административный округ' 'Западный административный округ'\n",
      " 'Северный административный округ'\n",
      " 'Северо-Восточный административный округ'\n",
      " 'Северо-Западный административный округ'\n",
      " 'Центральный административный округ'\n",
      " 'Юго-Восточный административный округ'\n",
      " 'Юго-Западный административный округ' 'Южный административный округ']\n",
      "\n",
      "Уникальные значения в столбце chain:\n",
      "[0 1]\n",
      "\n"
     ]
    }
   ],
   "source": [
    "# Проверяем уникальные значения в столбцах 'category', 'district', 'chain'\n",
    "for column in ['category', 'district', 'chain']:\n",
    "    print(f'Уникальные значения в столбце {column}:')\n",
    "    print(rest_df[column].sort_values().unique())\n",
    "    print()"
   ]
  },
  {
   "cell_type": "markdown",
   "id": "e91acb4e",
   "metadata": {},
   "source": [
    "Все значения выглядят корректными, значений-индикаторов не выявлено."
   ]
  },
  {
   "cell_type": "markdown",
   "id": "6c7e3840",
   "metadata": {},
   "source": [
    "Далее заменим пропуски в столбце `middle_coffee_cup` на значение-индикатор -1. Данный индикатор является оптимальным т.к.  средняя цена одной чашки капучино не может быть отрицательной.\n",
    "\n",
    "Также вместе с этим приведём значения для данного столбца к формату `integer` с оптимальной разрядностью."
   ]
  },
  {
   "cell_type": "code",
   "execution_count": 25,
   "id": "51957c16",
   "metadata": {},
   "outputs": [],
   "source": [
    "#Заменим пропуски на -1, скорректируем формат на 'integer'\n",
    "for column in ['middle_coffee_cup']:\n",
    "    rest_df[column]=rest_df[column].fillna(-1)\n",
    "    rest_df[column] = pd.to_numeric(rest_df[column], downcast='integer')"
   ]
  },
  {
   "cell_type": "markdown",
   "id": "9a3ef934",
   "metadata": {},
   "source": [
    "Далее заменим пропуски в столбцах `hours`, `price`, `avg_bill`. Поскольку данные столбца содержат данные типа `object`, оптимально будет заменить пустые значения на пустые строки."
   ]
  },
  {
   "cell_type": "code",
   "execution_count": 26,
   "id": "41ebda8c",
   "metadata": {},
   "outputs": [],
   "source": [
    "#Заменим пропуски на пустую строку\n",
    "for column in ['price','hours', 'avg_bill']:\n",
    "    rest_df[column]=rest_df[column].fillna(\"\")"
   ]
  },
  {
   "cell_type": "markdown",
   "id": "2d142d9a",
   "metadata": {},
   "source": [
    "После всех преобразований снова выведем количество пропусков в датафрейме, а также общую информацию для проверки формата данных для каждого столбца. "
   ]
  },
  {
   "cell_type": "code",
   "execution_count": 27,
   "id": "947aa160",
   "metadata": {},
   "outputs": [
    {
     "data": {
      "text/plain": [
       "id                      0\n",
       "name                    0\n",
       "category                0\n",
       "address                 0\n",
       "district                0\n",
       "hours                   0\n",
       "rating                  0\n",
       "chain                   0\n",
       "seats                3611\n",
       "price                   0\n",
       "avg_bill                0\n",
       "middle_avg_bill      5257\n",
       "middle_coffee_cup       0\n",
       "dtype: int64"
      ]
     },
     "execution_count": 27,
     "metadata": {},
     "output_type": "execute_result"
    }
   ],
   "source": [
    "# Выводим количество пропусков в датафрейме\n",
    "rest_df.isna().sum()"
   ]
  },
  {
   "cell_type": "code",
   "execution_count": 28,
   "id": "8aae6b71",
   "metadata": {},
   "outputs": [
    {
     "name": "stdout",
     "output_type": "stream",
     "text": [
      "<class 'pandas.core.frame.DataFrame'>\n",
      "Int64Index: 8406 entries, 0 to 8405\n",
      "Data columns (total 13 columns):\n",
      " #   Column             Non-Null Count  Dtype  \n",
      "---  ------             --------------  -----  \n",
      " 0   id                 8406 non-null   object \n",
      " 1   name               8406 non-null   object \n",
      " 2   category           8406 non-null   object \n",
      " 3   address            8406 non-null   object \n",
      " 4   district           8406 non-null   object \n",
      " 5   hours              8406 non-null   object \n",
      " 6   rating             8406 non-null   float32\n",
      " 7   chain              8406 non-null   int8   \n",
      " 8   seats              4795 non-null   float32\n",
      " 9   price              8406 non-null   object \n",
      " 10  avg_bill           8406 non-null   object \n",
      " 11  middle_avg_bill    3149 non-null   float32\n",
      " 12  middle_coffee_cup  8406 non-null   int16  \n",
      "dtypes: float32(3), int16(1), int8(1), object(8)\n",
      "memory usage: 714.2+ KB\n"
     ]
    }
   ],
   "source": [
    "# Выводим общую информацию о датафрейме\n",
    "rest_df.info()"
   ]
  },
  {
   "cell_type": "markdown",
   "id": "fe07bfbe",
   "metadata": {},
   "source": [
    "Как видно из выгрузки пропуски в стобцах `hours`, `price`, `avg_bill` и `middle_coffee_cup` были заменены на значения-индикаторы. Также для столбца `middle_coffee_cup` данные были приведены к формату `integer` с оптимальной разрядностью. Пропуски в столбцах `seats` и `middle_avg_bill` были сохранены, чтобы не исказить данные при последующем исследовательском анализе данных."
   ]
  },
  {
   "cell_type": "markdown",
   "id": "c55e9f62",
   "metadata": {},
   "source": [
    "### 2.3 Выявление явных и неявных дубликатов в данных\n",
    "\n",
    "В данном подразделе проверим данные на явные и неявные дубликаты, в том числе поля с названием и адресом заведения."
   ]
  },
  {
   "cell_type": "markdown",
   "id": "2afb2d0c",
   "metadata": {},
   "source": [
    "На начальном этапе для оптимизации проверки нормализуем данные в текстовых столбцах, в том числе в столбцах name, address, hours, price, avg_bill. Для этого приведём значения в строках к нижнему регистру с помощью метода str.lower(). Также в данных столбцах удалим лишние пробелы с помощью метода str.strip()."
   ]
  },
  {
   "cell_type": "code",
   "execution_count": 29,
   "id": "d2452dc8",
   "metadata": {},
   "outputs": [],
   "source": [
    "# Удалим лишние пробелы в текстовых столбцах\n",
    "for column in ['name', 'address', 'hours', 'price', 'avg_bill']:\n",
    "    rest_df[column]=rest_df[column].str.upper()\n",
    "    rest_df[column]=rest_df[column].str.strip()"
   ]
  },
  {
   "cell_type": "markdown",
   "id": "4b12fd01",
   "metadata": {},
   "source": [
    "Проверим изменения после проведённых преобразований."
   ]
  },
  {
   "cell_type": "code",
   "execution_count": 30,
   "id": "c83757ac",
   "metadata": {},
   "outputs": [
    {
     "data": {
      "text/html": [
       "<div>\n",
       "<style scoped>\n",
       "    .dataframe tbody tr th:only-of-type {\n",
       "        vertical-align: middle;\n",
       "    }\n",
       "\n",
       "    .dataframe tbody tr th {\n",
       "        vertical-align: top;\n",
       "    }\n",
       "\n",
       "    .dataframe thead th {\n",
       "        text-align: right;\n",
       "    }\n",
       "</style>\n",
       "<table border=\"1\" class=\"dataframe\">\n",
       "  <thead>\n",
       "    <tr style=\"text-align: right;\">\n",
       "      <th></th>\n",
       "      <th>id</th>\n",
       "      <th>name</th>\n",
       "      <th>category</th>\n",
       "      <th>address</th>\n",
       "      <th>district</th>\n",
       "      <th>hours</th>\n",
       "      <th>rating</th>\n",
       "      <th>chain</th>\n",
       "      <th>seats</th>\n",
       "      <th>price</th>\n",
       "      <th>avg_bill</th>\n",
       "      <th>middle_avg_bill</th>\n",
       "      <th>middle_coffee_cup</th>\n",
       "    </tr>\n",
       "  </thead>\n",
       "  <tbody>\n",
       "    <tr>\n",
       "      <th>0</th>\n",
       "      <td>0c3e3439a8c64ea5bf6ecd6ca6ae19f0</td>\n",
       "      <td>WOWФЛИ</td>\n",
       "      <td>кафе</td>\n",
       "      <td>МОСКВА, УЛИЦА ДЫБЕНКО, 7/1</td>\n",
       "      <td>Северный административный округ</td>\n",
       "      <td>ЕЖЕДНЕВНО, 10:00–22:00</td>\n",
       "      <td>5.0</td>\n",
       "      <td>0</td>\n",
       "      <td>NaN</td>\n",
       "      <td></td>\n",
       "      <td></td>\n",
       "      <td>NaN</td>\n",
       "      <td>-1</td>\n",
       "    </tr>\n",
       "    <tr>\n",
       "      <th>1</th>\n",
       "      <td>045780ada3474c57a2112e505d74b633</td>\n",
       "      <td>ЧЕТЫРЕ КОМНАТЫ</td>\n",
       "      <td>ресторан</td>\n",
       "      <td>МОСКВА, УЛИЦА ДЫБЕНКО, 36, КОРП. 1</td>\n",
       "      <td>Северный административный округ</td>\n",
       "      <td>ЕЖЕДНЕВНО, 10:00–22:00</td>\n",
       "      <td>4.5</td>\n",
       "      <td>0</td>\n",
       "      <td>4.0</td>\n",
       "      <td>ВЫШЕ СРЕДНЕГО</td>\n",
       "      <td>СРЕДНИЙ СЧЁТ:1500–1600 ₽</td>\n",
       "      <td>1550.0</td>\n",
       "      <td>-1</td>\n",
       "    </tr>\n",
       "    <tr>\n",
       "      <th>2</th>\n",
       "      <td>1070b6b59144425896c65889347fcff6</td>\n",
       "      <td>ХАЗРИ</td>\n",
       "      <td>кафе</td>\n",
       "      <td>МОСКВА, КЛЯЗЬМИНСКАЯ УЛИЦА, 15</td>\n",
       "      <td>Северный административный округ</td>\n",
       "      <td>ПН-ЧТ 11:00–02:00; ПТ,СБ 11:00–05:00; ВС 11:00...</td>\n",
       "      <td>4.6</td>\n",
       "      <td>0</td>\n",
       "      <td>45.0</td>\n",
       "      <td>СРЕДНИЕ</td>\n",
       "      <td>СРЕДНИЙ СЧЁТ:ОТ 1000 ₽</td>\n",
       "      <td>1000.0</td>\n",
       "      <td>-1</td>\n",
       "    </tr>\n",
       "    <tr>\n",
       "      <th>3</th>\n",
       "      <td>03ac7cd772104f65b58b349dc59f03ee</td>\n",
       "      <td>DORMOUSE COFFEE SHOP</td>\n",
       "      <td>кофейня</td>\n",
       "      <td>МОСКВА, УЛИЦА МАРШАЛА ФЕДОРЕНКО, 12</td>\n",
       "      <td>Северный административный округ</td>\n",
       "      <td>ЕЖЕДНЕВНО, 09:00–22:00</td>\n",
       "      <td>5.0</td>\n",
       "      <td>0</td>\n",
       "      <td>NaN</td>\n",
       "      <td></td>\n",
       "      <td>ЦЕНА ЧАШКИ КАПУЧИНО:155–185 ₽</td>\n",
       "      <td>NaN</td>\n",
       "      <td>170</td>\n",
       "    </tr>\n",
       "    <tr>\n",
       "      <th>4</th>\n",
       "      <td>a163aada139c4c7f87b0b1c0b466a50f</td>\n",
       "      <td>ИЛЬ МАРКО</td>\n",
       "      <td>пиццерия</td>\n",
       "      <td>МОСКВА, ПРАВОБЕРЕЖНАЯ УЛИЦА, 1Б</td>\n",
       "      <td>Северный административный округ</td>\n",
       "      <td>ЕЖЕДНЕВНО, 10:00–22:00</td>\n",
       "      <td>5.0</td>\n",
       "      <td>1</td>\n",
       "      <td>148.0</td>\n",
       "      <td>СРЕДНИЕ</td>\n",
       "      <td>СРЕДНИЙ СЧЁТ:400–600 ₽</td>\n",
       "      <td>500.0</td>\n",
       "      <td>-1</td>\n",
       "    </tr>\n",
       "  </tbody>\n",
       "</table>\n",
       "</div>"
      ],
      "text/plain": [
       "                                 id                  name  category  \\\n",
       "0  0c3e3439a8c64ea5bf6ecd6ca6ae19f0                WOWФЛИ      кафе   \n",
       "1  045780ada3474c57a2112e505d74b633        ЧЕТЫРЕ КОМНАТЫ  ресторан   \n",
       "2  1070b6b59144425896c65889347fcff6                 ХАЗРИ      кафе   \n",
       "3  03ac7cd772104f65b58b349dc59f03ee  DORMOUSE COFFEE SHOP   кофейня   \n",
       "4  a163aada139c4c7f87b0b1c0b466a50f             ИЛЬ МАРКО  пиццерия   \n",
       "\n",
       "                               address                         district  \\\n",
       "0           МОСКВА, УЛИЦА ДЫБЕНКО, 7/1  Северный административный округ   \n",
       "1   МОСКВА, УЛИЦА ДЫБЕНКО, 36, КОРП. 1  Северный административный округ   \n",
       "2       МОСКВА, КЛЯЗЬМИНСКАЯ УЛИЦА, 15  Северный административный округ   \n",
       "3  МОСКВА, УЛИЦА МАРШАЛА ФЕДОРЕНКО, 12  Северный административный округ   \n",
       "4      МОСКВА, ПРАВОБЕРЕЖНАЯ УЛИЦА, 1Б  Северный административный округ   \n",
       "\n",
       "                                               hours  rating  chain  seats  \\\n",
       "0                             ЕЖЕДНЕВНО, 10:00–22:00     5.0      0    NaN   \n",
       "1                             ЕЖЕДНЕВНО, 10:00–22:00     4.5      0    4.0   \n",
       "2  ПН-ЧТ 11:00–02:00; ПТ,СБ 11:00–05:00; ВС 11:00...     4.6      0   45.0   \n",
       "3                             ЕЖЕДНЕВНО, 09:00–22:00     5.0      0    NaN   \n",
       "4                             ЕЖЕДНЕВНО, 10:00–22:00     5.0      1  148.0   \n",
       "\n",
       "           price                       avg_bill  middle_avg_bill  \\\n",
       "0                                                            NaN   \n",
       "1  ВЫШЕ СРЕДНЕГО       СРЕДНИЙ СЧЁТ:1500–1600 ₽           1550.0   \n",
       "2        СРЕДНИЕ         СРЕДНИЙ СЧЁТ:ОТ 1000 ₽           1000.0   \n",
       "3                 ЦЕНА ЧАШКИ КАПУЧИНО:155–185 ₽              NaN   \n",
       "4        СРЕДНИЕ         СРЕДНИЙ СЧЁТ:400–600 ₽            500.0   \n",
       "\n",
       "   middle_coffee_cup  \n",
       "0                 -1  \n",
       "1                 -1  \n",
       "2                 -1  \n",
       "3                170  \n",
       "4                 -1  "
      ]
     },
     "execution_count": 30,
     "metadata": {},
     "output_type": "execute_result"
    }
   ],
   "source": [
    "#Выведем первые строки после проведённых преобразований\n",
    "rest_df.head()"
   ]
  },
  {
   "cell_type": "markdown",
   "id": "0d1a5093",
   "metadata": {},
   "source": [
    "Выявим явные дубликаты в датафрейме с помощью метода `duplicated()`."
   ]
  },
  {
   "cell_type": "code",
   "execution_count": 31,
   "id": "15c0d1be",
   "metadata": {},
   "outputs": [
    {
     "data": {
      "text/plain": [
       "0"
      ]
     },
     "execution_count": 31,
     "metadata": {},
     "output_type": "execute_result"
    }
   ],
   "source": [
    "# Проверяем полные дубликаты в датафрейме rest_df\n",
    "rest_df.duplicated().sum()"
   ]
  },
  {
   "cell_type": "markdown",
   "id": "006e6782",
   "metadata": {},
   "source": [
    "Явных полных дубликатов не выявлено."
   ]
  },
  {
   "cell_type": "markdown",
   "id": "9268f74d",
   "metadata": {},
   "source": [
    "Проверим датафрейм на совпадение названия и адреса заведения."
   ]
  },
  {
   "cell_type": "code",
   "execution_count": 32,
   "id": "252066ec",
   "metadata": {},
   "outputs": [
    {
     "data": {
      "text/html": [
       "<div>\n",
       "<style scoped>\n",
       "    .dataframe tbody tr th:only-of-type {\n",
       "        vertical-align: middle;\n",
       "    }\n",
       "\n",
       "    .dataframe tbody tr th {\n",
       "        vertical-align: top;\n",
       "    }\n",
       "\n",
       "    .dataframe thead th {\n",
       "        text-align: right;\n",
       "    }\n",
       "</style>\n",
       "<table border=\"1\" class=\"dataframe\">\n",
       "  <thead>\n",
       "    <tr style=\"text-align: right;\">\n",
       "      <th></th>\n",
       "      <th>id</th>\n",
       "      <th>name</th>\n",
       "      <th>category</th>\n",
       "      <th>address</th>\n",
       "      <th>district</th>\n",
       "      <th>hours</th>\n",
       "      <th>rating</th>\n",
       "      <th>chain</th>\n",
       "      <th>seats</th>\n",
       "      <th>price</th>\n",
       "      <th>avg_bill</th>\n",
       "      <th>middle_avg_bill</th>\n",
       "      <th>middle_coffee_cup</th>\n",
       "    </tr>\n",
       "  </thead>\n",
       "  <tbody>\n",
       "    <tr>\n",
       "      <th>189</th>\n",
       "      <td>072032ce16dc47bfbc63b672c75bd371</td>\n",
       "      <td>КАФЕ</td>\n",
       "      <td>кафе</td>\n",
       "      <td>МОСКВА, ПАРК АНГАРСКИЕ ПРУДЫ</td>\n",
       "      <td>Северный административный округ</td>\n",
       "      <td>ЕЖЕДНЕВНО, 09:00–23:00</td>\n",
       "      <td>3.2</td>\n",
       "      <td>0</td>\n",
       "      <td>NaN</td>\n",
       "      <td></td>\n",
       "      <td></td>\n",
       "      <td>NaN</td>\n",
       "      <td>-1</td>\n",
       "    </tr>\n",
       "    <tr>\n",
       "      <th>215</th>\n",
       "      <td>897ddbc6746c4388b19dc8a9fcdbb488</td>\n",
       "      <td>КАФЕ</td>\n",
       "      <td>кафе</td>\n",
       "      <td>МОСКВА, ПАРК АНГАРСКИЕ ПРУДЫ</td>\n",
       "      <td>Северный административный округ</td>\n",
       "      <td>ЕЖЕДНЕВНО, 10:00–22:00</td>\n",
       "      <td>3.2</td>\n",
       "      <td>0</td>\n",
       "      <td>NaN</td>\n",
       "      <td></td>\n",
       "      <td></td>\n",
       "      <td>NaN</td>\n",
       "      <td>-1</td>\n",
       "    </tr>\n",
       "    <tr>\n",
       "      <th>1430</th>\n",
       "      <td>62608690e9cc464fbcd980cfd552e334</td>\n",
       "      <td>MORE POKE</td>\n",
       "      <td>ресторан</td>\n",
       "      <td>МОСКВА, ВОЛОКОЛАМСКОЕ ШОССЕ, 11, СТР. 2</td>\n",
       "      <td>Северный административный округ</td>\n",
       "      <td>ЕЖЕДНЕВНО, 09:00–21:00</td>\n",
       "      <td>4.2</td>\n",
       "      <td>0</td>\n",
       "      <td>188.0</td>\n",
       "      <td></td>\n",
       "      <td></td>\n",
       "      <td>NaN</td>\n",
       "      <td>-1</td>\n",
       "    </tr>\n",
       "    <tr>\n",
       "      <th>1511</th>\n",
       "      <td>a69f018d5c064873a3b491b0121bc1b4</td>\n",
       "      <td>MORE POKE</td>\n",
       "      <td>ресторан</td>\n",
       "      <td>МОСКВА, ВОЛОКОЛАМСКОЕ ШОССЕ, 11, СТР. 2</td>\n",
       "      <td>Северный административный округ</td>\n",
       "      <td>ПН-ЧТ 09:00–18:00; ПТ,СБ 09:00–21:00; ВС 09:00...</td>\n",
       "      <td>4.2</td>\n",
       "      <td>1</td>\n",
       "      <td>188.0</td>\n",
       "      <td></td>\n",
       "      <td></td>\n",
       "      <td>NaN</td>\n",
       "      <td>-1</td>\n",
       "    </tr>\n",
       "    <tr>\n",
       "      <th>2211</th>\n",
       "      <td>c6ef39ae8a8c483d8f9a6531bc386a2c</td>\n",
       "      <td>РАКОВАРНЯ КЛЕШНИ И ХВОСТЫ</td>\n",
       "      <td>ресторан</td>\n",
       "      <td>МОСКВА, ПРОСПЕКТ МИРА, 118</td>\n",
       "      <td>Северо-Восточный административный округ</td>\n",
       "      <td>ЕЖЕДНЕВНО, 12:00–00:00</td>\n",
       "      <td>4.4</td>\n",
       "      <td>0</td>\n",
       "      <td>150.0</td>\n",
       "      <td></td>\n",
       "      <td></td>\n",
       "      <td>NaN</td>\n",
       "      <td>-1</td>\n",
       "    </tr>\n",
       "    <tr>\n",
       "      <th>2420</th>\n",
       "      <td>aba1de7ad7d64ac0a3f8684bda29d905</td>\n",
       "      <td>РАКОВАРНЯ КЛЕШНИ И ХВОСТЫ</td>\n",
       "      <td>бар,паб</td>\n",
       "      <td>МОСКВА, ПРОСПЕКТ МИРА, 118</td>\n",
       "      <td>Северо-Восточный административный округ</td>\n",
       "      <td>ПН-ЧТ 12:00–00:00; ПТ,СБ 12:00–01:00; ВС 12:00...</td>\n",
       "      <td>4.4</td>\n",
       "      <td>1</td>\n",
       "      <td>150.0</td>\n",
       "      <td></td>\n",
       "      <td></td>\n",
       "      <td>NaN</td>\n",
       "      <td>-1</td>\n",
       "    </tr>\n",
       "    <tr>\n",
       "      <th>3091</th>\n",
       "      <td>3c2a73ea79a04be48858fab3685f2f37</td>\n",
       "      <td>ХЛЕБ ДА ВЫПЕЧКА</td>\n",
       "      <td>булочная</td>\n",
       "      <td>МОСКВА, ЯРЦЕВСКАЯ УЛИЦА, 19</td>\n",
       "      <td>Западный административный округ</td>\n",
       "      <td>ЕЖЕДНЕВНО, 09:00–22:00</td>\n",
       "      <td>4.1</td>\n",
       "      <td>1</td>\n",
       "      <td>276.0</td>\n",
       "      <td></td>\n",
       "      <td></td>\n",
       "      <td>NaN</td>\n",
       "      <td>-1</td>\n",
       "    </tr>\n",
       "    <tr>\n",
       "      <th>3109</th>\n",
       "      <td>d3116844e4e048f99614eb30be3214e0</td>\n",
       "      <td>ХЛЕБ ДА ВЫПЕЧКА</td>\n",
       "      <td>кафе</td>\n",
       "      <td>МОСКВА, ЯРЦЕВСКАЯ УЛИЦА, 19</td>\n",
       "      <td>Западный административный округ</td>\n",
       "      <td></td>\n",
       "      <td>4.1</td>\n",
       "      <td>0</td>\n",
       "      <td>276.0</td>\n",
       "      <td></td>\n",
       "      <td></td>\n",
       "      <td>NaN</td>\n",
       "      <td>-1</td>\n",
       "    </tr>\n",
       "  </tbody>\n",
       "</table>\n",
       "</div>"
      ],
      "text/plain": [
       "                                    id                       name  category  \\\n",
       "189   072032ce16dc47bfbc63b672c75bd371                       КАФЕ      кафе   \n",
       "215   897ddbc6746c4388b19dc8a9fcdbb488                       КАФЕ      кафе   \n",
       "1430  62608690e9cc464fbcd980cfd552e334                  MORE POKE  ресторан   \n",
       "1511  a69f018d5c064873a3b491b0121bc1b4                  MORE POKE  ресторан   \n",
       "2211  c6ef39ae8a8c483d8f9a6531bc386a2c  РАКОВАРНЯ КЛЕШНИ И ХВОСТЫ  ресторан   \n",
       "2420  aba1de7ad7d64ac0a3f8684bda29d905  РАКОВАРНЯ КЛЕШНИ И ХВОСТЫ   бар,паб   \n",
       "3091  3c2a73ea79a04be48858fab3685f2f37            ХЛЕБ ДА ВЫПЕЧКА  булочная   \n",
       "3109  d3116844e4e048f99614eb30be3214e0            ХЛЕБ ДА ВЫПЕЧКА      кафе   \n",
       "\n",
       "                                      address  \\\n",
       "189              МОСКВА, ПАРК АНГАРСКИЕ ПРУДЫ   \n",
       "215              МОСКВА, ПАРК АНГАРСКИЕ ПРУДЫ   \n",
       "1430  МОСКВА, ВОЛОКОЛАМСКОЕ ШОССЕ, 11, СТР. 2   \n",
       "1511  МОСКВА, ВОЛОКОЛАМСКОЕ ШОССЕ, 11, СТР. 2   \n",
       "2211               МОСКВА, ПРОСПЕКТ МИРА, 118   \n",
       "2420               МОСКВА, ПРОСПЕКТ МИРА, 118   \n",
       "3091              МОСКВА, ЯРЦЕВСКАЯ УЛИЦА, 19   \n",
       "3109              МОСКВА, ЯРЦЕВСКАЯ УЛИЦА, 19   \n",
       "\n",
       "                                     district  \\\n",
       "189           Северный административный округ   \n",
       "215           Северный административный округ   \n",
       "1430          Северный административный округ   \n",
       "1511          Северный административный округ   \n",
       "2211  Северо-Восточный административный округ   \n",
       "2420  Северо-Восточный административный округ   \n",
       "3091          Западный административный округ   \n",
       "3109          Западный административный округ   \n",
       "\n",
       "                                                  hours  rating  chain  seats  \\\n",
       "189                              ЕЖЕДНЕВНО, 09:00–23:00     3.2      0    NaN   \n",
       "215                              ЕЖЕДНЕВНО, 10:00–22:00     3.2      0    NaN   \n",
       "1430                             ЕЖЕДНЕВНО, 09:00–21:00     4.2      0  188.0   \n",
       "1511  ПН-ЧТ 09:00–18:00; ПТ,СБ 09:00–21:00; ВС 09:00...     4.2      1  188.0   \n",
       "2211                             ЕЖЕДНЕВНО, 12:00–00:00     4.4      0  150.0   \n",
       "2420  ПН-ЧТ 12:00–00:00; ПТ,СБ 12:00–01:00; ВС 12:00...     4.4      1  150.0   \n",
       "3091                             ЕЖЕДНЕВНО, 09:00–22:00     4.1      1  276.0   \n",
       "3109                                                        4.1      0  276.0   \n",
       "\n",
       "     price avg_bill  middle_avg_bill  middle_coffee_cup  \n",
       "189                              NaN                 -1  \n",
       "215                              NaN                 -1  \n",
       "1430                             NaN                 -1  \n",
       "1511                             NaN                 -1  \n",
       "2211                             NaN                 -1  \n",
       "2420                             NaN                 -1  \n",
       "3091                             NaN                 -1  \n",
       "3109                             NaN                 -1  "
      ]
     },
     "execution_count": 32,
     "metadata": {},
     "output_type": "execute_result"
    }
   ],
   "source": [
    "# Выведем дубликаты по столбцам 'name' и 'address'\n",
    "rest_df.loc[rest_df.duplicated(subset=['name','address'], keep=False)]"
   ]
  },
  {
   "cell_type": "markdown",
   "id": "f6fc9f0d",
   "metadata": {},
   "source": [
    "Как видно из выгрузки, выведены 4 пары дубликатов, у которых совпадает название и адрес заведения, при этом имеются различия в категории или графике работы.\n",
    "\n",
    "Удалим данные дубликаты с помощью метода `drop_duplicates`, сохранив первую встреченную запись для каждой пары."
   ]
  },
  {
   "cell_type": "code",
   "execution_count": 33,
   "id": "17b36f2d",
   "metadata": {},
   "outputs": [],
   "source": [
    "# Удалим дубликаты по столбцам name' и 'address'\n",
    "rest_df=rest_df.drop_duplicates(subset=['name','address'])"
   ]
  },
  {
   "cell_type": "markdown",
   "id": "872f1607",
   "metadata": {},
   "source": [
    "Для столбцов `category`, `district`, `chain` в предыдущем подразделе были выведены уникальные значения. Дубликатов вследствие опечаток выявлено не было."
   ]
  },
  {
   "cell_type": "markdown",
   "id": "9dd3e3b9",
   "metadata": {},
   "source": [
    "Выведем информацию о датафрейме после удаления обнаруженных дубликатов."
   ]
  },
  {
   "cell_type": "code",
   "execution_count": 34,
   "id": "69db11e3",
   "metadata": {},
   "outputs": [
    {
     "name": "stdout",
     "output_type": "stream",
     "text": [
      "<class 'pandas.core.frame.DataFrame'>\n",
      "Int64Index: 8402 entries, 0 to 8405\n",
      "Data columns (total 13 columns):\n",
      " #   Column             Non-Null Count  Dtype  \n",
      "---  ------             --------------  -----  \n",
      " 0   id                 8402 non-null   object \n",
      " 1   name               8402 non-null   object \n",
      " 2   category           8402 non-null   object \n",
      " 3   address            8402 non-null   object \n",
      " 4   district           8402 non-null   object \n",
      " 5   hours              8402 non-null   object \n",
      " 6   rating             8402 non-null   float32\n",
      " 7   chain              8402 non-null   int8   \n",
      " 8   seats              4792 non-null   float32\n",
      " 9   price              8402 non-null   object \n",
      " 10  avg_bill           8402 non-null   object \n",
      " 11  middle_avg_bill    3149 non-null   float32\n",
      " 12  middle_coffee_cup  8402 non-null   int16  \n",
      "dtypes: float32(3), int16(1), int8(1), object(8)\n",
      "memory usage: 713.8+ KB\n"
     ]
    }
   ],
   "source": [
    "# Выведем инфомарцию о датафрейме\n",
    "rest_df.info()"
   ]
  },
  {
   "cell_type": "markdown",
   "id": "ddebd418",
   "metadata": {},
   "source": [
    "Таким образом, число записей в датафрейме было сокращено с 8406 до 8402, было удалено 4 дублирующиеся записи."
   ]
  },
  {
   "cell_type": "markdown",
   "id": "4c0563f2",
   "metadata": {
    "id": "4c0563f2"
   },
   "source": [
    "### 2.4 Выведем новый столбец о круглосуточной работе заведений\n",
    "\n",
    "Для дальнейшей работы создадим столбец `is_24_7` с обозначением того, что заведение работает ежедневно и круглосуточно, то есть 24/7:\n",
    "  - логическое значение `True` — если заведение работает ежедневно и круглосуточно;\n",
    "  - логическое значение `False` — в противоположном случае."
   ]
  },
  {
   "cell_type": "markdown",
   "id": "875532e4",
   "metadata": {},
   "source": [
    "Вначале выведем все данные, в которых может содержаться информация о круглосуточной работе заведения с помощью метода `str.contains()`."
   ]
  },
  {
   "cell_type": "code",
   "execution_count": 35,
   "id": "d8a8a963",
   "metadata": {
    "id": "d8a8a963"
   },
   "outputs": [
    {
     "name": "stdout",
     "output_type": "stream",
     "text": [
      "                                    id                 name  category  \\\n",
      "10    ac32978af97641bfacf996e7f5a50ee5       GREAT ROOM BAR   бар,паб   \n",
      "17    b55465d0869648a295ad1d85ed9b5c4f   ЧАЙХАНА БЕШ-БАРМАК  ресторан   \n",
      "19    feec6bedccae44cb877d99c13f9aa5d7              ПЕКАРНЯ  булочная   \n",
      "24    0f5d22f5377340d0a81a9328e6ebdcac           DRIVE CAFÉ      кафе   \n",
      "49    a8bbd74669074068ab44bc567022ee27              2U-ТУ-Ю  пиццерия   \n",
      "...                                ...                  ...       ...   \n",
      "8394  03c53ed5236948179947b46b7338d18d            НАМАНГАЛЕ      кафе   \n",
      "8399  71cc394927204d45b81c3a91edb47955  ПЕКАРНЯ, КАФЕ-ГРИЛЬ  булочная   \n",
      "8403  62e8c64d4c89467aba608e39ef87616b              САМОВАР      кафе   \n",
      "8404  06a0db5ecd4842d48cd6350aa923e297         ЧАЙХАНА SABR      кафе   \n",
      "8405  9d56f8f7a7f74df1a925bc0fd2de8aae           KEBAB TIME      кафе   \n",
      "\n",
      "                                        address  \\\n",
      "10               МОСКВА, ЛЕВОБЕРЕЖНАЯ УЛИЦА, 12   \n",
      "17     МОСКВА, ЛЕНИНГРАДСКОЕ ШОССЕ, 71Б, СТР. 2   \n",
      "19                   МОСКВА, ИЖОРСКИЙ ПРОЕЗД, 5   \n",
      "24                  МОСКВА, УЛИЦА ДЫБЕНКО, 9АС1   \n",
      "49                   МОСКВА, ИЖОРСКАЯ УЛИЦА, 8А   \n",
      "...                                         ...   \n",
      "8394          МОСКВА, ФЕРГАНСКАЯ УЛИЦА, ВЛ17-21   \n",
      "8399  МОСКВА, БОЛОТНИКОВСКАЯ УЛИЦА, 52, КОРП. 2   \n",
      "8403     МОСКВА, ЛЮБЛИНСКАЯ УЛИЦА, 112А, СТР. 1   \n",
      "8404     МОСКВА, ЛЮБЛИНСКАЯ УЛИЦА, 112А, СТР. 1   \n",
      "8405             МОСКВА, РОССОШАНСКИЙ ПРОЕЗД, 6   \n",
      "\n",
      "                                  district                     hours  rating  \\\n",
      "10         Северный административный округ  ЕЖЕДНЕВНО, КРУГЛОСУТОЧНО     4.5   \n",
      "17         Северный административный округ  ЕЖЕДНЕВНО, КРУГЛОСУТОЧНО     4.4   \n",
      "19         Северный административный округ  ЕЖЕДНЕВНО, КРУГЛОСУТОЧНО     4.4   \n",
      "24         Северный административный округ  ЕЖЕДНЕВНО, КРУГЛОСУТОЧНО     4.0   \n",
      "49         Северный административный округ  ЕЖЕДНЕВНО, КРУГЛОСУТОЧНО     2.7   \n",
      "...                                    ...                       ...     ...   \n",
      "8394  Юго-Восточный административный округ  ЕЖЕДНЕВНО, КРУГЛОСУТОЧНО     4.3   \n",
      "8399   Юго-Западный административный округ  ЕЖЕДНЕВНО, КРУГЛОСУТОЧНО     4.2   \n",
      "8403  Юго-Восточный административный округ  ЕЖЕДНЕВНО, КРУГЛОСУТОЧНО     3.9   \n",
      "8404  Юго-Восточный административный округ  ЕЖЕДНЕВНО, КРУГЛОСУТОЧНО     4.2   \n",
      "8405          Южный административный округ  ЕЖЕДНЕВНО, КРУГЛОСУТОЧНО     3.9   \n",
      "\n",
      "      chain  seats    price                    avg_bill  middle_avg_bill  \\\n",
      "10        0  102.0  СРЕДНИЕ  ЦЕНА БОКАЛА ПИВА:250–350 ₽              NaN   \n",
      "17        0   96.0  СРЕДНИЕ      СРЕДНИЙ СЧЁТ:350–500 ₽            425.0   \n",
      "19        1    NaN                                                   NaN   \n",
      "24        1    NaN                                                   NaN   \n",
      "49        0    NaN                   СРЕДНИЙ СЧЁТ:900 ₽            900.0   \n",
      "...     ...    ...      ...                         ...              ...   \n",
      "8394      0    NaN                                                   NaN   \n",
      "8399      0   50.0                СРЕДНИЙ СЧЁТ:50–250 ₽            150.0   \n",
      "8403      0  150.0                СРЕДНИЙ СЧЁТ:ОТ 150 ₽            150.0   \n",
      "8404      1  150.0                                                   NaN   \n",
      "8405      0   12.0                                                   NaN   \n",
      "\n",
      "      middle_coffee_cup  \n",
      "10                   -1  \n",
      "17                   -1  \n",
      "19                   -1  \n",
      "24                   -1  \n",
      "49                   -1  \n",
      "...                 ...  \n",
      "8394                 -1  \n",
      "8399                 -1  \n",
      "8403                 -1  \n",
      "8404                 -1  \n",
      "8405                 -1  \n",
      "\n",
      "[772 rows x 13 columns]\n"
     ]
    }
   ],
   "source": [
    "# Выведем данные, в которых может содержаться информация о круглосуточной работе\n",
    "rest_24_7=rest_df[rest_df['hours'].str.contains('СУТ')]\n",
    "print(rest_24_7)"
   ]
  },
  {
   "cell_type": "markdown",
   "id": "8d9f3820",
   "metadata": {},
   "source": [
    "Далее для полученного датафрейма выведем все уникальные значения по столбцу `hours`, где содержится информация о часах работы."
   ]
  },
  {
   "cell_type": "code",
   "execution_count": 36,
   "id": "8983a1b6",
   "metadata": {},
   "outputs": [
    {
     "data": {
      "text/plain": [
       "ЕЖЕДНЕВНО, КРУГЛОСУТОЧНО                                                                       730\n",
       "ПН-ЧТ 08:00–23:00; ПТ 08:00–00:00; СБ КРУГЛОСУТОЧНО; ВС 00:00–23:00                              3\n",
       "ПН-ЧТ 08:00–23:00; ПТ,СБ КРУГЛОСУТОЧНО; ВС 08:00–23:00                                           2\n",
       "ПН-ЧТ 07:30–23:00; ПТ 07:30–00:00; СБ КРУГЛОСУТОЧНО; ВС 00:00–23:00                              2\n",
       "ПН-ЧТ КРУГЛОСУТОЧНО; ПТ 00:00–05:00, ПЕРЕРЫВ 05:00–07:00; СБ 07:00–05:00; ВС 07:00–00:00         1\n",
       "ПН-ЧТ 10:00–00:00; ПТ-ВС КРУГЛОСУТОЧНО                                                           1\n",
       "ПН,ВТ 08:00–22:00; СР,ЧТ 08:00–23:00; ПТ,СБ КРУГЛОСУТОЧНО; ВС 00:00–22:00                        1\n",
       "ПН 08:00–23:00; ВТ-ПТ 08:00–00:00; СБ КРУГЛОСУТОЧНО; ВС 00:00–23:00                              1\n",
       "ПН 00:01–12:00, ПЕРЕРЫВ 12:00–13:30; ВТ-ЧТ 13:30–12:00; ПТ 13:30–00:00; СБ,ВС КРУГЛОСУТОЧНО      1\n",
       "ПН-ЧТ 07:00–00:00; ПТ,СБ КРУГЛОСУТОЧНО; ВС 07:00–00:00                                           1\n",
       "ПН-ЧТ 07:00–23:00; ПТ 07:00–00:00; СБ КРУГЛОСУТОЧНО; ВС 00:00–23:00                              1\n",
       "ПН-ЧТ 10:00–00:00; ПТ,СБ КРУГЛОСУТОЧНО; ВС 10:00–00:00                                           1\n",
       "ПН 06:00–00:00; ВТ-ВС КРУГЛОСУТОЧНО                                                              1\n",
       "ПН,ВТ 10:00–00:00; СР-ВС КРУГЛОСУТОЧНО                                                           1\n",
       "ПН-ПТ КРУГЛОСУТОЧНО; СБ 09:00–22:00; ВС КРУГЛОСУТОЧНО                                            1\n",
       "ПН-ЧТ 07:00–22:00; ПТ,СБ КРУГЛОСУТОЧНО; ВС 00:00–22:00                                           1\n",
       "ПН-СР 08:00–23:00; ЧТ 08:00–00:00; ПТ,СБ КРУГЛОСУТОЧНО; ВС 00:00–23:00                           1\n",
       "ВТ-ВС КРУГЛОСУТОЧНО                                                                              1\n",
       "ПН,ВТ,СР,ЧТ,СБ,ВС КРУГЛОСУТОЧНО                                                                  1\n",
       "ПН 08:00–23:00; ВТ-ВС КРУГЛОСУТОЧНО                                                              1\n",
       "ПТ-ВС КРУГЛОСУТОЧНО                                                                              1\n",
       "ПН,ВТ 07:30–23:00; СР-ВС КРУГЛОСУТОЧНО                                                           1\n",
       "ПН КРУГЛОСУТОЧНО; ВТ-ЧТ 12:00–00:00; ПТ 12:00–02:00; СБ 11:00–02:00; ВС 14:00–00:00              1\n",
       "ПН,СР,ЧТ,ПТ,СБ,ВС КРУГЛОСУТОЧНО                                                                  1\n",
       "ПН-СР 07:00–23:00; ЧТ 07:00–00:00; ПТ,СБ КРУГЛОСУТОЧНО; ВС 00:00–23:00                           1\n",
       "ПН-ЧТ 11:00–23:00; ПТ 11:00–00:00; СБ КРУГЛОСУТОЧНО; ВС 00:00–23:00                              1\n",
       "ПН-ЧТ 08:00–22:00; ПТ 08:00–00:00; СБ КРУГЛОСУТОЧНО; ВС 00:00–22:00                              1\n",
       "ЧТ КРУГЛОСУТОЧНО, ПЕРЕРЫВ 10:00–20:00; СБ КРУГЛОСУТОЧНО                                          1\n",
       "ПН 10:00–00:00; ВТ-СБ КРУГЛОСУТОЧНО; ВС 00:00–23:00                                              1\n",
       "ПН-ЧТ 09:00–00:00; ПТ,СБ КРУГЛОСУТОЧНО; ВС 09:00–00:00                                           1\n",
       "ПН-ЧТ 10:00–23:00; ПТ 10:00–00:00; СБ КРУГЛОСУТОЧНО; ВС 00:00–23:00                              1\n",
       "ПН-СР 09:00–00:00; ЧТ-ВС КРУГЛОСУТОЧНО                                                           1\n",
       "ПН-ЧТ 07:00–23:00; ПТ,СБ КРУГЛОСУТОЧНО; ВС 08:00–23:00                                           1\n",
       "ПН-ПТ 09:00–17:00; СБ,ВС КРУГЛОСУТОЧНО                                                           1\n",
       "ПН-СР 08:00–00:00; ЧТ-СБ КРУГЛОСУТОЧНО; ВС 08:00–00:00                                           1\n",
       "ПН-СР 08:00–22:00; ЧТ 08:00–23:00; ПТ,СБ КРУГЛОСУТОЧНО; ВС 00:00–22:00                           1\n",
       "ПН-ЧТ 08:00–00:00; ПТ,СБ КРУГЛОСУТОЧНО; ВС 08:00–00:00                                           1\n",
       "СБ КРУГЛОСУТОЧНО                                                                                 1\n",
       "ПН-ПТ КРУГЛОСУТОЧНО; СБ,ВС 00:00–01:00                                                           1\n",
       "Name: hours, dtype: int64"
      ]
     },
     "execution_count": 36,
     "metadata": {},
     "output_type": "execute_result"
    }
   ],
   "source": [
    "# Выведем уникальные значения для столбца hours датафрейма rest_24_7\n",
    "rest_24_7['hours'].value_counts()"
   ]
  },
  {
   "cell_type": "markdown",
   "id": "a8cf7c21",
   "metadata": {},
   "source": [
    "Как видно из выгрузки, заведения, работающие круглосуточно, содержат в столбце `hours` `\"ЕЖЕДНЕВНО, КРУГЛОСУТОЧНО\"`. Создадим функцию, которая создаст новый столбец с бинарным признаком в зависимости от значения в столбце `hours`. "
   ]
  },
  {
   "cell_type": "code",
   "execution_count": 37,
   "id": "42d1e685",
   "metadata": {
    "id": "42d1e685"
   },
   "outputs": [],
   "source": [
    "# Создадим функцию с бинарным признаком в зависимости от работы графика работы заведения. \n",
    "def create_is_24_7(x):\n",
    "    if x=='ЕЖЕДНЕВНО, КРУГЛОСУТОЧНО':\n",
    "        return True\n",
    "    return False"
   ]
  },
  {
   "cell_type": "markdown",
   "id": "cce0291a",
   "metadata": {},
   "source": [
    "В случае если в условии if срабатывает условие, что значение в строке равно 'ЕЖЕДНЕВНО, КРУГЛОСУТОЧНО', то функция возвращает `True`, что означает, что заведение работает круглосуточно. Если в строке содержится другое значение, то функция возвращает `False`. Применим эту функцию к столбцу `hours` и создадим новый столбец `is_24_7`."
   ]
  },
  {
   "cell_type": "code",
   "execution_count": 38,
   "id": "61304e83",
   "metadata": {
    "id": "61304e83"
   },
   "outputs": [],
   "source": [
    "# Создаём столбец is_24_7 с помощью функции create_is_24_7\n",
    "rest_df['is_24_7'] = rest_df['hours'].apply(create_is_24_7)"
   ]
  },
  {
   "cell_type": "markdown",
   "id": "e939203d",
   "metadata": {},
   "source": [
    "Выведем информацию о датафрейме после создания нового столбца."
   ]
  },
  {
   "cell_type": "code",
   "execution_count": 39,
   "id": "77d2c5e0",
   "metadata": {},
   "outputs": [
    {
     "name": "stdout",
     "output_type": "stream",
     "text": [
      "<class 'pandas.core.frame.DataFrame'>\n",
      "Int64Index: 8402 entries, 0 to 8405\n",
      "Data columns (total 14 columns):\n",
      " #   Column             Non-Null Count  Dtype  \n",
      "---  ------             --------------  -----  \n",
      " 0   id                 8402 non-null   object \n",
      " 1   name               8402 non-null   object \n",
      " 2   category           8402 non-null   object \n",
      " 3   address            8402 non-null   object \n",
      " 4   district           8402 non-null   object \n",
      " 5   hours              8402 non-null   object \n",
      " 6   rating             8402 non-null   float32\n",
      " 7   chain              8402 non-null   int8   \n",
      " 8   seats              4792 non-null   float32\n",
      " 9   price              8402 non-null   object \n",
      " 10  avg_bill           8402 non-null   object \n",
      " 11  middle_avg_bill    3149 non-null   float32\n",
      " 12  middle_coffee_cup  8402 non-null   int16  \n",
      " 13  is_24_7            8402 non-null   bool   \n",
      "dtypes: bool(1), float32(3), int16(1), int8(1), object(8)\n",
      "memory usage: 722.0+ KB\n"
     ]
    }
   ],
   "source": [
    "# Выведем информацию с помощью метода info()\n",
    "rest_df.info()"
   ]
  },
  {
   "cell_type": "code",
   "execution_count": 40,
   "id": "466ca80d",
   "metadata": {},
   "outputs": [
    {
     "data": {
      "text/html": [
       "<div>\n",
       "<style scoped>\n",
       "    .dataframe tbody tr th:only-of-type {\n",
       "        vertical-align: middle;\n",
       "    }\n",
       "\n",
       "    .dataframe tbody tr th {\n",
       "        vertical-align: top;\n",
       "    }\n",
       "\n",
       "    .dataframe thead th {\n",
       "        text-align: right;\n",
       "    }\n",
       "</style>\n",
       "<table border=\"1\" class=\"dataframe\">\n",
       "  <thead>\n",
       "    <tr style=\"text-align: right;\">\n",
       "      <th></th>\n",
       "      <th>id</th>\n",
       "      <th>name</th>\n",
       "      <th>category</th>\n",
       "      <th>address</th>\n",
       "      <th>district</th>\n",
       "      <th>hours</th>\n",
       "      <th>rating</th>\n",
       "      <th>chain</th>\n",
       "      <th>seats</th>\n",
       "      <th>price</th>\n",
       "      <th>avg_bill</th>\n",
       "      <th>middle_avg_bill</th>\n",
       "      <th>middle_coffee_cup</th>\n",
       "      <th>is_24_7</th>\n",
       "    </tr>\n",
       "  </thead>\n",
       "  <tbody>\n",
       "    <tr>\n",
       "      <th>0</th>\n",
       "      <td>0c3e3439a8c64ea5bf6ecd6ca6ae19f0</td>\n",
       "      <td>WOWФЛИ</td>\n",
       "      <td>кафе</td>\n",
       "      <td>МОСКВА, УЛИЦА ДЫБЕНКО, 7/1</td>\n",
       "      <td>Северный административный округ</td>\n",
       "      <td>ЕЖЕДНЕВНО, 10:00–22:00</td>\n",
       "      <td>5.0</td>\n",
       "      <td>0</td>\n",
       "      <td>NaN</td>\n",
       "      <td></td>\n",
       "      <td></td>\n",
       "      <td>NaN</td>\n",
       "      <td>-1</td>\n",
       "      <td>False</td>\n",
       "    </tr>\n",
       "    <tr>\n",
       "      <th>1</th>\n",
       "      <td>045780ada3474c57a2112e505d74b633</td>\n",
       "      <td>ЧЕТЫРЕ КОМНАТЫ</td>\n",
       "      <td>ресторан</td>\n",
       "      <td>МОСКВА, УЛИЦА ДЫБЕНКО, 36, КОРП. 1</td>\n",
       "      <td>Северный административный округ</td>\n",
       "      <td>ЕЖЕДНЕВНО, 10:00–22:00</td>\n",
       "      <td>4.5</td>\n",
       "      <td>0</td>\n",
       "      <td>4.0</td>\n",
       "      <td>ВЫШЕ СРЕДНЕГО</td>\n",
       "      <td>СРЕДНИЙ СЧЁТ:1500–1600 ₽</td>\n",
       "      <td>1550.0</td>\n",
       "      <td>-1</td>\n",
       "      <td>False</td>\n",
       "    </tr>\n",
       "    <tr>\n",
       "      <th>2</th>\n",
       "      <td>1070b6b59144425896c65889347fcff6</td>\n",
       "      <td>ХАЗРИ</td>\n",
       "      <td>кафе</td>\n",
       "      <td>МОСКВА, КЛЯЗЬМИНСКАЯ УЛИЦА, 15</td>\n",
       "      <td>Северный административный округ</td>\n",
       "      <td>ПН-ЧТ 11:00–02:00; ПТ,СБ 11:00–05:00; ВС 11:00...</td>\n",
       "      <td>4.6</td>\n",
       "      <td>0</td>\n",
       "      <td>45.0</td>\n",
       "      <td>СРЕДНИЕ</td>\n",
       "      <td>СРЕДНИЙ СЧЁТ:ОТ 1000 ₽</td>\n",
       "      <td>1000.0</td>\n",
       "      <td>-1</td>\n",
       "      <td>False</td>\n",
       "    </tr>\n",
       "    <tr>\n",
       "      <th>3</th>\n",
       "      <td>03ac7cd772104f65b58b349dc59f03ee</td>\n",
       "      <td>DORMOUSE COFFEE SHOP</td>\n",
       "      <td>кофейня</td>\n",
       "      <td>МОСКВА, УЛИЦА МАРШАЛА ФЕДОРЕНКО, 12</td>\n",
       "      <td>Северный административный округ</td>\n",
       "      <td>ЕЖЕДНЕВНО, 09:00–22:00</td>\n",
       "      <td>5.0</td>\n",
       "      <td>0</td>\n",
       "      <td>NaN</td>\n",
       "      <td></td>\n",
       "      <td>ЦЕНА ЧАШКИ КАПУЧИНО:155–185 ₽</td>\n",
       "      <td>NaN</td>\n",
       "      <td>170</td>\n",
       "      <td>False</td>\n",
       "    </tr>\n",
       "    <tr>\n",
       "      <th>4</th>\n",
       "      <td>a163aada139c4c7f87b0b1c0b466a50f</td>\n",
       "      <td>ИЛЬ МАРКО</td>\n",
       "      <td>пиццерия</td>\n",
       "      <td>МОСКВА, ПРАВОБЕРЕЖНАЯ УЛИЦА, 1Б</td>\n",
       "      <td>Северный административный округ</td>\n",
       "      <td>ЕЖЕДНЕВНО, 10:00–22:00</td>\n",
       "      <td>5.0</td>\n",
       "      <td>1</td>\n",
       "      <td>148.0</td>\n",
       "      <td>СРЕДНИЕ</td>\n",
       "      <td>СРЕДНИЙ СЧЁТ:400–600 ₽</td>\n",
       "      <td>500.0</td>\n",
       "      <td>-1</td>\n",
       "      <td>False</td>\n",
       "    </tr>\n",
       "    <tr>\n",
       "      <th>5</th>\n",
       "      <td>8a343546b24e4a499ad96eb7d0797a8a</td>\n",
       "      <td>SERGIO PIZZA</td>\n",
       "      <td>пиццерия</td>\n",
       "      <td>МОСКВА, ИЖОРСКАЯ УЛИЦА, ВЛ8Б</td>\n",
       "      <td>Северный административный округ</td>\n",
       "      <td>ЕЖЕДНЕВНО, 10:00–23:00</td>\n",
       "      <td>4.6</td>\n",
       "      <td>0</td>\n",
       "      <td>NaN</td>\n",
       "      <td>СРЕДНИЕ</td>\n",
       "      <td></td>\n",
       "      <td>NaN</td>\n",
       "      <td>-1</td>\n",
       "      <td>False</td>\n",
       "    </tr>\n",
       "    <tr>\n",
       "      <th>6</th>\n",
       "      <td>96ebceb1a09e4e3191133b9fe0379a64</td>\n",
       "      <td>ОГНИ ГОРОДА</td>\n",
       "      <td>бар,паб</td>\n",
       "      <td>МОСКВА, КЛЯЗЬМИНСКАЯ УЛИЦА, 9, СТР. 3</td>\n",
       "      <td>Северный административный округ</td>\n",
       "      <td>ПН 15:00–04:00; ВТ-ВС 15:00–05:00</td>\n",
       "      <td>4.4</td>\n",
       "      <td>0</td>\n",
       "      <td>45.0</td>\n",
       "      <td>СРЕДНИЕ</td>\n",
       "      <td>СРЕДНИЙ СЧЁТ:199 ₽</td>\n",
       "      <td>199.0</td>\n",
       "      <td>-1</td>\n",
       "      <td>False</td>\n",
       "    </tr>\n",
       "    <tr>\n",
       "      <th>7</th>\n",
       "      <td>0243288b78024af090b8e947842c969c</td>\n",
       "      <td>MR. УГОЛЁК</td>\n",
       "      <td>быстрое питание</td>\n",
       "      <td>МОСКВА, КЛЯЗЬМИНСКАЯ УЛИЦА, 9, СТР. 3</td>\n",
       "      <td>Северный административный округ</td>\n",
       "      <td>ПН-ЧТ 10:00–22:00; ПТ,СБ 10:00–23:00; ВС 10:00...</td>\n",
       "      <td>4.7</td>\n",
       "      <td>0</td>\n",
       "      <td>45.0</td>\n",
       "      <td>СРЕДНИЕ</td>\n",
       "      <td>СРЕДНИЙ СЧЁТ:200–300 ₽</td>\n",
       "      <td>250.0</td>\n",
       "      <td>-1</td>\n",
       "      <td>False</td>\n",
       "    </tr>\n",
       "    <tr>\n",
       "      <th>8</th>\n",
       "      <td>36aeb0ffa69c48fdb0021549520deb10</td>\n",
       "      <td>DONNA MARIA</td>\n",
       "      <td>ресторан</td>\n",
       "      <td>МОСКВА, ДМИТРОВСКОЕ ШОССЕ, 107, КОРП. 4</td>\n",
       "      <td>Северный административный округ</td>\n",
       "      <td>ЕЖЕДНЕВНО, 10:00–22:00</td>\n",
       "      <td>4.8</td>\n",
       "      <td>0</td>\n",
       "      <td>79.0</td>\n",
       "      <td>СРЕДНИЕ</td>\n",
       "      <td>СРЕДНИЙ СЧЁТ:ОТ 500 ₽</td>\n",
       "      <td>500.0</td>\n",
       "      <td>-1</td>\n",
       "      <td>False</td>\n",
       "    </tr>\n",
       "    <tr>\n",
       "      <th>9</th>\n",
       "      <td>487167877eb04288bc90d4fa80646fc2</td>\n",
       "      <td>ГОТИКА</td>\n",
       "      <td>кафе</td>\n",
       "      <td>МОСКВА, АНГАРСКАЯ УЛИЦА, 39</td>\n",
       "      <td>Северный административный округ</td>\n",
       "      <td>ЕЖЕДНЕВНО, 12:00–00:00</td>\n",
       "      <td>4.3</td>\n",
       "      <td>0</td>\n",
       "      <td>65.0</td>\n",
       "      <td>СРЕДНИЕ</td>\n",
       "      <td>СРЕДНИЙ СЧЁТ:1000–1200 ₽</td>\n",
       "      <td>1100.0</td>\n",
       "      <td>-1</td>\n",
       "      <td>False</td>\n",
       "    </tr>\n",
       "    <tr>\n",
       "      <th>10</th>\n",
       "      <td>ac32978af97641bfacf996e7f5a50ee5</td>\n",
       "      <td>GREAT ROOM BAR</td>\n",
       "      <td>бар,паб</td>\n",
       "      <td>МОСКВА, ЛЕВОБЕРЕЖНАЯ УЛИЦА, 12</td>\n",
       "      <td>Северный административный округ</td>\n",
       "      <td>ЕЖЕДНЕВНО, КРУГЛОСУТОЧНО</td>\n",
       "      <td>4.5</td>\n",
       "      <td>0</td>\n",
       "      <td>102.0</td>\n",
       "      <td>СРЕДНИЕ</td>\n",
       "      <td>ЦЕНА БОКАЛА ПИВА:250–350 ₽</td>\n",
       "      <td>NaN</td>\n",
       "      <td>-1</td>\n",
       "      <td>True</td>\n",
       "    </tr>\n",
       "    <tr>\n",
       "      <th>11</th>\n",
       "      <td>53ac103717c142f29907080db1f0ce58</td>\n",
       "      <td>ШАШЛЫК ШЕФФ</td>\n",
       "      <td>кафе</td>\n",
       "      <td>МОСКВА, УЛИЦА МАРШАЛА ФЕДОРЕНКО, 10С1</td>\n",
       "      <td>Северный административный округ</td>\n",
       "      <td>ЕЖЕДНЕВНО, 10:00–21:00</td>\n",
       "      <td>4.9</td>\n",
       "      <td>0</td>\n",
       "      <td>NaN</td>\n",
       "      <td></td>\n",
       "      <td></td>\n",
       "      <td>NaN</td>\n",
       "      <td>-1</td>\n",
       "      <td>False</td>\n",
       "    </tr>\n",
       "    <tr>\n",
       "      <th>12</th>\n",
       "      <td>9384a51a4b2749759234df689b3a4857</td>\n",
       "      <td>ЗАПРАВКА</td>\n",
       "      <td>кафе</td>\n",
       "      <td>МОСКВА, МКАД, 80-Й КИЛОМЕТР, 1</td>\n",
       "      <td>Северный административный округ</td>\n",
       "      <td>ВТ-СБ 09:00–18:00</td>\n",
       "      <td>4.3</td>\n",
       "      <td>0</td>\n",
       "      <td>NaN</td>\n",
       "      <td>СРЕДНИЕ</td>\n",
       "      <td>СРЕДНИЙ СЧЁТ:330 ₽</td>\n",
       "      <td>330.0</td>\n",
       "      <td>-1</td>\n",
       "      <td>False</td>\n",
       "    </tr>\n",
       "    <tr>\n",
       "      <th>13</th>\n",
       "      <td>aea18265b0a0415893f1e796b82568fe</td>\n",
       "      <td>БУХАНКА</td>\n",
       "      <td>булочная</td>\n",
       "      <td>МОСКВА, БАЗОВСКАЯ УЛИЦА, 15, КОРП. 1</td>\n",
       "      <td>Северный административный округ</td>\n",
       "      <td>ЕЖЕДНЕВНО, 08:00–22:00</td>\n",
       "      <td>4.8</td>\n",
       "      <td>1</td>\n",
       "      <td>180.0</td>\n",
       "      <td></td>\n",
       "      <td></td>\n",
       "      <td>NaN</td>\n",
       "      <td>-1</td>\n",
       "      <td>False</td>\n",
       "    </tr>\n",
       "    <tr>\n",
       "      <th>14</th>\n",
       "      <td>b9469750090f4a19829cc717bc369988</td>\n",
       "      <td>У СИЛЬВЫ</td>\n",
       "      <td>бар,паб</td>\n",
       "      <td>МОСКВА, АНГАРСКАЯ УЛИЦА, 42С1</td>\n",
       "      <td>Северный административный округ</td>\n",
       "      <td>ЕЖЕДНЕВНО, 13:00–00:00</td>\n",
       "      <td>4.2</td>\n",
       "      <td>0</td>\n",
       "      <td>NaN</td>\n",
       "      <td>ВЫШЕ СРЕДНЕГО</td>\n",
       "      <td>СРЕДНИЙ СЧЁТ:1500 ₽</td>\n",
       "      <td>1500.0</td>\n",
       "      <td>-1</td>\n",
       "      <td>False</td>\n",
       "    </tr>\n",
       "    <tr>\n",
       "      <th>15</th>\n",
       "      <td>9b8421c55aef47efa4c6bc9e6fb4c239</td>\n",
       "      <td>ДОМ ОБЕДА</td>\n",
       "      <td>столовая</td>\n",
       "      <td>МОСКВА, УЛИЦА БУСИНОВСКАЯ ГОРКА, 2</td>\n",
       "      <td>Северный административный округ</td>\n",
       "      <td>ПН-ПТ 08:30–18:30; СБ 10:00–20:00</td>\n",
       "      <td>4.1</td>\n",
       "      <td>0</td>\n",
       "      <td>180.0</td>\n",
       "      <td>СРЕДНИЕ</td>\n",
       "      <td>СРЕДНИЙ СЧЁТ:300–500 ₽</td>\n",
       "      <td>400.0</td>\n",
       "      <td>-1</td>\n",
       "      <td>False</td>\n",
       "    </tr>\n",
       "    <tr>\n",
       "      <th>16</th>\n",
       "      <td>ccda3acc54e34bfcac4d6a25a5205bcb</td>\n",
       "      <td>БАЗА СТРИТФУД</td>\n",
       "      <td>кафе</td>\n",
       "      <td>МОСКВА, БАЗОВСКАЯ УЛИЦА, 15, КОРП. 8</td>\n",
       "      <td>Северный административный округ</td>\n",
       "      <td>ЕЖЕДНЕВНО, 10:00–23:00</td>\n",
       "      <td>4.2</td>\n",
       "      <td>0</td>\n",
       "      <td>NaN</td>\n",
       "      <td>СРЕДНИЕ</td>\n",
       "      <td>СРЕДНИЙ СЧЁТ:140–350 ₽</td>\n",
       "      <td>245.0</td>\n",
       "      <td>-1</td>\n",
       "      <td>False</td>\n",
       "    </tr>\n",
       "    <tr>\n",
       "      <th>17</th>\n",
       "      <td>b55465d0869648a295ad1d85ed9b5c4f</td>\n",
       "      <td>ЧАЙХАНА БЕШ-БАРМАК</td>\n",
       "      <td>ресторан</td>\n",
       "      <td>МОСКВА, ЛЕНИНГРАДСКОЕ ШОССЕ, 71Б, СТР. 2</td>\n",
       "      <td>Северный административный округ</td>\n",
       "      <td>ЕЖЕДНЕВНО, КРУГЛОСУТОЧНО</td>\n",
       "      <td>4.4</td>\n",
       "      <td>0</td>\n",
       "      <td>96.0</td>\n",
       "      <td>СРЕДНИЕ</td>\n",
       "      <td>СРЕДНИЙ СЧЁТ:350–500 ₽</td>\n",
       "      <td>425.0</td>\n",
       "      <td>-1</td>\n",
       "      <td>True</td>\n",
       "    </tr>\n",
       "    <tr>\n",
       "      <th>18</th>\n",
       "      <td>06e4244f6832490ea35c0c1f8824bb30</td>\n",
       "      <td>ЧАС-ПИК</td>\n",
       "      <td>столовая</td>\n",
       "      <td>МОСКВА, КОРОВИНСКОЕ ШОССЕ, 30А</td>\n",
       "      <td>Северный административный округ</td>\n",
       "      <td>ЕЖЕДНЕВНО, 09:00–21:00</td>\n",
       "      <td>4.3</td>\n",
       "      <td>0</td>\n",
       "      <td>25.0</td>\n",
       "      <td>СРЕДНИЕ</td>\n",
       "      <td>СРЕДНИЙ СЧЁТ:200–300 ₽</td>\n",
       "      <td>250.0</td>\n",
       "      <td>-1</td>\n",
       "      <td>False</td>\n",
       "    </tr>\n",
       "    <tr>\n",
       "      <th>19</th>\n",
       "      <td>feec6bedccae44cb877d99c13f9aa5d7</td>\n",
       "      <td>ПЕКАРНЯ</td>\n",
       "      <td>булочная</td>\n",
       "      <td>МОСКВА, ИЖОРСКИЙ ПРОЕЗД, 5</td>\n",
       "      <td>Северный административный округ</td>\n",
       "      <td>ЕЖЕДНЕВНО, КРУГЛОСУТОЧНО</td>\n",
       "      <td>4.4</td>\n",
       "      <td>1</td>\n",
       "      <td>NaN</td>\n",
       "      <td></td>\n",
       "      <td></td>\n",
       "      <td>NaN</td>\n",
       "      <td>-1</td>\n",
       "      <td>True</td>\n",
       "    </tr>\n",
       "  </tbody>\n",
       "</table>\n",
       "</div>"
      ],
      "text/plain": [
       "                                  id                  name         category  \\\n",
       "0   0c3e3439a8c64ea5bf6ecd6ca6ae19f0                WOWФЛИ             кафе   \n",
       "1   045780ada3474c57a2112e505d74b633        ЧЕТЫРЕ КОМНАТЫ         ресторан   \n",
       "2   1070b6b59144425896c65889347fcff6                 ХАЗРИ             кафе   \n",
       "3   03ac7cd772104f65b58b349dc59f03ee  DORMOUSE COFFEE SHOP          кофейня   \n",
       "4   a163aada139c4c7f87b0b1c0b466a50f             ИЛЬ МАРКО         пиццерия   \n",
       "5   8a343546b24e4a499ad96eb7d0797a8a          SERGIO PIZZA         пиццерия   \n",
       "6   96ebceb1a09e4e3191133b9fe0379a64           ОГНИ ГОРОДА          бар,паб   \n",
       "7   0243288b78024af090b8e947842c969c            MR. УГОЛЁК  быстрое питание   \n",
       "8   36aeb0ffa69c48fdb0021549520deb10           DONNA MARIA         ресторан   \n",
       "9   487167877eb04288bc90d4fa80646fc2                ГОТИКА             кафе   \n",
       "10  ac32978af97641bfacf996e7f5a50ee5        GREAT ROOM BAR          бар,паб   \n",
       "11  53ac103717c142f29907080db1f0ce58           ШАШЛЫК ШЕФФ             кафе   \n",
       "12  9384a51a4b2749759234df689b3a4857              ЗАПРАВКА             кафе   \n",
       "13  aea18265b0a0415893f1e796b82568fe               БУХАНКА         булочная   \n",
       "14  b9469750090f4a19829cc717bc369988              У СИЛЬВЫ          бар,паб   \n",
       "15  9b8421c55aef47efa4c6bc9e6fb4c239             ДОМ ОБЕДА         столовая   \n",
       "16  ccda3acc54e34bfcac4d6a25a5205bcb         БАЗА СТРИТФУД             кафе   \n",
       "17  b55465d0869648a295ad1d85ed9b5c4f    ЧАЙХАНА БЕШ-БАРМАК         ресторан   \n",
       "18  06e4244f6832490ea35c0c1f8824bb30               ЧАС-ПИК         столовая   \n",
       "19  feec6bedccae44cb877d99c13f9aa5d7               ПЕКАРНЯ         булочная   \n",
       "\n",
       "                                     address                         district  \\\n",
       "0                 МОСКВА, УЛИЦА ДЫБЕНКО, 7/1  Северный административный округ   \n",
       "1         МОСКВА, УЛИЦА ДЫБЕНКО, 36, КОРП. 1  Северный административный округ   \n",
       "2             МОСКВА, КЛЯЗЬМИНСКАЯ УЛИЦА, 15  Северный административный округ   \n",
       "3        МОСКВА, УЛИЦА МАРШАЛА ФЕДОРЕНКО, 12  Северный административный округ   \n",
       "4            МОСКВА, ПРАВОБЕРЕЖНАЯ УЛИЦА, 1Б  Северный административный округ   \n",
       "5               МОСКВА, ИЖОРСКАЯ УЛИЦА, ВЛ8Б  Северный административный округ   \n",
       "6      МОСКВА, КЛЯЗЬМИНСКАЯ УЛИЦА, 9, СТР. 3  Северный административный округ   \n",
       "7      МОСКВА, КЛЯЗЬМИНСКАЯ УЛИЦА, 9, СТР. 3  Северный административный округ   \n",
       "8    МОСКВА, ДМИТРОВСКОЕ ШОССЕ, 107, КОРП. 4  Северный административный округ   \n",
       "9                МОСКВА, АНГАРСКАЯ УЛИЦА, 39  Северный административный округ   \n",
       "10            МОСКВА, ЛЕВОБЕРЕЖНАЯ УЛИЦА, 12  Северный административный округ   \n",
       "11     МОСКВА, УЛИЦА МАРШАЛА ФЕДОРЕНКО, 10С1  Северный административный округ   \n",
       "12            МОСКВА, МКАД, 80-Й КИЛОМЕТР, 1  Северный административный округ   \n",
       "13      МОСКВА, БАЗОВСКАЯ УЛИЦА, 15, КОРП. 1  Северный административный округ   \n",
       "14             МОСКВА, АНГАРСКАЯ УЛИЦА, 42С1  Северный административный округ   \n",
       "15        МОСКВА, УЛИЦА БУСИНОВСКАЯ ГОРКА, 2  Северный административный округ   \n",
       "16      МОСКВА, БАЗОВСКАЯ УЛИЦА, 15, КОРП. 8  Северный административный округ   \n",
       "17  МОСКВА, ЛЕНИНГРАДСКОЕ ШОССЕ, 71Б, СТР. 2  Северный административный округ   \n",
       "18            МОСКВА, КОРОВИНСКОЕ ШОССЕ, 30А  Северный административный округ   \n",
       "19                МОСКВА, ИЖОРСКИЙ ПРОЕЗД, 5  Северный административный округ   \n",
       "\n",
       "                                                hours  rating  chain  seats  \\\n",
       "0                              ЕЖЕДНЕВНО, 10:00–22:00     5.0      0    NaN   \n",
       "1                              ЕЖЕДНЕВНО, 10:00–22:00     4.5      0    4.0   \n",
       "2   ПН-ЧТ 11:00–02:00; ПТ,СБ 11:00–05:00; ВС 11:00...     4.6      0   45.0   \n",
       "3                              ЕЖЕДНЕВНО, 09:00–22:00     5.0      0    NaN   \n",
       "4                              ЕЖЕДНЕВНО, 10:00–22:00     5.0      1  148.0   \n",
       "5                              ЕЖЕДНЕВНО, 10:00–23:00     4.6      0    NaN   \n",
       "6                   ПН 15:00–04:00; ВТ-ВС 15:00–05:00     4.4      0   45.0   \n",
       "7   ПН-ЧТ 10:00–22:00; ПТ,СБ 10:00–23:00; ВС 10:00...     4.7      0   45.0   \n",
       "8                              ЕЖЕДНЕВНО, 10:00–22:00     4.8      0   79.0   \n",
       "9                              ЕЖЕДНЕВНО, 12:00–00:00     4.3      0   65.0   \n",
       "10                           ЕЖЕДНЕВНО, КРУГЛОСУТОЧНО     4.5      0  102.0   \n",
       "11                             ЕЖЕДНЕВНО, 10:00–21:00     4.9      0    NaN   \n",
       "12                                  ВТ-СБ 09:00–18:00     4.3      0    NaN   \n",
       "13                             ЕЖЕДНЕВНО, 08:00–22:00     4.8      1  180.0   \n",
       "14                             ЕЖЕДНЕВНО, 13:00–00:00     4.2      0    NaN   \n",
       "15                  ПН-ПТ 08:30–18:30; СБ 10:00–20:00     4.1      0  180.0   \n",
       "16                             ЕЖЕДНЕВНО, 10:00–23:00     4.2      0    NaN   \n",
       "17                           ЕЖЕДНЕВНО, КРУГЛОСУТОЧНО     4.4      0   96.0   \n",
       "18                             ЕЖЕДНЕВНО, 09:00–21:00     4.3      0   25.0   \n",
       "19                           ЕЖЕДНЕВНО, КРУГЛОСУТОЧНО     4.4      1    NaN   \n",
       "\n",
       "            price                       avg_bill  middle_avg_bill  \\\n",
       "0                                                             NaN   \n",
       "1   ВЫШЕ СРЕДНЕГО       СРЕДНИЙ СЧЁТ:1500–1600 ₽           1550.0   \n",
       "2         СРЕДНИЕ         СРЕДНИЙ СЧЁТ:ОТ 1000 ₽           1000.0   \n",
       "3                  ЦЕНА ЧАШКИ КАПУЧИНО:155–185 ₽              NaN   \n",
       "4         СРЕДНИЕ         СРЕДНИЙ СЧЁТ:400–600 ₽            500.0   \n",
       "5         СРЕДНИЕ                                             NaN   \n",
       "6         СРЕДНИЕ             СРЕДНИЙ СЧЁТ:199 ₽            199.0   \n",
       "7         СРЕДНИЕ         СРЕДНИЙ СЧЁТ:200–300 ₽            250.0   \n",
       "8         СРЕДНИЕ          СРЕДНИЙ СЧЁТ:ОТ 500 ₽            500.0   \n",
       "9         СРЕДНИЕ       СРЕДНИЙ СЧЁТ:1000–1200 ₽           1100.0   \n",
       "10        СРЕДНИЕ     ЦЕНА БОКАЛА ПИВА:250–350 ₽              NaN   \n",
       "11                                                            NaN   \n",
       "12        СРЕДНИЕ             СРЕДНИЙ СЧЁТ:330 ₽            330.0   \n",
       "13                                                            NaN   \n",
       "14  ВЫШЕ СРЕДНЕГО            СРЕДНИЙ СЧЁТ:1500 ₽           1500.0   \n",
       "15        СРЕДНИЕ         СРЕДНИЙ СЧЁТ:300–500 ₽            400.0   \n",
       "16        СРЕДНИЕ         СРЕДНИЙ СЧЁТ:140–350 ₽            245.0   \n",
       "17        СРЕДНИЕ         СРЕДНИЙ СЧЁТ:350–500 ₽            425.0   \n",
       "18        СРЕДНИЕ         СРЕДНИЙ СЧЁТ:200–300 ₽            250.0   \n",
       "19                                                            NaN   \n",
       "\n",
       "    middle_coffee_cup  is_24_7  \n",
       "0                  -1    False  \n",
       "1                  -1    False  \n",
       "2                  -1    False  \n",
       "3                 170    False  \n",
       "4                  -1    False  \n",
       "5                  -1    False  \n",
       "6                  -1    False  \n",
       "7                  -1    False  \n",
       "8                  -1    False  \n",
       "9                  -1    False  \n",
       "10                 -1     True  \n",
       "11                 -1    False  \n",
       "12                 -1    False  \n",
       "13                 -1    False  \n",
       "14                 -1    False  \n",
       "15                 -1    False  \n",
       "16                 -1    False  \n",
       "17                 -1     True  \n",
       "18                 -1    False  \n",
       "19                 -1     True  "
      ]
     },
     "execution_count": 40,
     "metadata": {},
     "output_type": "execute_result"
    }
   ],
   "source": [
    "# Выведем первые 20 строк датафрейма\n",
    "rest_df.head(20)"
   ]
  },
  {
   "cell_type": "markdown",
   "id": "5c8bc3d0",
   "metadata": {},
   "source": [
    "Как видно из выгрузки с помощью функции `create_is_24_7` в датафрейм был добавлен столбец `is_24_7`, отражающий работает ли заведение ежедневно и круглосуточно."
   ]
  },
  {
   "cell_type": "markdown",
   "id": "562f30ab",
   "metadata": {
    "id": "562f30ab"
   },
   "source": [
    "---\n",
    "\n",
    "### Промежуточный вывод\n",
    "\n",
    "После предобработки данных напишите промежуточный вывод о проведённой работе. Отразите количество или долю отфильтрованных данных, если вы что-то удаляли."
   ]
  },
  {
   "cell_type": "markdown",
   "id": "3cb13265",
   "metadata": {},
   "source": [
    "После предобработки данных напишите промежуточный вывод о проведённой работе. Отразите количество или долю отфильтрованных данных, если вы что-то удаляли.\n",
    "Таким образом в данном разделе на первом этапе были изучены типы данных столбцов датафрейма, в том числе были изменены форматы для столбцов:\n",
    " - seats, middle_avg_bill, middle_coffee_cup формам был изменён с float на integer с оптимизацией разрядности;\n",
    " -\trating и chain были оптимизированы типы данных с понижением размерности.\n",
    "На следующем этапе была проведена работа с пропусками в датафрейме:\n",
    " -\tдля столбца hours доля пропусков составляла 6,4%. Пропущенные значения были заменены на пустую строку, т.к. столбец содержит данные типа object;\n",
    " -\tдля столбца seats доля пропусков составляла 43%. Пропущенные значения были сохранены, чтобы ни исказить данные при последующем исследовательском анализе;\n",
    " -\tдля столбца price доля пропусков составляла 60,6%. Пропущенные значения были заменены на пустую строку, т.к. столбец содержит данные типа object;\n",
    " - для столбца avg_bill доля пропусков составляла 54,6%. Пропущенные значения были заменены на пустую строку, т.к. столбец содержит данные типа object;\n",
    " -\tдля столбца middle_avg_bill доля пропусков составляла 62,5%. Пропущенные значения были сохранены, чтобы ни исказить данные при последующем исследовательском анализе;\n",
    " -\tдля столбца middle_coffee_cup доля пропусков составляла 93,6%. Пропущенные значения были заменены на значение-индикатор -1, т.к. столбец содержит данные чиcлового типа.\n",
    " \n",
    " \n",
    "Пропуски в столбцах middle_avg_bill и middle_coffee_cup связаны с пропусками в столбце avg_bill, для остальных столбцов взаимосвязь между данными не выявлена.\n",
    "\n",
    "\n",
    "Далее была проведена работа с дубликатами в датафрейме. Явных полных дубликатов выявлено не было. При этом было выявлено 4 пары дубликатов, у которых совпадает название и адрес заведения, при этом имеются различия в категории или графике работы. Выявленные 4 дубликата были удалены с помощью метода drop_duplicates(). В результате количество записей в датафрейме сократилось с 8406 до 8402.\n",
    "\n",
    "\n",
    "На заключительном этапе, исходя из значений в столбце hours, был создан столбец is_24_7 с обозначением того, работает ли заведение ежедневно и круглосуточно или нет."
   ]
  },
  {
   "cell_type": "markdown",
   "id": "6953e84c",
   "metadata": {
    "id": "6953e84c"
   },
   "source": [
    "## 3. Исследовательский анализ данных"
   ]
  },
  {
   "cell_type": "markdown",
   "id": "c6c10506",
   "metadata": {
    "id": "ef2bffe9"
   },
   "source": [
    "Посчитаем количество заведений общественного питания для каждой категории."
   ]
  },
  {
   "cell_type": "code",
   "execution_count": 41,
   "id": "71ab5e91",
   "metadata": {
    "id": "71ab5e91"
   },
   "outputs": [
    {
     "name": "stdout",
     "output_type": "stream",
     "text": [
      "Количество уникальных категорий заведений:\n",
      "8\n",
      "Распределение данных по значениям столбца category:\n",
      "кафе               2376\n",
      "ресторан           2042\n",
      "кофейня            1413\n",
      "бар,паб             764\n",
      "пиццерия            633\n",
      "быстрое питание     603\n",
      "столовая            315\n",
      "булочная            256\n",
      "Name: category, dtype: int64\n",
      "Распределение данных по значениям столбца category в %:\n",
      "кафе               28.278981\n",
      "ресторан           24.303737\n",
      "кофейня            16.817424\n",
      "бар,паб             9.093073\n",
      "пиццерия            7.533920\n",
      "быстрое питание     7.176863\n",
      "столовая            3.749107\n",
      "булочная            3.046894\n",
      "Name: category, dtype: float64\n"
     ]
    }
   ],
   "source": [
    "# Посчитаем количество заведений каждой категории с помощью метода 'value_counts'\n",
    "print('Количество уникальных категорий заведений:')\n",
    "print(rest_df['category'].nunique())\n",
    "print('Распределение данных по значениям столбца category:')\n",
    "print(rest_df['category'].value_counts())\n",
    "print('Распределение данных по значениям столбца category в %:')\n",
    "print(rest_df['category'].value_counts()/len(rest_df)*100)"
   ]
  },
  {
   "cell_type": "markdown",
   "id": "5a589b1d",
   "metadata": {
    "id": "63360b97"
   },
   "source": [
    "Таким образом, всего для датафрейма выявлено 8 категорий заведений. Наиболее часто встречаемые категории заведений - `кафе` - 28,28% от всех заведений г. Москвы, `ресторан` - 24,3% и `кофейня` - 16,81%, наименее - `столовая` - 3,75% и `булочная` - 3,04%, при этом количество кафе примерно в 10 раз превышает количество булочных."
   ]
  },
  {
   "cell_type": "markdown",
   "id": "a2be4083",
   "metadata": {},
   "source": [
    "Построим визуализацию распределения заведений по категориям."
   ]
  },
  {
   "cell_type": "code",
   "execution_count": 42,
   "id": "14e0e329",
   "metadata": {},
   "outputs": [
    {
     "data": {
      "image/png": "[encoded data removed]",
      "text/plain": [
       "<Figure size 864x432 with 1 Axes>"
      ]
     },
     "metadata": {
      "needs_background": "light"
     },
     "output_type": "display_data"
    }
   ],
   "source": [
    "# Создаём контейнер графика matplotlib и задаём его размер\n",
    "plt.figure(figsize=(12, 6))\n",
    "\n",
    "# Строим столбчатую диаграмму с помощью pandas через plot(kind='bar')\n",
    "rest_df['category'].value_counts().plot(\n",
    "               kind='bar',\n",
    "               rot=0, \n",
    "               legend=False, \n",
    "               title=f'Распределение заведений в зависимости от категории'\n",
    ")\n",
    "\n",
    "# Настраиваем оформление графика\n",
    "plt.xlabel('Категория заведения')\n",
    "plt.ylabel('Количество заведений')\n",
    "\n",
    "\n",
    "# Выводим график\n",
    "plt.show()"
   ]
  },
  {
   "cell_type": "markdown",
   "id": "2b85423b",
   "metadata": {},
   "source": [
    "Из графика видно значительное преобладание заведений с категориями `кафе`,`ресторан` и `кофейня`."
   ]
  },
  {
   "cell_type": "markdown",
   "id": "5cf9a6a4",
   "metadata": {
    "id": "e62f31be"
   },
   "source": [
    "Выведем количество заведений Москвы в зависимости от административного района г. Москвы."
   ]
  },
  {
   "cell_type": "code",
   "execution_count": 43,
   "id": "0a290cd1",
   "metadata": {
    "id": "0a290cd1"
   },
   "outputs": [
    {
     "name": "stdout",
     "output_type": "stream",
     "text": [
      "Количество административных районов:\n",
      "9\n",
      "Распределение данных по административным районам:\n",
      "Центральный административный округ         2242\n",
      "Северный административный округ             898\n",
      "Южный административный округ                892\n",
      "Северо-Восточный административный округ     890\n",
      "Западный административный округ             850\n",
      "Восточный административный округ            798\n",
      "Юго-Восточный административный округ        714\n",
      "Юго-Западный административный округ         709\n",
      "Северо-Западный административный округ      409\n",
      "Name: district, dtype: int64\n",
      "Распределение данных по административном районам в %:\n",
      "Центральный административный округ         26.684123\n",
      "Северный административный округ            10.687931\n",
      "Южный административный округ               10.616520\n",
      "Северо-Восточный административный округ    10.592716\n",
      "Западный административный округ            10.116639\n",
      "Восточный административный округ            9.497739\n",
      "Юго-Восточный административный округ        8.497977\n",
      "Юго-Западный административный округ         8.438467\n",
      "Северо-Западный административный округ      4.867889\n",
      "Name: district, dtype: float64\n"
     ]
    }
   ],
   "source": [
    "# Посчитаем количество заведений каждой категории с помощью метода 'value_counts'\n",
    "print('Количество административных районов:')\n",
    "print(rest_df['district'].nunique())\n",
    "print('Распределение данных по административным районам:')\n",
    "print(rest_df['district'].value_counts())\n",
    "print('Распределение данных по административном районам в %:')\n",
    "print(rest_df['district'].value_counts()/len(rest_df)*100)"
   ]
  },
  {
   "cell_type": "markdown",
   "id": "55275c53",
   "metadata": {
    "id": "41f1654a"
   },
   "source": [
    "Всего в датафрейме содержится 9 административных районов. Значительное количество заведений располагается в Центральном административном округе - 2242 заведений или 26,68%. Меньше всего заведений территориально находятся в  Северо-Западный административном округе - 409 заведений или 4,87%. По остальным районам заведения распределены равномерно - около 8-10% для каждого района."
   ]
  },
  {
   "cell_type": "markdown",
   "id": "b37d8268",
   "metadata": {},
   "source": [
    "Построим визуализацию распределения заведений по административным районам."
   ]
  },
  {
   "cell_type": "code",
   "execution_count": 44,
   "id": "4bc93262",
   "metadata": {},
   "outputs": [
    {
     "data": {
      "image/png": "[encoded data removed]",
      "text/plain": [
       "<Figure size 864x648 with 1 Axes>"
      ]
     },
     "metadata": {
      "needs_background": "light"
     },
     "output_type": "display_data"
    }
   ],
   "source": [
    "# Создаём контейнер графика matplotlib и задаём его размер\n",
    "plt.figure(figsize=(12, 9))\n",
    "\n",
    "# Строим столбчатую диаграмму с помощью pandas через plot(kind='bar')\n",
    "rest_df['district'].value_counts(ascending=True).plot(\n",
    "               kind='barh', \n",
    "               rot=0, \n",
    "               legend=False, \n",
    "               title=f'Распределение заведений в зависимости от административного района'\n",
    ")\n",
    "\n",
    "# Настраиваем оформление графика\n",
    "plt.xlabel('Количество заведений')\n",
    "plt.ylabel('Административный район')\n",
    "\n",
    "\n",
    "# Выводим график\n",
    "plt.show()"
   ]
  },
  {
   "cell_type": "markdown",
   "id": "01d6fc94",
   "metadata": {},
   "source": [
    "На диаграмме наглядно видно значительное преобладание Центрального административного округа по количеству заведений над остальными."
   ]
  },
  {
   "cell_type": "markdown",
   "id": "c9b814bb",
   "metadata": {},
   "source": [
    "Далее отдельно рассмотрим распределение заведений каждой категории в Центральном административном округе Москвы."
   ]
  },
  {
   "cell_type": "code",
   "execution_count": 45,
   "id": "dc10aaa1",
   "metadata": {},
   "outputs": [
    {
     "name": "stdout",
     "output_type": "stream",
     "text": [
      "Количетсво заведений Центрального административного округа в разрезе категории:\n",
      "ресторан           670\n",
      "кафе               464\n",
      "кофейня            428\n",
      "бар,паб            364\n",
      "пиццерия           113\n",
      "быстрое питание     87\n",
      "столовая            66\n",
      "булочная            50\n",
      "Name: category, dtype: int64\n",
      "Количество заведений Центрального административного округа в разрезе категории в %:\n",
      "ресторан           29.884032\n",
      "кафе               20.695807\n",
      "кофейня            19.090098\n",
      "бар,паб            16.235504\n",
      "пиццерия            5.040143\n",
      "быстрое питание     3.880464\n",
      "столовая            2.943800\n",
      "булочная            2.230152\n",
      "Name: category, dtype: float64\n"
     ]
    }
   ],
   "source": [
    "print(\"Количетсво заведений Центрального административного округа в разрезе категории:\")\n",
    "print(rest_df.loc[rest_df['district'] == \"Центральный административный округ\"]['category'].value_counts())\n",
    "print(\"Количество заведений Центрального административного округа в разрезе категории в %:\")\n",
    "print(rest_df.loc[rest_df['district'] == \"Центральный административный округ\"]['category'].value_counts()/\n",
    "len(rest_df.loc[rest_df['district'] == \"Центральный административный округ\"])*100)"
   ]
  },
  {
   "cell_type": "markdown",
   "id": "08b62faf",
   "metadata": {},
   "source": [
    "Распределение заведений Центрального административного округа в разрезе категорий имеет некоторые отличия по сравнению с распределением по категориям всех заведений г. Москвы. Наибольший процент вместо кафе составляют рестораны - 29,88%, кафе составляют 20,7%. При этом наблюдается более высокий процент кофеен - 19,01% и баров - 16,24%. При этом наименьший процент также среди столовых - 2,94% и булочных - 2,23%."
   ]
  },
  {
   "cell_type": "markdown",
   "id": "68a0272f",
   "metadata": {},
   "source": [
    "Построим визуализацию распределения заведений по категориям для Центрального административного округа."
   ]
  },
  {
   "cell_type": "code",
   "execution_count": 46,
   "id": "55dbe36f",
   "metadata": {},
   "outputs": [
    {
     "data": {
      "image/png": "[encoded data removed]",
      "text/plain": [
       "<Figure size 864x432 with 1 Axes>"
      ]
     },
     "metadata": {
      "needs_background": "light"
     },
     "output_type": "display_data"
    }
   ],
   "source": [
    "# Создаём контейнер графика matplotlib и задаём его размер\n",
    "plt.figure(figsize=(12, 6))\n",
    "\n",
    "# Строим столбчатую диаграмму с помощью pandas через plot(kind='bar')\n",
    "rest_df.loc[rest_df['district'] == \"Центральный административный округ\"]['category'].value_counts().plot(\n",
    "               kind='bar', \n",
    "               rot=0, \n",
    "               legend=False, \n",
    "               title=f'Распределение заведений в зависимости от категории',\n",
    "    color='green'\n",
    ")\n",
    "\n",
    "# Настраиваем оформление графика\n",
    "plt.xlabel('Категория заведения')\n",
    "plt.ylabel('Количество заведений')\n",
    "\n",
    "\n",
    "# Выводим график\n",
    "plt.show()"
   ]
  },
  {
   "cell_type": "markdown",
   "id": "cc011aea",
   "metadata": {},
   "source": [
    "На диаграмме наглядно видно значительное преобладание заведений категории \"ресторан\", а также большее количество кафе, кофеен и баров (пабов)."
   ]
  },
  {
   "cell_type": "markdown",
   "id": "758fe7ad",
   "metadata": {
    "id": "ef442d1a"
   },
   "source": [
    "Выведем общее количество сетевых и несетевых заведений в абсолютном и относительном значениях."
   ]
  },
  {
   "cell_type": "code",
   "execution_count": 47,
   "id": "0de29fa2",
   "metadata": {
    "id": "0de29fa2"
   },
   "outputs": [
    {
     "name": "stdout",
     "output_type": "stream",
     "text": [
      "Общее количество сетевых и несетевых заведений:\n",
      "chain\n",
      "0    5199\n",
      "1    3203\n",
      "Name: chain, dtype: int64\n",
      "Общее количество сетевых и несетевых заведений в %:\n",
      "chain\n",
      "0    61.878124\n",
      "1    38.121876\n",
      "Name: chain, dtype: float64\n"
     ]
    }
   ],
   "source": [
    "print(\"Общее количество сетевых и несетевых заведений:\")\n",
    "print(rest_df.groupby('chain')['chain'].count())\n",
    "print(\"Общее количество сетевых и несетевых заведений в %:\")\n",
    "print(rest_df.groupby('chain')['chain'].count()/len(rest_df)*100)"
   ]
  },
  {
   "cell_type": "markdown",
   "id": "5162b5ae",
   "metadata": {
    "id": "a139bd72"
   },
   "source": [
    "Всего датафрейм содержит данные о 3203 сетевых и 5199 несетевых заведений, что составляет 38,12% и 61,88% соответственно. Отобразим полученные данные на круговой диаграмме."
   ]
  },
  {
   "cell_type": "code",
   "execution_count": 48,
   "id": "d293f751",
   "metadata": {},
   "outputs": [
    {
     "data": {
      "image/png": "[encoded data removed]",
      "text/plain": [
       "<Figure size 720x576 with 1 Axes>"
      ]
     },
     "metadata": {},
     "output_type": "display_data"
    }
   ],
   "source": [
    "# Создаём контейнер графика matplotlib и задаём его размер\n",
    "plt.figure(figsize=(10, 8))\n",
    "\n",
    "# Строим круговую диаграмму с помощью pandas через plot(kind='pie')\n",
    "rest_df['chain'].value_counts(ascending=True).plot(\n",
    "               kind='pie', \n",
    "               title=f'Соотношение сетевых и несетевых заведений, %',\n",
    "               autopct='%.2f',\n",
    "               labels=['Сетевые', 'Несетевые'],\n",
    "                           \n",
    ")\n",
    "\n",
    "# Настраиваем оформление графика\n",
    "plt.legend()\n",
    "\n",
    "\n",
    "# Выводим график\n",
    "plt.show()"
   ]
  },
  {
   "cell_type": "markdown",
   "id": "c22a2b7d",
   "metadata": {},
   "source": [
    "Также рассмотрим соотношение сетевых и несетевых заведений в разрезе категорий."
   ]
  },
  {
   "cell_type": "code",
   "execution_count": 49,
   "id": "36af8406",
   "metadata": {},
   "outputs": [
    {
     "name": "stdout",
     "output_type": "stream",
     "text": [
      "Соотношение сетевых и несетевых заведений по категориям в абсолютных значениях:\n",
      "chain               0    1\n",
      "category                  \n",
      "бар,паб           596  168\n",
      "булочная           99  157\n",
      "быстрое питание   371  232\n",
      "кафе             1597  779\n",
      "кофейня           693  720\n",
      "пиццерия          303  330\n",
      "ресторан         1313  729\n",
      "столовая          227   88\n",
      "Соотношение сетевых и несетевых заведений по категориям в относительных значениях, в %:\n",
      "chain                    0          1\n",
      "category                             \n",
      "бар,паб          78.010471  21.989529\n",
      "булочная         38.671875  61.328125\n",
      "быстрое питание  61.525705  38.474295\n",
      "кафе             67.213805  32.786195\n",
      "кофейня          49.044586  50.955414\n",
      "пиццерия         47.867299  52.132701\n",
      "ресторан         64.299706  35.700294\n",
      "столовая         72.063492  27.936508\n"
     ]
    }
   ],
   "source": [
    "print('Соотношение сетевых и несетевых заведений по категориям в абсолютных значениях:')\n",
    "print(rest_df.groupby('category')['chain'].value_counts().unstack(fill_value=0))\n",
    "print('Соотношение сетевых и несетевых заведений по категориям в относительных значениях, в %:')\n",
    "print(rest_df.groupby('category')['chain'].value_counts(normalize=True).unstack(fill_value=0)*100)"
   ]
  },
  {
   "cell_type": "markdown",
   "id": "8ae1d438",
   "metadata": {},
   "source": [
    "Как видно из выгрузки соотношение сетевых и несетевых заведений по категориям распределено не равномерно. Самый большой процент сетевых заведений наблюдается среди булочных - 61,33%. Кофейни и пиццерии распределены поровну с небольшим преобладанием сетевых заведений. Для остальных категорий большую часть занимают несетевые заведения, самый большой процент наблюдается у баров и столовых - 78,01% и 72,06% соответственно.\n",
    "\n",
    "Построим визуализацию соотношения сетевых и несетевых заведений в разрезе категории."
   ]
  },
  {
   "cell_type": "code",
   "execution_count": 50,
   "id": "93c0ed59",
   "metadata": {},
   "outputs": [],
   "source": [
    "#rest_chain=rest_df.groupby('category')['chain'].value_counts(normalize=True).unstack(fill_value=0)*100\n",
    "#print(rest_chain[1])"
   ]
  },
  {
   "cell_type": "code",
   "execution_count": 51,
   "id": "90a0615e",
   "metadata": {},
   "outputs": [
    {
     "data": {
      "image/png": "[encoded data removed]",
      "text/plain": [
       "<Figure size 864x504 with 1 Axes>"
      ]
     },
     "metadata": {
      "needs_background": "light"
     },
     "output_type": "display_data"
    }
   ],
   "source": [
    "# Построим график столбчатой диаграммы\n",
    "\n",
    "rest_chain=rest_df.groupby('category')['chain'].value_counts(normalize=True).unstack(fill_value=0)*100\n",
    "\n",
    "rest_chain[1].sort_values(ascending=False).plot(kind='bar',\n",
    "               title=f'Процент сетевых заведений в разрезе категории',\n",
    "               ylabel='Доля сетевых заведений, %',\n",
    "               xlabel='Категория заведения',\n",
    "               rot=0,\n",
    "               figsize=(12, 7))\n",
    "plt.grid()\n",
    "\n",
    "# Выводим график\n",
    "plt.show()"
   ]
  },
  {
   "cell_type": "markdown",
   "id": "87518c66",
   "metadata": {},
   "source": [
    "На диаграмме наглядно видно преобладание сетевых заведений над несетевыми для категорий `булочная`, `кофейня` и `пиццерия`."
   ]
  },
  {
   "cell_type": "markdown",
   "id": "d3cbfa48",
   "metadata": {},
   "source": [
    "Выведем статистические показатели для столбца `seats`."
   ]
  },
  {
   "cell_type": "code",
   "execution_count": 52,
   "id": "6cb238d2",
   "metadata": {
    "id": "6cb238d2"
   },
   "outputs": [
    {
     "name": "stdout",
     "output_type": "stream",
     "text": [
      "Статистические показатели столбца seats:\n"
     ]
    },
    {
     "data": {
      "text/plain": [
       "count    4792.000000\n",
       "mean      108.361435\n",
       "std       122.841133\n",
       "min         0.000000\n",
       "25%        40.000000\n",
       "50%        75.000000\n",
       "75%       140.000000\n",
       "max      1288.000000\n",
       "Name: seats, dtype: float64"
      ]
     },
     "execution_count": 52,
     "metadata": {},
     "output_type": "execute_result"
    }
   ],
   "source": [
    "# Изучаем статистические показатели столбца \"seats\"\n",
    "print('Статистические показатели столбца seats:')\n",
    "rest_df['seats'].describe()"
   ]
  },
  {
   "cell_type": "markdown",
   "id": "52d47f4b",
   "metadata": {
    "id": "062b55d8"
   },
   "source": [
    "Минимальное количество посадочных мест — 0, максимальное — 1288. Среднее значение составляет 108,36 мест, тогда как медиана — 75. Значительное отклонение среднего значения от медианы свидетельствует о том, что распределение не является нормальным, превышение среднего значения над медианой свидетельствует о правом симметричном распределении. Также наблюдается высокое значение стандартного отклонения, а также крайне высокое максимальное значение, что может свидетельствовать о наличии выбросов в данных."
   ]
  },
  {
   "cell_type": "markdown",
   "id": "21277f71",
   "metadata": {
    "id": "ceadf25b"
   },
   "source": [
    "Дополнительно проверим это и построим гистограмму распределения значений и диаграмму размаха для столбца с посадочными местами."
   ]
  },
  {
   "cell_type": "code",
   "execution_count": 53,
   "id": "12d2f448",
   "metadata": {},
   "outputs": [
    {
     "data": {
      "image/png": "[encoded data removed]",
      "text/plain": [
       "<Figure size 864x576 with 1 Axes>"
      ]
     },
     "metadata": {
      "needs_background": "light"
     },
     "output_type": "display_data"
    }
   ],
   "source": [
    "# Создаём контейнер графика matplotlib и задаём его размер\n",
    "plt.figure(figsize=(12, 8))\n",
    "\n",
    "# Строим гистограмму с помощью pandas через plot(kind='hist')\n",
    "rest_df['seats'].plot(\n",
    "                kind='hist', \n",
    "                bins=25, \n",
    "                alpha=0.75,\n",
    "                edgecolor='black',\n",
    "                rot=0, \n",
    ")\n",
    "\n",
    "# Настраиваем оформление графика\n",
    "plt.title('Распределение количества посадочных мест')\n",
    "plt.xlabel('Посалочные месат')\n",
    "plt.ylabel('Частота')\n",
    "# Добавляем сетку графика\n",
    "plt.grid()"
   ]
  },
  {
   "cell_type": "code",
   "execution_count": 54,
   "id": "b10785fe",
   "metadata": {},
   "outputs": [
    {
     "data": {
      "image/png": "[encoded data removed]",
      "text/plain": [
       "<Figure size 864x288 with 1 Axes>"
      ]
     },
     "metadata": {
      "needs_background": "light"
     },
     "output_type": "display_data"
    }
   ],
   "source": [
    "# Создаём контейнер графика matplotlib и задаём его размер\n",
    "plt.figure(figsize=(12, 4))\n",
    "\n",
    "# Строим диаграмму размаха значений в столбце seats\n",
    "rest_df.boxplot(column='seats', vert=False)\n",
    "\n",
    "# Добавляем заголовок и метки оси\n",
    "plt.title('Распределение значений посадочных мест')\n",
    "plt.xlabel('Количество посадочных мест')\n",
    "\n",
    "# Выводим график\n",
    "plt.show()"
   ]
  },
  {
   "cell_type": "markdown",
   "id": "edf1e7aa",
   "metadata": {},
   "source": [
    "Распределение значения посадочных мест асимметричное, скошенное вправо. По гистограмме распределения значений видно, что большинство значений сосредоточенно в интервале от 0 до 100 посадочных мест. По гистограмме размаха видно, что значения выше примерно 350 мест можно считать выбросами. Данные выбросы могли возникнуть из-за ошибок ввода или аномальных данных."
   ]
  },
  {
   "cell_type": "markdown",
   "id": "c1746c0a",
   "metadata": {},
   "source": [
    "Для каждой категории заведений приведём наиболее типичное для него количество посадочных мест. Для этого для каждой категории рассчитаем медиану. В связи с наличием выбросов использование для данной задачи среднего значения может выдать некорректный результат."
   ]
  },
  {
   "cell_type": "code",
   "execution_count": 55,
   "id": "8dc62289",
   "metadata": {},
   "outputs": [
    {
     "data": {
      "text/plain": [
       "category\n",
       "ресторан           86.0\n",
       "бар,паб            82.0\n",
       "кофейня            80.0\n",
       "столовая           75.5\n",
       "быстрое питание    65.0\n",
       "кафе               60.0\n",
       "пиццерия           55.0\n",
       "булочная           50.0\n",
       "Name: seats, dtype: float32"
      ]
     },
     "execution_count": 55,
     "metadata": {},
     "output_type": "execute_result"
    }
   ],
   "source": [
    "# Выведем медианное значение для посадочных мест в зависимости от категории заведения\n",
    "rest_df.groupby('category')['seats'].median().sort_values(ascending=False)"
   ]
  },
  {
   "cell_type": "markdown",
   "id": "01dec9ca",
   "metadata": {},
   "source": [
    "Медианные значения посадочных мест для каждой категории колеблются в интервале 50-86 мест. Больше всего посадочных мест характерно для ресторанов и баров - 86 и 82 мест соответственно, меньше всего для булочных и пиццерий - 50 и 55 мест соответственно. \n",
    "\n",
    "\n",
    "Выведем визуализацию для отражения медианных значения посадочных мест для каждой категории."
   ]
  },
  {
   "cell_type": "code",
   "execution_count": 56,
   "id": "ecc97b13",
   "metadata": {},
   "outputs": [
    {
     "data": {
      "text/plain": [
       "<matplotlib.legend.Legend at 0x7fd6dee23250>"
      ]
     },
     "execution_count": 56,
     "metadata": {},
     "output_type": "execute_result"
    },
    {
     "data": {
      "image/png": "[encoded data removed]",
      "text/plain": [
       "<Figure size 864x504 with 1 Axes>"
      ]
     },
     "metadata": {
      "needs_background": "light"
     },
     "output_type": "display_data"
    }
   ],
   "source": [
    "# Строим диаграмму медианных значений в столбце seats в разрезе категорий\n",
    "rest_df.groupby('category')['seats'].median().sort_values(ascending=False).plot(kind='bar',\n",
    "               title=f'Медианные значения посадочных мест в зависимости от категории',\n",
    "               legend=True,\n",
    "               ylabel='Количество посадочных мест',\n",
    "               xlabel='Категория',\n",
    "               rot=0,\n",
    "               figsize=(12, 7))\n",
    "\n",
    "# Рассчитываем медианное значение посадочных мест вне зависимости от категории\n",
    "median_seats = rest_df['seats'].median()\n",
    "\n",
    "# Наносим на график линию с медианным значением посадочных мест независимо от категории\n",
    "plt.axhline(median_seats, \n",
    "            color='red', \n",
    "            linestyle='--', \n",
    "            linewidth=1, \n",
    "            label=f'Медианное значение для всех категорий {round(median_seats,4)}')\n",
    "\n",
    "plt.grid()\n",
    "plt.legend()"
   ]
  },
  {
   "cell_type": "markdown",
   "id": "764b1a9b",
   "metadata": {},
   "source": [
    "Из диаграммы видно, что количество посадочных мест для заведений таких категорий как `бар`, `кофейня`, `ресторан`, `столовая` выше медианного значения мест вне зависимости от категории."
   ]
  },
  {
   "cell_type": "markdown",
   "id": "a0b1189b",
   "metadata": {
    "id": "cc5206f8"
   },
   "source": [
    "Выведем статистические показатели для столбца rating."
   ]
  },
  {
   "cell_type": "code",
   "execution_count": 57,
   "id": "3e0ec5d7",
   "metadata": {
    "id": "3e0ec5d7"
   },
   "outputs": [
    {
     "name": "stdout",
     "output_type": "stream",
     "text": [
      "Статистические показатели столбца rating:\n"
     ]
    },
    {
     "data": {
      "text/plain": [
       "count    8402.000000\n",
       "mean        4.230016\n",
       "std         0.470320\n",
       "min         1.000000\n",
       "25%         4.100000\n",
       "50%         4.300000\n",
       "75%         4.400000\n",
       "max         5.000000\n",
       "Name: rating, dtype: float64"
      ]
     },
     "execution_count": 57,
     "metadata": {},
     "output_type": "execute_result"
    }
   ],
   "source": [
    "# Изучаем статистические показатели столбца \"rating\"\n",
    "print('Статистические показатели столбца rating:')\n",
    "rest_df['rating'].describe()"
   ]
  },
  {
   "cell_type": "markdown",
   "id": "d94dd692",
   "metadata": {
    "id": "766c86cb"
   },
   "source": [
    "Минимальное значение рейтинга составляет 0,47, максимальное - 5. Среднее значение 4,23 достаточно близко к медианному значению - 4,3, что свидетельствует о том, что распределение близко к нормальному.\n",
    "\n",
    "Построим гистограмму распределения значений для столбца с рейтингом."
   ]
  },
  {
   "cell_type": "code",
   "execution_count": 58,
   "id": "697ca72f",
   "metadata": {},
   "outputs": [
    {
     "data": {
      "image/png": "[encoded data removed]",
      "text/plain": [
       "<Figure size 864x576 with 1 Axes>"
      ]
     },
     "metadata": {
      "needs_background": "light"
     },
     "output_type": "display_data"
    }
   ],
   "source": [
    "# Создаём контейнер графика matplotlib и задаём его размер\n",
    "plt.figure(figsize=(12, 8))\n",
    "\n",
    "# Строим гистограмму с помощью pandas через plot(kind='hist')\n",
    "rest_df['rating'].plot(\n",
    "                kind='hist', \n",
    "                bins=25, \n",
    "                alpha=0.75,\n",
    "                edgecolor='black',\n",
    "                rot=0, \n",
    ")\n",
    "\n",
    "# Настраиваем оформление графика\n",
    "plt.title('Распределение рейтинга заведений')\n",
    "plt.xlabel('Рейтинг заведений')\n",
    "plt.ylabel('Частота')\n",
    "# Добавляем сетку графика\n",
    "plt.grid()"
   ]
  },
  {
   "cell_type": "markdown",
   "id": "675c6e38",
   "metadata": {},
   "source": [
    "На гистограмме наблюдается левосторонняя или отрицательная скошенность, среднее значение меньше медианы. Наиболее часто встречаемым значением (мода) является 4,3. Для большинства заведений рейтинг находится в интервале 4.2-4.5. Заведения с крайне низким рейтингом (1.0-3.0) встречаются нечасто."
   ]
  },
  {
   "cell_type": "markdown",
   "id": "76cfe3b0",
   "metadata": {},
   "source": [
    "Далее выведем средние значения рейтингов заведения в зависимости от категории."
   ]
  },
  {
   "cell_type": "code",
   "execution_count": 59,
   "id": "d5c80522",
   "metadata": {},
   "outputs": [
    {
     "data": {
      "text/plain": [
       "category\n",
       "быстрое питание    4.050249\n",
       "кафе               4.124285\n",
       "столовая           4.211429\n",
       "булочная           4.268359\n",
       "кофейня            4.277282\n",
       "ресторан           4.290401\n",
       "пиццерия           4.301264\n",
       "бар,паб            4.387696\n",
       "Name: rating, dtype: float32"
      ]
     },
     "execution_count": 59,
     "metadata": {},
     "output_type": "execute_result"
    }
   ],
   "source": [
    "# Выведем средние значения рейтингов заведения в зависимости от категории\n",
    "rest_df.groupby('category')['rating'].mean().sort_values()"
   ]
  },
  {
   "cell_type": "markdown",
   "id": "6b9f8f68",
   "metadata": {},
   "source": [
    "Наибольшим средним рейтингом обладают заведения категорий `бар, паб` и `пиццерия`, наименьшим - заведения категорий `быстрое питание` и `кафе`.\n",
    "\n",
    "Дополнительно выведем визуализацию средних значений в зависимости от категории."
   ]
  },
  {
   "cell_type": "code",
   "execution_count": 60,
   "id": "042cf2c2",
   "metadata": {},
   "outputs": [
    {
     "data": {
      "text/plain": [
       "<matplotlib.legend.Legend at 0x7fd71d38a7c0>"
      ]
     },
     "execution_count": 60,
     "metadata": {},
     "output_type": "execute_result"
    },
    {
     "data": {
      "image/png": "[encoded data removed]",
      "text/plain": [
       "<Figure size 648x432 with 1 Axes>"
      ]
     },
     "metadata": {
      "needs_background": "light"
     },
     "output_type": "display_data"
    }
   ],
   "source": [
    "# Строим диаграмму с помощью pandas через plot(kind='bar')\n",
    "rest_df.groupby('category')['rating'].mean().sort_values(ascending=False).plot(kind='bar',\n",
    "               title=f'Средние показатели рейтинга в зависимости от категории',\n",
    "               legend=True,\n",
    "               ylabel='Рейтинг',\n",
    "               xlabel='Категория',\n",
    "               rot=0,\n",
    "               figsize=(9, 6))\n",
    "\n",
    "# Рассчитываем медианное значение посадочных мест вне зависимости от категории\n",
    "mean_rating = rest_df['rating'].mean()\n",
    "\n",
    "# Наносим на график линию с средним значением рейтинга независимо от категории\n",
    "plt.axhline(mean_rating, # Данные, по которым строится линия\n",
    "            color='red', # Цвет линии\n",
    "            linestyle='--', # Стиль линии\n",
    "            linewidth=1, # Ширина линии\n",
    "            label=f'Среднее значение для всех категорий {round(mean_rating,4)}')\n",
    "\n",
    "plt.grid()\n",
    "plt.legend(loc='lower right')"
   ]
  },
  {
   "cell_type": "markdown",
   "id": "c2b9d05b",
   "metadata": {},
   "source": [
    "Как видно из диаграммы, для большинства категорий средний рейтинг заведений близок к среднему значению по всей выборке. Однако для таких категорий как `быстрое питание`, `кафе` и `столовая` данный показатель чуть ниже среднего рейтинга по всем заведениям."
   ]
  },
  {
   "cell_type": "markdown",
   "id": "3252a6ad",
   "metadata": {
    "id": "15400eb9"
   },
   "source": [
    "Рассчитаем матрицу корреляции `phi_k` для данных о рейтинг заведений общественного питания г. Москвы. В качестве факторов, влияющих на рейтинг будут рассмотрены  категория, положение (административный район Москвы), статус сетевого заведения, количество мест, ценовая категория и признак, является ли заведения круглосуточным.\n",
    "\n",
    "Выведем корреляционную матрицу."
   ]
  },
  {
   "cell_type": "code",
   "execution_count": 61,
   "id": "8f0379af",
   "metadata": {
    "id": "8f0379af"
   },
   "outputs": [
    {
     "name": "stdout",
     "output_type": "stream",
     "text": [
      "interval columns not set, guessing: ['chain', 'seats', 'rating']\n",
      "Корреляционная матрица с коэффициентом phi_k для переменной rating\n"
     ]
    },
    {
     "data": {
      "text/html": [
       "<div>\n",
       "<style scoped>\n",
       "    .dataframe tbody tr th:only-of-type {\n",
       "        vertical-align: middle;\n",
       "    }\n",
       "\n",
       "    .dataframe tbody tr th {\n",
       "        vertical-align: top;\n",
       "    }\n",
       "\n",
       "    .dataframe thead th {\n",
       "        text-align: right;\n",
       "    }\n",
       "</style>\n",
       "<table border=\"1\" class=\"dataframe\">\n",
       "  <thead>\n",
       "    <tr style=\"text-align: right;\">\n",
       "      <th></th>\n",
       "      <th>rating</th>\n",
       "    </tr>\n",
       "  </thead>\n",
       "  <tbody>\n",
       "    <tr>\n",
       "      <th>price</th>\n",
       "      <td>0.310473</td>\n",
       "    </tr>\n",
       "    <tr>\n",
       "      <th>category</th>\n",
       "      <td>0.198739</td>\n",
       "    </tr>\n",
       "    <tr>\n",
       "      <th>district</th>\n",
       "      <td>0.189453</td>\n",
       "    </tr>\n",
       "    <tr>\n",
       "      <th>is_24_7</th>\n",
       "      <td>0.161010</td>\n",
       "    </tr>\n",
       "    <tr>\n",
       "      <th>chain</th>\n",
       "      <td>0.118857</td>\n",
       "    </tr>\n",
       "    <tr>\n",
       "      <th>seats</th>\n",
       "      <td>0.000000</td>\n",
       "    </tr>\n",
       "  </tbody>\n",
       "</table>\n",
       "</div>"
      ],
      "text/plain": [
       "            rating\n",
       "price     0.310473\n",
       "category  0.198739\n",
       "district  0.189453\n",
       "is_24_7   0.161010\n",
       "chain     0.118857\n",
       "seats     0.000000"
      ]
     },
     "execution_count": 61,
     "metadata": {},
     "output_type": "execute_result"
    }
   ],
   "source": [
    "# Вычисляем корреляционную матрицу с использованием phi_k\n",
    "correlation_matrix = rest_df[['category', 'district', 'chain', 'seats', 'price',\n",
    "                         'is_24_7', 'rating']].phik_matrix()\n",
    "\n",
    "# Выводим результат\n",
    "print('Корреляционная матрица с коэффициентом phi_k для переменной rating')\n",
    "correlation_matrix.loc[correlation_matrix.index != 'rating'][['rating']].sort_values(by='rating', ascending=False)"
   ]
  },
  {
   "cell_type": "markdown",
   "id": "cc236a8b",
   "metadata": {},
   "source": [
    "Наибольшая корреляция рейтинга заведений наблюдается с уровнем цен (0.31). Также наблюдается определённая корреляция с категорией заведения (0.2) и административным районом (0.19). Совсем отсутствует корреляция между рейтингом и количеством посадочных мест.\n",
    "\n",
    "Визуализируем результат корреляции с помощью тепловой карты и библиотеки seaborn."
   ]
  },
  {
   "cell_type": "code",
   "execution_count": 62,
   "id": "2ac700c0",
   "metadata": {},
   "outputs": [
    {
     "data": {
      "image/png": "[encoded data removed]",
      "text/plain": [
       "<Figure size 144x432 with 1 Axes>"
      ]
     },
     "metadata": {
      "needs_background": "light"
     },
     "output_type": "display_data"
    }
   ],
   "source": [
    "# Строим тепловую карту\n",
    "plt.figure(figsize=(2, 6))\n",
    "\n",
    "# Сохраняем матрицу корреляции признака rating с другими признаками\n",
    "data_heatmap = correlation_matrix.loc[correlation_matrix.index != 'rating'][['rating']].sort_values(by='rating', ascending=False)\n",
    "sns.heatmap(data_heatmap,\n",
    "            annot=True, \n",
    "            fmt='.2f', \n",
    "            cmap='coolwarm', \n",
    "            linewidths=0.5, \n",
    "            cbar=False \n",
    "           )\n",
    "\n",
    "# Добавляем заголовок и подпись по оси Х\n",
    "plt.title('Тепловая карта коэффициента phi_k \\n для данных rating')\n",
    "plt.xlabel('Рейтинг заведений')\n",
    "\n",
    "# Выводим график\n",
    "plt.show()"
   ]
  },
  {
   "cell_type": "markdown",
   "id": "0528a3a3",
   "metadata": {},
   "source": [
    "Изучим, существует ли зависимость между рейтингом заведения и уровнем цен. Для этого построим столбчатую диаграмму среднего рейтинга заведений с разделением по признаку `price`. Перед этим предварительно исключим пустые значения по столбцу price."
   ]
  },
  {
   "cell_type": "code",
   "execution_count": 63,
   "id": "fa1d6a59",
   "metadata": {},
   "outputs": [
    {
     "data": {
      "text/plain": [
       "<matplotlib.legend.Legend at 0x7fd71d0750d0>"
      ]
     },
     "execution_count": 63,
     "metadata": {},
     "output_type": "execute_result"
    },
    {
     "data": {
      "image/png": "[encoded data removed]",
      "text/plain": [
       "<Figure size 576x432 with 1 Axes>"
      ]
     },
     "metadata": {
      "needs_background": "light"
     },
     "output_type": "display_data"
    }
   ],
   "source": [
    "# Строим диаграмму с помощью pandas через plot(kind='bar')\n",
    "price_w_out_blank=rest_df.loc[rest_df['price'] != '']\n",
    "price_w_out_blank.groupby('price')['rating'].mean().sort_values(ascending=False).plot(kind='bar',\n",
    "               title=f'Средние показатели рейтинга в зависимости от ценовой категории',\n",
    "               legend=True,\n",
    "               ylabel='Средний рейтинг',\n",
    "               xlabel='Ценовая категория',\n",
    "               rot=0,                                                                         \n",
    "               figsize=(8, 6))\n",
    "\n",
    "# Рассчитываем среднее значение рейтинга вне зависимости от ценовой категории\n",
    "mean_rating = rest_df['rating'].mean()\n",
    "\n",
    "# Наносим на график линию с средним значением рейтинга независимо от категории\n",
    "plt.axhline(mean_rating, # Данные, по которым строится линия\n",
    "            color='red', # Цвет линии\n",
    "            linestyle='--', # Стиль линии\n",
    "            linewidth=1, # Ширина линии,\n",
    "            label=f'Среднее значение для всех ценовых категорий {round(mean_rating,4)}')\n",
    "\n",
    "plt.grid()\n",
    "plt.legend()"
   ]
  },
  {
   "cell_type": "markdown",
   "id": "e83c1579",
   "metadata": {},
   "source": [
    "Как видно из диаграммы, между уровнем цен и рейтингом заведения существует определённая зависимость. Заведения с более высокими ценами имеют более высокий рейтинг, заведения с низкими ценами - более низкий. При этом заведедения с ценовыми категориями `Высокие`, `Выше среднего` и `Средние` имеют рейтинг выше чем средний рейтинга по всей выборке."
   ]
  },
  {
   "cell_type": "markdown",
   "id": "4de962b2",
   "metadata": {
    "id": "5d828a9a"
   },
   "source": [
    "Выведем топ-15 популярных сетей в г. Москва по количеству заведений с указанием среднего рейтинга и категории для сети."
   ]
  },
  {
   "cell_type": "code",
   "execution_count": 64,
   "id": "774348d5",
   "metadata": {
    "id": "774348d5"
   },
   "outputs": [
    {
     "name": "stdout",
     "output_type": "stream",
     "text": [
      "Топ-15 популярных сетей в г. Москва по количеству заведений:\n",
      "                                      id    rating         category\n",
      "name                                                               \n",
      "КАФЕ                                 188  3.884574             кафе\n",
      "ШОКОЛАДНИЦА                          120  4.177500          кофейня\n",
      "ДОМИНО'С ПИЦЦА                        77  4.171429         пиццерия\n",
      "ДОДО ПИЦЦА                            74  4.286487         пиццерия\n",
      "ONE PRICE COFFEE                      72  4.069445          кофейня\n",
      "ЯНДЕКС ЛАВКА                          69  3.872464         ресторан\n",
      "COFIX                                 65  4.075385          кофейня\n",
      "PRIME                                 50  4.116000         ресторан\n",
      "ХИНКАЛЬНАЯ                            44  4.322727             кафе\n",
      "ШАУРМА                                43  3.909302  быстрое питание\n",
      "КОФЕПОРТ                              42  4.147619          кофейня\n",
      "КУЛИНАРНАЯ ЛАВКА БРАТЬЕВ КАРАВАЕВЫХ   39  4.394872             кафе\n",
      "ТЕРЕМОК                               38  4.123684         ресторан\n",
      "ЧАЙХАНА                               37  3.924324             кафе\n",
      "РЕСТОРАН                              34  4.314706         ресторан\n",
      "Значения среднего рейтинга для всех заведений г. Москва:\n",
      "4.230016\n"
     ]
    }
   ],
   "source": [
    "top_rest=rest_df.groupby('name').agg({'id':'count','rating': 'mean', 'category': pd.Series.mode}).sort_values('id',ascending=False).head(15)\n",
    "print('Топ-15 популярных сетей в г. Москва по количеству заведений:')\n",
    "print(top_rest)\n",
    "print('Значения среднего рейтинга для всех заведений г. Москва:')\n",
    "print(rest_df['rating'].mean())"
   ]
  },
  {
   "cell_type": "markdown",
   "id": "6432564a",
   "metadata": {},
   "source": [
    "Наибольшее количество заведений наблюдается для таких сетей как `Кафе`- 188 заведений, `ШОКОЛАДНИЦА` - 120 заведений и `ДОМИНО'С ПИЦЦА` - 77 заведений. Можно отметить, что средний рейтинг для большинства заведений из топ 15 ниже среднего рейтинга по всей выборке.\n",
    "\n",
    "Из сетей топ-15 по количеству заведений, большинство сетей относится к категории `кафе`, `кофейня` и `ресторан` по 4 сети."
   ]
  },
  {
   "cell_type": "code",
   "execution_count": 65,
   "id": "820db98a",
   "metadata": {},
   "outputs": [
    {
     "data": {
      "text/plain": [
       "category\n",
       "быстрое питание    1\n",
       "кафе               4\n",
       "кофейня            4\n",
       "пиццерия           2\n",
       "ресторан           4\n",
       "Name: category, dtype: int64"
      ]
     },
     "execution_count": 65,
     "metadata": {},
     "output_type": "execute_result"
    }
   ],
   "source": [
    "# Выведем распределение по категориям для заведений из топ-15\n",
    "top_rest.groupby('category')['category'].count()"
   ]
  },
  {
   "cell_type": "markdown",
   "id": "ceec0eb2",
   "metadata": {},
   "source": [
    "Дополнительно выведем визуализацию для топ-15 сетей по количеству заведений."
   ]
  },
  {
   "cell_type": "code",
   "execution_count": 66,
   "id": "dc2054c6",
   "metadata": {},
   "outputs": [
    {
     "data": {
      "image/png": "[encoded data removed]",
      "text/plain": [
       "<Figure size 864x648 with 1 Axes>"
      ]
     },
     "metadata": {
      "needs_background": "light"
     },
     "output_type": "display_data"
    }
   ],
   "source": [
    "# Создаём контейнер графика matplotlib и задаём его размер\n",
    "plt.figure(figsize=(12, 9))\n",
    "\n",
    "\n",
    "# Строим столбчатую диаграмму с помощью pandas через plot(kind='barh')\n",
    "rest_df['name'].value_counts(ascending=True).tail(15).plot(\n",
    "               kind='barh', \n",
    "               rot=0, \n",
    "               legend=False, \n",
    "               title=f'Топ-15 сетей по количеству заведений'\n",
    ")\n",
    "\n",
    "# Настраиваем оформление графика\n",
    "plt.xlabel('Количество заведений')\n",
    "plt.ylabel('Название заведения')\n",
    "\n",
    "\n",
    "# Выводим график\n",
    "plt.show()"
   ]
  },
  {
   "cell_type": "markdown",
   "id": "c6740ef1",
   "metadata": {},
   "source": [
    "Дополнительно выведем визуализацию среднего рейтинга топ-15 сетей по количеству заведений."
   ]
  },
  {
   "cell_type": "code",
   "execution_count": 67,
   "id": "becb5120",
   "metadata": {},
   "outputs": [
    {
     "data": {
      "image/png": "[encoded data removed]",
      "text/plain": [
       "<Figure size 864x648 with 1 Axes>"
      ]
     },
     "metadata": {
      "needs_background": "light"
     },
     "output_type": "display_data"
    }
   ],
   "source": [
    "# Создаём контейнер графика matplotlib и задаём его размер\n",
    "plt.figure(figsize=(12, 9))\n",
    "\n",
    "\n",
    "# Строим столбчатую диаграмму с помощью pandas через plot(kind='barh')\n",
    "top_rest['rating'].sort_values(ascending=True).plot(\n",
    "               kind='barh', \n",
    "               rot=0, \n",
    "               legend=False,\n",
    "               title=f'Средний рейтинг топ-15 сетей по количеству заведений'\n",
    ")\n",
    "\n",
    "# Настраиваем оформление графика\n",
    "plt.xlabel('Средний рейтинг сети')\n",
    "plt.ylabel('Название заведения')\n",
    "\n",
    "# Рассчитываем среднее значение рейтинга вне зависимости от ценовой категории\n",
    "mean_rating = rest_df['rating'].mean()\n",
    "\n",
    "# Наносим на график линию с средним значением рейтинга независимо от категории\n",
    "plt.axvline(mean_rating, \n",
    "            color='red', \n",
    "            linestyle='--', \n",
    "            linewidth=1, \n",
    "            label=f'Среднее значение для всех ценовых категорий {round(mean_rating,4)}')\n",
    "\n",
    "# Выводим график\n",
    "plt.show()"
   ]
  },
  {
   "cell_type": "markdown",
   "id": "54f83e33",
   "metadata": {},
   "source": [
    "Как видно из визуализации наибольшим средним рейтингом среди самых популярных сетей обладают такие сети как `КУЛИНАРНАЯ ЛАВКА БРАТЬЕВ КАРАВАЕВЫХ`, `ХИНКАЛЬНАЯ`, `РЕСТОРАН` и `ДОДДО ПИЦЦА`. Для данных сетей значение среднего рейтинга превосходит значение среднего рейтинга по всей выбороке данных."
   ]
  },
  {
   "cell_type": "markdown",
   "id": "9984ee07",
   "metadata": {},
   "source": [
    "Выведем статистические показатели с помощью метода `describe()` для столбца `middle_avg_bill` в разрезе административного района г. Москвы."
   ]
  },
  {
   "cell_type": "code",
   "execution_count": 68,
   "id": "5fb4ffc6",
   "metadata": {
    "id": "5fb4ffc6"
   },
   "outputs": [
    {
     "name": "stdout",
     "output_type": "stream",
     "text": [
      "                                          count         mean          std  \\\n",
      "district                                                                    \n",
      "Центральный административный округ       1060.0  1191.057495   920.014709   \n",
      "Западный административный округ           306.0  1053.225464   779.008484   \n",
      "Северный административный округ           322.0   927.959656   912.609192   \n",
      "Южный административный округ              314.0   834.398071  2008.640625   \n",
      "Северо-Западный административный округ    157.0   822.222900   595.055237   \n",
      "Восточный административный округ          260.0   820.626953   850.903320   \n",
      "Юго-Западный административный округ       235.0   792.561707   559.173096   \n",
      "Северо-Восточный административный округ   301.0   716.611267   591.232117   \n",
      "Юго-Восточный административный округ      194.0   654.097961   566.825684   \n",
      "\n",
      "                                           min     25%     50%     75%  \\\n",
      "district                                                                 \n",
      "Центральный административный округ         0.0  500.00  1000.0  1500.0   \n",
      "Западный административный округ           50.0  427.50  1000.0  1500.0   \n",
      "Северный административный округ          130.0  350.00   650.0  1250.0   \n",
      "Южный административный округ             100.0  350.00   500.0  1037.5   \n",
      "Северо-Западный административный округ   120.0  340.00   700.0  1100.0   \n",
      "Восточный административный округ          50.0  338.00   575.0  1100.0   \n",
      "Юго-Западный административный округ      100.0  350.00   600.0  1100.0   \n",
      "Северо-Восточный административный округ   50.0  325.00   500.0   950.0   \n",
      "Юго-Восточный административный округ      30.0  281.25   450.0   887.5   \n",
      "\n",
      "                                             max  \n",
      "district                                          \n",
      "Центральный административный округ        7250.0  \n",
      "Западный административный округ           5250.0  \n",
      "Северный административный округ          11000.0  \n",
      "Южный административный округ             35000.0  \n",
      "Северо-Западный административный округ    2900.0  \n",
      "Восточный административный округ         10000.0  \n",
      "Юго-Западный административный округ       2750.0  \n",
      "Северо-Восточный административный округ   4500.0  \n",
      "Юго-Восточный административный округ      3750.0  \n"
     ]
    }
   ],
   "source": [
    "# Выведем статистические показатели для столбца 'middle_avg_bill' в разрезе района\n",
    "group_rest=rest_df.groupby('district')['middle_avg_bill'].describe().sort_values('mean', ascending=False)\n",
    "print(group_rest)"
   ]
  },
  {
   "cell_type": "markdown",
   "id": "093eb428",
   "metadata": {
    "id": "b98066c1"
   },
   "source": [
    "Как видно из выгрузки наибольший размер среднего чека зафиксирован в Центральном административном округе. Также одни из наибольших значений зафиксированы в Западном и Северном округах, наименьшие - Северо-восточном и Юго-восточном округах. Наибольшие медианные значения зафиксированы в Центральном и Западном округах. Наибольшее стандартное отклонение зафиксировано Южного административного округа, что может свидетельствовать о наибольшем разбросе цен в данном округе.\n",
    "\n",
    "\n",
    "Выведем визуализацию вариацию среднего чека заведения (столбец middle_avg_bill), а также медианного значения чека в зависимости от района. Дополнительно нанесём на диаграмму вертикальные линии, отражающуе значения среднего и медианного значения чека по всей выборке."
   ]
  },
  {
   "cell_type": "code",
   "execution_count": 69,
   "id": "9b5e00a5",
   "metadata": {
    "id": "9b5e00a5"
   },
   "outputs": [
    {
     "data": {
      "text/plain": [
       "<matplotlib.legend.Legend at 0x7fd6def45a90>"
      ]
     },
     "execution_count": 69,
     "metadata": {},
     "output_type": "execute_result"
    },
    {
     "data": {
      "image/png": "[encoded data removed]",
      "text/plain": [
       "<Figure size 864x648 with 1 Axes>"
      ]
     },
     "metadata": {
      "needs_background": "light"
     },
     "output_type": "display_data"
    }
   ],
   "source": [
    "# Строим горизонтальную столбчатую диаграмму с помощью pandas через plot(kind='barh')\n",
    "\n",
    "group_rest.sort_values('mean').plot(\n",
    "               kind='barh', \n",
    "               rot=0, \n",
    "               y=['mean','50%'], \n",
    "               figsize=(12, 9), \n",
    "               legend=True,\n",
    "               title=f'Вариация среднего чека в зависимости от административного района'\n",
    ")\n",
    "\n",
    "# Настраиваем оформление графика\n",
    "plt.xlabel('Средний чек')\n",
    "plt.ylabel('Административный район')\n",
    "\n",
    "\n",
    "# Рассчитываем значение среднего чека и медианы чека по всей выборке данных\n",
    "mean_bill= rest_df['middle_avg_bill'].mean()\n",
    "median_bill= rest_df['middle_avg_bill'].median()\n",
    "\n",
    "# Наносим на график линию со значением среднего чека независимо от района\n",
    "plt.axvline(mean_bill, \n",
    "            color='red', \n",
    "            linestyle='--', \n",
    "            linewidth=1,\n",
    "            label=f'Средней значение для всех выборки'\n",
    "            )\n",
    "# Наносим на график линию с медианой среднего чека независимо от района\n",
    "plt.axvline(median_bill, \n",
    "            color='green', \n",
    "            linestyle='--', \n",
    "            linewidth=1,\n",
    "            label=f'Медианное значение для всех выборки'\n",
    "            )\n",
    "plt.legend()"
   ]
  },
  {
   "cell_type": "markdown",
   "id": "c150bd4f",
   "metadata": {
    "id": "c150bd4f"
   },
   "source": [
    "---\n"
   ]
  },
  {
   "cell_type": "markdown",
   "id": "be126367",
   "metadata": {
    "id": "5ee8b279"
   },
   "source": [
    "Из графика видно, что значения среднего чека в Центральном и Западном административном округах выше значения среднего чека по всей выборке данных. То же самое касается и медианных значений среднего чека. Для Западного и Северо-западного округов медианные значения находятся достаточно близко к средним, что говорит о незначительной вариации цен внутри округа. В то время как для Северного и Южного административного округов разрыв между медианой и средним значением существенен, что свидетельствует о значительном разброс цен в данных районах."
   ]
  },
  {
   "cell_type": "markdown",
   "id": "f2c54e9a",
   "metadata": {
    "id": "f2c54e9a"
   },
   "source": [
    "### Промежуточный вывод"
   ]
  },
  {
   "cell_type": "markdown",
   "id": "6f5dabe1",
   "metadata": {
    "id": "c8869609"
   },
   "source": [
    "Исследовательский анализ данных показал, что:\n",
    "\n",
    " - Заведения общественного питания г. Москвы представлены 8 различными категориями, в т.ч. такими категориями как `ресторан`, `кофейня`, `кафе`, `бар(паб)`, `пиццерия`, `быстрое питание`, `столовая`, `булочная`. Наиболее часто встречаемые категории заведений - `кафе` - 28,28% от всех заведений г. Москвы, `ресторан` - 24,3% и `кофейня` - 16,81%, наименее - `столовая` - 3,75% и `булочная` - 3,04%.\n",
    " - Заведения общественного питания г. Москвы представлены 9 административными районами. Значительное количество заведений располагается в Центральном административном округе - 2242 заведений или 26,68%. Меньше всего заведений территориально находятся в Северо-Западный административном округе - 409 заведений или 4,87%. В центральном администраивном округе наибольший процент составляют `рестораны` - 29,88%, `кафе` составляют 20,7%. Также наблюдается более высокий процент `кофеен` - 19,01% и `баров` - 16,24%. Наименьший процент среди `столовых` - 2,94% и `булочны`х - 2,23%.\n",
    " - Всего датафрейм содержит данные о 3203 сетевых и 5199 несетевых заведений, что составляет 38,12% и 61,88% соответственно. Самый большой процент сетевых заведений наблюдается среди `булочных` - 61,33%. `Кофейни` и `пиццерии` распределены поровну с небольшим преобладанием сетевых заведений. Для остальных категорий большую часть занимают несетевые заведения.\n",
    " - Среднее количество посадочных мест составляет 108,36 мест, медианное — 75. Количество мест выше  350 мест можно считать выбросами, которые могли возникнуть из-за ошибок ввода или аномальных данных. Медианные значения посадочных мест для каждой категории колеблются в интервале 50-86 мест. Больше всего посадочных мест характерно для `ресторанов` и `баров` - 86 и 82 мест соответственно, меньше всего для `булочных` и `пиццерий` - 50 и 55 мест соответственно.\n",
    " - Минимальное значение рейтинга для заведений г. Москва составляет 0,47, максимальное - 5. Среднее значение - 4,23 медианное - 4,3. Для большинства заведений рейтинг находится в интервале 4.2-4.5. Наибольшим средним рейтингом обладают заведения категорий `бар, паб` и `пиццерия`, наименьшим - заведения категорий `быстрое питание` и `кафе`.\n",
    " - Наибольшая корреляция рейтинга заведений наблюдается с уровнем цен (0.31). Также наблюдается определённая корреляция с категорией заведения (0.2) и административным районом (0.19). Совсем отсутствует корреляция между рейтингом и количеством посадочных мест. Исследование зависимости между уровнем цен и рейтингом заведения показало, что заведения с более высоким ценами имеют более высокий рейтинг, заведения с низкими ценами - более низкий.\n",
    " - Наибольшее количество заведений наблюдается для таких сетей как `КАФЕ`- 188 заведений, `ШОКОЛАДНИЦА` - 120 заведений и `ДОМИНО'С ПИЦЦА` - 77 заведений. Средний рейтинг для большинства заведений из топ-15 ниже среднего рейтинга по всей выборке. Из сетей топ-15 по количеству заведений, большинство сетей относится к категориям `кафе`, `кофейня` и `ресторан`. Наибольшим средним рейтингом среди самых популярных сетей обладают такие сети как `КУЛИНАРНАЯ ЛАВКА БРАТЬЕВ КАРАВАЕВЫХ`, `ХИНКАЛЬНАЯ`, `РЕСТОРАН` и `ДОДДО ПИЦЦА`\n",
    " - Наибольший размер среднего чека зафиксирован в Центральном административном округе. Также одни из наибольших значений зафиксированы в Западном и Северном округах, наименьшие - Северо-восточном и Юго-восточном округах. Наибольшие медианные значения зафиксированы в Центральном и Западном округах. "
   ]
  },
  {
   "cell_type": "markdown",
   "id": "480f3422",
   "metadata": {
    "id": "480f3422"
   },
   "source": [
    "## 4. Итоговый вывод и рекомендации\n",
    "\n",
    "### 1. Общий обзор проделанной работы.\n",
    "\n",
    "Таким образом, в ходе данного исследования был проведён анализ заведений общественного питания г. Москвы, на основе данных сервисов Яндекс Карты и Яндекс Бизнес на лето 2022 года. В качестве источников данных были использованы два датасета: `datasets/rest_info.csv` и `datasets/rest_price.csv`, содержащие информацию о около 8000 заведений г. Москва. Данные включали информацию о категории и расположении заведений, графике работы, ценах, часах работы. В ходе исследования были проанализировано количество заведений в зависимости от категории и их распределение по административным районам г. Москва. Отдельно дополнительно был рассмотрен  Центральный административный округ. Также было изучено соотношение сетевых и несетевых заведений в целом по всем данным и в разрезе категорий заведения, количество посадочных мест в заведениях. Кроме этого были проанализированы рейтинги заведений, изучена взаимосвязь рейтинга с другими параметрами. Были определены топ-15 популярных сетей по количество заведений и рассмотрена вариация среднего чека заведения в зависимости от района Москвы.\n",
    "\n",
    "### 2. Ответы на исследовательские вопросы, или главные выводы.\n",
    "\n",
    "В ходе исследовательского анализа было выявлено, что наиболее часто встречаемыми категориями заведений являются кафе - 28,28% от всех заведений г. Москвы, ресторан - 24,3% и кофейня - 16,81%, наименее - столовая - 3,75% и булочная - 3,04%. \n",
    "\n",
    "Всего заведения общественного питания г. Москвы представлены 9 административными районами. Значительное количество заведений располагается в Центральном административном округе - 26,68% от общего количества заведений. Меньше всего заведений территориально находятся в Северо-Западный административном округе - 409 заведений или 4,87%. По остальным районам заведения распределены равномерно - около 8-10% для каждого округа.\n",
    "\n",
    "Из всех заведений г. Москва 38,12% составляют сетевые, 61,88%  - несетевые. Самый большой процент сетевых заведений наблюдается среди булочных - 61,33%. Кофейни и пиццерии распределены поровну с небольшим преобладанием сетевых заведений. Для остальных категорий большую часть занимают несетевые заведения.\n",
    "\n",
    "Среднее количество посадочных мест составляет 108,36 мест, медианное — 75. Больше всего посадочных мест характерно для ресторанов и баров - 86 и 82 мест соответственно, меньше всего для булочных и пиццерий - 50 и 55 мест соответственно.\n",
    "\n",
    "Среднее значение рейтинга заведений г. Москвы составляет 4,23 медианное - 4,3. Для большинства заведений рейтинг находится в интервале 4.2-4.5. Наибольшим средним рейтингом обладают заведения категорий `бар(паб)` и `пиццерия`, наименьшим - заведения категорий `быстрое питание` и `кафе`.\n",
    "\n",
    "Наибольшая корреляция рейтинга заведений наблюдается с уровнем цен. Исследование зависимости между уровнем цен и рейтингом заведения показало, что заведения с более высокими ценами имеют более высокий рейтинг, заведения с низкими ценами - более низкий.\n",
    "\n",
    "Наибольшее количество заведений наблюдается для таких сетей как `КАФЕ`- 188 заведений,` ШОКОЛАДНИЦА` - 120 заведений и `ДОМИНО'С ПИЦЦА` - 77 заведений. Из сетей топ-15 по количеству заведений, большинство сетей относится к категориям `кафе`, `кофейня` и `ресторан`. Наибольшим средним рейтингом среди самых популярных сетей обладают такие сети как `КУЛИНАРНАЯ ЛАВКА БРАТЬЕВ КАРАВАЕВЫХ`, `ХИНКАЛЬНАЯ`, `РЕСТОРАН` и `ДОДДО ПИЦЦА`\n",
    "\n",
    "Наибольший размер среднего чека зафиксирован в Центральном административном округе. Также одно из наибольших значений зафиксировано в Западном  административном округе. Для остальных районов размер среднего чека ниже, чем по всей выборке.\n",
    "\n",
    "### 3. Рекомендации на основе анализа данных.\n",
    "\n",
    "Исследование показало, что значительное количество заведений сосредоточено в Центральном административном округе, в связи с чем открытие нового заведения в данном районе может оказаться нецелесообразным ввиду уже имеющего высокого уровня предложения. Вместе с тем стоит обратить внимание на Западный административный округ. В данном районе количество заведений не превышает большинство других районов, при этом размер среднего чека уступает только Центральному административному округу. Оптимальным уровнем цен может оказаться уровень `выше среднего`, т.к. это может создать преимущество перед заведениями с более высоким размером среднего чека. Также заведения с данным уровнем цен обладают относительно высоким рейтингом, однако при формировании ценовой политики необходимо будет учесть в том числе планируемую категорию заведений. При выборе категории стоит учесть высокий уровень предложения на рынке таких категорий как `кафе`, `ресторан` и `кофейня`. В связи с чем имеет смысл обратить внимание на такие категории как `бар,паб` и `пиццерия`."
   ]
  }
 ],
 "metadata": {
  "ExecuteTimeLog": [
   {
    "duration": 1486,
    "start_time": "2025-04-11T09:23:57.402Z"
   },
   {
    "duration": 3494,
    "start_time": "2025-04-11T09:26:25.205Z"
   },
   {
    "duration": 63,
    "start_time": "2025-04-11T09:29:52.552Z"
   },
   {
    "duration": 228,
    "start_time": "2025-04-11T09:30:08.629Z"
   },
   {
    "duration": 17,
    "start_time": "2025-04-11T09:37:23.882Z"
   },
   {
    "duration": 17,
    "start_time": "2025-04-11T09:38:32.203Z"
   },
   {
    "duration": 10,
    "start_time": "2025-04-11T10:25:21.102Z"
   },
   {
    "duration": 11,
    "start_time": "2025-04-11T10:27:30.086Z"
   },
   {
    "duration": 7,
    "start_time": "2025-04-11T10:40:10.148Z"
   },
   {
    "duration": 7,
    "start_time": "2025-04-11T10:40:40.955Z"
   },
   {
    "duration": 26,
    "start_time": "2025-04-11T10:55:06.523Z"
   },
   {
    "duration": 12,
    "start_time": "2025-04-11T10:55:24.811Z"
   },
   {
    "duration": 14,
    "start_time": "2025-04-11T10:55:49.273Z"
   },
   {
    "duration": 11,
    "start_time": "2025-04-11T10:56:19.527Z"
   },
   {
    "duration": 15,
    "start_time": "2025-04-11T10:56:23.715Z"
   },
   {
    "duration": 15,
    "start_time": "2025-04-11T11:14:53.788Z"
   },
   {
    "duration": 12,
    "start_time": "2025-04-11T11:39:48.969Z"
   },
   {
    "duration": 23,
    "start_time": "2025-04-11T11:39:50.771Z"
   },
   {
    "duration": 12,
    "start_time": "2025-04-11T11:53:00.781Z"
   },
   {
    "duration": 16,
    "start_time": "2025-04-11T11:53:03.758Z"
   },
   {
    "duration": 11,
    "start_time": "2025-04-11T11:55:33.871Z"
   },
   {
    "duration": 13,
    "start_time": "2025-04-11T11:55:42.768Z"
   },
   {
    "duration": 10,
    "start_time": "2025-04-11T11:56:34.071Z"
   },
   {
    "duration": 14,
    "start_time": "2025-04-11T11:56:35.472Z"
   },
   {
    "duration": 16,
    "start_time": "2025-04-11T11:56:36.995Z"
   },
   {
    "duration": 10,
    "start_time": "2025-04-11T11:56:41.338Z"
   },
   {
    "duration": 4158,
    "start_time": "2025-04-11T11:56:55.021Z"
   },
   {
    "duration": 192,
    "start_time": "2025-04-11T11:56:59.182Z"
   },
   {
    "duration": 24,
    "start_time": "2025-04-11T11:56:59.376Z"
   },
   {
    "duration": 16,
    "start_time": "2025-04-11T11:56:59.403Z"
   },
   {
    "duration": 30,
    "start_time": "2025-04-11T11:56:59.421Z"
   },
   {
    "duration": 17,
    "start_time": "2025-04-11T11:56:59.453Z"
   },
   {
    "duration": 13,
    "start_time": "2025-04-11T11:56:59.472Z"
   },
   {
    "duration": 37,
    "start_time": "2025-04-11T11:56:59.488Z"
   },
   {
    "duration": 147,
    "start_time": "2025-04-11T11:56:59.527Z"
   },
   {
    "duration": 5,
    "start_time": "2025-04-11T11:57:30.353Z"
   },
   {
    "duration": 6,
    "start_time": "2025-04-11T11:57:49.061Z"
   },
   {
    "duration": 7,
    "start_time": "2025-04-11T11:58:21.272Z"
   },
   {
    "duration": 7,
    "start_time": "2025-04-11T11:58:59.867Z"
   },
   {
    "duration": 3,
    "start_time": "2025-04-11T11:59:18.931Z"
   },
   {
    "duration": 8,
    "start_time": "2025-04-11T11:59:25.651Z"
   },
   {
    "duration": 5,
    "start_time": "2025-04-11T12:32:18.417Z"
   },
   {
    "duration": 6,
    "start_time": "2025-04-11T12:32:38.182Z"
   },
   {
    "duration": 4,
    "start_time": "2025-04-11T12:33:38.992Z"
   },
   {
    "duration": 5,
    "start_time": "2025-04-11T12:33:43.864Z"
   },
   {
    "duration": 4,
    "start_time": "2025-04-11T12:35:01.878Z"
   },
   {
    "duration": 6,
    "start_time": "2025-04-11T12:35:06.390Z"
   },
   {
    "duration": 5,
    "start_time": "2025-04-11T12:35:24.781Z"
   },
   {
    "duration": 14,
    "start_time": "2025-04-11T12:39:17.980Z"
   },
   {
    "duration": 4,
    "start_time": "2025-04-11T12:39:25.261Z"
   },
   {
    "duration": 5,
    "start_time": "2025-04-11T12:39:27.833Z"
   },
   {
    "duration": 7,
    "start_time": "2025-04-11T12:39:30.428Z"
   },
   {
    "duration": 7,
    "start_time": "2025-04-11T12:40:10.041Z"
   },
   {
    "duration": 3982,
    "start_time": "2025-04-11T12:40:33.673Z"
   },
   {
    "duration": 182,
    "start_time": "2025-04-11T12:40:37.658Z"
   },
   {
    "duration": 18,
    "start_time": "2025-04-11T12:40:37.841Z"
   },
   {
    "duration": 64,
    "start_time": "2025-04-11T12:40:37.861Z"
   },
   {
    "duration": 9,
    "start_time": "2025-04-11T12:40:37.927Z"
   },
   {
    "duration": 32,
    "start_time": "2025-04-11T12:40:37.939Z"
   },
   {
    "duration": 17,
    "start_time": "2025-04-11T12:40:37.973Z"
   },
   {
    "duration": 16,
    "start_time": "2025-04-11T12:40:37.992Z"
   },
   {
    "duration": 5,
    "start_time": "2025-04-11T12:40:38.010Z"
   },
   {
    "duration": 4,
    "start_time": "2025-04-11T12:40:38.017Z"
   },
   {
    "duration": 25,
    "start_time": "2025-04-11T12:40:38.022Z"
   },
   {
    "duration": 4,
    "start_time": "2025-04-11T12:40:38.049Z"
   },
   {
    "duration": 8,
    "start_time": "2025-04-11T12:40:38.055Z"
   },
   {
    "duration": 5,
    "start_time": "2025-04-11T12:40:38.065Z"
   },
   {
    "duration": 6,
    "start_time": "2025-04-11T12:41:31.584Z"
   },
   {
    "duration": 5,
    "start_time": "2025-04-11T12:41:44.024Z"
   },
   {
    "duration": 4107,
    "start_time": "2025-04-11T12:42:00.713Z"
   },
   {
    "duration": 196,
    "start_time": "2025-04-11T12:42:04.823Z"
   },
   {
    "duration": 19,
    "start_time": "2025-04-11T12:42:05.020Z"
   },
   {
    "duration": 87,
    "start_time": "2025-04-11T12:42:05.042Z"
   },
   {
    "duration": 51,
    "start_time": "2025-04-11T12:42:05.131Z"
   },
   {
    "duration": 26,
    "start_time": "2025-04-11T12:42:05.191Z"
   },
   {
    "duration": 54,
    "start_time": "2025-04-11T12:42:05.219Z"
   },
   {
    "duration": 43,
    "start_time": "2025-04-11T12:42:05.275Z"
   },
   {
    "duration": 17,
    "start_time": "2025-04-11T12:42:05.321Z"
   },
   {
    "duration": 4,
    "start_time": "2025-04-11T12:42:05.340Z"
   },
   {
    "duration": 11,
    "start_time": "2025-04-11T12:42:05.346Z"
   },
   {
    "duration": 14,
    "start_time": "2025-04-11T12:42:05.359Z"
   },
   {
    "duration": 83,
    "start_time": "2025-04-11T12:42:05.375Z"
   },
   {
    "duration": 14,
    "start_time": "2025-04-11T12:42:05.460Z"
   },
   {
    "duration": 8,
    "start_time": "2025-04-11T12:42:53.728Z"
   },
   {
    "duration": 5,
    "start_time": "2025-04-11T12:47:39.889Z"
   },
   {
    "duration": 6,
    "start_time": "2025-04-11T12:47:43.674Z"
   },
   {
    "duration": 4,
    "start_time": "2025-04-11T12:48:37.583Z"
   },
   {
    "duration": 4,
    "start_time": "2025-04-11T12:48:47.408Z"
   },
   {
    "duration": 8,
    "start_time": "2025-04-11T12:53:54.969Z"
   },
   {
    "duration": 3972,
    "start_time": "2025-04-11T12:59:02.164Z"
   },
   {
    "duration": 216,
    "start_time": "2025-04-11T12:59:06.138Z"
   },
   {
    "duration": 23,
    "start_time": "2025-04-11T12:59:06.357Z"
   },
   {
    "duration": 23,
    "start_time": "2025-04-11T12:59:06.383Z"
   },
   {
    "duration": 24,
    "start_time": "2025-04-11T12:59:06.408Z"
   },
   {
    "duration": 12,
    "start_time": "2025-04-11T12:59:06.439Z"
   },
   {
    "duration": 24,
    "start_time": "2025-04-11T12:59:06.453Z"
   },
   {
    "duration": 17,
    "start_time": "2025-04-11T12:59:06.479Z"
   },
   {
    "duration": 26,
    "start_time": "2025-04-11T12:59:06.498Z"
   },
   {
    "duration": 12,
    "start_time": "2025-04-11T12:59:06.528Z"
   },
   {
    "duration": 12,
    "start_time": "2025-04-11T12:59:06.542Z"
   },
   {
    "duration": 84,
    "start_time": "2025-04-11T12:59:06.556Z"
   },
   {
    "duration": 0,
    "start_time": "2025-04-11T12:59:06.642Z"
   },
   {
    "duration": 0,
    "start_time": "2025-04-11T12:59:06.643Z"
   },
   {
    "duration": 4055,
    "start_time": "2025-04-11T12:59:33.072Z"
   },
   {
    "duration": 394,
    "start_time": "2025-04-11T12:59:37.130Z"
   },
   {
    "duration": 19,
    "start_time": "2025-04-11T12:59:37.526Z"
   },
   {
    "duration": 22,
    "start_time": "2025-04-11T12:59:37.547Z"
   },
   {
    "duration": 29,
    "start_time": "2025-04-11T12:59:37.572Z"
   },
   {
    "duration": 30,
    "start_time": "2025-04-11T12:59:37.603Z"
   },
   {
    "duration": 17,
    "start_time": "2025-04-11T12:59:37.635Z"
   },
   {
    "duration": 34,
    "start_time": "2025-04-11T12:59:37.654Z"
   },
   {
    "duration": 11,
    "start_time": "2025-04-11T12:59:37.690Z"
   },
   {
    "duration": 21,
    "start_time": "2025-04-11T12:59:37.703Z"
   },
   {
    "duration": 28,
    "start_time": "2025-04-11T12:59:37.726Z"
   },
   {
    "duration": 19,
    "start_time": "2025-04-11T12:59:37.756Z"
   },
   {
    "duration": 12,
    "start_time": "2025-04-11T12:59:37.777Z"
   },
   {
    "duration": 32,
    "start_time": "2025-04-11T12:59:37.792Z"
   },
   {
    "duration": 56,
    "start_time": "2025-04-13T15:33:34.847Z"
   },
   {
    "duration": 4958,
    "start_time": "2025-04-13T15:33:52.124Z"
   },
   {
    "duration": 183,
    "start_time": "2025-04-13T15:33:57.084Z"
   },
   {
    "duration": 18,
    "start_time": "2025-04-13T15:33:57.269Z"
   },
   {
    "duration": 16,
    "start_time": "2025-04-13T15:33:57.289Z"
   },
   {
    "duration": 50,
    "start_time": "2025-04-13T15:33:57.307Z"
   },
   {
    "duration": 17,
    "start_time": "2025-04-13T15:33:57.359Z"
   },
   {
    "duration": 16,
    "start_time": "2025-04-13T15:33:57.378Z"
   },
   {
    "duration": 30,
    "start_time": "2025-04-13T15:33:57.396Z"
   },
   {
    "duration": 4,
    "start_time": "2025-04-13T15:33:57.428Z"
   },
   {
    "duration": 38,
    "start_time": "2025-04-13T15:33:57.434Z"
   },
   {
    "duration": 36,
    "start_time": "2025-04-13T15:33:57.474Z"
   },
   {
    "duration": 10,
    "start_time": "2025-04-13T15:33:57.512Z"
   },
   {
    "duration": 7,
    "start_time": "2025-04-13T15:33:57.523Z"
   },
   {
    "duration": 9,
    "start_time": "2025-04-13T15:33:57.531Z"
   },
   {
    "duration": 17,
    "start_time": "2025-04-13T15:33:57.541Z"
   },
   {
    "duration": 13,
    "start_time": "2025-04-13T15:36:37.374Z"
   },
   {
    "duration": 8,
    "start_time": "2025-04-13T15:45:18.118Z"
   },
   {
    "duration": 95,
    "start_time": "2025-04-13T15:45:27.112Z"
   },
   {
    "duration": 8,
    "start_time": "2025-04-13T15:45:29.972Z"
   },
   {
    "duration": 64,
    "start_time": "2025-04-13T15:46:04.715Z"
   },
   {
    "duration": 13,
    "start_time": "2025-04-13T15:46:08.206Z"
   },
   {
    "duration": 10,
    "start_time": "2025-04-13T15:46:15.345Z"
   },
   {
    "duration": 10,
    "start_time": "2025-04-13T15:46:39.303Z"
   },
   {
    "duration": 115,
    "start_time": "2025-04-13T15:46:44.988Z"
   },
   {
    "duration": 90,
    "start_time": "2025-04-13T15:46:48.422Z"
   },
   {
    "duration": 24,
    "start_time": "2025-04-13T15:47:21.748Z"
   },
   {
    "duration": 21,
    "start_time": "2025-04-13T15:54:19.710Z"
   },
   {
    "duration": 29,
    "start_time": "2025-04-13T16:09:59.402Z"
   },
   {
    "duration": 22,
    "start_time": "2025-04-13T16:19:13.843Z"
   },
   {
    "duration": 71,
    "start_time": "2025-04-13T16:21:03.875Z"
   },
   {
    "duration": 35,
    "start_time": "2025-04-13T16:28:34.114Z"
   },
   {
    "duration": 9,
    "start_time": "2025-04-13T16:29:51.888Z"
   },
   {
    "duration": 13,
    "start_time": "2025-04-13T16:30:02.093Z"
   },
   {
    "duration": 48,
    "start_time": "2025-04-14T07:51:37.604Z"
   },
   {
    "duration": 4742,
    "start_time": "2025-04-14T07:51:45.120Z"
   },
   {
    "duration": 182,
    "start_time": "2025-04-14T07:51:49.865Z"
   },
   {
    "duration": 16,
    "start_time": "2025-04-14T07:51:50.048Z"
   },
   {
    "duration": 13,
    "start_time": "2025-04-14T07:51:50.066Z"
   },
   {
    "duration": 8,
    "start_time": "2025-04-14T07:51:50.080Z"
   },
   {
    "duration": 10,
    "start_time": "2025-04-14T07:51:50.090Z"
   },
   {
    "duration": 40,
    "start_time": "2025-04-14T07:51:50.101Z"
   },
   {
    "duration": 13,
    "start_time": "2025-04-14T07:51:50.143Z"
   },
   {
    "duration": 5,
    "start_time": "2025-04-14T07:51:50.158Z"
   },
   {
    "duration": 3,
    "start_time": "2025-04-14T07:51:50.166Z"
   },
   {
    "duration": 7,
    "start_time": "2025-04-14T07:51:50.171Z"
   },
   {
    "duration": 8,
    "start_time": "2025-04-14T07:51:50.180Z"
   },
   {
    "duration": 5,
    "start_time": "2025-04-14T07:51:50.190Z"
   },
   {
    "duration": 13,
    "start_time": "2025-04-14T07:51:50.196Z"
   },
   {
    "duration": 10,
    "start_time": "2025-04-14T07:51:50.236Z"
   },
   {
    "duration": 11,
    "start_time": "2025-04-14T07:51:50.247Z"
   },
   {
    "duration": 140,
    "start_time": "2025-04-14T07:51:50.259Z"
   },
   {
    "duration": 19,
    "start_time": "2025-04-14T07:51:50.401Z"
   },
   {
    "duration": 20,
    "start_time": "2025-04-14T07:51:50.421Z"
   },
   {
    "duration": 18,
    "start_time": "2025-04-14T07:51:50.443Z"
   },
   {
    "duration": 30,
    "start_time": "2025-04-14T07:51:50.462Z"
   },
   {
    "duration": 87,
    "start_time": "2025-04-14T07:51:50.493Z"
   },
   {
    "duration": 6,
    "start_time": "2025-04-14T07:52:18.925Z"
   },
   {
    "duration": 98,
    "start_time": "2025-04-14T07:52:38.444Z"
   },
   {
    "duration": 10,
    "start_time": "2025-04-14T07:52:55.602Z"
   },
   {
    "duration": 7,
    "start_time": "2025-04-14T07:53:08.016Z"
   },
   {
    "duration": 9,
    "start_time": "2025-04-14T07:53:20.716Z"
   },
   {
    "duration": 9,
    "start_time": "2025-04-14T07:53:32.510Z"
   },
   {
    "duration": 11,
    "start_time": "2025-04-14T07:53:43.574Z"
   },
   {
    "duration": 39,
    "start_time": "2025-04-14T07:54:00.743Z"
   },
   {
    "duration": 10,
    "start_time": "2025-04-14T07:54:08.549Z"
   },
   {
    "duration": 11,
    "start_time": "2025-04-14T07:55:30.417Z"
   },
   {
    "duration": 8,
    "start_time": "2025-04-14T07:55:34.487Z"
   },
   {
    "duration": 10,
    "start_time": "2025-04-14T07:56:09.278Z"
   },
   {
    "duration": 8,
    "start_time": "2025-04-14T07:57:49.766Z"
   },
   {
    "duration": 10,
    "start_time": "2025-04-14T07:58:29.934Z"
   },
   {
    "duration": 11,
    "start_time": "2025-04-14T08:00:32.407Z"
   },
   {
    "duration": 16,
    "start_time": "2025-04-14T08:00:44.699Z"
   },
   {
    "duration": 3,
    "start_time": "2025-04-14T08:08:02.782Z"
   },
   {
    "duration": 5,
    "start_time": "2025-04-14T08:08:05.693Z"
   },
   {
    "duration": 7,
    "start_time": "2025-04-14T08:10:09.781Z"
   },
   {
    "duration": 14,
    "start_time": "2025-04-14T08:10:18.425Z"
   },
   {
    "duration": 6,
    "start_time": "2025-04-14T08:20:43.757Z"
   },
   {
    "duration": 10,
    "start_time": "2025-04-14T08:21:10.596Z"
   },
   {
    "duration": 27,
    "start_time": "2025-04-14T08:40:14.056Z"
   },
   {
    "duration": 15,
    "start_time": "2025-04-14T08:43:17.859Z"
   },
   {
    "duration": 14,
    "start_time": "2025-04-14T09:44:44.075Z"
   },
   {
    "duration": 13,
    "start_time": "2025-04-14T09:45:05.930Z"
   },
   {
    "duration": 14,
    "start_time": "2025-04-14T09:58:17.211Z"
   },
   {
    "duration": 86,
    "start_time": "2025-04-14T09:58:46.516Z"
   },
   {
    "duration": 34,
    "start_time": "2025-04-14T09:59:28.512Z"
   },
   {
    "duration": 12,
    "start_time": "2025-04-14T09:59:35.395Z"
   },
   {
    "duration": 32,
    "start_time": "2025-04-14T10:01:09.740Z"
   },
   {
    "duration": 13,
    "start_time": "2025-04-14T10:01:22.527Z"
   },
   {
    "duration": 24,
    "start_time": "2025-04-14T10:01:42.789Z"
   },
   {
    "duration": 13,
    "start_time": "2025-04-14T10:01:45.925Z"
   },
   {
    "duration": 22,
    "start_time": "2025-04-14T10:01:53.618Z"
   },
   {
    "duration": 3626,
    "start_time": "2025-04-14T10:02:01.732Z"
   },
   {
    "duration": 206,
    "start_time": "2025-04-14T10:02:05.360Z"
   },
   {
    "duration": 18,
    "start_time": "2025-04-14T10:02:05.567Z"
   },
   {
    "duration": 15,
    "start_time": "2025-04-14T10:02:05.588Z"
   },
   {
    "duration": 10,
    "start_time": "2025-04-14T10:02:05.604Z"
   },
   {
    "duration": 26,
    "start_time": "2025-04-14T10:02:05.615Z"
   },
   {
    "duration": 123,
    "start_time": "2025-04-14T10:02:05.642Z"
   },
   {
    "duration": 14,
    "start_time": "2025-04-14T10:02:05.767Z"
   },
   {
    "duration": 4,
    "start_time": "2025-04-14T10:02:05.783Z"
   },
   {
    "duration": 10,
    "start_time": "2025-04-14T10:02:05.789Z"
   },
   {
    "duration": 33,
    "start_time": "2025-04-14T10:02:05.800Z"
   },
   {
    "duration": 12,
    "start_time": "2025-04-14T10:02:05.834Z"
   },
   {
    "duration": 14,
    "start_time": "2025-04-14T10:02:05.848Z"
   },
   {
    "duration": 22,
    "start_time": "2025-04-14T10:02:05.864Z"
   },
   {
    "duration": 31,
    "start_time": "2025-04-14T10:02:05.887Z"
   },
   {
    "duration": 26,
    "start_time": "2025-04-14T10:02:05.921Z"
   },
   {
    "duration": 26,
    "start_time": "2025-04-14T10:02:05.950Z"
   },
   {
    "duration": 22,
    "start_time": "2025-04-14T10:02:05.978Z"
   },
   {
    "duration": 51,
    "start_time": "2025-04-14T10:02:06.002Z"
   },
   {
    "duration": 8,
    "start_time": "2025-04-14T10:02:06.055Z"
   },
   {
    "duration": 25,
    "start_time": "2025-04-14T10:02:06.065Z"
   },
   {
    "duration": 16,
    "start_time": "2025-04-14T10:02:06.091Z"
   },
   {
    "duration": 6,
    "start_time": "2025-04-14T10:02:06.108Z"
   },
   {
    "duration": 27,
    "start_time": "2025-04-14T10:02:06.116Z"
   },
   {
    "duration": 14,
    "start_time": "2025-04-14T10:02:06.144Z"
   },
   {
    "duration": 13,
    "start_time": "2025-04-14T10:02:06.159Z"
   },
   {
    "duration": 11,
    "start_time": "2025-04-14T10:02:06.174Z"
   },
   {
    "duration": 24,
    "start_time": "2025-04-14T10:02:06.188Z"
   },
   {
    "duration": 25,
    "start_time": "2025-04-14T10:02:06.214Z"
   },
   {
    "duration": 38,
    "start_time": "2025-04-14T10:03:12.037Z"
   },
   {
    "duration": 13,
    "start_time": "2025-04-14T10:03:18.188Z"
   },
   {
    "duration": 67,
    "start_time": "2025-04-14T10:06:37.822Z"
   },
   {
    "duration": 18,
    "start_time": "2025-04-14T10:06:41.606Z"
   },
   {
    "duration": 41,
    "start_time": "2025-04-14T10:09:49.400Z"
   },
   {
    "duration": 3553,
    "start_time": "2025-04-14T10:09:57.149Z"
   },
   {
    "duration": 340,
    "start_time": "2025-04-14T10:10:00.704Z"
   },
   {
    "duration": 18,
    "start_time": "2025-04-14T10:10:01.045Z"
   },
   {
    "duration": 15,
    "start_time": "2025-04-14T10:10:01.066Z"
   },
   {
    "duration": 18,
    "start_time": "2025-04-14T10:10:01.083Z"
   },
   {
    "duration": 34,
    "start_time": "2025-04-14T10:10:01.102Z"
   },
   {
    "duration": 13,
    "start_time": "2025-04-14T10:10:01.137Z"
   },
   {
    "duration": 15,
    "start_time": "2025-04-14T10:10:01.151Z"
   },
   {
    "duration": 4,
    "start_time": "2025-04-14T10:10:01.168Z"
   },
   {
    "duration": 20,
    "start_time": "2025-04-14T10:10:01.174Z"
   },
   {
    "duration": 14,
    "start_time": "2025-04-14T10:10:01.196Z"
   },
   {
    "duration": 6,
    "start_time": "2025-04-14T10:10:01.212Z"
   },
   {
    "duration": 16,
    "start_time": "2025-04-14T10:10:01.220Z"
   },
   {
    "duration": 13,
    "start_time": "2025-04-14T10:10:01.238Z"
   },
   {
    "duration": 25,
    "start_time": "2025-04-14T10:10:01.253Z"
   },
   {
    "duration": 21,
    "start_time": "2025-04-14T10:10:01.280Z"
   },
   {
    "duration": 53,
    "start_time": "2025-04-14T10:10:01.303Z"
   },
   {
    "duration": 89,
    "start_time": "2025-04-14T10:10:01.359Z"
   },
   {
    "duration": 31,
    "start_time": "2025-04-14T10:10:01.450Z"
   },
   {
    "duration": 10,
    "start_time": "2025-04-14T10:10:01.484Z"
   },
   {
    "duration": 40,
    "start_time": "2025-04-14T10:10:01.496Z"
   },
   {
    "duration": 18,
    "start_time": "2025-04-14T10:10:01.538Z"
   },
   {
    "duration": 10,
    "start_time": "2025-04-14T10:10:01.558Z"
   },
   {
    "duration": 14,
    "start_time": "2025-04-14T10:10:01.571Z"
   },
   {
    "duration": 16,
    "start_time": "2025-04-14T10:10:01.587Z"
   },
   {
    "duration": 40,
    "start_time": "2025-04-14T10:10:01.605Z"
   },
   {
    "duration": 18,
    "start_time": "2025-04-14T10:10:01.647Z"
   },
   {
    "duration": 130,
    "start_time": "2025-04-14T10:10:01.668Z"
   },
   {
    "duration": 13,
    "start_time": "2025-04-14T10:10:01.800Z"
   },
   {
    "duration": 53,
    "start_time": "2025-04-14T10:10:01.815Z"
   },
   {
    "duration": 100,
    "start_time": "2025-04-14T10:15:02.177Z"
   },
   {
    "duration": 19,
    "start_time": "2025-04-14T10:15:07.701Z"
   },
   {
    "duration": 16,
    "start_time": "2025-04-14T10:15:32.274Z"
   },
   {
    "duration": 7,
    "start_time": "2025-04-14T10:20:29.877Z"
   },
   {
    "duration": 12,
    "start_time": "2025-04-14T10:20:50.470Z"
   },
   {
    "duration": 17,
    "start_time": "2025-04-14T10:22:34.992Z"
   },
   {
    "duration": 20,
    "start_time": "2025-04-14T10:32:50.270Z"
   },
   {
    "duration": 16,
    "start_time": "2025-04-14T10:33:05.049Z"
   },
   {
    "duration": 4,
    "start_time": "2025-04-14T10:35:42.176Z"
   },
   {
    "duration": 73,
    "start_time": "2025-04-14T10:35:46.222Z"
   },
   {
    "duration": 565,
    "start_time": "2025-04-14T10:35:48.964Z"
   },
   {
    "duration": 3,
    "start_time": "2025-04-14T10:35:52.473Z"
   },
   {
    "duration": 14,
    "start_time": "2025-04-14T10:36:00.667Z"
   },
   {
    "duration": 13,
    "start_time": "2025-04-14T10:36:49.287Z"
   },
   {
    "duration": 9,
    "start_time": "2025-04-14T10:39:19.621Z"
   },
   {
    "duration": 10,
    "start_time": "2025-04-14T10:39:33.428Z"
   },
   {
    "duration": 23,
    "start_time": "2025-04-14T10:39:44.694Z"
   },
   {
    "duration": 12,
    "start_time": "2025-04-14T10:39:57.851Z"
   },
   {
    "duration": 3624,
    "start_time": "2025-04-14T10:40:10.755Z"
   },
   {
    "duration": 210,
    "start_time": "2025-04-14T10:40:14.381Z"
   },
   {
    "duration": 16,
    "start_time": "2025-04-14T10:40:14.593Z"
   },
   {
    "duration": 49,
    "start_time": "2025-04-14T10:40:14.610Z"
   },
   {
    "duration": 8,
    "start_time": "2025-04-14T10:40:14.661Z"
   },
   {
    "duration": 10,
    "start_time": "2025-04-14T10:40:14.671Z"
   },
   {
    "duration": 11,
    "start_time": "2025-04-14T10:40:14.682Z"
   },
   {
    "duration": 13,
    "start_time": "2025-04-14T10:40:14.695Z"
   },
   {
    "duration": 28,
    "start_time": "2025-04-14T10:40:14.709Z"
   },
   {
    "duration": 3,
    "start_time": "2025-04-14T10:40:14.740Z"
   },
   {
    "duration": 100,
    "start_time": "2025-04-14T10:40:14.744Z"
   },
   {
    "duration": 5,
    "start_time": "2025-04-14T10:40:14.845Z"
   },
   {
    "duration": 9,
    "start_time": "2025-04-14T10:40:14.852Z"
   },
   {
    "duration": 11,
    "start_time": "2025-04-14T10:40:14.862Z"
   },
   {
    "duration": 22,
    "start_time": "2025-04-14T10:40:14.875Z"
   },
   {
    "duration": 46,
    "start_time": "2025-04-14T10:40:14.898Z"
   },
   {
    "duration": 22,
    "start_time": "2025-04-14T10:40:14.946Z"
   },
   {
    "duration": 22,
    "start_time": "2025-04-14T10:40:14.969Z"
   },
   {
    "duration": 55,
    "start_time": "2025-04-14T10:40:14.993Z"
   },
   {
    "duration": 31,
    "start_time": "2025-04-14T10:40:15.049Z"
   },
   {
    "duration": 29,
    "start_time": "2025-04-14T10:40:15.082Z"
   },
   {
    "duration": 28,
    "start_time": "2025-04-14T10:40:15.112Z"
   },
   {
    "duration": 26,
    "start_time": "2025-04-14T10:40:15.142Z"
   },
   {
    "duration": 13,
    "start_time": "2025-04-14T10:40:15.170Z"
   },
   {
    "duration": 28,
    "start_time": "2025-04-14T10:40:15.185Z"
   },
   {
    "duration": 14,
    "start_time": "2025-04-14T10:40:15.214Z"
   },
   {
    "duration": 12,
    "start_time": "2025-04-14T10:40:15.229Z"
   },
   {
    "duration": 39,
    "start_time": "2025-04-14T10:40:15.243Z"
   },
   {
    "duration": 19,
    "start_time": "2025-04-14T10:40:15.284Z"
   },
   {
    "duration": 96,
    "start_time": "2025-04-14T10:40:15.304Z"
   },
   {
    "duration": 0,
    "start_time": "2025-04-14T10:40:15.401Z"
   },
   {
    "duration": 0,
    "start_time": "2025-04-14T10:40:15.403Z"
   },
   {
    "duration": 19,
    "start_time": "2025-04-14T10:40:26.807Z"
   },
   {
    "duration": 3622,
    "start_time": "2025-04-14T10:40:33.519Z"
   },
   {
    "duration": 159,
    "start_time": "2025-04-14T10:40:37.143Z"
   },
   {
    "duration": 17,
    "start_time": "2025-04-14T10:40:37.304Z"
   },
   {
    "duration": 15,
    "start_time": "2025-04-14T10:40:37.323Z"
   },
   {
    "duration": 11,
    "start_time": "2025-04-14T10:40:37.340Z"
   },
   {
    "duration": 14,
    "start_time": "2025-04-14T10:40:37.353Z"
   },
   {
    "duration": 11,
    "start_time": "2025-04-14T10:40:37.368Z"
   },
   {
    "duration": 14,
    "start_time": "2025-04-14T10:40:37.380Z"
   },
   {
    "duration": 4,
    "start_time": "2025-04-14T10:40:37.395Z"
   },
   {
    "duration": 4,
    "start_time": "2025-04-14T10:40:37.402Z"
   },
   {
    "duration": 4,
    "start_time": "2025-04-14T10:40:37.436Z"
   },
   {
    "duration": 32,
    "start_time": "2025-04-14T10:40:37.442Z"
   },
   {
    "duration": 14,
    "start_time": "2025-04-14T10:40:37.475Z"
   },
   {
    "duration": 15,
    "start_time": "2025-04-14T10:40:37.490Z"
   },
   {
    "duration": 22,
    "start_time": "2025-04-14T10:40:37.506Z"
   },
   {
    "duration": 20,
    "start_time": "2025-04-14T10:40:37.529Z"
   },
   {
    "duration": 21,
    "start_time": "2025-04-14T10:40:37.550Z"
   },
   {
    "duration": 19,
    "start_time": "2025-04-14T10:40:37.572Z"
   },
   {
    "duration": 60,
    "start_time": "2025-04-14T10:40:37.593Z"
   },
   {
    "duration": 9,
    "start_time": "2025-04-14T10:40:37.655Z"
   },
   {
    "duration": 11,
    "start_time": "2025-04-14T10:40:37.665Z"
   },
   {
    "duration": 16,
    "start_time": "2025-04-14T10:40:37.677Z"
   },
   {
    "duration": 7,
    "start_time": "2025-04-14T10:40:37.695Z"
   },
   {
    "duration": 35,
    "start_time": "2025-04-14T10:40:37.703Z"
   },
   {
    "duration": 13,
    "start_time": "2025-04-14T10:40:37.740Z"
   },
   {
    "duration": 14,
    "start_time": "2025-04-14T10:40:37.754Z"
   },
   {
    "duration": 12,
    "start_time": "2025-04-14T10:40:37.770Z"
   },
   {
    "duration": 65,
    "start_time": "2025-04-14T10:40:37.785Z"
   },
   {
    "duration": 41,
    "start_time": "2025-04-14T10:40:37.851Z"
   },
   {
    "duration": 19,
    "start_time": "2025-04-14T10:40:37.894Z"
   },
   {
    "duration": 23,
    "start_time": "2025-04-14T10:40:37.914Z"
   },
   {
    "duration": 14,
    "start_time": "2025-04-14T10:40:37.938Z"
   },
   {
    "duration": 8,
    "start_time": "2025-04-14T10:40:54.642Z"
   },
   {
    "duration": 15,
    "start_time": "2025-04-14T10:40:58.916Z"
   },
   {
    "duration": 15,
    "start_time": "2025-04-14T10:47:06.346Z"
   },
   {
    "duration": 103,
    "start_time": "2025-04-14T10:47:15.479Z"
   },
   {
    "duration": 13,
    "start_time": "2025-04-14T10:47:18.367Z"
   },
   {
    "duration": 16,
    "start_time": "2025-04-14T10:48:30.586Z"
   },
   {
    "duration": 9,
    "start_time": "2025-04-14T11:17:31.967Z"
   },
   {
    "duration": 15,
    "start_time": "2025-04-14T11:17:36.555Z"
   },
   {
    "duration": 9,
    "start_time": "2025-04-14T11:20:17.057Z"
   },
   {
    "duration": 7,
    "start_time": "2025-04-14T11:20:41.158Z"
   },
   {
    "duration": 5,
    "start_time": "2025-04-14T11:21:50.964Z"
   },
   {
    "duration": 8,
    "start_time": "2025-04-14T11:22:27.832Z"
   },
   {
    "duration": 9,
    "start_time": "2025-04-14T11:25:07.407Z"
   },
   {
    "duration": 70,
    "start_time": "2025-04-14T11:25:09.633Z"
   },
   {
    "duration": 3,
    "start_time": "2025-04-14T11:25:14.422Z"
   },
   {
    "duration": 9,
    "start_time": "2025-04-14T11:25:16.060Z"
   },
   {
    "duration": 9,
    "start_time": "2025-04-14T11:25:23.637Z"
   },
   {
    "duration": 395,
    "start_time": "2025-04-14T11:25:36.516Z"
   },
   {
    "duration": 3,
    "start_time": "2025-04-14T11:25:53.837Z"
   },
   {
    "duration": 269,
    "start_time": "2025-04-14T11:25:58.650Z"
   },
   {
    "duration": 3,
    "start_time": "2025-04-14T11:26:48.469Z"
   },
   {
    "duration": 6,
    "start_time": "2025-04-14T11:26:51.942Z"
   },
   {
    "duration": 15,
    "start_time": "2025-04-14T11:27:38.030Z"
   },
   {
    "duration": 14,
    "start_time": "2025-04-14T11:38:56.629Z"
   },
   {
    "duration": 22,
    "start_time": "2025-04-14T11:39:48.817Z"
   },
   {
    "duration": 8,
    "start_time": "2025-04-14T11:40:47.042Z"
   },
   {
    "duration": 8,
    "start_time": "2025-04-14T11:41:01.814Z"
   },
   {
    "duration": 9,
    "start_time": "2025-04-14T11:41:12.553Z"
   },
   {
    "duration": 9,
    "start_time": "2025-04-14T11:41:22.353Z"
   },
   {
    "duration": 66,
    "start_time": "2025-04-14T11:41:58.444Z"
   },
   {
    "duration": 7,
    "start_time": "2025-04-14T11:42:11.139Z"
   },
   {
    "duration": 9,
    "start_time": "2025-04-14T11:42:58.581Z"
   },
   {
    "duration": 10,
    "start_time": "2025-04-14T11:43:03.122Z"
   },
   {
    "duration": 5,
    "start_time": "2025-04-14T11:43:09.976Z"
   },
   {
    "duration": 6,
    "start_time": "2025-04-14T11:43:49.784Z"
   },
   {
    "duration": 23,
    "start_time": "2025-04-14T11:44:20.841Z"
   },
   {
    "duration": 16,
    "start_time": "2025-04-14T11:44:31.314Z"
   },
   {
    "duration": 11,
    "start_time": "2025-04-14T11:44:39.494Z"
   },
   {
    "duration": 24,
    "start_time": "2025-04-14T11:44:54.544Z"
   },
   {
    "duration": 14,
    "start_time": "2025-04-14T11:45:03.529Z"
   },
   {
    "duration": 23,
    "start_time": "2025-04-14T11:45:11.255Z"
   },
   {
    "duration": 10,
    "start_time": "2025-04-14T11:45:40.566Z"
   },
   {
    "duration": 10,
    "start_time": "2025-04-14T11:45:53.687Z"
   },
   {
    "duration": 12,
    "start_time": "2025-04-14T11:46:23.585Z"
   },
   {
    "duration": 14,
    "start_time": "2025-04-14T11:46:32.516Z"
   },
   {
    "duration": 8,
    "start_time": "2025-04-14T11:46:58.702Z"
   },
   {
    "duration": 3720,
    "start_time": "2025-04-14T11:48:45.390Z"
   },
   {
    "duration": 179,
    "start_time": "2025-04-14T11:48:49.112Z"
   },
   {
    "duration": 16,
    "start_time": "2025-04-14T11:48:49.293Z"
   },
   {
    "duration": 14,
    "start_time": "2025-04-14T11:48:49.312Z"
   },
   {
    "duration": 10,
    "start_time": "2025-04-14T11:48:49.328Z"
   },
   {
    "duration": 12,
    "start_time": "2025-04-14T11:48:49.340Z"
   },
   {
    "duration": 11,
    "start_time": "2025-04-14T11:48:49.353Z"
   },
   {
    "duration": 13,
    "start_time": "2025-04-14T11:48:49.366Z"
   },
   {
    "duration": 4,
    "start_time": "2025-04-14T11:48:49.380Z"
   },
   {
    "duration": 3,
    "start_time": "2025-04-14T11:48:49.387Z"
   },
   {
    "duration": 4,
    "start_time": "2025-04-14T11:48:49.391Z"
   },
   {
    "duration": 40,
    "start_time": "2025-04-14T11:48:49.396Z"
   },
   {
    "duration": 11,
    "start_time": "2025-04-14T11:48:49.438Z"
   },
   {
    "duration": 11,
    "start_time": "2025-04-14T11:48:49.450Z"
   },
   {
    "duration": 22,
    "start_time": "2025-04-14T11:48:49.463Z"
   },
   {
    "duration": 49,
    "start_time": "2025-04-14T11:48:49.486Z"
   },
   {
    "duration": 22,
    "start_time": "2025-04-14T11:48:49.537Z"
   },
   {
    "duration": 19,
    "start_time": "2025-04-14T11:48:49.561Z"
   },
   {
    "duration": 54,
    "start_time": "2025-04-14T11:48:49.582Z"
   },
   {
    "duration": 9,
    "start_time": "2025-04-14T11:48:49.638Z"
   },
   {
    "duration": 106,
    "start_time": "2025-04-14T11:48:49.649Z"
   },
   {
    "duration": 16,
    "start_time": "2025-04-14T11:48:49.756Z"
   },
   {
    "duration": 15,
    "start_time": "2025-04-14T11:48:49.773Z"
   },
   {
    "duration": 21,
    "start_time": "2025-04-14T11:48:49.790Z"
   },
   {
    "duration": 13,
    "start_time": "2025-04-14T11:48:49.812Z"
   },
   {
    "duration": 14,
    "start_time": "2025-04-14T11:48:49.827Z"
   },
   {
    "duration": 45,
    "start_time": "2025-04-14T11:48:49.843Z"
   },
   {
    "duration": 14,
    "start_time": "2025-04-14T11:48:49.891Z"
   },
   {
    "duration": 43,
    "start_time": "2025-04-14T11:48:49.906Z"
   },
   {
    "duration": 18,
    "start_time": "2025-04-14T11:48:49.951Z"
   },
   {
    "duration": 8,
    "start_time": "2025-04-14T11:48:49.971Z"
   },
   {
    "duration": 13,
    "start_time": "2025-04-14T11:48:49.980Z"
   },
   {
    "duration": 41,
    "start_time": "2025-04-14T11:48:49.995Z"
   },
   {
    "duration": 22,
    "start_time": "2025-04-14T11:48:50.038Z"
   },
   {
    "duration": 53,
    "start_time": "2025-04-14T11:48:50.062Z"
   },
   {
    "duration": 13,
    "start_time": "2025-04-14T11:48:50.117Z"
   },
   {
    "duration": 14,
    "start_time": "2025-04-14T11:48:50.131Z"
   },
   {
    "duration": 15,
    "start_time": "2025-04-14T11:50:55.702Z"
   },
   {
    "duration": 1341,
    "start_time": "2025-04-14T11:51:34.396Z"
   },
   {
    "duration": 6,
    "start_time": "2025-04-14T11:51:41.163Z"
   },
   {
    "duration": 14,
    "start_time": "2025-04-14T12:11:09.468Z"
   },
   {
    "duration": 17,
    "start_time": "2025-04-14T12:11:33.453Z"
   },
   {
    "duration": 19,
    "start_time": "2025-04-14T12:12:33.928Z"
   },
   {
    "duration": 124,
    "start_time": "2025-04-14T13:05:40.274Z"
   },
   {
    "duration": 48,
    "start_time": "2025-04-14T13:06:34.766Z"
   },
   {
    "duration": 7,
    "start_time": "2025-04-14T13:06:57.222Z"
   },
   {
    "duration": 8,
    "start_time": "2025-04-14T13:07:39.530Z"
   },
   {
    "duration": 7,
    "start_time": "2025-04-14T13:07:59.590Z"
   },
   {
    "duration": 6,
    "start_time": "2025-04-14T13:08:08.942Z"
   },
   {
    "duration": 692,
    "start_time": "2025-04-14T13:08:25.477Z"
   },
   {
    "duration": 200,
    "start_time": "2025-04-14T13:08:31.454Z"
   },
   {
    "duration": 6,
    "start_time": "2025-04-14T13:08:42.012Z"
   },
   {
    "duration": 66,
    "start_time": "2025-04-14T13:09:20.260Z"
   },
   {
    "duration": 63,
    "start_time": "2025-04-14T13:09:29.596Z"
   },
   {
    "duration": 75,
    "start_time": "2025-04-14T13:09:35.327Z"
   },
   {
    "duration": 8,
    "start_time": "2025-04-14T13:09:58.906Z"
   },
   {
    "duration": 8,
    "start_time": "2025-04-14T13:10:42.647Z"
   },
   {
    "duration": 16,
    "start_time": "2025-04-14T13:18:04.686Z"
   },
   {
    "duration": 13,
    "start_time": "2025-04-14T13:18:13.434Z"
   },
   {
    "duration": 159,
    "start_time": "2025-04-14T13:18:19.007Z"
   },
   {
    "duration": 164,
    "start_time": "2025-04-14T13:18:34.431Z"
   },
   {
    "duration": 5,
    "start_time": "2025-04-14T13:18:49.240Z"
   },
   {
    "duration": 156,
    "start_time": "2025-04-14T13:18:52.654Z"
   },
   {
    "duration": 1141,
    "start_time": "2025-04-14T13:26:08.904Z"
   },
   {
    "duration": 1873,
    "start_time": "2025-04-14T13:26:15.904Z"
   },
   {
    "duration": 7,
    "start_time": "2025-04-14T13:26:22.905Z"
   },
   {
    "duration": 9,
    "start_time": "2025-04-14T13:27:44.455Z"
   },
   {
    "duration": 11,
    "start_time": "2025-04-14T13:29:30.435Z"
   },
   {
    "duration": 9,
    "start_time": "2025-04-14T13:29:38.785Z"
   },
   {
    "duration": 11,
    "start_time": "2025-04-14T13:30:51.786Z"
   },
   {
    "duration": 187,
    "start_time": "2025-04-14T13:44:52.821Z"
   },
   {
    "duration": 106,
    "start_time": "2025-04-14T13:46:07.351Z"
   },
   {
    "duration": 74,
    "start_time": "2025-04-14T13:46:13.466Z"
   },
   {
    "duration": 191,
    "start_time": "2025-04-14T13:46:28.741Z"
   },
   {
    "duration": 279,
    "start_time": "2025-04-14T13:50:25.552Z"
   },
   {
    "duration": 198,
    "start_time": "2025-04-14T13:50:33.798Z"
   },
   {
    "duration": 218,
    "start_time": "2025-04-14T13:52:56.447Z"
   },
   {
    "duration": 197,
    "start_time": "2025-04-14T13:53:23.500Z"
   },
   {
    "duration": 191,
    "start_time": "2025-04-14T13:53:29.599Z"
   },
   {
    "duration": 210,
    "start_time": "2025-04-14T13:54:01.799Z"
   },
   {
    "duration": 287,
    "start_time": "2025-04-14T13:59:29.541Z"
   },
   {
    "duration": 9,
    "start_time": "2025-04-14T13:59:45.068Z"
   },
   {
    "duration": 13,
    "start_time": "2025-04-14T14:02:03.932Z"
   },
   {
    "duration": 60,
    "start_time": "2025-04-14T14:02:19.972Z"
   },
   {
    "duration": 18,
    "start_time": "2025-04-14T14:02:40.961Z"
   },
   {
    "duration": 14,
    "start_time": "2025-04-14T14:03:22.662Z"
   },
   {
    "duration": 14,
    "start_time": "2025-04-14T14:03:47.588Z"
   },
   {
    "duration": 216,
    "start_time": "2025-04-14T14:11:51.744Z"
   },
   {
    "duration": 214,
    "start_time": "2025-04-14T14:12:57.659Z"
   },
   {
    "duration": 207,
    "start_time": "2025-04-14T14:13:02.416Z"
   },
   {
    "duration": 168,
    "start_time": "2025-04-14T14:14:36.819Z"
   },
   {
    "duration": 166,
    "start_time": "2025-04-14T14:14:47.331Z"
   },
   {
    "duration": 76,
    "start_time": "2025-04-14T14:54:24.749Z"
   },
   {
    "duration": 81,
    "start_time": "2025-04-14T14:54:48.241Z"
   },
   {
    "duration": 66,
    "start_time": "2025-04-14T14:54:51.785Z"
   },
   {
    "duration": 61,
    "start_time": "2025-04-14T14:54:58.733Z"
   },
   {
    "duration": 67,
    "start_time": "2025-04-14T14:55:01.232Z"
   },
   {
    "duration": 6,
    "start_time": "2025-04-14T14:55:24.323Z"
   },
   {
    "duration": 14,
    "start_time": "2025-04-14T14:57:54.168Z"
   },
   {
    "duration": 152,
    "start_time": "2025-04-14T14:59:13.873Z"
   },
   {
    "duration": 8,
    "start_time": "2025-04-14T14:59:23.101Z"
   },
   {
    "duration": 8,
    "start_time": "2025-04-14T14:59:28.958Z"
   },
   {
    "duration": 18,
    "start_time": "2025-04-14T15:08:16.090Z"
   },
   {
    "duration": 16,
    "start_time": "2025-04-14T15:08:29.604Z"
   },
   {
    "duration": 311,
    "start_time": "2025-04-14T15:09:24.019Z"
   },
   {
    "duration": 104,
    "start_time": "2025-04-14T15:09:42.360Z"
   },
   {
    "duration": 161,
    "start_time": "2025-04-14T15:11:07.564Z"
   },
   {
    "duration": 132,
    "start_time": "2025-04-14T15:11:18.486Z"
   },
   {
    "duration": 141,
    "start_time": "2025-04-14T15:11:23.885Z"
   },
   {
    "duration": 79,
    "start_time": "2025-04-14T15:12:14.152Z"
   },
   {
    "duration": 133,
    "start_time": "2025-04-14T15:12:23.593Z"
   },
   {
    "duration": 129,
    "start_time": "2025-04-14T15:12:44.387Z"
   },
   {
    "duration": 132,
    "start_time": "2025-04-14T15:15:12.473Z"
   },
   {
    "duration": 147,
    "start_time": "2025-04-14T15:15:20.142Z"
   },
   {
    "duration": 135,
    "start_time": "2025-04-14T15:17:12.503Z"
   },
   {
    "duration": 131,
    "start_time": "2025-04-14T15:17:42.060Z"
   },
   {
    "duration": 140,
    "start_time": "2025-04-14T15:21:49.405Z"
   },
   {
    "duration": 87,
    "start_time": "2025-04-14T15:22:18.968Z"
   },
   {
    "duration": 13,
    "start_time": "2025-04-14T15:22:48.223Z"
   },
   {
    "duration": 138,
    "start_time": "2025-04-14T15:23:09.200Z"
   },
   {
    "duration": 136,
    "start_time": "2025-04-14T15:23:19.811Z"
   },
   {
    "duration": 148,
    "start_time": "2025-04-14T15:23:26.232Z"
   },
   {
    "duration": 227,
    "start_time": "2025-04-14T15:23:38.967Z"
   },
   {
    "duration": 150,
    "start_time": "2025-04-14T15:23:49.054Z"
   },
   {
    "duration": 138,
    "start_time": "2025-04-14T15:23:52.266Z"
   },
   {
    "duration": 157,
    "start_time": "2025-04-14T15:23:56.873Z"
   },
   {
    "duration": 67,
    "start_time": "2025-04-14T15:24:07.170Z"
   },
   {
    "duration": 155,
    "start_time": "2025-04-14T15:24:15.214Z"
   },
   {
    "duration": 143,
    "start_time": "2025-04-14T15:26:18.597Z"
   },
   {
    "duration": 160,
    "start_time": "2025-04-14T15:26:33.724Z"
   },
   {
    "duration": 122,
    "start_time": "2025-04-14T15:27:36.047Z"
   },
   {
    "duration": 140,
    "start_time": "2025-04-14T15:28:00.608Z"
   },
   {
    "duration": 138,
    "start_time": "2025-04-14T15:28:19.873Z"
   },
   {
    "duration": 5,
    "start_time": "2025-04-14T15:31:16.066Z"
   },
   {
    "duration": 145,
    "start_time": "2025-04-14T15:31:20.617Z"
   },
   {
    "duration": 178,
    "start_time": "2025-04-14T15:31:33.768Z"
   },
   {
    "duration": 144,
    "start_time": "2025-04-14T15:31:46.671Z"
   },
   {
    "duration": 15,
    "start_time": "2025-04-14T15:34:02.485Z"
   },
   {
    "duration": 139,
    "start_time": "2025-04-14T15:34:10.974Z"
   },
   {
    "duration": 233,
    "start_time": "2025-04-14T15:34:28.777Z"
   },
   {
    "duration": 146,
    "start_time": "2025-04-14T15:34:40.711Z"
   },
   {
    "duration": 146,
    "start_time": "2025-04-14T15:35:00.033Z"
   },
   {
    "duration": 144,
    "start_time": "2025-04-14T15:35:14.738Z"
   },
   {
    "duration": 12,
    "start_time": "2025-04-14T15:39:05.177Z"
   },
   {
    "duration": 92,
    "start_time": "2025-04-14T15:39:33.878Z"
   },
   {
    "duration": 8,
    "start_time": "2025-04-14T15:39:41.543Z"
   },
   {
    "duration": 10,
    "start_time": "2025-04-14T15:40:08.709Z"
   },
   {
    "duration": 12,
    "start_time": "2025-04-14T15:40:29.403Z"
   },
   {
    "duration": 13,
    "start_time": "2025-04-14T15:40:33.732Z"
   },
   {
    "duration": 10,
    "start_time": "2025-04-14T15:44:27.776Z"
   },
   {
    "duration": 217,
    "start_time": "2025-04-14T15:44:34.148Z"
   },
   {
    "duration": 219,
    "start_time": "2025-04-14T15:44:46.687Z"
   },
   {
    "duration": 222,
    "start_time": "2025-04-14T15:45:51.452Z"
   },
   {
    "duration": 14,
    "start_time": "2025-04-14T15:47:20.689Z"
   },
   {
    "duration": 13,
    "start_time": "2025-04-14T15:47:37.873Z"
   },
   {
    "duration": 228,
    "start_time": "2025-04-14T15:47:50.925Z"
   },
   {
    "duration": 10,
    "start_time": "2025-04-14T15:47:55.565Z"
   },
   {
    "duration": 97,
    "start_time": "2025-04-15T05:52:00.906Z"
   },
   {
    "duration": 48,
    "start_time": "2025-04-15T05:52:08.667Z"
   },
   {
    "duration": 5318,
    "start_time": "2025-04-15T05:52:30.328Z"
   },
   {
    "duration": 299,
    "start_time": "2025-04-15T05:52:35.648Z"
   },
   {
    "duration": 17,
    "start_time": "2025-04-15T05:52:35.949Z"
   },
   {
    "duration": 73,
    "start_time": "2025-04-15T05:52:35.969Z"
   },
   {
    "duration": 15,
    "start_time": "2025-04-15T05:52:36.044Z"
   },
   {
    "duration": 91,
    "start_time": "2025-04-15T05:52:36.061Z"
   },
   {
    "duration": 56,
    "start_time": "2025-04-15T05:52:36.155Z"
   },
   {
    "duration": 30,
    "start_time": "2025-04-15T05:52:36.214Z"
   },
   {
    "duration": 6,
    "start_time": "2025-04-15T05:52:36.246Z"
   },
   {
    "duration": 20,
    "start_time": "2025-04-15T05:52:36.257Z"
   },
   {
    "duration": 14,
    "start_time": "2025-04-15T05:52:36.279Z"
   },
   {
    "duration": 35,
    "start_time": "2025-04-15T05:52:36.295Z"
   },
   {
    "duration": 30,
    "start_time": "2025-04-15T05:52:36.332Z"
   },
   {
    "duration": 29,
    "start_time": "2025-04-15T05:52:36.364Z"
   },
   {
    "duration": 35,
    "start_time": "2025-04-15T05:52:36.395Z"
   },
   {
    "duration": 30,
    "start_time": "2025-04-15T05:52:36.432Z"
   },
   {
    "duration": 23,
    "start_time": "2025-04-15T05:52:36.464Z"
   },
   {
    "duration": 31,
    "start_time": "2025-04-15T05:52:36.488Z"
   },
   {
    "duration": 53,
    "start_time": "2025-04-15T05:52:36.520Z"
   },
   {
    "duration": 10,
    "start_time": "2025-04-15T05:52:36.575Z"
   },
   {
    "duration": 21,
    "start_time": "2025-04-15T05:52:36.587Z"
   },
   {
    "duration": 29,
    "start_time": "2025-04-15T05:52:36.610Z"
   },
   {
    "duration": 16,
    "start_time": "2025-04-15T05:52:36.641Z"
   },
   {
    "duration": 26,
    "start_time": "2025-04-15T05:52:36.658Z"
   },
   {
    "duration": 52,
    "start_time": "2025-04-15T05:52:36.686Z"
   },
   {
    "duration": 47,
    "start_time": "2025-04-15T05:52:36.739Z"
   },
   {
    "duration": 102,
    "start_time": "2025-04-15T05:52:36.787Z"
   },
   {
    "duration": 49,
    "start_time": "2025-04-15T05:52:36.893Z"
   },
   {
    "duration": 32,
    "start_time": "2025-04-15T05:52:36.944Z"
   },
   {
    "duration": 20,
    "start_time": "2025-04-15T05:52:36.978Z"
   },
   {
    "duration": 9,
    "start_time": "2025-04-15T05:52:37.000Z"
   },
   {
    "duration": 45,
    "start_time": "2025-04-15T05:52:37.011Z"
   },
   {
    "duration": 25,
    "start_time": "2025-04-15T05:52:37.058Z"
   },
   {
    "duration": 33,
    "start_time": "2025-04-15T05:52:37.084Z"
   },
   {
    "duration": 27,
    "start_time": "2025-04-15T05:52:37.119Z"
   },
   {
    "duration": 66,
    "start_time": "2025-04-15T05:52:37.148Z"
   },
   {
    "duration": 40,
    "start_time": "2025-04-15T05:52:37.216Z"
   },
   {
    "duration": 21,
    "start_time": "2025-04-15T05:52:37.258Z"
   },
   {
    "duration": 73,
    "start_time": "2025-04-15T05:52:37.281Z"
   },
   {
    "duration": 209,
    "start_time": "2025-04-15T05:52:37.356Z"
   },
   {
    "duration": 11,
    "start_time": "2025-04-15T05:52:37.567Z"
   },
   {
    "duration": 240,
    "start_time": "2025-04-15T05:52:37.579Z"
   },
   {
    "duration": 14,
    "start_time": "2025-04-15T05:52:37.820Z"
   },
   {
    "duration": 193,
    "start_time": "2025-04-15T05:52:37.836Z"
   },
   {
    "duration": 9,
    "start_time": "2025-04-15T05:52:38.031Z"
   },
   {
    "duration": 168,
    "start_time": "2025-04-15T05:52:38.042Z"
   },
   {
    "duration": 11,
    "start_time": "2025-04-15T05:52:38.211Z"
   },
   {
    "duration": 258,
    "start_time": "2025-04-15T05:52:38.224Z"
   },
   {
    "duration": 228,
    "start_time": "2025-04-15T05:55:27.789Z"
   },
   {
    "duration": 153,
    "start_time": "2025-04-15T05:56:05.437Z"
   },
   {
    "duration": 233,
    "start_time": "2025-04-15T05:56:17.331Z"
   },
   {
    "duration": 135,
    "start_time": "2025-04-15T06:02:59.490Z"
   },
   {
    "duration": 265,
    "start_time": "2025-04-15T06:12:17.171Z"
   },
   {
    "duration": 12,
    "start_time": "2025-04-15T06:21:05.753Z"
   },
   {
    "duration": 12,
    "start_time": "2025-04-15T06:21:25.272Z"
   },
   {
    "duration": 15,
    "start_time": "2025-04-15T06:23:30.287Z"
   },
   {
    "duration": 53,
    "start_time": "2025-04-15T11:16:24.179Z"
   },
   {
    "duration": 7,
    "start_time": "2025-04-15T11:16:29.724Z"
   },
   {
    "duration": 4796,
    "start_time": "2025-04-15T11:16:36.859Z"
   },
   {
    "duration": 241,
    "start_time": "2025-04-15T11:16:41.657Z"
   },
   {
    "duration": 16,
    "start_time": "2025-04-15T11:16:41.899Z"
   },
   {
    "duration": 14,
    "start_time": "2025-04-15T11:16:41.918Z"
   },
   {
    "duration": 10,
    "start_time": "2025-04-15T11:16:41.934Z"
   },
   {
    "duration": 11,
    "start_time": "2025-04-15T11:16:41.945Z"
   },
   {
    "duration": 12,
    "start_time": "2025-04-15T11:16:41.957Z"
   },
   {
    "duration": 15,
    "start_time": "2025-04-15T11:16:41.970Z"
   },
   {
    "duration": 10,
    "start_time": "2025-04-15T11:16:41.986Z"
   },
   {
    "duration": 11,
    "start_time": "2025-04-15T11:16:41.998Z"
   },
   {
    "duration": 27,
    "start_time": "2025-04-15T11:16:42.011Z"
   },
   {
    "duration": 6,
    "start_time": "2025-04-15T11:16:42.040Z"
   },
   {
    "duration": 13,
    "start_time": "2025-04-15T11:16:42.047Z"
   },
   {
    "duration": 58,
    "start_time": "2025-04-15T11:16:42.062Z"
   },
   {
    "duration": 25,
    "start_time": "2025-04-15T11:16:42.122Z"
   },
   {
    "duration": 23,
    "start_time": "2025-04-15T11:16:42.148Z"
   },
   {
    "duration": 24,
    "start_time": "2025-04-15T11:16:42.173Z"
   },
   {
    "duration": 50,
    "start_time": "2025-04-15T11:16:42.198Z"
   },
   {
    "duration": 126,
    "start_time": "2025-04-15T11:16:42.249Z"
   },
   {
    "duration": 59,
    "start_time": "2025-04-15T11:16:42.377Z"
   },
   {
    "duration": 10,
    "start_time": "2025-04-15T11:16:42.437Z"
   },
   {
    "duration": 28,
    "start_time": "2025-04-15T11:16:42.448Z"
   },
   {
    "duration": 8,
    "start_time": "2025-04-15T11:16:42.478Z"
   },
   {
    "duration": 7,
    "start_time": "2025-04-15T11:16:42.487Z"
   },
   {
    "duration": 11,
    "start_time": "2025-04-15T11:16:42.496Z"
   },
   {
    "duration": 38,
    "start_time": "2025-04-15T11:16:42.508Z"
   },
   {
    "duration": 46,
    "start_time": "2025-04-15T11:16:42.547Z"
   },
   {
    "duration": 13,
    "start_time": "2025-04-15T11:16:42.597Z"
   },
   {
    "duration": 44,
    "start_time": "2025-04-15T11:16:42.611Z"
   },
   {
    "duration": 19,
    "start_time": "2025-04-15T11:16:42.657Z"
   },
   {
    "duration": 9,
    "start_time": "2025-04-15T11:16:42.678Z"
   },
   {
    "duration": 16,
    "start_time": "2025-04-15T11:16:42.689Z"
   },
   {
    "duration": 45,
    "start_time": "2025-04-15T11:16:42.706Z"
   },
   {
    "duration": 7,
    "start_time": "2025-04-15T11:16:42.752Z"
   },
   {
    "duration": 27,
    "start_time": "2025-04-15T11:16:42.760Z"
   },
   {
    "duration": 8,
    "start_time": "2025-04-15T11:16:42.789Z"
   },
   {
    "duration": 16,
    "start_time": "2025-04-15T11:16:42.798Z"
   },
   {
    "duration": 22,
    "start_time": "2025-04-15T11:16:42.815Z"
   },
   {
    "duration": 11,
    "start_time": "2025-04-15T11:16:42.839Z"
   },
   {
    "duration": 197,
    "start_time": "2025-04-15T11:16:42.852Z"
   },
   {
    "duration": 11,
    "start_time": "2025-04-15T11:16:43.051Z"
   },
   {
    "duration": 236,
    "start_time": "2025-04-15T11:16:43.064Z"
   },
   {
    "duration": 14,
    "start_time": "2025-04-15T11:16:43.302Z"
   },
   {
    "duration": 272,
    "start_time": "2025-04-15T11:16:43.318Z"
   },
   {
    "duration": 9,
    "start_time": "2025-04-15T11:16:43.592Z"
   },
   {
    "duration": 173,
    "start_time": "2025-04-15T11:16:43.603Z"
   },
   {
    "duration": 15,
    "start_time": "2025-04-15T11:16:43.778Z"
   },
   {
    "duration": 255,
    "start_time": "2025-04-15T11:16:43.795Z"
   },
   {
    "duration": 9,
    "start_time": "2025-04-15T11:16:44.052Z"
   },
   {
    "duration": 6,
    "start_time": "2025-04-15T11:25:27.767Z"
   },
   {
    "duration": 3793,
    "start_time": "2025-04-15T11:25:36.112Z"
   },
   {
    "duration": 237,
    "start_time": "2025-04-15T11:25:39.907Z"
   },
   {
    "duration": 18,
    "start_time": "2025-04-15T11:25:40.146Z"
   },
   {
    "duration": 76,
    "start_time": "2025-04-15T11:25:40.166Z"
   },
   {
    "duration": 179,
    "start_time": "2025-04-15T11:25:40.244Z"
   },
   {
    "duration": 12,
    "start_time": "2025-04-15T11:25:40.424Z"
   },
   {
    "duration": 15,
    "start_time": "2025-04-15T11:25:40.438Z"
   },
   {
    "duration": 15,
    "start_time": "2025-04-15T11:25:40.454Z"
   },
   {
    "duration": 4,
    "start_time": "2025-04-15T11:25:40.471Z"
   },
   {
    "duration": 3,
    "start_time": "2025-04-15T11:25:40.478Z"
   },
   {
    "duration": 9,
    "start_time": "2025-04-15T11:25:40.483Z"
   },
   {
    "duration": 10,
    "start_time": "2025-04-15T11:25:40.493Z"
   },
   {
    "duration": 35,
    "start_time": "2025-04-15T11:25:40.504Z"
   },
   {
    "duration": 11,
    "start_time": "2025-04-15T11:25:40.541Z"
   },
   {
    "duration": 24,
    "start_time": "2025-04-15T11:25:40.553Z"
   },
   {
    "duration": 20,
    "start_time": "2025-04-15T11:25:40.579Z"
   },
   {
    "duration": 46,
    "start_time": "2025-04-15T11:25:40.601Z"
   },
   {
    "duration": 21,
    "start_time": "2025-04-15T11:25:40.649Z"
   },
   {
    "duration": 33,
    "start_time": "2025-04-15T11:25:40.672Z"
   },
   {
    "duration": 36,
    "start_time": "2025-04-15T11:25:40.706Z"
   },
   {
    "duration": 9,
    "start_time": "2025-04-15T11:25:40.744Z"
   },
   {
    "duration": 15,
    "start_time": "2025-04-15T11:25:40.755Z"
   },
   {
    "duration": 6,
    "start_time": "2025-04-15T11:25:40.772Z"
   },
   {
    "duration": 11,
    "start_time": "2025-04-15T11:25:40.780Z"
   },
   {
    "duration": 39,
    "start_time": "2025-04-15T11:25:40.793Z"
   },
   {
    "duration": 17,
    "start_time": "2025-04-15T11:25:40.833Z"
   },
   {
    "duration": 46,
    "start_time": "2025-04-15T11:25:40.852Z"
   },
   {
    "duration": 13,
    "start_time": "2025-04-15T11:25:40.901Z"
   },
   {
    "duration": 40,
    "start_time": "2025-04-15T11:25:40.916Z"
   },
   {
    "duration": 19,
    "start_time": "2025-04-15T11:25:40.957Z"
   },
   {
    "duration": 8,
    "start_time": "2025-04-15T11:25:40.978Z"
   },
   {
    "duration": 26,
    "start_time": "2025-04-15T11:25:40.988Z"
   },
   {
    "duration": 27,
    "start_time": "2025-04-15T11:25:41.016Z"
   },
   {
    "duration": 17,
    "start_time": "2025-04-15T11:25:41.045Z"
   },
   {
    "duration": 16,
    "start_time": "2025-04-15T11:25:41.064Z"
   },
   {
    "duration": 6,
    "start_time": "2025-04-15T11:25:41.082Z"
   },
   {
    "duration": 14,
    "start_time": "2025-04-15T11:25:41.089Z"
   },
   {
    "duration": 19,
    "start_time": "2025-04-15T11:25:41.105Z"
   },
   {
    "duration": 27,
    "start_time": "2025-04-15T11:25:41.125Z"
   },
   {
    "duration": 186,
    "start_time": "2025-04-15T11:25:41.154Z"
   },
   {
    "duration": 10,
    "start_time": "2025-04-15T11:25:41.342Z"
   },
   {
    "duration": 318,
    "start_time": "2025-04-15T11:25:41.354Z"
   },
   {
    "duration": 14,
    "start_time": "2025-04-15T11:25:41.674Z"
   },
   {
    "duration": 193,
    "start_time": "2025-04-15T11:25:41.690Z"
   },
   {
    "duration": 8,
    "start_time": "2025-04-15T11:25:41.884Z"
   },
   {
    "duration": 175,
    "start_time": "2025-04-15T11:25:41.894Z"
   },
   {
    "duration": 14,
    "start_time": "2025-04-15T11:25:42.071Z"
   },
   {
    "duration": 239,
    "start_time": "2025-04-15T11:25:42.087Z"
   },
   {
    "duration": 19,
    "start_time": "2025-04-15T11:25:42.328Z"
   },
   {
    "duration": 187,
    "start_time": "2025-04-15T11:34:06.522Z"
   },
   {
    "duration": 206,
    "start_time": "2025-04-15T11:34:35.969Z"
   },
   {
    "duration": 111,
    "start_time": "2025-04-15T11:35:21.088Z"
   },
   {
    "duration": 207,
    "start_time": "2025-04-15T11:36:50.924Z"
   },
   {
    "duration": 123,
    "start_time": "2025-04-15T11:37:00.748Z"
   },
   {
    "duration": 211,
    "start_time": "2025-04-15T12:09:27.437Z"
   },
   {
    "duration": 13,
    "start_time": "2025-04-15T12:32:21.131Z"
   },
   {
    "duration": 8,
    "start_time": "2025-04-15T12:32:48.010Z"
   },
   {
    "duration": 3899,
    "start_time": "2025-04-15T12:36:46.553Z"
   },
   {
    "duration": 238,
    "start_time": "2025-04-15T12:36:50.454Z"
   },
   {
    "duration": 19,
    "start_time": "2025-04-15T12:36:50.694Z"
   },
   {
    "duration": 39,
    "start_time": "2025-04-15T12:36:50.715Z"
   },
   {
    "duration": 11,
    "start_time": "2025-04-15T12:36:50.756Z"
   },
   {
    "duration": 16,
    "start_time": "2025-04-15T12:36:50.768Z"
   },
   {
    "duration": 23,
    "start_time": "2025-04-15T12:36:50.786Z"
   },
   {
    "duration": 33,
    "start_time": "2025-04-15T12:36:50.811Z"
   },
   {
    "duration": 5,
    "start_time": "2025-04-15T12:36:50.845Z"
   },
   {
    "duration": 3,
    "start_time": "2025-04-15T12:36:50.854Z"
   },
   {
    "duration": 9,
    "start_time": "2025-04-15T12:36:50.859Z"
   },
   {
    "duration": 14,
    "start_time": "2025-04-15T12:36:50.870Z"
   },
   {
    "duration": 16,
    "start_time": "2025-04-15T12:36:50.886Z"
   },
   {
    "duration": 47,
    "start_time": "2025-04-15T12:36:50.904Z"
   },
   {
    "duration": 36,
    "start_time": "2025-04-15T12:36:50.953Z"
   },
   {
    "duration": 48,
    "start_time": "2025-04-15T12:36:50.991Z"
   },
   {
    "duration": 25,
    "start_time": "2025-04-15T12:36:51.040Z"
   },
   {
    "duration": 23,
    "start_time": "2025-04-15T12:36:51.067Z"
   },
   {
    "duration": 69,
    "start_time": "2025-04-15T12:36:51.092Z"
   },
   {
    "duration": 13,
    "start_time": "2025-04-15T12:36:51.163Z"
   },
   {
    "duration": 13,
    "start_time": "2025-04-15T12:36:51.178Z"
   },
   {
    "duration": 45,
    "start_time": "2025-04-15T12:36:51.193Z"
   },
   {
    "duration": 8,
    "start_time": "2025-04-15T12:36:51.240Z"
   },
   {
    "duration": 6,
    "start_time": "2025-04-15T12:36:51.250Z"
   },
   {
    "duration": 15,
    "start_time": "2025-04-15T12:36:51.258Z"
   },
   {
    "duration": 17,
    "start_time": "2025-04-15T12:36:51.275Z"
   },
   {
    "duration": 72,
    "start_time": "2025-04-15T12:36:51.294Z"
   },
   {
    "duration": 19,
    "start_time": "2025-04-15T12:36:51.370Z"
   },
   {
    "duration": 47,
    "start_time": "2025-04-15T12:36:51.391Z"
   },
   {
    "duration": 19,
    "start_time": "2025-04-15T12:36:51.440Z"
   },
   {
    "duration": 11,
    "start_time": "2025-04-15T12:36:51.462Z"
   },
   {
    "duration": 23,
    "start_time": "2025-04-15T12:36:51.475Z"
   },
   {
    "duration": 57,
    "start_time": "2025-04-15T12:36:51.500Z"
   },
   {
    "duration": 30,
    "start_time": "2025-04-15T12:36:51.558Z"
   },
   {
    "duration": 13,
    "start_time": "2025-04-15T12:36:51.590Z"
   },
   {
    "duration": 29,
    "start_time": "2025-04-15T12:36:51.605Z"
   },
   {
    "duration": 113,
    "start_time": "2025-04-15T12:36:51.636Z"
   },
   {
    "duration": 21,
    "start_time": "2025-04-15T12:36:51.751Z"
   },
   {
    "duration": 34,
    "start_time": "2025-04-15T12:36:51.774Z"
   },
   {
    "duration": 193,
    "start_time": "2025-04-15T12:36:51.810Z"
   },
   {
    "duration": 11,
    "start_time": "2025-04-15T12:36:52.005Z"
   },
   {
    "duration": 259,
    "start_time": "2025-04-15T12:36:52.018Z"
   },
   {
    "duration": 15,
    "start_time": "2025-04-15T12:36:52.279Z"
   },
   {
    "duration": 245,
    "start_time": "2025-04-15T12:36:52.295Z"
   },
   {
    "duration": 8,
    "start_time": "2025-04-15T12:36:52.543Z"
   },
   {
    "duration": 219,
    "start_time": "2025-04-15T12:36:52.553Z"
   },
   {
    "duration": 73,
    "start_time": "2025-04-15T12:36:52.774Z"
   },
   {
    "duration": 630,
    "start_time": "2025-04-15T12:36:52.849Z"
   },
   {
    "duration": 13,
    "start_time": "2025-04-15T12:36:53.538Z"
   },
   {
    "duration": 487,
    "start_time": "2025-04-15T12:36:53.553Z"
   },
   {
    "duration": 313,
    "start_time": "2025-04-15T12:36:54.043Z"
   },
   {
    "duration": 10,
    "start_time": "2025-04-15T12:36:54.358Z"
   },
   {
    "duration": 9,
    "start_time": "2025-04-15T12:37:02.715Z"
   },
   {
    "duration": 132,
    "start_time": "2025-04-15T12:37:20.342Z"
   },
   {
    "duration": 4121,
    "start_time": "2025-04-15T12:40:31.378Z"
   },
   {
    "duration": 166,
    "start_time": "2025-04-15T12:40:35.502Z"
   },
   {
    "duration": 17,
    "start_time": "2025-04-15T12:40:35.670Z"
   },
   {
    "duration": 72,
    "start_time": "2025-04-15T12:40:35.690Z"
   },
   {
    "duration": 32,
    "start_time": "2025-04-15T12:40:35.764Z"
   },
   {
    "duration": 68,
    "start_time": "2025-04-15T12:40:35.798Z"
   },
   {
    "duration": 25,
    "start_time": "2025-04-15T12:40:35.868Z"
   },
   {
    "duration": 46,
    "start_time": "2025-04-15T12:40:35.894Z"
   },
   {
    "duration": 15,
    "start_time": "2025-04-15T12:40:35.942Z"
   },
   {
    "duration": 20,
    "start_time": "2025-04-15T12:40:35.962Z"
   },
   {
    "duration": 30,
    "start_time": "2025-04-15T12:40:35.984Z"
   },
   {
    "duration": 31,
    "start_time": "2025-04-15T12:40:36.016Z"
   },
   {
    "duration": 25,
    "start_time": "2025-04-15T12:40:36.049Z"
   },
   {
    "duration": 41,
    "start_time": "2025-04-15T12:40:36.076Z"
   },
   {
    "duration": 33,
    "start_time": "2025-04-15T12:40:36.119Z"
   },
   {
    "duration": 25,
    "start_time": "2025-04-15T12:40:36.154Z"
   },
   {
    "duration": 91,
    "start_time": "2025-04-15T12:40:36.181Z"
   },
   {
    "duration": 82,
    "start_time": "2025-04-15T12:40:36.274Z"
   },
   {
    "duration": 87,
    "start_time": "2025-04-15T12:40:36.358Z"
   },
   {
    "duration": 66,
    "start_time": "2025-04-15T12:40:36.447Z"
   },
   {
    "duration": 31,
    "start_time": "2025-04-15T12:40:36.515Z"
   },
   {
    "duration": 39,
    "start_time": "2025-04-15T12:40:36.548Z"
   },
   {
    "duration": 145,
    "start_time": "2025-04-15T12:40:36.588Z"
   },
   {
    "duration": 46,
    "start_time": "2025-04-15T12:40:36.735Z"
   },
   {
    "duration": 29,
    "start_time": "2025-04-15T12:40:36.782Z"
   },
   {
    "duration": 36,
    "start_time": "2025-04-15T12:40:36.813Z"
   },
   {
    "duration": 47,
    "start_time": "2025-04-15T12:40:36.852Z"
   },
   {
    "duration": 14,
    "start_time": "2025-04-15T12:40:36.904Z"
   },
   {
    "duration": 40,
    "start_time": "2025-04-15T12:40:36.920Z"
   },
   {
    "duration": 20,
    "start_time": "2025-04-15T12:40:36.961Z"
   },
   {
    "duration": 31,
    "start_time": "2025-04-15T12:40:36.983Z"
   },
   {
    "duration": 25,
    "start_time": "2025-04-15T12:40:37.016Z"
   },
   {
    "duration": 25,
    "start_time": "2025-04-15T12:40:37.043Z"
   },
   {
    "duration": 9,
    "start_time": "2025-04-15T12:40:37.070Z"
   },
   {
    "duration": 16,
    "start_time": "2025-04-15T12:40:37.081Z"
   },
   {
    "duration": 31,
    "start_time": "2025-04-15T12:40:37.099Z"
   },
   {
    "duration": 28,
    "start_time": "2025-04-15T12:40:37.131Z"
   },
   {
    "duration": 31,
    "start_time": "2025-04-15T12:40:37.161Z"
   },
   {
    "duration": 27,
    "start_time": "2025-04-15T12:40:37.193Z"
   },
   {
    "duration": 205,
    "start_time": "2025-04-15T12:40:37.222Z"
   },
   {
    "duration": 16,
    "start_time": "2025-04-15T12:40:37.429Z"
   },
   {
    "duration": 256,
    "start_time": "2025-04-15T12:40:37.447Z"
   },
   {
    "duration": 16,
    "start_time": "2025-04-15T12:40:37.705Z"
   },
   {
    "duration": 196,
    "start_time": "2025-04-15T12:40:37.737Z"
   },
   {
    "duration": 8,
    "start_time": "2025-04-15T12:40:37.935Z"
   },
   {
    "duration": 178,
    "start_time": "2025-04-15T12:40:37.945Z"
   },
   {
    "duration": 25,
    "start_time": "2025-04-15T12:40:38.125Z"
   },
   {
    "duration": 260,
    "start_time": "2025-04-15T12:40:38.152Z"
   },
   {
    "duration": 24,
    "start_time": "2025-04-15T12:40:38.414Z"
   },
   {
    "duration": 300,
    "start_time": "2025-04-15T12:40:38.440Z"
   },
   {
    "duration": 147,
    "start_time": "2025-04-15T12:40:38.742Z"
   },
   {
    "duration": 10,
    "start_time": "2025-04-15T12:40:38.891Z"
   },
   {
    "duration": 142,
    "start_time": "2025-04-15T12:40:38.903Z"
   },
   {
    "duration": 15,
    "start_time": "2025-04-15T12:42:19.142Z"
   },
   {
    "duration": 14,
    "start_time": "2025-04-15T12:42:31.725Z"
   },
   {
    "duration": 13,
    "start_time": "2025-04-15T12:42:35.515Z"
   },
   {
    "duration": 9,
    "start_time": "2025-04-15T12:44:51.352Z"
   },
   {
    "duration": 9,
    "start_time": "2025-04-15T12:44:57.644Z"
   },
   {
    "duration": 195,
    "start_time": "2025-04-15T12:54:49.812Z"
   },
   {
    "duration": 444,
    "start_time": "2025-04-15T12:55:06.456Z"
   },
   {
    "duration": 315,
    "start_time": "2025-04-15T12:55:23.647Z"
   },
   {
    "duration": 334,
    "start_time": "2025-04-15T12:56:01.541Z"
   },
   {
    "duration": 11,
    "start_time": "2025-04-15T13:05:03.254Z"
   },
   {
    "duration": 10,
    "start_time": "2025-04-15T13:05:35.961Z"
   },
   {
    "duration": 230,
    "start_time": "2025-04-15T13:11:09.350Z"
   },
   {
    "duration": 124,
    "start_time": "2025-04-15T13:14:11.640Z"
   },
   {
    "duration": 149,
    "start_time": "2025-04-15T13:14:25.514Z"
   },
   {
    "duration": 216,
    "start_time": "2025-04-15T13:19:15.024Z"
   },
   {
    "duration": 9,
    "start_time": "2025-04-15T13:25:00.739Z"
   },
   {
    "duration": 9,
    "start_time": "2025-04-15T13:25:20.816Z"
   },
   {
    "duration": 8,
    "start_time": "2025-04-15T13:25:46.654Z"
   },
   {
    "duration": 8,
    "start_time": "2025-04-15T13:25:55.314Z"
   },
   {
    "duration": 312,
    "start_time": "2025-04-15T13:30:41.756Z"
   },
   {
    "duration": 375,
    "start_time": "2025-04-15T13:31:30.501Z"
   },
   {
    "duration": 331,
    "start_time": "2025-04-15T13:32:00.844Z"
   },
   {
    "duration": 307,
    "start_time": "2025-04-15T13:33:00.825Z"
   },
   {
    "duration": 442,
    "start_time": "2025-04-15T13:33:14.203Z"
   },
   {
    "duration": 174,
    "start_time": "2025-04-15T13:51:36.279Z"
   },
   {
    "duration": 210,
    "start_time": "2025-04-15T13:53:12.991Z"
   },
   {
    "duration": 222,
    "start_time": "2025-04-15T14:03:12.772Z"
   },
   {
    "duration": 15,
    "start_time": "2025-04-15T14:10:16.796Z"
   },
   {
    "duration": 573,
    "start_time": "2025-04-15T14:10:30.985Z"
   },
   {
    "duration": 5053,
    "start_time": "2025-04-16T11:47:34.205Z"
   },
   {
    "duration": 198,
    "start_time": "2025-04-16T11:47:39.260Z"
   },
   {
    "duration": 20,
    "start_time": "2025-04-16T11:47:39.461Z"
   },
   {
    "duration": 15,
    "start_time": "2025-04-16T11:47:39.483Z"
   },
   {
    "duration": 14,
    "start_time": "2025-04-16T11:47:39.499Z"
   },
   {
    "duration": 15,
    "start_time": "2025-04-16T11:47:39.514Z"
   },
   {
    "duration": 32,
    "start_time": "2025-04-16T11:47:39.530Z"
   },
   {
    "duration": 14,
    "start_time": "2025-04-16T11:47:39.564Z"
   },
   {
    "duration": 4,
    "start_time": "2025-04-16T11:47:39.579Z"
   },
   {
    "duration": 5,
    "start_time": "2025-04-16T11:47:39.585Z"
   },
   {
    "duration": 7,
    "start_time": "2025-04-16T11:47:39.592Z"
   },
   {
    "duration": 9,
    "start_time": "2025-04-16T11:47:39.600Z"
   },
   {
    "duration": 14,
    "start_time": "2025-04-16T11:47:39.610Z"
   },
   {
    "duration": 10,
    "start_time": "2025-04-16T11:47:39.625Z"
   },
   {
    "duration": 45,
    "start_time": "2025-04-16T11:47:39.637Z"
   },
   {
    "duration": 28,
    "start_time": "2025-04-16T11:47:39.684Z"
   },
   {
    "duration": 20,
    "start_time": "2025-04-16T11:47:39.714Z"
   },
   {
    "duration": 37,
    "start_time": "2025-04-16T11:47:39.735Z"
   },
   {
    "duration": 30,
    "start_time": "2025-04-16T11:47:39.774Z"
   },
   {
    "duration": 9,
    "start_time": "2025-04-16T11:47:39.805Z"
   },
   {
    "duration": 15,
    "start_time": "2025-04-16T11:47:39.815Z"
   },
   {
    "duration": 46,
    "start_time": "2025-04-16T11:47:39.831Z"
   },
   {
    "duration": 7,
    "start_time": "2025-04-16T11:47:39.878Z"
   },
   {
    "duration": 30,
    "start_time": "2025-04-16T11:47:39.887Z"
   },
   {
    "duration": 72,
    "start_time": "2025-04-16T11:47:39.919Z"
   },
   {
    "duration": 13,
    "start_time": "2025-04-16T11:47:39.993Z"
   },
   {
    "duration": 66,
    "start_time": "2025-04-16T11:47:40.008Z"
   },
   {
    "duration": 13,
    "start_time": "2025-04-16T11:47:40.079Z"
   },
   {
    "duration": 45,
    "start_time": "2025-04-16T11:47:40.094Z"
   },
   {
    "duration": 18,
    "start_time": "2025-04-16T11:47:40.141Z"
   },
   {
    "duration": 8,
    "start_time": "2025-04-16T11:47:40.161Z"
   },
   {
    "duration": 39,
    "start_time": "2025-04-16T11:47:40.171Z"
   },
   {
    "duration": 32,
    "start_time": "2025-04-16T11:47:40.212Z"
   },
   {
    "duration": 12,
    "start_time": "2025-04-16T11:47:40.245Z"
   },
   {
    "duration": 11,
    "start_time": "2025-04-16T11:47:40.258Z"
   },
   {
    "duration": 13,
    "start_time": "2025-04-16T11:47:40.271Z"
   },
   {
    "duration": 51,
    "start_time": "2025-04-16T11:47:40.286Z"
   },
   {
    "duration": 18,
    "start_time": "2025-04-16T11:47:40.339Z"
   },
   {
    "duration": 15,
    "start_time": "2025-04-16T11:47:40.358Z"
   },
   {
    "duration": 189,
    "start_time": "2025-04-16T11:47:40.375Z"
   },
   {
    "duration": 11,
    "start_time": "2025-04-16T11:47:40.567Z"
   },
   {
    "duration": 218,
    "start_time": "2025-04-16T11:47:40.579Z"
   },
   {
    "duration": 14,
    "start_time": "2025-04-16T11:47:40.799Z"
   },
   {
    "duration": 185,
    "start_time": "2025-04-16T11:47:40.815Z"
   },
   {
    "duration": 8,
    "start_time": "2025-04-16T11:47:41.001Z"
   },
   {
    "duration": 154,
    "start_time": "2025-04-16T11:47:41.010Z"
   },
   {
    "duration": 14,
    "start_time": "2025-04-16T11:47:41.166Z"
   },
   {
    "duration": 231,
    "start_time": "2025-04-16T11:47:41.181Z"
   },
   {
    "duration": 9,
    "start_time": "2025-04-16T11:47:41.414Z"
   },
   {
    "duration": 186,
    "start_time": "2025-04-16T11:47:41.425Z"
   },
   {
    "duration": 130,
    "start_time": "2025-04-16T11:47:41.612Z"
   },
   {
    "duration": 7,
    "start_time": "2025-04-16T11:47:41.743Z"
   },
   {
    "duration": 358,
    "start_time": "2025-04-16T11:47:41.761Z"
   },
   {
    "duration": 10,
    "start_time": "2025-04-16T11:47:42.120Z"
   },
   {
    "duration": 281,
    "start_time": "2025-04-16T11:47:42.132Z"
   },
   {
    "duration": 8,
    "start_time": "2025-04-16T11:47:42.415Z"
   },
   {
    "duration": 340,
    "start_time": "2025-04-16T11:47:42.424Z"
   },
   {
    "duration": 189,
    "start_time": "2025-04-16T11:47:42.765Z"
   },
   {
    "duration": 239,
    "start_time": "2025-04-16T11:47:42.955Z"
   },
   {
    "duration": 494,
    "start_time": "2025-04-16T11:47:43.197Z"
   },
   {
    "duration": 482,
    "start_time": "2025-04-16T11:52:55.532Z"
   },
   {
    "duration": 387,
    "start_time": "2025-04-16T11:53:14.436Z"
   },
   {
    "duration": 6,
    "start_time": "2025-04-16T11:54:28.079Z"
   },
   {
    "duration": 3559,
    "start_time": "2025-04-16T11:54:32.990Z"
   },
   {
    "duration": 321,
    "start_time": "2025-04-16T11:54:36.551Z"
   },
   {
    "duration": 16,
    "start_time": "2025-04-16T11:54:36.873Z"
   },
   {
    "duration": 34,
    "start_time": "2025-04-16T11:54:36.891Z"
   },
   {
    "duration": 108,
    "start_time": "2025-04-16T11:54:36.926Z"
   },
   {
    "duration": 19,
    "start_time": "2025-04-16T11:54:37.035Z"
   },
   {
    "duration": 11,
    "start_time": "2025-04-16T11:54:37.055Z"
   },
   {
    "duration": 47,
    "start_time": "2025-04-16T11:54:37.067Z"
   },
   {
    "duration": 12,
    "start_time": "2025-04-16T11:54:37.115Z"
   },
   {
    "duration": 5,
    "start_time": "2025-04-16T11:54:37.129Z"
   },
   {
    "duration": 24,
    "start_time": "2025-04-16T11:54:37.135Z"
   },
   {
    "duration": 31,
    "start_time": "2025-04-16T11:54:37.161Z"
   },
   {
    "duration": 27,
    "start_time": "2025-04-16T11:54:37.194Z"
   },
   {
    "duration": 16,
    "start_time": "2025-04-16T11:54:37.222Z"
   },
   {
    "duration": 105,
    "start_time": "2025-04-16T11:54:37.240Z"
   },
   {
    "duration": 52,
    "start_time": "2025-04-16T11:54:37.347Z"
   },
   {
    "duration": 21,
    "start_time": "2025-04-16T11:54:37.401Z"
   },
   {
    "duration": 20,
    "start_time": "2025-04-16T11:54:37.423Z"
   },
   {
    "duration": 33,
    "start_time": "2025-04-16T11:54:37.445Z"
   },
   {
    "duration": 8,
    "start_time": "2025-04-16T11:54:37.480Z"
   },
   {
    "duration": 14,
    "start_time": "2025-04-16T11:54:37.489Z"
   },
   {
    "duration": 15,
    "start_time": "2025-04-16T11:54:37.505Z"
   },
   {
    "duration": 6,
    "start_time": "2025-04-16T11:54:37.522Z"
   },
   {
    "duration": 32,
    "start_time": "2025-04-16T11:54:37.530Z"
   },
   {
    "duration": 9,
    "start_time": "2025-04-16T11:54:37.564Z"
   },
   {
    "duration": 19,
    "start_time": "2025-04-16T11:54:37.575Z"
   },
   {
    "duration": 43,
    "start_time": "2025-04-16T11:54:37.596Z"
   },
   {
    "duration": 26,
    "start_time": "2025-04-16T11:54:37.642Z"
   },
   {
    "duration": 34,
    "start_time": "2025-04-16T11:54:37.670Z"
   },
   {
    "duration": 19,
    "start_time": "2025-04-16T11:54:37.705Z"
   },
   {
    "duration": 8,
    "start_time": "2025-04-16T11:54:37.726Z"
   },
   {
    "duration": 30,
    "start_time": "2025-04-16T11:54:37.736Z"
   },
   {
    "duration": 16,
    "start_time": "2025-04-16T11:54:37.768Z"
   },
   {
    "duration": 19,
    "start_time": "2025-04-16T11:54:37.785Z"
   },
   {
    "duration": 33,
    "start_time": "2025-04-16T11:54:37.806Z"
   },
   {
    "duration": 8,
    "start_time": "2025-04-16T11:54:37.841Z"
   },
   {
    "duration": 43,
    "start_time": "2025-04-16T11:54:37.851Z"
   },
   {
    "duration": 17,
    "start_time": "2025-04-16T11:54:37.896Z"
   },
   {
    "duration": 103,
    "start_time": "2025-04-16T11:54:37.915Z"
   },
   {
    "duration": 188,
    "start_time": "2025-04-16T11:54:38.021Z"
   },
   {
    "duration": 9,
    "start_time": "2025-04-16T11:54:38.211Z"
   },
   {
    "duration": 218,
    "start_time": "2025-04-16T11:54:38.222Z"
   },
   {
    "duration": 20,
    "start_time": "2025-04-16T11:54:38.442Z"
   },
   {
    "duration": 170,
    "start_time": "2025-04-16T11:54:38.463Z"
   },
   {
    "duration": 7,
    "start_time": "2025-04-16T11:54:38.634Z"
   },
   {
    "duration": 159,
    "start_time": "2025-04-16T11:54:38.643Z"
   },
   {
    "duration": 12,
    "start_time": "2025-04-16T11:54:38.804Z"
   },
   {
    "duration": 222,
    "start_time": "2025-04-16T11:54:38.818Z"
   },
   {
    "duration": 9,
    "start_time": "2025-04-16T11:54:39.042Z"
   },
   {
    "duration": 192,
    "start_time": "2025-04-16T11:54:39.061Z"
   },
   {
    "duration": 117,
    "start_time": "2025-04-16T11:54:39.262Z"
   },
   {
    "duration": 10,
    "start_time": "2025-04-16T11:54:39.380Z"
   },
   {
    "duration": 319,
    "start_time": "2025-04-16T11:54:39.391Z"
   },
   {
    "duration": 8,
    "start_time": "2025-04-16T11:54:39.711Z"
   },
   {
    "duration": 272,
    "start_time": "2025-04-16T11:54:39.721Z"
   },
   {
    "duration": 7,
    "start_time": "2025-04-16T11:54:39.995Z"
   },
   {
    "duration": 362,
    "start_time": "2025-04-16T11:54:40.003Z"
   },
   {
    "duration": 188,
    "start_time": "2025-04-16T11:54:40.367Z"
   },
   {
    "duration": 245,
    "start_time": "2025-04-16T11:54:40.556Z"
   },
   {
    "duration": 396,
    "start_time": "2025-04-16T11:54:40.802Z"
   },
   {
    "duration": 378,
    "start_time": "2025-04-16T12:03:02.871Z"
   },
   {
    "duration": 481,
    "start_time": "2025-04-16T12:04:45.434Z"
   },
   {
    "duration": 105,
    "start_time": "2025-04-16T12:05:59.582Z"
   },
   {
    "duration": 15,
    "start_time": "2025-04-16T12:07:23.783Z"
   },
   {
    "duration": 419,
    "start_time": "2025-04-16T12:07:52.988Z"
   },
   {
    "duration": 408,
    "start_time": "2025-04-16T12:10:50.193Z"
   },
   {
    "duration": 592,
    "start_time": "2025-04-16T12:12:27.982Z"
   },
   {
    "duration": 3457,
    "start_time": "2025-04-16T12:12:44.518Z"
   },
   {
    "duration": 216,
    "start_time": "2025-04-16T12:12:47.978Z"
   },
   {
    "duration": 15,
    "start_time": "2025-04-16T12:12:48.196Z"
   },
   {
    "duration": 14,
    "start_time": "2025-04-16T12:12:48.213Z"
   },
   {
    "duration": 9,
    "start_time": "2025-04-16T12:12:48.229Z"
   },
   {
    "duration": 30,
    "start_time": "2025-04-16T12:12:48.239Z"
   },
   {
    "duration": 17,
    "start_time": "2025-04-16T12:12:48.270Z"
   },
   {
    "duration": 13,
    "start_time": "2025-04-16T12:12:48.289Z"
   },
   {
    "duration": 4,
    "start_time": "2025-04-16T12:12:48.304Z"
   },
   {
    "duration": 11,
    "start_time": "2025-04-16T12:12:48.311Z"
   },
   {
    "duration": 12,
    "start_time": "2025-04-16T12:12:48.324Z"
   },
   {
    "duration": 22,
    "start_time": "2025-04-16T12:12:48.337Z"
   },
   {
    "duration": 10,
    "start_time": "2025-04-16T12:12:48.361Z"
   },
   {
    "duration": 11,
    "start_time": "2025-04-16T12:12:48.372Z"
   },
   {
    "duration": 24,
    "start_time": "2025-04-16T12:12:48.385Z"
   },
   {
    "duration": 19,
    "start_time": "2025-04-16T12:12:48.411Z"
   },
   {
    "duration": 41,
    "start_time": "2025-04-16T12:12:48.432Z"
   },
   {
    "duration": 19,
    "start_time": "2025-04-16T12:12:48.474Z"
   },
   {
    "duration": 30,
    "start_time": "2025-04-16T12:12:48.494Z"
   },
   {
    "duration": 36,
    "start_time": "2025-04-16T12:12:48.526Z"
   },
   {
    "duration": 19,
    "start_time": "2025-04-16T12:12:48.564Z"
   },
   {
    "duration": 23,
    "start_time": "2025-04-16T12:12:48.584Z"
   },
   {
    "duration": 895,
    "start_time": "2025-04-16T12:12:48.609Z"
   },
   {
    "duration": 0,
    "start_time": "2025-04-16T12:12:49.507Z"
   },
   {
    "duration": 0,
    "start_time": "2025-04-16T12:12:49.508Z"
   },
   {
    "duration": 0,
    "start_time": "2025-04-16T12:12:49.509Z"
   },
   {
    "duration": 0,
    "start_time": "2025-04-16T12:12:49.510Z"
   },
   {
    "duration": 0,
    "start_time": "2025-04-16T12:12:49.511Z"
   },
   {
    "duration": 0,
    "start_time": "2025-04-16T12:12:49.512Z"
   },
   {
    "duration": 0,
    "start_time": "2025-04-16T12:12:49.513Z"
   },
   {
    "duration": 0,
    "start_time": "2025-04-16T12:12:49.514Z"
   },
   {
    "duration": 0,
    "start_time": "2025-04-16T12:12:49.515Z"
   },
   {
    "duration": 0,
    "start_time": "2025-04-16T12:12:49.516Z"
   },
   {
    "duration": 0,
    "start_time": "2025-04-16T12:12:49.517Z"
   },
   {
    "duration": 0,
    "start_time": "2025-04-16T12:12:49.518Z"
   },
   {
    "duration": 0,
    "start_time": "2025-04-16T12:12:49.519Z"
   },
   {
    "duration": 0,
    "start_time": "2025-04-16T12:12:49.520Z"
   },
   {
    "duration": 0,
    "start_time": "2025-04-16T12:12:49.521Z"
   },
   {
    "duration": 0,
    "start_time": "2025-04-16T12:12:49.522Z"
   },
   {
    "duration": 0,
    "start_time": "2025-04-16T12:12:49.523Z"
   },
   {
    "duration": 0,
    "start_time": "2025-04-16T12:12:49.524Z"
   },
   {
    "duration": 0,
    "start_time": "2025-04-16T12:12:49.525Z"
   },
   {
    "duration": 0,
    "start_time": "2025-04-16T12:12:49.526Z"
   },
   {
    "duration": 0,
    "start_time": "2025-04-16T12:12:49.527Z"
   },
   {
    "duration": 0,
    "start_time": "2025-04-16T12:12:49.528Z"
   },
   {
    "duration": 0,
    "start_time": "2025-04-16T12:12:49.529Z"
   },
   {
    "duration": 0,
    "start_time": "2025-04-16T12:12:49.530Z"
   },
   {
    "duration": 0,
    "start_time": "2025-04-16T12:12:49.531Z"
   },
   {
    "duration": 0,
    "start_time": "2025-04-16T12:12:49.531Z"
   },
   {
    "duration": 0,
    "start_time": "2025-04-16T12:12:49.533Z"
   },
   {
    "duration": 0,
    "start_time": "2025-04-16T12:12:49.534Z"
   },
   {
    "duration": 0,
    "start_time": "2025-04-16T12:12:49.534Z"
   },
   {
    "duration": 0,
    "start_time": "2025-04-16T12:12:49.535Z"
   },
   {
    "duration": 0,
    "start_time": "2025-04-16T12:12:49.536Z"
   },
   {
    "duration": 0,
    "start_time": "2025-04-16T12:12:49.537Z"
   },
   {
    "duration": 0,
    "start_time": "2025-04-16T12:12:49.538Z"
   },
   {
    "duration": 0,
    "start_time": "2025-04-16T12:12:49.539Z"
   },
   {
    "duration": 0,
    "start_time": "2025-04-16T12:12:49.540Z"
   },
   {
    "duration": 0,
    "start_time": "2025-04-16T12:12:49.541Z"
   },
   {
    "duration": 0,
    "start_time": "2025-04-16T12:12:49.542Z"
   },
   {
    "duration": 6,
    "start_time": "2025-04-16T12:15:17.079Z"
   },
   {
    "duration": 3624,
    "start_time": "2025-04-16T12:15:21.836Z"
   },
   {
    "duration": 184,
    "start_time": "2025-04-16T12:15:25.462Z"
   },
   {
    "duration": 16,
    "start_time": "2025-04-16T12:15:25.647Z"
   },
   {
    "duration": 15,
    "start_time": "2025-04-16T12:15:25.665Z"
   },
   {
    "duration": 9,
    "start_time": "2025-04-16T12:15:25.682Z"
   },
   {
    "duration": 30,
    "start_time": "2025-04-16T12:15:25.692Z"
   },
   {
    "duration": 10,
    "start_time": "2025-04-16T12:15:25.724Z"
   },
   {
    "duration": 14,
    "start_time": "2025-04-16T12:15:25.736Z"
   },
   {
    "duration": 4,
    "start_time": "2025-04-16T12:15:25.763Z"
   },
   {
    "duration": 9,
    "start_time": "2025-04-16T12:15:25.769Z"
   },
   {
    "duration": 5,
    "start_time": "2025-04-16T12:15:25.779Z"
   },
   {
    "duration": 5,
    "start_time": "2025-04-16T12:15:25.785Z"
   },
   {
    "duration": 23,
    "start_time": "2025-04-16T12:15:25.791Z"
   },
   {
    "duration": 12,
    "start_time": "2025-04-16T12:15:25.816Z"
   },
   {
    "duration": 34,
    "start_time": "2025-04-16T12:15:25.830Z"
   },
   {
    "duration": 20,
    "start_time": "2025-04-16T12:15:25.865Z"
   },
   {
    "duration": 21,
    "start_time": "2025-04-16T12:15:25.886Z"
   },
   {
    "duration": 20,
    "start_time": "2025-04-16T12:15:25.908Z"
   },
   {
    "duration": 58,
    "start_time": "2025-04-16T12:15:25.929Z"
   },
   {
    "duration": 8,
    "start_time": "2025-04-16T12:15:25.989Z"
   },
   {
    "duration": 26,
    "start_time": "2025-04-16T12:15:25.998Z"
   },
   {
    "duration": 50,
    "start_time": "2025-04-16T12:15:26.026Z"
   },
   {
    "duration": 5,
    "start_time": "2025-04-16T12:15:26.078Z"
   },
   {
    "duration": 7,
    "start_time": "2025-04-16T12:15:26.084Z"
   },
   {
    "duration": 26,
    "start_time": "2025-04-16T12:15:26.093Z"
   },
   {
    "duration": 13,
    "start_time": "2025-04-16T12:15:26.121Z"
   },
   {
    "duration": 43,
    "start_time": "2025-04-16T12:15:26.135Z"
   },
   {
    "duration": 12,
    "start_time": "2025-04-16T12:15:26.182Z"
   },
   {
    "duration": 26,
    "start_time": "2025-04-16T12:15:26.195Z"
   },
   {
    "duration": 25,
    "start_time": "2025-04-16T12:15:26.223Z"
   },
   {
    "duration": 17,
    "start_time": "2025-04-16T12:15:26.249Z"
   },
   {
    "duration": 13,
    "start_time": "2025-04-16T12:15:26.267Z"
   },
   {
    "duration": 14,
    "start_time": "2025-04-16T12:15:26.282Z"
   },
   {
    "duration": 5,
    "start_time": "2025-04-16T12:15:26.298Z"
   },
   {
    "duration": 5,
    "start_time": "2025-04-16T12:15:26.305Z"
   },
   {
    "duration": 7,
    "start_time": "2025-04-16T12:15:26.311Z"
   },
   {
    "duration": 43,
    "start_time": "2025-04-16T12:15:26.319Z"
   },
   {
    "duration": 21,
    "start_time": "2025-04-16T12:15:26.364Z"
   },
   {
    "duration": 15,
    "start_time": "2025-04-16T12:15:26.387Z"
   },
   {
    "duration": 187,
    "start_time": "2025-04-16T12:15:26.404Z"
   },
   {
    "duration": 12,
    "start_time": "2025-04-16T12:15:26.592Z"
   },
   {
    "duration": 227,
    "start_time": "2025-04-16T12:15:26.606Z"
   },
   {
    "duration": 13,
    "start_time": "2025-04-16T12:15:26.835Z"
   },
   {
    "duration": 187,
    "start_time": "2025-04-16T12:15:26.850Z"
   },
   {
    "duration": 8,
    "start_time": "2025-04-16T12:15:27.038Z"
   },
   {
    "duration": 243,
    "start_time": "2025-04-16T12:15:27.048Z"
   },
   {
    "duration": 14,
    "start_time": "2025-04-16T12:15:27.293Z"
   },
   {
    "duration": 229,
    "start_time": "2025-04-16T12:15:27.309Z"
   },
   {
    "duration": 9,
    "start_time": "2025-04-16T12:15:27.539Z"
   },
   {
    "duration": 191,
    "start_time": "2025-04-16T12:15:27.549Z"
   },
   {
    "duration": 123,
    "start_time": "2025-04-16T12:15:27.741Z"
   },
   {
    "duration": 7,
    "start_time": "2025-04-16T12:15:27.865Z"
   },
   {
    "duration": 337,
    "start_time": "2025-04-16T12:15:27.873Z"
   },
   {
    "duration": 9,
    "start_time": "2025-04-16T12:15:28.212Z"
   },
   {
    "duration": 279,
    "start_time": "2025-04-16T12:15:28.223Z"
   },
   {
    "duration": 6,
    "start_time": "2025-04-16T12:15:28.504Z"
   },
   {
    "duration": 341,
    "start_time": "2025-04-16T12:15:28.511Z"
   },
   {
    "duration": 187,
    "start_time": "2025-04-16T12:15:28.854Z"
   },
   {
    "duration": 245,
    "start_time": "2025-04-16T12:15:29.042Z"
   },
   {
    "duration": 402,
    "start_time": "2025-04-16T12:15:29.289Z"
   },
   {
    "duration": 84,
    "start_time": "2025-04-16T12:17:13.631Z"
   },
   {
    "duration": 127,
    "start_time": "2025-04-16T12:17:45.032Z"
   },
   {
    "duration": 447,
    "start_time": "2025-04-16T12:18:00.570Z"
   },
   {
    "duration": 470,
    "start_time": "2025-04-16T12:18:41.025Z"
   },
   {
    "duration": 402,
    "start_time": "2025-04-16T12:18:51.615Z"
   },
   {
    "duration": 93,
    "start_time": "2025-04-16T12:22:30.778Z"
   },
   {
    "duration": 93,
    "start_time": "2025-04-16T12:23:12.120Z"
   },
   {
    "duration": 561,
    "start_time": "2025-04-16T12:23:36.329Z"
   },
   {
    "duration": 329,
    "start_time": "2025-04-16T12:23:51.880Z"
   },
   {
    "duration": 84,
    "start_time": "2025-04-16T12:24:41.845Z"
   },
   {
    "duration": 96,
    "start_time": "2025-04-16T12:25:03.417Z"
   },
   {
    "duration": 403,
    "start_time": "2025-04-16T12:28:02.827Z"
   },
   {
    "duration": 182,
    "start_time": "2025-04-16T12:30:37.586Z"
   },
   {
    "duration": 483,
    "start_time": "2025-04-16T12:31:02.385Z"
   },
   {
    "duration": 16,
    "start_time": "2025-04-16T12:32:58.803Z"
   },
   {
    "duration": 403,
    "start_time": "2025-04-16T12:34:58.108Z"
   },
   {
    "duration": 349,
    "start_time": "2025-04-16T12:35:38.608Z"
   },
   {
    "duration": 360,
    "start_time": "2025-04-16T12:37:07.070Z"
   },
   {
    "duration": 368,
    "start_time": "2025-04-16T12:38:56.955Z"
   },
   {
    "duration": 4816,
    "start_time": "2025-04-16T12:52:00.472Z"
   },
   {
    "duration": 316,
    "start_time": "2025-04-16T12:52:05.291Z"
   },
   {
    "duration": 16,
    "start_time": "2025-04-16T12:52:05.609Z"
   },
   {
    "duration": 24,
    "start_time": "2025-04-16T12:52:05.627Z"
   },
   {
    "duration": 12,
    "start_time": "2025-04-16T12:52:05.653Z"
   },
   {
    "duration": 34,
    "start_time": "2025-04-16T12:52:05.667Z"
   },
   {
    "duration": 44,
    "start_time": "2025-04-16T12:52:05.703Z"
   },
   {
    "duration": 68,
    "start_time": "2025-04-16T12:52:05.748Z"
   },
   {
    "duration": 8,
    "start_time": "2025-04-16T12:52:05.817Z"
   },
   {
    "duration": 12,
    "start_time": "2025-04-16T12:52:05.828Z"
   },
   {
    "duration": 45,
    "start_time": "2025-04-16T12:52:05.841Z"
   },
   {
    "duration": 42,
    "start_time": "2025-04-16T12:52:05.888Z"
   },
   {
    "duration": 35,
    "start_time": "2025-04-16T12:52:05.932Z"
   },
   {
    "duration": 90,
    "start_time": "2025-04-16T12:52:05.968Z"
   },
   {
    "duration": 69,
    "start_time": "2025-04-16T12:52:06.060Z"
   },
   {
    "duration": 27,
    "start_time": "2025-04-16T12:52:06.131Z"
   },
   {
    "duration": 32,
    "start_time": "2025-04-16T12:52:06.160Z"
   },
   {
    "duration": 95,
    "start_time": "2025-04-16T12:52:06.195Z"
   },
   {
    "duration": 48,
    "start_time": "2025-04-16T12:52:06.292Z"
   },
   {
    "duration": 9,
    "start_time": "2025-04-16T12:52:06.342Z"
   },
   {
    "duration": 46,
    "start_time": "2025-04-16T12:52:06.352Z"
   },
   {
    "duration": 101,
    "start_time": "2025-04-16T12:52:06.400Z"
   },
   {
    "duration": 41,
    "start_time": "2025-04-16T12:52:06.503Z"
   },
   {
    "duration": 18,
    "start_time": "2025-04-16T12:52:06.545Z"
   },
   {
    "duration": 25,
    "start_time": "2025-04-16T12:52:06.564Z"
   },
   {
    "duration": 54,
    "start_time": "2025-04-16T12:52:06.591Z"
   },
   {
    "duration": 64,
    "start_time": "2025-04-16T12:52:06.646Z"
   },
   {
    "duration": 22,
    "start_time": "2025-04-16T12:52:06.713Z"
   },
   {
    "duration": 25,
    "start_time": "2025-04-16T12:52:06.736Z"
   },
   {
    "duration": 25,
    "start_time": "2025-04-16T12:52:06.763Z"
   },
   {
    "duration": 29,
    "start_time": "2025-04-16T12:52:06.789Z"
   },
   {
    "duration": 63,
    "start_time": "2025-04-16T12:52:06.820Z"
   },
   {
    "duration": 40,
    "start_time": "2025-04-16T12:52:06.884Z"
   },
   {
    "duration": 50,
    "start_time": "2025-04-16T12:52:06.926Z"
   },
   {
    "duration": 63,
    "start_time": "2025-04-16T12:52:06.978Z"
   },
   {
    "duration": 88,
    "start_time": "2025-04-16T12:52:07.043Z"
   },
   {
    "duration": 77,
    "start_time": "2025-04-16T12:52:07.133Z"
   },
   {
    "duration": 171,
    "start_time": "2025-04-16T12:52:07.211Z"
   },
   {
    "duration": 41,
    "start_time": "2025-04-16T12:52:07.385Z"
   },
   {
    "duration": 197,
    "start_time": "2025-04-16T12:52:07.427Z"
   },
   {
    "duration": 36,
    "start_time": "2025-04-16T12:52:07.625Z"
   },
   {
    "duration": 218,
    "start_time": "2025-04-16T12:52:07.663Z"
   },
   {
    "duration": 14,
    "start_time": "2025-04-16T12:52:07.883Z"
   },
   {
    "duration": 209,
    "start_time": "2025-04-16T12:52:07.899Z"
   },
   {
    "duration": 6,
    "start_time": "2025-04-16T12:52:08.110Z"
   },
   {
    "duration": 239,
    "start_time": "2025-04-16T12:52:08.117Z"
   },
   {
    "duration": 14,
    "start_time": "2025-04-16T12:52:08.361Z"
   },
   {
    "duration": 226,
    "start_time": "2025-04-16T12:52:08.377Z"
   },
   {
    "duration": 9,
    "start_time": "2025-04-16T12:52:08.605Z"
   },
   {
    "duration": 232,
    "start_time": "2025-04-16T12:52:08.616Z"
   },
   {
    "duration": 124,
    "start_time": "2025-04-16T12:52:08.850Z"
   },
   {
    "duration": 7,
    "start_time": "2025-04-16T12:52:08.975Z"
   },
   {
    "duration": 322,
    "start_time": "2025-04-16T12:52:08.983Z"
   },
   {
    "duration": 9,
    "start_time": "2025-04-16T12:52:09.307Z"
   },
   {
    "duration": 316,
    "start_time": "2025-04-16T12:52:09.317Z"
   },
   {
    "duration": 7,
    "start_time": "2025-04-16T12:52:09.635Z"
   },
   {
    "duration": 359,
    "start_time": "2025-04-16T12:52:09.644Z"
   },
   {
    "duration": 197,
    "start_time": "2025-04-16T12:52:10.005Z"
   },
   {
    "duration": 204,
    "start_time": "2025-04-16T12:52:10.203Z"
   },
   {
    "duration": 359,
    "start_time": "2025-04-16T12:52:10.409Z"
   },
   {
    "duration": 85445,
    "start_time": "2025-04-16T12:53:34.040Z"
   },
   {
    "duration": 399,
    "start_time": "2025-04-16T12:55:21.047Z"
   },
   {
    "duration": 10,
    "start_time": "2025-04-16T12:55:26.188Z"
   },
   {
    "duration": 8,
    "start_time": "2025-04-16T12:55:41.325Z"
   },
   {
    "duration": 6,
    "start_time": "2025-04-16T12:58:13.103Z"
   },
   {
    "duration": 6,
    "start_time": "2025-04-16T12:58:16.716Z"
   },
   {
    "duration": 8,
    "start_time": "2025-04-16T12:58:27.122Z"
   },
   {
    "duration": 24,
    "start_time": "2025-04-16T13:02:07.524Z"
   },
   {
    "duration": 18,
    "start_time": "2025-04-16T13:02:21.170Z"
   },
   {
    "duration": 19,
    "start_time": "2025-04-16T13:02:31.657Z"
   },
   {
    "duration": 106,
    "start_time": "2025-04-16T13:03:00.727Z"
   },
   {
    "duration": 19,
    "start_time": "2025-04-16T13:03:07.242Z"
   },
   {
    "duration": 10,
    "start_time": "2025-04-16T13:17:21.102Z"
   },
   {
    "duration": 9,
    "start_time": "2025-04-16T13:17:37.514Z"
   },
   {
    "duration": 4,
    "start_time": "2025-04-16T13:18:11.229Z"
   },
   {
    "duration": 8,
    "start_time": "2025-04-16T13:18:40.435Z"
   },
   {
    "duration": 10,
    "start_time": "2025-04-16T13:18:59.985Z"
   },
   {
    "duration": 130,
    "start_time": "2025-04-16T13:20:35.426Z"
   },
   {
    "duration": 19,
    "start_time": "2025-04-16T13:20:43.738Z"
   },
   {
    "duration": 393,
    "start_time": "2025-04-16T13:20:54.162Z"
   },
   {
    "duration": 390,
    "start_time": "2025-04-16T13:21:31.204Z"
   },
   {
    "duration": 21,
    "start_time": "2025-04-16T13:28:17.052Z"
   },
   {
    "duration": 19,
    "start_time": "2025-04-16T13:28:27.650Z"
   },
   {
    "duration": 383,
    "start_time": "2025-04-16T13:29:57.460Z"
   },
   {
    "duration": 392,
    "start_time": "2025-04-16T13:31:32.781Z"
   },
   {
    "duration": 404,
    "start_time": "2025-04-16T13:32:41.373Z"
   },
   {
    "duration": 426,
    "start_time": "2025-04-16T13:32:54.005Z"
   },
   {
    "duration": 21,
    "start_time": "2025-04-16T13:33:36.531Z"
   },
   {
    "duration": 3587,
    "start_time": "2025-04-16T13:35:34.629Z"
   },
   {
    "duration": 207,
    "start_time": "2025-04-16T13:35:38.218Z"
   },
   {
    "duration": 16,
    "start_time": "2025-04-16T13:35:38.427Z"
   },
   {
    "duration": 16,
    "start_time": "2025-04-16T13:35:38.445Z"
   },
   {
    "duration": 21,
    "start_time": "2025-04-16T13:35:38.463Z"
   },
   {
    "duration": 27,
    "start_time": "2025-04-16T13:35:38.486Z"
   },
   {
    "duration": 34,
    "start_time": "2025-04-16T13:35:38.515Z"
   },
   {
    "duration": 20,
    "start_time": "2025-04-16T13:35:38.550Z"
   },
   {
    "duration": 12,
    "start_time": "2025-04-16T13:35:38.572Z"
   },
   {
    "duration": 3,
    "start_time": "2025-04-16T13:35:38.587Z"
   },
   {
    "duration": 6,
    "start_time": "2025-04-16T13:35:38.592Z"
   },
   {
    "duration": 21,
    "start_time": "2025-04-16T13:35:38.600Z"
   },
   {
    "duration": 16,
    "start_time": "2025-04-16T13:35:38.623Z"
   },
   {
    "duration": 27,
    "start_time": "2025-04-16T13:35:38.641Z"
   },
   {
    "duration": 22,
    "start_time": "2025-04-16T13:35:38.670Z"
   },
   {
    "duration": 22,
    "start_time": "2025-04-16T13:35:38.694Z"
   },
   {
    "duration": 33,
    "start_time": "2025-04-16T13:35:38.718Z"
   },
   {
    "duration": 21,
    "start_time": "2025-04-16T13:35:38.762Z"
   },
   {
    "duration": 31,
    "start_time": "2025-04-16T13:35:38.785Z"
   },
   {
    "duration": 10,
    "start_time": "2025-04-16T13:35:38.818Z"
   },
   {
    "duration": 39,
    "start_time": "2025-04-16T13:35:38.830Z"
   },
   {
    "duration": 21,
    "start_time": "2025-04-16T13:35:38.871Z"
   },
   {
    "duration": 7,
    "start_time": "2025-04-16T13:35:38.894Z"
   },
   {
    "duration": 7,
    "start_time": "2025-04-16T13:35:38.902Z"
   },
   {
    "duration": 11,
    "start_time": "2025-04-16T13:35:38.911Z"
   },
   {
    "duration": 40,
    "start_time": "2025-04-16T13:35:38.923Z"
   },
   {
    "duration": 41,
    "start_time": "2025-04-16T13:35:38.965Z"
   },
   {
    "duration": 14,
    "start_time": "2025-04-16T13:35:39.012Z"
   },
   {
    "duration": 40,
    "start_time": "2025-04-16T13:35:39.028Z"
   },
   {
    "duration": 21,
    "start_time": "2025-04-16T13:35:39.070Z"
   },
   {
    "duration": 10,
    "start_time": "2025-04-16T13:35:39.093Z"
   },
   {
    "duration": 20,
    "start_time": "2025-04-16T13:35:39.104Z"
   },
   {
    "duration": 44,
    "start_time": "2025-04-16T13:35:39.126Z"
   },
   {
    "duration": 6,
    "start_time": "2025-04-16T13:35:39.173Z"
   },
   {
    "duration": 5,
    "start_time": "2025-04-16T13:35:39.181Z"
   },
   {
    "duration": 9,
    "start_time": "2025-04-16T13:35:39.188Z"
   },
   {
    "duration": 24,
    "start_time": "2025-04-16T13:35:39.199Z"
   },
   {
    "duration": 37,
    "start_time": "2025-04-16T13:35:39.225Z"
   },
   {
    "duration": 12,
    "start_time": "2025-04-16T13:35:39.264Z"
   },
   {
    "duration": 199,
    "start_time": "2025-04-16T13:35:39.278Z"
   },
   {
    "duration": 10,
    "start_time": "2025-04-16T13:35:39.479Z"
   },
   {
    "duration": 219,
    "start_time": "2025-04-16T13:35:39.491Z"
   },
   {
    "duration": 14,
    "start_time": "2025-04-16T13:35:39.711Z"
   },
   {
    "duration": 195,
    "start_time": "2025-04-16T13:35:39.727Z"
   },
   {
    "duration": 7,
    "start_time": "2025-04-16T13:35:39.924Z"
   },
   {
    "duration": 167,
    "start_time": "2025-04-16T13:35:39.933Z"
   },
   {
    "duration": 14,
    "start_time": "2025-04-16T13:35:40.102Z"
   },
   {
    "duration": 224,
    "start_time": "2025-04-16T13:35:40.117Z"
   },
   {
    "duration": 19,
    "start_time": "2025-04-16T13:35:40.343Z"
   },
   {
    "duration": 192,
    "start_time": "2025-04-16T13:35:40.364Z"
   },
   {
    "duration": 120,
    "start_time": "2025-04-16T13:35:40.562Z"
   },
   {
    "duration": 7,
    "start_time": "2025-04-16T13:35:40.683Z"
   },
   {
    "duration": 358,
    "start_time": "2025-04-16T13:35:40.692Z"
   },
   {
    "duration": 16,
    "start_time": "2025-04-16T13:35:41.051Z"
   },
   {
    "duration": 274,
    "start_time": "2025-04-16T13:35:41.068Z"
   },
   {
    "duration": 7,
    "start_time": "2025-04-16T13:35:41.344Z"
   },
   {
    "duration": 319,
    "start_time": "2025-04-16T13:35:41.363Z"
   },
   {
    "duration": 199,
    "start_time": "2025-04-16T13:35:41.684Z"
   },
   {
    "duration": 223,
    "start_time": "2025-04-16T13:35:41.885Z"
   },
   {
    "duration": 400,
    "start_time": "2025-04-16T13:35:42.110Z"
   },
   {
    "duration": 8,
    "start_time": "2025-04-16T13:35:42.511Z"
   },
   {
    "duration": 120,
    "start_time": "2025-04-16T13:35:42.520Z"
   },
   {
    "duration": 609,
    "start_time": "2025-04-16T13:36:28.248Z"
   },
   {
    "duration": 584,
    "start_time": "2025-04-16T13:36:41.322Z"
   },
   {
    "duration": 3681,
    "start_time": "2025-04-16T13:37:02.797Z"
   },
   {
    "duration": 436,
    "start_time": "2025-04-16T13:37:06.480Z"
   },
   {
    "duration": 17,
    "start_time": "2025-04-16T13:37:06.917Z"
   },
   {
    "duration": 14,
    "start_time": "2025-04-16T13:37:06.936Z"
   },
   {
    "duration": 10,
    "start_time": "2025-04-16T13:37:06.951Z"
   },
   {
    "duration": 39,
    "start_time": "2025-04-16T13:37:06.962Z"
   },
   {
    "duration": 17,
    "start_time": "2025-04-16T13:37:07.003Z"
   },
   {
    "duration": 36,
    "start_time": "2025-04-16T13:37:07.022Z"
   },
   {
    "duration": 5,
    "start_time": "2025-04-16T13:37:07.060Z"
   },
   {
    "duration": 31,
    "start_time": "2025-04-16T13:37:07.067Z"
   },
   {
    "duration": 12,
    "start_time": "2025-04-16T13:37:07.100Z"
   },
   {
    "duration": 6,
    "start_time": "2025-04-16T13:37:07.113Z"
   },
   {
    "duration": 33,
    "start_time": "2025-04-16T13:37:07.121Z"
   },
   {
    "duration": 13,
    "start_time": "2025-04-16T13:37:07.156Z"
   },
   {
    "duration": 36,
    "start_time": "2025-04-16T13:37:07.170Z"
   },
   {
    "duration": 20,
    "start_time": "2025-04-16T13:37:07.208Z"
   },
   {
    "duration": 33,
    "start_time": "2025-04-16T13:37:07.230Z"
   },
   {
    "duration": 21,
    "start_time": "2025-04-16T13:37:07.265Z"
   },
   {
    "duration": 35,
    "start_time": "2025-04-16T13:37:07.288Z"
   },
   {
    "duration": 11,
    "start_time": "2025-04-16T13:37:07.325Z"
   },
   {
    "duration": 34,
    "start_time": "2025-04-16T13:37:07.361Z"
   },
   {
    "duration": 40,
    "start_time": "2025-04-16T13:37:07.397Z"
   },
   {
    "duration": 13,
    "start_time": "2025-04-16T13:37:07.438Z"
   },
   {
    "duration": 17,
    "start_time": "2025-04-16T13:37:07.453Z"
   },
   {
    "duration": 27,
    "start_time": "2025-04-16T13:37:07.471Z"
   },
   {
    "duration": 72,
    "start_time": "2025-04-16T13:37:07.500Z"
   },
   {
    "duration": 100,
    "start_time": "2025-04-16T13:37:07.573Z"
   },
   {
    "duration": 14,
    "start_time": "2025-04-16T13:37:07.677Z"
   },
   {
    "duration": 87,
    "start_time": "2025-04-16T13:37:07.693Z"
   },
   {
    "duration": 18,
    "start_time": "2025-04-16T13:37:07.782Z"
   },
   {
    "duration": 9,
    "start_time": "2025-04-16T13:37:07.801Z"
   },
   {
    "duration": 14,
    "start_time": "2025-04-16T13:37:07.811Z"
   },
   {
    "duration": 39,
    "start_time": "2025-04-16T13:37:07.827Z"
   },
   {
    "duration": 68,
    "start_time": "2025-04-16T13:37:07.868Z"
   },
   {
    "duration": 20,
    "start_time": "2025-04-16T13:37:07.938Z"
   },
   {
    "duration": 11,
    "start_time": "2025-04-16T13:37:07.960Z"
   },
   {
    "duration": 17,
    "start_time": "2025-04-16T13:37:07.973Z"
   },
   {
    "duration": 31,
    "start_time": "2025-04-16T13:37:07.993Z"
   },
   {
    "duration": 30,
    "start_time": "2025-04-16T13:37:08.026Z"
   },
   {
    "duration": 185,
    "start_time": "2025-04-16T13:37:08.057Z"
   },
   {
    "duration": 20,
    "start_time": "2025-04-16T13:37:08.243Z"
   },
   {
    "duration": 223,
    "start_time": "2025-04-16T13:37:08.265Z"
   },
   {
    "duration": 16,
    "start_time": "2025-04-16T13:37:08.490Z"
   },
   {
    "duration": 196,
    "start_time": "2025-04-16T13:37:08.508Z"
   },
   {
    "duration": 9,
    "start_time": "2025-04-16T13:37:08.706Z"
   },
   {
    "duration": 175,
    "start_time": "2025-04-16T13:37:08.717Z"
   },
   {
    "duration": 17,
    "start_time": "2025-04-16T13:37:08.894Z"
   },
   {
    "duration": 251,
    "start_time": "2025-04-16T13:37:08.913Z"
   },
   {
    "duration": 8,
    "start_time": "2025-04-16T13:37:09.166Z"
   },
   {
    "duration": 209,
    "start_time": "2025-04-16T13:37:09.176Z"
   },
   {
    "duration": 140,
    "start_time": "2025-04-16T13:37:09.386Z"
   },
   {
    "duration": 7,
    "start_time": "2025-04-16T13:37:09.527Z"
   },
   {
    "duration": 492,
    "start_time": "2025-04-16T13:37:09.536Z"
   },
   {
    "duration": 10,
    "start_time": "2025-04-16T13:37:10.030Z"
   },
   {
    "duration": 232,
    "start_time": "2025-04-16T13:37:10.042Z"
   },
   {
    "duration": 7,
    "start_time": "2025-04-16T13:37:10.276Z"
   },
   {
    "duration": 322,
    "start_time": "2025-04-16T13:37:10.285Z"
   },
   {
    "duration": 197,
    "start_time": "2025-04-16T13:37:10.609Z"
   },
   {
    "duration": 202,
    "start_time": "2025-04-16T13:37:10.808Z"
   },
   {
    "duration": 392,
    "start_time": "2025-04-16T13:37:11.012Z"
   },
   {
    "duration": 7,
    "start_time": "2025-04-16T13:37:11.406Z"
   },
   {
    "duration": 652,
    "start_time": "2025-04-16T13:37:11.415Z"
   },
   {
    "duration": 1338,
    "start_time": "2025-04-16T13:46:20.167Z"
   },
   {
    "duration": 1239,
    "start_time": "2025-04-16T13:46:33.176Z"
   },
   {
    "duration": 1318,
    "start_time": "2025-04-16T13:48:04.233Z"
   },
   {
    "duration": 1365,
    "start_time": "2025-04-16T13:48:24.066Z"
   },
   {
    "duration": 564,
    "start_time": "2025-04-16T13:48:53.250Z"
   },
   {
    "duration": 553,
    "start_time": "2025-04-16T13:49:07.091Z"
   },
   {
    "duration": 539,
    "start_time": "2025-04-16T13:50:11.189Z"
   },
   {
    "duration": 537,
    "start_time": "2025-04-16T13:50:21.731Z"
   },
   {
    "duration": 552,
    "start_time": "2025-04-16T13:50:27.469Z"
   },
   {
    "duration": 531,
    "start_time": "2025-04-16T13:50:50.882Z"
   },
   {
    "duration": 208,
    "start_time": "2025-04-16T13:51:02.086Z"
   },
   {
    "duration": 129,
    "start_time": "2025-04-16T13:51:24.212Z"
   },
   {
    "duration": 220,
    "start_time": "2025-04-16T13:52:01.532Z"
   },
   {
    "duration": 125,
    "start_time": "2025-04-16T13:52:19.217Z"
   },
   {
    "duration": 19,
    "start_time": "2025-04-16T13:52:31.805Z"
   },
   {
    "duration": 208,
    "start_time": "2025-04-16T13:56:44.033Z"
   },
   {
    "duration": 98,
    "start_time": "2025-04-16T13:56:44.290Z"
   },
   {
    "duration": 10,
    "start_time": "2025-04-16T13:56:54.605Z"
   },
   {
    "duration": 10,
    "start_time": "2025-04-16T13:57:19.679Z"
   },
   {
    "duration": 8,
    "start_time": "2025-04-16T13:57:29.787Z"
   },
   {
    "duration": 230,
    "start_time": "2025-04-16T13:57:50.056Z"
   },
   {
    "duration": 246,
    "start_time": "2025-04-16T13:58:59.853Z"
   },
   {
    "duration": 13,
    "start_time": "2025-04-16T13:59:13.853Z"
   },
   {
    "duration": 220,
    "start_time": "2025-04-16T13:59:29.980Z"
   },
   {
    "duration": 205,
    "start_time": "2025-04-16T13:59:45.652Z"
   },
   {
    "duration": 211,
    "start_time": "2025-04-16T13:59:55.788Z"
   },
   {
    "duration": 254,
    "start_time": "2025-04-16T14:02:13.781Z"
   },
   {
    "duration": 230,
    "start_time": "2025-04-16T14:02:33.066Z"
   },
   {
    "duration": 246,
    "start_time": "2025-04-16T14:02:42.896Z"
   },
   {
    "duration": 155,
    "start_time": "2025-04-16T14:03:07.154Z"
   },
   {
    "duration": 153,
    "start_time": "2025-04-16T14:03:30.306Z"
   },
   {
    "duration": 254,
    "start_time": "2025-04-16T14:03:38.543Z"
   },
   {
    "duration": 236,
    "start_time": "2025-04-16T14:05:12.733Z"
   },
   {
    "duration": 13,
    "start_time": "2025-04-16T14:13:37.171Z"
   },
   {
    "duration": 5,
    "start_time": "2025-04-16T14:14:20.540Z"
   },
   {
    "duration": 124,
    "start_time": "2025-04-16T14:15:52.446Z"
   },
   {
    "duration": 582,
    "start_time": "2025-04-16T14:15:59.733Z"
   },
   {
    "duration": 562,
    "start_time": "2025-04-16T14:16:43.107Z"
   },
   {
    "duration": 612,
    "start_time": "2025-04-16T14:16:49.731Z"
   },
   {
    "duration": 7,
    "start_time": "2025-04-16T14:39:38.966Z"
   },
   {
    "duration": 81,
    "start_time": "2025-04-16T14:40:39.849Z"
   },
   {
    "duration": 11,
    "start_time": "2025-04-16T14:40:55.514Z"
   },
   {
    "duration": 12,
    "start_time": "2025-04-16T14:42:25.740Z"
   },
   {
    "duration": 3506,
    "start_time": "2025-04-16T14:42:32.329Z"
   },
   {
    "duration": 385,
    "start_time": "2025-04-16T14:42:35.836Z"
   },
   {
    "duration": 15,
    "start_time": "2025-04-16T14:42:36.223Z"
   },
   {
    "duration": 13,
    "start_time": "2025-04-16T14:42:36.240Z"
   },
   {
    "duration": 54,
    "start_time": "2025-04-16T14:42:36.254Z"
   },
   {
    "duration": 25,
    "start_time": "2025-04-16T14:42:36.310Z"
   },
   {
    "duration": 21,
    "start_time": "2025-04-16T14:42:36.336Z"
   },
   {
    "duration": 23,
    "start_time": "2025-04-16T14:42:36.358Z"
   },
   {
    "duration": 29,
    "start_time": "2025-04-16T14:42:36.383Z"
   },
   {
    "duration": 20,
    "start_time": "2025-04-16T14:42:36.414Z"
   },
   {
    "duration": 14,
    "start_time": "2025-04-16T14:42:36.436Z"
   },
   {
    "duration": 10,
    "start_time": "2025-04-16T14:42:36.452Z"
   },
   {
    "duration": 36,
    "start_time": "2025-04-16T14:42:36.464Z"
   },
   {
    "duration": 36,
    "start_time": "2025-04-16T14:42:36.501Z"
   },
   {
    "duration": 61,
    "start_time": "2025-04-16T14:42:36.539Z"
   },
   {
    "duration": 67,
    "start_time": "2025-04-16T14:42:36.601Z"
   },
   {
    "duration": 72,
    "start_time": "2025-04-16T14:42:36.670Z"
   },
   {
    "duration": 42,
    "start_time": "2025-04-16T14:42:36.744Z"
   },
   {
    "duration": 32,
    "start_time": "2025-04-16T14:42:36.788Z"
   },
   {
    "duration": 27,
    "start_time": "2025-04-16T14:42:36.822Z"
   },
   {
    "duration": 18,
    "start_time": "2025-04-16T14:42:36.851Z"
   },
   {
    "duration": 28,
    "start_time": "2025-04-16T14:42:36.871Z"
   },
   {
    "duration": 22,
    "start_time": "2025-04-16T14:42:36.900Z"
   },
   {
    "duration": 19,
    "start_time": "2025-04-16T14:42:36.924Z"
   },
   {
    "duration": 23,
    "start_time": "2025-04-16T14:42:36.945Z"
   },
   {
    "duration": 33,
    "start_time": "2025-04-16T14:42:36.970Z"
   },
   {
    "duration": 54,
    "start_time": "2025-04-16T14:42:37.004Z"
   },
   {
    "duration": 14,
    "start_time": "2025-04-16T14:42:37.061Z"
   },
   {
    "duration": 47,
    "start_time": "2025-04-16T14:42:37.076Z"
   },
   {
    "duration": 18,
    "start_time": "2025-04-16T14:42:37.124Z"
   },
   {
    "duration": 7,
    "start_time": "2025-04-16T14:42:37.143Z"
   },
   {
    "duration": 15,
    "start_time": "2025-04-16T14:42:37.152Z"
   },
   {
    "duration": 19,
    "start_time": "2025-04-16T14:42:37.168Z"
   },
   {
    "duration": 20,
    "start_time": "2025-04-16T14:42:37.188Z"
   },
   {
    "duration": 9,
    "start_time": "2025-04-16T14:42:37.209Z"
   },
   {
    "duration": 15,
    "start_time": "2025-04-16T14:42:37.219Z"
   },
   {
    "duration": 17,
    "start_time": "2025-04-16T14:42:37.235Z"
   },
   {
    "duration": 21,
    "start_time": "2025-04-16T14:42:37.254Z"
   },
   {
    "duration": 25,
    "start_time": "2025-04-16T14:42:37.277Z"
   },
   {
    "duration": 185,
    "start_time": "2025-04-16T14:42:37.304Z"
   },
   {
    "duration": 10,
    "start_time": "2025-04-16T14:42:37.491Z"
   },
   {
    "duration": 219,
    "start_time": "2025-04-16T14:42:37.503Z"
   },
   {
    "duration": 13,
    "start_time": "2025-04-16T14:42:37.723Z"
   },
   {
    "duration": 176,
    "start_time": "2025-04-16T14:42:37.737Z"
   },
   {
    "duration": 7,
    "start_time": "2025-04-16T14:42:37.914Z"
   },
   {
    "duration": 227,
    "start_time": "2025-04-16T14:42:37.923Z"
   },
   {
    "duration": 18,
    "start_time": "2025-04-16T14:42:38.152Z"
   },
   {
    "duration": 259,
    "start_time": "2025-04-16T14:42:38.172Z"
   },
   {
    "duration": 9,
    "start_time": "2025-04-16T14:42:38.433Z"
   },
   {
    "duration": 206,
    "start_time": "2025-04-16T14:42:38.444Z"
   },
   {
    "duration": 123,
    "start_time": "2025-04-16T14:42:38.652Z"
   },
   {
    "duration": 8,
    "start_time": "2025-04-16T14:42:38.777Z"
   },
   {
    "duration": 427,
    "start_time": "2025-04-16T14:42:38.786Z"
   },
   {
    "duration": 9,
    "start_time": "2025-04-16T14:42:39.215Z"
   },
   {
    "duration": 202,
    "start_time": "2025-04-16T14:42:39.225Z"
   },
   {
    "duration": 7,
    "start_time": "2025-04-16T14:42:39.429Z"
   },
   {
    "duration": 342,
    "start_time": "2025-04-16T14:42:39.437Z"
   },
   {
    "duration": 191,
    "start_time": "2025-04-16T14:42:39.780Z"
   },
   {
    "duration": 224,
    "start_time": "2025-04-16T14:42:39.972Z"
   },
   {
    "duration": 352,
    "start_time": "2025-04-16T14:42:40.198Z"
   },
   {
    "duration": 546,
    "start_time": "2025-04-16T14:42:40.551Z"
   },
   {
    "duration": 6,
    "start_time": "2025-04-16T14:42:41.098Z"
   },
   {
    "duration": 232,
    "start_time": "2025-04-16T14:42:41.105Z"
   },
   {
    "duration": 24,
    "start_time": "2025-04-16T14:42:41.338Z"
   },
   {
    "duration": 131,
    "start_time": "2025-04-16T14:44:27.969Z"
   },
   {
    "duration": 85,
    "start_time": "2025-04-16T14:44:39.476Z"
   },
   {
    "duration": 14,
    "start_time": "2025-04-16T14:44:57.842Z"
   },
   {
    "duration": 15,
    "start_time": "2025-04-16T14:45:22.643Z"
   },
   {
    "duration": 14,
    "start_time": "2025-04-16T14:45:44.420Z"
   },
   {
    "duration": 11,
    "start_time": "2025-04-16T14:46:16.824Z"
   },
   {
    "duration": 87,
    "start_time": "2025-04-16T14:46:30.388Z"
   },
   {
    "duration": 14,
    "start_time": "2025-04-16T14:46:33.477Z"
   },
   {
    "duration": 15,
    "start_time": "2025-04-16T14:47:37.811Z"
   },
   {
    "duration": 377,
    "start_time": "2025-04-16T14:51:06.621Z"
   },
   {
    "duration": 334,
    "start_time": "2025-04-16T14:52:09.580Z"
   },
   {
    "duration": 379,
    "start_time": "2025-04-16T14:52:24.628Z"
   },
   {
    "duration": 9,
    "start_time": "2025-04-16T15:45:37.789Z"
   },
   {
    "duration": 19,
    "start_time": "2025-04-16T15:45:59.535Z"
   },
   {
    "duration": 10,
    "start_time": "2025-04-16T15:48:22.349Z"
   },
   {
    "duration": 128,
    "start_time": "2025-04-16T15:50:11.928Z"
   },
   {
    "duration": 32,
    "start_time": "2025-04-16T15:50:57.142Z"
   },
   {
    "duration": 32,
    "start_time": "2025-04-16T15:54:44.110Z"
   },
   {
    "duration": 31,
    "start_time": "2025-04-16T15:55:02.998Z"
   },
   {
    "duration": 34,
    "start_time": "2025-04-16T15:55:09.152Z"
   },
   {
    "duration": 36,
    "start_time": "2025-04-16T15:55:18.501Z"
   },
   {
    "duration": 13,
    "start_time": "2025-04-16T16:07:52.821Z"
   },
   {
    "duration": 15,
    "start_time": "2025-04-16T16:08:14.746Z"
   },
   {
    "duration": 293,
    "start_time": "2025-04-16T16:08:21.930Z"
   },
   {
    "duration": 216,
    "start_time": "2025-04-16T16:09:47.112Z"
   },
   {
    "duration": 344,
    "start_time": "2025-04-16T16:11:54.324Z"
   },
   {
    "duration": 332,
    "start_time": "2025-04-16T16:12:06.569Z"
   },
   {
    "duration": 358,
    "start_time": "2025-04-16T16:12:43.526Z"
   },
   {
    "duration": 319,
    "start_time": "2025-04-16T16:12:59.895Z"
   },
   {
    "duration": 356,
    "start_time": "2025-04-16T16:13:08.456Z"
   },
   {
    "duration": 353,
    "start_time": "2025-04-16T16:20:12.863Z"
   },
   {
    "duration": 345,
    "start_time": "2025-04-16T16:27:38.619Z"
   },
   {
    "duration": 294,
    "start_time": "2025-04-16T16:28:34.398Z"
   },
   {
    "duration": 47,
    "start_time": "2025-04-17T13:05:51.858Z"
   },
   {
    "duration": 4872,
    "start_time": "2025-04-17T13:06:02.292Z"
   },
   {
    "duration": 156,
    "start_time": "2025-04-17T13:06:07.167Z"
   },
   {
    "duration": 16,
    "start_time": "2025-04-17T13:06:07.324Z"
   },
   {
    "duration": 14,
    "start_time": "2025-04-17T13:06:07.342Z"
   },
   {
    "duration": 9,
    "start_time": "2025-04-17T13:06:07.358Z"
   },
   {
    "duration": 18,
    "start_time": "2025-04-17T13:06:07.368Z"
   },
   {
    "duration": 15,
    "start_time": "2025-04-17T13:06:07.387Z"
   },
   {
    "duration": 89,
    "start_time": "2025-04-17T13:06:07.403Z"
   },
   {
    "duration": 4,
    "start_time": "2025-04-17T13:06:07.494Z"
   },
   {
    "duration": 4,
    "start_time": "2025-04-17T13:06:07.500Z"
   },
   {
    "duration": 4,
    "start_time": "2025-04-17T13:06:07.505Z"
   },
   {
    "duration": 15,
    "start_time": "2025-04-17T13:06:07.510Z"
   },
   {
    "duration": 4,
    "start_time": "2025-04-17T13:06:07.527Z"
   },
   {
    "duration": 96,
    "start_time": "2025-04-17T13:06:07.533Z"
   },
   {
    "duration": 11,
    "start_time": "2025-04-17T13:06:07.631Z"
   },
   {
    "duration": 23,
    "start_time": "2025-04-17T13:06:07.643Z"
   },
   {
    "duration": 19,
    "start_time": "2025-04-17T13:06:07.668Z"
   },
   {
    "duration": 47,
    "start_time": "2025-04-17T13:06:07.689Z"
   },
   {
    "duration": 20,
    "start_time": "2025-04-17T13:06:07.738Z"
   },
   {
    "duration": 29,
    "start_time": "2025-04-17T13:06:07.760Z"
   },
   {
    "duration": 9,
    "start_time": "2025-04-17T13:06:07.791Z"
   },
   {
    "duration": 35,
    "start_time": "2025-04-17T13:06:07.801Z"
   },
   {
    "duration": 31,
    "start_time": "2025-04-17T13:06:07.837Z"
   },
   {
    "duration": 11,
    "start_time": "2025-04-17T13:06:07.870Z"
   },
   {
    "duration": 18,
    "start_time": "2025-04-17T13:06:07.882Z"
   },
   {
    "duration": 9,
    "start_time": "2025-04-17T13:06:07.902Z"
   },
   {
    "duration": 20,
    "start_time": "2025-04-17T13:06:07.913Z"
   },
   {
    "duration": 41,
    "start_time": "2025-04-17T13:06:07.937Z"
   },
   {
    "duration": 21,
    "start_time": "2025-04-17T13:06:07.980Z"
   },
   {
    "duration": 57,
    "start_time": "2025-04-17T13:06:08.003Z"
   },
   {
    "duration": 87,
    "start_time": "2025-04-17T13:06:08.061Z"
   },
   {
    "duration": 8,
    "start_time": "2025-04-17T13:06:08.149Z"
   },
   {
    "duration": 31,
    "start_time": "2025-04-17T13:06:08.158Z"
   },
   {
    "duration": 16,
    "start_time": "2025-04-17T13:06:08.190Z"
   },
   {
    "duration": 6,
    "start_time": "2025-04-17T13:06:08.207Z"
   },
   {
    "duration": 18,
    "start_time": "2025-04-17T13:06:08.215Z"
   },
   {
    "duration": 7,
    "start_time": "2025-04-17T13:06:08.234Z"
   },
   {
    "duration": 22,
    "start_time": "2025-04-17T13:06:08.243Z"
   },
   {
    "duration": 24,
    "start_time": "2025-04-17T13:06:08.267Z"
   },
   {
    "duration": 13,
    "start_time": "2025-04-17T13:06:08.293Z"
   },
   {
    "duration": 186,
    "start_time": "2025-04-17T13:06:08.308Z"
   },
   {
    "duration": 11,
    "start_time": "2025-04-17T13:06:08.496Z"
   },
   {
    "duration": 227,
    "start_time": "2025-04-17T13:06:08.508Z"
   },
   {
    "duration": 13,
    "start_time": "2025-04-17T13:06:08.737Z"
   },
   {
    "duration": 182,
    "start_time": "2025-04-17T13:06:08.752Z"
   },
   {
    "duration": 8,
    "start_time": "2025-04-17T13:06:08.936Z"
   },
   {
    "duration": 327,
    "start_time": "2025-04-17T13:06:08.945Z"
   },
   {
    "duration": 14,
    "start_time": "2025-04-17T13:06:09.274Z"
   },
   {
    "duration": 234,
    "start_time": "2025-04-17T13:06:09.290Z"
   },
   {
    "duration": 15,
    "start_time": "2025-04-17T13:06:09.526Z"
   },
   {
    "duration": 251,
    "start_time": "2025-04-17T13:06:09.542Z"
   },
   {
    "duration": 124,
    "start_time": "2025-04-17T13:06:09.795Z"
   },
   {
    "duration": 16,
    "start_time": "2025-04-17T13:06:09.920Z"
   },
   {
    "duration": 443,
    "start_time": "2025-04-17T13:06:09.938Z"
   },
   {
    "duration": 8,
    "start_time": "2025-04-17T13:06:10.383Z"
   },
   {
    "duration": 202,
    "start_time": "2025-04-17T13:06:10.393Z"
   },
   {
    "duration": 7,
    "start_time": "2025-04-17T13:06:10.597Z"
   },
   {
    "duration": 342,
    "start_time": "2025-04-17T13:06:10.605Z"
   },
   {
    "duration": 203,
    "start_time": "2025-04-17T13:06:10.949Z"
   },
   {
    "duration": 219,
    "start_time": "2025-04-17T13:06:11.153Z"
   },
   {
    "duration": 368,
    "start_time": "2025-04-17T13:06:11.373Z"
   },
   {
    "duration": 566,
    "start_time": "2025-04-17T13:06:11.742Z"
   },
   {
    "duration": 5,
    "start_time": "2025-04-17T13:06:12.310Z"
   },
   {
    "duration": 234,
    "start_time": "2025-04-17T13:06:12.316Z"
   },
   {
    "duration": 33,
    "start_time": "2025-04-17T13:06:12.551Z"
   },
   {
    "duration": 380,
    "start_time": "2025-04-17T13:06:12.585Z"
   },
   {
    "duration": 3586,
    "start_time": "2025-04-17T13:12:21.165Z"
   },
   {
    "duration": 461,
    "start_time": "2025-04-17T13:12:24.753Z"
   },
   {
    "duration": 17,
    "start_time": "2025-04-17T13:12:25.216Z"
   },
   {
    "duration": 15,
    "start_time": "2025-04-17T13:12:25.235Z"
   },
   {
    "duration": 14,
    "start_time": "2025-04-17T13:12:25.252Z"
   },
   {
    "duration": 16,
    "start_time": "2025-04-17T13:12:25.268Z"
   },
   {
    "duration": 32,
    "start_time": "2025-04-17T13:12:25.286Z"
   },
   {
    "duration": 14,
    "start_time": "2025-04-17T13:12:25.320Z"
   },
   {
    "duration": 7,
    "start_time": "2025-04-17T13:12:25.336Z"
   },
   {
    "duration": 4,
    "start_time": "2025-04-17T13:12:25.345Z"
   },
   {
    "duration": 8,
    "start_time": "2025-04-17T13:12:25.351Z"
   },
   {
    "duration": 38,
    "start_time": "2025-04-17T13:12:25.360Z"
   },
   {
    "duration": 8,
    "start_time": "2025-04-17T13:12:25.399Z"
   },
   {
    "duration": 6,
    "start_time": "2025-04-17T13:12:25.408Z"
   },
   {
    "duration": 73,
    "start_time": "2025-04-17T13:12:25.415Z"
   },
   {
    "duration": 11,
    "start_time": "2025-04-17T13:12:25.490Z"
   },
   {
    "duration": 22,
    "start_time": "2025-04-17T13:12:25.503Z"
   },
   {
    "duration": 20,
    "start_time": "2025-04-17T13:12:25.527Z"
   },
   {
    "duration": 21,
    "start_time": "2025-04-17T13:12:25.548Z"
   },
   {
    "duration": 97,
    "start_time": "2025-04-17T13:12:25.571Z"
   },
   {
    "duration": 31,
    "start_time": "2025-04-17T13:12:25.670Z"
   },
   {
    "duration": 8,
    "start_time": "2025-04-17T13:12:25.703Z"
   },
   {
    "duration": 8,
    "start_time": "2025-04-17T13:12:25.713Z"
   },
   {
    "duration": 28,
    "start_time": "2025-04-17T13:12:25.722Z"
   },
   {
    "duration": 8,
    "start_time": "2025-04-17T13:12:25.751Z"
   },
   {
    "duration": 10,
    "start_time": "2025-04-17T13:12:25.760Z"
   },
   {
    "duration": 10,
    "start_time": "2025-04-17T13:12:25.771Z"
   },
   {
    "duration": 21,
    "start_time": "2025-04-17T13:12:25.785Z"
   },
   {
    "duration": 52,
    "start_time": "2025-04-17T13:12:25.807Z"
   },
   {
    "duration": 13,
    "start_time": "2025-04-17T13:12:25.860Z"
   },
   {
    "duration": 20,
    "start_time": "2025-04-17T13:12:25.875Z"
   },
   {
    "duration": 39,
    "start_time": "2025-04-17T13:12:25.897Z"
   },
   {
    "duration": 8,
    "start_time": "2025-04-17T13:12:25.938Z"
   },
   {
    "duration": 19,
    "start_time": "2025-04-17T13:12:25.947Z"
   },
   {
    "duration": 15,
    "start_time": "2025-04-17T13:12:25.968Z"
   },
   {
    "duration": 8,
    "start_time": "2025-04-17T13:12:25.985Z"
   },
   {
    "duration": 3,
    "start_time": "2025-04-17T13:12:25.995Z"
   },
   {
    "duration": 6,
    "start_time": "2025-04-17T13:12:25.999Z"
   },
   {
    "duration": 13,
    "start_time": "2025-04-17T13:12:26.035Z"
   },
   {
    "duration": 19,
    "start_time": "2025-04-17T13:12:26.050Z"
   },
   {
    "duration": 73,
    "start_time": "2025-04-17T13:12:26.070Z"
   },
   {
    "duration": 176,
    "start_time": "2025-04-17T13:12:26.144Z"
   },
   {
    "duration": 17,
    "start_time": "2025-04-17T13:12:26.321Z"
   },
   {
    "duration": 233,
    "start_time": "2025-04-17T13:12:26.339Z"
   },
   {
    "duration": 12,
    "start_time": "2025-04-17T13:12:26.574Z"
   },
   {
    "duration": 182,
    "start_time": "2025-04-17T13:12:26.588Z"
   },
   {
    "duration": 7,
    "start_time": "2025-04-17T13:12:26.772Z"
   },
   {
    "duration": 159,
    "start_time": "2025-04-17T13:12:26.781Z"
   },
   {
    "duration": 14,
    "start_time": "2025-04-17T13:12:26.941Z"
   },
   {
    "duration": 230,
    "start_time": "2025-04-17T13:12:26.957Z"
   },
   {
    "duration": 10,
    "start_time": "2025-04-17T13:12:27.188Z"
   },
   {
    "duration": 207,
    "start_time": "2025-04-17T13:12:27.201Z"
   },
   {
    "duration": 126,
    "start_time": "2025-04-17T13:12:27.409Z"
   },
   {
    "duration": 7,
    "start_time": "2025-04-17T13:12:27.537Z"
   },
   {
    "duration": 443,
    "start_time": "2025-04-17T13:12:27.545Z"
   },
   {
    "duration": 9,
    "start_time": "2025-04-17T13:12:27.989Z"
   },
   {
    "duration": 195,
    "start_time": "2025-04-17T13:12:28.000Z"
   },
   {
    "duration": 7,
    "start_time": "2025-04-17T13:12:28.197Z"
   },
   {
    "duration": 331,
    "start_time": "2025-04-17T13:12:28.206Z"
   },
   {
    "duration": 186,
    "start_time": "2025-04-17T13:12:28.539Z"
   },
   {
    "duration": 234,
    "start_time": "2025-04-17T13:12:28.727Z"
   },
   {
    "duration": 380,
    "start_time": "2025-04-17T13:12:28.963Z"
   },
   {
    "duration": 584,
    "start_time": "2025-04-17T13:12:29.345Z"
   },
   {
    "duration": 6,
    "start_time": "2025-04-17T13:12:29.931Z"
   },
   {
    "duration": 245,
    "start_time": "2025-04-17T13:12:29.939Z"
   },
   {
    "duration": 35,
    "start_time": "2025-04-17T13:12:30.186Z"
   },
   {
    "duration": 333,
    "start_time": "2025-04-17T13:12:30.236Z"
   },
   {
    "duration": 10,
    "start_time": "2025-04-17T13:24:41.071Z"
   },
   {
    "duration": 9,
    "start_time": "2025-04-17T13:24:43.743Z"
   },
   {
    "duration": 41,
    "start_time": "2025-04-17T13:34:15.439Z"
   },
   {
    "duration": 26,
    "start_time": "2025-04-17T13:40:57.246Z"
   },
   {
    "duration": 158,
    "start_time": "2025-04-17T13:55:42.677Z"
   },
   {
    "duration": 11,
    "start_time": "2025-04-17T13:58:07.656Z"
   },
   {
    "duration": 220,
    "start_time": "2025-04-17T13:59:15.096Z"
   },
   {
    "duration": 15,
    "start_time": "2025-04-17T14:00:07.210Z"
   },
   {
    "duration": 165,
    "start_time": "2025-04-17T14:01:58.337Z"
   },
   {
    "duration": 228,
    "start_time": "2025-04-17T14:04:30.147Z"
   },
   {
    "duration": 7,
    "start_time": "2025-04-17T14:11:22.034Z"
   },
   {
    "duration": 303,
    "start_time": "2025-04-17T14:13:43.441Z"
   },
   {
    "duration": 8,
    "start_time": "2025-04-17T14:15:50.532Z"
   },
   {
    "duration": 549,
    "start_time": "2025-04-17T14:23:51.068Z"
   },
   {
    "duration": 8,
    "start_time": "2025-04-17T14:25:04.834Z"
   },
   {
    "duration": 35,
    "start_time": "2025-04-17T14:26:51.503Z"
   },
   {
    "duration": 3506,
    "start_time": "2025-04-17T16:34:47.965Z"
   },
   {
    "duration": 178,
    "start_time": "2025-04-17T16:34:51.473Z"
   },
   {
    "duration": 15,
    "start_time": "2025-04-17T16:34:51.653Z"
   },
   {
    "duration": 15,
    "start_time": "2025-04-17T16:34:51.670Z"
   },
   {
    "duration": 10,
    "start_time": "2025-04-17T16:34:51.686Z"
   },
   {
    "duration": 15,
    "start_time": "2025-04-17T16:34:51.697Z"
   },
   {
    "duration": 30,
    "start_time": "2025-04-17T16:34:51.714Z"
   },
   {
    "duration": 13,
    "start_time": "2025-04-17T16:34:51.746Z"
   },
   {
    "duration": 38,
    "start_time": "2025-04-17T16:34:51.760Z"
   },
   {
    "duration": 55,
    "start_time": "2025-04-17T16:34:51.801Z"
   },
   {
    "duration": 24,
    "start_time": "2025-04-17T16:34:51.857Z"
   },
   {
    "duration": 24,
    "start_time": "2025-04-17T16:34:51.882Z"
   },
   {
    "duration": 10,
    "start_time": "2025-04-17T16:34:51.907Z"
   },
   {
    "duration": 8,
    "start_time": "2025-04-17T16:34:51.919Z"
   },
   {
    "duration": 171,
    "start_time": "2025-04-17T16:34:51.928Z"
   },
   {
    "duration": 18,
    "start_time": "2025-04-17T16:34:52.101Z"
   },
   {
    "duration": 22,
    "start_time": "2025-04-17T16:34:52.121Z"
   },
   {
    "duration": 45,
    "start_time": "2025-04-17T16:34:52.145Z"
   },
   {
    "duration": 31,
    "start_time": "2025-04-17T16:34:52.192Z"
   },
   {
    "duration": 22,
    "start_time": "2025-04-17T16:34:52.224Z"
   },
   {
    "duration": 29,
    "start_time": "2025-04-17T16:34:52.248Z"
   },
   {
    "duration": 9,
    "start_time": "2025-04-17T16:34:52.278Z"
   },
   {
    "duration": 89,
    "start_time": "2025-04-17T16:34:52.288Z"
   },
   {
    "duration": 20,
    "start_time": "2025-04-17T16:34:52.378Z"
   },
   {
    "duration": 31,
    "start_time": "2025-04-17T16:34:52.399Z"
   },
   {
    "duration": 20,
    "start_time": "2025-04-17T16:34:52.432Z"
   },
   {
    "duration": 16,
    "start_time": "2025-04-17T16:34:52.454Z"
   },
   {
    "duration": 13,
    "start_time": "2025-04-17T16:34:52.475Z"
   },
   {
    "duration": 53,
    "start_time": "2025-04-17T16:34:52.489Z"
   },
   {
    "duration": 14,
    "start_time": "2025-04-17T16:34:52.544Z"
   },
   {
    "duration": 27,
    "start_time": "2025-04-17T16:34:52.560Z"
   },
   {
    "duration": 18,
    "start_time": "2025-04-17T16:34:52.589Z"
   },
   {
    "duration": 28,
    "start_time": "2025-04-17T16:34:52.609Z"
   },
   {
    "duration": 13,
    "start_time": "2025-04-17T16:34:52.639Z"
   },
   {
    "duration": 23,
    "start_time": "2025-04-17T16:34:52.654Z"
   },
   {
    "duration": 6,
    "start_time": "2025-04-17T16:34:52.678Z"
   },
   {
    "duration": 8,
    "start_time": "2025-04-17T16:34:52.685Z"
   },
   {
    "duration": 10,
    "start_time": "2025-04-17T16:34:52.694Z"
   },
   {
    "duration": 40,
    "start_time": "2025-04-17T16:34:52.705Z"
   },
   {
    "duration": 77,
    "start_time": "2025-04-17T16:34:52.747Z"
   },
   {
    "duration": 12,
    "start_time": "2025-04-17T16:34:52.826Z"
   },
   {
    "duration": 256,
    "start_time": "2025-04-17T16:34:52.839Z"
   },
   {
    "duration": 11,
    "start_time": "2025-04-17T16:34:53.096Z"
   },
   {
    "duration": 215,
    "start_time": "2025-04-17T16:34:53.108Z"
   },
   {
    "duration": 21,
    "start_time": "2025-04-17T16:34:53.324Z"
   },
   {
    "duration": 171,
    "start_time": "2025-04-17T16:34:53.347Z"
   },
   {
    "duration": 15,
    "start_time": "2025-04-17T16:34:53.520Z"
   },
   {
    "duration": 142,
    "start_time": "2025-04-17T16:34:53.537Z"
   },
   {
    "duration": 13,
    "start_time": "2025-04-17T16:34:53.680Z"
   },
   {
    "duration": 230,
    "start_time": "2025-04-17T16:34:53.695Z"
   },
   {
    "duration": 14,
    "start_time": "2025-04-17T16:34:53.927Z"
   },
   {
    "duration": 331,
    "start_time": "2025-04-17T16:34:53.942Z"
   },
   {
    "duration": 122,
    "start_time": "2025-04-17T16:34:54.275Z"
   },
   {
    "duration": 6,
    "start_time": "2025-04-17T16:34:54.399Z"
   },
   {
    "duration": 472,
    "start_time": "2025-04-17T16:34:54.407Z"
   },
   {
    "duration": 8,
    "start_time": "2025-04-17T16:34:54.880Z"
   },
   {
    "duration": 225,
    "start_time": "2025-04-17T16:34:54.889Z"
   },
   {
    "duration": 6,
    "start_time": "2025-04-17T16:34:55.116Z"
   },
   {
    "duration": 314,
    "start_time": "2025-04-17T16:34:55.124Z"
   },
   {
    "duration": 190,
    "start_time": "2025-04-17T16:34:55.440Z"
   },
   {
    "duration": 233,
    "start_time": "2025-04-17T16:34:55.636Z"
   },
   {
    "duration": 370,
    "start_time": "2025-04-17T16:34:55.870Z"
   },
   {
    "duration": 587,
    "start_time": "2025-04-17T16:34:56.241Z"
   },
   {
    "duration": 11,
    "start_time": "2025-04-17T16:34:56.830Z"
   },
   {
    "duration": 307,
    "start_time": "2025-04-17T16:34:56.842Z"
   },
   {
    "duration": 34,
    "start_time": "2025-04-17T16:34:57.150Z"
   },
   {
    "duration": 362,
    "start_time": "2025-04-17T16:34:57.186Z"
   },
   {
    "duration": 4326,
    "start_time": "2025-04-17T17:17:54.417Z"
   },
   {
    "duration": 294,
    "start_time": "2025-04-17T17:17:58.745Z"
   },
   {
    "duration": 18,
    "start_time": "2025-04-17T17:17:59.041Z"
   },
   {
    "duration": 25,
    "start_time": "2025-04-17T17:17:59.061Z"
   },
   {
    "duration": 14,
    "start_time": "2025-04-17T17:17:59.088Z"
   },
   {
    "duration": 24,
    "start_time": "2025-04-17T17:17:59.104Z"
   },
   {
    "duration": 29,
    "start_time": "2025-04-17T17:17:59.130Z"
   },
   {
    "duration": 42,
    "start_time": "2025-04-17T17:17:59.161Z"
   },
   {
    "duration": 4,
    "start_time": "2025-04-17T17:17:59.205Z"
   },
   {
    "duration": 33,
    "start_time": "2025-04-17T17:17:59.211Z"
   },
   {
    "duration": 9,
    "start_time": "2025-04-17T17:17:59.246Z"
   },
   {
    "duration": 69,
    "start_time": "2025-04-17T17:17:59.257Z"
   },
   {
    "duration": 59,
    "start_time": "2025-04-17T17:17:59.327Z"
   },
   {
    "duration": 15,
    "start_time": "2025-04-17T17:17:59.389Z"
   },
   {
    "duration": 28,
    "start_time": "2025-04-17T17:17:59.406Z"
   },
   {
    "duration": 107,
    "start_time": "2025-04-17T17:17:59.436Z"
   },
   {
    "duration": 28,
    "start_time": "2025-04-17T17:17:59.545Z"
   },
   {
    "duration": 26,
    "start_time": "2025-04-17T17:17:59.575Z"
   },
   {
    "duration": 24,
    "start_time": "2025-04-17T17:17:59.602Z"
   },
   {
    "duration": 22,
    "start_time": "2025-04-17T17:17:59.628Z"
   },
   {
    "duration": 52,
    "start_time": "2025-04-17T17:17:59.652Z"
   },
   {
    "duration": 9,
    "start_time": "2025-04-17T17:17:59.706Z"
   },
   {
    "duration": 9,
    "start_time": "2025-04-17T17:17:59.717Z"
   },
   {
    "duration": 17,
    "start_time": "2025-04-17T17:17:59.728Z"
   },
   {
    "duration": 8,
    "start_time": "2025-04-17T17:17:59.747Z"
   },
   {
    "duration": 6,
    "start_time": "2025-04-17T17:17:59.757Z"
   },
   {
    "duration": 43,
    "start_time": "2025-04-17T17:17:59.765Z"
   },
   {
    "duration": 29,
    "start_time": "2025-04-17T17:17:59.810Z"
   },
   {
    "duration": 50,
    "start_time": "2025-04-17T17:17:59.841Z"
   },
   {
    "duration": 15,
    "start_time": "2025-04-17T17:17:59.893Z"
   },
   {
    "duration": 27,
    "start_time": "2025-04-17T17:17:59.909Z"
   },
   {
    "duration": 23,
    "start_time": "2025-04-17T17:17:59.938Z"
   },
   {
    "duration": 9,
    "start_time": "2025-04-17T17:17:59.963Z"
   },
   {
    "duration": 36,
    "start_time": "2025-04-17T17:17:59.973Z"
   },
   {
    "duration": 19,
    "start_time": "2025-04-17T17:18:00.011Z"
   },
   {
    "duration": 57,
    "start_time": "2025-04-17T17:18:00.032Z"
   },
   {
    "duration": 231,
    "start_time": "2025-04-17T17:18:00.091Z"
   },
   {
    "duration": 40,
    "start_time": "2025-04-17T17:18:00.324Z"
   },
   {
    "duration": 74,
    "start_time": "2025-04-17T17:18:00.365Z"
   },
   {
    "duration": 74,
    "start_time": "2025-04-17T17:18:00.440Z"
   },
   {
    "duration": 130,
    "start_time": "2025-04-17T17:18:00.518Z"
   },
   {
    "duration": 261,
    "start_time": "2025-04-17T17:18:00.649Z"
   },
   {
    "duration": 12,
    "start_time": "2025-04-17T17:18:00.912Z"
   },
   {
    "duration": 263,
    "start_time": "2025-04-17T17:18:00.926Z"
   },
   {
    "duration": 24,
    "start_time": "2025-04-17T17:18:01.190Z"
   },
   {
    "duration": 329,
    "start_time": "2025-04-17T17:18:01.216Z"
   },
   {
    "duration": 11,
    "start_time": "2025-04-17T17:18:01.547Z"
   },
   {
    "duration": 223,
    "start_time": "2025-04-17T17:18:01.560Z"
   },
   {
    "duration": 20,
    "start_time": "2025-04-17T17:18:01.785Z"
   },
   {
    "duration": 286,
    "start_time": "2025-04-17T17:18:01.807Z"
   },
   {
    "duration": 15,
    "start_time": "2025-04-17T17:18:02.095Z"
   },
   {
    "duration": 399,
    "start_time": "2025-04-17T17:18:02.112Z"
   },
   {
    "duration": 142,
    "start_time": "2025-04-17T17:18:02.513Z"
   },
   {
    "duration": 33,
    "start_time": "2025-04-17T17:18:02.657Z"
   },
   {
    "duration": 485,
    "start_time": "2025-04-17T17:18:02.692Z"
   },
   {
    "duration": 10,
    "start_time": "2025-04-17T17:18:03.179Z"
   },
   {
    "duration": 247,
    "start_time": "2025-04-17T17:18:03.191Z"
   },
   {
    "duration": 8,
    "start_time": "2025-04-17T17:18:03.440Z"
   },
   {
    "duration": 480,
    "start_time": "2025-04-17T17:18:03.450Z"
   },
   {
    "duration": 236,
    "start_time": "2025-04-17T17:18:03.932Z"
   },
   {
    "duration": 272,
    "start_time": "2025-04-17T17:18:04.170Z"
   },
   {
    "duration": 427,
    "start_time": "2025-04-17T17:18:04.444Z"
   },
   {
    "duration": 661,
    "start_time": "2025-04-17T17:18:04.873Z"
   },
   {
    "duration": 6,
    "start_time": "2025-04-17T17:18:05.535Z"
   },
   {
    "duration": 291,
    "start_time": "2025-04-17T17:18:05.543Z"
   },
   {
    "duration": 39,
    "start_time": "2025-04-17T17:18:05.835Z"
   },
   {
    "duration": 388,
    "start_time": "2025-04-17T17:18:05.876Z"
   },
   {
    "duration": 4232,
    "start_time": "2025-04-17T17:20:33.446Z"
   },
   {
    "duration": 257,
    "start_time": "2025-04-17T17:20:37.681Z"
   },
   {
    "duration": 20,
    "start_time": "2025-04-17T17:20:37.940Z"
   },
   {
    "duration": 15,
    "start_time": "2025-04-17T17:20:37.961Z"
   },
   {
    "duration": 12,
    "start_time": "2025-04-17T17:20:37.979Z"
   },
   {
    "duration": 20,
    "start_time": "2025-04-17T17:20:37.992Z"
   },
   {
    "duration": 12,
    "start_time": "2025-04-17T17:20:38.013Z"
   },
   {
    "duration": 17,
    "start_time": "2025-04-17T17:20:38.027Z"
   },
   {
    "duration": 4,
    "start_time": "2025-04-17T17:20:38.046Z"
   },
   {
    "duration": 30,
    "start_time": "2025-04-17T17:20:38.052Z"
   },
   {
    "duration": 30,
    "start_time": "2025-04-17T17:20:38.084Z"
   },
   {
    "duration": 180,
    "start_time": "2025-04-17T17:20:38.116Z"
   },
   {
    "duration": 15,
    "start_time": "2025-04-17T17:20:38.298Z"
   },
   {
    "duration": 7,
    "start_time": "2025-04-17T17:20:38.316Z"
   },
   {
    "duration": 11,
    "start_time": "2025-04-17T17:20:38.325Z"
   },
   {
    "duration": 14,
    "start_time": "2025-04-17T17:20:38.337Z"
   },
   {
    "duration": 56,
    "start_time": "2025-04-17T17:20:38.353Z"
   },
   {
    "duration": 25,
    "start_time": "2025-04-17T17:20:38.411Z"
   },
   {
    "duration": 74,
    "start_time": "2025-04-17T17:20:38.438Z"
   },
   {
    "duration": 23,
    "start_time": "2025-04-17T17:20:38.514Z"
   },
   {
    "duration": 36,
    "start_time": "2025-04-17T17:20:38.539Z"
   },
   {
    "duration": 35,
    "start_time": "2025-04-17T17:20:38.577Z"
   },
   {
    "duration": 48,
    "start_time": "2025-04-17T17:20:38.614Z"
   },
   {
    "duration": 39,
    "start_time": "2025-04-17T17:20:38.663Z"
   },
   {
    "duration": 18,
    "start_time": "2025-04-17T17:20:38.704Z"
   },
   {
    "duration": 33,
    "start_time": "2025-04-17T17:20:38.724Z"
   },
   {
    "duration": 32,
    "start_time": "2025-04-17T17:20:38.759Z"
   },
   {
    "duration": 25,
    "start_time": "2025-04-17T17:20:38.793Z"
   },
   {
    "duration": 47,
    "start_time": "2025-04-17T17:20:38.820Z"
   },
   {
    "duration": 16,
    "start_time": "2025-04-17T17:20:38.869Z"
   },
   {
    "duration": 41,
    "start_time": "2025-04-17T17:20:38.886Z"
   },
   {
    "duration": 22,
    "start_time": "2025-04-17T17:20:38.929Z"
   },
   {
    "duration": 10,
    "start_time": "2025-04-17T17:20:38.952Z"
   },
   {
    "duration": 47,
    "start_time": "2025-04-17T17:20:38.965Z"
   },
   {
    "duration": 18,
    "start_time": "2025-04-17T17:20:39.014Z"
   },
   {
    "duration": 7,
    "start_time": "2025-04-17T17:20:39.034Z"
   },
   {
    "duration": 3,
    "start_time": "2025-04-17T17:20:39.042Z"
   },
   {
    "duration": 7,
    "start_time": "2025-04-17T17:20:39.047Z"
   },
   {
    "duration": 49,
    "start_time": "2025-04-17T17:20:39.056Z"
   },
   {
    "duration": 22,
    "start_time": "2025-04-17T17:20:39.107Z"
   },
   {
    "duration": 11,
    "start_time": "2025-04-17T17:20:39.134Z"
   },
   {
    "duration": 222,
    "start_time": "2025-04-17T17:20:39.147Z"
   },
   {
    "duration": 12,
    "start_time": "2025-04-17T17:20:39.371Z"
   },
   {
    "duration": 269,
    "start_time": "2025-04-17T17:20:39.385Z"
   },
   {
    "duration": 15,
    "start_time": "2025-04-17T17:20:39.655Z"
   },
   {
    "duration": 212,
    "start_time": "2025-04-17T17:20:39.672Z"
   },
   {
    "duration": 8,
    "start_time": "2025-04-17T17:20:39.886Z"
   },
   {
    "duration": 180,
    "start_time": "2025-04-17T17:20:39.904Z"
   },
   {
    "duration": 25,
    "start_time": "2025-04-17T17:20:40.086Z"
   },
   {
    "duration": 403,
    "start_time": "2025-04-17T17:20:40.113Z"
   },
   {
    "duration": 12,
    "start_time": "2025-04-17T17:20:40.518Z"
   },
   {
    "duration": 234,
    "start_time": "2025-04-17T17:20:40.531Z"
   },
   {
    "duration": 148,
    "start_time": "2025-04-17T17:20:40.767Z"
   },
   {
    "duration": 7,
    "start_time": "2025-04-17T17:20:40.917Z"
   },
   {
    "duration": 525,
    "start_time": "2025-04-17T17:20:40.926Z"
   },
   {
    "duration": 9,
    "start_time": "2025-04-17T17:20:41.453Z"
   },
   {
    "duration": 306,
    "start_time": "2025-04-17T17:20:41.464Z"
   },
   {
    "duration": 7,
    "start_time": "2025-04-17T17:20:41.772Z"
   },
   {
    "duration": 348,
    "start_time": "2025-04-17T17:20:41.781Z"
   },
   {
    "duration": 226,
    "start_time": "2025-04-17T17:20:42.131Z"
   },
   {
    "duration": 207,
    "start_time": "2025-04-17T17:20:42.359Z"
   },
   {
    "duration": 436,
    "start_time": "2025-04-17T17:20:42.568Z"
   },
   {
    "duration": 650,
    "start_time": "2025-04-17T17:20:43.006Z"
   },
   {
    "duration": 6,
    "start_time": "2025-04-17T17:20:43.658Z"
   },
   {
    "duration": 273,
    "start_time": "2025-04-17T17:20:43.665Z"
   },
   {
    "duration": 37,
    "start_time": "2025-04-17T17:20:43.940Z"
   },
   {
    "duration": 381,
    "start_time": "2025-04-17T17:20:43.979Z"
   },
   {
    "duration": 123,
    "start_time": "2025-04-17T17:26:38.407Z"
   },
   {
    "duration": 6,
    "start_time": "2025-04-17T17:26:40.756Z"
   },
   {
    "duration": 48,
    "start_time": "2025-04-18T10:33:03.312Z"
   },
   {
    "duration": 79,
    "start_time": "2025-04-18T10:33:34.255Z"
   },
   {
    "duration": 8,
    "start_time": "2025-04-18T10:33:42.196Z"
   },
   {
    "duration": 4517,
    "start_time": "2025-04-18T10:33:49.917Z"
   },
   {
    "duration": 189,
    "start_time": "2025-04-18T10:33:54.436Z"
   },
   {
    "duration": 15,
    "start_time": "2025-04-18T10:33:54.626Z"
   },
   {
    "duration": 13,
    "start_time": "2025-04-18T10:33:54.643Z"
   },
   {
    "duration": 10,
    "start_time": "2025-04-18T10:33:54.658Z"
   },
   {
    "duration": 45,
    "start_time": "2025-04-18T10:33:54.669Z"
   },
   {
    "duration": 11,
    "start_time": "2025-04-18T10:33:54.716Z"
   },
   {
    "duration": 14,
    "start_time": "2025-04-18T10:33:54.729Z"
   },
   {
    "duration": 5,
    "start_time": "2025-04-18T10:33:54.745Z"
   },
   {
    "duration": 8,
    "start_time": "2025-04-18T10:33:54.753Z"
   },
   {
    "duration": 3,
    "start_time": "2025-04-18T10:33:54.763Z"
   },
   {
    "duration": 4,
    "start_time": "2025-04-18T10:33:54.768Z"
   },
   {
    "duration": 7,
    "start_time": "2025-04-18T10:33:54.773Z"
   },
   {
    "duration": 16,
    "start_time": "2025-04-18T10:33:54.782Z"
   },
   {
    "duration": 21,
    "start_time": "2025-04-18T10:33:54.799Z"
   },
   {
    "duration": 17,
    "start_time": "2025-04-18T10:33:54.822Z"
   },
   {
    "duration": 37,
    "start_time": "2025-04-18T10:33:54.841Z"
   },
   {
    "duration": 19,
    "start_time": "2025-04-18T10:33:54.880Z"
   },
   {
    "duration": 20,
    "start_time": "2025-04-18T10:33:54.900Z"
   },
   {
    "duration": 39,
    "start_time": "2025-04-18T10:33:54.922Z"
   },
   {
    "duration": 31,
    "start_time": "2025-04-18T10:33:54.963Z"
   },
   {
    "duration": 9,
    "start_time": "2025-04-18T10:33:54.995Z"
   },
   {
    "duration": 11,
    "start_time": "2025-04-18T10:33:55.005Z"
   },
   {
    "duration": 48,
    "start_time": "2025-04-18T10:33:55.017Z"
   },
   {
    "duration": 5,
    "start_time": "2025-04-18T10:33:55.066Z"
   },
   {
    "duration": 15,
    "start_time": "2025-04-18T10:33:55.073Z"
   },
   {
    "duration": 14,
    "start_time": "2025-04-18T10:33:55.090Z"
   },
   {
    "duration": 13,
    "start_time": "2025-04-18T10:33:55.107Z"
   },
   {
    "duration": 55,
    "start_time": "2025-04-18T10:33:55.121Z"
   },
   {
    "duration": 13,
    "start_time": "2025-04-18T10:33:55.178Z"
   },
   {
    "duration": 119,
    "start_time": "2025-04-18T10:33:55.193Z"
   },
   {
    "duration": 18,
    "start_time": "2025-04-18T10:33:55.314Z"
   },
   {
    "duration": 8,
    "start_time": "2025-04-18T10:33:55.333Z"
   },
   {
    "duration": 38,
    "start_time": "2025-04-18T10:33:55.342Z"
   },
   {
    "duration": 76,
    "start_time": "2025-04-18T10:33:55.382Z"
   },
   {
    "duration": 6,
    "start_time": "2025-04-18T10:33:55.460Z"
   },
   {
    "duration": 26,
    "start_time": "2025-04-18T10:33:55.467Z"
   },
   {
    "duration": 96,
    "start_time": "2025-04-18T10:33:55.494Z"
   },
   {
    "duration": 13,
    "start_time": "2025-04-18T10:33:55.591Z"
   },
   {
    "duration": 19,
    "start_time": "2025-04-18T10:33:55.606Z"
   },
   {
    "duration": 9,
    "start_time": "2025-04-18T10:33:55.626Z"
   },
   {
    "duration": 193,
    "start_time": "2025-04-18T10:33:55.637Z"
   },
   {
    "duration": 10,
    "start_time": "2025-04-18T10:33:55.832Z"
   },
   {
    "duration": 227,
    "start_time": "2025-04-18T10:33:55.843Z"
   },
   {
    "duration": 12,
    "start_time": "2025-04-18T10:33:56.072Z"
   },
   {
    "duration": 192,
    "start_time": "2025-04-18T10:33:56.085Z"
   },
   {
    "duration": 7,
    "start_time": "2025-04-18T10:33:56.279Z"
   },
   {
    "duration": 160,
    "start_time": "2025-04-18T10:33:56.288Z"
   },
   {
    "duration": 20,
    "start_time": "2025-04-18T10:33:56.450Z"
   },
   {
    "duration": 225,
    "start_time": "2025-04-18T10:33:56.472Z"
   },
   {
    "duration": 12,
    "start_time": "2025-04-18T10:33:56.698Z"
   },
   {
    "duration": 211,
    "start_time": "2025-04-18T10:33:56.712Z"
   },
   {
    "duration": 127,
    "start_time": "2025-04-18T10:33:56.925Z"
   },
   {
    "duration": 11,
    "start_time": "2025-04-18T10:33:57.054Z"
   },
   {
    "duration": 320,
    "start_time": "2025-04-18T10:33:57.066Z"
   },
   {
    "duration": 0,
    "start_time": "2025-04-18T10:33:57.388Z"
   },
   {
    "duration": 0,
    "start_time": "2025-04-18T10:33:57.388Z"
   },
   {
    "duration": 0,
    "start_time": "2025-04-18T10:33:57.389Z"
   },
   {
    "duration": 0,
    "start_time": "2025-04-18T10:33:57.391Z"
   },
   {
    "duration": 0,
    "start_time": "2025-04-18T10:33:57.392Z"
   },
   {
    "duration": 0,
    "start_time": "2025-04-18T10:33:57.393Z"
   },
   {
    "duration": 0,
    "start_time": "2025-04-18T10:33:57.394Z"
   },
   {
    "duration": 0,
    "start_time": "2025-04-18T10:33:57.395Z"
   },
   {
    "duration": 0,
    "start_time": "2025-04-18T10:33:57.396Z"
   },
   {
    "duration": 0,
    "start_time": "2025-04-18T10:33:57.397Z"
   },
   {
    "duration": 0,
    "start_time": "2025-04-18T10:33:57.398Z"
   },
   {
    "duration": 0,
    "start_time": "2025-04-18T10:33:57.400Z"
   },
   {
    "duration": 14,
    "start_time": "2025-04-18T10:39:30.681Z"
   },
   {
    "duration": 7,
    "start_time": "2025-04-18T10:39:39.657Z"
   },
   {
    "duration": 346,
    "start_time": "2025-04-18T10:40:03.764Z"
   },
   {
    "duration": 3671,
    "start_time": "2025-04-18T10:43:11.794Z"
   },
   {
    "duration": 213,
    "start_time": "2025-04-18T10:43:15.468Z"
   },
   {
    "duration": 17,
    "start_time": "2025-04-18T10:43:15.683Z"
   },
   {
    "duration": 15,
    "start_time": "2025-04-18T10:43:15.703Z"
   },
   {
    "duration": 19,
    "start_time": "2025-04-18T10:43:15.720Z"
   },
   {
    "duration": 22,
    "start_time": "2025-04-18T10:43:15.741Z"
   },
   {
    "duration": 17,
    "start_time": "2025-04-18T10:43:15.765Z"
   },
   {
    "duration": 15,
    "start_time": "2025-04-18T10:43:15.783Z"
   },
   {
    "duration": 4,
    "start_time": "2025-04-18T10:43:15.800Z"
   },
   {
    "duration": 62,
    "start_time": "2025-04-18T10:43:15.806Z"
   },
   {
    "duration": 12,
    "start_time": "2025-04-18T10:43:15.870Z"
   },
   {
    "duration": 7,
    "start_time": "2025-04-18T10:43:15.884Z"
   },
   {
    "duration": 5,
    "start_time": "2025-04-18T10:43:15.893Z"
   },
   {
    "duration": 6,
    "start_time": "2025-04-18T10:43:15.903Z"
   },
   {
    "duration": 11,
    "start_time": "2025-04-18T10:43:15.911Z"
   },
   {
    "duration": 39,
    "start_time": "2025-04-18T10:43:15.924Z"
   },
   {
    "duration": 26,
    "start_time": "2025-04-18T10:43:15.965Z"
   },
   {
    "duration": 22,
    "start_time": "2025-04-18T10:43:15.992Z"
   },
   {
    "duration": 22,
    "start_time": "2025-04-18T10:43:16.016Z"
   },
   {
    "duration": 103,
    "start_time": "2025-04-18T10:43:16.061Z"
   },
   {
    "duration": 29,
    "start_time": "2025-04-18T10:43:16.166Z"
   },
   {
    "duration": 9,
    "start_time": "2025-04-18T10:43:16.196Z"
   },
   {
    "duration": 10,
    "start_time": "2025-04-18T10:43:16.206Z"
   },
   {
    "duration": 16,
    "start_time": "2025-04-18T10:43:16.217Z"
   },
   {
    "duration": 5,
    "start_time": "2025-04-18T10:43:16.260Z"
   },
   {
    "duration": 8,
    "start_time": "2025-04-18T10:43:16.267Z"
   },
   {
    "duration": 10,
    "start_time": "2025-04-18T10:43:16.276Z"
   },
   {
    "duration": 13,
    "start_time": "2025-04-18T10:43:16.290Z"
   },
   {
    "duration": 68,
    "start_time": "2025-04-18T10:43:16.305Z"
   },
   {
    "duration": 13,
    "start_time": "2025-04-18T10:43:16.374Z"
   },
   {
    "duration": 21,
    "start_time": "2025-04-18T10:43:16.389Z"
   },
   {
    "duration": 19,
    "start_time": "2025-04-18T10:43:16.412Z"
   },
   {
    "duration": 29,
    "start_time": "2025-04-18T10:43:16.432Z"
   },
   {
    "duration": 14,
    "start_time": "2025-04-18T10:43:16.462Z"
   },
   {
    "duration": 47,
    "start_time": "2025-04-18T10:43:16.478Z"
   },
   {
    "duration": 7,
    "start_time": "2025-04-18T10:43:16.527Z"
   },
   {
    "duration": 6,
    "start_time": "2025-04-18T10:43:16.536Z"
   },
   {
    "duration": 6,
    "start_time": "2025-04-18T10:43:16.543Z"
   },
   {
    "duration": 15,
    "start_time": "2025-04-18T10:43:16.551Z"
   },
   {
    "duration": 19,
    "start_time": "2025-04-18T10:43:16.567Z"
   },
   {
    "duration": 10,
    "start_time": "2025-04-18T10:43:16.588Z"
   },
   {
    "duration": 204,
    "start_time": "2025-04-18T10:43:16.600Z"
   },
   {
    "duration": 10,
    "start_time": "2025-04-18T10:43:16.805Z"
   },
   {
    "duration": 227,
    "start_time": "2025-04-18T10:43:16.817Z"
   },
   {
    "duration": 22,
    "start_time": "2025-04-18T10:43:17.046Z"
   },
   {
    "duration": 173,
    "start_time": "2025-04-18T10:43:17.070Z"
   },
   {
    "duration": 18,
    "start_time": "2025-04-18T10:43:17.245Z"
   },
   {
    "duration": 228,
    "start_time": "2025-04-18T10:43:17.264Z"
   },
   {
    "duration": 14,
    "start_time": "2025-04-18T10:43:17.494Z"
   },
   {
    "duration": 281,
    "start_time": "2025-04-18T10:43:17.510Z"
   },
   {
    "duration": 9,
    "start_time": "2025-04-18T10:43:17.793Z"
   },
   {
    "duration": 252,
    "start_time": "2025-04-18T10:43:17.803Z"
   },
   {
    "duration": 126,
    "start_time": "2025-04-18T10:43:18.056Z"
   },
   {
    "duration": 8,
    "start_time": "2025-04-18T10:43:18.184Z"
   },
   {
    "duration": 473,
    "start_time": "2025-04-18T10:43:18.194Z"
   },
   {
    "duration": 9,
    "start_time": "2025-04-18T10:43:18.669Z"
   },
   {
    "duration": 208,
    "start_time": "2025-04-18T10:43:18.679Z"
   },
   {
    "duration": 6,
    "start_time": "2025-04-18T10:43:18.889Z"
   },
   {
    "duration": 286,
    "start_time": "2025-04-18T10:43:18.897Z"
   },
   {
    "duration": 187,
    "start_time": "2025-04-18T10:43:19.184Z"
   },
   {
    "duration": 239,
    "start_time": "2025-04-18T10:43:19.373Z"
   },
   {
    "duration": 365,
    "start_time": "2025-04-18T10:43:19.613Z"
   },
   {
    "duration": 575,
    "start_time": "2025-04-18T10:43:19.979Z"
   },
   {
    "duration": 5,
    "start_time": "2025-04-18T10:43:20.560Z"
   },
   {
    "duration": 233,
    "start_time": "2025-04-18T10:43:20.567Z"
   },
   {
    "duration": 34,
    "start_time": "2025-04-18T10:43:20.802Z"
   },
   {
    "duration": 356,
    "start_time": "2025-04-18T10:43:20.837Z"
   },
   {
    "duration": 319,
    "start_time": "2025-04-18T10:55:31.719Z"
   },
   {
    "duration": 10,
    "start_time": "2025-04-18T10:58:03.687Z"
   },
   {
    "duration": 3517,
    "start_time": "2025-04-18T10:58:11.051Z"
   },
   {
    "duration": 187,
    "start_time": "2025-04-18T10:58:14.570Z"
   },
   {
    "duration": 15,
    "start_time": "2025-04-18T10:58:14.758Z"
   },
   {
    "duration": 29,
    "start_time": "2025-04-18T10:58:14.775Z"
   },
   {
    "duration": 9,
    "start_time": "2025-04-18T10:58:14.806Z"
   },
   {
    "duration": 13,
    "start_time": "2025-04-18T10:58:14.816Z"
   },
   {
    "duration": 11,
    "start_time": "2025-04-18T10:58:14.830Z"
   },
   {
    "duration": 15,
    "start_time": "2025-04-18T10:58:14.860Z"
   },
   {
    "duration": 5,
    "start_time": "2025-04-18T10:58:14.876Z"
   },
   {
    "duration": 3,
    "start_time": "2025-04-18T10:58:14.884Z"
   },
   {
    "duration": 4,
    "start_time": "2025-04-18T10:58:14.889Z"
   },
   {
    "duration": 9,
    "start_time": "2025-04-18T10:58:14.894Z"
   },
   {
    "duration": 15,
    "start_time": "2025-04-18T10:58:14.904Z"
   },
   {
    "duration": 12,
    "start_time": "2025-04-18T10:58:14.920Z"
   },
   {
    "duration": 31,
    "start_time": "2025-04-18T10:58:14.934Z"
   },
   {
    "duration": 12,
    "start_time": "2025-04-18T10:58:14.967Z"
   },
   {
    "duration": 33,
    "start_time": "2025-04-18T10:58:14.981Z"
   },
   {
    "duration": 33,
    "start_time": "2025-04-18T10:58:15.016Z"
   },
   {
    "duration": 30,
    "start_time": "2025-04-18T10:58:15.051Z"
   },
   {
    "duration": 21,
    "start_time": "2025-04-18T10:58:15.083Z"
   },
   {
    "duration": 61,
    "start_time": "2025-04-18T10:58:15.106Z"
   },
   {
    "duration": 10,
    "start_time": "2025-04-18T10:58:15.169Z"
   },
   {
    "duration": 14,
    "start_time": "2025-04-18T10:58:15.180Z"
   },
   {
    "duration": 24,
    "start_time": "2025-04-18T10:58:15.195Z"
   },
   {
    "duration": 7,
    "start_time": "2025-04-18T10:58:15.221Z"
   },
   {
    "duration": 17,
    "start_time": "2025-04-18T10:58:15.229Z"
   },
   {
    "duration": 55,
    "start_time": "2025-04-18T10:58:15.248Z"
   },
   {
    "duration": 15,
    "start_time": "2025-04-18T10:58:15.307Z"
   },
   {
    "duration": 44,
    "start_time": "2025-04-18T10:58:15.323Z"
   },
   {
    "duration": 14,
    "start_time": "2025-04-18T10:58:15.369Z"
   },
   {
    "duration": 26,
    "start_time": "2025-04-18T10:58:15.384Z"
   },
   {
    "duration": 19,
    "start_time": "2025-04-18T10:58:15.411Z"
   },
   {
    "duration": 8,
    "start_time": "2025-04-18T10:58:15.432Z"
   },
   {
    "duration": 103,
    "start_time": "2025-04-18T10:58:15.441Z"
   },
   {
    "duration": 15,
    "start_time": "2025-04-18T10:58:15.546Z"
   },
   {
    "duration": 87,
    "start_time": "2025-04-18T10:58:15.563Z"
   },
   {
    "duration": 15,
    "start_time": "2025-04-18T10:58:15.652Z"
   },
   {
    "duration": 6,
    "start_time": "2025-04-18T10:58:15.669Z"
   },
   {
    "duration": 16,
    "start_time": "2025-04-18T10:58:15.676Z"
   },
   {
    "duration": 19,
    "start_time": "2025-04-18T10:58:15.694Z"
   },
   {
    "duration": 26,
    "start_time": "2025-04-18T10:58:15.716Z"
   },
   {
    "duration": 194,
    "start_time": "2025-04-18T10:58:15.744Z"
   },
   {
    "duration": 10,
    "start_time": "2025-04-18T10:58:15.940Z"
   },
   {
    "duration": 218,
    "start_time": "2025-04-18T10:58:15.961Z"
   },
   {
    "duration": 13,
    "start_time": "2025-04-18T10:58:16.181Z"
   },
   {
    "duration": 180,
    "start_time": "2025-04-18T10:58:16.196Z"
   },
   {
    "duration": 8,
    "start_time": "2025-04-18T10:58:16.377Z"
   },
   {
    "duration": 158,
    "start_time": "2025-04-18T10:58:16.387Z"
   },
   {
    "duration": 18,
    "start_time": "2025-04-18T10:58:16.547Z"
   },
   {
    "duration": 239,
    "start_time": "2025-04-18T10:58:16.567Z"
   },
   {
    "duration": 10,
    "start_time": "2025-04-18T10:58:16.807Z"
   },
   {
    "duration": 206,
    "start_time": "2025-04-18T10:58:16.818Z"
   },
   {
    "duration": 129,
    "start_time": "2025-04-18T10:58:17.025Z"
   },
   {
    "duration": 7,
    "start_time": "2025-04-18T10:58:17.160Z"
   },
   {
    "duration": 452,
    "start_time": "2025-04-18T10:58:17.169Z"
   },
   {
    "duration": 9,
    "start_time": "2025-04-18T10:58:17.623Z"
   },
   {
    "duration": 213,
    "start_time": "2025-04-18T10:58:17.634Z"
   },
   {
    "duration": 12,
    "start_time": "2025-04-18T10:58:17.849Z"
   },
   {
    "duration": 305,
    "start_time": "2025-04-18T10:58:17.862Z"
   },
   {
    "duration": 210,
    "start_time": "2025-04-18T10:58:18.168Z"
   },
   {
    "duration": 216,
    "start_time": "2025-04-18T10:58:18.380Z"
   },
   {
    "duration": 363,
    "start_time": "2025-04-18T10:58:18.597Z"
   },
   {
    "duration": 576,
    "start_time": "2025-04-18T10:58:18.962Z"
   },
   {
    "duration": 6,
    "start_time": "2025-04-18T10:58:19.540Z"
   },
   {
    "duration": 314,
    "start_time": "2025-04-18T10:58:19.547Z"
   },
   {
    "duration": 32,
    "start_time": "2025-04-18T10:58:19.862Z"
   },
   {
    "duration": 323,
    "start_time": "2025-04-18T10:58:19.896Z"
   },
   {
    "duration": 3633,
    "start_time": "2025-04-18T11:11:05.078Z"
   },
   {
    "duration": 525,
    "start_time": "2025-04-18T11:11:08.713Z"
   },
   {
    "duration": 16,
    "start_time": "2025-04-18T11:11:09.240Z"
   },
   {
    "duration": 14,
    "start_time": "2025-04-18T11:11:09.258Z"
   },
   {
    "duration": 9,
    "start_time": "2025-04-18T11:11:09.273Z"
   },
   {
    "duration": 11,
    "start_time": "2025-04-18T11:11:09.284Z"
   },
   {
    "duration": 10,
    "start_time": "2025-04-18T11:11:09.297Z"
   },
   {
    "duration": 14,
    "start_time": "2025-04-18T11:11:09.309Z"
   },
   {
    "duration": 118,
    "start_time": "2025-04-18T11:11:09.325Z"
   },
   {
    "duration": 7,
    "start_time": "2025-04-18T11:11:09.446Z"
   },
   {
    "duration": 3,
    "start_time": "2025-04-18T11:11:09.455Z"
   },
   {
    "duration": 6,
    "start_time": "2025-04-18T11:11:09.459Z"
   },
   {
    "duration": 11,
    "start_time": "2025-04-18T11:11:09.466Z"
   },
   {
    "duration": 12,
    "start_time": "2025-04-18T11:11:09.479Z"
   },
   {
    "duration": 13,
    "start_time": "2025-04-18T11:11:09.493Z"
   },
   {
    "duration": 33,
    "start_time": "2025-04-18T11:11:09.508Z"
   },
   {
    "duration": 156,
    "start_time": "2025-04-18T11:11:09.542Z"
   },
   {
    "duration": 20,
    "start_time": "2025-04-18T11:11:09.700Z"
   },
   {
    "duration": 22,
    "start_time": "2025-04-18T11:11:09.722Z"
   },
   {
    "duration": 29,
    "start_time": "2025-04-18T11:11:09.746Z"
   },
   {
    "duration": 30,
    "start_time": "2025-04-18T11:11:09.777Z"
   },
   {
    "duration": 8,
    "start_time": "2025-04-18T11:11:09.809Z"
   },
   {
    "duration": 8,
    "start_time": "2025-04-18T11:11:09.819Z"
   },
   {
    "duration": 39,
    "start_time": "2025-04-18T11:11:09.828Z"
   },
   {
    "duration": 4,
    "start_time": "2025-04-18T11:11:09.869Z"
   },
   {
    "duration": 53,
    "start_time": "2025-04-18T11:11:09.875Z"
   },
   {
    "duration": 13,
    "start_time": "2025-04-18T11:11:09.930Z"
   },
   {
    "duration": 17,
    "start_time": "2025-04-18T11:11:09.947Z"
   },
   {
    "duration": 57,
    "start_time": "2025-04-18T11:11:09.965Z"
   },
   {
    "duration": 13,
    "start_time": "2025-04-18T11:11:10.024Z"
   },
   {
    "duration": 23,
    "start_time": "2025-04-18T11:11:10.039Z"
   },
   {
    "duration": 20,
    "start_time": "2025-04-18T11:11:10.064Z"
   },
   {
    "duration": 8,
    "start_time": "2025-04-18T11:11:10.086Z"
   },
   {
    "duration": 13,
    "start_time": "2025-04-18T11:11:10.095Z"
   },
   {
    "duration": 15,
    "start_time": "2025-04-18T11:11:10.109Z"
   },
   {
    "duration": 36,
    "start_time": "2025-04-18T11:11:10.126Z"
   },
   {
    "duration": 46,
    "start_time": "2025-04-18T11:11:10.163Z"
   },
   {
    "duration": 7,
    "start_time": "2025-04-18T11:11:10.210Z"
   },
   {
    "duration": 18,
    "start_time": "2025-04-18T11:11:10.218Z"
   },
   {
    "duration": 25,
    "start_time": "2025-04-18T11:11:10.238Z"
   },
   {
    "duration": 15,
    "start_time": "2025-04-18T11:11:10.265Z"
   },
   {
    "duration": 198,
    "start_time": "2025-04-18T11:11:10.282Z"
   },
   {
    "duration": 11,
    "start_time": "2025-04-18T11:11:10.482Z"
   },
   {
    "duration": 225,
    "start_time": "2025-04-18T11:11:10.495Z"
   },
   {
    "duration": 13,
    "start_time": "2025-04-18T11:11:10.722Z"
   },
   {
    "duration": 175,
    "start_time": "2025-04-18T11:11:10.737Z"
   },
   {
    "duration": 7,
    "start_time": "2025-04-18T11:11:10.914Z"
   },
   {
    "duration": 156,
    "start_time": "2025-04-18T11:11:10.922Z"
   },
   {
    "duration": 14,
    "start_time": "2025-04-18T11:11:11.079Z"
   },
   {
    "duration": 106303,
    "start_time": "2025-04-18T11:11:11.094Z"
   },
   {
    "duration": 11,
    "start_time": "2025-04-18T11:12:57.398Z"
   },
   {
    "duration": 229,
    "start_time": "2025-04-18T11:12:57.411Z"
   },
   {
    "duration": 138,
    "start_time": "2025-04-18T11:12:57.642Z"
   },
   {
    "duration": 9,
    "start_time": "2025-04-18T11:12:57.782Z"
   },
   {
    "duration": 301,
    "start_time": "2025-04-18T11:12:57.793Z"
   },
   {
    "duration": 9,
    "start_time": "2025-04-18T11:12:58.096Z"
   },
   {
    "duration": 221,
    "start_time": "2025-04-18T11:12:58.106Z"
   },
   {
    "duration": 7,
    "start_time": "2025-04-18T11:12:58.329Z"
   },
   {
    "duration": 333,
    "start_time": "2025-04-18T11:12:58.338Z"
   },
   {
    "duration": 204,
    "start_time": "2025-04-18T11:12:58.673Z"
   },
   {
    "duration": 232,
    "start_time": "2025-04-18T11:12:58.879Z"
   },
   {
    "duration": 398,
    "start_time": "2025-04-18T11:12:59.113Z"
   },
   {
    "duration": 564,
    "start_time": "2025-04-18T11:12:59.512Z"
   },
   {
    "duration": 6,
    "start_time": "2025-04-18T11:13:00.077Z"
   },
   {
    "duration": 260,
    "start_time": "2025-04-18T11:13:00.085Z"
   },
   {
    "duration": 40,
    "start_time": "2025-04-18T11:13:00.348Z"
   },
   {
    "duration": 327,
    "start_time": "2025-04-18T11:13:00.391Z"
   },
   {
    "duration": 106,
    "start_time": "2025-04-18T11:13:05.177Z"
   },
   {
    "duration": 51,
    "start_time": "2025-04-18T13:14:02.962Z"
   },
   {
    "duration": 5149,
    "start_time": "2025-04-18T13:14:15.652Z"
   },
   {
    "duration": 160,
    "start_time": "2025-04-18T13:14:20.803Z"
   },
   {
    "duration": 22,
    "start_time": "2025-04-18T13:14:20.965Z"
   },
   {
    "duration": 36,
    "start_time": "2025-04-18T13:14:20.989Z"
   },
   {
    "duration": 23,
    "start_time": "2025-04-18T13:14:21.026Z"
   },
   {
    "duration": 20,
    "start_time": "2025-04-18T13:14:21.051Z"
   },
   {
    "duration": 47,
    "start_time": "2025-04-18T13:14:21.073Z"
   },
   {
    "duration": 39,
    "start_time": "2025-04-18T13:14:21.122Z"
   },
   {
    "duration": 20,
    "start_time": "2025-04-18T13:14:21.163Z"
   },
   {
    "duration": 4,
    "start_time": "2025-04-18T13:14:21.185Z"
   },
   {
    "duration": 41,
    "start_time": "2025-04-18T13:14:21.190Z"
   },
   {
    "duration": 28,
    "start_time": "2025-04-18T13:14:21.233Z"
   },
   {
    "duration": 17,
    "start_time": "2025-04-18T13:14:21.263Z"
   },
   {
    "duration": 11,
    "start_time": "2025-04-18T13:14:21.281Z"
   },
   {
    "duration": 11,
    "start_time": "2025-04-18T13:14:21.294Z"
   },
   {
    "duration": 12,
    "start_time": "2025-04-18T13:14:21.307Z"
   },
   {
    "duration": 31,
    "start_time": "2025-04-18T13:14:21.320Z"
   },
   {
    "duration": 38,
    "start_time": "2025-04-18T13:14:21.353Z"
   },
   {
    "duration": 22,
    "start_time": "2025-04-18T13:14:21.393Z"
   },
   {
    "duration": 21,
    "start_time": "2025-04-18T13:14:21.416Z"
   },
   {
    "duration": 57,
    "start_time": "2025-04-18T13:14:21.439Z"
   },
   {
    "duration": 9,
    "start_time": "2025-04-18T13:14:21.498Z"
   },
   {
    "duration": 32,
    "start_time": "2025-04-18T13:14:21.509Z"
   },
   {
    "duration": 37,
    "start_time": "2025-04-18T13:14:21.542Z"
   },
   {
    "duration": 6,
    "start_time": "2025-04-18T13:14:21.581Z"
   },
   {
    "duration": 42,
    "start_time": "2025-04-18T13:14:21.589Z"
   },
   {
    "duration": 18,
    "start_time": "2025-04-18T13:14:21.633Z"
   },
   {
    "duration": 16,
    "start_time": "2025-04-18T13:14:21.656Z"
   },
   {
    "duration": 46,
    "start_time": "2025-04-18T13:14:21.673Z"
   },
   {
    "duration": 15,
    "start_time": "2025-04-18T13:14:21.721Z"
   },
   {
    "duration": 191,
    "start_time": "2025-04-18T13:14:21.738Z"
   },
   {
    "duration": 110,
    "start_time": "2025-04-18T13:14:21.930Z"
   },
   {
    "duration": 11,
    "start_time": "2025-04-18T13:14:22.043Z"
   },
   {
    "duration": 20,
    "start_time": "2025-04-18T13:14:22.056Z"
   },
   {
    "duration": 19,
    "start_time": "2025-04-18T13:14:22.078Z"
   },
   {
    "duration": 8,
    "start_time": "2025-04-18T13:14:22.098Z"
   },
   {
    "duration": 6,
    "start_time": "2025-04-18T13:14:22.108Z"
   },
   {
    "duration": 6,
    "start_time": "2025-04-18T13:14:22.116Z"
   },
   {
    "duration": 15,
    "start_time": "2025-04-18T13:14:22.124Z"
   },
   {
    "duration": 45,
    "start_time": "2025-04-18T13:14:22.141Z"
   },
   {
    "duration": 15,
    "start_time": "2025-04-18T13:14:22.188Z"
   },
   {
    "duration": 202,
    "start_time": "2025-04-18T13:14:22.205Z"
   },
   {
    "duration": 11,
    "start_time": "2025-04-18T13:14:22.409Z"
   },
   {
    "duration": 244,
    "start_time": "2025-04-18T13:14:22.421Z"
   },
   {
    "duration": 14,
    "start_time": "2025-04-18T13:14:22.667Z"
   },
   {
    "duration": 195,
    "start_time": "2025-04-18T13:14:22.683Z"
   },
   {
    "duration": 7,
    "start_time": "2025-04-18T13:14:22.880Z"
   },
   {
    "duration": 206,
    "start_time": "2025-04-18T13:14:22.888Z"
   },
   {
    "duration": 15,
    "start_time": "2025-04-18T13:14:23.096Z"
   },
   {
    "duration": 137,
    "start_time": "2025-04-18T13:14:23.112Z"
   },
   {
    "duration": 0,
    "start_time": "2025-04-18T13:14:23.251Z"
   },
   {
    "duration": 0,
    "start_time": "2025-04-18T13:14:23.253Z"
   },
   {
    "duration": 0,
    "start_time": "2025-04-18T13:14:23.254Z"
   },
   {
    "duration": 0,
    "start_time": "2025-04-18T13:14:23.256Z"
   },
   {
    "duration": 0,
    "start_time": "2025-04-18T13:14:23.257Z"
   },
   {
    "duration": 0,
    "start_time": "2025-04-18T13:14:23.259Z"
   },
   {
    "duration": 0,
    "start_time": "2025-04-18T13:14:23.277Z"
   },
   {
    "duration": 0,
    "start_time": "2025-04-18T13:14:23.280Z"
   },
   {
    "duration": 0,
    "start_time": "2025-04-18T13:14:23.282Z"
   },
   {
    "duration": 0,
    "start_time": "2025-04-18T13:14:23.283Z"
   },
   {
    "duration": 0,
    "start_time": "2025-04-18T13:14:23.285Z"
   },
   {
    "duration": 0,
    "start_time": "2025-04-18T13:14:23.287Z"
   },
   {
    "duration": 0,
    "start_time": "2025-04-18T13:14:23.288Z"
   },
   {
    "duration": 0,
    "start_time": "2025-04-18T13:14:23.290Z"
   },
   {
    "duration": 0,
    "start_time": "2025-04-18T13:14:23.292Z"
   },
   {
    "duration": 0,
    "start_time": "2025-04-18T13:14:23.293Z"
   },
   {
    "duration": 0,
    "start_time": "2025-04-18T13:14:23.295Z"
   },
   {
    "duration": 0,
    "start_time": "2025-04-18T13:14:23.296Z"
   },
   {
    "duration": 49,
    "start_time": "2025-04-21T06:57:14.417Z"
   },
   {
    "duration": 4750,
    "start_time": "2025-04-21T06:57:20.288Z"
   },
   {
    "duration": 181,
    "start_time": "2025-04-21T06:57:25.040Z"
   },
   {
    "duration": 17,
    "start_time": "2025-04-21T06:57:25.222Z"
   },
   {
    "duration": 115,
    "start_time": "2025-04-21T06:57:25.242Z"
   },
   {
    "duration": 10,
    "start_time": "2025-04-21T06:57:25.360Z"
   },
   {
    "duration": 14,
    "start_time": "2025-04-21T06:57:25.372Z"
   },
   {
    "duration": 12,
    "start_time": "2025-04-21T06:57:25.389Z"
   },
   {
    "duration": 16,
    "start_time": "2025-04-21T06:57:25.402Z"
   },
   {
    "duration": 19,
    "start_time": "2025-04-21T06:57:25.420Z"
   },
   {
    "duration": 6,
    "start_time": "2025-04-21T06:57:25.443Z"
   },
   {
    "duration": 5,
    "start_time": "2025-04-21T06:57:25.451Z"
   },
   {
    "duration": 9,
    "start_time": "2025-04-21T06:57:25.458Z"
   },
   {
    "duration": 10,
    "start_time": "2025-04-21T06:57:25.468Z"
   },
   {
    "duration": 8,
    "start_time": "2025-04-21T06:57:25.480Z"
   },
   {
    "duration": 11,
    "start_time": "2025-04-21T06:57:25.490Z"
   },
   {
    "duration": 38,
    "start_time": "2025-04-21T06:57:25.502Z"
   },
   {
    "duration": 23,
    "start_time": "2025-04-21T06:57:25.542Z"
   },
   {
    "duration": 24,
    "start_time": "2025-04-21T06:57:25.567Z"
   },
   {
    "duration": 52,
    "start_time": "2025-04-21T06:57:25.593Z"
   },
   {
    "duration": 20,
    "start_time": "2025-04-21T06:57:25.646Z"
   },
   {
    "duration": 30,
    "start_time": "2025-04-21T06:57:25.668Z"
   },
   {
    "duration": 8,
    "start_time": "2025-04-21T06:57:25.700Z"
   },
   {
    "duration": 9,
    "start_time": "2025-04-21T06:57:25.736Z"
   },
   {
    "duration": 14,
    "start_time": "2025-04-21T06:57:25.746Z"
   },
   {
    "duration": 5,
    "start_time": "2025-04-21T06:57:25.761Z"
   },
   {
    "duration": 6,
    "start_time": "2025-04-21T06:57:25.767Z"
   },
   {
    "duration": 10,
    "start_time": "2025-04-21T06:57:25.775Z"
   },
   {
    "duration": 48,
    "start_time": "2025-04-21T06:57:25.789Z"
   },
   {
    "duration": 42,
    "start_time": "2025-04-21T06:57:25.839Z"
   },
   {
    "duration": 20,
    "start_time": "2025-04-21T06:57:25.883Z"
   },
   {
    "duration": 45,
    "start_time": "2025-04-21T06:57:25.906Z"
   },
   {
    "duration": 19,
    "start_time": "2025-04-21T06:57:25.953Z"
   },
   {
    "duration": 10,
    "start_time": "2025-04-21T06:57:25.973Z"
   },
   {
    "duration": 14,
    "start_time": "2025-04-21T06:57:25.984Z"
   },
   {
    "duration": 46,
    "start_time": "2025-04-21T06:57:26.000Z"
   },
   {
    "duration": 7,
    "start_time": "2025-04-21T06:57:26.048Z"
   },
   {
    "duration": 4,
    "start_time": "2025-04-21T06:57:26.056Z"
   },
   {
    "duration": 6,
    "start_time": "2025-04-21T06:57:26.061Z"
   },
   {
    "duration": 16,
    "start_time": "2025-04-21T06:57:26.069Z"
   },
   {
    "duration": 52,
    "start_time": "2025-04-21T06:57:26.086Z"
   },
   {
    "duration": 18,
    "start_time": "2025-04-21T06:57:26.140Z"
   },
   {
    "duration": 196,
    "start_time": "2025-04-21T06:57:26.160Z"
   },
   {
    "duration": 10,
    "start_time": "2025-04-21T06:57:26.358Z"
   },
   {
    "duration": 247,
    "start_time": "2025-04-21T06:57:26.370Z"
   },
   {
    "duration": 22,
    "start_time": "2025-04-21T06:57:26.619Z"
   },
   {
    "duration": 181,
    "start_time": "2025-04-21T06:57:26.643Z"
   },
   {
    "duration": 14,
    "start_time": "2025-04-21T06:57:26.826Z"
   },
   {
    "duration": 167,
    "start_time": "2025-04-21T06:57:26.842Z"
   },
   {
    "duration": 28,
    "start_time": "2025-04-21T06:57:27.011Z"
   },
   {
    "duration": 63,
    "start_time": "2025-04-21T06:57:27.041Z"
   },
   {
    "duration": 149,
    "start_time": "2025-04-21T06:57:27.106Z"
   },
   {
    "duration": 0,
    "start_time": "2025-04-21T06:57:27.257Z"
   },
   {
    "duration": 0,
    "start_time": "2025-04-21T06:57:27.258Z"
   },
   {
    "duration": 0,
    "start_time": "2025-04-21T06:57:27.259Z"
   },
   {
    "duration": 0,
    "start_time": "2025-04-21T06:57:27.261Z"
   },
   {
    "duration": 0,
    "start_time": "2025-04-21T06:57:27.262Z"
   },
   {
    "duration": 0,
    "start_time": "2025-04-21T06:57:27.263Z"
   },
   {
    "duration": 0,
    "start_time": "2025-04-21T06:57:27.265Z"
   },
   {
    "duration": 0,
    "start_time": "2025-04-21T06:57:27.266Z"
   },
   {
    "duration": 0,
    "start_time": "2025-04-21T06:57:27.267Z"
   },
   {
    "duration": 0,
    "start_time": "2025-04-21T06:57:27.268Z"
   },
   {
    "duration": 0,
    "start_time": "2025-04-21T06:57:27.270Z"
   },
   {
    "duration": 0,
    "start_time": "2025-04-21T06:57:27.271Z"
   },
   {
    "duration": 0,
    "start_time": "2025-04-21T06:57:27.272Z"
   },
   {
    "duration": 0,
    "start_time": "2025-04-21T06:57:27.273Z"
   },
   {
    "duration": 0,
    "start_time": "2025-04-21T06:57:27.274Z"
   },
   {
    "duration": 0,
    "start_time": "2025-04-21T06:57:27.275Z"
   },
   {
    "duration": 0,
    "start_time": "2025-04-21T06:57:27.277Z"
   },
   {
    "duration": 0,
    "start_time": "2025-04-21T06:57:27.278Z"
   },
   {
    "duration": 64,
    "start_time": "2025-04-21T06:58:28.554Z"
   },
   {
    "duration": 7,
    "start_time": "2025-04-21T06:58:35.100Z"
   },
   {
    "duration": 6,
    "start_time": "2025-04-21T07:03:01.309Z"
   },
   {
    "duration": 7,
    "start_time": "2025-04-21T07:03:10.301Z"
   },
   {
    "duration": 1223,
    "start_time": "2025-04-21T07:03:22.753Z"
   },
   {
    "duration": 6,
    "start_time": "2025-04-21T07:03:27.211Z"
   },
   {
    "duration": 7,
    "start_time": "2025-04-21T07:05:00.698Z"
   },
   {
    "duration": 7,
    "start_time": "2025-04-21T07:05:06.058Z"
   },
   {
    "duration": 8,
    "start_time": "2025-04-21T07:05:28.639Z"
   },
   {
    "duration": 7,
    "start_time": "2025-04-21T07:05:38.705Z"
   },
   {
    "duration": 7,
    "start_time": "2025-04-21T07:06:07.290Z"
   },
   {
    "duration": 1130,
    "start_time": "2025-04-21T07:06:24.100Z"
   },
   {
    "duration": 1627,
    "start_time": "2025-04-21T07:06:40.618Z"
   },
   {
    "duration": 325,
    "start_time": "2025-04-21T07:07:44.194Z"
   },
   {
    "duration": 107,
    "start_time": "2025-04-21T07:07:52.599Z"
   },
   {
    "duration": 88,
    "start_time": "2025-04-21T07:07:58.224Z"
   },
   {
    "duration": 939,
    "start_time": "2025-04-21T07:08:04.625Z"
   },
   {
    "duration": 8,
    "start_time": "2025-04-21T07:08:13.810Z"
   },
   {
    "duration": 9,
    "start_time": "2025-04-21T07:08:34.011Z"
   },
   {
    "duration": 9,
    "start_time": "2025-04-21T07:09:54.469Z"
   },
   {
    "duration": 8,
    "start_time": "2025-04-21T07:10:28.056Z"
   },
   {
    "duration": 22,
    "start_time": "2025-04-21T07:11:25.525Z"
   },
   {
    "duration": 213,
    "start_time": "2025-04-21T07:12:19.693Z"
   },
   {
    "duration": 200,
    "start_time": "2025-04-21T07:15:17.035Z"
   },
   {
    "duration": 177,
    "start_time": "2025-04-21T07:16:01.487Z"
   },
   {
    "duration": 251,
    "start_time": "2025-04-21T07:17:02.468Z"
   },
   {
    "duration": 3624,
    "start_time": "2025-04-21T07:17:12.194Z"
   },
   {
    "duration": 247,
    "start_time": "2025-04-21T07:17:15.820Z"
   },
   {
    "duration": 17,
    "start_time": "2025-04-21T07:17:16.068Z"
   },
   {
    "duration": 15,
    "start_time": "2025-04-21T07:17:16.087Z"
   },
   {
    "duration": 22,
    "start_time": "2025-04-21T07:17:16.103Z"
   },
   {
    "duration": 32,
    "start_time": "2025-04-21T07:17:16.126Z"
   },
   {
    "duration": 20,
    "start_time": "2025-04-21T07:17:16.160Z"
   },
   {
    "duration": 20,
    "start_time": "2025-04-21T07:17:16.181Z"
   },
   {
    "duration": 5,
    "start_time": "2025-04-21T07:17:16.203Z"
   },
   {
    "duration": 4,
    "start_time": "2025-04-21T07:17:16.210Z"
   },
   {
    "duration": 10,
    "start_time": "2025-04-21T07:17:16.215Z"
   },
   {
    "duration": 9,
    "start_time": "2025-04-21T07:17:16.226Z"
   },
   {
    "duration": 13,
    "start_time": "2025-04-21T07:17:16.237Z"
   },
   {
    "duration": 79,
    "start_time": "2025-04-21T07:17:16.252Z"
   },
   {
    "duration": 10,
    "start_time": "2025-04-21T07:17:16.333Z"
   },
   {
    "duration": 10,
    "start_time": "2025-04-21T07:17:16.344Z"
   },
   {
    "duration": 23,
    "start_time": "2025-04-21T07:17:16.355Z"
   },
   {
    "duration": 21,
    "start_time": "2025-04-21T07:17:16.380Z"
   },
   {
    "duration": 50,
    "start_time": "2025-04-21T07:17:16.402Z"
   },
   {
    "duration": 20,
    "start_time": "2025-04-21T07:17:16.454Z"
   },
   {
    "duration": 38,
    "start_time": "2025-04-21T07:17:16.475Z"
   },
   {
    "duration": 43,
    "start_time": "2025-04-21T07:17:16.516Z"
   },
   {
    "duration": 11,
    "start_time": "2025-04-21T07:17:16.561Z"
   },
   {
    "duration": 15,
    "start_time": "2025-04-21T07:17:16.574Z"
   },
   {
    "duration": 5,
    "start_time": "2025-04-21T07:17:16.590Z"
   },
   {
    "duration": 7,
    "start_time": "2025-04-21T07:17:16.596Z"
   },
   {
    "duration": 32,
    "start_time": "2025-04-21T07:17:16.604Z"
   },
   {
    "duration": 14,
    "start_time": "2025-04-21T07:17:16.640Z"
   },
   {
    "duration": 56,
    "start_time": "2025-04-21T07:17:16.655Z"
   },
   {
    "duration": 14,
    "start_time": "2025-04-21T07:17:16.712Z"
   },
   {
    "duration": 28,
    "start_time": "2025-04-21T07:17:16.727Z"
   },
   {
    "duration": 19,
    "start_time": "2025-04-21T07:17:16.757Z"
   },
   {
    "duration": 8,
    "start_time": "2025-04-21T07:17:16.778Z"
   },
   {
    "duration": 14,
    "start_time": "2025-04-21T07:17:16.787Z"
   },
   {
    "duration": 44,
    "start_time": "2025-04-21T07:17:16.802Z"
   },
   {
    "duration": 6,
    "start_time": "2025-04-21T07:17:16.847Z"
   },
   {
    "duration": 5,
    "start_time": "2025-04-21T07:17:16.854Z"
   },
   {
    "duration": 6,
    "start_time": "2025-04-21T07:17:16.861Z"
   },
   {
    "duration": 15,
    "start_time": "2025-04-21T07:17:16.868Z"
   },
   {
    "duration": 51,
    "start_time": "2025-04-21T07:17:16.885Z"
   },
   {
    "duration": 11,
    "start_time": "2025-04-21T07:17:16.938Z"
   },
   {
    "duration": 194,
    "start_time": "2025-04-21T07:17:16.951Z"
   },
   {
    "duration": 10,
    "start_time": "2025-04-21T07:17:17.146Z"
   },
   {
    "duration": 240,
    "start_time": "2025-04-21T07:17:17.158Z"
   },
   {
    "duration": 14,
    "start_time": "2025-04-21T07:17:17.400Z"
   },
   {
    "duration": 171,
    "start_time": "2025-04-21T07:17:17.416Z"
   },
   {
    "duration": 7,
    "start_time": "2025-04-21T07:17:17.589Z"
   },
   {
    "duration": 160,
    "start_time": "2025-04-21T07:17:17.598Z"
   },
   {
    "duration": 14,
    "start_time": "2025-04-21T07:17:17.760Z"
   },
   {
    "duration": 2,
    "start_time": "2025-04-21T07:17:17.775Z"
   },
   {
    "duration": 187,
    "start_time": "2025-04-21T07:17:17.779Z"
   },
   {
    "duration": 9,
    "start_time": "2025-04-21T07:17:17.968Z"
   },
   {
    "duration": 203,
    "start_time": "2025-04-21T07:17:17.979Z"
   },
   {
    "duration": 129,
    "start_time": "2025-04-21T07:17:18.184Z"
   },
   {
    "duration": 7,
    "start_time": "2025-04-21T07:17:18.315Z"
   },
   {
    "duration": 458,
    "start_time": "2025-04-21T07:17:18.324Z"
   },
   {
    "duration": 8,
    "start_time": "2025-04-21T07:17:18.784Z"
   },
   {
    "duration": 203,
    "start_time": "2025-04-21T07:17:18.793Z"
   },
   {
    "duration": 7,
    "start_time": "2025-04-21T07:17:18.997Z"
   },
   {
    "duration": 333,
    "start_time": "2025-04-21T07:17:19.006Z"
   },
   {
    "duration": 189,
    "start_time": "2025-04-21T07:17:19.341Z"
   },
   {
    "duration": 246,
    "start_time": "2025-04-21T07:17:19.531Z"
   },
   {
    "duration": 367,
    "start_time": "2025-04-21T07:17:19.779Z"
   },
   {
    "duration": 592,
    "start_time": "2025-04-21T07:17:20.147Z"
   },
   {
    "duration": 5,
    "start_time": "2025-04-21T07:17:20.741Z"
   },
   {
    "duration": 238,
    "start_time": "2025-04-21T07:17:20.747Z"
   },
   {
    "duration": 189,
    "start_time": "2025-04-21T07:17:20.987Z"
   },
   {
    "duration": 33,
    "start_time": "2025-04-21T07:17:21.177Z"
   },
   {
    "duration": 347,
    "start_time": "2025-04-21T07:17:21.211Z"
   },
   {
    "duration": 88,
    "start_time": "2025-04-21T07:29:04.497Z"
   },
   {
    "duration": 116,
    "start_time": "2025-04-21T07:29:16.318Z"
   },
   {
    "duration": 7,
    "start_time": "2025-04-21T07:30:36.388Z"
   },
   {
    "duration": 9,
    "start_time": "2025-04-21T07:31:51.027Z"
   },
   {
    "duration": 268,
    "start_time": "2025-04-21T07:35:21.959Z"
   },
   {
    "duration": 257,
    "start_time": "2025-04-21T07:41:41.485Z"
   },
   {
    "duration": 343,
    "start_time": "2025-04-21T07:43:48.763Z"
   },
   {
    "duration": 337,
    "start_time": "2025-04-21T07:44:16.813Z"
   },
   {
    "duration": 313,
    "start_time": "2025-04-21T07:44:20.922Z"
   },
   {
    "duration": 292,
    "start_time": "2025-04-21T07:44:27.150Z"
   },
   {
    "duration": 298,
    "start_time": "2025-04-21T07:44:30.451Z"
   },
   {
    "duration": 284,
    "start_time": "2025-04-21T07:46:05.083Z"
   },
   {
    "duration": 299,
    "start_time": "2025-04-21T07:46:31.008Z"
   },
   {
    "duration": 98,
    "start_time": "2025-04-21T07:47:12.143Z"
   },
   {
    "duration": 77,
    "start_time": "2025-04-21T07:47:31.801Z"
   },
   {
    "duration": 77,
    "start_time": "2025-04-21T07:47:40.165Z"
   },
   {
    "duration": 80,
    "start_time": "2025-04-21T07:48:12.443Z"
   },
   {
    "duration": 161,
    "start_time": "2025-04-21T07:49:06.883Z"
   },
   {
    "duration": 3710,
    "start_time": "2025-04-21T07:49:12.232Z"
   },
   {
    "duration": 235,
    "start_time": "2025-04-21T07:49:15.945Z"
   },
   {
    "duration": 18,
    "start_time": "2025-04-21T07:49:16.182Z"
   },
   {
    "duration": 14,
    "start_time": "2025-04-21T07:49:16.202Z"
   },
   {
    "duration": 12,
    "start_time": "2025-04-21T07:49:16.218Z"
   },
   {
    "duration": 11,
    "start_time": "2025-04-21T07:49:16.236Z"
   },
   {
    "duration": 16,
    "start_time": "2025-04-21T07:49:16.249Z"
   },
   {
    "duration": 15,
    "start_time": "2025-04-21T07:49:16.266Z"
   },
   {
    "duration": 4,
    "start_time": "2025-04-21T07:49:16.283Z"
   },
   {
    "duration": 4,
    "start_time": "2025-04-21T07:49:16.290Z"
   },
   {
    "duration": 5,
    "start_time": "2025-04-21T07:49:16.295Z"
   },
   {
    "duration": 4,
    "start_time": "2025-04-21T07:49:16.335Z"
   },
   {
    "duration": 103,
    "start_time": "2025-04-21T07:49:16.341Z"
   },
   {
    "duration": 6,
    "start_time": "2025-04-21T07:49:16.446Z"
   },
   {
    "duration": 10,
    "start_time": "2025-04-21T07:49:16.453Z"
   },
   {
    "duration": 10,
    "start_time": "2025-04-21T07:49:16.465Z"
   },
   {
    "duration": 32,
    "start_time": "2025-04-21T07:49:16.477Z"
   },
   {
    "duration": 52,
    "start_time": "2025-04-21T07:49:16.511Z"
   },
   {
    "duration": 22,
    "start_time": "2025-04-21T07:49:16.565Z"
   },
   {
    "duration": 47,
    "start_time": "2025-04-21T07:49:16.589Z"
   },
   {
    "duration": 32,
    "start_time": "2025-04-21T07:49:16.638Z"
   },
   {
    "duration": 9,
    "start_time": "2025-04-21T07:49:16.672Z"
   },
   {
    "duration": 21,
    "start_time": "2025-04-21T07:49:16.683Z"
   },
   {
    "duration": 33,
    "start_time": "2025-04-21T07:49:16.705Z"
   },
   {
    "duration": 5,
    "start_time": "2025-04-21T07:49:16.739Z"
   },
   {
    "duration": 5,
    "start_time": "2025-04-21T07:49:16.746Z"
   },
   {
    "duration": 8,
    "start_time": "2025-04-21T07:49:16.752Z"
   },
   {
    "duration": 12,
    "start_time": "2025-04-21T07:49:16.765Z"
   },
   {
    "duration": 73,
    "start_time": "2025-04-21T07:49:16.779Z"
   },
   {
    "duration": 14,
    "start_time": "2025-04-21T07:49:16.853Z"
   },
   {
    "duration": 28,
    "start_time": "2025-04-21T07:49:16.868Z"
   },
   {
    "duration": 19,
    "start_time": "2025-04-21T07:49:16.897Z"
   },
   {
    "duration": 24,
    "start_time": "2025-04-21T07:49:16.917Z"
   },
   {
    "duration": 36,
    "start_time": "2025-04-21T07:49:16.942Z"
   },
   {
    "duration": 15,
    "start_time": "2025-04-21T07:49:16.980Z"
   },
   {
    "duration": 28,
    "start_time": "2025-04-21T07:49:16.996Z"
   },
   {
    "duration": 5,
    "start_time": "2025-04-21T07:49:17.026Z"
   },
   {
    "duration": 6,
    "start_time": "2025-04-21T07:49:17.033Z"
   },
   {
    "duration": 15,
    "start_time": "2025-04-21T07:49:17.041Z"
   },
   {
    "duration": 20,
    "start_time": "2025-04-21T07:49:17.058Z"
   },
   {
    "duration": 14,
    "start_time": "2025-04-21T07:49:17.080Z"
   },
   {
    "duration": 198,
    "start_time": "2025-04-21T07:49:17.095Z"
   },
   {
    "duration": 10,
    "start_time": "2025-04-21T07:49:17.294Z"
   },
   {
    "duration": 221,
    "start_time": "2025-04-21T07:49:17.306Z"
   },
   {
    "duration": 16,
    "start_time": "2025-04-21T07:49:17.528Z"
   },
   {
    "duration": 174,
    "start_time": "2025-04-21T07:49:17.546Z"
   },
   {
    "duration": 17,
    "start_time": "2025-04-21T07:49:17.721Z"
   },
   {
    "duration": 148,
    "start_time": "2025-04-21T07:49:17.739Z"
   },
   {
    "duration": 13,
    "start_time": "2025-04-21T07:49:17.888Z"
   },
   {
    "duration": 2,
    "start_time": "2025-04-21T07:49:17.903Z"
   },
   {
    "duration": 181,
    "start_time": "2025-04-21T07:49:17.906Z"
   },
   {
    "duration": 7,
    "start_time": "2025-04-21T07:49:18.089Z"
   },
   {
    "duration": 207,
    "start_time": "2025-04-21T07:49:18.098Z"
   },
   {
    "duration": 131,
    "start_time": "2025-04-21T07:49:18.306Z"
   },
   {
    "duration": 7,
    "start_time": "2025-04-21T07:49:18.439Z"
   },
   {
    "duration": 433,
    "start_time": "2025-04-21T07:49:18.447Z"
   },
   {
    "duration": 9,
    "start_time": "2025-04-21T07:49:18.881Z"
   },
   {
    "duration": 196,
    "start_time": "2025-04-21T07:49:18.891Z"
   },
   {
    "duration": 6,
    "start_time": "2025-04-21T07:49:19.089Z"
   },
   {
    "duration": 314,
    "start_time": "2025-04-21T07:49:19.096Z"
   },
   {
    "duration": 193,
    "start_time": "2025-04-21T07:49:19.411Z"
   },
   {
    "duration": 251,
    "start_time": "2025-04-21T07:49:19.606Z"
   },
   {
    "duration": 258,
    "start_time": "2025-04-21T07:49:19.859Z"
   },
   {
    "duration": 69,
    "start_time": "2025-04-21T07:49:20.118Z"
   },
   {
    "duration": 0,
    "start_time": "2025-04-21T07:49:20.189Z"
   },
   {
    "duration": 0,
    "start_time": "2025-04-21T07:49:20.190Z"
   },
   {
    "duration": 0,
    "start_time": "2025-04-21T07:49:20.191Z"
   },
   {
    "duration": 0,
    "start_time": "2025-04-21T07:49:20.192Z"
   },
   {
    "duration": 0,
    "start_time": "2025-04-21T07:49:20.193Z"
   },
   {
    "duration": 0,
    "start_time": "2025-04-21T07:49:20.194Z"
   },
   {
    "duration": 67,
    "start_time": "2025-04-21T07:50:32.555Z"
   },
   {
    "duration": 1079,
    "start_time": "2025-04-21T07:53:34.687Z"
   },
   {
    "duration": 248,
    "start_time": "2025-04-21T07:53:40.052Z"
   },
   {
    "duration": 68,
    "start_time": "2025-04-21T07:54:16.189Z"
   },
   {
    "duration": 62,
    "start_time": "2025-04-21T07:54:27.233Z"
   },
   {
    "duration": 345,
    "start_time": "2025-04-21T07:54:35.657Z"
   },
   {
    "duration": 284,
    "start_time": "2025-04-21T07:57:52.745Z"
   },
   {
    "duration": 146,
    "start_time": "2025-04-21T07:58:21.620Z"
   },
   {
    "duration": 24,
    "start_time": "2025-04-21T07:58:34.309Z"
   },
   {
    "duration": 289,
    "start_time": "2025-04-21T08:01:56.016Z"
   },
   {
    "duration": 3567,
    "start_time": "2025-04-21T08:05:02.397Z"
   },
   {
    "duration": 234,
    "start_time": "2025-04-21T08:05:05.966Z"
   },
   {
    "duration": 17,
    "start_time": "2025-04-21T08:05:06.202Z"
   },
   {
    "duration": 34,
    "start_time": "2025-04-21T08:05:06.220Z"
   },
   {
    "duration": 10,
    "start_time": "2025-04-21T08:05:06.256Z"
   },
   {
    "duration": 20,
    "start_time": "2025-04-21T08:05:06.268Z"
   },
   {
    "duration": 16,
    "start_time": "2025-04-21T08:05:06.290Z"
   },
   {
    "duration": 14,
    "start_time": "2025-04-21T08:05:06.308Z"
   },
   {
    "duration": 27,
    "start_time": "2025-04-21T08:05:06.323Z"
   },
   {
    "duration": 17,
    "start_time": "2025-04-21T08:05:06.352Z"
   },
   {
    "duration": 37,
    "start_time": "2025-04-21T08:05:06.370Z"
   },
   {
    "duration": 32,
    "start_time": "2025-04-21T08:05:06.409Z"
   },
   {
    "duration": 22,
    "start_time": "2025-04-21T08:05:06.443Z"
   },
   {
    "duration": 7,
    "start_time": "2025-04-21T08:05:06.468Z"
   },
   {
    "duration": 15,
    "start_time": "2025-04-21T08:05:06.476Z"
   },
   {
    "duration": 44,
    "start_time": "2025-04-21T08:05:06.493Z"
   },
   {
    "duration": 43,
    "start_time": "2025-04-21T08:05:06.539Z"
   },
   {
    "duration": 92,
    "start_time": "2025-04-21T08:05:06.584Z"
   },
   {
    "duration": 22,
    "start_time": "2025-04-21T08:05:06.678Z"
   },
   {
    "duration": 23,
    "start_time": "2025-04-21T08:05:06.702Z"
   },
   {
    "duration": 44,
    "start_time": "2025-04-21T08:05:06.726Z"
   },
   {
    "duration": 9,
    "start_time": "2025-04-21T08:05:06.772Z"
   },
   {
    "duration": 19,
    "start_time": "2025-04-21T08:05:06.783Z"
   },
   {
    "duration": 15,
    "start_time": "2025-04-21T08:05:06.803Z"
   },
   {
    "duration": 6,
    "start_time": "2025-04-21T08:05:06.838Z"
   },
   {
    "duration": 10,
    "start_time": "2025-04-21T08:05:06.846Z"
   },
   {
    "duration": 23,
    "start_time": "2025-04-21T08:05:06.858Z"
   },
   {
    "duration": 15,
    "start_time": "2025-04-21T08:05:06.883Z"
   },
   {
    "duration": 67,
    "start_time": "2025-04-21T08:05:06.899Z"
   },
   {
    "duration": 13,
    "start_time": "2025-04-21T08:05:06.968Z"
   },
   {
    "duration": 23,
    "start_time": "2025-04-21T08:05:06.983Z"
   },
   {
    "duration": 35,
    "start_time": "2025-04-21T08:05:07.008Z"
   },
   {
    "duration": 9,
    "start_time": "2025-04-21T08:05:07.044Z"
   },
   {
    "duration": 16,
    "start_time": "2025-04-21T08:05:07.055Z"
   },
   {
    "duration": 22,
    "start_time": "2025-04-21T08:05:07.073Z"
   },
   {
    "duration": 20,
    "start_time": "2025-04-21T08:05:07.097Z"
   },
   {
    "duration": 17,
    "start_time": "2025-04-21T08:05:07.119Z"
   },
   {
    "duration": 83,
    "start_time": "2025-04-21T08:05:07.137Z"
   },
   {
    "duration": 21,
    "start_time": "2025-04-21T08:05:07.222Z"
   },
   {
    "duration": 73,
    "start_time": "2025-04-21T08:05:07.244Z"
   },
   {
    "duration": 138,
    "start_time": "2025-04-21T08:05:07.321Z"
   },
   {
    "duration": 178,
    "start_time": "2025-04-21T08:05:07.461Z"
   },
   {
    "duration": 11,
    "start_time": "2025-04-21T08:05:07.641Z"
   },
   {
    "duration": 233,
    "start_time": "2025-04-21T08:05:07.654Z"
   },
   {
    "duration": 13,
    "start_time": "2025-04-21T08:05:07.889Z"
   },
   {
    "duration": 189,
    "start_time": "2025-04-21T08:05:07.903Z"
   },
   {
    "duration": 6,
    "start_time": "2025-04-21T08:05:08.094Z"
   },
   {
    "duration": 154,
    "start_time": "2025-04-21T08:05:08.102Z"
   },
   {
    "duration": 15,
    "start_time": "2025-04-21T08:05:08.258Z"
   },
   {
    "duration": 2,
    "start_time": "2025-04-21T08:05:08.274Z"
   },
   {
    "duration": 204,
    "start_time": "2025-04-21T08:05:08.278Z"
   },
   {
    "duration": 9,
    "start_time": "2025-04-21T08:05:08.483Z"
   },
   {
    "duration": 205,
    "start_time": "2025-04-21T08:05:08.493Z"
   },
   {
    "duration": 129,
    "start_time": "2025-04-21T08:05:08.699Z"
   },
   {
    "duration": 11,
    "start_time": "2025-04-21T08:05:08.829Z"
   },
   {
    "duration": 444,
    "start_time": "2025-04-21T08:05:08.842Z"
   },
   {
    "duration": 9,
    "start_time": "2025-04-21T08:05:09.287Z"
   },
   {
    "duration": 242,
    "start_time": "2025-04-21T08:05:09.298Z"
   },
   {
    "duration": 7,
    "start_time": "2025-04-21T08:05:09.542Z"
   },
   {
    "duration": 351,
    "start_time": "2025-04-21T08:05:09.550Z"
   },
   {
    "duration": 197,
    "start_time": "2025-04-21T08:05:09.903Z"
   },
   {
    "duration": 249,
    "start_time": "2025-04-21T08:05:10.102Z"
   },
   {
    "duration": 263,
    "start_time": "2025-04-21T08:05:10.353Z"
   },
   {
    "duration": 576,
    "start_time": "2025-04-21T08:05:10.618Z"
   },
   {
    "duration": 5,
    "start_time": "2025-04-21T08:05:11.196Z"
   },
   {
    "duration": 256,
    "start_time": "2025-04-21T08:05:11.202Z"
   },
   {
    "duration": 190,
    "start_time": "2025-04-21T08:05:11.459Z"
   },
   {
    "duration": 33,
    "start_time": "2025-04-21T08:05:11.651Z"
   },
   {
    "duration": 377,
    "start_time": "2025-04-21T08:05:11.686Z"
   },
   {
    "duration": 103,
    "start_time": "2025-04-21T08:08:59.944Z"
   },
   {
    "duration": 120,
    "start_time": "2025-04-21T08:09:05.262Z"
   },
   {
    "duration": 13,
    "start_time": "2025-04-21T08:09:36.036Z"
   },
   {
    "duration": 186,
    "start_time": "2025-04-21T08:12:15.493Z"
   },
   {
    "duration": 262,
    "start_time": "2025-04-21T08:12:39.451Z"
   },
   {
    "duration": 603,
    "start_time": "2025-04-21T08:14:29.735Z"
   },
   {
    "duration": 222,
    "start_time": "2025-04-21T08:14:33.620Z"
   },
   {
    "duration": 6,
    "start_time": "2025-04-21T08:14:37.395Z"
   },
   {
    "duration": 212,
    "start_time": "2025-04-21T08:14:49.455Z"
   },
   {
    "duration": 223,
    "start_time": "2025-04-21T08:16:42.890Z"
   },
   {
    "duration": 366,
    "start_time": "2025-04-21T08:17:04.011Z"
   },
   {
    "duration": 385,
    "start_time": "2025-04-21T08:24:29.697Z"
   },
   {
    "duration": 350,
    "start_time": "2025-04-21T08:37:11.219Z"
   },
   {
    "duration": 66,
    "start_time": "2025-04-21T08:40:13.550Z"
   },
   {
    "duration": 65,
    "start_time": "2025-04-21T08:40:33.995Z"
   },
   {
    "duration": 68,
    "start_time": "2025-04-21T08:40:40.081Z"
   },
   {
    "duration": 216,
    "start_time": "2025-04-21T08:40:52.889Z"
   },
   {
    "duration": 228,
    "start_time": "2025-04-21T08:41:18.519Z"
   },
   {
    "duration": 213,
    "start_time": "2025-04-21T08:41:24.856Z"
   },
   {
    "duration": 211,
    "start_time": "2025-04-21T08:41:57.994Z"
   },
   {
    "duration": 579,
    "start_time": "2025-04-21T08:42:51.734Z"
   },
   {
    "duration": 298,
    "start_time": "2025-04-21T08:44:29.054Z"
   },
   {
    "duration": 309,
    "start_time": "2025-04-21T08:44:51.041Z"
   },
   {
    "duration": 340,
    "start_time": "2025-04-21T08:45:09.550Z"
   },
   {
    "duration": 17,
    "start_time": "2025-04-21T08:45:53.293Z"
   },
   {
    "duration": 16,
    "start_time": "2025-04-21T08:46:08.110Z"
   },
   {
    "duration": 77,
    "start_time": "2025-04-21T08:46:27.032Z"
   },
   {
    "duration": 70,
    "start_time": "2025-04-21T08:46:41.258Z"
   },
   {
    "duration": 80,
    "start_time": "2025-04-21T08:46:59.919Z"
   },
   {
    "duration": 67,
    "start_time": "2025-04-21T08:52:28.098Z"
   },
   {
    "duration": 16,
    "start_time": "2025-04-21T08:52:40.712Z"
   },
   {
    "duration": 16,
    "start_time": "2025-04-21T08:53:00.263Z"
   },
   {
    "duration": 7,
    "start_time": "2025-04-21T08:53:12.467Z"
   },
   {
    "duration": 7,
    "start_time": "2025-04-21T08:53:17.579Z"
   },
   {
    "duration": 19,
    "start_time": "2025-04-21T08:53:27.088Z"
   },
   {
    "duration": 28,
    "start_time": "2025-04-21T08:54:11.472Z"
   },
   {
    "duration": 70,
    "start_time": "2025-04-21T08:56:00.769Z"
   },
   {
    "duration": 1152,
    "start_time": "2025-04-21T08:56:08.425Z"
   },
   {
    "duration": 1051,
    "start_time": "2025-04-21T08:56:38.119Z"
   },
   {
    "duration": 358,
    "start_time": "2025-04-21T08:56:56.176Z"
   },
   {
    "duration": 67,
    "start_time": "2025-04-21T09:14:54.450Z"
   },
   {
    "duration": 71,
    "start_time": "2025-04-21T09:14:59.854Z"
   },
   {
    "duration": 381,
    "start_time": "2025-04-21T09:15:17.133Z"
   },
   {
    "duration": 103,
    "start_time": "2025-04-21T09:16:11.626Z"
   },
   {
    "duration": 341,
    "start_time": "2025-04-21T09:16:16.962Z"
   },
   {
    "duration": 400,
    "start_time": "2025-04-21T09:16:38.092Z"
   },
   {
    "duration": 329,
    "start_time": "2025-04-21T09:17:19.217Z"
   },
   {
    "duration": 71,
    "start_time": "2025-04-21T09:19:40.737Z"
   },
   {
    "duration": 429,
    "start_time": "2025-04-21T09:20:02.686Z"
   },
   {
    "duration": 532,
    "start_time": "2025-04-21T09:21:14.012Z"
   },
   {
    "duration": 12,
    "start_time": "2025-04-21T09:31:53.327Z"
   },
   {
    "duration": 125,
    "start_time": "2025-04-21T09:32:02.648Z"
   },
   {
    "duration": 3505,
    "start_time": "2025-04-21T10:32:28.151Z"
   },
   {
    "duration": 288,
    "start_time": "2025-04-21T10:32:31.658Z"
   },
   {
    "duration": 15,
    "start_time": "2025-04-21T10:32:31.947Z"
   },
   {
    "duration": 25,
    "start_time": "2025-04-21T10:32:31.963Z"
   },
   {
    "duration": 17,
    "start_time": "2025-04-21T10:32:31.990Z"
   },
   {
    "duration": 10,
    "start_time": "2025-04-21T10:32:32.009Z"
   },
   {
    "duration": 9,
    "start_time": "2025-04-21T10:32:32.021Z"
   },
   {
    "duration": 13,
    "start_time": "2025-04-21T10:32:32.031Z"
   },
   {
    "duration": 3,
    "start_time": "2025-04-21T10:32:32.045Z"
   },
   {
    "duration": 6,
    "start_time": "2025-04-21T10:32:32.050Z"
   },
   {
    "duration": 34,
    "start_time": "2025-04-21T10:32:32.057Z"
   },
   {
    "duration": 9,
    "start_time": "2025-04-21T10:32:32.092Z"
   },
   {
    "duration": 4,
    "start_time": "2025-04-21T10:32:32.103Z"
   },
   {
    "duration": 7,
    "start_time": "2025-04-21T10:32:32.109Z"
   },
   {
    "duration": 8,
    "start_time": "2025-04-21T10:32:32.117Z"
   },
   {
    "duration": 8,
    "start_time": "2025-04-21T10:32:32.126Z"
   },
   {
    "duration": 21,
    "start_time": "2025-04-21T10:32:32.135Z"
   },
   {
    "duration": 16,
    "start_time": "2025-04-21T10:32:32.157Z"
   },
   {
    "duration": 19,
    "start_time": "2025-04-21T10:32:32.175Z"
   },
   {
    "duration": 93,
    "start_time": "2025-04-21T10:32:32.195Z"
   },
   {
    "duration": 73,
    "start_time": "2025-04-21T10:32:32.289Z"
   },
   {
    "duration": 7,
    "start_time": "2025-04-21T10:32:32.364Z"
   },
   {
    "duration": 11,
    "start_time": "2025-04-21T10:32:32.372Z"
   },
   {
    "duration": 33,
    "start_time": "2025-04-21T10:32:32.384Z"
   },
   {
    "duration": 19,
    "start_time": "2025-04-21T10:32:32.418Z"
   },
   {
    "duration": 17,
    "start_time": "2025-04-21T10:32:32.439Z"
   },
   {
    "duration": 39,
    "start_time": "2025-04-21T10:32:32.457Z"
   },
   {
    "duration": 19,
    "start_time": "2025-04-21T10:32:32.498Z"
   },
   {
    "duration": 36,
    "start_time": "2025-04-21T10:32:32.519Z"
   },
   {
    "duration": 12,
    "start_time": "2025-04-21T10:32:32.556Z"
   },
   {
    "duration": 62,
    "start_time": "2025-04-21T10:32:32.569Z"
   },
   {
    "duration": 25,
    "start_time": "2025-04-21T10:32:32.632Z"
   },
   {
    "duration": 8,
    "start_time": "2025-04-21T10:32:32.659Z"
   },
   {
    "duration": 58,
    "start_time": "2025-04-21T10:32:32.669Z"
   },
   {
    "duration": 90,
    "start_time": "2025-04-21T10:32:32.729Z"
   },
   {
    "duration": 23,
    "start_time": "2025-04-21T10:32:32.820Z"
   },
   {
    "duration": 4,
    "start_time": "2025-04-21T10:32:32.844Z"
   },
   {
    "duration": 16,
    "start_time": "2025-04-21T10:32:32.849Z"
   },
   {
    "duration": 45,
    "start_time": "2025-04-21T10:32:32.866Z"
   },
   {
    "duration": 31,
    "start_time": "2025-04-21T10:32:32.913Z"
   },
   {
    "duration": 10,
    "start_time": "2025-04-21T10:32:32.947Z"
   },
   {
    "duration": 165,
    "start_time": "2025-04-21T10:32:32.959Z"
   },
   {
    "duration": 9,
    "start_time": "2025-04-21T10:32:33.125Z"
   },
   {
    "duration": 199,
    "start_time": "2025-04-21T10:32:33.136Z"
   },
   {
    "duration": 12,
    "start_time": "2025-04-21T10:32:33.337Z"
   },
   {
    "duration": 161,
    "start_time": "2025-04-21T10:32:33.361Z"
   },
   {
    "duration": 7,
    "start_time": "2025-04-21T10:32:33.524Z"
   },
   {
    "duration": 148,
    "start_time": "2025-04-21T10:32:33.533Z"
   },
   {
    "duration": 13,
    "start_time": "2025-04-21T10:32:33.683Z"
   },
   {
    "duration": 55,
    "start_time": "2025-04-21T10:32:33.698Z"
   },
   {
    "duration": 157,
    "start_time": "2025-04-21T10:32:33.755Z"
   },
   {
    "duration": 9,
    "start_time": "2025-04-21T10:32:33.913Z"
   },
   {
    "duration": 186,
    "start_time": "2025-04-21T10:32:33.924Z"
   },
   {
    "duration": 116,
    "start_time": "2025-04-21T10:32:34.112Z"
   },
   {
    "duration": 9,
    "start_time": "2025-04-21T10:32:34.230Z"
   },
   {
    "duration": 447,
    "start_time": "2025-04-21T10:32:34.241Z"
   },
   {
    "duration": 8,
    "start_time": "2025-04-21T10:32:34.689Z"
   },
   {
    "duration": 176,
    "start_time": "2025-04-21T10:32:34.699Z"
   },
   {
    "duration": 6,
    "start_time": "2025-04-21T10:32:34.877Z"
   },
   {
    "duration": 255,
    "start_time": "2025-04-21T10:32:34.884Z"
   },
   {
    "duration": 173,
    "start_time": "2025-04-21T10:32:35.140Z"
   },
   {
    "duration": 194,
    "start_time": "2025-04-21T10:32:35.314Z"
   },
   {
    "duration": 252,
    "start_time": "2025-04-21T10:32:35.510Z"
   },
   {
    "duration": 518,
    "start_time": "2025-04-21T10:32:35.763Z"
   },
   {
    "duration": 5,
    "start_time": "2025-04-21T10:32:36.283Z"
   },
   {
    "duration": 262,
    "start_time": "2025-04-21T10:32:36.289Z"
   },
   {
    "duration": 314,
    "start_time": "2025-04-21T10:32:36.553Z"
   },
   {
    "duration": 25,
    "start_time": "2025-04-21T10:32:36.869Z"
   },
   {
    "duration": 385,
    "start_time": "2025-04-21T10:32:36.896Z"
   },
   {
    "duration": 3481,
    "start_time": "2025-04-21T10:34:02.998Z"
   },
   {
    "duration": 270,
    "start_time": "2025-04-21T10:34:06.481Z"
   },
   {
    "duration": 14,
    "start_time": "2025-04-21T10:34:06.753Z"
   },
   {
    "duration": 57,
    "start_time": "2025-04-21T10:34:06.769Z"
   },
   {
    "duration": 10,
    "start_time": "2025-04-21T10:34:06.827Z"
   },
   {
    "duration": 25,
    "start_time": "2025-04-21T10:34:06.838Z"
   },
   {
    "duration": 14,
    "start_time": "2025-04-21T10:34:06.865Z"
   },
   {
    "duration": 33,
    "start_time": "2025-04-21T10:34:06.881Z"
   },
   {
    "duration": 4,
    "start_time": "2025-04-21T10:34:06.915Z"
   },
   {
    "duration": 4,
    "start_time": "2025-04-21T10:34:06.921Z"
   },
   {
    "duration": 10,
    "start_time": "2025-04-21T10:34:06.926Z"
   },
   {
    "duration": 16,
    "start_time": "2025-04-21T10:34:06.937Z"
   },
   {
    "duration": 11,
    "start_time": "2025-04-21T10:34:06.955Z"
   },
   {
    "duration": 9,
    "start_time": "2025-04-21T10:34:06.967Z"
   },
   {
    "duration": 30,
    "start_time": "2025-04-21T10:34:06.977Z"
   },
   {
    "duration": 17,
    "start_time": "2025-04-21T10:34:07.008Z"
   },
   {
    "duration": 38,
    "start_time": "2025-04-21T10:34:07.027Z"
   },
   {
    "duration": 18,
    "start_time": "2025-04-21T10:34:07.067Z"
   },
   {
    "duration": 19,
    "start_time": "2025-04-21T10:34:07.086Z"
   },
   {
    "duration": 19,
    "start_time": "2025-04-21T10:34:07.106Z"
   },
   {
    "duration": 53,
    "start_time": "2025-04-21T10:34:07.126Z"
   },
   {
    "duration": 15,
    "start_time": "2025-04-21T10:34:07.181Z"
   },
   {
    "duration": 10,
    "start_time": "2025-04-21T10:34:07.197Z"
   },
   {
    "duration": 22,
    "start_time": "2025-04-21T10:34:07.208Z"
   },
   {
    "duration": 6,
    "start_time": "2025-04-21T10:34:07.231Z"
   },
   {
    "duration": 21,
    "start_time": "2025-04-21T10:34:07.238Z"
   },
   {
    "duration": 10,
    "start_time": "2025-04-21T10:34:07.260Z"
   },
   {
    "duration": 12,
    "start_time": "2025-04-21T10:34:07.273Z"
   },
   {
    "duration": 49,
    "start_time": "2025-04-21T10:34:07.287Z"
   },
   {
    "duration": 11,
    "start_time": "2025-04-21T10:34:07.338Z"
   },
   {
    "duration": 25,
    "start_time": "2025-04-21T10:34:07.351Z"
   },
   {
    "duration": 36,
    "start_time": "2025-04-21T10:34:07.377Z"
   },
   {
    "duration": 21,
    "start_time": "2025-04-21T10:34:07.414Z"
   },
   {
    "duration": 16,
    "start_time": "2025-04-21T10:34:07.437Z"
   },
   {
    "duration": 14,
    "start_time": "2025-04-21T10:34:07.454Z"
   },
   {
    "duration": 17,
    "start_time": "2025-04-21T10:34:07.469Z"
   },
   {
    "duration": 10,
    "start_time": "2025-04-21T10:34:07.488Z"
   },
   {
    "duration": 13,
    "start_time": "2025-04-21T10:34:07.500Z"
   },
   {
    "duration": 20,
    "start_time": "2025-04-21T10:34:07.515Z"
   },
   {
    "duration": 18,
    "start_time": "2025-04-21T10:34:07.536Z"
   },
   {
    "duration": 17,
    "start_time": "2025-04-21T10:34:07.555Z"
   },
   {
    "duration": 163,
    "start_time": "2025-04-21T10:34:07.573Z"
   },
   {
    "duration": 9,
    "start_time": "2025-04-21T10:34:07.738Z"
   },
   {
    "duration": 216,
    "start_time": "2025-04-21T10:34:07.748Z"
   },
   {
    "duration": 13,
    "start_time": "2025-04-21T10:34:07.965Z"
   },
   {
    "duration": 163,
    "start_time": "2025-04-21T10:34:07.979Z"
   },
   {
    "duration": 6,
    "start_time": "2025-04-21T10:34:08.143Z"
   },
   {
    "duration": 134,
    "start_time": "2025-04-21T10:34:08.150Z"
   },
   {
    "duration": 12,
    "start_time": "2025-04-21T10:34:08.285Z"
   },
   {
    "duration": 49,
    "start_time": "2025-04-21T10:34:08.298Z"
   },
   {
    "duration": 152,
    "start_time": "2025-04-21T10:34:08.348Z"
   },
   {
    "duration": 8,
    "start_time": "2025-04-21T10:34:08.502Z"
   },
   {
    "duration": 183,
    "start_time": "2025-04-21T10:34:08.511Z"
   },
   {
    "duration": 112,
    "start_time": "2025-04-21T10:34:08.696Z"
   },
   {
    "duration": 7,
    "start_time": "2025-04-21T10:34:08.809Z"
   },
   {
    "duration": 373,
    "start_time": "2025-04-21T10:34:08.817Z"
   },
   {
    "duration": 7,
    "start_time": "2025-04-21T10:34:09.192Z"
   },
   {
    "duration": 182,
    "start_time": "2025-04-21T10:34:09.200Z"
   },
   {
    "duration": 6,
    "start_time": "2025-04-21T10:34:09.384Z"
   },
   {
    "duration": 346,
    "start_time": "2025-04-21T10:34:09.391Z"
   },
   {
    "duration": 225,
    "start_time": "2025-04-21T10:34:09.738Z"
   },
   {
    "duration": 242,
    "start_time": "2025-04-21T10:34:09.965Z"
   },
   {
    "duration": 354,
    "start_time": "2025-04-21T10:34:10.208Z"
   },
   {
    "duration": 519,
    "start_time": "2025-04-21T10:34:10.564Z"
   },
   {
    "duration": 5,
    "start_time": "2025-04-21T10:34:11.084Z"
   },
   {
    "duration": 211,
    "start_time": "2025-04-21T10:34:11.091Z"
   },
   {
    "duration": 306,
    "start_time": "2025-04-21T10:34:11.303Z"
   },
   {
    "duration": 24,
    "start_time": "2025-04-21T10:34:11.610Z"
   },
   {
    "duration": 396,
    "start_time": "2025-04-21T10:34:11.635Z"
   },
   {
    "duration": 5205,
    "start_time": "2025-10-21T07:51:54.531Z"
   },
   {
    "duration": 258,
    "start_time": "2025-10-21T07:51:59.738Z"
   },
   {
    "duration": 17,
    "start_time": "2025-10-21T07:51:59.998Z"
   },
   {
    "duration": 73,
    "start_time": "2025-10-21T07:52:00.018Z"
   },
   {
    "duration": 30,
    "start_time": "2025-10-21T07:52:00.092Z"
   },
   {
    "duration": 40,
    "start_time": "2025-10-21T07:52:00.124Z"
   },
   {
    "duration": 36,
    "start_time": "2025-10-21T07:52:00.166Z"
   },
   {
    "duration": 22,
    "start_time": "2025-10-21T07:52:00.204Z"
   },
   {
    "duration": 5,
    "start_time": "2025-10-21T07:52:00.228Z"
   },
   {
    "duration": 64,
    "start_time": "2025-10-21T07:52:00.235Z"
   },
   {
    "duration": 52,
    "start_time": "2025-10-21T07:52:00.301Z"
   },
   {
    "duration": 11,
    "start_time": "2025-10-21T07:52:00.355Z"
   },
   {
    "duration": 21,
    "start_time": "2025-10-21T07:52:00.368Z"
   },
   {
    "duration": 9,
    "start_time": "2025-10-21T07:52:00.391Z"
   },
   {
    "duration": 22,
    "start_time": "2025-10-21T07:52:00.402Z"
   },
   {
    "duration": 32,
    "start_time": "2025-10-21T07:52:00.426Z"
   },
   {
    "duration": 25,
    "start_time": "2025-10-21T07:52:00.460Z"
   },
   {
    "duration": 26,
    "start_time": "2025-10-21T07:52:00.487Z"
   },
   {
    "duration": 50,
    "start_time": "2025-10-21T07:52:00.514Z"
   },
   {
    "duration": 24,
    "start_time": "2025-10-21T07:52:00.567Z"
   },
   {
    "duration": 62,
    "start_time": "2025-10-21T07:52:00.593Z"
   },
   {
    "duration": 11,
    "start_time": "2025-10-21T07:52:00.657Z"
   },
   {
    "duration": 77,
    "start_time": "2025-10-21T07:52:00.670Z"
   },
   {
    "duration": 33,
    "start_time": "2025-10-21T07:52:00.749Z"
   },
   {
    "duration": 12,
    "start_time": "2025-10-21T07:52:00.783Z"
   },
   {
    "duration": 11,
    "start_time": "2025-10-21T07:52:00.797Z"
   },
   {
    "duration": 45,
    "start_time": "2025-10-21T07:52:00.809Z"
   },
   {
    "duration": 17,
    "start_time": "2025-10-21T07:52:00.859Z"
   },
   {
    "duration": 66,
    "start_time": "2025-10-21T07:52:00.878Z"
   },
   {
    "duration": 51,
    "start_time": "2025-10-21T07:52:00.946Z"
   },
   {
    "duration": 107,
    "start_time": "2025-10-21T07:52:00.998Z"
   },
   {
    "duration": 21,
    "start_time": "2025-10-21T07:52:01.107Z"
   },
   {
    "duration": 7,
    "start_time": "2025-10-21T07:52:01.130Z"
   },
   {
    "duration": 49,
    "start_time": "2025-10-21T07:52:01.139Z"
   },
   {
    "duration": 18,
    "start_time": "2025-10-21T07:52:01.191Z"
   },
   {
    "duration": 7,
    "start_time": "2025-10-21T07:52:01.211Z"
   },
   {
    "duration": 98,
    "start_time": "2025-10-21T07:52:01.219Z"
   },
   {
    "duration": 40,
    "start_time": "2025-10-21T07:52:01.319Z"
   },
   {
    "duration": 57,
    "start_time": "2025-10-21T07:52:01.361Z"
   },
   {
    "duration": 60,
    "start_time": "2025-10-21T07:52:01.420Z"
   },
   {
    "duration": 37,
    "start_time": "2025-10-21T07:52:01.482Z"
   },
   {
    "duration": 279,
    "start_time": "2025-10-21T07:52:01.520Z"
   },
   {
    "duration": 11,
    "start_time": "2025-10-21T07:52:01.801Z"
   },
   {
    "duration": 252,
    "start_time": "2025-10-21T07:52:01.814Z"
   },
   {
    "duration": 15,
    "start_time": "2025-10-21T07:52:02.069Z"
   },
   {
    "duration": 234,
    "start_time": "2025-10-21T07:52:02.086Z"
   },
   {
    "duration": 8,
    "start_time": "2025-10-21T07:52:02.322Z"
   },
   {
    "duration": 181,
    "start_time": "2025-10-21T07:52:02.340Z"
   },
   {
    "duration": 30,
    "start_time": "2025-10-21T07:52:02.522Z"
   },
   {
    "duration": 28,
    "start_time": "2025-10-21T07:52:02.554Z"
   },
   {
    "duration": 203,
    "start_time": "2025-10-21T07:52:02.584Z"
   },
   {
    "duration": 10,
    "start_time": "2025-10-21T07:52:02.788Z"
   },
   {
    "duration": 252,
    "start_time": "2025-10-21T07:52:02.800Z"
   },
   {
    "duration": 142,
    "start_time": "2025-10-21T07:52:03.054Z"
   },
   {
    "duration": 9,
    "start_time": "2025-10-21T07:52:03.198Z"
   },
   {
    "duration": 509,
    "start_time": "2025-10-21T07:52:03.209Z"
   },
   {
    "duration": 8,
    "start_time": "2025-10-21T07:52:03.720Z"
   },
   {
    "duration": 231,
    "start_time": "2025-10-21T07:52:03.740Z"
   },
   {
    "duration": 9,
    "start_time": "2025-10-21T07:52:03.973Z"
   },
   {
    "duration": 376,
    "start_time": "2025-10-21T07:52:03.985Z"
   },
   {
    "duration": 229,
    "start_time": "2025-10-21T07:52:04.362Z"
   },
   {
    "duration": 232,
    "start_time": "2025-10-21T07:52:04.593Z"
   },
   {
    "duration": 316,
    "start_time": "2025-10-21T07:52:04.839Z"
   },
   {
    "duration": 679,
    "start_time": "2025-10-21T07:52:05.158Z"
   },
   {
    "duration": 7,
    "start_time": "2025-10-21T07:52:05.841Z"
   },
   {
    "duration": 321,
    "start_time": "2025-10-21T07:52:05.850Z"
   },
   {
    "duration": 381,
    "start_time": "2025-10-21T07:52:06.173Z"
   },
   {
    "duration": 32,
    "start_time": "2025-10-21T07:52:06.556Z"
   },
   {
    "duration": 525,
    "start_time": "2025-10-21T07:52:06.590Z"
   }
  ],
  "colab": {
   "provenance": []
  },
  "kernelspec": {
   "display_name": "Python 3 (ipykernel)",
   "language": "python",
   "name": "python3"
  },
  "language_info": {
   "codemirror_mode": {
    "name": "ipython",
    "version": 3
   },
   "file_extension": ".py",
   "mimetype": "text/x-python",
   "name": "python",
   "nbconvert_exporter": "python",
   "pygments_lexer": "ipython3",
   "version": "3.9.5"
  },
  "toc": {
   "base_numbering": 1,
   "nav_menu": {},
   "number_sections": false,
   "sideBar": true,
   "skip_h1_title": true,
   "title_cell": "Table of Contents",
   "title_sidebar": "Contents",
   "toc_cell": false,
   "toc_position": {
    "height": "calc(100% - 180px)",
    "left": "10px",
    "top": "150px",
    "width": "260.375px"
   },
   "toc_section_display": true,
   "toc_window_display": true
  }
 },
 "nbformat": 4,
 "nbformat_minor": 5
}
