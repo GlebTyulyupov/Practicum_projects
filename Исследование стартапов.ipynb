{
 "cells": [
  {
   "cell_type": "markdown",
   "metadata": {
    "id": "4mJbK1knrJgz"
   },
   "source": [
    "# Исследование стартапов"
   ]
  },
  {
   "cell_type": "markdown",
   "metadata": {
    "id": "P6j0r3worJg0"
   },
   "source": [
    "## Введение\n",
    "\n",
    "- Автор: Тюлюпов Глеб\n",
    "- Дата: 25.04.2025"
   ]
  },
  {
   "cell_type": "markdown",
   "metadata": {},
   "source": [
    "### Цели и задачи проекта\n",
    "\n",
    "**Цель:** Проведение исследовательского анализа набора датасетов, содержащих информацию о покупке стартапов, подготовка ответетов на вопросы заказчика, как о предобработке, так и о значении данных для бизнеса.   \n",
    "\n",
    "**Задачи:**\n",
    "1. Знакомство с данными: загрузка и первичная предобработка, в том числе:\n",
    "     - вывод общей информации, исправление названия столбцов.\n",
    "     - смена типов и анализ пропусков.\n",
    "2. Предобработка данных, предварительное исследование, в том числе:\n",
    "     - оценка раундов финансирования по годам;\n",
    "     - поиск зависимости ли полноты сведений о сотрудниках от размера компаний;\n",
    "     - оценка возможности объединения данных;\n",
    "     - предобработка датасета company_and_rounds.csv.\n",
    "3. Исследовательский анализ объединённых таблиц, в том числе:\n",
    "    - объединение данных и выявление компаний, которые меняли или готовы менять владельцев;\n",
    "    - анализ выбросов размера средств, который предоставлялся компаниям;\n",
    "    - исследование компаний, которые были проданы за ноль или за один доллар;\n",
    "    - выявление категорий стартапов с типично высокими ценами покупки стартапов и значительным разбросом цен;\n",
    "    - анализ типичного количества раундов для каждого возможного статуса стартапа.\n",
    "    \n",
    "4. Формулирование выводов и рекомендаций по проведённому анализу."
   ]
  },
  {
   "cell_type": "markdown",
   "metadata": {},
   "source": [
    "### Содержимое проекта\n",
    "\n",
    " Проект включает в себя следующие основные этапы:\n",
    "   1. Знакомство с данными: загрузка и первичная предобработка.\n",
    "   2. Предобработка данных, предварительное исследование.\n",
    "   3. Исследовательский анализ объединённых таблиц.\n",
    "   4. Итоговый вывод и рекомендации."
   ]
  },
  {
   "cell_type": "markdown",
   "metadata": {
    "id": "xqr6uttCrJg0"
   },
   "source": [
    "\n",
    "## Шаг 1. Знакомство с данными: загрузка и первичная предобработка\n",
    "\n",
    "\n",
    "### 1.1. Вывод общей информации, исправление названия столбцов\n"
   ]
  },
  {
   "cell_type": "markdown",
   "metadata": {
    "colab": {
     "base_uri": "https://localhost:8080/"
    },
    "id": "W_W4jRazrJg0",
    "outputId": "d2409aad-233f-4bb4-ec71-7da96594f9df",
    "vscode": {
     "languageId": "plaintext"
    }
   },
   "source": [
    "Начнём с загрузки необходимых библиотек. Будем использовать `pandas` и библиотеки визуализации данных `matplotlib` и `seaborn`."
   ]
  },
  {
   "cell_type": "code",
   "execution_count": 1,
   "metadata": {
    "id": "2Tm4Pk__Felf"
   },
   "outputs": [],
   "source": [
    "# Импортируем библиотеку pandas\n",
    "import pandas as pd\n",
    "\n",
    "# Загружаем библиотеки для визуализации данных\n",
    "import matplotlib.pyplot as plt\n",
    "import seaborn as sns"
   ]
  },
  {
   "cell_type": "markdown",
   "metadata": {},
   "source": [
    "Далее выгрузим датасеты с данными, в том числе датасеты: \n",
    " - company_and_rounds.csv;\n",
    " - acquisition.csv;\n",
    " - people.csv;\n",
    " - education.csv;\n",
    " - degrees.csv.\n",
    " \n",
    "Данные датасетов сохраним в  переменных:\n",
    " - comp_df;\n",
    " - acq_df;\n",
    " - people_df;\n",
    " - education_df;\n",
    " - degrees_df."
   ]
  },
  {
   "cell_type": "code",
   "execution_count": 2,
   "metadata": {},
   "outputs": [],
   "source": [
    "# Задаём константу\n",
    "PATH = \"https://code.s3.yandex.net/datasets/\"\n",
    "\n",
    "# Выгружаем данные датасетов в переменные\n",
    "\n",
    "comp_df=pd.read_csv(PATH +'company_and_rounds.csv')\n",
    "acq_df=pd.read_csv(PATH +'acquisition.csv')\n",
    "people_df=pd.read_csv(PATH + 'people.csv')\n",
    "education_df=pd.read_csv(PATH + 'education.csv')\n",
    "degrees_df=pd.read_csv(PATH + 'degrees.csv')"
   ]
  },
  {
   "cell_type": "markdown",
   "metadata": {},
   "source": [
    "Далее познакомимся с данными и изучим общую информацию о них. Для этого выгрузим первые двадцать строк датасета `company_and_rounds.csv` методом `head()`. Также изучим общую информацию о датафрейме с помощью метода `info()`."
   ]
  },
  {
   "cell_type": "code",
   "execution_count": 3,
   "metadata": {},
   "outputs": [
    {
     "data": {
      "text/html": [
       "<div>\n",
       "<style scoped>\n",
       "    .dataframe tbody tr th:only-of-type {\n",
       "        vertical-align: middle;\n",
       "    }\n",
       "\n",
       "    .dataframe tbody tr th {\n",
       "        vertical-align: top;\n",
       "    }\n",
       "\n",
       "    .dataframe thead th {\n",
       "        text-align: right;\n",
       "    }\n",
       "</style>\n",
       "<table border=\"1\" class=\"dataframe\">\n",
       "  <thead>\n",
       "    <tr style=\"text-align: right;\">\n",
       "      <th></th>\n",
       "      <th>company  ID</th>\n",
       "      <th>name</th>\n",
       "      <th>category  code</th>\n",
       "      <th>status</th>\n",
       "      <th>founded  at</th>\n",
       "      <th>closed  at</th>\n",
       "      <th>domain</th>\n",
       "      <th>network  username</th>\n",
       "      <th>country  code</th>\n",
       "      <th>investment  rounds</th>\n",
       "      <th>...</th>\n",
       "      <th>milestones</th>\n",
       "      <th>funding  round  id</th>\n",
       "      <th>company  id</th>\n",
       "      <th>funded  at</th>\n",
       "      <th>funding  round  type</th>\n",
       "      <th>raised  amount</th>\n",
       "      <th>pre  money  valuation</th>\n",
       "      <th>participants</th>\n",
       "      <th>is  first  round</th>\n",
       "      <th>is  last  round</th>\n",
       "    </tr>\n",
       "  </thead>\n",
       "  <tbody>\n",
       "    <tr>\n",
       "      <th>0</th>\n",
       "      <td>1.0</td>\n",
       "      <td>Wetpaint</td>\n",
       "      <td>web</td>\n",
       "      <td>operating</td>\n",
       "      <td>2005-10-17</td>\n",
       "      <td>NaN</td>\n",
       "      <td>wetpaint-inc.com</td>\n",
       "      <td>BachelrWetpaint</td>\n",
       "      <td>USA</td>\n",
       "      <td>0.0</td>\n",
       "      <td>...</td>\n",
       "      <td>5.0</td>\n",
       "      <td>888.0</td>\n",
       "      <td>1.0</td>\n",
       "      <td>2005-10-01</td>\n",
       "      <td>series-a</td>\n",
       "      <td>5250000.0</td>\n",
       "      <td>0.0</td>\n",
       "      <td>2.0</td>\n",
       "      <td>0.0</td>\n",
       "      <td>1.0</td>\n",
       "    </tr>\n",
       "    <tr>\n",
       "      <th>1</th>\n",
       "      <td>1.0</td>\n",
       "      <td>Wetpaint</td>\n",
       "      <td>web</td>\n",
       "      <td>operating</td>\n",
       "      <td>2005-10-17</td>\n",
       "      <td>NaN</td>\n",
       "      <td>wetpaint-inc.com</td>\n",
       "      <td>BachelrWetpaint</td>\n",
       "      <td>USA</td>\n",
       "      <td>0.0</td>\n",
       "      <td>...</td>\n",
       "      <td>5.0</td>\n",
       "      <td>889.0</td>\n",
       "      <td>1.0</td>\n",
       "      <td>2007-01-01</td>\n",
       "      <td>series-b</td>\n",
       "      <td>9500000.0</td>\n",
       "      <td>0.0</td>\n",
       "      <td>3.0</td>\n",
       "      <td>0.0</td>\n",
       "      <td>0.0</td>\n",
       "    </tr>\n",
       "    <tr>\n",
       "      <th>2</th>\n",
       "      <td>1.0</td>\n",
       "      <td>Wetpaint</td>\n",
       "      <td>web</td>\n",
       "      <td>operating</td>\n",
       "      <td>2005-10-17</td>\n",
       "      <td>NaN</td>\n",
       "      <td>wetpaint-inc.com</td>\n",
       "      <td>BachelrWetpaint</td>\n",
       "      <td>USA</td>\n",
       "      <td>0.0</td>\n",
       "      <td>...</td>\n",
       "      <td>5.0</td>\n",
       "      <td>2312.0</td>\n",
       "      <td>1.0</td>\n",
       "      <td>2008-05-19</td>\n",
       "      <td>series-c+</td>\n",
       "      <td>25000000.0</td>\n",
       "      <td>0.0</td>\n",
       "      <td>4.0</td>\n",
       "      <td>1.0</td>\n",
       "      <td>0.0</td>\n",
       "    </tr>\n",
       "    <tr>\n",
       "      <th>3</th>\n",
       "      <td>10.0</td>\n",
       "      <td>Flektor</td>\n",
       "      <td>games_video</td>\n",
       "      <td>acquired</td>\n",
       "      <td>NaN</td>\n",
       "      <td>NaN</td>\n",
       "      <td>flektor.com</td>\n",
       "      <td>NaN</td>\n",
       "      <td>USA</td>\n",
       "      <td>0.0</td>\n",
       "      <td>...</td>\n",
       "      <td>0.0</td>\n",
       "      <td>NaN</td>\n",
       "      <td>NaN</td>\n",
       "      <td>NaN</td>\n",
       "      <td>NaN</td>\n",
       "      <td>NaN</td>\n",
       "      <td>NaN</td>\n",
       "      <td>NaN</td>\n",
       "      <td>NaN</td>\n",
       "      <td>NaN</td>\n",
       "    </tr>\n",
       "    <tr>\n",
       "      <th>4</th>\n",
       "      <td>100.0</td>\n",
       "      <td>There</td>\n",
       "      <td>games_video</td>\n",
       "      <td>acquired</td>\n",
       "      <td>NaN</td>\n",
       "      <td>NaN</td>\n",
       "      <td>there.com</td>\n",
       "      <td>NaN</td>\n",
       "      <td>USA</td>\n",
       "      <td>0.0</td>\n",
       "      <td>...</td>\n",
       "      <td>4.0</td>\n",
       "      <td>NaN</td>\n",
       "      <td>NaN</td>\n",
       "      <td>NaN</td>\n",
       "      <td>NaN</td>\n",
       "      <td>NaN</td>\n",
       "      <td>NaN</td>\n",
       "      <td>NaN</td>\n",
       "      <td>NaN</td>\n",
       "      <td>NaN</td>\n",
       "    </tr>\n",
       "    <tr>\n",
       "      <th>5</th>\n",
       "      <td>10000.0</td>\n",
       "      <td>MYWEBBO</td>\n",
       "      <td>network_hosting</td>\n",
       "      <td>operating</td>\n",
       "      <td>2008-07-26</td>\n",
       "      <td>NaN</td>\n",
       "      <td>mywebbo.com</td>\n",
       "      <td>NaN</td>\n",
       "      <td>NaN</td>\n",
       "      <td>0.0</td>\n",
       "      <td>...</td>\n",
       "      <td>0.0</td>\n",
       "      <td>NaN</td>\n",
       "      <td>NaN</td>\n",
       "      <td>NaN</td>\n",
       "      <td>NaN</td>\n",
       "      <td>NaN</td>\n",
       "      <td>NaN</td>\n",
       "      <td>NaN</td>\n",
       "      <td>NaN</td>\n",
       "      <td>NaN</td>\n",
       "    </tr>\n",
       "    <tr>\n",
       "      <th>6</th>\n",
       "      <td>10001.0</td>\n",
       "      <td>THE Movie Streamer</td>\n",
       "      <td>games_video</td>\n",
       "      <td>operating</td>\n",
       "      <td>2008-07-26</td>\n",
       "      <td>NaN</td>\n",
       "      <td>themoviestreamer.com</td>\n",
       "      <td>NaN</td>\n",
       "      <td>NaN</td>\n",
       "      <td>0.0</td>\n",
       "      <td>...</td>\n",
       "      <td>0.0</td>\n",
       "      <td>NaN</td>\n",
       "      <td>NaN</td>\n",
       "      <td>NaN</td>\n",
       "      <td>NaN</td>\n",
       "      <td>NaN</td>\n",
       "      <td>NaN</td>\n",
       "      <td>NaN</td>\n",
       "      <td>NaN</td>\n",
       "      <td>NaN</td>\n",
       "    </tr>\n",
       "    <tr>\n",
       "      <th>7</th>\n",
       "      <td>10002.0</td>\n",
       "      <td>Synergie Media</td>\n",
       "      <td>advertising</td>\n",
       "      <td>operating</td>\n",
       "      <td>2007-06-27</td>\n",
       "      <td>NaN</td>\n",
       "      <td>synergie-media.com</td>\n",
       "      <td>NaN</td>\n",
       "      <td>MAR</td>\n",
       "      <td>0.0</td>\n",
       "      <td>...</td>\n",
       "      <td>0.0</td>\n",
       "      <td>NaN</td>\n",
       "      <td>NaN</td>\n",
       "      <td>NaN</td>\n",
       "      <td>NaN</td>\n",
       "      <td>NaN</td>\n",
       "      <td>NaN</td>\n",
       "      <td>NaN</td>\n",
       "      <td>NaN</td>\n",
       "      <td>NaN</td>\n",
       "    </tr>\n",
       "    <tr>\n",
       "      <th>8</th>\n",
       "      <td>10003.0</td>\n",
       "      <td>Green Basti Ecosystems</td>\n",
       "      <td>cleantech</td>\n",
       "      <td>operating</td>\n",
       "      <td>2008-08-20</td>\n",
       "      <td>NaN</td>\n",
       "      <td>NaN</td>\n",
       "      <td>NaN</td>\n",
       "      <td>IND</td>\n",
       "      <td>0.0</td>\n",
       "      <td>...</td>\n",
       "      <td>0.0</td>\n",
       "      <td>NaN</td>\n",
       "      <td>NaN</td>\n",
       "      <td>NaN</td>\n",
       "      <td>NaN</td>\n",
       "      <td>NaN</td>\n",
       "      <td>NaN</td>\n",
       "      <td>NaN</td>\n",
       "      <td>NaN</td>\n",
       "      <td>NaN</td>\n",
       "    </tr>\n",
       "    <tr>\n",
       "      <th>9</th>\n",
       "      <td>100042.0</td>\n",
       "      <td>HostNine</td>\n",
       "      <td>NaN</td>\n",
       "      <td>operating</td>\n",
       "      <td>NaN</td>\n",
       "      <td>NaN</td>\n",
       "      <td>hostnine.com</td>\n",
       "      <td>Hostnine</td>\n",
       "      <td>NaN</td>\n",
       "      <td>0.0</td>\n",
       "      <td>...</td>\n",
       "      <td>1.0</td>\n",
       "      <td>NaN</td>\n",
       "      <td>NaN</td>\n",
       "      <td>NaN</td>\n",
       "      <td>NaN</td>\n",
       "      <td>NaN</td>\n",
       "      <td>NaN</td>\n",
       "      <td>NaN</td>\n",
       "      <td>NaN</td>\n",
       "      <td>NaN</td>\n",
       "    </tr>\n",
       "    <tr>\n",
       "      <th>10</th>\n",
       "      <td>10005.0</td>\n",
       "      <td>Thomas Publishing</td>\n",
       "      <td>advertising</td>\n",
       "      <td>operating</td>\n",
       "      <td>NaN</td>\n",
       "      <td>NaN</td>\n",
       "      <td>thomaspublishing.com</td>\n",
       "      <td>NaN</td>\n",
       "      <td>USA</td>\n",
       "      <td>0.0</td>\n",
       "      <td>...</td>\n",
       "      <td>1.0</td>\n",
       "      <td>NaN</td>\n",
       "      <td>NaN</td>\n",
       "      <td>NaN</td>\n",
       "      <td>NaN</td>\n",
       "      <td>NaN</td>\n",
       "      <td>NaN</td>\n",
       "      <td>NaN</td>\n",
       "      <td>NaN</td>\n",
       "      <td>NaN</td>\n",
       "    </tr>\n",
       "    <tr>\n",
       "      <th>11</th>\n",
       "      <td>100062.0</td>\n",
       "      <td>Vetter Idea Management System</td>\n",
       "      <td>enterprise</td>\n",
       "      <td>operating</td>\n",
       "      <td>2011-08-01</td>\n",
       "      <td>NaN</td>\n",
       "      <td>getvetter.com</td>\n",
       "      <td>getvetter</td>\n",
       "      <td>NaN</td>\n",
       "      <td>0.0</td>\n",
       "      <td>...</td>\n",
       "      <td>1.0</td>\n",
       "      <td>NaN</td>\n",
       "      <td>NaN</td>\n",
       "      <td>NaN</td>\n",
       "      <td>NaN</td>\n",
       "      <td>NaN</td>\n",
       "      <td>NaN</td>\n",
       "      <td>NaN</td>\n",
       "      <td>NaN</td>\n",
       "      <td>NaN</td>\n",
       "    </tr>\n",
       "    <tr>\n",
       "      <th>12</th>\n",
       "      <td>100068.0</td>\n",
       "      <td>ChatRandom</td>\n",
       "      <td>games_video</td>\n",
       "      <td>operating</td>\n",
       "      <td>2011-02-01</td>\n",
       "      <td>NaN</td>\n",
       "      <td>chatrandom.com</td>\n",
       "      <td>chatrandom</td>\n",
       "      <td>NaN</td>\n",
       "      <td>0.0</td>\n",
       "      <td>...</td>\n",
       "      <td>1.0</td>\n",
       "      <td>NaN</td>\n",
       "      <td>NaN</td>\n",
       "      <td>NaN</td>\n",
       "      <td>NaN</td>\n",
       "      <td>NaN</td>\n",
       "      <td>NaN</td>\n",
       "      <td>NaN</td>\n",
       "      <td>NaN</td>\n",
       "      <td>NaN</td>\n",
       "    </tr>\n",
       "    <tr>\n",
       "      <th>13</th>\n",
       "      <td>10008.0</td>\n",
       "      <td>ScapadasAmorosas</td>\n",
       "      <td>other</td>\n",
       "      <td>operating</td>\n",
       "      <td>2007-03-01</td>\n",
       "      <td>NaN</td>\n",
       "      <td>scapadasamorosas.com</td>\n",
       "      <td>NaN</td>\n",
       "      <td>NaN</td>\n",
       "      <td>0.0</td>\n",
       "      <td>...</td>\n",
       "      <td>0.0</td>\n",
       "      <td>NaN</td>\n",
       "      <td>NaN</td>\n",
       "      <td>NaN</td>\n",
       "      <td>NaN</td>\n",
       "      <td>NaN</td>\n",
       "      <td>NaN</td>\n",
       "      <td>NaN</td>\n",
       "      <td>NaN</td>\n",
       "      <td>NaN</td>\n",
       "    </tr>\n",
       "    <tr>\n",
       "      <th>14</th>\n",
       "      <td>10009.0</td>\n",
       "      <td>dimension5 labs</td>\n",
       "      <td>advertising</td>\n",
       "      <td>operating</td>\n",
       "      <td>2008-08-01</td>\n",
       "      <td>NaN</td>\n",
       "      <td>d5labs.com</td>\n",
       "      <td>NaN</td>\n",
       "      <td>USA</td>\n",
       "      <td>0.0</td>\n",
       "      <td>...</td>\n",
       "      <td>1.0</td>\n",
       "      <td>NaN</td>\n",
       "      <td>NaN</td>\n",
       "      <td>NaN</td>\n",
       "      <td>NaN</td>\n",
       "      <td>NaN</td>\n",
       "      <td>NaN</td>\n",
       "      <td>NaN</td>\n",
       "      <td>NaN</td>\n",
       "      <td>NaN</td>\n",
       "    </tr>\n",
       "    <tr>\n",
       "      <th>15</th>\n",
       "      <td>1001.0</td>\n",
       "      <td>FriendFeed</td>\n",
       "      <td>web</td>\n",
       "      <td>acquired</td>\n",
       "      <td>2007-10-01</td>\n",
       "      <td>NaN</td>\n",
       "      <td>friendfeed.com</td>\n",
       "      <td>friendfeed</td>\n",
       "      <td>USA</td>\n",
       "      <td>0.0</td>\n",
       "      <td>...</td>\n",
       "      <td>3.0</td>\n",
       "      <td>1644.0</td>\n",
       "      <td>1001.0</td>\n",
       "      <td>2008-02-26</td>\n",
       "      <td>series-a</td>\n",
       "      <td>5000000.0</td>\n",
       "      <td>0.0</td>\n",
       "      <td>3.0</td>\n",
       "      <td>1.0</td>\n",
       "      <td>1.0</td>\n",
       "    </tr>\n",
       "    <tr>\n",
       "      <th>16</th>\n",
       "      <td>10010.0</td>\n",
       "      <td>Whooligan</td>\n",
       "      <td>games_video</td>\n",
       "      <td>operating</td>\n",
       "      <td>2007-12-01</td>\n",
       "      <td>NaN</td>\n",
       "      <td>whooligan.com</td>\n",
       "      <td>NaN</td>\n",
       "      <td>NaN</td>\n",
       "      <td>0.0</td>\n",
       "      <td>...</td>\n",
       "      <td>0.0</td>\n",
       "      <td>NaN</td>\n",
       "      <td>NaN</td>\n",
       "      <td>NaN</td>\n",
       "      <td>NaN</td>\n",
       "      <td>NaN</td>\n",
       "      <td>NaN</td>\n",
       "      <td>NaN</td>\n",
       "      <td>NaN</td>\n",
       "      <td>NaN</td>\n",
       "    </tr>\n",
       "    <tr>\n",
       "      <th>17</th>\n",
       "      <td>10011.0</td>\n",
       "      <td>PoetryVisualized.com</td>\n",
       "      <td>games_video</td>\n",
       "      <td>operating</td>\n",
       "      <td>2008-01-01</td>\n",
       "      <td>NaN</td>\n",
       "      <td>poetryvisualized.com</td>\n",
       "      <td>NaN</td>\n",
       "      <td>USA</td>\n",
       "      <td>0.0</td>\n",
       "      <td>...</td>\n",
       "      <td>1.0</td>\n",
       "      <td>NaN</td>\n",
       "      <td>NaN</td>\n",
       "      <td>NaN</td>\n",
       "      <td>NaN</td>\n",
       "      <td>NaN</td>\n",
       "      <td>NaN</td>\n",
       "      <td>NaN</td>\n",
       "      <td>NaN</td>\n",
       "      <td>NaN</td>\n",
       "    </tr>\n",
       "    <tr>\n",
       "      <th>18</th>\n",
       "      <td>10012.0</td>\n",
       "      <td>moviestring.com</td>\n",
       "      <td>games_video</td>\n",
       "      <td>closed</td>\n",
       "      <td>2008-08-22</td>\n",
       "      <td>2010-01-01</td>\n",
       "      <td>moviestring.com</td>\n",
       "      <td>NaN</td>\n",
       "      <td>NaN</td>\n",
       "      <td>0.0</td>\n",
       "      <td>...</td>\n",
       "      <td>0.0</td>\n",
       "      <td>NaN</td>\n",
       "      <td>NaN</td>\n",
       "      <td>NaN</td>\n",
       "      <td>NaN</td>\n",
       "      <td>NaN</td>\n",
       "      <td>NaN</td>\n",
       "      <td>NaN</td>\n",
       "      <td>NaN</td>\n",
       "      <td>NaN</td>\n",
       "    </tr>\n",
       "    <tr>\n",
       "      <th>19</th>\n",
       "      <td>10013.0</td>\n",
       "      <td>The Adory</td>\n",
       "      <td>consulting</td>\n",
       "      <td>operating</td>\n",
       "      <td>2008-01-01</td>\n",
       "      <td>NaN</td>\n",
       "      <td>theadory.com</td>\n",
       "      <td>the_adory</td>\n",
       "      <td>NaN</td>\n",
       "      <td>0.0</td>\n",
       "      <td>...</td>\n",
       "      <td>0.0</td>\n",
       "      <td>NaN</td>\n",
       "      <td>NaN</td>\n",
       "      <td>NaN</td>\n",
       "      <td>NaN</td>\n",
       "      <td>NaN</td>\n",
       "      <td>NaN</td>\n",
       "      <td>NaN</td>\n",
       "      <td>NaN</td>\n",
       "      <td>NaN</td>\n",
       "    </tr>\n",
       "  </tbody>\n",
       "</table>\n",
       "<p>20 rows × 22 columns</p>\n",
       "</div>"
      ],
      "text/plain": [
       "    company  ID                           name   category  code     status  \\\n",
       "0           1.0                       Wetpaint              web  operating   \n",
       "1           1.0                       Wetpaint              web  operating   \n",
       "2           1.0                       Wetpaint              web  operating   \n",
       "3          10.0                        Flektor      games_video   acquired   \n",
       "4         100.0                          There      games_video   acquired   \n",
       "5       10000.0                        MYWEBBO  network_hosting  operating   \n",
       "6       10001.0             THE Movie Streamer      games_video  operating   \n",
       "7       10002.0                 Synergie Media      advertising  operating   \n",
       "8       10003.0         Green Basti Ecosystems        cleantech  operating   \n",
       "9      100042.0                       HostNine              NaN  operating   \n",
       "10      10005.0              Thomas Publishing      advertising  operating   \n",
       "11     100062.0  Vetter Idea Management System       enterprise  operating   \n",
       "12     100068.0                     ChatRandom      games_video  operating   \n",
       "13      10008.0               ScapadasAmorosas            other  operating   \n",
       "14      10009.0                dimension5 labs      advertising  operating   \n",
       "15       1001.0                     FriendFeed              web   acquired   \n",
       "16      10010.0                      Whooligan      games_video  operating   \n",
       "17      10011.0           PoetryVisualized.com      games_video  operating   \n",
       "18      10012.0                moviestring.com      games_video     closed   \n",
       "19      10013.0                      The Adory       consulting  operating   \n",
       "\n",
       "   founded  at  closed  at                domain network  username  \\\n",
       "0   2005-10-17         NaN      wetpaint-inc.com   BachelrWetpaint   \n",
       "1   2005-10-17         NaN      wetpaint-inc.com   BachelrWetpaint   \n",
       "2   2005-10-17         NaN      wetpaint-inc.com   BachelrWetpaint   \n",
       "3          NaN         NaN           flektor.com               NaN   \n",
       "4          NaN         NaN             there.com               NaN   \n",
       "5   2008-07-26         NaN           mywebbo.com               NaN   \n",
       "6   2008-07-26         NaN  themoviestreamer.com               NaN   \n",
       "7   2007-06-27         NaN    synergie-media.com               NaN   \n",
       "8   2008-08-20         NaN                   NaN               NaN   \n",
       "9          NaN         NaN          hostnine.com          Hostnine   \n",
       "10         NaN         NaN  thomaspublishing.com               NaN   \n",
       "11  2011-08-01         NaN         getvetter.com         getvetter   \n",
       "12  2011-02-01         NaN        chatrandom.com        chatrandom   \n",
       "13  2007-03-01         NaN  scapadasamorosas.com               NaN   \n",
       "14  2008-08-01         NaN            d5labs.com               NaN   \n",
       "15  2007-10-01         NaN        friendfeed.com        friendfeed   \n",
       "16  2007-12-01         NaN         whooligan.com               NaN   \n",
       "17  2008-01-01         NaN  poetryvisualized.com               NaN   \n",
       "18  2008-08-22  2010-01-01       moviestring.com               NaN   \n",
       "19  2008-01-01         NaN          theadory.com         the_adory   \n",
       "\n",
       "   country  code  investment  rounds  ...  milestones  funding  round  id  \\\n",
       "0            USA                 0.0  ...         5.0               888.0   \n",
       "1            USA                 0.0  ...         5.0               889.0   \n",
       "2            USA                 0.0  ...         5.0              2312.0   \n",
       "3            USA                 0.0  ...         0.0                 NaN   \n",
       "4            USA                 0.0  ...         4.0                 NaN   \n",
       "5            NaN                 0.0  ...         0.0                 NaN   \n",
       "6            NaN                 0.0  ...         0.0                 NaN   \n",
       "7            MAR                 0.0  ...         0.0                 NaN   \n",
       "8            IND                 0.0  ...         0.0                 NaN   \n",
       "9            NaN                 0.0  ...         1.0                 NaN   \n",
       "10           USA                 0.0  ...         1.0                 NaN   \n",
       "11           NaN                 0.0  ...         1.0                 NaN   \n",
       "12           NaN                 0.0  ...         1.0                 NaN   \n",
       "13           NaN                 0.0  ...         0.0                 NaN   \n",
       "14           USA                 0.0  ...         1.0                 NaN   \n",
       "15           USA                 0.0  ...         3.0              1644.0   \n",
       "16           NaN                 0.0  ...         0.0                 NaN   \n",
       "17           USA                 0.0  ...         1.0                 NaN   \n",
       "18           NaN                 0.0  ...         0.0                 NaN   \n",
       "19           NaN                 0.0  ...         0.0                 NaN   \n",
       "\n",
       "    company  id  funded  at  funding  round  type raised  amount  \\\n",
       "0           1.0  2005-10-01              series-a      5250000.0   \n",
       "1           1.0  2007-01-01              series-b      9500000.0   \n",
       "2           1.0  2008-05-19             series-c+     25000000.0   \n",
       "3           NaN         NaN                   NaN            NaN   \n",
       "4           NaN         NaN                   NaN            NaN   \n",
       "5           NaN         NaN                   NaN            NaN   \n",
       "6           NaN         NaN                   NaN            NaN   \n",
       "7           NaN         NaN                   NaN            NaN   \n",
       "8           NaN         NaN                   NaN            NaN   \n",
       "9           NaN         NaN                   NaN            NaN   \n",
       "10          NaN         NaN                   NaN            NaN   \n",
       "11          NaN         NaN                   NaN            NaN   \n",
       "12          NaN         NaN                   NaN            NaN   \n",
       "13          NaN         NaN                   NaN            NaN   \n",
       "14          NaN         NaN                   NaN            NaN   \n",
       "15       1001.0  2008-02-26              series-a      5000000.0   \n",
       "16          NaN         NaN                   NaN            NaN   \n",
       "17          NaN         NaN                   NaN            NaN   \n",
       "18          NaN         NaN                   NaN            NaN   \n",
       "19          NaN         NaN                   NaN            NaN   \n",
       "\n",
       "   pre  money  valuation  participants  is  first  round  is  last  round  \n",
       "0                    0.0           2.0               0.0              1.0  \n",
       "1                    0.0           3.0               0.0              0.0  \n",
       "2                    0.0           4.0               1.0              0.0  \n",
       "3                    NaN           NaN               NaN              NaN  \n",
       "4                    NaN           NaN               NaN              NaN  \n",
       "5                    NaN           NaN               NaN              NaN  \n",
       "6                    NaN           NaN               NaN              NaN  \n",
       "7                    NaN           NaN               NaN              NaN  \n",
       "8                    NaN           NaN               NaN              NaN  \n",
       "9                    NaN           NaN               NaN              NaN  \n",
       "10                   NaN           NaN               NaN              NaN  \n",
       "11                   NaN           NaN               NaN              NaN  \n",
       "12                   NaN           NaN               NaN              NaN  \n",
       "13                   NaN           NaN               NaN              NaN  \n",
       "14                   NaN           NaN               NaN              NaN  \n",
       "15                   0.0           3.0               1.0              1.0  \n",
       "16                   NaN           NaN               NaN              NaN  \n",
       "17                   NaN           NaN               NaN              NaN  \n",
       "18                   NaN           NaN               NaN              NaN  \n",
       "19                   NaN           NaN               NaN              NaN  \n",
       "\n",
       "[20 rows x 22 columns]"
      ]
     },
     "execution_count": 3,
     "metadata": {},
     "output_type": "execute_result"
    }
   ],
   "source": [
    "#Выведем первые двадцать строк датасета company_and_rounds\n",
    "comp_df.head(20)"
   ]
  },
  {
   "cell_type": "markdown",
   "metadata": {
    "id": "oNqJ2qpRFebv"
   },
   "source": [
    "Далее выведем общую информацию о датасете с помощью метода `info()`."
   ]
  },
  {
   "cell_type": "code",
   "execution_count": 4,
   "metadata": {},
   "outputs": [
    {
     "name": "stdout",
     "output_type": "stream",
     "text": [
      "<class 'pandas.core.frame.DataFrame'>\n",
      "RangeIndex: 217774 entries, 0 to 217773\n",
      "Data columns (total 22 columns):\n",
      " #   Column                 Non-Null Count   Dtype  \n",
      "---  ------                 --------------   -----  \n",
      " 0   company  ID            217472 non-null  float64\n",
      " 1   name                   217472 non-null  object \n",
      " 2   category  code         143886 non-null  object \n",
      " 3   status                 217472 non-null  object \n",
      " 4   founded  at            109956 non-null  object \n",
      " 5   closed  at             3449 non-null    object \n",
      " 6   domain                 147159 non-null  object \n",
      " 7   network  username      95534 non-null   object \n",
      " 8   country  code          108607 non-null  object \n",
      " 9   investment  rounds     217472 non-null  float64\n",
      " 10  funding  rounds        217472 non-null  float64\n",
      " 11  funding  total         217472 non-null  float64\n",
      " 12  milestones             217472 non-null  float64\n",
      " 13  funding  round  id     52928 non-null   float64\n",
      " 14  company  id            52928 non-null   float64\n",
      " 15  funded  at             52680 non-null   object \n",
      " 16  funding  round  type   52928 non-null   object \n",
      " 17  raised  amount         52928 non-null   float64\n",
      " 18  pre  money  valuation  52928 non-null   float64\n",
      " 19  participants           52928 non-null   float64\n",
      " 20  is  first  round       52928 non-null   float64\n",
      " 21  is  last  round        52928 non-null   float64\n",
      "dtypes: float64(12), object(10)\n",
      "memory usage: 36.6+ MB\n"
     ]
    }
   ],
   "source": [
    "# Выведем информацию о датафрейме comp_df с помощью метода info()\n",
    "comp_df.info()"
   ]
  },
  {
   "cell_type": "markdown",
   "metadata": {},
   "source": [
    "Дополнительно выведем первые пять строк для столбцов funding rounds,funding total, не отобразившихся в прошлой выгрузке."
   ]
  },
  {
   "cell_type": "code",
   "execution_count": 5,
   "metadata": {},
   "outputs": [
    {
     "data": {
      "text/html": [
       "<div>\n",
       "<style scoped>\n",
       "    .dataframe tbody tr th:only-of-type {\n",
       "        vertical-align: middle;\n",
       "    }\n",
       "\n",
       "    .dataframe tbody tr th {\n",
       "        vertical-align: top;\n",
       "    }\n",
       "\n",
       "    .dataframe thead th {\n",
       "        text-align: right;\n",
       "    }\n",
       "</style>\n",
       "<table border=\"1\" class=\"dataframe\">\n",
       "  <thead>\n",
       "    <tr style=\"text-align: right;\">\n",
       "      <th></th>\n",
       "      <th>funding  rounds</th>\n",
       "      <th>funding  total</th>\n",
       "    </tr>\n",
       "  </thead>\n",
       "  <tbody>\n",
       "    <tr>\n",
       "      <th>0</th>\n",
       "      <td>3.0</td>\n",
       "      <td>39750000.0</td>\n",
       "    </tr>\n",
       "    <tr>\n",
       "      <th>1</th>\n",
       "      <td>3.0</td>\n",
       "      <td>39750000.0</td>\n",
       "    </tr>\n",
       "    <tr>\n",
       "      <th>2</th>\n",
       "      <td>3.0</td>\n",
       "      <td>39750000.0</td>\n",
       "    </tr>\n",
       "    <tr>\n",
       "      <th>3</th>\n",
       "      <td>0.0</td>\n",
       "      <td>0.0</td>\n",
       "    </tr>\n",
       "    <tr>\n",
       "      <th>4</th>\n",
       "      <td>0.0</td>\n",
       "      <td>0.0</td>\n",
       "    </tr>\n",
       "    <tr>\n",
       "      <th>5</th>\n",
       "      <td>0.0</td>\n",
       "      <td>0.0</td>\n",
       "    </tr>\n",
       "    <tr>\n",
       "      <th>6</th>\n",
       "      <td>0.0</td>\n",
       "      <td>0.0</td>\n",
       "    </tr>\n",
       "    <tr>\n",
       "      <th>7</th>\n",
       "      <td>0.0</td>\n",
       "      <td>0.0</td>\n",
       "    </tr>\n",
       "    <tr>\n",
       "      <th>8</th>\n",
       "      <td>0.0</td>\n",
       "      <td>0.0</td>\n",
       "    </tr>\n",
       "    <tr>\n",
       "      <th>9</th>\n",
       "      <td>0.0</td>\n",
       "      <td>0.0</td>\n",
       "    </tr>\n",
       "    <tr>\n",
       "      <th>10</th>\n",
       "      <td>0.0</td>\n",
       "      <td>0.0</td>\n",
       "    </tr>\n",
       "    <tr>\n",
       "      <th>11</th>\n",
       "      <td>0.0</td>\n",
       "      <td>0.0</td>\n",
       "    </tr>\n",
       "    <tr>\n",
       "      <th>12</th>\n",
       "      <td>0.0</td>\n",
       "      <td>0.0</td>\n",
       "    </tr>\n",
       "    <tr>\n",
       "      <th>13</th>\n",
       "      <td>0.0</td>\n",
       "      <td>0.0</td>\n",
       "    </tr>\n",
       "    <tr>\n",
       "      <th>14</th>\n",
       "      <td>0.0</td>\n",
       "      <td>0.0</td>\n",
       "    </tr>\n",
       "    <tr>\n",
       "      <th>15</th>\n",
       "      <td>1.0</td>\n",
       "      <td>5000000.0</td>\n",
       "    </tr>\n",
       "    <tr>\n",
       "      <th>16</th>\n",
       "      <td>0.0</td>\n",
       "      <td>0.0</td>\n",
       "    </tr>\n",
       "    <tr>\n",
       "      <th>17</th>\n",
       "      <td>0.0</td>\n",
       "      <td>0.0</td>\n",
       "    </tr>\n",
       "    <tr>\n",
       "      <th>18</th>\n",
       "      <td>0.0</td>\n",
       "      <td>0.0</td>\n",
       "    </tr>\n",
       "    <tr>\n",
       "      <th>19</th>\n",
       "      <td>0.0</td>\n",
       "      <td>0.0</td>\n",
       "    </tr>\n",
       "  </tbody>\n",
       "</table>\n",
       "</div>"
      ],
      "text/plain": [
       "    funding  rounds  funding  total\n",
       "0               3.0      39750000.0\n",
       "1               3.0      39750000.0\n",
       "2               3.0      39750000.0\n",
       "3               0.0             0.0\n",
       "4               0.0             0.0\n",
       "5               0.0             0.0\n",
       "6               0.0             0.0\n",
       "7               0.0             0.0\n",
       "8               0.0             0.0\n",
       "9               0.0             0.0\n",
       "10              0.0             0.0\n",
       "11              0.0             0.0\n",
       "12              0.0             0.0\n",
       "13              0.0             0.0\n",
       "14              0.0             0.0\n",
       "15              1.0       5000000.0\n",
       "16              0.0             0.0\n",
       "17              0.0             0.0\n",
       "18              0.0             0.0\n",
       "19              0.0             0.0"
      ]
     },
     "execution_count": 5,
     "metadata": {},
     "output_type": "execute_result"
    }
   ],
   "source": [
    "#Выведем первые двадцать строк funding  rounds и funding  total\n",
    "comp_df[['funding  rounds','funding  total']].head(20)"
   ]
  },
  {
   "cell_type": "markdown",
   "metadata": {},
   "source": [
    "Датасет `company_and_rounds.csv` содержит 22 столбца и 217 774 строк, в которых представлена информация о компаниях и раундах финансирования.\n",
    "\n",
    "После первичного анализа данных можно сделать следующие выводы:\n",
    "\n",
    " - Два столбца имеют аналогичные названия, отличающиеся только разрядностью -  `company  ID` и `company  id`, что может быть связано с тем, что столбец `company  ID` относится к общей информации о компании, в то время как `company  id` относится к информации о раундах финансирования. Изменим название столбца `company  id` на `company  id_fund`. \n",
    "\n",
    " - Названия столбцов необходимо привести к формату `snake_case`, в том числе заменить пробелы между словами на символ `_`, а также понизив разрядность в названии столбца `company  ID`.\n",
    "\n",
    " - Cтолбцы `name`, `category`,  `code`, `status`, `domain`, `network username`, `country code`, `funding round type` содержат текстовую информацию, в связи с чем текущий для них формат `object` является оптимальным.\n",
    " \n",
    " - Для столбцов `founded  at`, `closed  at`, `funded  at` оптимальным вариантом будет привести данные к формату `datetime64`.\n",
    " \n",
    " - Столбцы  `company  ID`, `investment  rounds`, `funding  rounds`, `funding  total`, `milestones`, `funding  round  id,` `funding  round  id`, `company  id`,  `raised  amount`, `pre  money  valuation`, `participants` содержат данные в формате `float64`. Для данных столбцов оптиальным вариантом будет привести данные к формату `integer`. Однако данные столбцы содержат пропуски, которые необходимо предварительно обработать.\n",
    " \n",
    " - Столбцы `is  first  round`, `is  last  round` содержат информацию в формате `float64`, однако оптимальным вариантом будет привести их к формату `bool`."
   ]
  },
  {
   "cell_type": "markdown",
   "metadata": {},
   "source": [
    "Переименуем столбец `company  id`."
   ]
  },
  {
   "cell_type": "code",
   "execution_count": 6,
   "metadata": {},
   "outputs": [],
   "source": [
    "#Переименуем столбец company  id\n",
    "comp_df.rename(columns={'company  id':'company  id_fund'}, inplace=True)"
   ]
  },
  {
   "cell_type": "markdown",
   "metadata": {},
   "source": [
    "Приведём названия столбцов к формату `snake_case`"
   ]
  },
  {
   "cell_type": "code",
   "execution_count": 7,
   "metadata": {},
   "outputs": [],
   "source": [
    "# Приведём названия столбцов к нижнему регистру\n",
    "comp_df.columns=comp_df.columns.str.lower()\n",
    "#Удалим лишние пробелы\n",
    "comp_df.columns=comp_df.columns.str.replace('  ', ' ')\n",
    "#Заменим пробелы в названиях на '_'\n",
    "comp_df.columns=comp_df.columns.str.replace(' ', '_')"
   ]
  },
  {
   "cell_type": "markdown",
   "metadata": {},
   "source": [
    "Выведем результат выполненных преобразований."
   ]
  },
  {
   "cell_type": "code",
   "execution_count": 8,
   "metadata": {},
   "outputs": [
    {
     "data": {
      "text/plain": [
       "Index(['company_id', 'name', 'category_code', 'status', 'founded_at',\n",
       "       'closed_at', 'domain', 'network_username', 'country_code',\n",
       "       'investment_rounds', 'funding_rounds', 'funding_total', 'milestones',\n",
       "       'funding_round_id', 'company_id_fund', 'funded_at',\n",
       "       'funding_round_type', 'raised_amount', 'pre_money_valuation',\n",
       "       'participants', 'is_first_round', 'is_last_round'],\n",
       "      dtype='object')"
      ]
     },
     "execution_count": 8,
     "metadata": {},
     "output_type": "execute_result"
    }
   ],
   "source": [
    "#Выведем скорректированные названия столбцов\n",
    "comp_df.columns"
   ]
  },
  {
   "cell_type": "markdown",
   "metadata": {},
   "source": [
    "  Как видно из выгрузки все столбцы датасета содержат пропуски. При этом столбцы `company  ID`, `name, status`, `investment  rounds`, `funding  rounds`, `funding  total`,  `milestones` содержат одинаковое количество пропусков - по 302. Также совпадает количество пропусков для столбцов `funding  round  id`, `company  id`, `funding  round  type`, `raised  amount`, `pre  money  valuation`, `participants`,  `is  first  round`, `is  last  round` - 164 846. \n",
    "  \n",
    "  Подробнее пропуски данного датасета будут изучены в разделе 2.4."
   ]
  },
  {
   "cell_type": "markdown",
   "metadata": {},
   "source": [
    "Далее аналогичным образом рассмотрим датасет `acquisition.csv`."
   ]
  },
  {
   "cell_type": "code",
   "execution_count": 9,
   "metadata": {},
   "outputs": [
    {
     "data": {
      "text/html": [
       "<div>\n",
       "<style scoped>\n",
       "    .dataframe tbody tr th:only-of-type {\n",
       "        vertical-align: middle;\n",
       "    }\n",
       "\n",
       "    .dataframe tbody tr th {\n",
       "        vertical-align: top;\n",
       "    }\n",
       "\n",
       "    .dataframe thead th {\n",
       "        text-align: right;\n",
       "    }\n",
       "</style>\n",
       "<table border=\"1\" class=\"dataframe\">\n",
       "  <thead>\n",
       "    <tr style=\"text-align: right;\">\n",
       "      <th></th>\n",
       "      <th>id</th>\n",
       "      <th>acquiring_company_id</th>\n",
       "      <th>acquired_company_id</th>\n",
       "      <th>term_code</th>\n",
       "      <th>price_amount</th>\n",
       "      <th>acquired_at</th>\n",
       "    </tr>\n",
       "  </thead>\n",
       "  <tbody>\n",
       "    <tr>\n",
       "      <th>0</th>\n",
       "      <td>1</td>\n",
       "      <td>11</td>\n",
       "      <td>10</td>\n",
       "      <td>NaN</td>\n",
       "      <td>20000000</td>\n",
       "      <td>2007-05-30</td>\n",
       "    </tr>\n",
       "    <tr>\n",
       "      <th>1</th>\n",
       "      <td>7</td>\n",
       "      <td>59</td>\n",
       "      <td>72</td>\n",
       "      <td>cash</td>\n",
       "      <td>60000000</td>\n",
       "      <td>2007-07-01</td>\n",
       "    </tr>\n",
       "    <tr>\n",
       "      <th>2</th>\n",
       "      <td>8</td>\n",
       "      <td>24</td>\n",
       "      <td>132</td>\n",
       "      <td>cash</td>\n",
       "      <td>280000000</td>\n",
       "      <td>2007-05-01</td>\n",
       "    </tr>\n",
       "    <tr>\n",
       "      <th>3</th>\n",
       "      <td>9</td>\n",
       "      <td>59</td>\n",
       "      <td>155</td>\n",
       "      <td>cash</td>\n",
       "      <td>100000000</td>\n",
       "      <td>2007-06-01</td>\n",
       "    </tr>\n",
       "    <tr>\n",
       "      <th>4</th>\n",
       "      <td>10</td>\n",
       "      <td>212</td>\n",
       "      <td>215</td>\n",
       "      <td>cash</td>\n",
       "      <td>25000000</td>\n",
       "      <td>2007-07-01</td>\n",
       "    </tr>\n",
       "    <tr>\n",
       "      <th>5</th>\n",
       "      <td>11</td>\n",
       "      <td>227</td>\n",
       "      <td>228</td>\n",
       "      <td>NaN</td>\n",
       "      <td>7140000</td>\n",
       "      <td>2003-08-05</td>\n",
       "    </tr>\n",
       "    <tr>\n",
       "      <th>6</th>\n",
       "      <td>12</td>\n",
       "      <td>5</td>\n",
       "      <td>230</td>\n",
       "      <td>cash</td>\n",
       "      <td>0</td>\n",
       "      <td>2007-07-01</td>\n",
       "    </tr>\n",
       "    <tr>\n",
       "      <th>7</th>\n",
       "      <td>14</td>\n",
       "      <td>318</td>\n",
       "      <td>314</td>\n",
       "      <td>cash</td>\n",
       "      <td>0</td>\n",
       "      <td>2006-10-01</td>\n",
       "    </tr>\n",
       "    <tr>\n",
       "      <th>8</th>\n",
       "      <td>15</td>\n",
       "      <td>20</td>\n",
       "      <td>333</td>\n",
       "      <td>stock</td>\n",
       "      <td>1500000000</td>\n",
       "      <td>2002-07-08</td>\n",
       "    </tr>\n",
       "    <tr>\n",
       "      <th>9</th>\n",
       "      <td>16</td>\n",
       "      <td>342</td>\n",
       "      <td>341</td>\n",
       "      <td>cash</td>\n",
       "      <td>350000000</td>\n",
       "      <td>2007-08-01</td>\n",
       "    </tr>\n",
       "    <tr>\n",
       "      <th>10</th>\n",
       "      <td>17</td>\n",
       "      <td>24</td>\n",
       "      <td>347</td>\n",
       "      <td>cash</td>\n",
       "      <td>5000000</td>\n",
       "      <td>2007-05-01</td>\n",
       "    </tr>\n",
       "    <tr>\n",
       "      <th>11</th>\n",
       "      <td>18</td>\n",
       "      <td>349</td>\n",
       "      <td>348</td>\n",
       "      <td>cash</td>\n",
       "      <td>13000000</td>\n",
       "      <td>2007-03-01</td>\n",
       "    </tr>\n",
       "    <tr>\n",
       "      <th>12</th>\n",
       "      <td>19</td>\n",
       "      <td>355</td>\n",
       "      <td>354</td>\n",
       "      <td>cash</td>\n",
       "      <td>300000000</td>\n",
       "      <td>2005-04-01</td>\n",
       "    </tr>\n",
       "    <tr>\n",
       "      <th>13</th>\n",
       "      <td>20</td>\n",
       "      <td>377</td>\n",
       "      <td>100</td>\n",
       "      <td>cash</td>\n",
       "      <td>0</td>\n",
       "      <td>2005-05-29</td>\n",
       "    </tr>\n",
       "    <tr>\n",
       "      <th>14</th>\n",
       "      <td>22</td>\n",
       "      <td>351</td>\n",
       "      <td>366</td>\n",
       "      <td>cash_and_stock</td>\n",
       "      <td>40000000</td>\n",
       "      <td>2006-08-14</td>\n",
       "    </tr>\n",
       "    <tr>\n",
       "      <th>15</th>\n",
       "      <td>23</td>\n",
       "      <td>307</td>\n",
       "      <td>306</td>\n",
       "      <td>cash</td>\n",
       "      <td>0</td>\n",
       "      <td>2007-08-07</td>\n",
       "    </tr>\n",
       "    <tr>\n",
       "      <th>16</th>\n",
       "      <td>24</td>\n",
       "      <td>212</td>\n",
       "      <td>394</td>\n",
       "      <td>cash</td>\n",
       "      <td>4100000</td>\n",
       "      <td>2007-08-01</td>\n",
       "    </tr>\n",
       "    <tr>\n",
       "      <th>17</th>\n",
       "      <td>26</td>\n",
       "      <td>499</td>\n",
       "      <td>495</td>\n",
       "      <td>cash</td>\n",
       "      <td>25000</td>\n",
       "      <td>2007-07-01</td>\n",
       "    </tr>\n",
       "    <tr>\n",
       "      <th>18</th>\n",
       "      <td>27</td>\n",
       "      <td>29</td>\n",
       "      <td>528</td>\n",
       "      <td>cash_and_stock</td>\n",
       "      <td>1000000000</td>\n",
       "      <td>2005-08-11</td>\n",
       "    </tr>\n",
       "    <tr>\n",
       "      <th>19</th>\n",
       "      <td>28</td>\n",
       "      <td>29</td>\n",
       "      <td>530</td>\n",
       "      <td>cash</td>\n",
       "      <td>160000000</td>\n",
       "      <td>2004-09-01</td>\n",
       "    </tr>\n",
       "  </tbody>\n",
       "</table>\n",
       "</div>"
      ],
      "text/plain": [
       "    id  acquiring_company_id  acquired_company_id       term_code  \\\n",
       "0    1                    11                   10             NaN   \n",
       "1    7                    59                   72            cash   \n",
       "2    8                    24                  132            cash   \n",
       "3    9                    59                  155            cash   \n",
       "4   10                   212                  215            cash   \n",
       "5   11                   227                  228             NaN   \n",
       "6   12                     5                  230            cash   \n",
       "7   14                   318                  314            cash   \n",
       "8   15                    20                  333           stock   \n",
       "9   16                   342                  341            cash   \n",
       "10  17                    24                  347            cash   \n",
       "11  18                   349                  348            cash   \n",
       "12  19                   355                  354            cash   \n",
       "13  20                   377                  100            cash   \n",
       "14  22                   351                  366  cash_and_stock   \n",
       "15  23                   307                  306            cash   \n",
       "16  24                   212                  394            cash   \n",
       "17  26                   499                  495            cash   \n",
       "18  27                    29                  528  cash_and_stock   \n",
       "19  28                    29                  530            cash   \n",
       "\n",
       "    price_amount acquired_at  \n",
       "0       20000000  2007-05-30  \n",
       "1       60000000  2007-07-01  \n",
       "2      280000000  2007-05-01  \n",
       "3      100000000  2007-06-01  \n",
       "4       25000000  2007-07-01  \n",
       "5        7140000  2003-08-05  \n",
       "6              0  2007-07-01  \n",
       "7              0  2006-10-01  \n",
       "8     1500000000  2002-07-08  \n",
       "9      350000000  2007-08-01  \n",
       "10       5000000  2007-05-01  \n",
       "11      13000000  2007-03-01  \n",
       "12     300000000  2005-04-01  \n",
       "13             0  2005-05-29  \n",
       "14      40000000  2006-08-14  \n",
       "15             0  2007-08-07  \n",
       "16       4100000  2007-08-01  \n",
       "17         25000  2007-07-01  \n",
       "18    1000000000  2005-08-11  \n",
       "19     160000000  2004-09-01  "
      ]
     },
     "execution_count": 9,
     "metadata": {},
     "output_type": "execute_result"
    }
   ],
   "source": [
    "#Выведем первые двадцать строк датасета acquisition\n",
    "acq_df.head(20)"
   ]
  },
  {
   "cell_type": "code",
   "execution_count": 10,
   "metadata": {},
   "outputs": [
    {
     "name": "stdout",
     "output_type": "stream",
     "text": [
      "<class 'pandas.core.frame.DataFrame'>\n",
      "RangeIndex: 9407 entries, 0 to 9406\n",
      "Data columns (total 6 columns):\n",
      " #   Column                Non-Null Count  Dtype \n",
      "---  ------                --------------  ----- \n",
      " 0   id                    9407 non-null   int64 \n",
      " 1   acquiring_company_id  9407 non-null   int64 \n",
      " 2   acquired_company_id   9407 non-null   int64 \n",
      " 3   term_code             1831 non-null   object\n",
      " 4   price_amount          9407 non-null   int64 \n",
      " 5   acquired_at           9378 non-null   object\n",
      "dtypes: int64(4), object(2)\n",
      "memory usage: 441.1+ KB\n"
     ]
    }
   ],
   "source": [
    "# Выведем информацию о датафрейме acq_df с помощью метода info()\n",
    "acq_df.info()"
   ]
  },
  {
   "cell_type": "markdown",
   "metadata": {},
   "source": [
    "Датасет `acquisition.csv` содержит 6 столбцов и 9 407 строк, в которых представлена информация о покупках одними компаниями других компаний.\n",
    "\n",
    "После первичного анализа данных можно сделать следующие выводы:\n",
    "\n",
    " - Названия столбцов уже приведены к оптимальному формату.\n",
    "\n",
    " - Cтолбцы `id`, `acquiring_company_id`,  `acquired_company_id`, `price_amount` содержат информацию в формате `integer`. Для данных столбцов можно оптимизировать разрядность с помощью метода `to_numeric`.\n",
    " \n",
    " - Столбцы `term_code` и `acquired_at` содержат данные в формате `object`. Столбец `term_code` содержит текстовую информацию, однаков предварительно изучив уникальные значения по столбцу, можно привести его к формату `category`. Данные для столбца `acquired_at` можно привести к формату `datetime64`. \n",
    " \n",
    " - Для столбцов `founded  at`, `closed  at`, `funded  at` оптимальным вариантом будет привести данные к формату `datetime64`."
   ]
  },
  {
   "cell_type": "markdown",
   "metadata": {},
   "source": [
    "Далее изучим датасет `people.csv`. Выведем первые 20 строк датасета. "
   ]
  },
  {
   "cell_type": "code",
   "execution_count": 11,
   "metadata": {},
   "outputs": [
    {
     "data": {
      "text/html": [
       "<div>\n",
       "<style scoped>\n",
       "    .dataframe tbody tr th:only-of-type {\n",
       "        vertical-align: middle;\n",
       "    }\n",
       "\n",
       "    .dataframe tbody tr th {\n",
       "        vertical-align: top;\n",
       "    }\n",
       "\n",
       "    .dataframe thead th {\n",
       "        text-align: right;\n",
       "    }\n",
       "</style>\n",
       "<table border=\"1\" class=\"dataframe\">\n",
       "  <thead>\n",
       "    <tr style=\"text-align: right;\">\n",
       "      <th></th>\n",
       "      <th>id</th>\n",
       "      <th>first_name</th>\n",
       "      <th>last_name</th>\n",
       "      <th>company_id</th>\n",
       "      <th>network_username</th>\n",
       "    </tr>\n",
       "  </thead>\n",
       "  <tbody>\n",
       "    <tr>\n",
       "      <th>0</th>\n",
       "      <td>10</td>\n",
       "      <td>Mark</td>\n",
       "      <td>Zuckerberg</td>\n",
       "      <td>5.0</td>\n",
       "      <td>NaN</td>\n",
       "    </tr>\n",
       "    <tr>\n",
       "      <th>1</th>\n",
       "      <td>100</td>\n",
       "      <td>Peter</td>\n",
       "      <td>Lester</td>\n",
       "      <td>27.0</td>\n",
       "      <td>NaN</td>\n",
       "    </tr>\n",
       "    <tr>\n",
       "      <th>2</th>\n",
       "      <td>1000</td>\n",
       "      <td>Dr. Steven</td>\n",
       "      <td>E. Saunders</td>\n",
       "      <td>292.0</td>\n",
       "      <td>NaN</td>\n",
       "    </tr>\n",
       "    <tr>\n",
       "      <th>3</th>\n",
       "      <td>10000</td>\n",
       "      <td>Neil</td>\n",
       "      <td>Capel</td>\n",
       "      <td>2526.0</td>\n",
       "      <td>NaN</td>\n",
       "    </tr>\n",
       "    <tr>\n",
       "      <th>4</th>\n",
       "      <td>100000</td>\n",
       "      <td>Sue</td>\n",
       "      <td>Pilsch</td>\n",
       "      <td>NaN</td>\n",
       "      <td>NaN</td>\n",
       "    </tr>\n",
       "    <tr>\n",
       "      <th>5</th>\n",
       "      <td>100002</td>\n",
       "      <td>Keith</td>\n",
       "      <td>Kurzendoerfer</td>\n",
       "      <td>NaN</td>\n",
       "      <td>NaN</td>\n",
       "    </tr>\n",
       "    <tr>\n",
       "      <th>6</th>\n",
       "      <td>100006</td>\n",
       "      <td>Courtney</td>\n",
       "      <td>Homer</td>\n",
       "      <td>81558.0</td>\n",
       "      <td>jobsbostontech</td>\n",
       "    </tr>\n",
       "    <tr>\n",
       "      <th>7</th>\n",
       "      <td>100009</td>\n",
       "      <td>Eddy</td>\n",
       "      <td>Badrina</td>\n",
       "      <td>NaN</td>\n",
       "      <td>NaN</td>\n",
       "    </tr>\n",
       "    <tr>\n",
       "      <th>8</th>\n",
       "      <td>100010</td>\n",
       "      <td>Michael</td>\n",
       "      <td>Dadashyan</td>\n",
       "      <td>NaN</td>\n",
       "      <td>fbroulette</td>\n",
       "    </tr>\n",
       "    <tr>\n",
       "      <th>9</th>\n",
       "      <td>100011</td>\n",
       "      <td>Jeff</td>\n",
       "      <td>Grell</td>\n",
       "      <td>NaN</td>\n",
       "      <td>NaN</td>\n",
       "    </tr>\n",
       "    <tr>\n",
       "      <th>10</th>\n",
       "      <td>100012</td>\n",
       "      <td>Nick</td>\n",
       "      <td>Bova</td>\n",
       "      <td>NaN</td>\n",
       "      <td>NaN</td>\n",
       "    </tr>\n",
       "    <tr>\n",
       "      <th>11</th>\n",
       "      <td>100013</td>\n",
       "      <td>Umesh</td>\n",
       "      <td>Singh</td>\n",
       "      <td>NaN</td>\n",
       "      <td>NaN</td>\n",
       "    </tr>\n",
       "    <tr>\n",
       "      <th>12</th>\n",
       "      <td>100014</td>\n",
       "      <td>Larry</td>\n",
       "      <td>Blankenship</td>\n",
       "      <td>NaN</td>\n",
       "      <td>NaN</td>\n",
       "    </tr>\n",
       "    <tr>\n",
       "      <th>13</th>\n",
       "      <td>100015</td>\n",
       "      <td>Steven</td>\n",
       "      <td>G. Anderson</td>\n",
       "      <td>NaN</td>\n",
       "      <td>NaN</td>\n",
       "    </tr>\n",
       "    <tr>\n",
       "      <th>14</th>\n",
       "      <td>100016</td>\n",
       "      <td>Thomas</td>\n",
       "      <td>F. Ackerman</td>\n",
       "      <td>NaN</td>\n",
       "      <td>NaN</td>\n",
       "    </tr>\n",
       "    <tr>\n",
       "      <th>15</th>\n",
       "      <td>100017</td>\n",
       "      <td>Kurt</td>\n",
       "      <td>Azarbarzin</td>\n",
       "      <td>NaN</td>\n",
       "      <td>NaN</td>\n",
       "    </tr>\n",
       "    <tr>\n",
       "      <th>16</th>\n",
       "      <td>100018</td>\n",
       "      <td>Adam</td>\n",
       "      <td>Beckerman</td>\n",
       "      <td>148554.0</td>\n",
       "      <td>adam_beckerman</td>\n",
       "    </tr>\n",
       "    <tr>\n",
       "      <th>17</th>\n",
       "      <td>100019</td>\n",
       "      <td>Melissa</td>\n",
       "      <td>French</td>\n",
       "      <td>NaN</td>\n",
       "      <td>netcastles</td>\n",
       "    </tr>\n",
       "    <tr>\n",
       "      <th>18</th>\n",
       "      <td>100022</td>\n",
       "      <td>OÄuz KaÄan</td>\n",
       "      <td>Aslan</td>\n",
       "      <td>NaN</td>\n",
       "      <td>OguzKaganAslan</td>\n",
       "    </tr>\n",
       "    <tr>\n",
       "      <th>19</th>\n",
       "      <td>100023</td>\n",
       "      <td>Neil</td>\n",
       "      <td>Chandran</td>\n",
       "      <td>81571.0</td>\n",
       "      <td>neilchandran</td>\n",
       "    </tr>\n",
       "  </tbody>\n",
       "</table>\n",
       "</div>"
      ],
      "text/plain": [
       "        id    first_name      last_name  company_id network_username\n",
       "0       10          Mark     Zuckerberg         5.0              NaN\n",
       "1      100         Peter         Lester        27.0              NaN\n",
       "2     1000    Dr. Steven    E. Saunders       292.0              NaN\n",
       "3    10000          Neil          Capel      2526.0              NaN\n",
       "4   100000           Sue         Pilsch         NaN              NaN\n",
       "5   100002         Keith  Kurzendoerfer         NaN              NaN\n",
       "6   100006      Courtney          Homer     81558.0   jobsbostontech\n",
       "7   100009          Eddy        Badrina         NaN              NaN\n",
       "8   100010       Michael      Dadashyan         NaN       fbroulette\n",
       "9   100011          Jeff          Grell         NaN              NaN\n",
       "10  100012          Nick           Bova         NaN              NaN\n",
       "11  100013         Umesh          Singh         NaN              NaN\n",
       "12  100014         Larry    Blankenship         NaN              NaN\n",
       "13  100015        Steven    G. Anderson         NaN              NaN\n",
       "14  100016        Thomas    F. Ackerman         NaN              NaN\n",
       "15  100017          Kurt     Azarbarzin         NaN              NaN\n",
       "16  100018          Adam      Beckerman    148554.0   adam_beckerman\n",
       "17  100019       Melissa         French         NaN       netcastles\n",
       "18  100022  OÄuz KaÄan          Aslan         NaN   OguzKaganAslan\n",
       "19  100023          Neil       Chandran     81571.0     neilchandran"
      ]
     },
     "execution_count": 11,
     "metadata": {},
     "output_type": "execute_result"
    }
   ],
   "source": [
    "# Выведем первые двадцать строк датасета people\n",
    "people_df.head(20)"
   ]
  },
  {
   "cell_type": "code",
   "execution_count": 12,
   "metadata": {},
   "outputs": [
    {
     "name": "stdout",
     "output_type": "stream",
     "text": [
      "<class 'pandas.core.frame.DataFrame'>\n",
      "RangeIndex: 226709 entries, 0 to 226708\n",
      "Data columns (total 5 columns):\n",
      " #   Column            Non-Null Count   Dtype  \n",
      "---  ------            --------------   -----  \n",
      " 0   id                226709 non-null  int64  \n",
      " 1   first_name        226704 non-null  object \n",
      " 2   last_name         226708 non-null  object \n",
      " 3   company_id        34615 non-null   float64\n",
      " 4   network_username  38867 non-null   object \n",
      "dtypes: float64(1), int64(1), object(3)\n",
      "memory usage: 8.6+ MB\n"
     ]
    }
   ],
   "source": [
    "# Выведем информацию о датафрейме people_df с помощью метода info()\n",
    "people_df.info()"
   ]
  },
  {
   "cell_type": "markdown",
   "metadata": {},
   "source": [
    "Датасет `people.csv` содержит 5 столбцов и 226 709 строк, в которых представлена информация о информация о сотрудниках.\n",
    "\n",
    "После первичного анализа данных можно сделать следующие выводы:\n",
    "\n",
    " - Названия столбцов уже приведены к оптимальному формату.\n",
    " \n",
    " - Данные в столбце `id` содержатся в формате `integer`, что для данного столбца является оптимальным вариантом, однако можно привести данные к оптимальной разрядности с помощью метода `to_numeric`.\n",
    " \n",
    " - Информация в столбце `company_id` содердится в формате `float`. Для данного столбца оптимальным вариантом будет привести данные к формату `integer` с оптимальной разрядностью  с помощью метода `to_numeric`. Однако, поскольку в столбце содержатся пропуски, возникает необходимость и предварительной обработки.\n",
    " \n",
    " - Столбцы `first_name`, `last_name` и `network_username` содержат текстовую информацию, в сязи с чем формат `object` является для них оптимальным."
   ]
  },
  {
   "cell_type": "markdown",
   "metadata": {},
   "source": [
    "Далее рассмотрим датасет `education.csv`, содержащий информацию об образовании сотрудников."
   ]
  },
  {
   "cell_type": "code",
   "execution_count": 13,
   "metadata": {},
   "outputs": [
    {
     "data": {
      "text/html": [
       "<div>\n",
       "<style scoped>\n",
       "    .dataframe tbody tr th:only-of-type {\n",
       "        vertical-align: middle;\n",
       "    }\n",
       "\n",
       "    .dataframe tbody tr th {\n",
       "        vertical-align: top;\n",
       "    }\n",
       "\n",
       "    .dataframe thead th {\n",
       "        text-align: right;\n",
       "    }\n",
       "</style>\n",
       "<table border=\"1\" class=\"dataframe\">\n",
       "  <thead>\n",
       "    <tr style=\"text-align: right;\">\n",
       "      <th></th>\n",
       "      <th>id</th>\n",
       "      <th>person_id</th>\n",
       "      <th>instituition</th>\n",
       "      <th>graduated_at</th>\n",
       "    </tr>\n",
       "  </thead>\n",
       "  <tbody>\n",
       "    <tr>\n",
       "      <th>0</th>\n",
       "      <td>1</td>\n",
       "      <td>6117</td>\n",
       "      <td>NaN</td>\n",
       "      <td>NaN</td>\n",
       "    </tr>\n",
       "    <tr>\n",
       "      <th>1</th>\n",
       "      <td>2</td>\n",
       "      <td>6136</td>\n",
       "      <td>Washington University, St. Louis</td>\n",
       "      <td>1990-01-01</td>\n",
       "    </tr>\n",
       "    <tr>\n",
       "      <th>2</th>\n",
       "      <td>3</td>\n",
       "      <td>6136</td>\n",
       "      <td>Boston University</td>\n",
       "      <td>1992-01-01</td>\n",
       "    </tr>\n",
       "    <tr>\n",
       "      <th>3</th>\n",
       "      <td>4</td>\n",
       "      <td>6005</td>\n",
       "      <td>University of Greenwich</td>\n",
       "      <td>2006-01-01</td>\n",
       "    </tr>\n",
       "    <tr>\n",
       "      <th>4</th>\n",
       "      <td>5</td>\n",
       "      <td>5832</td>\n",
       "      <td>Rice University</td>\n",
       "      <td>NaN</td>\n",
       "    </tr>\n",
       "    <tr>\n",
       "      <th>5</th>\n",
       "      <td>6</td>\n",
       "      <td>1017</td>\n",
       "      <td>Northeastern University</td>\n",
       "      <td>1988-01-01</td>\n",
       "    </tr>\n",
       "    <tr>\n",
       "      <th>6</th>\n",
       "      <td>7</td>\n",
       "      <td>6176</td>\n",
       "      <td>Rochester Institute of Technology</td>\n",
       "      <td>2002-01-01</td>\n",
       "    </tr>\n",
       "    <tr>\n",
       "      <th>7</th>\n",
       "      <td>8</td>\n",
       "      <td>5412</td>\n",
       "      <td>University of Cambridge</td>\n",
       "      <td>2002-01-01</td>\n",
       "    </tr>\n",
       "    <tr>\n",
       "      <th>8</th>\n",
       "      <td>9</td>\n",
       "      <td>1243</td>\n",
       "      <td>University of Oregon</td>\n",
       "      <td>1997-01-01</td>\n",
       "    </tr>\n",
       "    <tr>\n",
       "      <th>9</th>\n",
       "      <td>10</td>\n",
       "      <td>6265</td>\n",
       "      <td>University of Pennsylvania</td>\n",
       "      <td>1989-01-01</td>\n",
       "    </tr>\n",
       "    <tr>\n",
       "      <th>10</th>\n",
       "      <td>11</td>\n",
       "      <td>6328</td>\n",
       "      <td>Bournemouth University</td>\n",
       "      <td>2008-01-01</td>\n",
       "    </tr>\n",
       "    <tr>\n",
       "      <th>11</th>\n",
       "      <td>12</td>\n",
       "      <td>6329</td>\n",
       "      <td>University of Cambridge</td>\n",
       "      <td>NaN</td>\n",
       "    </tr>\n",
       "    <tr>\n",
       "      <th>12</th>\n",
       "      <td>13</td>\n",
       "      <td>2351</td>\n",
       "      <td>University of Toronto School of Law</td>\n",
       "      <td>1993-01-01</td>\n",
       "    </tr>\n",
       "    <tr>\n",
       "      <th>13</th>\n",
       "      <td>14</td>\n",
       "      <td>2351</td>\n",
       "      <td>Princeton University</td>\n",
       "      <td>1990-01-01</td>\n",
       "    </tr>\n",
       "    <tr>\n",
       "      <th>14</th>\n",
       "      <td>15</td>\n",
       "      <td>5471</td>\n",
       "      <td>TU Delft, The Netherlands</td>\n",
       "      <td>2007-01-01</td>\n",
       "    </tr>\n",
       "    <tr>\n",
       "      <th>15</th>\n",
       "      <td>16</td>\n",
       "      <td>2005</td>\n",
       "      <td>Tel Aviv University</td>\n",
       "      <td>1999-01-01</td>\n",
       "    </tr>\n",
       "    <tr>\n",
       "      <th>16</th>\n",
       "      <td>17</td>\n",
       "      <td>6453</td>\n",
       "      <td>University of Texas</td>\n",
       "      <td>2004-01-01</td>\n",
       "    </tr>\n",
       "    <tr>\n",
       "      <th>17</th>\n",
       "      <td>18</td>\n",
       "      <td>6453</td>\n",
       "      <td>Louisiana State University</td>\n",
       "      <td>1996-01-01</td>\n",
       "    </tr>\n",
       "    <tr>\n",
       "      <th>18</th>\n",
       "      <td>19</td>\n",
       "      <td>5991</td>\n",
       "      <td>New York University (NYU)</td>\n",
       "      <td>2005-01-01</td>\n",
       "    </tr>\n",
       "    <tr>\n",
       "      <th>19</th>\n",
       "      <td>20</td>\n",
       "      <td>1017</td>\n",
       "      <td>Babson College</td>\n",
       "      <td>1995-01-01</td>\n",
       "    </tr>\n",
       "  </tbody>\n",
       "</table>\n",
       "</div>"
      ],
      "text/plain": [
       "    id  person_id                         instituition graduated_at\n",
       "0    1       6117                                  NaN          NaN\n",
       "1    2       6136     Washington University, St. Louis   1990-01-01\n",
       "2    3       6136                    Boston University   1992-01-01\n",
       "3    4       6005              University of Greenwich   2006-01-01\n",
       "4    5       5832                      Rice University          NaN\n",
       "5    6       1017              Northeastern University   1988-01-01\n",
       "6    7       6176    Rochester Institute of Technology   2002-01-01\n",
       "7    8       5412              University of Cambridge   2002-01-01\n",
       "8    9       1243                 University of Oregon   1997-01-01\n",
       "9   10       6265           University of Pennsylvania   1989-01-01\n",
       "10  11       6328               Bournemouth University   2008-01-01\n",
       "11  12       6329              University of Cambridge          NaN\n",
       "12  13       2351  University of Toronto School of Law   1993-01-01\n",
       "13  14       2351                 Princeton University   1990-01-01\n",
       "14  15       5471            TU Delft, The Netherlands   2007-01-01\n",
       "15  16       2005                  Tel Aviv University   1999-01-01\n",
       "16  17       6453                  University of Texas   2004-01-01\n",
       "17  18       6453           Louisiana State University   1996-01-01\n",
       "18  19       5991            New York University (NYU)   2005-01-01\n",
       "19  20       1017                       Babson College   1995-01-01"
      ]
     },
     "execution_count": 13,
     "metadata": {},
     "output_type": "execute_result"
    }
   ],
   "source": [
    "# Выведем первые двадцать строк датасета education\n",
    "education_df.head(20)"
   ]
  },
  {
   "cell_type": "code",
   "execution_count": 14,
   "metadata": {},
   "outputs": [
    {
     "name": "stdout",
     "output_type": "stream",
     "text": [
      "<class 'pandas.core.frame.DataFrame'>\n",
      "RangeIndex: 109610 entries, 0 to 109609\n",
      "Data columns (total 4 columns):\n",
      " #   Column        Non-Null Count   Dtype \n",
      "---  ------        --------------   ----- \n",
      " 0   id            109610 non-null  int64 \n",
      " 1   person_id     109610 non-null  int64 \n",
      " 2   instituition  109555 non-null  object\n",
      " 3   graduated_at  58054 non-null   object\n",
      "dtypes: int64(2), object(2)\n",
      "memory usage: 3.3+ MB\n"
     ]
    }
   ],
   "source": [
    "# Выведем информацию о датафрейме education_df с помощью метода info()\n",
    "education_df.info()"
   ]
  },
  {
   "cell_type": "markdown",
   "metadata": {},
   "source": [
    "Датасет `education.csv` содержит 4 столбца и 109 610 строк, в которых представлена информация о информация о образовании сотрудников.\n",
    "\n",
    "После первичного анализа данных можно сделать следующие выводы:\n",
    "\n",
    " - Названия столбцов уже приведены к оптимальному формату.\n",
    " \n",
    " - Данные в столбцах `id` и `person_id` содержатся в формате `integer`, что является оптимальным вариантом, однако можно привести данные к оптимальной разрядности с помощью метода `to_numeric`.\n",
    "\n",
    " - Столбцы `instituition` и `graduated_at` содержат информацию в формате `object`. Для столбца `instituition` данный формат является оптимальным, однако для столбца `graduated_at` данные лучше привести к формату `datetime`."
   ]
  },
  {
   "cell_type": "markdown",
   "metadata": {},
   "source": [
    "В заключении рассмотрим информацию о датасете `degrees.csv`, содержащем информацию о типе образования сотрудников."
   ]
  },
  {
   "cell_type": "code",
   "execution_count": 15,
   "metadata": {},
   "outputs": [
    {
     "data": {
      "text/html": [
       "<div>\n",
       "<style scoped>\n",
       "    .dataframe tbody tr th:only-of-type {\n",
       "        vertical-align: middle;\n",
       "    }\n",
       "\n",
       "    .dataframe tbody tr th {\n",
       "        vertical-align: top;\n",
       "    }\n",
       "\n",
       "    .dataframe thead th {\n",
       "        text-align: right;\n",
       "    }\n",
       "</style>\n",
       "<table border=\"1\" class=\"dataframe\">\n",
       "  <thead>\n",
       "    <tr style=\"text-align: right;\">\n",
       "      <th></th>\n",
       "      <th>id</th>\n",
       "      <th>object_id</th>\n",
       "      <th>degree_type</th>\n",
       "      <th>subject</th>\n",
       "    </tr>\n",
       "  </thead>\n",
       "  <tbody>\n",
       "    <tr>\n",
       "      <th>0</th>\n",
       "      <td>1</td>\n",
       "      <td>p:6117</td>\n",
       "      <td>MBA</td>\n",
       "      <td>NaN</td>\n",
       "    </tr>\n",
       "    <tr>\n",
       "      <th>1</th>\n",
       "      <td>2</td>\n",
       "      <td>p:6136</td>\n",
       "      <td>BA</td>\n",
       "      <td>English, French</td>\n",
       "    </tr>\n",
       "    <tr>\n",
       "      <th>2</th>\n",
       "      <td>3</td>\n",
       "      <td>p:6136</td>\n",
       "      <td>MS</td>\n",
       "      <td>Mass Communication</td>\n",
       "    </tr>\n",
       "    <tr>\n",
       "      <th>3</th>\n",
       "      <td>4</td>\n",
       "      <td>p:6005</td>\n",
       "      <td>MS</td>\n",
       "      <td>Internet Technology</td>\n",
       "    </tr>\n",
       "    <tr>\n",
       "      <th>4</th>\n",
       "      <td>5</td>\n",
       "      <td>p:5832</td>\n",
       "      <td>BCS</td>\n",
       "      <td>Computer Science, Psychology</td>\n",
       "    </tr>\n",
       "    <tr>\n",
       "      <th>5</th>\n",
       "      <td>6</td>\n",
       "      <td>p:1017</td>\n",
       "      <td>BS</td>\n",
       "      <td>Computer Science</td>\n",
       "    </tr>\n",
       "    <tr>\n",
       "      <th>6</th>\n",
       "      <td>7</td>\n",
       "      <td>p:6176</td>\n",
       "      <td>BS</td>\n",
       "      <td>Computer Science</td>\n",
       "    </tr>\n",
       "    <tr>\n",
       "      <th>7</th>\n",
       "      <td>8</td>\n",
       "      <td>p:5412</td>\n",
       "      <td>MS</td>\n",
       "      <td>Politics</td>\n",
       "    </tr>\n",
       "    <tr>\n",
       "      <th>8</th>\n",
       "      <td>9</td>\n",
       "      <td>p:1243</td>\n",
       "      <td>BA</td>\n",
       "      <td>International Business &amp; Marketing</td>\n",
       "    </tr>\n",
       "    <tr>\n",
       "      <th>9</th>\n",
       "      <td>10</td>\n",
       "      <td>p:6265</td>\n",
       "      <td>BS</td>\n",
       "      <td>Economics</td>\n",
       "    </tr>\n",
       "    <tr>\n",
       "      <th>10</th>\n",
       "      <td>11</td>\n",
       "      <td>p:6328</td>\n",
       "      <td>Foundation</td>\n",
       "      <td>Computing and Internet Technology</td>\n",
       "    </tr>\n",
       "    <tr>\n",
       "      <th>11</th>\n",
       "      <td>12</td>\n",
       "      <td>p:6329</td>\n",
       "      <td>MA</td>\n",
       "      <td>Physics &amp; Philosophy</td>\n",
       "    </tr>\n",
       "    <tr>\n",
       "      <th>12</th>\n",
       "      <td>13</td>\n",
       "      <td>p:2351</td>\n",
       "      <td>LLB</td>\n",
       "      <td>Law</td>\n",
       "    </tr>\n",
       "    <tr>\n",
       "      <th>13</th>\n",
       "      <td>14</td>\n",
       "      <td>p:2351</td>\n",
       "      <td>BA</td>\n",
       "      <td>Economics</td>\n",
       "    </tr>\n",
       "    <tr>\n",
       "      <th>14</th>\n",
       "      <td>15</td>\n",
       "      <td>p:5471</td>\n",
       "      <td>MS</td>\n",
       "      <td>Media &amp; Knowledge Engineering</td>\n",
       "    </tr>\n",
       "    <tr>\n",
       "      <th>15</th>\n",
       "      <td>16</td>\n",
       "      <td>p:2005</td>\n",
       "      <td>PhD</td>\n",
       "      <td>Finance</td>\n",
       "    </tr>\n",
       "    <tr>\n",
       "      <th>16</th>\n",
       "      <td>17</td>\n",
       "      <td>p:6453</td>\n",
       "      <td>MBA</td>\n",
       "      <td>NaN</td>\n",
       "    </tr>\n",
       "    <tr>\n",
       "      <th>17</th>\n",
       "      <td>18</td>\n",
       "      <td>p:6453</td>\n",
       "      <td>BA</td>\n",
       "      <td>History, Political Science</td>\n",
       "    </tr>\n",
       "    <tr>\n",
       "      <th>18</th>\n",
       "      <td>19</td>\n",
       "      <td>p:5991</td>\n",
       "      <td>BFA</td>\n",
       "      <td>Computer Science, Photography</td>\n",
       "    </tr>\n",
       "    <tr>\n",
       "      <th>19</th>\n",
       "      <td>20</td>\n",
       "      <td>p:1017</td>\n",
       "      <td>MBA</td>\n",
       "      <td>Entrepreneurship, Finance</td>\n",
       "    </tr>\n",
       "  </tbody>\n",
       "</table>\n",
       "</div>"
      ],
      "text/plain": [
       "    id object_id degree_type                             subject\n",
       "0    1    p:6117         MBA                                 NaN\n",
       "1    2    p:6136          BA                     English, French\n",
       "2    3    p:6136          MS                  Mass Communication\n",
       "3    4    p:6005          MS                 Internet Technology\n",
       "4    5    p:5832         BCS        Computer Science, Psychology\n",
       "5    6    p:1017          BS                    Computer Science\n",
       "6    7    p:6176          BS                    Computer Science\n",
       "7    8    p:5412          MS                            Politics\n",
       "8    9    p:1243          BA  International Business & Marketing\n",
       "9   10    p:6265          BS                           Economics\n",
       "10  11    p:6328  Foundation   Computing and Internet Technology\n",
       "11  12    p:6329          MA                Physics & Philosophy\n",
       "12  13    p:2351         LLB                                 Law\n",
       "13  14    p:2351          BA                           Economics\n",
       "14  15    p:5471          MS       Media & Knowledge Engineering\n",
       "15  16    p:2005         PhD                             Finance\n",
       "16  17    p:6453         MBA                                 NaN\n",
       "17  18    p:6453          BA          History, Political Science\n",
       "18  19    p:5991         BFA       Computer Science, Photography\n",
       "19  20    p:1017         MBA           Entrepreneurship, Finance"
      ]
     },
     "execution_count": 15,
     "metadata": {},
     "output_type": "execute_result"
    }
   ],
   "source": [
    "#Выведем первые двадцать строк датасета degrees\n",
    "degrees_df.head(20)"
   ]
  },
  {
   "cell_type": "code",
   "execution_count": 16,
   "metadata": {},
   "outputs": [
    {
     "name": "stdout",
     "output_type": "stream",
     "text": [
      "<class 'pandas.core.frame.DataFrame'>\n",
      "RangeIndex: 109610 entries, 0 to 109609\n",
      "Data columns (total 4 columns):\n",
      " #   Column       Non-Null Count   Dtype \n",
      "---  ------       --------------   ----- \n",
      " 0   id           109610 non-null  int64 \n",
      " 1   object_id    109610 non-null  object\n",
      " 2   degree_type  98392 non-null   object\n",
      " 3   subject      81298 non-null   object\n",
      "dtypes: int64(1), object(3)\n",
      "memory usage: 3.3+ MB\n"
     ]
    }
   ],
   "source": [
    "# Выведем информацию о датафрейме degrees_df с помощью метода info()\n",
    "degrees_df.info()"
   ]
  },
  {
   "cell_type": "markdown",
   "metadata": {},
   "source": [
    "Датасет `degrees.csv` содержит 4 столбца и 109 610 строк.\n",
    "\n",
    "После первичного анализа данных можно сделать следующие выводы:\n",
    "\n",
    " - Названия столбцов уже приведены к оптимальному формату.\n",
    " \n",
    " - Данные в столбце `id` содержатся в формате `integer`, что является оптимальным вариантом, однако можно привести данные к оптимальной разрядности с помощью метода `to_numeric`.\n",
    " \n",
    " - Информация в столбце `object_id` содержится в формате `object`. Для данного столбца можно скорректировать формат на `integer`, предварительно изучив все ли значения в столбце начинаются с приставки `p:`.\n",
    "\n",
    " - Столбцы `degree_type` и `subject` содержат информацию в формате `object`. Для столбца `subject` данный формат является оптимальным, однако для столбца `graduated_at` данные лучше привести к формату `category`, предварительно изучив уникальные значения в столбце."
   ]
  },
  {
   "cell_type": "markdown",
   "metadata": {},
   "source": [
    "Первичное знакомство показывает, что для датасетов `acquisition.csv`, `people.csv`, `education.csv` и `degrees.csv`названия столбцов уже приведены к оптимальному формату и соответствуют описанию. Для датасета `company_and_rounds.csv` столбец `company id` был переименован на `company_id_fund`, названия всех остальных столбцов были приведены к формату `snake_case`.\n",
    "\n",
    "\n",
    "В большинстве случаев используются верные типы данных, однако для части числовых данных можно оптимизировать разрядность, а также заменить в некоторых столбцах формат с `float` на `integer`, с `object` на `category`.\n",
    "Для столбцов `founded_at`, `closed_at`, `funded_at` датасета `company_and_rounds.csv`  оптимальным вариантом будет привести данные к формату `datetime64`. Тоже самое можно проделать для столбца `acquired_at` датафрейма `acquisition.csv`, `graduated_at` датафрейма `education.csv`."
   ]
  },
  {
   "cell_type": "markdown",
   "metadata": {
    "id": "mg2gEwh0rJg0"
   },
   "source": [
    "### 1.2. Смена типов и анализ пропусков"
   ]
  },
  {
   "cell_type": "markdown",
   "metadata": {
    "id": "FsL0A8RBrJg1",
    "vscode": {
     "languageId": "plaintext"
    }
   },
   "source": [
    "Обработаем типы данных в столбцах, которые хранят значения даты и времени, то есть приведём их к формату `datetime64[ns]`. Для начала обработаем нужные столбцы в датафрейме `company_and_rounds.csv`."
   ]
  },
  {
   "cell_type": "code",
   "execution_count": 17,
   "metadata": {
    "id": "46VskrGyFeJ-"
   },
   "outputs": [],
   "source": [
    "# Приведём данные к формату datetime64[ns]\n",
    "comp_df['founded_at'] = pd.to_datetime(comp_df['founded_at'], format='%Y-%m-%d')\n",
    "comp_df['closed_at'] = pd.to_datetime(comp_df['closed_at'], format='%Y-%m-%d')\n",
    "comp_df['funded_at'] = pd.to_datetime(comp_df['funded_at'], format='%Y-%m-%d')"
   ]
  },
  {
   "cell_type": "markdown",
   "metadata": {},
   "source": [
    "Выведем информацию о датасете с учётом изменений."
   ]
  },
  {
   "cell_type": "code",
   "execution_count": 18,
   "metadata": {
    "id": "DEg1tl8DFeBn"
   },
   "outputs": [
    {
     "name": "stdout",
     "output_type": "stream",
     "text": [
      "<class 'pandas.core.frame.DataFrame'>\n",
      "RangeIndex: 217774 entries, 0 to 217773\n",
      "Data columns (total 22 columns):\n",
      " #   Column               Non-Null Count   Dtype         \n",
      "---  ------               --------------   -----         \n",
      " 0   company_id           217472 non-null  float64       \n",
      " 1   name                 217472 non-null  object        \n",
      " 2   category_code        143886 non-null  object        \n",
      " 3   status               217472 non-null  object        \n",
      " 4   founded_at           109956 non-null  datetime64[ns]\n",
      " 5   closed_at            3449 non-null    datetime64[ns]\n",
      " 6   domain               147159 non-null  object        \n",
      " 7   network_username     95534 non-null   object        \n",
      " 8   country_code         108607 non-null  object        \n",
      " 9   investment_rounds    217472 non-null  float64       \n",
      " 10  funding_rounds       217472 non-null  float64       \n",
      " 11  funding_total        217472 non-null  float64       \n",
      " 12  milestones           217472 non-null  float64       \n",
      " 13  funding_round_id     52928 non-null   float64       \n",
      " 14  company_id_fund      52928 non-null   float64       \n",
      " 15  funded_at            52680 non-null   datetime64[ns]\n",
      " 16  funding_round_type   52928 non-null   object        \n",
      " 17  raised_amount        52928 non-null   float64       \n",
      " 18  pre_money_valuation  52928 non-null   float64       \n",
      " 19  participants         52928 non-null   float64       \n",
      " 20  is_first_round       52928 non-null   float64       \n",
      " 21  is_last_round        52928 non-null   float64       \n",
      "dtypes: datetime64[ns](3), float64(12), object(7)\n",
      "memory usage: 36.6+ MB\n"
     ]
    }
   ],
   "source": [
    "# Выведем информацию о датасете comp_df\n",
    "comp_df.info()"
   ]
  },
  {
   "cell_type": "markdown",
   "metadata": {},
   "source": [
    "Аналогичным образом изменим формат данных для столбцов `acquired_at` датафрейма `acquisition.csv` и  `graduated_at` датафрейма `education.csv`."
   ]
  },
  {
   "cell_type": "code",
   "execution_count": 19,
   "metadata": {},
   "outputs": [],
   "source": [
    "# Приведём данные к формату datetime64[ns]\n",
    "acq_df['acquired_at'] = pd.to_datetime(acq_df['acquired_at'], format='%Y-%m-%d')\n",
    "education_df['graduated_at'] = pd.to_datetime(education_df['graduated_at'], format='%Y-%m-%d')"
   ]
  },
  {
   "cell_type": "markdown",
   "metadata": {},
   "source": [
    "Выведем информацию о датасетах с учётом изменений."
   ]
  },
  {
   "cell_type": "code",
   "execution_count": 20,
   "metadata": {},
   "outputs": [
    {
     "name": "stdout",
     "output_type": "stream",
     "text": [
      "<class 'pandas.core.frame.DataFrame'>\n",
      "RangeIndex: 9407 entries, 0 to 9406\n",
      "Data columns (total 6 columns):\n",
      " #   Column                Non-Null Count  Dtype         \n",
      "---  ------                --------------  -----         \n",
      " 0   id                    9407 non-null   int64         \n",
      " 1   acquiring_company_id  9407 non-null   int64         \n",
      " 2   acquired_company_id   9407 non-null   int64         \n",
      " 3   term_code             1831 non-null   object        \n",
      " 4   price_amount          9407 non-null   int64         \n",
      " 5   acquired_at           9378 non-null   datetime64[ns]\n",
      "dtypes: datetime64[ns](1), int64(4), object(1)\n",
      "memory usage: 441.1+ KB\n"
     ]
    }
   ],
   "source": [
    "# Выведем информацию о датасете acq_df\n",
    "acq_df.info()"
   ]
  },
  {
   "cell_type": "code",
   "execution_count": 21,
   "metadata": {},
   "outputs": [
    {
     "name": "stdout",
     "output_type": "stream",
     "text": [
      "<class 'pandas.core.frame.DataFrame'>\n",
      "RangeIndex: 109610 entries, 0 to 109609\n",
      "Data columns (total 4 columns):\n",
      " #   Column        Non-Null Count   Dtype         \n",
      "---  ------        --------------   -----         \n",
      " 0   id            109610 non-null  int64         \n",
      " 1   person_id     109610 non-null  int64         \n",
      " 2   instituition  109555 non-null  object        \n",
      " 3   graduated_at  58054 non-null   datetime64[ns]\n",
      "dtypes: datetime64[ns](1), int64(2), object(1)\n",
      "memory usage: 3.3+ MB\n"
     ]
    }
   ],
   "source": [
    "# Выведем информацию о датасете education_df\n",
    "education_df.info()"
   ]
  },
  {
   "cell_type": "markdown",
   "metadata": {},
   "source": [
    "Далее проведём анализ пропусков в датасетах."
   ]
  },
  {
   "cell_type": "markdown",
   "metadata": {},
   "source": [
    "Рассмотрим количество и долю пропусков в столбцах датафрейма `comp_df`."
   ]
  },
  {
   "cell_type": "code",
   "execution_count": 22,
   "metadata": {},
   "outputs": [
    {
     "name": "stdout",
     "output_type": "stream",
     "text": [
      "Количество пропусков каждом столбце датафрейма comp_df\n",
      "company_id                302\n",
      "name                      302\n",
      "category_code           73888\n",
      "status                    302\n",
      "founded_at             107818\n",
      "closed_at              214325\n",
      "domain                  70615\n",
      "network_username       122240\n",
      "country_code           109167\n",
      "investment_rounds         302\n",
      "funding_rounds            302\n",
      "funding_total             302\n",
      "milestones                302\n",
      "funding_round_id       164846\n",
      "company_id_fund        164846\n",
      "funded_at              165094\n",
      "funding_round_type     164846\n",
      "raised_amount          164846\n",
      "pre_money_valuation    164846\n",
      "participants           164846\n",
      "is_first_round         164846\n",
      "is_last_round          164846\n",
      "dtype: int64\n",
      "Доля пропусков каждом столбце датафрейма comp_df\n",
      "company_id              0.138676\n",
      "name                    0.138676\n",
      "category_code          33.928752\n",
      "status                  0.138676\n",
      "founded_at             49.509124\n",
      "closed_at              98.416248\n",
      "domain                 32.425818\n",
      "network_username       56.131586\n",
      "country_code           50.128574\n",
      "investment_rounds       0.138676\n",
      "funding_rounds          0.138676\n",
      "funding_total           0.138676\n",
      "milestones              0.138676\n",
      "funding_round_id       75.695905\n",
      "company_id_fund        75.695905\n",
      "funded_at              75.809784\n",
      "funding_round_type     75.695905\n",
      "raised_amount          75.695905\n",
      "pre_money_valuation    75.695905\n",
      "participants           75.695905\n",
      "is_first_round         75.695905\n",
      "is_last_round          75.695905\n",
      "dtype: float64\n"
     ]
    }
   ],
   "source": [
    "# Выведем количество пропусков каждом столбце датафрейма comp_df\n",
    "print('Количество пропусков каждом столбце датафрейма comp_df')\n",
    "print(comp_df.isna().sum())\n",
    "# Подсчитываем долю строк с пропусками в датафрейме comp_df\n",
    "print('Доля пропусков каждом столбце датафрейма comp_df')\n",
    "print(comp_df.isna().mean()*100)"
   ]
  },
  {
   "cell_type": "markdown",
   "metadata": {},
   "source": [
    "Как видно из выгрузки все столбцы датасета содержат пропуски. При этом столбцы `company_id`, `name`, `status`, `investment_rounds`, `funding_rounds`, `funding_total`, `milestones` содержат одинаковое количество пропусков - по 302. Также совпадает количество пропусков для столбцов `funding`  `round_id`, `company_id_fund`, `funding_round_type`, `raised_amount`, `pre_money_valuation`, `participants`, `is_first_round`, `is_last_round` - 164 846.\n",
    "\n",
    "Подробнее пропуски данного датасета будут изучены в разделе 2.4."
   ]
  },
  {
   "cell_type": "markdown",
   "metadata": {},
   "source": [
    "Рассмотрим количество и долю пропусков в столбцах датасета `acquisition.csv`."
   ]
  },
  {
   "cell_type": "code",
   "execution_count": 23,
   "metadata": {},
   "outputs": [
    {
     "name": "stdout",
     "output_type": "stream",
     "text": [
      "Количество пропусков каждом столбце датафрейма acq_df\n",
      "id                         0\n",
      "acquiring_company_id       0\n",
      "acquired_company_id        0\n",
      "term_code               7576\n",
      "price_amount               0\n",
      "acquired_at               29\n",
      "dtype: int64\n",
      "Доля пропусков каждом столбце датафрейма comp_df\n",
      "id                       0.000000\n",
      "acquiring_company_id     0.000000\n",
      "acquired_company_id      0.000000\n",
      "term_code               80.535771\n",
      "price_amount             0.000000\n",
      "acquired_at              0.308281\n",
      "dtype: float64\n"
     ]
    }
   ],
   "source": [
    "# Выведем количество пропусков каждом столбце датафрейма comp_df\n",
    "print('Количество пропусков каждом столбце датафрейма acq_df')\n",
    "print(acq_df.isna().sum())\n",
    "# Подсчитываем долю строк с пропусками в датафрейме comp_df\n",
    "print('Доля пропусков каждом столбце датафрейма comp_df')\n",
    "print(acq_df.isna().mean()*100)"
   ]
  },
  {
   "cell_type": "markdown",
   "metadata": {},
   "source": [
    "Пропуски содержатся в столбцах `term_code` и `acquired_at` содержащие информацию о вариантах расчёта и дате сделки соответственно. Процент пропусков в столбце `term_code` превышает 80%. Пропуски в данном столбце могут быть связаны с невозможностью определить тип расчёта или отсутствием соответствующей информации, например, в зависимости от даты сделки (столбец `acquired_at`).\n",
    "\n",
    "Процент пропусков в столбце `acquired_at` составляет 0,3%. Данные пропуски с высокой вероятностью связаны с отсутствием соответствующий информации  о дате сделки."
   ]
  },
  {
   "cell_type": "markdown",
   "metadata": {},
   "source": [
    "Рассмотрим количество и долю пропусков в столбцах датасета `people.csv`."
   ]
  },
  {
   "cell_type": "code",
   "execution_count": 24,
   "metadata": {},
   "outputs": [
    {
     "name": "stdout",
     "output_type": "stream",
     "text": [
      "Количество пропусков каждом столбце датафрейма people_df\n",
      "id                       0\n",
      "first_name               5\n",
      "last_name                1\n",
      "company_id          192094\n",
      "network_username    187842\n",
      "dtype: int64\n",
      "Доля пропусков каждом столбце датафрейма people_df\n",
      "id                   0.000000\n",
      "first_name           0.002205\n",
      "last_name            0.000441\n",
      "company_id          84.731528\n",
      "network_username    82.855996\n",
      "dtype: float64\n"
     ]
    }
   ],
   "source": [
    "# Выведем количество пропусков каждом столбце датафрейма comp_df\n",
    "print('Количество пропусков каждом столбце датафрейма people_df')\n",
    "print(people_df.isna().sum())\n",
    "# Подсчитываем долю строк с пропусками в датафрейме people_df\n",
    "print('Доля пропусков каждом столбце датафрейма people_df')\n",
    "print(people_df.isna().mean()*100)"
   ]
  },
  {
   "cell_type": "markdown",
   "metadata": {},
   "source": [
    "Во всех столбцах кроме `id` содержатся пропуски. Больше всего пропусков содержится в столбце `company_id` - 84,7%, что может быть связано с отсутствием соответствующей  информации о компании сотрудников. Также значительная доля пропусков содержится в столбце `network_username` - 82,9%, что может быть связано с отсутствием ника в социальных сетях."
   ]
  },
  {
   "cell_type": "markdown",
   "metadata": {},
   "source": [
    "Рассмотрим количество и долю пропусков в столбцах датасета education.csv."
   ]
  },
  {
   "cell_type": "code",
   "execution_count": 25,
   "metadata": {},
   "outputs": [
    {
     "name": "stdout",
     "output_type": "stream",
     "text": [
      "Количество пропусков каждом столбце датафрейма education_df\n",
      "id                  0\n",
      "person_id           0\n",
      "instituition       55\n",
      "graduated_at    51556\n",
      "dtype: int64\n",
      "Доля пропусков каждом столбце датафрейма education_df\n",
      "id               0.000000\n",
      "person_id        0.000000\n",
      "instituition     0.050178\n",
      "graduated_at    47.035854\n",
      "dtype: float64\n"
     ]
    }
   ],
   "source": [
    "# Выведем количество пропусков каждом столбце датафрейма education_df\n",
    "print('Количество пропусков каждом столбце датафрейма education_df')\n",
    "print(education_df.isna().sum())\n",
    "# Подсчитываем долю строк с пропусками в датафрейме education_df\n",
    "print('Доля пропусков каждом столбце датафрейма education_df')\n",
    "print(education_df.isna().mean()*100)"
   ]
  },
  {
   "cell_type": "markdown",
   "metadata": {},
   "source": [
    "Пропуски содержатся в столбцах `instituition` и `graduated_at`. Наличие пропусков может объясняться отсутствием соответствующей информации или самого образования у сотрудников."
   ]
  },
  {
   "cell_type": "markdown",
   "metadata": {},
   "source": [
    "В заключение рассмотрим количество и долю пропусков в столбцах датасета `degrees.csv`."
   ]
  },
  {
   "cell_type": "code",
   "execution_count": 26,
   "metadata": {},
   "outputs": [
    {
     "name": "stdout",
     "output_type": "stream",
     "text": [
      "Количество пропусков каждом столбце датафрейма degrees_df\n",
      "id                 0\n",
      "object_id          0\n",
      "degree_type    11218\n",
      "subject        28312\n",
      "dtype: int64\n",
      "Доля пропусков каждом столбце датафрейма degrees_df\n",
      "id              0.000000\n",
      "object_id       0.000000\n",
      "degree_type    10.234468\n",
      "subject        25.829760\n",
      "dtype: float64\n"
     ]
    }
   ],
   "source": [
    "# Выведем количество пропусков каждом столбце датафрейма degrees_df\n",
    "print('Количество пропусков каждом столбце датафрейма degrees_df')\n",
    "print(degrees_df.isna().sum())\n",
    "# Подсчитываем долю строк с пропусками в датафрейме degrees_df\n",
    "print('Доля пропусков каждом столбце датафрейма degrees_df')\n",
    "print(degrees_df.isna().mean()*100)"
   ]
  },
  {
   "cell_type": "markdown",
   "metadata": {},
   "source": [
    "Пропуски содержатся в столбцах `degree_type` и `subject`. Наличие пропусков может объясняться отсутствием соответствующей информации или самого образования у сотрудников."
   ]
  },
  {
   "cell_type": "markdown",
   "metadata": {},
   "source": [
    "Далее оценим полноту данных —  достаточно ли данных для решения задач проекта."
   ]
  },
  {
   "cell_type": "markdown",
   "metadata": {},
   "source": [
    "Анализ раундов финансирования по годам будет осуществляться на основе анализа столбцов `raised_amount` и `funding rounds` датафрейма `comp_df`. Несмотря на наличие пропусков в данных столбцах, имеющихся данных достаточно для выявления типичного размера средств, выделяемый в рамках одного раунда, а также общее количества раундов финансирования за год."
   ]
  },
  {
   "cell_type": "markdown",
   "metadata": {},
   "source": [
    "Далее необходимо определить, зависит ли полнота сведений о сотрудниках (например, об их образовании) от размера компаний.\n",
    "\n",
    "Анализ будет осуществляться на основе датасетов `people.csv` и `education.csv`. При этом предусмотрена группировка всех компаний на несколько групп по количеству сотрудников. При этом процент пропусков по столбцу `company_id` составляет 84,7%, что затруднит группировку и свидельствует о том, что полученные данные могут оказаться не до конца достоверными."
   ]
  },
  {
   "cell_type": "markdown",
   "metadata": {},
   "source": [
    "На следующем этапе необходимо оценить возможно ли с помощью столбца `network_username` объединить датафреймы. Данный столбец встречается в датафреймах `comp_df` и  `people_df` при этом процент пропусков составяет 56,1% и 82,9% соответственно. Таким образом, объединение датафреймов возможно, однако при этом необходимо корректно подобрать тип присоединения."
   ]
  },
  {
   "cell_type": "markdown",
   "metadata": {},
   "source": [
    "Далее необходимо проанализировать датасет `company_and_rounds.csv` на наличие компаний, которые меняли или готовы менять владельцев. Анализ будет осуществлён на основе параметров `funding_rounds`, `investment_rounds` и `status`. Имеющихся данных должно быть достаточно для необходимого анализа."
   ]
  },
  {
   "cell_type": "markdown",
   "metadata": {},
   "source": [
    "Далее необходимо по столбцу `funding_total` определить обычный для рассматриваемого периода размер средств, который предоставлялся компаниям, а также исследовать компании, которые были проданы за ноль или за один доллар. Имеющихся данных должно быть достаточно для необходимого анализа."
   ]
  },
  {
   "cell_type": "markdown",
   "metadata": {},
   "source": [
    "В заключительных задачах по столбцу `funding_total` необходимо выявить категории стартапов с типично высокими ценами покупки стартапов и значительным разбросом цен и типичное значение количества раундов для каждого возможного статуса стартапа. Имеющихся данных должно быть достаточно для необходимого анализа."
   ]
  },
  {
   "cell_type": "markdown",
   "metadata": {},
   "source": [
    "### Промежуточный вывод\n",
    "\n",
    "Таким образом на первом этапе проекта была осуществлена загрузка необходимых библиотек для дальнейшего анализа данных. Также были загружены необходимые датасеты и осуществлено первичное ознакомление с данными. Для датафрейма названия столбцов были приведены к формату `snake_case`. Были выявлены типы данных, в том числе определены варианты возможной оптимизации типов данных для столбцов.\n",
    "\n",
    "В дальнейшем были обработаны типы данных в столбцах, которые хранят значения даты и времени. Также была проведена оценка полноты данных, в ходе которой было выявлено, что текущих данных должно быть достаточно для решения задач проекта.\n"
   ]
  },
  {
   "cell_type": "markdown",
   "metadata": {
    "id": "u60cHsn6rJg1"
   },
   "source": [
    "## Шаг 2. Предобработка данных, предварительное исследование"
   ]
  },
  {
   "cell_type": "markdown",
   "metadata": {
    "id": "g2bHIIjcrJg1"
   },
   "source": [
    "\n",
    "### 2.1. Раунды финансирования по годам"
   ]
  },
  {
   "cell_type": "markdown",
   "metadata": {},
   "source": [
    "Составим сводную таблицу по годам, c указанием типичного размера средств, выделяемого в рамках одного раунда, а также общего количества раундов финансирования за этот год."
   ]
  },
  {
   "cell_type": "markdown",
   "metadata": {},
   "source": [
    "Предварительно выведем статистические показатели по столбцу raised_amount, чтобы определить какой показатель использовать в качестве типичного размера средств, выделяемого в рамках одного раунда."
   ]
  },
  {
   "cell_type": "code",
   "execution_count": 27,
   "metadata": {},
   "outputs": [
    {
     "name": "stdout",
     "output_type": "stream",
     "text": [
      "min:\n",
      "0.0\n",
      "max:\n",
      "3835050000.0\n",
      "std:\n",
      "42168205.893085204\n",
      "mean:\n",
      "7946092.255611396\n",
      "median:\n",
      "1600000.0\n"
     ]
    }
   ],
   "source": [
    "# Выводим статистические показатели по параметру raised_amount\n",
    "print('min:')\n",
    "print(comp_df['raised_amount'].min())\n",
    "print('max:')\n",
    "print(comp_df['raised_amount'].max())\n",
    "print('std:')\n",
    "print(comp_df['raised_amount'].std())\n",
    "print('mean:')\n",
    "print(comp_df['raised_amount'].mean())\n",
    "print('median:')\n",
    "print(comp_df['raised_amount'].median())"
   ]
  },
  {
   "cell_type": "markdown",
   "metadata": {},
   "source": [
    "Как видно из выгрузки для параметра `raised amount` наблюдается значительное значение стандартного отклонения, а также существенная разница между медианным и средним значением. В связи с чем для отражения типичного размера средств, выделяемого в рамках одного раунда, в качестве более достоверного показателя вместо среднего выступит медиана."
   ]
  },
  {
   "cell_type": "markdown",
   "metadata": {
    "id": "Cf5IjfOQrJg1",
    "vscode": {
     "languageId": "plaintext"
    }
   },
   "source": [
    "Далее составим сводную таблицу."
   ]
  },
  {
   "cell_type": "code",
   "execution_count": 28,
   "metadata": {
    "id": "8Fbz6KmzFdYP"
   },
   "outputs": [
    {
     "name": "stdout",
     "output_type": "stream",
     "text": [
      "             funding_rounds  raised_amount\n",
      "year_funded                               \n",
      "1999.0                   76      2000000.0\n",
      "2000.0                  125      4200000.0\n",
      "2001.0                   95      3000000.0\n",
      "2002.0                  115      4200000.0\n",
      "2003.0                  154      3000000.0\n",
      "2004.0                  286      5000000.0\n",
      "2005.0                 1624      5500000.0\n",
      "2006.0                 2409      5000000.0\n",
      "2007.0                 3220      3973320.0\n",
      "2008.0                 3735      3110000.0\n",
      "2009.0                 4112      2000000.0\n",
      "2010.0                 6194      1602500.0\n",
      "2011.0                 9162      1200000.0\n",
      "2012.0                 9956      1000000.0\n",
      "2013.0                11042      1200000.0\n"
     ]
    }
   ],
   "source": [
    "# Составляем сводную таблицу\n",
    "comp_df['year_funded'] = comp_df['funded_at'].dt.year\n",
    "pivot_table = pd.pivot_table(\n",
    "    comp_df,\n",
    "    index='year_funded',\n",
    "    aggfunc={'raised_amount':'median', 'funding_rounds':'count'})\n",
    "\n",
    "\n",
    "# Выводим сводную таблицу с указанием тех, лет для которых есть информация о более чем 50 раундах\n",
    "print(pivot_table[pivot_table['funding_rounds']>50])"
   ]
  },
  {
   "cell_type": "markdown",
   "metadata": {
    "id": "Z92DzKMMFdKW"
   },
   "source": [
    "Как видно из выгрузки, типичный объём средств, выделяемый на финансирование, к концу рассматриваемого периода начал снижаться.\n",
    "\n",
    "Для более наглядного отображения динамики показателя построим линейный график."
   ]
  },
  {
   "cell_type": "code",
   "execution_count": 29,
   "metadata": {},
   "outputs": [
    {
     "data": {
      "image/png": "[encoded data removed]",
      "text/plain": [
       "<Figure size 648x432 with 1 Axes>"
      ]
     },
     "metadata": {
      "needs_background": "light"
     },
     "output_type": "display_data"
    }
   ],
   "source": [
    "# Строим линейный график\n",
    "pivot_table[pivot_table['funding_rounds']>50].plot(kind='line',  y='raised_amount', figsize=(9, 6), marker='o',)\n",
    "\n",
    "# Настраиваем оси\n",
    "plt.title('Динамика типичного размера средств в рамках одного раунда финансирования')\n",
    "plt.xlabel('Год')\n",
    "plt.ylabel('Сумма финансирования, млн.')\n",
    "plt.legend(loc='upper right')\n",
    "plt.grid()\n",
    "plt.show()\n"
   ]
  },
  {
   "cell_type": "markdown",
   "metadata": {},
   "source": [
    "Как видно из графика максимальное значение типичного размера собранных в рамках одного раунда средств наблюдалось в 2005 году. В 2013 году значение показателя незначительно выросло по сравнению с 2012 годом. Однако перед этим, начиная с 2005 года, размер средств неизменно снижался, в то время как количество раундов стабильно увеличивалось."
   ]
  },
  {
   "cell_type": "markdown",
   "metadata": {
    "id": "45if1en1rJg2"
   },
   "source": [
    "\n",
    "### 2.2. Люди и их образование"
   ]
  },
  {
   "cell_type": "markdown",
   "metadata": {
    "id": "psPO7C4MrJg2",
    "vscode": {
     "languageId": "plaintext"
    }
   },
   "source": [
    "Для того, чтобы оценить долю сотрудников без информации об образовании необходимо объединить датафреймы `people_df` и `education_df`. Объединение необходимо осуществить с помощью метода `merge()`, Чтобы сохранить информацию о всех сотрудниках независимо от наличия у них образования, в качестве типа объединения будем использовать тип `left`. В качестве парметра объединения для датафрейма `people_df` будем использовать столбец `id`, для датафрейма `education_df` - столбец `person_id`. Присвоим имя `ed_of_people_df` новому датафрейму.\n",
    "\n",
    "После объединения выведем информацию о новом датафрейме, а также его первые строки."
   ]
  },
  {
   "cell_type": "code",
   "execution_count": 30,
   "metadata": {
    "id": "BThTjpLqFcsm"
   },
   "outputs": [
    {
     "name": "stdout",
     "output_type": "stream",
     "text": [
      "<class 'pandas.core.frame.DataFrame'>\n",
      "Int64Index: 267694 entries, 0 to 267693\n",
      "Data columns (total 9 columns):\n",
      " #   Column            Non-Null Count   Dtype         \n",
      "---  ------            --------------   -----         \n",
      " 0   id_x              267694 non-null  int64         \n",
      " 1   first_name        267689 non-null  object        \n",
      " 2   last_name         267693 non-null  object        \n",
      " 3   company_id        44789 non-null   float64       \n",
      " 4   network_username  50775 non-null   object        \n",
      " 5   id_y              109056 non-null  float64       \n",
      " 6   person_id         109056 non-null  float64       \n",
      " 7   instituition      109002 non-null  object        \n",
      " 8   graduated_at      57691 non-null   datetime64[ns]\n",
      "dtypes: datetime64[ns](1), float64(3), int64(1), object(4)\n",
      "memory usage: 20.4+ MB\n"
     ]
    }
   ],
   "source": [
    "# Соединим данный в единый датафрейм:\n",
    "ed_of_people_df = people_df.merge(education_df, left_on='id', right_on='person_id', how='left')\n",
    "\n",
    "# Выведем информацию о объединённом датафрейме\n",
    "ed_of_people_df.info()"
   ]
  },
  {
   "cell_type": "code",
   "execution_count": 31,
   "metadata": {},
   "outputs": [
    {
     "data": {
      "text/html": [
       "<div>\n",
       "<style scoped>\n",
       "    .dataframe tbody tr th:only-of-type {\n",
       "        vertical-align: middle;\n",
       "    }\n",
       "\n",
       "    .dataframe tbody tr th {\n",
       "        vertical-align: top;\n",
       "    }\n",
       "\n",
       "    .dataframe thead th {\n",
       "        text-align: right;\n",
       "    }\n",
       "</style>\n",
       "<table border=\"1\" class=\"dataframe\">\n",
       "  <thead>\n",
       "    <tr style=\"text-align: right;\">\n",
       "      <th></th>\n",
       "      <th>id_x</th>\n",
       "      <th>first_name</th>\n",
       "      <th>last_name</th>\n",
       "      <th>company_id</th>\n",
       "      <th>network_username</th>\n",
       "      <th>id_y</th>\n",
       "      <th>person_id</th>\n",
       "      <th>instituition</th>\n",
       "      <th>graduated_at</th>\n",
       "    </tr>\n",
       "  </thead>\n",
       "  <tbody>\n",
       "    <tr>\n",
       "      <th>0</th>\n",
       "      <td>10</td>\n",
       "      <td>Mark</td>\n",
       "      <td>Zuckerberg</td>\n",
       "      <td>5.0</td>\n",
       "      <td>NaN</td>\n",
       "      <td>2415.0</td>\n",
       "      <td>10.0</td>\n",
       "      <td>Harvard University</td>\n",
       "      <td>NaT</td>\n",
       "    </tr>\n",
       "    <tr>\n",
       "      <th>1</th>\n",
       "      <td>100</td>\n",
       "      <td>Peter</td>\n",
       "      <td>Lester</td>\n",
       "      <td>27.0</td>\n",
       "      <td>NaN</td>\n",
       "      <td>NaN</td>\n",
       "      <td>NaN</td>\n",
       "      <td>NaN</td>\n",
       "      <td>NaT</td>\n",
       "    </tr>\n",
       "    <tr>\n",
       "      <th>2</th>\n",
       "      <td>1000</td>\n",
       "      <td>Dr. Steven</td>\n",
       "      <td>E. Saunders</td>\n",
       "      <td>292.0</td>\n",
       "      <td>NaN</td>\n",
       "      <td>NaN</td>\n",
       "      <td>NaN</td>\n",
       "      <td>NaN</td>\n",
       "      <td>NaT</td>\n",
       "    </tr>\n",
       "    <tr>\n",
       "      <th>3</th>\n",
       "      <td>10000</td>\n",
       "      <td>Neil</td>\n",
       "      <td>Capel</td>\n",
       "      <td>2526.0</td>\n",
       "      <td>NaN</td>\n",
       "      <td>NaN</td>\n",
       "      <td>NaN</td>\n",
       "      <td>NaN</td>\n",
       "      <td>NaT</td>\n",
       "    </tr>\n",
       "    <tr>\n",
       "      <th>4</th>\n",
       "      <td>100000</td>\n",
       "      <td>Sue</td>\n",
       "      <td>Pilsch</td>\n",
       "      <td>NaN</td>\n",
       "      <td>NaN</td>\n",
       "      <td>NaN</td>\n",
       "      <td>NaN</td>\n",
       "      <td>NaN</td>\n",
       "      <td>NaT</td>\n",
       "    </tr>\n",
       "  </tbody>\n",
       "</table>\n",
       "</div>"
      ],
      "text/plain": [
       "     id_x  first_name    last_name  company_id network_username    id_y  \\\n",
       "0      10        Mark   Zuckerberg         5.0              NaN  2415.0   \n",
       "1     100       Peter       Lester        27.0              NaN     NaN   \n",
       "2    1000  Dr. Steven  E. Saunders       292.0              NaN     NaN   \n",
       "3   10000        Neil        Capel      2526.0              NaN     NaN   \n",
       "4  100000         Sue       Pilsch         NaN              NaN     NaN   \n",
       "\n",
       "   person_id        instituition graduated_at  \n",
       "0       10.0  Harvard University          NaT  \n",
       "1        NaN                 NaN          NaT  \n",
       "2        NaN                 NaN          NaT  \n",
       "3        NaN                 NaN          NaT  \n",
       "4        NaN                 NaN          NaT  "
      ]
     },
     "execution_count": 31,
     "metadata": {},
     "output_type": "execute_result"
    }
   ],
   "source": [
    "# Выведем первые пять строк объединённого датафрейма\n",
    "ed_of_people_df.head()"
   ]
  },
  {
   "cell_type": "markdown",
   "metadata": {},
   "source": [
    "Далее рассмотрим возможно ли присоединение к новому датафрейму датафрейма `degrees_df`. \n",
    "\n",
    "Присоединение необходимо осуществлять по столбцу `bject_id`. Однако данные в столбце записаны в формате `p:2351`, в связи с чем удалим набор символов `:` из каждой строки с помощью метода `str.replace`."
   ]
  },
  {
   "cell_type": "code",
   "execution_count": 32,
   "metadata": {},
   "outputs": [],
   "source": [
    "# Удалим лишние символы\n",
    "degrees_df['object_id']=degrees_df['object_id'].str.replace('p:', '')"
   ]
  },
  {
   "cell_type": "markdown",
   "metadata": {},
   "source": [
    "Выведем первые пять строк для оценки проведённых изменений. "
   ]
  },
  {
   "cell_type": "code",
   "execution_count": 33,
   "metadata": {},
   "outputs": [
    {
     "data": {
      "text/html": [
       "<div>\n",
       "<style scoped>\n",
       "    .dataframe tbody tr th:only-of-type {\n",
       "        vertical-align: middle;\n",
       "    }\n",
       "\n",
       "    .dataframe tbody tr th {\n",
       "        vertical-align: top;\n",
       "    }\n",
       "\n",
       "    .dataframe thead th {\n",
       "        text-align: right;\n",
       "    }\n",
       "</style>\n",
       "<table border=\"1\" class=\"dataframe\">\n",
       "  <thead>\n",
       "    <tr style=\"text-align: right;\">\n",
       "      <th></th>\n",
       "      <th>id</th>\n",
       "      <th>object_id</th>\n",
       "      <th>degree_type</th>\n",
       "      <th>subject</th>\n",
       "    </tr>\n",
       "  </thead>\n",
       "  <tbody>\n",
       "    <tr>\n",
       "      <th>0</th>\n",
       "      <td>1</td>\n",
       "      <td>6117</td>\n",
       "      <td>MBA</td>\n",
       "      <td>NaN</td>\n",
       "    </tr>\n",
       "    <tr>\n",
       "      <th>1</th>\n",
       "      <td>2</td>\n",
       "      <td>6136</td>\n",
       "      <td>BA</td>\n",
       "      <td>English, French</td>\n",
       "    </tr>\n",
       "    <tr>\n",
       "      <th>2</th>\n",
       "      <td>3</td>\n",
       "      <td>6136</td>\n",
       "      <td>MS</td>\n",
       "      <td>Mass Communication</td>\n",
       "    </tr>\n",
       "    <tr>\n",
       "      <th>3</th>\n",
       "      <td>4</td>\n",
       "      <td>6005</td>\n",
       "      <td>MS</td>\n",
       "      <td>Internet Technology</td>\n",
       "    </tr>\n",
       "    <tr>\n",
       "      <th>4</th>\n",
       "      <td>5</td>\n",
       "      <td>5832</td>\n",
       "      <td>BCS</td>\n",
       "      <td>Computer Science, Psychology</td>\n",
       "    </tr>\n",
       "  </tbody>\n",
       "</table>\n",
       "</div>"
      ],
      "text/plain": [
       "   id object_id degree_type                       subject\n",
       "0   1      6117         MBA                           NaN\n",
       "1   2      6136          BA               English, French\n",
       "2   3      6136          MS            Mass Communication\n",
       "3   4      6005          MS           Internet Technology\n",
       "4   5      5832         BCS  Computer Science, Psychology"
      ]
     },
     "execution_count": 33,
     "metadata": {},
     "output_type": "execute_result"
    }
   ],
   "source": [
    "# Выведем первые пять строк датафрейма degrees_df\n",
    "degrees_df.head()"
   ]
  },
  {
   "cell_type": "markdown",
   "metadata": {},
   "source": [
    "Как видно лишние символы успешно удалены.\n",
    "\n",
    "Далее для корректного присоединения датафрейма необходимо скорректировать формат данных в столбце `object_id`. Скорректируем формат с помощью метода `to_numeric`."
   ]
  },
  {
   "cell_type": "code",
   "execution_count": 34,
   "metadata": {},
   "outputs": [],
   "source": [
    "# Скорректируем формат для столбца object_id\n",
    "degrees_df['object_id'] = pd.to_numeric(degrees_df['object_id'], downcast='float')"
   ]
  },
  {
   "cell_type": "markdown",
   "metadata": {},
   "source": [
    "Выведем информацию об обновлённом датафрейме `degrees_df`."
   ]
  },
  {
   "cell_type": "code",
   "execution_count": 35,
   "metadata": {},
   "outputs": [
    {
     "name": "stdout",
     "output_type": "stream",
     "text": [
      "<class 'pandas.core.frame.DataFrame'>\n",
      "RangeIndex: 109610 entries, 0 to 109609\n",
      "Data columns (total 4 columns):\n",
      " #   Column       Non-Null Count   Dtype  \n",
      "---  ------       --------------   -----  \n",
      " 0   id           109610 non-null  int64  \n",
      " 1   object_id    109610 non-null  float32\n",
      " 2   degree_type  98392 non-null   object \n",
      " 3   subject      81298 non-null   object \n",
      "dtypes: float32(1), int64(1), object(2)\n",
      "memory usage: 2.9+ MB\n"
     ]
    }
   ],
   "source": [
    "# Выведем информацию о датафрейме degrees_df\n",
    "degrees_df.info()"
   ]
  },
  {
   "cell_type": "markdown",
   "metadata": {},
   "source": [
    "Как  видно формат успешно изменён.\n",
    "\n",
    "Далее приступим к объединению датафрйемов. Чтобы сохранить информацию о всех сотрудниках в качестве типа объединения будем использовать тип `outer`. В качестве параметра объединения для датафрейма `ed_of_people_df` будем использовать столбец `id_y`, для датафрейма `degrees_df `- столбец `object_id`. Для нового датафрейма оставим имя `ed_of_people_df`."
   ]
  },
  {
   "cell_type": "code",
   "execution_count": 36,
   "metadata": {},
   "outputs": [],
   "source": [
    "# Присоединим к датафрейму ed_of_people_df датафрейм degrees_df\n",
    "ed_of_people_df = ed_of_people_df.merge(degrees_df, left_on='id_y', right_on='object_id', how='outer')"
   ]
  },
  {
   "cell_type": "markdown",
   "metadata": {},
   "source": [
    "Выведем информацию о сохранённом датафрйеме."
   ]
  },
  {
   "cell_type": "code",
   "execution_count": 37,
   "metadata": {},
   "outputs": [
    {
     "name": "stdout",
     "output_type": "stream",
     "text": [
      "<class 'pandas.core.frame.DataFrame'>\n",
      "Int64Index: 353336 entries, 0 to 353335\n",
      "Data columns (total 13 columns):\n",
      " #   Column            Non-Null Count   Dtype         \n",
      "---  ------            --------------   -----         \n",
      " 0   id_x              281205 non-null  float64       \n",
      " 1   first_name        281200 non-null  object        \n",
      " 2   last_name         281204 non-null  object        \n",
      " 3   company_id        48807 non-null   float64       \n",
      " 4   network_username  55277 non-null   object        \n",
      " 5   id_y              122567 non-null  float64       \n",
      " 6   person_id         122567 non-null  float64       \n",
      " 7   instituition      122508 non-null  object        \n",
      " 8   graduated_at      65353 non-null   datetime64[ns]\n",
      " 9   id                109610 non-null  float64       \n",
      " 10  object_id         109610 non-null  float32       \n",
      " 11  degree_type       98392 non-null   object        \n",
      " 12  subject           81298 non-null   object        \n",
      "dtypes: datetime64[ns](1), float32(1), float64(5), object(6)\n",
      "memory usage: 36.4+ MB\n"
     ]
    }
   ],
   "source": [
    "# Выедем информацию об обновлённом датафрейме\n",
    "ed_of_people_df.info()"
   ]
  },
  {
   "cell_type": "code",
   "execution_count": 38,
   "metadata": {},
   "outputs": [
    {
     "data": {
      "text/html": [
       "<div>\n",
       "<style scoped>\n",
       "    .dataframe tbody tr th:only-of-type {\n",
       "        vertical-align: middle;\n",
       "    }\n",
       "\n",
       "    .dataframe tbody tr th {\n",
       "        vertical-align: top;\n",
       "    }\n",
       "\n",
       "    .dataframe thead th {\n",
       "        text-align: right;\n",
       "    }\n",
       "</style>\n",
       "<table border=\"1\" class=\"dataframe\">\n",
       "  <thead>\n",
       "    <tr style=\"text-align: right;\">\n",
       "      <th></th>\n",
       "      <th>id_x</th>\n",
       "      <th>first_name</th>\n",
       "      <th>last_name</th>\n",
       "      <th>company_id</th>\n",
       "      <th>network_username</th>\n",
       "      <th>id_y</th>\n",
       "      <th>person_id</th>\n",
       "      <th>instituition</th>\n",
       "      <th>graduated_at</th>\n",
       "      <th>id</th>\n",
       "      <th>object_id</th>\n",
       "      <th>degree_type</th>\n",
       "      <th>subject</th>\n",
       "    </tr>\n",
       "  </thead>\n",
       "  <tbody>\n",
       "    <tr>\n",
       "      <th>0</th>\n",
       "      <td>10.0</td>\n",
       "      <td>Mark</td>\n",
       "      <td>Zuckerberg</td>\n",
       "      <td>5.0</td>\n",
       "      <td>NaN</td>\n",
       "      <td>2415.0</td>\n",
       "      <td>10.0</td>\n",
       "      <td>Harvard University</td>\n",
       "      <td>NaT</td>\n",
       "      <td>NaN</td>\n",
       "      <td>NaN</td>\n",
       "      <td>NaN</td>\n",
       "      <td>NaN</td>\n",
       "    </tr>\n",
       "    <tr>\n",
       "      <th>1</th>\n",
       "      <td>100.0</td>\n",
       "      <td>Peter</td>\n",
       "      <td>Lester</td>\n",
       "      <td>27.0</td>\n",
       "      <td>NaN</td>\n",
       "      <td>NaN</td>\n",
       "      <td>NaN</td>\n",
       "      <td>NaN</td>\n",
       "      <td>NaT</td>\n",
       "      <td>NaN</td>\n",
       "      <td>NaN</td>\n",
       "      <td>NaN</td>\n",
       "      <td>NaN</td>\n",
       "    </tr>\n",
       "    <tr>\n",
       "      <th>2</th>\n",
       "      <td>1000.0</td>\n",
       "      <td>Dr. Steven</td>\n",
       "      <td>E. Saunders</td>\n",
       "      <td>292.0</td>\n",
       "      <td>NaN</td>\n",
       "      <td>NaN</td>\n",
       "      <td>NaN</td>\n",
       "      <td>NaN</td>\n",
       "      <td>NaT</td>\n",
       "      <td>NaN</td>\n",
       "      <td>NaN</td>\n",
       "      <td>NaN</td>\n",
       "      <td>NaN</td>\n",
       "    </tr>\n",
       "    <tr>\n",
       "      <th>3</th>\n",
       "      <td>10000.0</td>\n",
       "      <td>Neil</td>\n",
       "      <td>Capel</td>\n",
       "      <td>2526.0</td>\n",
       "      <td>NaN</td>\n",
       "      <td>NaN</td>\n",
       "      <td>NaN</td>\n",
       "      <td>NaN</td>\n",
       "      <td>NaT</td>\n",
       "      <td>NaN</td>\n",
       "      <td>NaN</td>\n",
       "      <td>NaN</td>\n",
       "      <td>NaN</td>\n",
       "    </tr>\n",
       "    <tr>\n",
       "      <th>4</th>\n",
       "      <td>100000.0</td>\n",
       "      <td>Sue</td>\n",
       "      <td>Pilsch</td>\n",
       "      <td>NaN</td>\n",
       "      <td>NaN</td>\n",
       "      <td>NaN</td>\n",
       "      <td>NaN</td>\n",
       "      <td>NaN</td>\n",
       "      <td>NaT</td>\n",
       "      <td>NaN</td>\n",
       "      <td>NaN</td>\n",
       "      <td>NaN</td>\n",
       "      <td>NaN</td>\n",
       "    </tr>\n",
       "    <tr>\n",
       "      <th>5</th>\n",
       "      <td>100002.0</td>\n",
       "      <td>Keith</td>\n",
       "      <td>Kurzendoerfer</td>\n",
       "      <td>NaN</td>\n",
       "      <td>NaN</td>\n",
       "      <td>NaN</td>\n",
       "      <td>NaN</td>\n",
       "      <td>NaN</td>\n",
       "      <td>NaT</td>\n",
       "      <td>NaN</td>\n",
       "      <td>NaN</td>\n",
       "      <td>NaN</td>\n",
       "      <td>NaN</td>\n",
       "    </tr>\n",
       "    <tr>\n",
       "      <th>6</th>\n",
       "      <td>100009.0</td>\n",
       "      <td>Eddy</td>\n",
       "      <td>Badrina</td>\n",
       "      <td>NaN</td>\n",
       "      <td>NaN</td>\n",
       "      <td>NaN</td>\n",
       "      <td>NaN</td>\n",
       "      <td>NaN</td>\n",
       "      <td>NaT</td>\n",
       "      <td>NaN</td>\n",
       "      <td>NaN</td>\n",
       "      <td>NaN</td>\n",
       "      <td>NaN</td>\n",
       "    </tr>\n",
       "    <tr>\n",
       "      <th>7</th>\n",
       "      <td>100010.0</td>\n",
       "      <td>Michael</td>\n",
       "      <td>Dadashyan</td>\n",
       "      <td>NaN</td>\n",
       "      <td>fbroulette</td>\n",
       "      <td>NaN</td>\n",
       "      <td>NaN</td>\n",
       "      <td>NaN</td>\n",
       "      <td>NaT</td>\n",
       "      <td>NaN</td>\n",
       "      <td>NaN</td>\n",
       "      <td>NaN</td>\n",
       "      <td>NaN</td>\n",
       "    </tr>\n",
       "    <tr>\n",
       "      <th>8</th>\n",
       "      <td>100011.0</td>\n",
       "      <td>Jeff</td>\n",
       "      <td>Grell</td>\n",
       "      <td>NaN</td>\n",
       "      <td>NaN</td>\n",
       "      <td>NaN</td>\n",
       "      <td>NaN</td>\n",
       "      <td>NaN</td>\n",
       "      <td>NaT</td>\n",
       "      <td>NaN</td>\n",
       "      <td>NaN</td>\n",
       "      <td>NaN</td>\n",
       "      <td>NaN</td>\n",
       "    </tr>\n",
       "    <tr>\n",
       "      <th>9</th>\n",
       "      <td>100012.0</td>\n",
       "      <td>Nick</td>\n",
       "      <td>Bova</td>\n",
       "      <td>NaN</td>\n",
       "      <td>NaN</td>\n",
       "      <td>NaN</td>\n",
       "      <td>NaN</td>\n",
       "      <td>NaN</td>\n",
       "      <td>NaT</td>\n",
       "      <td>NaN</td>\n",
       "      <td>NaN</td>\n",
       "      <td>NaN</td>\n",
       "      <td>NaN</td>\n",
       "    </tr>\n",
       "  </tbody>\n",
       "</table>\n",
       "</div>"
      ],
      "text/plain": [
       "       id_x  first_name      last_name  company_id network_username    id_y  \\\n",
       "0      10.0        Mark     Zuckerberg         5.0              NaN  2415.0   \n",
       "1     100.0       Peter         Lester        27.0              NaN     NaN   \n",
       "2    1000.0  Dr. Steven    E. Saunders       292.0              NaN     NaN   \n",
       "3   10000.0        Neil          Capel      2526.0              NaN     NaN   \n",
       "4  100000.0         Sue         Pilsch         NaN              NaN     NaN   \n",
       "5  100002.0       Keith  Kurzendoerfer         NaN              NaN     NaN   \n",
       "6  100009.0        Eddy        Badrina         NaN              NaN     NaN   \n",
       "7  100010.0     Michael      Dadashyan         NaN       fbroulette     NaN   \n",
       "8  100011.0        Jeff          Grell         NaN              NaN     NaN   \n",
       "9  100012.0        Nick           Bova         NaN              NaN     NaN   \n",
       "\n",
       "   person_id        instituition graduated_at  id  object_id degree_type  \\\n",
       "0       10.0  Harvard University          NaT NaN        NaN         NaN   \n",
       "1        NaN                 NaN          NaT NaN        NaN         NaN   \n",
       "2        NaN                 NaN          NaT NaN        NaN         NaN   \n",
       "3        NaN                 NaN          NaT NaN        NaN         NaN   \n",
       "4        NaN                 NaN          NaT NaN        NaN         NaN   \n",
       "5        NaN                 NaN          NaT NaN        NaN         NaN   \n",
       "6        NaN                 NaN          NaT NaN        NaN         NaN   \n",
       "7        NaN                 NaN          NaT NaN        NaN         NaN   \n",
       "8        NaN                 NaN          NaT NaN        NaN         NaN   \n",
       "9        NaN                 NaN          NaT NaN        NaN         NaN   \n",
       "\n",
       "  subject  \n",
       "0     NaN  \n",
       "1     NaN  \n",
       "2     NaN  \n",
       "3     NaN  \n",
       "4     NaN  \n",
       "5     NaN  \n",
       "6     NaN  \n",
       "7     NaN  \n",
       "8     NaN  \n",
       "9     NaN  "
      ]
     },
     "execution_count": 38,
     "metadata": {},
     "output_type": "execute_result"
    }
   ],
   "source": [
    "# Выведем первые пять строк обновлённого датафрейма\n",
    "ed_of_people_df.head(10)"
   ]
  },
  {
   "cell_type": "markdown",
   "metadata": {},
   "source": [
    "Далее для расчёта доли сотрудников, у которых отсутствует информацию об образовании, необходимо вывести столбец с признаком отсутствия/наличия информации об образовании.\n",
    "\n",
    "В качестве данного критерия будем рассматривать наличие или отсутствие информации по столбцу `instituition`. Однако для создания функции, анализирующей соответствующий критерий, необходимо предварительно обработать пропуски в столбце. Т.к. столбец содержит текстовую информацию, заменим в нём пропуски на пустую строку."
   ]
  },
  {
   "cell_type": "code",
   "execution_count": 39,
   "metadata": {},
   "outputs": [],
   "source": [
    "# Заменим пропуски в столбце instituition\n",
    "ed_of_people_df['instituition']=ed_of_people_df['instituition'].fillna('')"
   ]
  },
  {
   "cell_type": "markdown",
   "metadata": {},
   "source": [
    "Далее создадим функцию, которая создаст новый столбец с бинарным признаком в зависимости от значения в столбце `instituition`."
   ]
  },
  {
   "cell_type": "code",
   "execution_count": 40,
   "metadata": {},
   "outputs": [],
   "source": [
    "# Создадим функцию с бинарным признаком в зависимости от наличия информации в столбце instituition \n",
    "def create_is_info_educ(x):\n",
    "    if x=='':\n",
    "        return True\n",
    "    return False"
   ]
  },
  {
   "cell_type": "markdown",
   "metadata": {},
   "source": [
    "В случае если в условии `if` срабатывает условие, что значение в строке равно пустой строке, то функция возвращает True, что означает, что информация об образовании отсутствует. Если в строке содержится другое значение, то функция возвращает False. Применим эту функцию к столбцу `instituition` и создадим новый столбец `is_not_info_educ`."
   ]
  },
  {
   "cell_type": "code",
   "execution_count": 41,
   "metadata": {},
   "outputs": [],
   "source": [
    "# Создаём столбец is_24_7 с помощью функции create_is_24_7\n",
    "ed_of_people_df['is_not_info_educ'] = ed_of_people_df['instituition'].apply(create_is_info_educ)"
   ]
  },
  {
   "cell_type": "markdown",
   "metadata": {},
   "source": [
    "Выведем первые пять строк обновленного датафрейма."
   ]
  },
  {
   "cell_type": "code",
   "execution_count": 42,
   "metadata": {
    "scrolled": true
   },
   "outputs": [
    {
     "data": {
      "text/html": [
       "<div>\n",
       "<style scoped>\n",
       "    .dataframe tbody tr th:only-of-type {\n",
       "        vertical-align: middle;\n",
       "    }\n",
       "\n",
       "    .dataframe tbody tr th {\n",
       "        vertical-align: top;\n",
       "    }\n",
       "\n",
       "    .dataframe thead th {\n",
       "        text-align: right;\n",
       "    }\n",
       "</style>\n",
       "<table border=\"1\" class=\"dataframe\">\n",
       "  <thead>\n",
       "    <tr style=\"text-align: right;\">\n",
       "      <th></th>\n",
       "      <th>id_x</th>\n",
       "      <th>first_name</th>\n",
       "      <th>last_name</th>\n",
       "      <th>company_id</th>\n",
       "      <th>network_username</th>\n",
       "      <th>id_y</th>\n",
       "      <th>person_id</th>\n",
       "      <th>instituition</th>\n",
       "      <th>graduated_at</th>\n",
       "      <th>id</th>\n",
       "      <th>object_id</th>\n",
       "      <th>degree_type</th>\n",
       "      <th>subject</th>\n",
       "      <th>is_not_info_educ</th>\n",
       "    </tr>\n",
       "  </thead>\n",
       "  <tbody>\n",
       "    <tr>\n",
       "      <th>0</th>\n",
       "      <td>10.0</td>\n",
       "      <td>Mark</td>\n",
       "      <td>Zuckerberg</td>\n",
       "      <td>5.0</td>\n",
       "      <td>NaN</td>\n",
       "      <td>2415.0</td>\n",
       "      <td>10.0</td>\n",
       "      <td>Harvard University</td>\n",
       "      <td>NaT</td>\n",
       "      <td>NaN</td>\n",
       "      <td>NaN</td>\n",
       "      <td>NaN</td>\n",
       "      <td>NaN</td>\n",
       "      <td>False</td>\n",
       "    </tr>\n",
       "    <tr>\n",
       "      <th>1</th>\n",
       "      <td>100.0</td>\n",
       "      <td>Peter</td>\n",
       "      <td>Lester</td>\n",
       "      <td>27.0</td>\n",
       "      <td>NaN</td>\n",
       "      <td>NaN</td>\n",
       "      <td>NaN</td>\n",
       "      <td></td>\n",
       "      <td>NaT</td>\n",
       "      <td>NaN</td>\n",
       "      <td>NaN</td>\n",
       "      <td>NaN</td>\n",
       "      <td>NaN</td>\n",
       "      <td>True</td>\n",
       "    </tr>\n",
       "    <tr>\n",
       "      <th>2</th>\n",
       "      <td>1000.0</td>\n",
       "      <td>Dr. Steven</td>\n",
       "      <td>E. Saunders</td>\n",
       "      <td>292.0</td>\n",
       "      <td>NaN</td>\n",
       "      <td>NaN</td>\n",
       "      <td>NaN</td>\n",
       "      <td></td>\n",
       "      <td>NaT</td>\n",
       "      <td>NaN</td>\n",
       "      <td>NaN</td>\n",
       "      <td>NaN</td>\n",
       "      <td>NaN</td>\n",
       "      <td>True</td>\n",
       "    </tr>\n",
       "    <tr>\n",
       "      <th>3</th>\n",
       "      <td>10000.0</td>\n",
       "      <td>Neil</td>\n",
       "      <td>Capel</td>\n",
       "      <td>2526.0</td>\n",
       "      <td>NaN</td>\n",
       "      <td>NaN</td>\n",
       "      <td>NaN</td>\n",
       "      <td></td>\n",
       "      <td>NaT</td>\n",
       "      <td>NaN</td>\n",
       "      <td>NaN</td>\n",
       "      <td>NaN</td>\n",
       "      <td>NaN</td>\n",
       "      <td>True</td>\n",
       "    </tr>\n",
       "    <tr>\n",
       "      <th>4</th>\n",
       "      <td>100000.0</td>\n",
       "      <td>Sue</td>\n",
       "      <td>Pilsch</td>\n",
       "      <td>NaN</td>\n",
       "      <td>NaN</td>\n",
       "      <td>NaN</td>\n",
       "      <td>NaN</td>\n",
       "      <td></td>\n",
       "      <td>NaT</td>\n",
       "      <td>NaN</td>\n",
       "      <td>NaN</td>\n",
       "      <td>NaN</td>\n",
       "      <td>NaN</td>\n",
       "      <td>True</td>\n",
       "    </tr>\n",
       "  </tbody>\n",
       "</table>\n",
       "</div>"
      ],
      "text/plain": [
       "       id_x  first_name    last_name  company_id network_username    id_y  \\\n",
       "0      10.0        Mark   Zuckerberg         5.0              NaN  2415.0   \n",
       "1     100.0       Peter       Lester        27.0              NaN     NaN   \n",
       "2    1000.0  Dr. Steven  E. Saunders       292.0              NaN     NaN   \n",
       "3   10000.0        Neil        Capel      2526.0              NaN     NaN   \n",
       "4  100000.0         Sue       Pilsch         NaN              NaN     NaN   \n",
       "\n",
       "   person_id        instituition graduated_at  id  object_id degree_type  \\\n",
       "0       10.0  Harvard University          NaT NaN        NaN         NaN   \n",
       "1        NaN                              NaT NaN        NaN         NaN   \n",
       "2        NaN                              NaT NaN        NaN         NaN   \n",
       "3        NaN                              NaT NaN        NaN         NaN   \n",
       "4        NaN                              NaT NaN        NaN         NaN   \n",
       "\n",
       "  subject  is_not_info_educ  \n",
       "0     NaN             False  \n",
       "1     NaN              True  \n",
       "2     NaN              True  \n",
       "3     NaN              True  \n",
       "4     NaN              True  "
      ]
     },
     "execution_count": 42,
     "metadata": {},
     "output_type": "execute_result"
    }
   ],
   "source": [
    "# Выведем первые пять строк обновленного датафрейма\n",
    "ed_of_people_df.head()"
   ]
  },
  {
   "cell_type": "markdown",
   "metadata": {},
   "source": [
    "Как видно из выгрузки функция работает корректно.\n",
    "\n",
    "Далее сгруппируем данные датафрейма по компаниям. В качестве столбца, по которому будет осуществляться группировка, будем использовать столбец `company_id`. Для каждой компании рассчитаем общее количество сотрудников, а также количество сотрудников, по которым отсутствует информацию об образовании. Новому датафрейму присвоим имя `grouped`."
   ]
  },
  {
   "cell_type": "code",
   "execution_count": 43,
   "metadata": {},
   "outputs": [
    {
     "name": "stdout",
     "output_type": "stream",
     "text": [
      "            id_x  is_not_info_educ\n",
      "company_id                        \n",
      "1.0            3                 1\n",
      "2.0            1                 0\n",
      "3.0            5                 1\n",
      "4.0           22                 1\n",
      "5.0           91                16\n",
      "...          ...               ...\n",
      "285897.0       2                 0\n",
      "285953.0       1                 1\n",
      "285972.0       2                 1\n",
      "285996.0       1                 0\n",
      "286091.0       7                 2\n",
      "\n",
      "[22922 rows x 2 columns]\n"
     ]
    }
   ],
   "source": [
    "# Рассчитаем количество общей количество сотрудников и количество сотрудников, по которым отсутствует информацию об образовании\n",
    "grouped=ed_of_people_df.groupby('company_id').agg({'id_x':'count','is_not_info_educ': 'sum'})\n",
    "print(grouped)"
   ]
  },
  {
   "cell_type": "markdown",
   "metadata": {},
   "source": [
    "Далее выведем новый столбец с долей сотрудников, у которых отсутствует информация о образовании. Столбцу присвоим имя `info_ed_share`."
   ]
  },
  {
   "cell_type": "code",
   "execution_count": 44,
   "metadata": {},
   "outputs": [
    {
     "name": "stdout",
     "output_type": "stream",
     "text": [
      "            id_x  is_not_info_educ  info_ed_share\n",
      "company_id                                       \n",
      "1.0            3                 1      33.333333\n",
      "2.0            1                 0       0.000000\n",
      "3.0            5                 1      20.000000\n",
      "4.0           22                 1       4.545455\n",
      "5.0           91                16      17.582418\n",
      "...          ...               ...            ...\n",
      "285897.0       2                 0       0.000000\n",
      "285953.0       1                 1     100.000000\n",
      "285972.0       2                 1      50.000000\n",
      "285996.0       1                 0       0.000000\n",
      "286091.0       7                 2      28.571429\n",
      "\n",
      "[22922 rows x 3 columns]\n"
     ]
    }
   ],
   "source": [
    "# Выведем столбец с долей сотрудников, у которых отсутствует информацию об образовании\n",
    "grouped['info_ed_share']=grouped['is_not_info_educ']/grouped['id_x']*100\n",
    "print(grouped)"
   ]
  },
  {
   "cell_type": "markdown",
   "metadata": {},
   "source": [
    "Далее необходимо разделить все компании на несколько групп по количеству сотрудников. Для этого воспользуемся методом `value_counts()`."
   ]
  },
  {
   "cell_type": "code",
   "execution_count": 45,
   "metadata": {},
   "outputs": [
    {
     "data": {
      "text/plain": [
       "1      13518\n",
       "2       4488\n",
       "3       2078\n",
       "4       1084\n",
       "5        583\n",
       "6        335\n",
       "7        222\n",
       "8        146\n",
       "9        102\n",
       "10        79\n",
       "11        55\n",
       "12        40\n",
       "13        33\n",
       "16        17\n",
       "17        17\n",
       "15        16\n",
       "14        15\n",
       "18        12\n",
       "20         9\n",
       "21         9\n",
       "19         7\n",
       "22         7\n",
       "29         5\n",
       "23         5\n",
       "28         3\n",
       "30         2\n",
       "24         2\n",
       "27         2\n",
       "31         2\n",
       "68         1\n",
       "89         1\n",
       "84         1\n",
       "58         1\n",
       "42         1\n",
       "26         1\n",
       "37         1\n",
       "40         1\n",
       "41         1\n",
       "25         1\n",
       "53         1\n",
       "437        1\n",
       "262        1\n",
       "119        1\n",
       "32         1\n",
       "91         1\n",
       "36         1\n",
       "83         1\n",
       "92         1\n",
       "51         1\n",
       "226        1\n",
       "45         1\n",
       "77         1\n",
       "66         1\n",
       "34         1\n",
       "46         1\n",
       "49         1\n",
       "43         1\n",
       "71         1\n",
       "Name: id_x, dtype: int64"
      ]
     },
     "execution_count": 45,
     "metadata": {},
     "output_type": "execute_result"
    }
   ],
   "source": [
    "# Выведем возможные значения по количеству сотрудников\n",
    "grouped['id_x'].value_counts().sort_values(ascending=False)"
   ]
  },
  {
   "cell_type": "markdown",
   "metadata": {},
   "source": [
    "Как видно из выгрузки, в большинстве компаний числится один сотрудник. Далее по мере увеличения количества сотрудников, количество компаний снижается. Значительное количество компаний имеют по 2 и 3 сотрудника. Затем количество компаний, имеющих в штате более 3 сотрудников значительно сокращается, в связи с чем объединим в одну группу компании с количеством сотрудников от 4 до 9 включительно. В следующую группу включим компании с числом работников от 10 до 20 включительно. В последнюю группу войдут компании, в которых числится более 20 работников."
   ]
  },
  {
   "cell_type": "code",
   "execution_count": 46,
   "metadata": {
    "id": "4FC98Pd-FcmG"
   },
   "outputs": [
    {
     "data": {
      "text/html": [
       "<div>\n",
       "<style scoped>\n",
       "    .dataframe tbody tr th:only-of-type {\n",
       "        vertical-align: middle;\n",
       "    }\n",
       "\n",
       "    .dataframe tbody tr th {\n",
       "        vertical-align: top;\n",
       "    }\n",
       "\n",
       "    .dataframe thead th {\n",
       "        text-align: right;\n",
       "    }\n",
       "</style>\n",
       "<table border=\"1\" class=\"dataframe\">\n",
       "  <thead>\n",
       "    <tr style=\"text-align: right;\">\n",
       "      <th></th>\n",
       "      <th>id_x</th>\n",
       "      <th>is_not_info_educ</th>\n",
       "      <th>info_ed_share</th>\n",
       "      <th>people_quantity_group</th>\n",
       "    </tr>\n",
       "    <tr>\n",
       "      <th>company_id</th>\n",
       "      <th></th>\n",
       "      <th></th>\n",
       "      <th></th>\n",
       "      <th></th>\n",
       "    </tr>\n",
       "  </thead>\n",
       "  <tbody>\n",
       "    <tr>\n",
       "      <th>1.0</th>\n",
       "      <td>3</td>\n",
       "      <td>1</td>\n",
       "      <td>33.333333</td>\n",
       "      <td>3</td>\n",
       "    </tr>\n",
       "    <tr>\n",
       "      <th>2.0</th>\n",
       "      <td>1</td>\n",
       "      <td>0</td>\n",
       "      <td>0.000000</td>\n",
       "      <td>1</td>\n",
       "    </tr>\n",
       "    <tr>\n",
       "      <th>3.0</th>\n",
       "      <td>5</td>\n",
       "      <td>1</td>\n",
       "      <td>20.000000</td>\n",
       "      <td>4-9</td>\n",
       "    </tr>\n",
       "    <tr>\n",
       "      <th>4.0</th>\n",
       "      <td>22</td>\n",
       "      <td>1</td>\n",
       "      <td>4.545455</td>\n",
       "      <td>21+</td>\n",
       "    </tr>\n",
       "    <tr>\n",
       "      <th>5.0</th>\n",
       "      <td>91</td>\n",
       "      <td>16</td>\n",
       "      <td>17.582418</td>\n",
       "      <td>21+</td>\n",
       "    </tr>\n",
       "    <tr>\n",
       "      <th>8.0</th>\n",
       "      <td>3</td>\n",
       "      <td>3</td>\n",
       "      <td>100.000000</td>\n",
       "      <td>3</td>\n",
       "    </tr>\n",
       "    <tr>\n",
       "      <th>9.0</th>\n",
       "      <td>1</td>\n",
       "      <td>0</td>\n",
       "      <td>0.000000</td>\n",
       "      <td>1</td>\n",
       "    </tr>\n",
       "    <tr>\n",
       "      <th>10.0</th>\n",
       "      <td>4</td>\n",
       "      <td>1</td>\n",
       "      <td>25.000000</td>\n",
       "      <td>4-9</td>\n",
       "    </tr>\n",
       "    <tr>\n",
       "      <th>11.0</th>\n",
       "      <td>5</td>\n",
       "      <td>1</td>\n",
       "      <td>20.000000</td>\n",
       "      <td>4-9</td>\n",
       "    </tr>\n",
       "    <tr>\n",
       "      <th>12.0</th>\n",
       "      <td>71</td>\n",
       "      <td>25</td>\n",
       "      <td>35.211268</td>\n",
       "      <td>21+</td>\n",
       "    </tr>\n",
       "  </tbody>\n",
       "</table>\n",
       "</div>"
      ],
      "text/plain": [
       "            id_x  is_not_info_educ  info_ed_share people_quantity_group\n",
       "company_id                                                             \n",
       "1.0            3                 1      33.333333                     3\n",
       "2.0            1                 0       0.000000                     1\n",
       "3.0            5                 1      20.000000                   4-9\n",
       "4.0           22                 1       4.545455                   21+\n",
       "5.0           91                16      17.582418                   21+\n",
       "8.0            3                 3     100.000000                     3\n",
       "9.0            1                 0       0.000000                     1\n",
       "10.0           4                 1      25.000000                   4-9\n",
       "11.0           5                 1      20.000000                   4-9\n",
       "12.0          71                25      35.211268                   21+"
      ]
     },
     "execution_count": 46,
     "metadata": {},
     "output_type": "execute_result"
    }
   ],
   "source": [
    "# Разделим компании по количеству работников\n",
    "grouped['people_quantity_group'] = pd.cut(grouped['id_x'], bins=[0, 1, 2, 3, 9, 20, 437], labels=[\"1\", \"2\", \"3\", \"4-9\", \"10-20\", \"21+\"])\n",
    "\n",
    "# Выведем первые десять строк обновлённого датафрейма.\n",
    "grouped.head(10)"
   ]
  },
  {
   "cell_type": "markdown",
   "metadata": {},
   "source": [
    "Далее для каждой группы выведем среднюю долю сотрудников, не имеющих информацию об образовании."
   ]
  },
  {
   "cell_type": "code",
   "execution_count": 47,
   "metadata": {},
   "outputs": [
    {
     "data": {
      "text/html": [
       "<div>\n",
       "<style scoped>\n",
       "    .dataframe tbody tr th:only-of-type {\n",
       "        vertical-align: middle;\n",
       "    }\n",
       "\n",
       "    .dataframe tbody tr th {\n",
       "        vertical-align: top;\n",
       "    }\n",
       "\n",
       "    .dataframe thead th {\n",
       "        text-align: right;\n",
       "    }\n",
       "</style>\n",
       "<table border=\"1\" class=\"dataframe\">\n",
       "  <thead>\n",
       "    <tr style=\"text-align: right;\">\n",
       "      <th></th>\n",
       "      <th>people_quantity_group</th>\n",
       "      <th>info_ed_share</th>\n",
       "    </tr>\n",
       "    <tr>\n",
       "      <th>people_quantity_group</th>\n",
       "      <th></th>\n",
       "      <th></th>\n",
       "    </tr>\n",
       "  </thead>\n",
       "  <tbody>\n",
       "    <tr>\n",
       "      <th>1</th>\n",
       "      <td>13518</td>\n",
       "      <td>62.050599</td>\n",
       "    </tr>\n",
       "    <tr>\n",
       "      <th>2</th>\n",
       "      <td>4488</td>\n",
       "      <td>23.028075</td>\n",
       "    </tr>\n",
       "    <tr>\n",
       "      <th>3</th>\n",
       "      <td>2078</td>\n",
       "      <td>19.666346</td>\n",
       "    </tr>\n",
       "    <tr>\n",
       "      <th>4-9</th>\n",
       "      <td>2472</td>\n",
       "      <td>22.051308</td>\n",
       "    </tr>\n",
       "    <tr>\n",
       "      <th>10-20</th>\n",
       "      <td>300</td>\n",
       "      <td>26.889136</td>\n",
       "    </tr>\n",
       "    <tr>\n",
       "      <th>21+</th>\n",
       "      <td>66</td>\n",
       "      <td>18.465459</td>\n",
       "    </tr>\n",
       "  </tbody>\n",
       "</table>\n",
       "</div>"
      ],
      "text/plain": [
       "                       people_quantity_group  info_ed_share\n",
       "people_quantity_group                                      \n",
       "1                                      13518      62.050599\n",
       "2                                       4488      23.028075\n",
       "3                                       2078      19.666346\n",
       "4-9                                     2472      22.051308\n",
       "10-20                                    300      26.889136\n",
       "21+                                       66      18.465459"
      ]
     },
     "execution_count": 47,
     "metadata": {},
     "output_type": "execute_result"
    }
   ],
   "source": [
    "# Для каждой группы выведем среднюю долю сотрудников, не имеющих информацию об образовании\n",
    "grouped.groupby('people_quantity_group').agg({'people_quantity_group':'count', 'info_ed_share': 'mean'})"
   ]
  },
  {
   "cell_type": "markdown",
   "metadata": {},
   "source": [
    "Как видно из выгрузки, наибольшей долей сотрудников без информации обладают компании с одним сотрудником - более 59%. Для компаний с двумя и тремя сотрудниками величина показателя существенно ниже - 21,8% и 27,4% соответственно. Наименьшей долей обладают компании с числом сотрудников более 20 - 18,5%."
   ]
  },
  {
   "cell_type": "markdown",
   "metadata": {
    "id": "Lz7qjM32xglW"
   },
   "source": [
    "### 2.3. Анализ датасетов на возможность объединения"
   ]
  },
  {
   "cell_type": "markdown",
   "metadata": {
    "id": "zyI3rt0rxg1O"
   },
   "source": [
    "Столбец `network_username` содержится в датасетах `company_and_rounds.csv` и `people.csv`. Выведем первые 10 для обоих датасетов."
   ]
  },
  {
   "cell_type": "code",
   "execution_count": 49,
   "metadata": {},
   "outputs": [
    {
     "data": {
      "text/html": [
       "<div>\n",
       "<style scoped>\n",
       "    .dataframe tbody tr th:only-of-type {\n",
       "        vertical-align: middle;\n",
       "    }\n",
       "\n",
       "    .dataframe tbody tr th {\n",
       "        vertical-align: top;\n",
       "    }\n",
       "\n",
       "    .dataframe thead th {\n",
       "        text-align: right;\n",
       "    }\n",
       "</style>\n",
       "<table border=\"1\" class=\"dataframe\">\n",
       "  <thead>\n",
       "    <tr style=\"text-align: right;\">\n",
       "      <th></th>\n",
       "      <th>company_id</th>\n",
       "      <th>name</th>\n",
       "      <th>category_code</th>\n",
       "      <th>status</th>\n",
       "      <th>founded_at</th>\n",
       "      <th>closed_at</th>\n",
       "      <th>domain</th>\n",
       "      <th>network_username</th>\n",
       "      <th>country_code</th>\n",
       "      <th>investment_rounds</th>\n",
       "      <th>...</th>\n",
       "      <th>funding_round_id</th>\n",
       "      <th>company_id_fund</th>\n",
       "      <th>funded_at</th>\n",
       "      <th>funding_round_type</th>\n",
       "      <th>raised_amount</th>\n",
       "      <th>pre_money_valuation</th>\n",
       "      <th>participants</th>\n",
       "      <th>is_first_round</th>\n",
       "      <th>is_last_round</th>\n",
       "      <th>year_funded</th>\n",
       "    </tr>\n",
       "  </thead>\n",
       "  <tbody>\n",
       "    <tr>\n",
       "      <th>0</th>\n",
       "      <td>1.0</td>\n",
       "      <td>Wetpaint</td>\n",
       "      <td>web</td>\n",
       "      <td>operating</td>\n",
       "      <td>2005-10-17</td>\n",
       "      <td>NaT</td>\n",
       "      <td>wetpaint-inc.com</td>\n",
       "      <td>BachelrWetpaint</td>\n",
       "      <td>USA</td>\n",
       "      <td>0.0</td>\n",
       "      <td>...</td>\n",
       "      <td>888.0</td>\n",
       "      <td>1.0</td>\n",
       "      <td>2005-10-01</td>\n",
       "      <td>series-a</td>\n",
       "      <td>5250000.0</td>\n",
       "      <td>0.0</td>\n",
       "      <td>2.0</td>\n",
       "      <td>0.0</td>\n",
       "      <td>1.0</td>\n",
       "      <td>2005.0</td>\n",
       "    </tr>\n",
       "    <tr>\n",
       "      <th>1</th>\n",
       "      <td>1.0</td>\n",
       "      <td>Wetpaint</td>\n",
       "      <td>web</td>\n",
       "      <td>operating</td>\n",
       "      <td>2005-10-17</td>\n",
       "      <td>NaT</td>\n",
       "      <td>wetpaint-inc.com</td>\n",
       "      <td>BachelrWetpaint</td>\n",
       "      <td>USA</td>\n",
       "      <td>0.0</td>\n",
       "      <td>...</td>\n",
       "      <td>889.0</td>\n",
       "      <td>1.0</td>\n",
       "      <td>2007-01-01</td>\n",
       "      <td>series-b</td>\n",
       "      <td>9500000.0</td>\n",
       "      <td>0.0</td>\n",
       "      <td>3.0</td>\n",
       "      <td>0.0</td>\n",
       "      <td>0.0</td>\n",
       "      <td>2007.0</td>\n",
       "    </tr>\n",
       "    <tr>\n",
       "      <th>2</th>\n",
       "      <td>1.0</td>\n",
       "      <td>Wetpaint</td>\n",
       "      <td>web</td>\n",
       "      <td>operating</td>\n",
       "      <td>2005-10-17</td>\n",
       "      <td>NaT</td>\n",
       "      <td>wetpaint-inc.com</td>\n",
       "      <td>BachelrWetpaint</td>\n",
       "      <td>USA</td>\n",
       "      <td>0.0</td>\n",
       "      <td>...</td>\n",
       "      <td>2312.0</td>\n",
       "      <td>1.0</td>\n",
       "      <td>2008-05-19</td>\n",
       "      <td>series-c+</td>\n",
       "      <td>25000000.0</td>\n",
       "      <td>0.0</td>\n",
       "      <td>4.0</td>\n",
       "      <td>1.0</td>\n",
       "      <td>0.0</td>\n",
       "      <td>2008.0</td>\n",
       "    </tr>\n",
       "    <tr>\n",
       "      <th>3</th>\n",
       "      <td>10.0</td>\n",
       "      <td>Flektor</td>\n",
       "      <td>games_video</td>\n",
       "      <td>acquired</td>\n",
       "      <td>NaT</td>\n",
       "      <td>NaT</td>\n",
       "      <td>flektor.com</td>\n",
       "      <td>NaN</td>\n",
       "      <td>USA</td>\n",
       "      <td>0.0</td>\n",
       "      <td>...</td>\n",
       "      <td>NaN</td>\n",
       "      <td>NaN</td>\n",
       "      <td>NaT</td>\n",
       "      <td>NaN</td>\n",
       "      <td>NaN</td>\n",
       "      <td>NaN</td>\n",
       "      <td>NaN</td>\n",
       "      <td>NaN</td>\n",
       "      <td>NaN</td>\n",
       "      <td>NaN</td>\n",
       "    </tr>\n",
       "    <tr>\n",
       "      <th>4</th>\n",
       "      <td>100.0</td>\n",
       "      <td>There</td>\n",
       "      <td>games_video</td>\n",
       "      <td>acquired</td>\n",
       "      <td>NaT</td>\n",
       "      <td>NaT</td>\n",
       "      <td>there.com</td>\n",
       "      <td>NaN</td>\n",
       "      <td>USA</td>\n",
       "      <td>0.0</td>\n",
       "      <td>...</td>\n",
       "      <td>NaN</td>\n",
       "      <td>NaN</td>\n",
       "      <td>NaT</td>\n",
       "      <td>NaN</td>\n",
       "      <td>NaN</td>\n",
       "      <td>NaN</td>\n",
       "      <td>NaN</td>\n",
       "      <td>NaN</td>\n",
       "      <td>NaN</td>\n",
       "      <td>NaN</td>\n",
       "    </tr>\n",
       "    <tr>\n",
       "      <th>5</th>\n",
       "      <td>10000.0</td>\n",
       "      <td>MYWEBBO</td>\n",
       "      <td>network_hosting</td>\n",
       "      <td>operating</td>\n",
       "      <td>2008-07-26</td>\n",
       "      <td>NaT</td>\n",
       "      <td>mywebbo.com</td>\n",
       "      <td>NaN</td>\n",
       "      <td>NaN</td>\n",
       "      <td>0.0</td>\n",
       "      <td>...</td>\n",
       "      <td>NaN</td>\n",
       "      <td>NaN</td>\n",
       "      <td>NaT</td>\n",
       "      <td>NaN</td>\n",
       "      <td>NaN</td>\n",
       "      <td>NaN</td>\n",
       "      <td>NaN</td>\n",
       "      <td>NaN</td>\n",
       "      <td>NaN</td>\n",
       "      <td>NaN</td>\n",
       "    </tr>\n",
       "    <tr>\n",
       "      <th>6</th>\n",
       "      <td>10001.0</td>\n",
       "      <td>THE Movie Streamer</td>\n",
       "      <td>games_video</td>\n",
       "      <td>operating</td>\n",
       "      <td>2008-07-26</td>\n",
       "      <td>NaT</td>\n",
       "      <td>themoviestreamer.com</td>\n",
       "      <td>NaN</td>\n",
       "      <td>NaN</td>\n",
       "      <td>0.0</td>\n",
       "      <td>...</td>\n",
       "      <td>NaN</td>\n",
       "      <td>NaN</td>\n",
       "      <td>NaT</td>\n",
       "      <td>NaN</td>\n",
       "      <td>NaN</td>\n",
       "      <td>NaN</td>\n",
       "      <td>NaN</td>\n",
       "      <td>NaN</td>\n",
       "      <td>NaN</td>\n",
       "      <td>NaN</td>\n",
       "    </tr>\n",
       "    <tr>\n",
       "      <th>7</th>\n",
       "      <td>10002.0</td>\n",
       "      <td>Synergie Media</td>\n",
       "      <td>advertising</td>\n",
       "      <td>operating</td>\n",
       "      <td>2007-06-27</td>\n",
       "      <td>NaT</td>\n",
       "      <td>synergie-media.com</td>\n",
       "      <td>NaN</td>\n",
       "      <td>MAR</td>\n",
       "      <td>0.0</td>\n",
       "      <td>...</td>\n",
       "      <td>NaN</td>\n",
       "      <td>NaN</td>\n",
       "      <td>NaT</td>\n",
       "      <td>NaN</td>\n",
       "      <td>NaN</td>\n",
       "      <td>NaN</td>\n",
       "      <td>NaN</td>\n",
       "      <td>NaN</td>\n",
       "      <td>NaN</td>\n",
       "      <td>NaN</td>\n",
       "    </tr>\n",
       "    <tr>\n",
       "      <th>8</th>\n",
       "      <td>10003.0</td>\n",
       "      <td>Green Basti Ecosystems</td>\n",
       "      <td>cleantech</td>\n",
       "      <td>operating</td>\n",
       "      <td>2008-08-20</td>\n",
       "      <td>NaT</td>\n",
       "      <td>NaN</td>\n",
       "      <td>NaN</td>\n",
       "      <td>IND</td>\n",
       "      <td>0.0</td>\n",
       "      <td>...</td>\n",
       "      <td>NaN</td>\n",
       "      <td>NaN</td>\n",
       "      <td>NaT</td>\n",
       "      <td>NaN</td>\n",
       "      <td>NaN</td>\n",
       "      <td>NaN</td>\n",
       "      <td>NaN</td>\n",
       "      <td>NaN</td>\n",
       "      <td>NaN</td>\n",
       "      <td>NaN</td>\n",
       "    </tr>\n",
       "    <tr>\n",
       "      <th>9</th>\n",
       "      <td>100042.0</td>\n",
       "      <td>HostNine</td>\n",
       "      <td>NaN</td>\n",
       "      <td>operating</td>\n",
       "      <td>NaT</td>\n",
       "      <td>NaT</td>\n",
       "      <td>hostnine.com</td>\n",
       "      <td>Hostnine</td>\n",
       "      <td>NaN</td>\n",
       "      <td>0.0</td>\n",
       "      <td>...</td>\n",
       "      <td>NaN</td>\n",
       "      <td>NaN</td>\n",
       "      <td>NaT</td>\n",
       "      <td>NaN</td>\n",
       "      <td>NaN</td>\n",
       "      <td>NaN</td>\n",
       "      <td>NaN</td>\n",
       "      <td>NaN</td>\n",
       "      <td>NaN</td>\n",
       "      <td>NaN</td>\n",
       "    </tr>\n",
       "  </tbody>\n",
       "</table>\n",
       "<p>10 rows × 23 columns</p>\n",
       "</div>"
      ],
      "text/plain": [
       "   company_id                    name    category_code     status founded_at  \\\n",
       "0         1.0                Wetpaint              web  operating 2005-10-17   \n",
       "1         1.0                Wetpaint              web  operating 2005-10-17   \n",
       "2         1.0                Wetpaint              web  operating 2005-10-17   \n",
       "3        10.0                 Flektor      games_video   acquired        NaT   \n",
       "4       100.0                   There      games_video   acquired        NaT   \n",
       "5     10000.0                 MYWEBBO  network_hosting  operating 2008-07-26   \n",
       "6     10001.0      THE Movie Streamer      games_video  operating 2008-07-26   \n",
       "7     10002.0          Synergie Media      advertising  operating 2007-06-27   \n",
       "8     10003.0  Green Basti Ecosystems        cleantech  operating 2008-08-20   \n",
       "9    100042.0                HostNine              NaN  operating        NaT   \n",
       "\n",
       "  closed_at                domain network_username country_code  \\\n",
       "0       NaT      wetpaint-inc.com  BachelrWetpaint          USA   \n",
       "1       NaT      wetpaint-inc.com  BachelrWetpaint          USA   \n",
       "2       NaT      wetpaint-inc.com  BachelrWetpaint          USA   \n",
       "3       NaT           flektor.com              NaN          USA   \n",
       "4       NaT             there.com              NaN          USA   \n",
       "5       NaT           mywebbo.com              NaN          NaN   \n",
       "6       NaT  themoviestreamer.com              NaN          NaN   \n",
       "7       NaT    synergie-media.com              NaN          MAR   \n",
       "8       NaT                   NaN              NaN          IND   \n",
       "9       NaT          hostnine.com         Hostnine          NaN   \n",
       "\n",
       "   investment_rounds  ...  funding_round_id  company_id_fund  funded_at  \\\n",
       "0                0.0  ...             888.0              1.0 2005-10-01   \n",
       "1                0.0  ...             889.0              1.0 2007-01-01   \n",
       "2                0.0  ...            2312.0              1.0 2008-05-19   \n",
       "3                0.0  ...               NaN              NaN        NaT   \n",
       "4                0.0  ...               NaN              NaN        NaT   \n",
       "5                0.0  ...               NaN              NaN        NaT   \n",
       "6                0.0  ...               NaN              NaN        NaT   \n",
       "7                0.0  ...               NaN              NaN        NaT   \n",
       "8                0.0  ...               NaN              NaN        NaT   \n",
       "9                0.0  ...               NaN              NaN        NaT   \n",
       "\n",
       "   funding_round_type  raised_amount pre_money_valuation participants  \\\n",
       "0            series-a      5250000.0                 0.0          2.0   \n",
       "1            series-b      9500000.0                 0.0          3.0   \n",
       "2           series-c+     25000000.0                 0.0          4.0   \n",
       "3                 NaN            NaN                 NaN          NaN   \n",
       "4                 NaN            NaN                 NaN          NaN   \n",
       "5                 NaN            NaN                 NaN          NaN   \n",
       "6                 NaN            NaN                 NaN          NaN   \n",
       "7                 NaN            NaN                 NaN          NaN   \n",
       "8                 NaN            NaN                 NaN          NaN   \n",
       "9                 NaN            NaN                 NaN          NaN   \n",
       "\n",
       "   is_first_round  is_last_round  year_funded  \n",
       "0             0.0            1.0       2005.0  \n",
       "1             0.0            0.0       2007.0  \n",
       "2             1.0            0.0       2008.0  \n",
       "3             NaN            NaN          NaN  \n",
       "4             NaN            NaN          NaN  \n",
       "5             NaN            NaN          NaN  \n",
       "6             NaN            NaN          NaN  \n",
       "7             NaN            NaN          NaN  \n",
       "8             NaN            NaN          NaN  \n",
       "9             NaN            NaN          NaN  \n",
       "\n",
       "[10 rows x 23 columns]"
      ]
     },
     "execution_count": 49,
     "metadata": {},
     "output_type": "execute_result"
    }
   ],
   "source": [
    "# Выведем первые десять строк датафрейма comp_df\n",
    "comp_df.head(10)"
   ]
  },
  {
   "cell_type": "code",
   "execution_count": 50,
   "metadata": {},
   "outputs": [
    {
     "data": {
      "text/html": [
       "<div>\n",
       "<style scoped>\n",
       "    .dataframe tbody tr th:only-of-type {\n",
       "        vertical-align: middle;\n",
       "    }\n",
       "\n",
       "    .dataframe tbody tr th {\n",
       "        vertical-align: top;\n",
       "    }\n",
       "\n",
       "    .dataframe thead th {\n",
       "        text-align: right;\n",
       "    }\n",
       "</style>\n",
       "<table border=\"1\" class=\"dataframe\">\n",
       "  <thead>\n",
       "    <tr style=\"text-align: right;\">\n",
       "      <th></th>\n",
       "      <th>id</th>\n",
       "      <th>first_name</th>\n",
       "      <th>last_name</th>\n",
       "      <th>company_id</th>\n",
       "      <th>network_username</th>\n",
       "    </tr>\n",
       "  </thead>\n",
       "  <tbody>\n",
       "    <tr>\n",
       "      <th>0</th>\n",
       "      <td>10</td>\n",
       "      <td>Mark</td>\n",
       "      <td>Zuckerberg</td>\n",
       "      <td>5.0</td>\n",
       "      <td>NaN</td>\n",
       "    </tr>\n",
       "    <tr>\n",
       "      <th>1</th>\n",
       "      <td>100</td>\n",
       "      <td>Peter</td>\n",
       "      <td>Lester</td>\n",
       "      <td>27.0</td>\n",
       "      <td>NaN</td>\n",
       "    </tr>\n",
       "    <tr>\n",
       "      <th>2</th>\n",
       "      <td>1000</td>\n",
       "      <td>Dr. Steven</td>\n",
       "      <td>E. Saunders</td>\n",
       "      <td>292.0</td>\n",
       "      <td>NaN</td>\n",
       "    </tr>\n",
       "    <tr>\n",
       "      <th>3</th>\n",
       "      <td>10000</td>\n",
       "      <td>Neil</td>\n",
       "      <td>Capel</td>\n",
       "      <td>2526.0</td>\n",
       "      <td>NaN</td>\n",
       "    </tr>\n",
       "    <tr>\n",
       "      <th>4</th>\n",
       "      <td>100000</td>\n",
       "      <td>Sue</td>\n",
       "      <td>Pilsch</td>\n",
       "      <td>NaN</td>\n",
       "      <td>NaN</td>\n",
       "    </tr>\n",
       "    <tr>\n",
       "      <th>5</th>\n",
       "      <td>100002</td>\n",
       "      <td>Keith</td>\n",
       "      <td>Kurzendoerfer</td>\n",
       "      <td>NaN</td>\n",
       "      <td>NaN</td>\n",
       "    </tr>\n",
       "    <tr>\n",
       "      <th>6</th>\n",
       "      <td>100006</td>\n",
       "      <td>Courtney</td>\n",
       "      <td>Homer</td>\n",
       "      <td>81558.0</td>\n",
       "      <td>jobsbostontech</td>\n",
       "    </tr>\n",
       "    <tr>\n",
       "      <th>7</th>\n",
       "      <td>100009</td>\n",
       "      <td>Eddy</td>\n",
       "      <td>Badrina</td>\n",
       "      <td>NaN</td>\n",
       "      <td>NaN</td>\n",
       "    </tr>\n",
       "    <tr>\n",
       "      <th>8</th>\n",
       "      <td>100010</td>\n",
       "      <td>Michael</td>\n",
       "      <td>Dadashyan</td>\n",
       "      <td>NaN</td>\n",
       "      <td>fbroulette</td>\n",
       "    </tr>\n",
       "    <tr>\n",
       "      <th>9</th>\n",
       "      <td>100011</td>\n",
       "      <td>Jeff</td>\n",
       "      <td>Grell</td>\n",
       "      <td>NaN</td>\n",
       "      <td>NaN</td>\n",
       "    </tr>\n",
       "  </tbody>\n",
       "</table>\n",
       "</div>"
      ],
      "text/plain": [
       "       id  first_name      last_name  company_id network_username\n",
       "0      10        Mark     Zuckerberg         5.0              NaN\n",
       "1     100       Peter         Lester        27.0              NaN\n",
       "2    1000  Dr. Steven    E. Saunders       292.0              NaN\n",
       "3   10000        Neil          Capel      2526.0              NaN\n",
       "4  100000         Sue         Pilsch         NaN              NaN\n",
       "5  100002       Keith  Kurzendoerfer         NaN              NaN\n",
       "6  100006    Courtney          Homer     81558.0   jobsbostontech\n",
       "7  100009        Eddy        Badrina         NaN              NaN\n",
       "8  100010     Michael      Dadashyan         NaN       fbroulette\n",
       "9  100011        Jeff          Grell         NaN              NaN"
      ]
     },
     "execution_count": 50,
     "metadata": {},
     "output_type": "execute_result"
    }
   ],
   "source": [
    "# Выведем первые десять строк датафрейма people_df\n",
    "people_df.head(10)"
   ]
  },
  {
   "cell_type": "markdown",
   "metadata": {},
   "source": [
    "Далее рассмотрим количество уникальных значений по столбцу `network_username` для обоих датафреймов."
   ]
  },
  {
   "cell_type": "code",
   "execution_count": 51,
   "metadata": {
    "id": "_7gjdrGOFcB2"
   },
   "outputs": [
    {
     "name": "stdout",
     "output_type": "stream",
     "text": [
      "Количество уникальных значений по столбцу network_username датафрейма comp_df:\n",
      "79571\n",
      "Количество уникальных значений по столбцу network_username датафрейма people_df:\n",
      "38421\n"
     ]
    }
   ],
   "source": [
    "# Выведем уникальные значения по столбцу network_username для обоих датафреймов\n",
    "print('Количество уникальных значений по столбцу network_username датафрейма comp_df:')\n",
    "print(comp_df['network_username'].nunique())\n",
    "print('Количество уникальных значений по столбцу network_username датафрейма people_df:')\n",
    "print(people_df['network_username'].nunique())"
   ]
  },
  {
   "cell_type": "markdown",
   "metadata": {},
   "source": [
    "Количество уникальных значений по столбцу `network_username` датафрейма `comp_df` составляет 79 571, в то время как для датафрейма `people_df` - 38 421, что свидетельствует о том, что не для всех компаний, имеющих ник в социальных сетях удастся подобрать информацию о сотрудниках."
   ]
  },
  {
   "cell_type": "markdown",
   "metadata": {},
   "source": [
    "Далее проанализируем сколько уникальных значений столбца `network_username` датафрейма `comp_df` пересекаются с уникальными значениями датафрейма `people_df`. Для этого создадим два списка с уникальными значениями для каждого датафрейма."
   ]
  },
  {
   "cell_type": "code",
   "execution_count": 52,
   "metadata": {},
   "outputs": [
    {
     "name": "stdout",
     "output_type": "stream",
     "text": [
      "['BachelrWetpaint' nan 'Hostnine' ... 'networkzend' 'pPhotonet' 'Photonet']\n"
     ]
    }
   ],
   "source": [
    "# Выведем уникальные значения по столбцу network_username датафрейма comp_df\n",
    "uniq_comp=comp_df['network_username'].unique()\n",
    "print(uniq_comp)"
   ]
  },
  {
   "cell_type": "code",
   "execution_count": 53,
   "metadata": {},
   "outputs": [
    {
     "name": "stdout",
     "output_type": "stream",
     "text": [
      "[nan 'jobsbostontech' 'fbroulette' ... 'itechsocialnet' 'socialnethubs'\n",
      " 'esocialnetlike']\n"
     ]
    }
   ],
   "source": [
    "# Выведем уникальные значения по столбцу network_username датафрейма people_df\n",
    "uniq_people=people_df['network_username'].unique()\n",
    "print(uniq_people)"
   ]
  },
  {
   "cell_type": "markdown",
   "metadata": {},
   "source": [
    "Далее посчитаем количество совпадений уникальных значений для обоих датафреймов. Для этого восопльзуемся методом `intersection()`."
   ]
  },
  {
   "cell_type": "code",
   "execution_count": 54,
   "metadata": {},
   "outputs": [
    {
     "data": {
      "text/plain": [
       "2200"
      ]
     },
     "execution_count": 54,
     "metadata": {},
     "output_type": "execute_result"
    }
   ],
   "source": [
    "# Посчитаем количество совпадений уникальных значений для обоих датафреймов\n",
    "df=set(uniq_comp).intersection(uniq_people)\n",
    "len(df)"
   ]
  },
  {
   "cell_type": "markdown",
   "metadata": {},
   "source": [
    "Как видно, число совпадений составляет 2200. Таким образом, столбцы с именем `network_username` можно использовать для объединения данных, однако число пересечений по данному столбцу окажется крайне низким относительно общего количества уникальных значений для обоих датафреймов."
   ]
  },
  {
   "cell_type": "markdown",
   "metadata": {
    "id": "EHcODomVrJg1"
   },
   "source": [
    "\n",
    "### 2.4. Проблемный датасет и причина возникновения пропусков"
   ]
  },
  {
   "cell_type": "markdown",
   "metadata": {},
   "source": [
    "Для начала выведем первые 20 строк датасета `company_and_rounds.csv` и общую информацию о нём."
   ]
  },
  {
   "cell_type": "code",
   "execution_count": 55,
   "metadata": {
    "id": "oSk7xqu_FbaN"
   },
   "outputs": [
    {
     "data": {
      "text/html": [
       "<div>\n",
       "<style scoped>\n",
       "    .dataframe tbody tr th:only-of-type {\n",
       "        vertical-align: middle;\n",
       "    }\n",
       "\n",
       "    .dataframe tbody tr th {\n",
       "        vertical-align: top;\n",
       "    }\n",
       "\n",
       "    .dataframe thead th {\n",
       "        text-align: right;\n",
       "    }\n",
       "</style>\n",
       "<table border=\"1\" class=\"dataframe\">\n",
       "  <thead>\n",
       "    <tr style=\"text-align: right;\">\n",
       "      <th></th>\n",
       "      <th>company_id</th>\n",
       "      <th>name</th>\n",
       "      <th>category_code</th>\n",
       "      <th>status</th>\n",
       "      <th>founded_at</th>\n",
       "      <th>closed_at</th>\n",
       "      <th>domain</th>\n",
       "      <th>network_username</th>\n",
       "      <th>country_code</th>\n",
       "      <th>investment_rounds</th>\n",
       "      <th>...</th>\n",
       "      <th>funding_round_id</th>\n",
       "      <th>company_id_fund</th>\n",
       "      <th>funded_at</th>\n",
       "      <th>funding_round_type</th>\n",
       "      <th>raised_amount</th>\n",
       "      <th>pre_money_valuation</th>\n",
       "      <th>participants</th>\n",
       "      <th>is_first_round</th>\n",
       "      <th>is_last_round</th>\n",
       "      <th>year_funded</th>\n",
       "    </tr>\n",
       "  </thead>\n",
       "  <tbody>\n",
       "    <tr>\n",
       "      <th>0</th>\n",
       "      <td>1.0</td>\n",
       "      <td>Wetpaint</td>\n",
       "      <td>web</td>\n",
       "      <td>operating</td>\n",
       "      <td>2005-10-17</td>\n",
       "      <td>NaT</td>\n",
       "      <td>wetpaint-inc.com</td>\n",
       "      <td>BachelrWetpaint</td>\n",
       "      <td>USA</td>\n",
       "      <td>0.0</td>\n",
       "      <td>...</td>\n",
       "      <td>888.0</td>\n",
       "      <td>1.0</td>\n",
       "      <td>2005-10-01</td>\n",
       "      <td>series-a</td>\n",
       "      <td>5250000.0</td>\n",
       "      <td>0.0</td>\n",
       "      <td>2.0</td>\n",
       "      <td>0.0</td>\n",
       "      <td>1.0</td>\n",
       "      <td>2005.0</td>\n",
       "    </tr>\n",
       "    <tr>\n",
       "      <th>1</th>\n",
       "      <td>1.0</td>\n",
       "      <td>Wetpaint</td>\n",
       "      <td>web</td>\n",
       "      <td>operating</td>\n",
       "      <td>2005-10-17</td>\n",
       "      <td>NaT</td>\n",
       "      <td>wetpaint-inc.com</td>\n",
       "      <td>BachelrWetpaint</td>\n",
       "      <td>USA</td>\n",
       "      <td>0.0</td>\n",
       "      <td>...</td>\n",
       "      <td>889.0</td>\n",
       "      <td>1.0</td>\n",
       "      <td>2007-01-01</td>\n",
       "      <td>series-b</td>\n",
       "      <td>9500000.0</td>\n",
       "      <td>0.0</td>\n",
       "      <td>3.0</td>\n",
       "      <td>0.0</td>\n",
       "      <td>0.0</td>\n",
       "      <td>2007.0</td>\n",
       "    </tr>\n",
       "    <tr>\n",
       "      <th>2</th>\n",
       "      <td>1.0</td>\n",
       "      <td>Wetpaint</td>\n",
       "      <td>web</td>\n",
       "      <td>operating</td>\n",
       "      <td>2005-10-17</td>\n",
       "      <td>NaT</td>\n",
       "      <td>wetpaint-inc.com</td>\n",
       "      <td>BachelrWetpaint</td>\n",
       "      <td>USA</td>\n",
       "      <td>0.0</td>\n",
       "      <td>...</td>\n",
       "      <td>2312.0</td>\n",
       "      <td>1.0</td>\n",
       "      <td>2008-05-19</td>\n",
       "      <td>series-c+</td>\n",
       "      <td>25000000.0</td>\n",
       "      <td>0.0</td>\n",
       "      <td>4.0</td>\n",
       "      <td>1.0</td>\n",
       "      <td>0.0</td>\n",
       "      <td>2008.0</td>\n",
       "    </tr>\n",
       "    <tr>\n",
       "      <th>3</th>\n",
       "      <td>10.0</td>\n",
       "      <td>Flektor</td>\n",
       "      <td>games_video</td>\n",
       "      <td>acquired</td>\n",
       "      <td>NaT</td>\n",
       "      <td>NaT</td>\n",
       "      <td>flektor.com</td>\n",
       "      <td>NaN</td>\n",
       "      <td>USA</td>\n",
       "      <td>0.0</td>\n",
       "      <td>...</td>\n",
       "      <td>NaN</td>\n",
       "      <td>NaN</td>\n",
       "      <td>NaT</td>\n",
       "      <td>NaN</td>\n",
       "      <td>NaN</td>\n",
       "      <td>NaN</td>\n",
       "      <td>NaN</td>\n",
       "      <td>NaN</td>\n",
       "      <td>NaN</td>\n",
       "      <td>NaN</td>\n",
       "    </tr>\n",
       "    <tr>\n",
       "      <th>4</th>\n",
       "      <td>100.0</td>\n",
       "      <td>There</td>\n",
       "      <td>games_video</td>\n",
       "      <td>acquired</td>\n",
       "      <td>NaT</td>\n",
       "      <td>NaT</td>\n",
       "      <td>there.com</td>\n",
       "      <td>NaN</td>\n",
       "      <td>USA</td>\n",
       "      <td>0.0</td>\n",
       "      <td>...</td>\n",
       "      <td>NaN</td>\n",
       "      <td>NaN</td>\n",
       "      <td>NaT</td>\n",
       "      <td>NaN</td>\n",
       "      <td>NaN</td>\n",
       "      <td>NaN</td>\n",
       "      <td>NaN</td>\n",
       "      <td>NaN</td>\n",
       "      <td>NaN</td>\n",
       "      <td>NaN</td>\n",
       "    </tr>\n",
       "    <tr>\n",
       "      <th>5</th>\n",
       "      <td>10000.0</td>\n",
       "      <td>MYWEBBO</td>\n",
       "      <td>network_hosting</td>\n",
       "      <td>operating</td>\n",
       "      <td>2008-07-26</td>\n",
       "      <td>NaT</td>\n",
       "      <td>mywebbo.com</td>\n",
       "      <td>NaN</td>\n",
       "      <td>NaN</td>\n",
       "      <td>0.0</td>\n",
       "      <td>...</td>\n",
       "      <td>NaN</td>\n",
       "      <td>NaN</td>\n",
       "      <td>NaT</td>\n",
       "      <td>NaN</td>\n",
       "      <td>NaN</td>\n",
       "      <td>NaN</td>\n",
       "      <td>NaN</td>\n",
       "      <td>NaN</td>\n",
       "      <td>NaN</td>\n",
       "      <td>NaN</td>\n",
       "    </tr>\n",
       "    <tr>\n",
       "      <th>6</th>\n",
       "      <td>10001.0</td>\n",
       "      <td>THE Movie Streamer</td>\n",
       "      <td>games_video</td>\n",
       "      <td>operating</td>\n",
       "      <td>2008-07-26</td>\n",
       "      <td>NaT</td>\n",
       "      <td>themoviestreamer.com</td>\n",
       "      <td>NaN</td>\n",
       "      <td>NaN</td>\n",
       "      <td>0.0</td>\n",
       "      <td>...</td>\n",
       "      <td>NaN</td>\n",
       "      <td>NaN</td>\n",
       "      <td>NaT</td>\n",
       "      <td>NaN</td>\n",
       "      <td>NaN</td>\n",
       "      <td>NaN</td>\n",
       "      <td>NaN</td>\n",
       "      <td>NaN</td>\n",
       "      <td>NaN</td>\n",
       "      <td>NaN</td>\n",
       "    </tr>\n",
       "    <tr>\n",
       "      <th>7</th>\n",
       "      <td>10002.0</td>\n",
       "      <td>Synergie Media</td>\n",
       "      <td>advertising</td>\n",
       "      <td>operating</td>\n",
       "      <td>2007-06-27</td>\n",
       "      <td>NaT</td>\n",
       "      <td>synergie-media.com</td>\n",
       "      <td>NaN</td>\n",
       "      <td>MAR</td>\n",
       "      <td>0.0</td>\n",
       "      <td>...</td>\n",
       "      <td>NaN</td>\n",
       "      <td>NaN</td>\n",
       "      <td>NaT</td>\n",
       "      <td>NaN</td>\n",
       "      <td>NaN</td>\n",
       "      <td>NaN</td>\n",
       "      <td>NaN</td>\n",
       "      <td>NaN</td>\n",
       "      <td>NaN</td>\n",
       "      <td>NaN</td>\n",
       "    </tr>\n",
       "    <tr>\n",
       "      <th>8</th>\n",
       "      <td>10003.0</td>\n",
       "      <td>Green Basti Ecosystems</td>\n",
       "      <td>cleantech</td>\n",
       "      <td>operating</td>\n",
       "      <td>2008-08-20</td>\n",
       "      <td>NaT</td>\n",
       "      <td>NaN</td>\n",
       "      <td>NaN</td>\n",
       "      <td>IND</td>\n",
       "      <td>0.0</td>\n",
       "      <td>...</td>\n",
       "      <td>NaN</td>\n",
       "      <td>NaN</td>\n",
       "      <td>NaT</td>\n",
       "      <td>NaN</td>\n",
       "      <td>NaN</td>\n",
       "      <td>NaN</td>\n",
       "      <td>NaN</td>\n",
       "      <td>NaN</td>\n",
       "      <td>NaN</td>\n",
       "      <td>NaN</td>\n",
       "    </tr>\n",
       "    <tr>\n",
       "      <th>9</th>\n",
       "      <td>100042.0</td>\n",
       "      <td>HostNine</td>\n",
       "      <td>NaN</td>\n",
       "      <td>operating</td>\n",
       "      <td>NaT</td>\n",
       "      <td>NaT</td>\n",
       "      <td>hostnine.com</td>\n",
       "      <td>Hostnine</td>\n",
       "      <td>NaN</td>\n",
       "      <td>0.0</td>\n",
       "      <td>...</td>\n",
       "      <td>NaN</td>\n",
       "      <td>NaN</td>\n",
       "      <td>NaT</td>\n",
       "      <td>NaN</td>\n",
       "      <td>NaN</td>\n",
       "      <td>NaN</td>\n",
       "      <td>NaN</td>\n",
       "      <td>NaN</td>\n",
       "      <td>NaN</td>\n",
       "      <td>NaN</td>\n",
       "    </tr>\n",
       "    <tr>\n",
       "      <th>10</th>\n",
       "      <td>10005.0</td>\n",
       "      <td>Thomas Publishing</td>\n",
       "      <td>advertising</td>\n",
       "      <td>operating</td>\n",
       "      <td>NaT</td>\n",
       "      <td>NaT</td>\n",
       "      <td>thomaspublishing.com</td>\n",
       "      <td>NaN</td>\n",
       "      <td>USA</td>\n",
       "      <td>0.0</td>\n",
       "      <td>...</td>\n",
       "      <td>NaN</td>\n",
       "      <td>NaN</td>\n",
       "      <td>NaT</td>\n",
       "      <td>NaN</td>\n",
       "      <td>NaN</td>\n",
       "      <td>NaN</td>\n",
       "      <td>NaN</td>\n",
       "      <td>NaN</td>\n",
       "      <td>NaN</td>\n",
       "      <td>NaN</td>\n",
       "    </tr>\n",
       "    <tr>\n",
       "      <th>11</th>\n",
       "      <td>100062.0</td>\n",
       "      <td>Vetter Idea Management System</td>\n",
       "      <td>enterprise</td>\n",
       "      <td>operating</td>\n",
       "      <td>2011-08-01</td>\n",
       "      <td>NaT</td>\n",
       "      <td>getvetter.com</td>\n",
       "      <td>getvetter</td>\n",
       "      <td>NaN</td>\n",
       "      <td>0.0</td>\n",
       "      <td>...</td>\n",
       "      <td>NaN</td>\n",
       "      <td>NaN</td>\n",
       "      <td>NaT</td>\n",
       "      <td>NaN</td>\n",
       "      <td>NaN</td>\n",
       "      <td>NaN</td>\n",
       "      <td>NaN</td>\n",
       "      <td>NaN</td>\n",
       "      <td>NaN</td>\n",
       "      <td>NaN</td>\n",
       "    </tr>\n",
       "    <tr>\n",
       "      <th>12</th>\n",
       "      <td>100068.0</td>\n",
       "      <td>ChatRandom</td>\n",
       "      <td>games_video</td>\n",
       "      <td>operating</td>\n",
       "      <td>2011-02-01</td>\n",
       "      <td>NaT</td>\n",
       "      <td>chatrandom.com</td>\n",
       "      <td>chatrandom</td>\n",
       "      <td>NaN</td>\n",
       "      <td>0.0</td>\n",
       "      <td>...</td>\n",
       "      <td>NaN</td>\n",
       "      <td>NaN</td>\n",
       "      <td>NaT</td>\n",
       "      <td>NaN</td>\n",
       "      <td>NaN</td>\n",
       "      <td>NaN</td>\n",
       "      <td>NaN</td>\n",
       "      <td>NaN</td>\n",
       "      <td>NaN</td>\n",
       "      <td>NaN</td>\n",
       "    </tr>\n",
       "    <tr>\n",
       "      <th>13</th>\n",
       "      <td>10008.0</td>\n",
       "      <td>ScapadasAmorosas</td>\n",
       "      <td>other</td>\n",
       "      <td>operating</td>\n",
       "      <td>2007-03-01</td>\n",
       "      <td>NaT</td>\n",
       "      <td>scapadasamorosas.com</td>\n",
       "      <td>NaN</td>\n",
       "      <td>NaN</td>\n",
       "      <td>0.0</td>\n",
       "      <td>...</td>\n",
       "      <td>NaN</td>\n",
       "      <td>NaN</td>\n",
       "      <td>NaT</td>\n",
       "      <td>NaN</td>\n",
       "      <td>NaN</td>\n",
       "      <td>NaN</td>\n",
       "      <td>NaN</td>\n",
       "      <td>NaN</td>\n",
       "      <td>NaN</td>\n",
       "      <td>NaN</td>\n",
       "    </tr>\n",
       "    <tr>\n",
       "      <th>14</th>\n",
       "      <td>10009.0</td>\n",
       "      <td>dimension5 labs</td>\n",
       "      <td>advertising</td>\n",
       "      <td>operating</td>\n",
       "      <td>2008-08-01</td>\n",
       "      <td>NaT</td>\n",
       "      <td>d5labs.com</td>\n",
       "      <td>NaN</td>\n",
       "      <td>USA</td>\n",
       "      <td>0.0</td>\n",
       "      <td>...</td>\n",
       "      <td>NaN</td>\n",
       "      <td>NaN</td>\n",
       "      <td>NaT</td>\n",
       "      <td>NaN</td>\n",
       "      <td>NaN</td>\n",
       "      <td>NaN</td>\n",
       "      <td>NaN</td>\n",
       "      <td>NaN</td>\n",
       "      <td>NaN</td>\n",
       "      <td>NaN</td>\n",
       "    </tr>\n",
       "    <tr>\n",
       "      <th>15</th>\n",
       "      <td>1001.0</td>\n",
       "      <td>FriendFeed</td>\n",
       "      <td>web</td>\n",
       "      <td>acquired</td>\n",
       "      <td>2007-10-01</td>\n",
       "      <td>NaT</td>\n",
       "      <td>friendfeed.com</td>\n",
       "      <td>friendfeed</td>\n",
       "      <td>USA</td>\n",
       "      <td>0.0</td>\n",
       "      <td>...</td>\n",
       "      <td>1644.0</td>\n",
       "      <td>1001.0</td>\n",
       "      <td>2008-02-26</td>\n",
       "      <td>series-a</td>\n",
       "      <td>5000000.0</td>\n",
       "      <td>0.0</td>\n",
       "      <td>3.0</td>\n",
       "      <td>1.0</td>\n",
       "      <td>1.0</td>\n",
       "      <td>2008.0</td>\n",
       "    </tr>\n",
       "    <tr>\n",
       "      <th>16</th>\n",
       "      <td>10010.0</td>\n",
       "      <td>Whooligan</td>\n",
       "      <td>games_video</td>\n",
       "      <td>operating</td>\n",
       "      <td>2007-12-01</td>\n",
       "      <td>NaT</td>\n",
       "      <td>whooligan.com</td>\n",
       "      <td>NaN</td>\n",
       "      <td>NaN</td>\n",
       "      <td>0.0</td>\n",
       "      <td>...</td>\n",
       "      <td>NaN</td>\n",
       "      <td>NaN</td>\n",
       "      <td>NaT</td>\n",
       "      <td>NaN</td>\n",
       "      <td>NaN</td>\n",
       "      <td>NaN</td>\n",
       "      <td>NaN</td>\n",
       "      <td>NaN</td>\n",
       "      <td>NaN</td>\n",
       "      <td>NaN</td>\n",
       "    </tr>\n",
       "    <tr>\n",
       "      <th>17</th>\n",
       "      <td>10011.0</td>\n",
       "      <td>PoetryVisualized.com</td>\n",
       "      <td>games_video</td>\n",
       "      <td>operating</td>\n",
       "      <td>2008-01-01</td>\n",
       "      <td>NaT</td>\n",
       "      <td>poetryvisualized.com</td>\n",
       "      <td>NaN</td>\n",
       "      <td>USA</td>\n",
       "      <td>0.0</td>\n",
       "      <td>...</td>\n",
       "      <td>NaN</td>\n",
       "      <td>NaN</td>\n",
       "      <td>NaT</td>\n",
       "      <td>NaN</td>\n",
       "      <td>NaN</td>\n",
       "      <td>NaN</td>\n",
       "      <td>NaN</td>\n",
       "      <td>NaN</td>\n",
       "      <td>NaN</td>\n",
       "      <td>NaN</td>\n",
       "    </tr>\n",
       "    <tr>\n",
       "      <th>18</th>\n",
       "      <td>10012.0</td>\n",
       "      <td>moviestring.com</td>\n",
       "      <td>games_video</td>\n",
       "      <td>closed</td>\n",
       "      <td>2008-08-22</td>\n",
       "      <td>2010-01-01</td>\n",
       "      <td>moviestring.com</td>\n",
       "      <td>NaN</td>\n",
       "      <td>NaN</td>\n",
       "      <td>0.0</td>\n",
       "      <td>...</td>\n",
       "      <td>NaN</td>\n",
       "      <td>NaN</td>\n",
       "      <td>NaT</td>\n",
       "      <td>NaN</td>\n",
       "      <td>NaN</td>\n",
       "      <td>NaN</td>\n",
       "      <td>NaN</td>\n",
       "      <td>NaN</td>\n",
       "      <td>NaN</td>\n",
       "      <td>NaN</td>\n",
       "    </tr>\n",
       "    <tr>\n",
       "      <th>19</th>\n",
       "      <td>10013.0</td>\n",
       "      <td>The Adory</td>\n",
       "      <td>consulting</td>\n",
       "      <td>operating</td>\n",
       "      <td>2008-01-01</td>\n",
       "      <td>NaT</td>\n",
       "      <td>theadory.com</td>\n",
       "      <td>the_adory</td>\n",
       "      <td>NaN</td>\n",
       "      <td>0.0</td>\n",
       "      <td>...</td>\n",
       "      <td>NaN</td>\n",
       "      <td>NaN</td>\n",
       "      <td>NaT</td>\n",
       "      <td>NaN</td>\n",
       "      <td>NaN</td>\n",
       "      <td>NaN</td>\n",
       "      <td>NaN</td>\n",
       "      <td>NaN</td>\n",
       "      <td>NaN</td>\n",
       "      <td>NaN</td>\n",
       "    </tr>\n",
       "  </tbody>\n",
       "</table>\n",
       "<p>20 rows × 23 columns</p>\n",
       "</div>"
      ],
      "text/plain": [
       "    company_id                           name    category_code     status  \\\n",
       "0          1.0                       Wetpaint              web  operating   \n",
       "1          1.0                       Wetpaint              web  operating   \n",
       "2          1.0                       Wetpaint              web  operating   \n",
       "3         10.0                        Flektor      games_video   acquired   \n",
       "4        100.0                          There      games_video   acquired   \n",
       "5      10000.0                        MYWEBBO  network_hosting  operating   \n",
       "6      10001.0             THE Movie Streamer      games_video  operating   \n",
       "7      10002.0                 Synergie Media      advertising  operating   \n",
       "8      10003.0         Green Basti Ecosystems        cleantech  operating   \n",
       "9     100042.0                       HostNine              NaN  operating   \n",
       "10     10005.0              Thomas Publishing      advertising  operating   \n",
       "11    100062.0  Vetter Idea Management System       enterprise  operating   \n",
       "12    100068.0                     ChatRandom      games_video  operating   \n",
       "13     10008.0               ScapadasAmorosas            other  operating   \n",
       "14     10009.0                dimension5 labs      advertising  operating   \n",
       "15      1001.0                     FriendFeed              web   acquired   \n",
       "16     10010.0                      Whooligan      games_video  operating   \n",
       "17     10011.0           PoetryVisualized.com      games_video  operating   \n",
       "18     10012.0                moviestring.com      games_video     closed   \n",
       "19     10013.0                      The Adory       consulting  operating   \n",
       "\n",
       "   founded_at  closed_at                domain network_username country_code  \\\n",
       "0  2005-10-17        NaT      wetpaint-inc.com  BachelrWetpaint          USA   \n",
       "1  2005-10-17        NaT      wetpaint-inc.com  BachelrWetpaint          USA   \n",
       "2  2005-10-17        NaT      wetpaint-inc.com  BachelrWetpaint          USA   \n",
       "3         NaT        NaT           flektor.com              NaN          USA   \n",
       "4         NaT        NaT             there.com              NaN          USA   \n",
       "5  2008-07-26        NaT           mywebbo.com              NaN          NaN   \n",
       "6  2008-07-26        NaT  themoviestreamer.com              NaN          NaN   \n",
       "7  2007-06-27        NaT    synergie-media.com              NaN          MAR   \n",
       "8  2008-08-20        NaT                   NaN              NaN          IND   \n",
       "9         NaT        NaT          hostnine.com         Hostnine          NaN   \n",
       "10        NaT        NaT  thomaspublishing.com              NaN          USA   \n",
       "11 2011-08-01        NaT         getvetter.com        getvetter          NaN   \n",
       "12 2011-02-01        NaT        chatrandom.com       chatrandom          NaN   \n",
       "13 2007-03-01        NaT  scapadasamorosas.com              NaN          NaN   \n",
       "14 2008-08-01        NaT            d5labs.com              NaN          USA   \n",
       "15 2007-10-01        NaT        friendfeed.com       friendfeed          USA   \n",
       "16 2007-12-01        NaT         whooligan.com              NaN          NaN   \n",
       "17 2008-01-01        NaT  poetryvisualized.com              NaN          USA   \n",
       "18 2008-08-22 2010-01-01       moviestring.com              NaN          NaN   \n",
       "19 2008-01-01        NaT          theadory.com        the_adory          NaN   \n",
       "\n",
       "    investment_rounds  ...  funding_round_id  company_id_fund  funded_at  \\\n",
       "0                 0.0  ...             888.0              1.0 2005-10-01   \n",
       "1                 0.0  ...             889.0              1.0 2007-01-01   \n",
       "2                 0.0  ...            2312.0              1.0 2008-05-19   \n",
       "3                 0.0  ...               NaN              NaN        NaT   \n",
       "4                 0.0  ...               NaN              NaN        NaT   \n",
       "5                 0.0  ...               NaN              NaN        NaT   \n",
       "6                 0.0  ...               NaN              NaN        NaT   \n",
       "7                 0.0  ...               NaN              NaN        NaT   \n",
       "8                 0.0  ...               NaN              NaN        NaT   \n",
       "9                 0.0  ...               NaN              NaN        NaT   \n",
       "10                0.0  ...               NaN              NaN        NaT   \n",
       "11                0.0  ...               NaN              NaN        NaT   \n",
       "12                0.0  ...               NaN              NaN        NaT   \n",
       "13                0.0  ...               NaN              NaN        NaT   \n",
       "14                0.0  ...               NaN              NaN        NaT   \n",
       "15                0.0  ...            1644.0           1001.0 2008-02-26   \n",
       "16                0.0  ...               NaN              NaN        NaT   \n",
       "17                0.0  ...               NaN              NaN        NaT   \n",
       "18                0.0  ...               NaN              NaN        NaT   \n",
       "19                0.0  ...               NaN              NaN        NaT   \n",
       "\n",
       "    funding_round_type  raised_amount pre_money_valuation participants  \\\n",
       "0             series-a      5250000.0                 0.0          2.0   \n",
       "1             series-b      9500000.0                 0.0          3.0   \n",
       "2            series-c+     25000000.0                 0.0          4.0   \n",
       "3                  NaN            NaN                 NaN          NaN   \n",
       "4                  NaN            NaN                 NaN          NaN   \n",
       "5                  NaN            NaN                 NaN          NaN   \n",
       "6                  NaN            NaN                 NaN          NaN   \n",
       "7                  NaN            NaN                 NaN          NaN   \n",
       "8                  NaN            NaN                 NaN          NaN   \n",
       "9                  NaN            NaN                 NaN          NaN   \n",
       "10                 NaN            NaN                 NaN          NaN   \n",
       "11                 NaN            NaN                 NaN          NaN   \n",
       "12                 NaN            NaN                 NaN          NaN   \n",
       "13                 NaN            NaN                 NaN          NaN   \n",
       "14                 NaN            NaN                 NaN          NaN   \n",
       "15            series-a      5000000.0                 0.0          3.0   \n",
       "16                 NaN            NaN                 NaN          NaN   \n",
       "17                 NaN            NaN                 NaN          NaN   \n",
       "18                 NaN            NaN                 NaN          NaN   \n",
       "19                 NaN            NaN                 NaN          NaN   \n",
       "\n",
       "    is_first_round  is_last_round  year_funded  \n",
       "0              0.0            1.0       2005.0  \n",
       "1              0.0            0.0       2007.0  \n",
       "2              1.0            0.0       2008.0  \n",
       "3              NaN            NaN          NaN  \n",
       "4              NaN            NaN          NaN  \n",
       "5              NaN            NaN          NaN  \n",
       "6              NaN            NaN          NaN  \n",
       "7              NaN            NaN          NaN  \n",
       "8              NaN            NaN          NaN  \n",
       "9              NaN            NaN          NaN  \n",
       "10             NaN            NaN          NaN  \n",
       "11             NaN            NaN          NaN  \n",
       "12             NaN            NaN          NaN  \n",
       "13             NaN            NaN          NaN  \n",
       "14             NaN            NaN          NaN  \n",
       "15             1.0            1.0       2008.0  \n",
       "16             NaN            NaN          NaN  \n",
       "17             NaN            NaN          NaN  \n",
       "18             NaN            NaN          NaN  \n",
       "19             NaN            NaN          NaN  \n",
       "\n",
       "[20 rows x 23 columns]"
      ]
     },
     "execution_count": 55,
     "metadata": {},
     "output_type": "execute_result"
    }
   ],
   "source": [
    "# Выведем первые 20 строк датасета\n",
    "comp_df.head(20)"
   ]
  },
  {
   "cell_type": "code",
   "execution_count": 56,
   "metadata": {
    "id": "9BY9lTUcFbJ-"
   },
   "outputs": [
    {
     "name": "stdout",
     "output_type": "stream",
     "text": [
      "<class 'pandas.core.frame.DataFrame'>\n",
      "RangeIndex: 217774 entries, 0 to 217773\n",
      "Data columns (total 23 columns):\n",
      " #   Column               Non-Null Count   Dtype         \n",
      "---  ------               --------------   -----         \n",
      " 0   company_id           217472 non-null  float64       \n",
      " 1   name                 217472 non-null  object        \n",
      " 2   category_code        143886 non-null  object        \n",
      " 3   status               217472 non-null  object        \n",
      " 4   founded_at           109956 non-null  datetime64[ns]\n",
      " 5   closed_at            3449 non-null    datetime64[ns]\n",
      " 6   domain               147159 non-null  object        \n",
      " 7   network_username     95534 non-null   object        \n",
      " 8   country_code         108607 non-null  object        \n",
      " 9   investment_rounds    217472 non-null  float64       \n",
      " 10  funding_rounds       217472 non-null  float64       \n",
      " 11  funding_total        217472 non-null  float64       \n",
      " 12  milestones           217472 non-null  float64       \n",
      " 13  funding_round_id     52928 non-null   float64       \n",
      " 14  company_id_fund      52928 non-null   float64       \n",
      " 15  funded_at            52680 non-null   datetime64[ns]\n",
      " 16  funding_round_type   52928 non-null   object        \n",
      " 17  raised_amount        52928 non-null   float64       \n",
      " 18  pre_money_valuation  52928 non-null   float64       \n",
      " 19  participants         52928 non-null   float64       \n",
      " 20  is_first_round       52928 non-null   float64       \n",
      " 21  is_last_round        52928 non-null   float64       \n",
      " 22  year_funded          52680 non-null   float64       \n",
      "dtypes: datetime64[ns](3), float64(13), object(7)\n",
      "memory usage: 38.2+ MB\n"
     ]
    }
   ],
   "source": [
    "# Выведем общую информацию о датасте\n",
    "comp_df.info()"
   ]
  },
  {
   "cell_type": "markdown",
   "metadata": {
    "id": "tJ6Sl6MKrJg1",
    "vscode": {
     "languageId": "plaintext"
    }
   },
   "source": [
    "Значительное количество пропусков в столбцах с информацией по раундам может объясняться тем, что данная информация содержалась изначально в отдельном датасете, о чём может свидетельствовать совпадающее количество пропусков для группы столбцов, содержащих информацию о компаниях, и аналогичная ситуация среди столбцов с информацией о раундах финансирования. При этом соединение изначальных датасетов происходило по столбцам `company_id` и `company_id_fund`."
   ]
  },
  {
   "cell_type": "markdown",
   "metadata": {},
   "source": [
    "Чтобы сделать датафрейм более удобным для восприятия, сократить количество пропусков и повторяющиеся строки, в качестве оптимального варианта можно рассмтотреть разделение текущего датафрейма `comp_df` на два отдельных датафрейма `new_comp_df` и `rounds_df`, содержащих информацию исключительно о компаниях и раундах финансирования соответственно.\n",
    "\n",
    "Для этого для каждого нового датафрйема необходимо отобрать столбцы, относящиеся исключительно к компаниям или раундам. Выведем для начала новый датафрейм `new_comp_df` с информацией о компаниях."
   ]
  },
  {
   "cell_type": "code",
   "execution_count": 57,
   "metadata": {},
   "outputs": [
    {
     "data": {
      "text/html": [
       "<div>\n",
       "<style scoped>\n",
       "    .dataframe tbody tr th:only-of-type {\n",
       "        vertical-align: middle;\n",
       "    }\n",
       "\n",
       "    .dataframe tbody tr th {\n",
       "        vertical-align: top;\n",
       "    }\n",
       "\n",
       "    .dataframe thead th {\n",
       "        text-align: right;\n",
       "    }\n",
       "</style>\n",
       "<table border=\"1\" class=\"dataframe\">\n",
       "  <thead>\n",
       "    <tr style=\"text-align: right;\">\n",
       "      <th></th>\n",
       "      <th>company_id</th>\n",
       "      <th>name</th>\n",
       "      <th>category_code</th>\n",
       "      <th>status</th>\n",
       "      <th>founded_at</th>\n",
       "      <th>closed_at</th>\n",
       "      <th>domain</th>\n",
       "      <th>network_username</th>\n",
       "      <th>country_code</th>\n",
       "      <th>investment_rounds</th>\n",
       "      <th>funding_rounds</th>\n",
       "      <th>funding_total</th>\n",
       "      <th>milestones</th>\n",
       "    </tr>\n",
       "  </thead>\n",
       "  <tbody>\n",
       "    <tr>\n",
       "      <th>0</th>\n",
       "      <td>1.0</td>\n",
       "      <td>Wetpaint</td>\n",
       "      <td>web</td>\n",
       "      <td>operating</td>\n",
       "      <td>2005-10-17</td>\n",
       "      <td>NaT</td>\n",
       "      <td>wetpaint-inc.com</td>\n",
       "      <td>BachelrWetpaint</td>\n",
       "      <td>USA</td>\n",
       "      <td>0.0</td>\n",
       "      <td>3.0</td>\n",
       "      <td>39750000.0</td>\n",
       "      <td>5.0</td>\n",
       "    </tr>\n",
       "    <tr>\n",
       "      <th>1</th>\n",
       "      <td>1.0</td>\n",
       "      <td>Wetpaint</td>\n",
       "      <td>web</td>\n",
       "      <td>operating</td>\n",
       "      <td>2005-10-17</td>\n",
       "      <td>NaT</td>\n",
       "      <td>wetpaint-inc.com</td>\n",
       "      <td>BachelrWetpaint</td>\n",
       "      <td>USA</td>\n",
       "      <td>0.0</td>\n",
       "      <td>3.0</td>\n",
       "      <td>39750000.0</td>\n",
       "      <td>5.0</td>\n",
       "    </tr>\n",
       "    <tr>\n",
       "      <th>2</th>\n",
       "      <td>1.0</td>\n",
       "      <td>Wetpaint</td>\n",
       "      <td>web</td>\n",
       "      <td>operating</td>\n",
       "      <td>2005-10-17</td>\n",
       "      <td>NaT</td>\n",
       "      <td>wetpaint-inc.com</td>\n",
       "      <td>BachelrWetpaint</td>\n",
       "      <td>USA</td>\n",
       "      <td>0.0</td>\n",
       "      <td>3.0</td>\n",
       "      <td>39750000.0</td>\n",
       "      <td>5.0</td>\n",
       "    </tr>\n",
       "    <tr>\n",
       "      <th>3</th>\n",
       "      <td>10.0</td>\n",
       "      <td>Flektor</td>\n",
       "      <td>games_video</td>\n",
       "      <td>acquired</td>\n",
       "      <td>NaT</td>\n",
       "      <td>NaT</td>\n",
       "      <td>flektor.com</td>\n",
       "      <td>NaN</td>\n",
       "      <td>USA</td>\n",
       "      <td>0.0</td>\n",
       "      <td>0.0</td>\n",
       "      <td>0.0</td>\n",
       "      <td>0.0</td>\n",
       "    </tr>\n",
       "    <tr>\n",
       "      <th>4</th>\n",
       "      <td>100.0</td>\n",
       "      <td>There</td>\n",
       "      <td>games_video</td>\n",
       "      <td>acquired</td>\n",
       "      <td>NaT</td>\n",
       "      <td>NaT</td>\n",
       "      <td>there.com</td>\n",
       "      <td>NaN</td>\n",
       "      <td>USA</td>\n",
       "      <td>0.0</td>\n",
       "      <td>0.0</td>\n",
       "      <td>0.0</td>\n",
       "      <td>4.0</td>\n",
       "    </tr>\n",
       "    <tr>\n",
       "      <th>5</th>\n",
       "      <td>10000.0</td>\n",
       "      <td>MYWEBBO</td>\n",
       "      <td>network_hosting</td>\n",
       "      <td>operating</td>\n",
       "      <td>2008-07-26</td>\n",
       "      <td>NaT</td>\n",
       "      <td>mywebbo.com</td>\n",
       "      <td>NaN</td>\n",
       "      <td>NaN</td>\n",
       "      <td>0.0</td>\n",
       "      <td>0.0</td>\n",
       "      <td>0.0</td>\n",
       "      <td>0.0</td>\n",
       "    </tr>\n",
       "    <tr>\n",
       "      <th>6</th>\n",
       "      <td>10001.0</td>\n",
       "      <td>THE Movie Streamer</td>\n",
       "      <td>games_video</td>\n",
       "      <td>operating</td>\n",
       "      <td>2008-07-26</td>\n",
       "      <td>NaT</td>\n",
       "      <td>themoviestreamer.com</td>\n",
       "      <td>NaN</td>\n",
       "      <td>NaN</td>\n",
       "      <td>0.0</td>\n",
       "      <td>0.0</td>\n",
       "      <td>0.0</td>\n",
       "      <td>0.0</td>\n",
       "    </tr>\n",
       "    <tr>\n",
       "      <th>7</th>\n",
       "      <td>10002.0</td>\n",
       "      <td>Synergie Media</td>\n",
       "      <td>advertising</td>\n",
       "      <td>operating</td>\n",
       "      <td>2007-06-27</td>\n",
       "      <td>NaT</td>\n",
       "      <td>synergie-media.com</td>\n",
       "      <td>NaN</td>\n",
       "      <td>MAR</td>\n",
       "      <td>0.0</td>\n",
       "      <td>0.0</td>\n",
       "      <td>0.0</td>\n",
       "      <td>0.0</td>\n",
       "    </tr>\n",
       "    <tr>\n",
       "      <th>8</th>\n",
       "      <td>10003.0</td>\n",
       "      <td>Green Basti Ecosystems</td>\n",
       "      <td>cleantech</td>\n",
       "      <td>operating</td>\n",
       "      <td>2008-08-20</td>\n",
       "      <td>NaT</td>\n",
       "      <td>NaN</td>\n",
       "      <td>NaN</td>\n",
       "      <td>IND</td>\n",
       "      <td>0.0</td>\n",
       "      <td>0.0</td>\n",
       "      <td>0.0</td>\n",
       "      <td>0.0</td>\n",
       "    </tr>\n",
       "    <tr>\n",
       "      <th>9</th>\n",
       "      <td>100042.0</td>\n",
       "      <td>HostNine</td>\n",
       "      <td>NaN</td>\n",
       "      <td>operating</td>\n",
       "      <td>NaT</td>\n",
       "      <td>NaT</td>\n",
       "      <td>hostnine.com</td>\n",
       "      <td>Hostnine</td>\n",
       "      <td>NaN</td>\n",
       "      <td>0.0</td>\n",
       "      <td>0.0</td>\n",
       "      <td>0.0</td>\n",
       "      <td>1.0</td>\n",
       "    </tr>\n",
       "  </tbody>\n",
       "</table>\n",
       "</div>"
      ],
      "text/plain": [
       "   company_id                    name    category_code     status founded_at  \\\n",
       "0         1.0                Wetpaint              web  operating 2005-10-17   \n",
       "1         1.0                Wetpaint              web  operating 2005-10-17   \n",
       "2         1.0                Wetpaint              web  operating 2005-10-17   \n",
       "3        10.0                 Flektor      games_video   acquired        NaT   \n",
       "4       100.0                   There      games_video   acquired        NaT   \n",
       "5     10000.0                 MYWEBBO  network_hosting  operating 2008-07-26   \n",
       "6     10001.0      THE Movie Streamer      games_video  operating 2008-07-26   \n",
       "7     10002.0          Synergie Media      advertising  operating 2007-06-27   \n",
       "8     10003.0  Green Basti Ecosystems        cleantech  operating 2008-08-20   \n",
       "9    100042.0                HostNine              NaN  operating        NaT   \n",
       "\n",
       "  closed_at                domain network_username country_code  \\\n",
       "0       NaT      wetpaint-inc.com  BachelrWetpaint          USA   \n",
       "1       NaT      wetpaint-inc.com  BachelrWetpaint          USA   \n",
       "2       NaT      wetpaint-inc.com  BachelrWetpaint          USA   \n",
       "3       NaT           flektor.com              NaN          USA   \n",
       "4       NaT             there.com              NaN          USA   \n",
       "5       NaT           mywebbo.com              NaN          NaN   \n",
       "6       NaT  themoviestreamer.com              NaN          NaN   \n",
       "7       NaT    synergie-media.com              NaN          MAR   \n",
       "8       NaT                   NaN              NaN          IND   \n",
       "9       NaT          hostnine.com         Hostnine          NaN   \n",
       "\n",
       "   investment_rounds  funding_rounds  funding_total  milestones  \n",
       "0                0.0             3.0     39750000.0         5.0  \n",
       "1                0.0             3.0     39750000.0         5.0  \n",
       "2                0.0             3.0     39750000.0         5.0  \n",
       "3                0.0             0.0            0.0         0.0  \n",
       "4                0.0             0.0            0.0         4.0  \n",
       "5                0.0             0.0            0.0         0.0  \n",
       "6                0.0             0.0            0.0         0.0  \n",
       "7                0.0             0.0            0.0         0.0  \n",
       "8                0.0             0.0            0.0         0.0  \n",
       "9                0.0             0.0            0.0         1.0  "
      ]
     },
     "execution_count": 57,
     "metadata": {},
     "output_type": "execute_result"
    }
   ],
   "source": [
    "# Создаём датафрейм с информацией о компаниях\n",
    "new_comp_df=comp_df[['company_id', 'name', 'category_code', 'status', 'founded_at', \n",
    "                     'closed_at', 'domain', 'network_username', 'country_code', 'investment_rounds',\n",
    "                    'funding_rounds', 'funding_total', 'milestones']]\n",
    "\n",
    "# Выведем первые десять строк нового датафрейма\n",
    "new_comp_df.head(10)"
   ]
  },
  {
   "cell_type": "code",
   "execution_count": 58,
   "metadata": {},
   "outputs": [
    {
     "name": "stdout",
     "output_type": "stream",
     "text": [
      "<class 'pandas.core.frame.DataFrame'>\n",
      "RangeIndex: 217774 entries, 0 to 217773\n",
      "Data columns (total 13 columns):\n",
      " #   Column             Non-Null Count   Dtype         \n",
      "---  ------             --------------   -----         \n",
      " 0   company_id         217472 non-null  float64       \n",
      " 1   name               217472 non-null  object        \n",
      " 2   category_code      143886 non-null  object        \n",
      " 3   status             217472 non-null  object        \n",
      " 4   founded_at         109956 non-null  datetime64[ns]\n",
      " 5   closed_at          3449 non-null    datetime64[ns]\n",
      " 6   domain             147159 non-null  object        \n",
      " 7   network_username   95534 non-null   object        \n",
      " 8   country_code       108607 non-null  object        \n",
      " 9   investment_rounds  217472 non-null  float64       \n",
      " 10  funding_rounds     217472 non-null  float64       \n",
      " 11  funding_total      217472 non-null  float64       \n",
      " 12  milestones         217472 non-null  float64       \n",
      "dtypes: datetime64[ns](2), float64(5), object(6)\n",
      "memory usage: 21.6+ MB\n"
     ]
    }
   ],
   "source": [
    "# Выведем информацию о новом датафрейме\n",
    "new_comp_df.info()"
   ]
  },
  {
   "cell_type": "markdown",
   "metadata": {},
   "source": [
    "Как видно из выгрузки, для компаний, содержащих информацию о финансировании более чем в одном раунде, информация о компаниях продублировалась. Чтобы оптимизировать новый датафрейм, необходимо удалить из него дубликаты с помощью метода `drop_duplicates()`. Скорректированному датафрейму присвоим название `new_comp_df_cleaned`."
   ]
  },
  {
   "cell_type": "code",
   "execution_count": 59,
   "metadata": {},
   "outputs": [
    {
     "data": {
      "text/html": [
       "<div>\n",
       "<style scoped>\n",
       "    .dataframe tbody tr th:only-of-type {\n",
       "        vertical-align: middle;\n",
       "    }\n",
       "\n",
       "    .dataframe tbody tr th {\n",
       "        vertical-align: top;\n",
       "    }\n",
       "\n",
       "    .dataframe thead th {\n",
       "        text-align: right;\n",
       "    }\n",
       "</style>\n",
       "<table border=\"1\" class=\"dataframe\">\n",
       "  <thead>\n",
       "    <tr style=\"text-align: right;\">\n",
       "      <th></th>\n",
       "      <th>company_id</th>\n",
       "      <th>name</th>\n",
       "      <th>category_code</th>\n",
       "      <th>status</th>\n",
       "      <th>founded_at</th>\n",
       "      <th>closed_at</th>\n",
       "      <th>domain</th>\n",
       "      <th>network_username</th>\n",
       "      <th>country_code</th>\n",
       "      <th>investment_rounds</th>\n",
       "      <th>funding_rounds</th>\n",
       "      <th>funding_total</th>\n",
       "      <th>milestones</th>\n",
       "    </tr>\n",
       "  </thead>\n",
       "  <tbody>\n",
       "    <tr>\n",
       "      <th>0</th>\n",
       "      <td>1.0</td>\n",
       "      <td>Wetpaint</td>\n",
       "      <td>web</td>\n",
       "      <td>operating</td>\n",
       "      <td>2005-10-17</td>\n",
       "      <td>NaT</td>\n",
       "      <td>wetpaint-inc.com</td>\n",
       "      <td>BachelrWetpaint</td>\n",
       "      <td>USA</td>\n",
       "      <td>0.0</td>\n",
       "      <td>3.0</td>\n",
       "      <td>39750000.0</td>\n",
       "      <td>5.0</td>\n",
       "    </tr>\n",
       "    <tr>\n",
       "      <th>3</th>\n",
       "      <td>10.0</td>\n",
       "      <td>Flektor</td>\n",
       "      <td>games_video</td>\n",
       "      <td>acquired</td>\n",
       "      <td>NaT</td>\n",
       "      <td>NaT</td>\n",
       "      <td>flektor.com</td>\n",
       "      <td>NaN</td>\n",
       "      <td>USA</td>\n",
       "      <td>0.0</td>\n",
       "      <td>0.0</td>\n",
       "      <td>0.0</td>\n",
       "      <td>0.0</td>\n",
       "    </tr>\n",
       "    <tr>\n",
       "      <th>4</th>\n",
       "      <td>100.0</td>\n",
       "      <td>There</td>\n",
       "      <td>games_video</td>\n",
       "      <td>acquired</td>\n",
       "      <td>NaT</td>\n",
       "      <td>NaT</td>\n",
       "      <td>there.com</td>\n",
       "      <td>NaN</td>\n",
       "      <td>USA</td>\n",
       "      <td>0.0</td>\n",
       "      <td>0.0</td>\n",
       "      <td>0.0</td>\n",
       "      <td>4.0</td>\n",
       "    </tr>\n",
       "    <tr>\n",
       "      <th>5</th>\n",
       "      <td>10000.0</td>\n",
       "      <td>MYWEBBO</td>\n",
       "      <td>network_hosting</td>\n",
       "      <td>operating</td>\n",
       "      <td>2008-07-26</td>\n",
       "      <td>NaT</td>\n",
       "      <td>mywebbo.com</td>\n",
       "      <td>NaN</td>\n",
       "      <td>NaN</td>\n",
       "      <td>0.0</td>\n",
       "      <td>0.0</td>\n",
       "      <td>0.0</td>\n",
       "      <td>0.0</td>\n",
       "    </tr>\n",
       "    <tr>\n",
       "      <th>6</th>\n",
       "      <td>10001.0</td>\n",
       "      <td>THE Movie Streamer</td>\n",
       "      <td>games_video</td>\n",
       "      <td>operating</td>\n",
       "      <td>2008-07-26</td>\n",
       "      <td>NaT</td>\n",
       "      <td>themoviestreamer.com</td>\n",
       "      <td>NaN</td>\n",
       "      <td>NaN</td>\n",
       "      <td>0.0</td>\n",
       "      <td>0.0</td>\n",
       "      <td>0.0</td>\n",
       "      <td>0.0</td>\n",
       "    </tr>\n",
       "    <tr>\n",
       "      <th>7</th>\n",
       "      <td>10002.0</td>\n",
       "      <td>Synergie Media</td>\n",
       "      <td>advertising</td>\n",
       "      <td>operating</td>\n",
       "      <td>2007-06-27</td>\n",
       "      <td>NaT</td>\n",
       "      <td>synergie-media.com</td>\n",
       "      <td>NaN</td>\n",
       "      <td>MAR</td>\n",
       "      <td>0.0</td>\n",
       "      <td>0.0</td>\n",
       "      <td>0.0</td>\n",
       "      <td>0.0</td>\n",
       "    </tr>\n",
       "    <tr>\n",
       "      <th>8</th>\n",
       "      <td>10003.0</td>\n",
       "      <td>Green Basti Ecosystems</td>\n",
       "      <td>cleantech</td>\n",
       "      <td>operating</td>\n",
       "      <td>2008-08-20</td>\n",
       "      <td>NaT</td>\n",
       "      <td>NaN</td>\n",
       "      <td>NaN</td>\n",
       "      <td>IND</td>\n",
       "      <td>0.0</td>\n",
       "      <td>0.0</td>\n",
       "      <td>0.0</td>\n",
       "      <td>0.0</td>\n",
       "    </tr>\n",
       "    <tr>\n",
       "      <th>9</th>\n",
       "      <td>100042.0</td>\n",
       "      <td>HostNine</td>\n",
       "      <td>NaN</td>\n",
       "      <td>operating</td>\n",
       "      <td>NaT</td>\n",
       "      <td>NaT</td>\n",
       "      <td>hostnine.com</td>\n",
       "      <td>Hostnine</td>\n",
       "      <td>NaN</td>\n",
       "      <td>0.0</td>\n",
       "      <td>0.0</td>\n",
       "      <td>0.0</td>\n",
       "      <td>1.0</td>\n",
       "    </tr>\n",
       "    <tr>\n",
       "      <th>10</th>\n",
       "      <td>10005.0</td>\n",
       "      <td>Thomas Publishing</td>\n",
       "      <td>advertising</td>\n",
       "      <td>operating</td>\n",
       "      <td>NaT</td>\n",
       "      <td>NaT</td>\n",
       "      <td>thomaspublishing.com</td>\n",
       "      <td>NaN</td>\n",
       "      <td>USA</td>\n",
       "      <td>0.0</td>\n",
       "      <td>0.0</td>\n",
       "      <td>0.0</td>\n",
       "      <td>1.0</td>\n",
       "    </tr>\n",
       "    <tr>\n",
       "      <th>11</th>\n",
       "      <td>100062.0</td>\n",
       "      <td>Vetter Idea Management System</td>\n",
       "      <td>enterprise</td>\n",
       "      <td>operating</td>\n",
       "      <td>2011-08-01</td>\n",
       "      <td>NaT</td>\n",
       "      <td>getvetter.com</td>\n",
       "      <td>getvetter</td>\n",
       "      <td>NaN</td>\n",
       "      <td>0.0</td>\n",
       "      <td>0.0</td>\n",
       "      <td>0.0</td>\n",
       "      <td>1.0</td>\n",
       "    </tr>\n",
       "  </tbody>\n",
       "</table>\n",
       "</div>"
      ],
      "text/plain": [
       "    company_id                           name    category_code     status  \\\n",
       "0          1.0                       Wetpaint              web  operating   \n",
       "3         10.0                        Flektor      games_video   acquired   \n",
       "4        100.0                          There      games_video   acquired   \n",
       "5      10000.0                        MYWEBBO  network_hosting  operating   \n",
       "6      10001.0             THE Movie Streamer      games_video  operating   \n",
       "7      10002.0                 Synergie Media      advertising  operating   \n",
       "8      10003.0         Green Basti Ecosystems        cleantech  operating   \n",
       "9     100042.0                       HostNine              NaN  operating   \n",
       "10     10005.0              Thomas Publishing      advertising  operating   \n",
       "11    100062.0  Vetter Idea Management System       enterprise  operating   \n",
       "\n",
       "   founded_at closed_at                domain network_username country_code  \\\n",
       "0  2005-10-17       NaT      wetpaint-inc.com  BachelrWetpaint          USA   \n",
       "3         NaT       NaT           flektor.com              NaN          USA   \n",
       "4         NaT       NaT             there.com              NaN          USA   \n",
       "5  2008-07-26       NaT           mywebbo.com              NaN          NaN   \n",
       "6  2008-07-26       NaT  themoviestreamer.com              NaN          NaN   \n",
       "7  2007-06-27       NaT    synergie-media.com              NaN          MAR   \n",
       "8  2008-08-20       NaT                   NaN              NaN          IND   \n",
       "9         NaT       NaT          hostnine.com         Hostnine          NaN   \n",
       "10        NaT       NaT  thomaspublishing.com              NaN          USA   \n",
       "11 2011-08-01       NaT         getvetter.com        getvetter          NaN   \n",
       "\n",
       "    investment_rounds  funding_rounds  funding_total  milestones  \n",
       "0                 0.0             3.0     39750000.0         5.0  \n",
       "3                 0.0             0.0            0.0         0.0  \n",
       "4                 0.0             0.0            0.0         4.0  \n",
       "5                 0.0             0.0            0.0         0.0  \n",
       "6                 0.0             0.0            0.0         0.0  \n",
       "7                 0.0             0.0            0.0         0.0  \n",
       "8                 0.0             0.0            0.0         0.0  \n",
       "9                 0.0             0.0            0.0         1.0  \n",
       "10                0.0             0.0            0.0         1.0  \n",
       "11                0.0             0.0            0.0         1.0  "
      ]
     },
     "execution_count": 59,
     "metadata": {},
     "output_type": "execute_result"
    }
   ],
   "source": [
    "# Удаляем дубликаты из датафрейма new_comp_df\n",
    "new_comp_df_cleaned = new_comp_df.drop_duplicates()\n",
    "\n",
    "# Выведем первые 10 строк нового датафрейма\n",
    "new_comp_df_cleaned.head(10)"
   ]
  },
  {
   "cell_type": "code",
   "execution_count": 60,
   "metadata": {},
   "outputs": [
    {
     "name": "stdout",
     "output_type": "stream",
     "text": [
      "<class 'pandas.core.frame.DataFrame'>\n",
      "Int64Index: 196554 entries, 0 to 217472\n",
      "Data columns (total 13 columns):\n",
      " #   Column             Non-Null Count   Dtype         \n",
      "---  ------             --------------   -----         \n",
      " 0   company_id         196553 non-null  float64       \n",
      " 1   name               196553 non-null  object        \n",
      " 2   category_code      123186 non-null  object        \n",
      " 3   status             196553 non-null  object        \n",
      " 4   founded_at         91227 non-null   datetime64[ns]\n",
      " 5   closed_at          2620 non-null    datetime64[ns]\n",
      " 6   domain             126545 non-null  object        \n",
      " 7   network_username   80591 non-null   object        \n",
      " 8   country_code       87990 non-null   object        \n",
      " 9   investment_rounds  196553 non-null  float64       \n",
      " 10  funding_rounds     196553 non-null  float64       \n",
      " 11  funding_total      196553 non-null  float64       \n",
      " 12  milestones         196553 non-null  float64       \n",
      "dtypes: datetime64[ns](2), float64(5), object(6)\n",
      "memory usage: 21.0+ MB\n",
      "-9.744046580399864\n"
     ]
    }
   ],
   "source": [
    "# Выведем информацию о новом датафрейме\n",
    "new_comp_df_cleaned.info()\n",
    "print((len(new_comp_df_cleaned)-len(new_comp_df))/len(new_comp_df)*100)"
   ]
  },
  {
   "cell_type": "markdown",
   "metadata": {},
   "source": [
    "Как видно из выгрузки добирающаяся информация о компаниях была удалена и объём датафрейма сократился до 196 554 записей или на 9,7%.\n",
    "\n",
    "Далее сформируем новый датафрейм с информацией исключительно о раундах финансирования. Новому датафрейму присвоим имя `rounds_df`."
   ]
  },
  {
   "cell_type": "code",
   "execution_count": 61,
   "metadata": {},
   "outputs": [
    {
     "data": {
      "text/html": [
       "<div>\n",
       "<style scoped>\n",
       "    .dataframe tbody tr th:only-of-type {\n",
       "        vertical-align: middle;\n",
       "    }\n",
       "\n",
       "    .dataframe tbody tr th {\n",
       "        vertical-align: top;\n",
       "    }\n",
       "\n",
       "    .dataframe thead th {\n",
       "        text-align: right;\n",
       "    }\n",
       "</style>\n",
       "<table border=\"1\" class=\"dataframe\">\n",
       "  <thead>\n",
       "    <tr style=\"text-align: right;\">\n",
       "      <th></th>\n",
       "      <th>funding_round_id</th>\n",
       "      <th>company_id_fund</th>\n",
       "      <th>funded_at</th>\n",
       "      <th>funding_round_type</th>\n",
       "      <th>raised_amount</th>\n",
       "      <th>pre_money_valuation</th>\n",
       "      <th>participants</th>\n",
       "      <th>is_first_round</th>\n",
       "      <th>is_last_round</th>\n",
       "    </tr>\n",
       "  </thead>\n",
       "  <tbody>\n",
       "    <tr>\n",
       "      <th>0</th>\n",
       "      <td>888.0</td>\n",
       "      <td>1.0</td>\n",
       "      <td>2005-10-01</td>\n",
       "      <td>series-a</td>\n",
       "      <td>5250000.0</td>\n",
       "      <td>0.0</td>\n",
       "      <td>2.0</td>\n",
       "      <td>0.0</td>\n",
       "      <td>1.0</td>\n",
       "    </tr>\n",
       "    <tr>\n",
       "      <th>1</th>\n",
       "      <td>889.0</td>\n",
       "      <td>1.0</td>\n",
       "      <td>2007-01-01</td>\n",
       "      <td>series-b</td>\n",
       "      <td>9500000.0</td>\n",
       "      <td>0.0</td>\n",
       "      <td>3.0</td>\n",
       "      <td>0.0</td>\n",
       "      <td>0.0</td>\n",
       "    </tr>\n",
       "    <tr>\n",
       "      <th>2</th>\n",
       "      <td>2312.0</td>\n",
       "      <td>1.0</td>\n",
       "      <td>2008-05-19</td>\n",
       "      <td>series-c+</td>\n",
       "      <td>25000000.0</td>\n",
       "      <td>0.0</td>\n",
       "      <td>4.0</td>\n",
       "      <td>1.0</td>\n",
       "      <td>0.0</td>\n",
       "    </tr>\n",
       "    <tr>\n",
       "      <th>3</th>\n",
       "      <td>NaN</td>\n",
       "      <td>NaN</td>\n",
       "      <td>NaT</td>\n",
       "      <td>NaN</td>\n",
       "      <td>NaN</td>\n",
       "      <td>NaN</td>\n",
       "      <td>NaN</td>\n",
       "      <td>NaN</td>\n",
       "      <td>NaN</td>\n",
       "    </tr>\n",
       "    <tr>\n",
       "      <th>4</th>\n",
       "      <td>NaN</td>\n",
       "      <td>NaN</td>\n",
       "      <td>NaT</td>\n",
       "      <td>NaN</td>\n",
       "      <td>NaN</td>\n",
       "      <td>NaN</td>\n",
       "      <td>NaN</td>\n",
       "      <td>NaN</td>\n",
       "      <td>NaN</td>\n",
       "    </tr>\n",
       "    <tr>\n",
       "      <th>5</th>\n",
       "      <td>NaN</td>\n",
       "      <td>NaN</td>\n",
       "      <td>NaT</td>\n",
       "      <td>NaN</td>\n",
       "      <td>NaN</td>\n",
       "      <td>NaN</td>\n",
       "      <td>NaN</td>\n",
       "      <td>NaN</td>\n",
       "      <td>NaN</td>\n",
       "    </tr>\n",
       "    <tr>\n",
       "      <th>6</th>\n",
       "      <td>NaN</td>\n",
       "      <td>NaN</td>\n",
       "      <td>NaT</td>\n",
       "      <td>NaN</td>\n",
       "      <td>NaN</td>\n",
       "      <td>NaN</td>\n",
       "      <td>NaN</td>\n",
       "      <td>NaN</td>\n",
       "      <td>NaN</td>\n",
       "    </tr>\n",
       "    <tr>\n",
       "      <th>7</th>\n",
       "      <td>NaN</td>\n",
       "      <td>NaN</td>\n",
       "      <td>NaT</td>\n",
       "      <td>NaN</td>\n",
       "      <td>NaN</td>\n",
       "      <td>NaN</td>\n",
       "      <td>NaN</td>\n",
       "      <td>NaN</td>\n",
       "      <td>NaN</td>\n",
       "    </tr>\n",
       "    <tr>\n",
       "      <th>8</th>\n",
       "      <td>NaN</td>\n",
       "      <td>NaN</td>\n",
       "      <td>NaT</td>\n",
       "      <td>NaN</td>\n",
       "      <td>NaN</td>\n",
       "      <td>NaN</td>\n",
       "      <td>NaN</td>\n",
       "      <td>NaN</td>\n",
       "      <td>NaN</td>\n",
       "    </tr>\n",
       "    <tr>\n",
       "      <th>9</th>\n",
       "      <td>NaN</td>\n",
       "      <td>NaN</td>\n",
       "      <td>NaT</td>\n",
       "      <td>NaN</td>\n",
       "      <td>NaN</td>\n",
       "      <td>NaN</td>\n",
       "      <td>NaN</td>\n",
       "      <td>NaN</td>\n",
       "      <td>NaN</td>\n",
       "    </tr>\n",
       "  </tbody>\n",
       "</table>\n",
       "</div>"
      ],
      "text/plain": [
       "   funding_round_id  company_id_fund  funded_at funding_round_type  \\\n",
       "0             888.0              1.0 2005-10-01           series-a   \n",
       "1             889.0              1.0 2007-01-01           series-b   \n",
       "2            2312.0              1.0 2008-05-19          series-c+   \n",
       "3               NaN              NaN        NaT                NaN   \n",
       "4               NaN              NaN        NaT                NaN   \n",
       "5               NaN              NaN        NaT                NaN   \n",
       "6               NaN              NaN        NaT                NaN   \n",
       "7               NaN              NaN        NaT                NaN   \n",
       "8               NaN              NaN        NaT                NaN   \n",
       "9               NaN              NaN        NaT                NaN   \n",
       "\n",
       "   raised_amount  pre_money_valuation  participants  is_first_round  \\\n",
       "0      5250000.0                  0.0           2.0             0.0   \n",
       "1      9500000.0                  0.0           3.0             0.0   \n",
       "2     25000000.0                  0.0           4.0             1.0   \n",
       "3            NaN                  NaN           NaN             NaN   \n",
       "4            NaN                  NaN           NaN             NaN   \n",
       "5            NaN                  NaN           NaN             NaN   \n",
       "6            NaN                  NaN           NaN             NaN   \n",
       "7            NaN                  NaN           NaN             NaN   \n",
       "8            NaN                  NaN           NaN             NaN   \n",
       "9            NaN                  NaN           NaN             NaN   \n",
       "\n",
       "   is_last_round  \n",
       "0            1.0  \n",
       "1            0.0  \n",
       "2            0.0  \n",
       "3            NaN  \n",
       "4            NaN  \n",
       "5            NaN  \n",
       "6            NaN  \n",
       "7            NaN  \n",
       "8            NaN  \n",
       "9            NaN  "
      ]
     },
     "execution_count": 61,
     "metadata": {},
     "output_type": "execute_result"
    }
   ],
   "source": [
    "# Сформируем новый датафрейм с информацией о раундах финансирования\n",
    "rounds_df=comp_df[['funding_round_id', 'company_id_fund', 'funded_at', 'funding_round_type', 'raised_amount', \n",
    "                     'pre_money_valuation', 'participants', 'is_first_round', 'is_last_round']]\n",
    "\n",
    "# Выведем первые десять строк нового датафрейма\n",
    "rounds_df.head(10)"
   ]
  },
  {
   "cell_type": "code",
   "execution_count": 62,
   "metadata": {},
   "outputs": [
    {
     "name": "stdout",
     "output_type": "stream",
     "text": [
      "<class 'pandas.core.frame.DataFrame'>\n",
      "RangeIndex: 217774 entries, 0 to 217773\n",
      "Data columns (total 9 columns):\n",
      " #   Column               Non-Null Count  Dtype         \n",
      "---  ------               --------------  -----         \n",
      " 0   funding_round_id     52928 non-null  float64       \n",
      " 1   company_id_fund      52928 non-null  float64       \n",
      " 2   funded_at            52680 non-null  datetime64[ns]\n",
      " 3   funding_round_type   52928 non-null  object        \n",
      " 4   raised_amount        52928 non-null  float64       \n",
      " 5   pre_money_valuation  52928 non-null  float64       \n",
      " 6   participants         52928 non-null  float64       \n",
      " 7   is_first_round       52928 non-null  float64       \n",
      " 8   is_last_round        52928 non-null  float64       \n",
      "dtypes: datetime64[ns](1), float64(7), object(1)\n",
      "memory usage: 15.0+ MB\n"
     ]
    }
   ],
   "source": [
    "#Выведем информацию о датафрейме rounds_df\n",
    "rounds_df.info()"
   ]
  },
  {
   "cell_type": "markdown",
   "metadata": {},
   "source": [
    "Из выгрузки видно, что новый датафрейм был сформирован, однако в нём осталось значительное количество пропусков, перенёсшихся из предыдущего датафрейма `comp_df`.\n",
    "\n",
    "Удалим данные пропуски с помощью метода `dropna()`. В качестве столбца, по которому будет осуществляться удаление, будем использовать столбец `funding_round_id`, поскольку именно данный столбец должен содержать все все уникальные записи раундов финансирования изначального датафрейма. Новому датафрейму присвоим название `rounds_df_cleaned`."
   ]
  },
  {
   "cell_type": "code",
   "execution_count": 63,
   "metadata": {},
   "outputs": [
    {
     "data": {
      "text/html": [
       "<div>\n",
       "<style scoped>\n",
       "    .dataframe tbody tr th:only-of-type {\n",
       "        vertical-align: middle;\n",
       "    }\n",
       "\n",
       "    .dataframe tbody tr th {\n",
       "        vertical-align: top;\n",
       "    }\n",
       "\n",
       "    .dataframe thead th {\n",
       "        text-align: right;\n",
       "    }\n",
       "</style>\n",
       "<table border=\"1\" class=\"dataframe\">\n",
       "  <thead>\n",
       "    <tr style=\"text-align: right;\">\n",
       "      <th></th>\n",
       "      <th>funding_round_id</th>\n",
       "      <th>company_id_fund</th>\n",
       "      <th>funded_at</th>\n",
       "      <th>funding_round_type</th>\n",
       "      <th>raised_amount</th>\n",
       "      <th>pre_money_valuation</th>\n",
       "      <th>participants</th>\n",
       "      <th>is_first_round</th>\n",
       "      <th>is_last_round</th>\n",
       "    </tr>\n",
       "  </thead>\n",
       "  <tbody>\n",
       "    <tr>\n",
       "      <th>0</th>\n",
       "      <td>888.0</td>\n",
       "      <td>1.0</td>\n",
       "      <td>2005-10-01</td>\n",
       "      <td>series-a</td>\n",
       "      <td>5250000.0</td>\n",
       "      <td>0.0</td>\n",
       "      <td>2.0</td>\n",
       "      <td>0.0</td>\n",
       "      <td>1.0</td>\n",
       "    </tr>\n",
       "    <tr>\n",
       "      <th>1</th>\n",
       "      <td>889.0</td>\n",
       "      <td>1.0</td>\n",
       "      <td>2007-01-01</td>\n",
       "      <td>series-b</td>\n",
       "      <td>9500000.0</td>\n",
       "      <td>0.0</td>\n",
       "      <td>3.0</td>\n",
       "      <td>0.0</td>\n",
       "      <td>0.0</td>\n",
       "    </tr>\n",
       "    <tr>\n",
       "      <th>2</th>\n",
       "      <td>2312.0</td>\n",
       "      <td>1.0</td>\n",
       "      <td>2008-05-19</td>\n",
       "      <td>series-c+</td>\n",
       "      <td>25000000.0</td>\n",
       "      <td>0.0</td>\n",
       "      <td>4.0</td>\n",
       "      <td>1.0</td>\n",
       "      <td>0.0</td>\n",
       "    </tr>\n",
       "    <tr>\n",
       "      <th>15</th>\n",
       "      <td>1644.0</td>\n",
       "      <td>1001.0</td>\n",
       "      <td>2008-02-26</td>\n",
       "      <td>series-a</td>\n",
       "      <td>5000000.0</td>\n",
       "      <td>0.0</td>\n",
       "      <td>3.0</td>\n",
       "      <td>1.0</td>\n",
       "      <td>1.0</td>\n",
       "    </tr>\n",
       "    <tr>\n",
       "      <th>20</th>\n",
       "      <td>6682.0</td>\n",
       "      <td>10014.0</td>\n",
       "      <td>2008-09-01</td>\n",
       "      <td>angel</td>\n",
       "      <td>0.0</td>\n",
       "      <td>0.0</td>\n",
       "      <td>1.0</td>\n",
       "      <td>1.0</td>\n",
       "      <td>1.0</td>\n",
       "    </tr>\n",
       "    <tr>\n",
       "      <th>21</th>\n",
       "      <td>3619.0</td>\n",
       "      <td>10015.0</td>\n",
       "      <td>2008-10-10</td>\n",
       "      <td>series-a</td>\n",
       "      <td>2000000.0</td>\n",
       "      <td>0.0</td>\n",
       "      <td>2.0</td>\n",
       "      <td>0.0</td>\n",
       "      <td>1.0</td>\n",
       "    </tr>\n",
       "    <tr>\n",
       "      <th>22</th>\n",
       "      <td>18213.0</td>\n",
       "      <td>10015.0</td>\n",
       "      <td>2010-09-10</td>\n",
       "      <td>series-b</td>\n",
       "      <td>9000000.0</td>\n",
       "      <td>0.0</td>\n",
       "      <td>4.0</td>\n",
       "      <td>0.0</td>\n",
       "      <td>0.0</td>\n",
       "    </tr>\n",
       "    <tr>\n",
       "      <th>23</th>\n",
       "      <td>27747.0</td>\n",
       "      <td>10015.0</td>\n",
       "      <td>2012-01-24</td>\n",
       "      <td>series-c+</td>\n",
       "      <td>12000000.0</td>\n",
       "      <td>0.0</td>\n",
       "      <td>4.0</td>\n",
       "      <td>0.0</td>\n",
       "      <td>0.0</td>\n",
       "    </tr>\n",
       "    <tr>\n",
       "      <th>24</th>\n",
       "      <td>45409.0</td>\n",
       "      <td>10015.0</td>\n",
       "      <td>2013-08-13</td>\n",
       "      <td>series-c+</td>\n",
       "      <td>43000000.0</td>\n",
       "      <td>0.0</td>\n",
       "      <td>5.0</td>\n",
       "      <td>1.0</td>\n",
       "      <td>0.0</td>\n",
       "    </tr>\n",
       "    <tr>\n",
       "      <th>25</th>\n",
       "      <td>54006.0</td>\n",
       "      <td>10015.0</td>\n",
       "      <td>2012-01-01</td>\n",
       "      <td>venture</td>\n",
       "      <td>2069200.0</td>\n",
       "      <td>0.0</td>\n",
       "      <td>4.0</td>\n",
       "      <td>0.0</td>\n",
       "      <td>0.0</td>\n",
       "    </tr>\n",
       "  </tbody>\n",
       "</table>\n",
       "</div>"
      ],
      "text/plain": [
       "    funding_round_id  company_id_fund  funded_at funding_round_type  \\\n",
       "0              888.0              1.0 2005-10-01           series-a   \n",
       "1              889.0              1.0 2007-01-01           series-b   \n",
       "2             2312.0              1.0 2008-05-19          series-c+   \n",
       "15            1644.0           1001.0 2008-02-26           series-a   \n",
       "20            6682.0          10014.0 2008-09-01              angel   \n",
       "21            3619.0          10015.0 2008-10-10           series-a   \n",
       "22           18213.0          10015.0 2010-09-10           series-b   \n",
       "23           27747.0          10015.0 2012-01-24          series-c+   \n",
       "24           45409.0          10015.0 2013-08-13          series-c+   \n",
       "25           54006.0          10015.0 2012-01-01            venture   \n",
       "\n",
       "    raised_amount  pre_money_valuation  participants  is_first_round  \\\n",
       "0       5250000.0                  0.0           2.0             0.0   \n",
       "1       9500000.0                  0.0           3.0             0.0   \n",
       "2      25000000.0                  0.0           4.0             1.0   \n",
       "15      5000000.0                  0.0           3.0             1.0   \n",
       "20            0.0                  0.0           1.0             1.0   \n",
       "21      2000000.0                  0.0           2.0             0.0   \n",
       "22      9000000.0                  0.0           4.0             0.0   \n",
       "23     12000000.0                  0.0           4.0             0.0   \n",
       "24     43000000.0                  0.0           5.0             1.0   \n",
       "25      2069200.0                  0.0           4.0             0.0   \n",
       "\n",
       "    is_last_round  \n",
       "0             1.0  \n",
       "1             0.0  \n",
       "2             0.0  \n",
       "15            1.0  \n",
       "20            1.0  \n",
       "21            1.0  \n",
       "22            0.0  \n",
       "23            0.0  \n",
       "24            0.0  \n",
       "25            0.0  "
      ]
     },
     "execution_count": 63,
     "metadata": {},
     "output_type": "execute_result"
    }
   ],
   "source": [
    "# Удаляем пропуски из нового датафрейма\n",
    "rounds_df_cleaned=rounds_df.dropna(subset=['funding_round_id'])\n",
    "\n",
    "# Выведем первые десять строк нового датафрейма\n",
    "rounds_df_cleaned.head(10)"
   ]
  },
  {
   "cell_type": "code",
   "execution_count": 64,
   "metadata": {},
   "outputs": [
    {
     "name": "stdout",
     "output_type": "stream",
     "text": [
      "<class 'pandas.core.frame.DataFrame'>\n",
      "Int64Index: 52928 entries, 0 to 217773\n",
      "Data columns (total 9 columns):\n",
      " #   Column               Non-Null Count  Dtype         \n",
      "---  ------               --------------  -----         \n",
      " 0   funding_round_id     52928 non-null  float64       \n",
      " 1   company_id_fund      52928 non-null  float64       \n",
      " 2   funded_at            52680 non-null  datetime64[ns]\n",
      " 3   funding_round_type   52928 non-null  object        \n",
      " 4   raised_amount        52928 non-null  float64       \n",
      " 5   pre_money_valuation  52928 non-null  float64       \n",
      " 6   participants         52928 non-null  float64       \n",
      " 7   is_first_round       52928 non-null  float64       \n",
      " 8   is_last_round        52928 non-null  float64       \n",
      "dtypes: datetime64[ns](1), float64(7), object(1)\n",
      "memory usage: 4.0+ MB\n",
      "None\n",
      "4.114532950423216\n"
     ]
    }
   ],
   "source": [
    "#Выведем информацию о датафрейме rounds_df_cleaned\n",
    "print(rounds_df_cleaned.info())\n",
    "print(len(rounds_df)/len(rounds_df_cleaned))"
   ]
  },
  {
   "cell_type": "markdown",
   "metadata": {},
   "source": [
    "Из выгрузки нового датафрейма видно, что пропущенные значения были удалены, количество записей сократилось в 4,11 раза."
   ]
  },
  {
   "cell_type": "markdown",
   "metadata": {},
   "source": [
    "### Промежуточный вывод\n",
    "\n",
    "Таким образом,  в данном разделе проведены предварительные предобработка и исследование данных. В ходе чего было выявлено, что:\n",
    " - Максимальное значение типичного размера собранных в рамках одного раунда средств наблюдалось в 2005 году. В 2013 году значение показателя незначительно выросло по сравнению с 2012 годом. Однако перед этим, начиная с 2005 года, размер средств неизменно снижался, в то время как количество раундов стабильно увеличивалось.\n",
    " - Наибольшей долей сотрудников без информации обладают компании с одним сотрудником - более 59%. Для компаний с двумя и тремя сотрудниками величина показателя существенно ниже - 21,8% и 27,4% соответственно. Наименьшей долей обладают компании с числом сотрудников более 20 - 18,5%. Также было выявлено, что к таблицам `people.csv` и `education.csv` можно также присоединить `degrees.csv`, используя столбец `object_id`, предварительно скорректировав в нём формат данных.\n",
    " - Столбцы с именем `network_username` можно использовать для объединения данных, однако число пересечений по данному столбцу окажется крайне низким относительно общего количества уникальных значений для  датафреймов `comp_df` и `people_df`.\n",
    " - Исследование датасета `company_and_rounds.csv` показало, что с большей долей вероятности данный датасет был объединён по столбцам `company_id` и `company_id_fund` из двух отдельных датасетов, содержащих информацию о компаниях и раундах финансирования. Для более удобного дальнейшего анализа оптимальным вариантом может служить разделение датафрейма на два отдельных с соответствующей информацией. Однако после разделения необходимо обработать получившиеся датасеты, в том числе удалить пропуски и дубликаты."
   ]
  },
  {
   "cell_type": "markdown",
   "metadata": {
    "id": "bmVYhphNrJg2"
   },
   "source": [
    "\n",
    "## Шаг 3. Исследовательский анализ объединённых таблиц"
   ]
  },
  {
   "cell_type": "markdown",
   "metadata": {
    "id": "3Di6tCT3rJg2"
   },
   "source": [
    "\n",
    "### 3.1. Объединение данных"
   ]
  },
  {
   "cell_type": "markdown",
   "metadata": {
    "id": "kuV1b5MXFg3_"
   },
   "source": [
    "Для формирования таблицы с нужными нам для дальнейшего анализа проведём фильтрацию для датафрейма `new_comp_df_cleaned` по следующим условиям:\n",
    " - `funding_rounds`>0,\n",
    " или\n",
    " - `investment_rounds`>0,\n",
    " или\n",
    " - `status`=`acquired`\n",
    " \n",
    "Новому датафрейму присвоим имя  `comp_for_inv_df`."
   ]
  },
  {
   "cell_type": "code",
   "execution_count": 65,
   "metadata": {},
   "outputs": [],
   "source": [
    "# Создадим новый датафрейм, отфильтровав по условиям данные из датафрейма new_comp_df_cleaned\n",
    "comp_for_inv_df=new_comp_df_cleaned[(new_comp_df_cleaned['funding_rounds']>0)|\n",
    "                                    (new_comp_df_cleaned['investment_rounds']>0)|\n",
    "                                   (new_comp_df_cleaned['status']=='acquired')]"
   ]
  },
  {
   "cell_type": "markdown",
   "metadata": {},
   "source": [
    "Выгрузим первые десять строк нового датафрейма, а также общую информацию."
   ]
  },
  {
   "cell_type": "code",
   "execution_count": 66,
   "metadata": {},
   "outputs": [
    {
     "data": {
      "text/html": [
       "<div>\n",
       "<style scoped>\n",
       "    .dataframe tbody tr th:only-of-type {\n",
       "        vertical-align: middle;\n",
       "    }\n",
       "\n",
       "    .dataframe tbody tr th {\n",
       "        vertical-align: top;\n",
       "    }\n",
       "\n",
       "    .dataframe thead th {\n",
       "        text-align: right;\n",
       "    }\n",
       "</style>\n",
       "<table border=\"1\" class=\"dataframe\">\n",
       "  <thead>\n",
       "    <tr style=\"text-align: right;\">\n",
       "      <th></th>\n",
       "      <th>company_id</th>\n",
       "      <th>name</th>\n",
       "      <th>category_code</th>\n",
       "      <th>status</th>\n",
       "      <th>founded_at</th>\n",
       "      <th>closed_at</th>\n",
       "      <th>domain</th>\n",
       "      <th>network_username</th>\n",
       "      <th>country_code</th>\n",
       "      <th>investment_rounds</th>\n",
       "      <th>funding_rounds</th>\n",
       "      <th>funding_total</th>\n",
       "      <th>milestones</th>\n",
       "    </tr>\n",
       "  </thead>\n",
       "  <tbody>\n",
       "    <tr>\n",
       "      <th>0</th>\n",
       "      <td>1.0</td>\n",
       "      <td>Wetpaint</td>\n",
       "      <td>web</td>\n",
       "      <td>operating</td>\n",
       "      <td>2005-10-17</td>\n",
       "      <td>NaT</td>\n",
       "      <td>wetpaint-inc.com</td>\n",
       "      <td>BachelrWetpaint</td>\n",
       "      <td>USA</td>\n",
       "      <td>0.0</td>\n",
       "      <td>3.0</td>\n",
       "      <td>39750000.0</td>\n",
       "      <td>5.0</td>\n",
       "    </tr>\n",
       "    <tr>\n",
       "      <th>3</th>\n",
       "      <td>10.0</td>\n",
       "      <td>Flektor</td>\n",
       "      <td>games_video</td>\n",
       "      <td>acquired</td>\n",
       "      <td>NaT</td>\n",
       "      <td>NaT</td>\n",
       "      <td>flektor.com</td>\n",
       "      <td>NaN</td>\n",
       "      <td>USA</td>\n",
       "      <td>0.0</td>\n",
       "      <td>0.0</td>\n",
       "      <td>0.0</td>\n",
       "      <td>0.0</td>\n",
       "    </tr>\n",
       "    <tr>\n",
       "      <th>4</th>\n",
       "      <td>100.0</td>\n",
       "      <td>There</td>\n",
       "      <td>games_video</td>\n",
       "      <td>acquired</td>\n",
       "      <td>NaT</td>\n",
       "      <td>NaT</td>\n",
       "      <td>there.com</td>\n",
       "      <td>NaN</td>\n",
       "      <td>USA</td>\n",
       "      <td>0.0</td>\n",
       "      <td>0.0</td>\n",
       "      <td>0.0</td>\n",
       "      <td>4.0</td>\n",
       "    </tr>\n",
       "    <tr>\n",
       "      <th>15</th>\n",
       "      <td>1001.0</td>\n",
       "      <td>FriendFeed</td>\n",
       "      <td>web</td>\n",
       "      <td>acquired</td>\n",
       "      <td>2007-10-01</td>\n",
       "      <td>NaT</td>\n",
       "      <td>friendfeed.com</td>\n",
       "      <td>friendfeed</td>\n",
       "      <td>USA</td>\n",
       "      <td>0.0</td>\n",
       "      <td>1.0</td>\n",
       "      <td>5000000.0</td>\n",
       "      <td>3.0</td>\n",
       "    </tr>\n",
       "    <tr>\n",
       "      <th>20</th>\n",
       "      <td>10014.0</td>\n",
       "      <td>Mobclix</td>\n",
       "      <td>mobile</td>\n",
       "      <td>acquired</td>\n",
       "      <td>2008-03-01</td>\n",
       "      <td>NaT</td>\n",
       "      <td>mobclix.com</td>\n",
       "      <td>mobclix</td>\n",
       "      <td>USA</td>\n",
       "      <td>0.0</td>\n",
       "      <td>1.0</td>\n",
       "      <td>0.0</td>\n",
       "      <td>4.0</td>\n",
       "    </tr>\n",
       "    <tr>\n",
       "      <th>21</th>\n",
       "      <td>10015.0</td>\n",
       "      <td>Fitbit</td>\n",
       "      <td>health</td>\n",
       "      <td>operating</td>\n",
       "      <td>2007-10-01</td>\n",
       "      <td>NaT</td>\n",
       "      <td>fitbit.com</td>\n",
       "      <td>fitbit</td>\n",
       "      <td>USA</td>\n",
       "      <td>0.0</td>\n",
       "      <td>5.0</td>\n",
       "      <td>68069200.0</td>\n",
       "      <td>0.0</td>\n",
       "    </tr>\n",
       "    <tr>\n",
       "      <th>26</th>\n",
       "      <td>100155.0</td>\n",
       "      <td>MTPV</td>\n",
       "      <td>cleantech</td>\n",
       "      <td>operating</td>\n",
       "      <td>2003-01-01</td>\n",
       "      <td>NaT</td>\n",
       "      <td>mtpv.com</td>\n",
       "      <td>NaN</td>\n",
       "      <td>USA</td>\n",
       "      <td>0.0</td>\n",
       "      <td>3.0</td>\n",
       "      <td>10125300.0</td>\n",
       "      <td>1.0</td>\n",
       "    </tr>\n",
       "    <tr>\n",
       "      <th>32</th>\n",
       "      <td>10018.0</td>\n",
       "      <td>Demandbase</td>\n",
       "      <td>analytics</td>\n",
       "      <td>operating</td>\n",
       "      <td>2006-01-01</td>\n",
       "      <td>NaT</td>\n",
       "      <td>demandbase.com</td>\n",
       "      <td>Demandbase</td>\n",
       "      <td>USA</td>\n",
       "      <td>0.0</td>\n",
       "      <td>3.0</td>\n",
       "      <td>33000000.0</td>\n",
       "      <td>3.0</td>\n",
       "    </tr>\n",
       "    <tr>\n",
       "      <th>36</th>\n",
       "      <td>100189.0</td>\n",
       "      <td>Locatrix Communications</td>\n",
       "      <td>mobile</td>\n",
       "      <td>operating</td>\n",
       "      <td>2003-11-01</td>\n",
       "      <td>NaT</td>\n",
       "      <td>locatrix.com</td>\n",
       "      <td>NaN</td>\n",
       "      <td>AUS</td>\n",
       "      <td>0.0</td>\n",
       "      <td>1.0</td>\n",
       "      <td>250000.0</td>\n",
       "      <td>1.0</td>\n",
       "    </tr>\n",
       "    <tr>\n",
       "      <th>37</th>\n",
       "      <td>10020.0</td>\n",
       "      <td>Threebrix E-services Pvt Ltd</td>\n",
       "      <td>NaN</td>\n",
       "      <td>operating</td>\n",
       "      <td>NaT</td>\n",
       "      <td>NaT</td>\n",
       "      <td>NaN</td>\n",
       "      <td>NaN</td>\n",
       "      <td>NaN</td>\n",
       "      <td>1.0</td>\n",
       "      <td>0.0</td>\n",
       "      <td>0.0</td>\n",
       "      <td>0.0</td>\n",
       "    </tr>\n",
       "  </tbody>\n",
       "</table>\n",
       "</div>"
      ],
      "text/plain": [
       "    company_id                          name category_code     status  \\\n",
       "0          1.0                      Wetpaint           web  operating   \n",
       "3         10.0                       Flektor   games_video   acquired   \n",
       "4        100.0                         There   games_video   acquired   \n",
       "15      1001.0                    FriendFeed           web   acquired   \n",
       "20     10014.0                       Mobclix        mobile   acquired   \n",
       "21     10015.0                        Fitbit        health  operating   \n",
       "26    100155.0                          MTPV     cleantech  operating   \n",
       "32     10018.0                    Demandbase     analytics  operating   \n",
       "36    100189.0       Locatrix Communications        mobile  operating   \n",
       "37     10020.0  Threebrix E-services Pvt Ltd           NaN  operating   \n",
       "\n",
       "   founded_at closed_at            domain network_username country_code  \\\n",
       "0  2005-10-17       NaT  wetpaint-inc.com  BachelrWetpaint          USA   \n",
       "3         NaT       NaT       flektor.com              NaN          USA   \n",
       "4         NaT       NaT         there.com              NaN          USA   \n",
       "15 2007-10-01       NaT    friendfeed.com       friendfeed          USA   \n",
       "20 2008-03-01       NaT       mobclix.com          mobclix          USA   \n",
       "21 2007-10-01       NaT        fitbit.com           fitbit          USA   \n",
       "26 2003-01-01       NaT          mtpv.com              NaN          USA   \n",
       "32 2006-01-01       NaT    demandbase.com       Demandbase          USA   \n",
       "36 2003-11-01       NaT      locatrix.com              NaN          AUS   \n",
       "37        NaT       NaT               NaN              NaN          NaN   \n",
       "\n",
       "    investment_rounds  funding_rounds  funding_total  milestones  \n",
       "0                 0.0             3.0     39750000.0         5.0  \n",
       "3                 0.0             0.0            0.0         0.0  \n",
       "4                 0.0             0.0            0.0         4.0  \n",
       "15                0.0             1.0      5000000.0         3.0  \n",
       "20                0.0             1.0            0.0         4.0  \n",
       "21                0.0             5.0     68069200.0         0.0  \n",
       "26                0.0             3.0     10125300.0         1.0  \n",
       "32                0.0             3.0     33000000.0         3.0  \n",
       "36                0.0             1.0       250000.0         1.0  \n",
       "37                1.0             0.0            0.0         0.0  "
      ]
     },
     "execution_count": 66,
     "metadata": {},
     "output_type": "execute_result"
    }
   ],
   "source": [
    "# Выгрузим первые десять строк датафрейма comp_for_inv_df\n",
    "comp_for_inv_df.head(10)"
   ]
  },
  {
   "cell_type": "code",
   "execution_count": 67,
   "metadata": {},
   "outputs": [
    {
     "name": "stdout",
     "output_type": "stream",
     "text": [
      "<class 'pandas.core.frame.DataFrame'>\n",
      "Int64Index: 40747 entries, 0 to 217469\n",
      "Data columns (total 13 columns):\n",
      " #   Column             Non-Null Count  Dtype         \n",
      "---  ------             --------------  -----         \n",
      " 0   company_id         40747 non-null  float64       \n",
      " 1   name               40747 non-null  object        \n",
      " 2   category_code      35315 non-null  object        \n",
      " 3   status             40747 non-null  object        \n",
      " 4   founded_at         27807 non-null  datetime64[ns]\n",
      " 5   closed_at          2128 non-null   datetime64[ns]\n",
      " 6   domain             35754 non-null  object        \n",
      " 7   network_username   20850 non-null  object        \n",
      " 8   country_code       34742 non-null  object        \n",
      " 9   investment_rounds  40747 non-null  float64       \n",
      " 10  funding_rounds     40747 non-null  float64       \n",
      " 11  funding_total      40747 non-null  float64       \n",
      " 12  milestones         40747 non-null  float64       \n",
      "dtypes: datetime64[ns](2), float64(5), object(6)\n",
      "memory usage: 4.4+ MB\n"
     ]
    }
   ],
   "source": [
    "# Выгрузим общую информацию о датафрейме comp_for_inv_df\n",
    "comp_for_inv_df.info()"
   ]
  },
  {
   "cell_type": "markdown",
   "metadata": {},
   "source": [
    "Как видно из выгрузки, новый датафрейм содержит 40 747 записей, что свидетельствует о том, что данные были отфильтрованы корректно."
   ]
  },
  {
   "cell_type": "markdown",
   "metadata": {
    "id": "DFHINkV3rJg2"
   },
   "source": [
    "\n",
    "### 3.2. Анализ выбросов"
   ]
  },
  {
   "cell_type": "markdown",
   "metadata": {
    "id": "8jm75fKXrJg2",
    "vscode": {
     "languageId": "plaintext"
    }
   },
   "source": [
    "Выведем статистические показатели для столбца `funding_total` с помощью метода `describe()`."
   ]
  },
  {
   "cell_type": "code",
   "execution_count": 68,
   "metadata": {
    "id": "S1jrfr7rFhcw"
   },
   "outputs": [
    {
     "data": {
      "text/plain": [
       "count    4.074700e+04\n",
       "mean     1.013561e+07\n",
       "std      5.646436e+07\n",
       "min      0.000000e+00\n",
       "25%      0.000000e+00\n",
       "50%      6.000000e+05\n",
       "75%      5.650650e+06\n",
       "max      5.700000e+09\n",
       "Name: funding_total, dtype: float64"
      ]
     },
     "execution_count": 68,
     "metadata": {},
     "output_type": "execute_result"
    }
   ],
   "source": [
    "# Выведем статистические показатели для столбца funding_total с помощью метода describe()\n",
    "comp_for_inv_df['funding_total'].describe()"
   ]
  },
  {
   "cell_type": "markdown",
   "metadata": {},
   "source": [
    "Как видно из выгрузки, по причине значительного размаха данных, показатели имеют неподходящий для анализа формат. В связи с чем выведем статистические показатели по параметру отдельно.  "
   ]
  },
  {
   "cell_type": "code",
   "execution_count": 69,
   "metadata": {},
   "outputs": [
    {
     "name": "stdout",
     "output_type": "stream",
     "text": [
      "min:\n",
      "0.0\n",
      "max:\n",
      "5700000000.0\n",
      "std:\n",
      "56464359.977256276\n",
      "mean:\n",
      "10135609.636733992\n",
      "median:\n",
      "600000.0\n"
     ]
    }
   ],
   "source": [
    "# Выводим статистические показатели по параметру funding_total\n",
    "print('min:')\n",
    "print(comp_for_inv_df['funding_total'].min())\n",
    "print('max:')\n",
    "print(comp_for_inv_df['funding_total'].max())\n",
    "print('std:')\n",
    "print(comp_for_inv_df['funding_total'].std())\n",
    "print('mean:')\n",
    "print(comp_for_inv_df['funding_total'].mean())\n",
    "print('median:')\n",
    "print(comp_for_inv_df['funding_total'].median())"
   ]
  },
  {
   "cell_type": "markdown",
   "metadata": {},
   "source": [
    "Как видно из выгрузки наблюдается значительный размах данных, а также существенная разница между медианой и средним значением, и, как следствие, значительная величина стандартного отклонения.\n",
    "\n",
    "Далее приведём визуализацию распределения общего объёма финансирования с помощью гистограммы распределения."
   ]
  },
  {
   "cell_type": "code",
   "execution_count": 70,
   "metadata": {},
   "outputs": [
    {
     "data": {
      "text/plain": [
       "Text(0, 0.5, 'Частота')"
      ]
     },
     "execution_count": 70,
     "metadata": {},
     "output_type": "execute_result"
    },
    {
     "data": {
      "image/png": "[encoded data removed]",
      "text/plain": [
       "<Figure size 864x576 with 1 Axes>"
      ]
     },
     "metadata": {
      "needs_background": "light"
     },
     "output_type": "display_data"
    }
   ],
   "source": [
    "# Создаём контейнер графика matplotlib и задаём его размер\n",
    "plt.figure(figsize=(12, 8))\n",
    "\n",
    "# Строим гистограмму с помощью pandas через plot(kind='hist')\n",
    "comp_for_inv_df['funding_total'].plot(\n",
    "                kind='hist', \n",
    "                bins=50, \n",
    "                alpha=0.75,\n",
    "                edgecolor='black',\n",
    "                rot=0)\n",
    "\n",
    "# Настраиваем оформление графика\n",
    "plt.title('Распределение общего объёма финансирования')\n",
    "plt.xlabel('Объём финансирования')\n",
    "plt.ylabel('Частота')\n"
   ]
  },
  {
   "cell_type": "markdown",
   "metadata": {},
   "source": [
    "Как видно из получившейся гистограммы, распределение отражено недостаточно наглядно для дальнейшей оценки. В связи с чем построим аналогичный график с помощью логарифмической шкалы."
   ]
  },
  {
   "cell_type": "code",
   "execution_count": 71,
   "metadata": {},
   "outputs": [
    {
     "data": {
      "text/plain": [
       "Text(0, 0.5, 'Частота')"
      ]
     },
     "execution_count": 71,
     "metadata": {},
     "output_type": "execute_result"
    },
    {
     "data": {
      "image/png": "[encoded data removed]",
      "text/plain": [
       "<Figure size 864x576 with 1 Axes>"
      ]
     },
     "metadata": {
      "needs_background": "light"
     },
     "output_type": "display_data"
    }
   ],
   "source": [
    "# Создаём контейнер графика matplotlib и задаём его размер\n",
    "plt.figure(figsize=(12, 8))\n",
    "\n",
    "# Строим гистограмму с помощью pandas через plot(kind='hist')\n",
    "comp_for_inv_df['funding_total'].plot(\n",
    "                kind='hist', \n",
    "                bins=25, \n",
    "                alpha=0.75,\n",
    "                edgecolor='black',\n",
    "                rot=0, \n",
    "                log=True\n",
    ")\n",
    "\n",
    "# Настраиваем оформление графика\n",
    "plt.title('Распределение общего объёма финансирования')\n",
    "plt.xlabel('Объём финансирования (логарифмическая шкала)')\n",
    "plt.ylabel('Частота')\n"
   ]
  },
  {
   "cell_type": "markdown",
   "metadata": {},
   "source": [
    "Как видно из гистограммы, верхняя граница объёма финансирования составляет приблизительно 1,8 le9, далее следует обрыв данных. Показатели финансирования, находящиеся выше данного значения могут считаться выбросами."
   ]
  },
  {
   "cell_type": "markdown",
   "metadata": {
    "id": "JqkRAQrIrJg2"
   },
   "source": [
    "\n",
    "### 3.3. Анализ компаний, проданных за бесплатно"
   ]
  },
  {
   "cell_type": "markdown",
   "metadata": {},
   "source": [
    "Для анализа компаний, проданных за ноль или один доллар, необходимо объединить датасеты comp_for_inv_df и acq_df. Объединение будем осуществлять с помощью `how='left'`, в качестве парметров объединения будем использовать `company_id` и `acquired_company_id`. Объединённому датафрейму присвоим название `buy_0_1_df`."
   ]
  },
  {
   "cell_type": "code",
   "execution_count": 72,
   "metadata": {},
   "outputs": [
    {
     "name": "stdout",
     "output_type": "stream",
     "text": [
      "   company_id        name category_code     status founded_at closed_at  \\\n",
      "0         1.0    Wetpaint           web  operating 2005-10-17       NaT   \n",
      "1        10.0     Flektor   games_video   acquired        NaT       NaT   \n",
      "2       100.0       There   games_video   acquired        NaT       NaT   \n",
      "3      1001.0  FriendFeed           web   acquired 2007-10-01       NaT   \n",
      "4     10014.0     Mobclix        mobile   acquired 2008-03-01       NaT   \n",
      "\n",
      "             domain network_username country_code  investment_rounds  \\\n",
      "0  wetpaint-inc.com  BachelrWetpaint          USA                0.0   \n",
      "1       flektor.com              NaN          USA                0.0   \n",
      "2         there.com              NaN          USA                0.0   \n",
      "3    friendfeed.com       friendfeed          USA                0.0   \n",
      "4       mobclix.com          mobclix          USA                0.0   \n",
      "\n",
      "   funding_rounds  funding_total  milestones      id  acquiring_company_id  \\\n",
      "0             3.0     39750000.0         5.0     NaN                   NaN   \n",
      "1             0.0            0.0         0.0     1.0                  11.0   \n",
      "2             0.0            0.0         4.0    20.0                 377.0   \n",
      "3             1.0      5000000.0         3.0  1901.0                   5.0   \n",
      "4             1.0            0.0         4.0  3878.0               23054.0   \n",
      "\n",
      "   acquired_company_id       term_code  price_amount acquired_at  \n",
      "0                  NaN             NaN           NaN         NaT  \n",
      "1                 10.0             NaN    20000000.0  2007-05-30  \n",
      "2                100.0            cash           0.0  2005-05-29  \n",
      "3               1001.0  cash_and_stock    47500000.0  2009-08-10  \n",
      "4              10014.0             NaN           0.0  2010-09-30  \n",
      "<class 'pandas.core.frame.DataFrame'>\n",
      "Int64Index: 40890 entries, 0 to 40889\n",
      "Data columns (total 19 columns):\n",
      " #   Column                Non-Null Count  Dtype         \n",
      "---  ------                --------------  -----         \n",
      " 0   company_id            40890 non-null  float64       \n",
      " 1   name                  40890 non-null  object        \n",
      " 2   category_code         35436 non-null  object        \n",
      " 3   status                40890 non-null  object        \n",
      " 4   founded_at            27911 non-null  datetime64[ns]\n",
      " 5   closed_at             2128 non-null   datetime64[ns]\n",
      " 6   domain                35883 non-null  object        \n",
      " 7   network_username      20938 non-null  object        \n",
      " 8   country_code          34858 non-null  object        \n",
      " 9   investment_rounds     40890 non-null  float64       \n",
      " 10  funding_rounds        40890 non-null  float64       \n",
      " 11  funding_total         40890 non-null  float64       \n",
      " 12  milestones            40890 non-null  float64       \n",
      " 13  id                    9390 non-null   float64       \n",
      " 14  acquiring_company_id  9390 non-null   float64       \n",
      " 15  acquired_company_id   9390 non-null   float64       \n",
      " 16  term_code             1830 non-null   object        \n",
      " 17  price_amount          9390 non-null   float64       \n",
      " 18  acquired_at           9361 non-null   datetime64[ns]\n",
      "dtypes: datetime64[ns](3), float64(9), object(7)\n",
      "memory usage: 6.2+ MB\n",
      "None\n"
     ]
    }
   ],
   "source": [
    "# Объединим датафреймы comp_for_inv_df и rounds_df_cleaned\n",
    "buy_0_1_df=comp_for_inv_df.merge(acq_df, how='left', left_on='company_id', right_on='acquired_company_id')\n",
    "\n",
    "# Выведем полученный датафрейм\n",
    "print(buy_0_1_df.head())\n",
    "print(buy_0_1_df.info())"
   ]
  },
  {
   "cell_type": "markdown",
   "metadata": {},
   "source": [
    "Далее проведём фильтрацию полученного датафрейма по условиям, что компании были приобретены за 0 или 1 доллар, при этом сумма финансирования не равна нулю."
   ]
  },
  {
   "cell_type": "code",
   "execution_count": 73,
   "metadata": {
    "id": "wJHXCBwwrJg2",
    "vscode": {
     "languageId": "plaintext"
    }
   },
   "outputs": [
    {
     "data": {
      "text/html": [
       "<div>\n",
       "<style scoped>\n",
       "    .dataframe tbody tr th:only-of-type {\n",
       "        vertical-align: middle;\n",
       "    }\n",
       "\n",
       "    .dataframe tbody tr th {\n",
       "        vertical-align: top;\n",
       "    }\n",
       "\n",
       "    .dataframe thead th {\n",
       "        text-align: right;\n",
       "    }\n",
       "</style>\n",
       "<table border=\"1\" class=\"dataframe\">\n",
       "  <thead>\n",
       "    <tr style=\"text-align: right;\">\n",
       "      <th></th>\n",
       "      <th>company_id</th>\n",
       "      <th>name</th>\n",
       "      <th>category_code</th>\n",
       "      <th>status</th>\n",
       "      <th>founded_at</th>\n",
       "      <th>closed_at</th>\n",
       "      <th>domain</th>\n",
       "      <th>network_username</th>\n",
       "      <th>country_code</th>\n",
       "      <th>investment_rounds</th>\n",
       "      <th>funding_rounds</th>\n",
       "      <th>funding_total</th>\n",
       "      <th>milestones</th>\n",
       "      <th>id</th>\n",
       "      <th>acquiring_company_id</th>\n",
       "      <th>acquired_company_id</th>\n",
       "      <th>term_code</th>\n",
       "      <th>price_amount</th>\n",
       "      <th>acquired_at</th>\n",
       "    </tr>\n",
       "  </thead>\n",
       "  <tbody>\n",
       "    <tr>\n",
       "      <th>25</th>\n",
       "      <td>10054.0</td>\n",
       "      <td>Jumptap</td>\n",
       "      <td>mobile</td>\n",
       "      <td>acquired</td>\n",
       "      <td>2005-01-01</td>\n",
       "      <td>NaT</td>\n",
       "      <td>jumptap.com</td>\n",
       "      <td>jumptap</td>\n",
       "      <td>USA</td>\n",
       "      <td>0.0</td>\n",
       "      <td>7.0</td>\n",
       "      <td>121500000.0</td>\n",
       "      <td>3.0</td>\n",
       "      <td>9288.0</td>\n",
       "      <td>23283.0</td>\n",
       "      <td>10054.0</td>\n",
       "      <td>cash_and_stock</td>\n",
       "      <td>0.0</td>\n",
       "      <td>2013-08-13</td>\n",
       "    </tr>\n",
       "    <tr>\n",
       "      <th>63</th>\n",
       "      <td>101312.0</td>\n",
       "      <td>SideTour</td>\n",
       "      <td>web</td>\n",
       "      <td>acquired</td>\n",
       "      <td>2011-06-01</td>\n",
       "      <td>NaT</td>\n",
       "      <td>sidetour.com</td>\n",
       "      <td>sidetour</td>\n",
       "      <td>USA</td>\n",
       "      <td>0.0</td>\n",
       "      <td>3.0</td>\n",
       "      <td>4000000.0</td>\n",
       "      <td>2.0</td>\n",
       "      <td>9653.0</td>\n",
       "      <td>11391.0</td>\n",
       "      <td>101312.0</td>\n",
       "      <td>NaN</td>\n",
       "      <td>0.0</td>\n",
       "      <td>2013-09-18</td>\n",
       "    </tr>\n",
       "    <tr>\n",
       "      <th>66</th>\n",
       "      <td>101340.0</td>\n",
       "      <td>ChoicePass</td>\n",
       "      <td>enterprise</td>\n",
       "      <td>acquired</td>\n",
       "      <td>2011-07-01</td>\n",
       "      <td>NaT</td>\n",
       "      <td>choicepass.com</td>\n",
       "      <td>choicepass</td>\n",
       "      <td>USA</td>\n",
       "      <td>0.0</td>\n",
       "      <td>1.0</td>\n",
       "      <td>250000.0</td>\n",
       "      <td>1.0</td>\n",
       "      <td>7272.0</td>\n",
       "      <td>1972.0</td>\n",
       "      <td>101340.0</td>\n",
       "      <td>NaN</td>\n",
       "      <td>0.0</td>\n",
       "      <td>2012-06-18</td>\n",
       "    </tr>\n",
       "    <tr>\n",
       "      <th>67</th>\n",
       "      <td>10137.0</td>\n",
       "      <td>Producteev</td>\n",
       "      <td>software</td>\n",
       "      <td>acquired</td>\n",
       "      <td>2008-07-08</td>\n",
       "      <td>NaT</td>\n",
       "      <td>producteev.com</td>\n",
       "      <td>producteev</td>\n",
       "      <td>USA</td>\n",
       "      <td>0.0</td>\n",
       "      <td>3.0</td>\n",
       "      <td>1310000.0</td>\n",
       "      <td>2.0</td>\n",
       "      <td>8254.0</td>\n",
       "      <td>757.0</td>\n",
       "      <td>10137.0</td>\n",
       "      <td>cash_and_stock</td>\n",
       "      <td>0.0</td>\n",
       "      <td>2012-11-05</td>\n",
       "    </tr>\n",
       "    <tr>\n",
       "      <th>68</th>\n",
       "      <td>10139.0</td>\n",
       "      <td>TradeCard</td>\n",
       "      <td>enterprise</td>\n",
       "      <td>acquired</td>\n",
       "      <td>1999-01-01</td>\n",
       "      <td>NaT</td>\n",
       "      <td>tradecard.com</td>\n",
       "      <td>TradeCard</td>\n",
       "      <td>USA</td>\n",
       "      <td>0.0</td>\n",
       "      <td>2.0</td>\n",
       "      <td>44925000.0</td>\n",
       "      <td>1.0</td>\n",
       "      <td>9326.0</td>\n",
       "      <td>44008.0</td>\n",
       "      <td>10139.0</td>\n",
       "      <td>NaN</td>\n",
       "      <td>0.0</td>\n",
       "      <td>2013-04-01</td>\n",
       "    </tr>\n",
       "    <tr>\n",
       "      <th>...</th>\n",
       "      <td>...</td>\n",
       "      <td>...</td>\n",
       "      <td>...</td>\n",
       "      <td>...</td>\n",
       "      <td>...</td>\n",
       "      <td>...</td>\n",
       "      <td>...</td>\n",
       "      <td>...</td>\n",
       "      <td>...</td>\n",
       "      <td>...</td>\n",
       "      <td>...</td>\n",
       "      <td>...</td>\n",
       "      <td>...</td>\n",
       "      <td>...</td>\n",
       "      <td>...</td>\n",
       "      <td>...</td>\n",
       "      <td>...</td>\n",
       "      <td>...</td>\n",
       "      <td>...</td>\n",
       "    </tr>\n",
       "    <tr>\n",
       "      <th>40834</th>\n",
       "      <td>99.0</td>\n",
       "      <td>Amie Street</td>\n",
       "      <td>web</td>\n",
       "      <td>acquired</td>\n",
       "      <td>2011-07-04</td>\n",
       "      <td>NaT</td>\n",
       "      <td>amiestreet.com</td>\n",
       "      <td>amiestreet_logs</td>\n",
       "      <td>USA</td>\n",
       "      <td>0.0</td>\n",
       "      <td>2.0</td>\n",
       "      <td>3900000.0</td>\n",
       "      <td>0.0</td>\n",
       "      <td>7024.0</td>\n",
       "      <td>317.0</td>\n",
       "      <td>99.0</td>\n",
       "      <td>NaN</td>\n",
       "      <td>0.0</td>\n",
       "      <td>2010-09-22</td>\n",
       "    </tr>\n",
       "    <tr>\n",
       "      <th>40836</th>\n",
       "      <td>9905.0</td>\n",
       "      <td>UBmatrix</td>\n",
       "      <td>software</td>\n",
       "      <td>acquired</td>\n",
       "      <td>2005-01-01</td>\n",
       "      <td>NaT</td>\n",
       "      <td>ubmatrix.com</td>\n",
       "      <td>NaN</td>\n",
       "      <td>USA</td>\n",
       "      <td>0.0</td>\n",
       "      <td>2.0</td>\n",
       "      <td>5172350.0</td>\n",
       "      <td>0.0</td>\n",
       "      <td>3381.0</td>\n",
       "      <td>41119.0</td>\n",
       "      <td>9905.0</td>\n",
       "      <td>NaN</td>\n",
       "      <td>0.0</td>\n",
       "      <td>2010-06-24</td>\n",
       "    </tr>\n",
       "    <tr>\n",
       "      <th>40840</th>\n",
       "      <td>992.0</td>\n",
       "      <td>wunderloop</td>\n",
       "      <td>advertising</td>\n",
       "      <td>acquired</td>\n",
       "      <td>1999-01-01</td>\n",
       "      <td>NaT</td>\n",
       "      <td>wunderloop.com</td>\n",
       "      <td>NaN</td>\n",
       "      <td>USA</td>\n",
       "      <td>0.0</td>\n",
       "      <td>1.0</td>\n",
       "      <td>10000000.0</td>\n",
       "      <td>1.0</td>\n",
       "      <td>9916.0</td>\n",
       "      <td>19182.0</td>\n",
       "      <td>992.0</td>\n",
       "      <td>NaN</td>\n",
       "      <td>0.0</td>\n",
       "      <td>2010-07-02</td>\n",
       "    </tr>\n",
       "    <tr>\n",
       "      <th>40854</th>\n",
       "      <td>997.0</td>\n",
       "      <td>Zimbra</td>\n",
       "      <td>enterprise</td>\n",
       "      <td>acquired</td>\n",
       "      <td>2003-01-01</td>\n",
       "      <td>NaT</td>\n",
       "      <td>zimbra.com</td>\n",
       "      <td>zimbra</td>\n",
       "      <td>USA</td>\n",
       "      <td>0.0</td>\n",
       "      <td>1.0</td>\n",
       "      <td>14500000.0</td>\n",
       "      <td>3.0</td>\n",
       "      <td>9121.0</td>\n",
       "      <td>415.0</td>\n",
       "      <td>997.0</td>\n",
       "      <td>NaN</td>\n",
       "      <td>0.0</td>\n",
       "      <td>2013-07-15</td>\n",
       "    </tr>\n",
       "    <tr>\n",
       "      <th>40872</th>\n",
       "      <td>153326.0</td>\n",
       "      <td>Yoke</td>\n",
       "      <td>web</td>\n",
       "      <td>acquired</td>\n",
       "      <td>NaT</td>\n",
       "      <td>NaT</td>\n",
       "      <td>apps.socialnet.com::yokeapp</td>\n",
       "      <td>NaN</td>\n",
       "      <td>NaN</td>\n",
       "      <td>0.0</td>\n",
       "      <td>1.0</td>\n",
       "      <td>500000.0</td>\n",
       "      <td>1.0</td>\n",
       "      <td>7948.0</td>\n",
       "      <td>2352.0</td>\n",
       "      <td>153326.0</td>\n",
       "      <td>NaN</td>\n",
       "      <td>0.0</td>\n",
       "      <td>2012-09-11</td>\n",
       "    </tr>\n",
       "  </tbody>\n",
       "</table>\n",
       "<p>1618 rows × 19 columns</p>\n",
       "</div>"
      ],
      "text/plain": [
       "       company_id         name category_code    status founded_at closed_at  \\\n",
       "25        10054.0      Jumptap        mobile  acquired 2005-01-01       NaT   \n",
       "63       101312.0     SideTour           web  acquired 2011-06-01       NaT   \n",
       "66       101340.0   ChoicePass    enterprise  acquired 2011-07-01       NaT   \n",
       "67        10137.0   Producteev      software  acquired 2008-07-08       NaT   \n",
       "68        10139.0    TradeCard    enterprise  acquired 1999-01-01       NaT   \n",
       "...           ...          ...           ...       ...        ...       ...   \n",
       "40834        99.0  Amie Street           web  acquired 2011-07-04       NaT   \n",
       "40836      9905.0     UBmatrix      software  acquired 2005-01-01       NaT   \n",
       "40840       992.0   wunderloop   advertising  acquired 1999-01-01       NaT   \n",
       "40854       997.0       Zimbra    enterprise  acquired 2003-01-01       NaT   \n",
       "40872    153326.0         Yoke           web  acquired        NaT       NaT   \n",
       "\n",
       "                            domain network_username country_code  \\\n",
       "25                     jumptap.com          jumptap          USA   \n",
       "63                    sidetour.com         sidetour          USA   \n",
       "66                  choicepass.com       choicepass          USA   \n",
       "67                  producteev.com       producteev          USA   \n",
       "68                   tradecard.com        TradeCard          USA   \n",
       "...                            ...              ...          ...   \n",
       "40834               amiestreet.com  amiestreet_logs          USA   \n",
       "40836                 ubmatrix.com              NaN          USA   \n",
       "40840               wunderloop.com              NaN          USA   \n",
       "40854                   zimbra.com           zimbra          USA   \n",
       "40872  apps.socialnet.com::yokeapp              NaN          NaN   \n",
       "\n",
       "       investment_rounds  funding_rounds  funding_total  milestones      id  \\\n",
       "25                   0.0             7.0    121500000.0         3.0  9288.0   \n",
       "63                   0.0             3.0      4000000.0         2.0  9653.0   \n",
       "66                   0.0             1.0       250000.0         1.0  7272.0   \n",
       "67                   0.0             3.0      1310000.0         2.0  8254.0   \n",
       "68                   0.0             2.0     44925000.0         1.0  9326.0   \n",
       "...                  ...             ...            ...         ...     ...   \n",
       "40834                0.0             2.0      3900000.0         0.0  7024.0   \n",
       "40836                0.0             2.0      5172350.0         0.0  3381.0   \n",
       "40840                0.0             1.0     10000000.0         1.0  9916.0   \n",
       "40854                0.0             1.0     14500000.0         3.0  9121.0   \n",
       "40872                0.0             1.0       500000.0         1.0  7948.0   \n",
       "\n",
       "       acquiring_company_id  acquired_company_id       term_code  \\\n",
       "25                  23283.0              10054.0  cash_and_stock   \n",
       "63                  11391.0             101312.0             NaN   \n",
       "66                   1972.0             101340.0             NaN   \n",
       "67                    757.0              10137.0  cash_and_stock   \n",
       "68                  44008.0              10139.0             NaN   \n",
       "...                     ...                  ...             ...   \n",
       "40834                 317.0                 99.0             NaN   \n",
       "40836               41119.0               9905.0             NaN   \n",
       "40840               19182.0                992.0             NaN   \n",
       "40854                 415.0                997.0             NaN   \n",
       "40872                2352.0             153326.0             NaN   \n",
       "\n",
       "       price_amount acquired_at  \n",
       "25              0.0  2013-08-13  \n",
       "63              0.0  2013-09-18  \n",
       "66              0.0  2012-06-18  \n",
       "67              0.0  2012-11-05  \n",
       "68              0.0  2013-04-01  \n",
       "...             ...         ...  \n",
       "40834           0.0  2010-09-22  \n",
       "40836           0.0  2010-06-24  \n",
       "40840           0.0  2010-07-02  \n",
       "40854           0.0  2013-07-15  \n",
       "40872           0.0  2012-09-11  \n",
       "\n",
       "[1618 rows x 19 columns]"
      ]
     },
     "execution_count": 73,
     "metadata": {},
     "output_type": "execute_result"
    }
   ],
   "source": [
    "# Создадим новый датафрейм, отфильтровав по условиям данные из датафрейма new_comp_df_cleaned\n",
    "buy_0_1_df_filtered=buy_0_1_df[(buy_0_1_df['funding_total']!=0)&(\n",
    "                                    (buy_0_1_df['price_amount']==0)|\n",
    "                                   (buy_0_1_df['price_amount']==1))]\n",
    "buy_0_1_df_filtered"
   ]
  },
  {
   "cell_type": "code",
   "execution_count": 74,
   "metadata": {
    "id": "9IDTHfYQFhuX"
   },
   "outputs": [
    {
     "name": "stdout",
     "output_type": "stream",
     "text": [
      "0.0    1618\n",
      "Name: price_amount, dtype: int64\n",
      "acquired    1618\n",
      "Name: status, dtype: int64\n",
      "USA    1236\n",
      "GBR      64\n",
      "CAN      46\n",
      "DEU      31\n",
      "ISR      27\n",
      "FRA      24\n",
      "IRL      11\n",
      "DNK       9\n",
      "SWE       8\n",
      "IND       7\n",
      "ESP       7\n",
      "ITA       6\n",
      "CHE       6\n",
      "FIN       6\n",
      "JPN       5\n",
      "NLD       5\n",
      "NOR       4\n",
      "CHN       4\n",
      "ARG       4\n",
      "BEL       4\n",
      "AUT       3\n",
      "SGP       3\n",
      "BGR       2\n",
      "AUS       2\n",
      "BRA       1\n",
      "CZE       1\n",
      "HKG       1\n",
      "RUS       1\n",
      "HUN       1\n",
      "KOR       1\n",
      "THA       1\n",
      "TUR       1\n",
      "URY       1\n",
      "CHL       1\n",
      "POL       1\n",
      "UMI       1\n",
      "Name: country_code, dtype: int64\n"
     ]
    }
   ],
   "source": [
    "# Выведем характеристики компаний\n",
    "print(buy_0_1_df_filtered['price_amount'].value_counts())\n",
    "print(buy_0_1_df_filtered['status'].value_counts())\n",
    "print(buy_0_1_df_filtered['country_code'].value_counts())"
   ]
  },
  {
   "cell_type": "markdown",
   "metadata": {},
   "source": [
    "Как видно, все компании, попавшие в датафрейм были проданы за 0 долларов и имеют статус `acquired`."
   ]
  },
  {
   "cell_type": "markdown",
   "metadata": {},
   "source": [
    "Далее рассчитаем границы выбросов для столбца `funding_total`. Для этого построим гистограмму распределения по данному столбцу."
   ]
  },
  {
   "cell_type": "code",
   "execution_count": 75,
   "metadata": {},
   "outputs": [
    {
     "data": {
      "text/plain": [
       "Text(0, 0.5, 'Частота')"
      ]
     },
     "execution_count": 75,
     "metadata": {},
     "output_type": "execute_result"
    },
    {
     "data": {
      "image/png": "[encoded data removed]",
      "text/plain": [
       "<Figure size 864x576 with 1 Axes>"
      ]
     },
     "metadata": {
      "needs_background": "light"
     },
     "output_type": "display_data"
    }
   ],
   "source": [
    "# Создаём контейнер графика matplotlib и задаём его размер\n",
    "plt.figure(figsize=(12, 8))\n",
    "\n",
    "# Строим гистограмму с помощью pandas через plot(kind='hist')\n",
    "buy_0_1_df_filtered['funding_total'].plot(\n",
    "                kind='hist', \n",
    "                bins=25, \n",
    "                alpha=0.75,\n",
    "                edgecolor='black',\n",
    "                rot=0\n",
    "                \n",
    ")\n",
    "\n",
    "# Настраиваем оформление графика\n",
    "plt.title('Распределение общего объёма финансирования')\n",
    "plt.xlabel('Объём финансирования')\n",
    "plt.ylabel('Частота')"
   ]
  },
  {
   "cell_type": "markdown",
   "metadata": {},
   "source": [
    "Как видно из визуализации, нижняя граница выбросов находится около 0, в то время как значение процентиля для верхней границы оценить сложно.\n",
    "\n",
    "В связи с чем определим верхнюю границу с помощью расчёта показателя IQR."
   ]
  },
  {
   "cell_type": "code",
   "execution_count": 76,
   "metadata": {},
   "outputs": [
    {
     "name": "stdout",
     "output_type": "stream",
     "text": [
      "Верхняя граница:\n",
      "35750000.0\n"
     ]
    }
   ],
   "source": [
    "# Определим первый процентиль\n",
    "Q1=buy_0_1_df_filtered['funding_total'].quantile(0.25)\n",
    "\n",
    "# # Определим второй процентиль\n",
    "Q3=buy_0_1_df_filtered['funding_total'].quantile(0.75)\n",
    "\n",
    "# Рассчитаем межквартильный размах IQR\n",
    "IQR=Q3-Q1\n",
    "\n",
    "# Рассчитаем верхнюю границу выбросов\n",
    "high_point=Q3+1.5*IQR\n",
    "\n",
    "print('Верхняя граница:')\n",
    "print(high_point)"
   ]
  },
  {
   "cell_type": "markdown",
   "metadata": {},
   "source": [
    "Определим подбором процентиль, при котором значение параметра будет соответствовать верхней границе."
   ]
  },
  {
   "cell_type": "code",
   "execution_count": 77,
   "metadata": {},
   "outputs": [
    {
     "data": {
      "text/plain": [
       "35894000.00000001"
      ]
     },
     "execution_count": 77,
     "metadata": {},
     "output_type": "execute_result"
    }
   ],
   "source": [
    "buy_0_1_df_filtered['funding_total'].quantile(0.91)"
   ]
  },
  {
   "cell_type": "markdown",
   "metadata": {},
   "source": [
    "В результате верхняя граница выбросов приблизительно соответствует 91-ому процентилю."
   ]
  },
  {
   "cell_type": "markdown",
   "metadata": {
    "id": "mEiWpROjrJg2"
   },
   "source": [
    "\n",
    "### 3.4. Цены стартапов по категориям"
   ]
  },
  {
   "cell_type": "markdown",
   "metadata": {},
   "source": [
    "   Для того, чтобы оценить категории стартапов с типично высокими ценами, а также стартапы с наибольшим разбросом цен, рассмтрим сфорисированный раннее датафрейм `buy_0_1_df`. При этом для более достоверных данных, исключим из него компании, приобретённые за 0 долларов. Присвоим новому датафрйему название `high_price_comp_df`."
   ]
  },
  {
   "cell_type": "code",
   "execution_count": 78,
   "metadata": {
    "id": "jQ09dYUWrJg2",
    "vscode": {
     "languageId": "plaintext"
    }
   },
   "outputs": [
    {
     "data": {
      "text/html": [
       "<div>\n",
       "<style scoped>\n",
       "    .dataframe tbody tr th:only-of-type {\n",
       "        vertical-align: middle;\n",
       "    }\n",
       "\n",
       "    .dataframe tbody tr th {\n",
       "        vertical-align: top;\n",
       "    }\n",
       "\n",
       "    .dataframe thead th {\n",
       "        text-align: right;\n",
       "    }\n",
       "</style>\n",
       "<table border=\"1\" class=\"dataframe\">\n",
       "  <thead>\n",
       "    <tr style=\"text-align: right;\">\n",
       "      <th></th>\n",
       "      <th>company_id</th>\n",
       "      <th>name</th>\n",
       "      <th>category_code</th>\n",
       "      <th>status</th>\n",
       "      <th>founded_at</th>\n",
       "      <th>closed_at</th>\n",
       "      <th>domain</th>\n",
       "      <th>network_username</th>\n",
       "      <th>country_code</th>\n",
       "      <th>investment_rounds</th>\n",
       "      <th>funding_rounds</th>\n",
       "      <th>funding_total</th>\n",
       "      <th>milestones</th>\n",
       "      <th>id</th>\n",
       "      <th>acquiring_company_id</th>\n",
       "      <th>acquired_company_id</th>\n",
       "      <th>term_code</th>\n",
       "      <th>price_amount</th>\n",
       "      <th>acquired_at</th>\n",
       "    </tr>\n",
       "  </thead>\n",
       "  <tbody>\n",
       "    <tr>\n",
       "      <th>0</th>\n",
       "      <td>1.0</td>\n",
       "      <td>Wetpaint</td>\n",
       "      <td>web</td>\n",
       "      <td>operating</td>\n",
       "      <td>2005-10-17</td>\n",
       "      <td>NaT</td>\n",
       "      <td>wetpaint-inc.com</td>\n",
       "      <td>BachelrWetpaint</td>\n",
       "      <td>USA</td>\n",
       "      <td>0.0</td>\n",
       "      <td>3.0</td>\n",
       "      <td>39750000.0</td>\n",
       "      <td>5.0</td>\n",
       "      <td>NaN</td>\n",
       "      <td>NaN</td>\n",
       "      <td>NaN</td>\n",
       "      <td>NaN</td>\n",
       "      <td>NaN</td>\n",
       "      <td>NaT</td>\n",
       "    </tr>\n",
       "    <tr>\n",
       "      <th>1</th>\n",
       "      <td>10.0</td>\n",
       "      <td>Flektor</td>\n",
       "      <td>games_video</td>\n",
       "      <td>acquired</td>\n",
       "      <td>NaT</td>\n",
       "      <td>NaT</td>\n",
       "      <td>flektor.com</td>\n",
       "      <td>NaN</td>\n",
       "      <td>USA</td>\n",
       "      <td>0.0</td>\n",
       "      <td>0.0</td>\n",
       "      <td>0.0</td>\n",
       "      <td>0.0</td>\n",
       "      <td>1.0</td>\n",
       "      <td>11.0</td>\n",
       "      <td>10.0</td>\n",
       "      <td>NaN</td>\n",
       "      <td>2.000000e+07</td>\n",
       "      <td>2007-05-30</td>\n",
       "    </tr>\n",
       "    <tr>\n",
       "      <th>3</th>\n",
       "      <td>1001.0</td>\n",
       "      <td>FriendFeed</td>\n",
       "      <td>web</td>\n",
       "      <td>acquired</td>\n",
       "      <td>2007-10-01</td>\n",
       "      <td>NaT</td>\n",
       "      <td>friendfeed.com</td>\n",
       "      <td>friendfeed</td>\n",
       "      <td>USA</td>\n",
       "      <td>0.0</td>\n",
       "      <td>1.0</td>\n",
       "      <td>5000000.0</td>\n",
       "      <td>3.0</td>\n",
       "      <td>1901.0</td>\n",
       "      <td>5.0</td>\n",
       "      <td>1001.0</td>\n",
       "      <td>cash_and_stock</td>\n",
       "      <td>4.750000e+07</td>\n",
       "      <td>2009-08-10</td>\n",
       "    </tr>\n",
       "    <tr>\n",
       "      <th>5</th>\n",
       "      <td>10015.0</td>\n",
       "      <td>Fitbit</td>\n",
       "      <td>health</td>\n",
       "      <td>operating</td>\n",
       "      <td>2007-10-01</td>\n",
       "      <td>NaT</td>\n",
       "      <td>fitbit.com</td>\n",
       "      <td>fitbit</td>\n",
       "      <td>USA</td>\n",
       "      <td>0.0</td>\n",
       "      <td>5.0</td>\n",
       "      <td>68069200.0</td>\n",
       "      <td>0.0</td>\n",
       "      <td>NaN</td>\n",
       "      <td>NaN</td>\n",
       "      <td>NaN</td>\n",
       "      <td>NaN</td>\n",
       "      <td>NaN</td>\n",
       "      <td>NaT</td>\n",
       "    </tr>\n",
       "    <tr>\n",
       "      <th>6</th>\n",
       "      <td>100155.0</td>\n",
       "      <td>MTPV</td>\n",
       "      <td>cleantech</td>\n",
       "      <td>operating</td>\n",
       "      <td>2003-01-01</td>\n",
       "      <td>NaT</td>\n",
       "      <td>mtpv.com</td>\n",
       "      <td>NaN</td>\n",
       "      <td>USA</td>\n",
       "      <td>0.0</td>\n",
       "      <td>3.0</td>\n",
       "      <td>10125300.0</td>\n",
       "      <td>1.0</td>\n",
       "      <td>NaN</td>\n",
       "      <td>NaN</td>\n",
       "      <td>NaN</td>\n",
       "      <td>NaN</td>\n",
       "      <td>NaN</td>\n",
       "      <td>NaT</td>\n",
       "    </tr>\n",
       "    <tr>\n",
       "      <th>...</th>\n",
       "      <td>...</td>\n",
       "      <td>...</td>\n",
       "      <td>...</td>\n",
       "      <td>...</td>\n",
       "      <td>...</td>\n",
       "      <td>...</td>\n",
       "      <td>...</td>\n",
       "      <td>...</td>\n",
       "      <td>...</td>\n",
       "      <td>...</td>\n",
       "      <td>...</td>\n",
       "      <td>...</td>\n",
       "      <td>...</td>\n",
       "      <td>...</td>\n",
       "      <td>...</td>\n",
       "      <td>...</td>\n",
       "      <td>...</td>\n",
       "      <td>...</td>\n",
       "      <td>...</td>\n",
       "    </tr>\n",
       "    <tr>\n",
       "      <th>40885</th>\n",
       "      <td>1344.0</td>\n",
       "      <td>Vobile</td>\n",
       "      <td>web</td>\n",
       "      <td>operating</td>\n",
       "      <td>2005-01-01</td>\n",
       "      <td>NaT</td>\n",
       "      <td>vobileinc.com</td>\n",
       "      <td>networkmobile</td>\n",
       "      <td>USA</td>\n",
       "      <td>0.0</td>\n",
       "      <td>1.0</td>\n",
       "      <td>10000000.0</td>\n",
       "      <td>0.0</td>\n",
       "      <td>NaN</td>\n",
       "      <td>NaN</td>\n",
       "      <td>NaN</td>\n",
       "      <td>NaN</td>\n",
       "      <td>NaN</td>\n",
       "      <td>NaT</td>\n",
       "    </tr>\n",
       "    <tr>\n",
       "      <th>40886</th>\n",
       "      <td>142181.0</td>\n",
       "      <td>Stop Being Watched</td>\n",
       "      <td>software</td>\n",
       "      <td>operating</td>\n",
       "      <td>2010-06-10</td>\n",
       "      <td>NaT</td>\n",
       "      <td>stopbeingwatched.com</td>\n",
       "      <td>SBWinfonetwork</td>\n",
       "      <td>USA</td>\n",
       "      <td>0.0</td>\n",
       "      <td>1.0</td>\n",
       "      <td>500000.0</td>\n",
       "      <td>1.0</td>\n",
       "      <td>NaN</td>\n",
       "      <td>NaN</td>\n",
       "      <td>NaN</td>\n",
       "      <td>NaN</td>\n",
       "      <td>NaN</td>\n",
       "      <td>NaT</td>\n",
       "    </tr>\n",
       "    <tr>\n",
       "      <th>40887</th>\n",
       "      <td>3429.0</td>\n",
       "      <td>Zend Technologies</td>\n",
       "      <td>software</td>\n",
       "      <td>operating</td>\n",
       "      <td>1999-01-01</td>\n",
       "      <td>NaT</td>\n",
       "      <td>zend.com</td>\n",
       "      <td>networkzend</td>\n",
       "      <td>USA</td>\n",
       "      <td>0.0</td>\n",
       "      <td>4.0</td>\n",
       "      <td>44000000.0</td>\n",
       "      <td>6.0</td>\n",
       "      <td>NaN</td>\n",
       "      <td>NaN</td>\n",
       "      <td>NaN</td>\n",
       "      <td>NaN</td>\n",
       "      <td>NaN</td>\n",
       "      <td>NaT</td>\n",
       "    </tr>\n",
       "    <tr>\n",
       "      <th>40888</th>\n",
       "      <td>7748.0</td>\n",
       "      <td>Flowgram</td>\n",
       "      <td>web</td>\n",
       "      <td>closed</td>\n",
       "      <td>2007-06-01</td>\n",
       "      <td>2008-06-11</td>\n",
       "      <td>flowgram.com</td>\n",
       "      <td>network</td>\n",
       "      <td>USA</td>\n",
       "      <td>0.0</td>\n",
       "      <td>1.0</td>\n",
       "      <td>1300000.0</td>\n",
       "      <td>3.0</td>\n",
       "      <td>NaN</td>\n",
       "      <td>NaN</td>\n",
       "      <td>NaN</td>\n",
       "      <td>NaN</td>\n",
       "      <td>NaN</td>\n",
       "      <td>NaT</td>\n",
       "    </tr>\n",
       "    <tr>\n",
       "      <th>40889</th>\n",
       "      <td>43233.0</td>\n",
       "      <td>Photonet</td>\n",
       "      <td>photo_video</td>\n",
       "      <td>acquired</td>\n",
       "      <td>2010-03-01</td>\n",
       "      <td>NaT</td>\n",
       "      <td>Photonet.com</td>\n",
       "      <td>Photonet</td>\n",
       "      <td>USA</td>\n",
       "      <td>0.0</td>\n",
       "      <td>3.0</td>\n",
       "      <td>57500000.0</td>\n",
       "      <td>3.0</td>\n",
       "      <td>6968.0</td>\n",
       "      <td>5.0</td>\n",
       "      <td>43233.0</td>\n",
       "      <td>cash_and_stock</td>\n",
       "      <td>1.010470e+09</td>\n",
       "      <td>2012-04-09</td>\n",
       "    </tr>\n",
       "  </tbody>\n",
       "</table>\n",
       "<p>33973 rows × 19 columns</p>\n",
       "</div>"
      ],
      "text/plain": [
       "       company_id                name category_code     status founded_at  \\\n",
       "0             1.0            Wetpaint           web  operating 2005-10-17   \n",
       "1            10.0             Flektor   games_video   acquired        NaT   \n",
       "3          1001.0          FriendFeed           web   acquired 2007-10-01   \n",
       "5         10015.0              Fitbit        health  operating 2007-10-01   \n",
       "6        100155.0                MTPV     cleantech  operating 2003-01-01   \n",
       "...           ...                 ...           ...        ...        ...   \n",
       "40885      1344.0              Vobile           web  operating 2005-01-01   \n",
       "40886    142181.0  Stop Being Watched      software  operating 2010-06-10   \n",
       "40887      3429.0   Zend Technologies      software  operating 1999-01-01   \n",
       "40888      7748.0            Flowgram           web     closed 2007-06-01   \n",
       "40889     43233.0            Photonet   photo_video   acquired 2010-03-01   \n",
       "\n",
       "       closed_at                domain network_username country_code  \\\n",
       "0            NaT      wetpaint-inc.com  BachelrWetpaint          USA   \n",
       "1            NaT           flektor.com              NaN          USA   \n",
       "3            NaT        friendfeed.com       friendfeed          USA   \n",
       "5            NaT            fitbit.com           fitbit          USA   \n",
       "6            NaT              mtpv.com              NaN          USA   \n",
       "...          ...                   ...              ...          ...   \n",
       "40885        NaT         vobileinc.com    networkmobile          USA   \n",
       "40886        NaT  stopbeingwatched.com   SBWinfonetwork          USA   \n",
       "40887        NaT              zend.com      networkzend          USA   \n",
       "40888 2008-06-11          flowgram.com          network          USA   \n",
       "40889        NaT          Photonet.com         Photonet          USA   \n",
       "\n",
       "       investment_rounds  funding_rounds  funding_total  milestones      id  \\\n",
       "0                    0.0             3.0     39750000.0         5.0     NaN   \n",
       "1                    0.0             0.0            0.0         0.0     1.0   \n",
       "3                    0.0             1.0      5000000.0         3.0  1901.0   \n",
       "5                    0.0             5.0     68069200.0         0.0     NaN   \n",
       "6                    0.0             3.0     10125300.0         1.0     NaN   \n",
       "...                  ...             ...            ...         ...     ...   \n",
       "40885                0.0             1.0     10000000.0         0.0     NaN   \n",
       "40886                0.0             1.0       500000.0         1.0     NaN   \n",
       "40887                0.0             4.0     44000000.0         6.0     NaN   \n",
       "40888                0.0             1.0      1300000.0         3.0     NaN   \n",
       "40889                0.0             3.0     57500000.0         3.0  6968.0   \n",
       "\n",
       "       acquiring_company_id  acquired_company_id       term_code  \\\n",
       "0                       NaN                  NaN             NaN   \n",
       "1                      11.0                 10.0             NaN   \n",
       "3                       5.0               1001.0  cash_and_stock   \n",
       "5                       NaN                  NaN             NaN   \n",
       "6                       NaN                  NaN             NaN   \n",
       "...                     ...                  ...             ...   \n",
       "40885                   NaN                  NaN             NaN   \n",
       "40886                   NaN                  NaN             NaN   \n",
       "40887                   NaN                  NaN             NaN   \n",
       "40888                   NaN                  NaN             NaN   \n",
       "40889                   5.0              43233.0  cash_and_stock   \n",
       "\n",
       "       price_amount acquired_at  \n",
       "0               NaN         NaT  \n",
       "1      2.000000e+07  2007-05-30  \n",
       "3      4.750000e+07  2009-08-10  \n",
       "5               NaN         NaT  \n",
       "6               NaN         NaT  \n",
       "...             ...         ...  \n",
       "40885           NaN         NaT  \n",
       "40886           NaN         NaT  \n",
       "40887           NaN         NaT  \n",
       "40888           NaN         NaT  \n",
       "40889  1.010470e+09  2012-04-09  \n",
       "\n",
       "[33973 rows x 19 columns]"
      ]
     },
     "execution_count": 78,
     "metadata": {},
     "output_type": "execute_result"
    }
   ],
   "source": [
    "# Создадим датафрейм без учёта компаний, купленных за один доллар\n",
    "high_price_comp_df=buy_0_1_df[(buy_0_1_df['price_amount']!=0)]\n",
    "high_price_comp_df"
   ]
  },
  {
   "cell_type": "markdown",
   "metadata": {},
   "source": [
    "Цены будем оценивать по столбцу `price_amount`. Для начала выведем основные статистические показатели по параметру."
   ]
  },
  {
   "cell_type": "code",
   "execution_count": 79,
   "metadata": {},
   "outputs": [
    {
     "name": "stdout",
     "output_type": "stream",
     "text": [
      "min:\n",
      "1.0\n",
      "max:\n",
      "2600000000000.0\n",
      "std:\n",
      "52304386698.95197\n",
      "mean:\n",
      "1495976014.747675\n",
      "median:\n",
      "56000000.0\n"
     ]
    }
   ],
   "source": [
    "# Выводим статистические показатели по параметру raised_amount\n",
    "print('min:')\n",
    "print(high_price_comp_df['price_amount'].min())\n",
    "print('max:')\n",
    "print(high_price_comp_df['price_amount'].max())\n",
    "print('std:')\n",
    "print(high_price_comp_df['price_amount'].std())\n",
    "print('mean:')\n",
    "print(high_price_comp_df['price_amount'].mean())\n",
    "print('median:')\n",
    "print(high_price_comp_df['price_amount'].median())"
   ]
  },
  {
   "cell_type": "markdown",
   "metadata": {},
   "source": [
    "Как видно из выгрузки наблюдается значительная разница между показателями среднего значения и медианы параметра, а также достаточно высокая величина стандартного отклонения. В связи с чем для оценки категорий стартапов с типично высокими ценами оптимальным вариантом будет использовать медиану. Для оценки категорий стартапов с наибольшим разбросом цен рассмотрим показатель стандартного отклонения.\n",
    "\n",
    "Для начала выведем категории стартапов с типично наиболее высокими ценами."
   ]
  },
  {
   "cell_type": "code",
   "execution_count": 80,
   "metadata": {},
   "outputs": [
    {
     "name": "stdout",
     "output_type": "stream",
     "text": [
      "category_code\n",
      "automotive          2.400000e+09\n",
      "sports              6.225000e+08\n",
      "nanotech            5.840000e+08\n",
      "real_estate         4.000000e+08\n",
      "manufacturing       3.510000e+08\n",
      "transportation      2.300000e+08\n",
      "biotech             2.000000e+08\n",
      "analytics           2.000000e+08\n",
      "fashion             1.950000e+08\n",
      "cleantech           1.850000e+08\n",
      "finance             1.715000e+08\n",
      "medical             1.650000e+08\n",
      "security            1.645000e+08\n",
      "ecommerce           1.575000e+08\n",
      "health              1.400000e+08\n",
      "public_relations    1.100000e+08\n",
      "network_hosting     1.025000e+08\n",
      "messaging           1.000000e+08\n",
      "semiconductor       1.000000e+08\n",
      "search              9.000000e+07\n",
      "hardware            7.600000e+07\n",
      "other               7.155000e+07\n",
      "travel              6.250000e+07\n",
      "advertising         6.000000e+07\n",
      "games_video         5.825000e+07\n",
      "hospitality         5.750000e+07\n",
      "mobile              5.600000e+07\n",
      "web                 5.550000e+07\n",
      "enterprise          5.475000e+07\n",
      "photo_video         5.000000e+07\n",
      "software            4.814000e+07\n",
      "social              4.575000e+07\n",
      "news                4.000000e+07\n",
      "consulting          3.215000e+07\n",
      "education           1.625000e+07\n",
      "local               1.614020e+07\n",
      "music               4.860000e+06\n",
      "design                       NaN\n",
      "government                   NaN\n",
      "legal                        NaN\n",
      "nonprofit                    NaN\n",
      "pets                         NaN\n",
      "Name: price_amount, dtype: float64\n"
     ]
    }
   ],
   "source": [
    "# Выведем категории стартапов с типично наиболее высокими ценами\n",
    "category_by_median=high_price_comp_df.groupby('category_code')['price_amount'].median().sort_values(ascending=False)\n",
    "print(category_by_median)"
   ]
  },
  {
   "cell_type": "markdown",
   "metadata": {},
   "source": [
    "Далее выведем линейчатую диаграмму с топ-15 категорий стартапов с наиболее высоким ценами."
   ]
  },
  {
   "cell_type": "code",
   "execution_count": 81,
   "metadata": {},
   "outputs": [
    {
     "data": {
      "text/plain": [
       "<matplotlib.legend.Legend at 0x7faab46abfd0>"
      ]
     },
     "execution_count": 81,
     "metadata": {},
     "output_type": "execute_result"
    },
    {
     "data": {
      "image/png": "[encoded data removed]",
      "text/plain": [
       "<Figure size 864x504 with 1 Axes>"
      ]
     },
     "metadata": {
      "needs_background": "light"
     },
     "output_type": "display_data"
    }
   ],
   "source": [
    "# Выведем линейчатую диаграмму с категориями стартапов с наиболее типично высокими ценами\n",
    "\n",
    "category_by_median.head(15).sort_values(ascending=True).plot(kind='barh',\n",
    "               title=f'Категории стартапов с типично высокими ценами',\n",
    "               legend=True,\n",
    "               ylabel='Сумма финансирования',\n",
    "               xlabel='Категория',\n",
    "               rot=0,\n",
    "               figsize=(12, 7))\n",
    "\n",
    "\n",
    "plt.legend()"
   ]
  },
  {
   "cell_type": "markdown",
   "metadata": {},
   "source": [
    "Как видно из выгрузки, как правило, наиболее типично высокими ценами обладают стартапы категорий `automotive`, `sports` и  `nanotech`."
   ]
  },
  {
   "cell_type": "markdown",
   "metadata": {
    "id": "eF1aULm5FjfY"
   },
   "source": [
    "Далее выведем категории стартапов с набольшим разбросом в цене."
   ]
  },
  {
   "cell_type": "code",
   "execution_count": 82,
   "metadata": {},
   "outputs": [
    {
     "name": "stdout",
     "output_type": "stream",
     "text": [
      "category_code\n",
      "enterprise          2.413581e+11\n",
      "public_relations    6.854338e+09\n",
      "real_estate         2.676302e+09\n",
      "automotive          2.581669e+09\n",
      "other               2.060861e+09\n",
      "biotech             1.968195e+09\n",
      "health              1.927100e+09\n",
      "games_video         1.463478e+09\n",
      "security            1.378442e+09\n",
      "mobile              1.319472e+09\n",
      "software            1.204059e+09\n",
      "semiconductor       1.122025e+09\n",
      "manufacturing       1.060435e+09\n",
      "finance             1.052920e+09\n",
      "consulting          1.018109e+09\n",
      "cleantech           8.744196e+08\n",
      "hospitality         7.906006e+08\n",
      "web                 6.954405e+08\n",
      "network_hosting     6.769568e+08\n",
      "hardware            6.450874e+08\n",
      "transportation      5.726255e+08\n",
      "sports              5.126524e+08\n",
      "advertising         4.954839e+08\n",
      "photo_video         4.311422e+08\n",
      "search              3.395802e+08\n",
      "education           2.883294e+08\n",
      "ecommerce           2.814255e+08\n",
      "medical             1.659058e+08\n",
      "music               1.599781e+08\n",
      "news                1.008553e+08\n",
      "travel              9.526586e+07\n",
      "analytics           9.296774e+07\n",
      "fashion             8.649422e+07\n",
      "messaging           6.907460e+07\n",
      "social              6.295286e+07\n",
      "design                       NaN\n",
      "government                   NaN\n",
      "legal                        NaN\n",
      "local                        NaN\n",
      "nanotech                     NaN\n",
      "nonprofit                    NaN\n",
      "pets                         NaN\n",
      "Name: price_amount, dtype: float64\n"
     ]
    }
   ],
   "source": [
    "# Выведем категории стартапов с набольшим разбросом в цене\n",
    "category_by_std=high_price_comp_df.groupby('category_code')['price_amount'].std().sort_values(ascending=False)\n",
    "print(category_by_std)"
   ]
  },
  {
   "cell_type": "markdown",
   "metadata": {},
   "source": [
    "Дополнительно выведем визуализацию категорий стартапов. Как и в случае с топом уровню цен, выведем топ-15 категорий."
   ]
  },
  {
   "cell_type": "code",
   "execution_count": 83,
   "metadata": {},
   "outputs": [
    {
     "data": {
      "text/plain": [
       "<matplotlib.legend.Legend at 0x7faab42b95b0>"
      ]
     },
     "execution_count": 83,
     "metadata": {},
     "output_type": "execute_result"
    },
    {
     "data": {
      "image/png": "[encoded data removed]",
      "text/plain": [
       "<Figure size 864x504 with 1 Axes>"
      ]
     },
     "metadata": {
      "needs_background": "light"
     },
     "output_type": "display_data"
    }
   ],
   "source": [
    "# Выведем визуализацию категорию стартапов с наибольшим разбросом цен\n",
    "category_by_std.head(15).sort_values(ascending=True).plot(kind='barh',\n",
    "               title=f'Категории стартапов с наибольшим разбросом цен',\n",
    "               legend=True,\n",
    "               ylabel='Стандартное отклонение',\n",
    "               xlabel='Категория',\n",
    "               rot=0,\n",
    "               figsize=(12, 7))\n",
    "\n",
    "\n",
    "plt.legend()"
   ]
  },
  {
   "cell_type": "markdown",
   "metadata": {},
   "source": [
    "Как видно из выгрузки, наибольшим разбором цен среди всех категорий страртапов обладают стартапы категории `enterprise`."
   ]
  },
  {
   "cell_type": "markdown",
   "metadata": {
    "id": "ADOfyVY_rJg3"
   },
   "source": [
    "\n",
    "### 3.5. Сколько раундов продержится стартап перед покупкой"
   ]
  },
  {
   "cell_type": "markdown",
   "metadata": {},
   "source": [
    "Выведем статистические показатели по столбце `funding_rounds`."
   ]
  },
  {
   "cell_type": "code",
   "execution_count": 84,
   "metadata": {
    "id": "hgXMPC4WrJg3",
    "vscode": {
     "languageId": "plaintext"
    }
   },
   "outputs": [
    {
     "data": {
      "text/plain": [
       "count    40747.000000\n",
       "mean         1.291531\n",
       "std          1.264604\n",
       "min          0.000000\n",
       "25%          1.000000\n",
       "50%          1.000000\n",
       "75%          2.000000\n",
       "max         15.000000\n",
       "Name: funding_rounds, dtype: float64"
      ]
     },
     "execution_count": 84,
     "metadata": {},
     "output_type": "execute_result"
    }
   ],
   "source": [
    "# Выведем статистические показатели для столбца funding_rounds\n",
    "comp_for_inv_df['funding_rounds'].describe()"
   ]
  },
  {
   "cell_type": "markdown",
   "metadata": {},
   "source": [
    "Как видно из выгрузки показатель среднее значение количества раундов находится достаточно близко к медиане параметра, что свидетельствует о том, что для оценки типичного значения количества раундов для каждого возможного статуса стартапа можно использовать среднее значение.\n",
    "\n",
    "Далее выведем среднее количество раундов финансирования для каждой статуса стартапов."
   ]
  },
  {
   "cell_type": "code",
   "execution_count": 85,
   "metadata": {
    "id": "pV3e7kw5Fj1Y"
   },
   "outputs": [
    {
     "name": "stdout",
     "output_type": "stream",
     "text": [
      "status\n",
      "ipo          1.934375\n",
      "operating    1.522658\n",
      "closed       1.381453\n",
      "acquired     0.523526\n",
      "Name: funding_rounds, dtype: float64\n"
     ]
    }
   ],
   "source": [
    "# Выведем среднее количество раундов финансирования для каждой категории стартапов\n",
    "funding_rounds_by_status=comp_for_inv_df.groupby('status')['funding_rounds'].mean().sort_values(ascending=False)\n",
    "print(funding_rounds_by_status)"
   ]
  },
  {
   "cell_type": "markdown",
   "metadata": {},
   "source": [
    "Как видно из выгрузки, наибольшее количество раундов характерно для статуса `ipo`, наименьшее - для статуса `acquired`.\n",
    "\n",
    "Дополнительно на наглядности приведём полученные значения на столбчатой диаграмме."
   ]
  },
  {
   "cell_type": "code",
   "execution_count": 86,
   "metadata": {},
   "outputs": [
    {
     "data": {
      "image/png": "[encoded data removed]",
      "text/plain": [
       "<Figure size 864x648 with 1 Axes>"
      ]
     },
     "metadata": {
      "needs_background": "light"
     },
     "output_type": "display_data"
    }
   ],
   "source": [
    "# Создаём контейнер графика matplotlib и задаём его размер\n",
    "plt.figure(figsize=(12, 9))\n",
    "\n",
    "\n",
    "# Строим столбчатую диаграмму с помощью pandas через plot(kind='barh')\n",
    "funding_rounds_by_status.plot(\n",
    "               kind='bar', \n",
    "               rot=0, \n",
    "               legend=False,\n",
    "               title=f'Среднее количество раундов финансирования в зависимости от статуса стартапа'\n",
    ")\n",
    "\n",
    "# Настраиваем оформление графика\n",
    "plt.xlabel('Статус стартапа')\n",
    "plt.ylabel('Значение среднего количества раундов')\n",
    "\n",
    "# Рассчитываем среднее значение количества раундов вне зависимости от статуса\n",
    "mean_funding_rounds = comp_for_inv_df['funding_rounds'].mean()\n",
    "\n",
    "# Наносим на график линию с средним значением количества раундов вне зависимости от статуса\n",
    "plt.axhline(mean_funding_rounds, \n",
    "            color='red', \n",
    "            linestyle='--', \n",
    "            linewidth=1, \n",
    "            )\n",
    "\n",
    "# Выводим график\n",
    "plt.show()"
   ]
  },
  {
   "cell_type": "markdown",
   "metadata": {},
   "source": [
    "На диаграмме наглядно видно, что наибольшее количество раундов характерно для статуса `ipo`, наименьшее - для статуса `acquired`. При этом для старптапов со статусами `ipo`, `operating`  и `closed` среднее количество раундов финансирования превосходит среднее значение по всей выборке данных."
   ]
  },
  {
   "cell_type": "markdown",
   "metadata": {},
   "source": [
    "### Промежуточный вывод\n",
    "\n",
    "Таким образом , в данном разделе был сформирован новый датафрейм с компаниями, которые меняли или готовы менять владельцев. В качестве условий были указаны значения `funding_rounds` или `investment_rounds` больше нуля, или те, у которых в колонке `status` указано `acquired`. Размер итогового датасета составил 40 747 записей.\n",
    "\n",
    "Также графическим способом была проведена оценка, какой размер общего финансирования для одной компании будет типичным, а какой — выбивающимся.  Верхняя граница объёма финансирования составляет приблизительно 1,8 le9, значения выще можно отнестик выбросам.\n",
    "\n",
    "Далее были рассмотрены компании, которые были проданы за ноль или за один доллар, и при этом известно, что у них был ненулевой общий объём финансирования, а также рассчитаны верхняя и нижняя границы выбросов для столбца `funding_total`. В результате, было установлено, что верхняя граница соответствует 91 процентилю.\n",
    "\n",
    "В следующем подразделе были выявлены категории стартапов с типично высокими ценами, а также с наибольшим разбросом цен за стартап. В результате было установлено, что наиболее типично высокими ценами обладают стартапы категорий `automotive`, `sports` и  `nanotech`, наибольшим разбором цен среди всех категорий страртапов обладают стартапы категории `enterprise`.\n",
    "\n",
    "Далее было определено типичное значение количества раундов для каждого возможного статуса стартапа. Наибольшее количество раундов характерно для статуса `ipo`, наименьшее - для статуса `acquired`."
   ]
  },
  {
   "cell_type": "markdown",
   "metadata": {
    "id": "VAFEZ2HBrJg3"
   },
   "source": [
    "\n",
    "## Шаг 4. Итоговый вывод и рекомендации\n",
    "\n",
    "</i>Опишите, что было сделано в проекте, какие были сделаны выводы, подкрепляют ли они друг друга или заставляют сомневаться в полученных результатах.</i>\n",
    "\n",
    "### 1. Общий обзор проделанной работы.\n",
    "\n",
    "Таким образом, в ходе данного исследования был проведён исследовательский анализ набора датасетов, содержащих информацию о покупке стартапов, подготовка ответов на вопросы заказчика, как о предобработке, так и о значении данных для бизнеса. В качестве источников данных были использованы пять датасетов: `acquisition.csv`, `company_and_rounds.csv`, `education.csv`, `people.csv`, `degrees.csv`. Данные включали информацию о покупках одними компаниями других компаний,  информацию о компаниях и раундах финансирования, информацию об образовании сотрудника, информацию о сотрудниках,  информацию о типе образования сотрудника. \n",
    "\n",
    "В ходе исследования была проведена предобработка данных, а также составлена сводная таблица по годам, на основе которой определён был год, в котором типичный размер собранных в рамках одного раунда средств был максимален, рассмотрена тенденция по количеству раундов и выделяемых в рамках каждого раунда средств.\n",
    "Далее была проведен анализ полноты информации об образовании сотрудников, рассмотрено подходит ли столбец столбцы с именем `network_username` для объединения данных. На заключительном этапе предобработки датафрейм `company_and_rounds.csv` был поделён на два  датафрейма, содержащих отдельно информацию о компаниях и раундах финасирования.\n",
    "\n",
    "Далее в ходе непосредственно анализа был сформирован новый датафрейм с компаниями, которые меняли или готовы менять владельцев. Далее по столбцу `funding_total` графическим способом была проведена оценка, какой размер общего финансирования для одной компании будет типичным, а какой — выбивающимся. На следующем этапе были рассмотрены компании, которые были проданы за ноль или за один доллар, и при этом известно, что у них был ненулевой общий объём финансирования. Также были определены категории стартапов с наиболее высокими типичными ценами и с наибольшим разбросом цен за стартап. На заключительном этапе анализа были выявлены типичные значения количества раундов для каждого возможного статуса стартапа.\n",
    "\n",
    "\n",
    "### 2. Ответы на исследовательские вопросы, или главные выводы.\n",
    "\n",
    "В ходе исследовательского анализа было выявлено, что столбцы с именем `network_username` можно использовать для объединения данных, однако число пересечений по данному столбцу окажется крайне низким относительно общего количества уникальных значений для обоих датафреймов. В ходе анализа датафреймы people_df и education_df были объединены по столбцам `id` и `person_id` соответственно. Также были объединены датафтреймы `ed_of_people_df` и `degrees_df` по столбцам `id_y` и `object_id`соответственно. Далее были объелинены датафреймы `comp_for_inv_df` .и `acq_df` по столбцам `company_id` `acquired_company_id`.\n",
    "\n",
    "Также было установлено, что наибольшей долей сотрудников без информации обладают компании с одним сотрудником - более 59%. Для компаний с двумя и тремя сотрудниками величина показателя существенно ниже - 21,8% и 27,4% соответственно. Наименьшей долей обладают компании с числом сотрудников более 20 - 18,5%.\n",
    "\n",
    "При нализе выбросов по столбцу `funding_total` верхняя граница объёма финансирования составляет приблизительно 1,8 le9, далее следует обрыв данных. Показатели финансирования, находящиеся выше данного значения могут считаться выбросами.\n",
    "\n",
    "В ходе анализа компаний, которые были проданы за ноль или за один доллар, и при этом известно, что у них был ненулевой общий объём финансированияЮ было выявлено, что  компании, попавшие в итоговый датафрейм были проданы за 0 долларов и имеют статус `acquired`. \n",
    "\n",
    "Далее были выявлены категории стартапов с типично высокими ценами, а также с наибольшим разбросом цен за стартап. В результате было установлено, что наиболее типично высокими ценами обладают стартапы категорий `automotive`, `sports` и  `nanotech`, наибольшим разбором цен среди всех категорий страртапов обладают стартапы категории `enterprise`.\n",
    "\n",
    "Также было определено типичное значение количества раундов для каждого возможного статуса стартапа. Наибольшее количество раундов характерно для статуса `ipo`, наименьшее - для статуса `acquired`.\n",
    "\n",
    "\n",
    "### 3. Рекомендации на основе анализа данных.\n",
    "\n",
    "По итогам проведённого анализа рекомендуется обратить внимание такие категории стартапов как `automotive`, `sports` и  `nanotech`, так как именно они обладают наиболее типично высокими ценами покупки, а следовательно могут быть более привлекательными для крупных инвесторов, которые готовы к высоким рискам ради потенциально больших доходов."
   ]
  },
  {
   "cell_type": "code",
   "execution_count": null,
   "metadata": {},
   "outputs": [],
   "source": []
  }
 ],
 "metadata": {
  "ExecuteTimeLog": [
   {
    "duration": 4602,
    "start_time": "2025-04-22T10:58:41.069Z"
   },
   {
    "duration": 1334,
    "start_time": "2025-04-22T11:12:12.346Z"
   },
   {
    "duration": 1937,
    "start_time": "2025-04-22T11:12:57.485Z"
   },
   {
    "duration": 8,
    "start_time": "2025-04-22T11:17:08.224Z"
   },
   {
    "duration": 8,
    "start_time": "2025-04-22T11:17:14.917Z"
   },
   {
    "duration": 24,
    "start_time": "2025-04-22T11:17:40.683Z"
   },
   {
    "duration": 8,
    "start_time": "2025-04-22T11:19:38.755Z"
   },
   {
    "duration": 98,
    "start_time": "2025-04-22T11:19:45.241Z"
   },
   {
    "duration": 33,
    "start_time": "2025-04-22T11:38:15.568Z"
   },
   {
    "duration": 5,
    "start_time": "2025-04-22T11:54:07.678Z"
   },
   {
    "duration": 87,
    "start_time": "2025-04-22T11:54:44.573Z"
   },
   {
    "duration": 1216,
    "start_time": "2025-04-22T11:54:52.517Z"
   },
   {
    "duration": 90,
    "start_time": "2025-04-22T11:55:43.953Z"
   },
   {
    "duration": 86,
    "start_time": "2025-04-22T11:55:51.052Z"
   },
   {
    "duration": 87,
    "start_time": "2025-04-22T11:56:10.643Z"
   },
   {
    "duration": 9,
    "start_time": "2025-04-22T11:56:20.604Z"
   },
   {
    "duration": 10,
    "start_time": "2025-04-22T11:56:47.338Z"
   },
   {
    "duration": 7,
    "start_time": "2025-04-22T12:24:39.890Z"
   },
   {
    "duration": 3362,
    "start_time": "2025-04-22T12:25:02.396Z"
   },
   {
    "duration": 2196,
    "start_time": "2025-04-22T12:25:05.760Z"
   },
   {
    "duration": 60,
    "start_time": "2025-04-22T12:25:07.958Z"
   },
   {
    "duration": 125,
    "start_time": "2025-04-22T12:25:08.021Z"
   },
   {
    "duration": 15,
    "start_time": "2025-04-22T12:25:08.148Z"
   },
   {
    "duration": 10,
    "start_time": "2025-04-22T12:25:08.165Z"
   },
   {
    "duration": 11,
    "start_time": "2025-04-22T12:28:04.186Z"
   },
   {
    "duration": 55,
    "start_time": "2025-04-23T09:13:53.604Z"
   },
   {
    "duration": 5097,
    "start_time": "2025-04-23T09:13:59.450Z"
   },
   {
    "duration": 2466,
    "start_time": "2025-04-23T09:14:04.549Z"
   },
   {
    "duration": 49,
    "start_time": "2025-04-23T09:14:07.017Z"
   },
   {
    "duration": 123,
    "start_time": "2025-04-23T09:14:07.069Z"
   },
   {
    "duration": 13,
    "start_time": "2025-04-23T09:14:07.194Z"
   },
   {
    "duration": 11,
    "start_time": "2025-04-23T09:14:07.210Z"
   },
   {
    "duration": 39,
    "start_time": "2025-04-23T09:14:07.223Z"
   },
   {
    "duration": 13,
    "start_time": "2025-04-23T09:14:07.264Z"
   },
   {
    "duration": 67,
    "start_time": "2025-04-23T09:15:55.728Z"
   },
   {
    "duration": 12,
    "start_time": "2025-04-23T09:33:23.302Z"
   },
   {
    "duration": 12,
    "start_time": "2025-04-23T09:33:34.902Z"
   },
   {
    "duration": 23,
    "start_time": "2025-04-23T09:37:47.048Z"
   },
   {
    "duration": 10,
    "start_time": "2025-04-23T09:52:28.577Z"
   },
   {
    "duration": 38,
    "start_time": "2025-04-23T09:53:17.146Z"
   },
   {
    "duration": 210,
    "start_time": "2025-04-23T10:59:50.597Z"
   },
   {
    "duration": 227,
    "start_time": "2025-04-23T11:00:03.126Z"
   },
   {
    "duration": 209,
    "start_time": "2025-04-23T11:01:07.134Z"
   },
   {
    "duration": 12,
    "start_time": "2025-04-23T11:05:25.521Z"
   },
   {
    "duration": 114,
    "start_time": "2025-04-23T11:15:50.299Z"
   },
   {
    "duration": 13,
    "start_time": "2025-04-23T11:16:08.369Z"
   },
   {
    "duration": 71,
    "start_time": "2025-04-23T11:19:58.353Z"
   },
   {
    "duration": 31,
    "start_time": "2025-04-23T11:32:51.651Z"
   },
   {
    "duration": 29,
    "start_time": "2025-04-23T11:34:31.378Z"
   },
   {
    "duration": 39,
    "start_time": "2025-04-23T11:35:48.442Z"
   },
   {
    "duration": 5,
    "start_time": "2025-04-23T11:50:08.749Z"
   },
   {
    "duration": 5,
    "start_time": "2025-04-23T11:50:55.380Z"
   },
   {
    "duration": 4,
    "start_time": "2025-04-23T11:52:08.057Z"
   },
   {
    "duration": 4,
    "start_time": "2025-04-23T11:52:11.705Z"
   },
   {
    "duration": 12,
    "start_time": "2025-04-23T11:55:30.336Z"
   },
   {
    "duration": 10,
    "start_time": "2025-04-23T11:55:47.039Z"
   },
   {
    "duration": 7,
    "start_time": "2025-04-23T11:56:22.575Z"
   },
   {
    "duration": 5,
    "start_time": "2025-04-23T11:56:25.424Z"
   },
   {
    "duration": 4,
    "start_time": "2025-04-23T11:56:35.840Z"
   },
   {
    "duration": 4,
    "start_time": "2025-04-23T11:56:38.448Z"
   },
   {
    "duration": 4219,
    "start_time": "2025-04-23T11:56:54.252Z"
   },
   {
    "duration": 2719,
    "start_time": "2025-04-23T11:56:58.474Z"
   },
   {
    "duration": 45,
    "start_time": "2025-04-23T11:57:01.195Z"
   },
   {
    "duration": 149,
    "start_time": "2025-04-23T11:57:01.244Z"
   },
   {
    "duration": 11,
    "start_time": "2025-04-23T11:57:01.395Z"
   },
   {
    "duration": 17,
    "start_time": "2025-04-23T11:57:01.408Z"
   },
   {
    "duration": 20,
    "start_time": "2025-04-23T11:57:01.426Z"
   },
   {
    "duration": 243,
    "start_time": "2025-04-23T11:57:01.448Z"
   },
   {
    "duration": 10,
    "start_time": "2025-04-23T11:57:01.693Z"
   },
   {
    "duration": 63,
    "start_time": "2025-04-23T11:57:01.706Z"
   },
   {
    "duration": 92,
    "start_time": "2025-04-23T11:57:01.771Z"
   },
   {
    "duration": 18,
    "start_time": "2025-04-23T11:57:01.865Z"
   },
   {
    "duration": 56,
    "start_time": "2025-04-23T11:57:01.885Z"
   },
   {
    "duration": 83,
    "start_time": "2025-04-23T11:57:01.944Z"
   },
   {
    "duration": 11,
    "start_time": "2025-04-23T11:57:02.029Z"
   },
   {
    "duration": 23,
    "start_time": "2025-04-23T11:57:02.061Z"
   },
   {
    "duration": 34,
    "start_time": "2025-04-23T11:57:02.085Z"
   },
   {
    "duration": 10,
    "start_time": "2025-04-23T11:57:02.121Z"
   },
   {
    "duration": 51,
    "start_time": "2025-04-23T11:57:02.133Z"
   },
   {
    "duration": 39,
    "start_time": "2025-04-23T11:57:02.187Z"
   },
   {
    "duration": 121,
    "start_time": "2025-04-23T11:57:49.858Z"
   },
   {
    "duration": 4,
    "start_time": "2025-04-23T11:58:37.190Z"
   },
   {
    "duration": 4,
    "start_time": "2025-04-23T11:58:39.342Z"
   },
   {
    "duration": 5,
    "start_time": "2025-04-23T11:59:35.639Z"
   },
   {
    "duration": 4,
    "start_time": "2025-04-23T11:59:38.938Z"
   },
   {
    "duration": 4319,
    "start_time": "2025-04-23T11:59:43.707Z"
   },
   {
    "duration": 2779,
    "start_time": "2025-04-23T11:59:48.029Z"
   },
   {
    "duration": 51,
    "start_time": "2025-04-23T11:59:50.809Z"
   },
   {
    "duration": 136,
    "start_time": "2025-04-23T11:59:50.865Z"
   },
   {
    "duration": 12,
    "start_time": "2025-04-23T11:59:51.003Z"
   },
   {
    "duration": 8,
    "start_time": "2025-04-23T11:59:51.017Z"
   },
   {
    "duration": 13,
    "start_time": "2025-04-23T11:59:51.026Z"
   },
   {
    "duration": 259,
    "start_time": "2025-04-23T11:59:51.041Z"
   },
   {
    "duration": 12,
    "start_time": "2025-04-23T11:59:51.302Z"
   },
   {
    "duration": 13,
    "start_time": "2025-04-23T11:59:51.317Z"
   },
   {
    "duration": 41,
    "start_time": "2025-04-23T11:59:51.332Z"
   },
   {
    "duration": 16,
    "start_time": "2025-04-23T11:59:51.376Z"
   },
   {
    "duration": 43,
    "start_time": "2025-04-23T11:59:51.394Z"
   },
   {
    "duration": 122,
    "start_time": "2025-04-23T11:59:51.439Z"
   },
   {
    "duration": 11,
    "start_time": "2025-04-23T11:59:51.563Z"
   },
   {
    "duration": 28,
    "start_time": "2025-04-23T11:59:51.577Z"
   },
   {
    "duration": 28,
    "start_time": "2025-04-23T11:59:51.607Z"
   },
   {
    "duration": 19,
    "start_time": "2025-04-23T11:59:51.660Z"
   },
   {
    "duration": 44,
    "start_time": "2025-04-23T11:59:51.681Z"
   },
   {
    "duration": 52,
    "start_time": "2025-04-23T11:59:51.726Z"
   },
   {
    "duration": 4332,
    "start_time": "2025-04-23T12:00:12.256Z"
   },
   {
    "duration": 2341,
    "start_time": "2025-04-23T12:00:16.591Z"
   },
   {
    "duration": 63,
    "start_time": "2025-04-23T12:00:18.934Z"
   },
   {
    "duration": 142,
    "start_time": "2025-04-23T12:00:18.999Z"
   },
   {
    "duration": 18,
    "start_time": "2025-04-23T12:00:19.143Z"
   },
   {
    "duration": 33,
    "start_time": "2025-04-23T12:00:19.164Z"
   },
   {
    "duration": 6,
    "start_time": "2025-04-23T12:00:19.199Z"
   },
   {
    "duration": 201,
    "start_time": "2025-04-23T12:00:19.207Z"
   },
   {
    "duration": 11,
    "start_time": "2025-04-23T12:00:19.410Z"
   },
   {
    "duration": 12,
    "start_time": "2025-04-23T12:00:19.423Z"
   },
   {
    "duration": 20,
    "start_time": "2025-04-23T12:00:19.465Z"
   },
   {
    "duration": 23,
    "start_time": "2025-04-23T12:00:19.488Z"
   },
   {
    "duration": 53,
    "start_time": "2025-04-23T12:00:19.513Z"
   },
   {
    "duration": 99,
    "start_time": "2025-04-23T12:00:19.569Z"
   },
   {
    "duration": 19,
    "start_time": "2025-04-23T12:00:19.670Z"
   },
   {
    "duration": 24,
    "start_time": "2025-04-23T12:00:19.691Z"
   },
   {
    "duration": 57,
    "start_time": "2025-04-23T12:00:19.717Z"
   },
   {
    "duration": 87,
    "start_time": "2025-04-23T12:00:19.776Z"
   },
   {
    "duration": 37,
    "start_time": "2025-04-23T12:00:19.866Z"
   },
   {
    "duration": 61,
    "start_time": "2025-04-23T12:00:19.905Z"
   },
   {
    "duration": 128,
    "start_time": "2025-04-23T12:02:44.908Z"
   },
   {
    "duration": 4,
    "start_time": "2025-04-23T12:04:34.965Z"
   },
   {
    "duration": 4390,
    "start_time": "2025-04-23T12:04:42.061Z"
   },
   {
    "duration": 2033,
    "start_time": "2025-04-23T12:04:46.454Z"
   },
   {
    "duration": 42,
    "start_time": "2025-04-23T12:04:48.489Z"
   },
   {
    "duration": 122,
    "start_time": "2025-04-23T12:04:48.534Z"
   },
   {
    "duration": 21,
    "start_time": "2025-04-23T12:04:48.661Z"
   },
   {
    "duration": 5,
    "start_time": "2025-04-23T12:04:48.686Z"
   },
   {
    "duration": 5,
    "start_time": "2025-04-23T12:04:48.693Z"
   },
   {
    "duration": 229,
    "start_time": "2025-04-23T12:04:48.700Z"
   },
   {
    "duration": 11,
    "start_time": "2025-04-23T12:04:48.931Z"
   },
   {
    "duration": 28,
    "start_time": "2025-04-23T12:04:48.964Z"
   },
   {
    "duration": 11,
    "start_time": "2025-04-23T12:04:48.994Z"
   },
   {
    "duration": 16,
    "start_time": "2025-04-23T12:04:49.008Z"
   },
   {
    "duration": 83,
    "start_time": "2025-04-23T12:04:49.026Z"
   },
   {
    "duration": 107,
    "start_time": "2025-04-23T12:04:49.111Z"
   },
   {
    "duration": 10,
    "start_time": "2025-04-23T12:04:49.219Z"
   },
   {
    "duration": 55,
    "start_time": "2025-04-23T12:04:49.231Z"
   },
   {
    "duration": 29,
    "start_time": "2025-04-23T12:04:49.287Z"
   },
   {
    "duration": 10,
    "start_time": "2025-04-23T12:04:49.318Z"
   },
   {
    "duration": 68,
    "start_time": "2025-04-23T12:04:49.330Z"
   },
   {
    "duration": 39,
    "start_time": "2025-04-23T12:04:49.400Z"
   },
   {
    "duration": 4,
    "start_time": "2025-04-23T12:05:15.093Z"
   },
   {
    "duration": 4215,
    "start_time": "2025-04-23T12:05:19.458Z"
   },
   {
    "duration": 2137,
    "start_time": "2025-04-23T12:05:23.677Z"
   },
   {
    "duration": 48,
    "start_time": "2025-04-23T12:05:25.816Z"
   },
   {
    "duration": 124,
    "start_time": "2025-04-23T12:05:25.867Z"
   },
   {
    "duration": 13,
    "start_time": "2025-04-23T12:05:25.993Z"
   },
   {
    "duration": 31,
    "start_time": "2025-04-23T12:05:26.009Z"
   },
   {
    "duration": 7,
    "start_time": "2025-04-23T12:05:26.042Z"
   },
   {
    "duration": 235,
    "start_time": "2025-04-23T12:05:26.051Z"
   },
   {
    "duration": 10,
    "start_time": "2025-04-23T12:05:26.289Z"
   },
   {
    "duration": 18,
    "start_time": "2025-04-23T12:05:26.302Z"
   },
   {
    "duration": 40,
    "start_time": "2025-04-23T12:05:26.322Z"
   },
   {
    "duration": 23,
    "start_time": "2025-04-23T12:05:26.366Z"
   },
   {
    "duration": 45,
    "start_time": "2025-04-23T12:05:26.391Z"
   },
   {
    "duration": 95,
    "start_time": "2025-04-23T12:05:26.438Z"
   },
   {
    "duration": 40,
    "start_time": "2025-04-23T12:05:26.535Z"
   },
   {
    "duration": 22,
    "start_time": "2025-04-23T12:05:26.578Z"
   },
   {
    "duration": 31,
    "start_time": "2025-04-23T12:05:26.602Z"
   },
   {
    "duration": 33,
    "start_time": "2025-04-23T12:05:26.635Z"
   },
   {
    "duration": 40,
    "start_time": "2025-04-23T12:05:26.671Z"
   },
   {
    "duration": 84,
    "start_time": "2025-04-23T12:05:26.712Z"
   },
   {
    "duration": 4,
    "start_time": "2025-04-23T12:09:29.839Z"
   },
   {
    "duration": 6,
    "start_time": "2025-04-23T12:09:31.686Z"
   },
   {
    "duration": 123,
    "start_time": "2025-04-23T12:12:50.204Z"
   },
   {
    "duration": 1767,
    "start_time": "2025-04-23T12:12:56.532Z"
   },
   {
    "duration": 1367,
    "start_time": "2025-04-23T12:15:04.686Z"
   },
   {
    "duration": 75,
    "start_time": "2025-04-23T12:17:16.270Z"
   },
   {
    "duration": 65,
    "start_time": "2025-04-23T12:17:30.851Z"
   },
   {
    "duration": 10,
    "start_time": "2025-04-23T12:17:37.737Z"
   },
   {
    "duration": 3,
    "start_time": "2025-04-23T12:17:42.726Z"
   },
   {
    "duration": 9,
    "start_time": "2025-04-23T12:17:47.658Z"
   },
   {
    "duration": 5,
    "start_time": "2025-04-23T12:17:54.593Z"
   },
   {
    "duration": 4355,
    "start_time": "2025-04-23T12:18:08.140Z"
   },
   {
    "duration": 2788,
    "start_time": "2025-04-23T12:18:12.498Z"
   },
   {
    "duration": 49,
    "start_time": "2025-04-23T12:18:15.289Z"
   },
   {
    "duration": 158,
    "start_time": "2025-04-23T12:18:15.340Z"
   },
   {
    "duration": 12,
    "start_time": "2025-04-23T12:18:15.501Z"
   },
   {
    "duration": 8,
    "start_time": "2025-04-23T12:18:15.515Z"
   },
   {
    "duration": 4,
    "start_time": "2025-04-23T12:18:15.525Z"
   },
   {
    "duration": 8,
    "start_time": "2025-04-23T12:18:15.531Z"
   },
   {
    "duration": 341,
    "start_time": "2025-04-23T12:18:15.541Z"
   },
   {
    "duration": 14,
    "start_time": "2025-04-23T12:18:15.886Z"
   },
   {
    "duration": 12,
    "start_time": "2025-04-23T12:18:15.902Z"
   },
   {
    "duration": 11,
    "start_time": "2025-04-23T12:18:15.916Z"
   },
   {
    "duration": 48,
    "start_time": "2025-04-23T12:18:15.929Z"
   },
   {
    "duration": 43,
    "start_time": "2025-04-23T12:18:15.984Z"
   },
   {
    "duration": 95,
    "start_time": "2025-04-23T12:18:16.030Z"
   },
   {
    "duration": 51,
    "start_time": "2025-04-23T12:18:16.127Z"
   },
   {
    "duration": 26,
    "start_time": "2025-04-23T12:18:16.180Z"
   },
   {
    "duration": 30,
    "start_time": "2025-04-23T12:18:16.208Z"
   },
   {
    "duration": 37,
    "start_time": "2025-04-23T12:18:16.239Z"
   },
   {
    "duration": 29,
    "start_time": "2025-04-23T12:18:16.278Z"
   },
   {
    "duration": 62,
    "start_time": "2025-04-23T12:18:16.309Z"
   },
   {
    "duration": 4405,
    "start_time": "2025-04-23T12:20:01.849Z"
   },
   {
    "duration": 2168,
    "start_time": "2025-04-23T12:20:06.256Z"
   },
   {
    "duration": 58,
    "start_time": "2025-04-23T12:20:08.426Z"
   },
   {
    "duration": 134,
    "start_time": "2025-04-23T12:20:08.487Z"
   },
   {
    "duration": 14,
    "start_time": "2025-04-23T12:20:08.623Z"
   },
   {
    "duration": 22,
    "start_time": "2025-04-23T12:20:08.639Z"
   },
   {
    "duration": 6,
    "start_time": "2025-04-23T12:20:08.663Z"
   },
   {
    "duration": 7,
    "start_time": "2025-04-23T12:20:08.672Z"
   },
   {
    "duration": 240,
    "start_time": "2025-04-23T12:20:08.682Z"
   },
   {
    "duration": 10,
    "start_time": "2025-04-23T12:20:08.927Z"
   },
   {
    "duration": 36,
    "start_time": "2025-04-23T12:20:08.939Z"
   },
   {
    "duration": 13,
    "start_time": "2025-04-23T12:20:08.985Z"
   },
   {
    "duration": 42,
    "start_time": "2025-04-23T12:20:09.000Z"
   },
   {
    "duration": 63,
    "start_time": "2025-04-23T12:20:09.043Z"
   },
   {
    "duration": 82,
    "start_time": "2025-04-23T12:20:09.108Z"
   },
   {
    "duration": 10,
    "start_time": "2025-04-23T12:20:09.193Z"
   },
   {
    "duration": 54,
    "start_time": "2025-04-23T12:20:09.205Z"
   },
   {
    "duration": 38,
    "start_time": "2025-04-23T12:20:09.261Z"
   },
   {
    "duration": 10,
    "start_time": "2025-04-23T12:20:09.301Z"
   },
   {
    "duration": 60,
    "start_time": "2025-04-23T12:20:09.312Z"
   },
   {
    "duration": 42,
    "start_time": "2025-04-23T12:20:09.374Z"
   },
   {
    "duration": 57,
    "start_time": "2025-04-23T12:46:12.159Z"
   },
   {
    "duration": 115,
    "start_time": "2025-04-23T12:46:28.253Z"
   },
   {
    "duration": 102,
    "start_time": "2025-04-23T12:46:33.036Z"
   },
   {
    "duration": 24,
    "start_time": "2025-04-23T12:48:26.752Z"
   },
   {
    "duration": 23,
    "start_time": "2025-04-23T12:48:39.022Z"
   },
   {
    "duration": 122,
    "start_time": "2025-04-23T12:49:23.293Z"
   },
   {
    "duration": 31,
    "start_time": "2025-04-23T13:18:20.154Z"
   },
   {
    "duration": 83,
    "start_time": "2025-04-23T13:18:24.472Z"
   },
   {
    "duration": 25,
    "start_time": "2025-04-23T13:24:56.243Z"
   },
   {
    "duration": 17,
    "start_time": "2025-04-23T13:26:11.690Z"
   },
   {
    "duration": 11,
    "start_time": "2025-04-23T13:26:13.581Z"
   },
   {
    "duration": 148,
    "start_time": "2025-04-23T13:30:09.500Z"
   },
   {
    "duration": 10,
    "start_time": "2025-04-23T13:34:27.918Z"
   },
   {
    "duration": 72,
    "start_time": "2025-04-23T13:40:47.432Z"
   },
   {
    "duration": 22,
    "start_time": "2025-04-23T13:42:46.773Z"
   },
   {
    "duration": 38,
    "start_time": "2025-04-23T13:45:03.108Z"
   },
   {
    "duration": 4000,
    "start_time": "2025-04-23T13:46:41.071Z"
   },
   {
    "duration": 3179,
    "start_time": "2025-04-23T13:46:45.074Z"
   },
   {
    "duration": 42,
    "start_time": "2025-04-23T13:46:48.255Z"
   },
   {
    "duration": 118,
    "start_time": "2025-04-23T13:46:48.300Z"
   },
   {
    "duration": 12,
    "start_time": "2025-04-23T13:46:48.420Z"
   },
   {
    "duration": 9,
    "start_time": "2025-04-23T13:46:48.434Z"
   },
   {
    "duration": 16,
    "start_time": "2025-04-23T13:46:48.445Z"
   },
   {
    "duration": 8,
    "start_time": "2025-04-23T13:46:48.463Z"
   },
   {
    "duration": 17,
    "start_time": "2025-04-23T13:46:48.473Z"
   },
   {
    "duration": 12,
    "start_time": "2025-04-23T13:46:48.492Z"
   },
   {
    "duration": 12,
    "start_time": "2025-04-23T13:46:48.506Z"
   },
   {
    "duration": 71,
    "start_time": "2025-04-23T13:46:48.520Z"
   },
   {
    "duration": 9,
    "start_time": "2025-04-23T13:46:48.593Z"
   },
   {
    "duration": 28,
    "start_time": "2025-04-23T13:46:48.605Z"
   },
   {
    "duration": 26,
    "start_time": "2025-04-23T13:46:48.636Z"
   },
   {
    "duration": 27,
    "start_time": "2025-04-23T13:46:48.664Z"
   },
   {
    "duration": 178,
    "start_time": "2025-04-23T13:46:48.693Z"
   },
   {
    "duration": 92,
    "start_time": "2025-04-23T13:46:48.873Z"
   },
   {
    "duration": 28,
    "start_time": "2025-04-23T13:46:48.967Z"
   },
   {
    "duration": 16,
    "start_time": "2025-04-23T13:46:48.997Z"
   },
   {
    "duration": 47,
    "start_time": "2025-04-23T13:46:49.015Z"
   },
   {
    "duration": 160,
    "start_time": "2025-04-23T13:46:49.064Z"
   },
   {
    "duration": 11,
    "start_time": "2025-04-23T13:46:49.226Z"
   },
   {
    "duration": 89,
    "start_time": "2025-04-23T13:46:49.238Z"
   },
   {
    "duration": 36,
    "start_time": "2025-04-23T13:46:49.329Z"
   },
   {
    "duration": 39,
    "start_time": "2025-04-23T13:46:49.366Z"
   },
   {
    "duration": 79,
    "start_time": "2025-04-24T08:31:54.570Z"
   },
   {
    "duration": 45,
    "start_time": "2025-04-24T08:32:02.024Z"
   },
   {
    "duration": 7,
    "start_time": "2025-04-24T08:32:20.260Z"
   },
   {
    "duration": 4880,
    "start_time": "2025-04-24T08:32:26.376Z"
   },
   {
    "duration": 2118,
    "start_time": "2025-04-24T08:32:31.259Z"
   },
   {
    "duration": 42,
    "start_time": "2025-04-24T08:32:33.380Z"
   },
   {
    "duration": 127,
    "start_time": "2025-04-24T08:32:33.424Z"
   },
   {
    "duration": 11,
    "start_time": "2025-04-24T08:32:33.553Z"
   },
   {
    "duration": 20,
    "start_time": "2025-04-24T08:32:33.565Z"
   },
   {
    "duration": 15,
    "start_time": "2025-04-24T08:32:33.586Z"
   },
   {
    "duration": 23,
    "start_time": "2025-04-24T08:32:33.602Z"
   },
   {
    "duration": 26,
    "start_time": "2025-04-24T08:32:33.626Z"
   },
   {
    "duration": 31,
    "start_time": "2025-04-24T08:32:33.655Z"
   },
   {
    "duration": 36,
    "start_time": "2025-04-24T08:32:33.687Z"
   },
   {
    "duration": 44,
    "start_time": "2025-04-24T08:32:33.724Z"
   },
   {
    "duration": 7,
    "start_time": "2025-04-24T08:32:33.770Z"
   },
   {
    "duration": 36,
    "start_time": "2025-04-24T08:32:33.779Z"
   },
   {
    "duration": 28,
    "start_time": "2025-04-24T08:32:33.817Z"
   },
   {
    "duration": 43,
    "start_time": "2025-04-24T08:32:33.847Z"
   },
   {
    "duration": 165,
    "start_time": "2025-04-24T08:32:33.891Z"
   },
   {
    "duration": 82,
    "start_time": "2025-04-24T08:32:34.057Z"
   },
   {
    "duration": 20,
    "start_time": "2025-04-24T08:32:34.141Z"
   },
   {
    "duration": 15,
    "start_time": "2025-04-24T08:32:34.163Z"
   },
   {
    "duration": 16,
    "start_time": "2025-04-24T08:32:34.180Z"
   },
   {
    "duration": 168,
    "start_time": "2025-04-24T08:32:34.197Z"
   },
   {
    "duration": 9,
    "start_time": "2025-04-24T08:32:34.367Z"
   },
   {
    "duration": 87,
    "start_time": "2025-04-24T08:32:34.378Z"
   },
   {
    "duration": 18,
    "start_time": "2025-04-24T08:32:34.466Z"
   },
   {
    "duration": 64,
    "start_time": "2025-04-24T08:32:34.486Z"
   },
   {
    "duration": 49,
    "start_time": "2025-04-24T08:32:34.552Z"
   },
   {
    "duration": 33,
    "start_time": "2025-04-24T08:33:29.570Z"
   },
   {
    "duration": 67,
    "start_time": "2025-04-24T08:36:08.208Z"
   },
   {
    "duration": 113,
    "start_time": "2025-04-24T08:36:13.650Z"
   },
   {
    "duration": 30,
    "start_time": "2025-04-24T08:36:22.343Z"
   },
   {
    "duration": 4,
    "start_time": "2025-04-24T08:38:28.438Z"
   },
   {
    "duration": 26,
    "start_time": "2025-04-24T08:38:45.906Z"
   },
   {
    "duration": 19,
    "start_time": "2025-04-24T08:40:40.378Z"
   },
   {
    "duration": 6,
    "start_time": "2025-04-24T08:41:38.998Z"
   },
   {
    "duration": 6,
    "start_time": "2025-04-24T08:42:00.479Z"
   },
   {
    "duration": 7,
    "start_time": "2025-04-24T08:42:43.898Z"
   },
   {
    "duration": 21,
    "start_time": "2025-04-24T08:43:03.568Z"
   },
   {
    "duration": 12,
    "start_time": "2025-04-24T08:43:18.208Z"
   },
   {
    "duration": 13,
    "start_time": "2025-04-24T08:43:29.087Z"
   },
   {
    "duration": 17,
    "start_time": "2025-04-24T08:43:39.252Z"
   },
   {
    "duration": 16,
    "start_time": "2025-04-24T08:44:14.213Z"
   },
   {
    "duration": 63,
    "start_time": "2025-04-24T08:45:56.111Z"
   },
   {
    "duration": 66,
    "start_time": "2025-04-24T08:46:04.122Z"
   },
   {
    "duration": 71,
    "start_time": "2025-04-24T08:46:26.272Z"
   },
   {
    "duration": 64,
    "start_time": "2025-04-24T08:46:54.080Z"
   },
   {
    "duration": 16,
    "start_time": "2025-04-24T08:48:11.656Z"
   },
   {
    "duration": 62,
    "start_time": "2025-04-24T08:48:24.345Z"
   },
   {
    "duration": 66,
    "start_time": "2025-04-24T08:49:35.917Z"
   },
   {
    "duration": 71,
    "start_time": "2025-04-24T08:50:11.675Z"
   },
   {
    "duration": 16,
    "start_time": "2025-04-24T08:50:18.446Z"
   },
   {
    "duration": 20,
    "start_time": "2025-04-24T08:51:05.660Z"
   },
   {
    "duration": 3,
    "start_time": "2025-04-24T09:15:40.501Z"
   },
   {
    "duration": 1305,
    "start_time": "2025-04-24T09:15:46.057Z"
   },
   {
    "duration": 1040,
    "start_time": "2025-04-24T09:16:04.907Z"
   },
   {
    "duration": 1282,
    "start_time": "2025-04-24T09:16:10.697Z"
   },
   {
    "duration": 35,
    "start_time": "2025-04-24T09:19:19.035Z"
   },
   {
    "duration": 30,
    "start_time": "2025-04-24T09:19:23.807Z"
   },
   {
    "duration": 30,
    "start_time": "2025-04-24T09:19:32.754Z"
   },
   {
    "duration": 10,
    "start_time": "2025-04-24T09:23:24.285Z"
   },
   {
    "duration": 1089,
    "start_time": "2025-04-24T09:23:41.499Z"
   },
   {
    "duration": 1559,
    "start_time": "2025-04-24T09:23:50.985Z"
   },
   {
    "duration": 1158,
    "start_time": "2025-04-24T09:23:59.883Z"
   },
   {
    "duration": 1858,
    "start_time": "2025-04-24T09:25:21.068Z"
   },
   {
    "duration": 3607,
    "start_time": "2025-04-24T09:25:47.147Z"
   },
   {
    "duration": 1813,
    "start_time": "2025-04-24T09:25:50.756Z"
   },
   {
    "duration": 35,
    "start_time": "2025-04-24T09:25:52.571Z"
   },
   {
    "duration": 108,
    "start_time": "2025-04-24T09:25:52.608Z"
   },
   {
    "duration": 10,
    "start_time": "2025-04-24T09:25:52.719Z"
   },
   {
    "duration": 17,
    "start_time": "2025-04-24T09:25:52.739Z"
   },
   {
    "duration": 20,
    "start_time": "2025-04-24T09:25:52.758Z"
   },
   {
    "duration": 10,
    "start_time": "2025-04-24T09:25:52.779Z"
   },
   {
    "duration": 42,
    "start_time": "2025-04-24T09:25:52.790Z"
   },
   {
    "duration": 39,
    "start_time": "2025-04-24T09:25:52.834Z"
   },
   {
    "duration": 18,
    "start_time": "2025-04-24T09:25:52.874Z"
   },
   {
    "duration": 45,
    "start_time": "2025-04-24T09:25:52.894Z"
   },
   {
    "duration": 10,
    "start_time": "2025-04-24T09:25:52.940Z"
   },
   {
    "duration": 45,
    "start_time": "2025-04-24T09:25:52.954Z"
   },
   {
    "duration": 37,
    "start_time": "2025-04-24T09:25:53.001Z"
   },
   {
    "duration": 25,
    "start_time": "2025-04-24T09:25:53.040Z"
   },
   {
    "duration": 160,
    "start_time": "2025-04-24T09:25:53.067Z"
   },
   {
    "duration": 79,
    "start_time": "2025-04-24T09:25:53.228Z"
   },
   {
    "duration": 34,
    "start_time": "2025-04-24T09:25:53.309Z"
   },
   {
    "duration": 11,
    "start_time": "2025-04-24T09:25:53.345Z"
   },
   {
    "duration": 21,
    "start_time": "2025-04-24T09:25:53.358Z"
   },
   {
    "duration": 151,
    "start_time": "2025-04-24T09:25:53.380Z"
   },
   {
    "duration": 8,
    "start_time": "2025-04-24T09:25:53.538Z"
   },
   {
    "duration": 90,
    "start_time": "2025-04-24T09:25:53.547Z"
   },
   {
    "duration": 18,
    "start_time": "2025-04-24T09:25:53.638Z"
   },
   {
    "duration": 42,
    "start_time": "2025-04-24T09:25:53.657Z"
   },
   {
    "duration": 18,
    "start_time": "2025-04-24T09:25:53.700Z"
   },
   {
    "duration": 1223,
    "start_time": "2025-04-24T09:25:53.720Z"
   },
   {
    "duration": 0,
    "start_time": "2025-04-24T09:25:54.944Z"
   },
   {
    "duration": 0,
    "start_time": "2025-04-24T09:25:54.946Z"
   },
   {
    "duration": 28,
    "start_time": "2025-04-24T09:26:23.602Z"
   },
   {
    "duration": 12,
    "start_time": "2025-04-24T09:26:51.990Z"
   },
   {
    "duration": 3623,
    "start_time": "2025-04-24T09:27:20.053Z"
   },
   {
    "duration": 2368,
    "start_time": "2025-04-24T09:27:23.678Z"
   },
   {
    "duration": 40,
    "start_time": "2025-04-24T09:27:26.047Z"
   },
   {
    "duration": 112,
    "start_time": "2025-04-24T09:27:26.090Z"
   },
   {
    "duration": 11,
    "start_time": "2025-04-24T09:27:26.204Z"
   },
   {
    "duration": 22,
    "start_time": "2025-04-24T09:27:26.217Z"
   },
   {
    "duration": 44,
    "start_time": "2025-04-24T09:27:26.240Z"
   },
   {
    "duration": 27,
    "start_time": "2025-04-24T09:27:26.286Z"
   },
   {
    "duration": 45,
    "start_time": "2025-04-24T09:27:26.315Z"
   },
   {
    "duration": 41,
    "start_time": "2025-04-24T09:27:26.363Z"
   },
   {
    "duration": 35,
    "start_time": "2025-04-24T09:27:26.406Z"
   },
   {
    "duration": 60,
    "start_time": "2025-04-24T09:27:26.443Z"
   },
   {
    "duration": 10,
    "start_time": "2025-04-24T09:27:26.505Z"
   },
   {
    "duration": 71,
    "start_time": "2025-04-24T09:27:26.517Z"
   },
   {
    "duration": 29,
    "start_time": "2025-04-24T09:27:26.590Z"
   },
   {
    "duration": 46,
    "start_time": "2025-04-24T09:27:26.621Z"
   },
   {
    "duration": 155,
    "start_time": "2025-04-24T09:27:26.668Z"
   },
   {
    "duration": 77,
    "start_time": "2025-04-24T09:27:26.825Z"
   },
   {
    "duration": 20,
    "start_time": "2025-04-24T09:27:26.903Z"
   },
   {
    "duration": 30,
    "start_time": "2025-04-24T09:27:26.925Z"
   },
   {
    "duration": 31,
    "start_time": "2025-04-24T09:27:26.957Z"
   },
   {
    "duration": 161,
    "start_time": "2025-04-24T09:27:26.990Z"
   },
   {
    "duration": 10,
    "start_time": "2025-04-24T09:27:27.152Z"
   },
   {
    "duration": 82,
    "start_time": "2025-04-24T09:27:27.163Z"
   },
   {
    "duration": 19,
    "start_time": "2025-04-24T09:27:27.246Z"
   },
   {
    "duration": 37,
    "start_time": "2025-04-24T09:27:27.267Z"
   },
   {
    "duration": 47,
    "start_time": "2025-04-24T09:27:27.306Z"
   },
   {
    "duration": 28,
    "start_time": "2025-04-24T09:27:27.357Z"
   },
   {
    "duration": 1358,
    "start_time": "2025-04-24T09:27:27.387Z"
   },
   {
    "duration": 0,
    "start_time": "2025-04-24T09:27:28.747Z"
   },
   {
    "duration": 1178,
    "start_time": "2025-04-24T09:27:58.658Z"
   },
   {
    "duration": 11,
    "start_time": "2025-04-24T09:33:09.080Z"
   },
   {
    "duration": 28,
    "start_time": "2025-04-24T09:33:23.037Z"
   },
   {
    "duration": 28,
    "start_time": "2025-04-24T09:33:36.264Z"
   },
   {
    "duration": 1100,
    "start_time": "2025-04-24T09:34:04.280Z"
   },
   {
    "duration": 188,
    "start_time": "2025-04-24T09:34:20.330Z"
   },
   {
    "duration": 148,
    "start_time": "2025-04-24T09:34:37.767Z"
   },
   {
    "duration": 144,
    "start_time": "2025-04-24T09:34:50.561Z"
   },
   {
    "duration": 146,
    "start_time": "2025-04-24T09:35:10.459Z"
   },
   {
    "duration": 173,
    "start_time": "2025-04-24T09:35:28.645Z"
   },
   {
    "duration": 153,
    "start_time": "2025-04-24T09:37:27.048Z"
   },
   {
    "duration": 199,
    "start_time": "2025-04-24T09:37:57.529Z"
   },
   {
    "duration": 249,
    "start_time": "2025-04-24T09:39:32.120Z"
   },
   {
    "duration": 156,
    "start_time": "2025-04-24T09:40:15.897Z"
   },
   {
    "duration": 256,
    "start_time": "2025-04-24T09:40:39.264Z"
   },
   {
    "duration": 158,
    "start_time": "2025-04-24T09:40:51.816Z"
   },
   {
    "duration": 174,
    "start_time": "2025-04-24T09:40:59.713Z"
   },
   {
    "duration": 160,
    "start_time": "2025-04-24T09:41:08.233Z"
   },
   {
    "duration": 168,
    "start_time": "2025-04-24T09:41:44.437Z"
   },
   {
    "duration": 162,
    "start_time": "2025-04-24T09:41:53.199Z"
   },
   {
    "duration": 158,
    "start_time": "2025-04-24T09:44:06.687Z"
   },
   {
    "duration": 98,
    "start_time": "2025-04-24T10:54:53.071Z"
   },
   {
    "duration": 175,
    "start_time": "2025-04-24T10:55:09.812Z"
   },
   {
    "duration": 11,
    "start_time": "2025-04-24T11:00:08.912Z"
   },
   {
    "duration": 12,
    "start_time": "2025-04-24T11:00:18.471Z"
   },
   {
    "duration": 2,
    "start_time": "2025-04-24T11:07:05.135Z"
   },
   {
    "duration": 9,
    "start_time": "2025-04-24T11:08:09.621Z"
   },
   {
    "duration": 9,
    "start_time": "2025-04-24T11:08:29.402Z"
   },
   {
    "duration": 12,
    "start_time": "2025-04-24T11:08:33.436Z"
   },
   {
    "duration": 3,
    "start_time": "2025-04-24T11:08:48.447Z"
   },
   {
    "duration": 50,
    "start_time": "2025-04-24T11:08:50.700Z"
   },
   {
    "duration": 12,
    "start_time": "2025-04-24T11:09:03.593Z"
   },
   {
    "duration": 62,
    "start_time": "2025-04-24T11:09:45.523Z"
   },
   {
    "duration": 63,
    "start_time": "2025-04-24T11:10:15.695Z"
   },
   {
    "duration": 70,
    "start_time": "2025-04-24T11:11:31.485Z"
   },
   {
    "duration": 68,
    "start_time": "2025-04-24T11:11:35.653Z"
   },
   {
    "duration": 66,
    "start_time": "2025-04-24T11:11:41.930Z"
   },
   {
    "duration": 69,
    "start_time": "2025-04-24T11:11:54.505Z"
   },
   {
    "duration": 58,
    "start_time": "2025-04-24T11:13:04.679Z"
   },
   {
    "duration": 61,
    "start_time": "2025-04-24T11:13:16.425Z"
   },
   {
    "duration": 60,
    "start_time": "2025-04-24T11:13:25.721Z"
   },
   {
    "duration": 62,
    "start_time": "2025-04-24T11:13:41.805Z"
   },
   {
    "duration": 71,
    "start_time": "2025-04-24T11:14:42.833Z"
   },
   {
    "duration": 71,
    "start_time": "2025-04-24T11:14:47.804Z"
   },
   {
    "duration": 3807,
    "start_time": "2025-04-24T11:18:51.434Z"
   },
   {
    "duration": 1986,
    "start_time": "2025-04-24T11:18:55.244Z"
   },
   {
    "duration": 38,
    "start_time": "2025-04-24T11:18:57.231Z"
   },
   {
    "duration": 102,
    "start_time": "2025-04-24T11:18:57.271Z"
   },
   {
    "duration": 11,
    "start_time": "2025-04-24T11:18:57.374Z"
   },
   {
    "duration": 10,
    "start_time": "2025-04-24T11:18:57.386Z"
   },
   {
    "duration": 5,
    "start_time": "2025-04-24T11:18:57.397Z"
   },
   {
    "duration": 6,
    "start_time": "2025-04-24T11:18:57.403Z"
   },
   {
    "duration": 12,
    "start_time": "2025-04-24T11:18:57.410Z"
   },
   {
    "duration": 13,
    "start_time": "2025-04-24T11:18:57.441Z"
   },
   {
    "duration": 14,
    "start_time": "2025-04-24T11:18:57.455Z"
   },
   {
    "duration": 41,
    "start_time": "2025-04-24T11:18:57.471Z"
   },
   {
    "duration": 30,
    "start_time": "2025-04-24T11:18:57.514Z"
   },
   {
    "duration": 21,
    "start_time": "2025-04-24T11:18:57.545Z"
   },
   {
    "duration": 9,
    "start_time": "2025-04-24T11:18:57.568Z"
   },
   {
    "duration": 61,
    "start_time": "2025-04-24T11:18:57.578Z"
   },
   {
    "duration": 178,
    "start_time": "2025-04-24T11:18:57.641Z"
   },
   {
    "duration": 81,
    "start_time": "2025-04-24T11:18:57.821Z"
   },
   {
    "duration": 35,
    "start_time": "2025-04-24T11:18:57.904Z"
   },
   {
    "duration": 12,
    "start_time": "2025-04-24T11:18:57.941Z"
   },
   {
    "duration": 25,
    "start_time": "2025-04-24T11:18:57.955Z"
   },
   {
    "duration": 165,
    "start_time": "2025-04-24T11:18:57.981Z"
   },
   {
    "duration": 10,
    "start_time": "2025-04-24T11:18:58.147Z"
   },
   {
    "duration": 83,
    "start_time": "2025-04-24T11:18:58.158Z"
   },
   {
    "duration": 19,
    "start_time": "2025-04-24T11:18:58.243Z"
   },
   {
    "duration": 46,
    "start_time": "2025-04-24T11:18:58.263Z"
   },
   {
    "duration": 35,
    "start_time": "2025-04-24T11:18:58.310Z"
   },
   {
    "duration": 56,
    "start_time": "2025-04-24T11:18:58.348Z"
   },
   {
    "duration": 176,
    "start_time": "2025-04-24T11:18:58.406Z"
   },
   {
    "duration": 145,
    "start_time": "2025-04-24T11:18:58.583Z"
   },
   {
    "duration": 16,
    "start_time": "2025-04-24T11:18:58.729Z"
   },
   {
    "duration": 32,
    "start_time": "2025-04-24T11:18:58.746Z"
   },
   {
    "duration": 48,
    "start_time": "2025-04-24T11:18:58.779Z"
   },
   {
    "duration": 12,
    "start_time": "2025-04-24T11:18:58.829Z"
   },
   {
    "duration": 76,
    "start_time": "2025-04-24T11:18:58.842Z"
   },
   {
    "duration": 111,
    "start_time": "2025-04-24T11:18:58.920Z"
   },
   {
    "duration": 74,
    "start_time": "2025-04-24T11:19:21.159Z"
   },
   {
    "duration": 70,
    "start_time": "2025-04-24T11:19:28.496Z"
   },
   {
    "duration": 62,
    "start_time": "2025-04-24T11:20:05.743Z"
   },
   {
    "duration": 66,
    "start_time": "2025-04-24T11:20:52.096Z"
   },
   {
    "duration": 65,
    "start_time": "2025-04-24T11:21:12.711Z"
   },
   {
    "duration": 69,
    "start_time": "2025-04-24T11:21:16.812Z"
   },
   {
    "duration": 59,
    "start_time": "2025-04-24T11:21:22.862Z"
   },
   {
    "duration": 14,
    "start_time": "2025-04-24T11:22:39.071Z"
   },
   {
    "duration": 18,
    "start_time": "2025-04-24T11:23:15.488Z"
   },
   {
    "duration": 14,
    "start_time": "2025-04-24T11:23:33.783Z"
   },
   {
    "duration": 15,
    "start_time": "2025-04-24T11:23:41.670Z"
   },
   {
    "duration": 23,
    "start_time": "2025-04-24T11:30:42.430Z"
   },
   {
    "duration": 22,
    "start_time": "2025-04-24T11:31:23.269Z"
   },
   {
    "duration": 3,
    "start_time": "2025-04-24T11:32:35.079Z"
   },
   {
    "duration": 46,
    "start_time": "2025-04-24T11:32:38.058Z"
   },
   {
    "duration": 14,
    "start_time": "2025-04-24T11:32:40.443Z"
   },
   {
    "duration": 3,
    "start_time": "2025-04-24T11:32:54.165Z"
   },
   {
    "duration": 270,
    "start_time": "2025-04-24T11:32:56.161Z"
   },
   {
    "duration": 3,
    "start_time": "2025-04-24T11:33:17.075Z"
   },
   {
    "duration": 49,
    "start_time": "2025-04-24T11:33:20.157Z"
   },
   {
    "duration": 49,
    "start_time": "2025-04-24T11:33:40.723Z"
   },
   {
    "duration": 13,
    "start_time": "2025-04-24T11:33:43.183Z"
   },
   {
    "duration": 3923,
    "start_time": "2025-04-24T11:35:44.670Z"
   },
   {
    "duration": 2272,
    "start_time": "2025-04-24T11:35:48.595Z"
   },
   {
    "duration": 49,
    "start_time": "2025-04-24T11:35:50.869Z"
   },
   {
    "duration": 145,
    "start_time": "2025-04-24T11:35:50.920Z"
   },
   {
    "duration": 12,
    "start_time": "2025-04-24T11:35:51.067Z"
   },
   {
    "duration": 34,
    "start_time": "2025-04-24T11:35:51.081Z"
   },
   {
    "duration": 59,
    "start_time": "2025-04-24T11:35:51.117Z"
   },
   {
    "duration": 44,
    "start_time": "2025-04-24T11:35:51.178Z"
   },
   {
    "duration": 72,
    "start_time": "2025-04-24T11:35:51.224Z"
   },
   {
    "duration": 51,
    "start_time": "2025-04-24T11:35:51.298Z"
   },
   {
    "duration": 40,
    "start_time": "2025-04-24T11:35:51.351Z"
   },
   {
    "duration": 48,
    "start_time": "2025-04-24T11:35:51.393Z"
   },
   {
    "duration": 11,
    "start_time": "2025-04-24T11:35:51.442Z"
   },
   {
    "duration": 45,
    "start_time": "2025-04-24T11:35:51.455Z"
   },
   {
    "duration": 33,
    "start_time": "2025-04-24T11:35:51.502Z"
   },
   {
    "duration": 50,
    "start_time": "2025-04-24T11:35:51.537Z"
   },
   {
    "duration": 164,
    "start_time": "2025-04-24T11:35:51.589Z"
   },
   {
    "duration": 85,
    "start_time": "2025-04-24T11:35:51.755Z"
   },
   {
    "duration": 22,
    "start_time": "2025-04-24T11:35:51.841Z"
   },
   {
    "duration": 72,
    "start_time": "2025-04-24T11:35:51.864Z"
   },
   {
    "duration": 49,
    "start_time": "2025-04-24T11:35:51.938Z"
   },
   {
    "duration": 198,
    "start_time": "2025-04-24T11:35:51.989Z"
   },
   {
    "duration": 8,
    "start_time": "2025-04-24T11:35:52.189Z"
   },
   {
    "duration": 120,
    "start_time": "2025-04-24T11:35:52.199Z"
   },
   {
    "duration": 28,
    "start_time": "2025-04-24T11:35:52.320Z"
   },
   {
    "duration": 36,
    "start_time": "2025-04-24T11:35:52.350Z"
   },
   {
    "duration": 24,
    "start_time": "2025-04-24T11:35:52.387Z"
   },
   {
    "duration": 42,
    "start_time": "2025-04-24T11:35:52.415Z"
   },
   {
    "duration": 188,
    "start_time": "2025-04-24T11:35:52.459Z"
   },
   {
    "duration": 153,
    "start_time": "2025-04-24T11:35:52.649Z"
   },
   {
    "duration": 11,
    "start_time": "2025-04-24T11:35:52.804Z"
   },
   {
    "duration": 28,
    "start_time": "2025-04-24T11:35:52.816Z"
   },
   {
    "duration": 84,
    "start_time": "2025-04-24T11:35:52.845Z"
   },
   {
    "duration": 12,
    "start_time": "2025-04-24T11:35:52.931Z"
   },
   {
    "duration": 41,
    "start_time": "2025-04-24T11:35:52.945Z"
   },
   {
    "duration": 3,
    "start_time": "2025-04-24T11:37:31.779Z"
   },
   {
    "duration": 47,
    "start_time": "2025-04-24T11:37:33.752Z"
   },
   {
    "duration": 3,
    "start_time": "2025-04-24T11:37:42.014Z"
   },
   {
    "duration": 46,
    "start_time": "2025-04-24T11:37:43.890Z"
   },
   {
    "duration": 13,
    "start_time": "2025-04-24T11:37:44.626Z"
   },
   {
    "duration": 3,
    "start_time": "2025-04-24T11:38:05.868Z"
   },
   {
    "duration": 46,
    "start_time": "2025-04-24T11:38:07.792Z"
   },
   {
    "duration": 13,
    "start_time": "2025-04-24T11:38:08.619Z"
   },
   {
    "duration": 3,
    "start_time": "2025-04-24T11:38:43.303Z"
   },
   {
    "duration": 364,
    "start_time": "2025-04-24T11:38:45.694Z"
   },
   {
    "duration": 246,
    "start_time": "2025-04-24T11:38:46.450Z"
   },
   {
    "duration": 64,
    "start_time": "2025-04-24T11:39:07.134Z"
   },
   {
    "duration": 95,
    "start_time": "2025-04-24T11:39:12.817Z"
   },
   {
    "duration": 262,
    "start_time": "2025-04-24T11:39:14.294Z"
   },
   {
    "duration": 3,
    "start_time": "2025-04-24T11:39:23.366Z"
   },
   {
    "duration": 50,
    "start_time": "2025-04-24T11:39:25.478Z"
   },
   {
    "duration": 26,
    "start_time": "2025-04-24T11:39:31.840Z"
   },
   {
    "duration": 13,
    "start_time": "2025-04-24T11:39:35.080Z"
   },
   {
    "duration": 45,
    "start_time": "2025-04-24T11:39:37.659Z"
   },
   {
    "duration": 47,
    "start_time": "2025-04-24T11:41:53.955Z"
   },
   {
    "duration": 12,
    "start_time": "2025-04-24T11:41:55.406Z"
   },
   {
    "duration": 3,
    "start_time": "2025-04-24T11:42:41.588Z"
   },
   {
    "duration": 88,
    "start_time": "2025-04-24T11:42:42.509Z"
   },
   {
    "duration": 13,
    "start_time": "2025-04-24T11:42:43.493Z"
   },
   {
    "duration": 23,
    "start_time": "2025-04-24T11:45:31.504Z"
   },
   {
    "duration": 3,
    "start_time": "2025-04-24T11:45:38.006Z"
   },
   {
    "duration": 44,
    "start_time": "2025-04-24T11:45:39.405Z"
   },
   {
    "duration": 15,
    "start_time": "2025-04-24T11:45:40.630Z"
   },
   {
    "duration": 22,
    "start_time": "2025-04-24T11:46:20.997Z"
   },
   {
    "duration": 20,
    "start_time": "2025-04-24T11:47:25.144Z"
   },
   {
    "duration": 3,
    "start_time": "2025-04-24T11:47:58.829Z"
   },
   {
    "duration": 77,
    "start_time": "2025-04-24T11:47:59.683Z"
   },
   {
    "duration": 12,
    "start_time": "2025-04-24T11:48:00.685Z"
   },
   {
    "duration": 19,
    "start_time": "2025-04-24T11:48:03.006Z"
   },
   {
    "duration": 78,
    "start_time": "2025-04-24T11:49:43.924Z"
   },
   {
    "duration": 61,
    "start_time": "2025-04-24T11:49:49.396Z"
   },
   {
    "duration": 22,
    "start_time": "2025-04-24T11:50:19.406Z"
   },
   {
    "duration": 24,
    "start_time": "2025-04-24T11:50:31.419Z"
   },
   {
    "duration": 16,
    "start_time": "2025-04-24T11:59:40.778Z"
   },
   {
    "duration": 613,
    "start_time": "2025-04-24T12:00:04.450Z"
   },
   {
    "duration": 18,
    "start_time": "2025-04-24T12:00:09.033Z"
   },
   {
    "duration": 4,
    "start_time": "2025-04-24T12:01:49.317Z"
   },
   {
    "duration": 8,
    "start_time": "2025-04-24T12:02:02.868Z"
   },
   {
    "duration": 8,
    "start_time": "2025-04-24T12:02:12.699Z"
   },
   {
    "duration": 6,
    "start_time": "2025-04-24T12:05:16.465Z"
   },
   {
    "duration": 6,
    "start_time": "2025-04-24T12:11:58.548Z"
   },
   {
    "duration": 13,
    "start_time": "2025-04-24T12:12:23.830Z"
   },
   {
    "duration": 14,
    "start_time": "2025-04-24T12:13:11.961Z"
   },
   {
    "duration": 14,
    "start_time": "2025-04-24T12:14:24.923Z"
   },
   {
    "duration": 6,
    "start_time": "2025-04-24T12:15:37.016Z"
   },
   {
    "duration": 13,
    "start_time": "2025-04-24T12:16:17.344Z"
   },
   {
    "duration": 6,
    "start_time": "2025-04-24T12:16:20.625Z"
   },
   {
    "duration": 11,
    "start_time": "2025-04-24T12:17:39.736Z"
   },
   {
    "duration": 6,
    "start_time": "2025-04-24T12:17:42.694Z"
   },
   {
    "duration": 77,
    "start_time": "2025-04-24T12:19:09.836Z"
   },
   {
    "duration": 88,
    "start_time": "2025-04-24T12:19:34.071Z"
   },
   {
    "duration": 11,
    "start_time": "2025-04-24T12:19:37.891Z"
   },
   {
    "duration": 75,
    "start_time": "2025-04-24T12:20:03.979Z"
   },
   {
    "duration": 13,
    "start_time": "2025-04-24T12:20:09.254Z"
   },
   {
    "duration": 12,
    "start_time": "2025-04-24T12:33:57.816Z"
   },
   {
    "duration": 3,
    "start_time": "2025-04-24T12:42:06.126Z"
   },
   {
    "duration": 80,
    "start_time": "2025-04-24T12:42:08.165Z"
   },
   {
    "duration": 12,
    "start_time": "2025-04-24T12:42:09.809Z"
   },
   {
    "duration": 19,
    "start_time": "2025-04-24T12:42:28.261Z"
   },
   {
    "duration": 88,
    "start_time": "2025-04-24T12:42:40.960Z"
   },
   {
    "duration": 20,
    "start_time": "2025-04-24T12:42:48.472Z"
   },
   {
    "duration": 8,
    "start_time": "2025-04-24T12:42:57.300Z"
   },
   {
    "duration": 7,
    "start_time": "2025-04-24T12:44:27.293Z"
   },
   {
    "duration": 13,
    "start_time": "2025-04-24T12:44:32.621Z"
   },
   {
    "duration": 12,
    "start_time": "2025-04-24T12:44:40.287Z"
   },
   {
    "duration": 81,
    "start_time": "2025-04-24T12:45:59.238Z"
   },
   {
    "duration": 13,
    "start_time": "2025-04-24T12:46:00.639Z"
   },
   {
    "duration": 3604,
    "start_time": "2025-04-24T12:46:10.594Z"
   },
   {
    "duration": 2191,
    "start_time": "2025-04-24T12:46:14.200Z"
   },
   {
    "duration": 35,
    "start_time": "2025-04-24T12:46:16.393Z"
   },
   {
    "duration": 115,
    "start_time": "2025-04-24T12:46:16.430Z"
   },
   {
    "duration": 12,
    "start_time": "2025-04-24T12:46:16.547Z"
   },
   {
    "duration": 29,
    "start_time": "2025-04-24T12:46:16.560Z"
   },
   {
    "duration": 15,
    "start_time": "2025-04-24T12:46:16.590Z"
   },
   {
    "duration": 28,
    "start_time": "2025-04-24T12:46:16.606Z"
   },
   {
    "duration": 37,
    "start_time": "2025-04-24T12:46:16.636Z"
   },
   {
    "duration": 27,
    "start_time": "2025-04-24T12:46:16.676Z"
   },
   {
    "duration": 20,
    "start_time": "2025-04-24T12:46:16.705Z"
   },
   {
    "duration": 59,
    "start_time": "2025-04-24T12:46:16.727Z"
   },
   {
    "duration": 8,
    "start_time": "2025-04-24T12:46:16.787Z"
   },
   {
    "duration": 30,
    "start_time": "2025-04-24T12:46:16.796Z"
   },
   {
    "duration": 13,
    "start_time": "2025-04-24T12:46:16.828Z"
   },
   {
    "duration": 30,
    "start_time": "2025-04-24T12:46:16.842Z"
   },
   {
    "duration": 153,
    "start_time": "2025-04-24T12:46:16.873Z"
   },
   {
    "duration": 79,
    "start_time": "2025-04-24T12:46:17.028Z"
   },
   {
    "duration": 21,
    "start_time": "2025-04-24T12:46:17.108Z"
   },
   {
    "duration": 37,
    "start_time": "2025-04-24T12:46:17.139Z"
   },
   {
    "duration": 28,
    "start_time": "2025-04-24T12:46:17.178Z"
   },
   {
    "duration": 142,
    "start_time": "2025-04-24T12:46:17.208Z"
   },
   {
    "duration": 9,
    "start_time": "2025-04-24T12:46:17.352Z"
   },
   {
    "duration": 93,
    "start_time": "2025-04-24T12:46:17.362Z"
   },
   {
    "duration": 19,
    "start_time": "2025-04-24T12:46:17.457Z"
   },
   {
    "duration": 37,
    "start_time": "2025-04-24T12:46:17.478Z"
   },
   {
    "duration": 36,
    "start_time": "2025-04-24T12:46:17.516Z"
   },
   {
    "duration": 33,
    "start_time": "2025-04-24T12:46:17.555Z"
   },
   {
    "duration": 215,
    "start_time": "2025-04-24T12:46:17.591Z"
   },
   {
    "duration": 161,
    "start_time": "2025-04-24T12:46:17.808Z"
   },
   {
    "duration": 13,
    "start_time": "2025-04-24T12:46:17.970Z"
   },
   {
    "duration": 23,
    "start_time": "2025-04-24T12:46:17.984Z"
   },
   {
    "duration": 3,
    "start_time": "2025-04-24T12:46:18.009Z"
   },
   {
    "duration": 69,
    "start_time": "2025-04-24T12:46:18.013Z"
   },
   {
    "duration": 13,
    "start_time": "2025-04-24T12:46:18.084Z"
   },
   {
    "duration": 31,
    "start_time": "2025-04-24T12:46:18.098Z"
   },
   {
    "duration": 9,
    "start_time": "2025-04-24T12:46:18.138Z"
   },
   {
    "duration": 10,
    "start_time": "2025-04-24T12:46:18.148Z"
   },
   {
    "duration": 14,
    "start_time": "2025-04-24T12:46:18.160Z"
   },
   {
    "duration": 9,
    "start_time": "2025-04-24T12:46:18.176Z"
   },
   {
    "duration": 36,
    "start_time": "2025-04-24T12:56:59.962Z"
   },
   {
    "duration": 110,
    "start_time": "2025-04-24T12:57:53.381Z"
   },
   {
    "duration": 20,
    "start_time": "2025-04-24T12:57:57.613Z"
   },
   {
    "duration": 19,
    "start_time": "2025-04-24T12:58:10.576Z"
   },
   {
    "duration": 9,
    "start_time": "2025-04-24T13:01:25.545Z"
   },
   {
    "duration": 6,
    "start_time": "2025-04-24T13:03:33.155Z"
   },
   {
    "duration": 13,
    "start_time": "2025-04-24T13:03:41.394Z"
   },
   {
    "duration": 11,
    "start_time": "2025-04-24T13:04:17.476Z"
   },
   {
    "duration": 9,
    "start_time": "2025-04-24T13:04:21.113Z"
   },
   {
    "duration": 6,
    "start_time": "2025-04-24T13:04:24.569Z"
   },
   {
    "duration": 12,
    "start_time": "2025-04-24T13:12:27.208Z"
   },
   {
    "duration": 11,
    "start_time": "2025-04-24T13:15:06.519Z"
   },
   {
    "duration": 16,
    "start_time": "2025-04-24T13:20:46.003Z"
   },
   {
    "duration": 14,
    "start_time": "2025-04-24T13:21:16.579Z"
   },
   {
    "duration": 73,
    "start_time": "2025-04-24T13:28:13.894Z"
   },
   {
    "duration": 26,
    "start_time": "2025-04-24T13:28:24.071Z"
   },
   {
    "duration": 8,
    "start_time": "2025-04-24T13:28:30.615Z"
   },
   {
    "duration": 25,
    "start_time": "2025-04-24T13:28:44.176Z"
   },
   {
    "duration": 16,
    "start_time": "2025-04-24T13:28:50.180Z"
   },
   {
    "duration": 9,
    "start_time": "2025-04-24T13:30:12.227Z"
   },
   {
    "duration": 3,
    "start_time": "2025-04-24T13:30:25.857Z"
   },
   {
    "duration": 101,
    "start_time": "2025-04-24T13:30:34.273Z"
   },
   {
    "duration": 64,
    "start_time": "2025-04-24T13:30:41.313Z"
   },
   {
    "duration": 125,
    "start_time": "2025-04-24T13:30:43.899Z"
   },
   {
    "duration": 119,
    "start_time": "2025-04-24T13:31:20.655Z"
   },
   {
    "duration": 17,
    "start_time": "2025-04-24T13:32:07.116Z"
   },
   {
    "duration": 3786,
    "start_time": "2025-04-24T13:32:19.963Z"
   },
   {
    "duration": 2112,
    "start_time": "2025-04-24T13:32:23.751Z"
   },
   {
    "duration": 38,
    "start_time": "2025-04-24T13:32:25.866Z"
   },
   {
    "duration": 118,
    "start_time": "2025-04-24T13:32:25.907Z"
   },
   {
    "duration": 22,
    "start_time": "2025-04-24T13:32:26.028Z"
   },
   {
    "duration": 5,
    "start_time": "2025-04-24T13:32:26.053Z"
   },
   {
    "duration": 5,
    "start_time": "2025-04-24T13:32:26.060Z"
   },
   {
    "duration": 12,
    "start_time": "2025-04-24T13:32:26.066Z"
   },
   {
    "duration": 15,
    "start_time": "2025-04-24T13:32:26.080Z"
   },
   {
    "duration": 36,
    "start_time": "2025-04-24T13:32:26.098Z"
   },
   {
    "duration": 21,
    "start_time": "2025-04-24T13:32:26.136Z"
   },
   {
    "duration": 39,
    "start_time": "2025-04-24T13:32:26.158Z"
   },
   {
    "duration": 8,
    "start_time": "2025-04-24T13:32:26.198Z"
   },
   {
    "duration": 45,
    "start_time": "2025-04-24T13:32:26.208Z"
   },
   {
    "duration": 9,
    "start_time": "2025-04-24T13:32:26.255Z"
   },
   {
    "duration": 38,
    "start_time": "2025-04-24T13:32:26.266Z"
   },
   {
    "duration": 180,
    "start_time": "2025-04-24T13:32:26.305Z"
   },
   {
    "duration": 87,
    "start_time": "2025-04-24T13:32:26.487Z"
   },
   {
    "duration": 20,
    "start_time": "2025-04-24T13:32:26.575Z"
   },
   {
    "duration": 26,
    "start_time": "2025-04-24T13:32:26.597Z"
   },
   {
    "duration": 18,
    "start_time": "2025-04-24T13:32:26.625Z"
   },
   {
    "duration": 157,
    "start_time": "2025-04-24T13:32:26.645Z"
   },
   {
    "duration": 8,
    "start_time": "2025-04-24T13:32:26.804Z"
   },
   {
    "duration": 88,
    "start_time": "2025-04-24T13:32:26.814Z"
   },
   {
    "duration": 37,
    "start_time": "2025-04-24T13:32:26.904Z"
   },
   {
    "duration": 43,
    "start_time": "2025-04-24T13:32:26.943Z"
   },
   {
    "duration": 17,
    "start_time": "2025-04-24T13:32:26.988Z"
   },
   {
    "duration": 52,
    "start_time": "2025-04-24T13:32:27.008Z"
   },
   {
    "duration": 197,
    "start_time": "2025-04-24T13:32:27.062Z"
   },
   {
    "duration": 151,
    "start_time": "2025-04-24T13:32:27.261Z"
   },
   {
    "duration": 12,
    "start_time": "2025-04-24T13:32:27.414Z"
   },
   {
    "duration": 86,
    "start_time": "2025-04-24T13:32:27.442Z"
   },
   {
    "duration": 11,
    "start_time": "2025-04-24T13:32:27.541Z"
   },
   {
    "duration": 38,
    "start_time": "2025-04-24T13:32:27.554Z"
   },
   {
    "duration": 90,
    "start_time": "2025-04-24T13:32:27.594Z"
   },
   {
    "duration": 132,
    "start_time": "2025-04-24T13:32:27.686Z"
   },
   {
    "duration": 135,
    "start_time": "2025-04-24T13:32:27.820Z"
   },
   {
    "duration": 20,
    "start_time": "2025-04-24T13:32:27.957Z"
   },
   {
    "duration": 30,
    "start_time": "2025-04-24T13:32:27.980Z"
   },
   {
    "duration": 4,
    "start_time": "2025-04-24T13:32:28.011Z"
   },
   {
    "duration": 65,
    "start_time": "2025-04-24T13:32:28.044Z"
   },
   {
    "duration": 17,
    "start_time": "2025-04-24T13:32:28.111Z"
   },
   {
    "duration": 24,
    "start_time": "2025-04-24T13:32:28.144Z"
   },
   {
    "duration": 7,
    "start_time": "2025-04-24T13:32:28.170Z"
   },
   {
    "duration": 5,
    "start_time": "2025-04-24T13:32:28.179Z"
   },
   {
    "duration": 14,
    "start_time": "2025-04-24T13:32:28.186Z"
   },
   {
    "duration": 39,
    "start_time": "2025-04-24T13:32:28.202Z"
   },
   {
    "duration": 72,
    "start_time": "2025-04-24T13:32:28.243Z"
   },
   {
    "duration": 118,
    "start_time": "2025-04-24T13:39:07.941Z"
   },
   {
    "duration": 48,
    "start_time": "2025-04-24T13:39:10.890Z"
   },
   {
    "duration": 129,
    "start_time": "2025-04-24T13:39:24.179Z"
   },
   {
    "duration": 3,
    "start_time": "2025-04-24T13:42:04.801Z"
   },
   {
    "duration": 13,
    "start_time": "2025-04-24T13:42:09.914Z"
   },
   {
    "duration": 14,
    "start_time": "2025-04-24T13:42:45.217Z"
   },
   {
    "duration": 3679,
    "start_time": "2025-04-24T13:43:07.124Z"
   },
   {
    "duration": 1906,
    "start_time": "2025-04-24T13:43:10.805Z"
   },
   {
    "duration": 47,
    "start_time": "2025-04-24T13:43:12.713Z"
   },
   {
    "duration": 103,
    "start_time": "2025-04-24T13:43:12.762Z"
   },
   {
    "duration": 10,
    "start_time": "2025-04-24T13:43:12.867Z"
   },
   {
    "duration": 4,
    "start_time": "2025-04-24T13:43:12.879Z"
   },
   {
    "duration": 7,
    "start_time": "2025-04-24T13:43:12.885Z"
   },
   {
    "duration": 8,
    "start_time": "2025-04-24T13:43:12.893Z"
   },
   {
    "duration": 17,
    "start_time": "2025-04-24T13:43:12.902Z"
   },
   {
    "duration": 12,
    "start_time": "2025-04-24T13:43:12.938Z"
   },
   {
    "duration": 11,
    "start_time": "2025-04-24T13:43:12.952Z"
   },
   {
    "duration": 41,
    "start_time": "2025-04-24T13:43:12.964Z"
   },
   {
    "duration": 8,
    "start_time": "2025-04-24T13:43:13.007Z"
   },
   {
    "duration": 20,
    "start_time": "2025-04-24T13:43:13.040Z"
   },
   {
    "duration": 9,
    "start_time": "2025-04-24T13:43:13.062Z"
   },
   {
    "duration": 34,
    "start_time": "2025-04-24T13:43:13.072Z"
   },
   {
    "duration": 177,
    "start_time": "2025-04-24T13:43:13.108Z"
   },
   {
    "duration": 83,
    "start_time": "2025-04-24T13:43:13.287Z"
   },
   {
    "duration": 21,
    "start_time": "2025-04-24T13:43:13.372Z"
   },
   {
    "duration": 18,
    "start_time": "2025-04-24T13:43:13.394Z"
   },
   {
    "duration": 26,
    "start_time": "2025-04-24T13:43:13.413Z"
   },
   {
    "duration": 138,
    "start_time": "2025-04-24T13:43:13.440Z"
   },
   {
    "duration": 10,
    "start_time": "2025-04-24T13:43:13.580Z"
   },
   {
    "duration": 84,
    "start_time": "2025-04-24T13:43:13.592Z"
   },
   {
    "duration": 18,
    "start_time": "2025-04-24T13:43:13.678Z"
   },
   {
    "duration": 60,
    "start_time": "2025-04-24T13:43:13.698Z"
   },
   {
    "duration": 17,
    "start_time": "2025-04-24T13:43:13.760Z"
   },
   {
    "duration": 27,
    "start_time": "2025-04-24T13:43:13.781Z"
   },
   {
    "duration": 204,
    "start_time": "2025-04-24T13:43:13.809Z"
   },
   {
    "duration": 151,
    "start_time": "2025-04-24T13:43:14.015Z"
   },
   {
    "duration": 13,
    "start_time": "2025-04-24T13:43:14.168Z"
   },
   {
    "duration": 88,
    "start_time": "2025-04-24T13:43:14.183Z"
   },
   {
    "duration": 8,
    "start_time": "2025-04-24T13:43:14.273Z"
   },
   {
    "duration": 26,
    "start_time": "2025-04-24T13:43:14.283Z"
   },
   {
    "duration": 69,
    "start_time": "2025-04-24T13:43:14.311Z"
   },
   {
    "duration": 128,
    "start_time": "2025-04-24T13:43:14.381Z"
   },
   {
    "duration": 0,
    "start_time": "2025-04-24T13:43:14.511Z"
   },
   {
    "duration": 0,
    "start_time": "2025-04-24T13:43:14.512Z"
   },
   {
    "duration": 0,
    "start_time": "2025-04-24T13:43:14.514Z"
   },
   {
    "duration": 0,
    "start_time": "2025-04-24T13:43:14.515Z"
   },
   {
    "duration": 0,
    "start_time": "2025-04-24T13:43:14.516Z"
   },
   {
    "duration": 0,
    "start_time": "2025-04-24T13:43:14.516Z"
   },
   {
    "duration": 0,
    "start_time": "2025-04-24T13:43:14.518Z"
   },
   {
    "duration": 0,
    "start_time": "2025-04-24T13:43:14.518Z"
   },
   {
    "duration": 0,
    "start_time": "2025-04-24T13:43:14.519Z"
   },
   {
    "duration": 0,
    "start_time": "2025-04-24T13:43:14.520Z"
   },
   {
    "duration": 0,
    "start_time": "2025-04-24T13:43:14.521Z"
   },
   {
    "duration": 0,
    "start_time": "2025-04-24T13:43:14.522Z"
   },
   {
    "duration": 132,
    "start_time": "2025-04-24T13:44:14.585Z"
   },
   {
    "duration": 81,
    "start_time": "2025-04-24T13:44:19.252Z"
   },
   {
    "duration": 18,
    "start_time": "2025-04-24T13:44:21.709Z"
   },
   {
    "duration": 3740,
    "start_time": "2025-04-24T13:44:39.820Z"
   },
   {
    "duration": 2081,
    "start_time": "2025-04-24T13:44:43.562Z"
   },
   {
    "duration": 38,
    "start_time": "2025-04-24T13:44:45.644Z"
   },
   {
    "duration": 201,
    "start_time": "2025-04-24T13:44:45.740Z"
   },
   {
    "duration": 11,
    "start_time": "2025-04-24T13:44:45.943Z"
   },
   {
    "duration": 10,
    "start_time": "2025-04-24T13:44:45.955Z"
   },
   {
    "duration": 8,
    "start_time": "2025-04-24T13:44:45.967Z"
   },
   {
    "duration": 8,
    "start_time": "2025-04-24T13:44:45.977Z"
   },
   {
    "duration": 57,
    "start_time": "2025-04-24T13:44:45.986Z"
   },
   {
    "duration": 28,
    "start_time": "2025-04-24T13:44:46.046Z"
   },
   {
    "duration": 10,
    "start_time": "2025-04-24T13:44:46.076Z"
   },
   {
    "duration": 87,
    "start_time": "2025-04-24T13:44:46.087Z"
   },
   {
    "duration": 64,
    "start_time": "2025-04-24T13:44:46.176Z"
   },
   {
    "duration": 18,
    "start_time": "2025-04-24T13:44:46.242Z"
   },
   {
    "duration": 8,
    "start_time": "2025-04-24T13:44:46.262Z"
   },
   {
    "duration": 84,
    "start_time": "2025-04-24T13:44:46.271Z"
   },
   {
    "duration": 297,
    "start_time": "2025-04-24T13:44:46.357Z"
   },
   {
    "duration": 123,
    "start_time": "2025-04-24T13:44:46.655Z"
   },
   {
    "duration": 68,
    "start_time": "2025-04-24T13:44:46.780Z"
   },
   {
    "duration": 11,
    "start_time": "2025-04-24T13:44:46.850Z"
   },
   {
    "duration": 19,
    "start_time": "2025-04-24T13:44:46.862Z"
   },
   {
    "duration": 238,
    "start_time": "2025-04-24T13:44:46.883Z"
   },
   {
    "duration": 22,
    "start_time": "2025-04-24T13:44:47.123Z"
   },
   {
    "duration": 66,
    "start_time": "2025-04-24T13:44:47.147Z"
   },
   {
    "duration": 35,
    "start_time": "2025-04-24T13:44:47.215Z"
   },
   {
    "duration": 36,
    "start_time": "2025-04-24T13:44:47.252Z"
   },
   {
    "duration": 17,
    "start_time": "2025-04-24T13:44:47.289Z"
   },
   {
    "duration": 52,
    "start_time": "2025-04-24T13:44:47.309Z"
   },
   {
    "duration": 219,
    "start_time": "2025-04-24T13:44:47.363Z"
   },
   {
    "duration": 159,
    "start_time": "2025-04-24T13:44:47.584Z"
   },
   {
    "duration": 12,
    "start_time": "2025-04-24T13:44:47.745Z"
   },
   {
    "duration": 93,
    "start_time": "2025-04-24T13:44:47.758Z"
   },
   {
    "duration": 8,
    "start_time": "2025-04-24T13:44:47.852Z"
   },
   {
    "duration": 24,
    "start_time": "2025-04-24T13:44:47.862Z"
   },
   {
    "duration": 69,
    "start_time": "2025-04-24T13:44:47.887Z"
   },
   {
    "duration": 141,
    "start_time": "2025-04-24T13:44:47.958Z"
   },
   {
    "duration": 92,
    "start_time": "2025-04-24T13:44:48.101Z"
   },
   {
    "duration": 18,
    "start_time": "2025-04-24T13:44:48.194Z"
   },
   {
    "duration": 39,
    "start_time": "2025-04-24T13:44:48.214Z"
   },
   {
    "duration": 13,
    "start_time": "2025-04-24T13:44:48.255Z"
   },
   {
    "duration": 58,
    "start_time": "2025-04-24T13:44:48.269Z"
   },
   {
    "duration": 17,
    "start_time": "2025-04-24T13:44:48.329Z"
   },
   {
    "duration": 31,
    "start_time": "2025-04-24T13:44:48.347Z"
   },
   {
    "duration": 8,
    "start_time": "2025-04-24T13:44:48.379Z"
   },
   {
    "duration": 39,
    "start_time": "2025-04-24T13:44:48.388Z"
   },
   {
    "duration": 37,
    "start_time": "2025-04-24T13:44:48.429Z"
   },
   {
    "duration": 12,
    "start_time": "2025-04-24T13:44:48.467Z"
   },
   {
    "duration": 104,
    "start_time": "2025-04-24T13:44:48.481Z"
   },
   {
    "duration": 176,
    "start_time": "2025-04-24T13:45:47.804Z"
   },
   {
    "duration": 3609,
    "start_time": "2025-04-24T13:45:52.842Z"
   },
   {
    "duration": 2071,
    "start_time": "2025-04-24T13:45:56.454Z"
   },
   {
    "duration": 42,
    "start_time": "2025-04-24T13:45:58.526Z"
   },
   {
    "duration": 108,
    "start_time": "2025-04-24T13:45:58.569Z"
   },
   {
    "duration": 11,
    "start_time": "2025-04-24T13:45:58.678Z"
   },
   {
    "duration": 16,
    "start_time": "2025-04-24T13:45:58.690Z"
   },
   {
    "duration": 9,
    "start_time": "2025-04-24T13:45:58.708Z"
   },
   {
    "duration": 22,
    "start_time": "2025-04-24T13:45:58.719Z"
   },
   {
    "duration": 10,
    "start_time": "2025-04-24T13:45:58.743Z"
   },
   {
    "duration": 26,
    "start_time": "2025-04-24T13:45:58.755Z"
   },
   {
    "duration": 18,
    "start_time": "2025-04-24T13:45:58.782Z"
   },
   {
    "duration": 78,
    "start_time": "2025-04-24T13:45:58.802Z"
   },
   {
    "duration": 8,
    "start_time": "2025-04-24T13:45:58.882Z"
   },
   {
    "duration": 23,
    "start_time": "2025-04-24T13:45:58.891Z"
   },
   {
    "duration": 8,
    "start_time": "2025-04-24T13:45:58.915Z"
   },
   {
    "duration": 34,
    "start_time": "2025-04-24T13:45:58.925Z"
   },
   {
    "duration": 154,
    "start_time": "2025-04-24T13:45:58.961Z"
   },
   {
    "duration": 87,
    "start_time": "2025-04-24T13:45:59.117Z"
   },
   {
    "duration": 22,
    "start_time": "2025-04-24T13:45:59.206Z"
   },
   {
    "duration": 49,
    "start_time": "2025-04-24T13:45:59.239Z"
   },
   {
    "duration": 25,
    "start_time": "2025-04-24T13:45:59.290Z"
   },
   {
    "duration": 191,
    "start_time": "2025-04-24T13:45:59.316Z"
   },
   {
    "duration": 9,
    "start_time": "2025-04-24T13:45:59.509Z"
   },
   {
    "duration": 76,
    "start_time": "2025-04-24T13:45:59.520Z"
   },
   {
    "duration": 18,
    "start_time": "2025-04-24T13:45:59.597Z"
   },
   {
    "duration": 54,
    "start_time": "2025-04-24T13:45:59.617Z"
   },
   {
    "duration": 19,
    "start_time": "2025-04-24T13:45:59.673Z"
   },
   {
    "duration": 48,
    "start_time": "2025-04-24T13:45:59.696Z"
   },
   {
    "duration": 185,
    "start_time": "2025-04-24T13:45:59.746Z"
   },
   {
    "duration": 159,
    "start_time": "2025-04-24T13:45:59.932Z"
   },
   {
    "duration": 12,
    "start_time": "2025-04-24T13:46:00.093Z"
   },
   {
    "duration": 108,
    "start_time": "2025-04-24T13:46:00.106Z"
   },
   {
    "duration": 9,
    "start_time": "2025-04-24T13:46:00.215Z"
   },
   {
    "duration": 53,
    "start_time": "2025-04-24T13:46:00.225Z"
   },
   {
    "duration": 59,
    "start_time": "2025-04-24T13:46:00.279Z"
   },
   {
    "duration": 178,
    "start_time": "2025-04-24T13:46:00.340Z"
   },
   {
    "duration": 102,
    "start_time": "2025-04-24T13:46:00.519Z"
   },
   {
    "duration": 21,
    "start_time": "2025-04-24T13:46:00.622Z"
   },
   {
    "duration": 30,
    "start_time": "2025-04-24T13:46:00.645Z"
   },
   {
    "duration": 4,
    "start_time": "2025-04-24T13:46:00.677Z"
   },
   {
    "duration": 71,
    "start_time": "2025-04-24T13:46:00.682Z"
   },
   {
    "duration": 15,
    "start_time": "2025-04-24T13:46:00.755Z"
   },
   {
    "duration": 37,
    "start_time": "2025-04-24T13:46:00.772Z"
   },
   {
    "duration": 19,
    "start_time": "2025-04-24T13:46:00.810Z"
   },
   {
    "duration": 15,
    "start_time": "2025-04-24T13:46:00.830Z"
   },
   {
    "duration": 26,
    "start_time": "2025-04-24T13:46:00.847Z"
   },
   {
    "duration": 10,
    "start_time": "2025-04-24T13:46:00.875Z"
   },
   {
    "duration": 67,
    "start_time": "2025-04-24T13:46:00.886Z"
   },
   {
    "duration": 14,
    "start_time": "2025-04-24T13:46:27.045Z"
   },
   {
    "duration": 13,
    "start_time": "2025-04-24T13:46:35.582Z"
   },
   {
    "duration": 3699,
    "start_time": "2025-04-24T13:46:47.005Z"
   },
   {
    "duration": 2159,
    "start_time": "2025-04-24T13:46:50.706Z"
   },
   {
    "duration": 38,
    "start_time": "2025-04-24T13:46:52.866Z"
   },
   {
    "duration": 104,
    "start_time": "2025-04-24T13:46:52.905Z"
   },
   {
    "duration": 10,
    "start_time": "2025-04-24T13:46:53.010Z"
   },
   {
    "duration": 5,
    "start_time": "2025-04-24T13:46:53.021Z"
   },
   {
    "duration": 5,
    "start_time": "2025-04-24T13:46:53.039Z"
   },
   {
    "duration": 12,
    "start_time": "2025-04-24T13:46:53.045Z"
   },
   {
    "duration": 25,
    "start_time": "2025-04-24T13:46:53.058Z"
   },
   {
    "duration": 34,
    "start_time": "2025-04-24T13:46:53.087Z"
   },
   {
    "duration": 18,
    "start_time": "2025-04-24T13:46:53.123Z"
   },
   {
    "duration": 77,
    "start_time": "2025-04-24T13:46:53.143Z"
   },
   {
    "duration": 9,
    "start_time": "2025-04-24T13:46:53.221Z"
   },
   {
    "duration": 24,
    "start_time": "2025-04-24T13:46:53.232Z"
   },
   {
    "duration": 9,
    "start_time": "2025-04-24T13:46:53.257Z"
   },
   {
    "duration": 37,
    "start_time": "2025-04-24T13:46:53.268Z"
   },
   {
    "duration": 150,
    "start_time": "2025-04-24T13:46:53.307Z"
   },
   {
    "duration": 84,
    "start_time": "2025-04-24T13:46:53.459Z"
   },
   {
    "duration": 22,
    "start_time": "2025-04-24T13:46:53.544Z"
   },
   {
    "duration": 14,
    "start_time": "2025-04-24T13:46:53.568Z"
   },
   {
    "duration": 17,
    "start_time": "2025-04-24T13:46:53.584Z"
   },
   {
    "duration": 171,
    "start_time": "2025-04-24T13:46:53.603Z"
   },
   {
    "duration": 10,
    "start_time": "2025-04-24T13:46:53.775Z"
   },
   {
    "duration": 88,
    "start_time": "2025-04-24T13:46:53.786Z"
   },
   {
    "duration": 18,
    "start_time": "2025-04-24T13:46:53.876Z"
   },
   {
    "duration": 43,
    "start_time": "2025-04-24T13:46:53.896Z"
   },
   {
    "duration": 19,
    "start_time": "2025-04-24T13:46:53.940Z"
   },
   {
    "duration": 28,
    "start_time": "2025-04-24T13:46:53.962Z"
   },
   {
    "duration": 211,
    "start_time": "2025-04-24T13:46:53.991Z"
   },
   {
    "duration": 163,
    "start_time": "2025-04-24T13:46:54.203Z"
   },
   {
    "duration": 12,
    "start_time": "2025-04-24T13:46:54.368Z"
   },
   {
    "duration": 113,
    "start_time": "2025-04-24T13:46:54.381Z"
   },
   {
    "duration": 8,
    "start_time": "2025-04-24T13:46:54.496Z"
   },
   {
    "duration": 53,
    "start_time": "2025-04-24T13:46:54.505Z"
   },
   {
    "duration": 52,
    "start_time": "2025-04-24T13:46:54.559Z"
   },
   {
    "duration": 186,
    "start_time": "2025-04-24T13:46:54.613Z"
   },
   {
    "duration": 104,
    "start_time": "2025-04-24T13:46:54.801Z"
   },
   {
    "duration": 17,
    "start_time": "2025-04-24T13:46:54.907Z"
   },
   {
    "duration": 36,
    "start_time": "2025-04-24T13:46:54.926Z"
   },
   {
    "duration": 3,
    "start_time": "2025-04-24T13:46:54.964Z"
   },
   {
    "duration": 52,
    "start_time": "2025-04-24T13:46:54.969Z"
   },
   {
    "duration": 29,
    "start_time": "2025-04-24T13:46:55.023Z"
   },
   {
    "duration": 71,
    "start_time": "2025-04-24T13:46:55.054Z"
   },
   {
    "duration": 7,
    "start_time": "2025-04-24T13:46:55.127Z"
   },
   {
    "duration": 6,
    "start_time": "2025-04-24T13:46:55.136Z"
   },
   {
    "duration": 19,
    "start_time": "2025-04-24T13:46:55.143Z"
   },
   {
    "duration": 36,
    "start_time": "2025-04-24T13:46:55.164Z"
   },
   {
    "duration": 68,
    "start_time": "2025-04-24T13:46:55.201Z"
   },
   {
    "duration": 20,
    "start_time": "2025-04-24T13:59:48.785Z"
   },
   {
    "duration": 19,
    "start_time": "2025-04-24T14:00:34.265Z"
   },
   {
    "duration": 192,
    "start_time": "2025-04-24T14:05:20.278Z"
   },
   {
    "duration": 21,
    "start_time": "2025-04-24T14:06:36.086Z"
   },
   {
    "duration": 3574,
    "start_time": "2025-04-24T14:06:48.610Z"
   },
   {
    "duration": 1841,
    "start_time": "2025-04-24T14:06:52.186Z"
   },
   {
    "duration": 37,
    "start_time": "2025-04-24T14:06:54.029Z"
   },
   {
    "duration": 108,
    "start_time": "2025-04-24T14:06:54.068Z"
   },
   {
    "duration": 11,
    "start_time": "2025-04-24T14:06:54.177Z"
   },
   {
    "duration": 5,
    "start_time": "2025-04-24T14:06:54.190Z"
   },
   {
    "duration": 6,
    "start_time": "2025-04-24T14:06:54.196Z"
   },
   {
    "duration": 8,
    "start_time": "2025-04-24T14:06:54.204Z"
   },
   {
    "duration": 28,
    "start_time": "2025-04-24T14:06:54.213Z"
   },
   {
    "duration": 19,
    "start_time": "2025-04-24T14:06:54.244Z"
   },
   {
    "duration": 13,
    "start_time": "2025-04-24T14:06:54.264Z"
   },
   {
    "duration": 42,
    "start_time": "2025-04-24T14:06:54.278Z"
   },
   {
    "duration": 17,
    "start_time": "2025-04-24T14:06:54.322Z"
   },
   {
    "duration": 18,
    "start_time": "2025-04-24T14:06:54.341Z"
   },
   {
    "duration": 9,
    "start_time": "2025-04-24T14:06:54.360Z"
   },
   {
    "duration": 36,
    "start_time": "2025-04-24T14:06:54.370Z"
   },
   {
    "duration": 161,
    "start_time": "2025-04-24T14:06:54.407Z"
   },
   {
    "duration": 84,
    "start_time": "2025-04-24T14:06:54.569Z"
   },
   {
    "duration": 20,
    "start_time": "2025-04-24T14:06:54.655Z"
   },
   {
    "duration": 21,
    "start_time": "2025-04-24T14:06:54.677Z"
   },
   {
    "duration": 14,
    "start_time": "2025-04-24T14:06:54.699Z"
   },
   {
    "duration": 155,
    "start_time": "2025-04-24T14:06:54.715Z"
   },
   {
    "duration": 10,
    "start_time": "2025-04-24T14:06:54.871Z"
   },
   {
    "duration": 85,
    "start_time": "2025-04-24T14:06:54.882Z"
   },
   {
    "duration": 20,
    "start_time": "2025-04-24T14:06:54.968Z"
   },
   {
    "duration": 52,
    "start_time": "2025-04-24T14:06:54.989Z"
   },
   {
    "duration": 17,
    "start_time": "2025-04-24T14:06:55.043Z"
   },
   {
    "duration": 41,
    "start_time": "2025-04-24T14:06:55.063Z"
   },
   {
    "duration": 188,
    "start_time": "2025-04-24T14:06:55.106Z"
   },
   {
    "duration": 154,
    "start_time": "2025-04-24T14:06:55.295Z"
   },
   {
    "duration": 11,
    "start_time": "2025-04-24T14:06:55.450Z"
   },
   {
    "duration": 83,
    "start_time": "2025-04-24T14:06:55.462Z"
   },
   {
    "duration": 8,
    "start_time": "2025-04-24T14:06:55.546Z"
   },
   {
    "duration": 82,
    "start_time": "2025-04-24T14:06:55.555Z"
   },
   {
    "duration": 19,
    "start_time": "2025-04-24T14:06:55.638Z"
   },
   {
    "duration": 147,
    "start_time": "2025-04-24T14:06:55.659Z"
   },
   {
    "duration": 105,
    "start_time": "2025-04-24T14:06:55.808Z"
   },
   {
    "duration": 26,
    "start_time": "2025-04-24T14:06:55.914Z"
   },
   {
    "duration": 24,
    "start_time": "2025-04-24T14:06:55.942Z"
   },
   {
    "duration": 6,
    "start_time": "2025-04-24T14:06:55.968Z"
   },
   {
    "duration": 69,
    "start_time": "2025-04-24T14:06:55.975Z"
   },
   {
    "duration": 16,
    "start_time": "2025-04-24T14:06:56.046Z"
   },
   {
    "duration": 25,
    "start_time": "2025-04-24T14:06:56.064Z"
   },
   {
    "duration": 8,
    "start_time": "2025-04-24T14:06:56.091Z"
   },
   {
    "duration": 6,
    "start_time": "2025-04-24T14:06:56.100Z"
   },
   {
    "duration": 38,
    "start_time": "2025-04-24T14:06:56.108Z"
   },
   {
    "duration": 10,
    "start_time": "2025-04-24T14:06:56.147Z"
   },
   {
    "duration": 62,
    "start_time": "2025-04-24T14:06:56.159Z"
   },
   {
    "duration": 12,
    "start_time": "2025-04-24T14:09:09.057Z"
   },
   {
    "duration": 28,
    "start_time": "2025-04-24T15:14:19.739Z"
   },
   {
    "duration": 9,
    "start_time": "2025-04-24T15:15:52.960Z"
   },
   {
    "duration": 14,
    "start_time": "2025-04-24T15:16:00.951Z"
   },
   {
    "duration": 3793,
    "start_time": "2025-04-24T15:18:17.723Z"
   },
   {
    "duration": 2348,
    "start_time": "2025-04-24T15:18:21.518Z"
   },
   {
    "duration": 91,
    "start_time": "2025-04-24T15:18:23.867Z"
   },
   {
    "duration": 107,
    "start_time": "2025-04-24T15:18:23.960Z"
   },
   {
    "duration": 10,
    "start_time": "2025-04-24T15:18:24.069Z"
   },
   {
    "duration": 6,
    "start_time": "2025-04-24T15:18:24.080Z"
   },
   {
    "duration": 12,
    "start_time": "2025-04-24T15:18:24.088Z"
   },
   {
    "duration": 8,
    "start_time": "2025-04-24T15:18:24.102Z"
   },
   {
    "duration": 26,
    "start_time": "2025-04-24T15:18:24.111Z"
   },
   {
    "duration": 12,
    "start_time": "2025-04-24T15:18:24.140Z"
   },
   {
    "duration": 13,
    "start_time": "2025-04-24T15:18:24.154Z"
   },
   {
    "duration": 46,
    "start_time": "2025-04-24T15:18:24.169Z"
   },
   {
    "duration": 24,
    "start_time": "2025-04-24T15:18:24.217Z"
   },
   {
    "duration": 32,
    "start_time": "2025-04-24T15:18:24.242Z"
   },
   {
    "duration": 20,
    "start_time": "2025-04-24T15:18:24.275Z"
   },
   {
    "duration": 27,
    "start_time": "2025-04-24T15:18:24.297Z"
   },
   {
    "duration": 145,
    "start_time": "2025-04-24T15:18:24.326Z"
   },
   {
    "duration": 80,
    "start_time": "2025-04-24T15:18:24.473Z"
   },
   {
    "duration": 20,
    "start_time": "2025-04-24T15:18:24.555Z"
   },
   {
    "duration": 19,
    "start_time": "2025-04-24T15:18:24.576Z"
   },
   {
    "duration": 15,
    "start_time": "2025-04-24T15:18:24.597Z"
   },
   {
    "duration": 161,
    "start_time": "2025-04-24T15:18:24.613Z"
   },
   {
    "duration": 9,
    "start_time": "2025-04-24T15:18:24.775Z"
   },
   {
    "duration": 84,
    "start_time": "2025-04-24T15:18:24.785Z"
   },
   {
    "duration": 19,
    "start_time": "2025-04-24T15:18:24.871Z"
   },
   {
    "duration": 55,
    "start_time": "2025-04-24T15:18:24.891Z"
   },
   {
    "duration": 18,
    "start_time": "2025-04-24T15:18:24.948Z"
   },
   {
    "duration": 27,
    "start_time": "2025-04-24T15:18:24.970Z"
   },
   {
    "duration": 208,
    "start_time": "2025-04-24T15:18:24.999Z"
   },
   {
    "duration": 155,
    "start_time": "2025-04-24T15:18:25.209Z"
   },
   {
    "duration": 12,
    "start_time": "2025-04-24T15:18:25.366Z"
   },
   {
    "duration": 88,
    "start_time": "2025-04-24T15:18:25.379Z"
   },
   {
    "duration": 8,
    "start_time": "2025-04-24T15:18:25.468Z"
   },
   {
    "duration": 66,
    "start_time": "2025-04-24T15:18:25.477Z"
   },
   {
    "duration": 37,
    "start_time": "2025-04-24T15:18:25.545Z"
   },
   {
    "duration": 148,
    "start_time": "2025-04-24T15:18:25.583Z"
   },
   {
    "duration": 99,
    "start_time": "2025-04-24T15:18:25.732Z"
   },
   {
    "duration": 20,
    "start_time": "2025-04-24T15:18:25.832Z"
   },
   {
    "duration": 49,
    "start_time": "2025-04-24T15:18:25.853Z"
   },
   {
    "duration": 3,
    "start_time": "2025-04-24T15:18:25.904Z"
   },
   {
    "duration": 77,
    "start_time": "2025-04-24T15:18:25.908Z"
   },
   {
    "duration": 16,
    "start_time": "2025-04-24T15:18:25.986Z"
   },
   {
    "duration": 37,
    "start_time": "2025-04-24T15:18:26.004Z"
   },
   {
    "duration": 8,
    "start_time": "2025-04-24T15:18:26.043Z"
   },
   {
    "duration": 20,
    "start_time": "2025-04-24T15:18:26.053Z"
   },
   {
    "duration": 17,
    "start_time": "2025-04-24T15:18:26.074Z"
   },
   {
    "duration": 22,
    "start_time": "2025-04-24T15:18:26.092Z"
   },
   {
    "duration": 44,
    "start_time": "2025-04-24T15:18:26.116Z"
   },
   {
    "duration": 9,
    "start_time": "2025-04-24T15:18:26.162Z"
   },
   {
    "duration": 48,
    "start_time": "2025-04-24T15:19:03.088Z"
   },
   {
    "duration": 3685,
    "start_time": "2025-04-24T15:19:12.119Z"
   },
   {
    "duration": 2108,
    "start_time": "2025-04-24T15:19:15.806Z"
   },
   {
    "duration": 47,
    "start_time": "2025-04-24T15:19:17.916Z"
   },
   {
    "duration": 109,
    "start_time": "2025-04-24T15:19:17.965Z"
   },
   {
    "duration": 10,
    "start_time": "2025-04-24T15:19:18.076Z"
   },
   {
    "duration": 4,
    "start_time": "2025-04-24T15:19:18.088Z"
   },
   {
    "duration": 5,
    "start_time": "2025-04-24T15:19:18.093Z"
   },
   {
    "duration": 6,
    "start_time": "2025-04-24T15:19:18.099Z"
   },
   {
    "duration": 34,
    "start_time": "2025-04-24T15:19:18.106Z"
   },
   {
    "duration": 11,
    "start_time": "2025-04-24T15:19:18.143Z"
   },
   {
    "duration": 10,
    "start_time": "2025-04-24T15:19:18.156Z"
   },
   {
    "duration": 46,
    "start_time": "2025-04-24T15:19:18.168Z"
   },
   {
    "duration": 25,
    "start_time": "2025-04-24T15:19:18.216Z"
   },
   {
    "duration": 20,
    "start_time": "2025-04-24T15:19:18.243Z"
   },
   {
    "duration": 9,
    "start_time": "2025-04-24T15:19:18.264Z"
   },
   {
    "duration": 24,
    "start_time": "2025-04-24T15:19:18.275Z"
   },
   {
    "duration": 173,
    "start_time": "2025-04-24T15:19:18.301Z"
   },
   {
    "duration": 84,
    "start_time": "2025-04-24T15:19:18.476Z"
   },
   {
    "duration": 21,
    "start_time": "2025-04-24T15:19:18.562Z"
   },
   {
    "duration": 15,
    "start_time": "2025-04-24T15:19:18.585Z"
   },
   {
    "duration": 15,
    "start_time": "2025-04-24T15:19:18.602Z"
   },
   {
    "duration": 162,
    "start_time": "2025-04-24T15:19:18.618Z"
   },
   {
    "duration": 9,
    "start_time": "2025-04-24T15:19:18.782Z"
   },
   {
    "duration": 86,
    "start_time": "2025-04-24T15:19:18.793Z"
   },
   {
    "duration": 18,
    "start_time": "2025-04-24T15:19:18.881Z"
   },
   {
    "duration": 51,
    "start_time": "2025-04-24T15:19:18.901Z"
   },
   {
    "duration": 18,
    "start_time": "2025-04-24T15:19:18.953Z"
   },
   {
    "duration": 27,
    "start_time": "2025-04-24T15:19:18.976Z"
   },
   {
    "duration": 201,
    "start_time": "2025-04-24T15:19:19.004Z"
   },
   {
    "duration": 154,
    "start_time": "2025-04-24T15:19:19.206Z"
   },
   {
    "duration": 12,
    "start_time": "2025-04-24T15:19:19.362Z"
   },
   {
    "duration": 85,
    "start_time": "2025-04-24T15:19:19.375Z"
   },
   {
    "duration": 8,
    "start_time": "2025-04-24T15:19:19.461Z"
   },
   {
    "duration": 52,
    "start_time": "2025-04-24T15:19:19.471Z"
   },
   {
    "duration": 31,
    "start_time": "2025-04-24T15:19:19.524Z"
   },
   {
    "duration": 154,
    "start_time": "2025-04-24T15:19:19.557Z"
   },
   {
    "duration": 112,
    "start_time": "2025-04-24T15:19:19.713Z"
   },
   {
    "duration": 28,
    "start_time": "2025-04-24T15:19:19.827Z"
   },
   {
    "duration": 25,
    "start_time": "2025-04-24T15:19:19.857Z"
   },
   {
    "duration": 3,
    "start_time": "2025-04-24T15:19:19.883Z"
   },
   {
    "duration": 70,
    "start_time": "2025-04-24T15:19:19.888Z"
   },
   {
    "duration": 16,
    "start_time": "2025-04-24T15:19:19.960Z"
   },
   {
    "duration": 28,
    "start_time": "2025-04-24T15:19:19.977Z"
   },
   {
    "duration": 8,
    "start_time": "2025-04-24T15:19:20.007Z"
   },
   {
    "duration": 23,
    "start_time": "2025-04-24T15:19:20.017Z"
   },
   {
    "duration": 18,
    "start_time": "2025-04-24T15:19:20.042Z"
   },
   {
    "duration": 11,
    "start_time": "2025-04-24T15:19:20.061Z"
   },
   {
    "duration": 30,
    "start_time": "2025-04-24T15:19:20.074Z"
   },
   {
    "duration": 40,
    "start_time": "2025-04-24T15:19:20.106Z"
   },
   {
    "duration": 48,
    "start_time": "2025-04-24T15:19:29.884Z"
   },
   {
    "duration": 4317,
    "start_time": "2025-04-24T15:20:10.469Z"
   },
   {
    "duration": 1881,
    "start_time": "2025-04-24T15:20:14.789Z"
   },
   {
    "duration": 35,
    "start_time": "2025-04-24T15:20:16.672Z"
   },
   {
    "duration": 105,
    "start_time": "2025-04-24T15:20:16.709Z"
   },
   {
    "duration": 10,
    "start_time": "2025-04-24T15:20:16.815Z"
   },
   {
    "duration": 35,
    "start_time": "2025-04-24T15:20:16.827Z"
   },
   {
    "duration": 31,
    "start_time": "2025-04-24T15:20:16.863Z"
   },
   {
    "duration": 16,
    "start_time": "2025-04-24T15:20:16.895Z"
   },
   {
    "duration": 26,
    "start_time": "2025-04-24T15:20:16.913Z"
   },
   {
    "duration": 10,
    "start_time": "2025-04-24T15:20:16.941Z"
   },
   {
    "duration": 10,
    "start_time": "2025-04-24T15:20:16.953Z"
   },
   {
    "duration": 42,
    "start_time": "2025-04-24T15:20:16.964Z"
   },
   {
    "duration": 8,
    "start_time": "2025-04-24T15:20:17.008Z"
   },
   {
    "duration": 35,
    "start_time": "2025-04-24T15:20:17.018Z"
   },
   {
    "duration": 8,
    "start_time": "2025-04-24T15:20:17.055Z"
   },
   {
    "duration": 26,
    "start_time": "2025-04-24T15:20:17.065Z"
   },
   {
    "duration": 166,
    "start_time": "2025-04-24T15:20:17.092Z"
   },
   {
    "duration": 86,
    "start_time": "2025-04-24T15:20:17.260Z"
   },
   {
    "duration": 20,
    "start_time": "2025-04-24T15:20:17.347Z"
   },
   {
    "duration": 10,
    "start_time": "2025-04-24T15:20:17.368Z"
   },
   {
    "duration": 14,
    "start_time": "2025-04-24T15:20:17.379Z"
   },
   {
    "duration": 170,
    "start_time": "2025-04-24T15:20:17.395Z"
   },
   {
    "duration": 8,
    "start_time": "2025-04-24T15:20:17.567Z"
   },
   {
    "duration": 105,
    "start_time": "2025-04-24T15:20:17.577Z"
   },
   {
    "duration": 17,
    "start_time": "2025-04-24T15:20:17.684Z"
   },
   {
    "duration": 53,
    "start_time": "2025-04-24T15:20:17.702Z"
   },
   {
    "duration": 17,
    "start_time": "2025-04-24T15:20:17.756Z"
   },
   {
    "duration": 30,
    "start_time": "2025-04-24T15:20:17.776Z"
   },
   {
    "duration": 208,
    "start_time": "2025-04-24T15:20:17.807Z"
   },
   {
    "duration": 163,
    "start_time": "2025-04-24T15:20:18.017Z"
   },
   {
    "duration": 13,
    "start_time": "2025-04-24T15:20:18.181Z"
   },
   {
    "duration": 85,
    "start_time": "2025-04-24T15:20:18.195Z"
   },
   {
    "duration": 7,
    "start_time": "2025-04-24T15:20:18.282Z"
   },
   {
    "duration": 64,
    "start_time": "2025-04-24T15:20:18.290Z"
   },
   {
    "duration": 20,
    "start_time": "2025-04-24T15:20:18.356Z"
   },
   {
    "duration": 151,
    "start_time": "2025-04-24T15:20:18.377Z"
   },
   {
    "duration": 100,
    "start_time": "2025-04-24T15:20:18.529Z"
   },
   {
    "duration": 21,
    "start_time": "2025-04-24T15:20:18.631Z"
   },
   {
    "duration": 26,
    "start_time": "2025-04-24T15:20:18.654Z"
   },
   {
    "duration": 3,
    "start_time": "2025-04-24T15:20:18.682Z"
   },
   {
    "duration": 74,
    "start_time": "2025-04-24T15:20:18.687Z"
   },
   {
    "duration": 16,
    "start_time": "2025-04-24T15:20:18.763Z"
   },
   {
    "duration": 25,
    "start_time": "2025-04-24T15:20:18.781Z"
   },
   {
    "duration": 8,
    "start_time": "2025-04-24T15:20:18.807Z"
   },
   {
    "duration": 29,
    "start_time": "2025-04-24T15:20:18.816Z"
   },
   {
    "duration": 13,
    "start_time": "2025-04-24T15:20:18.846Z"
   },
   {
    "duration": 10,
    "start_time": "2025-04-24T15:20:18.861Z"
   },
   {
    "duration": 29,
    "start_time": "2025-04-24T15:20:18.872Z"
   },
   {
    "duration": 39,
    "start_time": "2025-04-24T15:20:18.902Z"
   },
   {
    "duration": 47,
    "start_time": "2025-04-24T15:20:52.802Z"
   },
   {
    "duration": 3656,
    "start_time": "2025-04-24T15:20:58.172Z"
   },
   {
    "duration": 1677,
    "start_time": "2025-04-24T15:21:01.831Z"
   },
   {
    "duration": 41,
    "start_time": "2025-04-24T15:21:03.510Z"
   },
   {
    "duration": 104,
    "start_time": "2025-04-24T15:21:03.553Z"
   },
   {
    "duration": 10,
    "start_time": "2025-04-24T15:21:03.659Z"
   },
   {
    "duration": 8,
    "start_time": "2025-04-24T15:21:03.671Z"
   },
   {
    "duration": 11,
    "start_time": "2025-04-24T15:21:03.680Z"
   },
   {
    "duration": 22,
    "start_time": "2025-04-24T15:21:03.692Z"
   },
   {
    "duration": 22,
    "start_time": "2025-04-24T15:21:03.715Z"
   },
   {
    "duration": 10,
    "start_time": "2025-04-24T15:21:03.739Z"
   },
   {
    "duration": 16,
    "start_time": "2025-04-24T15:21:03.751Z"
   },
   {
    "duration": 38,
    "start_time": "2025-04-24T15:21:03.769Z"
   },
   {
    "duration": 8,
    "start_time": "2025-04-24T15:21:03.809Z"
   },
   {
    "duration": 36,
    "start_time": "2025-04-24T15:21:03.818Z"
   },
   {
    "duration": 9,
    "start_time": "2025-04-24T15:21:03.856Z"
   },
   {
    "duration": 24,
    "start_time": "2025-04-24T15:21:03.866Z"
   },
   {
    "duration": 170,
    "start_time": "2025-04-24T15:21:03.891Z"
   },
   {
    "duration": 83,
    "start_time": "2025-04-24T15:21:04.063Z"
   },
   {
    "duration": 20,
    "start_time": "2025-04-24T15:21:04.148Z"
   },
   {
    "duration": 22,
    "start_time": "2025-04-24T15:21:04.169Z"
   },
   {
    "duration": 31,
    "start_time": "2025-04-24T15:21:04.192Z"
   },
   {
    "duration": 151,
    "start_time": "2025-04-24T15:21:04.224Z"
   },
   {
    "duration": 8,
    "start_time": "2025-04-24T15:21:04.377Z"
   },
   {
    "duration": 94,
    "start_time": "2025-04-24T15:21:04.386Z"
   },
   {
    "duration": 18,
    "start_time": "2025-04-24T15:21:04.481Z"
   },
   {
    "duration": 45,
    "start_time": "2025-04-24T15:21:04.501Z"
   },
   {
    "duration": 16,
    "start_time": "2025-04-24T15:21:04.548Z"
   },
   {
    "duration": 26,
    "start_time": "2025-04-24T15:21:04.568Z"
   },
   {
    "duration": 197,
    "start_time": "2025-04-24T15:21:04.596Z"
   },
   {
    "duration": 150,
    "start_time": "2025-04-24T15:21:04.795Z"
   },
   {
    "duration": 12,
    "start_time": "2025-04-24T15:21:04.947Z"
   },
   {
    "duration": 85,
    "start_time": "2025-04-24T15:21:04.961Z"
   },
   {
    "duration": 8,
    "start_time": "2025-04-24T15:21:05.048Z"
   },
   {
    "duration": 53,
    "start_time": "2025-04-24T15:21:05.058Z"
   },
   {
    "duration": 35,
    "start_time": "2025-04-24T15:21:05.113Z"
   },
   {
    "duration": 164,
    "start_time": "2025-04-24T15:21:05.149Z"
   },
   {
    "duration": 100,
    "start_time": "2025-04-24T15:21:05.315Z"
   },
   {
    "duration": 23,
    "start_time": "2025-04-24T15:21:05.417Z"
   },
   {
    "duration": 45,
    "start_time": "2025-04-24T15:21:05.442Z"
   },
   {
    "duration": 9,
    "start_time": "2025-04-24T15:21:05.489Z"
   },
   {
    "duration": 121,
    "start_time": "2025-04-24T15:21:05.499Z"
   },
   {
    "duration": 16,
    "start_time": "2025-04-24T15:21:05.622Z"
   },
   {
    "duration": 53,
    "start_time": "2025-04-24T15:21:05.639Z"
   },
   {
    "duration": 8,
    "start_time": "2025-04-24T15:21:05.693Z"
   },
   {
    "duration": 51,
    "start_time": "2025-04-24T15:21:05.702Z"
   },
   {
    "duration": 20,
    "start_time": "2025-04-24T15:21:05.755Z"
   },
   {
    "duration": 10,
    "start_time": "2025-04-24T15:21:05.777Z"
   },
   {
    "duration": 67,
    "start_time": "2025-04-24T15:21:05.789Z"
   },
   {
    "duration": 11,
    "start_time": "2025-04-24T15:21:05.858Z"
   },
   {
    "duration": 3568,
    "start_time": "2025-04-24T15:21:49.992Z"
   },
   {
    "duration": 2425,
    "start_time": "2025-04-24T15:21:53.563Z"
   },
   {
    "duration": 35,
    "start_time": "2025-04-24T15:21:55.990Z"
   },
   {
    "duration": 111,
    "start_time": "2025-04-24T15:21:56.028Z"
   },
   {
    "duration": 11,
    "start_time": "2025-04-24T15:21:56.141Z"
   },
   {
    "duration": 9,
    "start_time": "2025-04-24T15:21:56.153Z"
   },
   {
    "duration": 26,
    "start_time": "2025-04-24T15:21:56.164Z"
   },
   {
    "duration": 31,
    "start_time": "2025-04-24T15:21:56.192Z"
   },
   {
    "duration": 17,
    "start_time": "2025-04-24T15:21:56.225Z"
   },
   {
    "duration": 39,
    "start_time": "2025-04-24T15:21:56.244Z"
   },
   {
    "duration": 50,
    "start_time": "2025-04-24T15:21:56.285Z"
   },
   {
    "duration": 49,
    "start_time": "2025-04-24T15:21:56.336Z"
   },
   {
    "duration": 8,
    "start_time": "2025-04-24T15:21:56.387Z"
   },
   {
    "duration": 45,
    "start_time": "2025-04-24T15:21:56.396Z"
   },
   {
    "duration": 21,
    "start_time": "2025-04-24T15:21:56.443Z"
   },
   {
    "duration": 53,
    "start_time": "2025-04-24T15:21:56.465Z"
   },
   {
    "duration": 154,
    "start_time": "2025-04-24T15:21:56.519Z"
   },
   {
    "duration": 83,
    "start_time": "2025-04-24T15:21:56.675Z"
   },
   {
    "duration": 20,
    "start_time": "2025-04-24T15:21:56.760Z"
   },
   {
    "duration": 36,
    "start_time": "2025-04-24T15:21:56.782Z"
   },
   {
    "duration": 32,
    "start_time": "2025-04-24T15:21:56.820Z"
   },
   {
    "duration": 150,
    "start_time": "2025-04-24T15:21:56.853Z"
   },
   {
    "duration": 8,
    "start_time": "2025-04-24T15:21:57.004Z"
   },
   {
    "duration": 85,
    "start_time": "2025-04-24T15:21:57.014Z"
   },
   {
    "duration": 17,
    "start_time": "2025-04-24T15:21:57.100Z"
   },
   {
    "duration": 51,
    "start_time": "2025-04-24T15:21:57.119Z"
   },
   {
    "duration": 46,
    "start_time": "2025-04-24T15:21:57.171Z"
   },
   {
    "duration": 27,
    "start_time": "2025-04-24T15:21:57.221Z"
   },
   {
    "duration": 175,
    "start_time": "2025-04-24T15:21:57.249Z"
   },
   {
    "duration": 159,
    "start_time": "2025-04-24T15:21:57.426Z"
   },
   {
    "duration": 18,
    "start_time": "2025-04-24T15:21:57.589Z"
   },
   {
    "duration": 110,
    "start_time": "2025-04-24T15:21:57.609Z"
   },
   {
    "duration": 8,
    "start_time": "2025-04-24T15:21:57.721Z"
   },
   {
    "duration": 64,
    "start_time": "2025-04-24T15:21:57.739Z"
   },
   {
    "duration": 32,
    "start_time": "2025-04-24T15:21:57.804Z"
   },
   {
    "duration": 168,
    "start_time": "2025-04-24T15:21:57.838Z"
   },
   {
    "duration": 101,
    "start_time": "2025-04-24T15:21:58.007Z"
   },
   {
    "duration": 16,
    "start_time": "2025-04-24T15:21:58.110Z"
   },
   {
    "duration": 39,
    "start_time": "2025-04-24T15:21:58.138Z"
   },
   {
    "duration": 10,
    "start_time": "2025-04-24T15:21:58.178Z"
   },
   {
    "duration": 71,
    "start_time": "2025-04-24T15:21:58.190Z"
   },
   {
    "duration": 15,
    "start_time": "2025-04-24T15:21:58.262Z"
   },
   {
    "duration": 57,
    "start_time": "2025-04-24T15:21:58.279Z"
   },
   {
    "duration": 33,
    "start_time": "2025-04-24T15:21:58.337Z"
   },
   {
    "duration": 18,
    "start_time": "2025-04-24T15:21:58.372Z"
   },
   {
    "duration": 22,
    "start_time": "2025-04-24T15:21:58.392Z"
   },
   {
    "duration": 39,
    "start_time": "2025-04-24T15:21:58.416Z"
   },
   {
    "duration": 45,
    "start_time": "2025-04-24T15:21:58.457Z"
   },
   {
    "duration": 15,
    "start_time": "2025-04-24T15:21:58.504Z"
   },
   {
    "duration": 3684,
    "start_time": "2025-04-24T15:22:17.727Z"
   },
   {
    "duration": 2387,
    "start_time": "2025-04-24T15:22:21.414Z"
   },
   {
    "duration": 43,
    "start_time": "2025-04-24T15:22:23.802Z"
   },
   {
    "duration": 105,
    "start_time": "2025-04-24T15:22:23.846Z"
   },
   {
    "duration": 12,
    "start_time": "2025-04-24T15:22:23.953Z"
   },
   {
    "duration": 26,
    "start_time": "2025-04-24T15:22:23.967Z"
   },
   {
    "duration": 14,
    "start_time": "2025-04-24T15:22:23.995Z"
   },
   {
    "duration": 22,
    "start_time": "2025-04-24T15:22:24.011Z"
   },
   {
    "duration": 18,
    "start_time": "2025-04-24T15:22:24.035Z"
   },
   {
    "duration": 27,
    "start_time": "2025-04-24T15:22:24.056Z"
   },
   {
    "duration": 45,
    "start_time": "2025-04-24T15:22:24.085Z"
   },
   {
    "duration": 58,
    "start_time": "2025-04-24T15:22:24.131Z"
   },
   {
    "duration": 9,
    "start_time": "2025-04-24T15:22:24.191Z"
   },
   {
    "duration": 46,
    "start_time": "2025-04-24T15:22:24.202Z"
   },
   {
    "duration": 23,
    "start_time": "2025-04-24T15:22:24.249Z"
   },
   {
    "duration": 37,
    "start_time": "2025-04-24T15:22:24.274Z"
   },
   {
    "duration": 175,
    "start_time": "2025-04-24T15:22:24.313Z"
   },
   {
    "duration": 86,
    "start_time": "2025-04-24T15:22:24.490Z"
   },
   {
    "duration": 22,
    "start_time": "2025-04-24T15:22:24.578Z"
   },
   {
    "duration": 21,
    "start_time": "2025-04-24T15:22:24.602Z"
   },
   {
    "duration": 21,
    "start_time": "2025-04-24T15:22:24.625Z"
   },
   {
    "duration": 158,
    "start_time": "2025-04-24T15:22:24.648Z"
   },
   {
    "duration": 9,
    "start_time": "2025-04-24T15:22:24.807Z"
   },
   {
    "duration": 93,
    "start_time": "2025-04-24T15:22:24.817Z"
   },
   {
    "duration": 19,
    "start_time": "2025-04-24T15:22:24.912Z"
   },
   {
    "duration": 55,
    "start_time": "2025-04-24T15:22:24.939Z"
   },
   {
    "duration": 65,
    "start_time": "2025-04-24T15:22:24.995Z"
   },
   {
    "duration": 90,
    "start_time": "2025-04-24T15:22:25.063Z"
   },
   {
    "duration": 184,
    "start_time": "2025-04-24T15:22:25.155Z"
   },
   {
    "duration": 162,
    "start_time": "2025-04-24T15:22:25.341Z"
   },
   {
    "duration": 12,
    "start_time": "2025-04-24T15:22:25.505Z"
   },
   {
    "duration": 122,
    "start_time": "2025-04-24T15:22:25.519Z"
   },
   {
    "duration": 8,
    "start_time": "2025-04-24T15:22:25.643Z"
   },
   {
    "duration": 63,
    "start_time": "2025-04-24T15:22:25.653Z"
   },
   {
    "duration": 26,
    "start_time": "2025-04-24T15:22:25.718Z"
   },
   {
    "duration": 157,
    "start_time": "2025-04-24T15:22:25.745Z"
   },
   {
    "duration": 99,
    "start_time": "2025-04-24T15:22:25.904Z"
   },
   {
    "duration": 18,
    "start_time": "2025-04-24T15:22:26.005Z"
   },
   {
    "duration": 38,
    "start_time": "2025-04-24T15:22:26.024Z"
   },
   {
    "duration": 7,
    "start_time": "2025-04-24T15:22:26.064Z"
   },
   {
    "duration": 71,
    "start_time": "2025-04-24T15:22:26.072Z"
   },
   {
    "duration": 17,
    "start_time": "2025-04-24T15:22:26.145Z"
   },
   {
    "duration": 32,
    "start_time": "2025-04-24T15:22:26.163Z"
   },
   {
    "duration": 8,
    "start_time": "2025-04-24T15:22:26.197Z"
   },
   {
    "duration": 13,
    "start_time": "2025-04-24T15:22:26.207Z"
   },
   {
    "duration": 41,
    "start_time": "2025-04-24T15:22:26.221Z"
   },
   {
    "duration": 13,
    "start_time": "2025-04-24T15:22:26.264Z"
   },
   {
    "duration": 29,
    "start_time": "2025-04-24T15:22:26.278Z"
   },
   {
    "duration": 11,
    "start_time": "2025-04-24T15:22:26.308Z"
   },
   {
    "duration": 48,
    "start_time": "2025-04-24T15:24:52.744Z"
   },
   {
    "duration": 3738,
    "start_time": "2025-04-24T15:24:58.124Z"
   },
   {
    "duration": 1808,
    "start_time": "2025-04-24T15:25:01.864Z"
   },
   {
    "duration": 37,
    "start_time": "2025-04-24T15:25:03.674Z"
   },
   {
    "duration": 113,
    "start_time": "2025-04-24T15:25:03.713Z"
   },
   {
    "duration": 14,
    "start_time": "2025-04-24T15:25:03.828Z"
   },
   {
    "duration": 19,
    "start_time": "2025-04-24T15:25:03.844Z"
   },
   {
    "duration": 5,
    "start_time": "2025-04-24T15:25:03.865Z"
   },
   {
    "duration": 19,
    "start_time": "2025-04-24T15:25:03.871Z"
   },
   {
    "duration": 60,
    "start_time": "2025-04-24T15:25:03.891Z"
   },
   {
    "duration": 45,
    "start_time": "2025-04-24T15:25:03.954Z"
   },
   {
    "duration": 54,
    "start_time": "2025-04-24T15:25:04.000Z"
   },
   {
    "duration": 43,
    "start_time": "2025-04-24T15:25:04.056Z"
   },
   {
    "duration": 7,
    "start_time": "2025-04-24T15:25:04.101Z"
   },
   {
    "duration": 72,
    "start_time": "2025-04-24T15:25:04.110Z"
   },
   {
    "duration": 17,
    "start_time": "2025-04-24T15:25:04.184Z"
   },
   {
    "duration": 60,
    "start_time": "2025-04-24T15:25:04.203Z"
   },
   {
    "duration": 150,
    "start_time": "2025-04-24T15:25:04.265Z"
   },
   {
    "duration": 77,
    "start_time": "2025-04-24T15:25:04.416Z"
   },
   {
    "duration": 20,
    "start_time": "2025-04-24T15:25:04.495Z"
   },
   {
    "duration": 74,
    "start_time": "2025-04-24T15:25:04.516Z"
   },
   {
    "duration": 42,
    "start_time": "2025-04-24T15:25:04.592Z"
   },
   {
    "duration": 139,
    "start_time": "2025-04-24T15:25:04.635Z"
   },
   {
    "duration": 9,
    "start_time": "2025-04-24T15:25:04.776Z"
   },
   {
    "duration": 86,
    "start_time": "2025-04-24T15:25:04.787Z"
   },
   {
    "duration": 20,
    "start_time": "2025-04-24T15:25:04.875Z"
   },
   {
    "duration": 54,
    "start_time": "2025-04-24T15:25:04.896Z"
   },
   {
    "duration": 19,
    "start_time": "2025-04-24T15:25:04.952Z"
   },
   {
    "duration": 30,
    "start_time": "2025-04-24T15:25:04.974Z"
   },
   {
    "duration": 208,
    "start_time": "2025-04-24T15:25:05.005Z"
   },
   {
    "duration": 169,
    "start_time": "2025-04-24T15:25:05.215Z"
   },
   {
    "duration": 11,
    "start_time": "2025-04-24T15:25:05.386Z"
   },
   {
    "duration": 93,
    "start_time": "2025-04-24T15:25:05.398Z"
   },
   {
    "duration": 8,
    "start_time": "2025-04-24T15:25:05.492Z"
   },
   {
    "duration": 86,
    "start_time": "2025-04-24T15:25:05.501Z"
   },
   {
    "duration": 55,
    "start_time": "2025-04-24T15:25:05.588Z"
   },
   {
    "duration": 163,
    "start_time": "2025-04-24T15:25:05.644Z"
   },
   {
    "duration": 106,
    "start_time": "2025-04-24T15:25:05.809Z"
   },
   {
    "duration": 16,
    "start_time": "2025-04-24T15:25:05.916Z"
   },
   {
    "duration": 89,
    "start_time": "2025-04-24T15:25:05.939Z"
   },
   {
    "duration": 30,
    "start_time": "2025-04-24T15:25:06.030Z"
   },
   {
    "duration": 72,
    "start_time": "2025-04-24T15:25:06.061Z"
   },
   {
    "duration": 16,
    "start_time": "2025-04-24T15:25:06.135Z"
   },
   {
    "duration": 88,
    "start_time": "2025-04-24T15:25:06.153Z"
   },
   {
    "duration": 8,
    "start_time": "2025-04-24T15:25:06.243Z"
   },
   {
    "duration": 8,
    "start_time": "2025-04-24T15:25:06.253Z"
   },
   {
    "duration": 32,
    "start_time": "2025-04-24T15:25:06.263Z"
   },
   {
    "duration": 41,
    "start_time": "2025-04-24T15:25:06.297Z"
   },
   {
    "duration": 45,
    "start_time": "2025-04-24T15:25:06.339Z"
   },
   {
    "duration": 41,
    "start_time": "2025-04-24T15:25:06.385Z"
   },
   {
    "duration": 47,
    "start_time": "2025-04-24T15:25:59.471Z"
   },
   {
    "duration": 3645,
    "start_time": "2025-04-24T15:26:03.988Z"
   },
   {
    "duration": 1736,
    "start_time": "2025-04-24T15:26:07.637Z"
   },
   {
    "duration": 39,
    "start_time": "2025-04-24T15:26:09.375Z"
   },
   {
    "duration": 107,
    "start_time": "2025-04-24T15:26:09.417Z"
   },
   {
    "duration": 19,
    "start_time": "2025-04-24T15:26:09.525Z"
   },
   {
    "duration": 16,
    "start_time": "2025-04-24T15:26:09.545Z"
   },
   {
    "duration": 14,
    "start_time": "2025-04-24T15:26:09.562Z"
   },
   {
    "duration": 15,
    "start_time": "2025-04-24T15:26:09.577Z"
   },
   {
    "duration": 9,
    "start_time": "2025-04-24T15:26:09.594Z"
   },
   {
    "duration": 11,
    "start_time": "2025-04-24T15:26:09.606Z"
   },
   {
    "duration": 12,
    "start_time": "2025-04-24T15:26:09.619Z"
   },
   {
    "duration": 42,
    "start_time": "2025-04-24T15:26:09.632Z"
   },
   {
    "duration": 8,
    "start_time": "2025-04-24T15:26:09.676Z"
   },
   {
    "duration": 21,
    "start_time": "2025-04-24T15:26:09.686Z"
   },
   {
    "duration": 30,
    "start_time": "2025-04-24T15:26:09.709Z"
   },
   {
    "duration": 24,
    "start_time": "2025-04-24T15:26:09.740Z"
   },
   {
    "duration": 159,
    "start_time": "2025-04-24T15:26:09.766Z"
   },
   {
    "duration": 79,
    "start_time": "2025-04-24T15:26:09.927Z"
   },
   {
    "duration": 31,
    "start_time": "2025-04-24T15:26:10.008Z"
   },
   {
    "duration": 10,
    "start_time": "2025-04-24T15:26:10.041Z"
   },
   {
    "duration": 15,
    "start_time": "2025-04-24T15:26:10.054Z"
   },
   {
    "duration": 168,
    "start_time": "2025-04-24T15:26:10.071Z"
   },
   {
    "duration": 9,
    "start_time": "2025-04-24T15:26:10.241Z"
   },
   {
    "duration": 87,
    "start_time": "2025-04-24T15:26:10.252Z"
   },
   {
    "duration": 18,
    "start_time": "2025-04-24T15:26:10.342Z"
   },
   {
    "duration": 36,
    "start_time": "2025-04-24T15:26:10.362Z"
   },
   {
    "duration": 43,
    "start_time": "2025-04-24T15:26:10.400Z"
   },
   {
    "duration": 27,
    "start_time": "2025-04-24T15:26:10.447Z"
   },
   {
    "duration": 194,
    "start_time": "2025-04-24T15:26:10.476Z"
   },
   {
    "duration": 153,
    "start_time": "2025-04-24T15:26:10.672Z"
   },
   {
    "duration": 13,
    "start_time": "2025-04-24T15:26:10.827Z"
   },
   {
    "duration": 82,
    "start_time": "2025-04-24T15:26:10.841Z"
   },
   {
    "duration": 16,
    "start_time": "2025-04-24T15:26:10.924Z"
   },
   {
    "duration": 81,
    "start_time": "2025-04-24T15:26:10.941Z"
   },
   {
    "duration": 19,
    "start_time": "2025-04-24T15:26:11.024Z"
   },
   {
    "duration": 158,
    "start_time": "2025-04-24T15:26:11.045Z"
   },
   {
    "duration": 103,
    "start_time": "2025-04-24T15:26:11.205Z"
   },
   {
    "duration": 30,
    "start_time": "2025-04-24T15:26:11.310Z"
   },
   {
    "duration": 26,
    "start_time": "2025-04-24T15:26:11.342Z"
   },
   {
    "duration": 12,
    "start_time": "2025-04-24T15:26:11.370Z"
   },
   {
    "duration": 69,
    "start_time": "2025-04-24T15:26:11.384Z"
   },
   {
    "duration": 16,
    "start_time": "2025-04-24T15:26:11.454Z"
   },
   {
    "duration": 24,
    "start_time": "2025-04-24T15:26:11.471Z"
   },
   {
    "duration": 8,
    "start_time": "2025-04-24T15:26:11.496Z"
   },
   {
    "duration": 5,
    "start_time": "2025-04-24T15:26:11.506Z"
   },
   {
    "duration": 39,
    "start_time": "2025-04-24T15:26:11.513Z"
   },
   {
    "duration": 11,
    "start_time": "2025-04-24T15:26:11.553Z"
   },
   {
    "duration": 30,
    "start_time": "2025-04-24T15:26:11.566Z"
   },
   {
    "duration": 9,
    "start_time": "2025-04-24T15:26:11.598Z"
   },
   {
    "duration": 47,
    "start_time": "2025-04-24T15:27:40.219Z"
   },
   {
    "duration": 3718,
    "start_time": "2025-04-24T15:27:44.233Z"
   },
   {
    "duration": 2083,
    "start_time": "2025-04-24T15:27:47.954Z"
   },
   {
    "duration": 40,
    "start_time": "2025-04-24T15:27:50.039Z"
   },
   {
    "duration": 109,
    "start_time": "2025-04-24T15:27:50.080Z"
   },
   {
    "duration": 11,
    "start_time": "2025-04-24T15:27:50.191Z"
   },
   {
    "duration": 14,
    "start_time": "2025-04-24T15:27:50.204Z"
   },
   {
    "duration": 15,
    "start_time": "2025-04-24T15:27:50.220Z"
   },
   {
    "duration": 10,
    "start_time": "2025-04-24T15:27:50.237Z"
   },
   {
    "duration": 23,
    "start_time": "2025-04-24T15:27:50.248Z"
   },
   {
    "duration": 22,
    "start_time": "2025-04-24T15:27:50.274Z"
   },
   {
    "duration": 45,
    "start_time": "2025-04-24T15:27:50.298Z"
   },
   {
    "duration": 42,
    "start_time": "2025-04-24T15:27:50.345Z"
   },
   {
    "duration": 9,
    "start_time": "2025-04-24T15:27:50.388Z"
   },
   {
    "duration": 22,
    "start_time": "2025-04-24T15:27:50.398Z"
   },
   {
    "duration": 26,
    "start_time": "2025-04-24T15:27:50.422Z"
   },
   {
    "duration": 44,
    "start_time": "2025-04-24T15:27:50.449Z"
   },
   {
    "duration": 159,
    "start_time": "2025-04-24T15:27:50.495Z"
   },
   {
    "duration": 87,
    "start_time": "2025-04-24T15:27:50.656Z"
   },
   {
    "duration": 21,
    "start_time": "2025-04-24T15:27:50.745Z"
   },
   {
    "duration": 47,
    "start_time": "2025-04-24T15:27:50.768Z"
   },
   {
    "duration": 40,
    "start_time": "2025-04-24T15:27:50.818Z"
   },
   {
    "duration": 181,
    "start_time": "2025-04-24T15:27:50.860Z"
   },
   {
    "duration": 10,
    "start_time": "2025-04-24T15:27:51.043Z"
   },
   {
    "duration": 84,
    "start_time": "2025-04-24T15:27:51.055Z"
   },
   {
    "duration": 20,
    "start_time": "2025-04-24T15:27:51.141Z"
   },
   {
    "duration": 40,
    "start_time": "2025-04-24T15:27:51.163Z"
   },
   {
    "duration": 34,
    "start_time": "2025-04-24T15:27:51.205Z"
   },
   {
    "duration": 26,
    "start_time": "2025-04-24T15:27:51.242Z"
   },
   {
    "duration": 184,
    "start_time": "2025-04-24T15:27:51.270Z"
   },
   {
    "duration": 149,
    "start_time": "2025-04-24T15:27:51.455Z"
   },
   {
    "duration": 12,
    "start_time": "2025-04-24T15:27:51.605Z"
   },
   {
    "duration": 87,
    "start_time": "2025-04-24T15:27:51.618Z"
   },
   {
    "duration": 9,
    "start_time": "2025-04-24T15:27:51.706Z"
   },
   {
    "duration": 64,
    "start_time": "2025-04-24T15:27:51.716Z"
   },
   {
    "duration": 24,
    "start_time": "2025-04-24T15:27:51.782Z"
   },
   {
    "duration": 159,
    "start_time": "2025-04-24T15:27:51.808Z"
   },
   {
    "duration": 105,
    "start_time": "2025-04-24T15:27:51.968Z"
   },
   {
    "duration": 17,
    "start_time": "2025-04-24T15:27:52.075Z"
   },
   {
    "duration": 25,
    "start_time": "2025-04-24T15:27:52.094Z"
   },
   {
    "duration": 19,
    "start_time": "2025-04-24T15:27:52.122Z"
   },
   {
    "duration": 61,
    "start_time": "2025-04-24T15:27:52.143Z"
   },
   {
    "duration": 15,
    "start_time": "2025-04-24T15:27:52.206Z"
   },
   {
    "duration": 39,
    "start_time": "2025-04-24T15:27:52.222Z"
   },
   {
    "duration": 7,
    "start_time": "2025-04-24T15:27:52.263Z"
   },
   {
    "duration": 19,
    "start_time": "2025-04-24T15:27:52.272Z"
   },
   {
    "duration": 15,
    "start_time": "2025-04-24T15:27:52.293Z"
   },
   {
    "duration": 10,
    "start_time": "2025-04-24T15:27:52.309Z"
   },
   {
    "duration": 45,
    "start_time": "2025-04-24T15:27:52.320Z"
   },
   {
    "duration": 9,
    "start_time": "2025-04-24T15:27:52.367Z"
   },
   {
    "duration": 393,
    "start_time": "2025-04-24T15:27:52.377Z"
   },
   {
    "duration": 156,
    "start_time": "2025-04-24T15:28:07.330Z"
   },
   {
    "duration": 3718,
    "start_time": "2025-04-24T15:37:07.439Z"
   },
   {
    "duration": 2231,
    "start_time": "2025-04-24T15:37:11.159Z"
   },
   {
    "duration": 37,
    "start_time": "2025-04-24T15:37:13.391Z"
   },
   {
    "duration": 107,
    "start_time": "2025-04-24T15:37:13.438Z"
   },
   {
    "duration": 10,
    "start_time": "2025-04-24T15:37:13.547Z"
   },
   {
    "duration": 7,
    "start_time": "2025-04-24T15:37:13.559Z"
   },
   {
    "duration": 12,
    "start_time": "2025-04-24T15:37:13.567Z"
   },
   {
    "duration": 15,
    "start_time": "2025-04-24T15:37:13.580Z"
   },
   {
    "duration": 15,
    "start_time": "2025-04-24T15:37:13.597Z"
   },
   {
    "duration": 30,
    "start_time": "2025-04-24T15:37:13.616Z"
   },
   {
    "duration": 12,
    "start_time": "2025-04-24T15:37:13.648Z"
   },
   {
    "duration": 60,
    "start_time": "2025-04-24T15:37:13.662Z"
   },
   {
    "duration": 16,
    "start_time": "2025-04-24T15:37:13.724Z"
   },
   {
    "duration": 21,
    "start_time": "2025-04-24T15:37:13.741Z"
   },
   {
    "duration": 28,
    "start_time": "2025-04-24T15:37:13.764Z"
   },
   {
    "duration": 35,
    "start_time": "2025-04-24T15:37:13.794Z"
   },
   {
    "duration": 158,
    "start_time": "2025-04-24T15:37:13.831Z"
   },
   {
    "duration": 81,
    "start_time": "2025-04-24T15:37:13.991Z"
   },
   {
    "duration": 20,
    "start_time": "2025-04-24T15:37:14.073Z"
   },
   {
    "duration": 38,
    "start_time": "2025-04-24T15:37:14.095Z"
   },
   {
    "duration": 17,
    "start_time": "2025-04-24T15:37:14.135Z"
   },
   {
    "duration": 145,
    "start_time": "2025-04-24T15:37:14.153Z"
   },
   {
    "duration": 8,
    "start_time": "2025-04-24T15:37:14.300Z"
   },
   {
    "duration": 86,
    "start_time": "2025-04-24T15:37:14.309Z"
   },
   {
    "duration": 17,
    "start_time": "2025-04-24T15:37:14.397Z"
   },
   {
    "duration": 55,
    "start_time": "2025-04-24T15:37:14.416Z"
   },
   {
    "duration": 18,
    "start_time": "2025-04-24T15:37:14.473Z"
   },
   {
    "duration": 51,
    "start_time": "2025-04-24T15:37:14.495Z"
   },
   {
    "duration": 185,
    "start_time": "2025-04-24T15:37:14.548Z"
   },
   {
    "duration": 150,
    "start_time": "2025-04-24T15:37:14.738Z"
   },
   {
    "duration": 12,
    "start_time": "2025-04-24T15:37:14.889Z"
   },
   {
    "duration": 86,
    "start_time": "2025-04-24T15:37:14.903Z"
   },
   {
    "duration": 8,
    "start_time": "2025-04-24T15:37:14.991Z"
   },
   {
    "duration": 103,
    "start_time": "2025-04-24T15:37:15.000Z"
   },
   {
    "duration": 52,
    "start_time": "2025-04-24T15:37:15.105Z"
   },
   {
    "duration": 155,
    "start_time": "2025-04-24T15:37:15.159Z"
   },
   {
    "duration": 106,
    "start_time": "2025-04-24T15:37:15.316Z"
   },
   {
    "duration": 21,
    "start_time": "2025-04-24T15:37:15.425Z"
   },
   {
    "duration": 48,
    "start_time": "2025-04-24T15:37:15.448Z"
   },
   {
    "duration": 3,
    "start_time": "2025-04-24T15:37:15.498Z"
   },
   {
    "duration": 102,
    "start_time": "2025-04-24T15:37:15.503Z"
   },
   {
    "duration": 15,
    "start_time": "2025-04-24T15:37:15.607Z"
   },
   {
    "duration": 31,
    "start_time": "2025-04-24T15:37:15.624Z"
   },
   {
    "duration": 8,
    "start_time": "2025-04-24T15:37:15.656Z"
   },
   {
    "duration": 16,
    "start_time": "2025-04-24T15:37:15.666Z"
   },
   {
    "duration": 16,
    "start_time": "2025-04-24T15:37:15.684Z"
   },
   {
    "duration": 13,
    "start_time": "2025-04-24T15:37:15.701Z"
   },
   {
    "duration": 51,
    "start_time": "2025-04-24T15:37:15.716Z"
   },
   {
    "duration": 25,
    "start_time": "2025-04-24T15:37:15.769Z"
   },
   {
    "duration": 35,
    "start_time": "2025-04-24T15:38:00.743Z"
   },
   {
    "duration": 50,
    "start_time": "2025-04-24T15:42:12.962Z"
   },
   {
    "duration": 3723,
    "start_time": "2025-04-24T15:42:19.703Z"
   },
   {
    "duration": 1701,
    "start_time": "2025-04-24T15:42:23.428Z"
   },
   {
    "duration": 41,
    "start_time": "2025-04-24T15:42:25.131Z"
   },
   {
    "duration": 109,
    "start_time": "2025-04-24T15:42:25.174Z"
   },
   {
    "duration": 12,
    "start_time": "2025-04-24T15:42:25.285Z"
   },
   {
    "duration": 18,
    "start_time": "2025-04-24T15:42:25.299Z"
   },
   {
    "duration": 11,
    "start_time": "2025-04-24T15:42:25.319Z"
   },
   {
    "duration": 10,
    "start_time": "2025-04-24T15:42:25.331Z"
   },
   {
    "duration": 29,
    "start_time": "2025-04-24T15:42:25.343Z"
   },
   {
    "duration": 26,
    "start_time": "2025-04-24T15:42:25.375Z"
   },
   {
    "duration": 59,
    "start_time": "2025-04-24T15:42:25.403Z"
   },
   {
    "duration": 78,
    "start_time": "2025-04-24T15:42:25.464Z"
   },
   {
    "duration": 9,
    "start_time": "2025-04-24T15:42:25.544Z"
   },
   {
    "duration": 28,
    "start_time": "2025-04-24T15:42:25.554Z"
   },
   {
    "duration": 9,
    "start_time": "2025-04-24T15:42:25.584Z"
   },
   {
    "duration": 37,
    "start_time": "2025-04-24T15:42:25.595Z"
   },
   {
    "duration": 167,
    "start_time": "2025-04-24T15:42:25.639Z"
   },
   {
    "duration": 84,
    "start_time": "2025-04-24T15:42:25.808Z"
   },
   {
    "duration": 21,
    "start_time": "2025-04-24T15:42:25.894Z"
   },
   {
    "duration": 54,
    "start_time": "2025-04-24T15:42:25.917Z"
   },
   {
    "duration": 50,
    "start_time": "2025-04-24T15:42:25.973Z"
   },
   {
    "duration": 166,
    "start_time": "2025-04-24T15:42:26.025Z"
   },
   {
    "duration": 9,
    "start_time": "2025-04-24T15:42:26.192Z"
   },
   {
    "duration": 90,
    "start_time": "2025-04-24T15:42:26.203Z"
   },
   {
    "duration": 21,
    "start_time": "2025-04-24T15:42:26.295Z"
   },
   {
    "duration": 59,
    "start_time": "2025-04-24T15:42:26.318Z"
   },
   {
    "duration": 19,
    "start_time": "2025-04-24T15:42:26.378Z"
   },
   {
    "duration": 57,
    "start_time": "2025-04-24T15:42:26.400Z"
   },
   {
    "duration": 199,
    "start_time": "2025-04-24T15:42:26.459Z"
   },
   {
    "duration": 150,
    "start_time": "2025-04-24T15:42:26.659Z"
   },
   {
    "duration": 12,
    "start_time": "2025-04-24T15:42:26.811Z"
   },
   {
    "duration": 83,
    "start_time": "2025-04-24T15:42:26.825Z"
   },
   {
    "duration": 9,
    "start_time": "2025-04-24T15:42:26.909Z"
   },
   {
    "duration": 52,
    "start_time": "2025-04-24T15:42:26.939Z"
   },
   {
    "duration": 30,
    "start_time": "2025-04-24T15:42:26.993Z"
   },
   {
    "duration": 169,
    "start_time": "2025-04-24T15:42:27.025Z"
   },
   {
    "duration": 113,
    "start_time": "2025-04-24T15:42:27.196Z"
   },
   {
    "duration": 28,
    "start_time": "2025-04-24T15:42:27.311Z"
   },
   {
    "duration": 24,
    "start_time": "2025-04-24T15:42:27.341Z"
   },
   {
    "duration": 3,
    "start_time": "2025-04-24T15:42:27.366Z"
   },
   {
    "duration": 82,
    "start_time": "2025-04-24T15:42:27.371Z"
   },
   {
    "duration": 16,
    "start_time": "2025-04-24T15:42:27.455Z"
   },
   {
    "duration": 48,
    "start_time": "2025-04-24T15:42:27.473Z"
   },
   {
    "duration": 9,
    "start_time": "2025-04-24T15:42:27.522Z"
   },
   {
    "duration": 21,
    "start_time": "2025-04-24T15:42:27.533Z"
   },
   {
    "duration": 16,
    "start_time": "2025-04-24T15:42:27.555Z"
   },
   {
    "duration": 11,
    "start_time": "2025-04-24T15:42:27.572Z"
   },
   {
    "duration": 60,
    "start_time": "2025-04-24T15:42:27.585Z"
   },
   {
    "duration": 58,
    "start_time": "2025-04-24T15:42:27.647Z"
   },
   {
    "duration": 140,
    "start_time": "2025-04-24T15:42:27.708Z"
   },
   {
    "duration": 0,
    "start_time": "2025-04-24T15:42:27.850Z"
   },
   {
    "duration": 80,
    "start_time": "2025-04-24T15:43:02.606Z"
   },
   {
    "duration": 15,
    "start_time": "2025-04-24T15:46:55.627Z"
   },
   {
    "duration": 65,
    "start_time": "2025-04-24T15:48:06.047Z"
   },
   {
    "duration": 71,
    "start_time": "2025-04-24T15:49:05.194Z"
   },
   {
    "duration": 71,
    "start_time": "2025-04-24T15:49:56.808Z"
   },
   {
    "duration": 39,
    "start_time": "2025-04-24T15:52:37.898Z"
   },
   {
    "duration": 9,
    "start_time": "2025-04-24T15:53:38.818Z"
   },
   {
    "duration": 26,
    "start_time": "2025-04-24T15:55:05.138Z"
   },
   {
    "duration": 50,
    "start_time": "2025-04-24T15:56:58.496Z"
   },
   {
    "duration": 3749,
    "start_time": "2025-04-24T15:57:03.112Z"
   },
   {
    "duration": 1832,
    "start_time": "2025-04-24T15:57:06.863Z"
   },
   {
    "duration": 48,
    "start_time": "2025-04-24T15:57:08.697Z"
   },
   {
    "duration": 116,
    "start_time": "2025-04-24T15:57:08.748Z"
   },
   {
    "duration": 11,
    "start_time": "2025-04-24T15:57:08.866Z"
   },
   {
    "duration": 5,
    "start_time": "2025-04-24T15:57:08.879Z"
   },
   {
    "duration": 7,
    "start_time": "2025-04-24T15:57:08.885Z"
   },
   {
    "duration": 10,
    "start_time": "2025-04-24T15:57:08.893Z"
   },
   {
    "duration": 36,
    "start_time": "2025-04-24T15:57:08.904Z"
   },
   {
    "duration": 11,
    "start_time": "2025-04-24T15:57:08.943Z"
   },
   {
    "duration": 15,
    "start_time": "2025-04-24T15:57:08.955Z"
   },
   {
    "duration": 40,
    "start_time": "2025-04-24T15:57:08.971Z"
   },
   {
    "duration": 34,
    "start_time": "2025-04-24T15:57:09.012Z"
   },
   {
    "duration": 23,
    "start_time": "2025-04-24T15:57:09.048Z"
   },
   {
    "duration": 12,
    "start_time": "2025-04-24T15:57:09.073Z"
   },
   {
    "duration": 43,
    "start_time": "2025-04-24T15:57:09.086Z"
   },
   {
    "duration": 153,
    "start_time": "2025-04-24T15:57:09.140Z"
   },
   {
    "duration": 83,
    "start_time": "2025-04-24T15:57:09.295Z"
   },
   {
    "duration": 22,
    "start_time": "2025-04-24T15:57:09.380Z"
   },
   {
    "duration": 11,
    "start_time": "2025-04-24T15:57:09.404Z"
   },
   {
    "duration": 36,
    "start_time": "2025-04-24T15:57:09.416Z"
   },
   {
    "duration": 151,
    "start_time": "2025-04-24T15:57:09.454Z"
   },
   {
    "duration": 8,
    "start_time": "2025-04-24T15:57:09.607Z"
   },
   {
    "duration": 83,
    "start_time": "2025-04-24T15:57:09.617Z"
   },
   {
    "duration": 19,
    "start_time": "2025-04-24T15:57:09.702Z"
   },
   {
    "duration": 35,
    "start_time": "2025-04-24T15:57:09.739Z"
   },
   {
    "duration": 18,
    "start_time": "2025-04-24T15:57:09.776Z"
   },
   {
    "duration": 56,
    "start_time": "2025-04-24T15:57:09.797Z"
   },
   {
    "duration": 186,
    "start_time": "2025-04-24T15:57:09.855Z"
   },
   {
    "duration": 148,
    "start_time": "2025-04-24T15:57:10.043Z"
   },
   {
    "duration": 11,
    "start_time": "2025-04-24T15:57:10.193Z"
   },
   {
    "duration": 89,
    "start_time": "2025-04-24T15:57:10.205Z"
   },
   {
    "duration": 8,
    "start_time": "2025-04-24T15:57:10.296Z"
   },
   {
    "duration": 67,
    "start_time": "2025-04-24T15:57:10.306Z"
   },
   {
    "duration": 22,
    "start_time": "2025-04-24T15:57:10.375Z"
   },
   {
    "duration": 163,
    "start_time": "2025-04-24T15:57:10.398Z"
   },
   {
    "duration": 107,
    "start_time": "2025-04-24T15:57:10.563Z"
   },
   {
    "duration": 17,
    "start_time": "2025-04-24T15:57:10.672Z"
   },
   {
    "duration": 24,
    "start_time": "2025-04-24T15:57:10.691Z"
   },
   {
    "duration": 3,
    "start_time": "2025-04-24T15:57:10.716Z"
   },
   {
    "duration": 52,
    "start_time": "2025-04-24T15:57:10.738Z"
   },
   {
    "duration": 15,
    "start_time": "2025-04-24T15:57:10.792Z"
   },
   {
    "duration": 51,
    "start_time": "2025-04-24T15:57:10.808Z"
   },
   {
    "duration": 8,
    "start_time": "2025-04-24T15:57:10.861Z"
   },
   {
    "duration": 9,
    "start_time": "2025-04-24T15:57:10.870Z"
   },
   {
    "duration": 15,
    "start_time": "2025-04-24T15:57:10.881Z"
   },
   {
    "duration": 48,
    "start_time": "2025-04-24T15:57:10.898Z"
   },
   {
    "duration": 34,
    "start_time": "2025-04-24T15:57:10.948Z"
   },
   {
    "duration": 101,
    "start_time": "2025-04-24T15:57:10.984Z"
   },
   {
    "duration": 36,
    "start_time": "2025-04-24T15:57:11.086Z"
   },
   {
    "duration": 90,
    "start_time": "2025-04-24T15:57:11.124Z"
   },
   {
    "duration": 3,
    "start_time": "2025-04-24T15:57:11.216Z"
   },
   {
    "duration": 49,
    "start_time": "2025-04-24T15:57:11.220Z"
   },
   {
    "duration": 17,
    "start_time": "2025-04-24T15:59:32.626Z"
   },
   {
    "duration": 80,
    "start_time": "2025-04-24T15:59:36.064Z"
   },
   {
    "duration": 50,
    "start_time": "2025-04-24T16:01:50.214Z"
   },
   {
    "duration": 3692,
    "start_time": "2025-04-24T16:01:55.059Z"
   },
   {
    "duration": 1963,
    "start_time": "2025-04-24T16:01:58.753Z"
   },
   {
    "duration": 43,
    "start_time": "2025-04-24T16:02:00.718Z"
   },
   {
    "duration": 113,
    "start_time": "2025-04-24T16:02:00.764Z"
   },
   {
    "duration": 11,
    "start_time": "2025-04-24T16:02:00.878Z"
   },
   {
    "duration": 35,
    "start_time": "2025-04-24T16:02:00.891Z"
   },
   {
    "duration": 6,
    "start_time": "2025-04-24T16:02:00.929Z"
   },
   {
    "duration": 20,
    "start_time": "2025-04-24T16:02:00.937Z"
   },
   {
    "duration": 12,
    "start_time": "2025-04-24T16:02:00.959Z"
   },
   {
    "duration": 28,
    "start_time": "2025-04-24T16:02:00.975Z"
   },
   {
    "duration": 39,
    "start_time": "2025-04-24T16:02:01.005Z"
   },
   {
    "duration": 50,
    "start_time": "2025-04-24T16:02:01.045Z"
   },
   {
    "duration": 9,
    "start_time": "2025-04-24T16:02:01.096Z"
   },
   {
    "duration": 48,
    "start_time": "2025-04-24T16:02:01.106Z"
   },
   {
    "duration": 17,
    "start_time": "2025-04-24T16:02:01.156Z"
   },
   {
    "duration": 98,
    "start_time": "2025-04-24T16:02:01.175Z"
   },
   {
    "duration": 153,
    "start_time": "2025-04-24T16:02:01.275Z"
   },
   {
    "duration": 81,
    "start_time": "2025-04-24T16:02:01.430Z"
   },
   {
    "duration": 32,
    "start_time": "2025-04-24T16:02:01.513Z"
   },
   {
    "duration": 12,
    "start_time": "2025-04-24T16:02:01.547Z"
   },
   {
    "duration": 16,
    "start_time": "2025-04-24T16:02:01.561Z"
   },
   {
    "duration": 182,
    "start_time": "2025-04-24T16:02:01.578Z"
   },
   {
    "duration": 10,
    "start_time": "2025-04-24T16:02:01.761Z"
   },
   {
    "duration": 118,
    "start_time": "2025-04-24T16:02:01.773Z"
   },
   {
    "duration": 18,
    "start_time": "2025-04-24T16:02:01.893Z"
   },
   {
    "duration": 68,
    "start_time": "2025-04-24T16:02:01.913Z"
   },
   {
    "duration": 74,
    "start_time": "2025-04-24T16:02:01.983Z"
   },
   {
    "duration": 55,
    "start_time": "2025-04-24T16:02:02.061Z"
   },
   {
    "duration": 184,
    "start_time": "2025-04-24T16:02:02.117Z"
   },
   {
    "duration": 154,
    "start_time": "2025-04-24T16:02:02.302Z"
   },
   {
    "duration": 13,
    "start_time": "2025-04-24T16:02:02.457Z"
   },
   {
    "duration": 91,
    "start_time": "2025-04-24T16:02:02.472Z"
   },
   {
    "duration": 8,
    "start_time": "2025-04-24T16:02:02.564Z"
   },
   {
    "duration": 69,
    "start_time": "2025-04-24T16:02:02.574Z"
   },
   {
    "duration": 62,
    "start_time": "2025-04-24T16:02:02.645Z"
   },
   {
    "duration": 167,
    "start_time": "2025-04-24T16:02:02.709Z"
   },
   {
    "duration": 107,
    "start_time": "2025-04-24T16:02:02.878Z"
   },
   {
    "duration": 17,
    "start_time": "2025-04-24T16:02:02.986Z"
   },
   {
    "duration": 60,
    "start_time": "2025-04-24T16:02:03.004Z"
   },
   {
    "duration": 3,
    "start_time": "2025-04-24T16:02:03.066Z"
   },
   {
    "duration": 56,
    "start_time": "2025-04-24T16:02:03.071Z"
   },
   {
    "duration": 26,
    "start_time": "2025-04-24T16:02:03.129Z"
   },
   {
    "duration": 44,
    "start_time": "2025-04-24T16:02:03.157Z"
   },
   {
    "duration": 8,
    "start_time": "2025-04-24T16:02:03.203Z"
   },
   {
    "duration": 27,
    "start_time": "2025-04-24T16:02:03.213Z"
   },
   {
    "duration": 63,
    "start_time": "2025-04-24T16:02:03.242Z"
   },
   {
    "duration": 33,
    "start_time": "2025-04-24T16:02:03.307Z"
   },
   {
    "duration": 47,
    "start_time": "2025-04-24T16:02:03.342Z"
   },
   {
    "duration": 126,
    "start_time": "2025-04-24T16:02:03.391Z"
   },
   {
    "duration": 58,
    "start_time": "2025-04-24T16:02:03.519Z"
   },
   {
    "duration": 80,
    "start_time": "2025-04-24T16:02:03.579Z"
   },
   {
    "duration": 3790,
    "start_time": "2025-04-24T16:15:09.707Z"
   },
   {
    "duration": 1712,
    "start_time": "2025-04-24T16:15:13.499Z"
   },
   {
    "duration": 44,
    "start_time": "2025-04-24T16:15:15.212Z"
   },
   {
    "duration": 150,
    "start_time": "2025-04-24T16:15:15.258Z"
   },
   {
    "duration": 11,
    "start_time": "2025-04-24T16:15:15.409Z"
   },
   {
    "duration": 44,
    "start_time": "2025-04-24T16:15:15.421Z"
   },
   {
    "duration": 40,
    "start_time": "2025-04-24T16:15:15.466Z"
   },
   {
    "duration": 42,
    "start_time": "2025-04-24T16:15:15.507Z"
   },
   {
    "duration": 30,
    "start_time": "2025-04-24T16:15:15.551Z"
   },
   {
    "duration": 48,
    "start_time": "2025-04-24T16:15:15.584Z"
   },
   {
    "duration": 11,
    "start_time": "2025-04-24T16:15:15.634Z"
   },
   {
    "duration": 93,
    "start_time": "2025-04-24T16:15:15.646Z"
   },
   {
    "duration": 55,
    "start_time": "2025-04-24T16:15:15.741Z"
   },
   {
    "duration": 84,
    "start_time": "2025-04-24T16:15:15.798Z"
   },
   {
    "duration": 70,
    "start_time": "2025-04-24T16:15:15.883Z"
   },
   {
    "duration": 86,
    "start_time": "2025-04-24T16:15:15.955Z"
   },
   {
    "duration": 182,
    "start_time": "2025-04-24T16:15:16.042Z"
   },
   {
    "duration": 75,
    "start_time": "2025-04-24T16:15:16.226Z"
   },
   {
    "duration": 37,
    "start_time": "2025-04-24T16:15:16.303Z"
   },
   {
    "duration": 21,
    "start_time": "2025-04-24T16:15:16.342Z"
   },
   {
    "duration": 72,
    "start_time": "2025-04-24T16:15:16.365Z"
   },
   {
    "duration": 179,
    "start_time": "2025-04-24T16:15:16.440Z"
   },
   {
    "duration": 23,
    "start_time": "2025-04-24T16:15:16.621Z"
   },
   {
    "duration": 109,
    "start_time": "2025-04-24T16:15:16.646Z"
   },
   {
    "duration": 17,
    "start_time": "2025-04-24T16:15:16.757Z"
   },
   {
    "duration": 56,
    "start_time": "2025-04-24T16:15:16.775Z"
   },
   {
    "duration": 58,
    "start_time": "2025-04-24T16:15:16.833Z"
   },
   {
    "duration": 73,
    "start_time": "2025-04-24T16:15:16.896Z"
   },
   {
    "duration": 201,
    "start_time": "2025-04-24T16:15:16.971Z"
   },
   {
    "duration": 151,
    "start_time": "2025-04-24T16:15:17.173Z"
   },
   {
    "duration": 16,
    "start_time": "2025-04-24T16:15:17.326Z"
   },
   {
    "duration": 136,
    "start_time": "2025-04-24T16:15:17.345Z"
   },
   {
    "duration": 8,
    "start_time": "2025-04-24T16:15:17.483Z"
   },
   {
    "duration": 87,
    "start_time": "2025-04-24T16:15:17.493Z"
   },
   {
    "duration": 99,
    "start_time": "2025-04-24T16:15:17.582Z"
   },
   {
    "duration": 196,
    "start_time": "2025-04-24T16:15:17.683Z"
   },
   {
    "duration": 105,
    "start_time": "2025-04-24T16:15:17.881Z"
   },
   {
    "duration": 18,
    "start_time": "2025-04-24T16:15:17.988Z"
   },
   {
    "duration": 61,
    "start_time": "2025-04-24T16:15:18.007Z"
   },
   {
    "duration": 84,
    "start_time": "2025-04-24T16:15:18.070Z"
   },
   {
    "duration": 104,
    "start_time": "2025-04-24T16:15:18.156Z"
   },
   {
    "duration": 16,
    "start_time": "2025-04-24T16:15:18.262Z"
   },
   {
    "duration": 54,
    "start_time": "2025-04-24T16:15:18.279Z"
   },
   {
    "duration": 47,
    "start_time": "2025-04-24T16:15:18.335Z"
   },
   {
    "duration": 79,
    "start_time": "2025-04-24T16:15:18.384Z"
   },
   {
    "duration": 96,
    "start_time": "2025-04-24T16:15:18.464Z"
   },
   {
    "duration": 57,
    "start_time": "2025-04-24T16:15:18.561Z"
   },
   {
    "duration": 50,
    "start_time": "2025-04-24T16:15:18.620Z"
   },
   {
    "duration": 96,
    "start_time": "2025-04-24T16:15:18.671Z"
   },
   {
    "duration": 47,
    "start_time": "2025-04-24T16:15:18.769Z"
   },
   {
    "duration": 112,
    "start_time": "2025-04-24T16:15:18.817Z"
   },
   {
    "duration": 47,
    "start_time": "2025-04-24T16:17:06.663Z"
   },
   {
    "duration": 3770,
    "start_time": "2025-04-24T16:17:11.935Z"
   },
   {
    "duration": 2083,
    "start_time": "2025-04-24T16:17:15.708Z"
   },
   {
    "duration": 47,
    "start_time": "2025-04-24T16:17:17.793Z"
   },
   {
    "duration": 111,
    "start_time": "2025-04-24T16:17:17.841Z"
   },
   {
    "duration": 11,
    "start_time": "2025-04-24T16:17:17.955Z"
   },
   {
    "duration": 34,
    "start_time": "2025-04-24T16:17:17.968Z"
   },
   {
    "duration": 25,
    "start_time": "2025-04-24T16:17:18.003Z"
   },
   {
    "duration": 35,
    "start_time": "2025-04-24T16:17:18.029Z"
   },
   {
    "duration": 55,
    "start_time": "2025-04-24T16:17:18.066Z"
   },
   {
    "duration": 44,
    "start_time": "2025-04-24T16:17:18.123Z"
   },
   {
    "duration": 67,
    "start_time": "2025-04-24T16:17:18.169Z"
   },
   {
    "duration": 74,
    "start_time": "2025-04-24T16:17:18.238Z"
   },
   {
    "duration": 11,
    "start_time": "2025-04-24T16:17:18.315Z"
   },
   {
    "duration": 45,
    "start_time": "2025-04-24T16:17:18.329Z"
   },
   {
    "duration": 45,
    "start_time": "2025-04-24T16:17:18.376Z"
   },
   {
    "duration": 55,
    "start_time": "2025-04-24T16:17:18.423Z"
   },
   {
    "duration": 165,
    "start_time": "2025-04-24T16:17:18.480Z"
   },
   {
    "duration": 76,
    "start_time": "2025-04-24T16:17:18.647Z"
   },
   {
    "duration": 36,
    "start_time": "2025-04-24T16:17:18.725Z"
   },
   {
    "duration": 41,
    "start_time": "2025-04-24T16:17:18.763Z"
   },
   {
    "duration": 52,
    "start_time": "2025-04-24T16:17:18.806Z"
   },
   {
    "duration": 170,
    "start_time": "2025-04-24T16:17:18.860Z"
   },
   {
    "duration": 11,
    "start_time": "2025-04-24T16:17:19.039Z"
   },
   {
    "duration": 128,
    "start_time": "2025-04-24T16:17:19.052Z"
   },
   {
    "duration": 21,
    "start_time": "2025-04-24T16:17:19.182Z"
   },
   {
    "duration": 70,
    "start_time": "2025-04-24T16:17:19.206Z"
   },
   {
    "duration": 24,
    "start_time": "2025-04-24T16:17:19.278Z"
   },
   {
    "duration": 55,
    "start_time": "2025-04-24T16:17:19.305Z"
   },
   {
    "duration": 193,
    "start_time": "2025-04-24T16:17:19.362Z"
   },
   {
    "duration": 164,
    "start_time": "2025-04-24T16:17:19.557Z"
   },
   {
    "duration": 19,
    "start_time": "2025-04-24T16:17:19.723Z"
   },
   {
    "duration": 130,
    "start_time": "2025-04-24T16:17:19.745Z"
   },
   {
    "duration": 9,
    "start_time": "2025-04-24T16:17:19.877Z"
   },
   {
    "duration": 74,
    "start_time": "2025-04-24T16:17:19.889Z"
   },
   {
    "duration": 47,
    "start_time": "2025-04-24T16:17:19.965Z"
   },
   {
    "duration": 175,
    "start_time": "2025-04-24T16:17:20.014Z"
   },
   {
    "duration": 99,
    "start_time": "2025-04-24T16:17:20.191Z"
   },
   {
    "duration": 16,
    "start_time": "2025-04-24T16:17:20.292Z"
   },
   {
    "duration": 54,
    "start_time": "2025-04-24T16:17:20.309Z"
   },
   {
    "duration": 22,
    "start_time": "2025-04-24T16:17:20.365Z"
   },
   {
    "duration": 88,
    "start_time": "2025-04-24T16:17:20.391Z"
   },
   {
    "duration": 16,
    "start_time": "2025-04-24T16:17:20.481Z"
   },
   {
    "duration": 57,
    "start_time": "2025-04-24T16:17:20.500Z"
   },
   {
    "duration": 9,
    "start_time": "2025-04-24T16:17:20.559Z"
   },
   {
    "duration": 46,
    "start_time": "2025-04-24T16:17:20.570Z"
   },
   {
    "duration": 87,
    "start_time": "2025-04-24T16:17:20.619Z"
   },
   {
    "duration": 41,
    "start_time": "2025-04-24T16:17:20.709Z"
   },
   {
    "duration": 55,
    "start_time": "2025-04-24T16:17:20.752Z"
   },
   {
    "duration": 43,
    "start_time": "2025-04-24T16:17:20.809Z"
   },
   {
    "duration": 3804,
    "start_time": "2025-04-24T16:18:14.595Z"
   },
   {
    "duration": 1832,
    "start_time": "2025-04-24T16:18:18.401Z"
   },
   {
    "duration": 39,
    "start_time": "2025-04-24T16:18:20.234Z"
   },
   {
    "duration": 117,
    "start_time": "2025-04-24T16:18:20.276Z"
   },
   {
    "duration": 12,
    "start_time": "2025-04-24T16:18:20.395Z"
   },
   {
    "duration": 25,
    "start_time": "2025-04-24T16:18:20.409Z"
   },
   {
    "duration": 32,
    "start_time": "2025-04-24T16:18:20.436Z"
   },
   {
    "duration": 16,
    "start_time": "2025-04-24T16:18:20.470Z"
   },
   {
    "duration": 35,
    "start_time": "2025-04-24T16:18:20.488Z"
   },
   {
    "duration": 43,
    "start_time": "2025-04-24T16:18:20.526Z"
   },
   {
    "duration": 39,
    "start_time": "2025-04-24T16:18:20.571Z"
   },
   {
    "duration": 65,
    "start_time": "2025-04-24T16:18:20.612Z"
   },
   {
    "duration": 9,
    "start_time": "2025-04-24T16:18:20.679Z"
   },
   {
    "duration": 59,
    "start_time": "2025-04-24T16:18:20.690Z"
   },
   {
    "duration": 46,
    "start_time": "2025-04-24T16:18:20.751Z"
   },
   {
    "duration": 73,
    "start_time": "2025-04-24T16:18:20.800Z"
   },
   {
    "duration": 210,
    "start_time": "2025-04-24T16:18:20.874Z"
   },
   {
    "duration": 87,
    "start_time": "2025-04-24T16:18:21.086Z"
   },
   {
    "duration": 20,
    "start_time": "2025-04-24T16:18:21.174Z"
   },
   {
    "duration": 44,
    "start_time": "2025-04-24T16:18:21.196Z"
   },
   {
    "duration": 62,
    "start_time": "2025-04-24T16:18:21.242Z"
   },
   {
    "duration": 146,
    "start_time": "2025-04-24T16:18:21.305Z"
   },
   {
    "duration": 9,
    "start_time": "2025-04-24T16:18:21.453Z"
   },
   {
    "duration": 100,
    "start_time": "2025-04-24T16:18:21.464Z"
   },
   {
    "duration": 20,
    "start_time": "2025-04-24T16:18:21.566Z"
   },
   {
    "duration": 82,
    "start_time": "2025-04-24T16:18:21.587Z"
   },
   {
    "duration": 29,
    "start_time": "2025-04-24T16:18:21.671Z"
   },
   {
    "duration": 57,
    "start_time": "2025-04-24T16:18:21.705Z"
   },
   {
    "duration": 206,
    "start_time": "2025-04-24T16:18:21.764Z"
   },
   {
    "duration": 167,
    "start_time": "2025-04-24T16:18:21.972Z"
   },
   {
    "duration": 13,
    "start_time": "2025-04-24T16:18:22.141Z"
   },
   {
    "duration": 104,
    "start_time": "2025-04-24T16:18:22.155Z"
   },
   {
    "duration": 8,
    "start_time": "2025-04-24T16:18:22.260Z"
   },
   {
    "duration": 80,
    "start_time": "2025-04-24T16:18:22.269Z"
   },
   {
    "duration": 21,
    "start_time": "2025-04-24T16:18:22.350Z"
   },
   {
    "duration": 176,
    "start_time": "2025-04-24T16:18:22.373Z"
   },
   {
    "duration": 114,
    "start_time": "2025-04-24T16:18:22.551Z"
   },
   {
    "duration": 18,
    "start_time": "2025-04-24T16:18:22.667Z"
   },
   {
    "duration": 54,
    "start_time": "2025-04-24T16:18:22.687Z"
   },
   {
    "duration": 2,
    "start_time": "2025-04-24T16:18:22.743Z"
   },
   {
    "duration": 80,
    "start_time": "2025-04-24T16:18:22.747Z"
   },
   {
    "duration": 16,
    "start_time": "2025-04-24T16:18:22.829Z"
   },
   {
    "duration": 30,
    "start_time": "2025-04-24T16:18:22.847Z"
   },
   {
    "duration": 10,
    "start_time": "2025-04-24T16:18:22.879Z"
   },
   {
    "duration": 33,
    "start_time": "2025-04-24T16:18:22.891Z"
   },
   {
    "duration": 35,
    "start_time": "2025-04-24T16:18:22.926Z"
   },
   {
    "duration": 24,
    "start_time": "2025-04-24T16:18:22.963Z"
   },
   {
    "duration": 30,
    "start_time": "2025-04-24T16:18:22.989Z"
   },
   {
    "duration": 9,
    "start_time": "2025-04-24T16:18:23.020Z"
   },
   {
    "duration": 10,
    "start_time": "2025-04-24T16:18:23.031Z"
   },
   {
    "duration": 40,
    "start_time": "2025-04-24T16:18:23.043Z"
   },
   {
    "duration": 9,
    "start_time": "2025-04-24T16:20:29.579Z"
   },
   {
    "duration": 102,
    "start_time": "2025-04-24T16:24:20.416Z"
   },
   {
    "duration": 76,
    "start_time": "2025-04-24T16:24:24.341Z"
   },
   {
    "duration": 41,
    "start_time": "2025-04-24T16:43:10.308Z"
   },
   {
    "duration": 48,
    "start_time": "2025-04-24T16:43:28.795Z"
   },
   {
    "duration": 65,
    "start_time": "2025-04-24T16:43:51.664Z"
   },
   {
    "duration": 19,
    "start_time": "2025-04-24T16:47:25.567Z"
   },
   {
    "duration": 22,
    "start_time": "2025-04-24T16:48:16.809Z"
   },
   {
    "duration": 11,
    "start_time": "2025-04-24T16:50:14.608Z"
   },
   {
    "duration": 26,
    "start_time": "2025-04-24T16:50:34.386Z"
   },
   {
    "duration": 21,
    "start_time": "2025-04-24T16:50:51.532Z"
   },
   {
    "duration": 9,
    "start_time": "2025-04-24T16:51:14.768Z"
   },
   {
    "duration": 9,
    "start_time": "2025-04-24T16:51:20.310Z"
   },
   {
    "duration": 13,
    "start_time": "2025-04-24T16:51:44.898Z"
   },
   {
    "duration": 15,
    "start_time": "2025-04-24T16:51:49.572Z"
   },
   {
    "duration": 22,
    "start_time": "2025-04-24T16:52:11.409Z"
   },
   {
    "duration": 289,
    "start_time": "2025-04-24T16:57:02.506Z"
   },
   {
    "duration": 288,
    "start_time": "2025-04-24T16:57:33.584Z"
   },
   {
    "duration": 63,
    "start_time": "2025-04-24T16:58:02.628Z"
   },
   {
    "duration": 35,
    "start_time": "2025-04-24T17:08:29.645Z"
   },
   {
    "duration": 40,
    "start_time": "2025-04-24T17:09:06.608Z"
   },
   {
    "duration": 25,
    "start_time": "2025-04-24T17:20:18.230Z"
   },
   {
    "duration": 13,
    "start_time": "2025-04-24T17:23:51.935Z"
   },
   {
    "duration": 14,
    "start_time": "2025-04-24T17:23:55.264Z"
   },
   {
    "duration": 52,
    "start_time": "2025-04-25T05:53:49.111Z"
   },
   {
    "duration": 5088,
    "start_time": "2025-04-25T05:53:54.517Z"
   },
   {
    "duration": 1966,
    "start_time": "2025-04-25T05:53:59.608Z"
   },
   {
    "duration": 47,
    "start_time": "2025-04-25T05:54:01.576Z"
   },
   {
    "duration": 120,
    "start_time": "2025-04-25T05:54:01.625Z"
   },
   {
    "duration": 16,
    "start_time": "2025-04-25T05:54:01.747Z"
   },
   {
    "duration": 43,
    "start_time": "2025-04-25T05:54:01.765Z"
   },
   {
    "duration": 35,
    "start_time": "2025-04-25T05:54:01.810Z"
   },
   {
    "duration": 61,
    "start_time": "2025-04-25T05:54:01.847Z"
   },
   {
    "duration": 46,
    "start_time": "2025-04-25T05:54:01.910Z"
   },
   {
    "duration": 43,
    "start_time": "2025-04-25T05:54:01.959Z"
   },
   {
    "duration": 46,
    "start_time": "2025-04-25T05:54:02.004Z"
   },
   {
    "duration": 82,
    "start_time": "2025-04-25T05:54:02.052Z"
   },
   {
    "duration": 9,
    "start_time": "2025-04-25T05:54:02.136Z"
   },
   {
    "duration": 211,
    "start_time": "2025-04-25T05:54:02.147Z"
   },
   {
    "duration": 119,
    "start_time": "2025-04-25T05:54:02.360Z"
   },
   {
    "duration": 150,
    "start_time": "2025-04-25T05:54:02.481Z"
   },
   {
    "duration": 197,
    "start_time": "2025-04-25T05:54:02.633Z"
   },
   {
    "duration": 84,
    "start_time": "2025-04-25T05:54:02.832Z"
   },
   {
    "duration": 23,
    "start_time": "2025-04-25T05:54:02.918Z"
   },
   {
    "duration": 145,
    "start_time": "2025-04-25T05:54:02.943Z"
   },
   {
    "duration": 28,
    "start_time": "2025-04-25T05:54:03.090Z"
   },
   {
    "duration": 158,
    "start_time": "2025-04-25T05:54:03.120Z"
   },
   {
    "duration": 10,
    "start_time": "2025-04-25T05:54:03.279Z"
   },
   {
    "duration": 186,
    "start_time": "2025-04-25T05:54:03.291Z"
   },
   {
    "duration": 21,
    "start_time": "2025-04-25T05:54:03.479Z"
   },
   {
    "duration": 38,
    "start_time": "2025-04-25T05:54:03.502Z"
   },
   {
    "duration": 36,
    "start_time": "2025-04-25T05:54:03.542Z"
   },
   {
    "duration": 32,
    "start_time": "2025-04-25T05:54:03.582Z"
   },
   {
    "duration": 233,
    "start_time": "2025-04-25T05:54:03.615Z"
   },
   {
    "duration": 172,
    "start_time": "2025-04-25T05:54:03.850Z"
   },
   {
    "duration": 13,
    "start_time": "2025-04-25T05:54:04.024Z"
   },
   {
    "duration": 97,
    "start_time": "2025-04-25T05:54:04.039Z"
   },
   {
    "duration": 8,
    "start_time": "2025-04-25T05:54:04.138Z"
   },
   {
    "duration": 66,
    "start_time": "2025-04-25T05:54:04.160Z"
   },
   {
    "duration": 73,
    "start_time": "2025-04-25T05:54:04.227Z"
   },
   {
    "duration": 193,
    "start_time": "2025-04-25T05:54:04.302Z"
   },
   {
    "duration": 113,
    "start_time": "2025-04-25T05:54:04.497Z"
   },
   {
    "duration": 19,
    "start_time": "2025-04-25T05:54:04.612Z"
   },
   {
    "duration": 47,
    "start_time": "2025-04-25T05:54:04.634Z"
   },
   {
    "duration": 4,
    "start_time": "2025-04-25T05:54:04.683Z"
   },
   {
    "duration": 81,
    "start_time": "2025-04-25T05:54:04.689Z"
   },
   {
    "duration": 16,
    "start_time": "2025-04-25T05:54:04.772Z"
   },
   {
    "duration": 43,
    "start_time": "2025-04-25T05:54:04.791Z"
   },
   {
    "duration": 10,
    "start_time": "2025-04-25T05:54:04.836Z"
   },
   {
    "duration": 48,
    "start_time": "2025-04-25T05:54:04.849Z"
   },
   {
    "duration": 179,
    "start_time": "2025-04-25T05:54:04.899Z"
   },
   {
    "duration": 37,
    "start_time": "2025-04-25T05:54:05.081Z"
   },
   {
    "duration": 38,
    "start_time": "2025-04-25T05:54:05.120Z"
   },
   {
    "duration": 11,
    "start_time": "2025-04-25T05:54:05.160Z"
   },
   {
    "duration": 7,
    "start_time": "2025-04-25T05:54:05.174Z"
   },
   {
    "duration": 55,
    "start_time": "2025-04-25T05:54:05.183Z"
   },
   {
    "duration": 90,
    "start_time": "2025-04-25T05:54:05.240Z"
   },
   {
    "duration": 103,
    "start_time": "2025-04-25T05:54:05.332Z"
   },
   {
    "duration": 68,
    "start_time": "2025-04-25T05:54:05.437Z"
   },
   {
    "duration": 365,
    "start_time": "2025-04-25T05:54:05.507Z"
   },
   {
    "duration": 65,
    "start_time": "2025-04-25T05:54:05.873Z"
   },
   {
    "duration": 44,
    "start_time": "2025-04-25T05:54:05.940Z"
   },
   {
    "duration": 70,
    "start_time": "2025-04-25T05:54:05.985Z"
   },
   {
    "duration": 51,
    "start_time": "2025-04-25T05:54:06.057Z"
   },
   {
    "duration": 135,
    "start_time": "2025-04-25T05:54:06.110Z"
   },
   {
    "duration": 34,
    "start_time": "2025-04-25T05:57:37.756Z"
   },
   {
    "duration": 24,
    "start_time": "2025-04-25T05:58:00.226Z"
   },
   {
    "duration": 24,
    "start_time": "2025-04-25T05:58:08.118Z"
   },
   {
    "duration": 114,
    "start_time": "2025-04-25T05:59:56.103Z"
   },
   {
    "duration": 16,
    "start_time": "2025-04-25T06:00:02.218Z"
   },
   {
    "duration": 16,
    "start_time": "2025-04-25T06:00:10.453Z"
   },
   {
    "duration": 15,
    "start_time": "2025-04-25T06:01:44.268Z"
   },
   {
    "duration": 62,
    "start_time": "2025-04-25T06:03:38.176Z"
   },
   {
    "duration": 75,
    "start_time": "2025-04-25T06:03:45.095Z"
   },
   {
    "duration": 4116,
    "start_time": "2025-04-25T06:08:04.433Z"
   },
   {
    "duration": 1875,
    "start_time": "2025-04-25T06:08:08.552Z"
   },
   {
    "duration": 48,
    "start_time": "2025-04-25T06:08:10.429Z"
   },
   {
    "duration": 249,
    "start_time": "2025-04-25T06:08:10.479Z"
   },
   {
    "duration": 11,
    "start_time": "2025-04-25T06:08:10.730Z"
   },
   {
    "duration": 28,
    "start_time": "2025-04-25T06:08:10.743Z"
   },
   {
    "duration": 33,
    "start_time": "2025-04-25T06:08:10.773Z"
   },
   {
    "duration": 10,
    "start_time": "2025-04-25T06:08:10.808Z"
   },
   {
    "duration": 37,
    "start_time": "2025-04-25T06:08:10.820Z"
   },
   {
    "duration": 38,
    "start_time": "2025-04-25T06:08:10.859Z"
   },
   {
    "duration": 13,
    "start_time": "2025-04-25T06:08:10.899Z"
   },
   {
    "duration": 45,
    "start_time": "2025-04-25T06:08:10.914Z"
   },
   {
    "duration": 9,
    "start_time": "2025-04-25T06:08:10.960Z"
   },
   {
    "duration": 119,
    "start_time": "2025-04-25T06:08:10.971Z"
   },
   {
    "duration": 90,
    "start_time": "2025-04-25T06:08:11.092Z"
   },
   {
    "duration": 69,
    "start_time": "2025-04-25T06:08:11.184Z"
   },
   {
    "duration": 280,
    "start_time": "2025-04-25T06:08:11.255Z"
   },
   {
    "duration": 87,
    "start_time": "2025-04-25T06:08:11.536Z"
   },
   {
    "duration": 22,
    "start_time": "2025-04-25T06:08:11.625Z"
   },
   {
    "duration": 20,
    "start_time": "2025-04-25T06:08:11.649Z"
   },
   {
    "duration": 28,
    "start_time": "2025-04-25T06:08:11.670Z"
   },
   {
    "duration": 171,
    "start_time": "2025-04-25T06:08:11.699Z"
   },
   {
    "duration": 9,
    "start_time": "2025-04-25T06:08:11.872Z"
   },
   {
    "duration": 93,
    "start_time": "2025-04-25T06:08:11.883Z"
   },
   {
    "duration": 20,
    "start_time": "2025-04-25T06:08:11.977Z"
   },
   {
    "duration": 46,
    "start_time": "2025-04-25T06:08:11.999Z"
   },
   {
    "duration": 32,
    "start_time": "2025-04-25T06:08:12.047Z"
   },
   {
    "duration": 61,
    "start_time": "2025-04-25T06:08:12.083Z"
   },
   {
    "duration": 191,
    "start_time": "2025-04-25T06:08:12.147Z"
   },
   {
    "duration": 167,
    "start_time": "2025-04-25T06:08:12.340Z"
   },
   {
    "duration": 117,
    "start_time": "2025-04-25T06:08:12.509Z"
   },
   {
    "duration": 76,
    "start_time": "2025-04-25T06:08:12.628Z"
   },
   {
    "duration": 10,
    "start_time": "2025-04-25T06:08:12.706Z"
   },
   {
    "duration": 74,
    "start_time": "2025-04-25T06:08:12.719Z"
   },
   {
    "duration": 23,
    "start_time": "2025-04-25T06:08:12.795Z"
   },
   {
    "duration": 183,
    "start_time": "2025-04-25T06:08:12.820Z"
   },
   {
    "duration": 118,
    "start_time": "2025-04-25T06:08:13.005Z"
   },
   {
    "duration": 19,
    "start_time": "2025-04-25T06:08:13.125Z"
   },
   {
    "duration": 36,
    "start_time": "2025-04-25T06:08:13.160Z"
   },
   {
    "duration": 5,
    "start_time": "2025-04-25T06:08:13.198Z"
   },
   {
    "duration": 116,
    "start_time": "2025-04-25T06:08:13.205Z"
   },
   {
    "duration": 88,
    "start_time": "2025-04-25T06:08:13.323Z"
   },
   {
    "duration": 38,
    "start_time": "2025-04-25T06:08:13.413Z"
   },
   {
    "duration": 10,
    "start_time": "2025-04-25T06:08:13.453Z"
   },
   {
    "duration": 35,
    "start_time": "2025-04-25T06:08:13.465Z"
   },
   {
    "duration": 38,
    "start_time": "2025-04-25T06:08:13.501Z"
   },
   {
    "duration": 11,
    "start_time": "2025-04-25T06:08:13.541Z"
   },
   {
    "duration": 30,
    "start_time": "2025-04-25T06:08:13.554Z"
   },
   {
    "duration": 21,
    "start_time": "2025-04-25T06:08:13.586Z"
   },
   {
    "duration": 11,
    "start_time": "2025-04-25T06:08:13.609Z"
   },
   {
    "duration": 45,
    "start_time": "2025-04-25T06:08:13.622Z"
   },
   {
    "duration": 98,
    "start_time": "2025-04-25T06:08:13.669Z"
   },
   {
    "duration": 59,
    "start_time": "2025-04-25T06:08:13.768Z"
   },
   {
    "duration": 82,
    "start_time": "2025-04-25T06:08:13.829Z"
   },
   {
    "duration": 361,
    "start_time": "2025-04-25T06:08:13.913Z"
   },
   {
    "duration": 63,
    "start_time": "2025-04-25T06:08:14.276Z"
   },
   {
    "duration": 136,
    "start_time": "2025-04-25T06:08:14.341Z"
   },
   {
    "duration": 150,
    "start_time": "2025-04-25T06:08:14.478Z"
   },
   {
    "duration": 29,
    "start_time": "2025-04-25T06:08:14.630Z"
   },
   {
    "duration": 29,
    "start_time": "2025-04-25T06:08:14.660Z"
   },
   {
    "duration": 77,
    "start_time": "2025-04-25T06:11:02.149Z"
   },
   {
    "duration": 65,
    "start_time": "2025-04-25T06:11:48.522Z"
   },
   {
    "duration": 27,
    "start_time": "2025-04-25T06:13:01.965Z"
   },
   {
    "duration": 31,
    "start_time": "2025-04-25T06:15:20.602Z"
   },
   {
    "duration": 46,
    "start_time": "2025-04-25T06:16:10.596Z"
   },
   {
    "duration": 49,
    "start_time": "2025-04-25T06:17:25.498Z"
   },
   {
    "duration": 45,
    "start_time": "2025-04-25T06:17:33.763Z"
   },
   {
    "duration": 17,
    "start_time": "2025-04-25T06:19:55.373Z"
   },
   {
    "duration": 15,
    "start_time": "2025-04-25T06:20:45.144Z"
   },
   {
    "duration": 13,
    "start_time": "2025-04-25T06:20:59.483Z"
   },
   {
    "duration": 23,
    "start_time": "2025-04-25T06:21:14.241Z"
   },
   {
    "duration": 26,
    "start_time": "2025-04-25T06:22:35.642Z"
   },
   {
    "duration": 60,
    "start_time": "2025-04-25T06:22:53.198Z"
   },
   {
    "duration": 38,
    "start_time": "2025-04-25T06:23:08.671Z"
   },
   {
    "duration": 35,
    "start_time": "2025-04-25T06:24:29.023Z"
   },
   {
    "duration": 23,
    "start_time": "2025-04-25T06:25:02.779Z"
   },
   {
    "duration": 33,
    "start_time": "2025-04-25T06:25:20.618Z"
   },
   {
    "duration": 120,
    "start_time": "2025-04-25T06:28:04.583Z"
   },
   {
    "duration": 4123,
    "start_time": "2025-04-25T06:31:25.403Z"
   },
   {
    "duration": 2122,
    "start_time": "2025-04-25T06:31:29.529Z"
   },
   {
    "duration": 48,
    "start_time": "2025-04-25T06:31:31.653Z"
   },
   {
    "duration": 121,
    "start_time": "2025-04-25T06:31:31.703Z"
   },
   {
    "duration": 12,
    "start_time": "2025-04-25T06:31:31.825Z"
   },
   {
    "duration": 15,
    "start_time": "2025-04-25T06:31:31.839Z"
   },
   {
    "duration": 32,
    "start_time": "2025-04-25T06:31:31.860Z"
   },
   {
    "duration": 45,
    "start_time": "2025-04-25T06:31:31.894Z"
   },
   {
    "duration": 36,
    "start_time": "2025-04-25T06:31:31.941Z"
   },
   {
    "duration": 16,
    "start_time": "2025-04-25T06:31:31.980Z"
   },
   {
    "duration": 54,
    "start_time": "2025-04-25T06:31:31.998Z"
   },
   {
    "duration": 61,
    "start_time": "2025-04-25T06:31:32.054Z"
   },
   {
    "duration": 8,
    "start_time": "2025-04-25T06:31:32.117Z"
   },
   {
    "duration": 51,
    "start_time": "2025-04-25T06:31:32.127Z"
   },
   {
    "duration": 31,
    "start_time": "2025-04-25T06:31:32.180Z"
   },
   {
    "duration": 78,
    "start_time": "2025-04-25T06:31:32.213Z"
   },
   {
    "duration": 157,
    "start_time": "2025-04-25T06:31:32.293Z"
   },
   {
    "duration": 83,
    "start_time": "2025-04-25T06:31:32.452Z"
   },
   {
    "duration": 30,
    "start_time": "2025-04-25T06:31:32.537Z"
   },
   {
    "duration": 146,
    "start_time": "2025-04-25T06:31:32.569Z"
   },
   {
    "duration": 53,
    "start_time": "2025-04-25T06:31:32.716Z"
   },
   {
    "duration": 156,
    "start_time": "2025-04-25T06:31:32.771Z"
   },
   {
    "duration": 10,
    "start_time": "2025-04-25T06:31:32.928Z"
   },
   {
    "duration": 108,
    "start_time": "2025-04-25T06:31:32.939Z"
   },
   {
    "duration": 21,
    "start_time": "2025-04-25T06:31:33.049Z"
   },
   {
    "duration": 150,
    "start_time": "2025-04-25T06:31:33.072Z"
   },
   {
    "duration": 263,
    "start_time": "2025-04-25T06:31:33.224Z"
   },
   {
    "duration": 62,
    "start_time": "2025-04-25T06:31:33.492Z"
   },
   {
    "duration": 229,
    "start_time": "2025-04-25T06:31:33.556Z"
   },
   {
    "duration": 167,
    "start_time": "2025-04-25T06:31:33.787Z"
   },
   {
    "duration": 14,
    "start_time": "2025-04-25T06:31:33.960Z"
   },
   {
    "duration": 127,
    "start_time": "2025-04-25T06:31:33.976Z"
   },
   {
    "duration": 10,
    "start_time": "2025-04-25T06:31:34.106Z"
   },
   {
    "duration": 102,
    "start_time": "2025-04-25T06:31:34.118Z"
   },
   {
    "duration": 106,
    "start_time": "2025-04-25T06:31:34.222Z"
   },
   {
    "duration": 166,
    "start_time": "2025-04-25T06:31:34.329Z"
   },
   {
    "duration": 117,
    "start_time": "2025-04-25T06:31:34.497Z"
   },
   {
    "duration": 174,
    "start_time": "2025-04-25T06:31:34.616Z"
   },
   {
    "duration": 43,
    "start_time": "2025-04-25T06:31:34.791Z"
   },
   {
    "duration": 42,
    "start_time": "2025-04-25T06:31:34.836Z"
   },
   {
    "duration": 69,
    "start_time": "2025-04-25T06:31:34.879Z"
   },
   {
    "duration": 17,
    "start_time": "2025-04-25T06:31:34.950Z"
   },
   {
    "duration": 59,
    "start_time": "2025-04-25T06:31:34.969Z"
   },
   {
    "duration": 49,
    "start_time": "2025-04-25T06:31:35.030Z"
   },
   {
    "duration": 86,
    "start_time": "2025-04-25T06:31:35.081Z"
   },
   {
    "duration": 33,
    "start_time": "2025-04-25T06:31:35.169Z"
   },
   {
    "duration": 40,
    "start_time": "2025-04-25T06:31:35.204Z"
   },
   {
    "duration": 132,
    "start_time": "2025-04-25T06:31:35.246Z"
   },
   {
    "duration": 121,
    "start_time": "2025-04-25T06:31:35.379Z"
   },
   {
    "duration": 29,
    "start_time": "2025-04-25T06:31:35.502Z"
   },
   {
    "duration": 59,
    "start_time": "2025-04-25T06:31:35.533Z"
   },
   {
    "duration": 86,
    "start_time": "2025-04-25T06:31:35.594Z"
   },
   {
    "duration": 26,
    "start_time": "2025-04-25T06:31:35.681Z"
   },
   {
    "duration": 67,
    "start_time": "2025-04-25T06:31:35.709Z"
   },
   {
    "duration": 48,
    "start_time": "2025-04-25T06:31:35.778Z"
   },
   {
    "duration": 110,
    "start_time": "2025-04-25T06:31:35.828Z"
   },
   {
    "duration": 3,
    "start_time": "2025-04-25T06:31:35.940Z"
   },
   {
    "duration": 78,
    "start_time": "2025-04-25T06:31:35.945Z"
   },
   {
    "duration": 113,
    "start_time": "2025-04-25T06:31:36.026Z"
   },
   {
    "duration": 38,
    "start_time": "2025-04-25T06:31:36.141Z"
   },
   {
    "duration": 90,
    "start_time": "2025-04-25T06:31:36.181Z"
   },
   {
    "duration": 367,
    "start_time": "2025-04-25T06:31:36.273Z"
   },
   {
    "duration": 74,
    "start_time": "2025-04-25T06:31:36.642Z"
   },
   {
    "duration": 44,
    "start_time": "2025-04-25T06:31:36.717Z"
   },
   {
    "duration": 65,
    "start_time": "2025-04-25T06:31:36.762Z"
   },
   {
    "duration": 67,
    "start_time": "2025-04-25T06:31:36.829Z"
   },
   {
    "duration": 20,
    "start_time": "2025-04-25T06:31:36.898Z"
   },
   {
    "duration": 95,
    "start_time": "2025-04-25T06:41:06.053Z"
   },
   {
    "duration": 85,
    "start_time": "2025-04-25T06:41:22.521Z"
   },
   {
    "duration": 90,
    "start_time": "2025-04-25T06:41:56.757Z"
   },
   {
    "duration": 115,
    "start_time": "2025-04-25T06:42:03.006Z"
   },
   {
    "duration": 116,
    "start_time": "2025-04-25T06:42:08.015Z"
   },
   {
    "duration": 106,
    "start_time": "2025-04-25T06:42:13.871Z"
   },
   {
    "duration": 87,
    "start_time": "2025-04-25T06:42:18.617Z"
   },
   {
    "duration": 81,
    "start_time": "2025-04-25T06:43:51.122Z"
   },
   {
    "duration": 84,
    "start_time": "2025-04-25T06:43:58.342Z"
   },
   {
    "duration": 4017,
    "start_time": "2025-04-25T06:57:23.120Z"
   },
   {
    "duration": 2730,
    "start_time": "2025-04-25T06:57:27.139Z"
   },
   {
    "duration": 40,
    "start_time": "2025-04-25T06:57:29.870Z"
   },
   {
    "duration": 111,
    "start_time": "2025-04-25T06:57:29.912Z"
   },
   {
    "duration": 12,
    "start_time": "2025-04-25T06:57:30.025Z"
   },
   {
    "duration": 65,
    "start_time": "2025-04-25T06:57:30.038Z"
   },
   {
    "duration": 82,
    "start_time": "2025-04-25T06:57:30.105Z"
   },
   {
    "duration": 109,
    "start_time": "2025-04-25T06:57:30.189Z"
   },
   {
    "duration": 145,
    "start_time": "2025-04-25T06:57:30.300Z"
   },
   {
    "duration": 51,
    "start_time": "2025-04-25T06:57:30.448Z"
   },
   {
    "duration": 25,
    "start_time": "2025-04-25T06:57:30.501Z"
   },
   {
    "duration": 61,
    "start_time": "2025-04-25T06:57:30.528Z"
   },
   {
    "duration": 12,
    "start_time": "2025-04-25T06:57:30.591Z"
   },
   {
    "duration": 63,
    "start_time": "2025-04-25T06:57:30.604Z"
   },
   {
    "duration": 46,
    "start_time": "2025-04-25T06:57:30.669Z"
   },
   {
    "duration": 181,
    "start_time": "2025-04-25T06:57:30.716Z"
   },
   {
    "duration": 162,
    "start_time": "2025-04-25T06:57:30.899Z"
   },
   {
    "duration": 83,
    "start_time": "2025-04-25T06:57:31.063Z"
   },
   {
    "duration": 32,
    "start_time": "2025-04-25T06:57:31.147Z"
   },
   {
    "duration": 11,
    "start_time": "2025-04-25T06:57:31.180Z"
   },
   {
    "duration": 155,
    "start_time": "2025-04-25T06:57:31.192Z"
   },
   {
    "duration": 155,
    "start_time": "2025-04-25T06:57:31.349Z"
   },
   {
    "duration": 49,
    "start_time": "2025-04-25T06:57:31.506Z"
   },
   {
    "duration": 93,
    "start_time": "2025-04-25T06:57:31.557Z"
   },
   {
    "duration": 23,
    "start_time": "2025-04-25T06:57:31.652Z"
   },
   {
    "duration": 57,
    "start_time": "2025-04-25T06:57:31.676Z"
   },
   {
    "duration": 66,
    "start_time": "2025-04-25T06:57:31.735Z"
   },
   {
    "duration": 35,
    "start_time": "2025-04-25T06:57:31.805Z"
   },
   {
    "duration": 200,
    "start_time": "2025-04-25T06:57:31.841Z"
   },
   {
    "duration": 161,
    "start_time": "2025-04-25T06:57:32.043Z"
   },
   {
    "duration": 13,
    "start_time": "2025-04-25T06:57:32.206Z"
   },
   {
    "duration": 93,
    "start_time": "2025-04-25T06:57:32.220Z"
   },
   {
    "duration": 8,
    "start_time": "2025-04-25T06:57:32.315Z"
   },
   {
    "duration": 87,
    "start_time": "2025-04-25T06:57:32.324Z"
   },
   {
    "duration": 30,
    "start_time": "2025-04-25T06:57:32.413Z"
   },
   {
    "duration": 158,
    "start_time": "2025-04-25T06:57:32.445Z"
   },
   {
    "duration": 112,
    "start_time": "2025-04-25T06:57:32.605Z"
   },
   {
    "duration": 17,
    "start_time": "2025-04-25T06:57:32.718Z"
   },
   {
    "duration": 145,
    "start_time": "2025-04-25T06:57:32.737Z"
   },
   {
    "duration": 15,
    "start_time": "2025-04-25T06:57:32.883Z"
   },
   {
    "duration": 88,
    "start_time": "2025-04-25T06:57:32.900Z"
   },
   {
    "duration": 16,
    "start_time": "2025-04-25T06:57:32.989Z"
   },
   {
    "duration": 37,
    "start_time": "2025-04-25T06:57:33.007Z"
   },
   {
    "duration": 15,
    "start_time": "2025-04-25T06:57:33.046Z"
   },
   {
    "duration": 37,
    "start_time": "2025-04-25T06:57:33.062Z"
   },
   {
    "duration": 20,
    "start_time": "2025-04-25T06:57:33.100Z"
   },
   {
    "duration": 25,
    "start_time": "2025-04-25T06:57:33.122Z"
   },
   {
    "duration": 56,
    "start_time": "2025-04-25T06:57:33.149Z"
   },
   {
    "duration": 124,
    "start_time": "2025-04-25T06:57:33.206Z"
   },
   {
    "duration": 11,
    "start_time": "2025-04-25T06:57:33.331Z"
   },
   {
    "duration": 16,
    "start_time": "2025-04-25T06:57:33.343Z"
   },
   {
    "duration": 205,
    "start_time": "2025-04-25T06:57:33.361Z"
   },
   {
    "duration": 28,
    "start_time": "2025-04-25T06:57:33.568Z"
   },
   {
    "duration": 74,
    "start_time": "2025-04-25T06:57:33.598Z"
   },
   {
    "duration": 53,
    "start_time": "2025-04-25T06:57:33.674Z"
   },
   {
    "duration": 62,
    "start_time": "2025-04-25T06:57:33.729Z"
   },
   {
    "duration": 83,
    "start_time": "2025-04-25T06:57:33.793Z"
   },
   {
    "duration": 0,
    "start_time": "2025-04-25T06:57:33.877Z"
   },
   {
    "duration": 0,
    "start_time": "2025-04-25T06:57:33.878Z"
   },
   {
    "duration": 0,
    "start_time": "2025-04-25T06:57:33.880Z"
   },
   {
    "duration": 0,
    "start_time": "2025-04-25T06:57:33.881Z"
   },
   {
    "duration": 0,
    "start_time": "2025-04-25T06:57:33.882Z"
   },
   {
    "duration": 1,
    "start_time": "2025-04-25T06:57:33.883Z"
   },
   {
    "duration": 1,
    "start_time": "2025-04-25T06:57:33.884Z"
   },
   {
    "duration": 0,
    "start_time": "2025-04-25T06:57:33.886Z"
   },
   {
    "duration": 0,
    "start_time": "2025-04-25T06:57:33.887Z"
   },
   {
    "duration": 0,
    "start_time": "2025-04-25T06:57:33.888Z"
   },
   {
    "duration": 3974,
    "start_time": "2025-04-25T06:58:06.488Z"
   },
   {
    "duration": 1835,
    "start_time": "2025-04-25T06:58:10.465Z"
   },
   {
    "duration": 43,
    "start_time": "2025-04-25T06:58:12.301Z"
   },
   {
    "duration": 117,
    "start_time": "2025-04-25T06:58:12.346Z"
   },
   {
    "duration": 11,
    "start_time": "2025-04-25T06:58:12.465Z"
   },
   {
    "duration": 20,
    "start_time": "2025-04-25T06:58:12.478Z"
   },
   {
    "duration": 8,
    "start_time": "2025-04-25T06:58:12.499Z"
   },
   {
    "duration": 10,
    "start_time": "2025-04-25T06:58:12.508Z"
   },
   {
    "duration": 14,
    "start_time": "2025-04-25T06:58:12.519Z"
   },
   {
    "duration": 27,
    "start_time": "2025-04-25T06:58:12.536Z"
   },
   {
    "duration": 25,
    "start_time": "2025-04-25T06:58:12.565Z"
   },
   {
    "duration": 95,
    "start_time": "2025-04-25T06:58:12.592Z"
   },
   {
    "duration": 11,
    "start_time": "2025-04-25T06:58:12.689Z"
   },
   {
    "duration": 20,
    "start_time": "2025-04-25T06:58:12.701Z"
   },
   {
    "duration": 128,
    "start_time": "2025-04-25T06:58:12.723Z"
   },
   {
    "duration": 33,
    "start_time": "2025-04-25T06:58:12.852Z"
   },
   {
    "duration": 162,
    "start_time": "2025-04-25T06:58:12.887Z"
   },
   {
    "duration": 87,
    "start_time": "2025-04-25T06:58:13.051Z"
   },
   {
    "duration": 30,
    "start_time": "2025-04-25T06:58:13.140Z"
   },
   {
    "duration": 12,
    "start_time": "2025-04-25T06:58:13.172Z"
   },
   {
    "duration": 120,
    "start_time": "2025-04-25T06:58:13.185Z"
   },
   {
    "duration": 148,
    "start_time": "2025-04-25T06:58:13.307Z"
   },
   {
    "duration": 12,
    "start_time": "2025-04-25T06:58:13.457Z"
   },
   {
    "duration": 162,
    "start_time": "2025-04-25T06:58:13.471Z"
   },
   {
    "duration": 26,
    "start_time": "2025-04-25T06:58:13.635Z"
   },
   {
    "duration": 39,
    "start_time": "2025-04-25T06:58:13.663Z"
   },
   {
    "duration": 23,
    "start_time": "2025-04-25T06:58:13.703Z"
   },
   {
    "duration": 50,
    "start_time": "2025-04-25T06:58:13.731Z"
   },
   {
    "duration": 202,
    "start_time": "2025-04-25T06:58:13.782Z"
   },
   {
    "duration": 163,
    "start_time": "2025-04-25T06:58:13.986Z"
   },
   {
    "duration": 12,
    "start_time": "2025-04-25T06:58:14.151Z"
   },
   {
    "duration": 81,
    "start_time": "2025-04-25T06:58:14.164Z"
   },
   {
    "duration": 16,
    "start_time": "2025-04-25T06:58:14.246Z"
   },
   {
    "duration": 58,
    "start_time": "2025-04-25T06:58:14.264Z"
   },
   {
    "duration": 38,
    "start_time": "2025-04-25T06:58:14.324Z"
   },
   {
    "duration": 158,
    "start_time": "2025-04-25T06:58:14.363Z"
   },
   {
    "duration": 118,
    "start_time": "2025-04-25T06:58:14.523Z"
   },
   {
    "duration": 32,
    "start_time": "2025-04-25T06:58:14.643Z"
   },
   {
    "duration": 42,
    "start_time": "2025-04-25T06:58:14.677Z"
   },
   {
    "duration": 95,
    "start_time": "2025-04-25T06:58:14.721Z"
   },
   {
    "duration": 104,
    "start_time": "2025-04-25T06:58:14.818Z"
   },
   {
    "duration": 17,
    "start_time": "2025-04-25T06:58:14.924Z"
   },
   {
    "duration": 35,
    "start_time": "2025-04-25T06:58:14.943Z"
   },
   {
    "duration": 18,
    "start_time": "2025-04-25T06:58:14.980Z"
   },
   {
    "duration": 70,
    "start_time": "2025-04-25T06:58:14.999Z"
   },
   {
    "duration": 134,
    "start_time": "2025-04-25T06:58:15.071Z"
   },
   {
    "duration": 138,
    "start_time": "2025-04-25T06:58:15.207Z"
   },
   {
    "duration": 49,
    "start_time": "2025-04-25T06:58:15.346Z"
   },
   {
    "duration": 214,
    "start_time": "2025-04-25T06:58:15.397Z"
   },
   {
    "duration": 167,
    "start_time": "2025-04-25T06:58:15.613Z"
   },
   {
    "duration": 34,
    "start_time": "2025-04-25T06:58:15.783Z"
   },
   {
    "duration": 47,
    "start_time": "2025-04-25T06:58:15.818Z"
   },
   {
    "duration": 23,
    "start_time": "2025-04-25T06:58:15.868Z"
   },
   {
    "duration": 78,
    "start_time": "2025-04-25T06:58:15.894Z"
   },
   {
    "duration": 35,
    "start_time": "2025-04-25T06:58:15.974Z"
   },
   {
    "duration": 82,
    "start_time": "2025-04-25T06:58:16.011Z"
   },
   {
    "duration": 4008,
    "start_time": "2025-04-25T07:02:37.578Z"
   },
   {
    "duration": 2568,
    "start_time": "2025-04-25T07:02:41.588Z"
   },
   {
    "duration": 41,
    "start_time": "2025-04-25T07:02:44.158Z"
   },
   {
    "duration": 113,
    "start_time": "2025-04-25T07:02:44.201Z"
   },
   {
    "duration": 12,
    "start_time": "2025-04-25T07:02:44.316Z"
   },
   {
    "duration": 60,
    "start_time": "2025-04-25T07:02:44.329Z"
   },
   {
    "duration": 65,
    "start_time": "2025-04-25T07:02:44.390Z"
   },
   {
    "duration": 41,
    "start_time": "2025-04-25T07:02:44.457Z"
   },
   {
    "duration": 50,
    "start_time": "2025-04-25T07:02:44.500Z"
   },
   {
    "duration": 39,
    "start_time": "2025-04-25T07:02:44.552Z"
   },
   {
    "duration": 140,
    "start_time": "2025-04-25T07:02:44.594Z"
   },
   {
    "duration": 168,
    "start_time": "2025-04-25T07:02:44.736Z"
   },
   {
    "duration": 9,
    "start_time": "2025-04-25T07:02:44.906Z"
   },
   {
    "duration": 36,
    "start_time": "2025-04-25T07:02:44.917Z"
   },
   {
    "duration": 26,
    "start_time": "2025-04-25T07:02:44.954Z"
   },
   {
    "duration": 64,
    "start_time": "2025-04-25T07:02:44.982Z"
   },
   {
    "duration": 184,
    "start_time": "2025-04-25T07:02:45.048Z"
   },
   {
    "duration": 91,
    "start_time": "2025-04-25T07:02:45.234Z"
   },
   {
    "duration": 42,
    "start_time": "2025-04-25T07:02:45.327Z"
   },
   {
    "duration": 187,
    "start_time": "2025-04-25T07:02:45.371Z"
   },
   {
    "duration": 64,
    "start_time": "2025-04-25T07:02:45.561Z"
   },
   {
    "duration": 150,
    "start_time": "2025-04-25T07:02:45.627Z"
   },
   {
    "duration": 10,
    "start_time": "2025-04-25T07:02:45.779Z"
   },
   {
    "duration": 92,
    "start_time": "2025-04-25T07:02:45.791Z"
   },
   {
    "duration": 21,
    "start_time": "2025-04-25T07:02:45.885Z"
   },
   {
    "duration": 55,
    "start_time": "2025-04-25T07:02:45.908Z"
   },
   {
    "duration": 19,
    "start_time": "2025-04-25T07:02:45.965Z"
   },
   {
    "duration": 31,
    "start_time": "2025-04-25T07:02:45.990Z"
   },
   {
    "duration": 231,
    "start_time": "2025-04-25T07:02:46.022Z"
   },
   {
    "duration": 166,
    "start_time": "2025-04-25T07:02:46.255Z"
   },
   {
    "duration": 12,
    "start_time": "2025-04-25T07:02:46.423Z"
   },
   {
    "duration": 148,
    "start_time": "2025-04-25T07:02:46.437Z"
   },
   {
    "duration": 9,
    "start_time": "2025-04-25T07:02:46.587Z"
   },
   {
    "duration": 64,
    "start_time": "2025-04-25T07:02:46.597Z"
   },
   {
    "duration": 44,
    "start_time": "2025-04-25T07:02:46.663Z"
   },
   {
    "duration": 164,
    "start_time": "2025-04-25T07:02:46.709Z"
   },
   {
    "duration": 118,
    "start_time": "2025-04-25T07:02:46.875Z"
   },
   {
    "duration": 18,
    "start_time": "2025-04-25T07:02:46.995Z"
   },
   {
    "duration": 50,
    "start_time": "2025-04-25T07:02:47.014Z"
   },
   {
    "duration": 3,
    "start_time": "2025-04-25T07:02:47.066Z"
   },
   {
    "duration": 86,
    "start_time": "2025-04-25T07:02:47.070Z"
   },
   {
    "duration": 17,
    "start_time": "2025-04-25T07:02:47.158Z"
   },
   {
    "duration": 32,
    "start_time": "2025-04-25T07:02:47.177Z"
   },
   {
    "duration": 9,
    "start_time": "2025-04-25T07:02:47.210Z"
   },
   {
    "duration": 106,
    "start_time": "2025-04-25T07:02:47.221Z"
   },
   {
    "duration": 15,
    "start_time": "2025-04-25T07:02:47.329Z"
   },
   {
    "duration": 11,
    "start_time": "2025-04-25T07:02:47.346Z"
   },
   {
    "duration": 29,
    "start_time": "2025-04-25T07:02:47.358Z"
   },
   {
    "duration": 223,
    "start_time": "2025-04-25T07:02:47.389Z"
   },
   {
    "duration": 53,
    "start_time": "2025-04-25T07:02:47.614Z"
   },
   {
    "duration": 21,
    "start_time": "2025-04-25T07:02:47.669Z"
   },
   {
    "duration": 52,
    "start_time": "2025-04-25T07:02:47.692Z"
   },
   {
    "duration": 23,
    "start_time": "2025-04-25T07:02:47.745Z"
   },
   {
    "duration": 47,
    "start_time": "2025-04-25T07:02:47.770Z"
   },
   {
    "duration": 41,
    "start_time": "2025-04-25T07:02:47.819Z"
   },
   {
    "duration": 63,
    "start_time": "2025-04-25T07:02:47.861Z"
   },
   {
    "duration": 121,
    "start_time": "2025-04-25T07:02:47.925Z"
   },
   {
    "duration": 0,
    "start_time": "2025-04-25T07:02:48.047Z"
   },
   {
    "duration": 0,
    "start_time": "2025-04-25T07:02:48.049Z"
   },
   {
    "duration": 0,
    "start_time": "2025-04-25T07:02:48.050Z"
   },
   {
    "duration": 0,
    "start_time": "2025-04-25T07:02:48.051Z"
   },
   {
    "duration": 0,
    "start_time": "2025-04-25T07:02:48.061Z"
   },
   {
    "duration": 0,
    "start_time": "2025-04-25T07:02:48.062Z"
   },
   {
    "duration": 0,
    "start_time": "2025-04-25T07:02:48.063Z"
   },
   {
    "duration": 0,
    "start_time": "2025-04-25T07:02:48.065Z"
   },
   {
    "duration": 0,
    "start_time": "2025-04-25T07:02:48.066Z"
   },
   {
    "duration": 0,
    "start_time": "2025-04-25T07:02:48.067Z"
   },
   {
    "duration": 4064,
    "start_time": "2025-04-25T07:04:04.271Z"
   },
   {
    "duration": 1917,
    "start_time": "2025-04-25T07:04:08.338Z"
   },
   {
    "duration": 46,
    "start_time": "2025-04-25T07:04:10.257Z"
   },
   {
    "duration": 116,
    "start_time": "2025-04-25T07:04:10.305Z"
   },
   {
    "duration": 12,
    "start_time": "2025-04-25T07:04:10.423Z"
   },
   {
    "duration": 13,
    "start_time": "2025-04-25T07:04:10.436Z"
   },
   {
    "duration": 15,
    "start_time": "2025-04-25T07:04:10.451Z"
   },
   {
    "duration": 25,
    "start_time": "2025-04-25T07:04:10.468Z"
   },
   {
    "duration": 19,
    "start_time": "2025-04-25T07:04:10.495Z"
   },
   {
    "duration": 23,
    "start_time": "2025-04-25T07:04:10.517Z"
   },
   {
    "duration": 28,
    "start_time": "2025-04-25T07:04:10.541Z"
   },
   {
    "duration": 45,
    "start_time": "2025-04-25T07:04:10.571Z"
   },
   {
    "duration": 9,
    "start_time": "2025-04-25T07:04:10.618Z"
   },
   {
    "duration": 43,
    "start_time": "2025-04-25T07:04:10.629Z"
   },
   {
    "duration": 11,
    "start_time": "2025-04-25T07:04:10.675Z"
   },
   {
    "duration": 26,
    "start_time": "2025-04-25T07:04:10.688Z"
   },
   {
    "duration": 181,
    "start_time": "2025-04-25T07:04:10.716Z"
   },
   {
    "duration": 89,
    "start_time": "2025-04-25T07:04:10.899Z"
   },
   {
    "duration": 22,
    "start_time": "2025-04-25T07:04:10.990Z"
   },
   {
    "duration": 12,
    "start_time": "2025-04-25T07:04:11.013Z"
   },
   {
    "duration": 39,
    "start_time": "2025-04-25T07:04:11.027Z"
   },
   {
    "duration": 160,
    "start_time": "2025-04-25T07:04:11.067Z"
   },
   {
    "duration": 9,
    "start_time": "2025-04-25T07:04:11.228Z"
   },
   {
    "duration": 156,
    "start_time": "2025-04-25T07:04:11.239Z"
   },
   {
    "duration": 19,
    "start_time": "2025-04-25T07:04:11.397Z"
   },
   {
    "duration": 217,
    "start_time": "2025-04-25T07:04:11.417Z"
   },
   {
    "duration": 19,
    "start_time": "2025-04-25T07:04:11.636Z"
   },
   {
    "duration": 31,
    "start_time": "2025-04-25T07:04:11.659Z"
   },
   {
    "duration": 206,
    "start_time": "2025-04-25T07:04:11.692Z"
   },
   {
    "duration": 171,
    "start_time": "2025-04-25T07:04:11.900Z"
   },
   {
    "duration": 13,
    "start_time": "2025-04-25T07:04:12.073Z"
   },
   {
    "duration": 93,
    "start_time": "2025-04-25T07:04:12.088Z"
   },
   {
    "duration": 9,
    "start_time": "2025-04-25T07:04:12.182Z"
   },
   {
    "duration": 70,
    "start_time": "2025-04-25T07:04:12.193Z"
   },
   {
    "duration": 26,
    "start_time": "2025-04-25T07:04:12.265Z"
   },
   {
    "duration": 164,
    "start_time": "2025-04-25T07:04:12.293Z"
   },
   {
    "duration": 114,
    "start_time": "2025-04-25T07:04:12.461Z"
   },
   {
    "duration": 18,
    "start_time": "2025-04-25T07:04:12.577Z"
   },
   {
    "duration": 50,
    "start_time": "2025-04-25T07:04:12.597Z"
   },
   {
    "duration": 3,
    "start_time": "2025-04-25T07:04:12.649Z"
   },
   {
    "duration": 65,
    "start_time": "2025-04-25T07:04:12.653Z"
   },
   {
    "duration": 17,
    "start_time": "2025-04-25T07:04:12.720Z"
   },
   {
    "duration": 142,
    "start_time": "2025-04-25T07:04:12.738Z"
   },
   {
    "duration": 20,
    "start_time": "2025-04-25T07:04:12.881Z"
   },
   {
    "duration": 7,
    "start_time": "2025-04-25T07:04:12.903Z"
   },
   {
    "duration": 14,
    "start_time": "2025-04-25T07:04:12.912Z"
   },
   {
    "duration": 15,
    "start_time": "2025-04-25T07:04:12.927Z"
   },
   {
    "duration": 41,
    "start_time": "2025-04-25T07:04:12.943Z"
   },
   {
    "duration": 31,
    "start_time": "2025-04-25T07:04:12.986Z"
   },
   {
    "duration": 11,
    "start_time": "2025-04-25T07:04:13.018Z"
   },
   {
    "duration": 5,
    "start_time": "2025-04-25T07:04:13.030Z"
   },
   {
    "duration": 49,
    "start_time": "2025-04-25T07:04:13.062Z"
   },
   {
    "duration": 23,
    "start_time": "2025-04-25T07:04:13.112Z"
   },
   {
    "duration": 29,
    "start_time": "2025-04-25T07:04:13.161Z"
   },
   {
    "duration": 22,
    "start_time": "2025-04-25T07:04:13.192Z"
   },
   {
    "duration": 208,
    "start_time": "2025-04-25T07:04:13.215Z"
   },
   {
    "duration": 0,
    "start_time": "2025-04-25T07:04:13.424Z"
   },
   {
    "duration": 0,
    "start_time": "2025-04-25T07:04:13.425Z"
   },
   {
    "duration": 0,
    "start_time": "2025-04-25T07:04:13.427Z"
   },
   {
    "duration": 0,
    "start_time": "2025-04-25T07:04:13.428Z"
   },
   {
    "duration": 0,
    "start_time": "2025-04-25T07:04:13.429Z"
   },
   {
    "duration": 0,
    "start_time": "2025-04-25T07:04:13.431Z"
   },
   {
    "duration": 0,
    "start_time": "2025-04-25T07:04:13.432Z"
   },
   {
    "duration": 0,
    "start_time": "2025-04-25T07:04:13.433Z"
   },
   {
    "duration": 0,
    "start_time": "2025-04-25T07:04:13.434Z"
   },
   {
    "duration": 0,
    "start_time": "2025-04-25T07:04:13.436Z"
   },
   {
    "duration": 0,
    "start_time": "2025-04-25T07:04:13.437Z"
   },
   {
    "duration": 11,
    "start_time": "2025-04-25T07:06:09.188Z"
   },
   {
    "duration": 16,
    "start_time": "2025-04-25T07:07:25.784Z"
   },
   {
    "duration": 17,
    "start_time": "2025-04-25T07:07:38.624Z"
   },
   {
    "duration": 17,
    "start_time": "2025-04-25T07:07:57.166Z"
   },
   {
    "duration": 16,
    "start_time": "2025-04-25T07:40:56.966Z"
   },
   {
    "duration": 4003,
    "start_time": "2025-04-25T07:43:17.196Z"
   },
   {
    "duration": 1967,
    "start_time": "2025-04-25T07:43:21.201Z"
   },
   {
    "duration": 42,
    "start_time": "2025-04-25T07:43:23.170Z"
   },
   {
    "duration": 115,
    "start_time": "2025-04-25T07:43:23.214Z"
   },
   {
    "duration": 12,
    "start_time": "2025-04-25T07:43:23.331Z"
   },
   {
    "duration": 18,
    "start_time": "2025-04-25T07:43:23.344Z"
   },
   {
    "duration": 32,
    "start_time": "2025-04-25T07:43:23.364Z"
   },
   {
    "duration": 15,
    "start_time": "2025-04-25T07:43:23.397Z"
   },
   {
    "duration": 131,
    "start_time": "2025-04-25T07:43:23.414Z"
   },
   {
    "duration": 23,
    "start_time": "2025-04-25T07:43:23.548Z"
   },
   {
    "duration": 12,
    "start_time": "2025-04-25T07:43:23.573Z"
   },
   {
    "duration": 147,
    "start_time": "2025-04-25T07:43:23.587Z"
   },
   {
    "duration": 9,
    "start_time": "2025-04-25T07:43:23.736Z"
   },
   {
    "duration": 42,
    "start_time": "2025-04-25T07:43:23.747Z"
   },
   {
    "duration": 40,
    "start_time": "2025-04-25T07:43:23.791Z"
   },
   {
    "duration": 31,
    "start_time": "2025-04-25T07:43:23.833Z"
   },
   {
    "duration": 211,
    "start_time": "2025-04-25T07:43:23.866Z"
   },
   {
    "duration": 84,
    "start_time": "2025-04-25T07:43:24.079Z"
   },
   {
    "duration": 23,
    "start_time": "2025-04-25T07:43:24.164Z"
   },
   {
    "duration": 38,
    "start_time": "2025-04-25T07:43:24.189Z"
   },
   {
    "duration": 23,
    "start_time": "2025-04-25T07:43:24.228Z"
   },
   {
    "duration": 170,
    "start_time": "2025-04-25T07:43:24.253Z"
   },
   {
    "duration": 10,
    "start_time": "2025-04-25T07:43:24.425Z"
   },
   {
    "duration": 89,
    "start_time": "2025-04-25T07:43:24.437Z"
   },
   {
    "duration": 36,
    "start_time": "2025-04-25T07:43:24.528Z"
   },
   {
    "duration": 38,
    "start_time": "2025-04-25T07:43:24.566Z"
   },
   {
    "duration": 21,
    "start_time": "2025-04-25T07:43:24.605Z"
   },
   {
    "duration": 50,
    "start_time": "2025-04-25T07:43:24.630Z"
   },
   {
    "duration": 221,
    "start_time": "2025-04-25T07:43:24.682Z"
   },
   {
    "duration": 180,
    "start_time": "2025-04-25T07:43:24.905Z"
   },
   {
    "duration": 17,
    "start_time": "2025-04-25T07:43:25.088Z"
   },
   {
    "duration": 118,
    "start_time": "2025-04-25T07:43:25.107Z"
   },
   {
    "duration": 8,
    "start_time": "2025-04-25T07:43:25.227Z"
   },
   {
    "duration": 85,
    "start_time": "2025-04-25T07:43:25.237Z"
   },
   {
    "duration": 23,
    "start_time": "2025-04-25T07:43:25.324Z"
   },
   {
    "duration": 164,
    "start_time": "2025-04-25T07:43:25.349Z"
   },
   {
    "duration": 122,
    "start_time": "2025-04-25T07:43:25.514Z"
   },
   {
    "duration": 24,
    "start_time": "2025-04-25T07:43:25.638Z"
   },
   {
    "duration": 92,
    "start_time": "2025-04-25T07:43:25.664Z"
   },
   {
    "duration": 9,
    "start_time": "2025-04-25T07:43:25.758Z"
   },
   {
    "duration": 60,
    "start_time": "2025-04-25T07:43:25.768Z"
   },
   {
    "duration": 17,
    "start_time": "2025-04-25T07:43:25.830Z"
   },
   {
    "duration": 24,
    "start_time": "2025-04-25T07:43:25.860Z"
   },
   {
    "duration": 9,
    "start_time": "2025-04-25T07:43:25.885Z"
   },
   {
    "duration": 71,
    "start_time": "2025-04-25T07:43:25.896Z"
   },
   {
    "duration": 22,
    "start_time": "2025-04-25T07:43:25.969Z"
   },
   {
    "duration": 11,
    "start_time": "2025-04-25T07:43:25.993Z"
   },
   {
    "duration": 5,
    "start_time": "2025-04-25T07:43:26.006Z"
   },
   {
    "duration": 41,
    "start_time": "2025-04-25T07:43:26.013Z"
   },
   {
    "duration": 14,
    "start_time": "2025-04-25T07:43:26.056Z"
   },
   {
    "duration": 47,
    "start_time": "2025-04-25T07:43:26.071Z"
   },
   {
    "duration": 50,
    "start_time": "2025-04-25T07:43:26.120Z"
   },
   {
    "duration": 34,
    "start_time": "2025-04-25T07:43:26.172Z"
   },
   {
    "duration": 39,
    "start_time": "2025-04-25T07:43:26.207Z"
   },
   {
    "duration": 55,
    "start_time": "2025-04-25T07:43:26.247Z"
   },
   {
    "duration": 79,
    "start_time": "2025-04-25T07:43:26.303Z"
   },
   {
    "duration": 56,
    "start_time": "2025-04-25T07:43:26.384Z"
   },
   {
    "duration": 80,
    "start_time": "2025-04-25T07:43:26.442Z"
   },
   {
    "duration": 353,
    "start_time": "2025-04-25T07:43:26.524Z"
   },
   {
    "duration": 64,
    "start_time": "2025-04-25T07:43:26.879Z"
   },
   {
    "duration": 38,
    "start_time": "2025-04-25T07:43:26.945Z"
   },
   {
    "duration": 171,
    "start_time": "2025-04-25T07:43:26.984Z"
   },
   {
    "duration": 34,
    "start_time": "2025-04-25T07:43:27.157Z"
   },
   {
    "duration": 17,
    "start_time": "2025-04-25T07:43:27.193Z"
   },
   {
    "duration": 3,
    "start_time": "2025-04-25T08:04:11.288Z"
   },
   {
    "duration": 1369,
    "start_time": "2025-04-25T08:04:35.940Z"
   },
   {
    "duration": 2002,
    "start_time": "2025-04-25T08:04:37.311Z"
   },
   {
    "duration": 49,
    "start_time": "2025-04-25T08:04:39.315Z"
   },
   {
    "duration": 114,
    "start_time": "2025-04-25T08:04:39.366Z"
   },
   {
    "duration": 12,
    "start_time": "2025-04-25T08:04:39.481Z"
   },
   {
    "duration": 29,
    "start_time": "2025-04-25T08:04:39.495Z"
   },
   {
    "duration": 32,
    "start_time": "2025-04-25T08:04:39.526Z"
   },
   {
    "duration": 31,
    "start_time": "2025-04-25T08:04:39.560Z"
   },
   {
    "duration": 42,
    "start_time": "2025-04-25T08:04:39.592Z"
   },
   {
    "duration": 28,
    "start_time": "2025-04-25T08:04:39.637Z"
   },
   {
    "duration": 160,
    "start_time": "2025-04-25T08:04:39.666Z"
   },
   {
    "duration": 78,
    "start_time": "2025-04-25T08:04:39.829Z"
   },
   {
    "duration": 9,
    "start_time": "2025-04-25T08:04:39.909Z"
   },
   {
    "duration": 47,
    "start_time": "2025-04-25T08:04:39.920Z"
   },
   {
    "duration": 14,
    "start_time": "2025-04-25T08:04:39.969Z"
   },
   {
    "duration": 66,
    "start_time": "2025-04-25T08:04:39.985Z"
   },
   {
    "duration": 170,
    "start_time": "2025-04-25T08:04:40.053Z"
   },
   {
    "duration": 88,
    "start_time": "2025-04-25T08:04:40.225Z"
   },
   {
    "duration": 23,
    "start_time": "2025-04-25T08:04:40.315Z"
   },
   {
    "duration": 38,
    "start_time": "2025-04-25T08:04:40.340Z"
   },
   {
    "duration": 49,
    "start_time": "2025-04-25T08:04:40.380Z"
   },
   {
    "duration": 161,
    "start_time": "2025-04-25T08:04:40.431Z"
   },
   {
    "duration": 11,
    "start_time": "2025-04-25T08:04:40.593Z"
   },
   {
    "duration": 96,
    "start_time": "2025-04-25T08:04:40.605Z"
   },
   {
    "duration": 23,
    "start_time": "2025-04-25T08:04:40.703Z"
   },
   {
    "duration": 63,
    "start_time": "2025-04-25T08:04:40.727Z"
   },
   {
    "duration": 20,
    "start_time": "2025-04-25T08:04:40.792Z"
   },
   {
    "duration": 62,
    "start_time": "2025-04-25T08:04:40.816Z"
   },
   {
    "duration": 214,
    "start_time": "2025-04-25T08:04:40.880Z"
   },
   {
    "duration": 168,
    "start_time": "2025-04-25T08:04:41.095Z"
   },
   {
    "duration": 55,
    "start_time": "2025-04-25T08:04:41.265Z"
   },
   {
    "duration": 92,
    "start_time": "2025-04-25T08:04:41.321Z"
   },
   {
    "duration": 9,
    "start_time": "2025-04-25T08:04:41.415Z"
   },
   {
    "duration": 65,
    "start_time": "2025-04-25T08:04:41.425Z"
   },
   {
    "duration": 30,
    "start_time": "2025-04-25T08:04:41.492Z"
   },
   {
    "duration": 254,
    "start_time": "2025-04-25T08:04:41.525Z"
   },
   {
    "duration": 115,
    "start_time": "2025-04-25T08:04:41.780Z"
   },
   {
    "duration": 20,
    "start_time": "2025-04-25T08:04:41.897Z"
   },
   {
    "duration": 55,
    "start_time": "2025-04-25T08:04:41.919Z"
   },
   {
    "duration": 32,
    "start_time": "2025-04-25T08:04:41.976Z"
   },
   {
    "duration": 141,
    "start_time": "2025-04-25T08:04:42.009Z"
   },
   {
    "duration": 18,
    "start_time": "2025-04-25T08:04:42.151Z"
   },
   {
    "duration": 30,
    "start_time": "2025-04-25T08:04:42.170Z"
   },
   {
    "duration": 10,
    "start_time": "2025-04-25T08:04:42.201Z"
   },
   {
    "duration": 14,
    "start_time": "2025-04-25T08:04:42.213Z"
   },
   {
    "duration": 33,
    "start_time": "2025-04-25T08:04:42.229Z"
   },
   {
    "duration": 12,
    "start_time": "2025-04-25T08:04:42.264Z"
   },
   {
    "duration": 3,
    "start_time": "2025-04-25T08:04:42.278Z"
   },
   {
    "duration": 38,
    "start_time": "2025-04-25T08:04:42.282Z"
   },
   {
    "duration": 10,
    "start_time": "2025-04-25T08:04:42.322Z"
   },
   {
    "duration": 45,
    "start_time": "2025-04-25T08:04:42.362Z"
   },
   {
    "duration": 27,
    "start_time": "2025-04-25T08:04:42.409Z"
   },
   {
    "duration": 40,
    "start_time": "2025-04-25T08:04:42.438Z"
   },
   {
    "duration": 38,
    "start_time": "2025-04-25T08:04:42.479Z"
   },
   {
    "duration": 48,
    "start_time": "2025-04-25T08:04:42.518Z"
   },
   {
    "duration": 93,
    "start_time": "2025-04-25T08:04:42.568Z"
   },
   {
    "duration": 58,
    "start_time": "2025-04-25T08:04:42.662Z"
   },
   {
    "duration": 86,
    "start_time": "2025-04-25T08:04:42.722Z"
   },
   {
    "duration": 340,
    "start_time": "2025-04-25T08:04:42.809Z"
   },
   {
    "duration": 67,
    "start_time": "2025-04-25T08:04:43.150Z"
   },
   {
    "duration": 127,
    "start_time": "2025-04-25T08:04:43.219Z"
   },
   {
    "duration": 29,
    "start_time": "2025-04-25T08:04:43.348Z"
   },
   {
    "duration": 26,
    "start_time": "2025-04-25T08:04:43.379Z"
   },
   {
    "duration": 14,
    "start_time": "2025-04-25T08:04:43.406Z"
   },
   {
    "duration": 28,
    "start_time": "2025-04-25T08:44:30.575Z"
   },
   {
    "duration": 13,
    "start_time": "2025-04-25T08:45:07.525Z"
   },
   {
    "duration": 27,
    "start_time": "2025-04-25T08:53:19.328Z"
   },
   {
    "duration": 1260,
    "start_time": "2025-04-25T11:13:39.330Z"
   },
   {
    "duration": 1820,
    "start_time": "2025-04-25T11:13:40.594Z"
   },
   {
    "duration": 39,
    "start_time": "2025-04-25T11:13:42.416Z"
   },
   {
    "duration": 116,
    "start_time": "2025-04-25T11:13:42.462Z"
   },
   {
    "duration": 11,
    "start_time": "2025-04-25T11:13:42.580Z"
   },
   {
    "duration": 12,
    "start_time": "2025-04-25T11:13:42.593Z"
   },
   {
    "duration": 6,
    "start_time": "2025-04-25T11:13:42.608Z"
   },
   {
    "duration": 18,
    "start_time": "2025-04-25T11:13:42.616Z"
   },
   {
    "duration": 11,
    "start_time": "2025-04-25T11:13:42.636Z"
   },
   {
    "duration": 12,
    "start_time": "2025-04-25T11:13:42.662Z"
   },
   {
    "duration": 20,
    "start_time": "2025-04-25T11:13:42.676Z"
   },
   {
    "duration": 52,
    "start_time": "2025-04-25T11:13:42.698Z"
   },
   {
    "duration": 15,
    "start_time": "2025-04-25T11:13:42.752Z"
   },
   {
    "duration": 53,
    "start_time": "2025-04-25T11:13:42.769Z"
   },
   {
    "duration": 9,
    "start_time": "2025-04-25T11:13:42.825Z"
   },
   {
    "duration": 25,
    "start_time": "2025-04-25T11:13:42.836Z"
   },
   {
    "duration": 150,
    "start_time": "2025-04-25T11:13:42.862Z"
   },
   {
    "duration": 87,
    "start_time": "2025-04-25T11:13:43.014Z"
   },
   {
    "duration": 21,
    "start_time": "2025-04-25T11:13:43.103Z"
   },
   {
    "duration": 11,
    "start_time": "2025-04-25T11:13:43.126Z"
   },
   {
    "duration": 37,
    "start_time": "2025-04-25T11:13:43.139Z"
   },
   {
    "duration": 152,
    "start_time": "2025-04-25T11:13:43.178Z"
   },
   {
    "duration": 10,
    "start_time": "2025-04-25T11:13:43.331Z"
   },
   {
    "duration": 68,
    "start_time": "2025-04-25T11:13:43.363Z"
   },
   {
    "duration": 35,
    "start_time": "2025-04-25T11:13:43.433Z"
   },
   {
    "duration": 37,
    "start_time": "2025-04-25T11:13:43.470Z"
   },
   {
    "duration": 19,
    "start_time": "2025-04-25T11:13:43.509Z"
   },
   {
    "duration": 53,
    "start_time": "2025-04-25T11:13:43.532Z"
   },
   {
    "duration": 214,
    "start_time": "2025-04-25T11:13:43.586Z"
   },
   {
    "duration": 155,
    "start_time": "2025-04-25T11:13:43.802Z"
   },
   {
    "duration": 13,
    "start_time": "2025-04-25T11:13:43.961Z"
   },
   {
    "duration": 89,
    "start_time": "2025-04-25T11:13:43.976Z"
   },
   {
    "duration": 8,
    "start_time": "2025-04-25T11:13:44.067Z"
   },
   {
    "duration": 61,
    "start_time": "2025-04-25T11:13:44.076Z"
   },
   {
    "duration": 42,
    "start_time": "2025-04-25T11:13:44.138Z"
   },
   {
    "duration": 153,
    "start_time": "2025-04-25T11:13:44.182Z"
   },
   {
    "duration": 111,
    "start_time": "2025-04-25T11:13:44.337Z"
   },
   {
    "duration": 21,
    "start_time": "2025-04-25T11:13:44.450Z"
   },
   {
    "duration": 25,
    "start_time": "2025-04-25T11:13:44.472Z"
   },
   {
    "duration": 3,
    "start_time": "2025-04-25T11:13:44.499Z"
   },
   {
    "duration": 84,
    "start_time": "2025-04-25T11:13:44.504Z"
   },
   {
    "duration": 16,
    "start_time": "2025-04-25T11:13:44.590Z"
   },
   {
    "duration": 23,
    "start_time": "2025-04-25T11:13:44.608Z"
   },
   {
    "duration": 30,
    "start_time": "2025-04-25T11:13:44.633Z"
   },
   {
    "duration": 6,
    "start_time": "2025-04-25T11:13:44.665Z"
   },
   {
    "duration": 12,
    "start_time": "2025-04-25T11:13:44.673Z"
   },
   {
    "duration": 13,
    "start_time": "2025-04-25T11:13:44.686Z"
   },
   {
    "duration": 2,
    "start_time": "2025-04-25T11:13:44.701Z"
   },
   {
    "duration": 72,
    "start_time": "2025-04-25T11:13:44.704Z"
   },
   {
    "duration": 9,
    "start_time": "2025-04-25T11:13:44.778Z"
   },
   {
    "duration": 54,
    "start_time": "2025-04-25T11:13:44.788Z"
   },
   {
    "duration": 44,
    "start_time": "2025-04-25T11:13:44.843Z"
   },
   {
    "duration": 21,
    "start_time": "2025-04-25T11:13:44.889Z"
   },
   {
    "duration": 16,
    "start_time": "2025-04-25T11:13:44.912Z"
   },
   {
    "duration": 69,
    "start_time": "2025-04-25T11:13:44.930Z"
   },
   {
    "duration": 88,
    "start_time": "2025-04-25T11:13:45.001Z"
   },
   {
    "duration": 55,
    "start_time": "2025-04-25T11:13:45.090Z"
   },
   {
    "duration": 78,
    "start_time": "2025-04-25T11:13:45.147Z"
   },
   {
    "duration": 337,
    "start_time": "2025-04-25T11:13:45.226Z"
   },
   {
    "duration": 66,
    "start_time": "2025-04-25T11:13:45.564Z"
   },
   {
    "duration": 42,
    "start_time": "2025-04-25T11:13:45.631Z"
   },
   {
    "duration": 33,
    "start_time": "2025-04-25T11:13:45.675Z"
   },
   {
    "duration": 26,
    "start_time": "2025-04-25T11:13:45.709Z"
   },
   {
    "duration": 35,
    "start_time": "2025-04-25T11:13:45.736Z"
   },
   {
    "duration": 23,
    "start_time": "2025-04-25T11:19:28.189Z"
   },
   {
    "duration": 31,
    "start_time": "2025-04-25T11:20:21.629Z"
   },
   {
    "duration": 49,
    "start_time": "2025-04-25T12:30:58.530Z"
   },
   {
    "duration": 1488,
    "start_time": "2025-04-25T12:31:04.636Z"
   },
   {
    "duration": 2113,
    "start_time": "2025-04-25T12:31:06.126Z"
   },
   {
    "duration": 45,
    "start_time": "2025-04-25T12:31:08.240Z"
   },
   {
    "duration": 109,
    "start_time": "2025-04-25T12:31:08.287Z"
   },
   {
    "duration": 10,
    "start_time": "2025-04-25T12:31:08.398Z"
   },
   {
    "duration": 19,
    "start_time": "2025-04-25T12:31:08.410Z"
   },
   {
    "duration": 22,
    "start_time": "2025-04-25T12:31:08.430Z"
   },
   {
    "duration": 25,
    "start_time": "2025-04-25T12:31:08.453Z"
   },
   {
    "duration": 24,
    "start_time": "2025-04-25T12:31:08.479Z"
   },
   {
    "duration": 27,
    "start_time": "2025-04-25T12:31:08.506Z"
   },
   {
    "duration": 14,
    "start_time": "2025-04-25T12:31:08.535Z"
   },
   {
    "duration": 68,
    "start_time": "2025-04-25T12:31:08.551Z"
   },
   {
    "duration": 10,
    "start_time": "2025-04-25T12:31:08.621Z"
   },
   {
    "duration": 22,
    "start_time": "2025-04-25T12:31:08.632Z"
   },
   {
    "duration": 11,
    "start_time": "2025-04-25T12:31:08.656Z"
   },
   {
    "duration": 28,
    "start_time": "2025-04-25T12:31:08.669Z"
   },
   {
    "duration": 173,
    "start_time": "2025-04-25T12:31:08.699Z"
   },
   {
    "duration": 89,
    "start_time": "2025-04-25T12:31:08.874Z"
   },
   {
    "duration": 23,
    "start_time": "2025-04-25T12:31:08.966Z"
   },
   {
    "duration": 20,
    "start_time": "2025-04-25T12:31:08.991Z"
   },
   {
    "duration": 17,
    "start_time": "2025-04-25T12:31:09.013Z"
   },
   {
    "duration": 172,
    "start_time": "2025-04-25T12:31:09.032Z"
   },
   {
    "duration": 12,
    "start_time": "2025-04-25T12:31:09.206Z"
   },
   {
    "duration": 95,
    "start_time": "2025-04-25T12:31:09.219Z"
   },
   {
    "duration": 19,
    "start_time": "2025-04-25T12:31:09.315Z"
   },
   {
    "duration": 55,
    "start_time": "2025-04-25T12:31:09.336Z"
   },
   {
    "duration": 19,
    "start_time": "2025-04-25T12:31:09.393Z"
   },
   {
    "duration": 54,
    "start_time": "2025-04-25T12:31:09.416Z"
   },
   {
    "duration": 197,
    "start_time": "2025-04-25T12:31:09.472Z"
   },
   {
    "duration": 160,
    "start_time": "2025-04-25T12:31:09.671Z"
   },
   {
    "duration": 14,
    "start_time": "2025-04-25T12:31:09.833Z"
   },
   {
    "duration": 83,
    "start_time": "2025-04-25T12:31:09.849Z"
   },
   {
    "duration": 8,
    "start_time": "2025-04-25T12:31:09.934Z"
   },
   {
    "duration": 67,
    "start_time": "2025-04-25T12:31:09.944Z"
   },
   {
    "duration": 49,
    "start_time": "2025-04-25T12:31:10.013Z"
   },
   {
    "duration": 164,
    "start_time": "2025-04-25T12:31:10.064Z"
   },
   {
    "duration": 108,
    "start_time": "2025-04-25T12:31:10.230Z"
   },
   {
    "duration": 24,
    "start_time": "2025-04-25T12:31:10.340Z"
   },
   {
    "duration": 29,
    "start_time": "2025-04-25T12:31:10.366Z"
   },
   {
    "duration": 3,
    "start_time": "2025-04-25T12:31:10.396Z"
   },
   {
    "duration": 76,
    "start_time": "2025-04-25T12:31:10.401Z"
   },
   {
    "duration": 16,
    "start_time": "2025-04-25T12:31:10.479Z"
   },
   {
    "duration": 24,
    "start_time": "2025-04-25T12:31:10.497Z"
   },
   {
    "duration": 9,
    "start_time": "2025-04-25T12:31:10.523Z"
   },
   {
    "duration": 31,
    "start_time": "2025-04-25T12:31:10.534Z"
   },
   {
    "duration": 24,
    "start_time": "2025-04-25T12:31:10.566Z"
   },
   {
    "duration": 12,
    "start_time": "2025-04-25T12:31:10.591Z"
   },
   {
    "duration": 2,
    "start_time": "2025-04-25T12:31:10.605Z"
   },
   {
    "duration": 31,
    "start_time": "2025-04-25T12:31:10.609Z"
   },
   {
    "duration": 10,
    "start_time": "2025-04-25T12:31:10.662Z"
   },
   {
    "duration": 47,
    "start_time": "2025-04-25T12:31:10.673Z"
   },
   {
    "duration": 41,
    "start_time": "2025-04-25T12:31:10.722Z"
   },
   {
    "duration": 25,
    "start_time": "2025-04-25T12:31:10.765Z"
   },
   {
    "duration": 19,
    "start_time": "2025-04-25T12:31:10.792Z"
   },
   {
    "duration": 53,
    "start_time": "2025-04-25T12:31:10.813Z"
   },
   {
    "duration": 81,
    "start_time": "2025-04-25T12:31:10.868Z"
   },
   {
    "duration": 56,
    "start_time": "2025-04-25T12:31:10.963Z"
   },
   {
    "duration": 91,
    "start_time": "2025-04-25T12:31:11.021Z"
   },
   {
    "duration": 331,
    "start_time": "2025-04-25T12:31:11.114Z"
   },
   {
    "duration": 76,
    "start_time": "2025-04-25T12:31:11.446Z"
   },
   {
    "duration": 25,
    "start_time": "2025-04-25T12:31:11.524Z"
   },
   {
    "duration": 27,
    "start_time": "2025-04-25T12:31:11.562Z"
   },
   {
    "duration": 27,
    "start_time": "2025-04-25T12:31:11.591Z"
   },
   {
    "duration": 15,
    "start_time": "2025-04-25T12:31:11.620Z"
   },
   {
    "duration": 38,
    "start_time": "2025-04-25T12:31:11.637Z"
   },
   {
    "duration": 36,
    "start_time": "2025-04-25T12:31:11.677Z"
   },
   {
    "duration": 434,
    "start_time": "2025-04-25T12:34:27.557Z"
   },
   {
    "duration": 314,
    "start_time": "2025-04-25T12:34:49.476Z"
   },
   {
    "duration": 352,
    "start_time": "2025-04-25T12:35:10.412Z"
   },
   {
    "duration": 10,
    "start_time": "2025-04-25T12:36:11.555Z"
   },
   {
    "duration": 9,
    "start_time": "2025-04-25T12:36:41.436Z"
   },
   {
    "duration": 35,
    "start_time": "2025-04-25T12:44:40.513Z"
   },
   {
    "duration": 24,
    "start_time": "2025-04-25T12:44:51.379Z"
   },
   {
    "duration": 24,
    "start_time": "2025-04-25T12:45:31.140Z"
   },
   {
    "duration": 28,
    "start_time": "2025-04-25T12:45:34.933Z"
   },
   {
    "duration": 17,
    "start_time": "2025-04-25T12:58:44.814Z"
   },
   {
    "duration": 18,
    "start_time": "2025-04-25T12:58:49.625Z"
   },
   {
    "duration": 37,
    "start_time": "2025-04-25T12:59:11.249Z"
   },
   {
    "duration": 27,
    "start_time": "2025-04-25T12:59:32.186Z"
   },
   {
    "duration": 52,
    "start_time": "2025-04-28T10:59:50.358Z"
   },
   {
    "duration": 1471,
    "start_time": "2025-04-28T10:59:56.801Z"
   },
   {
    "duration": 2266,
    "start_time": "2025-04-28T10:59:58.274Z"
   },
   {
    "duration": 42,
    "start_time": "2025-04-28T11:00:00.542Z"
   },
   {
    "duration": 140,
    "start_time": "2025-04-28T11:00:00.587Z"
   },
   {
    "duration": 12,
    "start_time": "2025-04-28T11:00:00.729Z"
   },
   {
    "duration": 104,
    "start_time": "2025-04-28T11:00:00.744Z"
   },
   {
    "duration": 9,
    "start_time": "2025-04-28T11:00:00.850Z"
   },
   {
    "duration": 31,
    "start_time": "2025-04-28T11:00:00.860Z"
   },
   {
    "duration": 30,
    "start_time": "2025-04-28T11:00:00.893Z"
   },
   {
    "duration": 36,
    "start_time": "2025-04-28T11:00:00.927Z"
   },
   {
    "duration": 15,
    "start_time": "2025-04-28T11:00:00.965Z"
   },
   {
    "duration": 68,
    "start_time": "2025-04-28T11:00:00.983Z"
   },
   {
    "duration": 10,
    "start_time": "2025-04-28T11:00:01.053Z"
   },
   {
    "duration": 30,
    "start_time": "2025-04-28T11:00:01.065Z"
   },
   {
    "duration": 52,
    "start_time": "2025-04-28T11:00:01.097Z"
   },
   {
    "duration": 65,
    "start_time": "2025-04-28T11:00:01.151Z"
   },
   {
    "duration": 343,
    "start_time": "2025-04-28T11:00:01.218Z"
   },
   {
    "duration": 92,
    "start_time": "2025-04-28T11:00:01.563Z"
   },
   {
    "duration": 30,
    "start_time": "2025-04-28T11:00:01.658Z"
   },
   {
    "duration": 157,
    "start_time": "2025-04-28T11:00:01.691Z"
   },
   {
    "duration": 65,
    "start_time": "2025-04-28T11:00:01.850Z"
   },
   {
    "duration": 179,
    "start_time": "2025-04-28T11:00:01.917Z"
   },
   {
    "duration": 11,
    "start_time": "2025-04-28T11:00:02.105Z"
   },
   {
    "duration": 254,
    "start_time": "2025-04-28T11:00:02.118Z"
   },
   {
    "duration": 81,
    "start_time": "2025-04-28T11:00:02.373Z"
   },
   {
    "duration": 113,
    "start_time": "2025-04-28T11:00:02.455Z"
   },
   {
    "duration": 100,
    "start_time": "2025-04-28T11:00:02.570Z"
   },
   {
    "duration": 53,
    "start_time": "2025-04-28T11:00:02.674Z"
   },
   {
    "duration": 321,
    "start_time": "2025-04-28T11:00:02.729Z"
   },
   {
    "duration": 167,
    "start_time": "2025-04-28T11:00:03.052Z"
   },
   {
    "duration": 13,
    "start_time": "2025-04-28T11:00:03.221Z"
   },
   {
    "duration": 119,
    "start_time": "2025-04-28T11:00:03.236Z"
   },
   {
    "duration": 76,
    "start_time": "2025-04-28T11:00:03.356Z"
   },
   {
    "duration": 86,
    "start_time": "2025-04-28T11:00:03.433Z"
   },
   {
    "duration": 49,
    "start_time": "2025-04-28T11:00:03.521Z"
   },
   {
    "duration": 216,
    "start_time": "2025-04-28T11:00:03.571Z"
   },
   {
    "duration": 125,
    "start_time": "2025-04-28T11:00:03.789Z"
   },
   {
    "duration": 20,
    "start_time": "2025-04-28T11:00:03.916Z"
   },
   {
    "duration": 76,
    "start_time": "2025-04-28T11:00:03.938Z"
   },
   {
    "duration": 27,
    "start_time": "2025-04-28T11:00:04.016Z"
   },
   {
    "duration": 79,
    "start_time": "2025-04-28T11:00:04.045Z"
   },
   {
    "duration": 17,
    "start_time": "2025-04-28T11:00:04.126Z"
   },
   {
    "duration": 56,
    "start_time": "2025-04-28T11:00:04.144Z"
   },
   {
    "duration": 20,
    "start_time": "2025-04-28T11:00:04.202Z"
   },
   {
    "duration": 269,
    "start_time": "2025-04-28T11:00:04.223Z"
   },
   {
    "duration": 64,
    "start_time": "2025-04-28T11:00:04.494Z"
   },
   {
    "duration": 11,
    "start_time": "2025-04-28T11:00:04.560Z"
   },
   {
    "duration": 65,
    "start_time": "2025-04-28T11:00:04.573Z"
   },
   {
    "duration": 96,
    "start_time": "2025-04-28T11:00:04.640Z"
   },
   {
    "duration": 10,
    "start_time": "2025-04-28T11:00:04.738Z"
   },
   {
    "duration": 240,
    "start_time": "2025-04-28T11:00:04.749Z"
   },
   {
    "duration": 74,
    "start_time": "2025-04-28T11:00:04.992Z"
   },
   {
    "duration": 86,
    "start_time": "2025-04-28T11:00:05.069Z"
   },
   {
    "duration": 78,
    "start_time": "2025-04-28T11:00:05.157Z"
   },
   {
    "duration": 91,
    "start_time": "2025-04-28T11:00:05.237Z"
   },
   {
    "duration": 149,
    "start_time": "2025-04-28T11:00:05.330Z"
   },
   {
    "duration": 61,
    "start_time": "2025-04-28T11:00:05.481Z"
   },
   {
    "duration": 124,
    "start_time": "2025-04-28T11:00:05.544Z"
   },
   {
    "duration": 337,
    "start_time": "2025-04-28T11:00:05.670Z"
   },
   {
    "duration": 80,
    "start_time": "2025-04-28T11:00:06.009Z"
   },
   {
    "duration": 209,
    "start_time": "2025-04-28T11:00:06.091Z"
   },
   {
    "duration": 167,
    "start_time": "2025-04-28T11:00:06.301Z"
   },
   {
    "duration": 53,
    "start_time": "2025-04-28T11:00:06.470Z"
   },
   {
    "duration": 40,
    "start_time": "2025-04-28T11:00:06.525Z"
   },
   {
    "duration": 47,
    "start_time": "2025-04-28T11:00:06.567Z"
   },
   {
    "duration": 77,
    "start_time": "2025-04-28T11:00:06.616Z"
   },
   {
    "duration": 184,
    "start_time": "2025-04-28T11:00:06.696Z"
   },
   {
    "duration": 30,
    "start_time": "2025-04-28T11:00:06.882Z"
   },
   {
    "duration": 10,
    "start_time": "2025-04-28T11:12:00.179Z"
   },
   {
    "duration": 158,
    "start_time": "2025-04-28T11:14:07.637Z"
   },
   {
    "duration": 218,
    "start_time": "2025-04-28T11:14:09.680Z"
   },
   {
    "duration": 195,
    "start_time": "2025-04-28T11:14:47.560Z"
   },
   {
    "duration": 4,
    "start_time": "2025-04-28T11:18:56.390Z"
   },
   {
    "duration": 202,
    "start_time": "2025-04-28T11:19:09.064Z"
   },
   {
    "duration": 27,
    "start_time": "2025-04-28T11:19:27.598Z"
   },
   {
    "duration": 247,
    "start_time": "2025-04-28T11:19:56.472Z"
   },
   {
    "duration": 170,
    "start_time": "2025-04-28T11:20:17.005Z"
   },
   {
    "duration": 4,
    "start_time": "2025-04-28T11:22:30.068Z"
   },
   {
    "duration": 27,
    "start_time": "2025-04-28T11:22:32.512Z"
   },
   {
    "duration": 342,
    "start_time": "2025-04-28T11:22:49.137Z"
   },
   {
    "duration": 156,
    "start_time": "2025-04-28T11:22:58.718Z"
   },
   {
    "duration": 5,
    "start_time": "2025-04-28T11:23:34.870Z"
   },
   {
    "duration": 255,
    "start_time": "2025-04-28T11:23:50.495Z"
   },
   {
    "duration": 161,
    "start_time": "2025-04-28T11:23:58.487Z"
   },
   {
    "duration": 116,
    "start_time": "2025-04-28T11:37:49.293Z"
   },
   {
    "duration": 13,
    "start_time": "2025-04-28T11:38:02.569Z"
   },
   {
    "duration": 684,
    "start_time": "2025-04-28T11:43:43.583Z"
   },
   {
    "duration": 134,
    "start_time": "2025-04-28T11:46:17.693Z"
   },
   {
    "duration": 155,
    "start_time": "2025-04-28T11:46:27.915Z"
   },
   {
    "duration": 9,
    "start_time": "2025-04-28T11:57:41.843Z"
   },
   {
    "duration": 12,
    "start_time": "2025-04-28T11:57:50.073Z"
   },
   {
    "duration": 16,
    "start_time": "2025-04-28T11:58:03.951Z"
   },
   {
    "duration": 10,
    "start_time": "2025-04-28T12:01:58.270Z"
   },
   {
    "duration": 11,
    "start_time": "2025-04-28T12:02:07.523Z"
   },
   {
    "duration": 9,
    "start_time": "2025-04-28T12:02:31.285Z"
   },
   {
    "duration": 12,
    "start_time": "2025-04-28T12:03:04.591Z"
   },
   {
    "duration": 11,
    "start_time": "2025-04-28T12:03:16.164Z"
   },
   {
    "duration": 84,
    "start_time": "2025-04-28T12:05:12.334Z"
   },
   {
    "duration": 414,
    "start_time": "2025-04-28T12:05:15.954Z"
   },
   {
    "duration": 369,
    "start_time": "2025-04-28T12:05:21.994Z"
   },
   {
    "duration": 13,
    "start_time": "2025-04-28T12:05:39.677Z"
   },
   {
    "duration": 367,
    "start_time": "2025-04-28T12:06:02.838Z"
   },
   {
    "duration": 242,
    "start_time": "2025-04-28T12:06:41.997Z"
   },
   {
    "duration": 5,
    "start_time": "2025-04-28T12:10:03.162Z"
   },
   {
    "duration": 29,
    "start_time": "2025-04-28T12:10:05.290Z"
   },
   {
    "duration": 255,
    "start_time": "2025-04-28T12:10:24.553Z"
   },
   {
    "duration": 163,
    "start_time": "2025-04-28T12:10:38.886Z"
   },
   {
    "duration": 10,
    "start_time": "2025-04-28T12:10:51.703Z"
   },
   {
    "duration": 91,
    "start_time": "2025-04-28T12:18:36.336Z"
   },
   {
    "duration": 168,
    "start_time": "2025-04-28T12:18:42.109Z"
   },
   {
    "duration": 13,
    "start_time": "2025-04-28T12:19:12.983Z"
   },
   {
    "duration": 13,
    "start_time": "2025-04-28T12:19:19.432Z"
   },
   {
    "duration": 10,
    "start_time": "2025-04-28T12:20:49.449Z"
   },
   {
    "duration": 1303,
    "start_time": "2025-04-28T12:21:02.856Z"
   },
   {
    "duration": 2073,
    "start_time": "2025-04-28T12:21:04.161Z"
   },
   {
    "duration": 41,
    "start_time": "2025-04-28T12:21:06.236Z"
   },
   {
    "duration": 145,
    "start_time": "2025-04-28T12:21:06.279Z"
   },
   {
    "duration": 12,
    "start_time": "2025-04-28T12:21:06.427Z"
   },
   {
    "duration": 35,
    "start_time": "2025-04-28T12:21:06.441Z"
   },
   {
    "duration": 44,
    "start_time": "2025-04-28T12:21:06.478Z"
   },
   {
    "duration": 35,
    "start_time": "2025-04-28T12:21:06.524Z"
   },
   {
    "duration": 29,
    "start_time": "2025-04-28T12:21:06.561Z"
   },
   {
    "duration": 95,
    "start_time": "2025-04-28T12:21:06.591Z"
   },
   {
    "duration": 36,
    "start_time": "2025-04-28T12:21:06.687Z"
   },
   {
    "duration": 59,
    "start_time": "2025-04-28T12:21:06.725Z"
   },
   {
    "duration": 10,
    "start_time": "2025-04-28T12:21:06.785Z"
   },
   {
    "duration": 48,
    "start_time": "2025-04-28T12:21:06.798Z"
   },
   {
    "duration": 17,
    "start_time": "2025-04-28T12:21:06.848Z"
   },
   {
    "duration": 60,
    "start_time": "2025-04-28T12:21:06.867Z"
   },
   {
    "duration": 165,
    "start_time": "2025-04-28T12:21:06.929Z"
   },
   {
    "duration": 90,
    "start_time": "2025-04-28T12:21:07.096Z"
   },
   {
    "duration": 51,
    "start_time": "2025-04-28T12:21:07.188Z"
   },
   {
    "duration": 20,
    "start_time": "2025-04-28T12:21:07.241Z"
   },
   {
    "duration": 44,
    "start_time": "2025-04-28T12:21:07.263Z"
   },
   {
    "duration": 177,
    "start_time": "2025-04-28T12:21:07.309Z"
   },
   {
    "duration": 19,
    "start_time": "2025-04-28T12:21:07.487Z"
   },
   {
    "duration": 116,
    "start_time": "2025-04-28T12:21:07.508Z"
   },
   {
    "duration": 19,
    "start_time": "2025-04-28T12:21:07.626Z"
   },
   {
    "duration": 124,
    "start_time": "2025-04-28T12:21:07.647Z"
   },
   {
    "duration": 18,
    "start_time": "2025-04-28T12:21:07.773Z"
   },
   {
    "duration": 53,
    "start_time": "2025-04-28T12:21:07.793Z"
   },
   {
    "duration": 193,
    "start_time": "2025-04-28T12:21:07.848Z"
   },
   {
    "duration": 172,
    "start_time": "2025-04-28T12:21:08.043Z"
   },
   {
    "duration": 13,
    "start_time": "2025-04-28T12:21:08.216Z"
   },
   {
    "duration": 103,
    "start_time": "2025-04-28T12:21:08.230Z"
   },
   {
    "duration": 9,
    "start_time": "2025-04-28T12:21:08.334Z"
   },
   {
    "duration": 101,
    "start_time": "2025-04-28T12:21:08.344Z"
   },
   {
    "duration": 34,
    "start_time": "2025-04-28T12:21:08.446Z"
   },
   {
    "duration": 178,
    "start_time": "2025-04-28T12:21:08.482Z"
   },
   {
    "duration": 112,
    "start_time": "2025-04-28T12:21:08.662Z"
   },
   {
    "duration": 29,
    "start_time": "2025-04-28T12:21:08.776Z"
   },
   {
    "duration": 34,
    "start_time": "2025-04-28T12:21:08.807Z"
   },
   {
    "duration": 18,
    "start_time": "2025-04-28T12:21:08.843Z"
   },
   {
    "duration": 77,
    "start_time": "2025-04-28T12:21:08.865Z"
   },
   {
    "duration": 17,
    "start_time": "2025-04-28T12:21:08.943Z"
   },
   {
    "duration": 48,
    "start_time": "2025-04-28T12:21:08.961Z"
   },
   {
    "duration": 9,
    "start_time": "2025-04-28T12:21:09.010Z"
   },
   {
    "duration": 81,
    "start_time": "2025-04-28T12:21:09.020Z"
   },
   {
    "duration": 25,
    "start_time": "2025-04-28T12:21:09.102Z"
   },
   {
    "duration": 11,
    "start_time": "2025-04-28T12:21:09.128Z"
   },
   {
    "duration": 21,
    "start_time": "2025-04-28T12:21:09.141Z"
   },
   {
    "duration": 50,
    "start_time": "2025-04-28T12:21:09.164Z"
   },
   {
    "duration": 22,
    "start_time": "2025-04-28T12:21:09.216Z"
   },
   {
    "duration": 69,
    "start_time": "2025-04-28T12:21:09.240Z"
   },
   {
    "duration": 29,
    "start_time": "2025-04-28T12:21:09.311Z"
   },
   {
    "duration": 36,
    "start_time": "2025-04-28T12:21:09.342Z"
   },
   {
    "duration": 39,
    "start_time": "2025-04-28T12:21:09.380Z"
   },
   {
    "duration": 45,
    "start_time": "2025-04-28T12:21:09.421Z"
   },
   {
    "duration": 94,
    "start_time": "2025-04-28T12:21:09.468Z"
   },
   {
    "duration": 69,
    "start_time": "2025-04-28T12:21:09.564Z"
   },
   {
    "duration": 78,
    "start_time": "2025-04-28T12:21:09.634Z"
   },
   {
    "duration": 370,
    "start_time": "2025-04-28T12:21:09.714Z"
   },
   {
    "duration": 72,
    "start_time": "2025-04-28T12:21:10.086Z"
   },
   {
    "duration": 26,
    "start_time": "2025-04-28T12:21:10.160Z"
   },
   {
    "duration": 53,
    "start_time": "2025-04-28T12:21:10.187Z"
   },
   {
    "duration": 28,
    "start_time": "2025-04-28T12:21:10.241Z"
   },
   {
    "duration": 15,
    "start_time": "2025-04-28T12:21:10.270Z"
   },
   {
    "duration": 36,
    "start_time": "2025-04-28T12:21:10.287Z"
   },
   {
    "duration": 20,
    "start_time": "2025-04-28T12:21:10.324Z"
   },
   {
    "duration": 54,
    "start_time": "2025-04-28T12:21:10.345Z"
   },
   {
    "duration": 27,
    "start_time": "2025-04-28T12:21:10.401Z"
   },
   {
    "duration": 14,
    "start_time": "2025-04-28T12:21:10.430Z"
   },
   {
    "duration": 15,
    "start_time": "2025-04-28T12:21:10.446Z"
   },
   {
    "duration": 27,
    "start_time": "2025-04-28T12:21:10.463Z"
   },
   {
    "duration": 277,
    "start_time": "2025-04-28T12:21:10.492Z"
   },
   {
    "duration": 176,
    "start_time": "2025-04-28T12:21:10.770Z"
   },
   {
    "duration": 74,
    "start_time": "2025-04-28T12:21:10.947Z"
   },
   {
    "duration": 14,
    "start_time": "2025-04-28T12:21:11.023Z"
   },
   {
    "duration": 286,
    "start_time": "2025-04-28T12:21:11.038Z"
   },
   {
    "duration": 14,
    "start_time": "2025-04-28T12:23:13.857Z"
   },
   {
    "duration": 10,
    "start_time": "2025-04-28T12:23:34.587Z"
   },
   {
    "duration": 109,
    "start_time": "2025-04-28T12:24:58.894Z"
   },
   {
    "duration": 11,
    "start_time": "2025-04-28T12:25:11.603Z"
   },
   {
    "duration": 16,
    "start_time": "2025-04-28T12:25:16.880Z"
   },
   {
    "duration": 59,
    "start_time": "2025-04-28T12:27:56.007Z"
   },
   {
    "duration": 65,
    "start_time": "2025-04-28T12:28:15.720Z"
   },
   {
    "duration": 11,
    "start_time": "2025-04-28T12:28:40.883Z"
   },
   {
    "duration": 18,
    "start_time": "2025-04-28T12:32:38.618Z"
   },
   {
    "duration": 82,
    "start_time": "2025-04-28T12:33:34.762Z"
   },
   {
    "duration": 11,
    "start_time": "2025-04-28T12:33:37.891Z"
   },
   {
    "duration": 13,
    "start_time": "2025-04-28T12:34:19.038Z"
   },
   {
    "duration": 256,
    "start_time": "2025-04-28T12:34:29.599Z"
   },
   {
    "duration": 234,
    "start_time": "2025-04-28T12:35:07.722Z"
   },
   {
    "duration": 12,
    "start_time": "2025-04-28T12:35:53.737Z"
   },
   {
    "duration": 213,
    "start_time": "2025-04-28T12:36:12.251Z"
   },
   {
    "duration": 9,
    "start_time": "2025-04-28T12:48:58.521Z"
   },
   {
    "duration": 9,
    "start_time": "2025-04-28T12:50:42.236Z"
   },
   {
    "duration": 37,
    "start_time": "2025-04-28T12:50:56.623Z"
   },
   {
    "duration": 10,
    "start_time": "2025-04-28T12:51:30.286Z"
   },
   {
    "duration": 10,
    "start_time": "2025-04-28T12:53:27.228Z"
   },
   {
    "duration": 6,
    "start_time": "2025-04-28T12:54:17.439Z"
   },
   {
    "duration": 8,
    "start_time": "2025-04-28T12:54:31.451Z"
   },
   {
    "duration": 8,
    "start_time": "2025-04-28T12:54:50.970Z"
   },
   {
    "duration": 261,
    "start_time": "2025-04-28T12:56:18.325Z"
   },
   {
    "duration": 180,
    "start_time": "2025-04-28T12:56:32.562Z"
   },
   {
    "duration": 188,
    "start_time": "2025-04-28T12:56:46.538Z"
   },
   {
    "duration": 308,
    "start_time": "2025-04-28T12:56:56.507Z"
   },
   {
    "duration": 51,
    "start_time": "2025-04-28T17:21:14.288Z"
   },
   {
    "duration": 1422,
    "start_time": "2025-04-28T17:21:21.682Z"
   },
   {
    "duration": 2200,
    "start_time": "2025-04-28T17:21:23.106Z"
   },
   {
    "duration": 56,
    "start_time": "2025-04-28T17:21:25.308Z"
   },
   {
    "duration": 114,
    "start_time": "2025-04-28T17:21:25.366Z"
   },
   {
    "duration": 12,
    "start_time": "2025-04-28T17:21:25.482Z"
   },
   {
    "duration": 35,
    "start_time": "2025-04-28T17:21:25.496Z"
   },
   {
    "duration": 38,
    "start_time": "2025-04-28T17:21:25.532Z"
   },
   {
    "duration": 27,
    "start_time": "2025-04-28T17:21:25.572Z"
   },
   {
    "duration": 36,
    "start_time": "2025-04-28T17:21:25.600Z"
   },
   {
    "duration": 34,
    "start_time": "2025-04-28T17:21:25.640Z"
   },
   {
    "duration": 13,
    "start_time": "2025-04-28T17:21:25.676Z"
   },
   {
    "duration": 44,
    "start_time": "2025-04-28T17:21:25.691Z"
   },
   {
    "duration": 11,
    "start_time": "2025-04-28T17:21:25.737Z"
   },
   {
    "duration": 28,
    "start_time": "2025-04-28T17:21:25.763Z"
   },
   {
    "duration": 9,
    "start_time": "2025-04-28T17:21:25.793Z"
   },
   {
    "duration": 28,
    "start_time": "2025-04-28T17:21:25.804Z"
   },
   {
    "duration": 167,
    "start_time": "2025-04-28T17:21:25.834Z"
   },
   {
    "duration": 90,
    "start_time": "2025-04-28T17:21:26.003Z"
   },
   {
    "duration": 22,
    "start_time": "2025-04-28T17:21:26.095Z"
   },
   {
    "duration": 12,
    "start_time": "2025-04-28T17:21:26.118Z"
   },
   {
    "duration": 36,
    "start_time": "2025-04-28T17:21:26.131Z"
   },
   {
    "duration": 172,
    "start_time": "2025-04-28T17:21:26.169Z"
   },
   {
    "duration": 9,
    "start_time": "2025-04-28T17:21:26.342Z"
   },
   {
    "duration": 77,
    "start_time": "2025-04-28T17:21:26.364Z"
   },
   {
    "duration": 33,
    "start_time": "2025-04-28T17:21:26.443Z"
   },
   {
    "duration": 37,
    "start_time": "2025-04-28T17:21:26.478Z"
   },
   {
    "duration": 19,
    "start_time": "2025-04-28T17:21:26.517Z"
   },
   {
    "duration": 29,
    "start_time": "2025-04-28T17:21:26.565Z"
   },
   {
    "duration": 211,
    "start_time": "2025-04-28T17:21:26.596Z"
   },
   {
    "duration": 159,
    "start_time": "2025-04-28T17:21:26.809Z"
   },
   {
    "duration": 12,
    "start_time": "2025-04-28T17:21:26.970Z"
   },
   {
    "duration": 96,
    "start_time": "2025-04-28T17:21:26.983Z"
   },
   {
    "duration": 8,
    "start_time": "2025-04-28T17:21:27.081Z"
   },
   {
    "duration": 73,
    "start_time": "2025-04-28T17:21:27.090Z"
   },
   {
    "duration": 32,
    "start_time": "2025-04-28T17:21:27.165Z"
   },
   {
    "duration": 190,
    "start_time": "2025-04-28T17:21:27.198Z"
   },
   {
    "duration": 128,
    "start_time": "2025-04-28T17:21:27.390Z"
   },
   {
    "duration": 21,
    "start_time": "2025-04-28T17:21:27.520Z"
   },
   {
    "duration": 41,
    "start_time": "2025-04-28T17:21:27.543Z"
   },
   {
    "duration": 4,
    "start_time": "2025-04-28T17:21:27.586Z"
   },
   {
    "duration": 83,
    "start_time": "2025-04-28T17:21:27.592Z"
   },
   {
    "duration": 17,
    "start_time": "2025-04-28T17:21:27.676Z"
   },
   {
    "duration": 26,
    "start_time": "2025-04-28T17:21:27.695Z"
   },
   {
    "duration": 8,
    "start_time": "2025-04-28T17:21:27.723Z"
   },
   {
    "duration": 31,
    "start_time": "2025-04-28T17:21:27.733Z"
   },
   {
    "duration": 13,
    "start_time": "2025-04-28T17:21:27.766Z"
   },
   {
    "duration": 19,
    "start_time": "2025-04-28T17:21:27.780Z"
   },
   {
    "duration": 2,
    "start_time": "2025-04-28T17:21:27.800Z"
   },
   {
    "duration": 30,
    "start_time": "2025-04-28T17:21:27.804Z"
   },
   {
    "duration": 10,
    "start_time": "2025-04-28T17:21:27.863Z"
   },
   {
    "duration": 61,
    "start_time": "2025-04-28T17:21:27.875Z"
   },
   {
    "duration": 46,
    "start_time": "2025-04-28T17:21:27.938Z"
   },
   {
    "duration": 39,
    "start_time": "2025-04-28T17:21:27.986Z"
   },
   {
    "duration": 36,
    "start_time": "2025-04-28T17:21:28.027Z"
   },
   {
    "duration": 39,
    "start_time": "2025-04-28T17:21:28.065Z"
   },
   {
    "duration": 103,
    "start_time": "2025-04-28T17:21:28.105Z"
   },
   {
    "duration": 70,
    "start_time": "2025-04-28T17:21:28.209Z"
   },
   {
    "duration": 69,
    "start_time": "2025-04-28T17:21:28.280Z"
   },
   {
    "duration": 352,
    "start_time": "2025-04-28T17:21:28.351Z"
   },
   {
    "duration": 78,
    "start_time": "2025-04-28T17:21:28.705Z"
   },
   {
    "duration": 27,
    "start_time": "2025-04-28T17:21:28.785Z"
   },
   {
    "duration": 27,
    "start_time": "2025-04-28T17:21:28.813Z"
   },
   {
    "duration": 47,
    "start_time": "2025-04-28T17:21:28.842Z"
   },
   {
    "duration": 16,
    "start_time": "2025-04-28T17:21:28.891Z"
   },
   {
    "duration": 24,
    "start_time": "2025-04-28T17:21:28.909Z"
   },
   {
    "duration": 19,
    "start_time": "2025-04-28T17:21:28.963Z"
   },
   {
    "duration": 28,
    "start_time": "2025-04-28T17:21:28.984Z"
   },
   {
    "duration": 11,
    "start_time": "2025-04-28T17:21:29.014Z"
   },
   {
    "duration": 39,
    "start_time": "2025-04-28T17:21:29.027Z"
   },
   {
    "duration": 6,
    "start_time": "2025-04-28T17:21:29.068Z"
   },
   {
    "duration": 30,
    "start_time": "2025-04-28T17:21:29.076Z"
   },
   {
    "duration": 313,
    "start_time": "2025-04-28T17:21:29.107Z"
   },
   {
    "duration": 185,
    "start_time": "2025-04-28T17:21:29.422Z"
   },
   {
    "duration": 101,
    "start_time": "2025-04-28T17:21:29.609Z"
   },
   {
    "duration": 13,
    "start_time": "2025-04-28T17:21:29.712Z"
   },
   {
    "duration": 244,
    "start_time": "2025-04-28T17:21:29.727Z"
   },
   {
    "duration": 11,
    "start_time": "2025-04-28T17:21:29.973Z"
   },
   {
    "duration": 230,
    "start_time": "2025-04-28T17:21:29.986Z"
   },
   {
    "duration": 10,
    "start_time": "2025-04-28T17:21:30.218Z"
   },
   {
    "duration": 35,
    "start_time": "2025-04-28T17:21:30.230Z"
   },
   {
    "duration": 333,
    "start_time": "2025-04-28T17:21:30.266Z"
   },
   {
    "duration": 6,
    "start_time": "2025-04-28T17:24:35.841Z"
   },
   {
    "duration": 11,
    "start_time": "2025-04-28T17:24:44.685Z"
   },
   {
    "duration": 10,
    "start_time": "2025-04-28T17:26:15.197Z"
   },
   {
    "duration": 267,
    "start_time": "2025-04-28T17:42:04.286Z"
   },
   {
    "duration": 344,
    "start_time": "2025-04-28T17:42:15.075Z"
   },
   {
    "duration": 253,
    "start_time": "2025-04-28T17:49:23.360Z"
   },
   {
    "duration": 237,
    "start_time": "2025-04-28T17:49:32.349Z"
   },
   {
    "duration": 60,
    "start_time": "2025-04-29T08:38:07.219Z"
   },
   {
    "duration": 1362,
    "start_time": "2025-04-29T08:54:06.564Z"
   },
   {
    "duration": 2305,
    "start_time": "2025-04-29T08:54:07.928Z"
   },
   {
    "duration": 44,
    "start_time": "2025-04-29T08:54:10.235Z"
   },
   {
    "duration": 117,
    "start_time": "2025-04-29T08:54:10.281Z"
   },
   {
    "duration": 11,
    "start_time": "2025-04-29T08:54:10.400Z"
   },
   {
    "duration": 26,
    "start_time": "2025-04-29T08:54:10.412Z"
   },
   {
    "duration": 35,
    "start_time": "2025-04-29T08:54:10.440Z"
   },
   {
    "duration": 26,
    "start_time": "2025-04-29T08:54:10.477Z"
   },
   {
    "duration": 12,
    "start_time": "2025-04-29T08:54:10.505Z"
   },
   {
    "duration": 11,
    "start_time": "2025-04-29T08:54:10.519Z"
   },
   {
    "duration": 14,
    "start_time": "2025-04-29T08:54:10.532Z"
   },
   {
    "duration": 57,
    "start_time": "2025-04-29T08:54:10.548Z"
   },
   {
    "duration": 9,
    "start_time": "2025-04-29T08:54:10.607Z"
   },
   {
    "duration": 31,
    "start_time": "2025-04-29T08:54:10.617Z"
   },
   {
    "duration": 36,
    "start_time": "2025-04-29T08:54:10.650Z"
   },
   {
    "duration": 25,
    "start_time": "2025-04-29T08:54:10.688Z"
   },
   {
    "duration": 154,
    "start_time": "2025-04-29T08:54:10.715Z"
   },
   {
    "duration": 83,
    "start_time": "2025-04-29T08:54:10.871Z"
   },
   {
    "duration": 32,
    "start_time": "2025-04-29T08:54:10.962Z"
   },
   {
    "duration": 10,
    "start_time": "2025-04-29T08:54:10.996Z"
   },
   {
    "duration": 20,
    "start_time": "2025-04-29T08:54:11.008Z"
   },
   {
    "duration": 180,
    "start_time": "2025-04-29T08:54:11.030Z"
   },
   {
    "duration": 9,
    "start_time": "2025-04-29T08:54:11.213Z"
   },
   {
    "duration": 94,
    "start_time": "2025-04-29T08:54:11.224Z"
   },
   {
    "duration": 20,
    "start_time": "2025-04-29T08:54:11.320Z"
   },
   {
    "duration": 62,
    "start_time": "2025-04-29T08:54:11.342Z"
   },
   {
    "duration": 20,
    "start_time": "2025-04-29T08:54:11.406Z"
   },
   {
    "duration": 57,
    "start_time": "2025-04-29T08:54:11.431Z"
   },
   {
    "duration": 217,
    "start_time": "2025-04-29T08:54:11.490Z"
   },
   {
    "duration": 168,
    "start_time": "2025-04-29T08:54:11.709Z"
   },
   {
    "duration": 13,
    "start_time": "2025-04-29T08:54:11.879Z"
   },
   {
    "duration": 101,
    "start_time": "2025-04-29T08:54:11.894Z"
   },
   {
    "duration": 8,
    "start_time": "2025-04-29T08:54:11.997Z"
   },
   {
    "duration": 76,
    "start_time": "2025-04-29T08:54:12.007Z"
   },
   {
    "duration": 22,
    "start_time": "2025-04-29T08:54:12.084Z"
   },
   {
    "duration": 173,
    "start_time": "2025-04-29T08:54:12.107Z"
   },
   {
    "duration": 118,
    "start_time": "2025-04-29T08:54:12.282Z"
   },
   {
    "duration": 17,
    "start_time": "2025-04-29T08:54:12.402Z"
   },
   {
    "duration": 26,
    "start_time": "2025-04-29T08:54:12.420Z"
   },
   {
    "duration": 22,
    "start_time": "2025-04-29T08:54:12.447Z"
   },
   {
    "duration": 62,
    "start_time": "2025-04-29T08:54:12.472Z"
   },
   {
    "duration": 16,
    "start_time": "2025-04-29T08:54:12.536Z"
   },
   {
    "duration": 22,
    "start_time": "2025-04-29T08:54:12.575Z"
   },
   {
    "duration": 9,
    "start_time": "2025-04-29T08:54:12.599Z"
   },
   {
    "duration": 7,
    "start_time": "2025-04-29T08:54:12.609Z"
   },
   {
    "duration": 19,
    "start_time": "2025-04-29T08:54:12.617Z"
   },
   {
    "duration": 41,
    "start_time": "2025-04-29T08:54:12.637Z"
   },
   {
    "duration": 3,
    "start_time": "2025-04-29T08:54:12.680Z"
   },
   {
    "duration": 31,
    "start_time": "2025-04-29T08:54:12.686Z"
   },
   {
    "duration": 11,
    "start_time": "2025-04-29T08:54:12.719Z"
   },
   {
    "duration": 69,
    "start_time": "2025-04-29T08:54:12.732Z"
   },
   {
    "duration": 25,
    "start_time": "2025-04-29T08:54:12.803Z"
   },
   {
    "duration": 27,
    "start_time": "2025-04-29T08:54:12.830Z"
   },
   {
    "duration": 28,
    "start_time": "2025-04-29T08:54:12.863Z"
   },
   {
    "duration": 37,
    "start_time": "2025-04-29T08:54:12.893Z"
   },
   {
    "duration": 108,
    "start_time": "2025-04-29T08:54:12.931Z"
   },
   {
    "duration": 67,
    "start_time": "2025-04-29T08:54:13.040Z"
   },
   {
    "duration": 90,
    "start_time": "2025-04-29T08:54:13.108Z"
   },
   {
    "duration": 324,
    "start_time": "2025-04-29T08:54:13.200Z"
   },
   {
    "duration": 75,
    "start_time": "2025-04-29T08:54:13.526Z"
   },
   {
    "duration": 26,
    "start_time": "2025-04-29T08:54:13.603Z"
   },
   {
    "duration": 49,
    "start_time": "2025-04-29T08:54:13.631Z"
   },
   {
    "duration": 26,
    "start_time": "2025-04-29T08:54:13.681Z"
   },
   {
    "duration": 14,
    "start_time": "2025-04-29T08:54:13.709Z"
   },
   {
    "duration": 49,
    "start_time": "2025-04-29T08:54:13.724Z"
   },
   {
    "duration": 20,
    "start_time": "2025-04-29T08:54:13.775Z"
   },
   {
    "duration": 42,
    "start_time": "2025-04-29T08:54:13.797Z"
   },
   {
    "duration": 9,
    "start_time": "2025-04-29T08:54:13.840Z"
   },
   {
    "duration": 26,
    "start_time": "2025-04-29T08:54:13.851Z"
   },
   {
    "duration": 4,
    "start_time": "2025-04-29T08:54:13.879Z"
   },
   {
    "duration": 44,
    "start_time": "2025-04-29T08:54:13.885Z"
   },
   {
    "duration": 270,
    "start_time": "2025-04-29T08:54:13.931Z"
   },
   {
    "duration": 175,
    "start_time": "2025-04-29T08:54:14.203Z"
   },
   {
    "duration": 99,
    "start_time": "2025-04-29T08:54:14.379Z"
   },
   {
    "duration": 10,
    "start_time": "2025-04-29T08:54:14.480Z"
   },
   {
    "duration": 25,
    "start_time": "2025-04-29T08:54:14.492Z"
   },
   {
    "duration": 284,
    "start_time": "2025-04-29T08:54:14.519Z"
   },
   {
    "duration": 12,
    "start_time": "2025-04-29T08:54:14.805Z"
   },
   {
    "duration": 310,
    "start_time": "2025-04-29T08:54:14.819Z"
   },
   {
    "duration": 10,
    "start_time": "2025-04-29T08:54:15.131Z"
   },
   {
    "duration": 40,
    "start_time": "2025-04-29T08:54:15.143Z"
   },
   {
    "duration": 328,
    "start_time": "2025-04-29T08:54:15.188Z"
   },
   {
    "duration": 242,
    "start_time": "2025-04-29T08:58:32.021Z"
   },
   {
    "duration": 336,
    "start_time": "2025-04-29T08:58:36.957Z"
   },
   {
    "duration": 237,
    "start_time": "2025-04-29T08:59:46.018Z"
   },
   {
    "duration": 11,
    "start_time": "2025-04-29T09:18:12.974Z"
   },
   {
    "duration": 307,
    "start_time": "2025-04-29T09:23:12.818Z"
   },
   {
    "duration": 604,
    "start_time": "2025-04-29T09:43:05.025Z"
   },
   {
    "duration": 570,
    "start_time": "2025-04-29T09:44:41.282Z"
   },
   {
    "duration": 254,
    "start_time": "2025-04-29T09:47:09.587Z"
   },
   {
    "duration": 153,
    "start_time": "2025-04-29T09:51:59.287Z"
   },
   {
    "duration": 467,
    "start_time": "2025-04-29T09:52:27.419Z"
   },
   {
    "duration": 59,
    "start_time": "2025-04-29T10:19:51.979Z"
   },
   {
    "duration": 53,
    "start_time": "2025-04-29T10:20:30.180Z"
   },
   {
    "duration": 67,
    "start_time": "2025-04-29T10:20:58.879Z"
   },
   {
    "duration": 77,
    "start_time": "2025-04-29T10:21:15.518Z"
   },
   {
    "duration": 19,
    "start_time": "2025-04-29T10:26:58.835Z"
   },
   {
    "duration": 35,
    "start_time": "2025-04-29T10:27:10.577Z"
   },
   {
    "duration": 34,
    "start_time": "2025-04-29T10:28:06.447Z"
   },
   {
    "duration": 46,
    "start_time": "2025-04-29T10:28:19.721Z"
   },
   {
    "duration": 7,
    "start_time": "2025-04-29T10:29:56.160Z"
   },
   {
    "duration": 6,
    "start_time": "2025-04-29T10:30:20.937Z"
   },
   {
    "duration": 7,
    "start_time": "2025-04-29T10:30:51.668Z"
   },
   {
    "duration": 10,
    "start_time": "2025-04-29T10:31:51.396Z"
   },
   {
    "duration": 10,
    "start_time": "2025-04-29T10:32:10.391Z"
   },
   {
    "duration": 8,
    "start_time": "2025-04-29T10:32:29.083Z"
   },
   {
    "duration": 121,
    "start_time": "2025-04-29T10:57:25.900Z"
   },
   {
    "duration": 6,
    "start_time": "2025-04-29T10:58:27.257Z"
   },
   {
    "duration": 8,
    "start_time": "2025-04-29T10:58:37.743Z"
   },
   {
    "duration": 7,
    "start_time": "2025-04-29T11:01:04.506Z"
   },
   {
    "duration": 10,
    "start_time": "2025-04-29T11:02:21.134Z"
   },
   {
    "duration": 105,
    "start_time": "2025-04-29T11:13:01.769Z"
   },
   {
    "duration": 120,
    "start_time": "2025-04-29T11:13:16.935Z"
   },
   {
    "duration": 6,
    "start_time": "2025-04-29T11:16:09.539Z"
   },
   {
    "duration": 6,
    "start_time": "2025-04-29T11:16:15.494Z"
   },
   {
    "duration": 6,
    "start_time": "2025-04-29T11:16:53.105Z"
   },
   {
    "duration": 7,
    "start_time": "2025-04-29T11:19:33.586Z"
   },
   {
    "duration": 7,
    "start_time": "2025-04-29T11:19:51.758Z"
   },
   {
    "duration": 12,
    "start_time": "2025-04-29T11:20:58.315Z"
   },
   {
    "duration": 495,
    "start_time": "2025-04-29T11:23:33.970Z"
   },
   {
    "duration": 7,
    "start_time": "2025-04-29T11:24:14.332Z"
   },
   {
    "duration": 7,
    "start_time": "2025-04-29T11:24:31.797Z"
   },
   {
    "duration": 9,
    "start_time": "2025-04-29T11:25:01.521Z"
   },
   {
    "duration": 200,
    "start_time": "2025-04-29T11:25:20.621Z"
   },
   {
    "duration": 203,
    "start_time": "2025-04-29T11:25:26.573Z"
   },
   {
    "duration": 130,
    "start_time": "2025-04-29T11:25:52.439Z"
   },
   {
    "duration": 7,
    "start_time": "2025-04-29T11:25:59.475Z"
   },
   {
    "duration": 9,
    "start_time": "2025-04-29T11:38:44.417Z"
   },
   {
    "duration": 11,
    "start_time": "2025-04-29T11:38:51.413Z"
   },
   {
    "duration": 8,
    "start_time": "2025-04-29T11:39:00.502Z"
   },
   {
    "duration": 11,
    "start_time": "2025-04-29T11:42:51.696Z"
   },
   {
    "duration": 9,
    "start_time": "2025-04-29T11:44:31.367Z"
   },
   {
    "duration": 12,
    "start_time": "2025-04-29T11:48:02.222Z"
   },
   {
    "duration": 9,
    "start_time": "2025-04-29T11:48:10.129Z"
   },
   {
    "duration": 11,
    "start_time": "2025-04-29T11:49:03.407Z"
   },
   {
    "duration": 10,
    "start_time": "2025-04-29T11:50:22.892Z"
   },
   {
    "duration": 189,
    "start_time": "2025-04-29T11:51:04.240Z"
   },
   {
    "duration": 232,
    "start_time": "2025-04-29T11:51:19.369Z"
   },
   {
    "duration": 13,
    "start_time": "2025-04-29T11:54:37.792Z"
   },
   {
    "duration": 185,
    "start_time": "2025-04-29T11:55:37.742Z"
   },
   {
    "duration": 206,
    "start_time": "2025-04-29T11:55:43.365Z"
   },
   {
    "duration": 13,
    "start_time": "2025-04-29T11:56:47.835Z"
   },
   {
    "duration": 14,
    "start_time": "2025-04-29T11:56:58.984Z"
   },
   {
    "duration": 14,
    "start_time": "2025-04-29T11:57:05.785Z"
   },
   {
    "duration": 13,
    "start_time": "2025-04-29T11:57:17.256Z"
   },
   {
    "duration": 14,
    "start_time": "2025-04-29T11:57:34.398Z"
   },
   {
    "duration": 13,
    "start_time": "2025-04-29T11:57:40.203Z"
   },
   {
    "duration": 13,
    "start_time": "2025-04-29T11:57:46.050Z"
   },
   {
    "duration": 13,
    "start_time": "2025-04-29T11:57:53.559Z"
   },
   {
    "duration": 14,
    "start_time": "2025-04-29T11:58:32.432Z"
   },
   {
    "duration": 14,
    "start_time": "2025-04-29T11:58:46.587Z"
   },
   {
    "duration": 14,
    "start_time": "2025-04-29T11:59:45.449Z"
   },
   {
    "duration": 18,
    "start_time": "2025-04-29T12:01:29.278Z"
   },
   {
    "duration": 13,
    "start_time": "2025-04-29T12:03:27.704Z"
   },
   {
    "duration": 217,
    "start_time": "2025-04-29T12:05:23.852Z"
   },
   {
    "duration": 120,
    "start_time": "2025-04-29T12:12:09.423Z"
   },
   {
    "duration": 118,
    "start_time": "2025-04-29T12:12:19.524Z"
   },
   {
    "duration": 7,
    "start_time": "2025-04-29T12:12:23.392Z"
   },
   {
    "duration": 6,
    "start_time": "2025-04-29T12:12:53.181Z"
   },
   {
    "duration": 7,
    "start_time": "2025-04-29T12:12:57.136Z"
   },
   {
    "duration": 6,
    "start_time": "2025-04-29T12:13:01.800Z"
   },
   {
    "duration": 5,
    "start_time": "2025-04-29T12:13:05.182Z"
   },
   {
    "duration": 6,
    "start_time": "2025-04-29T12:13:09.083Z"
   },
   {
    "duration": 39,
    "start_time": "2025-04-29T12:20:00.308Z"
   },
   {
    "duration": 41,
    "start_time": "2025-04-29T12:20:07.586Z"
   },
   {
    "duration": 9,
    "start_time": "2025-04-29T12:22:03.926Z"
   },
   {
    "duration": 10,
    "start_time": "2025-04-29T12:23:40.020Z"
   },
   {
    "duration": 12,
    "start_time": "2025-04-29T12:23:48.865Z"
   },
   {
    "duration": 13,
    "start_time": "2025-04-29T12:23:53.842Z"
   },
   {
    "duration": 11,
    "start_time": "2025-04-29T12:24:19.154Z"
   },
   {
    "duration": 10,
    "start_time": "2025-04-29T12:24:28.364Z"
   },
   {
    "duration": 243,
    "start_time": "2025-04-29T12:24:38.151Z"
   },
   {
    "duration": 243,
    "start_time": "2025-04-29T12:25:18.804Z"
   },
   {
    "duration": 10,
    "start_time": "2025-04-29T12:25:46.452Z"
   },
   {
    "duration": 233,
    "start_time": "2025-04-29T12:25:50.042Z"
   },
   {
    "duration": 1266,
    "start_time": "2025-04-29T14:55:43.270Z"
   },
   {
    "duration": 2211,
    "start_time": "2025-04-29T14:55:44.538Z"
   },
   {
    "duration": 39,
    "start_time": "2025-04-29T14:55:46.751Z"
   },
   {
    "duration": 111,
    "start_time": "2025-04-29T14:55:46.792Z"
   },
   {
    "duration": 11,
    "start_time": "2025-04-29T14:55:46.904Z"
   },
   {
    "duration": 6,
    "start_time": "2025-04-29T14:55:46.917Z"
   },
   {
    "duration": 7,
    "start_time": "2025-04-29T14:55:46.925Z"
   },
   {
    "duration": 10,
    "start_time": "2025-04-29T14:55:46.934Z"
   },
   {
    "duration": 25,
    "start_time": "2025-04-29T14:55:46.946Z"
   },
   {
    "duration": 26,
    "start_time": "2025-04-29T14:55:46.974Z"
   },
   {
    "duration": 13,
    "start_time": "2025-04-29T14:55:47.002Z"
   },
   {
    "duration": 60,
    "start_time": "2025-04-29T14:55:47.017Z"
   },
   {
    "duration": 11,
    "start_time": "2025-04-29T14:55:47.079Z"
   },
   {
    "duration": 37,
    "start_time": "2025-04-29T14:55:47.091Z"
   },
   {
    "duration": 9,
    "start_time": "2025-04-29T14:55:47.130Z"
   },
   {
    "duration": 37,
    "start_time": "2025-04-29T14:55:47.141Z"
   },
   {
    "duration": 194,
    "start_time": "2025-04-29T14:55:47.180Z"
   },
   {
    "duration": 91,
    "start_time": "2025-04-29T14:55:47.376Z"
   },
   {
    "duration": 23,
    "start_time": "2025-04-29T14:55:47.468Z"
   },
   {
    "duration": 48,
    "start_time": "2025-04-29T14:55:47.492Z"
   },
   {
    "duration": 16,
    "start_time": "2025-04-29T14:55:47.542Z"
   },
   {
    "duration": 163,
    "start_time": "2025-04-29T14:55:47.560Z"
   },
   {
    "duration": 9,
    "start_time": "2025-04-29T14:55:47.725Z"
   },
   {
    "duration": 83,
    "start_time": "2025-04-29T14:55:47.736Z"
   },
   {
    "duration": 20,
    "start_time": "2025-04-29T14:55:47.821Z"
   },
   {
    "duration": 56,
    "start_time": "2025-04-29T14:55:47.842Z"
   },
   {
    "duration": 18,
    "start_time": "2025-04-29T14:55:47.899Z"
   },
   {
    "duration": 54,
    "start_time": "2025-04-29T14:55:47.921Z"
   },
   {
    "duration": 193,
    "start_time": "2025-04-29T14:55:47.977Z"
   },
   {
    "duration": 159,
    "start_time": "2025-04-29T14:55:48.172Z"
   },
   {
    "duration": 12,
    "start_time": "2025-04-29T14:55:48.333Z"
   },
   {
    "duration": 92,
    "start_time": "2025-04-29T14:55:48.347Z"
   },
   {
    "duration": 8,
    "start_time": "2025-04-29T14:55:48.441Z"
   },
   {
    "duration": 66,
    "start_time": "2025-04-29T14:55:48.450Z"
   },
   {
    "duration": 25,
    "start_time": "2025-04-29T14:55:48.518Z"
   },
   {
    "duration": 169,
    "start_time": "2025-04-29T14:55:48.545Z"
   },
   {
    "duration": 114,
    "start_time": "2025-04-29T14:55:48.716Z"
   },
   {
    "duration": 18,
    "start_time": "2025-04-29T14:55:48.832Z"
   },
   {
    "duration": 37,
    "start_time": "2025-04-29T14:55:48.851Z"
   },
   {
    "duration": 3,
    "start_time": "2025-04-29T14:55:48.890Z"
   },
   {
    "duration": 76,
    "start_time": "2025-04-29T14:55:48.895Z"
   },
   {
    "duration": 16,
    "start_time": "2025-04-29T14:55:48.972Z"
   },
   {
    "duration": 36,
    "start_time": "2025-04-29T14:55:48.990Z"
   },
   {
    "duration": 8,
    "start_time": "2025-04-29T14:55:49.027Z"
   },
   {
    "duration": 14,
    "start_time": "2025-04-29T14:55:49.037Z"
   },
   {
    "duration": 31,
    "start_time": "2025-04-29T14:55:49.053Z"
   },
   {
    "duration": 13,
    "start_time": "2025-04-29T14:55:49.086Z"
   },
   {
    "duration": 3,
    "start_time": "2025-04-29T14:55:49.101Z"
   },
   {
    "duration": 39,
    "start_time": "2025-04-29T14:55:49.106Z"
   },
   {
    "duration": 9,
    "start_time": "2025-04-29T14:55:49.163Z"
   },
   {
    "duration": 59,
    "start_time": "2025-04-29T14:55:49.174Z"
   },
   {
    "duration": 31,
    "start_time": "2025-04-29T14:55:49.234Z"
   },
   {
    "duration": 22,
    "start_time": "2025-04-29T14:55:49.267Z"
   },
   {
    "duration": 19,
    "start_time": "2025-04-29T14:55:49.291Z"
   },
   {
    "duration": 61,
    "start_time": "2025-04-29T14:55:49.311Z"
   },
   {
    "duration": 92,
    "start_time": "2025-04-29T14:55:49.374Z"
   },
   {
    "duration": 57,
    "start_time": "2025-04-29T14:55:49.467Z"
   },
   {
    "duration": 86,
    "start_time": "2025-04-29T14:55:49.526Z"
   },
   {
    "duration": 332,
    "start_time": "2025-04-29T14:55:49.613Z"
   },
   {
    "duration": 69,
    "start_time": "2025-04-29T14:55:49.947Z"
   },
   {
    "duration": 25,
    "start_time": "2025-04-29T14:55:50.018Z"
   },
   {
    "duration": 53,
    "start_time": "2025-04-29T14:55:50.045Z"
   },
   {
    "duration": 27,
    "start_time": "2025-04-29T14:55:50.100Z"
   },
   {
    "duration": 14,
    "start_time": "2025-04-29T14:55:50.128Z"
   },
   {
    "duration": 39,
    "start_time": "2025-04-29T14:55:50.144Z"
   },
   {
    "duration": 18,
    "start_time": "2025-04-29T14:55:50.185Z"
   },
   {
    "duration": 33,
    "start_time": "2025-04-29T14:55:50.205Z"
   },
   {
    "duration": 31,
    "start_time": "2025-04-29T14:55:50.240Z"
   },
   {
    "duration": 8,
    "start_time": "2025-04-29T14:55:50.273Z"
   },
   {
    "duration": 276,
    "start_time": "2025-04-29T14:55:50.283Z"
   },
   {
    "duration": 543,
    "start_time": "2025-04-29T14:55:50.561Z"
   },
   {
    "duration": 88,
    "start_time": "2025-04-29T14:55:51.106Z"
   },
   {
    "duration": 50,
    "start_time": "2025-04-29T14:55:51.196Z"
   },
   {
    "duration": 19,
    "start_time": "2025-04-29T14:55:51.247Z"
   },
   {
    "duration": 289,
    "start_time": "2025-04-29T14:55:51.268Z"
   },
   {
    "duration": 7,
    "start_time": "2025-04-29T14:55:51.563Z"
   },
   {
    "duration": 7,
    "start_time": "2025-04-29T14:55:51.572Z"
   },
   {
    "duration": 43,
    "start_time": "2025-04-29T14:55:51.581Z"
   },
   {
    "duration": 10,
    "start_time": "2025-04-29T14:55:51.626Z"
   },
   {
    "duration": 33,
    "start_time": "2025-04-29T14:55:51.638Z"
   },
   {
    "duration": 252,
    "start_time": "2025-04-29T14:55:51.673Z"
   },
   {
    "duration": 10,
    "start_time": "2025-04-29T14:55:51.930Z"
   },
   {
    "duration": 254,
    "start_time": "2025-04-29T14:55:51.941Z"
   },
   {
    "duration": 10,
    "start_time": "2025-04-29T14:55:52.197Z"
   },
   {
    "duration": 29,
    "start_time": "2025-04-29T14:55:52.208Z"
   },
   {
    "duration": 304,
    "start_time": "2025-04-29T14:55:52.238Z"
   },
   {
    "duration": 1881,
    "start_time": "2025-04-29T14:58:21.977Z"
   },
   {
    "duration": 1281,
    "start_time": "2025-04-29T14:58:28.731Z"
   },
   {
    "duration": 2414,
    "start_time": "2025-04-29T14:58:30.014Z"
   },
   {
    "duration": 39,
    "start_time": "2025-04-29T14:58:32.430Z"
   },
   {
    "duration": 115,
    "start_time": "2025-04-29T14:58:32.471Z"
   },
   {
    "duration": 11,
    "start_time": "2025-04-29T14:58:32.588Z"
   },
   {
    "duration": 16,
    "start_time": "2025-04-29T14:58:32.600Z"
   },
   {
    "duration": 8,
    "start_time": "2025-04-29T14:58:32.617Z"
   },
   {
    "duration": 21,
    "start_time": "2025-04-29T14:58:32.626Z"
   },
   {
    "duration": 33,
    "start_time": "2025-04-29T14:58:32.649Z"
   },
   {
    "duration": 35,
    "start_time": "2025-04-29T14:58:32.685Z"
   },
   {
    "duration": 22,
    "start_time": "2025-04-29T14:58:32.722Z"
   },
   {
    "duration": 85,
    "start_time": "2025-04-29T14:58:32.745Z"
   },
   {
    "duration": 9,
    "start_time": "2025-04-29T14:58:32.832Z"
   },
   {
    "duration": 32,
    "start_time": "2025-04-29T14:58:32.843Z"
   },
   {
    "duration": 14,
    "start_time": "2025-04-29T14:58:32.877Z"
   },
   {
    "duration": 31,
    "start_time": "2025-04-29T14:58:32.892Z"
   },
   {
    "duration": 166,
    "start_time": "2025-04-29T14:58:32.924Z"
   },
   {
    "duration": 91,
    "start_time": "2025-04-29T14:58:33.092Z"
   },
   {
    "duration": 23,
    "start_time": "2025-04-29T14:58:33.185Z"
   },
   {
    "duration": 24,
    "start_time": "2025-04-29T14:58:33.210Z"
   },
   {
    "duration": 26,
    "start_time": "2025-04-29T14:58:33.236Z"
   },
   {
    "duration": 158,
    "start_time": "2025-04-29T14:58:33.264Z"
   },
   {
    "duration": 10,
    "start_time": "2025-04-29T14:58:33.424Z"
   },
   {
    "duration": 95,
    "start_time": "2025-04-29T14:58:33.436Z"
   },
   {
    "duration": 37,
    "start_time": "2025-04-29T14:58:33.533Z"
   },
   {
    "duration": 41,
    "start_time": "2025-04-29T14:58:33.573Z"
   },
   {
    "duration": 31,
    "start_time": "2025-04-29T14:58:33.615Z"
   },
   {
    "duration": 31,
    "start_time": "2025-04-29T14:58:33.663Z"
   },
   {
    "duration": 209,
    "start_time": "2025-04-29T14:58:33.696Z"
   },
   {
    "duration": 174,
    "start_time": "2025-04-29T14:58:33.907Z"
   },
   {
    "duration": 14,
    "start_time": "2025-04-29T14:58:34.083Z"
   },
   {
    "duration": 117,
    "start_time": "2025-04-29T14:58:34.099Z"
   },
   {
    "duration": 9,
    "start_time": "2025-04-29T14:58:34.217Z"
   },
   {
    "duration": 70,
    "start_time": "2025-04-29T14:58:34.228Z"
   },
   {
    "duration": 45,
    "start_time": "2025-04-29T14:58:34.300Z"
   },
   {
    "duration": 158,
    "start_time": "2025-04-29T14:58:34.347Z"
   },
   {
    "duration": 115,
    "start_time": "2025-04-29T14:58:34.506Z"
   },
   {
    "duration": 19,
    "start_time": "2025-04-29T14:58:34.623Z"
   },
   {
    "duration": 27,
    "start_time": "2025-04-29T14:58:34.661Z"
   },
   {
    "duration": 15,
    "start_time": "2025-04-29T14:58:34.690Z"
   },
   {
    "duration": 65,
    "start_time": "2025-04-29T14:58:34.707Z"
   },
   {
    "duration": 17,
    "start_time": "2025-04-29T14:58:34.774Z"
   },
   {
    "duration": 42,
    "start_time": "2025-04-29T14:58:34.793Z"
   },
   {
    "duration": 8,
    "start_time": "2025-04-29T14:58:34.837Z"
   },
   {
    "duration": 16,
    "start_time": "2025-04-29T14:58:34.847Z"
   },
   {
    "duration": 14,
    "start_time": "2025-04-29T14:58:34.864Z"
   },
   {
    "duration": 21,
    "start_time": "2025-04-29T14:58:34.880Z"
   },
   {
    "duration": 17,
    "start_time": "2025-04-29T14:58:34.902Z"
   },
   {
    "duration": 59,
    "start_time": "2025-04-29T14:58:34.922Z"
   },
   {
    "duration": 39,
    "start_time": "2025-04-29T14:58:34.983Z"
   },
   {
    "duration": 105,
    "start_time": "2025-04-29T14:58:35.024Z"
   },
   {
    "duration": 27,
    "start_time": "2025-04-29T14:58:35.131Z"
   },
   {
    "duration": 36,
    "start_time": "2025-04-29T14:58:35.160Z"
   },
   {
    "duration": 41,
    "start_time": "2025-04-29T14:58:35.198Z"
   },
   {
    "duration": 37,
    "start_time": "2025-04-29T14:58:35.241Z"
   },
   {
    "duration": 119,
    "start_time": "2025-04-29T14:58:35.280Z"
   },
   {
    "duration": 62,
    "start_time": "2025-04-29T14:58:35.401Z"
   },
   {
    "duration": 71,
    "start_time": "2025-04-29T14:58:35.465Z"
   },
   {
    "duration": 339,
    "start_time": "2025-04-29T14:58:35.538Z"
   },
   {
    "duration": 67,
    "start_time": "2025-04-29T14:58:35.878Z"
   },
   {
    "duration": 25,
    "start_time": "2025-04-29T14:58:35.962Z"
   },
   {
    "duration": 37,
    "start_time": "2025-04-29T14:58:35.988Z"
   },
   {
    "duration": 43,
    "start_time": "2025-04-29T14:58:36.027Z"
   },
   {
    "duration": 14,
    "start_time": "2025-04-29T14:58:36.072Z"
   },
   {
    "duration": 25,
    "start_time": "2025-04-29T14:58:36.088Z"
   },
   {
    "duration": 24,
    "start_time": "2025-04-29T14:58:36.115Z"
   },
   {
    "duration": 47,
    "start_time": "2025-04-29T14:58:36.140Z"
   },
   {
    "duration": 31,
    "start_time": "2025-04-29T14:58:36.189Z"
   },
   {
    "duration": 9,
    "start_time": "2025-04-29T14:58:36.222Z"
   },
   {
    "duration": 260,
    "start_time": "2025-04-29T14:58:36.233Z"
   },
   {
    "duration": 554,
    "start_time": "2025-04-29T14:58:36.494Z"
   },
   {
    "duration": 84,
    "start_time": "2025-04-29T14:58:37.050Z"
   },
   {
    "duration": 59,
    "start_time": "2025-04-29T14:58:37.136Z"
   },
   {
    "duration": 9,
    "start_time": "2025-04-29T14:58:37.196Z"
   },
   {
    "duration": 328,
    "start_time": "2025-04-29T14:58:37.206Z"
   },
   {
    "duration": 7,
    "start_time": "2025-04-29T14:58:37.536Z"
   },
   {
    "duration": 18,
    "start_time": "2025-04-29T14:58:37.545Z"
   },
   {
    "duration": 45,
    "start_time": "2025-04-29T14:58:37.565Z"
   },
   {
    "duration": 8,
    "start_time": "2025-04-29T14:58:37.612Z"
   },
   {
    "duration": 10,
    "start_time": "2025-04-29T14:58:37.622Z"
   },
   {
    "duration": 259,
    "start_time": "2025-04-29T14:58:37.633Z"
   },
   {
    "duration": 9,
    "start_time": "2025-04-29T14:58:37.897Z"
   },
   {
    "duration": 250,
    "start_time": "2025-04-29T14:58:37.908Z"
   },
   {
    "duration": 9,
    "start_time": "2025-04-29T14:58:38.164Z"
   },
   {
    "duration": 8,
    "start_time": "2025-04-29T14:58:38.175Z"
   },
   {
    "duration": 278,
    "start_time": "2025-04-29T14:58:38.184Z"
   },
   {
    "duration": 111,
    "start_time": "2025-04-29T15:01:16.394Z"
   },
   {
    "duration": 1289,
    "start_time": "2025-04-29T15:02:09.833Z"
   },
   {
    "duration": 1741,
    "start_time": "2025-04-29T15:02:11.124Z"
   },
   {
    "duration": 38,
    "start_time": "2025-04-29T15:02:12.867Z"
   },
   {
    "duration": 116,
    "start_time": "2025-04-29T15:02:12.906Z"
   },
   {
    "duration": 11,
    "start_time": "2025-04-29T15:02:13.024Z"
   },
   {
    "duration": 143,
    "start_time": "2025-04-29T15:02:13.037Z"
   },
   {
    "duration": 1,
    "start_time": "2025-04-29T15:02:13.183Z"
   },
   {
    "duration": 0,
    "start_time": "2025-04-29T15:02:13.185Z"
   },
   {
    "duration": 0,
    "start_time": "2025-04-29T15:02:13.186Z"
   },
   {
    "duration": 0,
    "start_time": "2025-04-29T15:02:13.187Z"
   },
   {
    "duration": 0,
    "start_time": "2025-04-29T15:02:13.188Z"
   },
   {
    "duration": 0,
    "start_time": "2025-04-29T15:02:13.189Z"
   },
   {
    "duration": 0,
    "start_time": "2025-04-29T15:02:13.190Z"
   },
   {
    "duration": 0,
    "start_time": "2025-04-29T15:02:13.191Z"
   },
   {
    "duration": 0,
    "start_time": "2025-04-29T15:02:13.192Z"
   },
   {
    "duration": 1,
    "start_time": "2025-04-29T15:02:13.193Z"
   },
   {
    "duration": 0,
    "start_time": "2025-04-29T15:02:13.195Z"
   },
   {
    "duration": 0,
    "start_time": "2025-04-29T15:02:13.196Z"
   },
   {
    "duration": 0,
    "start_time": "2025-04-29T15:02:13.197Z"
   },
   {
    "duration": 0,
    "start_time": "2025-04-29T15:02:13.198Z"
   },
   {
    "duration": 0,
    "start_time": "2025-04-29T15:02:13.199Z"
   },
   {
    "duration": 0,
    "start_time": "2025-04-29T15:02:13.200Z"
   },
   {
    "duration": 0,
    "start_time": "2025-04-29T15:02:13.201Z"
   },
   {
    "duration": 0,
    "start_time": "2025-04-29T15:02:13.203Z"
   },
   {
    "duration": 0,
    "start_time": "2025-04-29T15:02:13.204Z"
   },
   {
    "duration": 0,
    "start_time": "2025-04-29T15:02:13.205Z"
   },
   {
    "duration": 0,
    "start_time": "2025-04-29T15:02:13.206Z"
   },
   {
    "duration": 0,
    "start_time": "2025-04-29T15:02:13.208Z"
   },
   {
    "duration": 0,
    "start_time": "2025-04-29T15:02:13.209Z"
   },
   {
    "duration": 0,
    "start_time": "2025-04-29T15:02:13.210Z"
   },
   {
    "duration": 0,
    "start_time": "2025-04-29T15:02:13.211Z"
   },
   {
    "duration": 0,
    "start_time": "2025-04-29T15:02:13.212Z"
   },
   {
    "duration": 0,
    "start_time": "2025-04-29T15:02:13.213Z"
   },
   {
    "duration": 0,
    "start_time": "2025-04-29T15:02:13.215Z"
   },
   {
    "duration": 0,
    "start_time": "2025-04-29T15:02:13.263Z"
   },
   {
    "duration": 0,
    "start_time": "2025-04-29T15:02:13.264Z"
   },
   {
    "duration": 0,
    "start_time": "2025-04-29T15:02:13.265Z"
   },
   {
    "duration": 0,
    "start_time": "2025-04-29T15:02:13.266Z"
   },
   {
    "duration": 0,
    "start_time": "2025-04-29T15:02:13.268Z"
   },
   {
    "duration": 0,
    "start_time": "2025-04-29T15:02:13.269Z"
   },
   {
    "duration": 0,
    "start_time": "2025-04-29T15:02:13.270Z"
   },
   {
    "duration": 0,
    "start_time": "2025-04-29T15:02:13.271Z"
   },
   {
    "duration": 0,
    "start_time": "2025-04-29T15:02:13.272Z"
   },
   {
    "duration": 0,
    "start_time": "2025-04-29T15:02:13.273Z"
   },
   {
    "duration": 0,
    "start_time": "2025-04-29T15:02:13.274Z"
   },
   {
    "duration": 0,
    "start_time": "2025-04-29T15:02:13.275Z"
   },
   {
    "duration": 0,
    "start_time": "2025-04-29T15:02:13.277Z"
   },
   {
    "duration": 0,
    "start_time": "2025-04-29T15:02:13.278Z"
   },
   {
    "duration": 0,
    "start_time": "2025-04-29T15:02:13.279Z"
   },
   {
    "duration": 0,
    "start_time": "2025-04-29T15:02:13.280Z"
   },
   {
    "duration": 0,
    "start_time": "2025-04-29T15:02:13.282Z"
   },
   {
    "duration": 0,
    "start_time": "2025-04-29T15:02:13.282Z"
   },
   {
    "duration": 0,
    "start_time": "2025-04-29T15:02:13.283Z"
   },
   {
    "duration": 0,
    "start_time": "2025-04-29T15:02:13.284Z"
   },
   {
    "duration": 0,
    "start_time": "2025-04-29T15:02:13.286Z"
   },
   {
    "duration": 0,
    "start_time": "2025-04-29T15:02:13.287Z"
   },
   {
    "duration": 0,
    "start_time": "2025-04-29T15:02:13.288Z"
   },
   {
    "duration": 0,
    "start_time": "2025-04-29T15:02:13.288Z"
   },
   {
    "duration": 0,
    "start_time": "2025-04-29T15:02:13.290Z"
   },
   {
    "duration": 0,
    "start_time": "2025-04-29T15:02:13.291Z"
   },
   {
    "duration": 0,
    "start_time": "2025-04-29T15:02:13.292Z"
   },
   {
    "duration": 0,
    "start_time": "2025-04-29T15:02:13.293Z"
   },
   {
    "duration": 0,
    "start_time": "2025-04-29T15:02:13.294Z"
   },
   {
    "duration": 0,
    "start_time": "2025-04-29T15:02:13.295Z"
   },
   {
    "duration": 0,
    "start_time": "2025-04-29T15:02:13.296Z"
   },
   {
    "duration": 0,
    "start_time": "2025-04-29T15:02:13.297Z"
   },
   {
    "duration": 1,
    "start_time": "2025-04-29T15:02:13.362Z"
   },
   {
    "duration": 0,
    "start_time": "2025-04-29T15:02:13.364Z"
   },
   {
    "duration": 0,
    "start_time": "2025-04-29T15:02:13.365Z"
   },
   {
    "duration": 0,
    "start_time": "2025-04-29T15:02:13.366Z"
   },
   {
    "duration": 0,
    "start_time": "2025-04-29T15:02:13.367Z"
   },
   {
    "duration": 0,
    "start_time": "2025-04-29T15:02:13.368Z"
   },
   {
    "duration": 0,
    "start_time": "2025-04-29T15:02:13.369Z"
   },
   {
    "duration": 0,
    "start_time": "2025-04-29T15:02:13.370Z"
   },
   {
    "duration": 0,
    "start_time": "2025-04-29T15:02:13.371Z"
   },
   {
    "duration": 0,
    "start_time": "2025-04-29T15:02:13.373Z"
   },
   {
    "duration": 0,
    "start_time": "2025-04-29T15:02:13.375Z"
   },
   {
    "duration": 0,
    "start_time": "2025-04-29T15:02:13.376Z"
   },
   {
    "duration": 0,
    "start_time": "2025-04-29T15:02:13.377Z"
   },
   {
    "duration": 0,
    "start_time": "2025-04-29T15:02:13.379Z"
   },
   {
    "duration": 0,
    "start_time": "2025-04-29T15:02:13.380Z"
   },
   {
    "duration": 0,
    "start_time": "2025-04-29T15:02:13.381Z"
   },
   {
    "duration": 0,
    "start_time": "2025-04-29T15:02:13.382Z"
   },
   {
    "duration": 0,
    "start_time": "2025-04-29T15:02:13.383Z"
   },
   {
    "duration": 0,
    "start_time": "2025-04-29T15:02:13.384Z"
   },
   {
    "duration": 0,
    "start_time": "2025-04-29T15:02:13.385Z"
   },
   {
    "duration": 0,
    "start_time": "2025-04-29T15:02:13.386Z"
   },
   {
    "duration": 10,
    "start_time": "2025-04-29T15:03:01.572Z"
   },
   {
    "duration": 51,
    "start_time": "2025-04-29T15:03:09.413Z"
   },
   {
    "duration": 1247,
    "start_time": "2025-04-29T15:05:50.480Z"
   },
   {
    "duration": 1857,
    "start_time": "2025-04-29T15:05:51.728Z"
   },
   {
    "duration": 41,
    "start_time": "2025-04-29T15:05:53.587Z"
   },
   {
    "duration": 127,
    "start_time": "2025-04-29T15:05:53.630Z"
   },
   {
    "duration": 12,
    "start_time": "2025-04-29T15:05:53.761Z"
   },
   {
    "duration": 4,
    "start_time": "2025-04-29T15:05:53.774Z"
   },
   {
    "duration": 11,
    "start_time": "2025-04-29T15:05:53.779Z"
   },
   {
    "duration": 6,
    "start_time": "2025-04-29T15:05:53.791Z"
   },
   {
    "duration": 16,
    "start_time": "2025-04-29T15:05:53.798Z"
   },
   {
    "duration": 11,
    "start_time": "2025-04-29T15:05:53.817Z"
   },
   {
    "duration": 11,
    "start_time": "2025-04-29T15:05:53.830Z"
   },
   {
    "duration": 47,
    "start_time": "2025-04-29T15:05:53.843Z"
   },
   {
    "duration": 9,
    "start_time": "2025-04-29T15:05:53.891Z"
   },
   {
    "duration": 29,
    "start_time": "2025-04-29T15:05:53.902Z"
   },
   {
    "duration": 9,
    "start_time": "2025-04-29T15:05:53.932Z"
   },
   {
    "duration": 26,
    "start_time": "2025-04-29T15:05:53.943Z"
   },
   {
    "duration": 220,
    "start_time": "2025-04-29T15:05:53.971Z"
   },
   {
    "duration": 134,
    "start_time": "2025-04-29T15:05:54.192Z"
   },
   {
    "duration": 48,
    "start_time": "2025-04-29T15:05:54.328Z"
   },
   {
    "duration": 11,
    "start_time": "2025-04-29T15:05:54.378Z"
   },
   {
    "duration": 16,
    "start_time": "2025-04-29T15:05:54.391Z"
   },
   {
    "duration": 285,
    "start_time": "2025-04-29T15:05:54.409Z"
   },
   {
    "duration": 9,
    "start_time": "2025-04-29T15:05:54.696Z"
   },
   {
    "duration": 87,
    "start_time": "2025-04-29T15:05:54.706Z"
   },
   {
    "duration": 21,
    "start_time": "2025-04-29T15:05:54.794Z"
   },
   {
    "duration": 60,
    "start_time": "2025-04-29T15:05:54.816Z"
   },
   {
    "duration": 22,
    "start_time": "2025-04-29T15:05:54.878Z"
   },
   {
    "duration": 30,
    "start_time": "2025-04-29T15:05:54.905Z"
   },
   {
    "duration": 217,
    "start_time": "2025-04-29T15:05:54.937Z"
   },
   {
    "duration": 164,
    "start_time": "2025-04-29T15:05:55.156Z"
   },
   {
    "duration": 14,
    "start_time": "2025-04-29T15:05:55.322Z"
   },
   {
    "duration": 102,
    "start_time": "2025-04-29T15:05:55.338Z"
   },
   {
    "duration": 9,
    "start_time": "2025-04-29T15:05:55.442Z"
   },
   {
    "duration": 59,
    "start_time": "2025-04-29T15:05:55.463Z"
   },
   {
    "duration": 35,
    "start_time": "2025-04-29T15:05:55.524Z"
   },
   {
    "duration": 157,
    "start_time": "2025-04-29T15:05:55.561Z"
   },
   {
    "duration": 111,
    "start_time": "2025-04-29T15:05:55.720Z"
   },
   {
    "duration": 29,
    "start_time": "2025-04-29T15:05:55.833Z"
   },
   {
    "duration": 27,
    "start_time": "2025-04-29T15:05:55.864Z"
   },
   {
    "duration": 3,
    "start_time": "2025-04-29T15:05:55.893Z"
   },
   {
    "duration": 78,
    "start_time": "2025-04-29T15:05:55.898Z"
   },
   {
    "duration": 16,
    "start_time": "2025-04-29T15:05:55.978Z"
   },
   {
    "duration": 23,
    "start_time": "2025-04-29T15:05:55.996Z"
   },
   {
    "duration": 8,
    "start_time": "2025-04-29T15:05:56.021Z"
   },
   {
    "duration": 13,
    "start_time": "2025-04-29T15:05:56.031Z"
   },
   {
    "duration": 14,
    "start_time": "2025-04-29T15:05:56.063Z"
   },
   {
    "duration": 12,
    "start_time": "2025-04-29T15:05:56.078Z"
   },
   {
    "duration": 14,
    "start_time": "2025-04-29T15:05:56.091Z"
   },
   {
    "duration": 33,
    "start_time": "2025-04-29T15:05:56.107Z"
   },
   {
    "duration": 10,
    "start_time": "2025-04-29T15:05:56.162Z"
   },
   {
    "duration": 46,
    "start_time": "2025-04-29T15:05:56.175Z"
   },
   {
    "duration": 49,
    "start_time": "2025-04-29T15:05:56.223Z"
   },
   {
    "duration": 25,
    "start_time": "2025-04-29T15:05:56.274Z"
   },
   {
    "duration": 30,
    "start_time": "2025-04-29T15:05:56.301Z"
   },
   {
    "duration": 45,
    "start_time": "2025-04-29T15:05:56.333Z"
   },
   {
    "duration": 95,
    "start_time": "2025-04-29T15:05:56.380Z"
   },
   {
    "duration": 57,
    "start_time": "2025-04-29T15:05:56.477Z"
   },
   {
    "duration": 85,
    "start_time": "2025-04-29T15:05:56.536Z"
   },
   {
    "duration": 330,
    "start_time": "2025-04-29T15:05:56.623Z"
   },
   {
    "duration": 68,
    "start_time": "2025-04-29T15:05:56.956Z"
   },
   {
    "duration": 40,
    "start_time": "2025-04-29T15:05:57.027Z"
   },
   {
    "duration": 66,
    "start_time": "2025-04-29T15:05:57.069Z"
   },
   {
    "duration": 28,
    "start_time": "2025-04-29T15:05:57.137Z"
   },
   {
    "duration": 15,
    "start_time": "2025-04-29T15:05:57.167Z"
   },
   {
    "duration": 24,
    "start_time": "2025-04-29T15:05:57.184Z"
   },
   {
    "duration": 18,
    "start_time": "2025-04-29T15:05:57.210Z"
   },
   {
    "duration": 57,
    "start_time": "2025-04-29T15:05:57.229Z"
   },
   {
    "duration": 13,
    "start_time": "2025-04-29T15:05:57.289Z"
   },
   {
    "duration": 17,
    "start_time": "2025-04-29T15:05:57.305Z"
   },
   {
    "duration": 274,
    "start_time": "2025-04-29T15:05:57.324Z"
   },
   {
    "duration": 544,
    "start_time": "2025-04-29T15:05:57.600Z"
   },
   {
    "duration": 83,
    "start_time": "2025-04-29T15:05:58.145Z"
   },
   {
    "duration": 58,
    "start_time": "2025-04-29T15:05:58.229Z"
   },
   {
    "duration": 9,
    "start_time": "2025-04-29T15:05:58.288Z"
   },
   {
    "duration": 294,
    "start_time": "2025-04-29T15:05:58.298Z"
   },
   {
    "duration": 7,
    "start_time": "2025-04-29T15:05:58.594Z"
   },
   {
    "duration": 5,
    "start_time": "2025-04-29T15:05:58.603Z"
   },
   {
    "duration": 55,
    "start_time": "2025-04-29T15:05:58.610Z"
   },
   {
    "duration": 9,
    "start_time": "2025-04-29T15:05:58.667Z"
   },
   {
    "duration": 10,
    "start_time": "2025-04-29T15:05:58.678Z"
   },
   {
    "duration": 262,
    "start_time": "2025-04-29T15:05:58.690Z"
   },
   {
    "duration": 9,
    "start_time": "2025-04-29T15:05:58.962Z"
   },
   {
    "duration": 252,
    "start_time": "2025-04-29T15:05:58.973Z"
   },
   {
    "duration": 9,
    "start_time": "2025-04-29T15:05:59.227Z"
   },
   {
    "duration": 26,
    "start_time": "2025-04-29T15:05:59.238Z"
   },
   {
    "duration": 304,
    "start_time": "2025-04-29T15:05:59.266Z"
   }
  ],
  "colab": {
   "provenance": []
  },
  "kernelspec": {
   "display_name": "Python 3 (ipykernel)",
   "language": "python",
   "name": "python3"
  },
  "language_info": {
   "codemirror_mode": {
    "name": "ipython",
    "version": 3
   },
   "file_extension": ".py",
   "mimetype": "text/x-python",
   "name": "python",
   "nbconvert_exporter": "python",
   "pygments_lexer": "ipython3",
   "version": "3.9.5"
  },
  "toc": {
   "base_numbering": 1,
   "nav_menu": {},
   "number_sections": false,
   "sideBar": true,
   "skip_h1_title": true,
   "title_cell": "Table of Contents",
   "title_sidebar": "Contents",
   "toc_cell": false,
   "toc_position": {
    "height": "calc(100% - 180px)",
    "left": "10px",
    "top": "150px",
    "width": "260.375px"
   },
   "toc_section_display": true,
   "toc_window_display": true
  }
 },
 "nbformat": 4,
 "nbformat_minor": 1
}
